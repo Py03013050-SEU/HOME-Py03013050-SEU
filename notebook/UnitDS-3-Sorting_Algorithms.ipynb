{
 "cells": [
  {
   "cell_type": "markdown",
   "metadata": {},
   "source": [
    "#  Sorting Algorithms\n",
    "\n"
   ]
  },
  {
   "cell_type": "markdown",
   "metadata": {},
   "source": [
    "Present sorting algorithms here primarily to provide some practice in **thinking about algorithm design and complexity analysis**\n",
    "\n",
    "We begin with a simple but **inefficient** algorithm, **selection sort**"
   ]
  },
  {
   "cell_type": "markdown",
   "metadata": {},
   "source": [
    "## 1 Selection sort \n",
    "\n",
    "### 1.1 Selection sort in Python\n",
    "**Selection sort** works by maintaining the **loop invariant** that, given a partitioning of the list into \n",
    "\n",
    "* <b>a prefix (L[0:i])</b> \n",
    "\n",
    "* <b>a suffix (L[i+1:len(L)])</b>,\n",
    "\n",
    "the prefix is sorted and no element in the prefix is larger than <b>the smallest element</b> in the suffix.\n",
    "\n",
    "We use induction to reason about **loop invariants**.\n",
    "\n",
    "* **Base case**: At the **start** of the first iteration, the **prefix** is **empty**, i.e., \n",
    "\n",
    "  * the **suffix** is the **entire list**. The invariant is  true.\n",
    "\n",
    "\n",
    "* **Induction step**: At each step of the algorithm, we move `one` element **from the suffix to the prefix.** \n",
    "\n",
    "\n",
    ">   * We do this by appending a **minimum** element of the suffix to the end of the prefix. Because the invariant held before we moved the element,\n",
    "\n",
    "\n",
    ">   * we know that after we append the element the prefix is **still sorted**. \n",
    "\n",
    "\n",
    ">   * We also know that since we removed the smallest element in the suffix, **no element in the prefix is larger than the smallest element in the suffix**.\n",
    "\n",
    "\n",
    "* When **the loop is exited**, the **prefix** includes the **entire list**, and the **suffix**\n",
    "is **empty**.\n",
    "\n",
    "\n",
    "Therefore, the entire list is now sorted in **ascending** order.\n",
    "\n",
    "Example:\n",
    "```c\n",
    "int a[7] = {7, 4, 5, 9, 8, 2, 1};\n",
    "```\n"
   ]
  },
  {
   "cell_type": "markdown",
   "metadata": {},
   "source": [
    "![selsort](./img/ds/selsort.jpg)"
   ]
  },
  {
   "cell_type": "code",
   "execution_count": 3,
   "metadata": {},
   "outputs": [],
   "source": [
    "def selSort(L):\n",
    "    \"\"\"Assumes that L is a list of elements that can be\n",
    "         compared using >.\n",
    "       Sorts L in ascending order\"\"\"\n",
    "    suffixStart = 0\n",
    "    while suffixStart != len(L):\n",
    "        #look at each element in suffix\n",
    "        for i in range(suffixStart, len(L)):\n",
    "            if L[i] < L[suffixStart]:\n",
    "                #swap position of elements\n",
    "                L[suffixStart], L[i] = L[i], L[suffixStart]\n",
    "        suffixStart += 1"
   ]
  },
  {
   "cell_type": "code",
   "execution_count": 4,
   "metadata": {},
   "outputs": [
    {
     "name": "stdout",
     "output_type": "stream",
     "text": [
      "[1, 2, 4, 5, 7, 8, 9]\n"
     ]
    }
   ],
   "source": [
    "L=[7, 4, 5, 9, 8, 2, 1]\n",
    "selSort(L)\n",
    "print(L)"
   ]
  },
  {
   "cell_type": "markdown",
   "metadata": {},
   "source": [
    "Unfortunately, it is rather inefficient\n",
    "```python\n",
    "while suffixStart != len(L):\n",
    "\n",
    "   for i in range(suffixStart, len(L)):\n",
    "  \n",
    "   suffixStart += 1\n",
    "```\n",
    "For a list of size $n$, the outer loop executes $n-1$ times.\n",
    "\n",
    "On the first pass through the outer loop, the inner loop executes $n-1$ times. \n",
    "On the second pass through the outer loop, the inner loop executes $n-2$ times.\n",
    "\n",
    "On the last pass through the outer loop, the inner loop executes `once`. \n",
    "\n",
    "Thus, the total number of comparisons for a list of size $n$ is the following:\n",
    "\n",
    "$(n-1)+(n-2)+...+1=n(n-1)=\\frac{1}{2}n^2-\\frac{1}{2}n$\n",
    "\n",
    "The complexity of the entire function is $O(n^2)$. I.e., it is **quadratic** in the length n of L.\n",
    "\n",
    "* The average-case and worst-case time complexity is $O(n^2)$."
   ]
  },
  {
   "cell_type": "markdown",
   "metadata": {},
   "source": [
    "### 1.2  SelectionSort in C"
   ]
  },
  {
   "cell_type": "code",
   "execution_count": 175,
   "metadata": {},
   "outputs": [
    {
     "name": "stdout",
     "output_type": "stream",
     "text": [
      "Overwriting ./demo/src/SelectionSort.c\n"
     ]
    }
   ],
   "source": [
    "%%file ./demo/src/SelectionSort.c\n",
    "\n",
    "/*\n",
    " Sorting an array using Selection Sort (SelectionSort.c) \n",
    "*/\n",
    "\n",
    "#include <stdio.h>\n",
    "#include <stdlib.h>\n",
    "\n",
    "void selectionSort(int a[], int size);\n",
    "void print(const int a[], int iMin, int iMax);\n",
    "\n",
    "// Sort the given array of size using selection sort\n",
    "void selectionSort(int a[], int size)\n",
    "{\n",
    "   int temp; // for swaping\n",
    "   for (int i = 0; i < size - 1; ++i)\n",
    "   {\n",
    "      // for tracing\n",
    "      print(a, 0, i - 1);\n",
    "      print(a, i, size - 1);\n",
    "\n",
    "      // [0, i-1] already sort\n",
    "      // Search for the smallest element in [i, size-1]\n",
    "      //  and swap with a[i]\n",
    "      int minIndex = i; // assume fist element is the smallest\n",
    "      for (int j = i + 1; j < size; ++j)\n",
    "      {\n",
    "         if (a[j] < a[minIndex])\n",
    "            minIndex = j;\n",
    "      }\n",
    "      if (minIndex != i)\n",
    "      { // swap\n",
    "         temp = a[i];\n",
    "         a[i] = a[minIndex];\n",
    "         a[minIndex] = temp;\n",
    "      }\n",
    "\n",
    "      // for tracing\n",
    "      printf(\"=> \");\n",
    "      print(a, 0, i - 1);\n",
    "      print(a, i, size - 1);\n",
    "      printf(\"\\n\");\n",
    "   }\n",
    "}\n",
    "\n",
    "// Print the contents of the array in [iMin, iMax]\n",
    "void print(const int a[], int iMin, int iMax)\n",
    "{\n",
    "   printf(\"{\");\n",
    "   for (int i = iMin; i <= iMax; ++i)\n",
    "   {\n",
    "      printf(\"%d\", a[i]);\n",
    "      if (i < iMax)\n",
    "         printf(\",\");\n",
    "   }\n",
    "   printf(\"}\");\n",
    "}\n",
    "\n",
    "int main()\n",
    "{\n",
    "   const int SIZE = 7;\n",
    "   int a[7] = {7, 4, 5, 9, 8, 2, 1};\n",
    "   print(a, 0, SIZE - 1);\n",
    "   printf(\"\\n\");\n",
    "   selectionSort(a, SIZE);\n",
    "   print(a, 0, SIZE - 1);\n",
    "   printf(\"\\n\");\n",
    "\n",
    "   return 0;\n",
    "}\n"
   ]
  },
  {
   "cell_type": "code",
   "execution_count": 176,
   "metadata": {},
   "outputs": [],
   "source": [
    "!gcc -o ./demo/bin/SelectionSort ./demo/src/SelectionSort.c"
   ]
  },
  {
   "cell_type": "code",
   "execution_count": 177,
   "metadata": {},
   "outputs": [
    {
     "name": "stdout",
     "output_type": "stream",
     "text": [
      "{7,4,5,9,8,2,1}\n",
      "{}{7,4,5,9,8,2,1}=> {}{1,4,5,9,8,2,7}\n",
      "{1}{4,5,9,8,2,7}=> {1}{2,5,9,8,4,7}\n",
      "{1,2}{5,9,8,4,7}=> {1,2}{4,9,8,5,7}\n",
      "{1,2,4}{9,8,5,7}=> {1,2,4}{5,8,9,7}\n",
      "{1,2,4,5}{8,9,7}=> {1,2,4,5}{7,9,8}\n",
      "{1,2,4,5,7}{9,8}=> {1,2,4,5,7}{8,9}\n",
      "{1,2,4,5,7,8,9}\n"
     ]
    }
   ],
   "source": [
    "!.\\demo\\bin\\SelectionSort"
   ]
  },
  {
   "cell_type": "markdown",
   "metadata": {},
   "source": [
    "## 2 Merge Sort\n",
    "we can do a lot better than quadratic time using a **divide-and-conquer(分治）** algorithm.\n",
    "\n",
    "The basic idea is to combine solutions of simpler instances of the original problem. \n",
    "\n",
    "\n",
    "**In general, a divide-and-conquer algorithm is characterized by**\n",
    "\n",
    "* 1 A **threshold input size**, below which the problem is **not subdivided**\n",
    "\n",
    "* 2 The size and number of **sub-instances** into which an instance is **split**,\n",
    "\n",
    "* 3 The algorithm used to **combine** sub-solutions.\n",
    "\n",
    "The threshold is sometimes called the **recursive base**. For `item 2` it is usual to consider the ratio of `initial` problem size to `sub-instance` size. In most of the examples we’ve seen so far, the ratio was 2.\n",
    "\n",
    "Merge sort is a prototypical <b>divide-and-conquer algorithm(分治法)</b>. It was invented in 1945, by John von Neumann, and is still widely used.\n",
    "\n",
    "Like many divide-and-conquer algorithms it is most easily described recursively:\n",
    "\n",
    "* If the list is of **length 0 or 1**, it is **already** sorted. \n",
    "* If the list has `more than` one element, **split** the list into `two` lists, and use **merge sort** to sort each of them.\n",
    "* **Merge** the results.\n",
    "\n",
    ">**A merge sort** works as follows:\n",
    ">\n",
    ">* `Divide` the unsorted list into `n` sublists, each containing `1` element (a list of 1 element is considered sorted).\n",
    ">\n",
    ">* Repeatedly `merge` sublists to produce new sorted sublists until there is only 1 sublist remaining.\n",
    "\n",
    "\n",
    "\n",
    "The key observation made by von Neumann is that **two sorted lists** can be efficiently **merged** into a single sorted list.\n",
    "\n",
    "<font color='blue'>**The merge idea**</font> is: \n",
    "\n",
    "look at the **first** element of each list, and move the **smaller of the two** to the **end** of the **result** list.\n",
    "\n",
    "When one of the lists is empty, all that remains is to copy the remaining items from the other list.\n",
    "\n",
    "\n",
    "This will be the sorted list.\n",
    "\n",
    "Consider, for example, merging the two lists\n",
    "```\n",
    " [1,5,12,18,19,20]\n",
    " [2,3,4,17]\n",
    "```\n",
    "![mergesortedlist](./img/ds/mergesortedlist.png)\n",
    "\n",
    "**The merge sort**\n",
    "\n",
    "![merge_sort](./img/ds/merge_sort.jpg)"
   ]
  },
  {
   "cell_type": "markdown",
   "metadata": {},
   "source": [
    "**The complexity of the merge process**\n",
    "\n",
    "It involves two constant-time operations： \n",
    "\n",
    "* 1 comparing the values of elements \n",
    "\n",
    "* 2 copying elements from one list to another. \n",
    "\n",
    "The number of comparisons is **O(len(L))**, where L is the **longer** of the two lists. \n",
    "\n",
    "The number of copy operations is **O(len(L1) + len(L2))**, because each element gets copied exactly once. \n",
    "\n",
    "Therefore, `merging` two sorted lists is **linear** in **the length of the lists**:$O(len(L))$\n",
    "\n"
   ]
  },
  {
   "cell_type": "markdown",
   "metadata": {},
   "source": [
    "**Let’s analyze the complexity of mergeSort.** \n",
    "\n",
    "We already know that the time complexity of `merge` is $O(len(L))$. At each level of recursion the total number of elements to be merged is $len(L)$. \n",
    "\n",
    "Therefore, the time complexity of mergeSort is $O(len(L))$ `multiplied` by the number of levels of `recursion`. \n",
    "\n",
    "Since mergeSort divides the list <b>in half</b> each time, we know that the number of levels of recursion is $O(log(len(L))$. \n",
    "  \n",
    "Therefore, the time complexity of mergeSort is $O(n*log(n))$, where n is len(L).\n",
    "                                                                                           This improvement in time complexity comes with a price. \n",
    "\n",
    "**Space complexity**\n",
    "\n",
    "<b>Selection sort</b> is an example of an <b>in-place</b> sorting algorithm.\n",
    "* Because it works by swapping the place of elements **within** the list, it uses only <b>a constant amount of extra storage</b> (`one` element in our implementation). \n",
    "\n",
    "<b>Merge sort</b> algorithm  involves making <b>copies of the list</b>. This means that its space complexity is $O(len(L))$.                                                                                   \n",
    "\n"
   ]
  },
  {
   "cell_type": "markdown",
   "metadata": {},
   "source": [
    "### 2.1 Merge Sort in Python"
   ]
  },
  {
   "cell_type": "code",
   "execution_count": 178,
   "metadata": {},
   "outputs": [],
   "source": [
    "def merge(left, right, compare):\n",
    "    \"\"\"Assumes left and right are sorted lists and\n",
    "         compare defines an ordering on the elements.\n",
    "       Returns a new sorted (by compare) list containing the\n",
    "         same elements as (left + right) would contain.\"\"\"\n",
    "    \n",
    "    result = []\n",
    "    i,j = 0, 0\n",
    "    while i < len(left) and j < len(right):\n",
    "        if compare(left[i], right[j]):\n",
    "            result.append(left[i])\n",
    "            i += 1\n",
    "        else:\n",
    "            result.append(right[j])\n",
    "            j += 1\n",
    "    while (i < len(left)):\n",
    "        result.append(left[i])\n",
    "        i += 1\n",
    "    while (j < len(right)):\n",
    "        result.append(right[j])\n",
    "        j += 1\n",
    "    return result\n",
    "\n",
    "def merge_sort(L, compare = lambda x,y:x<y):\n",
    "    \"\"\"Assumes L is a list, compare defines an ordering\n",
    "         on elements of L\n",
    "       Returns a new sorted list containing the same elements as L\"\"\"\n",
    "    if len(L) < 2:\n",
    "        return L[:]\n",
    "    else:\n",
    "        middle = len(L)//2\n",
    "        left = merge_sort(L[:middle], compare)\n",
    "        right = merge_sort(L[middle:], compare)\n",
    "        return merge(left, right, compare)"
   ]
  },
  {
   "cell_type": "markdown",
   "metadata": {},
   "source": [
    "Notice that we have made the `comparison` operator a parameter of the `merge_sort` function and written a `lambda` expression to supply a default value."
   ]
  },
  {
   "cell_type": "code",
   "execution_count": 179,
   "metadata": {},
   "outputs": [
    {
     "name": "stdout",
     "output_type": "stream",
     "text": [
      "[1, 2, 3, 4, 5, 12, 17, 18, 19, 20]\n",
      "[20, 19, 18, 17, 12, 5, 4, 3, 2, 1]\n"
     ]
    }
   ],
   "source": [
    "L=[1,5,12,18,19,20,2,3,4,17]\n",
    "L1=merge_sort(L)\n",
    "print(L1)\n",
    "L2=merge_sort(L,lambda x,y:x>y)\n",
    "print(L2)"
   ]
  },
  {
   "cell_type": "markdown",
   "metadata": {},
   "source": [
    "### 2.2 MergeSort in C"
   ]
  },
  {
   "cell_type": "code",
   "execution_count": 180,
   "metadata": {},
   "outputs": [
    {
     "name": "stdout",
     "output_type": "stream",
     "text": [
      "Overwriting ./demo/src/MergeSort.c\n"
     ]
    }
   ],
   "source": [
    "%%file ./demo/src/MergeSort.c\n",
    "\n",
    "/* Sorting an array using Merge Sort (MergeSort.c) */\n",
    "#include <stdio.h>\n",
    "#include <stdlib.h>\n",
    " \n",
    "void mSort(int a[], int size);\n",
    "void mergeSort(int a[], int iLeft, int iRight, int work[]);\n",
    "void merge(int a[], int iLeftHalfLeft, int iLeftHalfRight,\n",
    "           int iRightHalfLeft, int iRightHalfRight, int work[]);\n",
    "void print(const int a[], int iLeft, int iRight);\n",
    "\n",
    " \n",
    "// Sort the given array of size\n",
    "void mSort(int a[], int size) {\n",
    "   int work[size];  // work space\n",
    "   mergeSort(a, 0, size - 1, work);\n",
    "}\n",
    " \n",
    "// Sort the given array in [iLeft, iRight]\n",
    "void mergeSort(int a[], int iLeft, int iRight, int work[]) {\n",
    "   if ((iRight - iLeft) >= 1) {   // more than 1 elements, divide and sort\n",
    "      // Divide into left and right half\n",
    "      int iLeftHalfLeft = iLeft;\n",
    "      int iLeftHalfRight = (iRight + iLeft) / 2;   // truncate\n",
    "      int iRightHalfLeft = iLeftHalfRight + 1;\n",
    "      int iRightHalfRight = iRight;\n",
    " \n",
    "      // Recursively sort each half\n",
    "      mergeSort(a, iLeftHalfLeft, iLeftHalfRight, work);\n",
    "      mergeSort(a, iRightHalfLeft, iRightHalfRight, work);\n",
    " \n",
    "      // Merge two halves\n",
    "      merge(a, iLeftHalfLeft, iLeftHalfRight, iRightHalfLeft, iRightHalfRight, work);\n",
    "   }\n",
    "}\n",
    " \n",
    "// Merge two halves in [iLeftHalfLeft, iLeftHalfRight] and [iRightHalfLeft, iRightHalfRight]\n",
    "// Assume that iLeftHalfRight + 1 = iRightHalfLeft\n",
    "void merge(int a[], int iLeftHalfLeft, int iLeftHalfRight,\n",
    "           int iRightHalfLeft, int iRightHalfRight, int work[]) {\n",
    "   int size = iRightHalfRight - iLeftHalfLeft + 1;\n",
    "   int iResult = 0;\n",
    "   int iLeft = iLeftHalfLeft;\n",
    "   int iRight = iRightHalfLeft;\n",
    "   while (iLeft <= iLeftHalfRight && iRight <= iRightHalfRight) {\n",
    "      if (a[iLeft] <= a[iRight]) {\n",
    "         work[iResult++] = a[iLeft++];\n",
    "      } else {\n",
    "         work[iResult++] = a[iRight++];\n",
    "      }\n",
    "   }\n",
    "   // Copy the remaining left or right into work\n",
    "   while (iLeft <= iLeftHalfRight) work[iResult++] = a[iLeft++];\n",
    "   while (iRight <= iRightHalfRight) work[iResult++] = a[iRight++];\n",
    " \n",
    "   // for tracing\n",
    "   print(a, iLeftHalfLeft, iLeftHalfRight);\n",
    "   print(a, iRightHalfLeft, iRightHalfRight);\n",
    "   printf(\"=> \");\n",
    "   print(work, 0, size - 1);\n",
    "   printf(\"\\n\");\n",
    " \n",
    "   // Copy the work back to the original array\n",
    "   for (iResult = 0, iLeft = iLeftHalfLeft; iResult < size; ++iResult, ++iLeft) {\n",
    "      a[iLeft] = work[iResult];\n",
    "   }\n",
    "}\n",
    " \n",
    "// Print the contents of the given array from iLeft to iRight (inclusive)\n",
    "void print(const int a[], int iLeft, int iRight) {\n",
    "   printf(\"{\");\n",
    "   for (int i = iLeft; i <= iRight; ++i) {\n",
    "      printf(\"%d\", a[i]);\n",
    "      if (i < iRight) printf(\",\");\n",
    "   }\n",
    "   printf(\"} \");\n",
    "}\n",
    "\n",
    " \n",
    "int main() {\n",
    "   // Test 1\n",
    "   const int SIZE_1 = 8;\n",
    "   int a1[8] = {8, 4, 5, 3, 2, 9, 4, 1};\n",
    " \n",
    "   print(a1, 0, SIZE_1 - 1);\n",
    "   printf(\"\\n\");\n",
    "   mSort(a1, SIZE_1);\n",
    "   print(a1, 0, SIZE_1 - 1);\n",
    "   printf(\"\\n \\n\");\n",
    " \n",
    "   // Test 2\n",
    "   const int SIZE_2 = 13;\n",
    "   int a2[13] = {8, 4, 5, 3, 2, 9, 4, 1, 9, 1, 2, 4, 5};\n",
    " \n",
    "   print(a2, 0, SIZE_2 - 1);\n",
    "   printf(\"\\n\");\n",
    "   mSort(a2, SIZE_2);\n",
    "   print(a2, 0, SIZE_2 - 1);\n",
    "   printf(\"\\n \\n\");\n",
    "    \n",
    "   return 0;\n",
    "}"
   ]
  },
  {
   "cell_type": "code",
   "execution_count": 181,
   "metadata": {},
   "outputs": [],
   "source": [
    "!gcc -o ./demo/bin/MergeSort ./demo/src/MergeSort.c"
   ]
  },
  {
   "cell_type": "code",
   "execution_count": 182,
   "metadata": {},
   "outputs": [
    {
     "name": "stdout",
     "output_type": "stream",
     "text": [
      "{8,4,5,3,2,9,4,1} \n",
      "{8} {4} => {4,8} \n",
      "{5} {3} => {3,5} \n",
      "{4,8} {3,5} => {3,4,5,8} \n",
      "{2} {9} => {2,9} \n",
      "{4} {1} => {1,4} \n",
      "{2,9} {1,4} => {1,2,4,9} \n",
      "{3,4,5,8} {1,2,4,9} => {1,2,3,4,4,5,8,9} \n",
      "{1,2,3,4,4,5,8,9} \n",
      " \n",
      "{8,4,5,3,2,9,4,1,9,1,2,4,5} \n",
      "{8} {4} => {4,8} \n",
      "{5} {3} => {3,5} \n",
      "{4,8} {3,5} => {3,4,5,8} \n",
      "{2} {9} => {2,9} \n",
      "{2,9} {4} => {2,4,9} \n",
      "{3,4,5,8} {2,4,9} => {2,3,4,4,5,8,9} \n",
      "{1} {9} => {1,9} \n",
      "{1,9} {1} => {1,1,9} \n",
      "{2} {4} => {2,4} \n",
      "{2,4} {5} => {2,4,5} \n",
      "{1,1,9} {2,4,5} => {1,1,2,4,5,9} \n",
      "{2,3,4,4,5,8,9} {1,1,2,4,5,9} => {1,1,2,2,3,4,4,4,5,5,8,9,9} \n",
      "{1,1,2,2,3,4,4,4,5,5,8,9,9} \n",
      " \n"
     ]
    }
   ],
   "source": [
    "!.\\demo\\bin\\MergeSort"
   ]
  },
  {
   "cell_type": "markdown",
   "metadata": {},
   "source": [
    "## 3 Quick sort\n",
    "\n",
    "Quicksort uses `divide` and `conquer` to sort an array. \n",
    "\n",
    "Divide and conquer(分治) is a technique used for breaking algorithms down into subproblems, solving the subproblems, and then combining the results back together to solve the original problem. It can be helpful to think of this method as `divide, conquer, and combine.`\n",
    "\n",
    "Here are the divide, conquer, and combine steps that quicksort uses:\n",
    "\n",
    "**Divide**\n",
    "\n",
    "1. Pick a pivot element, $A[q]$\n",
    "\n",
    "2. Partition, or rearrange, the array into two subarrays: $A[p,…,q−1]$ such that all elements are less than $A[q]$, and $A[q+1,…,r]$ such that all elements are greater than or equal to $A[q]$.\n",
    "\n",
    "**Conquer**: \n",
    "\n",
    "Sort the subarrays $A[p,…,q−1]$ and $A[q+1,…,r]$ recursively with `quicksort`.\n",
    "\n",
    "**Combine**: \n",
    "\n",
    "No work is needed to combine the arrays because they are already sorted\n",
    "\n",
    "\n",
    "![quick-sort](./img/ds/quick-sort.jpg)\n",
    "\n",
    "**Complexity**\n",
    "\n",
    "* The worst-case time complexity is $O(n^2)$. The average-case (typical) and best-case is $O(nlogn)$. \n",
    "\n",
    "* **In-place** sorting can be achieved without additional space requirement.\n",
    "\n",
    "![quick-sort](./img/ds/quicksort-1.jpg)"
   ]
  },
  {
   "cell_type": "markdown",
   "metadata": {},
   "source": [
    "### 3.1  Quick Sort in Python"
   ]
  },
  {
   "cell_type": "code",
   "execution_count": 183,
   "metadata": {},
   "outputs": [],
   "source": [
    "def quickSort(array):\n",
    "    less = []\n",
    "    pivotList = []\n",
    "    more = []\n",
    "\n",
    "    if len(array) <= 1:\n",
    "        return array\n",
    "    else:\n",
    "        pivot = array[0]\n",
    "        for i in array:\n",
    "            if i < pivot:\n",
    "                less.append(i)\n",
    "            elif i > pivot:\n",
    "                more.append(i)\n",
    "            else:\n",
    "                pivotList.append(i)\n",
    "        less = quickSort(less)\n",
    "        more = quickSort(more)\n",
    "        return less + pivotList + more"
   ]
  },
  {
   "cell_type": "code",
   "execution_count": 184,
   "metadata": {},
   "outputs": [
    {
     "name": "stdout",
     "output_type": "stream",
     "text": [
      "[13, 27, 38, 49, 49, 65, 76, 97]\n"
     ]
    }
   ],
   "source": [
    "array=[49, 38,65, 97,76, 13, 27,49]\n",
    "sortedarray=quickSort(array)\n",
    "print(sortedarray)"
   ]
  },
  {
   "cell_type": "markdown",
   "metadata": {},
   "source": [
    "### 3.2 Quick Sort in CPP"
   ]
  },
  {
   "cell_type": "markdown",
   "metadata": {},
   "source": [
    "\n",
    "```cpp\n",
    "// Sort the given array in [left, right]\n",
    "void quickSort(int a[], int left, int right) {\n",
    "   if ((right - left) >= 1) {   // more than 1 elements, need to sort\n",
    "      choosePivot(a, left, right);\n",
    "      int pivotIndex = partition(a, left, right);\n",
    "      quickSort(a, left, pivotIndex -  1);\n",
    "      quickSort(a, pivotIndex + 1, right);\n",
    "   }\n",
    "}\n",
    "```"
   ]
  },
  {
   "cell_type": "code",
   "execution_count": 185,
   "metadata": {},
   "outputs": [
    {
     "name": "stdout",
     "output_type": "stream",
     "text": [
      "Overwriting ./demo/src/QuickSort.cpp\n"
     ]
    }
   ],
   "source": [
    "%%file ./demo/src/QuickSort.cpp\n",
    "/* \n",
    " Sorting an array using Quick Sort (QuickSort.cpp) \n",
    "\n",
    "*/\n",
    "#include <iostream>\n",
    "using namespace std;\n",
    " \n",
    "void quickSort(int a[], int size);\n",
    "void quickSort(int a[], int left, int right);\n",
    "void choosePivot(int a[], int left, int right);\n",
    "int partition(int a[], int left, int right);\n",
    "void print(const int a[], int left, int right);\n",
    " \n",
    "// Sort the given array of size\n",
    "void quickSort(int a[], int size) {\n",
    "   quickSort(a, 0, size - 1);\n",
    "}\n",
    " \n",
    "// Sort the given array in [left, right]\n",
    "void quickSort(int a[], int left, int right) {\n",
    "   if ((right - left) >= 1) {   // more than 1 elements, need to sort\n",
    "      choosePivot(a, left, right);\n",
    "      int pivotIndex = partition(a, left, right);\n",
    "      quickSort(a, left, pivotIndex -  1);\n",
    "      quickSort(a, pivotIndex + 1, right);\n",
    "   }\n",
    "}\n",
    " \n",
    "// Choose a pivot element and swap with the right\n",
    "void choosePivot(int a[], int left, int right) {\n",
    "   int pivotIndex = (right + left) / 2;\n",
    "   int temp;\n",
    "   temp = a[pivotIndex];\n",
    "   a[pivotIndex] = a[right];\n",
    "   a[right] = temp;\n",
    "}\n",
    " \n",
    "// Partition the array [left, right] with pivot initially on the right.\n",
    "// Return the index of the pivot after partition, all elements to the\n",
    "// left of pivot are smaller; while to the right are larger.\n",
    "int partition(int a[], int left, int right) {\n",
    "   int pivot = a[right];\n",
    "   int temp;  // for swapping\n",
    "   int storeIndex = left;\n",
    "      // Start the storeIndex from left, swap elements smaller than\n",
    "      //  pivot into storeIndex and increase the storeIndex.\n",
    "      // At the end of the pass, all elements up to storeIndex are\n",
    "      //  smaller than pivot.\n",
    "   for (int i = left; i < right; ++i) {  // exclude pivot\n",
    "      if (a[i] < pivot) {\n",
    "         // for tracing\n",
    "         print(a, left, right);\n",
    " \n",
    "         if (i != storeIndex) {\n",
    "            temp = a[i];\n",
    "            a[i] = a[storeIndex];\n",
    "            a[storeIndex] = temp;\n",
    "         }\n",
    "         ++storeIndex;\n",
    " \n",
    "         // for tracing\n",
    "         cout << \"=> \";\n",
    "         print(a, left, right);\n",
    "         cout << endl;\n",
    "      }\n",
    "   }\n",
    "   // Swap pivot and storeIndex\n",
    "   a[right] = a[storeIndex];\n",
    "   a[storeIndex] = pivot;\n",
    " \n",
    "   // for tracing\n",
    "   print(a, left, storeIndex - 1);\n",
    "   cout << \"{\" << a[storeIndex] << \"} \";\n",
    "   print(a, storeIndex + 1, right);\n",
    "   cout << endl;\n",
    " \n",
    "   return storeIndex;\n",
    "}\n",
    " \n",
    "// Print the contents of the given array from left to right (inclusive)\n",
    "void print(const int a[], int left, int right) {\n",
    "   cout << \"{\";\n",
    "   for (int i = left; i <= right; ++i) {\n",
    "      cout << a[i];\n",
    "      if (i < right) cout << \",\";\n",
    "   }\n",
    "   cout << \"} \";\n",
    "}\n",
    "\n",
    "int main() {\n",
    "   const int SIZE = 8;\n",
    "   int a[SIZE] = {49, 38,65, 97,76, 13, 27,49};\n",
    " \n",
    "   print(a, 0, SIZE - 1);\n",
    "   cout << endl;\n",
    "   cout <<\"Sorting ...\"<< endl;\n",
    "   quickSort(a, SIZE);\n",
    "   print(a, 0, SIZE - 1);\n",
    "   cout << endl << endl;\n",
    " \n",
    "}  \n",
    " "
   ]
  },
  {
   "cell_type": "code",
   "execution_count": 186,
   "metadata": {},
   "outputs": [],
   "source": [
    "!g++ -o ./demo/bin/QuickSort ./demo/src/QuickSort.cpp"
   ]
  },
  {
   "cell_type": "code",
   "execution_count": 187,
   "metadata": {
    "scrolled": true
   },
   "outputs": [
    {
     "name": "stdout",
     "output_type": "stream",
     "text": [
      "{49,38,65,97,76,13,27,49} \n",
      "Sorting ...\n",
      "{49,38,65,49,76,13,27,97} => {49,38,65,49,76,13,27,97} \n",
      "{49,38,65,49,76,13,27,97} => {49,38,65,49,76,13,27,97} \n",
      "{49,38,65,49,76,13,27,97} => {49,38,65,49,76,13,27,97} \n",
      "{49,38,65,49,76,13,27,97} => {49,38,65,49,76,13,27,97} \n",
      "{49,38,65,49,76,13,27,97} => {49,38,65,49,76,13,27,97} \n",
      "{49,38,65,49,76,13,27,97} => {49,38,65,49,76,13,27,97} \n",
      "{49,38,65,49,76,13,27,97} => {49,38,65,49,76,13,27,97} \n",
      "{49,38,65,49,76,13,27} {97} {} \n",
      "{49,38,65,27,76,13,49} => {38,49,65,27,76,13,49} \n",
      "{38,49,65,27,76,13,49} => {38,27,65,49,76,13,49} \n",
      "{38,27,65,49,76,13,49} => {38,27,13,49,76,65,49} \n",
      "{38,27,13} {49} {76,65,49} \n",
      "{38,13,27} => {13,38,27} \n",
      "{13} {27} {38} \n",
      "{76,49,65} => {49,76,65} \n",
      "{49} {65} {76} \n",
      "{13,27,38,49,49,65,76,97} \n",
      "\n"
     ]
    }
   ],
   "source": [
    "!.\\demo\\bin\\QuickSort"
   ]
  },
  {
   "cell_type": "markdown",
   "metadata": {},
   "source": [
    "## 4 Bubble Sort \n",
    "\n",
    "In brief, we pass thru the list, compare `two adjacent` items and swap them if they are in the wrong order.\n",
    "\n",
    "Repeat the pass until no swaps are needed. \n",
    "\n",
    "1. Compare $A[0]$ and $A[1]$. If $A[0]$ is bigger than $A[1]$, swap the elements.\n",
    "\n",
    "2. Move to the next element, $A[1]$ (which might now contain the result of a swap from the previous step), and compare it with $A[2]$. If $A[1]$ is bigger than $A[2]$, swap the elements. Do this for every pair of elements until the end of the list.\n",
    "\n",
    "3. Do steps $1$ and $2$ $n$ times.\n",
    "\n",
    "**Here is the pseudocode**\n",
    "\n",
    "> pseudocode in LaTex: https://mirrors.cqu.edu.cn/CTAN/macros/latex/contrib/algorithm2e/doc/algorithm2e.pdf\n",
    "```cpp\n",
    "for i <- a.length() to 1 do\n",
    "    for j <- 1 to i-1 do\n",
    "        if a[j]>a[j+1] then\n",
    "            swap a[j] <-> a[j+1]\n",
    "        end if\n",
    "    end for\n",
    "end for  \n",
    "```\n",
    "Bubble sort has a nested loop. the inner loop executes $frac{1}{2}n^2-frac{1}{2}n$ times for a list of size n.\n",
    "\n",
    "Bubble sort is not efficient with complexity of $O(n^2)$.\n",
    "\n",
    "![bubblesort](./img/ds/bubblesort.png)\n",
    "\n",
    "\n"
   ]
  },
  {
   "cell_type": "markdown",
   "metadata": {},
   "source": [
    "### 4.1 bubble sort in Python"
   ]
  },
  {
   "cell_type": "code",
   "execution_count": 188,
   "metadata": {},
   "outputs": [],
   "source": [
    "def bubble_sort(array):\n",
    "    index = len(array) - 1\n",
    "    while index >= 0:\n",
    "        for j in range(index):\n",
    "            if array[j] > array[j+1]:\n",
    "                array[j], array[j+1] = array[j+1], array[j]\n",
    "        index -= 1\n",
    "    return array"
   ]
  },
  {
   "cell_type": "code",
   "execution_count": 189,
   "metadata": {},
   "outputs": [
    {
     "name": "stdout",
     "output_type": "stream",
     "text": [
      "[17, 20, 24, 31, 44, 55, 56, 77, 93]\n"
     ]
    }
   ],
   "source": [
    "array=[56, 24, 93, 17,77, 31, 44,55,20]\n",
    "sortedarray=bubble_sort(array)\n",
    "print(sortedarray)"
   ]
  },
  {
   "cell_type": "markdown",
   "metadata": {},
   "source": [
    "### 4.2 Improved bubble sort in Cpp\n",
    "\n",
    "We can make a minor adjustment to the bubble sort to improve its **best-case** performance to linear.\n",
    "\n",
    "If **no swaps** occur during a pass through the main loop, then the list is **sorted**. \n",
    "\n",
    "This can happen on any pass, and in the **best case** will happen on the **first** pass.\n",
    "\n",
    "* The **best case** complexity is $O(n)$\n",
    "\n",
    "We can track the presence of swapping with a Boolean flag and return from the function \n",
    "\n",
    "* bubble sort won’t perform any swaps if the list is already sorted. However, bubble sort’s worstcase behavior for exchanges is greater than linear.\n"
   ]
  },
  {
   "cell_type": "code",
   "execution_count": 190,
   "metadata": {},
   "outputs": [
    {
     "name": "stdout",
     "output_type": "stream",
     "text": [
      "Overwriting ./demo/src/BubbleSort.cpp\n"
     ]
    }
   ],
   "source": [
    "%%file ./demo/src/BubbleSort.cpp\n",
    "/* Sorting an array using Bubble Sort (BubbleSort.cpp) */\n",
    "#include <iostream>\n",
    "using namespace std;\n",
    " \n",
    "void bubbleSort(int a[], int size);\n",
    "void print(const int a[], int size);\n",
    " \n",
    "\n",
    "// Sort the given array of size\n",
    "void bubbleSort(int a[], int size) {\n",
    "   bool done = false; // terminate if no more swap thru a pass\n",
    "   int pass = 0;      // pass number, for tracing\n",
    "   int temp;          // use for swapping\n",
    " \n",
    "   while (!done) {\n",
    "      cout << \"PASS \" << ++pass << \" ...\" << endl;   // for tracing\n",
    "      done = true;\n",
    "      // Pass thru the list, compare adjacent items and swap\n",
    "      // them if they are in wrong order\n",
    "      for (int i = 0; i < size - 1; ++i) {\n",
    "         if (a[i] > a[i+1]) {\n",
    "            print(a, size); // for tracing\n",
    "            temp = a[i];\n",
    "            a[i] = a[i+1];\n",
    "            a[i+1] = temp;\n",
    "            done = false;   // swap detected, one more pass\n",
    "            cout << \"=> \";  // for tracing\n",
    "            print(a, size);\n",
    "            cout << endl;\n",
    "         }\n",
    "      }\n",
    "   }\n",
    "}\n",
    " \n",
    "// Print the contents of the given array of size\n",
    "void print(const int a[], int size) {\n",
    "   cout << \"{\";\n",
    "   for (int i = 0; i < size; ++i) {\n",
    "      cout << a[i];\n",
    "      if (i < size - 1) cout << \",\";\n",
    "   }\n",
    "   cout << \"} \";\n",
    "}\n",
    "\n",
    "int main() {\n",
    "   const int SIZE = 9;\n",
    "   int a[] = {56, 24, 93, 17,77, 31, 44,55,20};\n",
    " \n",
    "   print(a, SIZE);\n",
    "   cout << endl;\n",
    "   bubbleSort(a, SIZE);\n",
    "   print(a, SIZE);\n",
    "   cout << endl;\n",
    "}\n"
   ]
  },
  {
   "cell_type": "code",
   "execution_count": 191,
   "metadata": {},
   "outputs": [],
   "source": [
    "!g++ -o ./demo/bin/BubbleSort ./demo/src/BubbleSort.cpp"
   ]
  },
  {
   "cell_type": "code",
   "execution_count": 192,
   "metadata": {},
   "outputs": [
    {
     "name": "stdout",
     "output_type": "stream",
     "text": [
      "{56,24,93,17,77,31,44,55,20} \n",
      "PASS 1 ...\n",
      "{56,24,93,17,77,31,44,55,20} => {24,56,93,17,77,31,44,55,20} \n",
      "{24,56,93,17,77,31,44,55,20} => {24,56,17,93,77,31,44,55,20} \n",
      "{24,56,17,93,77,31,44,55,20} => {24,56,17,77,93,31,44,55,20} \n",
      "{24,56,17,77,93,31,44,55,20} => {24,56,17,77,31,93,44,55,20} \n",
      "{24,56,17,77,31,93,44,55,20} => {24,56,17,77,31,44,93,55,20} \n",
      "{24,56,17,77,31,44,93,55,20} => {24,56,17,77,31,44,55,93,20} \n",
      "{24,56,17,77,31,44,55,93,20} => {24,56,17,77,31,44,55,20,93} \n",
      "PASS 2 ...\n",
      "{24,56,17,77,31,44,55,20,93} => {24,17,56,77,31,44,55,20,93} \n",
      "{24,17,56,77,31,44,55,20,93} => {24,17,56,31,77,44,55,20,93} \n",
      "{24,17,56,31,77,44,55,20,93} => {24,17,56,31,44,77,55,20,93} \n",
      "{24,17,56,31,44,77,55,20,93} => {24,17,56,31,44,55,77,20,93} \n",
      "{24,17,56,31,44,55,77,20,93} => {24,17,56,31,44,55,20,77,93} \n",
      "PASS 3 ...\n",
      "{24,17,56,31,44,55,20,77,93} => {17,24,56,31,44,55,20,77,93} \n",
      "{17,24,56,31,44,55,20,77,93} => {17,24,31,56,44,55,20,77,93} \n",
      "{17,24,31,56,44,55,20,77,93} => {17,24,31,44,56,55,20,77,93} \n",
      "{17,24,31,44,56,55,20,77,93} => {17,24,31,44,55,56,20,77,93} \n",
      "{17,24,31,44,55,56,20,77,93} => {17,24,31,44,55,20,56,77,93} \n",
      "PASS 4 ...\n",
      "{17,24,31,44,55,20,56,77,93} => {17,24,31,44,20,55,56,77,93} \n",
      "PASS 5 ...\n",
      "{17,24,31,44,20,55,56,77,93} => {17,24,31,20,44,55,56,77,93} \n",
      "PASS 6 ...\n",
      "{17,24,31,20,44,55,56,77,93} => {17,24,20,31,44,55,56,77,93} \n",
      "PASS 7 ...\n",
      "{17,24,20,31,44,55,56,77,93} => {17,20,24,31,44,55,56,77,93} \n",
      "PASS 8 ...\n",
      "{17,20,24,31,44,55,56,77,93} \n"
     ]
    }
   ],
   "source": [
    "!.\\demo\\bin\\BubbleSort "
   ]
  },
  {
   "cell_type": "markdown",
   "metadata": {},
   "source": [
    "##  5 Insertion Sort\n",
    "\n",
    "In brief, pass thru the list. For each element, compare with `all` previous elements and `insert` it at the correct `position` by shifting the other elements. \n",
    "\n",
    "f $O(n^2)$.\n",
    "\n",
    "\n",
    "Here is some **pseudocode**\n",
    "\n",
    "```cpp\n",
    "for i <- 1 to length(A) do\n",
    "    key <- A[i]\n",
    "    j <- i - 1\n",
    "    while j >= 0 and  A[j] > key do\n",
    "          A[j+1] <- A[j]\n",
    "          j <- j - 1\n",
    "    end while\n",
    "    A[j+1] <- key\n",
    "end for \n",
    "```\n",
    "\n",
    "The outer loop executes $n−1$ times. In the **worst** case, when `all the data are out of order`, the inner loop iterates once on the first pass through the outer loop, twice on the second pass, and so on,  for a total of $\\frac{1}{2}n^2-\\frac{1}{2}n$\n",
    "\n",
    "$1+2+...+(n-1)=\\frac{1}{2}n^2-\\frac{1}{2}n$$\n",
    "\n",
    "Thus, the worst-case behavior of insertion sort is $O(n^2)$. The nsertion sort is  not efficient\n",
    "\n",
    "But if the more items in the list that are in **order**, the **better** insertion sort gets until.\n",
    "\n",
    "* In the **best case** of a **sorted** list, the sort’s behavior is linear $O(n)$.\n",
    "\n",
    "In the **average** case, however, insertion sort is still quadratic $O(n^2)$.\n",
    "\n",
    "![insertionsort](./img/ds/insertsort.jpg)"
   ]
  },
  {
   "cell_type": "markdown",
   "metadata": {},
   "source": [
    "### 5.1 Insertionsort in python"
   ]
  },
  {
   "cell_type": "code",
   "execution_count": 15,
   "metadata": {},
   "outputs": [],
   "source": [
    "def insertion_sort(array):\n",
    "    i = 1\n",
    "    for i in range(len(array)):\n",
    "        itemToInsert = array[i]\n",
    "        j = i - 1\n",
    "        while j >= 0 and array[j]>itemToInsert:\n",
    "            array[j + 1] = array[j]\n",
    "            j -= 1\n",
    "        array[j + 1] = itemToInsert\n",
    "    return  array"
   ]
  },
  {
   "cell_type": "code",
   "execution_count": 16,
   "metadata": {},
   "outputs": [
    {
     "name": "stdout",
     "output_type": "stream",
     "text": [
      "[1, 2, 3, 4, 5, 6, 10, 12]\n"
     ]
    }
   ],
   "source": [
    "array=[4, 3, 2, 10, 12, 1, 5, 6]\n",
    "sortearray=insertion_sort(array)\n",
    "print(sortearray)"
   ]
  },
  {
   "cell_type": "markdown",
   "metadata": {},
   "source": [
    "### 5.2 Insertionsort in CPP"
   ]
  },
  {
   "cell_type": "code",
   "execution_count": 195,
   "metadata": {},
   "outputs": [
    {
     "name": "stdout",
     "output_type": "stream",
     "text": [
      "Overwriting ./demo/src/InsertionSort.cpp\n"
     ]
    }
   ],
   "source": [
    "%%file ./demo/src/InsertionSort.cpp\n",
    "/* \n",
    "  Sorting an array using Insertion Sort (InsertionSort.cpp) \n",
    "*/\n",
    "#include <iostream>\n",
    "using namespace std;\n",
    "\n",
    "void insertionSort(int a[], int size);\n",
    "void print(const int a[], int iMin, int iMax);\n",
    "\n",
    "// Sort the given array of size using insertion sort\n",
    "void insertionSort(int a[], int size)\n",
    "{\n",
    "   int temp; // for shifting elements\n",
    "   for (int i = 1; i < size; ++i)\n",
    "   {\n",
    "      // for tracing\n",
    "      print(a, 0, i - 1);    // already sorted\n",
    "      print(a, i, size - 1); // to be sorted\n",
    "      cout << endl;\n",
    "\n",
    "      // For element at i, insert into proper position in [0, i-1]\n",
    "      //  which is already sorted.\n",
    "      // Shift down the other elements\n",
    "      for (int prev = 0; prev < i; ++prev)\n",
    "      {\n",
    "         if (a[i] < a[prev])\n",
    "         {\n",
    "            // insert a[i] at prev, shift the elements down\n",
    "            temp = a[i];\n",
    "            for (int shift = i; shift > prev; --shift)\n",
    "            {\n",
    "               a[shift] = a[shift - 1];\n",
    "            }\n",
    "            a[prev] = temp;\n",
    "            break;\n",
    "         }\n",
    "      }\n",
    "   }\n",
    "}\n",
    "\n",
    "// Print the contents of the array in [iMin, iMax]\n",
    "void print(const int a[], int iMin, int iMax)\n",
    "{\n",
    "   cout << \"{\";\n",
    "   for (int i = iMin; i <= iMax; ++i)\n",
    "   {\n",
    "      cout << a[i];\n",
    "      if (i < iMax)\n",
    "         cout << \",\";\n",
    "   }\n",
    "   cout << \"} \";\n",
    "}\n",
    "\n",
    "int main()\n",
    "{\n",
    "   const int SIZE = 8;\n",
    "   int a[SIZE] = {4, 3, 2, 10, 12, 1, 5, 6};\n",
    "\n",
    "   print(a, 0, SIZE - 1);\n",
    "   cout << endl;\n",
    "   insertionSort(a, SIZE);\n",
    "   print(a, 0, SIZE - 1);\n",
    "   cout << endl;\n",
    "}\n"
   ]
  },
  {
   "cell_type": "code",
   "execution_count": 196,
   "metadata": {},
   "outputs": [],
   "source": [
    "!g++ -o ./demo/bin/InsertionSort ./demo/src/InsertionSort.cpp"
   ]
  },
  {
   "cell_type": "code",
   "execution_count": 197,
   "metadata": {},
   "outputs": [
    {
     "name": "stdout",
     "output_type": "stream",
     "text": [
      "{4,3,2,10,12,1,5,6} \n",
      "{4} {3,2,10,12,1,5,6} \n",
      "{3,4} {2,10,12,1,5,6} \n",
      "{2,3,4} {10,12,1,5,6} \n",
      "{2,3,4,10} {12,1,5,6} \n",
      "{2,3,4,10,12} {1,5,6} \n",
      "{1,2,3,4,10,12} {5,6} \n",
      "{1,2,3,4,5,10,12} {6} \n",
      "{1,2,3,4,5,6,10,12} \n"
     ]
    }
   ],
   "source": [
    "!.\\demo\\bin\\InsertionSort"
   ]
  },
  {
   "cell_type": "markdown",
   "metadata": {},
   "source": [
    "## 6 Sorting in Python\n",
    "\n",
    "### 6.1  The sorting algorithm in Python\n",
    "\n",
    "The sorting algorithm used in most Python implementations is called \n",
    "\n",
    "* <b>Timsort</b> ： https://en.wikipedia.org/wiki/Timsort\n",
    "\n",
    "The **key idea** is to take **advantage** of the fact that in a lot of data sets the data is <b>already partially sorted</b>. \n",
    "\n",
    "**Timsort**’s worst-case performance is the same as **merge** sort’s, but on average it performs considerably **better.**\n",
    "\n",
    "The standard implementation of sorting in most Python implementations runs in roughly $O(n*log(n))$ time, where $n$ is the length of the list.\n",
    "\n",
    "\n",
    "In most cases, the right thing to do is to use with Python\n",
    "\n",
    "\n",
    "* 1  method **list.sort** : takes a `list` as its first argument and **modifies** that list,sorts the list (ascending sort),\n",
    "    \n",
    "    \n",
    "* 2 function **sorted** : takes an `iterable` object (e.g., a list or a dictionary) as its first argument and returns a **new** sorted list"
   ]
  },
  {
   "cell_type": "markdown",
   "metadata": {},
   "source": [
    "### 6.2  Stable Sort(稳定排序)\n",
    "\n",
    "Both the **list.sort** method and the sorted function provide <b>stable sorts</b>. \n",
    "\n",
    "A sorting algorithm is stable if it preserves the **original** order of elements with equal key values (where the key is the value the algorithm sorts by).\n",
    "\n",
    "![stable](./img/ds/stablesort.png)"
   ]
  },
  {
   "cell_type": "code",
   "execution_count": 198,
   "metadata": {},
   "outputs": [
    {
     "name": "stdout",
     "output_type": "stream",
     "text": [
      "sorted L(a new list)= [2, 3, 5]\n",
      "L= [3, 5, 2]\n"
     ]
    }
   ],
   "source": [
    "# sorted list: new list\n",
    "L = [3,5,2]\n",
    "print('sorted L(a new list)=',sorted(L))\n",
    "print('L=',L)\n",
    "\n"
   ]
  },
  {
   "cell_type": "code",
   "execution_count": 199,
   "metadata": {},
   "outputs": [
    {
     "name": "stdout",
     "output_type": "stream",
     "text": [
      "sorted D(a new list)= ['a', 'b', 'c']\n"
     ]
    }
   ],
   "source": [
    "# sorted dict\n",
    "# dict:iterable\n",
    "D = {'a':12, 'c':5, 'b':'dog'}\n",
    "print('sorted D(a new list)=',sorted(D))\n"
   ]
  },
  {
   "cell_type": "code",
   "execution_count": 200,
   "metadata": {},
   "outputs": [
    {
     "ename": "AttributeError",
     "evalue": "'dict' object has no attribute 'sort'",
     "output_type": "error",
     "traceback": [
      "\u001b[1;31m---------------------------------------------------------------------------\u001b[0m",
      "\u001b[1;31mAttributeError\u001b[0m                            Traceback (most recent call last)",
      "\u001b[1;32m<ipython-input-200-4aa00a798c66>\u001b[0m in \u001b[0;36m<module>\u001b[1;34m\u001b[0m\n\u001b[1;32m----> 1\u001b[1;33m \u001b[0mD\u001b[0m\u001b[1;33m.\u001b[0m\u001b[0msort\u001b[0m\u001b[1;33m(\u001b[0m\u001b[1;33m)\u001b[0m\u001b[1;33m\u001b[0m\u001b[1;33m\u001b[0m\u001b[0m\n\u001b[0m",
      "\u001b[1;31mAttributeError\u001b[0m: 'dict' object has no attribute 'sort'"
     ]
    }
   ],
   "source": [
    "D.sort()"
   ]
  },
  {
   "cell_type": "markdown",
   "metadata": {},
   "source": [
    "* when the sorted function is applied to a dictionary, it returns a `sorted list of the keys` of the dictionary. \n",
    "\n",
    "* In contrast, when the sort method is applied to a dictionary, it causes an exception to be raised since there is no method dict.sort"
   ]
  },
  {
   "cell_type": "code",
   "execution_count": 48,
   "metadata": {},
   "outputs": [
    {
     "name": "stdout",
     "output_type": "stream",
     "text": [
      "L(modified L)= [2, 3, 5]\n"
     ]
    }
   ],
   "source": [
    "# list.sort in place\n",
    "L.sort()\n",
    "print('L(modified L)=',L)"
   ]
  },
  {
   "cell_type": "markdown",
   "metadata": {},
   "source": [
    "Both the **list.sort** method and the **sorted** function can have two additional parameters.\n",
    "\n",
    "* <b>key</b> parameter plays the same role as compare in our implementation of merge sort: it is used to <b>supply the comparison function</b> to be\n",
    "used.\n",
    "\n",
    "\n",
    "* <b>reverse</b> parameter specifies whether the list is to be sorted in <b>ascending or descending order</b>.\n",
    "\n"
   ]
  },
  {
   "cell_type": "code",
   "execution_count": 17,
   "metadata": {},
   "outputs": [
    {
     "name": "stdout",
     "output_type": "stream",
     "text": [
      "[(3, 2, 1, 0), [1, 2, 3], 'abc']\n"
     ]
    }
   ],
   "source": [
    "L = [[1,2,3], (3,2,1,0), 'abc']\n",
    "print(sorted(L, key = len, reverse = True))"
   ]
  },
  {
   "cell_type": "markdown",
   "metadata": {},
   "source": [
    "sorts the elements of L in `reverse` order of `length` and prints"
   ]
  },
  {
   "cell_type": "markdown",
   "metadata": {},
   "source": [
    "## 7 Performance Criteria\n",
    "\n",
    "There are several criteria to be used in evaluating a sorting algorithm:\n",
    "\n",
    "* **Running time**. Typically, an elementary sorting algorithm requires $O(N^2)$ steps to sort $N$ randomly arranged items. More sophisticated sorting algorithms require $O(NlogN)$ steps on average. Algorithms differ in the constant that appears in front of the $N^2$ or $NlogN$. Furthermore, some sorting algorithms are more sensitive to the nature of the input than others. Quicksort, for example, requires $O(NlogN)$ time in the average case, but requires O(N2) time in the worst case. \n",
    "\n",
    "* **Memory requirements**. The amount of extra memory required by a sorting algorithm is also an important consideration. In place sorting algorithms are the most memory efficient, since they require practically no additional memory. Linked list representations require an additional N words of memory for a list of pointers. Still other algorithms require sufficent memory for another copy of the input array. These are the most inefficient in terms of memory usage. \n",
    "\n",
    "* **Stability**. This is the ability of a sorting algorithm to preserve the relative order of equal keys in a file.\n",
    "\n",
    "\n"
   ]
  },
  {
   "cell_type": "markdown",
   "metadata": {},
   "source": [
    "## 8 Choosing a Sorting Algorithm\n",
    "\n",
    "\n",
    "To choose a sorting algorithm for a particular problem, consider the running time, space complexity, and the expected format of the input list.\n",
    "\n",
    "![choosesort](./img/ds/choosesort.jpg)\n",
    "\n",
    "\n",
    "* Insertion sort requires linear time for almost `sorted` files. Otherwise,insertion sort should  be limited to small files.\n",
    "\n",
    "* Quicksort is the method to use for very large sorting problems.Quicksort performs badly if the file is already sorted. Another possible disadvantage is that quicksort is not stable i.e. it does not preserve the relative order of equal keys. \n",
    "\n",
    "* Bubble sort, which is included in Table for comparison purposes only, is generally best avoided. \n",
    "\n",
    "Insertion, Bubble and Quicksortsorting algorithms are in-place(就地-原址) methods.Quicksort requires a small amount of additional memory for the auxiliary stack.\n",
    "\n",
    "* Mergesort is $O(NlogN)$ algorithm in the average and worst cases.\n",
    "\n",
    "Mergesort algorithm is out-place（外置-异地)method. It requires a amount of additional memory "
   ]
  },
  {
   "cell_type": "markdown",
   "metadata": {
    "collapsed": true
   },
   "source": [
    "## Further Reading\n",
    "\n",
    "* 严蔚敏，李冬梅，吴伟民. 数据结构（C语言版），人民邮电出版社（第2版）,2015年2月  \n",
    "\n",
    "\n",
    "* Mark Allen Weiss. Data Structures and Algorithm Analysis in C\n",
    "\n",
    "\n"
   ]
  },
  {
   "cell_type": "code",
   "execution_count": null,
   "metadata": {},
   "outputs": [],
   "source": []
  }
 ],
 "metadata": {
  "kernelspec": {
   "display_name": "Python 3",
   "language": "python",
   "name": "python3"
  },
  "language_info": {
   "codemirror_mode": {
    "name": "ipython",
    "version": 3
   },
   "file_extension": ".py",
   "mimetype": "text/x-python",
   "name": "python",
   "nbconvert_exporter": "python",
   "pygments_lexer": "ipython3",
   "version": "3.8.7"
  },
  "toc": {
   "base_numbering": 1,
   "nav_menu": {},
   "number_sections": false,
   "sideBar": true,
   "skip_h1_title": false,
   "title_cell": "Table of Contents",
   "title_sidebar": "Contents",
   "toc_cell": false,
   "toc_position": {
    "height": "calc(100% - 180px)",
    "left": "10px",
    "top": "150px",
    "width": "207.188px"
   },
   "toc_section_display": true,
   "toc_window_display": true
  },
  "widgets": {
   "state": {},
   "version": "1.1.2"
  }
 },
 "nbformat": 4,
 "nbformat_minor": 1
}
