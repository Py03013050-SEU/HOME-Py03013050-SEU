{
 "cells": [
  {
   "cell_type": "markdown",
   "metadata": {},
   "source": [
    "#  The Shared Library with GCC\n",
    "\n",
    "**C/C++ Under Linux**\n",
    "\n",
    "* %cd Change the current working directory to `./demo`"
   ]
  },
  {
   "cell_type": "code",
   "execution_count": 1,
   "metadata": {},
   "outputs": [
    {
     "name": "stdout",
     "output_type": "stream",
     "text": [
      "F:\\SEU\\SEE\\PySEE\\home\\notebook\\demo\n"
     ]
    }
   ],
   "source": [
    "%cd demo"
   ]
  },
  {
   "cell_type": "code",
   "execution_count": 2,
   "metadata": {},
   "outputs": [
    {
     "data": {
      "text/plain": [
       "'F:\\\\SEU\\\\SEE\\\\PySEE\\\\home\\\\notebook\\\\demo'"
      ]
     },
     "execution_count": 2,
     "metadata": {},
     "output_type": "execute_result"
    }
   ],
   "source": [
    "%pwd"
   ]
  },
  {
   "cell_type": "markdown",
   "metadata": {},
   "source": [
    "When your program is linked against a shared library, only a small table is created in the executable. Before the executable starts running, **the operating system loads the machine code needed for the external functions** - a process known as **dynamic linking.** \n",
    "\n",
    "   \n",
    " ![dynamic](./img/dynamic-lib.png)  \n",
    "\n",
    "    \n",
    "* Dynamic linking makes executable files smaller and saves disk space, because `one` copy of a **library** can be **shared** between `multiple` programs. \n",
    "\n",
    "\n",
    "* Furthermore, most operating systems allows one copy of a shared library in memory to be used by all running programs, thus, saving memory. \n",
    "\n",
    "\n",
    "* The shared library codes can be upgraded without the need to recompile your program.\n",
    "\n",
    "\n",
    "A **shared library** has file extension of \n",
    "\n",
    "   * **`.so`** (shared objects) in `Linux(Unixes)`\n",
    "   \n",
    "   \n",
    "   * **`.dll** (dynamic link library) in `Windows`. \n",
    "   \n",
    "\n"
   ]
  },
  {
   "cell_type": "markdown",
   "metadata": {},
   "source": [
    "## 1: Building the shared library\n",
    "\n",
    "The shared library we will build consist of a single source file: \n",
    "\n",
    "* `statistics.c/h`\n",
    "\n",
    "We will compile the C file with `Position Independent Code( PIC )` into a shared library。\n",
    "\n",
    "GCC assumes that all libraries \n",
    "   \n",
    "* `start` with **lib**\n",
    "\n",
    "* `end`  with `.dll`(windows) or `.so`(Linux)，\n",
    "\n",
    "so, we should name the  shared library begin with `lib prefix` and the `.so/.dll` extensions.\n",
    "\n",
    "* libstat.dll(Windows)\n",
    "\n",
    "* libstat.so(Linux)\n"
   ]
  },
  {
   "cell_type": "code",
   "execution_count": 2,
   "metadata": {},
   "outputs": [
    {
     "name": "stdout",
     "output_type": "stream",
     "text": [
      "Overwriting ./include/statistics.h\n"
     ]
    }
   ],
   "source": [
    "%%file ./include/statistics.h\n",
    "\n",
    "#ifndef STATISTICS_H\n",
    "#define STATISTICS_H\n",
    "\n",
    "double  mean(double data[], int size);\n",
    "\n",
    "#endif\n"
   ]
  },
  {
   "cell_type": "code",
   "execution_count": 3,
   "metadata": {},
   "outputs": [
    {
     "name": "stdout",
     "output_type": "stream",
     "text": [
      "Overwriting ./src/statistics.c\n"
     ]
    }
   ],
   "source": [
    "%%file ./src/statistics.c\n",
    "\n",
    "#include \"statistics.h\"\n",
    "\n",
    "double  mean(double data[], int size)\n",
    "{\n",
    "  /* Compute the arithmetic mean of a dataset using the recurrence relation \n",
    "     mean_(n) = mean(n-1) + (data[n] - mean(n-1))/(n+1)   */\n",
    "\n",
    "  double mean = 0;\n",
    "  for(int  i = 0; i < size; i++)\n",
    "  {\n",
    "      mean += (data[i] - mean) / (i + 1);\n",
    "   }\n",
    "  return mean;\n",
    "}\n"
   ]
  },
  {
   "cell_type": "markdown",
   "metadata": {},
   "source": [
    "### 1.1 Building the Lib"
   ]
  },
  {
   "cell_type": "markdown",
   "metadata": {},
   "source": [
    "**Makefile of Building the lib**"
   ]
  },
  {
   "cell_type": "code",
   "execution_count": 2,
   "metadata": {},
   "outputs": [
    {
     "name": "stdout",
     "output_type": "stream",
     "text": [
      "Overwriting ./makefile-statlib.mk\n"
     ]
    }
   ],
   "source": [
    "%%file ./makefile-statlib.mk\n",
    "\n",
    "CC=gcc\n",
    "CFLAGS=-O3 -Wall -fPIC \n",
    "\n",
    "SRCDIR= ./src/\n",
    "OBJDIR= ./obj/\n",
    "BINDIR= ./bin/\n",
    "INCDIR=./include/\n",
    "\n",
    "# Linux\n",
    "#LIB=libstat.so\n",
    "# Windows\n",
    "LIB=libstat.dll\n",
    "\n",
    "all:  $(LIB)\n",
    "\n",
    "$(LIB): obj\n",
    "\t $(CC) -shared -o $(BINDIR)$@ $(OBJDIR)statistics.o\n",
    "    \n",
    "obj: $(SRCDIR)statistics.c\n",
    "\t $(CC) -c $(CFLAGS)  -o $(OBJDIR)statistics.o $(SRCDIR)statistics.c -I$(INCDIR)\n",
    "     \n"
   ]
  },
  {
   "cell_type": "code",
   "execution_count": 3,
   "metadata": {},
   "outputs": [
    {
     "name": "stdout",
     "output_type": "stream",
     "text": [
      "gcc -shared -o ./bin/libstat.dll ./obj/statistics.o\n"
     ]
    }
   ],
   "source": [
    "!make -f makefile-statlib.mk"
   ]
  },
  {
   "cell_type": "code",
   "execution_count": 4,
   "metadata": {},
   "outputs": [
    {
     "name": "stdout",
     "output_type": "stream",
     "text": [
      " Volume in drive F is cmh\n",
      " Volume Serial Number is 9C25-3306\n",
      "\n",
      " Directory of F:\\SEU\\SEE\\PySEE\\home\\notebook\\demo\\bin\n",
      "\n",
      "2020/05/14  14:49           309,891 libstat.dll\n",
      "               1 File(s)        309,891 bytes\n",
      "               0 Dir(s)  89,984,061,440 bytes free\n"
     ]
    }
   ],
   "source": [
    "!dir .\\bin\\libstat.dll"
   ]
  },
  {
   "cell_type": "markdown",
   "metadata": {},
   "source": [
    "#### Linux \n",
    "\n",
    "* LIB=libstat.so"
   ]
  },
  {
   "cell_type": "code",
   "execution_count": null,
   "metadata": {},
   "outputs": [],
   "source": [
    "!ls ./bin/libstat.*"
   ]
  },
  {
   "cell_type": "markdown",
   "metadata": {},
   "source": [
    "Linux Coommand: list files\n",
    "```bash\n",
    "$ls\n",
    "```\n",
    "\n",
    "##### Path separator\n",
    "\n",
    "* Path separators\n",
    "\n",
    "   * Linux: `/`\n",
    "\n",
    "   * Windows: **\\**\n",
    "\n",
    "* Eescape character `\\`\n",
    "\n",
    "   * The backslash`\\` is an `escape character`,you use to inform that the next character is special.\n",
    " "
   ]
  },
  {
   "cell_type": "markdown",
   "metadata": {},
   "source": [
    "#### GCC Options\n",
    "\n",
    "* `-c`: compile into object file with default name : *.o.\n",
    "\n",
    "      By default, the object file has the same name as the source file with extension of \".o\" \n",
    "  \n",
    "  \n",
    "* `-O3`: Optimize yet more.\n",
    "\n",
    "      turns on all optimizations specified by -O2 and also turns on the -finline-functions, -fweb, -frename-registers and -funswitch-loops optionsturns  on  all  optimizations   \n",
    "     \n",
    "  \n",
    "* `-Wall`: prints \"all\"  compiler's warning message. \n",
    "\n",
    "      This option should always be used, in order to generate better code.\n",
    "\n",
    "\n",
    "* **`-fPIC`** : stands for `Position Independent Code`(位置无关代码)\n",
    "   \n",
    "   the generated machine code is `not dependent` on being located at a `specific address` in order to `work`.\n",
    "   \n",
    "   Position-independent code can be `executed` at `any memory address`\n",
    "    \n",
    "     \n",
    "* **-shared:** creating a shared library\n"
   ]
  },
  {
   "cell_type": "markdown",
   "metadata": {},
   "source": [
    "## 2 Building a Client Executable "
   ]
  },
  {
   "cell_type": "markdown",
   "metadata": {},
   "source": [
    "### 2.1 Header Files and Libraries \n",
    "\n",
    "* `Header File`: When compiling the program, the **compiler** needs the **header** files to compile the source codes;\n",
    "\n",
    "* `libraries`: the **linker** needs the **libraries** to resolve external references from other object files or libraries. \n",
    "\n",
    "The `compiler` and `linker` will not find the `headers/libraries` unless you set **the appropriate options**\n",
    "\n",
    "* **1 Searching for Header Files**\n",
    "\n",
    "   **`-Idir`:** The include-paths are specified via **-Idir** option (`uppercase` 'I' followed by the directory path or environment variable **CPATH**). \n",
    "   \n",
    "   \n",
    "* **2 Searching for libraries Files**\n",
    "\n",
    "   **`-Ldir`**: The library-path is specified via **-Ldir** option (`uppercase` 'L' followed by the directory path(or environment variable **LIBRARY_PATH**). \n",
    "\n",
    "\n",
    "* **3 Linking the library**\n",
    "\n",
    "   **`-llibname`**: Link with the library name **without** the `lib` prefix and the `.dll/.so` extensions.\n",
    "  \n",
    "   Windows\n",
    "   ```bash\n",
    "      -I./include/ \n",
    "      -L./bin/ -lstat\n",
    "  ```\n",
    ">**Linux**\n",
    "> ```bash\n",
    ">   -I./include/ \n",
    "    -L./bin/ -lstat -Wl,-rpath=./bin/  \n",
    "> ```\n",
    ">* **`-Wl,option`**\n",
    ">\n",
    ">    Pass option as an option to the **linker**. \n",
    ">    \n",
    ">    If option contains `commas`, it is split into multiple options at the commas. \n",
    ">    \n",
    ">    You can use this syntax to pass an argument to the option.\n",
    ">      \n",
    ">   \n",
    ">* **`-rpath=dir`** \n",
    ">\n",
    ">   **Add a directory to the runtime library search path**. This is used when linking an >executable with shared objects. All -rpath arguments are concatenated and passed to the >runtime linker, which uses them to locate shared objects at runtime. \n",
    "   \n"
   ]
  },
  {
   "cell_type": "markdown",
   "metadata": {},
   "source": [
    "### 2.2 Calling the Shared Library\n",
    "\n",
    "The following source code demonstrates calling the shared library's functions: \n",
    "\n",
    "**NOTE:** the code is the **same** code in multi-source example"
   ]
  },
  {
   "cell_type": "code",
   "execution_count": 5,
   "metadata": {},
   "outputs": [
    {
     "name": "stdout",
     "output_type": "stream",
     "text": [
      "Overwriting ./src/statApp.c\n"
     ]
    }
   ],
   "source": [
    "%%file ./src/statApp.c\n",
    "\n",
    "#include <stdio.h> \n",
    "#include \"statistics.h\"\n",
    "\n",
    "int main() {\n",
    "     double a[] = {8, 4, 5, 3, 2};\n",
    "     int length = sizeof(a)/sizeof(double);  \n",
    "     printf(\"mean is %f\\n\", mean(a,length)); \n",
    "     return 0;\n",
    "}\n"
   ]
  },
  {
   "cell_type": "markdown",
   "metadata": {},
   "source": [
    "**Makefile**"
   ]
  },
  {
   "cell_type": "code",
   "execution_count": 6,
   "metadata": {},
   "outputs": [
    {
     "name": "stdout",
     "output_type": "stream",
     "text": [
      "Overwriting ./makefile-statapp.mk\n"
     ]
    }
   ],
   "source": [
    "%%file ./makefile-statapp.mk\n",
    "\n",
    "SRCDIR= ./src/\n",
    "OBJDIR= ./obj/\n",
    "BINDIR= ./bin/\n",
    "INCDIR=./include/\n",
    "\n",
    "all: statApp\n",
    "\n",
    "statApp: statobj  \n",
    "\tgcc -o $(BINDIR)statApp $(OBJDIR)statApp.o -L$(BINDIR) -lstat\n",
    "#\tgcc -o $(BINDIR)statApp $(OBJDIR)statApp.o -L$(BINDIR) -lstat -Wl,-rpath=./bin/  \n",
    "\n",
    "statobj: $(SRCDIR)statApp.c \n",
    "\tgcc -c -o $(OBJDIR)statApp.o $(SRCDIR)statApp.c -I$(INCDIR)"
   ]
  },
  {
   "cell_type": "code",
   "execution_count": 7,
   "metadata": {},
   "outputs": [
    {
     "name": "stdout",
     "output_type": "stream",
     "text": [
      "gcc -c -o ./obj/statApp.o ./src/statApp.c -I./include/\n",
      "gcc -o ./bin/statApp ./obj/statApp.o -L./bin/ -lstat\n"
     ]
    }
   ],
   "source": [
    "!make -f makefile-statapp.mk"
   ]
  },
  {
   "cell_type": "markdown",
   "metadata": {},
   "source": [
    "#### Windows"
   ]
  },
  {
   "cell_type": "code",
   "execution_count": 8,
   "metadata": {},
   "outputs": [
    {
     "name": "stdout",
     "output_type": "stream",
     "text": [
      "mean is 4.400000\n"
     ]
    }
   ],
   "source": [
    "!.\\bin\\statApp"
   ]
  },
  {
   "cell_type": "markdown",
   "metadata": {},
   "source": [
    "**Linux**"
   ]
  },
  {
   "cell_type": "code",
   "execution_count": null,
   "metadata": {},
   "outputs": [],
   "source": [
    "!./bin/statApp"
   ]
  },
  {
   "cell_type": "markdown",
   "metadata": {},
   "source": [
    "## 3 Building  a Shared Library with Multi-source\n",
    "\n",
    "### 3.1  The multi-source files\n",
    "The shared library we will build consist of the multi-source files\n",
    "\n",
    "* statistics.c/h\n",
    "* funs.c/h\n",
    "\n",
    "**funs.c/h N!**"
   ]
  },
  {
   "cell_type": "code",
   "execution_count": 10,
   "metadata": {},
   "outputs": [
    {
     "name": "stdout",
     "output_type": "stream",
     "text": [
      "Overwriting ./include/funs.h\n"
     ]
    }
   ],
   "source": [
    "%%file ./include/funs.h\n",
    "\n",
    "#ifndef FUNS_H\n",
    "#define FUNS_H\n",
    "\n",
    "int factorial(int n);\n",
    "\n",
    "#endif"
   ]
  },
  {
   "cell_type": "code",
   "execution_count": 11,
   "metadata": {},
   "outputs": [
    {
     "name": "stdout",
     "output_type": "stream",
     "text": [
      "Overwriting ./src/funs.c\n"
     ]
    }
   ],
   "source": [
    "%%file ./src/funs.c\n",
    "\n",
    "#include \"funs.h\"\n",
    "\n",
    "// The factorial of a positive integer n, denoted by n!, \n",
    "//    is the product of all positive integers less than or equal to n. \n",
    "//  For example,5!=5*4*3*2*1=120\n",
    "//  The value of 0! is 1 \n",
    "int factorial(int n)\n",
    "{\n",
    "    if (n == 0 ) {\n",
    "        return 1;\n",
    "    }\n",
    "    else \n",
    "    {\n",
    "        return n * factorial(n - 1);\n",
    "    }\n",
    "}"
   ]
  },
  {
   "cell_type": "markdown",
   "metadata": {},
   "source": [
    "### 3.2 Building  into One Shared Library\n",
    "\n",
    "**Makefile**\n",
    "\n",
    "```make\n",
    "SRCS=$(SRCDIR)statistics.c \\\n",
    "    $(SRCDIR)funs.c \n",
    "```    "
   ]
  },
  {
   "cell_type": "code",
   "execution_count": 8,
   "metadata": {},
   "outputs": [
    {
     "name": "stdout",
     "output_type": "stream",
     "text": [
      "Overwriting ./makefile-libfuns.mk\n"
     ]
    }
   ],
   "source": [
    "%%file ./makefile-libfuns.mk\n",
    "\n",
    "CC=gcc\n",
    "CFLAGS=-O3 -Wall -fPIC\n",
    "\n",
    "SRCDIR= ./src/\n",
    "OBJDIR= ./obj/\n",
    "BINDIR= ./bin/\n",
    "INCDIR= ./include/\n",
    "\n",
    "# Linux\n",
    "# LIB=libfuns.so \n",
    "LIB=libfuns.dll\n",
    "\n",
    "SRCS=$(SRCDIR)statistics.c \\\n",
    "    $(SRCDIR)funs.c \n",
    "\n",
    "# non-path filename\n",
    "filename=$(notdir $(SRCS))\n",
    "\n",
    "# the obj target of a source code using the pattern rule\n",
    "OBJS=$(patsubst %.c,$(OBJDIR)%.o,$(filename))\n",
    "\n",
    "all:$(LIB)\n",
    "    \n",
    "$(LIB): $(OBJS)  \n",
    "\t$(CC) -shared -o $(BINDIR)$@ $(OBJS) \n",
    "\n",
    "# the pattern rule: one step rule for multiple source files\n",
    "$(OBJS):$(SRCS)\n",
    "\t$(CC) $(CFLAGS) -o $@ -c $(SRCDIR)$(patsubst  %.o,%.c,$(notdir $@))  -I$(INCDIR)"
   ]
  },
  {
   "cell_type": "code",
   "execution_count": 9,
   "metadata": {},
   "outputs": [
    {
     "name": "stdout",
     "output_type": "stream",
     "text": [
      "gcc -O3 -Wall -fPIC -o obj/statistics.o -c ./src/statistics.c  -I./include/\n",
      "gcc -O3 -Wall -fPIC -o obj/funs.o -c ./src/funs.c  -I./include/\n",
      "gcc -shared -o ./bin/libfuns.dll ./obj/statistics.o ./obj/funs.o \n"
     ]
    }
   ],
   "source": [
    "!make -f makefile-libfuns.mk"
   ]
  },
  {
   "cell_type": "code",
   "execution_count": 10,
   "metadata": {},
   "outputs": [
    {
     "name": "stdout",
     "output_type": "stream",
     "text": [
      " 驱动器 F 中的卷是 cmh\n",
      " 卷的序列号是 9C25-3306\n",
      "\n",
      " F:\\SEU\\SEE\\PySEE\\home\\notebook\\demo\\bin 的目录\n",
      "\n",
      "2020/06/07  14:52           310,189 libfuns.dll\n",
      "               1 个文件        310,189 字节\n",
      "               0 个目录 91,521,265,664 可用字节\n"
     ]
    }
   ],
   "source": [
    "!dir .\\bin\\libf*.dll"
   ]
  },
  {
   "cell_type": "markdown",
   "metadata": {},
   "source": [
    "### 3.3 Building a client executable \n",
    "\n",
    "The source code `\"funsApp.c\"` demonstrates calling the shared library's functions:\n"
   ]
  },
  {
   "cell_type": "code",
   "execution_count": 11,
   "metadata": {},
   "outputs": [
    {
     "name": "stdout",
     "output_type": "stream",
     "text": [
      "Overwriting ./src/funsApp.c\n"
     ]
    }
   ],
   "source": [
    "%%file ./src/funsApp.c\n",
    "\n",
    "#include <stdio.h> \n",
    "#include \"statistics.h\"\n",
    "#include \"funs.h\"\n",
    "\n",
    "int main() {\n",
    "    \n",
    "     double a[] = {8, 4, 5, 3, 2};\n",
    "     int len= sizeof(a)/sizeof(*a);\n",
    "     printf(\"mena is %f\\n\", mean(a,  len)); \n",
    "    \n",
    "     int n =5;\n",
    "     printf(\"the factorial of  %d is %d\\n\",n,factorial(n));  // 5!=120\n",
    "     return 0;\n",
    "}"
   ]
  },
  {
   "cell_type": "markdown",
   "metadata": {},
   "source": [
    "#### Windows "
   ]
  },
  {
   "cell_type": "code",
   "execution_count": 12,
   "metadata": {},
   "outputs": [],
   "source": [
    "!gcc -c -o ./obj/funsApp.o ./src/funsApp.c -I./include/\n",
    "!gcc -o  ./bin/funsApp ./obj/funsApp.o  -L./bin/ -lfuns"
   ]
  },
  {
   "cell_type": "code",
   "execution_count": 13,
   "metadata": {},
   "outputs": [
    {
     "name": "stdout",
     "output_type": "stream",
     "text": [
      "mena is 4.400000\n",
      "the factorial of  5 is 120\n"
     ]
    }
   ],
   "source": [
    "!.\\bin\\funsApp"
   ]
  },
  {
   "cell_type": "markdown",
   "metadata": {},
   "source": [
    "#### Linux"
   ]
  },
  {
   "cell_type": "code",
   "execution_count": null,
   "metadata": {},
   "outputs": [],
   "source": [
    "!gcc -c -o ./obj/funsApp.o ./src/funsApp.c -I./include/\n",
    "!gcc -o  ./bin/funsApp ./obj/funsApp.o  -L./bin/ -lfuns -Wl,-rpath=./bin/ "
   ]
  },
  {
   "cell_type": "code",
   "execution_count": null,
   "metadata": {},
   "outputs": [],
   "source": [
    "!./bin/funsApp"
   ]
  },
  {
   "cell_type": "markdown",
   "metadata": {},
   "source": []
  },
  {
   "cell_type": "markdown",
   "metadata": {},
   "source": [
    "## 4 CoolProp Shared Library in Windows\n",
    "\n",
    "* [Official Doc: CoolProp Shared Library](http://www.coolprop.org/coolprop/wrappers/SharedLibrary/index.html#)\n",
    "\n",
    "The example use a MinGW64 64-bit dll: **libCoolProp.dll** of CoolProp\n",
    "\n",
    "\n",
    "* [demo call the shared library](./coolpropdemo)\n",
    "\n",
    "![coolpropdemo](./img/vcr/coolpropdemo.jpg)\n",
    "\n",
    "**Change working dir to `./notebook/coolpropdemo`**"
   ]
  },
  {
   "cell_type": "code",
   "execution_count": 11,
   "metadata": {},
   "outputs": [
    {
     "data": {
      "text/plain": [
       "'J:\\\\SEU\\\\SEE\\\\PySEE\\\\home\\\\notebook\\\\coolpropdemo'"
      ]
     },
     "execution_count": 11,
     "metadata": {},
     "output_type": "execute_result"
    }
   ],
   "source": [
    "%pwd"
   ]
  },
  {
   "cell_type": "code",
   "execution_count": 8,
   "metadata": {},
   "outputs": [
    {
     "name": "stdout",
     "output_type": "stream",
     "text": [
      "J:\\SEU\\SEE\\PySEE\\home\\notebook\\coolpropdemo\n"
     ]
    }
   ],
   "source": [
    "%cd coolpropdemo"
   ]
  },
  {
   "cell_type": "code",
   "execution_count": null,
   "metadata": {},
   "outputs": [],
   "source": [
    "# %load demo.cpp\n",
    "/* \n",
    "The example use a MinGW64 64-bit stdcall dll of CoolProp:\n",
    "\n",
    "g++  -m64 -O3 -o ./bin/demo.exe  -DCOOLPROP_LIB demo.cpp -I./include -L./lib -lCoolProp\n",
    "*/\n",
    "\n",
    "#define EXPORT_CODE extern \"C\" __declspec(dllimport)\n",
    "#define CONVENTION __stdcall\n",
    "#include \"CoolPropLib.h\"\n",
    "#undef EXPORT_CODE\n",
    "#undef CONVENTION\n",
    "\n",
    "#include <iostream>\n",
    "//---------------------------------------------------------------------------\n",
    "int main()\n",
    "{\n",
    "    std::cout <<\"Demo CoolProp\"<< std::endl;\n",
    "    std::cout << PropsSI(\"T\",\"P\",101325,\"Q\",0,\"Water\") << std::endl;\n",
    "    return 1;\n",
    "}"
   ]
  },
  {
   "cell_type": "markdown",
   "metadata": {},
   "source": [
    "编译"
   ]
  },
  {
   "cell_type": "code",
   "execution_count": 12,
   "metadata": {},
   "outputs": [],
   "source": [
    "!g++  -O3 -o ./bin/demo.exe  -DCOOLPROP_LIB demo.cpp -I./include -L./lib -lCoolProp"
   ]
  },
  {
   "cell_type": "markdown",
   "metadata": {},
   "source": [
    "运行"
   ]
  },
  {
   "cell_type": "code",
   "execution_count": 14,
   "metadata": {},
   "outputs": [
    {
     "name": "stdout",
     "output_type": "stream",
     "text": [
      "Demo CoolProp\n",
      "373.124\n"
     ]
    }
   ],
   "source": [
    "!.\\bin\\demo"
   ]
  },
  {
   "cell_type": "code",
   "execution_count": null,
   "metadata": {},
   "outputs": [],
   "source": []
  }
 ],
 "metadata": {
  "kernelspec": {
   "display_name": "Python 3",
   "language": "python",
   "name": "python3"
  },
  "language_info": {
   "codemirror_mode": {
    "name": "ipython",
    "version": 3
   },
   "file_extension": ".py",
   "mimetype": "text/x-python",
   "name": "python",
   "nbconvert_exporter": "python",
   "pygments_lexer": "ipython3",
   "version": "3.7.8"
  },
  "toc": {
   "base_numbering": 1,
   "nav_menu": {},
   "number_sections": false,
   "sideBar": true,
   "skip_h1_title": false,
   "title_cell": "Table of Contents",
   "title_sidebar": "Contents",
   "toc_cell": false,
   "toc_position": {
    "height": "calc(100% - 180px)",
    "left": "10px",
    "top": "150px",
    "width": "165px"
   },
   "toc_section_display": true,
   "toc_window_display": true
  },
  "widgets": {
   "state": {},
   "version": "1.1.2"
  }
 },
 "nbformat": 4,
 "nbformat_minor": 2
}
