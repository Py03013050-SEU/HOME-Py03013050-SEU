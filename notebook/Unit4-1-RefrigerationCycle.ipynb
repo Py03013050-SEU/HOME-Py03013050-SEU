{
 "cells": [
  {
   "cell_type": "markdown",
   "metadata": {},
   "source": [
    "# vapor-compression refrigeration cycle\n",
    "\n",
    "\n",
    "## 1 coolprop\n",
    " \n",
    "\n",
    "CoolProp is a thermophysical property database and wrappers for a selection of programming environments. It offers similar functionality to REFPROP, but CoolProp is open-source and free. It was originally developed by Ian Bell, at the time a post-doc at the University of Liege, in Liege, Belgium.\n",
    "\n",
    "* http://www.coolprop.org/\n",
    "\n",
    "* https://github.com/CoolProp/CoolProp\n",
    "\n",
    "### What is CoolProp?\n",
    "\n",
    "CoolProp is a C++ library that implements:\n",
    "\n",
    "* Pure and pseudo-pure fluid equations of state and transport properties for **122 components**\n",
    "* Mixture properties using high-accuracy Helmholtz energy formulations\n",
    "* Correlations of properties of incompressible fluids and brines\n",
    "* Computationally efficient tabular interpolation\n",
    "* Highest accuracy psychrometric routines\n",
    "* User-friendly interface around the full capabilities of NIST REFPROP\n",
    "* Fast IAPWS-IF97 (Industrial Formulation) for Water/Steam\n",
    "* Cubic equations of state (SRK, PR)\n",
    "\n",
    "### Environments Supported\n",
    "\n",
    "#### Programming Languages:\n",
    "\n",
    "* Fully-featured wrappers: Python (2.x, 3.x), C++ (as static library), C++ as shared library, Modelica, Octave, C#, VB.net, MathCAD, Java, Android, MATLAB\n",
    "\n",
    "* High-level interface only: Labview, EES, Microsoft Excel, LibreOffice, Javascript, PHP, FORTRAN, Maple, Mathematica, Scilab, Delphi & Lazarus, Julia\n",
    "\n",
    "#### Architectures:\n",
    "\n",
    "* 32-bit/64-bit\n",
    "* Windows, Linux, OSX, Raspberry PI, VxWorks Compact Rio, etc. (if you can compile C++ on it, CoolProp will run)\n",
    "\n",
    "\n",
    "\n",
    "### Python Package\n",
    "\n",
    "```\n",
    "\n",
    "pip install coolprop\n",
    "```"
   ]
  },
  {
   "cell_type": "code",
   "execution_count": 4,
   "metadata": {},
   "outputs": [],
   "source": [
    "import CoolProp"
   ]
  },
  {
   "cell_type": "code",
   "execution_count": 5,
   "metadata": {},
   "outputs": [
    {
     "data": {
      "text/plain": [
       "292803.18233949516"
      ]
     },
     "execution_count": 5,
     "metadata": {},
     "output_type": "execute_result"
    }
   ],
   "source": [
    "CoolProp.CoolProp.PropsSI('P', 'T', 273.15+0, 'Q', 1, 'R134a')"
   ]
  },
  {
   "cell_type": "code",
   "execution_count": 6,
   "metadata": {},
   "outputs": [
    {
     "data": {
      "text/plain": [
       "199999.98852614488"
      ]
     },
     "execution_count": 6,
     "metadata": {},
     "output_type": "execute_result"
    }
   ],
   "source": [
    "CoolProp.CoolProp.PropsSI('H', 'T', 273.15+0, 'Q', 0, 'R134a')"
   ]
  },
  {
   "cell_type": "code",
   "execution_count": 7,
   "metadata": {},
   "outputs": [
    {
     "data": {
      "text/plain": [
       "398603.45362765493"
      ]
     },
     "execution_count": 7,
     "metadata": {},
     "output_type": "execute_result"
    }
   ],
   "source": [
    "CoolProp.CoolProp.PropsSI('H', 'T', 273.15+0, 'Q', 1, 'R134a')"
   ]
  },
  {
   "cell_type": "markdown",
   "metadata": {},
   "source": [
    "## 2 Vapor-Compression RefrigerationCycle\n",
    "\n",
    "* https://www.cpp.edu/~tknguyen/che302/home.htm\n",
    "\n",
    "  * https://www.cpp.edu/~tknguyen/che302/Notes/chap7-1.pdf\n",
    "\n",
    "The most common refrigeration cycle is **the vapor-compression refrigeration cycle(VCR)** shown\n",
    "\n",
    "![](./img/vcr/ivcr-ts.jpg)\n",
    "\n",
    "\n",
    "* step 1 -> 2, **Isentropic compression**: saturated vapor at $P_L$ is compress isentropically to $P_H$ where it becomes superheated vapor.\n",
    "\n",
    "* step 2 -> 3, **Isobaric heat rejection**:  heat $Q_H$ is transferred to the surrounding by condensation at $T_H$. \n",
    "\n",
    "* step 3 -> 4, **Isenthalpic expansion**: the cycle is closed by throttling the liquid to the lower pressure $P_L$\n",
    "\n",
    "* step 4 -> 1, **Isobaric heat addition**: heat is removed at the temperature $T_L$ from the system being refrigerated by the evaporation of a liquid under the pressure $P_L$\n",
    "\n",
    "### An ideal vapor-compression refrigeration cycle\n",
    "\n",
    "* https://www.cpp.edu/~tknguyen/che302/home.htm\n",
    "\n",
    "  * https://www.cpp.edu/~tknguyen/che302/Notes/chap7-2.pdf\n",
    "\n",
    "Refrigerant 134a is the working fluid in an ideal vapor-compression refrigeration cycle that\n",
    "communicates thermally with a cold region at 0°C and a warm region at 26°C. \n",
    "\n",
    "Saturated vapor enters the compressor at 0°C and saturated liquid leaves the condenser at 26°C.\n",
    "\n",
    "The mass flow rate of the refrigerant is 0.08 kg/s.\n",
    "\n",
    "**Determine** \n",
    "\n",
    "* (a) the compressor power, in kW,\n",
    "\n",
    "* (b) the refrigeration capacity, in tons, \n",
    "\n",
    "* (c) the coefficient of performance \n",
    "\n",
    "![](./img/vcr/ivcr-example723.jpg)"
   ]
  },
  {
   "cell_type": "markdown",
   "metadata": {},
   "source": [
    "### Refrigeration Cycle Analysis\n",
    "\n",
    "![](./img/vcr/ivcr-analysis.jpg)\n",
    "\n",
    "(a) The compressor work is give by\n",
    "\n",
    "$\\dot{W}_{c}=\\dot{m}*(h_2-h_1)$\n",
    "\n",
    "(b) The refrigeration capacity, in tons, is\n",
    "\n",
    "$\\dot{Q}_{in}=\\dot{m}*(h_1-h_4)*(60s/min)\\frac{1ton}{211 kJ/min}$\n",
    "\n",
    "\n",
    "(c) The coefficient of performance is\n",
    "\n",
    "$COP_c=\\frac{\\dot{Q}_{in}}{\\dot{W}_{c}}=\\frac{h_1-h_4}{h_2-h_1}$\n"
   ]
  },
  {
   "cell_type": "markdown",
   "metadata": {},
   "source": [
    "### Python Code\n",
    "\n",
    "**expressions to code directly**"
   ]
  },
  {
   "cell_type": "code",
   "execution_count": 1,
   "metadata": {},
   "outputs": [
    {
     "name": "stdout",
     "output_type": "stream",
     "text": [
      "The compressor work  1.408652341313441\n",
      "The refrigeration capacity in tons  3.6996514001249\n",
      "The coefficient of performance  9.23609067726025\n"
     ]
    }
   ],
   "source": [
    "import CoolProp.CoolProp as cp\n",
    "mdot=0.08\n",
    "t1=0\n",
    "t3=26;\n",
    "\n",
    "p1=cp.PropsSI('P', 'T', 273.15+t1, 'Q', 1, 'R134a')/1.0e6;\n",
    "h1=cp.PropsSI('H', 'T', 273.15+t1, 'Q', 1, 'R134a')/1000;\n",
    "s1=cp.PropsSI('S', 'T', 273.15+t1, 'Q', 1, 'R134a')/1000;\n",
    "\n",
    "p3=cp.PropsSI('P', 'T', 273.15+t3, 'Q', 0, 'R134a')/1.0e6;\n",
    "h3=cp.PropsSI('H', 'T', 273.15+t3, 'Q', 0, 'R134a')/1000;\n",
    "\n",
    "p2=p3;\n",
    "s2=s1;\n",
    "h2=cp.PropsSI('H', 'P',p2*1.0e6, 'S',s2*1000, 'R134a')/1000;\n",
    "\n",
    "h4=h3;\n",
    "\n",
    "# The compressor work is give by\n",
    "wc=mdot*(h2-h1);\n",
    "# The refrigeration capacity in tons\n",
    "qin=mdot*(h1-h4)*60*(1/211);\n",
    "# The coefficient of performance is\n",
    "cop=(h1-h4)/(h2-h1);\n",
    "\n",
    "print(\"The compressor work \",wc)\n",
    "print(\"The refrigeration capacity in tons \",qin)\n",
    "print(\"The coefficient of performance \",cop)\n",
    "\n"
   ]
  },
  {
   "cell_type": "markdown",
   "metadata": {},
   "source": [
    "### T-s Diagram"
   ]
  },
  {
   "cell_type": "code",
   "execution_count": 36,
   "metadata": {},
   "outputs": [
    {
     "data": {
      "image/png": "[encoded data removed]",
      "text/plain": [
       "<Figure size 720x360 with 1 Axes>"
      ]
     },
     "metadata": {
      "needs_background": "light"
     },
     "output_type": "display_data"
    }
   ],
   "source": [
    "\"\"\"\n",
    "T-s Diagram\n",
    "\"\"\"\n",
    "import CoolProp.CoolProp as cp\n",
    "\n",
    "import matplotlib.pyplot as plt\n",
    "import numpy as np\n",
    "\n",
    "xAxis = \"s\"\n",
    "yAxis = \"T\"\n",
    "title = {\"T\": \"T, °C\", \"s\": \"s, kJ/kgK\"}\n",
    "\n",
    "plt.figure(figsize=(10.0, 5.0))  # figsize :set figure size\n",
    "plt.title(\"%s-%s Diagram\" % (yAxis, xAxis))\n",
    "plt.xlabel(title[xAxis])\n",
    "plt.ylabel(title[yAxis])\n",
    "plt.grid()\n",
    "\n",
    "tc = 101.06\n",
    "T = np.linspace(-20, tc,120)\n",
    "for x in np.array([0, 1.0]):\n",
    "    S=np.array([cp.PropsSI('S', 'T', 273.15+t, 'Q', x, 'R134a')/1000 for t in T])\n",
    "    plt.plot(S, T, 'r', lw=0.5)\n",
    "\n",
    "# cycle\n",
    "t2= cp.PropsSI('T', 'P',p2*1.0e6, 'S',s2*1000, 'R134a')-273.15\n",
    "s3=cp.PropsSI('S', 'P',p2*1.0e6, 'Q',0, 'R134a')/1000\n",
    "t4=t1\n",
    "p4=p1\n",
    "s4=cp.PropsSI('S', 'P',p4*1.0e6, 'H',h4*1000, 'R134a')/1000\n",
    "ta=t3\n",
    "sa=cp.PropsSI('S', 'T',ta+273.15, 'Q',1, 'R134a')/1000\n",
    "\n",
    "t=[t1,t2,ta,t3,t4,t1]\n",
    "s=[s1,s2,sa,s3,s4,s1]\n",
    "plt.plot(s,t, 'b', lw=1.5)\n",
    "\n",
    "plt.annotate('1 ({:.2f},{:.2f})'.format(s[0], t[0]),\n",
    "                 xy=(s[0], t[0]), xycoords='data',\n",
    "                 xytext=(+2, +5), textcoords='offset points', fontsize=12)\n",
    "\n",
    "plt.annotate('2 ({:.2f},{:.2f})'.format(s[1], t[1]),\n",
    "                 xy=(s[1], t[1]), xycoords='data',\n",
    "                 xytext=(+2, +5), textcoords='offset points', fontsize=12)\n",
    "\n",
    "plt.annotate('3 ({:.2f},{:.2f})'.format(s[3], t[3]),\n",
    "                 xy=(s[3], t[3]), xycoords='data',\n",
    "                 xytext=(+1, +15), textcoords='offset points', fontsize=12)\n",
    "\n",
    "plt.annotate('4 ({:.2f},{:.2f})'.format(s[4], t[4]),\n",
    "                 xy=(s[4], t[4]), xycoords='data',\n",
    "                 xytext=(+5, +5), textcoords='offset points', fontsize=12)\n",
    "\n",
    "plt.show()\n"
   ]
  },
  {
   "cell_type": "code",
   "execution_count": null,
   "metadata": {},
   "outputs": [],
   "source": []
  }
 ],
 "metadata": {
  "kernelspec": {
   "display_name": "Python 3.7.7 64-bit",
   "language": "python",
   "name": "python37764bit76bcbdbfab964635b5d7bb5ca10f2b4d"
  },
  "language_info": {
   "codemirror_mode": {
    "name": "ipython",
    "version": 3
   },
   "file_extension": ".py",
   "mimetype": "text/x-python",
   "name": "python",
   "nbconvert_exporter": "python",
   "pygments_lexer": "ipython3",
   "version": "3.7.8"
  },
  "toc": {
   "base_numbering": 1,
   "nav_menu": {},
   "number_sections": true,
   "sideBar": true,
   "skip_h1_title": false,
   "title_cell": "Table of Contents",
   "title_sidebar": "Contents",
   "toc_cell": false,
   "toc_position": {
    "height": "calc(100% - 180px)",
    "left": "10px",
    "top": "150px",
    "width": "236.441px"
   },
   "toc_section_display": true,
   "toc_window_display": true
  }
 },
 "nbformat": 4,
 "nbformat_minor": 4
}
