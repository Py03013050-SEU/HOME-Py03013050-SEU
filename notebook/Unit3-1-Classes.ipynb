{
 "cells": [
  {
   "cell_type": "markdown",
   "metadata": {},
   "source": [
    "# CLASSES"
   ]
  },
  {
   "cell_type": "markdown",
   "metadata": {},
   "source": [
    "## 1 Object-oriented programming \n",
    "\n",
    "We now turn our attention to the **object-oriented programming** topic. \n",
    "\n",
    "\n",
    "The OOP is a programming paradigm based on the concept of **objects**: contain \n",
    "\n",
    "* **attributes(data)** and \n",
    "\n",
    "* the **methods(operations)** that operate on that attributes.\n",
    "\n",
    ">Formally, an object is a collection of data and associated behaviors. \n",
    "\n",
    "The object-oriented programming focus on components that the **user** perceives, with **objects** as the basic unit. \n",
    "\n",
    "We figure out all the objects by putting all the data and operations that describe the user's interaction with the data.\n",
    "\n",
    "![](./img/oop/OOP_Objects.png)\n",
    "\n",
    "As an example, suppose you wish to write a computer **soccer** games (which I consider as a complex application). \n",
    "\n",
    "Using OOP languages, We can model the program accordingly to the **\"real things\"** appear in the soccer games.\n",
    "\n",
    "* Player: attributes include name, number, x and y location in the field, and etc; operations include run, jump, kick-the-ball, and etc.\n",
    "* Ball: attributes include x, y, z position in the field, radius, weight, etc.\n",
    "* Referee:\n",
    "* Field:\n",
    "* Audience:\n",
    "* Weather:\n",
    "\n",
    "\n",
    "Most importantly, some of these classes (such as `Ball and Audience`) can be **reused** in another application, e.g., computer basketball game, with little or no modification.\n",
    "\n",
    "![](./img/oop/soccer.jpg)\n",
    "\n",
    "**Benefits of the Object-Oriented programming**\n",
    "\n",
    "Concepts in the object-oriented approach enable analysts to **break a complex system into smaller, more-manageable modules**, work on the modules individually, and easily piece the modules back together to form an information system.\n",
    "\n",
    "This modularity makes systems development easier to grasp, easier to share among members of a project team, and easier to communicate to users, who are needed to provide requirements and confirm how well the system meets the requirements throughout the systems development process.\n",
    "\n",
    "By modularizing systems development, the project team actually is creating reusable pieces that can be plugged into other systems efforts or used as starting points for other projects. \n",
    "\n",
    "Ultimately, this can save time because new projects don’t have to start completely from scratch\n",
    "\n"
   ]
  },
  {
   "cell_type": "markdown",
   "metadata": {},
   "source": [
    "## 2  Class in Python\n",
    "\n",
    "\n",
    "In Python, using **class** to organize programs in the context of **object-oriented programming**."
   ]
  },
  {
   "cell_type": "code",
   "execution_count": null,
   "metadata": {},
   "outputs": [],
   "source": [
    "class Person:\n",
    "      def __init__(self, name, age):\n",
    "        self.name = name\n",
    "        self.age = age\n",
    "      \n",
    "      def myfunc(self):\n",
    "        print(\"Hello my name is \" + self.name)\n"
   ]
  },
  {
   "cell_type": "code",
   "execution_count": null,
   "metadata": {},
   "outputs": [],
   "source": [
    "p1 = Person(\"Li\",56)\n",
    "p1.myfunc()"
   ]
  },
  {
   "cell_type": "code",
   "execution_count": null,
   "metadata": {},
   "outputs": [],
   "source": [
    "p2=p1\n",
    "p2.age"
   ]
  },
  {
   "cell_type": "code",
   "execution_count": null,
   "metadata": {},
   "outputs": [],
   "source": [
    "p2.age=44\n",
    "p1.age"
   ]
  },
  {
   "cell_type": "markdown",
   "metadata": {},
   "source": [
    "###  2.1  Create an `object` of `class` type \n",
    "use the `class` keyword to define a new type class:`Circle`\n",
    "\n",
    "*  a subclass of `object`\n",
    "\n",
    "```python\n",
    "class Person: \n",
    "```    "
   ]
  },
  {
   "cell_type": "code",
   "execution_count": null,
   "metadata": {},
   "outputs": [],
   "source": [
    "print(type(Person))"
   ]
  },
  {
   "cell_type": "markdown",
   "metadata": {},
   "source": [
    "### 2.2 Creates a set of `attributes` and `methods`\n",
    "\n",
    "An class contains \n",
    "\n",
    "*  **attributes**\n",
    "\n",
    "   * think of data as other objects that make up the class \n",
    "\n",
    "*  **methods**\n",
    "\n",
    "   * think of methods as functions that only work with this class\n",
    "   \n",
    "   * how to interact with the object\n",
    "\n",
    "\n",
    "**Access any attribute**\n",
    "\n",
    "The dot **“`.`”** operator is used to access any attribute\n",
    "\n",
    "* a data attribute of an object\n",
    "\n",
    "* a method of an object\n",
    "\n",
    "#### 2.2.1 attributes\n",
    "\n",
    "class attributes: <b style=\"color:blue\">Instance variable</b>\n",
    "\n",
    "```python\n",
    "self.name\n",
    "self.age\n",
    "```\n",
    "* Every <b style=\"color:blue\">Instance variable</b> begin with <b style=\"color:blue\">self.</b> \n",
    "\n",
    "* One Instance variable can be **defined in any method** `as you need`,begined with <b style=\"color:blue\">self.</b>:\n",
    "\n",
    " \n",
    ">* <b style=\"color:blue\">self</b>: the instance  of  the class\n",
    "\n"
   ]
  },
  {
   "cell_type": "markdown",
   "metadata": {},
   "source": [
    "#### 2.2.2 Methods\n",
    "\n",
    "```python\n",
    "     def __init__(self, name, age):\n",
    "        self.name = name\n",
    "        self.age = age\n",
    "\n",
    "      def myfunc(self):\n",
    "        print(\"Hello my name is \" + self.name)\n",
    "\n",
    "```\n",
    "Every method uses <b style=\"color:blue\">self</b>  as the name of <b style=\"color:blue\">the first argument</b> of all methods\n",
    "\n",
    ">* Python always passes the **object** as the `first` argument.\n",
    "\n",
    "##### 2.2.2.1 The  Magic method `__init__` \n",
    "\n",
    "The magic method names that start and end with **two** underscores <b style=\"color:blue\">__</b>. \n",
    "\n",
    "**Constructor  `__init__()`** : create instances of the class.\n",
    "\n",
    "* Whenever a class is **instantiated**, a call is made to the `__init__` method defined in that class.\n",
    "\n",
    "```python\n",
    "   def __init__(self, name, age):\n",
    "        self.name = name\n",
    "        self.age = age\n",
    "\n",
    "```"
   ]
  },
  {
   "cell_type": "markdown",
   "metadata": {},
   "source": [
    "#####  2.2.2.2 The  methods to output string \n",
    "\n",
    "```python\n",
    "    def myfunc(self):\n",
    "        print(\"Hello my name is \" + self.name)\n",
    "\n",
    "```            "
   ]
  },
  {
   "cell_type": "code",
   "execution_count": null,
   "metadata": {},
   "outputs": [],
   "source": [
    "p1.myfunc()"
   ]
  },
  {
   "cell_type": "markdown",
   "metadata": {},
   "source": []
  },
  {
   "cell_type": "markdown",
   "metadata": {},
   "source": [
    "## 3 The Magic Method `__str__`  \n",
    "\n",
    "Add the Magic Method `__str__`  to the class Circle\n",
    "\n",
    ">**Magic Method：**\n",
    ">\n",
    ">One of the design goals for Python was to allow programmers to use classes to define new types that are as easy to **use as the `built-in` types** of Python. \n",
    ">\n",
    ">Using magic methods to provide **class-specific definitions of `built-in` functions** such as `str` plays an important role in achieving this goal."
   ]
  },
  {
   "cell_type": "code",
   "execution_count": null,
   "metadata": {},
   "outputs": [],
   "source": [
    "class Person:\n",
    "    def __init__(self, name, age):\n",
    "        self.name = name\n",
    "        self.age = age\n",
    "    \n",
    "    def myfunc(self):\n",
    "        print(\"Hello my name is \" + self.name)\n",
    "    \n",
    "    def __str__(self):\n",
    "        \"\"\"Returns a string representation of  Person\"\"\"\n",
    "        return  f\"The age of {self.name} is {self.age}\"  "
   ]
  },
  {
   "cell_type": "markdown",
   "metadata": {},
   "source": [
    "### 3.1 the `print` command\n",
    "\n",
    "the **`__str__`** function associated with the object to be `printed` is **automatically invoked**"
   ]
  },
  {
   "cell_type": "code",
   "execution_count": null,
   "metadata": {},
   "outputs": [],
   "source": [
    "p1=Person(\"zhang shan\",21)\n",
    "#p1.__str__()\n",
    "print(p1)"
   ]
  },
  {
   "cell_type": "markdown",
   "metadata": {},
   "source": [
    "### 3.2  calling `str`\n",
    "\n",
    "the `__str__` function is automatically invoked to convert a instance of that class a string"
   ]
  },
  {
   "cell_type": "code",
   "execution_count": null,
   "metadata": {},
   "outputs": [],
   "source": [
    "str(p1)"
   ]
  },
  {
   "cell_type": "code",
   "execution_count": null,
   "metadata": {},
   "outputs": [],
   "source": [
    "p1.__str__()"
   ]
  },
  {
   "cell_type": "markdown",
   "metadata": {},
   "source": [
    "### 3.3 Build-in `__str__`\n",
    "\n",
    "* List,dict,tuple"
   ]
  },
  {
   "cell_type": "code",
   "execution_count": null,
   "metadata": {},
   "outputs": [],
   "source": [
    "l=[1,2,3]\n",
    "print(l)\n",
    "str(l)"
   ]
  },
  {
   "cell_type": "code",
   "execution_count": null,
   "metadata": {},
   "outputs": [],
   "source": [
    "l.__str__()"
   ]
  },
  {
   "cell_type": "code",
   "execution_count": null,
   "metadata": {},
   "outputs": [],
   "source": [
    "d={'a':1,'b':2}\n",
    "print(d)\n",
    "str(d)"
   ]
  },
  {
   "cell_type": "code",
   "execution_count": null,
   "metadata": {},
   "outputs": [],
   "source": [
    "d.__str__()"
   ]
  },
  {
   "cell_type": "code",
   "execution_count": null,
   "metadata": {},
   "outputs": [],
   "source": [
    "t=('a',1,'c')\n",
    "print(t)\n",
    "str(t)"
   ]
  },
  {
   "cell_type": "code",
   "execution_count": null,
   "metadata": {},
   "outputs": [],
   "source": [
    "t.__str__()"
   ]
  },
  {
   "cell_type": "markdown",
   "metadata": {},
   "source": [
    "## 4 Inheritance\n",
    "\n",
    "**Inheritance** provides a convenient mechanism for building **groups of `related` abstractions**\n",
    "\n",
    "It allows programmers to create <b>a type hierarchy</b> in which each type inherits attributes from the types above it in the hierarchy.\n",
    "\n",
    "```python\n",
    "class subclass(superclass):\n",
    "```\n",
    "\n",
    "### 4.1 The class  Student`\n",
    "\n",
    " We shall define a **Student** class, as a subclass of **Person**. \n",
    " ```python\n",
    " class Student(Person):\n",
    " ```\n"
   ]
  },
  {
   "cell_type": "code",
   "execution_count": null,
   "metadata": {},
   "outputs": [],
   "source": [
    "class Student(Person):\n",
    "    \n",
    "    next_id_num = 0 #identification number\n",
    "    \n",
    "    def __init__(self, name,age):\n",
    "        super().__init__(name,age)\n",
    "        self.id_num = Student.next_id_num\n",
    "        Student.next_id_num += 1\n",
    "   \n",
    "    def __str__(self):\n",
    "        \"\"\"Returns a string representation of  Student\"\"\"\n",
    "        return  f\"The Student {self.id_num} : name is {self.name},age is {self.age}\"  \n"
   ]
  },
  {
   "cell_type": "markdown",
   "metadata": {},
   "source": [
    "\n"
   ]
  },
  {
   "cell_type": "markdown",
   "metadata": {},
   "source": [
    "The subclass Student add **new** attributes: \n",
    "\n",
    "* **the class  variable(类变量)**: \n",
    "\n",
    "  * `_next_id_num`, belongs to the class` Student`, rather than to instances of the class.\n",
    ">* belongs to the class\n",
    ">* shared by all instance of the classs\n",
    "\n",
    "* **the instance variable(实例变量)**:\n",
    "  * `_id_num`： id of each cyclinder instance\n",
    "\n",
    "override methods: \n",
    "\n",
    "* `__str__(self)`:\n"
   ]
  },
  {
   "cell_type": "markdown",
   "metadata": {},
   "source": [
    "**s1 = Student(name=\"Li Shi\",age=22)**"
   ]
  },
  {
   "cell_type": "code",
   "execution_count": null,
   "metadata": {},
   "outputs": [],
   "source": [
    "s1 = Student(name=\"Li Shi\",age=22)\n",
    "print(s1)  "
   ]
  },
  {
   "cell_type": "markdown",
   "metadata": {},
   "source": [
    "**Class variable**\n",
    "\n",
    "* belongs to the class\n",
    "\n",
    "* shared by all instance of the classs"
   ]
  },
  {
   "cell_type": "code",
   "execution_count": null,
   "metadata": {},
   "outputs": [],
   "source": [
    "print(Student.next_id_num) # belongs to the class"
   ]
  },
  {
   "cell_type": "code",
   "execution_count": null,
   "metadata": {},
   "outputs": [],
   "source": [
    "print(s1.next_id_num)  #  shared by all instance of the classs"
   ]
  },
  {
   "cell_type": "markdown",
   "metadata": {},
   "source": [
    "**s2 = Student(name=\"wang yi\", age=20)**"
   ]
  },
  {
   "cell_type": "code",
   "execution_count": null,
   "metadata": {},
   "outputs": [],
   "source": [
    "s2 =Student(\"wang yi\", 20)\n",
    "print(s2)   "
   ]
  },
  {
   "cell_type": "markdown",
   "metadata": {},
   "source": [
    "## 5  Private Variables and Methods in Python\n",
    "\n",
    "Python does not have keywords to access control.\n",
    "\n",
    "In other words,\n",
    "\n",
    "* All  attributes and methods are <b style=\"color:blue\">PUBLIC</b> by default in Python\n",
    "\n",
    "By convention, \n",
    "\n",
    "* Names begin with **double underscores (`__`)** and **not end with double underscores** are further hidden from direct access \n"
   ]
  },
  {
   "cell_type": "code",
   "execution_count": null,
   "metadata": {},
   "outputs": [],
   "source": [
    "class Student(Person):\n",
    "    \n",
    "    next_id_num = 0 #identification number\n",
    "    \n",
    "    def __init__(self, name,age):\n",
    "        super().__init__(name,age)\n",
    "        self.id_num = Student.next_id_num\n",
    "        Student.next_id_num += 1\n",
    "       \n",
    "    def add_grades(self,grades):\n",
    "        self.grades=grades\n",
    "        self.avg_grade=self.__get_average_grade()\n",
    "        self.__min_grade=min(self.grades)\n",
    "  \n",
    "    def __get_average_grade(self):\n",
    "        self.ave_grade= sum(self.grades)/len(self.grades)\n",
    "   \n",
    "    def __str__(self):\n",
    "        \"\"\"Returns a string representation of  Student\"\"\"\n",
    "        if self.__min_grade>=60.0:\n",
    "            return  f\"The Student {self._id_num} : name is {self.name},age is {self.age},ave grade {self.ave_grade}\"  \n",
    "        else:\n",
    "            return  \"The Student ...\"  \n",
    "        \n",
    "\n"
   ]
  },
  {
   "cell_type": "code",
   "execution_count": null,
   "metadata": {},
   "outputs": [],
   "source": [
    "s3 =Student(\"wang yi\", 20)"
   ]
  },
  {
   "cell_type": "markdown",
   "metadata": {},
   "source": [
    "**Public**"
   ]
  },
  {
   "cell_type": "code",
   "execution_count": null,
   "metadata": {},
   "outputs": [],
   "source": [
    "s3.add_grades([100,90,80,50])"
   ]
  },
  {
   "cell_type": "code",
   "execution_count": null,
   "metadata": {},
   "outputs": [],
   "source": [
    "s3.ave_grade"
   ]
  },
  {
   "cell_type": "markdown",
   "metadata": {},
   "source": [
    "**Private**"
   ]
  },
  {
   "cell_type": "code",
   "execution_count": null,
   "metadata": {},
   "outputs": [],
   "source": [
    "s3.__get_average_grade()"
   ]
  },
  {
   "cell_type": "code",
   "execution_count": null,
   "metadata": {},
   "outputs": [],
   "source": [
    "s3.__min_grade"
   ]
  },
  {
   "cell_type": "markdown",
   "metadata": {},
   "source": [
    "## 6 The UML class diagram\n",
    "\n",
    "The [Unified Modeling Language(UML统一建模语言)](https://en.wikipedia.org/wiki/Unified_Modeling_Language) is a general-purpose, developmental, modeling language in the field of software engineering that is intended to provide a standard way to visualize the design of a system.\n",
    "\n",
    "[A class diagram](https://en.wikipedia.org/wiki/Class_diagram) in UML is a type of static structure diagram that describes the structure of a system by showing the system's classes:\n",
    "\n",
    "* **attributes**, **operations (or methods)**, and the **relationships** among objects.\n",
    "\n",
    "In the diagram, **classes** are represented with **boxes** that contain **three compartments**:\n",
    "\n",
    "* The **top** compartment contains the **name** of the class\n",
    "\n",
    "* The **middle** compartment contains the **attributes** of the class\n",
    "\n",
    "* The **bottom** compartment contains the **operations** the class can execute. \n",
    "\n",
    "![](./img/oop/OOP_ThreeCompartment.png)\n",
    "\n",
    "### 6.1 The **[UML class diagram](https://en.wikipedia.org/wiki/Class_diagram) of Person**\n",
    "\n",
    "UML provides mechanisms to represent class members, such as \n",
    "\n",
    "* **attributes** and **methods**, and\n",
    "\n",
    "* additional information about them like **constructors**\n",
    "\n",
    "![](./img/oop/person.jpg)\n",
    "\n",
    "#### 6.1.1 Visibility\n",
    "\n",
    "To specify the visibility of a class member (i.e. any attribute or method), these notations must be placed before the member's name:\n",
    "\n",
    "\n",
    "| Visibility | UML Character |Icon for field in PlantUML      |Icon for method in PlantUML |\n",
    "|:---------:|:--------: |:------------------------------------: |:--------------------------: |\n",
    "| private  |  -        |         □      |    ■     |\n",
    "| public   |  +         |           ○      |    ●     |\n",
    "\n",
    "#### 6.1.2 Scope\n",
    "\n",
    "The UML specifies two types of scope for members:\n",
    "\n",
    "* **instance**\n",
    "* **class**,  is represented by <u>**underlined**</u> names.\n",
    "\n",
    "**Instance members** are scoped to a **specific** instance.\n",
    " \n",
    "* Attribute values may vary between instances\n",
    "* Method invocation may affect the instance’s state (i.e. change instance’s attributes)\n",
    "\n",
    "**Class members** are commonly recognized as **“static”** in many programming languages. The scope is the class itself.\n",
    " \n",
    "* Attribute values are equal for **all** instances\n",
    "* Method invocation does not affect the classifier’s state\n",
    "\n",
    "**Constructors** are shown like **static** methods in the Class Diagrams form `class(arguments)` and are underlined\n"
   ]
  },
  {
   "cell_type": "markdown",
   "metadata": {},
   "source": [
    "#### 6.1.3 PlantUML\n",
    "\n",
    "[PlantUML is a component that allows to quickly write: Class Diagram](https://plantuml.com/zh/class-diagram)\n",
    "\n",
    "![person_puml](./img/oop/person_puml.jpg)\n",
    "\n",
    ">\n",
    ">python -m pip install iplantuml\n",
    ">"
   ]
  },
  {
   "cell_type": "code",
   "execution_count": null,
   "metadata": {},
   "outputs": [],
   "source": [
    "import iplantuml"
   ]
  },
  {
   "cell_type": "code",
   "execution_count": null,
   "metadata": {},
   "outputs": [],
   "source": [
    "%%plantuml\n",
    "class Person {\n",
    "  + name: str\n",
    "  + age: int\n",
    "  + {static} Person(name:str.age:int)\n",
    "  + myfunc()\n",
    "  + __str()__:str\n",
    "}"
   ]
  },
  {
   "cell_type": "markdown",
   "metadata": {},
   "source": [
    "\n",
    "\n",
    "### 6.2 The UML class Inheritance\n",
    "\n",
    "#### 6.2.1 The Class-level(类) relationship: Inheritance\n",
    "\n",
    "If two classes are in an **inheritance** relation, \n",
    "\n",
    "* the subclass inherits its attributes and methods from the superclass.\n",
    "\n",
    "The UML graphical representation of **an inheritance relation** is **a hollow triangle shape** on the **superclass end** of the line (or tree of lines) that connects it to one or more subclasses.\n",
    "\n",
    "![inheritance](./img/oop/inheritance.jpg)\n",
    "\n",
    "#### 6.2.2 The UML Inheritance\n",
    "\n",
    "![student](./img/oop/student.jpg)\n",
    "\n"
   ]
  },
  {
   "cell_type": "markdown",
   "metadata": {},
   "source": [
    "**PlatUML**\n",
    "\n",
    "![student_puml](./img/oop/student_puml.jpg)\n"
   ]
  },
  {
   "cell_type": "code",
   "execution_count": null,
   "metadata": {},
   "outputs": [],
   "source": [
    "%%plantuml\n",
    "class Person {\n",
    "  + name: str\n",
    "  + age: int\n",
    "  + {static} Person(name:str.age:int)\n",
    "  + myfunc()\n",
    "  + __str()__:str\n",
    "}\n",
    "\n",
    "class Student{\n",
    "  + {static} next_id_num:int\n",
    "  + id_num:int\n",
    "  + grades: float [1..*]\n",
    "  + ave_grade:float\n",
    "  - __min_grade:float\n",
    "  + {static} Student(name:str,age:int)\n",
    "  + add_grades(grades:float [1..*]):void\n",
    "  - __get_average_grade():void\n",
    "  + __str__():str\n",
    "}\n",
    "\n",
    "Person <|-- Student\n"
   ]
  },
  {
   "cell_type": "markdown",
   "metadata": {},
   "source": [
    "### 6.3 Reverse Python Code to UML\n",
    "\n",
    "The **Reverse** is a process to produce UML class model from a given input of **source code**.\n",
    "\n",
    "**逆向工程**\n",
    "\n",
    "By bringing **code** content into visual **UML** model, this helps programmers or software engineers to \n",
    "\n",
    "**review an implementation, identify potential bugs or deficiency and look for possible improvements**.\n",
    "\n",
    "**Tools**\n",
    "\n",
    "* pyrevers [Creating UML diagrams for Python code with pyrevers](https://gitee.com/thermalogic/sees/blob/S2019/guide/UMLPython.md)\n",
    "\n",
    "* pynsource [Reverse engineer Python source code into UML diagrams](https://www.pynsource.com/)"
   ]
  },
  {
   "cell_type": "markdown",
   "metadata": {},
   "source": [
    "## Further Reading: \n",
    "\n",
    "\n",
    "* [Python Object Oriented Programming (OOP)](http://www3.ntu.edu.sg/home/ehchua/programming/webprogramming/Python1a_OOP.html)\n",
    "* [Unified Modeling Language](https://en.wikipedia.org/wiki/Unified_Modeling_Language)\n",
    "* [The UML Class diagram](https://en.wikipedia.org/wiki/Class_diagram)\n",
    "\n",
    "**PlantUML**\n",
    "\n",
    " * [PlantUML:Class Diagram](https://plantuml.com/zh/class-diagram)\n",
    " \n",
    " * [The Class Diagrams of VCCE in PlantUML](https://gitee.com/thermalogic/simvcce/tree/B2022/uml/)"
   ]
  },
  {
   "cell_type": "code",
   "execution_count": null,
   "metadata": {},
   "outputs": [],
   "source": []
  }
 ],
 "metadata": {
  "kernelspec": {
   "display_name": "Python 3",
   "language": "python",
   "name": "python3"
  },
  "language_info": {
   "codemirror_mode": {
    "name": "ipython",
    "version": 3
   },
   "file_extension": ".py",
   "mimetype": "text/x-python",
   "name": "python",
   "nbconvert_exporter": "python",
   "pygments_lexer": "ipython3",
   "version": "3.8.7"
  },
  "latex_envs": {
   "LaTeX_envs_menu_present": true,
   "autoclose": false,
   "autocomplete": true,
   "bibliofile": "biblio.bib",
   "cite_by": "apalike",
   "current_citInitial": 1,
   "eqLabelWithNumbers": true,
   "eqNumInitial": 1,
   "hotkeys": {
    "equation": "Ctrl-E",
    "itemize": "Ctrl-I"
   },
   "labels_anchors": false,
   "latex_user_defs": false,
   "report_style_numbering": false,
   "user_envs_cfg": false
  },
  "toc": {
   "base_numbering": 1,
   "nav_menu": {},
   "number_sections": false,
   "sideBar": true,
   "skip_h1_title": false,
   "title_cell": "Table of Contents",
   "title_sidebar": "Contents",
   "toc_cell": false,
   "toc_position": {
    "height": "calc(100% - 180px)",
    "left": "10px",
    "top": "150px",
    "width": "165px"
   },
   "toc_section_display": true,
   "toc_window_display": true
  },
  "widgets": {
   "state": {},
   "version": "1.1.2"
  }
 },
 "nbformat": 4,
 "nbformat_minor": 1
}
