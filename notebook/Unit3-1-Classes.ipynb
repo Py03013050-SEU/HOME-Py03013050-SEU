{
 "cells": [
  {
   "cell_type": "markdown",
   "metadata": {},
   "source": [
    "# CLASSES"
   ]
  },
  {
   "cell_type": "markdown",
   "metadata": {},
   "source": [
    "## 1 Object-oriented programming \n",
    "\n",
    "We now turn our attention to the **object-oriented programming** topic. \n",
    "\n",
    "The OOP is a programming paradigm based on the concept of **objects**: contain \n",
    "\n",
    "* **attributes(data)** and \n",
    "\n",
    "* the **methods(operations)** that operate on that attributes.\n",
    "\n",
    "The object-oriented programming focus on components that the **user** perceives, with **objects** as the basic unit. \n",
    "\n",
    "We figure out all the objects by putting all the data and operations that describe the user's interaction with the data.\n",
    "\n",
    "![](./img/oop/OOP_Objects.png)\n",
    "\n",
    "As an example, suppose you wish to write a computer **soccer** games (which I consider as a complex application). \n",
    "\n",
    "Using OOP languages, We can model the program accordingly to the **\"real things\"** appear in the soccer games.\n",
    "\n",
    "* Player: attributes include name, number, x and y location in the field, and etc; operations include run, jump, kick-the-ball, and etc.\n",
    "* Ball: attributes include x, y, z position in the field, radius, weight, etc.\n",
    "* Referee:\n",
    "* Field:\n",
    "* Audience:\n",
    "* Weather:\n",
    "\n",
    "\n",
    "Most importantly, some of these classes (such as `Ball and Audience`) can be **reused** in another application, e.g., computer basketball game, with little or no modification.\n",
    "\n",
    "![](./img/oop/soccer.jpg)\n",
    "\n",
    "Object-Oriented programming has many benefits:\n",
    "\n",
    "* **Ease in software design** as you could think in the problem space rather than the machine's bits and bytes. You are dealing with high-level concepts and abstractions. Ease in design leads to more productive software development.\n",
    "\n",
    "* **Ease in software maintenance**: object-oriented software are easier to understand, therefore easier to test, debug, and maintain.\n",
    " \n",
    "* **Reusable software**: you don't need to keep re-inventing the wheels and re-write the same functions for different situations. The fastest and safest way of developing a new application is to reuse existing codes - fully tested and proven codes.\n",
    "\n",
    "\n"
   ]
  },
  {
   "cell_type": "markdown",
   "metadata": {},
   "source": [
    "## 2  Class in Python\n",
    "\n",
    "\n",
    "In Python, using **class** to organize programs in the context of **object-oriented programming**."
   ]
  },
  {
   "cell_type": "code",
   "execution_count": 1,
   "metadata": {},
   "outputs": [],
   "source": [
    "from math import pi\n",
    " \n",
    "class Circle:   \n",
    "    \"\"\"A Circle instance models a circle with a radius\"\"\"\n",
    " \n",
    "    def __init__(self, radius=1.0):\n",
    "        \"\"\"Initializer with default radius of 1.0\"\"\"\n",
    "        self.radius = radius  # Create an instance variable radius\n",
    "    \n",
    "    def cal_area(self):\n",
    "        \"\"\"the area of this Circle instance\"\"\"\n",
    "        self.area=self.radius * self.radius * pi "
   ]
  },
  {
   "cell_type": "code",
   "execution_count": 2,
   "metadata": {},
   "outputs": [
    {
     "name": "stdout",
     "output_type": "stream",
     "text": [
      "The Circle: radius = 2.10, Area  = 13.85\n"
     ]
    }
   ],
   "source": [
    "radius=2.1\n",
    "c1=Circle(radius)\n",
    "c1.cal_area()\n",
    "print(\"The Circle: radius = {:.2f}, Area  = {:.2f}\".format(c1.radius,c1.area))"
   ]
  },
  {
   "cell_type": "markdown",
   "metadata": {},
   "source": [
    "###  2.1  Create an `object` of `class` type \n",
    "use the `class` keyword to define a new type class:`Circle`\n",
    "\n",
    "*  a subclass of `object`\n",
    "\n",
    "```python\n",
    "class Circle: \n",
    "    \"\"\"A Circle instance models a circle with a radius\"\"\" \n",
    "```    "
   ]
  },
  {
   "cell_type": "code",
   "execution_count": 3,
   "metadata": {},
   "outputs": [
    {
     "name": "stdout",
     "output_type": "stream",
     "text": [
      "<class 'type'>\n"
     ]
    }
   ],
   "source": [
    "print(type(Circle))"
   ]
  },
  {
   "cell_type": "markdown",
   "metadata": {},
   "source": [
    "### 2.2 Creates a set of `attributes` and `methods`\n",
    "\n",
    "An class contains \n",
    "\n",
    "*  **attributes**\n",
    "\n",
    "   * think of data as other objects that make up the class \n",
    "\n",
    "*  **methods**\n",
    "\n",
    "   * think of methods as functions that only work with this class\n",
    "   \n",
    "   * how to interact with the object\n",
    "\n",
    "\n",
    "**Access any attribute**\n",
    "\n",
    "The dot **“`.`”** operator is used to access any attribute\n",
    "\n",
    "* a data attribute of an object\n",
    "\n",
    "* a method of an object\n",
    "\n",
    "#### 2.2.1 attributes\n",
    "\n",
    "class attributes: <b style=\"color:blue\">Instance variable</b>\n",
    "\n",
    "```python\n",
    "self.radius // def __init__(self, radius=1.0):\n",
    "self.area // def cal_area(self):\n",
    "```\n",
    "* Every <b style=\"color:blue\">Instance variable</b> begin with <b style=\"color:blue\">self.</b> \n",
    "\n",
    "* One Instance variable can be **defined in any method** `as you need`,begined with <b style=\"color:blue\">self.</b>:\n",
    "\n",
    " \n",
    ">* <b style=\"color:blue\">self</b>: the instance  of  the class\n",
    "\n"
   ]
  },
  {
   "cell_type": "markdown",
   "metadata": {},
   "source": [
    "#### 2.2.2 Methods\n",
    "\n",
    "```python\n",
    "    def __init__(self, radius=1.0):\n",
    "        \"\"\"Initializer with default radius of 1.0\"\"\"\n",
    "        self.radius = radius  # Create an instance variable radius\n",
    "    \n",
    "    def cal_area(self):\n",
    "        \"\"\"the area of this Circle instance\"\"\"\n",
    "        self.area=self.radius * self.radius * pi \n",
    "```\n",
    "Every method uses <b style=\"color:blue\">self</b>  as the name of <b style=\"color:blue\">the first argument</b> of all methods\n",
    "\n",
    ">* Python always passes the **object** as the `first` argument.\n",
    "\n",
    "##### 2.2.2.1 The  special method `__init__` \n",
    "\n",
    "The Special method names that start and end with **two** underscores <b style=\"color:blue\">__</b>. \n",
    "\n",
    "**Constructor  `__init__()`** : create instances of the class.\n",
    "\n",
    "* Whenever a class is **instantiated**, a call is made to the `__init__` method defined in that class.\n",
    "\n",
    "```python\n",
    "def __init__(self, r=1.0):\n",
    "    \"\"\"Initializer with default radius of 1.0\"\"\"\n",
    "    self.__radius = r  # Create an instance variable radius\n",
    "```"
   ]
  },
  {
   "cell_type": "code",
   "execution_count": 4,
   "metadata": {},
   "outputs": [
    {
     "data": {
      "text/plain": [
       "<__main__.Circle at 0x1e3d4219ac0>"
      ]
     },
     "execution_count": 4,
     "metadata": {},
     "output_type": "execute_result"
    }
   ],
   "source": [
    "c1=Circle()\n",
    "c1"
   ]
  },
  {
   "cell_type": "markdown",
   "metadata": {},
   "source": [
    "#####  2.2.2.2 The  methods to get the  area of this Circle \n",
    "\n",
    "```python\n",
    "    def cal_area(self):\n",
    "        \"\"\"the area of this Circle instance\"\"\"\n",
    "        self.area=self.radius * self.radius * pi \n",
    "```            "
   ]
  },
  {
   "cell_type": "code",
   "execution_count": 5,
   "metadata": {},
   "outputs": [],
   "source": [
    "c1.cal_area()"
   ]
  },
  {
   "cell_type": "markdown",
   "metadata": {},
   "source": []
  },
  {
   "cell_type": "markdown",
   "metadata": {},
   "source": [
    "## 3 The Special Method `__str__`  \n",
    "\n",
    "Add the Special Method `__str__`  to the class Circle"
   ]
  },
  {
   "cell_type": "code",
   "execution_count": 6,
   "metadata": {},
   "outputs": [],
   "source": [
    "from math import pi\n",
    " \n",
    "class Circle:  \n",
    "    \"\"\"A Circle instance models a circle with a radius\"\"\"\n",
    " \n",
    "    def __init__(self, radius=1.0):\n",
    "        \"\"\"Initializer with default radius of 1.0\"\"\"\n",
    "        self.radius = radius  # an instance variable radius\n",
    "        self.area=None  # init self.area=None\n",
    "   \n",
    "    def cal_area(self):\n",
    "        \"\"\"the area of this Circle instance\"\"\"\n",
    "        self.area= self.radius * self.radius * pi  \n",
    "    \n",
    "    def __str__(self):\n",
    "        \"\"\"Returns a string representation of  Circle\"\"\"\n",
    "        if self.area is not None:\n",
    "            result = \"The Circle: radius={:.3f},area={:.3f}\".format(self.radius,self.area)\n",
    "        else:\n",
    "            result =\"The Circle: radius={:.3f},area=None\".format(self.radius)\n",
    "        return  result  "
   ]
  },
  {
   "cell_type": "markdown",
   "metadata": {},
   "source": [
    "### 3.1 the `print` command\n",
    "\n",
    "the **`__str__`** function associated with the object to be `printed` is **automatically invoked**"
   ]
  },
  {
   "cell_type": "code",
   "execution_count": 7,
   "metadata": {},
   "outputs": [
    {
     "name": "stdout",
     "output_type": "stream",
     "text": [
      "The Circle: radius=2.100,area=None\n",
      "The Circle: radius=2.100,area=13.854\n"
     ]
    }
   ],
   "source": [
    "c1=Circle(2.1)\n",
    "print(c1)\n",
    "c1.cal_area()\n",
    "print(c1)"
   ]
  },
  {
   "cell_type": "markdown",
   "metadata": {},
   "source": [
    "### 3.2  calling `str`\n",
    "\n",
    "the `__str__` function is automatically invoked to convert a instance of that class a string"
   ]
  },
  {
   "cell_type": "code",
   "execution_count": 8,
   "metadata": {},
   "outputs": [
    {
     "data": {
      "text/plain": [
       "'The Circle: radius=2.100,area=13.854'"
      ]
     },
     "execution_count": 8,
     "metadata": {},
     "output_type": "execute_result"
    }
   ],
   "source": [
    "str(c1)"
   ]
  },
  {
   "cell_type": "code",
   "execution_count": 9,
   "metadata": {},
   "outputs": [
    {
     "data": {
      "text/plain": [
       "'The Circle: radius=2.100,area=13.854'"
      ]
     },
     "execution_count": 9,
     "metadata": {},
     "output_type": "execute_result"
    }
   ],
   "source": [
    "c1.__str__()"
   ]
  },
  {
   "cell_type": "markdown",
   "metadata": {},
   "source": [
    "### 3.3 Build-in `__str__`\n",
    "\n",
    "* List,dict,tuple"
   ]
  },
  {
   "cell_type": "code",
   "execution_count": 10,
   "metadata": {},
   "outputs": [
    {
     "name": "stdout",
     "output_type": "stream",
     "text": [
      "[1, 2, 3]\n"
     ]
    },
    {
     "data": {
      "text/plain": [
       "'[1, 2, 3]'"
      ]
     },
     "execution_count": 10,
     "metadata": {},
     "output_type": "execute_result"
    }
   ],
   "source": [
    "l=[1,2,3]\n",
    "print(l)\n",
    "str(l)"
   ]
  },
  {
   "cell_type": "code",
   "execution_count": 11,
   "metadata": {},
   "outputs": [
    {
     "data": {
      "text/plain": [
       "'[1, 2, 3]'"
      ]
     },
     "execution_count": 11,
     "metadata": {},
     "output_type": "execute_result"
    }
   ],
   "source": [
    "l.__str__()"
   ]
  },
  {
   "cell_type": "code",
   "execution_count": 12,
   "metadata": {},
   "outputs": [
    {
     "name": "stdout",
     "output_type": "stream",
     "text": [
      "{'a': 1, 'b': 2}\n"
     ]
    },
    {
     "data": {
      "text/plain": [
       "\"{'a': 1, 'b': 2}\""
      ]
     },
     "execution_count": 12,
     "metadata": {},
     "output_type": "execute_result"
    }
   ],
   "source": [
    "d={'a':1,'b':2}\n",
    "print(d)\n",
    "str(d)"
   ]
  },
  {
   "cell_type": "code",
   "execution_count": 13,
   "metadata": {},
   "outputs": [
    {
     "data": {
      "text/plain": [
       "\"{'a': 1, 'b': 2}\""
      ]
     },
     "execution_count": 13,
     "metadata": {},
     "output_type": "execute_result"
    }
   ],
   "source": [
    "d.__str__()"
   ]
  },
  {
   "cell_type": "code",
   "execution_count": 14,
   "metadata": {},
   "outputs": [
    {
     "name": "stdout",
     "output_type": "stream",
     "text": [
      "('a', 1, 'c')\n"
     ]
    },
    {
     "data": {
      "text/plain": [
       "\"('a', 1, 'c')\""
      ]
     },
     "execution_count": 14,
     "metadata": {},
     "output_type": "execute_result"
    }
   ],
   "source": [
    "t=('a',1,'c')\n",
    "print(t)\n",
    "str(t)"
   ]
  },
  {
   "cell_type": "code",
   "execution_count": 15,
   "metadata": {},
   "outputs": [
    {
     "data": {
      "text/plain": [
       "\"('a', 1, 'c')\""
      ]
     },
     "execution_count": 15,
     "metadata": {},
     "output_type": "execute_result"
    }
   ],
   "source": [
    "t.__str__()"
   ]
  },
  {
   "cell_type": "markdown",
   "metadata": {},
   "source": [
    "## 4 Inheritance\n",
    "\n",
    "**Inheritance** provides a convenient mechanism for building **groups of `related` abstractions**\n",
    "\n",
    "It allows programmers to create <b>a type hierarchy</b> in which each type inherits attributes from the types above it in the hierarchy.\n",
    "\n",
    "```python\n",
    "class subclass(superclass):\n",
    "```\n",
    "\n",
    "### 4.1 The class `Cylinder`\n",
    "\n",
    " We shall define a **Cylinder** class, as a subclass of **Circle**. \n",
    " ```python\n",
    " class Cylinder(Circle):\n",
    " ```\n",
    " * The Cylinder class inherit attributes **radius** from the superclass **Circle** and \n",
    " * **add** its own attributes  and methods \n",
    "\n",
    " ![cylinder](./img/R-C.jpg)\n"
   ]
  },
  {
   "cell_type": "code",
   "execution_count": 33,
   "metadata": {},
   "outputs": [],
   "source": [
    "class Cylinder(Circle):\n",
    "    \"\"\"The Cylinder class is a subclass of Circle\"\"\"\n",
    "    \n",
    "    nextIdNum = 1 # the class variable: identification number,begin with 1 \n",
    "   \n",
    "    def __init__(self, radius = 1.0, height = 1.0):\n",
    "        \"\"\"Initializer\"\"\"\n",
    "        super().__init__(radius)  # Invoke superclass' initializer (Python 3)\n",
    "        # Circle.__init__(self, radius)  # Explicit superclass class\n",
    "        self.idNum = Cylinder.nextIdNum # id of each cyclinder instance\n",
    "        Cylinder.nextIdNum += 1 # identification number\n",
    "        self.height = height\n",
    "        self.volume=None\n",
    "        self.__circlearea=None; # the  private variable begin with __\n",
    " \n",
    "    # Override\n",
    "    def cal_area(self):\n",
    "        \"\"\"Return the surface area the cylinder\"\"\"\n",
    "        self.__circlearea= self.radius * self.radius * pi  # the private variable\n",
    "        self.area=(2.0 * pi * self.radius) * self.height+2.0*self.__circlearea\n",
    "  \n",
    "    def cal_volume(self):\n",
    "        \"\"\"Return the volume of the cylinder\"\"\"\n",
    "        self.volume=self.__circlearea * self.height  \n",
    "        \n",
    "    # Override\n",
    "    def __str__(self):\n",
    "        \"\"\"Self Description for print() and str()\"\"\"\n",
    "        # If __str__ is missing in the subclass, print() will invoke the superclass version!\n",
    "        result='Cylinder ID:{}\\n'.format(self.idNum)\n",
    "        result+='\\tradius={},height={}\\n'.format(self.radius, self.height)\n",
    "        result+='\\tarea={:<6.2f},volume={:<6.2f}'.format(self.area, self.volume)                                            \n",
    "        return result\n"
   ]
  },
  {
   "cell_type": "markdown",
   "metadata": {},
   "source": [
    "\n"
   ]
  },
  {
   "cell_type": "markdown",
   "metadata": {},
   "source": [
    "The subclass Cylinder add **new** attributes: \n",
    "\n",
    "* **the class  variable(类变量)**: \n",
    "\n",
    "  * `nextIdNum`, belongs to the class` Cylinder`, rather than to instances of the class.\n",
    ">* belongs to the class\n",
    ">* shared by all instance of the classs\n",
    "\n",
    "* **the instance variable(实例变量)**:\n",
    "  * `idNum`： id of each cyclinder instance\n",
    "  * `heigh`\n",
    "  * `volume`\n",
    "  * `area`\n",
    "  * `__circlearea`: **Private Variable(私有变量）**\n",
    "\n",
    "add **new** methods: \n",
    "\n",
    "* `cal_volume(self)`.\n",
    "\n",
    "override methods: \n",
    "\n",
    "* `cal_area(self)`:\n",
    "\n",
    "* `__str__(self)`:\n"
   ]
  },
  {
   "cell_type": "markdown",
   "metadata": {},
   "source": [
    "**cy1 = Cylinder(radius=1.1, height=2.2)**"
   ]
  },
  {
   "cell_type": "code",
   "execution_count": 24,
   "metadata": {},
   "outputs": [
    {
     "name": "stdout",
     "output_type": "stream",
     "text": [
      "Cylinder ID:1\n",
      "\tradius=1.1,height=2.2\n",
      "\tarea=22.81 ,volume=8.36  \n"
     ]
    }
   ],
   "source": [
    "cy1 = Cylinder(radius=1.1, height=2.2)\n",
    "cy1.cal_area()   # Invoke overridden version\n",
    "cy1.cal_volume() # Invoke its method\n",
    "print(cy1)  "
   ]
  },
  {
   "cell_type": "markdown",
   "metadata": {},
   "source": [
    "**Class variable**\n",
    "\n",
    "* belongs to the class\n",
    "\n",
    "* shared by all instance of the classs"
   ]
  },
  {
   "cell_type": "code",
   "execution_count": 35,
   "metadata": {},
   "outputs": [
    {
     "name": "stdout",
     "output_type": "stream",
     "text": [
      "1\n",
      "2\n"
     ]
    }
   ],
   "source": [
    "print(Cylinder.nextIdNum) # belongs to the class\n",
    "print(cy1.nextIdNum)  #  shared by all instance of the classs"
   ]
  },
  {
   "cell_type": "markdown",
   "metadata": {},
   "source": [
    "**cy2 = Cylinder(radius=2.1, height=3.2)**"
   ]
  },
  {
   "cell_type": "code",
   "execution_count": 19,
   "metadata": {},
   "outputs": [
    {
     "name": "stdout",
     "output_type": "stream",
     "text": [
      "Cylinder ID:2\n",
      "\tradius=2.1,height=3.2\n",
      "\tarea=69.93 ,volume=44.33 \n"
     ]
    }
   ],
   "source": [
    "cy2 = Cylinder(2.1, 3.2)\n",
    "cy2.cal_area()   # Invoke overridden version\n",
    "cy2.cal_volume() # Invoke its method\n",
    "print(cy2)   "
   ]
  },
  {
   "cell_type": "markdown",
   "metadata": {},
   "source": [
    "### 4.2 Private Variables in Python\n",
    "\n",
    "Python does not have keywords to access control.\n",
    "\n",
    "In other words,\n",
    "\n",
    "* All  attributes and methods are <b style=\"color:blue\">PUBLIC</b> by default in Python\n",
    "\n",
    "By convention, \n",
    "\n",
    "* Names begin with **double underscores (`__`)** and **not end with double underscores** are further hidden from direct access \n"
   ]
  },
  {
   "cell_type": "code",
   "execution_count": 31,
   "metadata": {},
   "outputs": [
    {
     "name": "stdout",
     "output_type": "stream",
     "text": [
      "22.8079626650619\n"
     ]
    },
    {
     "ename": "AttributeError",
     "evalue": "'Cylinder' object has no attribute '__circlearea'",
     "output_type": "error",
     "traceback": [
      "\u001b[1;31m---------------------------------------------------------------------------\u001b[0m",
      "\u001b[1;31mAttributeError\u001b[0m                            Traceback (most recent call last)",
      "\u001b[1;32m~\\AppData\\Local\\Temp/ipykernel_18800/683082406.py\u001b[0m in \u001b[0;36m<module>\u001b[1;34m\u001b[0m\n\u001b[0;32m      1\u001b[0m \u001b[0mprint\u001b[0m\u001b[1;33m(\u001b[0m\u001b[0mcy1\u001b[0m\u001b[1;33m.\u001b[0m\u001b[0marea\u001b[0m\u001b[1;33m)\u001b[0m\u001b[1;33m\u001b[0m\u001b[1;33m\u001b[0m\u001b[0m\n\u001b[1;32m----> 2\u001b[1;33m \u001b[0mprint\u001b[0m\u001b[1;33m(\u001b[0m\u001b[0mcy1\u001b[0m\u001b[1;33m.\u001b[0m\u001b[0m__circlearea\u001b[0m\u001b[1;33m)\u001b[0m\u001b[1;33m\u001b[0m\u001b[1;33m\u001b[0m\u001b[0m\n\u001b[0m",
      "\u001b[1;31mAttributeError\u001b[0m: 'Cylinder' object has no attribute '__circlearea'"
     ]
    }
   ],
   "source": [
    "print(cy1.area)  \n",
    "print(cy1.__circlearea)  "
   ]
  },
  {
   "cell_type": "markdown",
   "metadata": {},
   "source": [
    "## 5 The UML class diagram\n",
    "\n",
    "In software engineering, [a class diagram](https://en.wikipedia.org/wiki/Class_diagram)  in the Unified Modeling Language (UML) is a type of static structure diagram that describes the structure of a system by showing the system's classes,their\n",
    "\n",
    "* **attributes**, **operations (or methods)**, and the **relationships** among objects.\n",
    "\n",
    "In the diagram, **classes** are represented with **boxes** that contain **three compartments**:\n",
    "\n",
    "* The **top** compartment contains the **name** of the class\n",
    "\n",
    "* The **middle** compartment contains the **attributes** of the class\n",
    "\n",
    "* The **bottom** compartment contains the **operations** the class can execute. \n",
    "\n",
    "![](./img/oop/OOP_ThreeCompartment.png)\n",
    "\n",
    "### 5.1 The **[UML class diagram](https://en.wikipedia.org/wiki/Class_diagram) of Circle**\n",
    "\n",
    "UML provides mechanisms to represent class members, such as \n",
    "\n",
    "* **attributes** and **methods**, and\n",
    "\n",
    "* additional information about them like **constructors**\n",
    "\n",
    "![](./img/oop/uml-circle.jpg)\n",
    "\n",
    "> **Visibility**\n",
    ">To specify the visibility of a class member (i.e. any attribute or method), these notations must be placed before the member's name:\n",
    ">\n",
    "> * `+ Public`\n",
    "> * `- Private`\n",
    "\n",
    ">\n",
    ">**Scope**\n",
    ">\n",
    ">The UML specifies two types of scope for members:\n",
    ">\n",
    ">* **instance**\n",
    ">* **class**,  is represented by <u>**underlined**</u> names.\n",
    ">\n",
    ">**Instance members** are scoped to a **specific** instance.\n",
    "> \n",
    ">* Attribute values may vary between instances\n",
    ">* Method invocation may affect the instance’s state (i.e. change instance’s attributes)\n",
    ">\n",
    ">**Class members** are commonly recognized as **“static”** in many programming languages. The scope is the class itself.\n",
    "> \n",
    ">* Attribute values are equal for **all** instances\n",
    ">* Method invocation does not affect the classifier’s state\n",
    ">\n",
    ">**Constructors** are shown like **static** methods in the Class Diagrams form `class(arguments)` and are underlined\n",
    "\n",
    "\n",
    "### 5.2 The UML class Inheritance\n",
    "\n",
    "#### 5.2.1 The Class-level(类) relationp: Inheritance(Generalization)\n",
    "\n",
    "If two classes are in an **inheritance** relation, \n",
    "\n",
    "* the subclass inherits its attributes and methods from the superclass.\n",
    "\n",
    "The UML graphical representation of **an inheritance relation** is **a hollow triangle shape** on the superclass end of the line\n",
    "(or tree of lines) that connects it to one or more subtypes.\n",
    "\n",
    "![](./img/oop/inheritance.jpg)\n",
    "\n",
    "#### 5.2.2 The UML Inheritance\n",
    "\n",
    "![](./img/oop/uml-cylinder.jpg)\n"
   ]
  },
  {
   "cell_type": "markdown",
   "metadata": {},
   "source": [
    "### 5.3 Reverse Source Codes to UML\n",
    "\n",
    "The **Reverse** is a process to produce UML class model from a given input of **source code**.\n",
    "\n",
    "**逆向工程**\n",
    "\n",
    "By bringing **code** content into visual **UML** model, this helps programmers or software engineers to \n",
    "\n",
    "**review an implementation, identify potential bugs or deficiency and look for possible improvements**.\n",
    "\n",
    "* [Creating UML diagrams for Python code with pyrevers](https://gitee.com/thermalogic/sees/blob/S2019/guide/UMLPython.md)"
   ]
  },
  {
   "cell_type": "markdown",
   "metadata": {},
   "source": [
    "## Further Reading: \n",
    "\n",
    "\n",
    "* [Python Object Oriented Programming (OOP)](http://www3.ntu.edu.sg/home/ehchua/programming/webprogramming/Python1a_OOP.html)\n",
    "* [Unified Modeling Language](https://en.wikipedia.org/wiki/Unified_Modeling_Language)\n",
    "* [The UML Class diagram](https://en.wikipedia.org/wiki/Class_diagram)"
   ]
  },
  {
   "cell_type": "code",
   "execution_count": null,
   "metadata": {},
   "outputs": [],
   "source": []
  }
 ],
 "metadata": {
  "kernelspec": {
   "display_name": "Python 3 (ipykernel)",
   "language": "python",
   "name": "python3"
  },
  "language_info": {
   "codemirror_mode": {
    "name": "ipython",
    "version": 3
   },
   "file_extension": ".py",
   "mimetype": "text/x-python",
   "name": "python",
   "nbconvert_exporter": "python",
   "pygments_lexer": "ipython3",
   "version": "3.8.7"
  },
  "latex_envs": {
   "LaTeX_envs_menu_present": true,
   "autoclose": false,
   "autocomplete": true,
   "bibliofile": "biblio.bib",
   "cite_by": "apalike",
   "current_citInitial": 1,
   "eqLabelWithNumbers": true,
   "eqNumInitial": 1,
   "hotkeys": {
    "equation": "Ctrl-E",
    "itemize": "Ctrl-I"
   },
   "labels_anchors": false,
   "latex_user_defs": false,
   "report_style_numbering": false,
   "user_envs_cfg": false
  },
  "toc": {
   "base_numbering": 1,
   "nav_menu": {},
   "number_sections": false,
   "sideBar": true,
   "skip_h1_title": false,
   "title_cell": "Table of Contents",
   "title_sidebar": "Contents",
   "toc_cell": false,
   "toc_position": {
    "height": "calc(100% - 180px)",
    "left": "10px",
    "top": "150px",
    "width": "165px"
   },
   "toc_section_display": true,
   "toc_window_display": true
  },
  "widgets": {
   "state": {},
   "version": "1.1.2"
  }
 },
 "nbformat": 4,
 "nbformat_minor": 1
}
