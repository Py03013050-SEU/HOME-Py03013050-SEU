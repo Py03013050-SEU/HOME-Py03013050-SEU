{
 "cells": [
  {
   "cell_type": "markdown",
   "metadata": {},
   "source": [
    "# C/C++ __stdcall DLL, Excel VBA\n",
    "\n",
    "* Change the current working directory into `./demo`"
   ]
  },
  {
   "cell_type": "code",
   "execution_count": 1,
   "metadata": {},
   "outputs": [
    {
     "name": "stdout",
     "output_type": "stream",
     "text": [
      "F:\\SEU\\SEE\\PySEE\\home\\notebook\\demo\n"
     ]
    }
   ],
   "source": [
    "%cd demo"
   ]
  },
  {
   "cell_type": "code",
   "execution_count": 2,
   "metadata": {},
   "outputs": [
    {
     "data": {
      "text/plain": [
       "'F:\\\\SEU\\\\SEE\\\\PySEE\\\\home\\\\notebook\\\\demo'"
      ]
     },
     "execution_count": 2,
     "metadata": {},
     "output_type": "execute_result"
    }
   ],
   "source": [
    "%pwd"
   ]
  },
  {
   "cell_type": "markdown",
   "metadata": {},
   "source": [
    "## 1 C/C++ __stdcall DLL \n",
    "\n",
    "  For **Visual Basic applications** (or applications in other languages such as Pascal or Fortran) to call functions in a C/C++ DLL, the functions must be exported using the correct calling convention without any name decoration done by the compiler.\n",
    "  \n",
    "VBA can **only** call **`__stdcall`** functions, not `__cdecl` functions. \n",
    "  \n",
    "*  **`__stdcall`** creates the correct calling convention for the function (the called function cleans up the stack and parameters are passed from **right to left(从右向左)**\n",
    "\n",
    "*  **`__declspec(dllexport)`** is used on an `exported` function in a DLL\n",
    "\n",
    "For Example:\n",
    "\n",
    "```c\n",
    "__declspec(dllexport) double __stdcall  mean(double data[], int size);;\n",
    "```\n",
    "\n"
   ]
  },
  {
   "cell_type": "markdown",
   "metadata": {},
   "source": [
    "Below is the example of techniques which facilitate the use of use of MinGW to create DLLs, exporting functions which may be called from Visual Basic Application with Excel. \n",
    "\n",
    "**Example:** Equations for Region4 of [IAPWS-IF97](http://www.iapws.org/relguide/IF97-Rev.pdf)\n",
    "\n",
    "**8 Equations for Region 4** \n",
    "\n",
    "* 8.1 The Saturation-Pressure Equation (Basic Equation) P33,Eq30\n",
    "  \n",
    "    \n",
    "     pSat(double T);\n",
    "  \n",
    "* 8.2 The Saturation-Temperature Equation (Backward Equation) P35, Eq31\n",
    "   \n",
    "  \n",
    "     TSat(double p);\n",
    "\n",
    "```"
   ]
  },
  {
   "cell_type": "markdown",
   "metadata": {},
   "source": [
    "### 1.1 Create DLL with `__stdcall` calling convention\n"
   ]
  },
  {
   "cell_type": "markdown",
   "metadata": {},
   "source": [
    "**The ·MANY· headers**\n",
    "\n",
    "When you create header files for your `__stdcall` DLLs,\n",
    "\n",
    "* ` __declspec(dllexport) ` adds the `export` directive to the object fileworks\n",
    "\n",
    "* ` __declspec(dllimport)`  on the declarations of the public symbols\n",
    "\n",
    "\n",
    "1.The headers for building the Windows **`__stdcall`** shared library  \n",
    "\n",
    "```c\n",
    "__declspec(dllexport) double __stdcall pSat(double T);\n",
    "__declspec(dllexport) double __stdcall TSat(double p);\n",
    "```\n",
    "2.The header for building an executable that uses the  shared library.\n",
    "\n",
    "```c\n",
    "__declspec(dllimport) double __stdcall pSat(double T);\n",
    "__declspec(dllimport) double __stdcall TSat(double p);\n",
    "```\n"
   ]
  },
  {
   "cell_type": "markdown",
   "metadata": {},
   "source": [
    "**The Multi-purpose header**\n",
    "\n",
    "Create a DLL of IAPWS-IF97-Region4 with the following code:\n",
    "\n",
    "* region4.h\n",
    "\n",
    "* region4.c\n",
    "\n",
    "The following header `region4.h`  declares the interface for \n",
    "\n",
    "* building the **Windows/Linux** shared library  \n",
    "\n",
    "* building an executable that uses the  shared library.\n",
    "\n",
    "Using the macro **PORT** as the return type of function \n",
    " \n",
    " \n",
    "* For Windows,**export** all functions as `__stdcall`.\n",
    "\n",
    "```c\n",
    "#define PORT __declspec(dllexport) double __stdcall\n",
    "```\n",
    "\n",
    "* For Windows,**import** all functions as `__stdcall`.\n",
    "\n",
    "```c\n",
    "#define PORT __declspec(dllimport) double __stdcall\n",
    "```\n",
    "\n",
    "* For Linux as  `__cdecl`\n",
    "\n",
    "```c\n",
    "#define PORT double\n",
    "```\n",
    "\n",
    "**#pragma once** \n",
    "\n",
    "This is a `non-standard` but widely supported preprocessor directive designed to cause the current source file to be included **only once** in a single compilation. \n",
    "\n",
    "**extern \"C\"** \n",
    "\n",
    "extern \"C\" syntax to allow the run-time library functions to be used in C++ programs.*"
   ]
  },
  {
   "cell_type": "code",
   "execution_count": 9,
   "metadata": {},
   "outputs": [
    {
     "name": "stdout",
     "output_type": "stream",
     "text": [
      "Overwriting ./include/region4.h\n"
     ]
    }
   ],
   "source": [
    "%%file ./include/region4.h\n",
    "#pragma once\n",
    "\n",
    "#ifdef __cplusplus\n",
    "extern \"C\" {\n",
    "#endif\n",
    "\n",
    "#ifdef BUILD_DLL\n",
    "\n",
    "    #ifdef WIN32\n",
    "        #define PORT __declspec(dllexport) double __stdcall \n",
    "    #else\n",
    "        #define PORT double\n",
    "    #endif    \n",
    "\n",
    "#else\n",
    "\n",
    "    #ifdef WIN32\n",
    "        #define PORT __declspec(dllimport) double __stdcall   \n",
    "    #else\n",
    "        #define PORT double\n",
    "    #endif    \n",
    "\n",
    "#endif\n",
    "\n",
    "PORT pSat(double T);\n",
    "PORT TSat(double p);\n",
    "        \n",
    "#ifdef __cplusplus\n",
    "\t}\n",
    "#endif        "
   ]
  },
  {
   "cell_type": "code",
   "execution_count": 10,
   "metadata": {},
   "outputs": [
    {
     "name": "stdout",
     "output_type": "stream",
     "text": [
      "Overwriting ./src/region4.c\n"
     ]
    }
   ],
   "source": [
    "%%file ./src/region4.c\n",
    "#include <math.h>\n",
    "#include \"region4.h\"\n",
    "\n",
    "//\n",
    "//  Initialize coefficients for region 4\n",
    "//\n",
    "static double n[11] = {0, 0.11670521452767E+04, -0.72421316703206E+06, -0.17073846940092E+02,\n",
    "                          0.12020824702470E+05, -0.32325550322333E+07, 0.14915108613530E+02,\n",
    "                         -0.48232657361591E+04, 0.40511340542057E+06, -0.23855557567849E+00,\n",
    "                          0.65017534844798E+03};\n",
    "\n",
    "PORT pSat(double T)\n",
    "// saturation pressure of water\n",
    "// pSat in MPa\n",
    "// T :temperaturein K\n",
    "//\n",
    "// pSat = -1: temperature outside range\n",
    "//\n",
    "{\n",
    "    double pS;\n",
    "    if (T < 273.15 || T > 647.096) // tc_water=647.096\n",
    "        pS = -1.0;\n",
    "    else\n",
    "    {\n",
    "        double del = T + n[9] / (T - n[10]);\n",
    "        double aco = del * (del + n[1]) + n[2];\n",
    "        double bco = del * (n[3] * del + n[4]) + n[5];\n",
    "        double cco = del * (n[6] * del + n[7]) + n[8];\n",
    "        pS = pow(2 * cco / (-bco + sqrt(bco * bco - 4 * aco * cco)), 4);\n",
    "    }\n",
    "    return pS;\n",
    "}\n",
    "\n",
    "PORT TSat(double p)\n",
    "// saturation temperature of water\n",
    "// TSat in K\n",
    "// p :pressure MPa\n",
    "//\n",
    "// TSat=-1: pressure outside range\n",
    "//\n",
    "{\n",
    "    double TS;\n",
    "    if (p < 0.000611212677 || p > 22.064)\n",
    "        TS = -1.0;\n",
    "    else\n",
    "    {\n",
    "        double bet = pow(p, 0.25);\n",
    "        double eco = bet * (bet + n[3]) + n[6];\n",
    "        double fco = bet * (n[1] * bet + n[4]) + n[7];\n",
    "        double gco = bet * (n[2] * bet + n[5]) + n[8];\n",
    "        double dco = 2.0 * gco / (-fco - sqrt(fco * fco - 4.0 * eco * gco));\n",
    "        TS = 0.5 * (n[10] + dco - sqrt((n[10] + dco) * (n[10] + dco) - 4.0 * (n[9] + n[10] * dco)));\n",
    "    }\n",
    "    return TS;\n",
    "}"
   ]
  },
  {
   "cell_type": "code",
   "execution_count": 11,
   "metadata": {},
   "outputs": [],
   "source": [
    "!gcc -c -DBUILD_DLL -o ./obj/region4.o ./src/region4.c -I./include\n",
    "!gcc -shared -o ./bin/libregion4.dll ./obj/region4.o  -Wl,--add-stdcall-alias"
   ]
  },
  {
   "cell_type": "markdown",
   "metadata": {},
   "source": [
    "* -DBUILD_DLL:\n",
    "   \n",
    "  * -Dname: `Predefine name as a macro`, with definition \n",
    "  \n",
    "\n",
    "*  -Wl,option \n",
    "\n",
    "   Pass **option** as an option to the **linker**. If option contains commas, it is split into multiple options at the commas.\n",
    "\n",
    "\n",
    "* --add-stdcall-alias:\n",
    "   \n",
    "   This adds an **undecorated** alias for the `exported function names` that is simply **the name of the function** "
   ]
  },
  {
   "cell_type": "markdown",
   "metadata": {},
   "source": [
    "### 1.2  Add -static-libgcc ,-output-def=libregion4.def\n",
    "\n",
    " Links the GNU `libgcc` library `statically`"
   ]
  },
  {
   "cell_type": "code",
   "execution_count": 12,
   "metadata": {},
   "outputs": [],
   "source": [
    "!gcc -c -DBUILD_DLL -o ./obj/region4.o ./src/region4.c -I./include\n",
    "!gcc -shared -o ./bin/libregion4.dll -static-libgcc ./obj/region4.o -Wl,--add-stdcall-alias,-output-def=./bin/libregion4.def"
   ]
  },
  {
   "cell_type": "markdown",
   "metadata": {},
   "source": [
    "**-static-libgcc**\n",
    "\n",
    "* This option links the GNU `libgcc` library **statically** \n",
    "   \n",
    "**-output-def=libregion4.def**\n",
    "\n",
    "* Name of `.def` file to be created.\n",
    "    \n",
    "* **def:** A module-definition  file is a text file containing one or more module statements that describe various attributes of a DLL"
   ]
  },
  {
   "cell_type": "code",
   "execution_count": null,
   "metadata": {},
   "outputs": [],
   "source": [
    "%load ./bin/libregion4.def"
   ]
  },
  {
   "cell_type": "code",
   "execution_count": 14,
   "metadata": {},
   "outputs": [
    {
     "name": "stdout",
     "output_type": "stream",
     "text": [
      "Overwriting ./makefile-region4.mk\n"
     ]
    }
   ],
   "source": [
    "%%file ./makefile-region4.mk\n",
    "\n",
    "CC=gcc\n",
    "CFLAGS=-DBUILD_DLL\n",
    "\n",
    "SRCDIR= ./src/\n",
    "OBJDIR= ./obj/\n",
    "BINDIR= ./bin/\n",
    "INCDIR=./include/\n",
    "\n",
    "all: libregion4\n",
    "\n",
    "libregion4: obj\n",
    "\t $(CC) -shared -o $(BINDIR)libregion4.dll -static-libgcc $(OBJDIR)region4.o -Wl,--add-stdcall-alias,-output-def=libregion4.def\n",
    "obj: \n",
    "\t $(CC) -c $(CFLAGS) -o $(OBJDIR)region4.o $(SRCDIR)region4.c -I$(INCDIR)\n"
   ]
  },
  {
   "cell_type": "code",
   "execution_count": 15,
   "metadata": {},
   "outputs": [
    {
     "name": "stdout",
     "output_type": "stream",
     "text": [
      "gcc -shared -o ./bin/libregion4.dll -static-libgcc ./obj/region4.o -Wl,--add-stdcall-alias,-output-def=libregion4.def\n"
     ]
    }
   ],
   "source": [
    "!make -f makefile-region4.mk"
   ]
  },
  {
   "cell_type": "markdown",
   "metadata": {},
   "source": [
    "### 1.3 Call Dll from C/C++"
   ]
  },
  {
   "cell_type": "code",
   "execution_count": 6,
   "metadata": {},
   "outputs": [
    {
     "name": "stdout",
     "output_type": "stream",
     "text": [
      "Overwriting ./src/mainReg4.c\n"
     ]
    }
   ],
   "source": [
    "%%file ./src/mainReg4.c\n",
    "\n",
    "#include <stdio.h> \n",
    "#include \"region4.h\"\n",
    "\n",
    "int main() {\n",
    "     double T=300.0;\n",
    "     printf(\"Saturation P is %f\\n\", pSat(T));  \n",
    "     return 0;\n",
    "}"
   ]
  },
  {
   "cell_type": "code",
   "execution_count": 16,
   "metadata": {},
   "outputs": [],
   "source": [
    "!gcc -c -o ./obj/mainReg4.o ./src/mainReg4.c -I./include/\n",
    "!gcc -o  ./bin/mainReg4 ./obj/mainReg4.o  -L./bin/ -lregion4"
   ]
  },
  {
   "cell_type": "code",
   "execution_count": 17,
   "metadata": {},
   "outputs": [
    {
     "name": "stdout",
     "output_type": "stream",
     "text": [
      "Saturation P is 0.003537\n"
     ]
    }
   ],
   "source": [
    "!.\\bin\\mainReg4"
   ]
  },
  {
   "cell_type": "markdown",
   "metadata": {},
   "source": [
    "### 1.4 Python API\n",
    "\n",
    "* `__stdcall` calling convention: **windll, WINFUNCTYPE**"
   ]
  },
  {
   "cell_type": "code",
   "execution_count": 18,
   "metadata": {},
   "outputs": [
    {
     "name": "stdout",
     "output_type": "stream",
     "text": [
      "Overwriting ./src/region4.py\n"
     ]
    }
   ],
   "source": [
    "%%file ./src/region4.py\n",
    "\n",
    "from ctypes import windll,c_double,WINFUNCTYPE\n",
    "\n",
    "flib = windll.LoadLibrary('./bin/libregion4.dll')\n",
    "prototype = WINFUNCTYPE(c_double,c_double)\n",
    "\n",
    "def pSat(T):\n",
    "    f = prototype((\"pSat\", flib),)\n",
    "    return f(T)\n",
    "\n",
    "def TSat(p):\n",
    "    f = prototype((\"TSat\", flib),)\n",
    "    return f(p)"
   ]
  },
  {
   "cell_type": "markdown",
   "metadata": {},
   "source": [
    "**add `mathfuns.py` into the interperte search path**"
   ]
  },
  {
   "cell_type": "code",
   "execution_count": 19,
   "metadata": {},
   "outputs": [],
   "source": [
    "import sys\n",
    "sys.path.append('./src')"
   ]
  },
  {
   "cell_type": "code",
   "execution_count": 20,
   "metadata": {},
   "outputs": [
    {
     "name": "stdout",
     "output_type": "stream",
     "text": [
      "0.003536589413013015\n"
     ]
    }
   ],
   "source": [
    "from region4 import *\n",
    "T=300\n",
    "p=pSat(T)\n",
    "print(p)"
   ]
  },
  {
   "cell_type": "code",
   "execution_count": 21,
   "metadata": {},
   "outputs": [
    {
     "name": "stdout",
     "output_type": "stream",
     "text": [
      "Overwriting ./src/test4.py\n"
     ]
    }
   ],
   "source": [
    "%%file ./src/test4.py\n",
    "\n",
    "import unittest\n",
    "from region4 import *\n",
    "\n",
    "class Region4Test (unittest.TestCase):\n",
    "\n",
    "    def setUp(self):\n",
    "        # IF97-dev,Table35 Page 34 : T(K) p(MPa)\n",
    "        self.tab35=[[300, 0.353658941e-2],\n",
    "                    [500, 0.263889776e1],\n",
    "                    [600, 0.123443146e2]]\n",
    "\n",
    "        # IF97-dev, Table 36 Page 36 :  p(MPa) T(K)\n",
    "        self.tab36=[[0.1, 0.372755919e3],\n",
    "                    [  1, 0.453035632e3],\n",
    "                    [ 10, 0.584149488e3]]\n",
    "\n",
    "    def test_pSat(self):\n",
    "        places = 6\n",
    "        for item in  self.tab35:\n",
    "             self.assertAlmostEqual(pSat(item[0]),item[1],places)\n",
    "\n",
    "    def test_TSat(self):\n",
    "        places = 6\n",
    "        for item in  self.tab36:\n",
    "             self.assertAlmostEqual(TSat(item[0]),item[1],places)\n",
    "\n",
    "if __name__ == '__main__':\n",
    "    unittest.main()       "
   ]
  },
  {
   "cell_type": "code",
   "execution_count": 22,
   "metadata": {},
   "outputs": [
    {
     "name": "stderr",
     "output_type": "stream",
     "text": [
      "..\n",
      "----------------------------------------------------------------------\n",
      "Ran 2 tests in 0.001s\n",
      "\n",
      "OK\n"
     ]
    }
   ],
   "source": [
    "%run ./src/test4.py"
   ]
  },
  {
   "cell_type": "markdown",
   "metadata": {},
   "source": [
    "## 2 Call DLL from Excel VBA(64bits)\n",
    "\n",
    "Do as the following steps:\n",
    "\n",
    "### 2.1 Put  DLL in the default path of Windows'dll \n",
    "\n",
    "\n",
    "`libregion4.dll`  in `C:\\windows\\system`\n",
    "\n",
    "\n",
    "### 2.2 Create the xlsm\n",
    "\n",
    "`demo-r4.xlsm` in `./demo/ExcelVBA/`\n",
    "\n",
    "\n",
    "### 2.3 VBA module to call the DLL.\n",
    "\n",
    "There are a few ways to open up the **VBA Editor** in Excel.\n",
    "\n",
    "* From the `Developer Tools` tab, you can click the `Visual Basic` button.\n",
    "\n",
    "* A keyboard shortcut: press **\"Alt+F11\"** :\n",
    "\n",
    "![vba](./img/vba.jpg)\n",
    "\n",
    "Into **VBA** Editor, then， create the module **mathfuns** to call library:\n",
    "\n",
    "```VBA\n",
    "Declare PtrSafe Function pSat Lib \"libregion4\" (ByVal T As Double) As Double\n",
    "Declare PtrSafe Function TSat Lib \"libregion4\" (ByVal p As Double) As Double\n",
    "\n",
    "Public Function CalpSat(ByVal T As Double) As Double\n",
    "    CalpSat = pSat(T)\n",
    "End Function\n",
    " \n",
    "Public Function  CalTSat(ByVal p As Double) As Double\n",
    "    CalTSat = TSat(p)\n",
    "End Function\n",
    "```\n",
    "\n",
    "### 2.4  call VBA methods in cells\n",
    "\n",
    "![demo-r4](./img/demo-r4.jpg)"
   ]
  },
  {
   "cell_type": "markdown",
   "metadata": {},
   "source": [
    "## 3 Excel4Engineering\n",
    "\n",
    "Examples of Excel VBA for Engineering: Analysizing the Ideal Rankine Cycle, Monitoring Industrial Process \n",
    "\n",
    "https://github.com/thermalogic/Excel4Engineering\n",
    "    "
   ]
  },
  {
   "cell_type": "markdown",
   "metadata": {},
   "source": [
    "## Reference\n",
    "\n",
    "**Windows's DLL**\n",
    "\n",
    "* [What is a DLL and How Do I Create or Use One?](http://www.mingw.org/wiki/DLL)\n",
    "\n",
    "* DLLs in Visual C++ https://msdn.microsoft.com/en-us/library/1ez7dh12.aspx\n",
    "\n",
    "    \n",
    "**Microsoft Excel**\n",
    "\n",
    "* Excel VBA Programming:  http://www.homeandlearn.org/the_excel_vba_editor.html\n",
    "\n",
    "* [Language reference for Visual Basic for Applications(VBA)](https://docs.microsoft.com/en-us/office/vba/api/overview/language-reference)\n",
    "\n",
    "* [Excel VBA reference](https://docs.microsoft.com/en-us/office/vba/api/overview/excel)\n",
    "\n",
    "* Calling DLL Functions from Visual Basic Applications https://msdn.microsoft.com/en-us/library/dt232c9t.aspx\n",
    "\n",
    "\n"
   ]
  },
  {
   "cell_type": "code",
   "execution_count": null,
   "metadata": {},
   "outputs": [],
   "source": []
  }
 ],
 "metadata": {
  "kernelspec": {
   "display_name": "Python 3",
   "language": "python",
   "name": "python3"
  },
  "language_info": {
   "codemirror_mode": {
    "name": "ipython",
    "version": 3
   },
   "file_extension": ".py",
   "mimetype": "text/x-python",
   "name": "python",
   "nbconvert_exporter": "python",
   "pygments_lexer": "ipython3",
   "version": "3.7.8"
  },
  "toc": {
   "base_numbering": 1,
   "nav_menu": {},
   "number_sections": false,
   "sideBar": true,
   "skip_h1_title": false,
   "title_cell": "Table of Contents",
   "title_sidebar": "Contents",
   "toc_cell": false,
   "toc_position": {
    "height": "calc(100% - 180px)",
    "left": "10px",
    "top": "150px",
    "width": "165px"
   },
   "toc_section_display": true,
   "toc_window_display": false
  },
  "widgets": {
   "state": {},
   "version": "1.1.2"
  }
 },
 "nbformat": 4,
 "nbformat_minor": 1
}
