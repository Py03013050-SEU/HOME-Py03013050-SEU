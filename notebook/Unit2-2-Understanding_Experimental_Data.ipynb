{
 "cells": [
  {
   "cell_type": "markdown",
   "metadata": {},
   "source": [
    "# UNDERSTANDING EXPERIMENTAL DATA"
   ]
  },
  {
   "cell_type": "markdown",
   "metadata": {},
   "source": [
    "This chapter is about `understanding experimental data`. \n",
    "\n",
    "We will\n",
    "\n",
    "* make extensive use of `plotting to visualize the data`, and \n",
    "\n",
    "* show how to use `linear regression` to build a model of experimental data."
   ]
  },
  {
   "cell_type": "markdown",
   "metadata": {
    "collapsed": true
   },
   "source": [
    "## The Behavior of Projectiles\n",
    "\n",
    "We decided to use one of our springs to build `a device capable of launching a projectile`. \n",
    "\n",
    "We used the device **four** times to fire a projectile at **a target** 1080 inches from the **launching point**. \n",
    "\n",
    "Each time, we measured `the height of the projectile` at various `distances from the launching point`.\n",
    "\n",
    "* The `launching point` and the `target` were at `the same height`, which we treated as `0.0` in our measurements.\n",
    "\n",
    "![projectile](./img/projectile.jpg)\n",
    "\n",
    "The data was stored in a file `./data/projectileData.txt`\n",
    "\n",
    "* The `first column` contains `distances of the projectile from the target`. \n",
    "\n",
    "* The `other columns` contain `the height of the projectile at that distance` for each of the four trials. \n",
    "\n",
    "All of the measurements are in **inches**."
   ]
  },
  {
   "cell_type": "code",
   "execution_count": 2,
   "metadata": {},
   "outputs": [
    {
     "name": "stdout",
     "output_type": "stream",
     "text": [
      "Overwriting ./data/projectileData.txt\n"
     ]
    }
   ],
   "source": [
    "%%file ./data/projectileData.txt\n",
    "Distance  \ttrial1\ttrial2\ttrial3\ttrial4\n",
    "1080\t  \t0.0\t    0.0\t\t0.0\t\t0.0\n",
    "1044\t\t2.25\t3.25\t4.5\t\t6.5\t\n",
    "1008\t\t5.25\t6.5\t\t6.5\t\t8.75\n",
    "972\t\t\t7.5\t\t7.75\t8.25\t9.25\n",
    "936\t\t\t8.75\t9.25\t9.5\t\t10.5\n",
    "900\t\t\t12.0\t12.25\t12.5\t14.75\n",
    "864\t\t\t13.75\t16.0\t16.6\t16.5\n",
    "828\t\t\t14.75\t15.25\t15.5\t17.5\n",
    "792\t\t\t15.5\t16.0\t16.6\t16.75\n",
    "756\t\t\t17.0\t17.0\t17.5\t19.25\n",
    "720\t\t\t17.5\t18.5\t18.5\t19.0\n",
    "540\t\t\t19.5\t18.5\t19.0\t19.0\n",
    "360\t\t\t18.5\t18.5\t19.0\t19.0\n",
    "180\t\t\t13.0\t13.0\t13.0\t13.0\n",
    "0\t\t\t0.0\t\t0.0\t\t0.0\t\t0.0"
   ]
  },
  {
   "cell_type": "markdown",
   "metadata": {},
   "source": [
    "The following code was used to plot :\n",
    "\n",
    "* the **mean altitude of the projectile(Y)** against the **distance from the point of launch(X)**.\n",
    "\n",
    "* the best `linear` and `quadratic` fits to the points.\n",
    "\n",
    "```python\n",
    "d2h={'d':None,'h':[]}\n",
    "```"
   ]
  },
  {
   "cell_type": "code",
   "execution_count": 1,
   "metadata": {},
   "outputs": [],
   "source": [
    "def getTrajectoryData(fileName):\n",
    "    dataFile = open(fileName, 'r')\n",
    "    d2hs=[]\n",
    "    discardHeader = dataFile.readline()\n",
    "    for line in dataFile:\n",
    "        dhs = line.split()\n",
    "        d2h={'d':None,'h':[]}\n",
    "        # the distance in first column\n",
    "        d2h['d']=float(dhs[0])\n",
    "        trials=len(dhs)-1\n",
    "        for i in range(trials):\n",
    "            d2h['h'].append(float(dhs[i+1]))\n",
    "        d2hs.append(d2h)\n",
    "    dataFile.close()\n",
    "    return  d2hs,trials"
   ]
  },
  {
   "cell_type": "code",
   "execution_count": 2,
   "metadata": {},
   "outputs": [
    {
     "name": "stdout",
     "output_type": "stream",
     "text": [
      "{'d': 1080.0, 'h': [0.0, 0.0, 0.0, 0.0]}\n",
      "{'d': 1044.0, 'h': [2.25, 3.25, 4.5, 6.5]}\n",
      "{'d': 1008.0, 'h': [5.25, 6.5, 6.5, 8.75]}\n",
      "{'d': 972.0, 'h': [7.5, 7.75, 8.25, 9.25]}\n",
      "{'d': 936.0, 'h': [8.75, 9.25, 9.5, 10.5]}\n",
      "{'d': 900.0, 'h': [12.0, 12.25, 12.5, 14.75]}\n",
      "{'d': 864.0, 'h': [13.75, 16.0, 16.6, 16.5]}\n",
      "{'d': 828.0, 'h': [14.75, 15.25, 15.5, 17.5]}\n",
      "{'d': 792.0, 'h': [15.5, 16.0, 16.6, 16.75]}\n",
      "{'d': 756.0, 'h': [17.0, 17.0, 17.5, 19.25]}\n",
      "{'d': 720.0, 'h': [17.5, 18.5, 18.5, 19.0]}\n",
      "{'d': 540.0, 'h': [19.5, 18.5, 19.0, 19.0]}\n",
      "{'d': 360.0, 'h': [18.5, 18.5, 19.0, 19.0]}\n",
      "{'d': 180.0, 'h': [13.0, 13.0, 13.0, 13.0]}\n",
      "{'d': 0.0, 'h': [0.0, 0.0, 0.0, 0.0]}\n"
     ]
    }
   ],
   "source": [
    "fileName='./data/projectileData.txt'\n",
    "d2hs,trials = getTrajectoryData(fileName)\n",
    "for item in d2hs:\n",
    "    print(item) "
   ]
  },
  {
   "cell_type": "markdown",
   "metadata": {},
   "source": [
    "### 1 Linear Regression to Find a Fit\n",
    "\n",
    "Whenever we fit any curve (including a line) to data we need some way to decide `which curve is the best fit for the data`. \n",
    "\n",
    "This means that we need to define <b style=\"color:blue\">an objective function</b> that provides `a quantitative assessment of how well the curve fits the data`. \n",
    "\n",
    "Once we have such `a function`, finding the best fit can be formulated as\n",
    "\n",
    "* finding a curve that <b style=\"color:blue\">minimizes (or maximizes)</b> the value of that function, i.e., as **an optimization problem** \n",
    "\n",
    "The most commonly used objective function is called <b style=\"color:blue\">least squares(最小二乘)</b>,\n",
    "\n",
    "The objective function is then defined as\n",
    "\n",
    "$$\\sum_{i=0}^{len(observed)-1}(observed[i]-predicted[i])^2$$\n",
    "\n"
   ]
  },
  {
   "cell_type": "markdown",
   "metadata": {},
   "source": [
    "**Numpy.polyfit**\n",
    "\n",
    "http://docs.scipy.org/doc/numpy/reference/generated/numpy.polyfit.html\n",
    "\n",
    "`Numpy` provides a function, `polyfit`, that finds the best Least squares polynomial fit.\n",
    "```python\n",
    "numpy.polyfit(x, y, deg, rcond=None, full=False, w=None, cov=False)\n",
    "```\n",
    "The algorithm used by `polyfit` is called <b style=\"color:blue\">linear regression</b>.\n",
    "\n",
    "Fit a polynomial of degree `deg` to points (x, y). \n",
    "\n",
    "$$p(x) = p[0] * x^{deg} + ... + p[deg]$$\n",
    "\n",
    "Returns a vector of **coefficients `p`** that minimises the squared error.\n",
    "\n",
    "\n",
    "\n",
    "```python\n",
    "numpy.polyfit(observedXVals, observedYVals, n)\n",
    "numpy.polyfit(observedXVals, observedYVals, 1) # y = ax + b\n",
    "numpy.polyfit(observedXVals, observedYVals, 2) # y = ax^2 + bx+c\n",
    "```\n"
   ]
  },
  {
   "cell_type": "code",
   "execution_count": 3,
   "metadata": {},
   "outputs": [
    {
     "data": {
      "text/plain": [
       "array([-0.16071429,  0.50071429,  0.22142857])"
      ]
     },
     "execution_count": 3,
     "metadata": {},
     "output_type": "execute_result"
    }
   ],
   "source": [
    "import numpy as np\n",
    "\n",
    "x = np.array([0.0, 1.0, 2.0, 3.0,  4.0,  5.0])\n",
    "y = np.array([0.0, 0.8, 0.9, 0.1, -0.8, -1.0])\n",
    "z = np.polyfit(x, y, 2)\n",
    "z"
   ]
  },
  {
   "cell_type": "markdown",
   "metadata": {},
   "source": [
    "### 2 Using numpy.polyfit to fit the experimental data\n",
    "\n",
    "* linear fit : `a,b = np.polyfit(distances, meanHeights, 1)`\n",
    "  \n",
    "* quadratic fit: `a,b,c = np.polyfit(distances, meanHeights, 2)`"
   ]
  },
  {
   "cell_type": "code",
   "execution_count": 9,
   "metadata": {},
   "outputs": [],
   "source": [
    "import numpy as np\n",
    "import matplotlib.pyplot as plt\n",
    "\n",
    "def processTrajectories(d2hs,trials):\n",
    "    numTrials = trials\n",
    "    distances=[]\n",
    "    meanHeights=[]\n",
    "    \n",
    "    for item in d2hs:\n",
    "        distances.append(item['d'])\n",
    "        meanHeights.append(np.mean(item['h']))\n",
    "    \n",
    "    plt.title('Trajectory of Projectile (Mean Height of '\\\n",
    "                + str(numTrials) + ' Trials)')\n",
    "    plt.xlabel('Inches from Launch Point')\n",
    "    plt.ylabel('Mean Height of the projectile')\n",
    "    \n",
    "    # the experimental data\n",
    "    plt.plot( distances, meanHeights, 'ro')\n",
    "    \n",
    "    # Linear Fit\n",
    "    a,b = np.polyfit(distances, meanHeights, 1)\n",
    "    altitudes = a*np.array(distances) + b\n",
    "    plt.plot(distances, altitudes, 'g', label = 'Linear Fit')\n",
    "    \n",
    "    # Quadratic Fit\n",
    "    a,b,c = np.polyfit(distances, meanHeights, 2)\n",
    " \n",
    "    altitudes = a*(np.array(distances)**2) +  b*np.array(distances) + c\n",
    "    plt.plot(distances, altitudes, 'b:', label = 'Quadratic Fit')\n",
    "    plt.legend(loc=\"best\")\n",
    "    plt.show()\n"
   ]
  },
  {
   "cell_type": "code",
   "execution_count": 10,
   "metadata": {},
   "outputs": [
    {
     "data": {
      "image/png": "[encoded data removed]",
      "text/plain": [
       "<Figure size 432x288 with 1 Axes>"
      ]
     },
     "metadata": {
      "needs_background": "light"
     },
     "output_type": "display_data"
    }
   ],
   "source": [
    "processTrajectories(d2hs,trials)"
   ]
  },
  {
   "cell_type": "markdown",
   "metadata": {},
   "source": [
    "A quick look at the plot on the right makes it quite clear that\n",
    "\n",
    "* a **quadratic** fit is far better than a linear one\n",
    "\n",
    "<b style=\"color:blue;font-size:120%\">how bad a fit is the line and how good is the quadratic fit?</b>\n",
    "\n",
    "* **Coefficient of Determination(决定系数)**"
   ]
  },
  {
   "cell_type": "markdown",
   "metadata": {},
   "source": [
    "---\n",
    "####  something about plotting lines with matplotlib.pyplot\n",
    "\n",
    "* [Unit2-2-PLOTTING-USING-MATPLOTLIB](./Unit2-2-PLOTTING-USING-MATPLOTLIB.ipynb)\n",
    "\n",
    "The function `processTrajectories` plot lines with a legend(图例说明)  \n",
    "\n",
    "**line styles**\n",
    "\n",
    "* the linear fit for the data.:  plt.plot(distances, altitudes, 'g', label = 'Linear Fit')\n",
    "\n",
    "  *  <b style=\"color:blue\">green solid line</b> \n",
    "\n",
    "* the quadratic fit for the data.:  plt.plot(distances, altitudes, 'b:', label = 'Quadratic Fit')\n",
    "\n",
    "   * <b style=\"color:blue\">blue dot line</b> \n",
    "   \n",
    "**Legend of matplotlib.pyplot**\n",
    "\n",
    "* **label**：a legend of line      \n",
    "       \n",
    "* **Place a legend on the axes**\n",
    "\n",
    "  *  `plt.legend(loc ='best')` # Place a legend on the axes.\n",
    "\n",
    "Location String： **`'best'`**   \n",
    "\n",
    "> reference: [matplotlib.pyplot.legend](https://matplotlib.org/devdocs/api/_as_gen/matplotlib.pyplot.legend.html): \n",
    "\n",
    "---"
   ]
  },
  {
   "cell_type": "markdown",
   "metadata": {},
   "source": [
    "### 3 Coefficient of Determination\n",
    "\n",
    "\n",
    "\n",
    "Asking about **the goodness of a fit** is equivalent to asking about the accuracy of these predictions.\n",
    "\n",
    "<b>The mean square error</b> is useful for comparing the <b>relative goodness</b> of two fits to the same data, \n",
    "\n",
    "it is <b>not particularly useful for getting a sense of the absolute goodness of a fit</b>.\n",
    "\n",
    "We can calculate <b>the absolute goodness of a fit</b> using the <b>coefficient of determination(确定系数)</b>, often written as\n",
    "\n",
    "$R^2$\n",
    "\n",
    "Let:\n",
    "\n",
    "* $y_i$ be the $i^{th}$ observed value,\n",
    "\n",
    "* $p_i$ be the corresponding value predicted by model, and \n",
    "\n",
    "* $\\mu$ be the **mean** of the observed values.\n",
    "\n",
    "$$R^2=1-\\frac{\\sum_{i}(y_i-p_i)^2}{\\sum_{i}(y_i-\\mu)^2}$$\n",
    "\n",
    "By comparing\n",
    "\n",
    "<b>the estimation errors</b> (<b>RSS: residual sum of squares</b>) \n",
    "\n",
    "$\\sum_{i}(y_i-p_i)^2$\n",
    "\n",
    "with\n",
    "\n",
    "<b>the variability of the original values</b> ( <b>TSS: total sum of squares</b>), \n",
    "\n",
    "$\\sum_{i}(y_i-\\mu)^2$\n",
    "\n",
    "$R^2$ is intended to capture <b>the proportion of variability </b> in a data set that is accounted for by the statistical model provided by the fit.\n",
    "\n",
    "Its <b>compactness</b> stems from the expressiveness of the operations on <b>arrays</b>."
   ]
  },
  {
   "cell_type": "code",
   "execution_count": 5,
   "metadata": {},
   "outputs": [],
   "source": [
    "def rSquared(measured, predicted):\n",
    "    \"\"\"Assumes measured a one-dimensional array of measured values\n",
    "               predicted a one-dimensional array of predicted values\n",
    "       Returns coefficient of determination\"\"\"\n",
    "    # RSS: residual sum of squares\n",
    "    estimateError = ((predicted - measured)**2).sum()\n",
    "    \n",
    "    # TSS: total sum of squares\n",
    "    meanOfMeasured = sum(measured)/float(len(measured))\n",
    "    variability = ((measured - meanOfMeasured)**2).sum()\n",
    "    \n",
    "    return 1 - estimateError/variability"
   ]
  },
  {
   "cell_type": "code",
   "execution_count": 10,
   "metadata": {},
   "outputs": [],
   "source": [
    "import numpy as np\n",
    "import matplotlib.pyplot as plt\n",
    "\n",
    "def processTrajectories(d2hs,trials):\n",
    "    numTrials = trials\n",
    "    distances=[]\n",
    "    meanHeights=[]\n",
    "    \n",
    "    for item in d2hs:\n",
    "        distances.append(item['d'])\n",
    "        meanHeights.append(np.mean(item['h']))\n",
    "    \n",
    "    plt.title('Trajectory of Projectile (Mean Height of '\\\n",
    "                + str(numTrials) + ' Trials)')\n",
    "    plt.xlabel('Inches from Launch Point')\n",
    "    plt.ylabel('Mean Height of the projectile')\n",
    "   \n",
    "    # the experimental data\n",
    "    plt.plot( distances, meanHeights, 'ro')\n",
    "   \n",
    "    # Linear Fit\n",
    "    a,b = np.polyfit(distances, meanHeights, 1)\n",
    "    altitudes = a*np.array(distances) + b\n",
    "    \n",
    "    r1line=rSquared(meanHeights, altitudes)\n",
    "    plt.plot(distances, altitudes, 'g', label = \"Linear Fit, $R^2$= {:.2f}\".format(r1line))\n",
    "    \n",
    "    # Linear Fit\n",
    "    a,b,c = np.polyfit(distances, meanHeights, 2)\n",
    " \n",
    "    altitudes = a*(np.array(distances)**2) +  b*np.array(distances) + c\n",
    "             \n",
    "    r2quad=rSquared(meanHeights, altitudes)          \n",
    "    plt.plot(distances, altitudes, 'b:',label =\"Quadratic Fit, $R^2$= {:.2f}\".format(r2quad))\n",
    "    plt.legend()\n",
    "    plt.show()\n",
    "\n"
   ]
  },
  {
   "cell_type": "code",
   "execution_count": 11,
   "metadata": {},
   "outputs": [
    {
     "data": {
      "image/png": "[encoded data removed]",
      "text/plain": [
       "<Figure size 432x288 with 1 Axes>"
      ]
     },
     "metadata": {
      "needs_background": "light"
     },
     "output_type": "display_data"
    }
   ],
   "source": [
    "processTrajectories(d2hs,trials)"
   ]
  },
  {
   "cell_type": "markdown",
   "metadata": {},
   "source": [
    "This tells us that \n",
    "\n",
    "* 1 less than 2% of the variation in the measured data can be explained by the linear model,\n",
    "\n",
    "* 2 more than **98%** of the  variation can be explained by the quadratic model"
   ]
  },
  {
   "cell_type": "markdown",
   "metadata": {},
   "source": [
    "#### Matplotlib.pyplot: Formatting text: LaTeX\n",
    "```python\n",
    "  plt.plot(distances, altitudes, 'g', label = \"Linear Fit, $R^2$= {:.2f}\".format(r1line))\n",
    "```\n",
    "Matplotlib has great support for LaTeX. All we need to do is to use dollar signs encapsulate LaTeX in any text (legend, title, label, etc.).\n",
    "\n",
    "* For example, `$R^2$`. $R^2$"
   ]
  },
  {
   "cell_type": "markdown",
   "metadata": {},
   "source": [
    "##  4 Python Script\n",
    "\n",
    "```\n",
    "python trajector.py\n",
    "```"
   ]
  },
  {
   "cell_type": "code",
   "execution_count": 8,
   "metadata": {},
   "outputs": [
    {
     "name": "stdout",
     "output_type": "stream",
     "text": [
      "Writing ./trajector.py\n"
     ]
    }
   ],
   "source": [
    "%%file ./trajector.py\n",
    "import numpy as np\n",
    "import matplotlib.pyplot as plt\n",
    "\n",
    "def rSquared(measured, predicted):\n",
    "    \"\"\"Assumes measured a one-dimensional array of measured values\n",
    "               predicted a one-dimensional array of predicted values\n",
    "       Returns coefficient of determination\"\"\"\n",
    "    # RSS: residual sum of squares\n",
    "    estimateError = ((predicted - measured)**2).sum()\n",
    "    \n",
    "    # TSS: total sum of squares\n",
    "    meanOfMeasured = sum(measured)/float(len(measured))\n",
    "    variability = ((measured - meanOfMeasured)**2).sum()\n",
    "    \n",
    "    return 1 - estimateError/variability\n",
    "\n",
    "def getTrajectoryData(fileName):\n",
    "    dataFile = open(fileName, 'r')\n",
    "    d2hs=[]\n",
    "    discardHeader = dataFile.readline()\n",
    "    for line in dataFile:\n",
    "        dhs = line.split()\n",
    "        d2h={'d':None,'h':[]}\n",
    "        # the distance in first column\n",
    "        d2h['d']=float(dhs[0])\n",
    "        trials=len(dhs)-1\n",
    "        for i in range(trials):\n",
    "            d2h['h'].append(float(dhs[i+1]))\n",
    "        d2hs.append(d2h)\n",
    "    dataFile.close()\n",
    "    return  d2hs,trials\n",
    "\n",
    "def processTrajectories(d2hs,trials):\n",
    "    numTrials = trials\n",
    "    distances=[]\n",
    "    meanHeights=[]\n",
    "    \n",
    "    for item in d2hs:\n",
    "        distances.append(item['d'])\n",
    "        meanHeights.append(np.mean(item['h']))\n",
    "    \n",
    "    plt.title('Trajectory of Projectile (Mean Height of '\\\n",
    "                + str(numTrials) + ' Trials)')\n",
    "    plt.xlabel('Inches from Launch Point')\n",
    "    plt.ylabel('Mean Height of the projectile')\n",
    "   \n",
    "    # the experimental data\n",
    "    plt.plot( distances, meanHeights, 'ro')\n",
    "   \n",
    "    # Linear Fit\n",
    "    a,b = np.polyfit(distances, meanHeights, 1)\n",
    "    altitudes = a*np.array(distances) + b\n",
    "    \n",
    "    r1line=rSquared(meanHeights, altitudes)\n",
    "    plt.plot(distances, altitudes, 'g', label = \"Linear Fit, $R^2$= {:.2f}\".format(r1line))\n",
    "    \n",
    "    # Linear Fit\n",
    "    a,b,c = np.polyfit(distances, meanHeights, 2)\n",
    " \n",
    "    altitudes = a*(np.array(distances)**2) +  b*np.array(distances) + c\n",
    "             \n",
    "    r2quad=rSquared(meanHeights, altitudes)          \n",
    "    plt.plot(distances, altitudes, 'b:',label =\"Quadratic Fit, $R^2$= {:.2f}\".format(r2quad))\n",
    "    plt.legend()\n",
    "    plt.show()\n",
    "\n",
    "if __name__ == \"__main__\":  \n",
    "    fileName='./data/projectileData.txt'\n",
    "    d2hs,trials = getTrajectoryData(fileName)\n",
    "    processTrajectories(d2hs,trials)"
   ]
  },
  {
   "cell_type": "markdown",
   "metadata": {},
   "source": [
    "## Further Reading : When Theory Is Missing\n",
    "\n",
    "In an ideal world, we would run **a controlled experiment** (e.g., hang weights from a spring), study the results, and retrospectively formulate a model consistent\n",
    "with those results.\n",
    "\n",
    "Unfortunately, in many cases it is **impossible to run even one controlled experiment**\n",
    "\n",
    "In such situations, one can **simulate a set of experiments** by dividing the existing data into **a training set** and **a holdout set**.\n",
    "\n",
    "### How does one choose the training set?\n",
    "\n",
    "1. One way to do this is to **randomly choose the samples** for the training set.\n",
    "\n",
    "2.  A related but slightly different way to check a model is to train on **many randomly selected subsets** of the original data, and see how similar the models are to one another. \n",
    "\n",
    "If they are quite similar, than we can feel pretty good. This  approach is known as **cross validation**. \n"
   ]
  },
  {
   "cell_type": "code",
   "execution_count": null,
   "metadata": {},
   "outputs": [],
   "source": []
  }
 ],
 "metadata": {
  "kernelspec": {
   "display_name": "Python 3",
   "language": "python",
   "name": "python3"
  },
  "language_info": {
   "codemirror_mode": {
    "name": "ipython",
    "version": 3
   },
   "file_extension": ".py",
   "mimetype": "text/x-python",
   "name": "python",
   "nbconvert_exporter": "python",
   "pygments_lexer": "ipython3",
   "version": "3.8.7"
  },
  "toc": {
   "base_numbering": 1,
   "nav_menu": {},
   "number_sections": false,
   "sideBar": true,
   "skip_h1_title": false,
   "title_cell": "Table of Contents",
   "title_sidebar": "Contents",
   "toc_cell": false,
   "toc_position": {
    "height": "calc(100% - 180px)",
    "left": "10px",
    "top": "150px",
    "width": "165px"
   },
   "toc_section_display": true,
   "toc_window_display": true
  },
  "widgets": {
   "state": {},
   "version": "1.1.2"
  }
 },
 "nbformat": 4,
 "nbformat_minor": 1
}
