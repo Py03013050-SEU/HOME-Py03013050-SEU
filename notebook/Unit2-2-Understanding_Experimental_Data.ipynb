{
 "cells": [
  {
   "cell_type": "markdown",
   "metadata": {},
   "source": [
    "# UNDERSTANDING EXPERIMENTAL DATA"
   ]
  },
  {
   "cell_type": "markdown",
   "metadata": {},
   "source": [
    "This chapter is about `understanding experimental data`. \n",
    "\n",
    "We will\n",
    "\n",
    "* make extensive use of `plotting to visualize the data`, and \n",
    "\n",
    "* show how to use `linear regression` to build a model of experimental data."
   ]
  },
  {
   "cell_type": "markdown",
   "metadata": {},
   "source": [
    "## 1 The Behavior of Springs\n",
    "\n",
    "Springs are wonderful things. When they are compressed or stretched by some force,they store energy. When that force is no longer applied they release the stored energy. This property allows them to smooth the ride in cars, help mattresses conform to our bodies, retract seat belts, and launch projectiles.\n",
    "\n",
    "In 1676 the British physicist Robert Hooke formulated **Hooke’s law** of elasticity。 \n",
    "\n",
    "$$F = -kx$$\n",
    "\n",
    "* $F$ is the `restoring force` exerted by the spring on whatever is pulling its free end.\n",
    "\n",
    "* The `direction of the restoring force` is `opposite` to that of the `displacement`. \n",
    "\n",
    "* The constant of proportionality, `k`, is called <b>the spring constant</b>. \n",
    "\n",
    "* All springs have an <b>elastic limit</b>, beyond which the law fails. \n",
    "\n",
    "Knowing the <b>spring constant</b> of a particular spring can be <b>a matter of some import</b>\n",
    "\n",
    "Generations of physics students have learned to `estimate spring constants` using an `experimental apparatus` similar to that pictured here. \n",
    "\n",
    "![](./img/spring.PNG) \n",
    "\n",
    "* We `start` with a spring with `no weight` on it, and measure the distance to the bottom of the spring from the top of the stand.\n",
    "\n",
    "* We then `hang a known mass` on the spring, and wait for it to stop moving. At this point, the force stored in the spring is the force exerted on the spring by the weight hanging from it.This is the value of $F$ in `Hooke’s law`. \n",
    "\n",
    "  * We again measure the `distance` from the bottom of the spring to the top of the stand. The `difference` between this distance and the distance before we hung the weight then becomes the value of  $x$ in `Hooke’s law`. \n",
    "\n",
    "We know that the force, $F$, being exerted on the spring is equal to the mass, $m$, multiplied by the acceleration due to gravity, $g$ ( $9.81 m/s^2$) is a pretty good approximation of $g$ on this planet), so we substitute $m*g$ for $F$. \n",
    "\n",
    "By simple algebra,we know that $k = -(m*g)/x$\n"
   ]
  },
  {
   "cell_type": "markdown",
   "metadata": {
    "collapsed": true
   },
   "source": [
    "### 1.1 `Robust` experiment\n",
    "\n",
    "A more **robust experiment** is to hang a **series** of increasingly heavier weights on the spring, measure the stretch of the spring each time, and plot the results.\n",
    "\n",
    "We ran such an experiment,and typed the results into a file named `./data/springData.csv`:\n"
   ]
  },
  {
   "cell_type": "code",
   "execution_count": null,
   "metadata": {},
   "outputs": [],
   "source": [
    "%%file ./data/springData.csv\n",
    "Distance(m),Mass(kg)\n",
    "0.0865,0.1\n",
    "0.1015,0.15\n",
    "0.1106,0.2\n",
    "0.1279,0.25\n",
    "0.1892,0.3\n",
    "0.2695,0.35\n",
    "0.2888,0.4\n",
    "0.2425,0.45\n",
    "0.3465,0.5\n",
    "0.3225,0.55\n",
    "0.3764,0.6\n",
    "0.4263,0.65\n",
    "0.4562,0.7\n",
    "0.4502,0.75\n",
    "0.4499,0.8\n",
    "0.4534,0.85\n",
    "0.4416,0.9\n",
    "0.4304,0.95\n",
    "0.437,1.0"
   ]
  },
  {
   "cell_type": "markdown",
   "metadata": {},
   "source": [
    "The `getData` function reads data from a file such as the one we saved, and returns lists containing the `distances` and `masse`s.\n",
    "\n",
    "* distances = []\n",
    "\n",
    "* masses = []"
   ]
  },
  {
   "cell_type": "code",
   "execution_count": null,
   "metadata": {},
   "outputs": [],
   "source": [
    "def getData(fileName):\n",
    "    dataFile = open(fileName, 'r')\n",
    "    distances = []\n",
    "    masses = []\n",
    "    discardHeader = dataFile.readline()# Distance(m),Mass(kg)\n",
    "    for line in dataFile:\n",
    "        d, m = line.split(',')\n",
    "        distances.append(float(d))\n",
    "        masses.append(float(m))\n",
    "    dataFile.close()\n",
    "    return (masses, distances)\n",
    "\n",
    "\n",
    "inputFile='./data/springData.csv'\n",
    "masses, distances = getData(inputFile)\n",
    "print(masses)\n",
    "print(distances)"
   ]
  },
  {
   "cell_type": "markdown",
   "metadata": {
    "collapsed": true
   },
   "source": [
    "The `plotData`function uses  the experimental data `masses, distances` from the file and then produces the plot \n",
    "\n",
    "* [Unit2-2-PLOTTING-USING-MATPLOTLIB](./Unit2-2-PLOTTING-USING-MATPLOTLIB.ipynb)"
   ]
  },
  {
   "cell_type": "code",
   "execution_count": null,
   "metadata": {},
   "outputs": [],
   "source": [
    "import matplotlib.pyplot as plt\n",
    "import numpy as np\n",
    "\n",
    "def plotData(masses, distances):\n",
    "    masses = np.array(masses)\n",
    "    distances = np.array(distances)\n",
    "    \n",
    "    # mass to force\n",
    "    forces = masses*9.81\n",
    "    # line type: 'r*\n",
    "    plt.plot(forces, distances, 'r*')\n",
    "    \n",
    "    plt.title('Measured Displacement of Spring')\n",
    "    plt.xlabel('|Force| (Newtons)')\n",
    "    plt.ylabel('Distance (meters)')\n",
    "    \n",
    "    plt.savefig('./img/MeasuredDisplacementofSpring.svg') # save figure in SVG\n",
    "\n",
    "inputFile='./data/springData.csv'\n",
    "masses, distances = getData(inputFile)\n",
    "plotData(masses, distances)\n"
   ]
  },
  {
   "cell_type": "markdown",
   "metadata": {},
   "source": [
    "This is`not` what `Hooke’s law` predicts.\n",
    "\n",
    "Hooke’s law tells us that the distance should increase <b style=\"color:blue\">linearly</b> with the mass, i.e., the points should lie on a <b style=\"color:blue\">straight line</b> the slope of which is determined by the spring constant.\n",
    "\n",
    "Of course, we know that when we take `real measurements` the experimental data are rarely a `perfect match for the theor`y.\n",
    "\n",
    "**Measurement error** is to be expected, so we should expect the points to lie `around a line` rather than on it.\n",
    "\n",
    "It would be nice to see <b style=\"color:blue\">a line</b> that represents our <b style=\"color:blue\">best guess</b> of where the points would have been if we had no measurement error. "
   ]
  },
  {
   "cell_type": "markdown",
   "metadata": {},
   "source": [
    "### 1.2 Using Linear Regression to Find a Fit\n",
    "\n",
    "Whenever we fit any curve (including a line) to data we need some way to decide `which curve is the best fit for the data`. \n",
    "\n",
    "This means that we need to define <b style=\"color:blue\">an objective function</b> that provides `a quantitative assessment of how well the curve fits the data`. \n",
    "\n",
    "Once we have such `a function`, finding the best fit can be formulated as\n",
    "\n",
    "* finding a curve that <b style=\"color:blue\">minimizes (or maximizes)</b> the value of that function, i.e., as **an optimization problem** \n",
    "\n",
    "The most commonly used objective function is called <b style=\"color:blue\">least squares(最小二乘)</b>,\n",
    "\n",
    "The objective function is then defined as\n",
    "\n",
    "$$\\sum_{i=0}^{len(observed)-1}(observed[i]-predicted[i])^2$$\n",
    "\n"
   ]
  },
  {
   "cell_type": "markdown",
   "metadata": {},
   "source": [
    "####  1.2.1 Numpy.polyfit\n",
    "\n",
    "http://docs.scipy.org/doc/numpy/reference/generated/numpy.polyfit.html\n",
    "\n",
    "`Numpy` provides a function, `polyfit`, that finds the best Least squares polynomial fit.\n",
    "```python\n",
    "numpy.polyfit(x, y, deg, rcond=None, full=False, w=None, cov=False)\n",
    "```\n",
    "The algorithm used by `polyfit` is called <b style=\"color:blue\">linear regression</b>.\n",
    "\n",
    "Fit a polynomial of degree `deg` to points (x, y). \n",
    "\n",
    "$$p(x) = p[0] * x^{deg} + ... + p[deg]$$\n",
    "\n",
    "Returns a vector of **coefficients `p`** that minimises the squared error.\n",
    "\n",
    "\n",
    "\n",
    "```python\n",
    "numpy.polyfit(observedXVals, observedYVals, n)\n",
    "numpy.polyfit(observedXVals, observedYVals, 1) # y = ax + b\n",
    "numpy.polyfit(observedXVals, observedYVals, 2) # y = ax^2 + bx+c\n",
    "```\n"
   ]
  },
  {
   "cell_type": "code",
   "execution_count": null,
   "metadata": {},
   "outputs": [],
   "source": [
    "import numpy as np\n",
    "\n",
    "x = np.array([0.0, 1.0, 2.0, 3.0,  4.0,  5.0])\n",
    "y = np.array([0.0, 0.8, 0.9, 0.1, -0.8, -1.0])\n",
    "z = np.polyfit(x, y, 3)\n",
    "z"
   ]
  },
  {
   "cell_type": "markdown",
   "metadata": {},
   "source": [
    "#### 1.2.2  Using `numpy.polyfit` to fit  the experimental data \n",
    "\n",
    "It uses `numpy.polyfit` to find the coefficients $a$ and $b$, and then uses those coefficients to generate the predicted spring displacement for each force.\n",
    "\n",
    "There is an asymmetry in the way `forces` and `distance` are treated. \n",
    "\n",
    "* The values in `forces` (which are derived from the mass suspended from the spring) are treated as `independent`, and used to produce the values in the `dependent variable predictedDistances` (a prediction of the displacements produced by suspending the mass).\n",
    "\n",
    "The function also computes the **spring constant**, $k$. \n",
    "\n",
    "The **slope** of the line, $a$, is $\\frac{Δdistance}{Δforce}$.\n",
    "\n",
    "The spring constant is $\\frac{Δforce}{Δdistance}$. Consequently, $k=\\frac{1}{a}$\n"
   ]
  },
  {
   "cell_type": "code",
   "execution_count": null,
   "metadata": {},
   "outputs": [],
   "source": [
    "def linearfitData(masses, distances):\n",
    "    # create the array\n",
    "    distances = np.array(distances)\n",
    "    masses = np.array(masses)\n",
    "    \n",
    "    forces = masses*9.81\n",
    "    \n",
    "    # the linear fit\n",
    "    a,b = np.polyfit(forces, distances, 1)\n",
    "    \n",
    "    predictedDistances = a*np.array(forces) + b # elementwise\n",
    "    \n",
    "    return a,b,predictedDistances"
   ]
  },
  {
   "cell_type": "markdown",
   "metadata": {},
   "source": [
    "The function `plotlinearfitData` plot two lines that represent the linear fit for the data.\n",
    "\n",
    "*  <b style=\"color:blue\">blue points +</b> \n",
    "\n",
    "*  <b style=\"color:blue\">blue solid line</b> with a legend(图例说明) "
   ]
  },
  {
   "cell_type": "code",
   "execution_count": null,
   "metadata": {},
   "outputs": [],
   "source": [
    "import numpy as np\n",
    "import matplotlib.pyplot as plt\n",
    "\n",
    "def plotlinearfitData(a, masses, predictedDistance):\n",
    "    masses = np.array(masses)\n",
    "    forces = masses*9.81\n",
    "    # the spring constant, k=1/a\n",
    "    k = 1.0/a\n",
    "    \n",
    "    plt.plot(forces, predictedDistances,\"y+\")\n",
    "    \n",
    "    plt.plot(forces, predictedDistances,\n",
    "               label = 'Displacements predicted by\\nlinear fit, k = '\n",
    "               + str(round(k, 5)))   \n",
    "   \n",
    "    plt.legend(loc = 'best') #Place a legend on the axes.\n",
    "\n",
    "# plot the experimental data\n",
    "plotData(masses, distances)\n",
    "\n",
    "# Using numpy.polyfit\n",
    "a,b,predictedDistances=linearfitData(masses, distances)\n",
    "\n",
    "# poly the best fit for the data with two types: blue points + and blue solid line \n",
    "plotlinearfitData(a,masses,predictedDistances)    "
   ]
  },
  {
   "cell_type": "markdown",
   "metadata": {},
   "source": [
    "#####  Legend of matplotlib.pyplot: \n",
    "\n",
    "**label**：a legend of line      \n",
    "       \n",
    "**Place a legend on the axes**\n",
    "\n",
    "[matplotlib.pyplot.legend](https://matplotlib.org/devdocs/api/_as_gen/matplotlib.pyplot.legend.html): \n",
    "\n",
    "`plt.legend(loc ='best')`: Place a legend on the axes.\n",
    "\n",
    "Location String： **`'best'`**    "
   ]
  },
  {
   "cell_type": "markdown",
   "metadata": {},
   "source": [
    "It is interesting to observe that **very few** points actually lie on the least-squares fit.\n",
    "\n",
    "It **doesn't** look like a great fit. \n",
    "\n",
    "Let’s try a **cubic fit** "
   ]
  },
  {
   "cell_type": "code",
   "execution_count": null,
   "metadata": {},
   "outputs": [],
   "source": [
    "def cubfitData(masses, distances):\n",
    "    distances = np.array(distances)\n",
    "    masses = np.array(masses)\n",
    "    forces = masses*9.81\n",
    "\n",
    "    # the cubit fit\n",
    "    a,b,c,d = np.polyfit(forces, distances, 3)\n",
    "    predictedDistances = a*(forces**3) + b*forces**2 + c*forces + d\n",
    "    \n",
    "    return a,b,c,d,predictedDistances\n"
   ]
  },
  {
   "cell_type": "markdown",
   "metadata": {},
   "source": [
    "The function `plotcubfitData` plot one line that represent the cubic fit for the data.\n",
    "\n",
    "*  <b style=\"color:blue\">blue line :</b> with a legend"
   ]
  },
  {
   "cell_type": "code",
   "execution_count": null,
   "metadata": {},
   "outputs": [],
   "source": [
    "import numpy as np\n",
    "import matplotlib.pyplot as plt\n",
    "\n",
    "def plotcubfitData(masses, distances):\n",
    "    masses = np.array(masses)\n",
    "    forces = masses*9.81\n",
    "    #add cubit fit\n",
    "  \n",
    "    plt.plot(forces, predictedDistances, 'b:*', label = 'cubic fit')\n",
    "\n",
    "    plt.legend(loc = 'best')\n",
    "\n",
    "# plot the experimental data\n",
    "plotData(masses, distances)\n",
    "\n",
    "# linearfit\n",
    "a,b,predictedDistances=linearfitData( masses, distances)\n",
    "plotlinearfitData(a,masses,predictedDistances)\n",
    "\n",
    "# cubfit\n",
    "a,b,c,d,predictedDistances=cubfitData(masses, distances)\n",
    "plotcubfitData(masses, distances)"
   ]
  },
  {
   "cell_type": "markdown",
   "metadata": {},
   "source": [
    "The cubic fit **looks** like> a much **better** model of the data, \n",
    "\n",
    "but is it? **Probably not**>.\n",
    "\n",
    "The **raw data** merely an indication of  <b style=\"color:blue\">experimental error</b>. This can be dangerous.\n",
    "\n",
    "In theory,there should be <b style=\"color:blue\">a linear relationship</b> between the x and y values, not\n",
    "a cubic one.\n",
    "\n",
    "Let’s see what happens if we use our cubic fit to predict where the point corresponding to <b>1.5kg</b> would lie.\n"
   ]
  },
  {
   "cell_type": "code",
   "execution_count": null,
   "metadata": {},
   "outputs": [],
   "source": [
    "import numpy as np\n",
    "import matplotlib.pyplot as plt\n",
    "\n",
    "def outsidefitData(a,b,c,d,outsidepoints,masses, distances):\n",
    "    masses=masses+outsidepoints\n",
    "    masses = np.array(masses)\n",
    "    forces = masses*9.81\n",
    "  \n",
    "    predictedDistances = a*(forces**3) + b*forces**2 + c*forces + d\n",
    "    plt.plot(forces, predictedDistances, 'b:', label = 'cubic fit')\n",
    "\n",
    "    plt.legend(loc = 'best')\n",
    "\n",
    "inputFile='./data/springData.csv'\n",
    "masses, distances = getData(inputFile)\n",
    "plotData(masses, distances)\n",
    "\n",
    "a,b,c,d,predictedDistances=cubfitData(masses, distances)\n",
    "\n",
    "# predict where the point corresponding to 1.5kg would lie  \n",
    "outsidepoints=[1.1,1.2,1.3,1.4,1.5]\n",
    "outsidefitData(a,b,c,d,outsidepoints,masses, distances)\n",
    "        "
   ]
  },
  {
   "cell_type": "markdown",
   "metadata": {},
   "source": [
    "we have is an example of <b style=\"color:blue\">overfitting</b>.\n",
    "\n",
    "**Overfitting** typically occurs when a model is excessively complex, e.g., it has too many parameters relative to the amount of data. When this happens, the fit can **capture noise** in the data rather than meaningful relationships.\n",
    "\n",
    "we recall that <b>Hooke’s law</b> holds only up to some <b style=\"color:blue\">Elastic Limit</b>. \n",
    "\n",
    "Perhaps that limit is reached for this spring somewhere around <b>7N</b> (approximately 0.7kg).\n",
    "\n",
    "Let’s see what happens if we eliminate the last six points **beyond the Elastic Limit**\n",
    "\n",
    "```python\n",
    " distances[:-6]\n",
    "  masses[:-6]\n",
    "```\n"
   ]
  },
  {
   "cell_type": "code",
   "execution_count": null,
   "metadata": {},
   "outputs": [],
   "source": [
    "import numpy as np\n",
    "import matplotlib.pyplot as plt\n",
    "\n",
    "inputFile='./data/springData.csv'\n",
    "masses, distances = getData(inputFile)\n",
    "\n",
    "masses=masses[:-6]\n",
    "distances=distances[:-6]\n",
    "\n",
    "plotData(masses, distances)\n",
    "\n",
    "a,b,predictedDistances=linearfitData(masses, distances)\n",
    "\n",
    "plotlinearfitData(a,masses,predictedDistances)\n",
    "\n",
    "a,b,c,d,predictedDistances=cubfitData(masses, distances)\n",
    "plotcubfitData(masses, distances)"
   ]
  },
  {
   "cell_type": "markdown",
   "metadata": {},
   "source": [
    "Eliminating those points certainly makes a <b>difference</b>\n",
    "\n",
    "* `k` has dropped dramatically \n",
    "\n",
    "* the **linear** and **cubic** fits are almost **indistinguishable**. \n",
    "\n",
    "But how do we know **which** of the two linear fits is a **better** representation of how our spring performs up to its `elastic limit`? \n",
    "\n",
    "We could use some **statistical test** to determine which line is a better fit for the data, but that would be beside the point. This is not a question that can be answered by statistics. After all we could throw out all the data except any two points and know that polyfit would find a line that would be a perfect fit for those two points.\n",
    "\n",
    "> **One should never `throw out` experimental results `merely` to get a `better` fit** \n",
    "\n",
    "Here we justified throwing out the rightmost points by appealing to the theory underlying **Hooke’s law**, i.e., that springs have an `elastic limit`."
   ]
  },
  {
   "cell_type": "markdown",
   "metadata": {
    "collapsed": true
   },
   "source": [
    "## 2 The Behavior of Projectiles\n",
    "\n",
    "Growing bored with merely `stretching` springs, \n",
    "\n",
    "We decided to use one of our springs to build `a device capable of launching a projectile`. \n",
    "\n",
    "We used the device **four** times to fire a projectile at **a target** 1080 inches from the **launching point**. \n",
    "\n",
    "Each time, we measured `the height of the projectile` at various `distances from the launching point`.\n",
    "\n",
    "* The `launching point` and the `target` were at `the same height`, which we treated as `0.0` in our measurements.\n",
    "\n",
    "![projectile](./img/projectile.jpg)\n",
    "\n",
    "The data was stored in a file `./data/projectileData.txt`\n",
    "\n",
    "* The `first column` contains `distances of the projectile from the target`. \n",
    "\n",
    "* The `other columns` contain `the height of the projectile at that distance` for each of the four trials. \n",
    "\n",
    "All of the measurements are in **inches**."
   ]
  },
  {
   "cell_type": "code",
   "execution_count": 1,
   "metadata": {},
   "outputs": [
    {
     "name": "stdout",
     "output_type": "stream",
     "text": [
      "Overwriting ./data/projectileData.txt\n"
     ]
    }
   ],
   "source": [
    "%%file ./data/projectileData.txt\n",
    "Distance  \ttrial1\ttrial2\ttrial3\ttrial4\n",
    "1080\t  \t0.0\t    0.0\t\t0.0\t\t0.0\n",
    "1044\t\t2.25\t3.25\t4.5\t\t6.5\t\n",
    "1008\t\t5.25\t6.5\t\t6.5\t\t8.75\n",
    "972\t\t\t7.5\t\t7.75\t8.25\t9.25\n",
    "936\t\t\t8.75\t9.25\t9.5\t\t10.5\n",
    "900\t\t\t12.0\t12.25\t12.5\t14.75\n",
    "864\t\t\t13.75\t16.0\t16.6\t16.5\n",
    "828\t\t\t14.75\t15.25\t15.5\t17.5\n",
    "792\t\t\t15.5\t16.0\t16.6\t16.75\n",
    "756\t\t\t17.0\t17.0\t17.5\t19.25\n",
    "720\t\t\t17.5\t18.5\t18.5\t19.0\n",
    "540\t\t\t19.5\t18.5\t19.0\t19.0\n",
    "360\t\t\t18.5\t18.5\t19.0\t19.0\n",
    "180\t\t\t13.0\t13.0\t13.0\t13.0\n",
    "0\t\t\t0.0\t\t0.0\t\t0.0\t\t0.0"
   ]
  },
  {
   "cell_type": "markdown",
   "metadata": {},
   "source": [
    "The following code was used to plot :\n",
    "\n",
    "* the **mean altitude of the projectile(Y)** against the **distance from the point of launch(X)**.\n",
    "\n",
    "* the best `linear` and `quadratic` fits to the points.\n",
    "\n",
    "```python\n",
    "d2h={'d':None,'h':[]}\n",
    "```"
   ]
  },
  {
   "cell_type": "code",
   "execution_count": 2,
   "metadata": {},
   "outputs": [],
   "source": [
    "def getTrajectoryData(fileName):\n",
    "    dataFile = open(fileName, 'r')\n",
    "    d2hs=[]\n",
    "    discardHeader = dataFile.readline()\n",
    "    for line in dataFile:\n",
    "        dhs = line.split()\n",
    "        d2h={'d':None,'h':[]}\n",
    "        # the distance in first column\n",
    "        d2h['d']=float(dhs[0])\n",
    "        trials=len(dhs)-1\n",
    "        for i in range(trials):\n",
    "            d2h['h'].append(float(dhs[i+1]))\n",
    "        d2hs.append(d2h)\n",
    "    dataFile.close()\n",
    "    return  d2hs,trials"
   ]
  },
  {
   "cell_type": "code",
   "execution_count": 3,
   "metadata": {},
   "outputs": [
    {
     "name": "stdout",
     "output_type": "stream",
     "text": [
      "{'d': 1080.0, 'h': [0.0, 0.0, 0.0, 0.0]}\n",
      "{'d': 1044.0, 'h': [2.25, 3.25, 4.5, 6.5]}\n",
      "{'d': 1008.0, 'h': [5.25, 6.5, 6.5, 8.75]}\n",
      "{'d': 972.0, 'h': [7.5, 7.75, 8.25, 9.25]}\n",
      "{'d': 936.0, 'h': [8.75, 9.25, 9.5, 10.5]}\n",
      "{'d': 900.0, 'h': [12.0, 12.25, 12.5, 14.75]}\n",
      "{'d': 864.0, 'h': [13.75, 16.0, 16.6, 16.5]}\n",
      "{'d': 828.0, 'h': [14.75, 15.25, 15.5, 17.5]}\n",
      "{'d': 792.0, 'h': [15.5, 16.0, 16.6, 16.75]}\n",
      "{'d': 756.0, 'h': [17.0, 17.0, 17.5, 19.25]}\n",
      "{'d': 720.0, 'h': [17.5, 18.5, 18.5, 19.0]}\n",
      "{'d': 540.0, 'h': [19.5, 18.5, 19.0, 19.0]}\n",
      "{'d': 360.0, 'h': [18.5, 18.5, 19.0, 19.0]}\n",
      "{'d': 180.0, 'h': [13.0, 13.0, 13.0, 13.0]}\n",
      "{'d': 0.0, 'h': [0.0, 0.0, 0.0, 0.0]}\n"
     ]
    }
   ],
   "source": [
    "fileName='./data/projectileData.txt'\n",
    "d2hs,trials = getTrajectoryData(fileName)\n",
    "for item in d2hs:\n",
    "    print(item) "
   ]
  },
  {
   "cell_type": "code",
   "execution_count": 4,
   "metadata": {},
   "outputs": [
    {
     "data": {
      "image/png": "[encoded data removed]",
      "text/plain": [
       "<Figure size 432x288 with 1 Axes>"
      ]
     },
     "metadata": {
      "needs_background": "light"
     },
     "output_type": "display_data"
    }
   ],
   "source": [
    "import numpy as np\n",
    "import matplotlib.pyplot as plt\n",
    "\n",
    "def processTrajectories(d2hs,trials):\n",
    "    numTrials = trials\n",
    "    distances=[]\n",
    "    meanHeights=[]\n",
    "    \n",
    "    for item in d2hs:\n",
    "        distances.append(item['d'])\n",
    "        meanHeights.append(np.mean(item['h']))\n",
    "    \n",
    "    plt.title('Trajectory of Projectile (Mean Height of '\\\n",
    "                + str(numTrials) + ' Trials)')\n",
    "    plt.xlabel('Inches from Launch Point')\n",
    "    plt.ylabel('Mean Height of the projectile')\n",
    "   \n",
    "    plt.plot( distances, meanHeights, 'ro')\n",
    "   \n",
    "    a,b = np.polyfit(distances, meanHeights, 1)\n",
    "    altitudes = a*np.array(distances) + b\n",
    "    plt.plot(distances, altitudes, 'g', label = 'Linear Fit')\n",
    "    \n",
    "    a,b,c = np.polyfit(distances, meanHeights, 2)\n",
    " \n",
    "    altitudes = a*(np.array(distances)**2) +  b*np.array(distances) + c\n",
    "    plt.plot(distances, altitudes, 'b:', label = 'Quadratic Fit')\n",
    "    plt.legend()\n",
    "\n",
    "processTrajectories(d2hs,trials)"
   ]
  },
  {
   "cell_type": "markdown",
   "metadata": {},
   "source": [
    "A quick look at the plot on the right makes it quite clear that\n",
    "\n",
    "* a **quadratic** fit is far better than a linear one\n",
    "\n",
    "<b style=\"color:blue;font-size:120%\">how bad a fit is the line and how good is the quadratic fit?</b>"
   ]
  },
  {
   "cell_type": "markdown",
   "metadata": {},
   "source": [
    "### 2.1 Coefficient of Determination\n",
    "\n",
    "Asking about **the goodness of a fit** is equivalent to asking about the accuracy of these predictions.\n",
    "\n",
    "<b>The mean square error</b> is useful for comparing the <b>relative goodness</b> of two fits to the same data, \n",
    "\n",
    "it is <b>not particularly useful for getting a sense of the absolute goodness of a fit</b>.\n",
    "\n",
    "We can calculate <b>the absolute goodness of a fit</b> using the <b>coefficient of determination(确定系数)</b>, often written as\n",
    "\n",
    "$R^2$\n",
    "\n",
    "Let:\n",
    "\n",
    "* $y_i$ be the $i^{th}$ observed value,\n",
    "\n",
    "* $p_i$ be the corresponding value predicted by model, and \n",
    "\n",
    "* $\\mu$ be the **mean** of the observed values.\n",
    "\n",
    "$$R^2=1-\\frac{\\sum_{i}(y_i-p_i)^2}{\\sum_{i}(y_i-\\mu)^2}$$\n",
    "\n",
    "By comparing\n",
    "\n",
    "<b>the estimation errors</b> (<b>RSS: residual sum of squares</b>) \n",
    "\n",
    "$\\sum_{i}(y_i-p_i)^2$\n",
    "\n",
    "with\n",
    "\n",
    "<b>the variability of the original values</b> ( <b>TSS: total sum of squares</b>), \n",
    "\n",
    "$\\sum_{i}(y_i-\\mu)^2$\n",
    "\n",
    "$R^2$ is intended to capture <b>the proportion of variability </b> in a data set that is accounted for by the statistical model provided by the fit.\n",
    "\n",
    "Its <b>compactness</b> stems from the expressiveness of the operations on <b>arrays</b>."
   ]
  },
  {
   "cell_type": "code",
   "execution_count": 6,
   "metadata": {},
   "outputs": [],
   "source": [
    "def rSquared(measured, predicted):\n",
    "    \"\"\"Assumes measured a one-dimensional array of measured values\n",
    "               predicted a one-dimensional array of predicted values\n",
    "       Returns coefficient of determination\"\"\"\n",
    "    # RSS: residual sum of squares\n",
    "    estimateError = ((predicted - measured)**2).sum()\n",
    "    \n",
    "    # TSS: total sum of squares\n",
    "    meanOfMeasured = sum(measured)/float(len(measured))\n",
    "    variability = ((measured - meanOfMeasured)**2).sum()\n",
    "    \n",
    "    return 1 - estimateError/variability"
   ]
  },
  {
   "cell_type": "code",
   "execution_count": 7,
   "metadata": {},
   "outputs": [
    {
     "data": {
      "image/png": "[encoded data removed]",
      "text/plain": [
       "<Figure size 432x288 with 1 Axes>"
      ]
     },
     "metadata": {
      "needs_background": "light"
     },
     "output_type": "display_data"
    }
   ],
   "source": [
    "%matplotlib inline\n",
    "\n",
    "import numpy as np\n",
    "import matplotlib.pyplot as plt\n",
    "\n",
    "def processTrajectories(d2hs,trials):\n",
    "    numTrials = trials\n",
    "    distances=[]\n",
    "    meanHeights=[]\n",
    "    \n",
    "    for item in d2hs:\n",
    "        distances.append(item['d'])\n",
    "        meanHeights.append(np.mean(item['h']))\n",
    "    \n",
    "    plt.title('Trajectory of Projectile (Mean Height of '\\\n",
    "                + str(numTrials) + ' Trials)')\n",
    "    plt.xlabel('Inches from Launch Point')\n",
    "    plt.ylabel('Mean Height of the projectile')\n",
    "   \n",
    "    plt.plot( distances, meanHeights, 'ro')\n",
    "   \n",
    "    a,b = np.polyfit(distances, meanHeights, 1)\n",
    "    altitudes = a*np.array(distances) + b\n",
    "    \n",
    "    residuals1=rSquared(meanHeights, altitudes)\n",
    "    plt.plot(distances, altitudes, 'g', label = 'Linear Fit, $R^2$='+str(residuals1))\n",
    "    \n",
    "    a,b,c = np.polyfit(distances, meanHeights, 2)\n",
    " \n",
    "    altitudes = a*(np.array(distances)**2) +  b*np.array(distances) + c\n",
    "             \n",
    "    r2quad=rSquared(meanHeights, altitudes)          \n",
    "    plt.plot(distances, altitudes, 'b:',label = 'Quadratic Fit, $R^2$='+str(r2quad))\n",
    "    plt.legend()\n",
    "\n",
    "processTrajectories(d2hs,trials)"
   ]
  },
  {
   "cell_type": "markdown",
   "metadata": {},
   "source": [
    "This tells us that \n",
    "\n",
    "* 1 less than 2% of the variation in the measured data can be explained by the linear model,\n",
    "\n",
    "* 2 more than **98%** of the  variation can be explained by the quadratic model"
   ]
  },
  {
   "cell_type": "markdown",
   "metadata": {},
   "source": [
    "#### Matplotlib.pyplot: Formatting text: LaTeX\n",
    "\n",
    "Matplotlib has great support for LaTeX. All we need to do is to use dollar signs encapsulate LaTeX in any text (legend, title, label, etc.).\n",
    "\n",
    "For example, `$R^2$`.\n",
    "\n",
    "$R^2$"
   ]
  },
  {
   "cell_type": "markdown",
   "metadata": {},
   "source": [
    "## 3 When Theory Is Missing\n",
    "\n",
    "In an ideal world, we would run **a controlled experiment** (e.g., hang weights from a spring), study the results, and retrospectively formulate a model consistent\n",
    "with those results.\n",
    "\n",
    "Unfortunately, in many cases it is **impossible to run even one controlled experiment**\n",
    "\n",
    "In such situations, one can **simulate a set of experiments** by dividing the existing data into **a training set** and **a holdout set**.\n",
    "\n",
    "### How does one choose the training set?\n",
    "\n",
    "1. One way to do this is to **randomly choose the samples** for the training set.\n",
    "\n",
    "2.  A related but slightly different way to check a model is to train on **many randomly selected subsets** of the original data, and see how similar the models are to one another. \n",
    "\n",
    "If they are quite similar, than we can feel pretty good. This  approach is known as **cross validation**. \n"
   ]
  },
  {
   "cell_type": "code",
   "execution_count": null,
   "metadata": {},
   "outputs": [],
   "source": []
  }
 ],
 "metadata": {
  "kernelspec": {
   "display_name": "Python 3",
   "language": "python",
   "name": "python3"
  },
  "language_info": {
   "codemirror_mode": {
    "name": "ipython",
    "version": 3
   },
   "file_extension": ".py",
   "mimetype": "text/x-python",
   "name": "python",
   "nbconvert_exporter": "python",
   "pygments_lexer": "ipython3",
   "version": "3.8.0"
  },
  "toc": {
   "base_numbering": 1,
   "nav_menu": {},
   "number_sections": false,
   "sideBar": true,
   "skip_h1_title": false,
   "title_cell": "Table of Contents",
   "title_sidebar": "Contents",
   "toc_cell": false,
   "toc_position": {
    "height": "calc(100% - 180px)",
    "left": "10px",
    "top": "150px",
    "width": "165px"
   },
   "toc_section_display": true,
   "toc_window_display": false
  },
  "widgets": {
   "state": {},
   "version": "1.1.2"
  }
 },
 "nbformat": 4,
 "nbformat_minor": 1
}
