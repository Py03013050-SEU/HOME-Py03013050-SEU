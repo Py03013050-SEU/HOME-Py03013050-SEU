{
 "cells": [
  {
   "cell_type": "markdown",
   "metadata": {},
   "source": [
    "#  Iterator and Generator(迭代器与生成器)"
   ]
  },
  {
   "cell_type": "markdown",
   "metadata": {},
   "source": [
    "## 1 Iterator\n",
    "\n",
    "### 1.1 Iterable\n",
    "\n",
    "**Iterable（可迭代的）** is an object, which one can `iterate over` with a **for** loop.\n",
    "\n",
    "* list,tuple, string etc. are iterables.\n",
    " \n",
    "**all items in the object**\n",
    "\n",
    "  \n"
   ]
  },
  {
   "cell_type": "code",
   "execution_count": null,
   "metadata": {},
   "outputs": [],
   "source": [
    "favorite_numbers = [6, 57, 4, 7, 68, 95]\n",
    "for item in favorite_numbers:\n",
    "    print(item)"
   ]
  },
  {
   "cell_type": "markdown",
   "metadata": {},
   "source": [
    "### 1.2 Iterator \n",
    "\n",
    "**Iterator(迭代器)** is an object, which implements two special methods, `__iter__()` and `__next__()`, collectively called the iterator protocol. \n",
    "\n",
    "\n",
    "* `__iter__`method: returns `the iterator of the givern object`\n",
    "   * use `iter()`,which calls the `__iter__()` method, returns an iterator object for that iterable\n",
    "   \n",
    "* `__next__()`method: returns the next item of the object\n",
    "  * return data, `one element at a time`\n",
    "  * use the next()，which call the `__next__()` method, manually iterate through all the items of an iterator\n",
    "\n",
    "\n",
    "**no items in the object,the item produced as you call `__next__` 应需计算值**\n",
    "\n"
   ]
  },
  {
   "cell_type": "markdown",
   "metadata": {},
   "source": [
    "##### The Example  Iterator Object of  integer list of [1,2,...n] "
   ]
  },
  {
   "cell_type": "code",
   "execution_count": 1,
   "metadata": {},
   "outputs": [],
   "source": [
    "class iter_n:      \n",
    "    \n",
    "    def __init__(self, n):\n",
    "        self.counter = n\n",
    "        self.curnum = 0\n",
    "   \n",
    "    def __next__(self):\n",
    "        \"\"\"\n",
    "          returned the number asked for… stop the iteration:\n",
    "        \"\"\"\n",
    "        if self.counter == 0:\n",
    "            raise StopIteration\n",
    "        self.counter -= 1\n",
    "        self.curnum +=1 \n",
    "        return  self.curnum \n",
    "    \n",
    "    def __iter__(self):\n",
    "        \"\"\"\n",
    "         Return an object that exposes an __next__ method.\n",
    "         self is such an object\n",
    "        \"\"\"\n",
    "        return self\n"
   ]
  },
  {
   "cell_type": "code",
   "execution_count": 2,
   "metadata": {},
   "outputs": [
    {
     "name": "stdout",
     "output_type": "stream",
     "text": [
      "1\n",
      "2\n",
      "3\n"
     ]
    }
   ],
   "source": [
    "itnum=iter_n(12)\n",
    "print(next(itnum))\n",
    "print(next(itnum))\n",
    "print(next(itnum))"
   ]
  },
  {
   "cell_type": "code",
   "execution_count": 3,
   "metadata": {},
   "outputs": [
    {
     "name": "stdout",
     "output_type": "stream",
     "text": [
      "4\n",
      "5\n",
      "6\n",
      "7\n",
      "8\n",
      "9\n",
      "10\n",
      "11\n",
      "12\n"
     ]
    }
   ],
   "source": [
    "for item in itnum:\n",
    "    print(item)"
   ]
  },
  {
   "cell_type": "markdown",
   "metadata": {},
   "source": [
    "### 1.3 iterable and iterator\n",
    "\n",
    "Every iterator is also an iterable, but `not every iterable is an iterator`. \n",
    "\n",
    "For example, `a list is iterable but a list is not an iterator`.\n",
    "\n",
    "We can get an iterator from any iterable by calling the built-in `iter` function on the iterable."
   ]
  },
  {
   "cell_type": "code",
   "execution_count": 4,
   "metadata": {},
   "outputs": [
    {
     "ename": "TypeError",
     "evalue": "'list' object is not an iterator",
     "output_type": "error",
     "traceback": [
      "\u001b[1;31m---------------------------------------------------------------------------\u001b[0m",
      "\u001b[1;31mTypeError\u001b[0m                                 Traceback (most recent call last)",
      "\u001b[1;32m<ipython-input-4-bf750c651b2d>\u001b[0m in \u001b[0;36m<module>\u001b[1;34m\u001b[0m\n\u001b[0;32m      1\u001b[0m \u001b[0mfavorite_numbers\u001b[0m \u001b[1;33m=\u001b[0m \u001b[1;33m[\u001b[0m\u001b[1;36m6\u001b[0m\u001b[1;33m,\u001b[0m \u001b[1;36m57\u001b[0m\u001b[1;33m,\u001b[0m \u001b[1;36m4\u001b[0m\u001b[1;33m,\u001b[0m \u001b[1;36m7\u001b[0m\u001b[1;33m,\u001b[0m \u001b[1;36m68\u001b[0m\u001b[1;33m,\u001b[0m \u001b[1;36m95\u001b[0m\u001b[1;33m]\u001b[0m\u001b[1;33m\u001b[0m\u001b[1;33m\u001b[0m\u001b[0m\n\u001b[1;32m----> 2\u001b[1;33m \u001b[0mnext\u001b[0m\u001b[1;33m(\u001b[0m\u001b[0mfavorite_numbers\u001b[0m\u001b[1;33m)\u001b[0m\u001b[1;33m\u001b[0m\u001b[1;33m\u001b[0m\u001b[0m\n\u001b[0m",
      "\u001b[1;31mTypeError\u001b[0m: 'list' object is not an iterator"
     ]
    }
   ],
   "source": [
    "favorite_numbers = [6, 57, 4, 7, 68, 95]\n",
    "next(favorite_numbers)"
   ]
  },
  {
   "cell_type": "code",
   "execution_count": 5,
   "metadata": {},
   "outputs": [],
   "source": [
    "my_iter=iter(favorite_numbers) "
   ]
  },
  {
   "cell_type": "code",
   "execution_count": 6,
   "metadata": {},
   "outputs": [
    {
     "data": {
      "text/plain": [
       "6"
      ]
     },
     "execution_count": 6,
     "metadata": {},
     "output_type": "execute_result"
    }
   ],
   "source": [
    "next(my_iter)"
   ]
  },
  {
   "cell_type": "code",
   "execution_count": 7,
   "metadata": {},
   "outputs": [
    {
     "data": {
      "text/plain": [
       "57"
      ]
     },
     "execution_count": 7,
     "metadata": {},
     "output_type": "execute_result"
    }
   ],
   "source": [
    "next(my_iter)"
   ]
  },
  {
   "cell_type": "markdown",
   "metadata": {},
   "source": [
    "### 1.4 Why make an iterator?\n",
    "\n",
    "* **iterators can save memory, they can also save time.** \n",
    "\n",
    "Iterators allow you to make an iterable that computes its `items as it goes`. Which means that \n",
    "\n",
    "* you can make iterables that are `lazy`(**延迟计算**), \n",
    "  * in that they don’t determine what their next item is `until you ask them for it`.（**应需计算**）\n",
    "\n",
    "Using an iterator instead of `a list, dict, or another iterable data structure` can sometimes allow us to `save memory`. \n",
    "\n",
    "For example, we can use `itertools.repeat` to create an `iterable` that provides 100 million 4’s(**一亿**） to us:\n",
    "\n"
   ]
  },
  {
   "cell_type": "code",
   "execution_count": 8,
   "metadata": {},
   "outputs": [],
   "source": [
    "from itertools import repeat\n",
    "lots_of_fours = repeat(4, times=100_000_000)"
   ]
  },
  {
   "cell_type": "markdown",
   "metadata": {},
   "source": [
    "This iterator takes up **ONLY 48 bytes** of memory on my machine:\n",
    "\n"
   ]
  },
  {
   "cell_type": "code",
   "execution_count": 9,
   "metadata": {},
   "outputs": [
    {
     "data": {
      "text/plain": [
       "48"
      ]
     },
     "execution_count": 9,
     "metadata": {},
     "output_type": "execute_result"
    }
   ],
   "source": [
    "import sys\n",
    "sys.getsizeof(lots_of_fours)"
   ]
  },
  {
   "cell_type": "markdown",
   "metadata": {},
   "source": [
    "An equivalent list of 100 million 4’s takes up **many megabytes of memory**:\n",
    "\n",
    "* `Underscores` in Numeric Literals(Python 3.6 above): write `long numbers` with underscores\n",
    "  * 100_000_000 is 100000000\n"
   ]
  },
  {
   "cell_type": "code",
   "execution_count": 10,
   "metadata": {},
   "outputs": [
    {
     "data": {
      "text/plain": [
       "800000056"
      ]
     },
     "execution_count": 10,
     "metadata": {},
     "output_type": "execute_result"
    }
   ],
   "source": [
    "lots_of_fours = [4] * 100_000_000\n",
    "import sys\n",
    "sys.getsizeof(lots_of_fours)"
   ]
  },
  {
   "cell_type": "markdown",
   "metadata": {},
   "source": [
    "\n",
    "An iterator can be created from an iterable by using the function `iter()`. "
   ]
  },
  {
   "cell_type": "code",
   "execution_count": 11,
   "metadata": {},
   "outputs": [
    {
     "data": {
      "text/plain": [
       "48"
      ]
     },
     "execution_count": 11,
     "metadata": {},
     "output_type": "execute_result"
    }
   ],
   "source": [
    "itlots_of_fours=iter(lots_of_fours )\n",
    "import sys\n",
    "sys.getsizeof(itlots_of_fours)"
   ]
  },
  {
   "cell_type": "markdown",
   "metadata": {},
   "source": [
    "**iterators can save memory, they can also save time.** "
   ]
  },
  {
   "cell_type": "markdown",
   "metadata": {},
   "source": [
    "## 2 Generator\n",
    "\n",
    "\n",
    "https://wiki.python.org/moin/Generators\n",
    "\n",
    "* A generator（生成器）.is the easiest ways to make the iterators\n",
    "\n",
    "* A generator function is the best way to make an iterator\n",
    "\n",
    "### Generator function\n",
    "\n",
    "**Generator function**: the <b style=\"color:blue\">function</b> definition containing a <b style=\"color:blue\">yield</b> statement is treated in a special way.\n",
    "\n",
    "* <b style=\"color:blue\">Generators</b> are typically used in conjunction with <b style=\"color:blue\">for</b>   or  <b style=\"color:blue\">while</b> statements\n",
    "\n",
    "```python\n",
    "def namefunction(formal_parameters):\n",
    "    ...\n",
    "    for statements\n",
    "    # while statements\n",
    "       yield item\n",
    "    ...\n",
    "```\n",
    "####  yield ：\n",
    "\n",
    "**1 The `first iteration`**\n",
    "\n",
    "At the start of the `first iteration` of a for loop, \n",
    "\n",
    "the interpreter starts executing the code in the body of the generator. \n",
    "\n",
    "It runs until the `first time` a `yield` statement is executed, at which point \n",
    "    \n",
    "it returns `the value of the expression in the yield statement`. \n",
    "\n",
    "**2 On the `next iteration`**\n",
    "\n",
    "the generator `resumes` execution immediately following the yield, \n",
    "    \n",
    "with all local variables bound to the objects to which they were bound \n",
    "    \n",
    "when the yield statement was executed, and again runs until a `yield` statement is executed. \n",
    "\n",
    "**3 It continues to do this** \n",
    "\n",
    "until it runs out of code to execute or executes a return statement, at which point the loop is exited.\n",
    "\n",
    "####  yield 运行机制：\n",
    "  \n",
    "* 1 当向生成器`要一个数`时，生成器会执行，直至出现` yield` 语句，生成器返回` yield` 语句表达式的数值，之后生成器不往下继续运行。\n",
    "\n",
    "* 2 当需要`下一个数`时，会从**上次状态**开始运行，直至出现`yield`语句，返回其表达式的数值。\n",
    "    \n",
    "* 3 如此反复,直至退出函数 "
   ]
  },
  {
   "cell_type": "markdown",
   "metadata": {},
   "source": [
    "The code is quite simple and straightforward, but its builds the **`full` [1,2,...,n] list in `memory`**"
   ]
  },
  {
   "cell_type": "code",
   "execution_count": 12,
   "metadata": {},
   "outputs": [],
   "source": [
    "def list_n(n):\n",
    "    \"\"\" Build and return a full [1,2,...,n] list in memory\"\"\"\n",
    "    num, nums = 0, []\n",
    "    while num < n:\n",
    "        nums.append(num)\n",
    "        num += 1\n",
    "    return nums"
   ]
  },
  {
   "cell_type": "code",
   "execution_count": 13,
   "metadata": {},
   "outputs": [
    {
     "name": "stdout",
     "output_type": "stream",
     "text": [
      "[0, 1, 2, 3, 4, 5, 6, 7, 8, 9, 10, 11, 12, 13, 14, 15, 16, 17, 18, 19, 20, 21, 22, 23, 24, 25, 26, 27, 28, 29, 30, 31, 32, 33, 34, 35, 36, 37, 38, 39, 40, 41, 42, 43, 44, 45, 46, 47, 48, 49, 50, 51, 52, 53, 54, 55, 56, 57, 58, 59, 60, 61, 62, 63, 64, 65, 66, 67, 68, 69, 70, 71, 72, 73, 74, 75, 76, 77, 78, 79, 80, 81, 82, 83, 84, 85, 86, 87, 88, 89, 90, 91, 92, 93, 94, 95, 96, 97, 98, 99]\n",
      "4950\n",
      "4950\n"
     ]
    }
   ],
   "source": [
    "# 1 call the function\n",
    "l=list_n(100)\n",
    "print(l)     \n",
    "\n",
    "# 2 call the function\n",
    "sum_of_list_n=0\n",
    "for s in l:\n",
    "    sum_of_list_n +=s\n",
    "print(sum_of_list_n)    \n",
    "\n",
    "# using sum()\n",
    "sum_of_list_n = sum(l)\n",
    "print(sum_of_list_n)\n"
   ]
  },
  {
   "cell_type": "markdown",
   "metadata": {},
   "source": [
    "The generator function(`def genfun(n)`)that `yields` **item** instead of returning a `list`\n",
    "\n",
    "\n",
    "\n",
    "```python\n",
    "def genfunfirstn(n):\n",
    "     ...\n",
    "    while num < n:\n",
    "       yield num\n",
    "      ...\n",
    "```\n",
    "\n"
   ]
  },
  {
   "cell_type": "code",
   "execution_count": 14,
   "metadata": {},
   "outputs": [],
   "source": [
    "def gfun_n(n):\n",
    "    \"\"\" the generator that yields item instead of returning a list\"\"\"\n",
    "    curnum = 0\n",
    "    while curnum < n:\n",
    "        \n",
    "        yield curnum\n",
    "        \n",
    "        curnum += 1"
   ]
  },
  {
   "cell_type": "code",
   "execution_count": 15,
   "metadata": {},
   "outputs": [
    {
     "name": "stdout",
     "output_type": "stream",
     "text": [
      "<generator object gfun_n at 0x0000020F4A161120>\n",
      "4950\n"
     ]
    }
   ],
   "source": [
    " #1 create generator object \n",
    "print(gfun_n(100))\n",
    "\n",
    "# 2 call the generator\n",
    "sum_of_first_n = sum(gfun_n(100))\n",
    "print(sum_of_first_n)"
   ]
  },
  {
   "cell_type": "markdown",
   "metadata": {},
   "source": [
    "**Generator can save memory, but Generator can sometimes save time also**\n",
    "\n",
    "*  without Generator: the full list in memory\n",
    "    \n",
    "*  Generator : yields items instead of returning a list as you need\n",
    "    "
   ]
  },
  {
   "cell_type": "markdown",
   "metadata": {},
   "source": [
    " ### Generator expressions\n",
    "    \n",
    "Generator expressions are a list `comprehension-like` syntax that allow us to make a generator object.\n",
    "    \n",
    "  \n",
    "We could create a `generator` instead of a `list,` by turning the square brackets[] of that comprehension into parenthesis(): \n",
    "\n",
    "* [] : List Comprehension\n",
    "\n",
    "* () : Generator expressions"
   ]
  },
  {
   "cell_type": "code",
   "execution_count": 16,
   "metadata": {},
   "outputs": [
    {
     "name": "stdout",
     "output_type": "stream",
     "text": [
      "[1, 2, 3, 4, 5, 6, 7, 8, 9, 10, 11, 12, 13, 14, 15, 16, 17, 18, 19, 20, 21, 22, 23, 24, 25, 26, 27, 28, 29, 30, 31, 32, 33, 34, 35, 36, 37, 38, 39, 40, 41, 42, 43, 44, 45, 46, 47, 48, 49, 50, 51, 52, 53, 54, 55, 56, 57, 58, 59, 60, 61, 62, 63, 64, 65, 66, 67, 68, 69, 70, 71, 72, 73, 74, 75, 76, 77, 78, 79, 80, 81, 82, 83, 84, 85, 86, 87, 88, 89, 90, 91, 92, 93, 94, 95, 96, 97, 98, 99]\n"
     ]
    }
   ],
   "source": [
    "L = [x for x in range(1,100)]\n",
    "print(L)"
   ]
  },
  {
   "cell_type": "markdown",
   "metadata": {},
   "source": [
    "* () : Generator expressions"
   ]
  },
  {
   "cell_type": "code",
   "execution_count": 17,
   "metadata": {},
   "outputs": [
    {
     "data": {
      "text/plain": [
       "<generator object <genexpr> at 0x0000020F4A161430>"
      ]
     },
     "execution_count": 17,
     "metadata": {},
     "output_type": "execute_result"
    }
   ],
   "source": [
    "GL=(x for x in range(1,100))\n",
    "GL"
   ]
  },
  {
   "cell_type": "code",
   "execution_count": 18,
   "metadata": {},
   "outputs": [
    {
     "data": {
      "text/plain": [
       "1"
      ]
     },
     "execution_count": 18,
     "metadata": {},
     "output_type": "execute_result"
    }
   ],
   "source": [
    "next(GL)"
   ]
  },
  {
   "cell_type": "code",
   "execution_count": 19,
   "metadata": {},
   "outputs": [
    {
     "name": "stdout",
     "output_type": "stream",
     "text": [
      "4949\n"
     ]
    }
   ],
   "source": [
    "# 2 call the generator\n",
    "sum_of_first_n = sum(GL)\n",
    "print(sum_of_first_n)"
   ]
  },
  {
   "cell_type": "markdown",
   "metadata": {},
   "source": [
    "## The Class Port\n",
    "\n",
    "Set items `{key:value}` in dict of the instance of class "
   ]
  },
  {
   "cell_type": "code",
   "execution_count": 5,
   "metadata": {},
   "outputs": [],
   "source": [
    "from phyprops.prop_coolprop import *\n",
    "\n",
    "class Port:\n",
    "    cycle_refrigerant = 'R134a'\n",
    "  \n",
    "    def __init__(self):\n",
    "        \"\"\" create the node object\"\"\"\n",
    "        self.refrigerant = Port.cycle_refrigerant\n",
    "        self.p = None\n",
    "        self.t = None\n",
    "        self.h = None\n",
    "      \n",
    "    def state(self):\n",
    "        if self.p !=None and self.t!=None:\n",
    "            self.h = pt_h(self.p,self.t, self.refrigerant)\n",
    "   \n",
    "    def __str__(self):\n",
    "        result=(f'{self.p:6.3f} {self.t:6.2f} {self.h:7.2f}')\n",
    "        return  result    \n",
    "   \n",
    "    def __iter__(self):\n",
    "        \"\"\" set the dict of the object \"\"\"\n",
    "        objdict = { 'p': self.p,\n",
    "               't': self.t,\n",
    "               'h': self.h\n",
    "               }\n",
    "        for key, value in objdict.items():\n",
    "            yield (key, value)"
   ]
  },
  {
   "cell_type": "code",
   "execution_count": 9,
   "metadata": {},
   "outputs": [
    {
     "name": "stdout",
     "output_type": "stream",
     "text": [
      "{'refrigerant': 'R134a', 'p': 0.72, 't': 26, 'h': 87.8295253155905}\n",
      "Set items {key:value} in dict of the instance of class\n",
      "{'p': 0.72, 't': 26, 'h': 87.8295253155905}\n"
     ]
    }
   ],
   "source": [
    "port1=Port()\n",
    "port1.p=0.72\n",
    "port1.t=26\n",
    "port1.state()\n",
    "print(port1.__dict__)\n",
    "print(\"Set items {key:value} in dict of the instance of class\")\n",
    "print(dict(port1))"
   ]
  },
  {
   "cell_type": "markdown",
   "metadata": {},
   "source": [
    "## Reference\n",
    "\n",
    "* [Python Tutorial: Iterators](https://docs.python.org/3/tutorial/classes.html#Iterators)\n",
    "\n",
    "* [Python Tutorial: Generators](https://docs.python.org/3/tutorial/classes.html#generators)"
   ]
  },
  {
   "cell_type": "code",
   "execution_count": null,
   "metadata": {},
   "outputs": [],
   "source": []
  }
 ],
 "metadata": {
  "kernelspec": {
   "display_name": "Python 3 (ipykernel)",
   "language": "python",
   "name": "python3"
  },
  "language_info": {
   "codemirror_mode": {
    "name": "ipython",
    "version": 3
   },
   "file_extension": ".py",
   "mimetype": "text/x-python",
   "name": "python",
   "nbconvert_exporter": "python",
   "pygments_lexer": "ipython3",
   "version": "3.10.5"
  },
  "toc": {
   "base_numbering": 1,
   "nav_menu": {},
   "number_sections": false,
   "sideBar": true,
   "skip_h1_title": false,
   "title_cell": "Table of Contents",
   "title_sidebar": "Contents",
   "toc_cell": false,
   "toc_position": {
    "height": "calc(100% - 180px)",
    "left": "10px",
    "top": "150px",
    "width": "165px"
   },
   "toc_section_display": true,
   "toc_window_display": true
  },
  "vscode": {
   "interpreter": {
    "hash": "369f2c481f4da34e4445cda3fffd2e751bd1c4d706f27375911949ba6bb62e1c"
   }
  },
  "widgets": {
   "state": {},
   "version": "1.1.2"
  }
 },
 "nbformat": 4,
 "nbformat_minor": 1
}
