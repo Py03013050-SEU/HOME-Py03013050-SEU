{
 "cells": [
  {
   "cell_type": "markdown",
   "metadata": {},
   "source": [
    "# Unit Test for C/C++\n",
    "\n",
    "Unit testing frameworks for C/C++ are most often **third-party products** that are `not distributed as part of the compiler suite`. They help simplify the process of unit testing,\n",
    "\n",
    "* [Google Test](https://github.com/google/googletest)\n",
    "\n",
    "* Microsoft Unit Testing Framework for C++\n",
    "\n",
    "\n"
   ]
  },
  {
   "cell_type": "markdown",
   "metadata": {},
   "source": [
    "## Googletest\n",
    "\n",
    "googletest helps you write better C++ tests.\n",
    "\n",
    "googletest is a testing framework developed by the Testing Technology team with Google's specific requirements and constraints in mind.\n",
    "\n",
    "No matter whether you work on Linux, Windows, or a Mac, if you write C++ code, googletest can help you. And it supports any kind of tests, not just unit tests.    \n",
    "\n",
    "\n",
    "**.\\notebook\\gtest_windows**\n",
    "\n"
   ]
  },
  {
   "cell_type": "code",
   "execution_count": 1,
   "metadata": {},
   "outputs": [
    {
     "name": "stdout",
     "output_type": "stream",
     "text": [
      " 驱动器 J 中的卷是 cmh\n",
      " 卷的序列号是 9C25-3306\n",
      "\n",
      " J:\\SEU\\SEECW\\SE\\SEES\\notebook\\gtest_windows 的目录\n",
      "\n",
      "2022/05/22  23:33    <DIR>          .\n",
      "2022/05/22  23:33    <DIR>          ..\n",
      "2022/05/22  23:38    <DIR>          bin\n",
      "2022/05/22  23:23    <DIR>          include\n",
      "2022/05/22  23:23    <DIR>          lib\n",
      "2019/01/08  16:50             1,541 LICENSE\n",
      "2022/05/22  23:17               710 README.md\n",
      "2022/05/22  23:33    <DIR>          src\n",
      "               2 个文件          2,251 字节\n",
      "               6 个目录 94,070,878,208 可用字节\n"
     ]
    }
   ],
   "source": [
    "!dir .\\gtest_windows"
   ]
  },
  {
   "cell_type": "markdown",
   "metadata": {},
   "source": [
    "**Googletest Static Library for MinGW-W64(64)**\n",
    "\n",
    "* libgtest.a\n",
    "* libgtest_main.a\n",
    "\n",
    "Add `include and lib` paths to the environment variables:\n",
    "\n",
    "* `CPLUS_INCLUDE_PATH` and `C_INCLUDE_PATH` for include directories \n",
    " \n",
    "* `LIBRARY_PATH` for library directories: `lib`\n",
    "![](./img/se/gtestlib.jpg)\n",
    "\n"
   ]
  },
  {
   "cell_type": "code",
   "execution_count": 7,
   "metadata": {},
   "outputs": [
    {
     "name": "stdout",
     "output_type": "stream",
     "text": [
      " 驱动器 J 中的卷是 cmh\n",
      " 卷的序列号是 9C25-3306\n",
      "\n",
      " J:\\SEU\\SEECW\\SE\\SEES\\notebook\\gtest_windows\\lib 的目录\n",
      "\n",
      "2022/05/23  00:11    <DIR>          .\n",
      "2022/05/23  00:11    <DIR>          ..\n",
      "2022/05/23  00:09         3,940,442 libgtest.a\n",
      "2022/05/23  00:09             3,942 libgtest_main.a\n",
      "               2 个文件      3,944,384 字节\n",
      "               2 个目录 93,972,176,896 可用字节\n"
     ]
    }
   ],
   "source": [
    "!dir .\\gtest_windows\\lib"
   ]
  },
  {
   "cell_type": "markdown",
   "metadata": {},
   "source": [
    "### 1 To create a test\n",
    "\n",
    "Use the **TEST()** macro to define and name a test function, These are ordinary C++ functions that don't return a value.\n",
    "\n",
    "* In this function,use the various **googletest assertions** to check values.\n",
    "\n",
    "* The test's result is determined by the **assertions**\n",
    "\n",
    "if any assertion in the test fails (either fatally or non-fatally), or if the test crashes, the entire test fails. Otherwise, it succeeds.\n",
    "\n",
    "```cpp\n",
    "TEST(TestCaseName, TestName) {\n",
    "  ... test body ...\n",
    "}\n",
    "```\n",
    "\n",
    "**TEST()** arguments go from general to specific. \n",
    "\n",
    "* The first argument is **the name of the test case** \n",
    "\n",
    "* the second argument is the **test's name within the test case**\n",
    "\n",
    "Both names must be valid C++ identifiers, and they should not contain underscore (_). A test's full name consists of its containing test case and its individual name. Tests from different test cases can have the same individual name.\n",
    "\n",
    "\n",
    "### 2  Invoking the Tests\n",
    "\n",
    "**TEST()** implicitly **register** their tests with googletest. So, unlike with many other C++ testing frameworks, you don't have to re-list all your defined tests in order to run them.\n",
    "\n",
    "After defining your tests, you can run them with **RUN_ALL_TESTS()** , which returns 0 if all the tests are successful, or 1 otherwise. \n",
    "\n",
    "Note：`RUN_ALL_TESTS()` runs **all tests** in your link unit -- they can be from different test cases, or even different source files.\n",
    "\n",
    "The `::testing::InitGoogleTest()` function parses the command line for googletest flags, and removes all recognized flags. This allows the user to control a test program's behavior via various flags, which we'll cover in [AdvancedGuide](https://github.com/google/googletest/blob/master/googletest/docs/advanced.md). You must call this function before calling `RUN_ALL_TESTS()`, or the flags won't be properly initialized."
   ]
  },
  {
   "cell_type": "code",
   "execution_count": 9,
   "metadata": {},
   "outputs": [
    {
     "name": "stdout",
     "output_type": "stream",
     "text": [
      "Overwriting ./gtest_windows/example/demo_gtest.cpp\n"
     ]
    }
   ],
   "source": [
    "%%file ./gtest_windows/example/demo_gtest.cpp\n",
    "#include <gtest/gtest.h>\n",
    "\n",
    "TEST(MathTest, TwoPlusTwoEqualsFour)\n",
    "{\n",
    "       EXPECT_EQ(2 + 2, 4);\n",
    "}\n",
    "\n",
    "int main(int argc, char **argv)\n",
    "{\n",
    "  ::testing::InitGoogleTest(&argc, argv);\n",
    "  return RUN_ALL_TESTS();\n",
    "}"
   ]
  },
  {
   "cell_type": "code",
   "execution_count": 10,
   "metadata": {},
   "outputs": [],
   "source": [
    "!g++ -o ./gtest_windows/bin/demo_gtest  ./gtest_windows/example/demo_gtest.cpp -lgtest"
   ]
  },
  {
   "cell_type": "code",
   "execution_count": 11,
   "metadata": {},
   "outputs": [
    {
     "name": "stdout",
     "output_type": "stream",
     "text": [
      "[==========] Running 1 test from 1 test suite.\n",
      "[----------] Global test environment set-up.\n",
      "[----------] 1 test from MathTest\n",
      "[ RUN      ] MathTest.TwoPlusTwoEqualsFour\n",
      "[       OK ] MathTest.TwoPlusTwoEqualsFour (0 ms)\n",
      "[----------] 1 test from MathTest (0 ms total)\n",
      "\n",
      "[----------] Global test environment tear-down\n",
      "[==========] 1 test from 1 test suite ran. (0 ms total)\n",
      "[  PASSED  ] 1 test.\n"
     ]
    }
   ],
   "source": [
    "!.\\gtest_windows\\bin\\demo_gtest"
   ]
  },
  {
   "cell_type": "markdown",
   "metadata": {},
   "source": [
    "### 3  Invoking with gtest_main\n",
    "\n",
    "But maybe you think that writing all those **main()** functions is too much work? \n",
    "\n",
    "We agree with you completely and that's why Google Test provides a basic implementation of **main()** \n",
    "\n",
    "If it fits your needs, then just **link** your test with **gtest_main** library and you are good to go\n",
    "\n",
    "```bash\n",
    " -lgtest_main\n",
    "```\n"
   ]
  },
  {
   "cell_type": "code",
   "execution_count": 13,
   "metadata": {},
   "outputs": [
    {
     "name": "stdout",
     "output_type": "stream",
     "text": [
      "Overwriting ./gtest_windows/example/demo_gtest_main.cpp\n"
     ]
    }
   ],
   "source": [
    "%%file ./gtest_windows/example/demo_gtest_main.cpp\n",
    "#include <gtest/gtest.h>\n",
    "\n",
    "TEST(MathTest, TwoPlusTwoEqualsFour)\n",
    "{\n",
    "       EXPECT_EQ(2 + 2, 4);\n",
    "}"
   ]
  },
  {
   "cell_type": "code",
   "execution_count": 15,
   "metadata": {},
   "outputs": [],
   "source": [
    "!g++ -o ./gtest_windows/bin/demo_gtest_main  ./gtest_windows/example/demo_gtest_main.cpp -lgtest  -lgtest_main"
   ]
  },
  {
   "cell_type": "code",
   "execution_count": 17,
   "metadata": {},
   "outputs": [
    {
     "name": "stdout",
     "output_type": "stream",
     "text": [
      "Running main() from J:\\SEU\\cpptest\\CPPUnitTest\\googletest-main\\googletest\\src\\gtest_main.cc\n",
      "[==========] Running 1 test from 1 test suite.\n",
      "[----------] Global test environment set-up.\n",
      "[----------] 1 test from MathTest\n",
      "[ RUN      ] MathTest.TwoPlusTwoEqualsFour\n",
      "[       OK ] MathTest.TwoPlusTwoEqualsFour (0 ms)\n",
      "[----------] 1 test from MathTest (0 ms total)\n",
      "\n",
      "[----------] Global test environment tear-down\n",
      "[==========] 1 test from 1 test suite ran. (0 ms total)\n",
      "[  PASSED  ] 1 test.\n"
     ]
    }
   ],
   "source": [
    "!.\\gtest_windows\\bin\\demo_gtest_main"
   ]
  },
  {
   "cell_type": "markdown",
   "metadata": {},
   "source": [
    "## Reference\n",
    "\n",
    "* Googletest - Google Testing and Mocking Framework https://github.com/google/googletest\n",
    "\n",
    "* Arpan Sen. [A quick introduction to the Google C++ Testing Framework](https://www.ibm.com/developerworks/aix/library/au-googletestingframework.html)\n",
    "    \n",
    "* [Write unit tests for C/C++ in Visual Studio](https://docs.microsoft.com/en-us/visualstudio/test/writing-unit-tests-for-c-cpp?view=vs-2017)\n"
   ]
  },
  {
   "cell_type": "code",
   "execution_count": null,
   "metadata": {},
   "outputs": [],
   "source": []
  }
 ],
 "metadata": {
  "kernelspec": {
   "display_name": "Python 3",
   "language": "python",
   "name": "python3"
  },
  "language_info": {
   "codemirror_mode": {
    "name": "ipython",
    "version": 3
   },
   "file_extension": ".py",
   "mimetype": "text/x-python",
   "name": "python",
   "nbconvert_exporter": "python",
   "pygments_lexer": "ipython3",
   "version": "3.8.7"
  },
  "toc": {
   "base_numbering": 1,
   "nav_menu": {},
   "number_sections": false,
   "sideBar": true,
   "skip_h1_title": false,
   "title_cell": "Table of Contents",
   "title_sidebar": "Contents",
   "toc_cell": false,
   "toc_position": {
    "height": "calc(100% - 180px)",
    "left": "10px",
    "top": "150px",
    "width": "307.198px"
   },
   "toc_section_display": true,
   "toc_window_display": true
  },
  "widgets": {
   "state": {},
   "version": "1.1.2"
  }
 },
 "nbformat": 4,
 "nbformat_minor": 1
}
