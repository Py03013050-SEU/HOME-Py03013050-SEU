{
 "cells": [
  {
   "cell_type": "markdown",
   "metadata": {},
   "source": [
    "#  Responsive GUI with MultiThread\n",
    "\n",
    "* **Blocking GUI** :the single GUI thread with **infinite** loop\n",
    "\n",
    "* **Unblocking GUI**: the GUI thread and **I/O** thread\n",
    "\n",
    ">**Blocking(阻塞)** \n",
    ">The action or data that the call is requesting **not be available** at the time the call is made, \n",
    ">so the call will `wait` for the other end to respond in some fashion before returning to the caller.\n",
    ">it will also effectively `suspend your application` until it returns.\n",
    "\n",
    "## 1 PyQt5 \n",
    "\n",
    "### 1.1 The Example of  PyQt5 "
   ]
  },
  {
   "cell_type": "code",
   "execution_count": 1,
   "metadata": {},
   "outputs": [
    {
     "name": "stdout",
     "output_type": "stream",
     "text": [
      "Writing ./code/python/pyqt5-gui.py\n"
     ]
    }
   ],
   "source": [
    "%%file ./code/python/pyqt5-gui.py\n",
    "import sys\n",
    "from PyQt5.QtWidgets import QMainWindow, QPushButton,  QLabel,QApplication\n",
    "\n",
    "class Example(QMainWindow):\n",
    "    \n",
    "    def __init__(self):\n",
    "        super().__init__()\n",
    "        self.initUI()\n",
    "        \n",
    "        \n",
    "    def initUI(self):      \n",
    "\n",
    "        btn1 = QPushButton(\"Button 1\", self)\n",
    "        btn1.move(30, 50)\n",
    "\n",
    "        btn2 = QPushButton(\"Button 2\", self)\n",
    "        btn2.move(150, 50)\n",
    "      \n",
    "        btn1.clicked.connect(self.buttonClicked)            \n",
    "        btn2.clicked.connect(self.buttonClicked)\n",
    "        \n",
    "        self.label_1 = QLabel(\"\", self)\n",
    "        self.label_1.move(150, 100)\n",
    "        self.label_1.setStyleSheet(\"background-color: white; border: 1px solid black;\")\n",
    " \n",
    "        self.statusBar()\n",
    "        \n",
    "        self.setGeometry(300, 300, 400, 150)\n",
    "        self.setWindowTitle('The Demo GUI')\n",
    "        self.show()\n",
    "        \n",
    "    def buttonClicked(self):\n",
    "        sender = self.sender()\n",
    "        self.statusBar().showMessage(sender.text() + ' was pressed')\n",
    "        \n",
    "        \n",
    "if __name__ == '__main__':\n",
    "    app = QApplication(sys.argv)\n",
    "    ex = Example()\n",
    "    sys.exit(app.exec_())"
   ]
  },
  {
   "cell_type": "code",
   "execution_count": 2,
   "metadata": {},
   "outputs": [],
   "source": [
    "%run ./code/python/pyqt5-gui.py"
   ]
  },
  {
   "cell_type": "markdown",
   "metadata": {},
   "source": [
    "### 1.2 Qt\n",
    "\n",
    "[Qt](www.qt.io) is a free and open-source widget toolkit for creating **graphical user interfaces** as well as cross-platform applications that run on various software and hardware platforms such as Linux, Windows, macOS, Android or embedded systems with little or no change in the underlying codebase while still being a native application with native capabilities and speed.\n",
    "\n",
    "One framework. One codebase. Any platform.\n",
    "\n",
    "Everything you need for your entire software development life cycle. Qt is the fastest and smartest way to produce industry-leading software that users love.\n",
    "\n",
    "[PyQt](https://riverbankcomputing.com/software/pyqt/intro)\n",
    "\n",
    "PyQt is a set of Python v2 and v3 bindings for The Qt Company's Qt application framework and runs on all platforms supported by Qt including Windows, OS X, Linux, iOS and Android. PyQt5 supports Qt v5. PyQt4 supports Qt v4 and will build against Qt v5. The bindings are implemented as a set of Python modules and contain over 1,000 classes.\n",
    "\n"
   ]
  },
  {
   "cell_type": "markdown",
   "metadata": {},
   "source": [
    "### 1.3 The  PyQt Application"
   ]
  },
  {
   "cell_type": "code",
   "execution_count": 3,
   "metadata": {},
   "outputs": [
    {
     "name": "stdout",
     "output_type": "stream",
     "text": [
      "Writing ./code/python/thesimplestqt.py\n"
     ]
    }
   ],
   "source": [
    "%%file ./code/python/thesimplestqt.py\n",
    "import sys\n",
    "from PyQt5.QtWidgets import QApplication, QWidget,QMainWindow\n",
    "\n",
    "class Example(QMainWindow): \n",
    "    \n",
    "    def __init__(self):\n",
    "        super().__init__()\n",
    "        self.setGeometry(300, 300, 400, 150)\n",
    "        self.setWindowTitle('Simple')\n",
    "        self.show()\n",
    "        \n",
    "    \n",
    "if __name__ == '__main__':\n",
    "    app = QApplication(sys.argv) # 1 Every PyQt5 applicationmust create an application object.\n",
    "    ex=Example()                 # 2 create GUI in memory and later show on the screen.\n",
    "    sys.exit(app.exec_())  # 3 The sys.exit() method ensures a clean exit. "
   ]
  },
  {
   "cell_type": "code",
   "execution_count": 4,
   "metadata": {},
   "outputs": [],
   "source": [
    "%run ./code/python/thesimplestqt.py"
   ]
  },
  {
   "cell_type": "markdown",
   "metadata": {},
   "source": [
    "**1 app = QApplication(sys.argv)**\n",
    "\n",
    "* Every PyQt5 application` must create an application object`. \n",
    "\n",
    "* The `sys.argv` parameter is a list of arguments from a command line\n",
    "\n",
    "**2 show()**\n",
    "\n",
    "* The `show()` method displays the widget on the screen. A widget is first created in memory and later shown on the screen.\n",
    "\n",
    "**3 sys.exit(app.exec_())** \n",
    "\n",
    "* we enter the mainloop of the application. The event handling starts from this point. The mainloop receives events from the window system and dispatches them to the application widgets.\n",
    "\n",
    "* The mainloop ends if we call the `exit()` method or the main widget is destroyed. The `sys.exit()` method ensures a clean exit. The environment will be informed how the application ended"
   ]
  },
  {
   "cell_type": "markdown",
   "metadata": {},
   "source": [
    "### 1.4 Widgets \n",
    "\n",
    "Widgets are basic building blocks of an application.\n",
    "\n",
    "PyQt5 has a wide range of various widgets, including `buttons, check boxes, sliders, or list boxes`\n",
    "\n",
    "```python\n",
    "from PyQt5.QtWidgets import QMainWindow, QPushButton,QLabel,QApplication\n",
    "\n",
    " btn2 = QPushButton(\"Button 2\", self)\n",
    "```\n",
    "\n"
   ]
  },
  {
   "cell_type": "markdown",
   "metadata": {},
   "source": [
    "### 1.5 Layout management in PyQt5\n",
    "\n",
    "`Layout management` is the way how we place the widgets on the application window. \n",
    "\n",
    "We can place our widgets using `absolute positioning` or with `layout classes`.\n",
    "\n",
    "Managing the layout with layout managers is the preferred way of organizing our widgets.\n",
    "\n",
    "**Absolute positioning**\n",
    "\n",
    "The programmer specifies the position and the size of each widget in pixels. \n",
    "\n",
    "```python\n",
    " btn2.move(150, 50)\n",
    "```\n",
    "\n",
    "**Relative Layout**\n",
    "\n",
    "* QHBoxLayout QVBoxLayout \n",
    "\n",
    "* QGridLayout"
   ]
  },
  {
   "cell_type": "markdown",
   "metadata": {},
   "source": [
    "### 1.6 Events,Signals and slots\n",
    "\n",
    "#### 1 Events\n",
    "\n",
    "**GUI applications are event-driven.**\n",
    "\n",
    "Events are generated mainly by the user of an application. But they can be generated by other means as well; e.g. an Internet connection, a window manager, or a timer. \n",
    "\n",
    "When we call the application's `exec_()` method, the application enters the main loop. The main loop fetches events and sends them to the objects.\n",
    "\n",
    "In the event model, there are three participants:\n",
    "\n",
    "* event source\n",
    "* event object\n",
    "* event target\n",
    "\n",
    "The `event source` is the object whose `state changes`. It generates events. \n",
    "\n",
    "The `event object (event)` encapsulates the state changes in the event source. \n",
    "\n",
    "The `event target` is the object that wants to be notified. \n",
    "\n",
    "\n",
    "#### 2  Signal and Slot\n",
    "\n",
    "PyQt5 has a unique `signal and slot` mechanism to deal with events.\n",
    "\n",
    "`Signals and slots` are used for communication between objects. \n",
    "\n",
    "* A `signal` is emitted when a particular event occurs. \n",
    "\n",
    "* A `slot` can be any Python callable. A slot is called when its connected signal is emitted.\n",
    "\n",
    "```python\n",
    "btn1.clicked.connect(self.buttonClicked)\n",
    "btn2.clicked.connect(self.buttonClicked)\n",
    "\n",
    "def buttonClicked(self):\n",
    "   sender = self.sender()\n",
    "   self.statusBar().showMessage(sender.text() + ' was pressed')\n",
    "      \n",
    "```            \n",
    "Here we connect a `clicked` signal of the button to the slot of the `buttonClicked()` methof."
   ]
  },
  {
   "cell_type": "markdown",
   "metadata": {},
   "source": [
    "## 2  Unresponsive Blocking GUI \n",
    "\n",
    "* **Blocking(阻塞) GUI** :the single GUI thread with **infinite** loop\n"
   ]
  },
  {
   "cell_type": "code",
   "execution_count": 3,
   "metadata": {},
   "outputs": [
    {
     "name": "stdout",
     "output_type": "stream",
     "text": [
      "Overwriting ./code/python/pyqt5-gui-unresponsive.py\n"
     ]
    }
   ],
   "source": [
    "%%file ./code/python/pyqt5-gui-unresponsive.py\n",
    "import sys\n",
    "from PyQt5.QtWidgets import QMainWindow, QPushButton,QLabel,QApplication\n",
    "\n",
    "import time\n",
    "import psutil\n",
    "\n",
    "def get_data():\n",
    "    return psutil.cpu_percent()\n",
    "\n",
    "class Example(QMainWindow):\n",
    "    \n",
    "    def __init__(self):\n",
    "        super().__init__()\n",
    "        self.initUI()\n",
    "        \n",
    "    def initUI(self):      \n",
    "        btn1 = QPushButton(\"Button 1\", self)\n",
    "        btn1.move(30, 50)\n",
    "\n",
    "        btn2 = QPushButton(\"Start Read CPU(the infinite loop)\", self)\n",
    "        btn2.move(150, 50)\n",
    "        btn2.adjustSize()\n",
    "      \n",
    "        btn1.clicked.connect(self.button1Clicked)            \n",
    "        btn2.clicked.connect(self.button2Clicked)\n",
    "        \n",
    "        self.label_1 = QLabel(\"CPU(%): \", self)\n",
    "        self.label_1.move(150, 100)\n",
    "        self.label_1.setStyleSheet(\"background-color: white;border: 1px solid black;\")\n",
    "   \n",
    "        self.statusBar()\n",
    "        \n",
    "        self.setGeometry(300, 300, 400, 150)\n",
    "        self.setWindowTitle('Read CPU with the infinite loop')\n",
    "        self.show()\n",
    "        \n",
    "        \n",
    "    def button1Clicked(self):\n",
    "        sender = self.sender()\n",
    "        self.statusBar().showMessage(sender.text() + ' was pressed')\n",
    "    \n",
    "    def button2Clicked(self):\n",
    "        sender = self.sender()\n",
    "        self.statusBar().showMessage(sender.text() + ' was pressed') \n",
    "        # infinite loop\n",
    "        while True:\n",
    "            self.value=get_data()\n",
    "            self.label_1.setText(f\"CPU(%): {self.value}\")   \n",
    "            time.sleep(2)\n",
    "        \n",
    "if __name__ == '__main__':\n",
    "    app = QApplication(sys.argv)\n",
    "    ex = Example()\n",
    "    sys.exit(app.exec_())"
   ]
  },
  {
   "cell_type": "code",
   "execution_count": 4,
   "metadata": {},
   "outputs": [],
   "source": [
    "%run ./code/python/pyqt5-gui-unresponsive.py"
   ]
  },
  {
   "cell_type": "markdown",
   "metadata": {},
   "source": [
    "## 3 Unblcoking GUI  \n",
    "\n",
    "\n",
    "### 3.1 threading.Thread\n",
    "\n",
    "We’ll look at the way to realize **unblocking GUI** using **Multithreading**.\n",
    "\n",
    "* Threading IO"
   ]
  },
  {
   "cell_type": "code",
   "execution_count": 1,
   "metadata": {
    "code_folding": []
   },
   "outputs": [
    {
     "name": "stdout",
     "output_type": "stream",
     "text": [
      "Overwriting ./code/python/pyqt5-gui-responsive.py\n"
     ]
    }
   ],
   "source": [
    "%%file ./code/python/pyqt5-gui-responsive.py\n",
    "import sys\n",
    "from PyQt5.QtWidgets import QMainWindow, QPushButton,QLabel, QApplication\n",
    "\n",
    "import time\n",
    "import psutil\n",
    "import threading\n",
    "\n",
    "def get_data():\n",
    "    return psutil.cpu_percent()\n",
    "\n",
    "class Example(QMainWindow):\n",
    "    \n",
    "    def __init__(self):\n",
    "        super().__init__()\n",
    "        self.initUI()\n",
    "        \n",
    "    def initUI(self):      \n",
    "\n",
    "        btn1 = QPushButton(\"Button 1\", self)\n",
    "        btn1.move(30, 50)\n",
    "\n",
    "        btn2 = QPushButton(\"Read CPU with the infinite loop\", self)\n",
    "        btn2.move(150, 50)\n",
    "        btn2.adjustSize()\n",
    "      \n",
    "        btn1.clicked.connect(self.button1Clicked)            \n",
    "        btn2.clicked.connect(self.button2Clicked)\n",
    "        \n",
    "        self.label_1 = QLabel(\"CPU(%): \", self)\n",
    "        self.label_1.move(150, 100)\n",
    "        self.label_1.setStyleSheet(\"background-color: white;border: 1px solid black;\")\n",
    "               \n",
    "        self.statusBar()\n",
    "        \n",
    "        self.setGeometry(300, 300, 400, 150)\n",
    "        self.setWindowTitle('Unblcoking GUI: Threading IO')\n",
    "        self.show()\n",
    "        \n",
    "        \n",
    "    def button1Clicked(self):\n",
    "        sender = self.sender()\n",
    "        self.statusBar().showMessage(sender.text() + ' was pressed')\n",
    "\n",
    "    def io_worker(self):\n",
    "        \"\"\"IO thread's worker function\"\"\"\n",
    "        while True:\n",
    "            self.value=get_data()\n",
    "            self.label_1.setText(f\"CPU(%): {self.value}\")   \n",
    "            time.sleep(2)\n",
    "     \n",
    "    def button2Clicked(self):\n",
    "        sender = self.sender()\n",
    "        self.statusBar().showMessage(sender.text() + ' was pressed') \n",
    "        # Threading IO\n",
    "        self.t = threading.Thread(target=self.io_worker)\n",
    "        self.t.start()\n",
    "           \n",
    "if __name__ == '__main__':\n",
    "    app = QApplication(sys.argv)\n",
    "    ex = Example()\n",
    "    sys.exit(app.exec_())"
   ]
  },
  {
   "cell_type": "code",
   "execution_count": 2,
   "metadata": {},
   "outputs": [],
   "source": [
    "%run ./code/python/pyqt5-gui-responsive.py"
   ]
  },
  {
   "cell_type": "markdown",
   "metadata": {},
   "source": [
    "![threading](./img/linux/gui-background-threading.jpg)"
   ]
  },
  {
   "cell_type": "markdown",
   "metadata": {},
   "source": [
    "### 3.2 QtCore.QTimer()\n",
    "\n",
    "We’ll look at the way to realize **unblocking GUI** using **QTimer**.\n"
   ]
  },
  {
   "cell_type": "markdown",
   "metadata": {},
   "source": [
    "The [QTimer](https://doc.qt.io/qtforpython/PySide6/QtCore/QTimer.html) class provides a high-level programming interface for timers.\n",
    "\n",
    "To use it, \n",
    "\n",
    "* create a `QTimer `, \n",
    "\n",
    "* connect its `timeout()` signal to the appropriate slots, and\n",
    "\n",
    "* call `start()` .\n",
    "\n",
    "From then on, it will emit the `timeout()` signal at constant intervals.\n",
    "\n",
    "```python\n",
    " \n",
    "  self.timer = QtCore.QTimer()\n",
    "  self.timer.setInterval(int(self._interval*1000))\n",
    "  self.timer.timeout.connect(self.update_plot_data)\n",
    "    \n",
    " def monitoring(self):\n",
    "   if self.monitoring_on == False:\n",
    "     self.timer.start()\n",
    "     self.monitoring_on = True\n",
    "     self.button.setText(\"Monitoring On, Press the Button to Stop\")\n",
    "  else:\n",
    "     self.timer.stop()\n",
    "     self.monitoring_on = False\n",
    "    self.button.setText(\"Monitoring Off, Press the Button Start\")\n",
    "```\n",
    "\n",
    "QTimer `timeout-signal-emission` only works if/when your Qt program is executing inside Qt's **event loop**. \n",
    "\n",
    "* To start an event loop, use **exec()**\n",
    "\n",
    "The Qt program will have something like this, usually its **main()** function\n",
    "\n",
    "```python\n",
    "QApplication app(argc, argv)\n",
    "[...]\n",
    "app.exec()\n",
    "```\n",
    "The **app.exec()** call will not return until it's time for the application to exit.\n"
   ]
  },
  {
   "cell_type": "code",
   "execution_count": 3,
   "metadata": {},
   "outputs": [
    {
     "name": "stdout",
     "output_type": "stream",
     "text": [
      "Overwriting ./code/python/pyqt5-gui-qtimer.py\n"
     ]
    }
   ],
   "source": [
    "%%file ./code/python/pyqt5-gui-qtimer.py\n",
    "from PyQt5 import QtWidgets, QtCore\n",
    "import pyqtgraph as pg\n",
    "import sys\n",
    "import psutil\n",
    "import time \n",
    "\n",
    "class Widget(QtWidgets.QWidget):\n",
    "\n",
    "    def __init__(self, interval=2.0, timewindow=50):\n",
    "        \"\"\" interval,timewindow:seconds\"\"\"\n",
    "        super(Widget, self).__init__()\n",
    "        self._interval =interval\n",
    "        self._timewindow = timewindow\n",
    "   \n",
    "        self.setWindowTitle('CPU Percent Monitor')\n",
    "        self.button = QtWidgets.QPushButton(\n",
    "            text=\"Monitoring Off, Press the Button to Start\",\n",
    "            checkable=True)\n",
    "        self.button.clicked.connect(self.monitoring)\n",
    "\n",
    "        lay = QtWidgets.QVBoxLayout(self)\n",
    "        hlay = QtWidgets.QHBoxLayout()\n",
    "        lay.addLayout(hlay)\n",
    "        lay.addWidget(self.button)\n",
    "\n",
    "        self.graphWidget = pg.PlotWidget()\n",
    "\n",
    "        # Add Background colour to white\n",
    "        self.graphWidget.setBackground('w')\n",
    "        # Add Title\n",
    "        self.graphWidget.setTitle(\n",
    "            \"CPU Percent Live Data\", color=\"b\", size=\"15pt\")\n",
    "        # Add Axis Labels\n",
    "        styles = {\"color\": \"black\", \"font-size\": \"15px\"}\n",
    "        self.graphWidget.setLabel(\"left\", \"CPU(%)\", **styles)\n",
    "        \n",
    "        axis = pg.DateAxisItem(orientation='bottom')\n",
    "        self.graphWidget.setAxisItems({\"bottom\": axis})\n",
    "        self.graphWidget.setLabel(\n",
    "        \"bottom\", f\"Time(s) - interval:{self._interval}s timewindow:{self._timewindow}s\", **styles)\n",
    "\n",
    "        # Add legend\n",
    "        self.graphWidget.addLegend()\n",
    "        # Add grid\n",
    "        self.graphWidget.showGrid(x=True, y=True)\n",
    "\n",
    "        lay.addWidget(self.graphWidget)\n",
    "\n",
    "        self.i = 0\n",
    "        curtime = time.time()\n",
    "        self.graphWidget.setXRange(\n",
    "            curtime, curtime+self._timewindow, padding=0)\n",
    "        \n",
    "        self.x = []\n",
    "        self.cpu = []\n",
    "        self.data_line = self.plot([], [], \"CPU(%)\", 'b')\n",
    "\n",
    "        self.timer = QtCore.QTimer()\n",
    "        self.timer.setInterval(int(self._interval*1000))\n",
    "        self.timer.timeout.connect(self.update_plot_data)\n",
    "        self.monitoring_on = False\n",
    "\n",
    "    def plot(self, x, y, plotname, color):\n",
    "        pen = pg.mkPen(color=color)\n",
    "        return self.graphWidget.plot(x, y, name=plotname, pen=pen,\n",
    "                                     symbol='o', symbolSize=5, symbolBrush=(color))\n",
    "\n",
    "    def update_plot_data(self):\n",
    "        cpu_percent = psutil.cpu_percent()\n",
    "        if (self.i==0.0):\n",
    "            curtime = time.time()\n",
    "            self.graphWidget.setXRange(\n",
    "               curtime, curtime+self._timewindow, padding=0)\n",
    "\n",
    "        if self.i < self._timewindow:\n",
    "            self.x.append(time.time())  # Add a new value\n",
    "            self.cpu.append(cpu_percent)  # Add a new value.\n",
    "            self.i += self._interval\n",
    "        else:\n",
    "            # Once enough data is captured, append the newest data point and delete the oldest\n",
    "            curtime = time.time()\n",
    "            self.x.append(curtime)  # Add a new value\n",
    "            self.cpu.append(cpu_percent)\n",
    "            del self.x[0]\n",
    "            del self.cpu[0]\n",
    "            self.graphWidget.setXRange(\n",
    "                curtime-self._timewindow, curtime, padding=0)\n",
    "\n",
    "        self.data_line.setData(self.x, self.cpu)  # Update the data.\n",
    "\n",
    "    def monitoring(self):\n",
    "        if self.monitoring_on == False:\n",
    "            self.timer.start()\n",
    "            self.monitoring_on = True\n",
    "            self.button.setText(\"Monitoring On, Press the Button to Stop\")\n",
    "        else:\n",
    "            self.timer.stop()\n",
    "            self.monitoring_on = False\n",
    "            self.button.setText(\"Monitoring Off, Press the Button Start\")\n",
    "\n",
    "\n",
    "if __name__ == '__main__':\n",
    "    app = QtWidgets.QApplication(sys.argv)\n",
    "    w = Widget(interval=0.5, timewindow=25.0)\n",
    "    w.show()\n",
    "    sys.exit(app.exec_())"
   ]
  },
  {
   "cell_type": "code",
   "execution_count": 5,
   "metadata": {},
   "outputs": [],
   "source": [
    "%run ./code/python/pyqt5-gui-qtimer.py"
   ]
  },
  {
   "cell_type": "markdown",
   "metadata": {},
   "source": [
    "## Reference\n",
    "\n",
    "**Qt**\n",
    "\n",
    "* [Qt](https://www.qt.io)\n",
    "\n",
    "* [PyQt](https://riverbankcomputing.com/software/pyqt/intro)\n",
    "\n",
    "* [PyQt5 tutorial](http://zetcode.com/gui/pyqt5/)\n",
    "\n",
    "**Threading**\n",
    "\n",
    "* The Python Standard Library [threading — Thread-based parallelism](https://docs.python.org/3/library/threading.html)\n",
    "\n",
    "* Doug Hellmann.[threading — Manage Concurrent Operations Within a Process](https://pymotw.com/3/threading/index.html)\n",
    "  \n"
   ]
  },
  {
   "cell_type": "code",
   "execution_count": null,
   "metadata": {},
   "outputs": [],
   "source": []
  },
  {
   "cell_type": "code",
   "execution_count": null,
   "metadata": {},
   "outputs": [],
   "source": []
  }
 ],
 "metadata": {
  "kernelspec": {
   "display_name": "Python 3 (ipykernel)",
   "language": "python",
   "name": "python3"
  },
  "language_info": {
   "codemirror_mode": {
    "name": "ipython",
    "version": 3
   },
   "file_extension": ".py",
   "mimetype": "text/x-python",
   "name": "python",
   "nbconvert_exporter": "python",
   "pygments_lexer": "ipython3",
   "version": "3.10.5"
  },
  "latex_envs": {
   "LaTeX_envs_menu_present": true,
   "autoclose": false,
   "autocomplete": true,
   "bibliofile": "biblio.bib",
   "cite_by": "apalike",
   "current_citInitial": 1,
   "eqLabelWithNumbers": true,
   "eqNumInitial": 1,
   "hotkeys": {
    "equation": "Ctrl-E",
    "itemize": "Ctrl-I"
   },
   "labels_anchors": false,
   "latex_user_defs": false,
   "report_style_numbering": false,
   "user_envs_cfg": false
  },
  "toc": {
   "base_numbering": 1,
   "nav_menu": {},
   "number_sections": false,
   "sideBar": true,
   "skip_h1_title": false,
   "title_cell": "Table of Contents",
   "title_sidebar": "Contents",
   "toc_cell": false,
   "toc_position": {
    "height": "calc(100% - 180px)",
    "left": "10px",
    "top": "150px",
    "width": "211px"
   },
   "toc_section_display": true,
   "toc_window_display": true
  },
  "vscode": {
   "interpreter": {
    "hash": "369f2c481f4da34e4445cda3fffd2e751bd1c4d706f27375911949ba6bb62e1c"
   }
  }
 },
 "nbformat": 4,
 "nbformat_minor": 2
}
