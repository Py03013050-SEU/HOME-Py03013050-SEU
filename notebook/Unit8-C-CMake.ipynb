{
 "cells": [
  {
   "cell_type": "markdown",
   "metadata": {},
   "source": [
    "# CMake\n",
    "\n",
    "[CMake](https://cmake.org/) is an open-source, **cross-platform** family of tools designed to build, test and package software. \n",
    "\n",
    "CMake is used to control the software compilation process using simple `platform` and `compiler` **independent** configuration files, and generate **native** `makefiles` and `workspaces` that can be used in the compiler environment of your choice.\n",
    "\n",
    "The example: [The vapor-compression refrigeration cycle steady-state simulator for education in C++](https://gitee.com/thermalogic/simvcce/tree/B2023-2/vcccpp)\n",
    "\n",
    "## CMakelists.txt\n",
    "\n",
    "```\n",
    "<vcccpp>\n",
    "   |- CMakeLists.txt\n",
    "   |\n",
    "   |-build\n",
    "   |\n",
    "   |-src\n",
    "   | ...\n",
    "   |\n",
    "```\n",
    "\n",
    "CMakelist.txt\n",
    "\n",
    "```cmake\n",
    "cmake_minimum_required(VERSION 3.0.0)\n",
    "project(vcc VERSION 0.1.0)\n",
    "\n",
    "set(CMAKE_RUNTIME_OUTPUT_DIRECTORY \"../bin\")\n",
    "\n",
    "set(CMAKE_CXX_STANDARD 17)\n",
    "\n",
    "set(CMAKE_CXX_FLAGS \"-DCOOLPROP_LIB\")\n",
    "if(MSVC)\n",
    "   set(CMAKE_CXX_FLAGS \"${CMAKE_CXX_FLAGS} /EHsc /Wv:18\")\n",
    "endif()\n",
    "\n",
    "include_directories(include src) \n",
    "link_directories(bin)\n",
    "aux_source_directory(./src/ SRC)\n",
    "\n",
    "add_executable(demovcc ${SRC} demovcc.cpp)\n",
    "target_link_libraries(demovcc CoolProp)\n",
    "```"
   ]
  },
  {
   "cell_type": "markdown",
   "metadata": {},
   "source": [
    "##  Building with CMake\n",
    "\n",
    "### Visual C++ on Windows or GCC on Linux \n",
    "\n",
    "in the terminal of `./build`\n",
    "\n",
    "```bash\n",
    "cmake ..  \n",
    "```\n",
    "```bash\n",
    "cmake --build .\n",
    "```\n",
    "\n",
    "### MinGW-GCC on Windows\n",
    "\n",
    "in the terminal of `./build`:\n",
    "\n",
    "```bash\n",
    "cmake .. -G \"MinGW Makefiles\"  \n",
    "```\n",
    "```bash\n",
    "cmake --build .\n",
    "```\n",
    "\n"
   ]
  },
  {
   "cell_type": "code",
   "execution_count": null,
   "metadata": {},
   "outputs": [],
   "source": []
  }
 ],
 "metadata": {
  "kernelspec": {
   "display_name": "Python 3",
   "language": "python",
   "name": "python3"
  },
  "language_info": {
   "codemirror_mode": {
    "name": "ipython",
    "version": 3
   },
   "file_extension": ".py",
   "mimetype": "text/x-python",
   "name": "python",
   "nbconvert_exporter": "python",
   "pygments_lexer": "ipython3",
   "version": "3.8.7"
  },
  "latex_envs": {
   "LaTeX_envs_menu_present": true,
   "autoclose": false,
   "autocomplete": true,
   "bibliofile": "biblio.bib",
   "cite_by": "apalike",
   "current_citInitial": 1,
   "eqLabelWithNumbers": true,
   "eqNumInitial": 1,
   "hotkeys": {
    "equation": "Ctrl-E",
    "itemize": "Ctrl-I"
   },
   "labels_anchors": false,
   "latex_user_defs": false,
   "report_style_numbering": false,
   "user_envs_cfg": false
  },
  "toc": {
   "base_numbering": 1,
   "nav_menu": {},
   "number_sections": false,
   "sideBar": true,
   "skip_h1_title": false,
   "title_cell": "Table of Contents",
   "title_sidebar": "Contents",
   "toc_cell": false,
   "toc_position": {
    "height": "calc(100% - 180px)",
    "left": "10px",
    "top": "150px",
    "width": "291px"
   },
   "toc_section_display": true,
   "toc_window_display": true
  },
  "widgets": {
   "state": {},
   "version": "1.1.2"
  }
 },
 "nbformat": 4,
 "nbformat_minor": 1
}
