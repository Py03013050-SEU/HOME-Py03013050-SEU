{
 "cells": [
  {
   "cell_type": "markdown",
   "metadata": {},
   "source": [
    "#  DYNAMIC PROGRAMMING\n",
    "\n",
    "Dynamic programming was invented by Richard Bellman in the early 1950s.\n",
    "\n",
    "Dynamic programming is a method for efficiently solving problems that exhibit the characteristics of\n",
    "\n",
    "* <b>overlapping subproblems and optimal substructure</b>.\n",
    "\n",
    "**optimal substructure**\n",
    "\n",
    "* A problem has <b>optimal substructure</b> if <b>a globally optimal</b> solution can be found by <b>combining</b> optimal solutions to <b>local subproblems</b>.\n",
    "\n",
    "We’ve already looked at a number of such problems. `Merge sort`, for example, exploits the fact that a list can be sorted by\n",
    "first sorting sublists and then merging the solutions.\n",
    "\n",
    "**overlapping subproblems**\n",
    "\n",
    "* A problem has <b>overlapping subproblems</b> if an optimal solution involves solving\n",
    "<b>the `same` problem</b> multiple times.\n",
    "    \n",
    "`Merge sort` does not exhibit this property. Even thoughwe are performing a merge many times, we are merging different lists each time    "
   ]
  },
  {
   "cell_type": "markdown",
   "metadata": {},
   "source": [
    "## 1 Fibonacci Sequences\n",
    "\n",
    "We looked at a straightforward recursive implementation of the Fibonacci function"
   ]
  },
  {
   "cell_type": "code",
   "execution_count": null,
   "metadata": {
    "collapsed": true
   },
   "outputs": [],
   "source": [
    "def fib(n):\n",
    "    \"\"\"Assumes n is an int >= 0\n",
    "       Returns Fibonacci of n\"\"\"\n",
    "    if n == 0 or n == 1:\n",
    "        return 1\n",
    "    else:\n",
    "        return fib(n-1) + fib(n-2)"
   ]
  },
  {
   "cell_type": "markdown",
   "metadata": {},
   "source": [
    "Look at the tree of calls  associated with the invocation fib(6).\n",
    "\n",
    "![fib(6)](./img/ds/18.2.PNG)\n",
    "\n",
    "Notice that we are computing the same values over and over again。\n",
    "\n",
    "It doesn’t require a genius to think that it might be a good idea to record the value returned by the first call, and then look it up rather than compute it each time it is needed. \n",
    "\n",
    "* This is called <b>memoization</b>, and is the key idea behind dynamic programming.\n",
    "\n",
    "The follow code contains an implementation of Fibonacci based on this idea.\n",
    "\n",
    "The function `fastFi`b has a parameter, ```memo```, that it uses to keep track of the numbers it has already evaluated."
   ]
  },
  {
   "cell_type": "code",
   "execution_count": 1,
   "metadata": {
    "collapsed": true
   },
   "outputs": [],
   "source": [
    "def fastFib(n, memo = {}):\n",
    "    \"\"\"Assumes n is an int >= 0, memo used only by recursive calls\n",
    "       Returns Fibonacci of n\"\"\"\n",
    "    if n == 0 or n == 1:\n",
    "        return 1\n",
    "    try:\n",
    "        return memo[n]\n",
    "    except KeyError:\n",
    "        result = fastFib(n-1, memo) + fastFib(n-2, memo)\n",
    "        memo[n] = result\n",
    "        return result"
   ]
  },
  {
   "cell_type": "code",
   "execution_count": 3,
   "metadata": {},
   "outputs": [
    {
     "data": {
      "text/plain": [
       "8670007398507948658051921"
      ]
     },
     "execution_count": 3,
     "metadata": {},
     "output_type": "execute_result"
    }
   ],
   "source": [
    "fastFib(120)"
   ]
  },
  {
   "cell_type": "markdown",
   "metadata": {},
   "source": [
    "The time complexity of fastFib(n) is $O(n)$"
   ]
  },
  {
   "cell_type": "markdown",
   "metadata": {},
   "source": [
    "## 2 Dynamic Programming and the 0/1 Knapsack Problem\n",
    "\n"
   ]
  },
  {
   "cell_type": "markdown",
   "metadata": {
    "collapsed": true
   },
   "source": [
    "Dynamic programming provides a practical method for solving most $0/1$ knapsack problems in a reasonable amount of time.\n",
    "\n",
    "The key idea is to think about exploring the space of possible solutions by constructing\n",
    "\n",
    "* <b>a rooted binary tree that enumerates all states that satisfy the weight constraint</b>.\n",
    "\n",
    "**A rooted binary tree** is an acyclic directed graph in which\n",
    "<ul>\n",
    "<li>There is exactly one node with no parents. This is called the <b>root</b>.\n",
    "<li>Each non-root node has <b>exactly one parent</b>.\n",
    "<li>Each node has  <b>at most two children</b>. A childless node is called a <b>leaf</b>.\n",
    "</ul>\n",
    "\n",
    "Each node in the search tree for the 0/1 knapsack problem is labeled with a quadruple that denotes a partial solution to the knapsack problem.\n",
    "\n",
    "The elements of the quadruple are:\n",
    "<ul>\n",
    "<li>A set of items to be taken,\n",
    "<li>The list of items for which a decision has not been made,\n",
    "<li>The total value of the items in the set of items to be taken (this is merely an optimization, since the value could be computed from the set), and\n",
    "<li>The remaining space in the knapsack. (Again, this is an optimization since it is merely the difference between the weight allowed and the weight of all the items taken so far.)\n",
    "</ul>\n",
    "\n",
    "The tree is built <b>top-down</b> starting with the root.\n",
    "\n",
    "One element is selected from the still-to-be-considered items. If <b>there is room for that item</b> in the knapsack, <b>a node is constructed</b> that reflects the consequence of choosing to take that item. By convention, we draw that node as <b>the left child</b>. \n",
    "\n",
    "<b>The right child</b> shows the consequences of choosing not to take that item. \n",
    "\n",
    "The process is then applied recursively until either the knapsack is full or there are no more items to consider. \n",
    "\n",
    "Because <b>each edge</b> represents<b> a decision</b> (to take or not to take an item), such trees are called <b>decision trees</b>\n",
    "\n",
    "The Figure  is a table describing a set of items\n",
    "![](./img/ds/18.4.PNG)\n",
    "\n",
    "The Figure is a decision tree for deciding which of those items to take under the assumption that the knapsack has a maximum weight of 5.\n",
    "<img src=\"./img/ds/18.5.PNG\"/>\n",
    "\n",
    "In decision tree Figure, <b>the numbers that precede the colon</b> in each node indicate one order in which the nodes could be generated. This particular ordering is called <b>left-first depth-first</b>.\n",
    "\n",
    "At each node we attempt to generate a left node. If that is impossible, we attempt to generate a right node.\n",
    "<img src=\"./img/ds/18.5.1.PNG\"/>\n",
    "<img src=\"./img/ds/18.5.2.PNG\"/>\n",
    "and any leaf node with the greatest value represents an optimal solution\n",
    "<img src=\"./img/ds/18.5.3.PNG\"/>\n",
    "\n",
    "\n",
    "The Follow code contains such an implementation. It uses class `Item` \n",
    "\n",
    "The function <b>maxVal</b>:\n",
    "<ul>\n",
    "<li>returns two values: the set of items chosen and the total value of those items。\n",
    "<li>called with two arguments, corresponding to the second and fourth elements of the labels of the nodes in the tree:\n",
    "<ul>\n",
    "<li><b>toConsider</b>.:Those items that nodes higher up in the tree (corresponding to earlier calls in the recursive call stack) have not yet considered.\n",
    "<li><b>avail</b>: The amount of space still available.\n",
    "</ul>\n",
    "</ul>\n",
    "\n",
    "it uses the local variable ```result``` to record the best solution found so far."
   ]
  },
  {
   "cell_type": "code",
   "execution_count": 1,
   "metadata": {},
   "outputs": [],
   "source": [
    "class Item(object):\n",
    "    def __init__(self, n, v, w):\n",
    "        self.name = n\n",
    "        self.value = float(v)\n",
    "        self.weight = float(w)\n",
    "    def getName(self):\n",
    "        return self.name\n",
    "    def getValue(self):\n",
    "        return self.value\n",
    "    def getWeight(self):\n",
    "        return self.weight\n",
    "    def __str__(self):\n",
    "        result = '<' + self.name + ', ' + str(self.value) + ', ' + str(self.weight) + '>'\n",
    "        return result\n",
    "\n",
    "\n",
    "def maxVal(toConsider, avail):\n",
    "    \"\"\"Assumes toConsider a list of items, avail a weight\n",
    "       Returns a tuple of the total weight of a solution to the\n",
    "         0/1 knapsack problem and the items of that solution\"\"\"\n",
    "    if toConsider == [] or avail == 0:\n",
    "        result = (0, ())  # the total value of those items=0， the set of items chosenwwwwwwwwwwwwwwwwwww/\n",
    "    elif toConsider[0].getWeight() > avail:\n",
    "        #Explore right branch only\n",
    "        result = maxVal(toConsider[1:], avail)\n",
    "    else:\n",
    "        nextItem = toConsider[0]\n",
    "        \n",
    "        #Explore left branch\n",
    "        withVal, withToTake = maxVal(toConsider[1:],avail - nextItem.getWeight())\n",
    "        withVal += nextItem.getValue()\n",
    "        \n",
    "        #Explore right branch\n",
    "        withoutVal, withoutToTake = maxVal(toConsider[1:], avail)\n",
    "        \n",
    "        #Choose better branch\n",
    "        if withVal > withoutVal:\n",
    "            result = (withVal, withToTake + (nextItem,))\n",
    "        else:\n",
    "            result = (withoutVal, withoutToTake)\n",
    "    return result\n",
    "\n",
    "def smallTest():\n",
    "    names = ['a', 'b', 'c', 'd']\n",
    "    vals = [6, 7, 8, 9]\n",
    "    weights = [3, 3, 2, 5]\n",
    "    Items = []\n",
    "    for i in range(len(vals)):\n",
    "        Items.append(Item(names[i], vals[i], weights[i]))\n",
    "   \n",
    "    val, taken = maxVal(Items, 5)\n",
    "    \n",
    "    for item in taken:\n",
    "        print(item)\n",
    "    \n",
    "    print('Total value of items taken =', val)            "
   ]
  },
  {
   "cell_type": "code",
   "execution_count": 2,
   "metadata": {},
   "outputs": [
    {
     "name": "stdout",
     "output_type": "stream",
     "text": [
      "<c, 8.0, 2.0>\n",
      "<b, 7.0, 3.0>\n",
      "Total value of items taken = 15.0\n"
     ]
    }
   ],
   "source": [
    "smallTest()"
   ]
  },
  {
   "cell_type": "markdown",
   "metadata": {},
   "source": [
    "The code makes it convenient to test maxVal. It randomly generates a list of Items of a specified size."
   ]
  },
  {
   "cell_type": "code",
   "execution_count": 3,
   "metadata": {},
   "outputs": [],
   "source": [
    "import   random\n",
    "\n",
    "def buildManyItems(numItems, maxVal, maxWeight):\n",
    "    items = []\n",
    "    for i in range(numItems):\n",
    "        items.append(Item(str(i),\n",
    "                          random.randint(1, maxVal),\n",
    "                          random.randint(1, maxWeight)))\n",
    "    return items\n",
    "\n",
    "def bigTest(numItems):\n",
    "    items = buildManyItems(numItems, 10, 10)\n",
    "    val, taken = maxVal(items, 40)\n",
    "    print('Items Taken')\n",
    "    for item in taken:\n",
    "        print( item)\n",
    "    print( 'Total value of items taken =', val)"
   ]
  },
  {
   "cell_type": "code",
   "execution_count": 4,
   "metadata": {},
   "outputs": [
    {
     "name": "stdout",
     "output_type": "stream",
     "text": [
      "Items Taken\n",
      "<8, 7.0, 5.0>\n",
      "<6, 2.0, 4.0>\n",
      "<4, 5.0, 1.0>\n",
      "<2, 7.0, 9.0>\n",
      "<1, 8.0, 10.0>\n",
      "<0, 9.0, 9.0>\n",
      "Total value of items taken = 38.0\n"
     ]
    }
   ],
   "source": [
    "bigTest(10)"
   ]
  },
  {
   "cell_type": "markdown",
   "metadata": {},
   "source": [
    "#### Dynamic programming solution to knapsack problem\n",
    "\n",
    "Let’s start by asking whether this program has anything in common with our first implementation of Fibonacci. In particular, is there optimal substructure and are there overlapping subproblems?\n",
    "\n",
    "<b>Optimal substructure</b> is visible both in the above codes. \n",
    "\n",
    "Each parent node combines the solutions reached by its children to derive an optimal solution for the subtree rooted at that parent. \n",
    "\n",
    "This is reflected in  by the code following the comment \n",
    "```python\n",
    "#Choose better branch\n",
    "if withVal > withoutVal:\n",
    "            result = (withVal, withToTake + (nextItem,))\n",
    "        else:\n",
    "            result = (withoutVal, withoutToTake)\n",
    "```\n",
    "\n",
    "Are there also <b>overlapping subproblems?</b> At first glance, the answer seems to be “no.” At each level of the tree we have a different set of available items to consider. This implies that if common subproblems do exist, they must be at the same level of the tree. And indeed at each level of the tree each node has the same set of items to consider taking. However, we can see by looking at the labels in Figure 18.5 that each node at a level represents a different set of choices about the items considered higher in the tree.\n",
    "\n",
    "Think about <b>what problem is being solved at each node</b>. \n",
    "\n",
    "The problem being solved is finding the optimal items to take from those left to consider, <b>given the remaining available weight</b>. \n",
    "\n",
    "The <b>available weight</b> depends upon <b>the total weight</b> of the items taken, but not on which items are taken or the total value of the items taken.\n",
    "\n",
    "So, for example, in the above codes, nodes 2 and 7 are actually solving the same problem: deciding which elements of [c,d] should be taken, given that the available weight is 2.\n",
    "<img src=\"./img/ds/18.8.0.PNG\"/>\n",
    "\n",
    "The code fastMaxVal exploits <b>the  optimal substructure and overlapping subproblems</b> to provide <b>a dynamic programming solution</b> to the 0/1 knapsack problem.\n",
    "\n",
    "An extra parameter, <b>memo</b>, has been added to keep track of <b>solutions to subproblems that have already been solved</b>.\n",
    "\n",
    "It is implemented using <b>a dictionary</> with <b>a key</> constructed from <b>the length of toConsider and the\n",
    "available weight</>.\n",
    "```python\n",
    "memo[(len(toConsider), avail)] = result\n",
    "```\n",
    "\n",
    "\n",
    "\n"
   ]
  },
  {
   "cell_type": "code",
   "execution_count": null,
   "metadata": {
    "collapsed": true
   },
   "outputs": [],
   "source": [
    "def fastMaxVal(toConsider, avail, memo = {}):\n",
    "    \"\"\"Assumes toConsider a list of items, avail a weight\n",
    "         memo used only by recursive calls\n",
    "       Returns a tuple of the total weight of a solution to the\n",
    "         0/1 knapsack problem and the items of that solution\"\"\"\n",
    "   \n",
    "   if (len(toConsider), avail) in memo: #  overlapping\n",
    "        result = memo[(len(toConsider), avail)]\n",
    "   \n",
    "    elif toConsider == [] or avail == 0:\n",
    "        result = (0, ())\n",
    "    elif toConsider[0].getWeight() > avail:\n",
    "        #Explore right branch only\n",
    "        result = fastMaxVal(toConsider[1:], avail, memo)\n",
    "    else:\n",
    "        nextItem = toConsider[0]\n",
    "        \n",
    "        #Explore left branch  \n",
    "        withVal, withToTake =fastMaxVal(toConsider[1:],\n",
    "                            avail - nextItem.getWeight(), memo)\n",
    "        withVal += nextItem.getValue()\n",
    "        \n",
    "        #Explore right branch\n",
    "        withoutVal, withoutToTake = fastMaxVal(toConsider[1:],\n",
    "                                                avail, memo)\n",
    "        #Choose better branch\n",
    "        if withVal > withoutVal:\n",
    "            result = (withVal, withToTake + (nextItem,))\n",
    "        else:\n",
    "            result = (withoutVal, withoutToTake)\n",
    "    \n",
    "    memo[(len(toConsider), avail)] = result  # \n",
    "    return result"
   ]
  },
  {
   "cell_type": "markdown",
   "metadata": {},
   "source": [
    "The Figureshows the number of calls made when we ran the code on problems of various sizes.\n",
    "<img src=\"./img/ds/18.9.PNG\"/>\n",
    "\n",
    "\n",
    "The running time of fastMaxVal is governed by the number of distinct ```<Consider, avail>``` pairs generated\n",
    "\n",
    "The number of possible values of ```toConsider``` is bounded by ```len(items)```.\n",
    "\n",
    "The number of possible values of ```avail``` is more difficult to characterize. It is bounded from above by the maximum number of distinct totals of weights of the items that the knapsack can hold.\n",
    "\n",
    "\n",
    "The growth is hard to quantify, but it is clearly far less than exponential.\n",
    "\n",
    "This algorithm falls into a complexity class called <b>pseudo polynomial</b>"
   ]
  },
  {
   "cell_type": "markdown",
   "metadata": {},
   "source": [
    "## 3 Dynamic Programming and Divide-and-Conquer"
   ]
  },
  {
   "cell_type": "markdown",
   "metadata": {
    "collapsed": true
   },
   "source": [
    "Like divide-and-conquer algorithms, dynamic programming is based upon solving independent subproblems and then combining those solutions. \n",
    "\n",
    "There are, however,some important differences.\n",
    "\n",
    "<b>Divide-and-conquer</b> algorithms are based upon finding subproblems that are <b>substantially smaller</b> than the original problem.\n",
    "\n",
    "For example, `merge sort` works by dividing the problem size in `half` at each step.\n",
    "\n",
    "<b>Dynamic programming</b> involves solving problems that are only <b>slightly smaller</b> than the original problem.\n",
    "\n",
    "For example, computing the `19th` Fibonacci number is not a substantially smaller problem than computing the `20th` Fibonacci number.\n",
    "\n",
    "Another important distinction is that the efficiency of divide-and-conquer algorithms <b>does not depend upon structuring</b> the algorithm so that the same problems are solved repeatedly.\n",
    "\n",
    "Dynamic programming is efficient only when the number of distinct <b>subproblems is significantly smaller than</b> the\n",
    "total number of subproblems. \n",
    "\n",
    "\n",
    "\n"
   ]
  },
  {
   "cell_type": "code",
   "execution_count": null,
   "metadata": {},
   "outputs": [],
   "source": []
  }
 ],
 "metadata": {
  "kernelspec": {
   "display_name": "Python 3",
   "language": "python",
   "name": "python3"
  },
  "language_info": {
   "codemirror_mode": {
    "name": "ipython",
    "version": 3
   },
   "file_extension": ".py",
   "mimetype": "text/x-python",
   "name": "python",
   "nbconvert_exporter": "python",
   "pygments_lexer": "ipython3",
   "version": "3.8.7"
  },
  "toc": {
   "base_numbering": 1,
   "nav_menu": {},
   "number_sections": false,
   "sideBar": true,
   "skip_h1_title": false,
   "title_cell": "Table of Contents",
   "title_sidebar": "Contents",
   "toc_cell": false,
   "toc_position": {
    "height": "calc(100% - 180px)",
    "left": "10px",
    "top": "150px",
    "width": "304.475px"
   },
   "toc_section_display": true,
   "toc_window_display": true
  }
 },
 "nbformat": 4,
 "nbformat_minor": 1
}
