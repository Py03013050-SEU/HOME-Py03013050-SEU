{
 "cells": [
  {
   "cell_type": "markdown",
   "metadata": {},
   "source": [
    "# The UML Class Diagrams\n",
    "\n",
    "## 1 The Project Of Student and Grade \n",
    "\n",
    "**If the project have `many different type modules`,you may feel `confused`.** \n",
    "\n",
    "The fine-organized module structures will help you understand software\n",
    "\n",
    "We arrange modules to the suitable folders.\n",
    "\n",
    "* The `edu` package: `grade.py student.py`\n",
    "\n",
    "```python\n",
    "\\mit\n",
    "   \\edu\n",
    "     __init__.py\n",
    "     grade.py\n",
    "     student.py\n",
    "main_app.py```\n",
    "```"
   ]
  },
  {
   "cell_type": "code",
   "execution_count": null,
   "metadata": {},
   "outputs": [],
   "source": [
    "# %load ./mit/distinmulti/main_app.py\n",
    "from edu.grade import *\n",
    "\n",
    "ug1 = UG('Jane Doe', 2014)\n",
    "# 1 creat the course named sixHundred\n",
    "sixHundred = Grades()\n",
    "\n",
    "# 2 some students taking a course named sixHundred\n",
    "sixHundred.addStudent(ug1)\n",
    "\n",
    "# 3 add Grades of students\n",
    "sixHundred.addGrade(ug1, 85)\n",
    "sixHundred.addGrade(ug1, 90)\n",
    "print('The student grades:', sixHundred.grades)\n",
    "# 4  produce a grade report\n",
    "print(gradeReport(sixHundred))"
   ]
  },
  {
   "cell_type": "code",
   "execution_count": null,
   "metadata": {},
   "outputs": [],
   "source": [
    "!python ./mit/distinmulti/main_app.py"
   ]
  },
  {
   "cell_type": "markdown",
   "metadata": {},
   "source": [
    "## 2  UML\n",
    "\n",
    "Unified Modeling Language https://en.wikipedia.org/wiki/Unified_Modeling_Language\n",
    "\n",
    "The Unified Modeling Language (UML)（统一建模语言) is a general-purpose, developmental, modeling language in the field of software engineering that is intended to provide a standard way to **visualize** the design of a system\n",
    "\n",
    "The creation of UML was originally motivated by the desire to standardize the disparate `notational` systems and approaches to `software design`\n",
    "\n",
    "![UML](./img/uml.jpg)"
   ]
  },
  {
   "cell_type": "markdown",
   "metadata": {},
   "source": [
    "### 2.1 The  Class diagram\n",
    "\n",
    "The **class diagram(https://en.wikipedia.org/wiki/Class_diagram)** in  UML is a type of static structure diagram that describes the structure of a system by showing the system's classes, their attributes, operations (or methods), and the relationships among objects. \n",
    "\n",
    "A class is depicted on the class diagram as a rectangle with **three** horizontal sections:\n",
    "\n",
    "* The `upper` section shows the class's `name`; \n",
    "\n",
    "* The`middle` section contains the class's `attributes`; \n",
    "\n",
    "* The `lower` section contains the class's `operations (or \"methods\")`. \n",
    "\n",
    "![uml-class](./img/uml-class.jpg)\n",
    "\n",
    "### 2.2 Relationship \n",
    "\n",
    "UML relations notation the relationship is a general term covering the specific types of logical **connections** found on `class and object` diagrams. \n",
    "\n",
    "UML defines the following relationships: \n",
    "\n",
    "![uml-relationships.jpg](./img/uml-relationships.jpg)\n",
    "\n",
    "\n",
    "Here,we use the following relationships:\n",
    "\n",
    "* Association(关联)\n",
    "\n",
    "* Inheritance(继承)\n",
    "\n",
    "\n",
    "#### 2.2.1 Inheritance\n",
    "\n",
    "Inheritance:继承-`Class-level` relationships : \n",
    "\n",
    "To model inheritance on a class diagram, **a solid line** is drawn from the `child class` (the class inheriting the behavior) with **a closed, unfilled arrowhead (or triangle)** pointing to the super class\n",
    "\n",
    "![uml-inheritance](./img/uml-inheritance.jpg)\n",
    "\n",
    "#### 2.2.2 Association \n",
    "\n",
    "Association:关联-`Instance-level` relationships \n",
    "\n",
    "Association represents the static relationship shared among the objects of `two classes`. \n",
    "\n",
    "The directional relationship represented by **a line with an arrowhead**. The arrowhead depicts a container-contained directional flow\n",
    "\n",
    "![uml-association](./img/uml-association.jpg)\n"
   ]
  },
  {
   "cell_type": "markdown",
   "metadata": {},
   "source": [
    "### 2.3 Reverse Code to UML\n",
    "\n",
    "Starting with Visual Studio 2017, the **UML Designers** have been **removed** from Visual Studio.\n",
    "\n",
    "https://devblogs.microsoft.com/devops/uml-designers-have-been-removed-layer-designer-now-supports-live-architectural-analysis/\n",
    "\n",
    "We are removing the UML designers from Visual Studio “15” Enterprise. Removing a feature is always a hard decision, but we want to ensure that our resources are invested in features that deliver the most customer value.  \n",
    "\n",
    "Our reasons are twofold:\n",
    "\n",
    "* On examining telemetry data, we found that the **designers** were being used by **very few customers**, and this was confirmed when we consulted with our sales and technical support teams.\n",
    "\n",
    "* We were also faced with investing significant engineering resource to react to changes happening in the Visual Studio core for this release.\n",
    "\n",
    "**Reverse Source Codes to UML**\n",
    "\n",
    "The Reverse is a process to produce UML class model from a given input of source code.\n",
    "\n",
    "By bringing code content into visual UML model, this <b style=\"color:blue\">helps programmers or software engineers to review an implementation, identify potential bugs or deficiency and look for possible improvements</b>. \n",
    "\n",
    "Apart from this, developers may reverse a code library as UML classes and construct model with them, like to reverse a generic collection framework and develop your own framework by extending the generic one\n",
    "\n",
    "\n",
    "**[Creating UML diagrams for Python code](https://github.com/PySEE/home/blob/S2019/guide/UMLPython.md)**\n",
    "\n"
   ]
  },
  {
   "cell_type": "markdown",
   "metadata": {},
   "source": [
    "\n",
    "### 2.4  The UML of Student and Grade\n",
    "\n",
    "\n",
    "#### 2.4.1 The Class diagram and  Inheritance\n",
    "\n",
    "![The Class diagram and  Inheritance](./mit/uml/classes.svg)\n",
    "\n",
    "\n"
   ]
  },
  {
   "cell_type": "markdown",
   "metadata": {},
   "source": [
    "\n",
    "#### 2.4.2 The Class Diagram：Association \n",
    "\n",
    "grade.py\n",
    "```python\n",
    "from .student import *\n",
    "\n",
    "class Grades(object):\n",
    "    \"\"\"A mapping from students to a list of grades\"\"\"\n",
    "```\n",
    "\n",
    "\n",
    "![The Class Association](./mit/uml/packages.svg)"
   ]
  },
  {
   "cell_type": "markdown",
   "metadata": {},
   "source": [
    "## Reference\n",
    "\n",
    "### UML \n",
    "\n",
    "Unified Modeling Language https://en.wikipedia.org/wiki/Unified_Modeling_Language\n",
    "\n",
    "UML http://www.uml.org/\n",
    "\n",
    "Donald Bell. [UML basics:An introduction to the Unified Modeling Language](https://www.ibm.com/developerworks/rational/library/769.html)\n",
    "\n",
    "  * [UML basics: The class diagram](https://www.ibm.com/developerworks/rational/library/content/RationalEdge/sep04/bell/index.html?ca=drs-)\n",
    " \n",
    "### Python & UML \n",
    "\n",
    "[Pyreverse: UML Diagrams for Python](https://www.logilab.org/blogentry/6883)\n",
    "\n",
    "* [Pylint](https://www.pylint.org/) is shipped with `Pyreverse` which creates UML diagrams for python code\n",
    "\n",
    "[Graphviz - Graph Visualization Software](http://www.graphviz.org/)\n",
    "\n",
    "[Creating UML diagrams for Python code](https://github.com/PySEE/home/blob/S2019/guide/UMLPython.md)\n",
    "\n"
   ]
  },
  {
   "cell_type": "code",
   "execution_count": null,
   "metadata": {},
   "outputs": [],
   "source": []
  }
 ],
 "metadata": {
  "kernelspec": {
   "display_name": "Python 3",
   "language": "python",
   "name": "python3"
  },
  "language_info": {
   "codemirror_mode": {
    "name": "ipython",
    "version": 3
   },
   "file_extension": ".py",
   "mimetype": "text/x-python",
   "name": "python",
   "nbconvert_exporter": "python",
   "pygments_lexer": "ipython3",
   "version": "3.8.0"
  },
  "toc": {
   "base_numbering": 1,
   "nav_menu": {},
   "number_sections": false,
   "sideBar": true,
   "skip_h1_title": false,
   "title_cell": "Table of Contents",
   "title_sidebar": "Contents",
   "toc_cell": false,
   "toc_position": {
    "height": "calc(100% - 180px)",
    "left": "10px",
    "top": "150px",
    "width": "165px"
   },
   "toc_section_display": true,
   "toc_window_display": true
  }
 },
 "nbformat": 4,
 "nbformat_minor": 2
}
