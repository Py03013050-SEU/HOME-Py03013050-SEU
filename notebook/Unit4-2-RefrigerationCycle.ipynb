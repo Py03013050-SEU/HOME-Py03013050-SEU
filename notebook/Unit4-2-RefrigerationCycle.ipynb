{
 "cells": [
  {
   "cell_type": "markdown",
   "metadata": {},
   "source": [
    "# Vapor-compression refrigeration cycle\n",
    "\n",
    "##  coolprop\n",
    " \n",
    "CoolProp is a thermophysical property database and wrappers for a selection of programming environments. \n",
    "\n",
    "It offers similar functionality to **REFPROP**, but CoolProp is open-source and free.\n",
    "\n",
    ">REFPROP: 美国国家标准与技术研究所(NIST)的一款物性数据库。其全称为Reference Fluid Thermodynamic and Transport Properties Database，即流体热力学和输运性质数据库\n",
    "\n",
    "It was originally developed by Ian Bell, at the time a post-doc at the University of Liege, in Liege, Belgium.\n",
    "\n",
    "* http://www.coolprop.org/\n",
    "\n",
    "* https://github.com/CoolProp/CoolProp\n",
    "\n",
    "### Python Wrapper\n",
    "\n",
    "```\n",
    "python -m pip install coolprop\n",
    "```\n",
    "\n",
    "#### PropsSI function\n",
    "\n",
    "For many users, all that is needed is a simple call to the **PropsSI** function for pure fluids, pseudo-pure fluids and mixtures. For humid air properties, see Humid air properties\n",
    "\n",
    "\n",
    "#### Table of string inputs to PropsSI function\n",
    "\n",
    "* http://www.coolprop.org/coolprop/HighLevelAPI.html#parameter-table\n",
    "\n",
    "| Parameter | Units   | Description|\n",
    "| ---- |:------:| -----------:|\n",
    "| P   | Pa\t  | Pressure     |\n",
    "| T   | K    | \tTemp       |\n",
    "| Q   |mol/mol|\tMass vapor quality |\n",
    "| H   |J/kg   |\tEnthalpy      | \n",
    "| S   |J/kg.k |\tEntropy       |\n",
    "| D   |kg/m^3 | Mass density    |\n",
    "\n",
    "\n",
    "#### The examples using PropsSI"
   ]
  },
  {
   "cell_type": "code",
   "execution_count": 3,
   "metadata": {},
   "outputs": [
    {
     "data": {
      "text/plain": [
       "292803.18233949516"
      ]
     },
     "execution_count": 3,
     "metadata": {},
     "output_type": "execute_result"
    }
   ],
   "source": [
    "import CoolProp.CoolProp as cp\n",
    "cp.PropsSI('P', 'T', 273.15+0, 'Q', 1, 'R134a')"
   ]
  },
  {
   "cell_type": "markdown",
   "metadata": {},
   "source": [
    "In this example, \n",
    "\n",
    "(T, Q) -> P\n",
    "\n",
    "* **The First parameter**, T, is **the output property** that will be returned from PropsSI.\n",
    "\n",
    "* **The second and fourth parameters** are the specified **input pair of properties** that determine the state point where the output property will be calculated.\n",
    "\n",
    "The output property and input pair properties are **text strings and must be quoted.** \n",
    "\n",
    "* The **third and fifth parameters** are the **values** of the **input pair properties** and will determine the state point\n",
    "\n",
    "* The **sixth and last parameter** is the fluid for which the output property will be calculated; also **a quoted string**.\n",
    "\n",
    "\n",
    "(T,Q) -> H"
   ]
  },
  {
   "cell_type": "code",
   "execution_count": 4,
   "metadata": {},
   "outputs": [
    {
     "data": {
      "text/plain": [
       "199999.98852614488"
      ]
     },
     "execution_count": 4,
     "metadata": {},
     "output_type": "execute_result"
    }
   ],
   "source": [
    "cp.PropsSI('H', 'T', 273.15+0, 'Q', 0, 'R134a')"
   ]
  },
  {
   "cell_type": "markdown",
   "metadata": {},
   "source": [
    "(T,Q) -> S"
   ]
  },
  {
   "cell_type": "code",
   "execution_count": 5,
   "metadata": {},
   "outputs": [
    {
     "data": {
      "text/plain": [
       "1000.0000369551423"
      ]
     },
     "execution_count": 5,
     "metadata": {},
     "output_type": "execute_result"
    }
   ],
   "source": [
    "cp.PropsSI('S', 'T', 273.15+0, 'Q', 0, 'R134a')"
   ]
  },
  {
   "cell_type": "markdown",
   "metadata": {},
   "source": [
    " Critical Pressure and  Pressure"
   ]
  },
  {
   "cell_type": "code",
   "execution_count": 6,
   "metadata": {},
   "outputs": [
    {
     "name": "stdout",
     "output_type": "stream",
     "text": [
      "4059280.0\n",
      "374.21\n"
     ]
    }
   ],
   "source": [
    "import CoolProp.CoolProp as cp\n",
    "pc=cp.PropsSI(\"R134a\", \"Pcrit\") #  Critical Pressure [Pa]\n",
    "Tc=cp.PropsSI(\"R134a\", \"Tcrit\") #  Critical Temperature [K]\n",
    "print(pc)\n",
    "print(Tc)"
   ]
  },
  {
   "cell_type": "markdown",
   "metadata": {},
   "source": [
    "### phyprops \n",
    "\n",
    "phyprops: the **simple** interface package of CoolProp\n",
    "```\n",
    " python -m pip install phyprops\n",
    "```\n",
    "| Parameter | Units  | Description|\n",
    "| --------- |:-------:| --------------:|\n",
    "| p       | MPa\t  |  Pressure     |\n",
    "| t       | °C   | \tTemp       |\n",
    "| h       |kJ/kg  |\t  Enthalpy      | \n",
    "| s       |kJ/kg.k |\tEntropy       |\n",
    "| x       |kg/kg  |\t  Mass vapor quality |\n"
   ]
  },
  {
   "cell_type": "markdown",
   "metadata": {},
   "source": [
    "```python\n",
    "def tx_p(t, x, refrigerant):\n",
    "def tx_s(t, x, refrigerant):\n",
    "def tx_h(t, x, refrigerant):\n",
    "\n",
    "def px_t(p, x, refrigerant):\n",
    "def px_h(p, x, refrigerant):\n",
    "def px_s(p, x, refrigerant):\n",
    "\n",
    "def pt_h(p, t, refrigerant):\n",
    "def pt_s(p, t, refrigerant):\n",
    "\n",
    "def ps_h(p, s, refrigerant):\n",
    "def ps_t(p, s, refrigerant):\n",
    "def ps_x(p, s, refrigerant):\n",
    "\n",
    "def ph_s(p, h, refrigerant):\n",
    "def ph_t(p, h, refrigerant):\n",
    "def ph_x(p, h, refrigerant):\n",
    "```"
   ]
  },
  {
   "cell_type": "code",
   "execution_count": 1,
   "metadata": {},
   "outputs": [
    {
     "name": "stdout",
     "output_type": "stream",
     "text": [
      "0.6854 29.27 416.20922969219487 1.7270805889626684\n",
      "419.4285242466987\n"
     ]
    }
   ],
   "source": [
    "from phyprops.prop_coolprop import *\n",
    "\n",
    "refrigerant=\"R134a\"\n",
    "\n",
    "t = 29.27\n",
    "p = 0.6854\n",
    "h = pt_h(p,t, refrigerant) \n",
    "s = pt_s(p,t, refrigerant) \n",
    "print(p, t, h, s)\n",
    "\n",
    "t = 40\n",
    "x = 1\n",
    "h = tx_h(t,x, refrigerant) \n",
    "print( h)\n"
   ]
  },
  {
   "cell_type": "markdown",
   "metadata": {},
   "source": [
    "## 2 Vapor-Compression Refrigeration Cycle\n",
    "\n",
    ">Yunus A. Cengel, Michael A. Boles,Thermodynamics: An Engineering Approach, 5th Edition, McGraw-Hill\n",
    "\n",
    "###  An ideal vapor-compression refrigeration cycle\n",
    "\n",
    "The ideal **vapor-compression refrigeration cycle(VCR)** shown\n",
    "\n",
    "![ivcr-ts](./img/vcr/ivcr-ts.jpg)\n",
    "\n",
    "It consists of **four** processes\n",
    "\n",
    "* step 1 -> 2, **Isentropic compression（等熵压缩）**: saturated vapor at $P_L$ is compress isentropically to $P_H$ where it becomes superheated vapor.\n",
    "\n",
    "* step 2 -> 3, **Isobaric heat rejection（等压散热）**:  heat $Q_{out}$ is transferred to the surrounding by condensation at $T_H$. \n",
    "\n",
    "* step 3 -> 4, **Isenthalpic expansion（等焓膨胀）**: the cycle is closed by throttling the liquid to the lower pressure $P_L$\n",
    "\n",
    "* step 4 -> 1, **Isobaric heat addition(等压吸热）**: heat  $Q_{in}$is removed at the temperature $T_L$ from the system being refrigerated by the evaporation of a liquid under the pressure $P_L$\n",
    "\n",
    "\n",
    "**EXAMPLE 11–1 The Ideal Vapor-Compression Refrigeration  Cycle**\n",
    "\n",
    "A refrigerator uses R134a as the working fluid and operates on an ideal vapor-compression refrigeration cycle between 0.14 and 0.8 MPa.\n",
    "\n",
    "If the mass flow rate of the refrigerant is 0.05 kg/s, \n",
    "\n",
    "**Determine** \n",
    "\n",
    "* (a) the rate of heat\n",
    "removal from the refrigerated space and the power input to the compressor,\n",
    "* (b) the rate of heat rejection to the environment, and \n",
    "* (c) the COP of the refrigerator.\n",
    "\n",
    "\n",
    "![ivcr-11-1](./img/vcr/ivcr-11-1.jpg)\n"
   ]
  },
  {
   "cell_type": "markdown",
   "metadata": {},
   "source": [
    "**Analysis**\n",
    "\n",
    "\n",
    "(a) The compressor work is give by\n",
    "\n",
    "$\\dot{W}_{c}=\\dot{m}*(h_2-h_1)$\n",
    "\n",
    "The refrigeration capacity is\n",
    "\n",
    "$\\dot{Q}_{in}=\\dot{m}*(h_1-h_4)$\n",
    "\n",
    "in tons,\n",
    "\n",
    "$\\dot{Q}_{in}=\\dot{m}*(h_1-h_4)*(60s/min)\\frac{1ton}{211 kJ/min}$\n",
    "\n",
    "(b)The rate of heat rejection from the refrigerant to the environment is\n",
    "\n",
    "$\\dot{Q}_{out}=\\dot{m}*(h_2-h_3)$\n",
    "\n",
    "(c) The coefficient of performance is\n",
    "\n",
    "$COP_c=\\frac{\\dot{Q}_{in}}{\\dot{W}_{c}}=\\frac{h_1-h_4}{h_2-h_1}$\n"
   ]
  },
  {
   "cell_type": "markdown",
   "metadata": {},
   "source": [
    "### Python Code\n",
    "\n",
    "**expressions to code directly**"
   ]
  },
  {
   "cell_type": "code",
   "execution_count": 5,
   "metadata": {},
   "outputs": [
    {
     "name": "stdout",
     "output_type": "stream",
     "text": [
      "The compressor work(kW): 1.81\n",
      "The rate of heat rejection(kW): 8.99\n",
      "The refrigeration capacity(kW): 7.18\n",
      "\tcapacity(tons): 2.04\n",
      "The coefficient of performance: 3.97\n"
     ]
    }
   ],
   "source": [
    "from phyprops.prop_coolprop import *\n",
    "\n",
    "refrigerant=\"R134a\"\n",
    "\n",
    "mdot=0.05\n",
    "p1=0.14\n",
    "x1=1.0\n",
    "\n",
    "p3=0.8\n",
    "x3=0.0\n",
    "\n",
    "t1=px_t(p1, x1, refrigerant)\n",
    "h1=px_h(p1, x1, refrigerant)\n",
    "s1=px_s(p1, x1,  refrigerant)\n",
    "\n",
    "t3=px_t(p3, x3,  refrigerant)\n",
    "h3=px_h(p3,x3,  refrigerant)\n",
    "\n",
    "p2=p3;\n",
    "s2=s1;\n",
    "h2=ps_h(p2,s2,  refrigerant)\n",
    "\n",
    "h4=h3;\n",
    "\n",
    "# The compressor work is give by\n",
    "wc=mdot*(h2-h1);\n",
    "# The rate of heat rejection \n",
    "qout=mdot*(h2-h3);\n",
    "# The refrigeration capacity \n",
    "qin=mdot*(h1-h4);\n",
    "# The refrigeration capacity in tons\n",
    "qin_tons=qin*60*(1/211);\n",
    "# The coefficient of performance is\n",
    "cop=(h1-h4)/(h2-h1);\n",
    "\n",
    "print(\"The compressor work(kW): {:.2f}\".format(wc))\n",
    "print(\"The rate of heat rejection(kW): {:.2f}\".format(qout))\n",
    "print(\"The refrigeration capacity(kW): {:.2f}\".format(qin))\n",
    "print(\"\\tcapacity(tons): {:.2f}\".format(qin_tons))\n",
    "print(\"The coefficient of performance: {:.2f}\".format(cop))\n",
    "\n"
   ]
  },
  {
   "cell_type": "markdown",
   "metadata": {},
   "source": [
    "### T-s Diagram"
   ]
  },
  {
   "cell_type": "code",
   "execution_count": 6,
   "metadata": {},
   "outputs": [
    {
     "data": {
      "image/png": "[encoded data removed]",
      "text/plain": [
       "<Figure size 720x576 with 1 Axes>"
      ]
     },
     "metadata": {
      "needs_background": "light"
     },
     "output_type": "display_data"
    }
   ],
   "source": [
    "\"\"\"\n",
    "T-s Diagram\n",
    "\"\"\"\n",
    "import CoolProp.CoolProp as cp\n",
    "from phyprops.prop_coolprop import *\n",
    "\n",
    "import matplotlib.pyplot as plt\n",
    "import numpy as np\n",
    "\n",
    "\n",
    "plt.figure(figsize=(10.0, 8.0))  # figsize :set figure size\n",
    "plt.title(\"T-s Diagram\")\n",
    "plt.xlabel(\"s, kJ/kgK\")\n",
    "plt.ylabel(\"T, °C\")\n",
    "plt.grid()\n",
    "\n",
    "Tc=cp.PropsSI(refrigerant, \"Tcrit\") #  Critical point temperature [K]\n",
    "tc = Tc-273.15\n",
    "T = np.linspace(-20, tc,120)\n",
    "for x in np.array([0, 1.0]):\n",
    "    S=np.array([tx_s(t,x, refrigerant) for t in T])\n",
    "    plt.plot(S, T, 'r', lw=0.5)\n",
    "\n",
    "# cycle\n",
    "t2= ps_t(p2, s2,refrigerant)\n",
    "s3=px_s(p2,0, refrigerant)\n",
    "t4=t1\n",
    "p4=p1\n",
    "s4=ph_s(p4,h4, refrigerant)\n",
    "ta=t3\n",
    "sa=tx_s(ta,1, refrigerant)\n",
    "\n",
    "t=[t1,t2,ta,t3,t4,t1]\n",
    "s=[s1,s2,sa,s3,s4,s1]\n",
    "plt.plot(s,t, 'g-o', lw=1.5)\n",
    "\n",
    "plt.annotate('1 ({:.2f},{:.2f})'.format(s[0], t[0]),\n",
    "                 xy=(s[0], t[0]), xycoords='data',\n",
    "                 xytext=(+2, +5), textcoords='offset points', fontsize=12)\n",
    "\n",
    "plt.annotate('2 ({:.2f},{:.2f})'.format(s[1], t[1]),\n",
    "                 xy=(s[1], t[1]), xycoords='data',\n",
    "                 xytext=(+2, +5), textcoords='offset points', fontsize=12)\n",
    "\n",
    "plt.annotate('3 ({:.2f},{:.2f})'.format(s[3], t[3]),\n",
    "                 xy=(s[3], t[3]), xycoords='data',\n",
    "                 xytext=(+1, +15), textcoords='offset points', fontsize=12)\n",
    "\n",
    "plt.annotate('4 ({:.2f},{:.2f})'.format(s[4], t[4]),\n",
    "                 xy=(s[4], t[4]), xycoords='data',\n",
    "                 xytext=(+5, +5), textcoords='offset points', fontsize=12)\n",
    "\n",
    "plt.show()"
   ]
  },
  {
   "cell_type": "code",
   "execution_count": null,
   "metadata": {},
   "outputs": [],
   "source": []
  },
  {
   "cell_type": "code",
   "execution_count": null,
   "metadata": {},
   "outputs": [],
   "source": []
  }
 ],
 "metadata": {
  "interpreter": {
   "hash": "2db524e06e9f5f4ffedc911c917cb75e12dbc923643829bf417064a77eb14d37"
  },
  "kernelspec": {
   "display_name": "Python 3 (ipykernel)",
   "language": "python",
   "name": "python3"
  },
  "language_info": {
   "codemirror_mode": {
    "name": "ipython",
    "version": 3
   },
   "file_extension": ".py",
   "mimetype": "text/x-python",
   "name": "python",
   "nbconvert_exporter": "python",
   "pygments_lexer": "ipython3",
   "version": "3.8.7"
  },
  "latex_envs": {
   "LaTeX_envs_menu_present": true,
   "autoclose": false,
   "autocomplete": true,
   "bibliofile": "biblio.bib",
   "cite_by": "apalike",
   "current_citInitial": 1,
   "eqLabelWithNumbers": true,
   "eqNumInitial": 1,
   "hotkeys": {
    "equation": "Ctrl-E",
    "itemize": "Ctrl-I"
   },
   "labels_anchors": false,
   "latex_user_defs": false,
   "report_style_numbering": false,
   "user_envs_cfg": false
  },
  "toc": {
   "base_numbering": 1,
   "nav_menu": {},
   "number_sections": true,
   "sideBar": true,
   "skip_h1_title": false,
   "title_cell": "Table of Contents",
   "title_sidebar": "Contents",
   "toc_cell": false,
   "toc_position": {
    "height": "calc(100% - 180px)",
    "left": "10px",
    "top": "150px",
    "width": "236.438px"
   },
   "toc_section_display": true,
   "toc_window_display": true
  }
 },
 "nbformat": 4,
 "nbformat_minor": 4
}
