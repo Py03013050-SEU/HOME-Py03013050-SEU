{
 "cells": [
  {
   "cell_type": "markdown",
   "metadata": {},
   "source": [
    "# 8 CLASSES AND OBJECT-ORIENTED PROGRAMMING"
   ]
  },
  {
   "cell_type": "markdown",
   "metadata": {},
   "source": [
    "\n",
    "We now turn our attention to our major topic related to programming in Python: **using `classes` to organize programs around modules and data abstractions** in the context of **object-oriented programming.**\n",
    "\n",
    "The key to <b>object-oriented programming</b> is thinking about <b>objects</b> as collections of both <b>data</b> and <b>the methods</b> that operate on that data.\n",
    "\n",
    "* objects: data + the method "
   ]
  },
  {
   "cell_type": "markdown",
   "metadata": {},
   "source": [
    "## 8.1 Abstract Data Types and Classes"
   ]
  },
  {
   "cell_type": "markdown",
   "metadata": {},
   "source": [
    "### Computational Thinking\n",
    "\n",
    "Programming is about managing <b>complexity</b> in a way that <b>facilitates change</b>. There are two powerful mechanisms available for accomplishing this: `decomposition` and `abstraction`  \n",
    "\n",
    "Apply **abstraction** and **decomposition** to solve more complex problems\n",
    " \n",
    "* **decompose** a `large` problem into `parts` and design algorithms to solve them\n",
    "\n",
    "* recognise `similar` problems, and apply `generic` solutions and **abstractions**\n",
    "\n",
    "* creating **algorithms** to obtain the generic `solution`  results\n",
    "\n",
    "The set of problem-solving methods with computer is also called [Computational Thinking](https://en.wikipedia.org/wiki/Computational_thinking). \n",
    "\n",
    "\n",
    "The characteristics that define [Computational Thinking](https://en.wikipedia.org/wiki/Computational_thinking) are \n",
    "\n",
    "  * **decomposition, pattern recognition / data representation, generalization/abstraction, and algorithms.**\n",
    "\n",
    "<b style=\"color:blue;font-size:130%\">Abstraction is Key</b>\n",
    "\n",
    "[Jeannette M. Wing, Computational Thinking Benefits Society](http://socialissues.cs.toronto.edu/index.html%3Fp=279.html)\n",
    "\n",
    "Computer science is **the automation of abstractions**. So, the most important and high-level thought process in computational thinking is the <b style=\"color:blue\">abstraction</b> process.\n",
    "\n",
    "**Abstraction** is used in defining <b style=\"color:blue\">patterns</b>, <b style=\"color:blue\">generalizing</b> from specific instances, and <b style=\"color:blue\">parameterization</b>. \n",
    "\n",
    "It is used to let `one` object stand for `many`. \n",
    "\n",
    "It is used to capture `essential` properties `common` to a set of objects while hiding irrelevant distinctions among them\n",
    "\n",
    "**Abstraction** gives us the power to scale and deal with complexity.\n",
    "\n",
    "\n",
    "Thinking computationally was a fundamental skill for everyone, not just computer scientists, and argued for the importance of integrating computational ideas into other disciplines.\n",
    "\n",
    "---\n",
    "\n",
    "**Algorithms + Data Structures = Programs**\n",
    "\n",
    "What is programs?\n",
    "\n",
    "`Algorithms + Data Structures = Programs` is a 1976 book written by `Niklaus Wirth` covering some of the fundamental topics of computer programming, particularly that algorithms and data structures are inherently related. (https://en.wikipedia.org/wiki/Algorithms_%2B_Data_Structures_%3D_Programs)**\n",
    "\n",
    "The Turbo Pascal compiler written by **Anders Hejlsberg** was largely inspired by the \"Tiny Pascal\" compiler in **Niklaus Wirth**'s book.\n",
    "\n",
    "### 8.1.1 The Simple Class\n",
    "\n",
    "In Python, one implements **abstractions** using **class**.\n",
    "\n",
    "Let's write a `Circle` class contain: \n",
    "\n",
    "* a data attribute `radius`,`area`\n",
    "\n",
    "* a method `cal_area(`)\n",
    "\n",
    "**1 In C++**"
   ]
  },
  {
   "cell_type": "code",
   "execution_count": null,
   "metadata": {},
   "outputs": [],
   "source": [
    "%%file ./demo/src/circle.cpp\n",
    "\n",
    "#include <iostream>\n",
    "#include <math.h>\n",
    "using namespace std;\n",
    "\n",
    "class TCircle\n",
    "// A Circle instance models a circle with a radius \n",
    "{\n",
    "  private:\n",
    "  \n",
    "  public: \n",
    "    float radius;\n",
    "    float area;\n",
    "    \n",
    "    TCircle(float fradius=1.0);\n",
    "    \n",
    "    void cal_area();\n",
    "};\n",
    "\n",
    "TCircle:: TCircle(float fradius)\n",
    "{\n",
    "    radius=fradius;   \n",
    "};\n",
    "\n",
    "void TCircle::cal_area()\n",
    "{\n",
    "    area=radius * radius * M_PI;\n",
    "};        \n",
    "\n",
    "int main() {\n",
    "   float radius=2.1;\n",
    "   float area;\n",
    "   TCircle c1(radius);\n",
    "   c1.cal_area(); \n",
    "   cout << \"The Circle: radius=\"<<c1.radius<<\"\\tarea=\"<<c1.area<<endl;\n",
    "   return 0;\n",
    "}"
   ]
  },
  {
   "cell_type": "code",
   "execution_count": null,
   "metadata": {},
   "outputs": [],
   "source": [
    "!g++ -o ./demo/bin/circle ./demo/src/circle.cpp"
   ]
  },
  {
   "cell_type": "code",
   "execution_count": null,
   "metadata": {},
   "outputs": [],
   "source": [
    "!.\\demo\\bin\\circle"
   ]
  },
  {
   "cell_type": "markdown",
   "metadata": {},
   "source": [
    "**2 In Python**"
   ]
  },
  {
   "cell_type": "code",
   "execution_count": null,
   "metadata": {},
   "outputs": [],
   "source": [
    "from math import pi\n",
    " \n",
    "class Circle:    # For Python 2 use: \"class Circle(object):\"\n",
    "    \"\"\"A Circle instance models a circle with a radius\"\"\"\n",
    " \n",
    "    def __init__(self, radius=1.0):\n",
    "        \"\"\"Initializer with default radius of 1.0\"\"\"\n",
    "        self.radius = radius  # Create an instance variable radius\n",
    "\n",
    "    def cal_area(self):\n",
    "        \"\"\"the area of this Circle instance\"\"\"\n",
    "        self.area=self.radius * self.radius * pi"
   ]
  },
  {
   "cell_type": "code",
   "execution_count": null,
   "metadata": {},
   "outputs": [],
   "source": [
    "radius=2.1\n",
    "c1=Circle(radius)\n",
    "c1.cal_area()\n",
    "c1.area"
   ]
  },
  {
   "cell_type": "markdown",
   "metadata": {},
   "source": [
    "A class definition \n",
    "\n",
    "* 1 Creates an `object` of `class` type  \n",
    "\n",
    "* 2 Creates class attributes: a set of `data` and `procedures` that belong to the class\n",
    "\n",
    "####  1  Create an `object` of `class` type \n",
    "use the `class` keyword to define a new type class:`Circle`\n",
    "\n",
    "*  a subclass of `object`\n",
    "\n",
    "```python\n",
    "class Circle: # For Python 2 use: \"class Circle(object):\"\n",
    "    \"\"\"A Circle instance models a circle with a radius\"\"\" \n",
    "```    "
   ]
  },
  {
   "cell_type": "code",
   "execution_count": null,
   "metadata": {},
   "outputs": [],
   "source": [
    "print(type(Circle))"
   ]
  },
  {
   "cell_type": "markdown",
   "metadata": {},
   "source": [
    "#### 2 Create class attributes\n",
    "\n",
    "An class contains attributes \n",
    "\n",
    "*  **data attributes**\n",
    "\n",
    "   * think of data as other objects that make up the class \n",
    "\n",
    "*  **methods**(procedural attributes)\n",
    "\n",
    "   * think of methods as functions that only work with this class\n",
    "   \n",
    "   * how to interact with the object\n",
    "\n",
    "All  attributes is  <b style=\"color:blue\">PUBLIC</b>\n",
    "\n",
    "##### 2.1 Data attributes\n",
    "\n",
    "Data attributes: <b style=\"color:blue\">Instance variable</b>\n",
    "\n",
    "```python\n",
    "    def __init__(self, radius=1.0):\n",
    "        \"\"\"Initializer with default radius of 1.0\"\"\"\n",
    "        self.radius = radius  # Create an instance variable radius\n",
    "        \n",
    "    def cal_area(self):\n",
    "        \"\"\"the area of this Circle instance\"\"\"\n",
    "        self.area=self.radius * self.radius * pi     \n",
    "```\n",
    "\n",
    "```python\n",
    "self.radius\n",
    "\n",
    "self.area\n",
    "```\n",
    "* Every <b style=\"color:blue\">Instance variable</b> begin with <b style=\"color:blue\">self.</b>: \n",
    "\n",
    "* One Instance variable can be **defined in any method** `as you need`,begined with <b style=\"color:blue\">self.</b>:\n",
    "\n",
    "  * <b style=\"color:blue\">self</b>: the instance  of  the class\n",
    "\n",
    "##### 2.2 Methods\n",
    "\n",
    "```python\n",
    "  def __init__(self, radius=1.0):\n",
    " \n",
    "  def cal_area(self):\n",
    "```\n",
    "Every method uses <b style=\"color:blue\">self</b>  as the name of <b style=\"color:blue\">the first argument</b> of all methods\n",
    "\n",
    "* Python always passes the object as the `first` argument.\n",
    "\n",
    "###### 2.2.1 The  special method `__init__` \n",
    "\n",
    "The Special method names that start and end with two underscores <b style=\"color:blue\">__</b>. \n",
    "\n",
    "**Constructor  `__init__()`** : create instances of the class.\n",
    "\n",
    "* Whenever a class is <b>instantiated</b>, a call is made to the `__init__` method defined in that class.\n",
    "\n",
    "```python\n",
    "def __init__(self, radius=1.0):\n",
    "    \"\"\"Initializer with default radius of 1.0\"\"\"\n",
    "    self.radius = radius  # Create an instance variable radius\n",
    "```"
   ]
  },
  {
   "cell_type": "code",
   "execution_count": null,
   "metadata": {},
   "outputs": [],
   "source": [
    "c1=Circle()\n",
    "c1.radius"
   ]
  },
  {
   "cell_type": "markdown",
   "metadata": {},
   "source": [
    "######  2.2.2 The  methods to get the area of this Circle \n",
    "\n",
    "```python\n",
    " def cal_area(self):\n",
    "        \"\"\"the area of this Circle instance\"\"\"\n",
    "        self.area=self.radius * self.radius * pi\n",
    "```            "
   ]
  },
  {
   "cell_type": "markdown",
   "metadata": {},
   "source": [
    "#### 2.3  Access any attribute\n",
    "\n",
    "The **“`.`”** operator is used to access any attribute\n",
    "\n",
    "* a data attribute of an object\n",
    "\n",
    "* a method of an object\n"
   ]
  },
  {
   "cell_type": "code",
   "execution_count": null,
   "metadata": {},
   "outputs": [],
   "source": [
    "c1=Circle(2.1)\n",
    "print(c1.radius)\n",
    "c1.cal_area()\n",
    "c1.area"
   ]
  },
  {
   "cell_type": "markdown",
   "metadata": {},
   "source": [
    "#### 2.4 Add the Special Method `__str__` \n",
    "\n",
    "Add the Special Method `__str__`  to the class Circle"
   ]
  },
  {
   "cell_type": "code",
   "execution_count": null,
   "metadata": {},
   "outputs": [],
   "source": [
    "from math import pi\n",
    " \n",
    "class Circle(object):    # For Python 2 use: \"class Circle(object):\"\n",
    "    \"\"\"A Circle instance models a circle with a radius\"\"\"\n",
    " \n",
    "    def __init__(self, radius=1.0):\n",
    "        \"\"\"Initializer with default radius of 1.0\"\"\"\n",
    "        self.radius = radius  # Create an instance variable radius\n",
    "        self.area=None  # init self.area=None\n",
    "    \n",
    "    def cal_area(self):\n",
    "        \"\"\"Return the area of this Circle instance\"\"\"\n",
    "        self.area=self.radius * self.radius * pi\n",
    "    \n",
    "    def __str__(self):\n",
    "        \"\"\"Returns a string representation of  Circle\"\"\"\n",
    "        if self.area==None:\n",
    "            self.area=self.radius * self.radius * pi\n",
    "        result = \"The Circle: radius=\"+str(self.radius)+\" area=\"+str(self.area)\n",
    "        return  result  "
   ]
  },
  {
   "cell_type": "markdown",
   "metadata": {},
   "source": [
    "\n",
    "###### 2.4.1 the `print` command is used \n",
    "\n",
    "the `__str__` function associated with the object to be `printed` is <b>automatically invoked</b>."
   ]
  },
  {
   "cell_type": "code",
   "execution_count": null,
   "metadata": {},
   "outputs": [],
   "source": [
    "c1=Circle(2.1)\n",
    "print(c1)"
   ]
  },
  {
   "cell_type": "markdown",
   "metadata": {},
   "source": [
    "###### 2.4.2  calling `str`\n",
    "\n",
    "the `__str__` function is automatically invoked to convert a instance of that class a string"
   ]
  },
  {
   "cell_type": "code",
   "execution_count": null,
   "metadata": {},
   "outputs": [],
   "source": [
    "str(c1)"
   ]
  },
  {
   "cell_type": "code",
   "execution_count": null,
   "metadata": {},
   "outputs": [],
   "source": [
    "c1.__str__()"
   ]
  },
  {
   "cell_type": "markdown",
   "metadata": {},
   "source": [
    "###### 2.4.3 Build-in __str__ :List,dict,tuple"
   ]
  },
  {
   "cell_type": "code",
   "execution_count": null,
   "metadata": {},
   "outputs": [],
   "source": [
    "l=[1,2,3]\n",
    "print(l)\n",
    "str(l)"
   ]
  },
  {
   "cell_type": "code",
   "execution_count": null,
   "metadata": {},
   "outputs": [],
   "source": [
    "l.__str__()"
   ]
  },
  {
   "cell_type": "code",
   "execution_count": null,
   "metadata": {},
   "outputs": [],
   "source": [
    "d={'a':1,'b':2}\n",
    "print(d)\n",
    "str(d)"
   ]
  },
  {
   "cell_type": "code",
   "execution_count": null,
   "metadata": {},
   "outputs": [],
   "source": [
    "d.__str__()"
   ]
  },
  {
   "cell_type": "code",
   "execution_count": null,
   "metadata": {},
   "outputs": [],
   "source": [
    "t=('a',1,'c')\n",
    "print(t)\n",
    "str(t)"
   ]
  },
  {
   "cell_type": "code",
   "execution_count": null,
   "metadata": {},
   "outputs": [],
   "source": [
    "t.__str__()"
   ]
  },
  {
   "cell_type": "markdown",
   "metadata": {},
   "source": [
    "## 8.1.2 Using Classes to Keep Track of Students and Faculty\n",
    "\n",
    "As an example use of classes, imagine that you are designing a program to help keep track of all the students and faculty at a university. \n",
    "\n",
    "Before rushing in to design a bunch of data structures, let’s think about some **abstractions** that might prove useful. \n",
    "\n",
    "* Is there an abstraction that covers the <b>common attributes</b> of `students, professors, and staff`?\n",
    "\n",
    "Some would argue that they are all <b>human</b>. \n",
    "\n",
    "The below codes contain a class **Person** that incorporates some of the <b>common attributes (name and birthdate) of humans</b>.\n",
    "\n",
    "### 1 The class Person\n",
    "\n",
    "####  datetime\n",
    "\n",
    "Basic date and time types\n",
    "\n",
    "https://docs.python.org/3/library/datetime.html\n",
    "\n",
    "1 classmethod：`datetime.date.today()`：return the current local date.\n",
    "\n",
    "2 constructor `class datetime.date(year, month, day)`: return the instance of datetime.date\n",
    "\n",
    "#### dateutil\n",
    "\n",
    "The `dateutil` module provides powerful extensions to the standard `datetime` module, available in Python.\n",
    "\n",
    "https://github.com/dateutil/dateutil/\n",
    "\n",
    "```\n",
    "python -m pip install python-dateutil\n",
    "```\n",
    "\n",
    "[relativedelta type](https://dateutil.readthedocs.io/en/stable/relativedelta.html)\n",
    "\n",
    "```python\n",
    "relativedelta(datetime1, datetime2)\n",
    "```"
   ]
  },
  {
   "cell_type": "code",
   "execution_count": null,
   "metadata": {},
   "outputs": [],
   "source": [
    "import datetime\n",
    "from dateutil.relativedelta import relativedelta\n",
    "\n",
    "class Person:\n",
    "\n",
    "    def __init__(self, name):\n",
    "        \"\"\"Create a person：common attributes name and birthdate\"\"\"\n",
    "        self.name = name # 1 fullname:firstname lastname or 2 lastname \n",
    "        try: \n",
    "            lastBlank = name.rindex(' ') # ' 'lastName\n",
    "            self.lastName = name[lastBlank+1:]\n",
    "        except:\n",
    "            self.lastName = name\n",
    "        \n",
    "        self.birthday = None\n",
    " \n",
    "    def getName(self):\n",
    "        \"\"\"Returns self's full name\"\"\"\n",
    "        return self.name\n",
    "\n",
    "    def getLastName(self):\n",
    "        \"\"\"Returns self's last name\"\"\"\n",
    "        return self.lastName\n",
    "\n",
    "    def setBirthday(self, birthdate):\n",
    "        \"\"\"Assumes birthdate is of type datetime.date\n",
    "           Sets self's birthday to birthdate\"\"\"\n",
    "        self.birthday = birthdate\n",
    "\n",
    "    def getAge(self):\n",
    "        \"\"\"Returns self's current age in years\"\"\"\n",
    "        if self.birthday == None:\n",
    "            raise ValueError\n",
    "        relatyears=relativedelta(datetime.date.today(),self.birthday)    \n",
    "        return relatyears.years+round(relatyears.months/12, 1)\n",
    "\n",
    "    def __lt__(self, other):\n",
    "        \"\"\"Returns True if self's name is lexicographically  less than other's name, \n",
    "           and False otherwise\"\"\"\n",
    "        if self.lastName == other.lastName:\n",
    "            return self.name < other.name\n",
    "        return self.lastName < other.lastName\n",
    "\n",
    "    def __str__(self):\n",
    "        \"\"\"Returns self's name\"\"\"\n",
    "        return self.name"
   ]
  },
  {
   "cell_type": "markdown",
   "metadata": {},
   "source": [
    "The following code makes use of `Person`."
   ]
  },
  {
   "cell_type": "code",
   "execution_count": null,
   "metadata": {},
   "outputs": [],
   "source": [
    "him = Person('Barack Hussein Obama')\n",
    "print(him.getLastName())\n",
    "him.setBirthday(datetime.date(1961, 8, 4))\n",
    "print(him.getName(), 'is', him.getAge(), 'years old') "
   ]
  },
  {
   "cell_type": "markdown",
   "metadata": {
    "collapsed": true
   },
   "source": [
    "Notice that\n",
    " \n",
    "* whenever `Person` is instantiated an argument is supplied to the `__init__` function\n",
    "\n",
    "* One can then **access information** about these instances using **the methods** associated with them: `him.getLastName()` "
   ]
  },
  {
   "cell_type": "markdown",
   "metadata": {},
   "source": [
    "\n",
    "### 2  The Special  method  `__lt__`  \n",
    "\n",
    "```python\n",
    "   def __lt__(self, other):\n",
    "        \"\"\"Returns True if self's name is lexicographically less than other's name, \n",
    "           and False otherwise\"\"\"\n",
    "        if self.lastName == other.lastName:\n",
    "            return self.name < other.name\n",
    "        return self.lastName < other.lastName\n",
    "```\n",
    "\n",
    "Returns True if `self's name` is `lexicographically` less than(<) `other's name`\n"
   ]
  },
  {
   "cell_type": "code",
   "execution_count": null,
   "metadata": {},
   "outputs": [],
   "source": [
    "'ax'<'bx'"
   ]
  },
  {
   "cell_type": "markdown",
   "metadata": {},
   "source": [
    "This method **overloads** the  `<` operator, this overloading provides automatic access to any **polymorphic(多态)** method \n",
    "\n",
    "For example: \n",
    "\n",
    "The built-in method `sort` is one such method.\n",
    "\n",
    "* if `pList` is a list composed of elements of type `Person`, the call `pList.sort()` will sort that list using the `__lt__ `method defined in class `Person.`"
   ]
  },
  {
   "cell_type": "code",
   "execution_count": null,
   "metadata": {},
   "outputs": [],
   "source": [
    "me = Person('Michael Guttag')\n",
    "him = Person('Barack Hussein Obama')\n",
    "him.setBirthday(datetime.date(1961, 8, 4))\n",
    "her = Person('Madonna')\n",
    "her.setBirthday(datetime.date(1958, 8, 16))\n",
    "\n",
    "pList = [me, him, her]\n",
    "for p in pList:\n",
    "    print(p)\n",
    "\n",
    "print('\\n -- Returns True if self\\'s name is lexicographically less than other\\'s name, After sorted --\\n')    \n",
    "\n",
    "# The call pList.sort() will sort that list using the __lt__method defined in class Person.\n",
    "pList.sort()\n",
    "for p in pList:\n",
    "    print(p)  # call person. __str__ to return self.name\n"
   ]
  },
  {
   "cell_type": "markdown",
   "metadata": {},
   "source": [
    "The built-in method  `sort` use **only** `<` comparisons between items. \n",
    "\n",
    "If no the `__lt__ `method defined in class `Person.`,we can not using the built-in method `sort` to the `pList`\n",
    "\n",
    "### 3 Demo `__lt__` ` __str__`\n",
    "\n",
    "You may change `Person.__lt__` or `Person.__str__` to understand more things. \n",
    "\n",
    "*  `Person.__lt__` :  Returns True if self's `birthday` is less than other's birthday\n",
    "\n",
    "*  `Person.__str__`: If have birthday,returns self's name+birthday"
   ]
  },
  {
   "cell_type": "code",
   "execution_count": null,
   "metadata": {},
   "outputs": [],
   "source": [
    "import datetime\n",
    "\n",
    "class Person(object):\n",
    "\n",
    "    def __init__(self, name):\n",
    "        \"\"\"Create a person：common attributes name and birthdate\"\"\"\n",
    "        self.name = name\n",
    "        try:\n",
    "            lastBlank = name.rindex(' ') #lastName' '　lastName\n",
    "            self.lastName = name[lastBlank+1:]\n",
    "        except:\n",
    "            self.lastName = name\n",
    "        \n",
    "        self.birthday = None\n",
    " \n",
    "    def getName(self):\n",
    "        \"\"\"Returns self's full name\"\"\"\n",
    "        return self.name\n",
    "\n",
    "    def getLastName(self):\n",
    "        \"\"\"Returns self's last name\"\"\"\n",
    "        return self.lastName\n",
    "\n",
    "    def setBirthday(self, birthdate):\n",
    "        \"\"\"Assumes birthdate is of type datetime.date\n",
    "           Sets self's birthday to birthdate\"\"\"\n",
    "        self.birthday = birthdate\n",
    "  \n",
    "    def getAge(self):\n",
    "        \"\"\"Returns self's current age in years\"\"\"\n",
    "        if self.birthday == None:\n",
    "            raise ValueError\n",
    "        relatyears=relativedelta(datetime.date.today(),self.birthday)    \n",
    "        return relatyears.years+round(relatyears.months/12, 1)\n",
    "\n",
    "    def __lt__(self, other):\n",
    "        \"\"\"Returns True if self's birthday is less than other's birthday \n",
    "           and False otherwise\"\"\"\n",
    "        try:\n",
    "            return self.birthday < other.birthday \n",
    "        except: \n",
    "            if self.lastName == other.lastName:\n",
    "                return self.name < other.name\n",
    "            return self.lastName < other.lastName\n",
    "      \n",
    "    def __str__(self):\n",
    "        \"\"\"If have birthday,returns self's name+birthday\"\"\"\n",
    "        try:\n",
    "            return self.name + \" \"+self.birthday.strftime(\"%Y-%m-%d\")\n",
    "        except:\n",
    "            return self.name "
   ]
  },
  {
   "cell_type": "code",
   "execution_count": null,
   "metadata": {},
   "outputs": [],
   "source": [
    "me = Person('Michael Guttag')\n",
    "me.setBirthday(datetime.date(1991, 8, 4))\n",
    "\n",
    "him = Person('Barack Hussein Obama')\n",
    "him.setBirthday(datetime.date(1961, 8, 4))\n",
    "\n",
    "her = Person('Madonna')\n",
    "her.setBirthday(datetime.date(1958, 8, 16))\n",
    "\n",
    "pList = [me, him, her]\n",
    "\n",
    "for p in pList:\n",
    "    print(p)\n",
    "print('\\n** Returns True if self\\'s birthday is less than other\\'s birthday After sorted**\\n')    \n",
    "\n",
    "pList.sort()\n",
    "for p in pList:\n",
    "    print(p)\n",
    "    "
   ]
  },
  {
   "cell_type": "markdown",
   "metadata": {},
   "source": [
    "## 8.2 Inheritance\n",
    "\n",
    "**Inheritance** provides a convenient mechanism for building **groups of `related` abstractions**\n",
    "\n",
    "It allows programmers to create <b>a type hierarchy</b> in which each type inherits attributes from the types above it in the hierarchy.\n",
    "\n",
    "The class **object** is at the **top** of the hierarchy.\n",
    "\n",
    "### The class `MITPerson`\n",
    "\n",
    "The class `MITPerson` inherits attributes from its parent class,`Person`"
   ]
  },
  {
   "cell_type": "code",
   "execution_count": null,
   "metadata": {},
   "outputs": [],
   "source": [
    "class MITPerson(Person):\n",
    "\n",
    "    nextIdNum = 0 # identification number　- class\n",
    "\n",
    "    def __init__(self, name):\n",
    "        Person.__init__(self, name)\n",
    "        self.idNum = MITPerson.nextIdNum\n",
    "        MITPerson.nextIdNum += 1 # identification number\n",
    "\n",
    "    def getIdNum(self):\n",
    "        return self.idNum\n",
    "\n",
    "    def __lt__(self, other):\n",
    "        return self.idNum < other.idNum\n",
    "  "
   ]
  },
  {
   "cell_type": "markdown",
   "metadata": {},
   "source": [
    "**MITPerson** is a subclass of **Person**,and therefore inherits the attributes of its superclass. \n",
    "\n",
    "In addition to what it inherits, the subclass can:\n",
    "\n",
    "Add **new** attributes: \n",
    "\n",
    "* Data:\n",
    "  * `class` variable `nextIdNum` ：belongs to the class `MITPerson`, rather than to instances of the class.\n",
    "  * the `instance` variable `idNum`： is initialized using <b>a class variable</b>, `nextIdNum`,\n",
    "\n",
    "* the method \n",
    "\n",
    "  * def getIdNum(self):\n",
    "  \n",
    "<b>Override</b> attributes of the superclass.overridden \n",
    "\n",
    "   * `__init__` \n",
    "   * `__lt__`."
   ]
  },
  {
   "cell_type": "markdown",
   "metadata": {},
   "source": [
    "### `__init__`\n",
    "\n",
    "When an instance of <b>MITPerson</b> is created, a new instance of <b>nextIdNum</b> is not created.\n",
    "    \n",
    "This allows `__init__` to ensure that each instance of MITPerson has a <b>unique</b> `idNum`\n",
    "```python\n",
    "class MITPerson(Person):\n",
    "\n",
    "    nextIdNum = 0 # identification number　- class\n",
    "\n",
    "    def __init__(self, name):\n",
    "        Person.__init__(self, name)\n",
    "        self.idNum = MITPerson.nextIdNum\n",
    "        MITPerson.nextIdNum += 1 # identification number\n",
    "```        "
   ]
  },
  {
   "cell_type": "code",
   "execution_count": null,
   "metadata": {},
   "outputs": [],
   "source": [
    "p1 = MITPerson('Barbara Beaver')\n",
    "print(str(p1) + '\\'s id number is ' + str(p1.getIdNum()))"
   ]
  },
  {
   "cell_type": "markdown",
   "metadata": {},
   "source": [
    "The `first line` creates a new MITPerson. \n",
    "\n",
    "The `second line` is a bit more complicated:`str(p1)`\n",
    "```python\n",
    "print(str(p1) + '\\'s id number is ' + str(p1.getIdNum()))\n",
    "```\n",
    "* 1 `str(p1)` : first checks to see if there is an `__str__` method associated with class `MITPerson`. \n",
    "   Since there is not, it next checks to see if there is an `__str__` method associated with the **superclass**, `Person`, of MITPerson.    There is, so it uses that. \n",
    "   \n",
    " str(p1)->`Barbara Beaver`\n",
    "\n",
    "\n",
    "* 2 ```'\\'s```\n",
    "\n",
    "In a string, the character `“\\”` is an **escape character** used to indicate that the next character should be treated in a special way. \n",
    "\n",
    "In the string\n",
    "```python\n",
    "'\\'s id number is '\n",
    "```\n",
    "the “\\” indicates that the **apostrophe（')** is part of the string, not a delimiter terminating the string.\n",
    "\n",
    "\n",
    "* 3  he expression `p1.getidNum()`, it first checks to see if there is a `getIdNum` **method** associated with class MITPerson. There is, so it invokes that method and prints\n",
    "\n",
    "So,display\n",
    "```\n",
    "Barbara Beaver's id number is 0\n",
    "```"
   ]
  },
  {
   "cell_type": "markdown",
   "metadata": {},
   "source": [
    "### Instance variables and Class variable\n",
    "\n",
    "**Attributes** can be associated either with \n",
    "\n",
    "*  Class variable: a `class` itself :\n",
    "\n",
    "* Instance variables: `instances of a class`:\n",
    "\n",
    "Generally speaking, \n",
    "\n",
    "* **instance variables** are for data **unique** to `each instance` \n",
    "\n",
    "* **class variables** are for attributes and methods **shared** by `all instances` of the class:\n"
   ]
  },
  {
   "cell_type": "code",
   "execution_count": null,
   "metadata": {},
   "outputs": [],
   "source": [
    "p1 = MITPerson('Barbara Beaver')\n",
    "\n",
    "print(str(p1) + '\\'s id number is ' + str(p1.getIdNum()))\n",
    "\n",
    "print('MITPerson.nextIdNum:',MITPerson.nextIdNum)\n",
    "print('p1.nextIdNum:',p1.nextIdNum)\n",
    "\n",
    "p11 = MITPerson('Barbara Beaver11')\n",
    "print(str(p11) + '\\'s id number is ' + str(p11.getIdNum()))\n",
    "print('MITPerson.nextIdNum:',MITPerson.nextIdNum)\n",
    "\n",
    "# class variables are for attributes and methods shared by all instances of the class:\n",
    "print(\"--- class variables are for attributes and methods shared by all instances of the class:\")\n",
    "print('p11.nextIdNum:',p11.nextIdNum)\n",
    "print('p1.nextIdNum:',p1.nextIdNum)"
   ]
  },
  {
   "cell_type": "markdown",
   "metadata": {},
   "source": [
    "The another Example"
   ]
  },
  {
   "cell_type": "code",
   "execution_count": null,
   "metadata": {},
   "outputs": [],
   "source": [
    "class ClassStudent:\n",
    "    \n",
    "    ClassID = '03013' # class variable shared by all students in the classs\n",
    "    \n",
    "    def __init__(self, name):\n",
    "        self.name = name # instance variable unique to each instance(student)        "
   ]
  },
  {
   "cell_type": "code",
   "execution_count": null,
   "metadata": {},
   "outputs": [],
   "source": [
    "z =  ClassStudent('zhang3')\n",
    "l = ClassStudent('li3')\n",
    "\n",
    "# class variable\n",
    "print(z.ClassID)\n",
    "print(l.ClassID)\n",
    "\n",
    "# instance variable\n",
    "print(z.name)\n",
    "print(l.name)"
   ]
  },
  {
   "cell_type": "markdown",
   "metadata": {},
   "source": [
    "### 8.2.1 Multiple Levels of Inheritance\n",
    "\n",
    "The Figure adds another couple of levels of inheritance to the class hierarchy.\n",
    "\n",
    "![Figure](./img/fig84.jpg)\n"
   ]
  },
  {
   "cell_type": "code",
   "execution_count": null,
   "metadata": {},
   "outputs": [],
   "source": [
    "class Student(MITPerson):\n",
    "    pass\n",
    "\n",
    "class UG(Student):\n",
    "    def __init__(self, name, classYear):\n",
    "        MITPerson.__init__(self, name)\n",
    "        self.year = classYear\n",
    "    \n",
    "    def getClass(self):\n",
    "        return self.year\n",
    "    \n",
    "class Grad(Student):\n",
    "    pass\n"
   ]
  },
  {
   "cell_type": "markdown",
   "metadata": {},
   "source": [
    "#### class Student\n",
    "\n",
    "The class with  <b style=\"color:blue\">no new attributes</b>\n",
    "    \n",
    "```python\n",
    "class Student(MITPerson):\n",
    "    pass\n",
    "```\n",
    "By using the Python reserved word `pass` as the body, we indicate that the class has **no attributes other than** those inherited from its superclass. \n",
    "\n",
    ">**The pass statement**\n",
    ">\n",
    ">Here,no code needs to be executed, It is needed as a dummy statement `placeholder` to ensure correct syntax\n",
    "\n",
    "#### class UG(Student)\n",
    "\n",
    "Adding `UG` seems logical, because we want to \n",
    "\n",
    "associate a `year` of graduation (or perhaps anticipated graduation) with each undergraduate. \n",
    "\n",
    "\n",
    "\n",
    "#### the class  Grad\n",
    "\n",
    "we gain the ability to create two different kinds of students and use their types to distinguish one kind of object from another. \n"
   ]
  },
  {
   "cell_type": "code",
   "execution_count": null,
   "metadata": {},
   "outputs": [],
   "source": [
    "p5 =Grad('Buzz Aldrin')\n",
    "p6 =UG('Billy Beaver', 1984)"
   ]
  },
  {
   "cell_type": "markdown",
   "metadata": {},
   "source": [
    "## 8.3 Encapsulation and Information Hiding\n",
    "\n",
    "There are two important concepts at the heart of object-oriented programming. \n",
    "\n",
    "**encapsulation and information hiding**\n",
    "\n",
    "#### encapsulation \n",
    "\n",
    "By this we mean the <b>bundling together of data attributes and the methods for operating on them</b>.\n",
    "\n",
    "```python    \n",
    "      Rafael = MITPerson('MIT NIT')\n",
    "```\n",
    "we can use dot notation to access attributes such as **Rafael**’s age and identification number.\n",
    "\n",
    "####  information hiding. \n",
    "\n",
    "the **data** be **accessed only** through the object's **methods**.\n",
    "    \n",
    "This is one of the keys to  modularity. \n",
    "\n",
    "\n",
    "####  Invisible `__`name  in Python3\n",
    "\n",
    "Some programming languages (Java and C++, for example) provide mechanisms for enforcing information hiding. Programmers can make the attributes of a class **private**, so that clients of the class can access the data only through the object’s methods. \n",
    "\n",
    "Python 3 uses a **naming convention** to make attributes `invisible` outside the class. \n",
    "\n",
    "When the name of an attribute `starts` with `__` but does`not end with __`, that attribute is not visible outside the class.\n",
    "\n",
    "```python\n",
    "__name\n",
    "```\n",
    "\n",
    "> Reference Python Doc: 9.6. Private Variables  https://docs.python.org/tutorial/classes.html#tut-private\n",
    "\n",
    "Consider the class with a **naming convention** to make `attributes and methods invisible` outside the class\n"
   ]
  },
  {
   "cell_type": "code",
   "execution_count": null,
   "metadata": {},
   "outputs": [],
   "source": [
    "class infoHiding:\n",
    "    def __init__(self):\n",
    "        self.visible = 'Look at me'\n",
    "        self.__alsoVisible__ = 'Look at me too'\n",
    "        self.__invisible = 'Don\\'t look at me directly' #  Invisible  attributes\n",
    "\n",
    "    #Invisible data\n",
    "    def printVisible(self):\n",
    "        print(self.visible)\n",
    "\n",
    "    def printInvisible(self): # accessed invisible through the object's methods.\n",
    "        print(self.__invisible)\n",
    "\n",
    "    def __printInvisible__(self): # accessed invisible through the object's methods.\n",
    "        print(self.__invisible)\n",
    "  \n",
    "    def __printInvisible(self): # Invisible method\n",
    "        print(self.__invisible)"
   ]
  },
  {
   "cell_type": "markdown",
   "metadata": {
    "collapsed": true
   },
   "source": [
    "**Invisible  attributes: `test.__invisible`**\n",
    "\n",
    "you will see\n",
    "```\n",
    "AttributeError: 'infoHiding' object has no attribute '__invisible'\n",
    "```"
   ]
  },
  {
   "cell_type": "code",
   "execution_count": null,
   "metadata": {},
   "outputs": [],
   "source": [
    "test = infoHiding()\n",
    "\n",
    "print(test.visible)\n",
    "print(test.__alsoVisible__)\n",
    "# Invisible attributes: test.__invisible\n",
    "print(test.__invisible)"
   ]
  },
  {
   "cell_type": "markdown",
   "metadata": {},
   "source": [
    "when a `subclass` attempts to use a `hidden attribute` of its superclass an **AttributeError** occurs.\n",
    "```\n",
    "AttributeError: 'subClass' object has no attribute '_subClass__invisible'\n",
    "```"
   ]
  },
  {
   "cell_type": "code",
   "execution_count": null,
   "metadata": {},
   "outputs": [],
   "source": [
    "class subClass(infoHiding):\n",
    "    def __init__(self):\n",
    "        print('from subclass', self.__invisible)\n",
    "\n",
    "testSub = subClass()"
   ]
  },
  {
   "cell_type": "markdown",
   "metadata": {},
   "source": [
    "**Invisible  method: test.__printInvisible**\n",
    "\n",
    "you will see:\n",
    "```\n",
    "AttributeError: 'infoHiding' object has no attribute '__printInvisible'\n",
    "```\n",
    "```pythoh\n",
    "def printInvisible(self): # accessed invisible through the object's methods.\n",
    "        print(self.__invisible)\n",
    "\n",
    "def __printInvisible__(self): # accessed invisible through the object's methods.\n",
    "        print(self.__invisible)\n",
    "```        "
   ]
  },
  {
   "cell_type": "code",
   "execution_count": null,
   "metadata": {
    "scrolled": true
   },
   "outputs": [],
   "source": [
    "test = infoHiding()\n",
    "# accessed invisible through the object's methods\n",
    "test.printInvisible()\n",
    "test.__printInvisible__()\n",
    "# Invisible method: test.__printInvisible\n",
    "test.__printInvisible()"
   ]
  },
  {
   "cell_type": "markdown",
   "metadata": {},
   "source": [
    "This can make using information hiding in Python a bit `cumbersome`.\n",
    "\n",
    "many Python programmers `do not` take advantage of the `__ mechanism` for hiding attributes—as we don’t in this book. \n",
    "\n",
    "* for example, `a client of Person` can write the expression `Rafael.lastName` rather than `Rafael.getLastName()`.\n",
    "\n"
   ]
  },
  {
   "cell_type": "markdown",
   "metadata": {},
   "source": [
    "## Reference\n",
    "\n",
    "\n",
    "[Python Object Oriented Programming (OOP)](http://www3.ntu.edu.sg/home/ehchua/programming/webprogramming/Python1a_OOP.html)\n"
   ]
  },
  {
   "cell_type": "code",
   "execution_count": null,
   "metadata": {},
   "outputs": [],
   "source": []
  }
 ],
 "metadata": {
  "kernelspec": {
   "display_name": "Python 3",
   "language": "python",
   "name": "python3"
  },
  "language_info": {
   "codemirror_mode": {
    "name": "ipython",
    "version": 3
   },
   "file_extension": ".py",
   "mimetype": "text/x-python",
   "name": "python",
   "nbconvert_exporter": "python",
   "pygments_lexer": "ipython3",
   "version": "3.8.0"
  },
  "toc": {
   "base_numbering": 1,
   "nav_menu": {},
   "number_sections": false,
   "sideBar": true,
   "skip_h1_title": false,
   "title_cell": "Table of Contents",
   "title_sidebar": "Contents",
   "toc_cell": false,
   "toc_position": {
    "height": "calc(100% - 180px)",
    "left": "10px",
    "top": "150px",
    "width": "266.115px"
   },
   "toc_section_display": true,
   "toc_window_display": true
  },
  "widgets": {
   "state": {},
   "version": "1.1.2"
  }
 },
 "nbformat": 4,
 "nbformat_minor": 1
}
