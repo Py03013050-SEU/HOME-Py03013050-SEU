{
 "cells": [
  {
   "cell_type": "markdown",
   "metadata": {},
   "source": [
    "# 10.3 Hash Tables\n",
    "\n",
    "If we put merge sort together with binary search, we have a nice way to search lists.\n",
    "\n",
    "we can still ask, is logarithmic **the best** that we can do for  search when we are willing to do some\n",
    "\n",
    "<font color=\"blue\">Preprocessing</font>\n",
    "\n",
    "###  When we introduced the type <font color=\"blue\">dict</font> in Chapter 5 \n",
    "\n",
    "* dictionaries use a technique called <b>hashing</b> to do <b>the lookup in time</b> \n",
    "\n",
    "  that is <b>nearly independent of the size of the dictionary</b>."
   ]
  },
  {
   "cell_type": "code",
   "execution_count": null,
   "metadata": {
    "collapsed": true
   },
   "outputs": [],
   "source": [
    "import timeit\n",
    "\n",
    "query_lst = [-600,-60,-6,-70,-6,0,6,70,6,60,600]\n",
    "\n",
    "lst = []\n",
    "dic = {}\n",
    "\n",
    "# search space :lst,dic\n",
    "size=10000\n",
    "for i in range(size):\n",
    "    lst.append(i)\n",
    "    dic[i] = i \n",
    "\n",
    "ls=\"\"\"\n",
    "for v in query_lst:\n",
    "    if v in lst:\n",
    "        continue\n",
    "\"\"\"\n",
    "   \n",
    "t_querylst=timeit.Timer(stmt=ls,globals=globals())\n",
    "lst_time=t_querylst.timeit(10)\n",
    "print('Linear search time : ',lst_time/10)\n",
    "\n",
    "bls=\"\"\"\n",
    "for v in query_lst:\n",
    "    if search(lst, v):\n",
    "       continue\n",
    "\"\"\"\n",
    "t_querylst=timeit.Timer(stmt=bls,globals=globals())\n",
    "bst_time=t_querylst.timeit(10)\n",
    "print('Binary search time : ',bst_time/10)\n",
    "\n",
    "ds=\"\"\"\n",
    "for v in query_lst:\n",
    "    if v in dic:\n",
    "        continue\n",
    "\"\"\"\n",
    "t_querydic=timeit.Timer(stmt=ds,globals=globals())\n",
    "dict_time=t_querydic.timeit(10)\n",
    "print('dict search time : ',dict_time/10)"
   ]
  },
  {
   "cell_type": "markdown",
   "metadata": {},
   "source": [
    "### A hash table \n",
    "\n",
    "The basic idea behind **a hash table** is\n",
    "\n",
    "* **convert the key to an integer, and then use that integer to index into a list**\n",
    "\n",
    "  which can be done in constant time.\n",
    "\n",
    "  In principle, values of any immutable type can be easily converted to an integer through **Hash functions**.\n",
    "\n",
    "\n",
    "### Hash functions\n",
    "\n",
    "**Hash functions** can be used to convert \n",
    "\n",
    "* <b>a large space of keys</b>  to  <b>a smaller space of integer indices</b>.\n",
    "\n",
    "Since the space of possible outputs is**smaller** than the space of possible inputs, \n",
    "\n",
    "a hash function is a  <b>many-to-one mapping</b>,\n",
    "\n",
    "multiple different inputs may be mapped to the same output. \n",
    "\n",
    "When two inputs are mapped to the same output, \n",
    "\n",
    "it is called a <b>collision</b>. \n",
    "\n",
    "A good hash function produces \n",
    "\n",
    "<b>a uniform distribution</b>\n",
    "\n",
    "every output in the range is equally probable, which <b>minimizes the probability of collisions</b>.\n",
    "\n",
    "**Designing good hash functions** is surprisingly challenging.\n",
    "\n",
    "The problem is that one wants the outputs to be uniformly distributed given the expected distribution of inputs\n",
    "\n",
    "## hash bucket\n",
    "\n",
    "**class intDict(object)**  uses a simple hash function \n",
    "\n",
    "```python\n",
    "# i%j returns the remainder when the integer i is divided by the integer j \n",
    "\n",
    "hashBucket = self.buckets[dictKey%self.numBuckets]\n",
    "``` \n",
    "\n",
    "to implement a dictionary with integers as keys.\n",
    "\n",
    "The basic idea is to represent \n",
    "\n",
    "**an instance of class intDict**\n",
    "\n",
    "by a list of <b>hash buckets</b>, \n",
    "\n",
    "where **each bucket** is a list of **key/value** pairs. \n",
    "\n",
    "<b>By making each bucket a list, \n",
    "\n",
    "we handle collisions by storing all of the values that hash to the same bucket in the list</b>. \n",
    "\n",
    "The <b>hash table</b> works as follows: \n",
    "\n",
    "*  **1 def __init__(self, numBuckets):**\n",
    "\n",
    "   The instance variable <b>buckets</b> is initialized to \n",
    "\n",
    "   <b>a list</b> of  <b>numBuckets</b> <b>empty lists</b>.\n",
    "\n",
    "```python\n",
    "        self.buckets = []\n",
    "        self.numBuckets = numBuckets\n",
    "        for i in range(numBuckets):\n",
    "            self.buckets.append([]) \n",
    "```\n",
    "   \n",
    "* **2 def addEntry(self, dictKey, dictVal):**\n",
    "\n",
    "   To store or look up an entry with key **dictKey**, \n",
    "\n",
    "```python   \n",
    "        hashBucket = self.buckets[dictKey%self.numBuckets]\n",
    "        for i in range(len(hashBucket)):\n",
    "            if hashBucket[i][0] == dictKey:\n",
    "                hashBucket[i] = (dictKey, dictVal) #if one was found,replace\n",
    "                return\n",
    "        hashBucket.append((dictKey, dictVal)) # append a new entry to the bucket if none was found.\n",
    "```      \n",
    "   \n",
    "we use <b>the hash function i%j to convert dictKey into an integer</b>, \n",
    "```python  \n",
    "    hashBucket = self.buckets[dictKey%self.numBuckets\n",
    "```    \n",
    "and use that integer to index into buckets \n",
    "```python\n",
    "   hashBucket[i]\n",
    "```\n",
    "to find the hash bucket associated with **dictKey**\n",
    "\n",
    "If <b>a value is to be stored</b>,then  \n",
    "\n",
    "if one was found:  <b>replace</b> the value in the existing entry, if one was found, \n",
    "\n",
    "if none was found: <b>append</b> a new entry to the bucket\n",
    "\n",
    "### separate chaining(分离链接法)\n",
    "\n",
    "In the method known as separate chaining, each bucket is independent, and has some sort of list of entries with the same index. \n",
    "\n",
    "![](./img/ds/Hashcollisionbyseparatechaining.jpg)\n",
    "\n",
    "* **3 def getValue(self, dictKey):**\n",
    "\n",
    "We then search that bucket (which is a list) linearly to see if there is an entry with the key dictKey.\n",
    "\n",
    "```python \n",
    " for e in hashBucket:\n",
    "            if e[0] == dictKey: // key\n",
    "                return e[1]     // valu\n",
    "```\n",
    "\n",
    "If we are doing <b>a lookup</b> and there is an entry with the key, we simply return the value stored with that key. \n",
    "\n",
    "If there is no entry with that key, we return None. \n",
    "\n",
    "\n"
   ]
  },
  {
   "cell_type": "code",
   "execution_count": null,
   "metadata": {
    "collapsed": true
   },
   "outputs": [],
   "source": [
    "#Page 139, Figure 10.6\n",
    "\n",
    "class intDict(object):\n",
    "    \"\"\"A dictionary with integer keys\"\"\"\n",
    "    \n",
    "    def __init__(self, numBuckets):\n",
    "        \"\"\"Create an empty dictionary\"\"\"\n",
    "        \n",
    "        ## buckets is initialized to a list of numBuckets empty lists.\n",
    "        \n",
    "        self.buckets = []\n",
    "        self.numBuckets = numBuckets\n",
    "        for i in range(numBuckets):\n",
    "            self.buckets.append([]) # empty list\n",
    "            \n",
    "    def addEntry(self, dictKey, dictVal):\n",
    "        \"\"\"Assumes dictKey an int.  Adds an entry.\"\"\"\n",
    "        hashBucket = self.buckets[dictKey%self.numBuckets]\n",
    "        for i in range(len(hashBucket)):\n",
    "            if hashBucket[i][0] == dictKey:\n",
    "                hashBucket[i] = (dictKey, dictVal) #if one was found,replace\n",
    "                return\n",
    "        hashBucket.append((dictKey, dictVal)) # append a new entry to the bucket if none was found.\n",
    "        \n",
    "    def getValue(self, dictKey):\n",
    "        \"\"\"Assumes dictKey an int.  Returns entry associated\n",
    "           with the key dictKey\"\"\"\n",
    "        hashBucket = self.buckets[dictKey%self.numBuckets]\n",
    "        for e in hashBucket:\n",
    "            if e[0] == dictKey: # key\n",
    "                return e[1]     # value \n",
    "        return None\n",
    "    \n",
    "    def __str__(self):\n",
    "        result = '{'\n",
    "        for b in self.buckets:\n",
    "            for e in b:\n",
    "                result = result + str(e[0]) + ':' + str(e[1]) + ','\n",
    "        return result[:-1] + '}' #result[:-1] omits the last comma\n",
    "\n"
   ]
  },
  {
   "cell_type": "markdown",
   "metadata": {},
   "source": [
    "The following code first constructs an **intDict** with twenty entries. \n",
    "\n",
    "The values of the entries are the integers 0 to 19.\n",
    "\n",
    "The **keys** are chosen at random from <b>integers in the range 0 to 10^5 - 1<b>."
   ]
  },
  {
   "cell_type": "markdown",
   "metadata": {},
   "source": [
    "## Twenty entries"
   ]
  },
  {
   "cell_type": "code",
   "execution_count": null,
   "metadata": {},
   "outputs": [],
   "source": [
    "import random #a standard library module\n",
    "Entrys=[]\n",
    "NumEntry=20\n",
    "\n",
    "random.seed(1)\n",
    "\n",
    "for i in range(NumEntry):\n",
    "    #choose a random int between 0 and 10**5\n",
    "    key = random.randint(0, 10**5)\n",
    "    Entrys.append((key,i))\n",
    "\n",
    "print('The Entrys (key,i)is:')\n",
    "for entry in Entrys:\n",
    "    print(entry)"
   ]
  },
  {
   "cell_type": "markdown",
   "metadata": {},
   "source": [
    "### Search key->value in <font color=\"blue\">list</font> of Entrys"
   ]
  },
  {
   "cell_type": "code",
   "execution_count": null,
   "metadata": {
    "collapsed": true
   },
   "outputs": [],
   "source": [
    "def searchintListbyKey(Entrys,key):\n",
    "    value=None\n",
    "    for item in Entrys:\n",
    "        if (key==item[0]):\n",
    "            value=item[1] \n",
    "            break\n",
    "    return value"
   ]
  },
  {
   "cell_type": "code",
   "execution_count": null,
   "metadata": {},
   "outputs": [],
   "source": [
    "value=searchintListbyKey(Entrys,Entrys[10][0])\n",
    "print(Entrys[10][0],value)"
   ]
  },
  {
   "cell_type": "code",
   "execution_count": null,
   "metadata": {},
   "outputs": [],
   "source": [
    "%timeit searchEntryListbyKey(Entrys,Entrys[10][0])"
   ]
  },
  {
   "cell_type": "markdown",
   "metadata": {},
   "source": [
    "## Put entrys into <font color=\"blue\">intDict</font>\n",
    "\n",
    "* numBuckets =29"
   ]
  },
  {
   "cell_type": "code",
   "execution_count": null,
   "metadata": {},
   "outputs": [],
   "source": [
    "numBuckets =29\n",
    "# numBuckets 29  >entries 20 <<< the range of key （0，100000）\n",
    "D = intDict(numBuckets)\n",
    "for item in Entrys:\n",
    "    D.addEntry(item[0],item[1])\n",
    "\n",
    "print('The intDict is:' )\n",
    "print(D)\n",
    "\n",
    "print('\\n', 'The hase buckets are:')\n",
    "i=0\n",
    "for hashBucket in D.buckets:\n",
    "    print('BucketID',i,'  ', hashBucket)\n",
    "    i=i+1"
   ]
  },
  {
   "cell_type": "markdown",
   "metadata": {},
   "source": [
    "we see that many of the hash buckets are **empty**. \n",
    "\n",
    "Others contain **one, two, or three tuples** depending upon <b>the number of collisions</b> that occurred"
   ]
  },
  {
   "cell_type": "code",
   "execution_count": null,
   "metadata": {
    "collapsed": true
   },
   "outputs": [],
   "source": [
    "def getIntDictByKey(key):\n",
    "    return D.getValue(key)"
   ]
  },
  {
   "cell_type": "code",
   "execution_count": null,
   "metadata": {},
   "outputs": [],
   "source": [
    "value=getIntDictByKey(Entrys[10][0])   \n",
    "print(Entrys[10][0],value)"
   ]
  },
  {
   "cell_type": "code",
   "execution_count": null,
   "metadata": {},
   "outputs": [],
   "source": [
    "%timeit getIntDictByKey(Entrys[10][0])   "
   ]
  },
  {
   "cell_type": "markdown",
   "metadata": {},
   "source": [
    "### What is the complexity of **getValue**? "
   ]
  },
  {
   "cell_type": "markdown",
   "metadata": {},
   "source": [
    "* If there were <b>no collisions</b> it would be <b>O(1)</b>,  because each hash bucket would be of length 0 or 1.\n",
    "\n",
    "\n",
    "* There might be <b>collisions</b>，If everything hashed to **the same bucket**,\n",
    "\n",
    ">it would be <b>O(n)</b> where n is the number of entries in the dictionary，because the code >would perform a linear search on that hash bucket.\n",
    "\n",
    "### By making the <b>hash table large enough</b>, \n",
    "\n",
    "we can <b>reduce the number of collisions</b> sufficiently to allow us to treat <b>the complexity as O(1)</b>."
   ]
  },
  {
   "cell_type": "markdown",
   "metadata": {},
   "source": [
    "### hash table small , more collisions\n",
    "\n",
    "* numBucket=5"
   ]
  },
  {
   "cell_type": "code",
   "execution_count": null,
   "metadata": {},
   "outputs": [],
   "source": [
    "import random #a standard library module\n",
    "\n",
    "# hash table small , more collisions\n",
    "numBuckets=5\n",
    "D = intDict(numBuckets) # numBuckets < entries\n",
    "\n",
    "for item in Entrys:\n",
    "    D.addEntry(item[0],item[1])\n",
    "\n",
    "print('The value of the intDict is:')\n",
    "print(D)\n",
    "\n",
    "print('\\n', 'The buckets are:')\n",
    "for hashBucket in D.buckets: #violates abstraction barrier\n",
    "    print('  ', hashBucket)\n"
   ]
  },
  {
   "cell_type": "code",
   "execution_count": null,
   "metadata": {},
   "outputs": [],
   "source": [
    "%timeit getIntDictByKey(Entrys[10][0])"
   ]
  },
  {
   "cell_type": "markdown",
   "metadata": {},
   "source": [
    "### hash table large , less collisions\n",
    "\n",
    "* numBucket=50"
   ]
  },
  {
   "cell_type": "code",
   "execution_count": null,
   "metadata": {
    "collapsed": true
   },
   "outputs": [],
   "source": [
    "import random #a standard library module\n",
    "\n",
    "# hash table large , less collisions\n",
    "numBucket=50\n",
    "\n",
    "D = intDict(numBucket) # numBuckets >> entries\n",
    "\n",
    "for item in Entrys:\n",
    "    D.addEntry(item[0],item[1])\n",
    "    \n",
    "print('The value of the intDict is:')\n",
    "print(D)\n",
    "\n",
    "print('\\n', 'The buckets are:')\n",
    "for hashBucket in D.buckets: #violates abstraction barrier\n",
    "    print('  ', hashBucket)"
   ]
  },
  {
   "cell_type": "code",
   "execution_count": null,
   "metadata": {},
   "outputs": [],
   "source": [
    "%timeit getIntDictByKey(Entrys[10][0])"
   ]
  },
  {
   "cell_type": "markdown",
   "metadata": {
    "collapsed": true
   },
   "source": [
    "##  Note: \n",
    "\n",
    "### hash table: a series of buckets\n",
    "\n",
    "* **bucket** : a list of key/value pairs. storing all of the values that hash to the same bucket in the list \n",
    "\n",
    "* **hash each element to bucket**: an address that is derived form the key value by applying the hash function\n",
    "    \n",
    "*  **search:**\n",
    "\n",
    "    * key -> the hash function -> an address of bucket in the hash table -> get valve in bucket"
   ]
  },
  {
   "cell_type": "markdown",
   "metadata": {},
   "source": [
    "## intDict in C\n",
    "\n",
    "* intDict.h/c\n",
    "\n",
    "* mainintDict.c"
   ]
  },
  {
   "cell_type": "code",
   "execution_count": null,
   "metadata": {},
   "outputs": [],
   "source": [
    "%%file ./code/ds/intDict.h\n",
    "\n",
    "#ifndef INTDICTH\n",
    "#define INTDICTH\n",
    "\n",
    "typedef struct _node\n",
    "{\n",
    "\tint key;\n",
    "\tint value;\n",
    "\tstruct _node *next;\n",
    "} Node;\n",
    "\n",
    "typedef struct _hashtable\n",
    "{ \n",
    "\tint   numBuckets;\n",
    "\tNode **buckets; //the linked list stack \n",
    "} Hashtable;\n",
    "\n",
    "// Create hash table\n",
    "Hashtable *createHash(int numBuckets);\n",
    "\n",
    "// free hash table\n",
    "void *freeHash(Hashtable *hTable);\n",
    "\n",
    "// hash function for int keys\n",
    "int inthash(int key,int  numBuckets);\n",
    "\n",
    "// Add Entry to table - keyed by int\n",
    "void addEntry(Hashtable *hTable, int key,int value);\n",
    "\n",
    "// Lookup  by int key\n",
    "Node *searchEntry(Hashtable *hTable, int key);\n",
    "\n",
    "// Get by int key\n",
    "int getValue(Hashtable *hTable, int key);\n",
    "\n",
    "#endif"
   ]
  },
  {
   "cell_type": "code",
   "execution_count": null,
   "metadata": {},
   "outputs": [],
   "source": [
    "%%file ./code/ds/intDict.c\n",
    "\n",
    "#include <stdio.h>\n",
    "#include <stdlib.h>\n",
    "#include \"intDict.h\"\n",
    "\n",
    "\n",
    "// Create hash table\n",
    "Hashtable *createHash(int numBuckets)\n",
    "{\n",
    "    Hashtable *table=(Hashtable*)malloc(sizeof(Hashtable*));\n",
    "    if(!table) {\n",
    "\t\treturn NULL;\n",
    "\t}\n",
    "    \n",
    "    table->buckets=(Node**)malloc(sizeof(Node)*numBuckets);\n",
    "    if(!table->buckets) {\n",
    "\t\tfree(table);\n",
    "\t\treturn NULL;\n",
    "\t}\n",
    "\t\n",
    "    table->numBuckets=numBuckets;\n",
    "\t// initialize the head pointer of the bucket stack to NULL\n",
    "\tfor(int i=0;i<table->numBuckets;i++)\n",
    "\t\ttable->buckets[i] = NULL;\n",
    "   \n",
    "    return table;\n",
    "}\n",
    "\n",
    "void *freeHash(Hashtable *hTable)\n",
    "{\n",
    "   \tNode *b,*p;\n",
    "\tfor(int i=0;i<hTable->numBuckets;i++)\n",
    "\t{\n",
    "       b = hTable->buckets[i];\n",
    "\t   while(b!=NULL)\n",
    "\t   { \n",
    "         p=b->next;\n",
    "\t     free(b);\n",
    "\t\t b=p;\n",
    "\t   }\t \n",
    "\t}\n",
    "\tfree(hTable->buckets);\n",
    "\tfree(hTable);\n",
    "}\n",
    "\n",
    "// hash function for int keys\n",
    "int inthash(int key,int  numBuckets)\n",
    "{\n",
    "    return key % numBuckets;\n",
    "}\n",
    "\n",
    "// Lookup  by int key\n",
    "Node *searchEntry(Hashtable *hTable, int key)\n",
    "{\n",
    "\tNode *p;\n",
    "\tint addr = inthash(key, hTable->numBuckets);\n",
    "\tp = hTable->buckets[addr];\n",
    "\n",
    "\twhile(p && p->key !=key)\n",
    "\t\tp = p->next;\n",
    "\n",
    "\treturn p;\n",
    "}\n",
    "\n",
    "// Add Entry to table - keyed by int\n",
    "void addEntry(Hashtable *hTable, int key,int value)\n",
    "{\n",
    "\tint addr;\n",
    "\tNode *p,*entry;\n",
    "\tp = searchEntry(hTable,key);\n",
    "\tif(p)\n",
    "\t{\n",
    "\t\treturn;\n",
    "\t}\n",
    "\telse\n",
    "\t{   /*\n",
    "          add a new item on the top of the linked list stack \n",
    "          and a pointer to the top element.  \n",
    "       */\n",
    "\t\taddr =  inthash(key, hTable->numBuckets);\n",
    "\t\tentry=(Node*)malloc(sizeof(Node));\n",
    "\t  \tentry->key = key;\n",
    "\t\tentry->value=value;\n",
    "\t\tentry->next =hTable->buckets[addr];\n",
    "\t\thTable->buckets[addr] = entry;\n",
    "\t}\n",
    "}\n",
    "\n",
    "// Get by int\n",
    "int getValue(Hashtable *hTable, int key)\n",
    "{   \n",
    "\tNode *p;\n",
    "\tp = searchEntry(hTable,key);\n",
    "\tif (p)\n",
    "\t{\n",
    "      return p->value;\n",
    "\t}\n",
    "}\n"
   ]
  },
  {
   "cell_type": "code",
   "execution_count": null,
   "metadata": {},
   "outputs": [],
   "source": [
    "%%file ./code/ds/mainintDict.c\n",
    "\n",
    "#include <stdio.h>\n",
    "#include <stdlib.h>\n",
    "#include <time.h>\n",
    "#include \"intDict.h\"\n",
    "\n",
    "int main()\n",
    "{\n",
    "\tint numBuckets=5;\n",
    "    int numEntries=20;\n",
    "    Hashtable *hTable;\n",
    "\tint *key;\n",
    "\tint *value;\n",
    "\t\n",
    "    hTable=createHash(numBuckets);\n",
    "   \n",
    "\tprintf(\"The value of the intDict is:\\n\");\n",
    "    printf(\"(key value)\\n\");\n",
    "    \n",
    "    key=(int*)malloc(sizeof(int)*numEntries);\n",
    "\tvalue=(int*)malloc(sizeof(int)*numEntries);\n",
    "\tsrand(time(NULL));\n",
    "\tfor(int i=0;i<numEntries;i++)\n",
    "\t{\n",
    "\t  \tkey[i] = rand() % 100000;\n",
    "\t\tvalue[i]=i;\n",
    "\n",
    "\t\taddEntry(hTable,key[i],value[i]);\n",
    "\t\tprintf(\"(%d %d)\\n\",key[i],value[i]);\n",
    "\t}\n",
    "\n",
    "    printf(\"The buckets(the linked list stack) are: \\n\");\n",
    "\tfor(int i=0;i<hTable->numBuckets;i++)\n",
    "\t{\n",
    "       Node *b,*p;\n",
    "\t   b = hTable->buckets[i];\n",
    "\t   printf(\"bucket %d :\",i);\n",
    "\t   if (b)\n",
    "\t   {\n",
    "\t     for(p=b; p!=NULL; p=p->next)\n",
    "\t        printf(\" (%d %d) \",p->key,p->value);\n",
    "\t     printf(\"\\n\"); \t\t\n",
    "\t   }\n",
    "\t   else\n",
    "\t    \tprintf(\"\\n\"); \t   \n",
    "\t}\n",
    "\n",
    "    printf(\"Hash search(even):\\n\");\n",
    "    printf(\"(key value) : key -> value:\\n\");\n",
    "\tfor(int i=0;i< numEntries;i++)\n",
    "\t{\n",
    "      if (i%2==0)\n",
    "      {\n",
    "        int val=getValue(hTable,key[i]);\n",
    "        printf(\"(%d  %d): -> %d \\n\",key[i],value[i],val);\n",
    "      } \n",
    "\t}\n",
    "  \n",
    "    free(key);\n",
    "    free(value);\n",
    "    \n",
    "    freeHash(hTable);\n",
    "    \n",
    "  \treturn 0;\n",
    "}"
   ]
  },
  {
   "cell_type": "code",
   "execution_count": null,
   "metadata": {
    "collapsed": true
   },
   "outputs": [],
   "source": [
    "!gcc -o ./code/ds/mainintDict ./code/ds/mainintDict.c ./code/ds/intDict.c"
   ]
  },
  {
   "cell_type": "code",
   "execution_count": null,
   "metadata": {},
   "outputs": [],
   "source": [
    "!.\\code\\ds\\mainintDict "
   ]
  },
  {
   "cell_type": "markdown",
   "metadata": {},
   "source": [
    "## Unordered Map(C++11)\n",
    "\n",
    "Unordered maps are associative containers that store elements formed by the combination of a key value and a mapped value, and which allows for fast retrieval of individual elements based on their keys.\n",
    "\n",
    "In an unordered_map, the key value is generally used to uniquely identify the element, while the mapped value is an object with the content associated to this key. Types of key and mapped value may differ.\n",
    "\n",
    "Internally, the elements in the unordered_map are not sorted in any particular order with respect to either their key or mapped values, but organized into buckets depending on their hash values to allow for fast access to individual elements directly by their key values (with a constant average time complexity on average)."
   ]
  },
  {
   "cell_type": "code",
   "execution_count": 1,
   "metadata": {},
   "outputs": [
    {
     "name": "stdout",
     "output_type": "stream",
     "text": [
      "Writing ./code/ds/demo1_unordered_map.cpp\n"
     ]
    }
   ],
   "source": [
    "%%file ./code/ds/demo1_unordered_map.cpp\n",
    "\n",
    "#include <iostream>\n",
    "#include <string>\n",
    "#include <unordered_map>\n",
    " \n",
    "int main()\n",
    "{\n",
    "    std::unordered_map<std::string, int> months;\n",
    "    months[\"january\"] = 31;\n",
    "    months[\"february\"] = 28;\n",
    "    months[\"march\"] = 31;\n",
    "    months[\"april\"] = 30;\n",
    "    months[\"may\"] = 31;\n",
    "    months[\"june\"] = 30;\n",
    "    months[\"july\"] = 31;\n",
    "    months[\"august\"] = 31;\n",
    "    months[\"september\"] = 30;\n",
    "    months[\"october\"] = 31;\n",
    "    months[\"november\"] = 30;\n",
    "    months[\"december\"] = 31;\n",
    "    std::cout << \"september -> \" << months[\"september\"] << std::endl;\n",
    "    std::cout << \"april     -> \" << months[\"april\"] << std::endl;\n",
    "    std::cout << \"december  -> \" << months[\"december\"] << std::endl;\n",
    "    std::cout << \"february  -> \" << months[\"february\"] << std::endl;\n",
    "    return 0;\n",
    "}"
   ]
  },
  {
   "cell_type": "code",
   "execution_count": 2,
   "metadata": {
    "collapsed": true
   },
   "outputs": [],
   "source": [
    "!g++ -o ./code/ds/demo1_unordered_map.exe ./code/ds/demo1_unordered_map.cpp"
   ]
  },
  {
   "cell_type": "code",
   "execution_count": 3,
   "metadata": {},
   "outputs": [
    {
     "name": "stdout",
     "output_type": "stream",
     "text": [
      "september -> 30\n",
      "april     -> 30\n",
      "december  -> 31\n",
      "february  -> 28\n"
     ]
    }
   ],
   "source": [
    "!.\\code\\ds\\demo1_unordered_map "
   ]
  },
  {
   "cell_type": "markdown",
   "metadata": {
    "collapsed": true
   },
   "source": [
    "## Further Reading\n",
    "\n",
    "* 严蔚敏，李冬梅，吴伟民. 数据结构（C语言版），人民邮电出版社（第2版）,2015年2月  \n",
    "\n",
    "* Mark Allen Weiss. Data Structures and Algorithm Analysis in C\n",
    "\n",
    "* Hash table https://en.wikipedia.org/wiki/Hash_table"
   ]
  }
 ],
 "metadata": {
  "kernelspec": {
   "display_name": "Python 3",
   "language": "python",
   "name": "python3"
  },
  "language_info": {
   "codemirror_mode": {
    "name": "ipython",
    "version": 3
   },
   "file_extension": ".py",
   "mimetype": "text/x-python",
   "name": "python",
   "nbconvert_exporter": "python",
   "pygments_lexer": "ipython3",
   "version": "3.8.7"
  },
  "toc": {
   "base_numbering": 1,
   "nav_menu": {},
   "number_sections": false,
   "sideBar": true,
   "skip_h1_title": false,
   "title_cell": "Table of Contents",
   "title_sidebar": "Contents",
   "toc_cell": false,
   "toc_position": {},
   "toc_section_display": true,
   "toc_window_display": false
  },
  "widgets": {
   "state": {},
   "version": "1.1.2"
  }
 },
 "nbformat": 4,
 "nbformat_minor": 1
}
