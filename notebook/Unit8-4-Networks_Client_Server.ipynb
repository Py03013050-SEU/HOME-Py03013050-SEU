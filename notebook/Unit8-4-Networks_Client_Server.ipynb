{
 "cells": [
  {
   "cell_type": "markdown",
   "metadata": {},
   "source": [
    "# Networks, Clients, and Servers\n",
    "\n",
    "Clients and servers are applications or processes that can run locally on a single computer or remotely across a network of computers. \n",
    "\n",
    "As explained in the following sections,the resources required for this type of application are IP addresses, sockets,and threads."
   ]
  },
  {
   "cell_type": "markdown",
   "metadata": {},
   "source": [
    "## 1 IP Addresses\n",
    "\n",
    "Every computer on a network has a unique identifier called an **IP address** \n",
    "\n",
    "* `IP stands for Internet Protocol`.\n",
    "\n",
    "This address can be specified either as an **IP number** or as an **IP name**. \n",
    "\n",
    "An IP number typically has the form \n",
    "```text\n",
    "ddd.ddd.ddd.ddd, \n",
    "```\n",
    "where each $d$ is a digit. The number of digits to the right or the left of a decimal point may vary but does\n",
    "not exceed `three`. \n",
    "\n",
    "For example, the IP number of the author’s office computer might be `137.112.194.77`. Because IP numbers can be difficult to remember, people customarily use an `IP name` to specify an IP address. For example, the IP name of the author’s computer might be `lambertk`.\n",
    "\n",
    "Python’s [socket](https://docs.python.org/3/library/socket.html) module includes two functions that can look up these items of information.\n",
    "These functions are listed in Table, followed by a short session showing their use.\n",
    "\n",
    "|socket Function|What It Does|\n",
    "|:-------:|:-----------:|\n",
    "|gethostname()| Returns the IP name of the host computer running the Python interpreter.<br>Raises an exception if the computer does not have an IP address.|\n",
    "|gethostbyname(ipName)| Returns the IP number of the computer whose IP name is ipName. <br/>RRaises an exception if ipName cannot be found.|\n"
   ]
  },
  {
   "cell_type": "code",
   "execution_count": null,
   "metadata": {},
   "outputs": [],
   "source": [
    "from socket import *\n",
    "hostname=gethostname()\n",
    "print(hostname+\" address is \"+gethostbyname(hostname))\n",
    "hosturl=\"seu.edu.cn\"\n",
    "print(hosturl+\" address is :\"+gethostbyname(hosturl))\n"
   ]
  },
  {
   "cell_type": "markdown",
   "metadata": {},
   "source": [
    "### The local host  \n",
    "\n",
    "When developing a network application, the programmer can first try it out on **a local host**—that is, on \n",
    "\n",
    "* `a standalone computer that may or may not be connected to the Internet`.\n",
    "\n",
    "The computer’s IP name in this case is **\"localhost\"**, a name that is standard for any computer. \n",
    "\n",
    "The IP number of a computer that acts as **a local host** is distinct from its IP number as **an Internet host**, as shown in the next session:\n"
   ]
  },
  {
   "cell_type": "code",
   "execution_count": null,
   "metadata": {},
   "outputs": [],
   "source": [
    "from socket import *\n",
    "print(gethostbyname(gethostname()))\n",
    "print(gethostbyname(\"localhost\"))"
   ]
  },
  {
   "cell_type": "markdown",
   "metadata": {},
   "source": [
    "When the programmer is satisfied that the application is `working correctly on a local host`, the application can then be deployed on the Internet host simply by `changing` the IP address.\n",
    "\n",
    "In the discussion that follows, we use `a local host` to develop network applications."
   ]
  },
  {
   "cell_type": "markdown",
   "metadata": {},
   "source": [
    "## 2 Ports, Sockets, Servers, and Clients"
   ]
  },
  {
   "cell_type": "markdown",
   "metadata": {},
   "source": [
    "### 2.1 ports\n",
    "\n",
    "Clients connect to servers via objects known as **ports**. \n",
    "\n",
    "A `port` serves as a `channel` through which several clients can exchange data with the same server or with different servers.\n",
    "\n",
    "Ports are usually specified by `numbers`. \n",
    "\n",
    "Some ports are dedicated to `special servers or tasks1. \n",
    "\n",
    "For example, \n",
    "\n",
    "* Port number $80$ is reserved for a **Web server**, and so forth.\n",
    "\n",
    "Most computers also have hundreds or even thousands of **free ports** available for use by any network  applications.\n",
    "\n"
   ]
  },
  {
   "cell_type": "markdown",
   "metadata": {},
   "source": [
    "### 2.2 Sockets  and  server-client\n",
    "\n",
    "#### 2.2.1 Sockets \n",
    "\n",
    "We write a CPU server script in Python to handle requests from many clients.\n",
    "\n",
    "The client connects to the server, and the two programs engage in a continuous communication until one of them, usually the client, decides to quit.\n",
    "\n",
    "To do this, you need to use **a socket**. \n",
    "\n",
    "* A `socket` is an object that serves as a `communication` link between a single server process and a single client process. \n",
    "*  套接字(Socket)：进程之间通信端点的抽象\n",
    "\n",
    "You can create and open **several** sockets on the same port of a host computer. \n",
    "\n",
    "* the relationships between `a host computer,ports, servers, clients, and sockets`.\n",
    "\n",
    "\n",
    "![host-port-socket](./img/linux/host-port-socket.jpg)"
   ]
  },
  {
   "cell_type": "markdown",
   "metadata": {},
   "source": [
    "\n",
    "#### 2.2.2 a socket communication\n",
    "\n",
    "* create a socket object\n",
    "\n",
    "* bind() 绑定\n",
    "\n",
    "* listen() 侦听\n",
    "\n",
    "* accept()  # the loop  to accecp the client\n",
    "\n",
    "  * recv()  # the nested loop to communicate with the clent\n",
    "\n",
    "  * send()  # the nested loopto communicate with the clent\n",
    "\n",
    "* close() # close the connection of the clien\n",
    "\n",
    "![socket_server_client](./img/linux/socket_server_client.jpg)\n"
   ]
  },
  {
   "cell_type": "markdown",
   "metadata": {},
   "source": [
    "**Server-client Output** \n",
    "\n",
    "\n",
    "![echo-server-client](./img/linux/echo-server-client.jpg)\n",
    "\n",
    "To see the output,\n",
    "\n",
    "* **first** run the socket **server** program. \n",
    "\n",
    "* Then run the socket **client** program.\n",
    "\n",
    "After that,client send message to server \n",
    "\n",
    "Then  server receive the message and send CPU date to client. \n",
    "\n",
    "At last, press `Ctrl+C` ，send **\"bye\"** to the server to close the sockets and terminate both program. .\n",
    "\n",
    "In the `first` shot， the CPU server script\n",
    "  * the CPU server script is `launched` in a terminal window, and\n",
    "  * it’s `waiting` for a `connection`. \n",
    "\n",
    "In the `second` shot, \n",
    "  \n",
    " * one `client` is launched in a separate terminal window \n",
    " \n",
    " * It has connected to the server and received the CPU data \n",
    " \n",
    "The `third` shot shows\n",
    "\n",
    "  * the updates to the server’s window after it has served the client. \n",
    "\n",
    "\n"
   ]
  },
  {
   "cell_type": "markdown",
   "metadata": {},
   "source": [
    "### 2.3  Sever"
   ]
  },
  {
   "cell_type": "markdown",
   "metadata": {},
   "source": [
    "#### .2.3.1 sever script"
   ]
  },
  {
   "cell_type": "code",
   "execution_count": 5,
   "metadata": {},
   "outputs": [
    {
     "name": "stdout",
     "output_type": "stream",
     "text": [
      "Writing ./code/python/echo-server-cpu.py\n"
     ]
    }
   ],
   "source": [
    "%%file ./code/python/echo-server-cpu.py\n",
    "from socket import *\n",
    "\n",
    "import psutil\n",
    "from codecs import encode\n",
    "\n",
    "def get_data():\n",
    "    return psutil.cpu_percent()\n",
    "\n",
    "def server_program():\n",
    "    bufsize = 1024\n",
    "    host = \"localhost\"\n",
    "    #host = gethostname()\n",
    "    port = 5000  # initiate port no above 1024\n",
    "    \n",
    "    server_socket = socket(AF_INET, SOCK_STREAM)# get instance\n",
    "    # server_socket = socket()\n",
    "    # look closely. The bind() function takes tuple as argument\n",
    "    address = (host, port)\n",
    "    server_socket.bind(address)  # bind host address and port together\n",
    "\n",
    "    # configure how many client the server can listen simultaneously\n",
    "    server_socket.listen(5)\n",
    "    print(\"Waiting for connection ...\")\n",
    "    \n",
    "    # accept new connection\n",
    "    while True:\n",
    "        conn, address = server_socket.accept()  \n",
    "        print(\"Connection from: \" + str(address))\n",
    "        # the nested loop\n",
    "        while True:\n",
    "            try:\n",
    "                # receive data stream. it won't accept data packet greater than 1024 bytes\n",
    "                data = conn.recv(bufsize).decode()\n",
    "                if not data:\n",
    "                    # if data is not received break\n",
    "                    break\n",
    "                print(\"from connected user: \" + str(data))\n",
    "                data = encode(str(round(get_data(),4)),\"ascii\")\n",
    "                conn.send(data)  # send data to the client\n",
    "            except:\n",
    "                break\n",
    "            \n",
    "        conn.close()  # close the connection\n",
    "    \n",
    "if __name__ == '__main__':\n",
    "    server_program()\n"
   ]
  },
  {
   "cell_type": "markdown",
   "metadata": {},
   "source": [
    "#### 2.3.2 Code interpretation\n",
    "\n",
    "A `socket` resembles a `file` object, in that the programmer opens it, receives data from it, and closes it when finished.\n",
    "\n",
    "We now explain these steps in our server script in more detail.\n",
    "\n",
    "\n",
    "* create a socket object\n",
    "\n",
    "* bind() 绑定\n",
    "\n",
    "* listen() 侦听\n",
    "\n",
    "* accept()  # the loop  to accecp the client\n",
    "\n",
    "  * recv()  # the nested loop to communicate with the clent\n",
    "\n",
    "  * send()  # the nested loopto communicate with the clent\n",
    "\n",
    "* close() # close the connection of the clien\n",
    "\n"
   ]
  },
  {
   "cell_type": "markdown",
   "metadata": {},
   "source": [
    "**1 create a socket object** \n",
    "\n",
    "The server script uses the `IP address` and `port number`information to create a socket object \n",
    "\n",
    "```python\n",
    "host = \"localhost\"\n",
    "port = 5000  # initiate port no above 1024\n",
    "server_socket = socket(AF_INET, SOCK_STREAM)# get instance \n",
    "```\n",
    "\n",
    "The script creates a socket by running the function **socket()** in the socket module. \n",
    "\n",
    "This function returns a new socket object, when given\n",
    "\n",
    "* `a socket family` \n",
    "\n",
    "* `a socket type` \n",
    "\n",
    "as arguments.We use the family **AF_INET** and the type **SOCK_STREAM**, \n",
    "\n",
    "* **SOCK_STREAM**: the default protocol that’s used is the `Transmission Control Protocol (TCP)`. "
   ]
  },
  {
   "cell_type": "markdown",
   "metadata": {},
   "source": [
    "**2 listen 侦听**\n",
    "\n",
    "**First**  the socket is bound to this address by running its **bind** method.\n",
    "```python\n",
    "address = (host, port)\n",
    "server.bind(address)\n",
    "```\n",
    "**Second,**  the socket then is made to listen for up to `five` requests at a time from clients by running its listen method. If you want the server to handle more concurrent requests before rejecting additional ones, you can increase this number.\n",
    "```python\n",
    "server.listen(5)\n",
    "```"
   ]
  },
  {
   "cell_type": "markdown",
   "metadata": {},
   "source": [
    "**3 accept()**\n",
    "\n",
    "```python\n",
    "# accept new connection\n",
    "    conn, address = server_socket.accept()  \n",
    "    print(\"Connection from: \" + str(address))\n",
    "```"
   ]
  },
  {
   "cell_type": "markdown",
   "metadata": {},
   "source": [
    "**4 main loop and the nested loop**\n",
    "\n",
    "\n",
    "The nested loop for the connected client\n",
    "```python\n",
    "while True:\n",
    "        # receive data stream. it won't accept data packet greater than 1024 bytes\n",
    "        data = conn.recv(bufsize).decode()\n",
    "        if not data:\n",
    "            # if data is not received break\n",
    "            break\n",
    "        print(\"from connected user: \" + str(data))\n",
    "        data = encode(str(round(get_data(),4)),\"ascii\")\n",
    "        conn.send(data)  # send data to the client\n",
    "\n",
    "\n",
    "```\n",
    "\n",
    "the server then enters `a nested  loop`. \n",
    "\n",
    "This loop engages the server in a `continuous` conversation with the client. \n",
    "\n",
    "The server `receives` a message from the client. \n",
    "\n",
    "```python\n",
    "# receive data stream. it won't accept data packet greater than 1024 bytes\n",
    "        data = conn.recv(bufsize).decode()\n",
    "        if not data:\n",
    "            # if data is not received break\n",
    "            break\n",
    "        print(\"from connected user: \" + str(data))  \n",
    "            \n",
    "```\n",
    "Our script binds the variables client and address to these values and uses them in the next steps.\n",
    "\n",
    "\n",
    "The script prints the client’s address, and then sends the current CPU to the client by\n",
    "running the send method with the client’s socket.\n",
    "\n",
    "```python\n",
    " data = encode(str(round(get_data(),4)),\"ascii\")\n",
    "        conn.send(data)  # send data to the client\n",
    "\n",
    "```\n",
    "\n",
    "The send method expects `a bytes object`\n",
    "as an argument. You create a bytes object from a string by calling the built-in bytes function,\n"
   ]
  },
  {
   "cell_type": "markdown",
   "metadata": {},
   "source": [
    "**5  close the connection**\n",
    "```python\n",
    "conn.close()  # close the connection\n",
    "```"
   ]
  },
  {
   "cell_type": "markdown",
   "metadata": {},
   "source": [
    "\n"
   ]
  },
  {
   "cell_type": "markdown",
   "metadata": {},
   "source": [
    "\n",
    "### 2.4 Client\n",
    "\n",
    "\n",
    "#### 2.4.1 client script\n"
   ]
  },
  {
   "cell_type": "code",
   "execution_count": 4,
   "metadata": {},
   "outputs": [
    {
     "name": "stdout",
     "output_type": "stream",
     "text": [
      "Overwriting ./code/python/echo-client-cpu.py\n"
     ]
    }
   ],
   "source": [
    "%%file ./code/python/echo-client-cpu.py\n",
    "\n",
    "from socket import *\n",
    "import time\n",
    "from codecs import decode\n",
    "\n",
    "\n",
    "def client_program():\n",
    "    # host = socket.gethostname()\n",
    "    host = \"localhost\"  # as both code is running on same pc\n",
    "    port = 5000  # socket server port number\n",
    "\n",
    "    client_socket = socket(AF_INET, SOCK_STREAM)  # get instance\n",
    "    # client_socket = socket.socket()  # instantiate\n",
    "    client_socket.connect((host, port))  # connect to the server\n",
    "\n",
    "    message = \"cpu\"\n",
    "    while True:\n",
    "        try:\n",
    "            client_socket.send(message.encode())  # send message\n",
    "            data = decode(client_socket.recv(1024), \"ascii\")\n",
    "            print('Received from server: ' + data)  # show in terminal\n",
    "            time.sleep(1)\n",
    "            message = \"cpu\"\n",
    "        except KeyboardInterrupt:  # Press 'Ctrl + C' to  close the connection\n",
    "            ans = input('\\nDo you want to continue(y/n) :')\n",
    "            if ans == 'y':\n",
    "                continue\n",
    "            else:\n",
    "                break\n",
    "    \n",
    "    client_socket.close()  # close the connection\n",
    "\n",
    "\n",
    "if __name__ == '__main__':\n",
    "    client_program()\n"
   ]
  },
  {
   "cell_type": "markdown",
   "metadata": {},
   "source": [
    "#### 2.4.2  Code interpretation\n",
    "\n",
    "1. connect\n",
    "\n",
    "2. main loop\n",
    "  \n",
    "  * send(message.encode()) \n",
    "  * client_socket.recv(1024)\n",
    "  \n",
    "3. client_socket.close()  "
   ]
  },
  {
   "cell_type": "markdown",
   "metadata": {},
   "source": [
    "**1.socket**\n",
    "```python\n",
    " # host = socket.gethostname() \n",
    "    host = \"localhost\"# as both code is running on same pc\n",
    "    port = 5000  # socket server port number\n",
    "    \n",
    "    client_socket = socket(AF_INET, SOCK_STREAM)# get instance\n",
    "```   \n",
    "**connect()**\n",
    "```python\n",
    "ADDRESS = (HOST, PORT)\n",
    "server.connect(ADDRESS)\n",
    "```\n",
    "To connect the socket to a host computer, one runs the socket’s **connect** method. \n",
    "\n",
    "This method expects as an argument a tuple containing\n",
    "\n",
    "* `the host’s IP address and a port number`.\n",
    "\n",
    "In this case, these values are `\"localhost\" and 5000`, respectively. These two values should be the same as the ones used in the server script.\n",
    "\n",
    "\n",
    "**3 mainloop: send() and recv()** \n",
    "\n",
    "**send()** \n",
    "\n",
    "**recv()**\n",
    "\n",
    "```python\n",
    "cpu_percente = decode(server.recv(BUFSIZE), \"ascii\")\n",
    "```\n",
    "To obtain information sent by the server, the client script runs the socket’s **recv()** method.\n",
    "\n",
    "This method expects as an argument the `maximum` size in **bytes** of the data to be read from the socket.\n",
    "\n",
    "The **recv()** method returns an object of type `bytes` \n",
    "\n",
    "You convert this to a string by calling the codecs function **decode()**, with the encoding **\"ascii\"** as the second argument.\n",
    "\n",
    "**close()**\n",
    "```pythom\n",
    "server.close()\n",
    "```\n",
    "After the client script has printed the string read from the socket, the script closes the connection to the server by running the socket’s **close** method.\n"
   ]
  },
  {
   "cell_type": "markdown",
   "metadata": {},
   "source": [
    "## 3 Threading Multi-Connection Server\n",
    "\n",
    "\n",
    "The **server** definitely has its `limitations`. \n",
    "\n",
    "* It serves **only one** client and then exits \n",
    "\n",
    "![socket-single-client](./img/linux/socket-single-client.png)\n",
    "\n"
   ]
  },
  {
   "cell_type": "markdown",
   "metadata": {},
   "source": [
    "### 3.1 Multi-Connection Server\n",
    "\n",
    "we’ll create a server that handles **multiple** connections using **threading** module.\n",
    "\n",
    "**Thread method**"
   ]
  },
  {
   "cell_type": "code",
   "execution_count": 2,
   "metadata": {},
   "outputs": [
    {
     "name": "stdout",
     "output_type": "stream",
     "text": [
      "Writing ./code/python/multiconn-server.py\n"
     ]
    }
   ],
   "source": [
    "%%file ./code/python/multiconn-server.py\n",
    "\n",
    "import psutil\n",
    "from socket import *\n",
    "import threading\n",
    "from codecs import encode\n",
    "\n",
    "class ClientThread(threading.Thread):\n",
    "\n",
    "    def __init__(self,conn,address, bufsize):\n",
    "        threading.Thread.__init__(self)\n",
    "        self.bufsize=bufsize\n",
    "        self.conn = conn\n",
    "        self.address=address\n",
    "        print (\"New connection added: \", address)\n",
    "    \n",
    "    def run(self):\n",
    "        # the nested loop\n",
    "        while True:\n",
    "            try:\n",
    "                # receive data stream. it won't accept data packet greater than 1024 bytes\n",
    "                data = self.conn.recv(self.bufsize).decode()\n",
    "                if not data:\n",
    "                    # if data is not received break\n",
    "                    break\n",
    "                print(\"from connected user: \" + str(data))\n",
    "                data = encode(str(round(get_data(),4)),\"ascii\")\n",
    "                self.conn.send(data)  # send data to the client\n",
    "            except:\n",
    "                break\n",
    "   \n",
    "        self.conn.close()# close the connection\n",
    "        print (\"Client at \", self.address , \" disconnected...\")\n",
    "\n",
    "        \n",
    "def get_data():\n",
    "    return psutil.cpu_percent()\n",
    "\n",
    "def server_program():\n",
    "    bufsize = 1024\n",
    "    host = \"localhost\"\n",
    "    #host = gethostname()\n",
    "    port = 5000  # initiate port no above 1024\n",
    "    \n",
    "    server_socket = socket(AF_INET, SOCK_STREAM)# get instance\n",
    "    # server_socket = socket()\n",
    "    # look closely. The bind() function takes tuple as argument\n",
    "    address = (host, port)\n",
    "    server_socket.bind(address)  # bind host address and port together\n",
    "\n",
    "    # configure how many client the server can listen simultaneously\n",
    "    server_socket.listen(5)\n",
    "    print(\"Waiting for connection ...\")\n",
    "    \n",
    "    while True:\n",
    "        conn, address =  server_socket.accept()\n",
    "        newthread = ClientThread(conn, address, bufsize)\n",
    "        newthread.start()\n",
    "            \n",
    "if __name__ == '__main__':\n",
    "    server_program()           \n"
   ]
  },
  {
   "cell_type": "markdown",
   "metadata": {},
   "source": [
    "### 3.2 Multi-Connection Client\n",
    "\n"
   ]
  },
  {
   "cell_type": "code",
   "execution_count": 3,
   "metadata": {},
   "outputs": [
    {
     "name": "stdout",
     "output_type": "stream",
     "text": [
      "Writing ./code/python/echo-client-cpu.py\n"
     ]
    }
   ],
   "source": [
    "%%file ./code/python/echo-client-cpu.py\n",
    "\n",
    "from socket import *\n",
    "import time\n",
    "from codecs import decode\n",
    "\n",
    "\n",
    "def client_program():\n",
    "    # host = socket.gethostname()\n",
    "    host = \"localhost\"  # as both code is running on same pc\n",
    "    port = 5000  # socket server port number\n",
    "\n",
    "    client_socket = socket(AF_INET, SOCK_STREAM)  # get instance\n",
    "    # client_socket = socket.socket()  # instantiate\n",
    "    client_socket.connect((host, port))  # connect to the server\n",
    "\n",
    "    message = \"cpu\"\n",
    "    while True:\n",
    "        try:\n",
    "            client_socket.send(message.encode())  # send message\n",
    "            data = decode(client_socket.recv(1024), \"ascii\")\n",
    "            print('Received from server: ' + data)  # show in terminal\n",
    "            time.sleep(1)\n",
    "            message = \"cpu\"\n",
    "        except KeyboardInterrupt:  # Press 'Ctrl + C' to  close the connection\n",
    "            ans = input('\\nDo you want to continue(y/n) :')\n",
    "            if ans == 'y':\n",
    "                continue\n",
    "            else:\n",
    "                break\n",
    "    \n",
    "    client_socket.close()  # close the connection\n",
    "\n",
    "\n",
    "if __name__ == '__main__':\n",
    "    client_program()\n"
   ]
  },
  {
   "cell_type": "markdown",
   "metadata": {},
   "source": [
    "![socket-multi-client](./img/linux/socket-multi-client.png)"
   ]
  },
  {
   "cell_type": "markdown",
   "metadata": {},
   "source": [
    "## Reference\n",
    "\n",
    "[Python:Networking and Interprocess Communication](https://docs.python.org/3/library/ipc.html)\n",
    "\n",
    "* [socket](https://docs.python.org/3/library/socket.html)\n",
    "\n",
    "[[Python:Internet Protocols and Support](https://docs.python.org/3/library/internet.html)\n",
    "\n",
    "* [socketserver — A framework for network servers](https://docs.python.org/3/library/socketserver.html)\n"
   ]
  },
  {
   "cell_type": "code",
   "execution_count": null,
   "metadata": {},
   "outputs": [],
   "source": []
  }
 ],
 "metadata": {
  "kernelspec": {
   "display_name": "Python 3",
   "language": "python",
   "name": "python3"
  },
  "language_info": {
   "codemirror_mode": {
    "name": "ipython",
    "version": 3
   },
   "file_extension": ".py",
   "mimetype": "text/x-python",
   "name": "python",
   "nbconvert_exporter": "python",
   "pygments_lexer": "ipython3",
   "version": "3.8.7"
  },
  "latex_envs": {
   "LaTeX_envs_menu_present": true,
   "autoclose": false,
   "autocomplete": true,
   "bibliofile": "biblio.bib",
   "cite_by": "apalike",
   "current_citInitial": 1,
   "eqLabelWithNumbers": true,
   "eqNumInitial": 1,
   "hotkeys": {
    "equation": "Ctrl-E",
    "itemize": "Ctrl-I"
   },
   "labels_anchors": false,
   "latex_user_defs": false,
   "report_style_numbering": false,
   "user_envs_cfg": false
  },
  "toc": {
   "base_numbering": 1,
   "nav_menu": {},
   "number_sections": false,
   "sideBar": true,
   "skip_h1_title": false,
   "title_cell": "Table of Contents",
   "title_sidebar": "Contents",
   "toc_cell": false,
   "toc_position": {
    "height": "calc(100% - 180px)",
    "left": "10px",
    "top": "150px",
    "width": "165px"
   },
   "toc_section_display": true,
   "toc_window_display": true
  }
 },
 "nbformat": 4,
 "nbformat_minor": 2
}
