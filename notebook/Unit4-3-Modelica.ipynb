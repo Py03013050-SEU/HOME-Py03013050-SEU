{
 "cells": [
  {
   "cell_type": "markdown",
   "metadata": {},
   "source": [
    "# Modelica\n",
    "\n",
    "## 1 The Modelica Association \n",
    "\n",
    "The Modelica Association https://www.modelica.org/\n",
    "\n",
    "The Modelica Association is a non-profit organization with members from Europe, U.S.A., Canada and Asia. Since 1996, it develops coordinated, open access standards and `open source` software in the area of `cyber physical` systems.\n",
    "\n",
    "**Modelica Language** \n",
    "\n",
    "The Modelica Language is a non-proprietary, object-oriented, equation based language to conveniently **model complex physical systems** containing, e.g., mechanical, electrical, electronic, hydraulic, thermal, control, electric power or process-oriented subcomponents\n",
    "\n",
    "* Projects of the Modelica Association https://github.com/modelica\n",
    "\n",
    "\n",
    "## 2 Software\n",
    "\n",
    "**[Dymola](https://www.3ds.com/products-services/catia/products/dymola)**: the commercial modeling and simulation environment based on the open  **Modelica** modeling language.Developed by the **Dassault** Systèmes,**France**\n",
    "\n",
    "**[OpenModelica](https://openmodelica.org/)**: An open-source **Modelica**-based modeling and simulation environment.by  Open Source Modelica Consortium(OSMC), the OSMC is run as a project of the [SICS East Swedish ICT institute](https://www.sics.se/groups/sics-east-swedish-ict) which cooperates closely with [Linköpings University(林雪平大学)](https://liu.se/en)\n",
    "\n",
    "* https://github.com/OpenModelica\n",
    "\n",
    "\n",
    "**[MWorks](http://www.tongyuan.cc/)**: 立足于多领域物理统一建模国际规范Modelica,形成完全自主知识产权的面向复杂机电产品开发的建模、分析、仿真、优化一体化的工程计算平台MWorks。 苏州同元软控信息技术有限公司\n",
    "\n",
    "\n"
   ]
  },
  {
   "cell_type": "markdown",
   "metadata": {},
   "source": [
    "## 3 The modelling and simulation of buildings, districts and energy systems \n",
    "\n",
    "\n",
    "### 3.1 Open Source Package \n",
    "\n",
    "**Buildings**  \n",
    "\n",
    "Open source library for building and district energy and control systems\n",
    "\n",
    "https://simulationresearch.lbl.gov/modelica/\n",
    "\n",
    "by Michael Wetter http://simulationresearch.lbl.gov/wetter \n",
    "\n",
    "**BuildSysPro** \n",
    "\n",
    "BuildSysPro open source is **EDF**(Electricité de France 法国电力公司)'s Modelica library for buildings, districts and energy systems modelling. \n",
    "\n",
    "https://github.com/modelica-3rdparty/BuildSysPro\n",
    "\n",
    "![](./img/vcr/buildingexample.jpg)"
   ]
  },
  {
   "cell_type": "markdown",
   "metadata": {},
   "source": [
    "### 3.2 The Example of  An ideal vapor-compression refrigeration cycle in Modelica\n",
    "\n",
    "An ideal vapor-compression refrigeration cycle\n",
    "\n",
    "https://www.cpp.edu/~tknguyen/che302/home.htm\n",
    "\n",
    "https://www.cpp.edu/~tknguyen/che302/Notes/chap7-2.pdf\n",
    "\n",
    "Refrigerant 134a is the working fluid in an ideal vapor-compression refrigeration cycle that communicates thermally with a cold region at 0°C and a warm region at 26°C.\n",
    "\n",
    "Saturated vapor enters the compressor at 0°C and saturated liquid leaves the condenser at 26°C.\n",
    "\n",
    "The mass flow rate of the refrigerant is 0.08 kg/s.\n",
    "\n"
   ]
  },
  {
   "cell_type": "code",
   "execution_count": 3,
   "metadata": {},
   "outputs": [
    {
     "name": "stdout",
     "output_type": "stream",
     "text": [
      "Overwriting ./Modelica/VPRR134a.mo\n"
     ]
    }
   ],
   "source": [
    "%%file ./Modelica/VPRR134a.mo\n",
    "model VPRR134a\n",
    "  import R134a = Modelica.Media.R134a.R134a_ph;\n",
    "\n",
    "  type SpecificEnthalpy=Real(unit=\"kJ/kg\",displayUnit=\"kJ/kg\");\n",
    "  type SpecificEntropy =Real(unit=\"kJ/(kg.K)\",displayUnit=\"kJ/(kg.K)\");\n",
    "  type Pressure =Real(unit=\"MPa\",displayUnit=\"MPa\");\n",
    "  type Temperature =Real(unit=\"° C\",displayUnit=\"° C\");\n",
    "  type FlowRateofMass=Real(unit=\"kg/s\",displayUnit=\"kg/s\");\n",
    "  type Work=Real(unit=\"kW\",displayUnit=\"kW\");\n",
    "  type RefrigerationCapacity=Real(unit=\"ton\",displayUnit=\"ton\");\n",
    "  type CoefficientofPerformance=Real;\n",
    "\n",
    "\n",
    "  SpecificEnthalpy h1,h2,h3,h4 \"Specific enthalpy\";\n",
    "  SpecificEntropy s1,s2 \"Specific entropy\";\n",
    "  Pressure p1,p2,p3;\n",
    "  Work wc;\n",
    "  RefrigerationCapacity ql;\n",
    "  CoefficientofPerformance cop;\n",
    "\n",
    "  parameter FlowRateofMass mdot=0.08;\n",
    "  parameter Temperature t1=0,t3=26;\n",
    "\n",
    "equation\n",
    "  //state 1\n",
    "  p1=R134a.saturationPressure(t1+273.15)/1.0e6;\n",
    "  h1=R134a.specificEnthalpy(R134a.setState_Tx(t1+273.15,1))/1000;\n",
    "  s1=R134a.specificEntropy(R134a.setState_Tx(t1+273.15,1))/1000;\n",
    "\n",
    "  //state 3\n",
    "  p3=R134a.saturationPressure(t3+273.15)/1.0e6;\n",
    "  h3=R134a.specificEnthalpy(R134a.setState_Tx(t3+273.15,0))/1000;\n",
    "\n",
    "  //state 2\n",
    "  p2=p3;\n",
    "  s2=s1;\n",
    "  h2=R134a.specificEnthalpy_ps(p2*1.0e6,s2*1000)/1000;\n",
    "\n",
    "  //state 4\n",
    "  h4=h3;\n",
    "\n",
    "  // The compressor work\n",
    "  wc=mdot*(h2-h1);\n",
    "\n",
    "  // The refrigeration capacity in tons\n",
    "  ql=mdot*(h1-h4)*60*(1/211);\n",
    "\n",
    "  //The coefficient of performance\n",
    "  cop=(h1-h4)/(h2-h1);\n",
    "end VPRR134a;"
   ]
  },
  {
   "cell_type": "markdown",
   "metadata": {},
   "source": [
    "## 4 The modelling and simulation of power plants and energy systems\n",
    "\n",
    "### 4.1 Open Source Package\n",
    "\n",
    "**ThermoSysPro**\n",
    "\n",
    "* https://build.openmodelica.org/Documentation/ThermoSysPro.html\n",
    "\n",
    "  * Daniel Bouskela and Baligh El Hefni,France\n",
    "\n",
    "ThermoSysPro is a library for the modelling and simulation of power plants and energy systems. It is developed with the Modelica language from the Modelica Association. It provides components in various disciplines related to the modelling of power plants and energy systems.\n",
    "\n",
    "**ClaRa**\n",
    "\n",
    "* [Modelica library for simulation of Clausius-Rankine (ClaRa) cycles in power plants](https://github.com/ClaRaLibrary/ClaRa) \n",
    "\n"
   ]
  },
  {
   "cell_type": "markdown",
   "metadata": {},
   "source": [
    "### 4.2 The Simple Example Rankine Cycle Simulator\n",
    "\n",
    "* https://github.com/thermalogic/SimRankine\n",
    "\n",
    "![](./img/vcr/simrankine.jpg)"
   ]
  },
  {
   "cell_type": "markdown",
   "metadata": {},
   "source": [
    "## Reference\n",
    "\n",
    "* [Michael M. Tiller： Learn Modelica by Example(中文版)](http://modelicabyexample.globalcrown.com.cn/)\n",
    "\n",
    "\n"
   ]
  },
  {
   "cell_type": "code",
   "execution_count": null,
   "metadata": {},
   "outputs": [],
   "source": []
  }
 ],
 "metadata": {
  "kernelspec": {
   "display_name": "Python 3",
   "language": "python",
   "name": "python3"
  },
  "language_info": {
   "codemirror_mode": {
    "name": "ipython",
    "version": 3
   },
   "file_extension": ".py",
   "mimetype": "text/x-python",
   "name": "python",
   "nbconvert_exporter": "python",
   "pygments_lexer": "ipython3",
   "version": "3.7.8"
  },
  "toc": {
   "base_numbering": 1,
   "nav_menu": {},
   "number_sections": false,
   "sideBar": true,
   "skip_h1_title": false,
   "title_cell": "Table of Contents",
   "title_sidebar": "Contents",
   "toc_cell": false,
   "toc_position": {
    "height": "calc(100% - 180px)",
    "left": "10px",
    "top": "150px",
    "width": "196px"
   },
   "toc_section_display": true,
   "toc_window_display": true
  }
 },
 "nbformat": 4,
 "nbformat_minor": 1
}
