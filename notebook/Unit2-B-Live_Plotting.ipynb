{
 "cells": [
  {
   "cell_type": "markdown",
   "metadata": {},
   "source": [
    "# Live Updating  Plots\n",
    "\n",
    "In our work, We are often required to **plot Live** data. \n",
    "\n",
    "* **psutil**: Cross-platform lib for process and system monitoring in Python \n",
    "\n",
    "   https://github.com/giampaolo/psutil\n",
    "\n",
    "```text\n",
    "python -m pip install psutil\n",
    "```\n",
    "## 1 Python Script\n",
    "\n",
    "\n",
    "* ```matplotlib.pyplot.ion()```  \n",
    "\n",
    " Turn the **interactive** mode on.\n",
    " \n",
    " https://matplotlib.org/api/_as_gen/matplotlib.pyplot.ion.html?highlight=ion\n",
    "\n",
    "\n",
    "* ```matplotlib.pyplot.clf()```\n",
    "\n",
    "  Clear the current figure.\n",
    "\n",
    "  https://matplotlib.org/api/_as_gen/matplotlib.pyplot.clf.html\n"
   ]
  },
  {
   "cell_type": "code",
   "execution_count": null,
   "metadata": {},
   "outputs": [],
   "source": [
    "%%file ./code/python/cpu_monitor.py\n",
    "import psutil\n",
    "from time import sleep, strftime\n",
    "import matplotlib.pyplot as plt\n",
    "\n",
    "pltLength = 100\n",
    "\n",
    "#Turn the interactive mode on.\n",
    "plt.ion()\n",
    "\n",
    "# index \n",
    "x = [i for i in range(pltLength)]\n",
    "# value\n",
    "y = [None for i in range(pltLength)]\n",
    "i = 0\n",
    "\n",
    "def write_cpu(cpu):\n",
    "    with open(\"./data/cpu.csv\", \"a\") as log:\n",
    "        log.write(\"{0},{1}\\n\".format(strftime(\"%Y-%m-%d %H:%M:%S\"), str(cpu)))\n",
    "\n",
    "def graph(cpu):\n",
    "    global i\n",
    "    if i < pltLength:\n",
    "        y[i] = cpu\n",
    "        i += 1\n",
    "    else:\n",
    "        # Once enough data is captured, append the newest data point and delete the oldest\n",
    "        y.append(cpu)\n",
    "        del y[0]\n",
    "        \n",
    "    # clear the current figure.\n",
    "    plt.clf()\n",
    "    \n",
    "    plt.xlim(0, pltLength)\n",
    "    plt.plot(x, y, \"b-o\")\n",
    "    plt.draw()\n",
    "    plt.pause(0.1)\n",
    "\n",
    "\n",
    "while True:\n",
    "    cpu = psutil.cpu_percent()\n",
    "    write_cpu(cpu)\n",
    "    graph(cpu)\n",
    "    sleep(1)"
   ]
  },
  {
   "cell_type": "markdown",
   "metadata": {},
   "source": [
    "## 2 Jupyter notebook\n",
    "\n"
   ]
  },
  {
   "cell_type": "markdown",
   "metadata": {},
   "source": [
    "The  Dynamically Plotting with  `%matplotlib notebook`\n",
    "\n",
    "* `%matplotlib notebook` will lead to `interactive plots` embedded within the notebook\n",
    "\n"
   ]
  },
  {
   "cell_type": "code",
   "execution_count": null,
   "metadata": {},
   "outputs": [],
   "source": [
    "%matplotlib notebook\n",
    "import matplotlib.pyplot as plt\n",
    "import numpy as np\n",
    "from time import sleep, strftime\n",
    "import psutil\n",
    "\n",
    "fig = plt.figure(figsize=(7,3))\n",
    "plt.ion()\n",
    "fig.show()\n",
    "fig.canvas.draw()\n",
    "\n",
    "pltLength=20\n",
    "x = [i for i in range(pltLength)]\n",
    "y = [None for i in range(pltLength)]\n",
    "i = 0\n",
    "\n",
    "def write_cpu(cpu):\n",
    "    with open(\"./data/cpu.csv\", \"a\") as log:\n",
    "        log.write(\"{0},{1}\\n\".format(strftime(\"%Y-%m-%d %H:%M:%S\"), str(cpu)))\n",
    "\n",
    "def graph(cpu):\n",
    "    global i\n",
    "    if i < pltLength:\n",
    "        y[i] = cpu\n",
    "        i += 1\n",
    "    else:\n",
    "        # Once enough data is captured, append the newest data point and delete the oldest\n",
    "        y.append(cpu)\n",
    "        del y[0]\n",
    "\n",
    "    plt.clf()\n",
    "    plt.xlim(0, pltLength)\n",
    "    plt.plot(x, y, \"b-o\")\n",
    "    plt.show()\n",
    "    fig.canvas.draw()   # draw\n",
    "\n",
    "while True:\n",
    "    cpu = psutil.cpu_percent()\n",
    "    write_cpu(cpu)\n",
    "    graph(cpu)\n",
    "    sleep(1)"
   ]
  },
  {
   "cell_type": "code",
   "execution_count": null,
   "metadata": {},
   "outputs": [],
   "source": []
  }
 ],
 "metadata": {
  "kernelspec": {
   "display_name": "Python 3",
   "language": "python",
   "name": "python3"
  },
  "language_info": {
   "codemirror_mode": {
    "name": "ipython",
    "version": 3
   },
   "file_extension": ".py",
   "mimetype": "text/x-python",
   "name": "python",
   "nbconvert_exporter": "python",
   "pygments_lexer": "ipython3",
   "version": "3.8.7"
  },
  "toc": {
   "base_numbering": 1,
   "nav_menu": {},
   "number_sections": false,
   "sideBar": true,
   "skip_h1_title": false,
   "title_cell": "Table of Contents",
   "title_sidebar": "Contents",
   "toc_cell": false,
   "toc_position": {
    "height": "calc(100% - 180px)",
    "left": "10px",
    "top": "150px",
    "width": "214.6px"
   },
   "toc_section_display": true,
   "toc_window_display": true
  },
  "widgets": {
   "state": {},
   "version": "1.1.2"
  }
 },
 "nbformat": 4,
 "nbformat_minor": 1
}
