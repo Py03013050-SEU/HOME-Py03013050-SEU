{
 "cells": [
  {
   "cell_type": "markdown",
   "metadata": {},
   "source": [
    "#  EXPLORING DATA WITH PANDAS"
   ]
  },
  {
   "cell_type": "markdown",
   "metadata": {},
   "source": [
    "## Pandas\n",
    "\n",
    "Most of the second half of this book is focused on building various kinds of computational models that can be used to extract useful information from data. \n",
    "\n",
    "In the chapters following this one, we will take a quick look at `simple` ways to use `machine learning` to build models from data. \n",
    "\n",
    "Before doing so, however, \n",
    "\n",
    "we will look at a popular library **Pandas** that can be used to quickly get acquainted with a dataset before diving into more detailed analysis. \n",
    "\n",
    "**Pandas** is built on top of numpy. \n",
    "\n",
    ">The name was derived from the term **“panel data(面板数据)”**  an econometrics term for data that includes observations over multiple time periods. \n",
    "\n",
    "Pandas provides mechanisms to facilitate  \n",
    "\n",
    "* **Organizing** data\n",
    "\n",
    "* **Calculating** simple statistics about data\n",
    "\n",
    "* **Storing** the data in formats that facility future analysis\n",
    "\n",
    "\n",
    "**Install**\n",
    "\n"
   ]
  },
  {
   "cell_type": "code",
   "execution_count": 1,
   "metadata": {},
   "outputs": [
    {
     "name": "stdout",
     "output_type": "stream",
     "text": [
      "Looking in indexes: https://pypi.tuna.tsinghua.edu.cn/simple\n",
      "Requirement already satisfied: pandas in c:\\python310\\lib\\site-packages (1.4.3)\n",
      "Requirement already satisfied: numpy>=1.21.0 in c:\\python310\\lib\\site-packages (from pandas) (1.23.0)\n",
      "Requirement already satisfied: pytz>=2020.1 in c:\\python310\\lib\\site-packages (from pandas) (2022.1)\n",
      "Requirement already satisfied: python-dateutil>=2.8.1 in c:\\python310\\lib\\site-packages (from pandas) (2.8.2)\n",
      "Requirement already satisfied: six>=1.5 in c:\\python310\\lib\\site-packages (from python-dateutil>=2.8.1->pandas) (1.16.0)\n",
      "\n",
      "[notice] A new release of pip available: 22.1.2 -> 22.2\n",
      "[notice] To update, run: python.exe -m pip install --upgrade pip\n"
     ]
    }
   ],
   "source": [
    "!pip install -U pandas"
   ]
  },
  {
   "cell_type": "markdown",
   "metadata": {},
   "source": [
    "## 1 DataFrames and CSV Files\n",
    "\n",
    "Everything in Pandas is built around the type **DataFrame**\n",
    "\n",
    "* A DataFrame is a mutable <font color=\"blue\">two-dimensional tabular data structure(二维表)</font> with labeled axes (rows and columns). \n",
    "\n",
    "The following Figure shows a **DataFrame** containing information about the late rounds of the <font color=\"blue\">2019 FIFA Women’s World Cup</font>.\n",
    "\n",
    "![DataFrame:two-dimensional tabular ](img/fig23-1.jpg)\n",
    "\n",
    "Each **column(列)** represents something called a **series(序列)**.\n",
    "\n",
    "* A **name(label)** is associated with each **column**. these **names** play a role similar to that of **keys** in \n",
    "dictionaries. \n",
    "\n",
    "An **index** is associated with each **row(行)**. \n",
    "\n",
    "* By default, the indices are consecutive numbers, but they needn’t be.\n"
   ]
  },
  {
   "cell_type": "markdown",
   "metadata": {},
   "source": [
    "The Data of the late rounds of the 2019 FIFA Women’s World Cup is stored in the CSV file of `./data/wwc2019_q-f.csv`  \n",
    "```csv\n",
    "Round,Winner,W Goals,Loser,L Goals\n",
    "Quarters,England,3,Norway,0\n",
    "Quarters,USA,2,France,1\n",
    "Quarters,Netherlands,2,Italy,0\n",
    "Quarters,Sweden,2,Germany,1\n",
    "Semis,USA,2,England,1\n",
    "Semis,Netherlands,1,Sweden,0\n",
    "3rd Place,Sweden,2,England,1\n",
    "Championship,USA,2,Netherlands,0\n",
    "```"
   ]
  },
  {
   "cell_type": "code",
   "execution_count": null,
   "metadata": {},
   "outputs": [],
   "source": [
    "# %load ./data/wwc2019_q-f.csv"
   ]
  },
  {
   "cell_type": "markdown",
   "metadata": {},
   "source": [
    "While DataFrames can be built from scratch using Python code, a more common way to create a DataFrame is by reading in a \n",
    "**CSV** file. \n",
    "\n",
    "The DataFrame pictured in the above figure was produced using the code below and the CSV file "
   ]
  },
  {
   "cell_type": "code",
   "execution_count": 3,
   "metadata": {},
   "outputs": [
    {
     "data": {
      "text/html": [
       "<div>\n",
       "<style scoped>\n",
       "    .dataframe tbody tr th:only-of-type {\n",
       "        vertical-align: middle;\n",
       "    }\n",
       "\n",
       "    .dataframe tbody tr th {\n",
       "        vertical-align: top;\n",
       "    }\n",
       "\n",
       "    .dataframe thead th {\n",
       "        text-align: right;\n",
       "    }\n",
       "</style>\n",
       "<table border=\"1\" class=\"dataframe\">\n",
       "  <thead>\n",
       "    <tr style=\"text-align: right;\">\n",
       "      <th></th>\n",
       "      <th>Round</th>\n",
       "      <th>Winner</th>\n",
       "      <th>W Goals</th>\n",
       "      <th>Loser</th>\n",
       "      <th>L Goals</th>\n",
       "    </tr>\n",
       "  </thead>\n",
       "  <tbody>\n",
       "    <tr>\n",
       "      <th>0</th>\n",
       "      <td>Quarters</td>\n",
       "      <td>England</td>\n",
       "      <td>3</td>\n",
       "      <td>Norway</td>\n",
       "      <td>0</td>\n",
       "    </tr>\n",
       "    <tr>\n",
       "      <th>1</th>\n",
       "      <td>Quarters</td>\n",
       "      <td>USA</td>\n",
       "      <td>2</td>\n",
       "      <td>France</td>\n",
       "      <td>1</td>\n",
       "    </tr>\n",
       "    <tr>\n",
       "      <th>2</th>\n",
       "      <td>Quarters</td>\n",
       "      <td>Netherlands</td>\n",
       "      <td>2</td>\n",
       "      <td>Italy</td>\n",
       "      <td>0</td>\n",
       "    </tr>\n",
       "    <tr>\n",
       "      <th>3</th>\n",
       "      <td>Quarters</td>\n",
       "      <td>Sweden</td>\n",
       "      <td>2</td>\n",
       "      <td>Germany</td>\n",
       "      <td>1</td>\n",
       "    </tr>\n",
       "    <tr>\n",
       "      <th>4</th>\n",
       "      <td>Semis</td>\n",
       "      <td>USA</td>\n",
       "      <td>2</td>\n",
       "      <td>England</td>\n",
       "      <td>1</td>\n",
       "    </tr>\n",
       "    <tr>\n",
       "      <th>5</th>\n",
       "      <td>Semis</td>\n",
       "      <td>Netherlands</td>\n",
       "      <td>1</td>\n",
       "      <td>Sweden</td>\n",
       "      <td>0</td>\n",
       "    </tr>\n",
       "    <tr>\n",
       "      <th>6</th>\n",
       "      <td>3rd Place</td>\n",
       "      <td>Sweden</td>\n",
       "      <td>2</td>\n",
       "      <td>England</td>\n",
       "      <td>1</td>\n",
       "    </tr>\n",
       "    <tr>\n",
       "      <th>7</th>\n",
       "      <td>Championship</td>\n",
       "      <td>USA</td>\n",
       "      <td>2</td>\n",
       "      <td>Netherlands</td>\n",
       "      <td>0</td>\n",
       "    </tr>\n",
       "  </tbody>\n",
       "</table>\n",
       "</div>"
      ],
      "text/plain": [
       "          Round       Winner  W Goals        Loser  L Goals\n",
       "0      Quarters      England        3       Norway        0\n",
       "1      Quarters          USA        2       France        1\n",
       "2      Quarters  Netherlands        2        Italy        0\n",
       "3      Quarters       Sweden        2      Germany        1\n",
       "4         Semis          USA        2      England        1\n",
       "5         Semis  Netherlands        1       Sweden        0\n",
       "6     3rd Place       Sweden        2      England        1\n",
       "7  Championship          USA        2  Netherlands        0"
      ]
     },
     "execution_count": 3,
     "metadata": {},
     "output_type": "execute_result"
    }
   ],
   "source": [
    "import pandas as pd \n",
    "wwc = pd.read_csv('./data/wwc2019_q-f.csv') \n",
    "wwc"
   ]
  },
  {
   "cell_type": "markdown",
   "metadata": {},
   "source": [
    "After importing Pandas, the code uses the Pandas'function `read_csv` to read the CSV file, and then **prints** it in the tabular form shown in the above Figure.\n",
    "\n",
    "If the DataFrame has a **large number** of rows or columns,\n",
    "\n",
    "\n",
    "* print will replace columns and/or rows in the **center** of the DataFrame with **ellipses(...)**. \n"
   ]
  },
  {
   "cell_type": "code",
   "execution_count": 4,
   "metadata": {},
   "outputs": [
    {
     "data": {
      "text/html": [
       "<div>\n",
       "<style scoped>\n",
       "    .dataframe tbody tr th:only-of-type {\n",
       "        vertical-align: middle;\n",
       "    }\n",
       "\n",
       "    .dataframe tbody tr th {\n",
       "        vertical-align: top;\n",
       "    }\n",
       "\n",
       "    .dataframe thead th {\n",
       "        text-align: right;\n",
       "    }\n",
       "</style>\n",
       "<table border=\"1\" class=\"dataframe\">\n",
       "  <thead>\n",
       "    <tr style=\"text-align: right;\">\n",
       "      <th></th>\n",
       "      <th>Date</th>\n",
       "      <th>Albuquerque</th>\n",
       "      <th>Baltimore</th>\n",
       "      <th>Boston</th>\n",
       "      <th>Charlotte</th>\n",
       "      <th>Chicago</th>\n",
       "      <th>Dallas</th>\n",
       "      <th>Detroit</th>\n",
       "      <th>Las Vegas</th>\n",
       "      <th>Los Angeles</th>\n",
       "      <th>...</th>\n",
       "      <th>New York</th>\n",
       "      <th>Philadelphia</th>\n",
       "      <th>Phoenix</th>\n",
       "      <th>Portland</th>\n",
       "      <th>San Diego</th>\n",
       "      <th>San Francisco</th>\n",
       "      <th>San Juan</th>\n",
       "      <th>Seattle</th>\n",
       "      <th>St Louis</th>\n",
       "      <th>Tampa</th>\n",
       "    </tr>\n",
       "  </thead>\n",
       "  <tbody>\n",
       "    <tr>\n",
       "      <th>0</th>\n",
       "      <td>19610101</td>\n",
       "      <td>-0.55</td>\n",
       "      <td>3.35</td>\n",
       "      <td>1.95</td>\n",
       "      <td>7.25</td>\n",
       "      <td>-4.75</td>\n",
       "      <td>4.15</td>\n",
       "      <td>-3.10</td>\n",
       "      <td>3.90</td>\n",
       "      <td>11.10</td>\n",
       "      <td>...</td>\n",
       "      <td>5.00</td>\n",
       "      <td>4.20</td>\n",
       "      <td>8.60</td>\n",
       "      <td>3.65</td>\n",
       "      <td>12.25</td>\n",
       "      <td>8.05</td>\n",
       "      <td>24.45</td>\n",
       "      <td>3.10</td>\n",
       "      <td>-0.55</td>\n",
       "      <td>15.00</td>\n",
       "    </tr>\n",
       "    <tr>\n",
       "      <th>1</th>\n",
       "      <td>19610102</td>\n",
       "      <td>-2.50</td>\n",
       "      <td>0.00</td>\n",
       "      <td>-0.80</td>\n",
       "      <td>4.45</td>\n",
       "      <td>-2.50</td>\n",
       "      <td>3.90</td>\n",
       "      <td>-5.00</td>\n",
       "      <td>2.50</td>\n",
       "      <td>10.00</td>\n",
       "      <td>...</td>\n",
       "      <td>0.25</td>\n",
       "      <td>-1.95</td>\n",
       "      <td>8.60</td>\n",
       "      <td>0.25</td>\n",
       "      <td>11.95</td>\n",
       "      <td>5.85</td>\n",
       "      <td>25.00</td>\n",
       "      <td>0.55</td>\n",
       "      <td>-0.55</td>\n",
       "      <td>13.60</td>\n",
       "    </tr>\n",
       "    <tr>\n",
       "      <th>2</th>\n",
       "      <td>19610103</td>\n",
       "      <td>-2.50</td>\n",
       "      <td>0.85</td>\n",
       "      <td>-3.05</td>\n",
       "      <td>2.20</td>\n",
       "      <td>-10.80</td>\n",
       "      <td>3.65</td>\n",
       "      <td>-5.85</td>\n",
       "      <td>3.90</td>\n",
       "      <td>13.10</td>\n",
       "      <td>...</td>\n",
       "      <td>0.25</td>\n",
       "      <td>-1.10</td>\n",
       "      <td>10.30</td>\n",
       "      <td>-1.40</td>\n",
       "      <td>13.35</td>\n",
       "      <td>4.70</td>\n",
       "      <td>24.75</td>\n",
       "      <td>0.00</td>\n",
       "      <td>0.30</td>\n",
       "      <td>11.95</td>\n",
       "    </tr>\n",
       "    <tr>\n",
       "      <th>3</th>\n",
       "      <td>19610104</td>\n",
       "      <td>-1.35</td>\n",
       "      <td>-2.50</td>\n",
       "      <td>-3.65</td>\n",
       "      <td>2.75</td>\n",
       "      <td>-8.60</td>\n",
       "      <td>5.30</td>\n",
       "      <td>-9.45</td>\n",
       "      <td>3.05</td>\n",
       "      <td>13.90</td>\n",
       "      <td>...</td>\n",
       "      <td>-2.80</td>\n",
       "      <td>-3.35</td>\n",
       "      <td>10.55</td>\n",
       "      <td>0.55</td>\n",
       "      <td>13.90</td>\n",
       "      <td>4.45</td>\n",
       "      <td>24.75</td>\n",
       "      <td>4.45</td>\n",
       "      <td>4.70</td>\n",
       "      <td>8.90</td>\n",
       "    </tr>\n",
       "    <tr>\n",
       "      <th>4</th>\n",
       "      <td>19610105</td>\n",
       "      <td>-0.25</td>\n",
       "      <td>-1.40</td>\n",
       "      <td>-4.45</td>\n",
       "      <td>5.00</td>\n",
       "      <td>-3.65</td>\n",
       "      <td>11.65</td>\n",
       "      <td>-2.50</td>\n",
       "      <td>4.45</td>\n",
       "      <td>14.45</td>\n",
       "      <td>...</td>\n",
       "      <td>-2.75</td>\n",
       "      <td>-2.80</td>\n",
       "      <td>12.50</td>\n",
       "      <td>6.40</td>\n",
       "      <td>13.90</td>\n",
       "      <td>4.15</td>\n",
       "      <td>24.45</td>\n",
       "      <td>8.35</td>\n",
       "      <td>7.20</td>\n",
       "      <td>11.65</td>\n",
       "    </tr>\n",
       "    <tr>\n",
       "      <th>...</th>\n",
       "      <td>...</td>\n",
       "      <td>...</td>\n",
       "      <td>...</td>\n",
       "      <td>...</td>\n",
       "      <td>...</td>\n",
       "      <td>...</td>\n",
       "      <td>...</td>\n",
       "      <td>...</td>\n",
       "      <td>...</td>\n",
       "      <td>...</td>\n",
       "      <td>...</td>\n",
       "      <td>...</td>\n",
       "      <td>...</td>\n",
       "      <td>...</td>\n",
       "      <td>...</td>\n",
       "      <td>...</td>\n",
       "      <td>...</td>\n",
       "      <td>...</td>\n",
       "      <td>...</td>\n",
       "      <td>...</td>\n",
       "      <td>...</td>\n",
       "    </tr>\n",
       "    <tr>\n",
       "      <th>20083</th>\n",
       "      <td>20151227</td>\n",
       "      <td>-3.55</td>\n",
       "      <td>15.00</td>\n",
       "      <td>6.65</td>\n",
       "      <td>20.25</td>\n",
       "      <td>3.05</td>\n",
       "      <td>7.80</td>\n",
       "      <td>4.20</td>\n",
       "      <td>3.10</td>\n",
       "      <td>9.75</td>\n",
       "      <td>...</td>\n",
       "      <td>13.05</td>\n",
       "      <td>13.30</td>\n",
       "      <td>8.35</td>\n",
       "      <td>3.05</td>\n",
       "      <td>10.55</td>\n",
       "      <td>5.00</td>\n",
       "      <td>25.85</td>\n",
       "      <td>3.05</td>\n",
       "      <td>5.80</td>\n",
       "      <td>25.55</td>\n",
       "    </tr>\n",
       "    <tr>\n",
       "      <th>20084</th>\n",
       "      <td>20151228</td>\n",
       "      <td>-4.60</td>\n",
       "      <td>8.05</td>\n",
       "      <td>0.85</td>\n",
       "      <td>18.30</td>\n",
       "      <td>1.70</td>\n",
       "      <td>2.80</td>\n",
       "      <td>0.85</td>\n",
       "      <td>3.65</td>\n",
       "      <td>8.90</td>\n",
       "      <td>...</td>\n",
       "      <td>5.30</td>\n",
       "      <td>6.35</td>\n",
       "      <td>9.15</td>\n",
       "      <td>3.05</td>\n",
       "      <td>11.40</td>\n",
       "      <td>6.95</td>\n",
       "      <td>25.55</td>\n",
       "      <td>3.35</td>\n",
       "      <td>5.85</td>\n",
       "      <td>25.55</td>\n",
       "    </tr>\n",
       "    <tr>\n",
       "      <th>20085</th>\n",
       "      <td>20151229</td>\n",
       "      <td>-2.15</td>\n",
       "      <td>9.45</td>\n",
       "      <td>0.05</td>\n",
       "      <td>17.20</td>\n",
       "      <td>1.15</td>\n",
       "      <td>3.90</td>\n",
       "      <td>3.60</td>\n",
       "      <td>5.55</td>\n",
       "      <td>9.70</td>\n",
       "      <td>...</td>\n",
       "      <td>5.25</td>\n",
       "      <td>8.05</td>\n",
       "      <td>9.45</td>\n",
       "      <td>1.95</td>\n",
       "      <td>11.10</td>\n",
       "      <td>7.20</td>\n",
       "      <td>26.10</td>\n",
       "      <td>3.90</td>\n",
       "      <td>1.40</td>\n",
       "      <td>26.10</td>\n",
       "    </tr>\n",
       "    <tr>\n",
       "      <th>20086</th>\n",
       "      <td>20151230</td>\n",
       "      <td>-2.75</td>\n",
       "      <td>9.70</td>\n",
       "      <td>-0.50</td>\n",
       "      <td>18.05</td>\n",
       "      <td>-2.15</td>\n",
       "      <td>6.95</td>\n",
       "      <td>1.40</td>\n",
       "      <td>4.45</td>\n",
       "      <td>10.85</td>\n",
       "      <td>...</td>\n",
       "      <td>7.80</td>\n",
       "      <td>9.45</td>\n",
       "      <td>9.20</td>\n",
       "      <td>2.55</td>\n",
       "      <td>11.65</td>\n",
       "      <td>6.90</td>\n",
       "      <td>25.80</td>\n",
       "      <td>2.30</td>\n",
       "      <td>0.60</td>\n",
       "      <td>25.55</td>\n",
       "    </tr>\n",
       "    <tr>\n",
       "      <th>20087</th>\n",
       "      <td>20151231</td>\n",
       "      <td>-0.75</td>\n",
       "      <td>9.75</td>\n",
       "      <td>4.45</td>\n",
       "      <td>15.30</td>\n",
       "      <td>-3.80</td>\n",
       "      <td>6.15</td>\n",
       "      <td>0.85</td>\n",
       "      <td>4.45</td>\n",
       "      <td>13.05</td>\n",
       "      <td>...</td>\n",
       "      <td>8.60</td>\n",
       "      <td>8.35</td>\n",
       "      <td>9.20</td>\n",
       "      <td>2.25</td>\n",
       "      <td>12.75</td>\n",
       "      <td>7.25</td>\n",
       "      <td>25.55</td>\n",
       "      <td>1.75</td>\n",
       "      <td>-0.25</td>\n",
       "      <td>25.55</td>\n",
       "    </tr>\n",
       "  </tbody>\n",
       "</table>\n",
       "<p>20088 rows × 22 columns</p>\n",
       "</div>"
      ],
      "text/plain": [
       "           Date  Albuquerque  Baltimore  Boston  Charlotte  Chicago  Dallas  \\\n",
       "0      19610101        -0.55       3.35    1.95       7.25    -4.75    4.15   \n",
       "1      19610102        -2.50       0.00   -0.80       4.45    -2.50    3.90   \n",
       "2      19610103        -2.50       0.85   -3.05       2.20   -10.80    3.65   \n",
       "3      19610104        -1.35      -2.50   -3.65       2.75    -8.60    5.30   \n",
       "4      19610105        -0.25      -1.40   -4.45       5.00    -3.65   11.65   \n",
       "...         ...          ...        ...     ...        ...      ...     ...   \n",
       "20083  20151227        -3.55      15.00    6.65      20.25     3.05    7.80   \n",
       "20084  20151228        -4.60       8.05    0.85      18.30     1.70    2.80   \n",
       "20085  20151229        -2.15       9.45    0.05      17.20     1.15    3.90   \n",
       "20086  20151230        -2.75       9.70   -0.50      18.05    -2.15    6.95   \n",
       "20087  20151231        -0.75       9.75    4.45      15.30    -3.80    6.15   \n",
       "\n",
       "       Detroit  Las Vegas  Los Angeles  ...  New York  Philadelphia  Phoenix  \\\n",
       "0        -3.10       3.90        11.10  ...      5.00          4.20     8.60   \n",
       "1        -5.00       2.50        10.00  ...      0.25         -1.95     8.60   \n",
       "2        -5.85       3.90        13.10  ...      0.25         -1.10    10.30   \n",
       "3        -9.45       3.05        13.90  ...     -2.80         -3.35    10.55   \n",
       "4        -2.50       4.45        14.45  ...     -2.75         -2.80    12.50   \n",
       "...        ...        ...          ...  ...       ...           ...      ...   \n",
       "20083     4.20       3.10         9.75  ...     13.05         13.30     8.35   \n",
       "20084     0.85       3.65         8.90  ...      5.30          6.35     9.15   \n",
       "20085     3.60       5.55         9.70  ...      5.25          8.05     9.45   \n",
       "20086     1.40       4.45        10.85  ...      7.80          9.45     9.20   \n",
       "20087     0.85       4.45        13.05  ...      8.60          8.35     9.20   \n",
       "\n",
       "       Portland  San Diego  San Francisco  San Juan  Seattle  St Louis  Tampa  \n",
       "0          3.65      12.25           8.05     24.45     3.10     -0.55  15.00  \n",
       "1          0.25      11.95           5.85     25.00     0.55     -0.55  13.60  \n",
       "2         -1.40      13.35           4.70     24.75     0.00      0.30  11.95  \n",
       "3          0.55      13.90           4.45     24.75     4.45      4.70   8.90  \n",
       "4          6.40      13.90           4.15     24.45     8.35      7.20  11.65  \n",
       "...         ...        ...            ...       ...      ...       ...    ...  \n",
       "20083      3.05      10.55           5.00     25.85     3.05      5.80  25.55  \n",
       "20084      3.05      11.40           6.95     25.55     3.35      5.85  25.55  \n",
       "20085      1.95      11.10           7.20     26.10     3.90      1.40  26.10  \n",
       "20086      2.55      11.65           6.90     25.80     2.30      0.60  25.55  \n",
       "20087      2.25      12.75           7.25     25.55     1.75     -0.25  25.55  \n",
       "\n",
       "[20088 rows x 22 columns]"
      ]
     },
     "execution_count": 4,
     "metadata": {},
     "output_type": "execute_result"
    }
   ],
   "source": [
    "temperatures = pd.read_csv('./data/US_temperatures.csv')\n",
    "temperatures"
   ]
  },
  {
   "cell_type": "markdown",
   "metadata": {},
   "source": [
    "Together, a **row index** and a **column label** indicate a data **cell** (as in a spreadsheet).\n",
    "\n",
    "* cell(row index,column label)\n",
    "\n",
    "We discuss how to access individual cells and groups of cells in **Section 3** \n",
    "\n",
    "Typically, but not always, the cells in a column are all of the same type.\n",
    "\n",
    "In the DataFrame in Figure 23-1,\n",
    "\n",
    "* each of the cells in the **Round,Winner, and Loser** columns is of type **str**.\n",
    "\n",
    "* The cells in the **WGoals and LGoals** columns are of type **numpy.int64** . You won’t have a problem if you think of them as Python's ints\n",
    "\n",
    "We can directly access the **three** components of a DataFrame using the attributes \n",
    "\n",
    "* <font color=\"blue\">index</font> \n",
    " \n",
    "* <font color=\"blue\">columns </font> \n",
    "\n",
    "* <font color=\"blue\">values</font> "
   ]
  },
  {
   "cell_type": "markdown",
   "metadata": {},
   "source": [
    "### 1 index\n",
    "\n",
    "The **index** attribute is of type **RangeIndex**. \n",
    "\n",
    "For example,"
   ]
  },
  {
   "cell_type": "code",
   "execution_count": 5,
   "metadata": {},
   "outputs": [
    {
     "name": "stdout",
     "output_type": "stream",
     "text": [
      "<class 'pandas.core.indexes.range.RangeIndex'>\n"
     ]
    },
    {
     "data": {
      "text/plain": [
       "RangeIndex(start=0, stop=8, step=1)"
      ]
     },
     "execution_count": 5,
     "metadata": {},
     "output_type": "execute_result"
    }
   ],
   "source": [
    "print(type(wwc.index))\n",
    "wwc.index  "
   ]
  },
  {
   "cell_type": "markdown",
   "metadata": {},
   "source": [
    "the value of `wwc.index` is `RangeIndex(start=0, stop=8, step=1)`"
   ]
  },
  {
   "cell_type": "markdown",
   "metadata": {},
   "source": [
    "Therefore, the code will `print` the `integers 0-7` in ascending order"
   ]
  },
  {
   "cell_type": "code",
   "execution_count": 9,
   "metadata": {},
   "outputs": [
    {
     "name": "stdout",
     "output_type": "stream",
     "text": [
      "0\n",
      "1\n",
      "2\n",
      "3\n",
      "4\n",
      "5\n",
      "6\n",
      "7\n"
     ]
    }
   ],
   "source": [
    "for i in wwc.index: \n",
    "    print(i) "
   ]
  },
  {
   "cell_type": "markdown",
   "metadata": {},
   "source": [
    "### 2 columns\n",
    "\n",
    "The **columns** attribute is of type **Index**\n",
    "\n",
    "For example, "
   ]
  },
  {
   "cell_type": "code",
   "execution_count": 6,
   "metadata": {},
   "outputs": [
    {
     "name": "stdout",
     "output_type": "stream",
     "text": [
      "<class 'pandas.core.indexes.base.Index'>\n"
     ]
    },
    {
     "data": {
      "text/plain": [
       "Index(['Round', 'Winner', 'W Goals', 'Loser', 'L Goals'], dtype='object')"
      ]
     },
     "execution_count": 6,
     "metadata": {},
     "output_type": "execute_result"
    }
   ],
   "source": [
    "print(type(wwc.columns))\n",
    "wwc.columns"
   ]
  },
  {
   "cell_type": "markdown",
   "metadata": {},
   "source": [
    "the value `wwc.columns` is `Index(['Round', 'Winner', 'W Goals', 'Loser', 'L Goals'], dtype= \n",
    "'object')`\n",
    "\n"
   ]
  },
  {
   "cell_type": "code",
   "execution_count": 7,
   "metadata": {},
   "outputs": [
    {
     "name": "stdout",
     "output_type": "stream",
     "text": [
      "Round\n",
      "Winner\n",
      "W Goals\n",
      "Loser\n",
      "L Goals\n"
     ]
    }
   ],
   "source": [
    "for c in wwc.columns: \n",
    "    print(c) "
   ]
  },
  {
   "cell_type": "markdown",
   "metadata": {},
   "source": [
    "### 3 values\n",
    "\n",
    "The `values` attribute is of type `numpy.ndarray`. \n"
   ]
  },
  {
   "cell_type": "code",
   "execution_count": 8,
   "metadata": {},
   "outputs": [
    {
     "name": "stdout",
     "output_type": "stream",
     "text": [
      "<class 'numpy.ndarray'>\n"
     ]
    }
   ],
   "source": [
    "print(type(wwc.values))"
   ]
  },
  {
   "cell_type": "markdown",
   "metadata": {},
   "source": [
    "**numpy.ndarrays** can be **multidi**-mensional. \n",
    "\n",
    "The **number** of `dimensions and items` in an `ndarray` is called its `shape` and is represented by a `tuple` of non-negative integers that specify the size of each dimension. \n",
    "\n",
    "```python\n",
    "(rows,columns)\n",
    "```\n"
   ]
  },
  {
   "cell_type": "code",
   "execution_count": 9,
   "metadata": {},
   "outputs": [
    {
     "name": "stdout",
     "output_type": "stream",
     "text": [
      "(8, 5)\n"
     ]
    }
   ],
   "source": [
    "print(wwc.values.shape)"
   ]
  },
  {
   "cell_type": "markdown",
   "metadata": {},
   "source": [
    "The value of `wwc.values` is the `two-dimensional` ndarray\n",
    "\n",
    "* It has **eight** rows and **five** columns, its **shape** is (8, 5) \n",
    "."
   ]
  },
  {
   "cell_type": "code",
   "execution_count": 10,
   "metadata": {},
   "outputs": [
    {
     "name": "stdout",
     "output_type": "stream",
     "text": [
      "['Quarters' 'England' 3 'Norway' 0]\n",
      "['Quarters' 'USA' 2 'France' 1]\n",
      "['Quarters' 'Netherlands' 2 'Italy' 0]\n",
      "['Quarters' 'Sweden' 2 'Germany' 1]\n",
      "['Semis' 'USA' 2 'England' 1]\n",
      "['Semis' 'Netherlands' 1 'Sweden' 0]\n",
      "['3rd Place' 'Sweden' 2 'England' 1]\n",
      "['Championship' 'USA' 2 'Netherlands' 0]\n"
     ]
    }
   ],
   "source": [
    "for v in wwc.values: \n",
    "    print(v) "
   ]
  },
  {
   "cell_type": "markdown",
   "metadata": {},
   "source": [
    "## 2 Creating Series and DataFrames \n",
    "\n",
    "### 1 Creating Series and DataFrames \n",
    "\n",
    "In practice, Pandas’ **DataFrames** are typically created by loading a dataset that has been stored as either an `SQL database`, a `CSV file`, or in a format associated with a `spreadsheet application`. \n",
    "\n",
    "However, it is sometimes useful to **construct** series and DataFrames using Python code. "
   ]
  },
  {
   "cell_type": "markdown",
   "metadata": {},
   "source": [
    "The expression `pd.DataFrame()` \n",
    "produces an empty DataFrame, and the statement `print(pd.DataFrame())` produces the output "
   ]
  },
  {
   "cell_type": "code",
   "execution_count": 11,
   "metadata": {},
   "outputs": [
    {
     "name": "stdout",
     "output_type": "stream",
     "text": [
      "Empty DataFrame\n",
      "Columns: []\n",
      "Index: []\n"
     ]
    }
   ],
   "source": [
    "df1=pd.DataFrame() \n",
    "print(df1) "
   ]
  },
  {
   "cell_type": "markdown",
   "metadata": {},
   "source": [
    "A simple way to create a **non-empty** DataFrame is to pass in a **list** \n",
    "\n",
    "For example,  "
   ]
  },
  {
   "cell_type": "code",
   "execution_count": 12,
   "metadata": {},
   "outputs": [
    {
     "data": {
      "text/html": [
       "<div>\n",
       "<style scoped>\n",
       "    .dataframe tbody tr th:only-of-type {\n",
       "        vertical-align: middle;\n",
       "    }\n",
       "\n",
       "    .dataframe tbody tr th {\n",
       "        vertical-align: top;\n",
       "    }\n",
       "\n",
       "    .dataframe thead th {\n",
       "        text-align: right;\n",
       "    }\n",
       "</style>\n",
       "<table border=\"1\" class=\"dataframe\">\n",
       "  <thead>\n",
       "    <tr style=\"text-align: right;\">\n",
       "      <th></th>\n",
       "      <th>0</th>\n",
       "    </tr>\n",
       "  </thead>\n",
       "  <tbody>\n",
       "    <tr>\n",
       "      <th>0</th>\n",
       "      <td>Semis</td>\n",
       "    </tr>\n",
       "    <tr>\n",
       "      <th>1</th>\n",
       "      <td>Semis</td>\n",
       "    </tr>\n",
       "    <tr>\n",
       "      <th>2</th>\n",
       "      <td>3rd Place</td>\n",
       "    </tr>\n",
       "    <tr>\n",
       "      <th>3</th>\n",
       "      <td>Championship</td>\n",
       "    </tr>\n",
       "  </tbody>\n",
       "</table>\n",
       "</div>"
      ],
      "text/plain": [
       "              0\n",
       "0         Semis\n",
       "1         Semis\n",
       "2     3rd Place\n",
       "3  Championship"
      ]
     },
     "execution_count": 12,
     "metadata": {},
     "output_type": "execute_result"
    }
   ],
   "source": [
    "rounds = ['Semis', 'Semis', '3rd Place', 'Championship'] \n",
    "df=pd.DataFrame(rounds)\n",
    "df "
   ]
  },
  {
   "cell_type": "markdown",
   "metadata": {},
   "source": [
    "Notice that Pandas has automatically generated a **label**, albeit `not` a particularly `descriptive` one, for the DataFrame’s only column. \n",
    "\n",
    "To get a **more descriptive label**, we can pass in a **dictionary** `{'Round': rounds}` rather than a list. \n",
    "\n",
    "For example, "
   ]
  },
  {
   "cell_type": "code",
   "execution_count": 13,
   "metadata": {},
   "outputs": [
    {
     "data": {
      "text/html": [
       "<div>\n",
       "<style scoped>\n",
       "    .dataframe tbody tr th:only-of-type {\n",
       "        vertical-align: middle;\n",
       "    }\n",
       "\n",
       "    .dataframe tbody tr th {\n",
       "        vertical-align: top;\n",
       "    }\n",
       "\n",
       "    .dataframe thead th {\n",
       "        text-align: right;\n",
       "    }\n",
       "</style>\n",
       "<table border=\"1\" class=\"dataframe\">\n",
       "  <thead>\n",
       "    <tr style=\"text-align: right;\">\n",
       "      <th></th>\n",
       "      <th>Round</th>\n",
       "    </tr>\n",
       "  </thead>\n",
       "  <tbody>\n",
       "    <tr>\n",
       "      <th>0</th>\n",
       "      <td>Semis</td>\n",
       "    </tr>\n",
       "    <tr>\n",
       "      <th>1</th>\n",
       "      <td>Semis</td>\n",
       "    </tr>\n",
       "    <tr>\n",
       "      <th>2</th>\n",
       "      <td>3rd Place</td>\n",
       "    </tr>\n",
       "    <tr>\n",
       "      <th>3</th>\n",
       "      <td>Championship</td>\n",
       "    </tr>\n",
       "  </tbody>\n",
       "</table>\n",
       "</div>"
      ],
      "text/plain": [
       "          Round\n",
       "0         Semis\n",
       "1         Semis\n",
       "2     3rd Place\n",
       "3  Championship"
      ]
     },
     "execution_count": 13,
     "metadata": {},
     "output_type": "execute_result"
    }
   ],
   "source": [
    "pd.DataFrame({'Round': rounds}) "
   ]
  },
  {
   "cell_type": "markdown",
   "metadata": {},
   "source": [
    "To directly create a DataFrame with **multiple** columns, we need only pass in a dictionary with **multiple** entries, each consisting of a column `label` as a `key` and a `list` as the `value` associated with each key.\n",
    "\n",
    "```python\n",
    "{'Round': rounds, 'Winner': teams}\n",
    "```\n",
    "Each of these lists must be of the same length.\n",
    "\n",
    "For example, "
   ]
  },
  {
   "cell_type": "code",
   "execution_count": 14,
   "metadata": {},
   "outputs": [
    {
     "data": {
      "text/html": [
       "<div>\n",
       "<style scoped>\n",
       "    .dataframe tbody tr th:only-of-type {\n",
       "        vertical-align: middle;\n",
       "    }\n",
       "\n",
       "    .dataframe tbody tr th {\n",
       "        vertical-align: top;\n",
       "    }\n",
       "\n",
       "    .dataframe thead th {\n",
       "        text-align: right;\n",
       "    }\n",
       "</style>\n",
       "<table border=\"1\" class=\"dataframe\">\n",
       "  <thead>\n",
       "    <tr style=\"text-align: right;\">\n",
       "      <th></th>\n",
       "      <th>Round</th>\n",
       "      <th>Winner</th>\n",
       "    </tr>\n",
       "  </thead>\n",
       "  <tbody>\n",
       "    <tr>\n",
       "      <th>0</th>\n",
       "      <td>Semis</td>\n",
       "      <td>USA</td>\n",
       "    </tr>\n",
       "    <tr>\n",
       "      <th>1</th>\n",
       "      <td>Semis</td>\n",
       "      <td>Netherlands</td>\n",
       "    </tr>\n",
       "    <tr>\n",
       "      <th>2</th>\n",
       "      <td>3rd Place</td>\n",
       "      <td>Sweden</td>\n",
       "    </tr>\n",
       "    <tr>\n",
       "      <th>3</th>\n",
       "      <td>Championship</td>\n",
       "      <td>USA</td>\n",
       "    </tr>\n",
       "  </tbody>\n",
       "</table>\n",
       "</div>"
      ],
      "text/plain": [
       "          Round       Winner\n",
       "0         Semis          USA\n",
       "1         Semis  Netherlands\n",
       "2     3rd Place       Sweden\n",
       "3  Championship          USA"
      ]
     },
     "execution_count": 14,
     "metadata": {},
     "output_type": "execute_result"
    }
   ],
   "source": [
    "rounds = ['Semis', 'Semis', '3rd Place', 'Championship'] \n",
    "teams = ['USA', 'Netherlands', 'Sweden', 'USA'] \n",
    "df = pd.DataFrame({'Round': rounds, 'Winner': teams}) \n",
    "df"
   ]
  },
  {
   "cell_type": "markdown",
   "metadata": {},
   "source": [
    "###  2 add columns\n",
    "\n",
    "Once a DataFrame has been created, it is easy to **add** columns.\n",
    "\n",
    "For example, \n",
    "```python\n",
    "df['W Goals'] = [2, 1, 0, 0] \n",
    "```\n",
    "\n",
    "mutates `df` so that its value becomes"
   ]
  },
  {
   "cell_type": "code",
   "execution_count": 15,
   "metadata": {},
   "outputs": [
    {
     "data": {
      "text/html": [
       "<div>\n",
       "<style scoped>\n",
       "    .dataframe tbody tr th:only-of-type {\n",
       "        vertical-align: middle;\n",
       "    }\n",
       "\n",
       "    .dataframe tbody tr th {\n",
       "        vertical-align: top;\n",
       "    }\n",
       "\n",
       "    .dataframe thead th {\n",
       "        text-align: right;\n",
       "    }\n",
       "</style>\n",
       "<table border=\"1\" class=\"dataframe\">\n",
       "  <thead>\n",
       "    <tr style=\"text-align: right;\">\n",
       "      <th></th>\n",
       "      <th>Round</th>\n",
       "      <th>Winner</th>\n",
       "      <th>W Goals</th>\n",
       "    </tr>\n",
       "  </thead>\n",
       "  <tbody>\n",
       "    <tr>\n",
       "      <th>0</th>\n",
       "      <td>Semis</td>\n",
       "      <td>USA</td>\n",
       "      <td>2</td>\n",
       "    </tr>\n",
       "    <tr>\n",
       "      <th>1</th>\n",
       "      <td>Semis</td>\n",
       "      <td>Netherlands</td>\n",
       "      <td>1</td>\n",
       "    </tr>\n",
       "    <tr>\n",
       "      <th>2</th>\n",
       "      <td>3rd Place</td>\n",
       "      <td>Sweden</td>\n",
       "      <td>0</td>\n",
       "    </tr>\n",
       "    <tr>\n",
       "      <th>3</th>\n",
       "      <td>Championship</td>\n",
       "      <td>USA</td>\n",
       "      <td>0</td>\n",
       "    </tr>\n",
       "  </tbody>\n",
       "</table>\n",
       "</div>"
      ],
      "text/plain": [
       "          Round       Winner  W Goals\n",
       "0         Semis          USA        2\n",
       "1         Semis  Netherlands        1\n",
       "2     3rd Place       Sweden        0\n",
       "3  Championship          USA        0"
      ]
     },
     "execution_count": 15,
     "metadata": {},
     "output_type": "execute_result"
    }
   ],
   "source": [
    "df['W Goals'] = [2, 1, 0, 0] \n",
    "df"
   ]
  },
  {
   "cell_type": "markdown",
   "metadata": {},
   "source": [
    "Just as the `values` associated with a `key` in dictionary can be replaced, the `values` associated with a `column` can be replaced.\n",
    "\n",
    "For example, after executing the statement \n",
    "```python\n",
    "df['W Goals'] = [2, 1, 2, 2]\n",
    "```\n",
    " the value of `df` becomes "
   ]
  },
  {
   "cell_type": "code",
   "execution_count": 16,
   "metadata": {},
   "outputs": [
    {
     "data": {
      "text/html": [
       "<div>\n",
       "<style scoped>\n",
       "    .dataframe tbody tr th:only-of-type {\n",
       "        vertical-align: middle;\n",
       "    }\n",
       "\n",
       "    .dataframe tbody tr th {\n",
       "        vertical-align: top;\n",
       "    }\n",
       "\n",
       "    .dataframe thead th {\n",
       "        text-align: right;\n",
       "    }\n",
       "</style>\n",
       "<table border=\"1\" class=\"dataframe\">\n",
       "  <thead>\n",
       "    <tr style=\"text-align: right;\">\n",
       "      <th></th>\n",
       "      <th>Round</th>\n",
       "      <th>Winner</th>\n",
       "      <th>W Goals</th>\n",
       "    </tr>\n",
       "  </thead>\n",
       "  <tbody>\n",
       "    <tr>\n",
       "      <th>0</th>\n",
       "      <td>Semis</td>\n",
       "      <td>USA</td>\n",
       "      <td>2</td>\n",
       "    </tr>\n",
       "    <tr>\n",
       "      <th>1</th>\n",
       "      <td>Semis</td>\n",
       "      <td>Netherlands</td>\n",
       "      <td>1</td>\n",
       "    </tr>\n",
       "    <tr>\n",
       "      <th>2</th>\n",
       "      <td>3rd Place</td>\n",
       "      <td>Sweden</td>\n",
       "      <td>2</td>\n",
       "    </tr>\n",
       "    <tr>\n",
       "      <th>3</th>\n",
       "      <td>Championship</td>\n",
       "      <td>USA</td>\n",
       "      <td>2</td>\n",
       "    </tr>\n",
       "  </tbody>\n",
       "</table>\n",
       "</div>"
      ],
      "text/plain": [
       "          Round       Winner  W Goals\n",
       "0         Semis          USA        2\n",
       "1         Semis  Netherlands        1\n",
       "2     3rd Place       Sweden        2\n",
       "3  Championship          USA        2"
      ]
     },
     "execution_count": 16,
     "metadata": {},
     "output_type": "execute_result"
    }
   ],
   "source": [
    "df['W Goals'] = [2, 1, 2,2] \n",
    "df"
   ]
  },
  {
   "cell_type": "markdown",
   "metadata": {},
   "source": [
    "### 3 drop columns\n",
    "\n",
    "It is also easy to **drop** columns from a DataFrame. The function call \n",
    "\n",
    "```python\n",
    "df.drop('Winner', axis = 'columns')\n",
    "``` \n",
    "\n",
    "**Drop** in this way produces the **new** the DataFrame，leaves `df` **unchanged**. \n"
   ]
  },
  {
   "cell_type": "code",
   "execution_count": 17,
   "metadata": {},
   "outputs": [
    {
     "data": {
      "text/html": [
       "<div>\n",
       "<style scoped>\n",
       "    .dataframe tbody tr th:only-of-type {\n",
       "        vertical-align: middle;\n",
       "    }\n",
       "\n",
       "    .dataframe tbody tr th {\n",
       "        vertical-align: top;\n",
       "    }\n",
       "\n",
       "    .dataframe thead th {\n",
       "        text-align: right;\n",
       "    }\n",
       "</style>\n",
       "<table border=\"1\" class=\"dataframe\">\n",
       "  <thead>\n",
       "    <tr style=\"text-align: right;\">\n",
       "      <th></th>\n",
       "      <th>Round</th>\n",
       "      <th>W Goals</th>\n",
       "    </tr>\n",
       "  </thead>\n",
       "  <tbody>\n",
       "    <tr>\n",
       "      <th>0</th>\n",
       "      <td>Semis</td>\n",
       "      <td>2</td>\n",
       "    </tr>\n",
       "    <tr>\n",
       "      <th>1</th>\n",
       "      <td>Semis</td>\n",
       "      <td>1</td>\n",
       "    </tr>\n",
       "    <tr>\n",
       "      <th>2</th>\n",
       "      <td>3rd Place</td>\n",
       "      <td>2</td>\n",
       "    </tr>\n",
       "    <tr>\n",
       "      <th>3</th>\n",
       "      <td>Championship</td>\n",
       "      <td>2</td>\n",
       "    </tr>\n",
       "  </tbody>\n",
       "</table>\n",
       "</div>"
      ],
      "text/plain": [
       "          Round  W Goals\n",
       "0         Semis        2\n",
       "1         Semis        1\n",
       "2     3rd Place        2\n",
       "3  Championship        2"
      ]
     },
     "execution_count": 17,
     "metadata": {},
     "output_type": "execute_result"
    }
   ],
   "source": [
    "new_df=df.drop('Winner', axis = 'columns')\n",
    "new_df"
   ]
  },
  {
   "cell_type": "code",
   "execution_count": 81,
   "metadata": {},
   "outputs": [
    {
     "data": {
      "text/html": [
       "<div>\n",
       "<style scoped>\n",
       "    .dataframe tbody tr th:only-of-type {\n",
       "        vertical-align: middle;\n",
       "    }\n",
       "\n",
       "    .dataframe tbody tr th {\n",
       "        vertical-align: top;\n",
       "    }\n",
       "\n",
       "    .dataframe thead th {\n",
       "        text-align: right;\n",
       "    }\n",
       "</style>\n",
       "<table border=\"1\" class=\"dataframe\">\n",
       "  <thead>\n",
       "    <tr style=\"text-align: right;\">\n",
       "      <th></th>\n",
       "      <th>Round</th>\n",
       "      <th>Winner</th>\n",
       "      <th>W Goals</th>\n",
       "    </tr>\n",
       "  </thead>\n",
       "  <tbody>\n",
       "    <tr>\n",
       "      <th>0</th>\n",
       "      <td>Semis</td>\n",
       "      <td>USA</td>\n",
       "      <td>2</td>\n",
       "    </tr>\n",
       "    <tr>\n",
       "      <th>1</th>\n",
       "      <td>Semis</td>\n",
       "      <td>Netherlands</td>\n",
       "      <td>1</td>\n",
       "    </tr>\n",
       "    <tr>\n",
       "      <th>2</th>\n",
       "      <td>3rd Place</td>\n",
       "      <td>Sweden</td>\n",
       "      <td>2</td>\n",
       "    </tr>\n",
       "    <tr>\n",
       "      <th>3</th>\n",
       "      <td>Championship</td>\n",
       "      <td>USA</td>\n",
       "      <td>2</td>\n",
       "    </tr>\n",
       "  </tbody>\n",
       "</table>\n",
       "</div>"
      ],
      "text/plain": [
       "          Round       Winner  W Goals\n",
       "0         Semis          USA        2\n",
       "1         Semis  Netherlands        1\n",
       "2     3rd Place       Sweden        2\n",
       "3  Championship          USA        2"
      ]
     },
     "execution_count": 81,
     "metadata": {},
     "output_type": "execute_result"
    }
   ],
   "source": [
    "df"
   ]
  },
  {
   "cell_type": "markdown",
   "metadata": {},
   "source": [
    "\n",
    "\n",
    "If we had not included `axis = 'columns'`(or equivalently `axis = 1`) in the call to `drop` ,\n",
    "\n",
    "the axis would have `defaulted` to **rows** (equivalent to `axis = 0`), which would have led to generating the exception `KeyError:`\n",
    "\n",
    "```\n",
    "\"['Winner'] not found in axis.\" \n",
    "```"
   ]
  },
  {
   "cell_type": "markdown",
   "metadata": {},
   "source": [
    "### 4 inplace \n",
    "\n",
    "If a DataFrame is large, using drop in this way is inefficient, since it requires **copying the DataFrame.\n",
    "\n",
    "The copy can be avoided by setting the `inplace` keyword argument to `drop` to `True` \n",
    "\n",
    "The call \n",
    "\n",
    "```python\n",
    "df.drop('Winner', axis = 'columns', inplace = True)\n",
    "```\n",
    "**mutates** `df` and returns `None` \n"
   ]
  },
  {
   "cell_type": "markdown",
   "metadata": {},
   "source": [
    "### 5 add Rows\n",
    "\n",
    "\n",
    "Rows can be added to the beginning or end of a DataFrame using the DataFrame constructor to create a new DataFrame, \n",
    "\n",
    "and then using the **concat** function to combine the new DataFrame with an existing DataFrame.\n",
    "\n",
    "For example, the code add `rows of quarters` at the the beginning  of `df`\n",
    "\n",
    "```Python\n",
    "pd.concat([pd.DataFrame(quarters_dict), df], sort = False) \n",
    "```\n",
    "the code \n",
    "```python\n",
    "quarters_dict = {'Round': ['Quarters']*4, \n",
    "                  'Winner': ['England', 'USA', 'Netherlands', 'Sweden'], \n",
    "                  'W Goals': [3, 2, 2, 2]} \n",
    "\n",
    "df = pd.concat([pd.DataFrame(quarters_dict), df], sort = False) \n",
    "df\n",
    "```"
   ]
  },
  {
   "cell_type": "markdown",
   "metadata": {},
   "source": [
    "If the keyword argument `sort` set to `True`, `concat` would have also changed the **order of the columns** based upon the `lexographic` ordering of their labels. \n",
    "\n"
   ]
  },
  {
   "cell_type": "code",
   "execution_count": 18,
   "metadata": {},
   "outputs": [
    {
     "data": {
      "text/html": [
       "<div>\n",
       "<style scoped>\n",
       "    .dataframe tbody tr th:only-of-type {\n",
       "        vertical-align: middle;\n",
       "    }\n",
       "\n",
       "    .dataframe tbody tr th {\n",
       "        vertical-align: top;\n",
       "    }\n",
       "\n",
       "    .dataframe thead th {\n",
       "        text-align: right;\n",
       "    }\n",
       "</style>\n",
       "<table border=\"1\" class=\"dataframe\">\n",
       "  <thead>\n",
       "    <tr style=\"text-align: right;\">\n",
       "      <th></th>\n",
       "      <th>Round</th>\n",
       "      <th>W Goals</th>\n",
       "      <th>Winner</th>\n",
       "    </tr>\n",
       "  </thead>\n",
       "  <tbody>\n",
       "    <tr>\n",
       "      <th>0</th>\n",
       "      <td>Quarters</td>\n",
       "      <td>3</td>\n",
       "      <td>England</td>\n",
       "    </tr>\n",
       "    <tr>\n",
       "      <th>1</th>\n",
       "      <td>Quarters</td>\n",
       "      <td>2</td>\n",
       "      <td>USA</td>\n",
       "    </tr>\n",
       "    <tr>\n",
       "      <th>2</th>\n",
       "      <td>Quarters</td>\n",
       "      <td>2</td>\n",
       "      <td>Netherlands</td>\n",
       "    </tr>\n",
       "    <tr>\n",
       "      <th>3</th>\n",
       "      <td>Quarters</td>\n",
       "      <td>2</td>\n",
       "      <td>Sweden</td>\n",
       "    </tr>\n",
       "    <tr>\n",
       "      <th>0</th>\n",
       "      <td>Semis</td>\n",
       "      <td>2</td>\n",
       "      <td>USA</td>\n",
       "    </tr>\n",
       "    <tr>\n",
       "      <th>1</th>\n",
       "      <td>Semis</td>\n",
       "      <td>1</td>\n",
       "      <td>Netherlands</td>\n",
       "    </tr>\n",
       "    <tr>\n",
       "      <th>2</th>\n",
       "      <td>3rd Place</td>\n",
       "      <td>2</td>\n",
       "      <td>Sweden</td>\n",
       "    </tr>\n",
       "    <tr>\n",
       "      <th>3</th>\n",
       "      <td>Championship</td>\n",
       "      <td>2</td>\n",
       "      <td>USA</td>\n",
       "    </tr>\n",
       "  </tbody>\n",
       "</table>\n",
       "</div>"
      ],
      "text/plain": [
       "          Round  W Goals       Winner\n",
       "0      Quarters        3      England\n",
       "1      Quarters        2          USA\n",
       "2      Quarters        2  Netherlands\n",
       "3      Quarters        2       Sweden\n",
       "0         Semis        2          USA\n",
       "1         Semis        1  Netherlands\n",
       "2     3rd Place        2       Sweden\n",
       "3  Championship        2          USA"
      ]
     },
     "execution_count": 18,
     "metadata": {},
     "output_type": "execute_result"
    }
   ],
   "source": [
    "quarters_dict = {'Round': ['Quarters']*4, \n",
    "                  'Winner': ['England', 'USA', 'Netherlands', 'Sweden'], \n",
    "                  'W Goals': [3, 2, 2, 2]} \n",
    "\n",
    "df = pd.concat([pd.DataFrame(quarters_dict), df], sort = True) \n",
    "df"
   ]
  },
  {
   "cell_type": "markdown",
   "metadata": {},
   "source": [
    "That is \n",
    "\n",
    "```python\n",
    "pd.concat([pd.DataFrame(quarters_dict), df], sort = True)\n",
    "```\n",
    "swaps the position of the **last two columns** and returns the DataFrame \n",
    "\n",
    "```\n",
    "Round  Winner\tW Goals -> Round  W Goals\tWinner\n",
    "```\n",
    "If no value for sort is provided, it defaults to `False` ."
   ]
  },
  {
   "cell_type": "markdown",
   "metadata": {},
   "source": [
    "### 6 reset_index \n",
    "\n",
    "Notice that the **indices** of each of the `concatenated` DataFrames are **unchanged**. Consequently, there are **multiple** rows with the `same` **index**. \n",
    "\n",
    "![df_concat_sort](./img/df_concat_sort.jpg)\n",
    "\n",
    "\n",
    "\n",
    "The indices can be `reset` using the `reset_index` method. \n",
    "\n",
    "For example, the expression \n",
    "```python\n",
    "df.reset_index(drop = True) \n",
    "```\n",
    "evaluates to "
   ]
  },
  {
   "cell_type": "code",
   "execution_count": 19,
   "metadata": {},
   "outputs": [
    {
     "data": {
      "text/html": [
       "<div>\n",
       "<style scoped>\n",
       "    .dataframe tbody tr th:only-of-type {\n",
       "        vertical-align: middle;\n",
       "    }\n",
       "\n",
       "    .dataframe tbody tr th {\n",
       "        vertical-align: top;\n",
       "    }\n",
       "\n",
       "    .dataframe thead th {\n",
       "        text-align: right;\n",
       "    }\n",
       "</style>\n",
       "<table border=\"1\" class=\"dataframe\">\n",
       "  <thead>\n",
       "    <tr style=\"text-align: right;\">\n",
       "      <th></th>\n",
       "      <th>Round</th>\n",
       "      <th>W Goals</th>\n",
       "      <th>Winner</th>\n",
       "    </tr>\n",
       "  </thead>\n",
       "  <tbody>\n",
       "    <tr>\n",
       "      <th>0</th>\n",
       "      <td>Quarters</td>\n",
       "      <td>3</td>\n",
       "      <td>England</td>\n",
       "    </tr>\n",
       "    <tr>\n",
       "      <th>1</th>\n",
       "      <td>Quarters</td>\n",
       "      <td>2</td>\n",
       "      <td>USA</td>\n",
       "    </tr>\n",
       "    <tr>\n",
       "      <th>2</th>\n",
       "      <td>Quarters</td>\n",
       "      <td>2</td>\n",
       "      <td>Netherlands</td>\n",
       "    </tr>\n",
       "    <tr>\n",
       "      <th>3</th>\n",
       "      <td>Quarters</td>\n",
       "      <td>2</td>\n",
       "      <td>Sweden</td>\n",
       "    </tr>\n",
       "    <tr>\n",
       "      <th>4</th>\n",
       "      <td>Semis</td>\n",
       "      <td>2</td>\n",
       "      <td>USA</td>\n",
       "    </tr>\n",
       "    <tr>\n",
       "      <th>5</th>\n",
       "      <td>Semis</td>\n",
       "      <td>1</td>\n",
       "      <td>Netherlands</td>\n",
       "    </tr>\n",
       "    <tr>\n",
       "      <th>6</th>\n",
       "      <td>3rd Place</td>\n",
       "      <td>2</td>\n",
       "      <td>Sweden</td>\n",
       "    </tr>\n",
       "    <tr>\n",
       "      <th>7</th>\n",
       "      <td>Championship</td>\n",
       "      <td>2</td>\n",
       "      <td>USA</td>\n",
       "    </tr>\n",
       "  </tbody>\n",
       "</table>\n",
       "</div>"
      ],
      "text/plain": [
       "          Round  W Goals       Winner\n",
       "0      Quarters        3      England\n",
       "1      Quarters        2          USA\n",
       "2      Quarters        2  Netherlands\n",
       "3      Quarters        2       Sweden\n",
       "4         Semis        2          USA\n",
       "5         Semis        1  Netherlands\n",
       "6     3rd Place        2       Sweden\n",
       "7  Championship        2          USA"
      ]
     },
     "execution_count": 19,
     "metadata": {},
     "output_type": "execute_result"
    }
   ],
   "source": [
    "df1=df.reset_index(drop = True) \n",
    "df1"
   ]
  },
  {
   "cell_type": "markdown",
   "metadata": {},
   "source": [
    "If `reset_index` is invoked with `drop = False`, a `new column` containing the **old indices** is added to the DataFrame. \n",
    "\n",
    "The column is **labeled index**."
   ]
  },
  {
   "cell_type": "code",
   "execution_count": 20,
   "metadata": {},
   "outputs": [
    {
     "data": {
      "text/html": [
       "<div>\n",
       "<style scoped>\n",
       "    .dataframe tbody tr th:only-of-type {\n",
       "        vertical-align: middle;\n",
       "    }\n",
       "\n",
       "    .dataframe tbody tr th {\n",
       "        vertical-align: top;\n",
       "    }\n",
       "\n",
       "    .dataframe thead th {\n",
       "        text-align: right;\n",
       "    }\n",
       "</style>\n",
       "<table border=\"1\" class=\"dataframe\">\n",
       "  <thead>\n",
       "    <tr style=\"text-align: right;\">\n",
       "      <th></th>\n",
       "      <th>index</th>\n",
       "      <th>Round</th>\n",
       "      <th>W Goals</th>\n",
       "      <th>Winner</th>\n",
       "    </tr>\n",
       "  </thead>\n",
       "  <tbody>\n",
       "    <tr>\n",
       "      <th>0</th>\n",
       "      <td>0</td>\n",
       "      <td>Quarters</td>\n",
       "      <td>3</td>\n",
       "      <td>England</td>\n",
       "    </tr>\n",
       "    <tr>\n",
       "      <th>1</th>\n",
       "      <td>1</td>\n",
       "      <td>Quarters</td>\n",
       "      <td>2</td>\n",
       "      <td>USA</td>\n",
       "    </tr>\n",
       "    <tr>\n",
       "      <th>2</th>\n",
       "      <td>2</td>\n",
       "      <td>Quarters</td>\n",
       "      <td>2</td>\n",
       "      <td>Netherlands</td>\n",
       "    </tr>\n",
       "    <tr>\n",
       "      <th>3</th>\n",
       "      <td>3</td>\n",
       "      <td>Quarters</td>\n",
       "      <td>2</td>\n",
       "      <td>Sweden</td>\n",
       "    </tr>\n",
       "    <tr>\n",
       "      <th>4</th>\n",
       "      <td>0</td>\n",
       "      <td>Semis</td>\n",
       "      <td>2</td>\n",
       "      <td>USA</td>\n",
       "    </tr>\n",
       "    <tr>\n",
       "      <th>5</th>\n",
       "      <td>1</td>\n",
       "      <td>Semis</td>\n",
       "      <td>1</td>\n",
       "      <td>Netherlands</td>\n",
       "    </tr>\n",
       "    <tr>\n",
       "      <th>6</th>\n",
       "      <td>2</td>\n",
       "      <td>3rd Place</td>\n",
       "      <td>2</td>\n",
       "      <td>Sweden</td>\n",
       "    </tr>\n",
       "    <tr>\n",
       "      <th>7</th>\n",
       "      <td>3</td>\n",
       "      <td>Championship</td>\n",
       "      <td>2</td>\n",
       "      <td>USA</td>\n",
       "    </tr>\n",
       "  </tbody>\n",
       "</table>\n",
       "</div>"
      ],
      "text/plain": [
       "   index         Round  W Goals       Winner\n",
       "0      0      Quarters        3      England\n",
       "1      1      Quarters        2          USA\n",
       "2      2      Quarters        2  Netherlands\n",
       "3      3      Quarters        2       Sweden\n",
       "4      0         Semis        2          USA\n",
       "5      1         Semis        1  Netherlands\n",
       "6      2     3rd Place        2       Sweden\n",
       "7      3  Championship        2          USA"
      ]
     },
     "execution_count": 20,
     "metadata": {},
     "output_type": "execute_result"
    }
   ],
   "source": [
    "df1=df.reset_index(drop = False) \n",
    "df1"
   ]
  },
  {
   "cell_type": "markdown",
   "metadata": {},
   "source": [
    "You might be wondering why Pandas even **allows `duplicate` indices**.\n",
    "\n",
    "The reason is that it is often **helpful** to use a semantically **meaningful** index to **label rows.** \n",
    "\n",
    "* 重复索引为行提供**语义**索引\n",
    "\n",
    "For example, \n",
    "```\n",
    "df.set_index('Round') \n",
    "```\n",
    "evaluates to"
   ]
  },
  {
   "cell_type": "code",
   "execution_count": 21,
   "metadata": {},
   "outputs": [
    {
     "data": {
      "text/html": [
       "<div>\n",
       "<style scoped>\n",
       "    .dataframe tbody tr th:only-of-type {\n",
       "        vertical-align: middle;\n",
       "    }\n",
       "\n",
       "    .dataframe tbody tr th {\n",
       "        vertical-align: top;\n",
       "    }\n",
       "\n",
       "    .dataframe thead th {\n",
       "        text-align: right;\n",
       "    }\n",
       "</style>\n",
       "<table border=\"1\" class=\"dataframe\">\n",
       "  <thead>\n",
       "    <tr style=\"text-align: right;\">\n",
       "      <th></th>\n",
       "      <th>W Goals</th>\n",
       "      <th>Winner</th>\n",
       "    </tr>\n",
       "    <tr>\n",
       "      <th>Round</th>\n",
       "      <th></th>\n",
       "      <th></th>\n",
       "    </tr>\n",
       "  </thead>\n",
       "  <tbody>\n",
       "    <tr>\n",
       "      <th>Quarters</th>\n",
       "      <td>3</td>\n",
       "      <td>England</td>\n",
       "    </tr>\n",
       "    <tr>\n",
       "      <th>Quarters</th>\n",
       "      <td>2</td>\n",
       "      <td>USA</td>\n",
       "    </tr>\n",
       "    <tr>\n",
       "      <th>Quarters</th>\n",
       "      <td>2</td>\n",
       "      <td>Netherlands</td>\n",
       "    </tr>\n",
       "    <tr>\n",
       "      <th>Quarters</th>\n",
       "      <td>2</td>\n",
       "      <td>Sweden</td>\n",
       "    </tr>\n",
       "    <tr>\n",
       "      <th>Semis</th>\n",
       "      <td>2</td>\n",
       "      <td>USA</td>\n",
       "    </tr>\n",
       "    <tr>\n",
       "      <th>Semis</th>\n",
       "      <td>1</td>\n",
       "      <td>Netherlands</td>\n",
       "    </tr>\n",
       "    <tr>\n",
       "      <th>3rd Place</th>\n",
       "      <td>2</td>\n",
       "      <td>Sweden</td>\n",
       "    </tr>\n",
       "    <tr>\n",
       "      <th>Championship</th>\n",
       "      <td>2</td>\n",
       "      <td>USA</td>\n",
       "    </tr>\n",
       "  </tbody>\n",
       "</table>\n",
       "</div>"
      ],
      "text/plain": [
       "              W Goals       Winner\n",
       "Round                             \n",
       "Quarters            3      England\n",
       "Quarters            2          USA\n",
       "Quarters            2  Netherlands\n",
       "Quarters            2       Sweden\n",
       "Semis               2          USA\n",
       "Semis               1  Netherlands\n",
       "3rd Place           2       Sweden\n",
       "Championship        2          USA"
      ]
     },
     "execution_count": 21,
     "metadata": {},
     "output_type": "execute_result"
    }
   ],
   "source": [
    "df2=df.set_index('Round') \n",
    "df2"
   ]
  },
  {
   "cell_type": "markdown",
   "metadata": {},
   "source": [
    "## 3  Selecting Columns and Rows \n",
    "\n"
   ]
  },
  {
   "cell_type": "code",
   "execution_count": 22,
   "metadata": {},
   "outputs": [
    {
     "data": {
      "text/html": [
       "<div>\n",
       "<style scoped>\n",
       "    .dataframe tbody tr th:only-of-type {\n",
       "        vertical-align: middle;\n",
       "    }\n",
       "\n",
       "    .dataframe tbody tr th {\n",
       "        vertical-align: top;\n",
       "    }\n",
       "\n",
       "    .dataframe thead th {\n",
       "        text-align: right;\n",
       "    }\n",
       "</style>\n",
       "<table border=\"1\" class=\"dataframe\">\n",
       "  <thead>\n",
       "    <tr style=\"text-align: right;\">\n",
       "      <th></th>\n",
       "      <th>Round</th>\n",
       "      <th>Winner</th>\n",
       "      <th>W Goals</th>\n",
       "      <th>Loser</th>\n",
       "      <th>L Goals</th>\n",
       "    </tr>\n",
       "  </thead>\n",
       "  <tbody>\n",
       "    <tr>\n",
       "      <th>0</th>\n",
       "      <td>Quarters</td>\n",
       "      <td>England</td>\n",
       "      <td>3</td>\n",
       "      <td>Norway</td>\n",
       "      <td>0</td>\n",
       "    </tr>\n",
       "    <tr>\n",
       "      <th>1</th>\n",
       "      <td>Quarters</td>\n",
       "      <td>USA</td>\n",
       "      <td>2</td>\n",
       "      <td>France</td>\n",
       "      <td>1</td>\n",
       "    </tr>\n",
       "    <tr>\n",
       "      <th>2</th>\n",
       "      <td>Quarters</td>\n",
       "      <td>Netherlands</td>\n",
       "      <td>2</td>\n",
       "      <td>Italy</td>\n",
       "      <td>0</td>\n",
       "    </tr>\n",
       "    <tr>\n",
       "      <th>3</th>\n",
       "      <td>Quarters</td>\n",
       "      <td>Sweden</td>\n",
       "      <td>2</td>\n",
       "      <td>Germany</td>\n",
       "      <td>1</td>\n",
       "    </tr>\n",
       "    <tr>\n",
       "      <th>4</th>\n",
       "      <td>Semis</td>\n",
       "      <td>USA</td>\n",
       "      <td>2</td>\n",
       "      <td>England</td>\n",
       "      <td>1</td>\n",
       "    </tr>\n",
       "    <tr>\n",
       "      <th>5</th>\n",
       "      <td>Semis</td>\n",
       "      <td>Netherlands</td>\n",
       "      <td>1</td>\n",
       "      <td>Sweden</td>\n",
       "      <td>0</td>\n",
       "    </tr>\n",
       "    <tr>\n",
       "      <th>6</th>\n",
       "      <td>3rd Place</td>\n",
       "      <td>Sweden</td>\n",
       "      <td>2</td>\n",
       "      <td>England</td>\n",
       "      <td>1</td>\n",
       "    </tr>\n",
       "    <tr>\n",
       "      <th>7</th>\n",
       "      <td>Championship</td>\n",
       "      <td>USA</td>\n",
       "      <td>2</td>\n",
       "      <td>Netherlands</td>\n",
       "      <td>0</td>\n",
       "    </tr>\n",
       "  </tbody>\n",
       "</table>\n",
       "</div>"
      ],
      "text/plain": [
       "          Round       Winner  W Goals        Loser  L Goals\n",
       "0      Quarters      England        3       Norway        0\n",
       "1      Quarters          USA        2       France        1\n",
       "2      Quarters  Netherlands        2        Italy        0\n",
       "3      Quarters       Sweden        2      Germany        1\n",
       "4         Semis          USA        2      England        1\n",
       "5         Semis  Netherlands        1       Sweden        0\n",
       "6     3rd Place       Sweden        2      England        1\n",
       "7  Championship          USA        2  Netherlands        0"
      ]
     },
     "execution_count": 22,
     "metadata": {},
     "output_type": "execute_result"
    }
   ],
   "source": [
    "import pandas as pd \n",
    "wwc = pd.read_csv('./data/wwc2019_q-f.csv') \n",
    "wwc"
   ]
  },
  {
   "cell_type": "markdown",
   "metadata": {},
   "source": [
    "### 1 Selecting Columns\n",
    "\n",
    "As is the case for other composite types in Python, **square brackets[]** are the primary mechanism for selecting parts of a DataFrame. \n",
    "\n",
    "To **select a single column** of a DataFrame, we simply place the **label** of the column in between square brackets. \n",
    "\n",
    "For example, `wwc['Winner'] ` evaluates to "
   ]
  },
  {
   "cell_type": "code",
   "execution_count": 23,
   "metadata": {},
   "outputs": [
    {
     "data": {
      "text/plain": [
       "0        England\n",
       "1            USA\n",
       "2    Netherlands\n",
       "3         Sweden\n",
       "4            USA\n",
       "5    Netherlands\n",
       "6         Sweden\n",
       "7            USA\n",
       "Name: Winner, dtype: object"
      ]
     },
     "execution_count": 23,
     "metadata": {},
     "output_type": "execute_result"
    }
   ],
   "source": [
    "wwc['Winner'] "
   ]
  },
  {
   "cell_type": "markdown",
   "metadata": {},
   "source": [
    "The type of this object is **Series** , i.e., it is not a DataFrame. \n",
    "\n",
    "A Series is a `one-dimensional` sequence of values, each of which is `labeled by an index`."
   ]
  },
  {
   "cell_type": "code",
   "execution_count": 24,
   "metadata": {},
   "outputs": [
    {
     "data": {
      "text/plain": [
       "pandas.core.series.Series"
      ]
     },
     "execution_count": 24,
     "metadata": {},
     "output_type": "execute_result"
    }
   ],
   "source": [
    "type(wwc['Winner']) "
   ]
  },
  {
   "cell_type": "markdown",
   "metadata": {},
   "source": [
    "To **select a single item from a Series**, we place an index within square brackets following the \n",
    "series. So, "
   ]
  },
  {
   "cell_type": "code",
   "execution_count": 25,
   "metadata": {},
   "outputs": [
    {
     "data": {
      "text/plain": [
       "'Sweden'"
      ]
     },
     "execution_count": 25,
     "metadata": {},
     "output_type": "execute_result"
    }
   ],
   "source": [
    "wwc['Winner'][3] "
   ]
  },
  {
   "cell_type": "markdown",
   "metadata": {},
   "source": [
    "evaluates to the string `Sweden` \n",
    " \n",
    "We can iterate over a series using a `for` loop.\n",
    "\n",
    "For example"
   ]
  },
  {
   "cell_type": "code",
   "execution_count": 26,
   "metadata": {},
   "outputs": [
    {
     "data": {
      "text/plain": [
       "'England,USA,Netherlands,Sweden,USA,Netherlands,Sweden,USA'"
      ]
     },
     "execution_count": 26,
     "metadata": {},
     "output_type": "execute_result"
    }
   ],
   "source": [
    "winners = '' \n",
    "for w in wwc['Winner']: \n",
    "    winners += w + ',' \n",
    "winners[:-1] # remove last ',' "
   ]
  },
  {
   "cell_type": "markdown",
   "metadata": {},
   "source": [
    "Square brackets can also be used to **select `multiple` columns** from a DataFrame. \n",
    "\n",
    "This is done by placing `a list of column labels` within the square brackets. \n",
    "\n",
    "This produces a **DataFrame** rather than series.\n",
    "\n",
    "For example, the code produces the `DataFrame`"
   ]
  },
  {
   "cell_type": "code",
   "execution_count": 27,
   "metadata": {},
   "outputs": [
    {
     "data": {
      "text/html": [
       "<div>\n",
       "<style scoped>\n",
       "    .dataframe tbody tr th:only-of-type {\n",
       "        vertical-align: middle;\n",
       "    }\n",
       "\n",
       "    .dataframe tbody tr th {\n",
       "        vertical-align: top;\n",
       "    }\n",
       "\n",
       "    .dataframe thead th {\n",
       "        text-align: right;\n",
       "    }\n",
       "</style>\n",
       "<table border=\"1\" class=\"dataframe\">\n",
       "  <thead>\n",
       "    <tr style=\"text-align: right;\">\n",
       "      <th></th>\n",
       "      <th>Winner</th>\n",
       "      <th>Loser</th>\n",
       "    </tr>\n",
       "  </thead>\n",
       "  <tbody>\n",
       "    <tr>\n",
       "      <th>0</th>\n",
       "      <td>England</td>\n",
       "      <td>Norway</td>\n",
       "    </tr>\n",
       "    <tr>\n",
       "      <th>1</th>\n",
       "      <td>USA</td>\n",
       "      <td>France</td>\n",
       "    </tr>\n",
       "    <tr>\n",
       "      <th>2</th>\n",
       "      <td>Netherlands</td>\n",
       "      <td>Italy</td>\n",
       "    </tr>\n",
       "    <tr>\n",
       "      <th>3</th>\n",
       "      <td>Sweden</td>\n",
       "      <td>Germany</td>\n",
       "    </tr>\n",
       "    <tr>\n",
       "      <th>4</th>\n",
       "      <td>USA</td>\n",
       "      <td>England</td>\n",
       "    </tr>\n",
       "    <tr>\n",
       "      <th>5</th>\n",
       "      <td>Netherlands</td>\n",
       "      <td>Sweden</td>\n",
       "    </tr>\n",
       "    <tr>\n",
       "      <th>6</th>\n",
       "      <td>Sweden</td>\n",
       "      <td>England</td>\n",
       "    </tr>\n",
       "    <tr>\n",
       "      <th>7</th>\n",
       "      <td>USA</td>\n",
       "      <td>Netherlands</td>\n",
       "    </tr>\n",
       "  </tbody>\n",
       "</table>\n",
       "</div>"
      ],
      "text/plain": [
       "        Winner        Loser\n",
       "0      England       Norway\n",
       "1          USA       France\n",
       "2  Netherlands        Italy\n",
       "3       Sweden      Germany\n",
       "4          USA      England\n",
       "5  Netherlands       Sweden\n",
       "6       Sweden      England\n",
       "7          USA  Netherlands"
      ]
     },
     "execution_count": 27,
     "metadata": {},
     "output_type": "execute_result"
    }
   ],
   "source": [
    "wwc[['Winner', 'Loser']] "
   ]
  },
  {
   "cell_type": "markdown",
   "metadata": {},
   "source": [
    "The column labels in the list within the selection square brackets **don’t have to be in the same order** as the labels appear in the **original** DataFrame.\n",
    "\n",
    "This makes it convenient to use `selection` to **reorganize** the DataFrame.\n",
    "\n",
    "For example, the code returns the DataFrame "
   ]
  },
  {
   "cell_type": "code",
   "execution_count": 28,
   "metadata": {},
   "outputs": [
    {
     "data": {
      "text/html": [
       "<div>\n",
       "<style scoped>\n",
       "    .dataframe tbody tr th:only-of-type {\n",
       "        vertical-align: middle;\n",
       "    }\n",
       "\n",
       "    .dataframe tbody tr th {\n",
       "        vertical-align: top;\n",
       "    }\n",
       "\n",
       "    .dataframe thead th {\n",
       "        text-align: right;\n",
       "    }\n",
       "</style>\n",
       "<table border=\"1\" class=\"dataframe\">\n",
       "  <thead>\n",
       "    <tr style=\"text-align: right;\">\n",
       "      <th></th>\n",
       "      <th>Round</th>\n",
       "      <th>Winner</th>\n",
       "      <th>Loser</th>\n",
       "      <th>W Goals</th>\n",
       "      <th>L Goals</th>\n",
       "    </tr>\n",
       "  </thead>\n",
       "  <tbody>\n",
       "    <tr>\n",
       "      <th>0</th>\n",
       "      <td>Quarters</td>\n",
       "      <td>England</td>\n",
       "      <td>Norway</td>\n",
       "      <td>3</td>\n",
       "      <td>0</td>\n",
       "    </tr>\n",
       "    <tr>\n",
       "      <th>1</th>\n",
       "      <td>Quarters</td>\n",
       "      <td>USA</td>\n",
       "      <td>France</td>\n",
       "      <td>2</td>\n",
       "      <td>1</td>\n",
       "    </tr>\n",
       "    <tr>\n",
       "      <th>2</th>\n",
       "      <td>Quarters</td>\n",
       "      <td>Netherlands</td>\n",
       "      <td>Italy</td>\n",
       "      <td>2</td>\n",
       "      <td>0</td>\n",
       "    </tr>\n",
       "    <tr>\n",
       "      <th>3</th>\n",
       "      <td>Quarters</td>\n",
       "      <td>Sweden</td>\n",
       "      <td>Germany</td>\n",
       "      <td>2</td>\n",
       "      <td>1</td>\n",
       "    </tr>\n",
       "    <tr>\n",
       "      <th>4</th>\n",
       "      <td>Semis</td>\n",
       "      <td>USA</td>\n",
       "      <td>England</td>\n",
       "      <td>2</td>\n",
       "      <td>1</td>\n",
       "    </tr>\n",
       "    <tr>\n",
       "      <th>5</th>\n",
       "      <td>Semis</td>\n",
       "      <td>Netherlands</td>\n",
       "      <td>Sweden</td>\n",
       "      <td>1</td>\n",
       "      <td>0</td>\n",
       "    </tr>\n",
       "    <tr>\n",
       "      <th>6</th>\n",
       "      <td>3rd Place</td>\n",
       "      <td>Sweden</td>\n",
       "      <td>England</td>\n",
       "      <td>2</td>\n",
       "      <td>1</td>\n",
       "    </tr>\n",
       "    <tr>\n",
       "      <th>7</th>\n",
       "      <td>Championship</td>\n",
       "      <td>USA</td>\n",
       "      <td>Netherlands</td>\n",
       "      <td>2</td>\n",
       "      <td>0</td>\n",
       "    </tr>\n",
       "  </tbody>\n",
       "</table>\n",
       "</div>"
      ],
      "text/plain": [
       "          Round       Winner        Loser  W Goals  L Goals\n",
       "0      Quarters      England       Norway        3        0\n",
       "1      Quarters          USA       France        2        1\n",
       "2      Quarters  Netherlands        Italy        2        0\n",
       "3      Quarters       Sweden      Germany        2        1\n",
       "4         Semis          USA      England        2        1\n",
       "5         Semis  Netherlands       Sweden        1        0\n",
       "6     3rd Place       Sweden      England        2        1\n",
       "7  Championship          USA  Netherlands        2        0"
      ]
     },
     "execution_count": 28,
     "metadata": {},
     "output_type": "execute_result"
    }
   ],
   "source": [
    "wwc[['Round','Winner','Loser','W Goals','L Goals']] "
   ]
  },
  {
   "cell_type": "markdown",
   "metadata": {},
   "source": [
    ">**Note** that  attempting to **elect a `row`** by putting its index inside of square brackets will not work. \n",
    ">\n",
    ">It will generate a `KeyError` exception.\n",
    ">\n",
    ">However, we can select `rows` using **slicing** `wwc[1:3]` produces a `DataFrame` with rows "
   ]
  },
  {
   "cell_type": "code",
   "execution_count": 29,
   "metadata": {},
   "outputs": [
    {
     "data": {
      "text/html": [
       "<div>\n",
       "<style scoped>\n",
       "    .dataframe tbody tr th:only-of-type {\n",
       "        vertical-align: middle;\n",
       "    }\n",
       "\n",
       "    .dataframe tbody tr th {\n",
       "        vertical-align: top;\n",
       "    }\n",
       "\n",
       "    .dataframe thead th {\n",
       "        text-align: right;\n",
       "    }\n",
       "</style>\n",
       "<table border=\"1\" class=\"dataframe\">\n",
       "  <thead>\n",
       "    <tr style=\"text-align: right;\">\n",
       "      <th></th>\n",
       "      <th>Round</th>\n",
       "      <th>Winner</th>\n",
       "      <th>W Goals</th>\n",
       "      <th>Loser</th>\n",
       "      <th>L Goals</th>\n",
       "    </tr>\n",
       "  </thead>\n",
       "  <tbody>\n",
       "    <tr>\n",
       "      <th>1</th>\n",
       "      <td>Quarters</td>\n",
       "      <td>USA</td>\n",
       "      <td>2</td>\n",
       "      <td>France</td>\n",
       "      <td>1</td>\n",
       "    </tr>\n",
       "    <tr>\n",
       "      <th>2</th>\n",
       "      <td>Quarters</td>\n",
       "      <td>Netherlands</td>\n",
       "      <td>2</td>\n",
       "      <td>Italy</td>\n",
       "      <td>0</td>\n",
       "    </tr>\n",
       "  </tbody>\n",
       "</table>\n",
       "</div>"
      ],
      "text/plain": [
       "      Round       Winner  W Goals   Loser  L Goals\n",
       "1  Quarters          USA        2  France        1\n",
       "2  Quarters  Netherlands        2   Italy        0"
      ]
     },
     "execution_count": 29,
     "metadata": {},
     "output_type": "execute_result"
    }
   ],
   "source": [
    "# select rows using slicing wwc[1:2] produces a DataFrame with a single row\n",
    "wwc[1:3] "
   ]
  },
  {
   "cell_type": "markdown",
   "metadata": {},
   "source": [
    ">We discuss other ways of selecting rows in the next subsection. "
   ]
  },
  {
   "cell_type": "markdown",
   "metadata": {},
   "source": [
    "### 2 Selection Using `loc` and `iloc `\n",
    "\n",
    "#### 2.1 loc\n",
    "\n",
    "\n",
    "The `loc`method can be used to select `rows, columns, or combinations of rows and columns` from a DataFrame.\n",
    "\n",
    "Importantly, all selection is done using **labels**. \n",
    "\n",
    "* This is worth emphasizing, since some of the `labels` (e.g., the indices) can `look` suspiciously like `numbers`. \n"
   ]
  },
  {
   "cell_type": "markdown",
   "metadata": {},
   "source": [
    "If `df` is a DataFrame, the expression \n",
    "```\n",
    "df.loc[label] \n",
    "```\n",
    "returns a **series** corresponding to the **row** associated with `label` in `df`\n",
    "\n",
    "For example, the code returns the Series "
   ]
  },
  {
   "cell_type": "code",
   "execution_count": 30,
   "metadata": {},
   "outputs": [
    {
     "data": {
      "text/plain": [
       "Round      Quarters\n",
       "Winner       Sweden\n",
       "W Goals           2\n",
       "Loser       Germany\n",
       "L Goals           1\n",
       "Name: 3, dtype: object"
      ]
     },
     "execution_count": 30,
     "metadata": {},
     "output_type": "execute_result"
    }
   ],
   "source": [
    "wwc.loc[3] "
   ]
  },
  {
   "cell_type": "markdown",
   "metadata": {},
   "source": [
    "Notice that \n",
    "\n",
    "* the column `labels` of wwc are the `index` labels for the Series, and \n",
    "\n",
    "* the values associated with those labels are the values for the corresponding columns in the `row` labeled `3` in `wwc`. \n",
    "\n",
    "![df_www.loc[3].jpg](./img/df_www.loc[3].jpg)"
   ]
  },
  {
   "cell_type": "markdown",
   "metadata": {},
   "source": [
    "To select **multiple** rows,\n",
    "\n",
    "we need only put a list of labels (rather than a single label) inside the square brackets following `.loc`. \n",
    "\n",
    "When this is done, the value of the expression is a **DataFrame** rather than a Series.\n",
    "\n",
    "For example, the expression `wwc.loc[[1,3,5]]` produces"
   ]
  },
  {
   "cell_type": "code",
   "execution_count": 31,
   "metadata": {},
   "outputs": [
    {
     "data": {
      "text/html": [
       "<div>\n",
       "<style scoped>\n",
       "    .dataframe tbody tr th:only-of-type {\n",
       "        vertical-align: middle;\n",
       "    }\n",
       "\n",
       "    .dataframe tbody tr th {\n",
       "        vertical-align: top;\n",
       "    }\n",
       "\n",
       "    .dataframe thead th {\n",
       "        text-align: right;\n",
       "    }\n",
       "</style>\n",
       "<table border=\"1\" class=\"dataframe\">\n",
       "  <thead>\n",
       "    <tr style=\"text-align: right;\">\n",
       "      <th></th>\n",
       "      <th>Round</th>\n",
       "      <th>Winner</th>\n",
       "      <th>W Goals</th>\n",
       "      <th>Loser</th>\n",
       "      <th>L Goals</th>\n",
       "    </tr>\n",
       "  </thead>\n",
       "  <tbody>\n",
       "    <tr>\n",
       "      <th>1</th>\n",
       "      <td>Quarters</td>\n",
       "      <td>USA</td>\n",
       "      <td>2</td>\n",
       "      <td>France</td>\n",
       "      <td>1</td>\n",
       "    </tr>\n",
       "    <tr>\n",
       "      <th>3</th>\n",
       "      <td>Quarters</td>\n",
       "      <td>Sweden</td>\n",
       "      <td>2</td>\n",
       "      <td>Germany</td>\n",
       "      <td>1</td>\n",
       "    </tr>\n",
       "    <tr>\n",
       "      <th>5</th>\n",
       "      <td>Semis</td>\n",
       "      <td>Netherlands</td>\n",
       "      <td>1</td>\n",
       "      <td>Sweden</td>\n",
       "      <td>0</td>\n",
       "    </tr>\n",
       "  </tbody>\n",
       "</table>\n",
       "</div>"
      ],
      "text/plain": [
       "      Round       Winner  W Goals    Loser  L Goals\n",
       "1  Quarters          USA        2   France        1\n",
       "3  Quarters       Sweden        2  Germany        1\n",
       "5     Semis  Netherlands        1   Sweden        0"
      ]
     },
     "execution_count": 31,
     "metadata": {},
     "output_type": "execute_result"
    }
   ],
   "source": [
    "wwc.loc[[1,3,5]]"
   ]
  },
  {
   "cell_type": "markdown",
   "metadata": {},
   "source": [
    ">**Notice** that the **index** associated with each row of the new DataFrame is the index of that row in the **old** DataFrame."
   ]
  },
  {
   "cell_type": "markdown",
   "metadata": {},
   "source": [
    "**Slicing** provides another way to **select multiple rows**. \n",
    "\n",
    "The general form is \n",
    "\n",
    "```python\n",
    "df.loc[first:last:step]. \n",
    "```\n",
    "* If first is not supplied, it defaults to the first index in the DataFrame. \n",
    "\n",
    "* If last is not supplied, it defaults to the last index in the DataFrame. \n",
    "\n",
    "* If step is not supplied, it defaults to 1. \n",
    "\n",
    "The expression `wwc.loc[3:7:2]` produces the DataFrame\n"
   ]
  },
  {
   "cell_type": "code",
   "execution_count": 32,
   "metadata": {},
   "outputs": [
    {
     "data": {
      "text/html": [
       "<div>\n",
       "<style scoped>\n",
       "    .dataframe tbody tr th:only-of-type {\n",
       "        vertical-align: middle;\n",
       "    }\n",
       "\n",
       "    .dataframe tbody tr th {\n",
       "        vertical-align: top;\n",
       "    }\n",
       "\n",
       "    .dataframe thead th {\n",
       "        text-align: right;\n",
       "    }\n",
       "</style>\n",
       "<table border=\"1\" class=\"dataframe\">\n",
       "  <thead>\n",
       "    <tr style=\"text-align: right;\">\n",
       "      <th></th>\n",
       "      <th>Round</th>\n",
       "      <th>Winner</th>\n",
       "      <th>W Goals</th>\n",
       "      <th>Loser</th>\n",
       "      <th>L Goals</th>\n",
       "    </tr>\n",
       "  </thead>\n",
       "  <tbody>\n",
       "    <tr>\n",
       "      <th>3</th>\n",
       "      <td>Quarters</td>\n",
       "      <td>Sweden</td>\n",
       "      <td>2</td>\n",
       "      <td>Germany</td>\n",
       "      <td>1</td>\n",
       "    </tr>\n",
       "    <tr>\n",
       "      <th>5</th>\n",
       "      <td>Semis</td>\n",
       "      <td>Netherlands</td>\n",
       "      <td>1</td>\n",
       "      <td>Sweden</td>\n",
       "      <td>0</td>\n",
       "    </tr>\n",
       "    <tr>\n",
       "      <th>7</th>\n",
       "      <td>Championship</td>\n",
       "      <td>USA</td>\n",
       "      <td>2</td>\n",
       "      <td>Netherlands</td>\n",
       "      <td>0</td>\n",
       "    </tr>\n",
       "  </tbody>\n",
       "</table>\n",
       "</div>"
      ],
      "text/plain": [
       "          Round       Winner  W Goals        Loser  L Goals\n",
       "3      Quarters       Sweden        2      Germany        1\n",
       "5         Semis  Netherlands        1       Sweden        0\n",
       "7  Championship          USA        2  Netherlands        0"
      ]
     },
     "execution_count": 32,
     "metadata": {},
     "output_type": "execute_result"
    }
   ],
   "source": [
    "wwc.loc[3:7:2]"
   ]
  },
  {
   "cell_type": "markdown",
   "metadata": {},
   "source": [
    "As a Python programmer, you might be `surprised` that that the **row labeled 7** is included.\n",
    "\n",
    "For other Python data containers (such as lists), the `last` value is `excluded` when `slicing`, but **not for DataFrames**\n",
    "\n",
    "The expression `wwc.loc[6:]` produces the DataFrame"
   ]
  },
  {
   "cell_type": "code",
   "execution_count": 33,
   "metadata": {},
   "outputs": [
    {
     "data": {
      "text/html": [
       "<div>\n",
       "<style scoped>\n",
       "    .dataframe tbody tr th:only-of-type {\n",
       "        vertical-align: middle;\n",
       "    }\n",
       "\n",
       "    .dataframe tbody tr th {\n",
       "        vertical-align: top;\n",
       "    }\n",
       "\n",
       "    .dataframe thead th {\n",
       "        text-align: right;\n",
       "    }\n",
       "</style>\n",
       "<table border=\"1\" class=\"dataframe\">\n",
       "  <thead>\n",
       "    <tr style=\"text-align: right;\">\n",
       "      <th></th>\n",
       "      <th>Round</th>\n",
       "      <th>Winner</th>\n",
       "      <th>W Goals</th>\n",
       "      <th>Loser</th>\n",
       "      <th>L Goals</th>\n",
       "    </tr>\n",
       "  </thead>\n",
       "  <tbody>\n",
       "    <tr>\n",
       "      <th>6</th>\n",
       "      <td>3rd Place</td>\n",
       "      <td>Sweden</td>\n",
       "      <td>2</td>\n",
       "      <td>England</td>\n",
       "      <td>1</td>\n",
       "    </tr>\n",
       "    <tr>\n",
       "      <th>7</th>\n",
       "      <td>Championship</td>\n",
       "      <td>USA</td>\n",
       "      <td>2</td>\n",
       "      <td>Netherlands</td>\n",
       "      <td>0</td>\n",
       "    </tr>\n",
       "  </tbody>\n",
       "</table>\n",
       "</div>"
      ],
      "text/plain": [
       "          Round  Winner  W Goals        Loser  L Goals\n",
       "6     3rd Place  Sweden        2      England        1\n",
       "7  Championship     USA        2  Netherlands        0"
      ]
     },
     "execution_count": 33,
     "metadata": {},
     "output_type": "execute_result"
    }
   ],
   "source": [
    "wwc.loc[6:]"
   ]
  },
  {
   "cell_type": "markdown",
   "metadata": {},
   "source": [
    "And the expression `wwc.loc[:2]` produces"
   ]
  },
  {
   "cell_type": "code",
   "execution_count": 34,
   "metadata": {},
   "outputs": [
    {
     "data": {
      "text/html": [
       "<div>\n",
       "<style scoped>\n",
       "    .dataframe tbody tr th:only-of-type {\n",
       "        vertical-align: middle;\n",
       "    }\n",
       "\n",
       "    .dataframe tbody tr th {\n",
       "        vertical-align: top;\n",
       "    }\n",
       "\n",
       "    .dataframe thead th {\n",
       "        text-align: right;\n",
       "    }\n",
       "</style>\n",
       "<table border=\"1\" class=\"dataframe\">\n",
       "  <thead>\n",
       "    <tr style=\"text-align: right;\">\n",
       "      <th></th>\n",
       "      <th>Round</th>\n",
       "      <th>Winner</th>\n",
       "      <th>W Goals</th>\n",
       "      <th>Loser</th>\n",
       "      <th>L Goals</th>\n",
       "    </tr>\n",
       "  </thead>\n",
       "  <tbody>\n",
       "    <tr>\n",
       "      <th>0</th>\n",
       "      <td>Quarters</td>\n",
       "      <td>England</td>\n",
       "      <td>3</td>\n",
       "      <td>Norway</td>\n",
       "      <td>0</td>\n",
       "    </tr>\n",
       "    <tr>\n",
       "      <th>1</th>\n",
       "      <td>Quarters</td>\n",
       "      <td>USA</td>\n",
       "      <td>2</td>\n",
       "      <td>France</td>\n",
       "      <td>1</td>\n",
       "    </tr>\n",
       "    <tr>\n",
       "      <th>2</th>\n",
       "      <td>Quarters</td>\n",
       "      <td>Netherlands</td>\n",
       "      <td>2</td>\n",
       "      <td>Italy</td>\n",
       "      <td>0</td>\n",
       "    </tr>\n",
       "  </tbody>\n",
       "</table>\n",
       "</div>"
      ],
      "text/plain": [
       "      Round       Winner  W Goals   Loser  L Goals\n",
       "0  Quarters      England        3  Norway        0\n",
       "1  Quarters          USA        2  France        1\n",
       "2  Quarters  Netherlands        2   Italy        0"
      ]
     },
     "execution_count": 34,
     "metadata": {},
     "output_type": "execute_result"
    }
   ],
   "source": [
    "wwc.loc[:2]"
   ]
  },
  {
   "cell_type": "markdown",
   "metadata": {},
   "source": [
    "As we mentioned earlier, `loc` can be used to simultaneously select `a combination of rows and columns`.\n",
    "\n",
    "This is done with an expression of the form\n",
    "\n",
    "```pythoh\n",
    "df.loc[row_selector, column_selector]\n",
    "```\n",
    "\n",
    "The `row and column selectors` can be written using any of the mechanisms already discussed, i.e.,\n",
    "\n",
    "* a single label\n",
    "\n",
    "* a list of labels, or \n",
    "\n",
    "* a slicing expression\n",
    "\n",
    "For example, `wwc.loc[0:2, 'Round':'L Goals':2]` produce"
   ]
  },
  {
   "cell_type": "code",
   "execution_count": 35,
   "metadata": {},
   "outputs": [
    {
     "data": {
      "text/html": [
       "<div>\n",
       "<style scoped>\n",
       "    .dataframe tbody tr th:only-of-type {\n",
       "        vertical-align: middle;\n",
       "    }\n",
       "\n",
       "    .dataframe tbody tr th {\n",
       "        vertical-align: top;\n",
       "    }\n",
       "\n",
       "    .dataframe thead th {\n",
       "        text-align: right;\n",
       "    }\n",
       "</style>\n",
       "<table border=\"1\" class=\"dataframe\">\n",
       "  <thead>\n",
       "    <tr style=\"text-align: right;\">\n",
       "      <th></th>\n",
       "      <th>Round</th>\n",
       "      <th>W Goals</th>\n",
       "      <th>L Goals</th>\n",
       "    </tr>\n",
       "  </thead>\n",
       "  <tbody>\n",
       "    <tr>\n",
       "      <th>0</th>\n",
       "      <td>Quarters</td>\n",
       "      <td>3</td>\n",
       "      <td>0</td>\n",
       "    </tr>\n",
       "    <tr>\n",
       "      <th>1</th>\n",
       "      <td>Quarters</td>\n",
       "      <td>2</td>\n",
       "      <td>1</td>\n",
       "    </tr>\n",
       "    <tr>\n",
       "      <th>2</th>\n",
       "      <td>Quarters</td>\n",
       "      <td>2</td>\n",
       "      <td>0</td>\n",
       "    </tr>\n",
       "  </tbody>\n",
       "</table>\n",
       "</div>"
      ],
      "text/plain": [
       "      Round  W Goals  L Goals\n",
       "0  Quarters        3        0\n",
       "1  Quarters        2        1\n",
       "2  Quarters        2        0"
      ]
     },
     "execution_count": 35,
     "metadata": {},
     "output_type": "execute_result"
    }
   ],
   "source": [
    "wwc.loc[0:2, 'Round':'L Goals':2]"
   ]
  },
  {
   "cell_type": "markdown",
   "metadata": {},
   "source": [
    "Thus far, you wouldn't have gone wrong if you thought of the `index labels as integers`.\n",
    "\n",
    "Let's see how selection works when\n",
    "\n",
    "* 1) the labels are **not number-like**, and \n",
    "\n",
    "* 2) **more than one** row has the same label.\n",
    "\n",
    "Let `wwc_by_round` be the DataFrame"
   ]
  },
  {
   "cell_type": "code",
   "execution_count": 36,
   "metadata": {},
   "outputs": [],
   "source": [
    "import pandas as pd \n",
    "wwc = pd.read_csv('./data/wwc2019_q-f.csv') \n",
    "wwc_by_round=wwc.set_index(\"Round\")"
   ]
  },
  {
   "cell_type": "markdown",
   "metadata": {},
   "source": [
    "What do you think the expression `wwc_by_round.loc['Semis']` evaluates to? \n",
    "\n",
    "It selects all rows with the label Semis to return"
   ]
  },
  {
   "cell_type": "code",
   "execution_count": 37,
   "metadata": {},
   "outputs": [
    {
     "data": {
      "text/html": [
       "<div>\n",
       "<style scoped>\n",
       "    .dataframe tbody tr th:only-of-type {\n",
       "        vertical-align: middle;\n",
       "    }\n",
       "\n",
       "    .dataframe tbody tr th {\n",
       "        vertical-align: top;\n",
       "    }\n",
       "\n",
       "    .dataframe thead th {\n",
       "        text-align: right;\n",
       "    }\n",
       "</style>\n",
       "<table border=\"1\" class=\"dataframe\">\n",
       "  <thead>\n",
       "    <tr style=\"text-align: right;\">\n",
       "      <th></th>\n",
       "      <th>Winner</th>\n",
       "      <th>W Goals</th>\n",
       "      <th>Loser</th>\n",
       "      <th>L Goals</th>\n",
       "    </tr>\n",
       "    <tr>\n",
       "      <th>Round</th>\n",
       "      <th></th>\n",
       "      <th></th>\n",
       "      <th></th>\n",
       "      <th></th>\n",
       "    </tr>\n",
       "  </thead>\n",
       "  <tbody>\n",
       "    <tr>\n",
       "      <th>Semis</th>\n",
       "      <td>USA</td>\n",
       "      <td>2</td>\n",
       "      <td>England</td>\n",
       "      <td>1</td>\n",
       "    </tr>\n",
       "    <tr>\n",
       "      <th>Semis</th>\n",
       "      <td>Netherlands</td>\n",
       "      <td>1</td>\n",
       "      <td>Sweden</td>\n",
       "      <td>0</td>\n",
       "    </tr>\n",
       "  </tbody>\n",
       "</table>\n",
       "</div>"
      ],
      "text/plain": [
       "            Winner  W Goals    Loser  L Goals\n",
       "Round                                        \n",
       "Semis          USA        2  England        1\n",
       "Semis  Netherlands        1   Sweden        0"
      ]
     },
     "execution_count": 37,
     "metadata": {},
     "output_type": "execute_result"
    }
   ],
   "source": [
    "wwc_by_round.loc[\"Semis\"]"
   ]
  },
  {
   "cell_type": "markdown",
   "metadata": {},
   "source": [
    "Similarly, `wwc_by_round.loc[['Semis', 'Championship']]` selects all rows with a label of either Semis or Championship:"
   ]
  },
  {
   "cell_type": "code",
   "execution_count": 38,
   "metadata": {},
   "outputs": [
    {
     "data": {
      "text/html": [
       "<div>\n",
       "<style scoped>\n",
       "    .dataframe tbody tr th:only-of-type {\n",
       "        vertical-align: middle;\n",
       "    }\n",
       "\n",
       "    .dataframe tbody tr th {\n",
       "        vertical-align: top;\n",
       "    }\n",
       "\n",
       "    .dataframe thead th {\n",
       "        text-align: right;\n",
       "    }\n",
       "</style>\n",
       "<table border=\"1\" class=\"dataframe\">\n",
       "  <thead>\n",
       "    <tr style=\"text-align: right;\">\n",
       "      <th></th>\n",
       "      <th>Winner</th>\n",
       "      <th>W Goals</th>\n",
       "      <th>Loser</th>\n",
       "      <th>L Goals</th>\n",
       "    </tr>\n",
       "    <tr>\n",
       "      <th>Round</th>\n",
       "      <th></th>\n",
       "      <th></th>\n",
       "      <th></th>\n",
       "      <th></th>\n",
       "    </tr>\n",
       "  </thead>\n",
       "  <tbody>\n",
       "    <tr>\n",
       "      <th>Semis</th>\n",
       "      <td>USA</td>\n",
       "      <td>2</td>\n",
       "      <td>England</td>\n",
       "      <td>1</td>\n",
       "    </tr>\n",
       "    <tr>\n",
       "      <th>Semis</th>\n",
       "      <td>Netherlands</td>\n",
       "      <td>1</td>\n",
       "      <td>Sweden</td>\n",
       "      <td>0</td>\n",
       "    </tr>\n",
       "    <tr>\n",
       "      <th>Championship</th>\n",
       "      <td>USA</td>\n",
       "      <td>2</td>\n",
       "      <td>Netherlands</td>\n",
       "      <td>0</td>\n",
       "    </tr>\n",
       "  </tbody>\n",
       "</table>\n",
       "</div>"
      ],
      "text/plain": [
       "                   Winner  W Goals        Loser  L Goals\n",
       "Round                                                   \n",
       "Semis                 USA        2      England        1\n",
       "Semis         Netherlands        1       Sweden        0\n",
       "Championship          USA        2  Netherlands        0"
      ]
     },
     "execution_count": 38,
     "metadata": {},
     "output_type": "execute_result"
    }
   ],
   "source": [
    "wwc_by_round.loc[['Semis', 'Championship']]"
   ]
  },
  {
   "cell_type": "markdown",
   "metadata": {},
   "source": [
    "**Slicing** also work with `non-numeric` indices. \n",
    "\n",
    "The expression `wwc_by_round.loc['Quarters':'Semis':2]` produces a DataFrame by selecting the first row labeled by `Quarters`\n",
    "and then selecting `every other row` until it has passed a row labeled `Semis` to generate\n"
   ]
  },
  {
   "cell_type": "code",
   "execution_count": 39,
   "metadata": {},
   "outputs": [
    {
     "data": {
      "text/html": [
       "<div>\n",
       "<style scoped>\n",
       "    .dataframe tbody tr th:only-of-type {\n",
       "        vertical-align: middle;\n",
       "    }\n",
       "\n",
       "    .dataframe tbody tr th {\n",
       "        vertical-align: top;\n",
       "    }\n",
       "\n",
       "    .dataframe thead th {\n",
       "        text-align: right;\n",
       "    }\n",
       "</style>\n",
       "<table border=\"1\" class=\"dataframe\">\n",
       "  <thead>\n",
       "    <tr style=\"text-align: right;\">\n",
       "      <th></th>\n",
       "      <th>Winner</th>\n",
       "      <th>W Goals</th>\n",
       "      <th>Loser</th>\n",
       "      <th>L Goals</th>\n",
       "    </tr>\n",
       "    <tr>\n",
       "      <th>Round</th>\n",
       "      <th></th>\n",
       "      <th></th>\n",
       "      <th></th>\n",
       "      <th></th>\n",
       "    </tr>\n",
       "  </thead>\n",
       "  <tbody>\n",
       "    <tr>\n",
       "      <th>Quarters</th>\n",
       "      <td>England</td>\n",
       "      <td>3</td>\n",
       "      <td>Norway</td>\n",
       "      <td>0</td>\n",
       "    </tr>\n",
       "    <tr>\n",
       "      <th>Quarters</th>\n",
       "      <td>Netherlands</td>\n",
       "      <td>2</td>\n",
       "      <td>Italy</td>\n",
       "      <td>0</td>\n",
       "    </tr>\n",
       "    <tr>\n",
       "      <th>Semis</th>\n",
       "      <td>USA</td>\n",
       "      <td>2</td>\n",
       "      <td>England</td>\n",
       "      <td>1</td>\n",
       "    </tr>\n",
       "  </tbody>\n",
       "</table>\n",
       "</div>"
      ],
      "text/plain": [
       "               Winner  W Goals    Loser  L Goals\n",
       "Round                                           \n",
       "Quarters      England        3   Norway        0\n",
       "Quarters  Netherlands        2    Italy        0\n",
       "Semis             USA        2  England        1"
      ]
     },
     "execution_count": 39,
     "metadata": {},
     "output_type": "execute_result"
    }
   ],
   "source": [
    "wwc_by_round.loc['Quarters':'Semis':2]"
   ]
  },
  {
   "cell_type": "markdown",
   "metadata": {},
   "source": [
    "#### 2.2 iloc\n",
    "\n"
   ]
  },
  {
   "cell_type": "markdown",
   "metadata": {},
   "source": [
    "Now, suppose we want to select the `second` and `third` of the rows labeled `Quarters`.\n",
    "\n",
    "We can't simply write `wwc_by_round.loc['Quarters']` because that will select all four rows labeled Quarters.\n",
    "\n",
    "Enter the **iloc**  method.\n",
    "\n",
    "\n",
    "The **iloc** method is like `loc`, except rather than working with labels, it works with **integers** (hence the i in iloc).\n",
    "\n",
    "* The `first` row of a DataFrame is `iloc 0`, the `second` at `iloc 1`, etc.\n",
    "\n",
    "So, to select the `second` and `third` of the rows labeled `Quarters`, we write "
   ]
  },
  {
   "cell_type": "code",
   "execution_count": 40,
   "metadata": {},
   "outputs": [
    {
     "data": {
      "text/html": [
       "<div>\n",
       "<style scoped>\n",
       "    .dataframe tbody tr th:only-of-type {\n",
       "        vertical-align: middle;\n",
       "    }\n",
       "\n",
       "    .dataframe tbody tr th {\n",
       "        vertical-align: top;\n",
       "    }\n",
       "\n",
       "    .dataframe thead th {\n",
       "        text-align: right;\n",
       "    }\n",
       "</style>\n",
       "<table border=\"1\" class=\"dataframe\">\n",
       "  <thead>\n",
       "    <tr style=\"text-align: right;\">\n",
       "      <th></th>\n",
       "      <th>Winner</th>\n",
       "      <th>W Goals</th>\n",
       "      <th>Loser</th>\n",
       "      <th>L Goals</th>\n",
       "    </tr>\n",
       "    <tr>\n",
       "      <th>Round</th>\n",
       "      <th></th>\n",
       "      <th></th>\n",
       "      <th></th>\n",
       "      <th></th>\n",
       "    </tr>\n",
       "  </thead>\n",
       "  <tbody>\n",
       "    <tr>\n",
       "      <th>Quarters</th>\n",
       "      <td>USA</td>\n",
       "      <td>2</td>\n",
       "      <td>France</td>\n",
       "      <td>1</td>\n",
       "    </tr>\n",
       "    <tr>\n",
       "      <th>Quarters</th>\n",
       "      <td>Netherlands</td>\n",
       "      <td>2</td>\n",
       "      <td>Italy</td>\n",
       "      <td>0</td>\n",
       "    </tr>\n",
       "  </tbody>\n",
       "</table>\n",
       "</div>"
      ],
      "text/plain": [
       "               Winner  W Goals   Loser  L Goals\n",
       "Round                                          \n",
       "Quarters          USA        2  France        1\n",
       "Quarters  Netherlands        2   Italy        0"
      ]
     },
     "execution_count": 40,
     "metadata": {},
     "output_type": "execute_result"
    }
   ],
   "source": [
    "wwc_by_round.iloc[[1,2]]"
   ]
  },
  {
   "cell_type": "markdown",
   "metadata": {},
   "source": [
    "### 3 Selection by Group\n",
    "\n",
    "It is often convenient to split a DataFrame into **subsets** and apply some **aggregation or transformation** separately to each subset. \n",
    "\n",
    "The **groupby** method makes it easy to do this sort of thing.\n",
    "\n",
    "Suppose, for example, \n",
    "\n",
    "we want to know the **total number of goals** scored by the winning and losing teams in each round. \n"
   ]
  },
  {
   "cell_type": "code",
   "execution_count": 41,
   "metadata": {},
   "outputs": [
    {
     "data": {
      "text/html": [
       "<div>\n",
       "<style scoped>\n",
       "    .dataframe tbody tr th:only-of-type {\n",
       "        vertical-align: middle;\n",
       "    }\n",
       "\n",
       "    .dataframe tbody tr th {\n",
       "        vertical-align: top;\n",
       "    }\n",
       "\n",
       "    .dataframe thead th {\n",
       "        text-align: right;\n",
       "    }\n",
       "</style>\n",
       "<table border=\"1\" class=\"dataframe\">\n",
       "  <thead>\n",
       "    <tr style=\"text-align: right;\">\n",
       "      <th></th>\n",
       "      <th>W Goals</th>\n",
       "      <th>L Goals</th>\n",
       "    </tr>\n",
       "    <tr>\n",
       "      <th>Round</th>\n",
       "      <th></th>\n",
       "      <th></th>\n",
       "    </tr>\n",
       "  </thead>\n",
       "  <tbody>\n",
       "    <tr>\n",
       "      <th>3rd Place</th>\n",
       "      <td>2</td>\n",
       "      <td>1</td>\n",
       "    </tr>\n",
       "    <tr>\n",
       "      <th>Championship</th>\n",
       "      <td>2</td>\n",
       "      <td>0</td>\n",
       "    </tr>\n",
       "    <tr>\n",
       "      <th>Quarters</th>\n",
       "      <td>9</td>\n",
       "      <td>2</td>\n",
       "    </tr>\n",
       "    <tr>\n",
       "      <th>Semis</th>\n",
       "      <td>3</td>\n",
       "      <td>1</td>\n",
       "    </tr>\n",
       "  </tbody>\n",
       "</table>\n",
       "</div>"
      ],
      "text/plain": [
       "              W Goals  L Goals\n",
       "Round                         \n",
       "3rd Place           2        1\n",
       "Championship        2        0\n",
       "Quarters            9        2\n",
       "Semis               3        1"
      ]
     },
     "execution_count": 41,
     "metadata": {},
     "output_type": "execute_result"
    }
   ],
   "source": [
    "# binds `group_by_round` to an object of type DataFrameGroupBy\n",
    "grouped_by_round = wwc.groupby('Round')\n",
    "\n",
    "# apply the aggregator sum to that object to generate a DataFrame.\n",
    "grouped_by_round.sum()"
   ]
  },
  {
   "cell_type": "markdown",
   "metadata": {},
   "source": [
    "The code "
   ]
  },
  {
   "cell_type": "code",
   "execution_count": 42,
   "metadata": {},
   "outputs": [
    {
     "data": {
      "text/html": [
       "<div>\n",
       "<style scoped>\n",
       "    .dataframe tbody tr th:only-of-type {\n",
       "        vertical-align: middle;\n",
       "    }\n",
       "\n",
       "    .dataframe tbody tr th {\n",
       "        vertical-align: top;\n",
       "    }\n",
       "\n",
       "    .dataframe thead th {\n",
       "        text-align: right;\n",
       "    }\n",
       "</style>\n",
       "<table border=\"1\" class=\"dataframe\">\n",
       "  <thead>\n",
       "    <tr style=\"text-align: right;\">\n",
       "      <th></th>\n",
       "      <th>W Goals</th>\n",
       "      <th>L Goals</th>\n",
       "    </tr>\n",
       "    <tr>\n",
       "      <th>Winner</th>\n",
       "      <th></th>\n",
       "      <th></th>\n",
       "    </tr>\n",
       "  </thead>\n",
       "  <tbody>\n",
       "    <tr>\n",
       "      <th>England</th>\n",
       "      <td>3.0</td>\n",
       "      <td>0.000000</td>\n",
       "    </tr>\n",
       "    <tr>\n",
       "      <th>Netherlands</th>\n",
       "      <td>1.5</td>\n",
       "      <td>0.000000</td>\n",
       "    </tr>\n",
       "    <tr>\n",
       "      <th>Sweden</th>\n",
       "      <td>2.0</td>\n",
       "      <td>1.000000</td>\n",
       "    </tr>\n",
       "    <tr>\n",
       "      <th>USA</th>\n",
       "      <td>2.0</td>\n",
       "      <td>0.666667</td>\n",
       "    </tr>\n",
       "  </tbody>\n",
       "</table>\n",
       "</div>"
      ],
      "text/plain": [
       "             W Goals   L Goals\n",
       "Winner                        \n",
       "England          3.0  0.000000\n",
       "Netherlands      1.5  0.000000\n",
       "Sweden           2.0  1.000000\n",
       "USA              2.0  0.666667"
      ]
     },
     "execution_count": 42,
     "metadata": {},
     "output_type": "execute_result"
    }
   ],
   "source": [
    "wwc.groupby('Winner').mean()"
   ]
  },
  {
   "cell_type": "markdown",
   "metadata": {},
   "source": [
    "From this we can easily see that `England averaged three goals` in the games it won, while shutting out its opponents."
   ]
  },
  {
   "cell_type": "markdown",
   "metadata": {},
   "source": [
    "The code "
   ]
  },
  {
   "cell_type": "code",
   "execution_count": 43,
   "metadata": {},
   "outputs": [
    {
     "data": {
      "text/html": [
       "<div>\n",
       "<style scoped>\n",
       "    .dataframe tbody tr th:only-of-type {\n",
       "        vertical-align: middle;\n",
       "    }\n",
       "\n",
       "    .dataframe tbody tr th {\n",
       "        vertical-align: top;\n",
       "    }\n",
       "\n",
       "    .dataframe thead th {\n",
       "        text-align: right;\n",
       "    }\n",
       "</style>\n",
       "<table border=\"1\" class=\"dataframe\">\n",
       "  <thead>\n",
       "    <tr style=\"text-align: right;\">\n",
       "      <th></th>\n",
       "      <th></th>\n",
       "      <th>W Goals</th>\n",
       "      <th>L Goals</th>\n",
       "    </tr>\n",
       "    <tr>\n",
       "      <th>Loser</th>\n",
       "      <th>Round</th>\n",
       "      <th></th>\n",
       "      <th></th>\n",
       "    </tr>\n",
       "  </thead>\n",
       "  <tbody>\n",
       "    <tr>\n",
       "      <th rowspan=\"2\" valign=\"top\">England</th>\n",
       "      <th>3rd Place</th>\n",
       "      <td>2.0</td>\n",
       "      <td>1.0</td>\n",
       "    </tr>\n",
       "    <tr>\n",
       "      <th>Semis</th>\n",
       "      <td>2.0</td>\n",
       "      <td>1.0</td>\n",
       "    </tr>\n",
       "    <tr>\n",
       "      <th>France</th>\n",
       "      <th>Quarters</th>\n",
       "      <td>2.0</td>\n",
       "      <td>1.0</td>\n",
       "    </tr>\n",
       "    <tr>\n",
       "      <th>Germany</th>\n",
       "      <th>Quarters</th>\n",
       "      <td>2.0</td>\n",
       "      <td>1.0</td>\n",
       "    </tr>\n",
       "    <tr>\n",
       "      <th>Italy</th>\n",
       "      <th>Quarters</th>\n",
       "      <td>2.0</td>\n",
       "      <td>0.0</td>\n",
       "    </tr>\n",
       "    <tr>\n",
       "      <th>Netherlands</th>\n",
       "      <th>Championship</th>\n",
       "      <td>2.0</td>\n",
       "      <td>0.0</td>\n",
       "    </tr>\n",
       "    <tr>\n",
       "      <th>Norway</th>\n",
       "      <th>Quarters</th>\n",
       "      <td>3.0</td>\n",
       "      <td>0.0</td>\n",
       "    </tr>\n",
       "    <tr>\n",
       "      <th>Sweden</th>\n",
       "      <th>Semis</th>\n",
       "      <td>1.0</td>\n",
       "      <td>0.0</td>\n",
       "    </tr>\n",
       "  </tbody>\n",
       "</table>\n",
       "</div>"
      ],
      "text/plain": [
       "                          W Goals  L Goals\n",
       "Loser       Round                         \n",
       "England     3rd Place         2.0      1.0\n",
       "            Semis             2.0      1.0\n",
       "France      Quarters          2.0      1.0\n",
       "Germany     Quarters          2.0      1.0\n",
       "Italy       Quarters          2.0      0.0\n",
       "Netherlands Championship      2.0      0.0\n",
       "Norway      Quarters          3.0      0.0\n",
       "Sweden      Semis             1.0      0.0"
      ]
     },
     "execution_count": 43,
     "metadata": {},
     "output_type": "execute_result"
    }
   ],
   "source": [
    "wwc.groupby(['Loser', 'Round']).mean()"
   ]
  },
  {
   "cell_type": "markdown",
   "metadata": {},
   "source": [
    "From this we can easily see that `England averaged one goal in the games it lost, while giving up two`.\n"
   ]
  },
  {
   "cell_type": "markdown",
   "metadata": {},
   "source": [
    "### 4 Selection by Content\n",
    "\n",
    "Suppose we want to select all of the **rows** for games **won** by **Sweden** from the DataFrame `www` \n",
    "\n",
    "Since this DataFrame is a **small** one, we could look at each row and find the **indices of the rows** corresponding to those games.\n",
    "\n",
    "Of course, that approach `doesn't` scale to **large** DataFrames. \n",
    "\n",
    "Fortunately, \n",
    "\n",
    "* it is easy to **select rows** based on their **contents** using something called **Boolean indexing**"
   ]
  },
  {
   "cell_type": "markdown",
   "metadata": {},
   "source": [
    "The basic idea is to write a **logical expression** referring to the values contained in the DataFrame.\n",
    "\n",
    "That expression is then evaluated on each row of the DataFrame, and the rows for which it evaluates to `True` are selected.\n",
    "\n",
    "The expression `wwc.loc[wwc['Winner']=='Sweden']` evaluates to the DataFram"
   ]
  },
  {
   "cell_type": "code",
   "execution_count": 44,
   "metadata": {},
   "outputs": [
    {
     "data": {
      "text/html": [
       "<div>\n",
       "<style scoped>\n",
       "    .dataframe tbody tr th:only-of-type {\n",
       "        vertical-align: middle;\n",
       "    }\n",
       "\n",
       "    .dataframe tbody tr th {\n",
       "        vertical-align: top;\n",
       "    }\n",
       "\n",
       "    .dataframe thead th {\n",
       "        text-align: right;\n",
       "    }\n",
       "</style>\n",
       "<table border=\"1\" class=\"dataframe\">\n",
       "  <thead>\n",
       "    <tr style=\"text-align: right;\">\n",
       "      <th></th>\n",
       "      <th>Round</th>\n",
       "      <th>Winner</th>\n",
       "      <th>W Goals</th>\n",
       "      <th>Loser</th>\n",
       "      <th>L Goals</th>\n",
       "    </tr>\n",
       "  </thead>\n",
       "  <tbody>\n",
       "    <tr>\n",
       "      <th>3</th>\n",
       "      <td>Quarters</td>\n",
       "      <td>Sweden</td>\n",
       "      <td>2</td>\n",
       "      <td>Germany</td>\n",
       "      <td>1</td>\n",
       "    </tr>\n",
       "    <tr>\n",
       "      <th>6</th>\n",
       "      <td>3rd Place</td>\n",
       "      <td>Sweden</td>\n",
       "      <td>2</td>\n",
       "      <td>England</td>\n",
       "      <td>1</td>\n",
       "    </tr>\n",
       "  </tbody>\n",
       "</table>\n",
       "</div>"
      ],
      "text/plain": [
       "       Round  Winner  W Goals    Loser  L Goals\n",
       "3   Quarters  Sweden        2  Germany        1\n",
       "6  3rd Place  Sweden        2  England        1"
      ]
     },
     "execution_count": 44,
     "metadata": {},
     "output_type": "execute_result"
    }
   ],
   "source": [
    "wwc.loc[wwc['Winner']=='Sweden']"
   ]
  },
  {
   "cell_type": "markdown",
   "metadata": {},
   "source": [
    "Retrieving **all** of the games involving `Sweden` is only a little more complicated. \n",
    "\n",
    "The logical operators `&` (corresponding to and),`|` (corresponding to or), and `–` (corresponding to not) can be used to\n",
    "form expressions. \n",
    "\n",
    "The expression `wwc.loc[(wwc['Winner']=='Sweden') | (wwc['Loser'] =='Sweden')]` returns"
   ]
  },
  {
   "cell_type": "code",
   "execution_count": 45,
   "metadata": {},
   "outputs": [
    {
     "data": {
      "text/html": [
       "<div>\n",
       "<style scoped>\n",
       "    .dataframe tbody tr th:only-of-type {\n",
       "        vertical-align: middle;\n",
       "    }\n",
       "\n",
       "    .dataframe tbody tr th {\n",
       "        vertical-align: top;\n",
       "    }\n",
       "\n",
       "    .dataframe thead th {\n",
       "        text-align: right;\n",
       "    }\n",
       "</style>\n",
       "<table border=\"1\" class=\"dataframe\">\n",
       "  <thead>\n",
       "    <tr style=\"text-align: right;\">\n",
       "      <th></th>\n",
       "      <th>Round</th>\n",
       "      <th>Winner</th>\n",
       "      <th>W Goals</th>\n",
       "      <th>Loser</th>\n",
       "      <th>L Goals</th>\n",
       "    </tr>\n",
       "  </thead>\n",
       "  <tbody>\n",
       "    <tr>\n",
       "      <th>3</th>\n",
       "      <td>Quarters</td>\n",
       "      <td>Sweden</td>\n",
       "      <td>2</td>\n",
       "      <td>Germany</td>\n",
       "      <td>1</td>\n",
       "    </tr>\n",
       "    <tr>\n",
       "      <th>5</th>\n",
       "      <td>Semis</td>\n",
       "      <td>Netherlands</td>\n",
       "      <td>1</td>\n",
       "      <td>Sweden</td>\n",
       "      <td>0</td>\n",
       "    </tr>\n",
       "    <tr>\n",
       "      <th>6</th>\n",
       "      <td>3rd Place</td>\n",
       "      <td>Sweden</td>\n",
       "      <td>2</td>\n",
       "      <td>England</td>\n",
       "      <td>1</td>\n",
       "    </tr>\n",
       "  </tbody>\n",
       "</table>\n",
       "</div>"
      ],
      "text/plain": [
       "       Round       Winner  W Goals    Loser  L Goals\n",
       "3   Quarters       Sweden        2  Germany        1\n",
       "5      Semis  Netherlands        1   Sweden        0\n",
       "6  3rd Place       Sweden        2  England        1"
      ]
     },
     "execution_count": 45,
     "metadata": {},
     "output_type": "execute_result"
    }
   ],
   "source": [
    "wwc.loc[(wwc['Winner']=='Sweden') | (wwc['Loser'] =='Sweden')]"
   ]
  },
  {
   "cell_type": "markdown",
   "metadata": {},
   "source": [
    "If we expect to do many queries selecting games in which a country participated, it might be convenient to define the function"
   ]
  },
  {
   "cell_type": "code",
   "execution_count": 46,
   "metadata": {},
   "outputs": [],
   "source": [
    "def get_country(df, country):\n",
    "    \"\"\"df a DataFrame with series labeled Winner and Loser\n",
    "            country a str\n",
    "        returns a DataFrame with all rows in which country\n",
    "          appears in\n",
    "           either the Winner or Loser column\"\"\"\n",
    "    return df.loc[(df['Winner'] == country) | (df['Loser']== country)]"
   ]
  },
  {
   "cell_type": "markdown",
   "metadata": {},
   "source": [
    "Since `get_country` returns a DataFrame, it is easy to extract the games between **pairs of teams** by composing two calls of `get_country`.\n",
    "\n",
    "For example, \n",
    "\n",
    "evaluating `get_country(get_country(wwc,‘Sweden'),'Germany')` extracts the one game (teams play each other at most once during a knockout round) between these two teams."
   ]
  },
  {
   "cell_type": "code",
   "execution_count": 47,
   "metadata": {},
   "outputs": [
    {
     "data": {
      "text/html": [
       "<div>\n",
       "<style scoped>\n",
       "    .dataframe tbody tr th:only-of-type {\n",
       "        vertical-align: middle;\n",
       "    }\n",
       "\n",
       "    .dataframe tbody tr th {\n",
       "        vertical-align: top;\n",
       "    }\n",
       "\n",
       "    .dataframe thead th {\n",
       "        text-align: right;\n",
       "    }\n",
       "</style>\n",
       "<table border=\"1\" class=\"dataframe\">\n",
       "  <thead>\n",
       "    <tr style=\"text-align: right;\">\n",
       "      <th></th>\n",
       "      <th>Round</th>\n",
       "      <th>Winner</th>\n",
       "      <th>W Goals</th>\n",
       "      <th>Loser</th>\n",
       "      <th>L Goals</th>\n",
       "    </tr>\n",
       "  </thead>\n",
       "  <tbody>\n",
       "    <tr>\n",
       "      <th>3</th>\n",
       "      <td>Quarters</td>\n",
       "      <td>Sweden</td>\n",
       "      <td>2</td>\n",
       "      <td>Germany</td>\n",
       "      <td>1</td>\n",
       "    </tr>\n",
       "  </tbody>\n",
       "</table>\n",
       "</div>"
      ],
      "text/plain": [
       "      Round  Winner  W Goals    Loser  L Goals\n",
       "3  Quarters  Sweden        2  Germany        1"
      ]
     },
     "execution_count": 47,
     "metadata": {},
     "output_type": "execute_result"
    }
   ],
   "source": [
    "get_country(get_country(wwc,'Sweden'),'Germany')"
   ]
  },
  {
   "cell_type": "markdown",
   "metadata": {},
   "source": [
    "Suppose we want to generalize `get_country` so that it accepts a `list` of countries as an argument and returns `all games` in which any of\n",
    "the countries in the list played. \n",
    "\n",
    "We can do this using the **isin** method:\n"
   ]
  },
  {
   "cell_type": "code",
   "execution_count": 48,
   "metadata": {},
   "outputs": [],
   "source": [
    "def get_games(df, countries):\n",
    "    return df[(df['Winner'].isin(countries)) | (df['Loser'].isin(countries))] "
   ]
  },
  {
   "cell_type": "markdown",
   "metadata": {},
   "source": [
    "The `isin` method filters a DataFrame by selecting only those rows with a specified value (or element of a specified collection of values)\n",
    "in a specified column. \n",
    "\n",
    "The expression \n",
    "```python\n",
    "df['Winner'].isin(countries)\n",
    "```\n",
    "in the implementation of `get_games` selects those rows in `df` in which the column Winner contains an element in the list countries"
   ]
  },
  {
   "cell_type": "code",
   "execution_count": 49,
   "metadata": {},
   "outputs": [
    {
     "data": {
      "text/html": [
       "<div>\n",
       "<style scoped>\n",
       "    .dataframe tbody tr th:only-of-type {\n",
       "        vertical-align: middle;\n",
       "    }\n",
       "\n",
       "    .dataframe tbody tr th {\n",
       "        vertical-align: top;\n",
       "    }\n",
       "\n",
       "    .dataframe thead th {\n",
       "        text-align: right;\n",
       "    }\n",
       "</style>\n",
       "<table border=\"1\" class=\"dataframe\">\n",
       "  <thead>\n",
       "    <tr style=\"text-align: right;\">\n",
       "      <th></th>\n",
       "      <th>Round</th>\n",
       "      <th>Winner</th>\n",
       "      <th>W Goals</th>\n",
       "      <th>Loser</th>\n",
       "      <th>L Goals</th>\n",
       "    </tr>\n",
       "  </thead>\n",
       "  <tbody>\n",
       "    <tr>\n",
       "      <th>3</th>\n",
       "      <td>Quarters</td>\n",
       "      <td>Sweden</td>\n",
       "      <td>2</td>\n",
       "      <td>Germany</td>\n",
       "      <td>1</td>\n",
       "    </tr>\n",
       "    <tr>\n",
       "      <th>5</th>\n",
       "      <td>Semis</td>\n",
       "      <td>Netherlands</td>\n",
       "      <td>1</td>\n",
       "      <td>Sweden</td>\n",
       "      <td>0</td>\n",
       "    </tr>\n",
       "    <tr>\n",
       "      <th>6</th>\n",
       "      <td>3rd Place</td>\n",
       "      <td>Sweden</td>\n",
       "      <td>2</td>\n",
       "      <td>England</td>\n",
       "      <td>1</td>\n",
       "    </tr>\n",
       "  </tbody>\n",
       "</table>\n",
       "</div>"
      ],
      "text/plain": [
       "       Round       Winner  W Goals    Loser  L Goals\n",
       "3   Quarters       Sweden        2  Germany        1\n",
       "5      Semis  Netherlands        1   Sweden        0\n",
       "6  3rd Place       Sweden        2  England        1"
      ]
     },
     "execution_count": 49,
     "metadata": {},
     "output_type": "execute_result"
    }
   ],
   "source": [
    "get_games(wwc,['Sweden','Germany'])"
   ]
  },
  {
   "cell_type": "markdown",
   "metadata": {},
   "source": [
    "## 4 Manipulating the Data in a DataFrame\n",
    "\n",
    "We've now looked at some simple ways to create and select parts of DataFrames. One of the things that makes DataFrames worth\n",
    "creating is the ease of extracting aggregate information from them.\n",
    "\n",
    "Let's start by looking at some ways we might extract aggregate information from the DataFrame wwc, pictured in Figure 23-1.\n",
    "\n",
    "The columns of a DataFrame can be operated on in ways that are analogous to the ways we operate on numpy arrays.\n",
    "\n",
    "For example,analogous to the way the expression `2*np.array([1,2,3])` evaluates to the array `[2 4 6]`, \n"
   ]
  },
  {
   "cell_type": "code",
   "execution_count": 50,
   "metadata": {},
   "outputs": [
    {
     "data": {
      "text/plain": [
       "array([2, 4, 6])"
      ]
     },
     "execution_count": 50,
     "metadata": {},
     "output_type": "execute_result"
    }
   ],
   "source": [
    "import numpy as np\n",
    "2*np.array([1,2,3])"
   ]
  },
  {
   "cell_type": "markdown",
   "metadata": {},
   "source": [
    "the expression `2*wwc['W Goals']` evaluates to the series"
   ]
  },
  {
   "cell_type": "code",
   "execution_count": 51,
   "metadata": {},
   "outputs": [
    {
     "data": {
      "text/plain": [
       "0    6\n",
       "1    4\n",
       "2    4\n",
       "3    4\n",
       "4    4\n",
       "5    2\n",
       "6    4\n",
       "7    4\n",
       "Name: W Goals, dtype: int64"
      ]
     },
     "execution_count": 51,
     "metadata": {},
     "output_type": "execute_result"
    }
   ],
   "source": [
    "2*wwc['W Goals']"
   ]
  },
  {
   "cell_type": "markdown",
   "metadata": {},
   "source": [
    "## 5 An Extended Example\n",
    "\n",
    "In this section we will look at two datasets, \n",
    "\n",
    "* one containing historical **temperature** data for 21 U.S. cities(20,088 dates) and \n",
    "\n",
    "* the other historical data about the global use of **fossil fuels.**\n",
    "\n",
    "### 5.1 Temperature Data\n",
    "\n",
    "The first two lines of code set default options that limit the number of rows and columns shown when printing DataFrames.\n",
    "\n",
    "The function `reset_option` can be used to set an option back to the system default value."
   ]
  },
  {
   "cell_type": "code",
   "execution_count": 52,
   "metadata": {},
   "outputs": [
    {
     "data": {
      "text/html": [
       "<div>\n",
       "<style scoped>\n",
       "    .dataframe tbody tr th:only-of-type {\n",
       "        vertical-align: middle;\n",
       "    }\n",
       "\n",
       "    .dataframe tbody tr th {\n",
       "        vertical-align: top;\n",
       "    }\n",
       "\n",
       "    .dataframe thead th {\n",
       "        text-align: right;\n",
       "    }\n",
       "</style>\n",
       "<table border=\"1\" class=\"dataframe\">\n",
       "  <thead>\n",
       "    <tr style=\"text-align: right;\">\n",
       "      <th></th>\n",
       "      <th>Date</th>\n",
       "      <th>Albuquerque</th>\n",
       "      <th>Baltimore</th>\n",
       "      <th>Boston</th>\n",
       "      <th>Charlotte</th>\n",
       "      <th>...</th>\n",
       "      <th>San Francisco</th>\n",
       "      <th>San Juan</th>\n",
       "      <th>Seattle</th>\n",
       "      <th>St Louis</th>\n",
       "      <th>Tampa</th>\n",
       "    </tr>\n",
       "  </thead>\n",
       "  <tbody>\n",
       "    <tr>\n",
       "      <th>0</th>\n",
       "      <td>19610101</td>\n",
       "      <td>-0.55</td>\n",
       "      <td>3.35</td>\n",
       "      <td>1.95</td>\n",
       "      <td>7.25</td>\n",
       "      <td>...</td>\n",
       "      <td>8.05</td>\n",
       "      <td>24.45</td>\n",
       "      <td>3.10</td>\n",
       "      <td>-0.55</td>\n",
       "      <td>15.00</td>\n",
       "    </tr>\n",
       "    <tr>\n",
       "      <th>1</th>\n",
       "      <td>19610102</td>\n",
       "      <td>-2.50</td>\n",
       "      <td>0.00</td>\n",
       "      <td>-0.80</td>\n",
       "      <td>4.45</td>\n",
       "      <td>...</td>\n",
       "      <td>5.85</td>\n",
       "      <td>25.00</td>\n",
       "      <td>0.55</td>\n",
       "      <td>-0.55</td>\n",
       "      <td>13.60</td>\n",
       "    </tr>\n",
       "    <tr>\n",
       "      <th>2</th>\n",
       "      <td>19610103</td>\n",
       "      <td>-2.50</td>\n",
       "      <td>0.85</td>\n",
       "      <td>-3.05</td>\n",
       "      <td>2.20</td>\n",
       "      <td>...</td>\n",
       "      <td>4.70</td>\n",
       "      <td>24.75</td>\n",
       "      <td>0.00</td>\n",
       "      <td>0.30</td>\n",
       "      <td>11.95</td>\n",
       "    </tr>\n",
       "    <tr>\n",
       "      <th>...</th>\n",
       "      <td>...</td>\n",
       "      <td>...</td>\n",
       "      <td>...</td>\n",
       "      <td>...</td>\n",
       "      <td>...</td>\n",
       "      <td>...</td>\n",
       "      <td>...</td>\n",
       "      <td>...</td>\n",
       "      <td>...</td>\n",
       "      <td>...</td>\n",
       "      <td>...</td>\n",
       "    </tr>\n",
       "    <tr>\n",
       "      <th>20085</th>\n",
       "      <td>20151229</td>\n",
       "      <td>-2.15</td>\n",
       "      <td>9.45</td>\n",
       "      <td>0.05</td>\n",
       "      <td>17.20</td>\n",
       "      <td>...</td>\n",
       "      <td>7.20</td>\n",
       "      <td>26.10</td>\n",
       "      <td>3.90</td>\n",
       "      <td>1.40</td>\n",
       "      <td>26.10</td>\n",
       "    </tr>\n",
       "    <tr>\n",
       "      <th>20086</th>\n",
       "      <td>20151230</td>\n",
       "      <td>-2.75</td>\n",
       "      <td>9.70</td>\n",
       "      <td>-0.50</td>\n",
       "      <td>18.05</td>\n",
       "      <td>...</td>\n",
       "      <td>6.90</td>\n",
       "      <td>25.80</td>\n",
       "      <td>2.30</td>\n",
       "      <td>0.60</td>\n",
       "      <td>25.55</td>\n",
       "    </tr>\n",
       "    <tr>\n",
       "      <th>20087</th>\n",
       "      <td>20151231</td>\n",
       "      <td>-0.75</td>\n",
       "      <td>9.75</td>\n",
       "      <td>4.45</td>\n",
       "      <td>15.30</td>\n",
       "      <td>...</td>\n",
       "      <td>7.25</td>\n",
       "      <td>25.55</td>\n",
       "      <td>1.75</td>\n",
       "      <td>-0.25</td>\n",
       "      <td>25.55</td>\n",
       "    </tr>\n",
       "  </tbody>\n",
       "</table>\n",
       "<p>20088 rows × 22 columns</p>\n",
       "</div>"
      ],
      "text/plain": [
       "           Date  Albuquerque  Baltimore  Boston  Charlotte  ...  \\\n",
       "0      19610101        -0.55       3.35    1.95       7.25  ...   \n",
       "1      19610102        -2.50       0.00   -0.80       4.45  ...   \n",
       "2      19610103        -2.50       0.85   -3.05       2.20  ...   \n",
       "...         ...          ...        ...     ...        ...  ...   \n",
       "20085  20151229        -2.15       9.45    0.05      17.20  ...   \n",
       "20086  20151230        -2.75       9.70   -0.50      18.05  ...   \n",
       "20087  20151231        -0.75       9.75    4.45      15.30  ...   \n",
       "\n",
       "       San Francisco  San Juan  Seattle  St Louis  Tampa  \n",
       "0               8.05     24.45     3.10     -0.55  15.00  \n",
       "1               5.85     25.00     0.55     -0.55  13.60  \n",
       "2               4.70     24.75     0.00      0.30  11.95  \n",
       "...              ...       ...      ...       ...    ...  \n",
       "20085           7.20     26.10     3.90      1.40  26.10  \n",
       "20086           6.90     25.80     2.30      0.60  25.55  \n",
       "20087           7.25     25.55     1.75     -0.25  25.55  \n",
       "\n",
       "[20088 rows x 22 columns]"
      ]
     },
     "execution_count": 52,
     "metadata": {},
     "output_type": "execute_result"
    }
   ],
   "source": [
    "import pandas as pd\n",
    "pd.set_option('display.max_rows', 6)\n",
    "pd.set_option('display.max_columns',10)\n",
    "temperatures = pd.read_csv('./data/US_temperatures.csv')\n",
    "temperatures"
   ]
  },
  {
   "cell_type": "markdown",
   "metadata": {},
   "source": [
    "This DataFrame is organized in a way that makes it easy to see what the weather was like in different **cities** on specific **dates**.\n",
    "\n",
    "For example, the query\n"
   ]
  },
  {
   "cell_type": "code",
   "execution_count": 53,
   "metadata": {},
   "outputs": [
    {
     "data": {
      "text/html": [
       "<div>\n",
       "<style scoped>\n",
       "    .dataframe tbody tr th:only-of-type {\n",
       "        vertical-align: middle;\n",
       "    }\n",
       "\n",
       "    .dataframe tbody tr th {\n",
       "        vertical-align: top;\n",
       "    }\n",
       "\n",
       "    .dataframe thead th {\n",
       "        text-align: right;\n",
       "    }\n",
       "</style>\n",
       "<table border=\"1\" class=\"dataframe\">\n",
       "  <thead>\n",
       "    <tr style=\"text-align: right;\">\n",
       "      <th></th>\n",
       "      <th>New York</th>\n",
       "      <th>Tampa</th>\n",
       "    </tr>\n",
       "  </thead>\n",
       "  <tbody>\n",
       "    <tr>\n",
       "      <th>6797</th>\n",
       "      <td>15.0</td>\n",
       "      <td>25.55</td>\n",
       "    </tr>\n",
       "  </tbody>\n",
       "</table>\n",
       "</div>"
      ],
      "text/plain": [
       "      New York  Tampa\n",
       "6797      15.0  25.55"
      ]
     },
     "execution_count": 53,
     "metadata": {},
     "output_type": "execute_result"
    }
   ],
   "source": [
    "temperatures.loc[temperatures['Date']==19790812][['New York','Tampa']]"
   ]
  },
  {
   "cell_type": "markdown",
   "metadata": {},
   "source": [
    "tells us that on August 12, 1979, the temperature in New York was $15C$ and in Tampa $25.55C$.\n",
    "\n",
    "Unfortunately, looking at data from 21 cities for 20,088 dates doesn't give us much direct insight into larger questions related to\n",
    "temperature trends. \n",
    "\n",
    "Let's start by adding columns that provide **summary** information about the temperatures each day. \n",
    "\n",
    "The code\n"
   ]
  },
  {
   "cell_type": "code",
   "execution_count": 54,
   "metadata": {},
   "outputs": [
    {
     "data": {
      "text/html": [
       "<div>\n",
       "<style scoped>\n",
       "    .dataframe tbody tr th:only-of-type {\n",
       "        vertical-align: middle;\n",
       "    }\n",
       "\n",
       "    .dataframe tbody tr th {\n",
       "        vertical-align: top;\n",
       "    }\n",
       "\n",
       "    .dataframe thead th {\n",
       "        text-align: right;\n",
       "    }\n",
       "</style>\n",
       "<table border=\"1\" class=\"dataframe\">\n",
       "  <thead>\n",
       "    <tr style=\"text-align: right;\">\n",
       "      <th></th>\n",
       "      <th>Date</th>\n",
       "      <th>Albuquerque</th>\n",
       "      <th>Baltimore</th>\n",
       "      <th>Boston</th>\n",
       "      <th>Charlotte</th>\n",
       "      <th>...</th>\n",
       "      <th>St Louis</th>\n",
       "      <th>Tampa</th>\n",
       "      <th>Max T</th>\n",
       "      <th>Min T</th>\n",
       "      <th>Mean T</th>\n",
       "    </tr>\n",
       "  </thead>\n",
       "  <tbody>\n",
       "    <tr>\n",
       "      <th>0</th>\n",
       "      <td>19610101</td>\n",
       "      <td>-0.55</td>\n",
       "      <td>3.35</td>\n",
       "      <td>1.95</td>\n",
       "      <td>7.25</td>\n",
       "      <td>...</td>\n",
       "      <td>-0.55</td>\n",
       "      <td>15.00</td>\n",
       "      <td>19610101.0</td>\n",
       "      <td>-4.75</td>\n",
       "      <td>1634180.64</td>\n",
       "    </tr>\n",
       "    <tr>\n",
       "      <th>1</th>\n",
       "      <td>19610102</td>\n",
       "      <td>-2.50</td>\n",
       "      <td>0.00</td>\n",
       "      <td>-0.80</td>\n",
       "      <td>4.45</td>\n",
       "      <td>...</td>\n",
       "      <td>-0.55</td>\n",
       "      <td>13.60</td>\n",
       "      <td>19610102.0</td>\n",
       "      <td>-5.00</td>\n",
       "      <td>1634179.19</td>\n",
       "    </tr>\n",
       "    <tr>\n",
       "      <th>2</th>\n",
       "      <td>19610103</td>\n",
       "      <td>-2.50</td>\n",
       "      <td>0.85</td>\n",
       "      <td>-3.05</td>\n",
       "      <td>2.20</td>\n",
       "      <td>...</td>\n",
       "      <td>0.30</td>\n",
       "      <td>11.95</td>\n",
       "      <td>19610103.0</td>\n",
       "      <td>-10.80</td>\n",
       "      <td>1634178.53</td>\n",
       "    </tr>\n",
       "    <tr>\n",
       "      <th>...</th>\n",
       "      <td>...</td>\n",
       "      <td>...</td>\n",
       "      <td>...</td>\n",
       "      <td>...</td>\n",
       "      <td>...</td>\n",
       "      <td>...</td>\n",
       "      <td>...</td>\n",
       "      <td>...</td>\n",
       "      <td>...</td>\n",
       "      <td>...</td>\n",
       "      <td>...</td>\n",
       "    </tr>\n",
       "    <tr>\n",
       "      <th>20085</th>\n",
       "      <td>20151229</td>\n",
       "      <td>-2.15</td>\n",
       "      <td>9.45</td>\n",
       "      <td>0.05</td>\n",
       "      <td>17.20</td>\n",
       "      <td>...</td>\n",
       "      <td>1.40</td>\n",
       "      <td>26.10</td>\n",
       "      <td>20151229.0</td>\n",
       "      <td>-2.15</td>\n",
       "      <td>1679276.85</td>\n",
       "    </tr>\n",
       "    <tr>\n",
       "      <th>20086</th>\n",
       "      <td>20151230</td>\n",
       "      <td>-2.75</td>\n",
       "      <td>9.70</td>\n",
       "      <td>-0.50</td>\n",
       "      <td>18.05</td>\n",
       "      <td>...</td>\n",
       "      <td>0.60</td>\n",
       "      <td>25.55</td>\n",
       "      <td>20151230.0</td>\n",
       "      <td>-2.75</td>\n",
       "      <td>1679276.99</td>\n",
       "    </tr>\n",
       "    <tr>\n",
       "      <th>20087</th>\n",
       "      <td>20151231</td>\n",
       "      <td>-0.75</td>\n",
       "      <td>9.75</td>\n",
       "      <td>4.45</td>\n",
       "      <td>15.30</td>\n",
       "      <td>...</td>\n",
       "      <td>-0.25</td>\n",
       "      <td>25.55</td>\n",
       "      <td>20151231.0</td>\n",
       "      <td>-3.80</td>\n",
       "      <td>1679277.05</td>\n",
       "    </tr>\n",
       "  </tbody>\n",
       "</table>\n",
       "<p>20088 rows × 25 columns</p>\n",
       "</div>"
      ],
      "text/plain": [
       "           Date  Albuquerque  Baltimore  Boston  Charlotte  ...  St Louis  \\\n",
       "0      19610101        -0.55       3.35    1.95       7.25  ...     -0.55   \n",
       "1      19610102        -2.50       0.00   -0.80       4.45  ...     -0.55   \n",
       "2      19610103        -2.50       0.85   -3.05       2.20  ...      0.30   \n",
       "...         ...          ...        ...     ...        ...  ...       ...   \n",
       "20085  20151229        -2.15       9.45    0.05      17.20  ...      1.40   \n",
       "20086  20151230        -2.75       9.70   -0.50      18.05  ...      0.60   \n",
       "20087  20151231        -0.75       9.75    4.45      15.30  ...     -0.25   \n",
       "\n",
       "       Tampa       Max T  Min T      Mean T  \n",
       "0      15.00  19610101.0  -4.75  1634180.64  \n",
       "1      13.60  19610102.0  -5.00  1634179.19  \n",
       "2      11.95  19610103.0 -10.80  1634178.53  \n",
       "...      ...         ...    ...         ...  \n",
       "20085  26.10  20151229.0  -2.15  1679276.85  \n",
       "20086  25.55  20151230.0  -2.75  1679276.99  \n",
       "20087  25.55  20151231.0  -3.80  1679277.05  \n",
       "\n",
       "[20088 rows x 25 columns]"
      ]
     },
     "execution_count": 54,
     "metadata": {},
     "output_type": "execute_result"
    }
   ],
   "source": [
    "temperatures['Max T'] = temperatures.max(axis = 'columns')\n",
    "temperatures['Min T'] = temperatures.min(axis = 'columns')\n",
    "temperatures['Mean T'] = round(temperatures.mean(axis ='columns'), 2)\n",
    "temperatures"
   ]
  },
  {
   "cell_type": "code",
   "execution_count": 55,
   "metadata": {},
   "outputs": [
    {
     "data": {
      "text/html": [
       "<div>\n",
       "<style scoped>\n",
       "    .dataframe tbody tr th:only-of-type {\n",
       "        vertical-align: middle;\n",
       "    }\n",
       "\n",
       "    .dataframe tbody tr th {\n",
       "        vertical-align: top;\n",
       "    }\n",
       "\n",
       "    .dataframe thead th {\n",
       "        text-align: right;\n",
       "    }\n",
       "</style>\n",
       "<table border=\"1\" class=\"dataframe\">\n",
       "  <thead>\n",
       "    <tr style=\"text-align: right;\">\n",
       "      <th></th>\n",
       "      <th>Date</th>\n",
       "      <th>Albuquerque</th>\n",
       "      <th>Baltimore</th>\n",
       "      <th>Boston</th>\n",
       "      <th>Charlotte</th>\n",
       "      <th>...</th>\n",
       "      <th>St Louis</th>\n",
       "      <th>Tampa</th>\n",
       "      <th>Max T</th>\n",
       "      <th>Min T</th>\n",
       "      <th>Mean T</th>\n",
       "    </tr>\n",
       "  </thead>\n",
       "  <tbody>\n",
       "    <tr>\n",
       "      <th>14429</th>\n",
       "      <td>20000704</td>\n",
       "      <td>26.65</td>\n",
       "      <td>25.55</td>\n",
       "      <td>24.15</td>\n",
       "      <td>27.25</td>\n",
       "      <td>...</td>\n",
       "      <td>28.05</td>\n",
       "      <td>27.5</td>\n",
       "      <td>20000704.0</td>\n",
       "      <td>15.25</td>\n",
       "      <td>1666747.37</td>\n",
       "    </tr>\n",
       "  </tbody>\n",
       "</table>\n",
       "<p>1 rows × 25 columns</p>\n",
       "</div>"
      ],
      "text/plain": [
       "           Date  Albuquerque  Baltimore  Boston  Charlotte  ...  St Louis  \\\n",
       "14429  20000704        26.65      25.55   24.15      27.25  ...     28.05   \n",
       "\n",
       "       Tampa       Max T  Min T      Mean T  \n",
       "14429   27.5  20000704.0  15.25  1666747.37  \n",
       "\n",
       "[1 rows x 25 columns]"
      ]
     },
     "execution_count": 55,
     "metadata": {},
     "output_type": "execute_result"
    }
   ],
   "source": [
    "df_20000704=temperatures.loc[(temperatures[\"Date\"]==20000704)]\n",
    "df_20000704"
   ]
  },
  {
   "cell_type": "markdown",
   "metadata": {},
   "source": [
    "Was the mean temperature(`Mean T`) of those 21 cities on July 4, 2000,really much **higher** than the temperature on the surface of the sun?\n",
    "\n",
    "It seems more likely that there is a **bug** in our code.\n",
    "\n",
    "The problem is that our DataFrame encodes **dates** as **numbers**, and these `numbers` are used to `compute the mean of each row`.\n",
    "\n"
   ]
  },
  {
   "cell_type": "markdown",
   "metadata": {},
   "source": [
    "As many data sets do contain **datetime** information in one of the **columns**, pandas input function like `pandas.read_csv()` and `pandas.read_json()` can do the transformation to dates when reading the data using the `parse_dates` parameter with a list of the `columns` to read as `Timestamp`:"
   ]
  },
  {
   "cell_type": "code",
   "execution_count": 56,
   "metadata": {},
   "outputs": [
    {
     "data": {
      "text/html": [
       "<div>\n",
       "<style scoped>\n",
       "    .dataframe tbody tr th:only-of-type {\n",
       "        vertical-align: middle;\n",
       "    }\n",
       "\n",
       "    .dataframe tbody tr th {\n",
       "        vertical-align: top;\n",
       "    }\n",
       "\n",
       "    .dataframe thead th {\n",
       "        text-align: right;\n",
       "    }\n",
       "</style>\n",
       "<table border=\"1\" class=\"dataframe\">\n",
       "  <thead>\n",
       "    <tr style=\"text-align: right;\">\n",
       "      <th></th>\n",
       "      <th>Date</th>\n",
       "      <th>Albuquerque</th>\n",
       "      <th>Baltimore</th>\n",
       "      <th>Boston</th>\n",
       "      <th>Charlotte</th>\n",
       "      <th>...</th>\n",
       "      <th>San Francisco</th>\n",
       "      <th>San Juan</th>\n",
       "      <th>Seattle</th>\n",
       "      <th>St Louis</th>\n",
       "      <th>Tampa</th>\n",
       "    </tr>\n",
       "  </thead>\n",
       "  <tbody>\n",
       "    <tr>\n",
       "      <th>0</th>\n",
       "      <td>1961-01-01</td>\n",
       "      <td>-0.55</td>\n",
       "      <td>3.35</td>\n",
       "      <td>1.95</td>\n",
       "      <td>7.25</td>\n",
       "      <td>...</td>\n",
       "      <td>8.05</td>\n",
       "      <td>24.45</td>\n",
       "      <td>3.10</td>\n",
       "      <td>-0.55</td>\n",
       "      <td>15.00</td>\n",
       "    </tr>\n",
       "    <tr>\n",
       "      <th>1</th>\n",
       "      <td>1961-01-02</td>\n",
       "      <td>-2.50</td>\n",
       "      <td>0.00</td>\n",
       "      <td>-0.80</td>\n",
       "      <td>4.45</td>\n",
       "      <td>...</td>\n",
       "      <td>5.85</td>\n",
       "      <td>25.00</td>\n",
       "      <td>0.55</td>\n",
       "      <td>-0.55</td>\n",
       "      <td>13.60</td>\n",
       "    </tr>\n",
       "    <tr>\n",
       "      <th>2</th>\n",
       "      <td>1961-01-03</td>\n",
       "      <td>-2.50</td>\n",
       "      <td>0.85</td>\n",
       "      <td>-3.05</td>\n",
       "      <td>2.20</td>\n",
       "      <td>...</td>\n",
       "      <td>4.70</td>\n",
       "      <td>24.75</td>\n",
       "      <td>0.00</td>\n",
       "      <td>0.30</td>\n",
       "      <td>11.95</td>\n",
       "    </tr>\n",
       "    <tr>\n",
       "      <th>...</th>\n",
       "      <td>...</td>\n",
       "      <td>...</td>\n",
       "      <td>...</td>\n",
       "      <td>...</td>\n",
       "      <td>...</td>\n",
       "      <td>...</td>\n",
       "      <td>...</td>\n",
       "      <td>...</td>\n",
       "      <td>...</td>\n",
       "      <td>...</td>\n",
       "      <td>...</td>\n",
       "    </tr>\n",
       "    <tr>\n",
       "      <th>20085</th>\n",
       "      <td>2015-12-29</td>\n",
       "      <td>-2.15</td>\n",
       "      <td>9.45</td>\n",
       "      <td>0.05</td>\n",
       "      <td>17.20</td>\n",
       "      <td>...</td>\n",
       "      <td>7.20</td>\n",
       "      <td>26.10</td>\n",
       "      <td>3.90</td>\n",
       "      <td>1.40</td>\n",
       "      <td>26.10</td>\n",
       "    </tr>\n",
       "    <tr>\n",
       "      <th>20086</th>\n",
       "      <td>2015-12-30</td>\n",
       "      <td>-2.75</td>\n",
       "      <td>9.70</td>\n",
       "      <td>-0.50</td>\n",
       "      <td>18.05</td>\n",
       "      <td>...</td>\n",
       "      <td>6.90</td>\n",
       "      <td>25.80</td>\n",
       "      <td>2.30</td>\n",
       "      <td>0.60</td>\n",
       "      <td>25.55</td>\n",
       "    </tr>\n",
       "    <tr>\n",
       "      <th>20087</th>\n",
       "      <td>2015-12-31</td>\n",
       "      <td>-0.75</td>\n",
       "      <td>9.75</td>\n",
       "      <td>4.45</td>\n",
       "      <td>15.30</td>\n",
       "      <td>...</td>\n",
       "      <td>7.25</td>\n",
       "      <td>25.55</td>\n",
       "      <td>1.75</td>\n",
       "      <td>-0.25</td>\n",
       "      <td>25.55</td>\n",
       "    </tr>\n",
       "  </tbody>\n",
       "</table>\n",
       "<p>20088 rows × 22 columns</p>\n",
       "</div>"
      ],
      "text/plain": [
       "            Date  Albuquerque  Baltimore  Boston  Charlotte  ...  \\\n",
       "0     1961-01-01        -0.55       3.35    1.95       7.25  ...   \n",
       "1     1961-01-02        -2.50       0.00   -0.80       4.45  ...   \n",
       "2     1961-01-03        -2.50       0.85   -3.05       2.20  ...   \n",
       "...          ...          ...        ...     ...        ...  ...   \n",
       "20085 2015-12-29        -2.15       9.45    0.05      17.20  ...   \n",
       "20086 2015-12-30        -2.75       9.70   -0.50      18.05  ...   \n",
       "20087 2015-12-31        -0.75       9.75    4.45      15.30  ...   \n",
       "\n",
       "       San Francisco  San Juan  Seattle  St Louis  Tampa  \n",
       "0               8.05     24.45     3.10     -0.55  15.00  \n",
       "1               5.85     25.00     0.55     -0.55  13.60  \n",
       "2               4.70     24.75     0.00      0.30  11.95  \n",
       "...              ...       ...      ...       ...    ...  \n",
       "20085           7.20     26.10     3.90      1.40  26.10  \n",
       "20086           6.90     25.80     2.30      0.60  25.55  \n",
       "20087           7.25     25.55     1.75     -0.25  25.55  \n",
       "\n",
       "[20088 rows x 22 columns]"
      ]
     },
     "execution_count": 56,
     "metadata": {},
     "output_type": "execute_result"
    }
   ],
   "source": [
    "temperatures = pd.read_csv('./data/US_temperatures.csv',parse_dates=[\"Date\"])\n",
    "temperatures "
   ]
  },
  {
   "cell_type": "markdown",
   "metadata": {},
   "source": [
    "What is the start and end date of the time series data set we are working with?"
   ]
  },
  {
   "cell_type": "code",
   "execution_count": 57,
   "metadata": {},
   "outputs": [
    {
     "data": {
      "text/plain": [
       "(Timestamp('1961-01-01 00:00:00'), Timestamp('2015-12-31 00:00:00'))"
      ]
     },
     "execution_count": 57,
     "metadata": {},
     "output_type": "execute_result"
    }
   ],
   "source": [
    "temperatures[\"Date\"].min(), temperatures[\"Date\"].max()"
   ]
  },
  {
   "cell_type": "markdown",
   "metadata": {},
   "source": [
    "Using `pandas.Timestamp` for datetimes enables us to calculate with date information and make them comparable. Hence, we can use this to get the length of our time series:\n",
    "\n"
   ]
  },
  {
   "cell_type": "code",
   "execution_count": 58,
   "metadata": {},
   "outputs": [
    {
     "data": {
      "text/plain": [
       "Timedelta('20087 days 00:00:00')"
      ]
     },
     "execution_count": 58,
     "metadata": {},
     "output_type": "execute_result"
    }
   ],
   "source": [
    "temperatures[\"Date\"].max() - temperatures[\"Date\"].min()"
   ]
  },
  {
   "cell_type": "markdown",
   "metadata": {},
   "source": [
    "Conceptually, it might make more sense to think of the **date** as an **index** for a series of temperatures. So, let's change the DataFrame to make the dates indices. "
   ]
  },
  {
   "cell_type": "code",
   "execution_count": 59,
   "metadata": {},
   "outputs": [
    {
     "data": {
      "text/html": [
       "<div>\n",
       "<style scoped>\n",
       "    .dataframe tbody tr th:only-of-type {\n",
       "        vertical-align: middle;\n",
       "    }\n",
       "\n",
       "    .dataframe tbody tr th {\n",
       "        vertical-align: top;\n",
       "    }\n",
       "\n",
       "    .dataframe thead th {\n",
       "        text-align: right;\n",
       "    }\n",
       "</style>\n",
       "<table border=\"1\" class=\"dataframe\">\n",
       "  <thead>\n",
       "    <tr style=\"text-align: right;\">\n",
       "      <th></th>\n",
       "      <th>Albuquerque</th>\n",
       "      <th>Baltimore</th>\n",
       "      <th>Boston</th>\n",
       "      <th>Charlotte</th>\n",
       "      <th>Chicago</th>\n",
       "      <th>...</th>\n",
       "      <th>San Francisco</th>\n",
       "      <th>San Juan</th>\n",
       "      <th>Seattle</th>\n",
       "      <th>St Louis</th>\n",
       "      <th>Tampa</th>\n",
       "    </tr>\n",
       "    <tr>\n",
       "      <th>Date</th>\n",
       "      <th></th>\n",
       "      <th></th>\n",
       "      <th></th>\n",
       "      <th></th>\n",
       "      <th></th>\n",
       "      <th></th>\n",
       "      <th></th>\n",
       "      <th></th>\n",
       "      <th></th>\n",
       "      <th></th>\n",
       "      <th></th>\n",
       "    </tr>\n",
       "  </thead>\n",
       "  <tbody>\n",
       "    <tr>\n",
       "      <th>1961-01-01</th>\n",
       "      <td>-0.55</td>\n",
       "      <td>3.35</td>\n",
       "      <td>1.95</td>\n",
       "      <td>7.25</td>\n",
       "      <td>-4.75</td>\n",
       "      <td>...</td>\n",
       "      <td>8.05</td>\n",
       "      <td>24.45</td>\n",
       "      <td>3.10</td>\n",
       "      <td>-0.55</td>\n",
       "      <td>15.00</td>\n",
       "    </tr>\n",
       "    <tr>\n",
       "      <th>1961-01-02</th>\n",
       "      <td>-2.50</td>\n",
       "      <td>0.00</td>\n",
       "      <td>-0.80</td>\n",
       "      <td>4.45</td>\n",
       "      <td>-2.50</td>\n",
       "      <td>...</td>\n",
       "      <td>5.85</td>\n",
       "      <td>25.00</td>\n",
       "      <td>0.55</td>\n",
       "      <td>-0.55</td>\n",
       "      <td>13.60</td>\n",
       "    </tr>\n",
       "    <tr>\n",
       "      <th>1961-01-03</th>\n",
       "      <td>-2.50</td>\n",
       "      <td>0.85</td>\n",
       "      <td>-3.05</td>\n",
       "      <td>2.20</td>\n",
       "      <td>-10.80</td>\n",
       "      <td>...</td>\n",
       "      <td>4.70</td>\n",
       "      <td>24.75</td>\n",
       "      <td>0.00</td>\n",
       "      <td>0.30</td>\n",
       "      <td>11.95</td>\n",
       "    </tr>\n",
       "    <tr>\n",
       "      <th>...</th>\n",
       "      <td>...</td>\n",
       "      <td>...</td>\n",
       "      <td>...</td>\n",
       "      <td>...</td>\n",
       "      <td>...</td>\n",
       "      <td>...</td>\n",
       "      <td>...</td>\n",
       "      <td>...</td>\n",
       "      <td>...</td>\n",
       "      <td>...</td>\n",
       "      <td>...</td>\n",
       "    </tr>\n",
       "    <tr>\n",
       "      <th>2015-12-29</th>\n",
       "      <td>-2.15</td>\n",
       "      <td>9.45</td>\n",
       "      <td>0.05</td>\n",
       "      <td>17.20</td>\n",
       "      <td>1.15</td>\n",
       "      <td>...</td>\n",
       "      <td>7.20</td>\n",
       "      <td>26.10</td>\n",
       "      <td>3.90</td>\n",
       "      <td>1.40</td>\n",
       "      <td>26.10</td>\n",
       "    </tr>\n",
       "    <tr>\n",
       "      <th>2015-12-30</th>\n",
       "      <td>-2.75</td>\n",
       "      <td>9.70</td>\n",
       "      <td>-0.50</td>\n",
       "      <td>18.05</td>\n",
       "      <td>-2.15</td>\n",
       "      <td>...</td>\n",
       "      <td>6.90</td>\n",
       "      <td>25.80</td>\n",
       "      <td>2.30</td>\n",
       "      <td>0.60</td>\n",
       "      <td>25.55</td>\n",
       "    </tr>\n",
       "    <tr>\n",
       "      <th>2015-12-31</th>\n",
       "      <td>-0.75</td>\n",
       "      <td>9.75</td>\n",
       "      <td>4.45</td>\n",
       "      <td>15.30</td>\n",
       "      <td>-3.80</td>\n",
       "      <td>...</td>\n",
       "      <td>7.25</td>\n",
       "      <td>25.55</td>\n",
       "      <td>1.75</td>\n",
       "      <td>-0.25</td>\n",
       "      <td>25.55</td>\n",
       "    </tr>\n",
       "  </tbody>\n",
       "</table>\n",
       "<p>20088 rows × 21 columns</p>\n",
       "</div>"
      ],
      "text/plain": [
       "            Albuquerque  Baltimore  Boston  Charlotte  Chicago  ...  \\\n",
       "Date                                                            ...   \n",
       "1961-01-01        -0.55       3.35    1.95       7.25    -4.75  ...   \n",
       "1961-01-02        -2.50       0.00   -0.80       4.45    -2.50  ...   \n",
       "1961-01-03        -2.50       0.85   -3.05       2.20   -10.80  ...   \n",
       "...                 ...        ...     ...        ...      ...  ...   \n",
       "2015-12-29        -2.15       9.45    0.05      17.20     1.15  ...   \n",
       "2015-12-30        -2.75       9.70   -0.50      18.05    -2.15  ...   \n",
       "2015-12-31        -0.75       9.75    4.45      15.30    -3.80  ...   \n",
       "\n",
       "            San Francisco  San Juan  Seattle  St Louis  Tampa  \n",
       "Date                                                           \n",
       "1961-01-01           8.05     24.45     3.10     -0.55  15.00  \n",
       "1961-01-02           5.85     25.00     0.55     -0.55  13.60  \n",
       "1961-01-03           4.70     24.75     0.00      0.30  11.95  \n",
       "...                   ...       ...      ...       ...    ...  \n",
       "2015-12-29           7.20     26.10     3.90      1.40  26.10  \n",
       "2015-12-30           6.90     25.80     2.30      0.60  25.55  \n",
       "2015-12-31           7.25     25.55     1.75     -0.25  25.55  \n",
       "\n",
       "[20088 rows x 21 columns]"
      ]
     },
     "execution_count": 59,
     "metadata": {},
     "output_type": "execute_result"
    }
   ],
   "source": [
    "temperatures.set_index('Date', drop = True, inplace = True)\n",
    "temperatures"
   ]
  },
  {
   "cell_type": "code",
   "execution_count": 60,
   "metadata": {},
   "outputs": [
    {
     "data": {
      "text/html": [
       "<div>\n",
       "<style scoped>\n",
       "    .dataframe tbody tr th:only-of-type {\n",
       "        vertical-align: middle;\n",
       "    }\n",
       "\n",
       "    .dataframe tbody tr th {\n",
       "        vertical-align: top;\n",
       "    }\n",
       "\n",
       "    .dataframe thead th {\n",
       "        text-align: right;\n",
       "    }\n",
       "</style>\n",
       "<table border=\"1\" class=\"dataframe\">\n",
       "  <thead>\n",
       "    <tr style=\"text-align: right;\">\n",
       "      <th></th>\n",
       "      <th>Albuquerque</th>\n",
       "      <th>Baltimore</th>\n",
       "      <th>Boston</th>\n",
       "      <th>Charlotte</th>\n",
       "      <th>Chicago</th>\n",
       "      <th>...</th>\n",
       "      <th>St Louis</th>\n",
       "      <th>Tampa</th>\n",
       "      <th>Max</th>\n",
       "      <th>Min</th>\n",
       "      <th>Mean T</th>\n",
       "    </tr>\n",
       "    <tr>\n",
       "      <th>Date</th>\n",
       "      <th></th>\n",
       "      <th></th>\n",
       "      <th></th>\n",
       "      <th></th>\n",
       "      <th></th>\n",
       "      <th></th>\n",
       "      <th></th>\n",
       "      <th></th>\n",
       "      <th></th>\n",
       "      <th></th>\n",
       "      <th></th>\n",
       "    </tr>\n",
       "  </thead>\n",
       "  <tbody>\n",
       "    <tr>\n",
       "      <th>2007-07-04</th>\n",
       "      <td>26.35</td>\n",
       "      <td>23.05</td>\n",
       "      <td>21.95</td>\n",
       "      <td>23.35</td>\n",
       "      <td>24.7</td>\n",
       "      <td>...</td>\n",
       "      <td>27.8</td>\n",
       "      <td>27.25</td>\n",
       "      <td>37.5</td>\n",
       "      <td>19.7</td>\n",
       "      <td>25.53</td>\n",
       "    </tr>\n",
       "  </tbody>\n",
       "</table>\n",
       "<p>1 rows × 24 columns</p>\n",
       "</div>"
      ],
      "text/plain": [
       "            Albuquerque  Baltimore  Boston  Charlotte  Chicago  ...  St Louis  \\\n",
       "Date                                                            ...             \n",
       "2007-07-04        26.35      23.05   21.95      23.35     24.7  ...      27.8   \n",
       "\n",
       "            Tampa   Max   Min  Mean T  \n",
       "Date                                   \n",
       "2007-07-04  27.25  37.5  19.7   25.53  \n",
       "\n",
       "[1 rows x 24 columns]"
      ]
     },
     "execution_count": 60,
     "metadata": {},
     "output_type": "execute_result"
    }
   ],
   "source": [
    "temperatures['Max'] = temperatures.max(axis = 'columns')\n",
    "temperatures['Min'] = temperatures.min(axis = 'columns')\n",
    "temperatures['Mean T'] = round(temperatures.mean(axis = 'columns'), 2)\n",
    "temperatures.loc[\"2007-07-04\":\"2007-07-04\"] # slicing to select a single row  for  a DataFrame "
   ]
  },
  {
   "cell_type": "markdown",
   "metadata": {},
   "source": [
    "Why did we use **slicing** to select a `single` row?  Because we wanted to create a **DataFrame** rather than a series.\n",
    "\n"
   ]
  },
  {
   "cell_type": "markdown",
   "metadata": {},
   "source": [
    "We are now in a position to start producing some <font color=\"blue\">plots</font> showing various trends. \n",
    "\n",
    "For example,the followe code produces a plot that shows the seasonality of temperatures in the United States. \n"
   ]
  },
  {
   "cell_type": "code",
   "execution_count": 61,
   "metadata": {},
   "outputs": [
    {
     "data": {
      "image/png": "[encoded data removed]",
      "text/plain": [
       "<Figure size 1152x288 with 1 Axes>"
      ]
     },
     "metadata": {
      "needs_background": "light"
     },
     "output_type": "display_data"
    }
   ],
   "source": [
    "_=temperatures['Mean T'].plot(figsize=(16,4),xlabel=\"Days Since 1/1/1961\", ylabel=\"'Degrees C\")"
   ]
  },
  {
   "cell_type": "markdown",
   "metadata": {},
   "source": [
    "We can see the seasonal pattern more clearly, by **zooming** in on a few years and producing a plot using the call"
   ]
  },
  {
   "cell_type": "code",
   "execution_count": 62,
   "metadata": {},
   "outputs": [
    {
     "data": {
      "image/png": "[encoded data removed]",
      "text/plain": [
       "<Figure size 864x288 with 1 Axes>"
      ]
     },
     "metadata": {
      "needs_background": "light"
     },
     "output_type": "display_data"
    }
   ],
   "source": [
    "temp1961_62=temperatures['Mean T'].loc[\"1961-01-10\":\"1962-12-31\":]\n",
    "_=temp1961_62.plot(figsize=(12,4),xlabel=\"Days Since 1/1/1961\", ylabel=\"'Degrees C\")"
   ]
  },
  {
   "cell_type": "markdown",
   "metadata": {},
   "source": [
    "We want to further customize, extend or save the resulting plot."
   ]
  },
  {
   "cell_type": "markdown",
   "metadata": {},
   "source": [
    "**zooming** in on a few years and producing a plot using the call"
   ]
  },
  {
   "cell_type": "code",
   "execution_count": 64,
   "metadata": {},
   "outputs": [
    {
     "data": {
      "image/png": "[encoded data removed]",
      "text/plain": [
       "<Figure size 864x288 with 1 Axes>"
      ]
     },
     "metadata": {
      "needs_background": "light"
     },
     "output_type": "display_data"
    }
   ],
   "source": [
    "_=temperatures['Mean T'].head(3*365).plot(figsize=(12, 4),\n",
    "                                           title='Mean Temp Across 21 US Cities',\n",
    "                                           xlabel='Days Since 1/1/1961',\n",
    "                                           ylabel='Degrees C')"
   ]
  },
  {
   "cell_type": "markdown",
   "metadata": {},
   "source": [
    "Over the last decades, a consensus that the **Earth is warming** has emerged. \n",
    "\n",
    "Let's see whether this data is consistent with that consensus. \n",
    "\n",
    "Since we are investigating a hypothesis about a long-term trend, we should probably not be looking at daily or seasonalvariations in temperature. "
   ]
  },
  {
   "cell_type": "markdown",
   "metadata": {},
   "source": [
    "#### 5.1 Statistics grouped by category\n",
    "\n",
    "#####   5.1.1 Summary data for each year\n",
    "\n",
    "Instead, let's look at **annual** data.\n",
    "\n",
    "As a first step, let's use the data in temperatures to build a new DataFrame in which the `rows` represent **years** rather than **days**. \n"
   ]
  },
  {
   "cell_type": "markdown",
   "metadata": {},
   "source": [
    "I want to add a **new column** to the DataFrame containing only the **year** of the measurement to build the DataFrame `yearly_temps`:\n",
    "\n",
    "```\n",
    "\t    Mean T\tMax T\tMin T\n",
    "Year\t\n",
    "1961\t15.737151\t38.05\t-17.25\n",
    "1962\t15.459205\t36.95\t-21.65\n",
    "1963\t15.570356\t36.10\t-24.70\n",
    "```"
   ]
  },
  {
   "cell_type": "code",
   "execution_count": 65,
   "metadata": {},
   "outputs": [],
   "source": [
    "temperatures[\"Year\"]=temperatures.index.year"
   ]
  },
  {
   "cell_type": "code",
   "execution_count": 66,
   "metadata": {},
   "outputs": [
    {
     "data": {
      "text/html": [
       "<div>\n",
       "<style scoped>\n",
       "    .dataframe tbody tr th:only-of-type {\n",
       "        vertical-align: middle;\n",
       "    }\n",
       "\n",
       "    .dataframe tbody tr th {\n",
       "        vertical-align: top;\n",
       "    }\n",
       "\n",
       "    .dataframe thead th {\n",
       "        text-align: right;\n",
       "    }\n",
       "</style>\n",
       "<table border=\"1\" class=\"dataframe\">\n",
       "  <thead>\n",
       "    <tr style=\"text-align: right;\">\n",
       "      <th></th>\n",
       "      <th>Albuquerque</th>\n",
       "      <th>Baltimore</th>\n",
       "      <th>Boston</th>\n",
       "      <th>Charlotte</th>\n",
       "      <th>Chicago</th>\n",
       "      <th>...</th>\n",
       "      <th>Tampa</th>\n",
       "      <th>Max</th>\n",
       "      <th>Min</th>\n",
       "      <th>Mean T</th>\n",
       "      <th>Year</th>\n",
       "    </tr>\n",
       "    <tr>\n",
       "      <th>Date</th>\n",
       "      <th></th>\n",
       "      <th></th>\n",
       "      <th></th>\n",
       "      <th></th>\n",
       "      <th></th>\n",
       "      <th></th>\n",
       "      <th></th>\n",
       "      <th></th>\n",
       "      <th></th>\n",
       "      <th></th>\n",
       "      <th></th>\n",
       "    </tr>\n",
       "  </thead>\n",
       "  <tbody>\n",
       "    <tr>\n",
       "      <th>1961-01-01</th>\n",
       "      <td>-0.55</td>\n",
       "      <td>3.35</td>\n",
       "      <td>1.95</td>\n",
       "      <td>7.25</td>\n",
       "      <td>-4.75</td>\n",
       "      <td>...</td>\n",
       "      <td>15.00</td>\n",
       "      <td>24.45</td>\n",
       "      <td>-4.75</td>\n",
       "      <td>6.86</td>\n",
       "      <td>1961</td>\n",
       "    </tr>\n",
       "    <tr>\n",
       "      <th>1961-01-02</th>\n",
       "      <td>-2.50</td>\n",
       "      <td>0.00</td>\n",
       "      <td>-0.80</td>\n",
       "      <td>4.45</td>\n",
       "      <td>-2.50</td>\n",
       "      <td>...</td>\n",
       "      <td>13.60</td>\n",
       "      <td>25.00</td>\n",
       "      <td>-5.00</td>\n",
       "      <td>5.29</td>\n",
       "      <td>1961</td>\n",
       "    </tr>\n",
       "    <tr>\n",
       "      <th>1961-01-03</th>\n",
       "      <td>-2.50</td>\n",
       "      <td>0.85</td>\n",
       "      <td>-3.05</td>\n",
       "      <td>2.20</td>\n",
       "      <td>-10.80</td>\n",
       "      <td>...</td>\n",
       "      <td>11.95</td>\n",
       "      <td>24.75</td>\n",
       "      <td>-10.80</td>\n",
       "      <td>4.50</td>\n",
       "      <td>1961</td>\n",
       "    </tr>\n",
       "    <tr>\n",
       "      <th>...</th>\n",
       "      <td>...</td>\n",
       "      <td>...</td>\n",
       "      <td>...</td>\n",
       "      <td>...</td>\n",
       "      <td>...</td>\n",
       "      <td>...</td>\n",
       "      <td>...</td>\n",
       "      <td>...</td>\n",
       "      <td>...</td>\n",
       "      <td>...</td>\n",
       "      <td>...</td>\n",
       "    </tr>\n",
       "    <tr>\n",
       "      <th>2015-01-03</th>\n",
       "      <td>-1.90</td>\n",
       "      <td>0.35</td>\n",
       "      <td>-1.35</td>\n",
       "      <td>9.70</td>\n",
       "      <td>-0.25</td>\n",
       "      <td>...</td>\n",
       "      <td>25.00</td>\n",
       "      <td>26.35</td>\n",
       "      <td>-1.90</td>\n",
       "      <td>8.53</td>\n",
       "      <td>2015</td>\n",
       "    </tr>\n",
       "    <tr>\n",
       "      <th>2015-01-04</th>\n",
       "      <td>-1.30</td>\n",
       "      <td>10.30</td>\n",
       "      <td>6.40</td>\n",
       "      <td>13.30</td>\n",
       "      <td>-8.00</td>\n",
       "      <td>...</td>\n",
       "      <td>23.90</td>\n",
       "      <td>26.40</td>\n",
       "      <td>-8.00</td>\n",
       "      <td>9.08</td>\n",
       "      <td>2015</td>\n",
       "    </tr>\n",
       "    <tr>\n",
       "      <th>2015-01-05</th>\n",
       "      <td>1.15</td>\n",
       "      <td>2.00</td>\n",
       "      <td>0.90</td>\n",
       "      <td>7.20</td>\n",
       "      <td>-16.80</td>\n",
       "      <td>...</td>\n",
       "      <td>18.60</td>\n",
       "      <td>26.10</td>\n",
       "      <td>-16.80</td>\n",
       "      <td>6.93</td>\n",
       "      <td>2015</td>\n",
       "    </tr>\n",
       "  </tbody>\n",
       "</table>\n",
       "<p>275 rows × 25 columns</p>\n",
       "</div>"
      ],
      "text/plain": [
       "            Albuquerque  Baltimore  Boston  Charlotte  Chicago  ...  Tampa  \\\n",
       "Date                                                            ...          \n",
       "1961-01-01        -0.55       3.35    1.95       7.25    -4.75  ...  15.00   \n",
       "1961-01-02        -2.50       0.00   -0.80       4.45    -2.50  ...  13.60   \n",
       "1961-01-03        -2.50       0.85   -3.05       2.20   -10.80  ...  11.95   \n",
       "...                 ...        ...     ...        ...      ...  ...    ...   \n",
       "2015-01-03        -1.90       0.35   -1.35       9.70    -0.25  ...  25.00   \n",
       "2015-01-04        -1.30      10.30    6.40      13.30    -8.00  ...  23.90   \n",
       "2015-01-05         1.15       2.00    0.90       7.20   -16.80  ...  18.60   \n",
       "\n",
       "              Max    Min  Mean T  Year  \n",
       "Date                                    \n",
       "1961-01-01  24.45  -4.75    6.86  1961  \n",
       "1961-01-02  25.00  -5.00    5.29  1961  \n",
       "1961-01-03  24.75 -10.80    4.50  1961  \n",
       "...           ...    ...     ...   ...  \n",
       "2015-01-03  26.35  -1.90    8.53  2015  \n",
       "2015-01-04  26.40  -8.00    9.08  2015  \n",
       "2015-01-05  26.10 -16.80    6.93  2015  \n",
       "\n",
       "[275 rows x 25 columns]"
      ]
     },
     "execution_count": 66,
     "metadata": {},
     "output_type": "execute_result"
    }
   ],
   "source": [
    "temperatures_year=temperatures.groupby([temperatures[\"Year\"]])\n",
    "temperatures_year.head()"
   ]
  },
  {
   "cell_type": "markdown",
   "metadata": {},
   "source": [
    "######  Statistics `groupby` for each year"
   ]
  },
  {
   "cell_type": "code",
   "execution_count": 67,
   "metadata": {},
   "outputs": [],
   "source": [
    "yearly_temps_mean_t=temperatures.groupby([temperatures[\"Year\"]])[\"Mean T\"].mean()\n",
    "yearly_temps_max_t=temperatures.groupby([temperatures[\"Year\"]])[\"Max\"].max()\n",
    "yearly_temps_min_t=temperatures.groupby([temperatures[\"Year\"]])[\"Min\"].min()"
   ]
  },
  {
   "cell_type": "markdown",
   "metadata": {},
   "source": [
    "######  To build the DataFrame `yearly_temps`"
   ]
  },
  {
   "cell_type": "code",
   "execution_count": 68,
   "metadata": {},
   "outputs": [
    {
     "data": {
      "text/html": [
       "<div>\n",
       "<style scoped>\n",
       "    .dataframe tbody tr th:only-of-type {\n",
       "        vertical-align: middle;\n",
       "    }\n",
       "\n",
       "    .dataframe tbody tr th {\n",
       "        vertical-align: top;\n",
       "    }\n",
       "\n",
       "    .dataframe thead th {\n",
       "        text-align: right;\n",
       "    }\n",
       "</style>\n",
       "<table border=\"1\" class=\"dataframe\">\n",
       "  <thead>\n",
       "    <tr style=\"text-align: right;\">\n",
       "      <th></th>\n",
       "      <th>Mean T</th>\n",
       "      <th>Max T</th>\n",
       "      <th>Min T</th>\n",
       "    </tr>\n",
       "    <tr>\n",
       "      <th>Year</th>\n",
       "      <th></th>\n",
       "      <th></th>\n",
       "      <th></th>\n",
       "    </tr>\n",
       "  </thead>\n",
       "  <tbody>\n",
       "    <tr>\n",
       "      <th>1961</th>\n",
       "      <td>15.737151</td>\n",
       "      <td>38.05</td>\n",
       "      <td>-17.25</td>\n",
       "    </tr>\n",
       "    <tr>\n",
       "      <th>1962</th>\n",
       "      <td>15.459205</td>\n",
       "      <td>36.95</td>\n",
       "      <td>-21.65</td>\n",
       "    </tr>\n",
       "    <tr>\n",
       "      <th>1963</th>\n",
       "      <td>15.570356</td>\n",
       "      <td>36.10</td>\n",
       "      <td>-24.70</td>\n",
       "    </tr>\n",
       "    <tr>\n",
       "      <th>...</th>\n",
       "      <td>...</td>\n",
       "      <td>...</td>\n",
       "      <td>...</td>\n",
       "    </tr>\n",
       "    <tr>\n",
       "      <th>2013</th>\n",
       "      <td>16.776411</td>\n",
       "      <td>40.55</td>\n",
       "      <td>-15.00</td>\n",
       "    </tr>\n",
       "    <tr>\n",
       "      <th>2014</th>\n",
       "      <td>16.931836</td>\n",
       "      <td>40.30</td>\n",
       "      <td>-22.70</td>\n",
       "    </tr>\n",
       "    <tr>\n",
       "      <th>2015</th>\n",
       "      <td>17.610466</td>\n",
       "      <td>40.55</td>\n",
       "      <td>-18.80</td>\n",
       "    </tr>\n",
       "  </tbody>\n",
       "</table>\n",
       "<p>55 rows × 3 columns</p>\n",
       "</div>"
      ],
      "text/plain": [
       "         Mean T  Max T  Min T\n",
       "Year                         \n",
       "1961  15.737151  38.05 -17.25\n",
       "1962  15.459205  36.95 -21.65\n",
       "1963  15.570356  36.10 -24.70\n",
       "...         ...    ...    ...\n",
       "2013  16.776411  40.55 -15.00\n",
       "2014  16.931836  40.30 -22.70\n",
       "2015  17.610466  40.55 -18.80\n",
       "\n",
       "[55 rows x 3 columns]"
      ]
     },
     "execution_count": 68,
     "metadata": {},
     "output_type": "execute_result"
    }
   ],
   "source": [
    "yearly_temps=pd.DataFrame() \n",
    "yearly_temps[\"Mean T\"]=yearly_temps_mean_t\n",
    "yearly_temps[\"Max T\"]=yearly_temps_max_t\n",
    "yearly_temps[\"Min T\"]=yearly_temps_min_t\n",
    "yearly_temps"
   ]
  },
  {
   "cell_type": "markdown",
   "metadata": {},
   "source": [
    "######  Plots to visualize the temperatures\n",
    "\n",
    "Now that we have the data in a convenient format,\n",
    "\n",
    "let's generate some **plots** to visualize how the temperatures change over time. \n",
    "\n",
    "The code produces plots relating year to temperature measurements"
   ]
  },
  {
   "cell_type": "code",
   "execution_count": 71,
   "metadata": {},
   "outputs": [
    {
     "data": {
      "image/png": "[encoded data removed]",
      "text/plain": [
       "<Figure size 432x288 with 1 Axes>"
      ]
     },
     "metadata": {
      "needs_background": "light"
     },
     "output_type": "display_data"
    }
   ],
   "source": [
    "_=yearly_temps.plot(title='Annual Temp in 21 U.S. Cities',ylabel='Degrees C')"
   ]
  },
  {
   "cell_type": "markdown",
   "metadata": {},
   "source": [
    "**Mean annual temperatures**"
   ]
  },
  {
   "cell_type": "code",
   "execution_count": 76,
   "metadata": {},
   "outputs": [
    {
     "data": {
      "image/png": "[encoded data removed]",
      "text/plain": [
       "<Figure size 432x288 with 1 Axes>"
      ]
     },
     "metadata": {
      "needs_background": "light"
     },
     "output_type": "display_data"
    }
   ],
   "source": [
    "_=yearly_temps.plot(y='Mean T',\n",
    "                    style='o-',\n",
    "                    title='Mean Annual Temp in 21 U.S. Cities',\n",
    "                    xlabel='Year',\n",
    "                    ylabel='Degrees C')"
   ]
  },
  {
   "cell_type": "markdown",
   "metadata": {},
   "source": []
  },
  {
   "cell_type": "markdown",
   "metadata": {},
   "source": [
    "**minimum annual temperatures**"
   ]
  },
  {
   "cell_type": "code",
   "execution_count": 85,
   "metadata": {},
   "outputs": [
    {
     "data": {
      "image/png": "[encoded data removed]",
      "text/plain": [
       "<Figure size 432x288 with 1 Axes>"
      ]
     },
     "metadata": {
      "needs_background": "light"
     },
     "output_type": "display_data"
    }
   ],
   "source": [
    "_=yearly_temps.plot(y='Min T',\n",
    "                    style='o:',\n",
    "                    title='Min Annual Temp in 21 U.S. Cities',\n",
    "                    ylabel='Degrees C')"
   ]
  },
  {
   "cell_type": "markdown",
   "metadata": {},
   "source": [
    "The `mean` figure shows an undeniable trend： the `mean` temperatures in these 21 cities has `risen` over time.\n",
    "\n",
    "But,the `min`the figure is less clear. \n",
    "\n",
    "* The extreme `annual` fluctuations make it hard to see a trend. A more revealing plot can be produced by plotting a `moving average` of the temperatures.\n",
    "\n",
    "The Pandas method `rolling` is used to perform an operation on multiple consecutive values of a series. \n",
    "Evaluating the expression\n",
    "```\n",
    "yearly_temps['Min T'].rolling(7).mean() \n",
    "```\n",
    "produces a series in produces a series in which the first `6` values are `NaN`, and for each i greater than 6, the ith\n",
    "value in the series is the mean of `yearly_temps['Min'][i-6:i+1]`.\n",
    "\n",
    "Plotting that series against the year produces the plot in the Figure which does suggest a trend.\n",
    "\n",
    "The Figure Rolling average minimum temperatures \n",
    "\n"
   ]
  },
  {
   "cell_type": "code",
   "execution_count": 84,
   "metadata": {},
   "outputs": [
    {
     "data": {
      "image/png": "[encoded data removed]",
      "text/plain": [
       "<Figure size 432x288 with 1 Axes>"
      ]
     },
     "metadata": {
      "needs_background": "light"
     },
     "output_type": "display_data"
    }
   ],
   "source": [
    "_=yearly_temps['Min T'].rolling(7).mean().plot(style='o:',title='Min Annual Temp in 21 U.S. Cities',\n",
    "                                              ylabel='Degrees C')"
   ]
  },
  {
   "cell_type": "markdown",
   "metadata": {},
   "source": [
    "While visualizing the **relationship** between two series can be informative, it is often useful to look at those relationships more\n",
    "quantitatively. \n",
    "\n",
    "Let's start by looking at the correlations between years and the `seven-year` rolling averages of the `minimum,\n",
    "maximum, and mean temperatures`. \n",
    "\n",
    "Before computing the correlations, \n",
    "\n",
    "we first **update** the series in `yearly_temps` to contain **rolling** averages and then convert the year values from strings to integers.\n"
   ]
  },
  {
   "cell_type": "code",
   "execution_count": 87,
   "metadata": {},
   "outputs": [
    {
     "data": {
      "text/html": [
       "<div>\n",
       "<style scoped>\n",
       "    .dataframe tbody tr th:only-of-type {\n",
       "        vertical-align: middle;\n",
       "    }\n",
       "\n",
       "    .dataframe tbody tr th {\n",
       "        vertical-align: top;\n",
       "    }\n",
       "\n",
       "    .dataframe thead th {\n",
       "        text-align: right;\n",
       "    }\n",
       "</style>\n",
       "<table border=\"1\" class=\"dataframe\">\n",
       "  <thead>\n",
       "    <tr style=\"text-align: right;\">\n",
       "      <th></th>\n",
       "      <th>Mean T</th>\n",
       "      <th>Max T</th>\n",
       "      <th>Min T</th>\n",
       "    </tr>\n",
       "    <tr>\n",
       "      <th>Year</th>\n",
       "      <th></th>\n",
       "      <th></th>\n",
       "      <th></th>\n",
       "    </tr>\n",
       "  </thead>\n",
       "  <tbody>\n",
       "    <tr>\n",
       "      <th>1961</th>\n",
       "      <td>NaN</td>\n",
       "      <td>NaN</td>\n",
       "      <td>NaN</td>\n",
       "    </tr>\n",
       "    <tr>\n",
       "      <th>1962</th>\n",
       "      <td>NaN</td>\n",
       "      <td>NaN</td>\n",
       "      <td>NaN</td>\n",
       "    </tr>\n",
       "    <tr>\n",
       "      <th>1963</th>\n",
       "      <td>NaN</td>\n",
       "      <td>NaN</td>\n",
       "      <td>NaN</td>\n",
       "    </tr>\n",
       "    <tr>\n",
       "      <th>...</th>\n",
       "      <td>...</td>\n",
       "      <td>...</td>\n",
       "      <td>...</td>\n",
       "    </tr>\n",
       "    <tr>\n",
       "      <th>2013</th>\n",
       "      <td>16.841617</td>\n",
       "      <td>40.050000</td>\n",
       "      <td>-17.122449</td>\n",
       "    </tr>\n",
       "    <tr>\n",
       "      <th>2014</th>\n",
       "      <td>16.857784</td>\n",
       "      <td>40.095918</td>\n",
       "      <td>-17.184694</td>\n",
       "    </tr>\n",
       "    <tr>\n",
       "      <th>2015</th>\n",
       "      <td>16.897144</td>\n",
       "      <td>40.141837</td>\n",
       "      <td>-17.244898</td>\n",
       "    </tr>\n",
       "  </tbody>\n",
       "</table>\n",
       "<p>55 rows × 3 columns</p>\n",
       "</div>"
      ],
      "text/plain": [
       "         Mean T      Max T      Min T\n",
       "Year                                 \n",
       "1961        NaN        NaN        NaN\n",
       "1962        NaN        NaN        NaN\n",
       "1963        NaN        NaN        NaN\n",
       "...         ...        ...        ...\n",
       "2013  16.841617  40.050000 -17.122449\n",
       "2014  16.857784  40.095918 -17.184694\n",
       "2015  16.897144  40.141837 -17.244898\n",
       "\n",
       "[55 rows x 3 columns]"
      ]
     },
     "execution_count": 87,
     "metadata": {},
     "output_type": "execute_result"
    }
   ],
   "source": [
    "num_years = 7\n",
    "for label in ['Min T', 'Max T', 'Mean T']:\n",
    "     yearly_temps[label] = yearly_temps[label].rolling(num_years).mean()\n",
    "yearly_temps"
   ]
  },
  {
   "cell_type": "markdown",
   "metadata": {},
   "source": [
    "**computing the correlations**"
   ]
  },
  {
   "cell_type": "code",
   "execution_count": 88,
   "metadata": {},
   "outputs": [
    {
     "data": {
      "text/html": [
       "<div>\n",
       "<style scoped>\n",
       "    .dataframe tbody tr th:only-of-type {\n",
       "        vertical-align: middle;\n",
       "    }\n",
       "\n",
       "    .dataframe tbody tr th {\n",
       "        vertical-align: top;\n",
       "    }\n",
       "\n",
       "    .dataframe thead th {\n",
       "        text-align: right;\n",
       "    }\n",
       "</style>\n",
       "<table border=\"1\" class=\"dataframe\">\n",
       "  <thead>\n",
       "    <tr style=\"text-align: right;\">\n",
       "      <th></th>\n",
       "      <th>Mean T</th>\n",
       "      <th>Max T</th>\n",
       "      <th>Min T</th>\n",
       "    </tr>\n",
       "  </thead>\n",
       "  <tbody>\n",
       "    <tr>\n",
       "      <th>Mean T</th>\n",
       "      <td>1.000000</td>\n",
       "      <td>0.935476</td>\n",
       "      <td>0.731663</td>\n",
       "    </tr>\n",
       "    <tr>\n",
       "      <th>Max T</th>\n",
       "      <td>0.935476</td>\n",
       "      <td>1.000000</td>\n",
       "      <td>0.699137</td>\n",
       "    </tr>\n",
       "    <tr>\n",
       "      <th>Min T</th>\n",
       "      <td>0.731663</td>\n",
       "      <td>0.699137</td>\n",
       "      <td>1.000000</td>\n",
       "    </tr>\n",
       "  </tbody>\n",
       "</table>\n",
       "</div>"
      ],
      "text/plain": [
       "          Mean T     Max T     Min T\n",
       "Mean T  1.000000  0.935476  0.731663\n",
       "Max T   0.935476  1.000000  0.699137\n",
       "Min T   0.731663  0.699137  1.000000"
      ]
     },
     "execution_count": 88,
     "metadata": {},
     "output_type": "execute_result"
    }
   ],
   "source": [
    "yearly_temps.corr()"
   ]
  },
  {
   "cell_type": "markdown",
   "metadata": {},
   "source": [
    "All of the summary temperature values are `positively` correlated with the year, with the `mean` temperatures the most `strongly`\n",
    "correlated. \n",
    "\n",
    "That raises the question of how much of the **variance** in the rolling average of the mean temperatures is explained by the\n",
    "year. \n",
    "\n",
    "The following code prints the `coefficient of determination`\n"
   ]
  },
  {
   "cell_type": "code",
   "execution_count": 89,
   "metadata": {},
   "outputs": [],
   "source": [
    "def r_squared(measured, predicted):\n",
    "    \"\"\"Assumes measured a one-dimensional array of measured values\n",
    "                predicted a one-dimensional array of predicted values\n",
    "        Returns coefficient of determination\"\"\"\n",
    "    estimated_error = ((predicted - measured)**2).sum()\n",
    "    mean_of_measured = measured.sum()/len(measured)\n",
    "    variability = ((measured - mean_of_measured)**2).sum()\n",
    "    return 1 - estimated_error/variability"
   ]
  },
  {
   "cell_type": "code",
   "execution_count": 90,
   "metadata": {},
   "outputs": [
    {
     "name": "stdout",
     "output_type": "stream",
     "text": [
      "0.951635148329132\n"
     ]
    }
   ],
   "source": [
    "import numpy as np\n",
    "indices = np.isfinite(yearly_temps['Mean T'])\n",
    "\n",
    "# a linear model  t=a*Year+b\n",
    "model = np.polyfit(list(yearly_temps.index[indices]),\n",
    "                   list(yearly_temps['Mean T'][indices]), 1)\n",
    "\n",
    "r=r_squared(yearly_temps['Mean T'][indices], np.polyval(model, yearly_temps.index[indices]))\n",
    "print(r)"
   ]
  },
  {
   "cell_type": "markdown",
   "metadata": {},
   "source": [
    "Since some of the values in the Mean series are `NaN`, we first use the function `np.isfinite` to get the indices of the `non-NaN` values in `yearly_temps['Mean T']`.\n",
    "\n",
    "```python\n",
    "indices = np.isfinite(yearly_temps['Mean T'])\n",
    "```\n",
    "\n",
    "We then build a linear model\n",
    "```python\n",
    "model = np.polyfit(list(yearly_temps.index[indices]),\n",
    "               list(yearly_temps['Mean T'][indices]), 1)\n",
    "```\n",
    "and finally use the `r_squared` function to compare the results predicted by the model to the actual temperatures. \n",
    "```python\n",
    "r_squared(yearly_temps['Mean T'][indices],\n",
    "       np.polyval(model, yearly_temps.index[indices]))\n",
    "```\n",
    "The linear model relating years to the seven-year rolling average mean temperature explains nearly $95\\%$ of the variance"
   ]
  },
  {
   "cell_type": "markdown",
   "metadata": {},
   "source": [
    "#####  5.1.2 Summary data for each city\n",
    "\n",
    "If you happen to live in the U.S. or plan to travel to the U.S., you might be more interested in looking at the data by **city** rather than year.\n",
    "\n",
    "Let's start by producing a new DataFrame that provides **summary** data for each **city**. \n",
    "\n",
    "In deference to our American readers, we convert all temperatures to `Fahrenheit` by applying a `conversion function` to all values in `city_temps`. \n",
    "\n",
    "The penultimate line adds a column showing how extreme the temperature variation is.\n",
    "\n",
    "\n",
    "Executing this code produces the DataFrame "
   ]
  },
  {
   "cell_type": "code",
   "execution_count": 91,
   "metadata": {},
   "outputs": [
    {
     "data": {
      "text/html": [
       "<div>\n",
       "<style scoped>\n",
       "    .dataframe tbody tr th:only-of-type {\n",
       "        vertical-align: middle;\n",
       "    }\n",
       "\n",
       "    .dataframe tbody tr th {\n",
       "        vertical-align: top;\n",
       "    }\n",
       "\n",
       "    .dataframe thead th {\n",
       "        text-align: right;\n",
       "    }\n",
       "</style>\n",
       "<table border=\"1\" class=\"dataframe\">\n",
       "  <thead>\n",
       "    <tr style=\"text-align: right;\">\n",
       "      <th></th>\n",
       "      <th>Albuquerque</th>\n",
       "      <th>Baltimore</th>\n",
       "      <th>Boston</th>\n",
       "      <th>Charlotte</th>\n",
       "      <th>Chicago</th>\n",
       "      <th>...</th>\n",
       "      <th>San Francisco</th>\n",
       "      <th>San Juan</th>\n",
       "      <th>Seattle</th>\n",
       "      <th>St Louis</th>\n",
       "      <th>Tampa</th>\n",
       "    </tr>\n",
       "    <tr>\n",
       "      <th>Date</th>\n",
       "      <th></th>\n",
       "      <th></th>\n",
       "      <th></th>\n",
       "      <th></th>\n",
       "      <th></th>\n",
       "      <th></th>\n",
       "      <th></th>\n",
       "      <th></th>\n",
       "      <th></th>\n",
       "      <th></th>\n",
       "      <th></th>\n",
       "    </tr>\n",
       "  </thead>\n",
       "  <tbody>\n",
       "    <tr>\n",
       "      <th>1961-01-01</th>\n",
       "      <td>-0.55</td>\n",
       "      <td>3.35</td>\n",
       "      <td>1.95</td>\n",
       "      <td>7.25</td>\n",
       "      <td>-4.75</td>\n",
       "      <td>...</td>\n",
       "      <td>8.05</td>\n",
       "      <td>24.45</td>\n",
       "      <td>3.10</td>\n",
       "      <td>-0.55</td>\n",
       "      <td>15.00</td>\n",
       "    </tr>\n",
       "    <tr>\n",
       "      <th>1961-01-02</th>\n",
       "      <td>-2.50</td>\n",
       "      <td>0.00</td>\n",
       "      <td>-0.80</td>\n",
       "      <td>4.45</td>\n",
       "      <td>-2.50</td>\n",
       "      <td>...</td>\n",
       "      <td>5.85</td>\n",
       "      <td>25.00</td>\n",
       "      <td>0.55</td>\n",
       "      <td>-0.55</td>\n",
       "      <td>13.60</td>\n",
       "    </tr>\n",
       "    <tr>\n",
       "      <th>1961-01-03</th>\n",
       "      <td>-2.50</td>\n",
       "      <td>0.85</td>\n",
       "      <td>-3.05</td>\n",
       "      <td>2.20</td>\n",
       "      <td>-10.80</td>\n",
       "      <td>...</td>\n",
       "      <td>4.70</td>\n",
       "      <td>24.75</td>\n",
       "      <td>0.00</td>\n",
       "      <td>0.30</td>\n",
       "      <td>11.95</td>\n",
       "    </tr>\n",
       "    <tr>\n",
       "      <th>...</th>\n",
       "      <td>...</td>\n",
       "      <td>...</td>\n",
       "      <td>...</td>\n",
       "      <td>...</td>\n",
       "      <td>...</td>\n",
       "      <td>...</td>\n",
       "      <td>...</td>\n",
       "      <td>...</td>\n",
       "      <td>...</td>\n",
       "      <td>...</td>\n",
       "      <td>...</td>\n",
       "    </tr>\n",
       "    <tr>\n",
       "      <th>2015-12-29</th>\n",
       "      <td>-2.15</td>\n",
       "      <td>9.45</td>\n",
       "      <td>0.05</td>\n",
       "      <td>17.20</td>\n",
       "      <td>1.15</td>\n",
       "      <td>...</td>\n",
       "      <td>7.20</td>\n",
       "      <td>26.10</td>\n",
       "      <td>3.90</td>\n",
       "      <td>1.40</td>\n",
       "      <td>26.10</td>\n",
       "    </tr>\n",
       "    <tr>\n",
       "      <th>2015-12-30</th>\n",
       "      <td>-2.75</td>\n",
       "      <td>9.70</td>\n",
       "      <td>-0.50</td>\n",
       "      <td>18.05</td>\n",
       "      <td>-2.15</td>\n",
       "      <td>...</td>\n",
       "      <td>6.90</td>\n",
       "      <td>25.80</td>\n",
       "      <td>2.30</td>\n",
       "      <td>0.60</td>\n",
       "      <td>25.55</td>\n",
       "    </tr>\n",
       "    <tr>\n",
       "      <th>2015-12-31</th>\n",
       "      <td>-0.75</td>\n",
       "      <td>9.75</td>\n",
       "      <td>4.45</td>\n",
       "      <td>15.30</td>\n",
       "      <td>-3.80</td>\n",
       "      <td>...</td>\n",
       "      <td>7.25</td>\n",
       "      <td>25.55</td>\n",
       "      <td>1.75</td>\n",
       "      <td>-0.25</td>\n",
       "      <td>25.55</td>\n",
       "    </tr>\n",
       "  </tbody>\n",
       "</table>\n",
       "<p>20088 rows × 21 columns</p>\n",
       "</div>"
      ],
      "text/plain": [
       "            Albuquerque  Baltimore  Boston  Charlotte  Chicago  ...  \\\n",
       "Date                                                            ...   \n",
       "1961-01-01        -0.55       3.35    1.95       7.25    -4.75  ...   \n",
       "1961-01-02        -2.50       0.00   -0.80       4.45    -2.50  ...   \n",
       "1961-01-03        -2.50       0.85   -3.05       2.20   -10.80  ...   \n",
       "...                 ...        ...     ...        ...      ...  ...   \n",
       "2015-12-29        -2.15       9.45    0.05      17.20     1.15  ...   \n",
       "2015-12-30        -2.75       9.70   -0.50      18.05    -2.15  ...   \n",
       "2015-12-31        -0.75       9.75    4.45      15.30    -3.80  ...   \n",
       "\n",
       "            San Francisco  San Juan  Seattle  St Louis  Tampa  \n",
       "Date                                                           \n",
       "1961-01-01           8.05     24.45     3.10     -0.55  15.00  \n",
       "1961-01-02           5.85     25.00     0.55     -0.55  13.60  \n",
       "1961-01-03           4.70     24.75     0.00      0.30  11.95  \n",
       "...                   ...       ...      ...       ...    ...  \n",
       "2015-12-29           7.20     26.10     3.90      1.40  26.10  \n",
       "2015-12-30           6.90     25.80     2.30      0.60  25.55  \n",
       "2015-12-31           7.25     25.55     1.75     -0.25  25.55  \n",
       "\n",
       "[20088 rows x 21 columns]"
      ]
     },
     "execution_count": 91,
     "metadata": {},
     "output_type": "execute_result"
    }
   ],
   "source": [
    "temperatures = pd.read_csv('./data/US_temperatures.csv',parse_dates=[\"Date\"])\n",
    "temperatures.set_index('Date', drop = True, inplace = True)\n",
    "temperatures"
   ]
  },
  {
   "cell_type": "code",
   "execution_count": 92,
   "metadata": {},
   "outputs": [
    {
     "data": {
      "text/plain": [
       "Albuquerque    13.95\n",
       "Baltimore      13.09\n",
       "Boston         10.90\n",
       "               ...  \n",
       "Seattle        11.32\n",
       "St Louis       13.56\n",
       "Tampa          22.71\n",
       "Length: 21, dtype: float64"
      ]
     },
     "execution_count": 92,
     "metadata": {},
     "output_type": "execute_result"
    }
   ],
   "source": [
    "temperatures = pd.read_csv('./data/US_temperatures.csv')\n",
    "temperatures.drop('Date', axis = 'columns', inplace = True)\n",
    "maxes = temperatures.max()\n",
    "mins = temperatures.min()\n",
    "means = round(temperatures.mean(), 2)\n",
    "means"
   ]
  },
  {
   "cell_type": "code",
   "execution_count": 97,
   "metadata": {},
   "outputs": [
    {
     "data": {
      "text/html": [
       "<div>\n",
       "<style scoped>\n",
       "    .dataframe tbody tr th:only-of-type {\n",
       "        vertical-align: middle;\n",
       "    }\n",
       "\n",
       "    .dataframe tbody tr th {\n",
       "        vertical-align: top;\n",
       "    }\n",
       "\n",
       "    .dataframe thead th {\n",
       "        text-align: right;\n",
       "    }\n",
       "</style>\n",
       "<table border=\"1\" class=\"dataframe\">\n",
       "  <thead>\n",
       "    <tr style=\"text-align: right;\">\n",
       "      <th></th>\n",
       "      <th>Min T</th>\n",
       "      <th>Max T</th>\n",
       "      <th>Mean T</th>\n",
       "      <th>Max-Min</th>\n",
       "    </tr>\n",
       "  </thead>\n",
       "  <tbody>\n",
       "    <tr>\n",
       "      <th>Albuquerque</th>\n",
       "      <td>-3.46</td>\n",
       "      <td>89.96</td>\n",
       "      <td>57.110</td>\n",
       "      <td>93.42</td>\n",
       "    </tr>\n",
       "    <tr>\n",
       "      <th>Baltimore</th>\n",
       "      <td>-0.04</td>\n",
       "      <td>93.47</td>\n",
       "      <td>55.562</td>\n",
       "      <td>93.51</td>\n",
       "    </tr>\n",
       "    <tr>\n",
       "      <th>Boston</th>\n",
       "      <td>1.04</td>\n",
       "      <td>92.48</td>\n",
       "      <td>51.620</td>\n",
       "      <td>91.44</td>\n",
       "    </tr>\n",
       "    <tr>\n",
       "      <th>...</th>\n",
       "      <td>...</td>\n",
       "      <td>...</td>\n",
       "      <td>...</td>\n",
       "      <td>...</td>\n",
       "    </tr>\n",
       "    <tr>\n",
       "      <th>Seattle</th>\n",
       "      <td>12.02</td>\n",
       "      <td>86.99</td>\n",
       "      <td>52.376</td>\n",
       "      <td>74.97</td>\n",
       "    </tr>\n",
       "    <tr>\n",
       "      <th>St Louis</th>\n",
       "      <td>-8.50</td>\n",
       "      <td>96.98</td>\n",
       "      <td>56.408</td>\n",
       "      <td>105.48</td>\n",
       "    </tr>\n",
       "    <tr>\n",
       "      <th>Tampa</th>\n",
       "      <td>28.94</td>\n",
       "      <td>89.06</td>\n",
       "      <td>72.878</td>\n",
       "      <td>60.12</td>\n",
       "    </tr>\n",
       "  </tbody>\n",
       "</table>\n",
       "<p>21 rows × 4 columns</p>\n",
       "</div>"
      ],
      "text/plain": [
       "             Min T  Max T  Mean T  Max-Min\n",
       "Albuquerque  -3.46  89.96  57.110    93.42\n",
       "Baltimore    -0.04  93.47  55.562    93.51\n",
       "Boston        1.04  92.48  51.620    91.44\n",
       "...            ...    ...     ...      ...\n",
       "Seattle      12.02  86.99  52.376    74.97\n",
       "St Louis     -8.50  96.98  56.408   105.48\n",
       "Tampa        28.94  89.06  72.878    60.12\n",
       "\n",
       "[21 rows x 4 columns]"
      ]
     },
     "execution_count": 97,
     "metadata": {},
     "output_type": "execute_result"
    }
   ],
   "source": [
    "# city_temps DataFrame\n",
    "city_temps = pd.DataFrame({'Min T':mins, 'Max T':maxes, 'Mean T':means})\n",
    "# temperatures to Fahrenheit\n",
    "city_temps = city_temps.apply(lambda x: 1.8*x + 32) \n",
    "city_temps['Max-Min'] = city_temps['Max T'] - city_temps['Min T']\n",
    "city_temps"
   ]
  },
  {
   "cell_type": "markdown",
   "metadata": {},
   "source": [
    "**sort `Mean T` decending**\n",
    "\n",
    "* .sort_values('Mean T', ascending = False)"
   ]
  },
  {
   "cell_type": "code",
   "execution_count": 98,
   "metadata": {},
   "outputs": [
    {
     "data": {
      "text/html": [
       "<div>\n",
       "<style scoped>\n",
       "    .dataframe tbody tr th:only-of-type {\n",
       "        vertical-align: middle;\n",
       "    }\n",
       "\n",
       "    .dataframe tbody tr th {\n",
       "        vertical-align: top;\n",
       "    }\n",
       "\n",
       "    .dataframe thead th {\n",
       "        text-align: right;\n",
       "    }\n",
       "</style>\n",
       "<table border=\"1\" class=\"dataframe\">\n",
       "  <thead>\n",
       "    <tr style=\"text-align: right;\">\n",
       "      <th></th>\n",
       "      <th>Min T</th>\n",
       "      <th>Max T</th>\n",
       "      <th>Mean T</th>\n",
       "      <th>Max-Min</th>\n",
       "    </tr>\n",
       "  </thead>\n",
       "  <tbody>\n",
       "    <tr>\n",
       "      <th>San Juan</th>\n",
       "      <td>68.99</td>\n",
       "      <td>88.97</td>\n",
       "      <td>80.492</td>\n",
       "      <td>19.98</td>\n",
       "    </tr>\n",
       "    <tr>\n",
       "      <th>Miami</th>\n",
       "      <td>37.94</td>\n",
       "      <td>90.05</td>\n",
       "      <td>76.604</td>\n",
       "      <td>52.11</td>\n",
       "    </tr>\n",
       "    <tr>\n",
       "      <th>Phoenix</th>\n",
       "      <td>32.45</td>\n",
       "      <td>106.52</td>\n",
       "      <td>73.904</td>\n",
       "      <td>74.07</td>\n",
       "    </tr>\n",
       "    <tr>\n",
       "      <th>...</th>\n",
       "      <td>...</td>\n",
       "      <td>...</td>\n",
       "      <td>...</td>\n",
       "      <td>...</td>\n",
       "    </tr>\n",
       "    <tr>\n",
       "      <th>Boston</th>\n",
       "      <td>1.04</td>\n",
       "      <td>92.48</td>\n",
       "      <td>51.620</td>\n",
       "      <td>91.44</td>\n",
       "    </tr>\n",
       "    <tr>\n",
       "      <th>Chicago</th>\n",
       "      <td>-18.04</td>\n",
       "      <td>92.48</td>\n",
       "      <td>49.622</td>\n",
       "      <td>110.52</td>\n",
       "    </tr>\n",
       "    <tr>\n",
       "      <th>Detroit</th>\n",
       "      <td>-12.01</td>\n",
       "      <td>89.51</td>\n",
       "      <td>49.550</td>\n",
       "      <td>101.52</td>\n",
       "    </tr>\n",
       "  </tbody>\n",
       "</table>\n",
       "<p>21 rows × 4 columns</p>\n",
       "</div>"
      ],
      "text/plain": [
       "          Min T   Max T  Mean T  Max-Min\n",
       "San Juan  68.99   88.97  80.492    19.98\n",
       "Miami     37.94   90.05  76.604    52.11\n",
       "Phoenix   32.45  106.52  73.904    74.07\n",
       "...         ...     ...     ...      ...\n",
       "Boston     1.04   92.48  51.620    91.44\n",
       "Chicago  -18.04   92.48  49.622   110.52\n",
       "Detroit  -12.01   89.51  49.550   101.52\n",
       "\n",
       "[21 rows x 4 columns]"
      ]
     },
     "execution_count": 98,
     "metadata": {},
     "output_type": "execute_result"
    }
   ],
   "source": [
    "city_temps_sort_meant=city_temps.sort_values('Mean T', ascending = False)\n",
    "city_temps_sort_meant"
   ]
  },
  {
   "cell_type": "code",
   "execution_count": 99,
   "metadata": {},
   "outputs": [
    {
     "name": "stdout",
     "output_type": "stream",
     "text": [
      "               Min T   Max T  Mean T  Max-Min\n",
      "San Juan       68.99   88.97  80.492    19.98\n",
      "Miami          37.94   90.05  76.604    52.11\n",
      "Phoenix        32.45  106.52  73.904    74.07\n",
      "Tampa          28.94   89.06  72.878    60.12\n",
      "New Orleans    18.95   90.95  68.882    72.00\n",
      "Las Vegas      19.49  105.98  67.964    86.49\n",
      "Dallas          8.51   97.52  66.092    89.01\n",
      "San Diego      43.07   92.03  64.130    48.96\n",
      "Los Angeles    42.98   94.01  63.158    51.03\n",
      "Charlotte       9.50   90.50  60.512    81.00\n",
      "San Francisco  30.56   86.00  57.632    55.44\n",
      "Albuquerque    -3.46   89.96  57.110    93.42\n",
      "St Louis       -8.50   96.98  56.408   105.48\n",
      "Baltimore      -0.04   93.47  55.562    93.51\n",
      "Philadelphia    0.50   92.48  55.364    91.98\n",
      "New York        3.56   91.04  54.194    87.48\n",
      "Portland       11.03   89.96  54.068    78.93\n",
      "Seattle        12.02   86.99  52.376    74.97\n",
      "Boston          1.04   92.48  51.620    91.44\n",
      "Chicago       -18.04   92.48  49.622   110.52\n",
      "Detroit       -12.01   89.51  49.550   101.52\n"
     ]
    }
   ],
   "source": [
    "print(city_temps_sort_meant.to_string())"
   ]
  },
  {
   "cell_type": "markdown",
   "metadata": {},
   "source": [
    "##### To visualize differences among cities\n",
    "\n",
    "we generated the plot: `city_temps.sort_meant`\n"
   ]
  },
  {
   "cell_type": "code",
   "execution_count": 100,
   "metadata": {},
   "outputs": [
    {
     "data": {
      "image/png": "[encoded data removed]",
      "text/plain": [
       "<Figure size 432x288 with 1 Axes>"
      ]
     },
     "metadata": {
      "needs_background": "light"
     },
     "output_type": "display_data"
    }
   ],
   "source": [
    "_=city_temps_sort_meant.plot()"
   ]
  },
  {
   "cell_type": "markdown",
   "metadata": {},
   "source": [
    "We use the sort order `Max - Min` for all three series. The use of `ascending = False` reverses the default sorting order."
   ]
  },
  {
   "cell_type": "code",
   "execution_count": 101,
   "metadata": {},
   "outputs": [
    {
     "data": {
      "text/html": [
       "<div>\n",
       "<style scoped>\n",
       "    .dataframe tbody tr th:only-of-type {\n",
       "        vertical-align: middle;\n",
       "    }\n",
       "\n",
       "    .dataframe tbody tr th {\n",
       "        vertical-align: top;\n",
       "    }\n",
       "\n",
       "    .dataframe thead th {\n",
       "        text-align: right;\n",
       "    }\n",
       "</style>\n",
       "<table border=\"1\" class=\"dataframe\">\n",
       "  <thead>\n",
       "    <tr style=\"text-align: right;\">\n",
       "      <th></th>\n",
       "      <th>Min T</th>\n",
       "      <th>Max T</th>\n",
       "      <th>Mean T</th>\n",
       "      <th>Max-Min</th>\n",
       "    </tr>\n",
       "  </thead>\n",
       "  <tbody>\n",
       "    <tr>\n",
       "      <th>Chicago</th>\n",
       "      <td>-18.04</td>\n",
       "      <td>92.48</td>\n",
       "      <td>49.622</td>\n",
       "      <td>110.52</td>\n",
       "    </tr>\n",
       "    <tr>\n",
       "      <th>St Louis</th>\n",
       "      <td>-8.50</td>\n",
       "      <td>96.98</td>\n",
       "      <td>56.408</td>\n",
       "      <td>105.48</td>\n",
       "    </tr>\n",
       "    <tr>\n",
       "      <th>Detroit</th>\n",
       "      <td>-12.01</td>\n",
       "      <td>89.51</td>\n",
       "      <td>49.550</td>\n",
       "      <td>101.52</td>\n",
       "    </tr>\n",
       "    <tr>\n",
       "      <th>...</th>\n",
       "      <td>...</td>\n",
       "      <td>...</td>\n",
       "      <td>...</td>\n",
       "      <td>...</td>\n",
       "    </tr>\n",
       "    <tr>\n",
       "      <th>Los Angeles</th>\n",
       "      <td>42.98</td>\n",
       "      <td>94.01</td>\n",
       "      <td>63.158</td>\n",
       "      <td>51.03</td>\n",
       "    </tr>\n",
       "    <tr>\n",
       "      <th>San Diego</th>\n",
       "      <td>43.07</td>\n",
       "      <td>92.03</td>\n",
       "      <td>64.130</td>\n",
       "      <td>48.96</td>\n",
       "    </tr>\n",
       "    <tr>\n",
       "      <th>San Juan</th>\n",
       "      <td>68.99</td>\n",
       "      <td>88.97</td>\n",
       "      <td>80.492</td>\n",
       "      <td>19.98</td>\n",
       "    </tr>\n",
       "  </tbody>\n",
       "</table>\n",
       "<p>21 rows × 4 columns</p>\n",
       "</div>"
      ],
      "text/plain": [
       "             Min T  Max T  Mean T  Max-Min\n",
       "Chicago     -18.04  92.48  49.622   110.52\n",
       "St Louis     -8.50  96.98  56.408   105.48\n",
       "Detroit     -12.01  89.51  49.550   101.52\n",
       "...            ...    ...     ...      ...\n",
       "Los Angeles  42.98  94.01  63.158    51.03\n",
       "San Diego    43.07  92.03  64.130    48.96\n",
       "San Juan     68.99  88.97  80.492    19.98\n",
       "\n",
       "[21 rows x 4 columns]"
      ]
     },
     "execution_count": 101,
     "metadata": {},
     "output_type": "execute_result"
    }
   ],
   "source": [
    "city_temps_sort_max_min=city_temps.sort_values('Max-Min', ascending=False)\n",
    "city_temps_sort_max_min                                              "
   ]
  },
  {
   "cell_type": "code",
   "execution_count": 105,
   "metadata": {},
   "outputs": [
    {
     "data": {
      "image/png": "[encoded data removed]",
      "text/plain": [
       "<Figure size 576x288 with 1 Axes>"
      ]
     },
     "metadata": {
      "needs_background": "light"
     },
     "output_type": "display_data"
    }
   ],
   "source": [
    "city_temps_sort_max_min.plot(figsize=(8,4),y=['Min T','Max T','Mean T'],\n",
    "                            title='Variation in Extremal Daily\\nTemperature 1961-2015',\n",
    "                            ylabel='Degrees F')\n",
    "_=plt.xticks(rotation = 'vertical')"
   ]
  },
  {
   "cell_type": "code",
   "execution_count": 106,
   "metadata": {},
   "outputs": [
    {
     "data": {
      "image/png": "[encoded data removed]",
      "text/plain": [
       "<Figure size 864x288 with 1 Axes>"
      ]
     },
     "metadata": {
      "needs_background": "light"
     },
     "output_type": "display_data"
    }
   ],
   "source": [
    "plt.figure(figsize=(12,4))\n",
    "plt.plot(city_temps_sort_max_min['Min T'],  'b--^', label = 'Min T')\n",
    "plt.plot(city_temps_sort_max_min['Max T'],  'kx:',  label = 'Max T')\n",
    "plt.plot(city_temps_sort_max_min['Mean T'], 'ro-.',label = 'Mean T')\n",
    "plt.xticks(rotation = 'vertical')\n",
    "plt.legend()\n",
    "plt.title('Variation in Extremal Daily\\nTemperature 1961-2015')\n",
    "_=plt.ylabel('Degrees F')"
   ]
  },
  {
   "cell_type": "markdown",
   "metadata": {},
   "source": [
    "Looking at this plot we can see, among other things, that\n",
    "\n",
    "* Across cities, the `minimum` temperature differs much `more than` the `maximum` temperature. Because of this, `Max–Min` (the sort\n",
    "order) is strongly `positively` correlated with the `minimum` temperature.\n",
    "\n",
    "\n",
    "* It `never gets very hot` in `San Francisco or Seattle`.\n",
    "\n",
    "\n",
    "* The temperature in `San Juan` is close to `constant`.\n",
    "\n",
    "\n",
    "* The temperature in `Chicago` is `not close to constant`. It gets both `quite hot` and `frighteningly cold `in the windy city\n",
    "\n",
    "\n",
    "* It gets `uncomfortably` hot in both `Phoenix and Las Vegas`.\n",
    "\n",
    "\n",
    "* `San Francisco and Albuquerque` have about the `same mea`n temperature, but radically different `minima and maxima`"
   ]
  },
  {
   "cell_type": "markdown",
   "metadata": {},
   "source": [
    "\n",
    "###  5.2 Fossil Fuel Consumption \n",
    "\n",
    "The file `global-fossil-fuel-consumption.csv` contains data about the yearly con-sumption of fossil fuels on Earth from 1965 and 2015. \n",
    "\n",
    "* https://ourworldindata.org/grapher/global-fossil-fuel-consumption\n",
    "\n",
    "The Data"
   ]
  },
  {
   "cell_type": "code",
   "execution_count": 110,
   "metadata": {},
   "outputs": [],
   "source": [
    "# %load ./data/global-fossil-fuel-consumption.csv\n"
   ]
  },
  {
   "cell_type": "markdown",
   "metadata": {},
   "source": [
    "The DataFrame has a large number of rows or columns, print will replace columns and/or rows in the center of the DataFrame with **ellipses**"
   ]
  },
  {
   "cell_type": "code",
   "execution_count": 111,
   "metadata": {},
   "outputs": [
    {
     "data": {
      "text/html": [
       "<div>\n",
       "<style scoped>\n",
       "    .dataframe tbody tr th:only-of-type {\n",
       "        vertical-align: middle;\n",
       "    }\n",
       "\n",
       "    .dataframe tbody tr th {\n",
       "        vertical-align: top;\n",
       "    }\n",
       "\n",
       "    .dataframe thead th {\n",
       "        text-align: right;\n",
       "    }\n",
       "</style>\n",
       "<table border=\"1\" class=\"dataframe\">\n",
       "  <thead>\n",
       "    <tr style=\"text-align: right;\">\n",
       "      <th></th>\n",
       "      <th>Year</th>\n",
       "      <th>Coal</th>\n",
       "      <th>Crude Oil</th>\n",
       "      <th>Natural Gas</th>\n",
       "    </tr>\n",
       "  </thead>\n",
       "  <tbody>\n",
       "    <tr>\n",
       "      <th>0</th>\n",
       "      <td>1965</td>\n",
       "      <td>16151.96017</td>\n",
       "      <td>18054.69004</td>\n",
       "      <td>6306.370076</td>\n",
       "    </tr>\n",
       "    <tr>\n",
       "      <th>1</th>\n",
       "      <td>1966</td>\n",
       "      <td>16332.01679</td>\n",
       "      <td>19442.23715</td>\n",
       "      <td>6871.686791</td>\n",
       "    </tr>\n",
       "    <tr>\n",
       "      <th>2</th>\n",
       "      <td>1967</td>\n",
       "      <td>16071.18119</td>\n",
       "      <td>20830.13575</td>\n",
       "      <td>7377.525476</td>\n",
       "    </tr>\n",
       "    <tr>\n",
       "      <th>...</th>\n",
       "      <td>...</td>\n",
       "      <td>...</td>\n",
       "      <td>...</td>\n",
       "      <td>...</td>\n",
       "    </tr>\n",
       "    <tr>\n",
       "      <th>50</th>\n",
       "      <td>2015</td>\n",
       "      <td>43786.84580</td>\n",
       "      <td>52053.27008</td>\n",
       "      <td>34741.883490</td>\n",
       "    </tr>\n",
       "    <tr>\n",
       "      <th>51</th>\n",
       "      <td>2016</td>\n",
       "      <td>43101.23216</td>\n",
       "      <td>53001.86598</td>\n",
       "      <td>35741.829870</td>\n",
       "    </tr>\n",
       "    <tr>\n",
       "      <th>52</th>\n",
       "      <td>2017</td>\n",
       "      <td>43397.13549</td>\n",
       "      <td>53752.27638</td>\n",
       "      <td>36703.965870</td>\n",
       "    </tr>\n",
       "  </tbody>\n",
       "</table>\n",
       "<p>53 rows × 4 columns</p>\n",
       "</div>"
      ],
      "text/plain": [
       "    Year         Coal    Crude Oil   Natural Gas\n",
       "0   1965  16151.96017  18054.69004   6306.370076\n",
       "1   1966  16332.01679  19442.23715   6871.686791\n",
       "2   1967  16071.18119  20830.13575   7377.525476\n",
       "..   ...          ...          ...           ...\n",
       "50  2015  43786.84580  52053.27008  34741.883490\n",
       "51  2016  43101.23216  53001.86598  35741.829870\n",
       "52  2017  43397.13549  53752.27638  36703.965870\n",
       "\n",
       "[53 rows x 4 columns]"
      ]
     },
     "execution_count": 111,
     "metadata": {},
     "output_type": "execute_result"
    }
   ],
   "source": [
    "import pandas as pd \n",
    "emissions = pd.read_csv('./data/global-fossil-fuel-consumption.csv') \n",
    "emissions"
   ]
  },
  {
   "cell_type": "code",
   "execution_count": 112,
   "metadata": {},
   "outputs": [
    {
     "data": {
      "text/html": [
       "<div>\n",
       "<style scoped>\n",
       "    .dataframe tbody tr th:only-of-type {\n",
       "        vertical-align: middle;\n",
       "    }\n",
       "\n",
       "    .dataframe tbody tr th {\n",
       "        vertical-align: top;\n",
       "    }\n",
       "\n",
       "    .dataframe thead th {\n",
       "        text-align: right;\n",
       "    }\n",
       "</style>\n",
       "<table border=\"1\" class=\"dataframe\">\n",
       "  <thead>\n",
       "    <tr style=\"text-align: right;\">\n",
       "      <th></th>\n",
       "      <th>Coal</th>\n",
       "      <th>Crude Oil</th>\n",
       "      <th>Natural Gas</th>\n",
       "    </tr>\n",
       "    <tr>\n",
       "      <th>Year</th>\n",
       "      <th></th>\n",
       "      <th></th>\n",
       "      <th></th>\n",
       "    </tr>\n",
       "  </thead>\n",
       "  <tbody>\n",
       "    <tr>\n",
       "      <th>1965</th>\n",
       "      <td>16151.96017</td>\n",
       "      <td>18054.69004</td>\n",
       "      <td>6306.370076</td>\n",
       "    </tr>\n",
       "    <tr>\n",
       "      <th>1966</th>\n",
       "      <td>16332.01679</td>\n",
       "      <td>19442.23715</td>\n",
       "      <td>6871.686791</td>\n",
       "    </tr>\n",
       "    <tr>\n",
       "      <th>1967</th>\n",
       "      <td>16071.18119</td>\n",
       "      <td>20830.13575</td>\n",
       "      <td>7377.525476</td>\n",
       "    </tr>\n",
       "    <tr>\n",
       "      <th>...</th>\n",
       "      <td>...</td>\n",
       "      <td>...</td>\n",
       "      <td>...</td>\n",
       "    </tr>\n",
       "    <tr>\n",
       "      <th>2015</th>\n",
       "      <td>43786.84580</td>\n",
       "      <td>52053.27008</td>\n",
       "      <td>34741.883490</td>\n",
       "    </tr>\n",
       "    <tr>\n",
       "      <th>2016</th>\n",
       "      <td>43101.23216</td>\n",
       "      <td>53001.86598</td>\n",
       "      <td>35741.829870</td>\n",
       "    </tr>\n",
       "    <tr>\n",
       "      <th>2017</th>\n",
       "      <td>43397.13549</td>\n",
       "      <td>53752.27638</td>\n",
       "      <td>36703.965870</td>\n",
       "    </tr>\n",
       "  </tbody>\n",
       "</table>\n",
       "<p>53 rows × 3 columns</p>\n",
       "</div>"
      ],
      "text/plain": [
       "             Coal    Crude Oil   Natural Gas\n",
       "Year                                        \n",
       "1965  16151.96017  18054.69004   6306.370076\n",
       "1966  16332.01679  19442.23715   6871.686791\n",
       "1967  16071.18119  20830.13575   7377.525476\n",
       "...           ...          ...           ...\n",
       "2015  43786.84580  52053.27008  34741.883490\n",
       "2016  43101.23216  53001.86598  35741.829870\n",
       "2017  43397.13549  53752.27638  36703.965870\n",
       "\n",
       "[53 rows x 3 columns]"
      ]
     },
     "execution_count": 112,
     "metadata": {},
     "output_type": "execute_result"
    }
   ],
   "source": [
    "emissions = pd.read_csv('./data/global-fossil-fuel-consumption.csv',parse_dates=[\"Year\"]) \n",
    "emissions[\"Year\"] =emissions[\"Year\"].dt.year \n",
    "emissions.set_index(\"Year\", drop = True, inplace = True)\n",
    "emissions"
   ]
  },
  {
   "cell_type": "markdown",
   "metadata": {},
   "source": [
    "let’s replace the **columns** showing the consumption of **each kind** of fuel by **two** columns,\n",
    "\n",
    "* **Fuels**: the **sum** of the three \n",
    "\n",
    "* **Roll F**: the five-year `rolling average` of the sum "
   ]
  },
  {
   "cell_type": "code",
   "execution_count": 132,
   "metadata": {},
   "outputs": [],
   "source": [
    "# the new column row: Fuels\n",
    "emissions['Fuels'] = emissions.sum(axis = 'columns')\n",
    "\n",
    "# the new colume: the five-year rolling average of the sum.\n",
    "num_years = 5 \n",
    "emissions['Roll F'] = emissions['Fuels'].rolling(num_years).mean() \n",
    "emissions = emissions.round()\n",
    "emissions "
   ]
  },
  {
   "cell_type": "markdown",
   "metadata": {},
   "source": [
    "We can plot this data using"
   ]
  },
  {
   "cell_type": "code",
   "execution_count": 130,
   "metadata": {},
   "outputs": [
    {
     "data": {
      "image/png": "[encoded data removed]",
      "text/plain": [
       "<Figure size 432x288 with 1 Axes>"
      ]
     },
     "metadata": {
      "needs_background": "light"
     },
     "output_type": "display_data"
    }
   ],
   "source": [
    "_=emissions.plot(y=['Fuels','Roll F'],\n",
    "               label =['Consumption',f'{num_years} Year Rolling Ave.'],\n",
    "               title='Consumption of Fossil Fuels', \n",
    "               ylabel='Consumption')"
   ]
  },
  {
   "cell_type": "markdown",
   "metadata": {},
   "source": [
    "While there are  `a few small dips` in consumption (e.g., around the `2008 fi-nancial crisis`), the upward trend is unmistakable. \n",
    "\n",
    "The scientific community has reached consensus that there is an association between this rise in fuel consumption and the rise in `the average temperature` on the planet.\n",
    "\n",
    "Let’s see how it relates to the temperatures in the `21 U.S. cities` we looked at in `Section 23.5.1`.\n",
    "\n",
    "Recall that `yearly_temps` was bound to the `DataFrame`"
   ]
  },
  {
   "cell_type": "code",
   "execution_count": 118,
   "metadata": {},
   "outputs": [
    {
     "data": {
      "text/html": [
       "<div>\n",
       "<style scoped>\n",
       "    .dataframe tbody tr th:only-of-type {\n",
       "        vertical-align: middle;\n",
       "    }\n",
       "\n",
       "    .dataframe tbody tr th {\n",
       "        vertical-align: top;\n",
       "    }\n",
       "\n",
       "    .dataframe thead th {\n",
       "        text-align: right;\n",
       "    }\n",
       "</style>\n",
       "<table border=\"1\" class=\"dataframe\">\n",
       "  <thead>\n",
       "    <tr style=\"text-align: right;\">\n",
       "      <th></th>\n",
       "      <th>Mean T</th>\n",
       "      <th>Max T</th>\n",
       "      <th>Min T</th>\n",
       "    </tr>\n",
       "    <tr>\n",
       "      <th>Year</th>\n",
       "      <th></th>\n",
       "      <th></th>\n",
       "      <th></th>\n",
       "    </tr>\n",
       "  </thead>\n",
       "  <tbody>\n",
       "    <tr>\n",
       "      <th>1961</th>\n",
       "      <td>NaN</td>\n",
       "      <td>NaN</td>\n",
       "      <td>NaN</td>\n",
       "    </tr>\n",
       "    <tr>\n",
       "      <th>1962</th>\n",
       "      <td>NaN</td>\n",
       "      <td>NaN</td>\n",
       "      <td>NaN</td>\n",
       "    </tr>\n",
       "    <tr>\n",
       "      <th>1963</th>\n",
       "      <td>NaN</td>\n",
       "      <td>NaN</td>\n",
       "      <td>NaN</td>\n",
       "    </tr>\n",
       "    <tr>\n",
       "      <th>...</th>\n",
       "      <td>...</td>\n",
       "      <td>...</td>\n",
       "      <td>...</td>\n",
       "    </tr>\n",
       "    <tr>\n",
       "      <th>2013</th>\n",
       "      <td>16.841617</td>\n",
       "      <td>40.050000</td>\n",
       "      <td>-17.122449</td>\n",
       "    </tr>\n",
       "    <tr>\n",
       "      <th>2014</th>\n",
       "      <td>16.857784</td>\n",
       "      <td>40.095918</td>\n",
       "      <td>-17.184694</td>\n",
       "    </tr>\n",
       "    <tr>\n",
       "      <th>2015</th>\n",
       "      <td>16.897144</td>\n",
       "      <td>40.141837</td>\n",
       "      <td>-17.244898</td>\n",
       "    </tr>\n",
       "  </tbody>\n",
       "</table>\n",
       "<p>55 rows × 3 columns</p>\n",
       "</div>"
      ],
      "text/plain": [
       "         Mean T      Max T      Min T\n",
       "Year                                 \n",
       "1961        NaN        NaN        NaN\n",
       "1962        NaN        NaN        NaN\n",
       "1963        NaN        NaN        NaN\n",
       "...         ...        ...        ...\n",
       "2013  16.841617  40.050000 -17.122449\n",
       "2014  16.857784  40.095918 -17.184694\n",
       "2015  16.897144  40.141837 -17.244898\n",
       "\n",
       "[55 rows x 3 columns]"
      ]
     },
     "execution_count": 118,
     "metadata": {},
     "output_type": "execute_result"
    }
   ],
   "source": [
    "yearly_temps"
   ]
  },
  {
   "cell_type": "markdown",
   "metadata": {},
   "source": [
    "Wouldn't it be nice if there were an easy way to combine `yearly_temps` and `emissions`? \n",
    "\n",
    "Pandas' [merge](https://pandas.pydata.org/docs/reference/api/pandas.merge.html#pandas.merge) function does just that. \n",
    "\n",
    "The code:\n"
   ]
  },
  {
   "cell_type": "code",
   "execution_count": 119,
   "metadata": {},
   "outputs": [
    {
     "data": {
      "text/html": [
       "<div>\n",
       "<style scoped>\n",
       "    .dataframe tbody tr th:only-of-type {\n",
       "        vertical-align: middle;\n",
       "    }\n",
       "\n",
       "    .dataframe tbody tr th {\n",
       "        vertical-align: top;\n",
       "    }\n",
       "\n",
       "    .dataframe thead th {\n",
       "        text-align: right;\n",
       "    }\n",
       "</style>\n",
       "<table border=\"1\" class=\"dataframe\">\n",
       "  <thead>\n",
       "    <tr style=\"text-align: right;\">\n",
       "      <th></th>\n",
       "      <th>Mean T</th>\n",
       "      <th>Max T</th>\n",
       "      <th>Min T</th>\n",
       "      <th>Coal</th>\n",
       "      <th>Crude Oil</th>\n",
       "      <th>Natural Gas</th>\n",
       "      <th>Fuels</th>\n",
       "      <th>Roll F</th>\n",
       "    </tr>\n",
       "    <tr>\n",
       "      <th>Year</th>\n",
       "      <th></th>\n",
       "      <th></th>\n",
       "      <th></th>\n",
       "      <th></th>\n",
       "      <th></th>\n",
       "      <th></th>\n",
       "      <th></th>\n",
       "      <th></th>\n",
       "    </tr>\n",
       "  </thead>\n",
       "  <tbody>\n",
       "    <tr>\n",
       "      <th>1965</th>\n",
       "      <td>NaN</td>\n",
       "      <td>NaN</td>\n",
       "      <td>NaN</td>\n",
       "      <td>16152.0</td>\n",
       "      <td>18055.0</td>\n",
       "      <td>6306.0</td>\n",
       "      <td>40513.0</td>\n",
       "      <td>NaN</td>\n",
       "    </tr>\n",
       "    <tr>\n",
       "      <th>1966</th>\n",
       "      <td>NaN</td>\n",
       "      <td>NaN</td>\n",
       "      <td>NaN</td>\n",
       "      <td>16332.0</td>\n",
       "      <td>19442.0</td>\n",
       "      <td>6872.0</td>\n",
       "      <td>42646.0</td>\n",
       "      <td>NaN</td>\n",
       "    </tr>\n",
       "    <tr>\n",
       "      <th>1967</th>\n",
       "      <td>NaN</td>\n",
       "      <td>NaN</td>\n",
       "      <td>NaN</td>\n",
       "      <td>16071.0</td>\n",
       "      <td>20830.0</td>\n",
       "      <td>7378.0</td>\n",
       "      <td>44279.0</td>\n",
       "      <td>NaN</td>\n",
       "    </tr>\n",
       "    <tr>\n",
       "      <th>...</th>\n",
       "      <td>...</td>\n",
       "      <td>...</td>\n",
       "      <td>...</td>\n",
       "      <td>...</td>\n",
       "      <td>...</td>\n",
       "      <td>...</td>\n",
       "      <td>...</td>\n",
       "      <td>...</td>\n",
       "    </tr>\n",
       "    <tr>\n",
       "      <th>2013</th>\n",
       "      <td>16.841617</td>\n",
       "      <td>40.050000</td>\n",
       "      <td>-17.122449</td>\n",
       "      <td>44953.0</td>\n",
       "      <td>50698.0</td>\n",
       "      <td>33715.0</td>\n",
       "      <td>129366.0</td>\n",
       "      <td>124455.0</td>\n",
       "    </tr>\n",
       "    <tr>\n",
       "      <th>2014</th>\n",
       "      <td>16.857784</td>\n",
       "      <td>40.095918</td>\n",
       "      <td>-17.184694</td>\n",
       "      <td>44917.0</td>\n",
       "      <td>51110.0</td>\n",
       "      <td>33987.0</td>\n",
       "      <td>130014.0</td>\n",
       "      <td>127060.0</td>\n",
       "    </tr>\n",
       "    <tr>\n",
       "      <th>2015</th>\n",
       "      <td>16.897144</td>\n",
       "      <td>40.141837</td>\n",
       "      <td>-17.244898</td>\n",
       "      <td>43787.0</td>\n",
       "      <td>52053.0</td>\n",
       "      <td>34742.0</td>\n",
       "      <td>130582.0</td>\n",
       "      <td>128649.0</td>\n",
       "    </tr>\n",
       "  </tbody>\n",
       "</table>\n",
       "<p>51 rows × 8 columns</p>\n",
       "</div>"
      ],
      "text/plain": [
       "         Mean T      Max T      Min T     Coal  Crude Oil  Natural Gas  \\\n",
       "Year                                                                     \n",
       "1965        NaN        NaN        NaN  16152.0    18055.0       6306.0   \n",
       "1966        NaN        NaN        NaN  16332.0    19442.0       6872.0   \n",
       "1967        NaN        NaN        NaN  16071.0    20830.0       7378.0   \n",
       "...         ...        ...        ...      ...        ...          ...   \n",
       "2013  16.841617  40.050000 -17.122449  44953.0    50698.0      33715.0   \n",
       "2014  16.857784  40.095918 -17.184694  44917.0    51110.0      33987.0   \n",
       "2015  16.897144  40.141837 -17.244898  43787.0    52053.0      34742.0   \n",
       "\n",
       "         Fuels    Roll F  \n",
       "Year                      \n",
       "1965   40513.0       NaN  \n",
       "1966   42646.0       NaN  \n",
       "1967   44279.0       NaN  \n",
       "...        ...       ...  \n",
       "2013  129366.0  124455.0  \n",
       "2014  130014.0  127060.0  \n",
       "2015  130582.0  128649.0  \n",
       "\n",
       "[51 rows x 8 columns]"
      ]
     },
     "execution_count": 119,
     "metadata": {},
     "output_type": "execute_result"
    }
   ],
   "source": [
    "merged_df = pd.merge(yearly_temps, emissions, left_index = True,right_index=True)\n",
    "merged_df"
   ]
  },
  {
   "cell_type": "markdown",
   "metadata": {},
   "source": [
    "The DataFrame contains the union of the columns appearing in `yearly_temps` and `emissions` but includes only rows built from the\n",
    "rows in `yearly_temps` and `emissions` that contain the same value in the Year column.\n",
    "\n",
    "Now that we have the emissions and temperature information in the same DataFrame, it is easy to look at how things are `correlated`\n",
    "with each other.\n",
    "\n",
    "Firstly,we conver `index` to the `column`"
   ]
  },
  {
   "cell_type": "code",
   "execution_count": 120,
   "metadata": {},
   "outputs": [
    {
     "data": {
      "text/html": [
       "<div>\n",
       "<style scoped>\n",
       "    .dataframe tbody tr th:only-of-type {\n",
       "        vertical-align: middle;\n",
       "    }\n",
       "\n",
       "    .dataframe tbody tr th {\n",
       "        vertical-align: top;\n",
       "    }\n",
       "\n",
       "    .dataframe thead th {\n",
       "        text-align: right;\n",
       "    }\n",
       "</style>\n",
       "<table border=\"1\" class=\"dataframe\">\n",
       "  <thead>\n",
       "    <tr style=\"text-align: right;\">\n",
       "      <th></th>\n",
       "      <th>Year</th>\n",
       "      <th>Mean T</th>\n",
       "      <th>Max T</th>\n",
       "      <th>Min T</th>\n",
       "      <th>Coal</th>\n",
       "      <th>Crude Oil</th>\n",
       "      <th>Natural Gas</th>\n",
       "      <th>Fuels</th>\n",
       "      <th>Roll F</th>\n",
       "    </tr>\n",
       "  </thead>\n",
       "  <tbody>\n",
       "    <tr>\n",
       "      <th>0</th>\n",
       "      <td>1965</td>\n",
       "      <td>NaN</td>\n",
       "      <td>NaN</td>\n",
       "      <td>NaN</td>\n",
       "      <td>16152.0</td>\n",
       "      <td>18055.0</td>\n",
       "      <td>6306.0</td>\n",
       "      <td>40513.0</td>\n",
       "      <td>NaN</td>\n",
       "    </tr>\n",
       "    <tr>\n",
       "      <th>1</th>\n",
       "      <td>1966</td>\n",
       "      <td>NaN</td>\n",
       "      <td>NaN</td>\n",
       "      <td>NaN</td>\n",
       "      <td>16332.0</td>\n",
       "      <td>19442.0</td>\n",
       "      <td>6872.0</td>\n",
       "      <td>42646.0</td>\n",
       "      <td>NaN</td>\n",
       "    </tr>\n",
       "    <tr>\n",
       "      <th>2</th>\n",
       "      <td>1967</td>\n",
       "      <td>NaN</td>\n",
       "      <td>NaN</td>\n",
       "      <td>NaN</td>\n",
       "      <td>16071.0</td>\n",
       "      <td>20830.0</td>\n",
       "      <td>7378.0</td>\n",
       "      <td>44279.0</td>\n",
       "      <td>NaN</td>\n",
       "    </tr>\n",
       "    <tr>\n",
       "      <th>...</th>\n",
       "      <td>...</td>\n",
       "      <td>...</td>\n",
       "      <td>...</td>\n",
       "      <td>...</td>\n",
       "      <td>...</td>\n",
       "      <td>...</td>\n",
       "      <td>...</td>\n",
       "      <td>...</td>\n",
       "      <td>...</td>\n",
       "    </tr>\n",
       "    <tr>\n",
       "      <th>48</th>\n",
       "      <td>2013</td>\n",
       "      <td>16.841617</td>\n",
       "      <td>40.050000</td>\n",
       "      <td>-17.122449</td>\n",
       "      <td>44953.0</td>\n",
       "      <td>50698.0</td>\n",
       "      <td>33715.0</td>\n",
       "      <td>129366.0</td>\n",
       "      <td>124455.0</td>\n",
       "    </tr>\n",
       "    <tr>\n",
       "      <th>49</th>\n",
       "      <td>2014</td>\n",
       "      <td>16.857784</td>\n",
       "      <td>40.095918</td>\n",
       "      <td>-17.184694</td>\n",
       "      <td>44917.0</td>\n",
       "      <td>51110.0</td>\n",
       "      <td>33987.0</td>\n",
       "      <td>130014.0</td>\n",
       "      <td>127060.0</td>\n",
       "    </tr>\n",
       "    <tr>\n",
       "      <th>50</th>\n",
       "      <td>2015</td>\n",
       "      <td>16.897144</td>\n",
       "      <td>40.141837</td>\n",
       "      <td>-17.244898</td>\n",
       "      <td>43787.0</td>\n",
       "      <td>52053.0</td>\n",
       "      <td>34742.0</td>\n",
       "      <td>130582.0</td>\n",
       "      <td>128649.0</td>\n",
       "    </tr>\n",
       "  </tbody>\n",
       "</table>\n",
       "<p>51 rows × 9 columns</p>\n",
       "</div>"
      ],
      "text/plain": [
       "    Year     Mean T      Max T      Min T     Coal  Crude Oil  Natural Gas  \\\n",
       "0   1965        NaN        NaN        NaN  16152.0    18055.0       6306.0   \n",
       "1   1966        NaN        NaN        NaN  16332.0    19442.0       6872.0   \n",
       "2   1967        NaN        NaN        NaN  16071.0    20830.0       7378.0   \n",
       "..   ...        ...        ...        ...      ...        ...          ...   \n",
       "48  2013  16.841617  40.050000 -17.122449  44953.0    50698.0      33715.0   \n",
       "49  2014  16.857784  40.095918 -17.184694  44917.0    51110.0      33987.0   \n",
       "50  2015  16.897144  40.141837 -17.244898  43787.0    52053.0      34742.0   \n",
       "\n",
       "       Fuels    Roll F  \n",
       "0    40513.0       NaN  \n",
       "1    42646.0       NaN  \n",
       "2    44279.0       NaN  \n",
       "..       ...       ...  \n",
       "48  129366.0  124455.0  \n",
       "49  130014.0  127060.0  \n",
       "50  130582.0  128649.0  \n",
       "\n",
       "[51 rows x 9 columns]"
      ]
     },
     "execution_count": 120,
     "metadata": {},
     "output_type": "execute_result"
    }
   ],
   "source": [
    "merged_df.reset_index(inplace=True)\n",
    "merged_df"
   ]
  },
  {
   "cell_type": "markdown",
   "metadata": {},
   "source": [
    "Then,look at how things are correlated with each other"
   ]
  },
  {
   "cell_type": "code",
   "execution_count": 121,
   "metadata": {},
   "outputs": [
    {
     "name": "stdout",
     "output_type": "stream",
     "text": [
      "             Year  Mean T  Max T  Min T  Coal  Crude Oil  Natural Gas  Fuels  Roll F\n",
      "Year         1.00    0.98   0.93   0.78  0.95       0.96         0.99   0.99    0.98\n",
      "Mean T       0.98    1.00   0.94   0.73  0.86       0.92         0.95   0.92    0.93\n",
      "Max T        0.93    0.94   1.00   0.70  0.90       0.89         0.93   0.92    0.94\n",
      "Min T        0.78    0.73   0.70   1.00  0.79       0.85         0.80   0.82    0.81\n",
      "Coal         0.95    0.86   0.90   0.79  1.00       0.91         0.97   0.98    0.98\n",
      "Crude Oil    0.96    0.92   0.89   0.85  0.91       1.00         0.97   0.97    0.98\n",
      "Natural Gas  0.99    0.95   0.93   0.80  0.97       0.97         1.00   1.00    0.99\n",
      "Fuels        0.99    0.92   0.92   0.82  0.98       0.97         1.00   1.00    1.00\n",
      "Roll F       0.98    0.93   0.94   0.81  0.98       0.98         0.99   1.00    1.00\n"
     ]
    }
   ],
   "source": [
    "print(merged_df.corr().round(2).to_string())"
   ]
  },
  {
   "cell_type": "markdown",
   "metadata": {},
   "source": [
    "We see that `global fuel consumption` in previous years is indeed `highly correlated` with both the mean and maximum `temperature`in\n",
    "these U.S. cities. \n",
    "\n",
    "Does this imply that increased fuel consumption is causing the rise in temperature? It does not. \n",
    "\n",
    "Notice that both are highly correlated with year. Perhaps some lurking variable is also correlated with year and is the causal factor. \n",
    "\n",
    "What we can say from a `statistical` perspective, is that the data does `not contradict` the widely accepted `scientific hypothesis` that \n",
    "\n",
    "* `the increased use of fossil fuels generates greenhouse gasses that have caused temperatures to rise.`\n"
   ]
  },
  {
   "cell_type": "markdown",
   "metadata": {},
   "source": [
    "## Further Reading\n",
    "\n",
    "This concludes our brief look at Pandas. We have only scratched the surface of what it offers. We will use it later in the book and\n",
    "introduce a few more features. If you want to learn more, there are many online resources and some excellent inexpensive books.\n",
    "\n",
    "* The website https://www.dataschool.io/best-python-pandas-resources/ lists some of these\n",
    "\n",
    "\n",
    "* The officical tutorials: https://pandas.pydata.org/docs/getting_started/intro_tutorials/index.html"
   ]
  }
 ],
 "metadata": {
  "kernelspec": {
   "display_name": "Python 3 (ipykernel)",
   "language": "python",
   "name": "python3"
  },
  "language_info": {
   "codemirror_mode": {
    "name": "ipython",
    "version": 3
   },
   "file_extension": ".py",
   "mimetype": "text/x-python",
   "name": "python",
   "nbconvert_exporter": "python",
   "pygments_lexer": "ipython3",
   "version": "3.10.5"
  },
  "latex_envs": {
   "LaTeX_envs_menu_present": true,
   "autoclose": false,
   "autocomplete": true,
   "bibliofile": "biblio.bib",
   "cite_by": "apalike",
   "current_citInitial": 1,
   "eqLabelWithNumbers": true,
   "eqNumInitial": 1,
   "hotkeys": {
    "equation": "Ctrl-E",
    "itemize": "Ctrl-I"
   },
   "labels_anchors": false,
   "latex_user_defs": false,
   "report_style_numbering": false,
   "user_envs_cfg": false
  },
  "toc": {
   "base_numbering": 1,
   "nav_menu": {},
   "number_sections": false,
   "sideBar": true,
   "skip_h1_title": false,
   "title_cell": "Table of Contents",
   "title_sidebar": "Contents",
   "toc_cell": false,
   "toc_position": {
    "height": "calc(100% - 180px)",
    "left": "10px",
    "top": "150px",
    "width": "182.475px"
   },
   "toc_section_display": true,
   "toc_window_display": true
  },
  "vscode": {
   "interpreter": {
    "hash": "369f2c481f4da34e4445cda3fffd2e751bd1c4d706f27375911949ba6bb62e1c"
   }
  }
 },
 "nbformat": 4,
 "nbformat_minor": 4
}
