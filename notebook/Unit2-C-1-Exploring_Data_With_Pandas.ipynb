{
 "cells": [
  {
   "cell_type": "markdown",
   "metadata": {},
   "source": [
    "#  EXPLORING DATA WITH PANDAS"
   ]
  },
  {
   "cell_type": "markdown",
   "metadata": {},
   "source": [
    "## Pandas\n",
    "\n",
    "Most of the second half of this book is focused on building various kinds of computational models that can be used to extract useful information from data. \n",
    "\n",
    "In the chapters following this one, we will take a quick look at `simple` ways to use `machine learning` to build models from data. \n",
    "\n",
    "Before doing so, however, \n",
    "\n",
    "we will look at a popular library **Pandas** that can be used to quickly get acquainted with a dataset before diving into more detailed analysis. \n",
    "\n",
    "**Pandas** is built on top of numpy. \n",
    "\n",
    ">The name was derived from the term **“panel data(面板数据)”**  an econometrics term for data that includes observations over multiple time periods. \n",
    "\n",
    "Pandas provides mechanisms to facilitate  \n",
    "\n",
    "* **Organizing** data\n",
    "\n",
    "* **Calculating** simple statistics about data\n",
    "\n",
    "* **Storing** the data in formats that facility future analysis\n",
    "\n",
    "\n",
    "**Install**\n",
    "\n"
   ]
  },
  {
   "cell_type": "code",
   "execution_count": null,
   "metadata": {},
   "outputs": [],
   "source": [
    "!pip install -U pandas"
   ]
  },
  {
   "cell_type": "markdown",
   "metadata": {},
   "source": [
    "## 1 DataFrames and CSV Files\n",
    "\n",
    "Everything in Pandas is built around the type **DataFrame**\n",
    "\n",
    "* A DataFrame is a mutable <font color=\"blue\">two-dimensional tabular data structure(二维表)</font> with labeled axes (rows and columns). \n",
    "\n",
    "The following Figure shows a **DataFrame** containing information about the late rounds of the <font color=\"blue\">2019 FIFA Women’s World Cup</font>.\n",
    "\n",
    "![DataFrame:two-dimensional tabular ](img/fig23-1.jpg)\n",
    "\n",
    "Each **column(列)** represents something called a **series(序列)**.\n",
    "\n",
    "* A **name(label)** is associated with each **column**. these **names** play a role similar to that of **keys** in \n",
    "dictionaries. \n",
    "\n",
    "An **index** is associated with each **row(行)**. \n",
    "\n",
    "* By default, the indices are consecutive numbers, but they needn’t be.\n"
   ]
  },
  {
   "cell_type": "markdown",
   "metadata": {},
   "source": [
    "The Data of the late rounds of the 2019 FIFA Women’s World Cup is stored in the CSV file of `./data/wwc2019_q-f.csv`  \n"
   ]
  },
  {
   "cell_type": "code",
   "execution_count": null,
   "metadata": {},
   "outputs": [],
   "source": [
    "# %load ./data/wwc2019_q-f.csv\n",
    "Round,Winner,W Goals,Loser,L Goals\n",
    "Quarters,England,3,Norway,0\n",
    "Quarters,USA,2,France,1\n",
    "Quarters,Netherlands,2,Italy,0\n",
    "Quarters,Sweden,2,Germany,1\n",
    "Semis,USA,2,England,1\n",
    "Semis,Netherlands,1,Sweden,0\n",
    "3rd Place,Sweden,2,England,1\n",
    "Championship,USA,2,Netherlands,0"
   ]
  },
  {
   "cell_type": "markdown",
   "metadata": {},
   "source": [
    "While DataFrames can be built from scratch using Python code, a more common way to create a DataFrame is by reading in a \n",
    "**CSV** file. \n",
    "\n",
    "The DataFrame pictured in the above figure was produced using the code below and the CSV file "
   ]
  },
  {
   "cell_type": "code",
   "execution_count": null,
   "metadata": {},
   "outputs": [],
   "source": [
    "import pandas as pd \n",
    "wwc = pd.read_csv('./data/wwc2019_q-f.csv') \n",
    "wwc"
   ]
  },
  {
   "cell_type": "markdown",
   "metadata": {},
   "source": [
    "After importing Pandas, the code uses the Pandas'function `read_csv` to read the CSV file, and then **prints** it in the tabular form shown in the above Figure.\n",
    "\n",
    "If the DataFrame has a **large number** of rows or columns, print will replace columns and/or rows in the **center** of the DataFrame with **ellipses(...)**. \n"
   ]
  },
  {
   "cell_type": "code",
   "execution_count": null,
   "metadata": {},
   "outputs": [],
   "source": [
    "pd.set_option('display.max_rows', 6)\n",
    "pd.set_option('display.max_columns', 5)\n",
    "temperatures = pd.read_csv('./data/US_temperatures.csv')\n",
    "temperatures"
   ]
  },
  {
   "cell_type": "markdown",
   "metadata": {},
   "source": [
    "Together, a **row index** and a **column label** indicate a data **cell** (as in a spreadsheet).\n",
    "\n",
    "* cell(row index,column label)\n",
    "\n",
    "We discuss how to access individual cells and groups of cells in **Section 3** \n",
    "\n",
    "Typically, but not always, the cells in a column are all of the same type.\n",
    "\n",
    "In the DataFrame in Figure 23-1,\n",
    "\n",
    "* each of the cells in the **Round,Winner, and Loser** columns is of type **str**.\n",
    "\n",
    "* The cells in the **WGoals and LGoals** columns are of type **numpy.int64** . You won’t have a problem if you think of them as Python's ints\n",
    "\n",
    "We can directly access the **three** components of a DataFrame using the attributes \n",
    "\n",
    "* <font color=\"blue\">index</font> \n",
    " \n",
    "* <font color=\"blue\">columns </font> \n",
    "\n",
    "* <font color=\"blue\">values</font> "
   ]
  },
  {
   "cell_type": "markdown",
   "metadata": {},
   "source": [
    "### index\n",
    "\n",
    "The **index** attribute is of type **RangeIndex**. \n",
    "\n",
    "For example,"
   ]
  },
  {
   "cell_type": "code",
   "execution_count": null,
   "metadata": {},
   "outputs": [],
   "source": [
    "print(type(wwc.index))\n",
    "for i in wwc.index: \n",
    "    print(i) "
   ]
  },
  {
   "cell_type": "markdown",
   "metadata": {},
   "source": [
    "the value of `wwc.index` is `RangeIndex(start=0, stop=8, step=1)`\n",
    "\n",
    "Therefore, the code will `print` the `integers 0-7` in ascending order"
   ]
  },
  {
   "cell_type": "markdown",
   "metadata": {},
   "source": [
    "### columns\n",
    "\n",
    "The **columns** attribute is of type **Index**\n",
    "\n",
    "For example, "
   ]
  },
  {
   "cell_type": "code",
   "execution_count": null,
   "metadata": {},
   "outputs": [],
   "source": [
    "print(type(wwc.columns))\n",
    "for c in wwc.columns: \n",
    "    print(c) "
   ]
  },
  {
   "cell_type": "markdown",
   "metadata": {},
   "source": [
    "the value `wwc.columns` is `Index(['Round', 'Winner', 'W Goals', 'Loser', 'L Goals'], dtype= \n",
    "'object')`\n",
    "\n"
   ]
  },
  {
   "cell_type": "markdown",
   "metadata": {},
   "source": [
    "### values\n",
    "\n",
    "The `values` attribute is of type `numpy.ndarray`. \n"
   ]
  },
  {
   "cell_type": "code",
   "execution_count": null,
   "metadata": {},
   "outputs": [],
   "source": [
    "print(type(wwc.values))"
   ]
  },
  {
   "cell_type": "markdown",
   "metadata": {},
   "source": [
    "**numpy.ndarrays** can be **multidi**-mensional. \n",
    "\n",
    "The **number** of `dimensions and items` in an `ndarray` is called its `shape` and is represented by a `tuple` of non-negative integers that specify the size of each dimension. \n",
    "\n",
    "```python\n",
    "(rows,columns)\n",
    "```\n"
   ]
  },
  {
   "cell_type": "code",
   "execution_count": null,
   "metadata": {},
   "outputs": [],
   "source": [
    "print(wwc.values.shape)"
   ]
  },
  {
   "cell_type": "markdown",
   "metadata": {},
   "source": [
    "The value of `wwc.values` is the `two-dimensional` ndarray\n",
    "\n",
    "* It has **eight** rows and **five** columns, its **shape** is (8, 5) \n",
    "."
   ]
  },
  {
   "cell_type": "code",
   "execution_count": null,
   "metadata": {},
   "outputs": [],
   "source": [
    "for v in wwc.values: \n",
    "    print(v) "
   ]
  },
  {
   "cell_type": "markdown",
   "metadata": {},
   "source": [
    "## 2 Creating Series and DataFrames \n",
    "\n",
    "### 1 Creating Series and DataFrames \n",
    "\n",
    "In practice, Pandas’ **DataFrames** are typically created by loading a dataset that has been stored as either an `SQL database`, a `CSV file`, or in a format associated with a `spreadsheet application`. \n",
    "\n",
    "However, it is sometimes useful to **construct** series and DataFrames using Python code. "
   ]
  },
  {
   "cell_type": "markdown",
   "metadata": {},
   "source": [
    "The expression `pd.DataFrame()` \n",
    "produces an empty DataFrame, and the statement `print(pd.DataFrame())` produces the output "
   ]
  },
  {
   "cell_type": "code",
   "execution_count": null,
   "metadata": {},
   "outputs": [],
   "source": [
    "df1=pd.DataFrame() \n",
    "print(df1) "
   ]
  },
  {
   "cell_type": "markdown",
   "metadata": {},
   "source": [
    "A simple way to create a **non-empty** DataFrame is to pass in a **list** \n",
    "\n",
    "For example,  "
   ]
  },
  {
   "cell_type": "code",
   "execution_count": null,
   "metadata": {},
   "outputs": [],
   "source": [
    "rounds = ['Semis', 'Semis', '3rd Place', 'Championship'] \n",
    "df=pd.DataFrame(rounds)\n",
    "df "
   ]
  },
  {
   "cell_type": "markdown",
   "metadata": {},
   "source": [
    "Notice that Pandas has automatically generated a **label**, albeit `not` a particularly `descriptive` one, for the DataFrame’s only column. \n",
    "\n",
    "To get a **more descriptive label**, we can pass in a **dictionary** `{'Round': rounds}` rather than a list. \n",
    "\n",
    "For example, "
   ]
  },
  {
   "cell_type": "code",
   "execution_count": null,
   "metadata": {},
   "outputs": [],
   "source": [
    "pd.DataFrame({'Round': rounds}) "
   ]
  },
  {
   "cell_type": "markdown",
   "metadata": {},
   "source": [
    "To directly create a DataFrame with **multiple** columns, we need only pass in a dictionary with **multiple** entries, each consisting of a column `label` as a `key` and a `list` as the `value` associated with each key.\n",
    "\n",
    "```python\n",
    "{'Round': rounds, 'Winner': teams}\n",
    "```\n",
    "Each of these lists must be of the same length.\n",
    "\n",
    "For example, "
   ]
  },
  {
   "cell_type": "code",
   "execution_count": null,
   "metadata": {},
   "outputs": [],
   "source": [
    "rounds = ['Semis', 'Semis', '3rd Place', 'Championship'] \n",
    "teams = ['USA', 'Netherlands', 'Sweden', 'USA'] \n",
    "df = pd.DataFrame({'Round': rounds, 'Winner': teams}) \n",
    "df"
   ]
  },
  {
   "cell_type": "markdown",
   "metadata": {},
   "source": [
    "###  2 add columns\n",
    "\n",
    "Once a DataFrame has been created, it is easy to **add** columns.\n",
    "\n",
    "For example, \n",
    "```python\n",
    "df['W Goals'] = [2, 1, 0, 0] \n",
    "```\n",
    "\n",
    "mutates `df` so that its value becomes"
   ]
  },
  {
   "cell_type": "code",
   "execution_count": null,
   "metadata": {},
   "outputs": [],
   "source": [
    "df['W Goals'] = [2, 1, 0, 0] \n",
    "df"
   ]
  },
  {
   "cell_type": "markdown",
   "metadata": {},
   "source": [
    "Just as the `values` associated with a `key` in dictionary can be replaced, the `values` associated with a `column` can be replaced.\n",
    "\n",
    "For example, after executing the statement \n",
    "```python\n",
    "df['W Goals'] = [2, 1, 2, 2]\n",
    "```\n",
    " the value of `df` becomes "
   ]
  },
  {
   "cell_type": "code",
   "execution_count": null,
   "metadata": {},
   "outputs": [],
   "source": [
    "df['W Goals'] = [2, 1, 2,2] \n",
    "df"
   ]
  },
  {
   "cell_type": "markdown",
   "metadata": {},
   "source": [
    "### 3 drop columns\n",
    "\n",
    "It is also easy to **drop** columns from a DataFrame. The function call \n",
    "\n",
    "```python\n",
    "df.drop('Winner', axis = 'columns')\n",
    "``` \n",
    "\n",
    "It requires **copying** the DataFrame，leaves `df` **unchanged**. \n"
   ]
  },
  {
   "cell_type": "code",
   "execution_count": null,
   "metadata": {},
   "outputs": [],
   "source": [
    "df1=df.drop('Winner', axis = 'columns')\n",
    "df1"
   ]
  },
  {
   "cell_type": "markdown",
   "metadata": {},
   "source": [
    "\n",
    "\n",
    "If we had not included `axis = 'columns'`(or equivalently `axis = 1`) in the call to `drop` ,\n",
    "\n",
    "the axis would have `defaulted` to 'rows'`(equivalent to `axis = 0`), which would have led to generating the exception `KeyError:`\n",
    "\n",
    "```\n",
    "\"['Winner'] not found in axis.\" \n",
    "```"
   ]
  },
  {
   "cell_type": "markdown",
   "metadata": {},
   "source": [
    "### 4 inplace \n",
    "\n",
    "If a DataFrame is large, using drop in this way is inefficient, since it requires copying the DataFrame.\n",
    "\n",
    "The copy can be avoided by setting the `inplace` keyword argument to `drop` to `True` \n",
    "\n",
    "The call \n",
    "```\n",
    "df.drop('Winner', axis = 'columns', inplace = True)\n",
    "```\n",
    "**mutates** `df` and returns `None` \n"
   ]
  },
  {
   "cell_type": "code",
   "execution_count": null,
   "metadata": {},
   "outputs": [],
   "source": [
    "df.drop('Winner', axis = 'columns', inplace = True)\n",
    "df"
   ]
  },
  {
   "cell_type": "markdown",
   "metadata": {},
   "source": [
    "### 5 add Rows\n",
    "\n",
    "Rows can be added to the beginning or end of a DataFrame using the DataFrame constructor to create a new DataFrame, and then using the \n",
    "**concat** function to combine the new DataFrame with an existing DataFrame.\n",
    "\n",
    "For example, the code \n",
    "```Python\n",
    "pd.concat([pd.DataFrame(quarters_dict), df], sort = False) \n",
    "```\n",
    "\n"
   ]
  },
  {
   "cell_type": "code",
   "execution_count": null,
   "metadata": {},
   "outputs": [],
   "source": [
    "quarters_dict = {'Round': ['Quarters']*4, \n",
    "                  'Winner': ['England', 'USA', 'Netherlands', 'Sweden'], \n",
    "                  'W Goals': [3, 2, 2, 2]} \n",
    "\n",
    "df = pd.concat([pd.DataFrame(quarters_dict), df], sort = False) \n",
    "df"
   ]
  },
  {
   "cell_type": "markdown",
   "metadata": {},
   "source": [
    "Had the keyword argument `sort` been set to `True`,\n",
    "`concat` would have also changed the order of the columns based upon the lexographic ordering of their labels. \n",
    "That is \n",
    "```python\n",
    "pd.concat([pd.DataFrame(quarters_dict), df], sort = True)\n",
    "```\n",
    "swaps the position of the last two columns and returns the DataFrame \n",
    "\n",
    "If no value for sort is provided, it defaults to `False` ."
   ]
  },
  {
   "cell_type": "code",
   "execution_count": null,
   "metadata": {},
   "outputs": [],
   "source": [
    "quarters_dict = {'Round': ['Quarters']*4, \n",
    "                  'Winner': ['England', 'USA', 'Netherlands', 'Sweden'], \n",
    "                  'W Goals': [3, 2, 2, 2]} \n",
    "\n",
    "df = pd.concat([pd.DataFrame(quarters_dict), df], sort = True) \n",
    "df"
   ]
  },
  {
   "cell_type": "markdown",
   "metadata": {},
   "source": [
    "### 6 reset_index \n",
    "\n",
    "Notice that the **indices** of each of the `concatenated` DataFrames are **unchanged**. Consequently, there are **multiple** rows with the `same **index**. \n",
    "\n",
    "The indices can be `reset` using the `reset_index` method. \n",
    "\n",
    "For example, the expression \n",
    "```python\n",
    "df.reset_index(drop = True) \n",
    "```\n",
    "evaluates to "
   ]
  },
  {
   "cell_type": "code",
   "execution_count": null,
   "metadata": {},
   "outputs": [],
   "source": [
    "df1=df.reset_index(drop = True) \n",
    "df1"
   ]
  },
  {
   "cell_type": "markdown",
   "metadata": {},
   "source": [
    "If `reset_index` is invoked with `drop = False`, a `new column` containing the **old indices** is added to the DataFrame. \n",
    "\n",
    "The column is **labeled index**."
   ]
  },
  {
   "cell_type": "code",
   "execution_count": null,
   "metadata": {},
   "outputs": [],
   "source": [
    "df1=df.reset_index(drop = False) \n",
    "df1"
   ]
  },
  {
   "cell_type": "markdown",
   "metadata": {},
   "source": [
    "You might be wondering why Pandas even allows **duplicate** indices.\n",
    "\n",
    "The reason is that it is often helpful to use a semantically **meaningful** index to **label rows.** \n",
    "For example, \n",
    "```\n",
    "df.set_index('Round') \n",
    "```\n",
    "evaluates to"
   ]
  },
  {
   "cell_type": "code",
   "execution_count": null,
   "metadata": {},
   "outputs": [],
   "source": [
    "df2=df.set_index('Round') \n",
    "df2"
   ]
  },
  {
   "cell_type": "markdown",
   "metadata": {},
   "source": [
    "## 3  Selecting Columns and Rows \n",
    "\n"
   ]
  },
  {
   "cell_type": "code",
   "execution_count": null,
   "metadata": {},
   "outputs": [],
   "source": [
    "import pandas as pd \n",
    "wwc = pd.read_csv('./data/wwc2019_q-f.csv') \n",
    "wwc"
   ]
  },
  {
   "cell_type": "markdown",
   "metadata": {},
   "source": [
    "### 0 Selecting Columns\n",
    "\n",
    "As is the case for other composite types in Python, **square brackets[]** are the primary mechanism for selecting parts of a DataFrame. \n",
    "\n",
    "To select a single column of a DataFrame, we simply place the **label** of the column in between square brackets. \n",
    "For example, \n",
    "```python\n",
    "wwc['Winner'] \n",
    "```\n",
    "evaluates to "
   ]
  },
  {
   "cell_type": "code",
   "execution_count": null,
   "metadata": {},
   "outputs": [],
   "source": [
    "wwc['Winner'] "
   ]
  },
  {
   "cell_type": "markdown",
   "metadata": {},
   "source": [
    "The type of this object is **Series** , "
   ]
  },
  {
   "cell_type": "code",
   "execution_count": null,
   "metadata": {},
   "outputs": [],
   "source": [
    "type(wwc['Winner']) "
   ]
  },
  {
   "cell_type": "markdown",
   "metadata": {},
   "source": [
    "i.e., it is not a DataFrame. \n",
    "\n",
    "A Series is a `one-dimensional` sequence of values, each of which is `labeled by an index`.\n",
    "\n",
    "To select a single item from a Series, we place an index within square brackets following the \n",
    "series. So, \n",
    "\n"
   ]
  },
  {
   "cell_type": "code",
   "execution_count": null,
   "metadata": {},
   "outputs": [],
   "source": [
    "wwc['Winner'][3] "
   ]
  },
  {
   "cell_type": "markdown",
   "metadata": {},
   "source": [
    "evaluates to the string `Sweden` \n",
    " \n",
    "We can iterate over a series using a `for` loop. For example"
   ]
  },
  {
   "cell_type": "code",
   "execution_count": null,
   "metadata": {},
   "outputs": [],
   "source": [
    "winners = '' \n",
    "for w in wwc['Winner']: \n",
    "    winners += w + ',' \n",
    "winners[:-1]"
   ]
  },
  {
   "cell_type": "markdown",
   "metadata": {},
   "source": [
    "Square brackets can also be used to select `multiple` columns from a DataFrame. \n",
    "\n",
    "This is done by placing a list of column labels within the square brackets. \n",
    "This produces a DataFrame rather than series.\n",
    "\n",
    "For example, the code produces the `DataFrame`"
   ]
  },
  {
   "cell_type": "code",
   "execution_count": null,
   "metadata": {},
   "outputs": [],
   "source": [
    "wwc[['Winner', 'Loser']] "
   ]
  },
  {
   "cell_type": "markdown",
   "metadata": {},
   "source": [
    "The column labels in the list within the selection square brackets **don’t have to be in the same order** as the labels appear in the **original** DataFrame. This makes it convenient to use selection to `reorganize` the DataFrame.\n",
    "\n",
    "For example, the code returns the DataFrame "
   ]
  },
  {
   "cell_type": "code",
   "execution_count": null,
   "metadata": {},
   "outputs": [],
   "source": [
    "wwc[['Round','Winner','Loser','W Goals','L Goals']] "
   ]
  },
  {
   "cell_type": "markdown",
   "metadata": {},
   "source": [
    "Note that attempting to select a `row` by putting its index inside of square brackets will not work. It will generate a \n",
    "`KeyError` exception.\n",
    "\n",
    "Curiously, however, we can select `rows` using `slicing`. So, while \n",
    "\n",
    "```wwc[1]``` \n",
    "\n",
    "causes an exception, **KeyError: 1**\n",
    "\n",
    "```wwc[1:2]```\n",
    "\n",
    "produces a DataFrame with a single row, \n",
    "\n",
    "We discuss other ways of selecting rows in the next subsection. "
   ]
  },
  {
   "cell_type": "code",
   "execution_count": null,
   "metadata": {},
   "outputs": [],
   "source": [
    "wwc[1:2] "
   ]
  },
  {
   "cell_type": "markdown",
   "metadata": {},
   "source": [
    "### 1 Selection Using `loc` and `iloc `\n",
    "\n",
    "#### 1.1 loc\n",
    "\n",
    "\n",
    "The `loc`method can be used to select `rows, columns, or combinations of rows and columns` from a DataFrame.\n",
    "\n",
    "Importantly, all selection is done using **labels**. \n",
    "\n",
    "This is worth emphasizing, since some of the labels (e.g., the indices) can look suspiciously like numbers. \n"
   ]
  },
  {
   "cell_type": "markdown",
   "metadata": {},
   "source": [
    "If `df` is a DataFrame, the expression \n",
    "```\n",
    "df.loc[label] \n",
    "```\n",
    "returns a **series** corresponding to the row associated with `label` in `df`\n",
    "\n",
    "\n",
    "For example, the code returns the Series "
   ]
  },
  {
   "cell_type": "code",
   "execution_count": null,
   "metadata": {},
   "outputs": [],
   "source": [
    "wwc.loc[3] "
   ]
  },
  {
   "cell_type": "markdown",
   "metadata": {},
   "source": [
    "Notice that the column `labels` of wwc are the `index` labels for the Series, and the values associated with those labels are the values for the corresponding columns in the `row` **labeled**  `3` in `wwc`. "
   ]
  },
  {
   "cell_type": "markdown",
   "metadata": {},
   "source": [
    "### 2 Selection by Group\n",
    "\n",
    "It is often convenient to split a DataFrame into subsets and apply some aggregation or transformation separately to each subset. The\n",
    "groupby method makes it easy to do this sort of thing.\n",
    "\n",
    "Suppose, for example, we want to know the total number of goals scored by the winning and losing teams in each round. \n",
    "\n",
    "binds `group_by_round` to an object of type `DataFrameGroupBy`.\n",
    "\n",
    "We can then apply the aggregator sum to that object to generate a DataFrame."
   ]
  },
  {
   "cell_type": "code",
   "execution_count": null,
   "metadata": {},
   "outputs": [],
   "source": [
    "grouped_by_round = wwc.groupby('Round')\n",
    "grouped_by_round.sum()"
   ]
  },
  {
   "cell_type": "markdown",
   "metadata": {},
   "source": [
    "The code `wwc.groupby('Winner').mean()`"
   ]
  },
  {
   "cell_type": "code",
   "execution_count": null,
   "metadata": {},
   "outputs": [],
   "source": [
    "wwc.groupby('Winner').mean()"
   ]
  },
  {
   "cell_type": "markdown",
   "metadata": {},
   "source": [
    "From this we can easily see that `England averaged three goals` in the games it won, while shutting out its opponents."
   ]
  },
  {
   "cell_type": "markdown",
   "metadata": {},
   "source": [
    "The code ```wwc.groupby(['Loser', 'Round']).mean()```"
   ]
  },
  {
   "cell_type": "code",
   "execution_count": null,
   "metadata": {},
   "outputs": [],
   "source": [
    "wwc.groupby(['Loser', 'Round']).mean()"
   ]
  },
  {
   "cell_type": "markdown",
   "metadata": {},
   "source": [
    "From this we can easily see that `England averaged one goal in the games it lost, while giving up two`.\n"
   ]
  },
  {
   "cell_type": "markdown",
   "metadata": {},
   "source": [
    "### 3 Selection by Content\n",
    "\n",
    "Suppose we want to select all of the **rows** for games **won** by **Sweden** from the DataFrame in Figure 23-1. \n",
    "\n",
    "Since this DataFrame is a **small** one, we could look at each row and find the **indices of the rows** corresponding to those games.\n",
    "\n",
    "Of course, that approach `doesn't` scale to **large** DataFrames. \n",
    "\n",
    "Fortunately, it is easy to select rows based on their **contents** using something called **Boolean indexing**"
   ]
  },
  {
   "cell_type": "markdown",
   "metadata": {},
   "source": [
    "The basic idea is to write a **logical expression** referring to the values contained in the DataFrame.\n",
    "\n",
    "That expression is then evaluated on each row of the DataFrame, and the rows for which it evaluates to `True` are selected.\n",
    "\n",
    "The expression `wwc.loc[wwc['Winner']=='Sweden']` evaluates to the DataFram"
   ]
  },
  {
   "cell_type": "code",
   "execution_count": null,
   "metadata": {},
   "outputs": [],
   "source": [
    "wwc.loc[wwc['Winner']=='Sweden']"
   ]
  },
  {
   "cell_type": "markdown",
   "metadata": {},
   "source": [
    "Retrieving **all** of the games involving Sweden is only a little more complicated. \n",
    "\n",
    "The logical operators `&` (corresponding to and),`|` (corresponding to or), and `–` (corresponding to not) can be used to\n",
    "form expressions. \n",
    "\n",
    "The expression `wwc.loc[(wwc['Winner']=='Sweden') | (wwc['Loser'] =='Sweden')]` returns"
   ]
  },
  {
   "cell_type": "code",
   "execution_count": null,
   "metadata": {},
   "outputs": [],
   "source": [
    "wwc.loc[(wwc['Winner']=='Sweden') | (wwc['Loser'] =='Sweden')]"
   ]
  },
  {
   "cell_type": "markdown",
   "metadata": {},
   "source": [
    "If we expect to do many queries selecting games in which a country participated, it might be convenient to define the function"
   ]
  },
  {
   "cell_type": "code",
   "execution_count": null,
   "metadata": {},
   "outputs": [],
   "source": [
    "def get_country(df, country):\n",
    "    \"\"\"df a DataFrame with series labeled Winner and Loser\n",
    "            country a str\n",
    "        returns a DataFrame with all rows in which country\n",
    "          appears in\n",
    "           either the Winner or Loser column\"\"\"\n",
    "    return df.loc[(df['Winner'] == country) | (df['Loser']== country)]"
   ]
  },
  {
   "cell_type": "markdown",
   "metadata": {},
   "source": [
    "Since `get_country` returns a DataFrame, it is easy to extract the games between **pairs of teams** by composing two calls of `get_country`.\n",
    "\n",
    "For example, evaluating `get_country(get_country(wwc,‘Sweden'),'Germany')` extracts the one game (teams play each other at most once during a knockout round) between these two teams."
   ]
  },
  {
   "cell_type": "code",
   "execution_count": null,
   "metadata": {},
   "outputs": [],
   "source": [
    "get_country(get_country(wwc,'Sweden'),'Germany')"
   ]
  },
  {
   "cell_type": "markdown",
   "metadata": {},
   "source": [
    "Suppose we want to generalize `get_country` so that it accepts a `list` of countries as an argument and returns `all games` in which any of\n",
    "the countries in the list played. \n",
    "\n",
    "We can do this using the `isin` method:\n"
   ]
  },
  {
   "cell_type": "code",
   "execution_count": null,
   "metadata": {},
   "outputs": [],
   "source": [
    "def get_games(df, countries):\n",
    "    return df[(df['Winner'].isin(countries)) | (df['Loser'].isin(countries))] "
   ]
  },
  {
   "cell_type": "markdown",
   "metadata": {},
   "source": [
    "The `isin` method filters a DataFrame by selecting only those rows with a specified value (or element of a specified collection of values)\n",
    "in a specified column. \n",
    "\n",
    "The expression \n",
    "```python\n",
    "df['Winner'].isin(countries)\n",
    "```\n",
    "in the implementation of `get_games` selects those rows in `df` in which the column Winner contains an element in the list countries"
   ]
  },
  {
   "cell_type": "code",
   "execution_count": null,
   "metadata": {},
   "outputs": [],
   "source": [
    "get_games(wwc,['Sweden','Germany'])"
   ]
  },
  {
   "cell_type": "markdown",
   "metadata": {},
   "source": [
    "## 4 Manipulating the Data in a DataFrame\n",
    "\n",
    "We've now looked at some simple ways to create and select parts of DataFrames. One of the things that makes DataFrames worth\n",
    "creating is the ease of extracting aggregate information from them.\n",
    "\n",
    "Let's start by looking at some ways we might extract aggregate information from the DataFrame wwc, pictured in Figure 23-1.\n",
    "\n",
    "The columns of a DataFrame can be operated on in ways that are analogous to the ways we operate on numpy arrays.\n",
    "\n",
    "For example,analogous to the way the expression `2*np.array([1,2,3])` evaluates to the array `[2 4 6]`, \n"
   ]
  },
  {
   "cell_type": "code",
   "execution_count": null,
   "metadata": {},
   "outputs": [],
   "source": [
    "import numpy as np\n",
    "2*np.array([1,2,3])"
   ]
  },
  {
   "cell_type": "markdown",
   "metadata": {},
   "source": [
    "the expression `2*wwc['W Goals']` evaluates to the series"
   ]
  },
  {
   "cell_type": "code",
   "execution_count": null,
   "metadata": {},
   "outputs": [],
   "source": [
    "2*wwc['W Goals']"
   ]
  },
  {
   "cell_type": "markdown",
   "metadata": {},
   "source": [
    "## 5 An Extended Example\n",
    "\n",
    "In this section we will look at two datasets, \n",
    "\n",
    "* one containing historical temperature data for 21 U.S. cities(20,088 dates) and \n",
    "\n",
    "* the other historical data about the global use of fossil fuels.\n",
    "\n",
    "### 5.1 Temperature Data\n",
    "\n",
    "The first two lines of code set default options that limit the number of rows and columns shown when printing DataFrames.\n",
    "\n",
    "The function `reset_option` can be used to set an option back to the system default value."
   ]
  },
  {
   "cell_type": "code",
   "execution_count": 1,
   "metadata": {},
   "outputs": [
    {
     "data": {
      "text/html": [
       "<div>\n",
       "<style scoped>\n",
       "    .dataframe tbody tr th:only-of-type {\n",
       "        vertical-align: middle;\n",
       "    }\n",
       "\n",
       "    .dataframe tbody tr th {\n",
       "        vertical-align: top;\n",
       "    }\n",
       "\n",
       "    .dataframe thead th {\n",
       "        text-align: right;\n",
       "    }\n",
       "</style>\n",
       "<table border=\"1\" class=\"dataframe\">\n",
       "  <thead>\n",
       "    <tr style=\"text-align: right;\">\n",
       "      <th></th>\n",
       "      <th>Date</th>\n",
       "      <th>Albuquerque</th>\n",
       "      <th>Baltimore</th>\n",
       "      <th>Boston</th>\n",
       "      <th>Charlotte</th>\n",
       "      <th>...</th>\n",
       "      <th>San Francisco</th>\n",
       "      <th>San Juan</th>\n",
       "      <th>Seattle</th>\n",
       "      <th>St Louis</th>\n",
       "      <th>Tampa</th>\n",
       "    </tr>\n",
       "  </thead>\n",
       "  <tbody>\n",
       "    <tr>\n",
       "      <th>0</th>\n",
       "      <td>19610101</td>\n",
       "      <td>-0.55</td>\n",
       "      <td>3.35</td>\n",
       "      <td>1.95</td>\n",
       "      <td>7.25</td>\n",
       "      <td>...</td>\n",
       "      <td>8.05</td>\n",
       "      <td>24.45</td>\n",
       "      <td>3.10</td>\n",
       "      <td>-0.55</td>\n",
       "      <td>15.00</td>\n",
       "    </tr>\n",
       "    <tr>\n",
       "      <th>1</th>\n",
       "      <td>19610102</td>\n",
       "      <td>-2.50</td>\n",
       "      <td>0.00</td>\n",
       "      <td>-0.80</td>\n",
       "      <td>4.45</td>\n",
       "      <td>...</td>\n",
       "      <td>5.85</td>\n",
       "      <td>25.00</td>\n",
       "      <td>0.55</td>\n",
       "      <td>-0.55</td>\n",
       "      <td>13.60</td>\n",
       "    </tr>\n",
       "    <tr>\n",
       "      <th>2</th>\n",
       "      <td>19610103</td>\n",
       "      <td>-2.50</td>\n",
       "      <td>0.85</td>\n",
       "      <td>-3.05</td>\n",
       "      <td>2.20</td>\n",
       "      <td>...</td>\n",
       "      <td>4.70</td>\n",
       "      <td>24.75</td>\n",
       "      <td>0.00</td>\n",
       "      <td>0.30</td>\n",
       "      <td>11.95</td>\n",
       "    </tr>\n",
       "    <tr>\n",
       "      <th>...</th>\n",
       "      <td>...</td>\n",
       "      <td>...</td>\n",
       "      <td>...</td>\n",
       "      <td>...</td>\n",
       "      <td>...</td>\n",
       "      <td>...</td>\n",
       "      <td>...</td>\n",
       "      <td>...</td>\n",
       "      <td>...</td>\n",
       "      <td>...</td>\n",
       "      <td>...</td>\n",
       "    </tr>\n",
       "    <tr>\n",
       "      <th>20085</th>\n",
       "      <td>20151229</td>\n",
       "      <td>-2.15</td>\n",
       "      <td>9.45</td>\n",
       "      <td>0.05</td>\n",
       "      <td>17.20</td>\n",
       "      <td>...</td>\n",
       "      <td>7.20</td>\n",
       "      <td>26.10</td>\n",
       "      <td>3.90</td>\n",
       "      <td>1.40</td>\n",
       "      <td>26.10</td>\n",
       "    </tr>\n",
       "    <tr>\n",
       "      <th>20086</th>\n",
       "      <td>20151230</td>\n",
       "      <td>-2.75</td>\n",
       "      <td>9.70</td>\n",
       "      <td>-0.50</td>\n",
       "      <td>18.05</td>\n",
       "      <td>...</td>\n",
       "      <td>6.90</td>\n",
       "      <td>25.80</td>\n",
       "      <td>2.30</td>\n",
       "      <td>0.60</td>\n",
       "      <td>25.55</td>\n",
       "    </tr>\n",
       "    <tr>\n",
       "      <th>20087</th>\n",
       "      <td>20151231</td>\n",
       "      <td>-0.75</td>\n",
       "      <td>9.75</td>\n",
       "      <td>4.45</td>\n",
       "      <td>15.30</td>\n",
       "      <td>...</td>\n",
       "      <td>7.25</td>\n",
       "      <td>25.55</td>\n",
       "      <td>1.75</td>\n",
       "      <td>-0.25</td>\n",
       "      <td>25.55</td>\n",
       "    </tr>\n",
       "  </tbody>\n",
       "</table>\n",
       "<p>20088 rows × 22 columns</p>\n",
       "</div>"
      ],
      "text/plain": [
       "           Date  Albuquerque  Baltimore  Boston  Charlotte  ...  \\\n",
       "0      19610101        -0.55       3.35    1.95       7.25  ...   \n",
       "1      19610102        -2.50       0.00   -0.80       4.45  ...   \n",
       "2      19610103        -2.50       0.85   -3.05       2.20  ...   \n",
       "...         ...          ...        ...     ...        ...  ...   \n",
       "20085  20151229        -2.15       9.45    0.05      17.20  ...   \n",
       "20086  20151230        -2.75       9.70   -0.50      18.05  ...   \n",
       "20087  20151231        -0.75       9.75    4.45      15.30  ...   \n",
       "\n",
       "       San Francisco  San Juan  Seattle  St Louis  Tampa  \n",
       "0               8.05     24.45     3.10     -0.55  15.00  \n",
       "1               5.85     25.00     0.55     -0.55  13.60  \n",
       "2               4.70     24.75     0.00      0.30  11.95  \n",
       "...              ...       ...      ...       ...    ...  \n",
       "20085           7.20     26.10     3.90      1.40  26.10  \n",
       "20086           6.90     25.80     2.30      0.60  25.55  \n",
       "20087           7.25     25.55     1.75     -0.25  25.55  \n",
       "\n",
       "[20088 rows x 22 columns]"
      ]
     },
     "execution_count": 1,
     "metadata": {},
     "output_type": "execute_result"
    }
   ],
   "source": [
    "import pandas as pd\n",
    "pd.set_option('display.max_rows', 6)\n",
    "pd.set_option('display.max_columns',10)\n",
    "temperatures = pd.read_csv('./data/US_temperatures.csv')\n",
    "temperatures"
   ]
  },
  {
   "cell_type": "markdown",
   "metadata": {},
   "source": [
    "This DataFrame is organized in a way that makes it easy to see what the weather was like in different cities on specific **dates**.\n",
    "\n",
    "For example, the query\n"
   ]
  },
  {
   "cell_type": "code",
   "execution_count": 2,
   "metadata": {},
   "outputs": [
    {
     "data": {
      "text/html": [
       "<div>\n",
       "<style scoped>\n",
       "    .dataframe tbody tr th:only-of-type {\n",
       "        vertical-align: middle;\n",
       "    }\n",
       "\n",
       "    .dataframe tbody tr th {\n",
       "        vertical-align: top;\n",
       "    }\n",
       "\n",
       "    .dataframe thead th {\n",
       "        text-align: right;\n",
       "    }\n",
       "</style>\n",
       "<table border=\"1\" class=\"dataframe\">\n",
       "  <thead>\n",
       "    <tr style=\"text-align: right;\">\n",
       "      <th></th>\n",
       "      <th>New York</th>\n",
       "      <th>Tampa</th>\n",
       "    </tr>\n",
       "  </thead>\n",
       "  <tbody>\n",
       "    <tr>\n",
       "      <th>6797</th>\n",
       "      <td>15.0</td>\n",
       "      <td>25.55</td>\n",
       "    </tr>\n",
       "  </tbody>\n",
       "</table>\n",
       "</div>"
      ],
      "text/plain": [
       "      New York  Tampa\n",
       "6797      15.0  25.55"
      ]
     },
     "execution_count": 2,
     "metadata": {},
     "output_type": "execute_result"
    }
   ],
   "source": [
    "temperatures.loc[temperatures['Date']==19790812][['New York','Tampa']]"
   ]
  },
  {
   "cell_type": "markdown",
   "metadata": {},
   "source": [
    "tells us that on August 12, 1979, the temperature in New York was $15C$ and in Tampa $25.55C$.\n",
    "\n",
    "Unfortunately, looking at data from 21 cities for 20,088 dates doesn't give us much direct insight into larger questions related to\n",
    "temperature trends. \n",
    "\n",
    "Let's start by adding columns that provide **summary** information about the temperatures each day. \n",
    "\n",
    "The code\n"
   ]
  },
  {
   "cell_type": "code",
   "execution_count": 3,
   "metadata": {},
   "outputs": [
    {
     "data": {
      "text/html": [
       "<div>\n",
       "<style scoped>\n",
       "    .dataframe tbody tr th:only-of-type {\n",
       "        vertical-align: middle;\n",
       "    }\n",
       "\n",
       "    .dataframe tbody tr th {\n",
       "        vertical-align: top;\n",
       "    }\n",
       "\n",
       "    .dataframe thead th {\n",
       "        text-align: right;\n",
       "    }\n",
       "</style>\n",
       "<table border=\"1\" class=\"dataframe\">\n",
       "  <thead>\n",
       "    <tr style=\"text-align: right;\">\n",
       "      <th></th>\n",
       "      <th>Date</th>\n",
       "      <th>Albuquerque</th>\n",
       "      <th>Baltimore</th>\n",
       "      <th>Boston</th>\n",
       "      <th>Charlotte</th>\n",
       "      <th>...</th>\n",
       "      <th>St Louis</th>\n",
       "      <th>Tampa</th>\n",
       "      <th>Max T</th>\n",
       "      <th>Min T</th>\n",
       "      <th>Mean T</th>\n",
       "    </tr>\n",
       "  </thead>\n",
       "  <tbody>\n",
       "  </tbody>\n",
       "</table>\n",
       "<p>0 rows × 25 columns</p>\n",
       "</div>"
      ],
      "text/plain": [
       "Empty DataFrame\n",
       "Columns: [Date, Albuquerque, Baltimore, Boston, Charlotte, Chicago, Dallas, Detroit, Las Vegas, Los Angeles, Miami, New Orleans, New York, Philadelphia, Phoenix, Portland, San Diego, San Francisco, San Juan, Seattle, St Louis, Tampa, Max T, Min T, Mean T]\n",
       "Index: []\n",
       "\n",
       "[0 rows x 25 columns]"
      ]
     },
     "execution_count": 3,
     "metadata": {},
     "output_type": "execute_result"
    }
   ],
   "source": [
    "temperatures['Max T'] = temperatures.max(axis = 'columns')\n",
    "temperatures['Min T'] = temperatures.min(axis = 'columns')\n",
    "temperatures['Mean T'] = round(temperatures.mean(axis ='columns'), 2)\n",
    "df_20000704=temperatures.loc[20000704:20000704]\n",
    "df_20000704"
   ]
  },
  {
   "cell_type": "markdown",
   "metadata": {},
   "source": [
    "Was the mean temperature(`Mean T`) of those 21 cities on July 4, 2000,really much **higher** than the temperature on the surface of the sun?\n",
    "\n",
    "It seems more likely that there is a **bug** in our code.\n",
    "\n",
    "The problem is that our DataFrame encodes **dates** as **numbers**, and these `numbers` are used to `compute the mean of each row`.\n",
    "\n"
   ]
  },
  {
   "cell_type": "markdown",
   "metadata": {},
   "source": [
    "As many data sets do contain **datetime** information in one of the **columns**, pandas input function like `pandas.read_csv()` and `pandas.read_json()` can do the transformation to dates when reading the data using the `parse_dates` parameter with a list of the `columns` to read as `Timestamp`:"
   ]
  },
  {
   "cell_type": "code",
   "execution_count": 4,
   "metadata": {},
   "outputs": [],
   "source": [
    "temperatures = pd.read_csv('./data/US_temperatures.csv',parse_dates=[\"Date\"])"
   ]
  },
  {
   "cell_type": "markdown",
   "metadata": {},
   "source": [
    "What is the start and end date of the time series data set we are working with?"
   ]
  },
  {
   "cell_type": "code",
   "execution_count": 5,
   "metadata": {},
   "outputs": [
    {
     "data": {
      "text/plain": [
       "(Timestamp('1961-01-01 00:00:00'), Timestamp('2015-12-31 00:00:00'))"
      ]
     },
     "execution_count": 5,
     "metadata": {},
     "output_type": "execute_result"
    }
   ],
   "source": [
    "temperatures[\"Date\"].min(), temperatures[\"Date\"].max()"
   ]
  },
  {
   "cell_type": "markdown",
   "metadata": {},
   "source": [
    "Using `pandas.Timestamp` for datetimes enables us to calculate with date information and make them comparable. Hence, we can use this to get the length of our time series:\n",
    "\n"
   ]
  },
  {
   "cell_type": "code",
   "execution_count": 6,
   "metadata": {},
   "outputs": [
    {
     "data": {
      "text/plain": [
       "Timedelta('20087 days 00:00:00')"
      ]
     },
     "execution_count": 6,
     "metadata": {},
     "output_type": "execute_result"
    }
   ],
   "source": [
    "temperatures[\"Date\"].max() - temperatures[\"Date\"].min()"
   ]
  },
  {
   "cell_type": "markdown",
   "metadata": {},
   "source": [
    "Conceptually, it might make more sense to think of the **date** as an **index** for a series of temperatures. So, let's change the DataFrame to make the dates indices. "
   ]
  },
  {
   "cell_type": "code",
   "execution_count": 7,
   "metadata": {},
   "outputs": [
    {
     "data": {
      "text/html": [
       "<div>\n",
       "<style scoped>\n",
       "    .dataframe tbody tr th:only-of-type {\n",
       "        vertical-align: middle;\n",
       "    }\n",
       "\n",
       "    .dataframe tbody tr th {\n",
       "        vertical-align: top;\n",
       "    }\n",
       "\n",
       "    .dataframe thead th {\n",
       "        text-align: right;\n",
       "    }\n",
       "</style>\n",
       "<table border=\"1\" class=\"dataframe\">\n",
       "  <thead>\n",
       "    <tr style=\"text-align: right;\">\n",
       "      <th></th>\n",
       "      <th>Albuquerque</th>\n",
       "      <th>Baltimore</th>\n",
       "      <th>Boston</th>\n",
       "      <th>Charlotte</th>\n",
       "      <th>Chicago</th>\n",
       "      <th>...</th>\n",
       "      <th>San Francisco</th>\n",
       "      <th>San Juan</th>\n",
       "      <th>Seattle</th>\n",
       "      <th>St Louis</th>\n",
       "      <th>Tampa</th>\n",
       "    </tr>\n",
       "    <tr>\n",
       "      <th>Date</th>\n",
       "      <th></th>\n",
       "      <th></th>\n",
       "      <th></th>\n",
       "      <th></th>\n",
       "      <th></th>\n",
       "      <th></th>\n",
       "      <th></th>\n",
       "      <th></th>\n",
       "      <th></th>\n",
       "      <th></th>\n",
       "      <th></th>\n",
       "    </tr>\n",
       "  </thead>\n",
       "  <tbody>\n",
       "    <tr>\n",
       "      <th>1961-01-01</th>\n",
       "      <td>-0.55</td>\n",
       "      <td>3.35</td>\n",
       "      <td>1.95</td>\n",
       "      <td>7.25</td>\n",
       "      <td>-4.75</td>\n",
       "      <td>...</td>\n",
       "      <td>8.05</td>\n",
       "      <td>24.45</td>\n",
       "      <td>3.10</td>\n",
       "      <td>-0.55</td>\n",
       "      <td>15.00</td>\n",
       "    </tr>\n",
       "    <tr>\n",
       "      <th>1961-01-02</th>\n",
       "      <td>-2.50</td>\n",
       "      <td>0.00</td>\n",
       "      <td>-0.80</td>\n",
       "      <td>4.45</td>\n",
       "      <td>-2.50</td>\n",
       "      <td>...</td>\n",
       "      <td>5.85</td>\n",
       "      <td>25.00</td>\n",
       "      <td>0.55</td>\n",
       "      <td>-0.55</td>\n",
       "      <td>13.60</td>\n",
       "    </tr>\n",
       "    <tr>\n",
       "      <th>1961-01-03</th>\n",
       "      <td>-2.50</td>\n",
       "      <td>0.85</td>\n",
       "      <td>-3.05</td>\n",
       "      <td>2.20</td>\n",
       "      <td>-10.80</td>\n",
       "      <td>...</td>\n",
       "      <td>4.70</td>\n",
       "      <td>24.75</td>\n",
       "      <td>0.00</td>\n",
       "      <td>0.30</td>\n",
       "      <td>11.95</td>\n",
       "    </tr>\n",
       "    <tr>\n",
       "      <th>...</th>\n",
       "      <td>...</td>\n",
       "      <td>...</td>\n",
       "      <td>...</td>\n",
       "      <td>...</td>\n",
       "      <td>...</td>\n",
       "      <td>...</td>\n",
       "      <td>...</td>\n",
       "      <td>...</td>\n",
       "      <td>...</td>\n",
       "      <td>...</td>\n",
       "      <td>...</td>\n",
       "    </tr>\n",
       "    <tr>\n",
       "      <th>2015-12-29</th>\n",
       "      <td>-2.15</td>\n",
       "      <td>9.45</td>\n",
       "      <td>0.05</td>\n",
       "      <td>17.20</td>\n",
       "      <td>1.15</td>\n",
       "      <td>...</td>\n",
       "      <td>7.20</td>\n",
       "      <td>26.10</td>\n",
       "      <td>3.90</td>\n",
       "      <td>1.40</td>\n",
       "      <td>26.10</td>\n",
       "    </tr>\n",
       "    <tr>\n",
       "      <th>2015-12-30</th>\n",
       "      <td>-2.75</td>\n",
       "      <td>9.70</td>\n",
       "      <td>-0.50</td>\n",
       "      <td>18.05</td>\n",
       "      <td>-2.15</td>\n",
       "      <td>...</td>\n",
       "      <td>6.90</td>\n",
       "      <td>25.80</td>\n",
       "      <td>2.30</td>\n",
       "      <td>0.60</td>\n",
       "      <td>25.55</td>\n",
       "    </tr>\n",
       "    <tr>\n",
       "      <th>2015-12-31</th>\n",
       "      <td>-0.75</td>\n",
       "      <td>9.75</td>\n",
       "      <td>4.45</td>\n",
       "      <td>15.30</td>\n",
       "      <td>-3.80</td>\n",
       "      <td>...</td>\n",
       "      <td>7.25</td>\n",
       "      <td>25.55</td>\n",
       "      <td>1.75</td>\n",
       "      <td>-0.25</td>\n",
       "      <td>25.55</td>\n",
       "    </tr>\n",
       "  </tbody>\n",
       "</table>\n",
       "<p>20088 rows × 21 columns</p>\n",
       "</div>"
      ],
      "text/plain": [
       "            Albuquerque  Baltimore  Boston  Charlotte  Chicago  ...  \\\n",
       "Date                                                            ...   \n",
       "1961-01-01        -0.55       3.35    1.95       7.25    -4.75  ...   \n",
       "1961-01-02        -2.50       0.00   -0.80       4.45    -2.50  ...   \n",
       "1961-01-03        -2.50       0.85   -3.05       2.20   -10.80  ...   \n",
       "...                 ...        ...     ...        ...      ...  ...   \n",
       "2015-12-29        -2.15       9.45    0.05      17.20     1.15  ...   \n",
       "2015-12-30        -2.75       9.70   -0.50      18.05    -2.15  ...   \n",
       "2015-12-31        -0.75       9.75    4.45      15.30    -3.80  ...   \n",
       "\n",
       "            San Francisco  San Juan  Seattle  St Louis  Tampa  \n",
       "Date                                                           \n",
       "1961-01-01           8.05     24.45     3.10     -0.55  15.00  \n",
       "1961-01-02           5.85     25.00     0.55     -0.55  13.60  \n",
       "1961-01-03           4.70     24.75     0.00      0.30  11.95  \n",
       "...                   ...       ...      ...       ...    ...  \n",
       "2015-12-29           7.20     26.10     3.90      1.40  26.10  \n",
       "2015-12-30           6.90     25.80     2.30      0.60  25.55  \n",
       "2015-12-31           7.25     25.55     1.75     -0.25  25.55  \n",
       "\n",
       "[20088 rows x 21 columns]"
      ]
     },
     "execution_count": 7,
     "metadata": {},
     "output_type": "execute_result"
    }
   ],
   "source": [
    "temperatures.set_index('Date', drop = True, inplace = True)\n",
    "temperatures"
   ]
  },
  {
   "cell_type": "code",
   "execution_count": 8,
   "metadata": {},
   "outputs": [
    {
     "data": {
      "text/html": [
       "<div>\n",
       "<style scoped>\n",
       "    .dataframe tbody tr th:only-of-type {\n",
       "        vertical-align: middle;\n",
       "    }\n",
       "\n",
       "    .dataframe tbody tr th {\n",
       "        vertical-align: top;\n",
       "    }\n",
       "\n",
       "    .dataframe thead th {\n",
       "        text-align: right;\n",
       "    }\n",
       "</style>\n",
       "<table border=\"1\" class=\"dataframe\">\n",
       "  <thead>\n",
       "    <tr style=\"text-align: right;\">\n",
       "      <th></th>\n",
       "      <th>Albuquerque</th>\n",
       "      <th>Baltimore</th>\n",
       "      <th>Boston</th>\n",
       "      <th>Charlotte</th>\n",
       "      <th>Chicago</th>\n",
       "      <th>...</th>\n",
       "      <th>St Louis</th>\n",
       "      <th>Tampa</th>\n",
       "      <th>Max</th>\n",
       "      <th>Min</th>\n",
       "      <th>Mean T</th>\n",
       "    </tr>\n",
       "    <tr>\n",
       "      <th>Date</th>\n",
       "      <th></th>\n",
       "      <th></th>\n",
       "      <th></th>\n",
       "      <th></th>\n",
       "      <th></th>\n",
       "      <th></th>\n",
       "      <th></th>\n",
       "      <th></th>\n",
       "      <th></th>\n",
       "      <th></th>\n",
       "      <th></th>\n",
       "    </tr>\n",
       "  </thead>\n",
       "  <tbody>\n",
       "    <tr>\n",
       "      <th>2007-07-04</th>\n",
       "      <td>26.35</td>\n",
       "      <td>23.05</td>\n",
       "      <td>21.95</td>\n",
       "      <td>23.35</td>\n",
       "      <td>24.7</td>\n",
       "      <td>...</td>\n",
       "      <td>27.8</td>\n",
       "      <td>27.25</td>\n",
       "      <td>37.5</td>\n",
       "      <td>19.7</td>\n",
       "      <td>25.53</td>\n",
       "    </tr>\n",
       "  </tbody>\n",
       "</table>\n",
       "<p>1 rows × 24 columns</p>\n",
       "</div>"
      ],
      "text/plain": [
       "            Albuquerque  Baltimore  Boston  Charlotte  Chicago  ...  St Louis  \\\n",
       "Date                                                            ...             \n",
       "2007-07-04        26.35      23.05   21.95      23.35     24.7  ...      27.8   \n",
       "\n",
       "            Tampa   Max   Min  Mean T  \n",
       "Date                                   \n",
       "2007-07-04  27.25  37.5  19.7   25.53  \n",
       "\n",
       "[1 rows x 24 columns]"
      ]
     },
     "execution_count": 8,
     "metadata": {},
     "output_type": "execute_result"
    }
   ],
   "source": [
    "temperatures['Max'] = temperatures.max(axis = 'columns')\n",
    "temperatures['Min'] = temperatures.min(axis = 'columns')\n",
    "temperatures['Mean T'] = round(temperatures.mean(axis = 'columns'), 2)\n",
    "temperatures.loc[\"2007-07-04\":\"2007-07-04\"]"
   ]
  },
  {
   "cell_type": "markdown",
   "metadata": {},
   "source": [
    "Why did we use **slicing** to select a `single` row?  Because we wanted to create a `DataFrame` rather than a series.\n",
    "\n"
   ]
  },
  {
   "cell_type": "markdown",
   "metadata": {},
   "source": [
    "We are now in a position to start producing some <font color=\"blue\">plots</font> showing various trends. \n",
    "\n",
    "For example,the followe code produces a plot that shows the seasonality of temperatures in the United States. \n"
   ]
  },
  {
   "cell_type": "code",
   "execution_count": 9,
   "metadata": {},
   "outputs": [
    {
     "data": {
      "text/plain": [
       "<AxesSubplot:xlabel='Days Since 1/1/1961', ylabel=\"'Degrees C\">"
      ]
     },
     "execution_count": 9,
     "metadata": {},
     "output_type": "execute_result"
    },
    {
     "data": {
      "image/png": "[encoded data removed]",
      "text/plain": [
       "<Figure size 432x288 with 1 Axes>"
      ]
     },
     "metadata": {
      "needs_background": "light"
     },
     "output_type": "display_data"
    }
   ],
   "source": [
    "temperatures['Mean T'].plot(xlabel=\"Days Since 1/1/1961\", ylabel=\"'Degrees C\")"
   ]
  },
  {
   "cell_type": "markdown",
   "metadata": {},
   "source": [
    "We can see the seasonal pattern more clearly, by **zooming** in on a few years and producing a plot using the call"
   ]
  },
  {
   "cell_type": "code",
   "execution_count": 10,
   "metadata": {},
   "outputs": [
    {
     "data": {
      "text/plain": [
       "<AxesSubplot:xlabel='Days Since 1/1/1961', ylabel=\"'Degrees C\">"
      ]
     },
     "execution_count": 10,
     "metadata": {},
     "output_type": "execute_result"
    },
    {
     "data": {
      "image/png": "[encoded data removed]",
      "text/plain": [
       "<Figure size 432x288 with 1 Axes>"
      ]
     },
     "metadata": {
      "needs_background": "light"
     },
     "output_type": "display_data"
    }
   ],
   "source": [
    "temperatures['Mean T'].loc[\"1961-01-10\":\"1962-12-31\":].plot(xlabel=\"Days Since 1/1/1961\", ylabel=\"'Degrees C\")"
   ]
  },
  {
   "cell_type": "markdown",
   "metadata": {},
   "source": [
    "We want to further customize, extend or save the resulting plot."
   ]
  },
  {
   "cell_type": "markdown",
   "metadata": {},
   "source": [
    "**zooming** in on a few years and producing a plot using the call"
   ]
  },
  {
   "cell_type": "code",
   "execution_count": 11,
   "metadata": {},
   "outputs": [
    {
     "data": {
      "text/plain": [
       "Text(0, 0.5, 'Degrees C')"
      ]
     },
     "execution_count": 11,
     "metadata": {},
     "output_type": "execute_result"
    },
    {
     "data": {
      "image/png": "[encoded data removed]",
      "text/plain": [
       "<Figure size 864x288 with 1 Axes>"
      ]
     },
     "metadata": {
      "needs_background": "light"
     },
     "output_type": "display_data"
    }
   ],
   "source": [
    "import matplotlib.pyplot as plt\n",
    "fig=plt.figure(figsize=(12, 4))\n",
    "ax=temperatures['Mean T'].head(3*365).plot()\n",
    "ax.set_title('Mean Temp Across 21 US Cities')\n",
    "ax.set_xlabel('Days Since 1/1/1961')\n",
    "ax.set_ylabel('Degrees C')"
   ]
  },
  {
   "cell_type": "markdown",
   "metadata": {},
   "source": [
    "Over the last decades, a consensus that the Earth is warming has emerged. \n",
    "\n",
    "Let's see whether this data is consistent with that consensus. Since we are investigating a hypothesis about a long-term\n",
    "trend, we should probably not be looking at daily or seasonalvariations in temperature. "
   ]
  },
  {
   "cell_type": "markdown",
   "metadata": {},
   "source": [
    "#### statistics grouped by category\n",
    "\n",
    "#####    summary data for each year\n",
    "\n",
    "Instead, let's look at **annual** data.\n",
    "\n",
    "As a first step, let's use the data in temperatures to build a new DataFrame in which the `rows` represent **years** rather than **days**. \n"
   ]
  },
  {
   "cell_type": "markdown",
   "metadata": {},
   "source": [
    "I want to add a new column to the DataFrame containing only the `year` of the measurement to build the DataFrame `yearly_temps`:\n",
    "\n",
    "```\n",
    "\t    Mean T\tMax T\tMin T\n",
    "Year\t\n",
    "1961\t15.737151\t38.05\t-17.25\n",
    "1962\t15.459205\t36.95\t-21.65\n",
    "1963\t15.570356\t36.10\t-24.70\n",
    "```"
   ]
  },
  {
   "cell_type": "code",
   "execution_count": 12,
   "metadata": {},
   "outputs": [],
   "source": [
    "temperatures[\"Year\"]=temperatures.index.year"
   ]
  },
  {
   "cell_type": "code",
   "execution_count": 13,
   "metadata": {},
   "outputs": [
    {
     "data": {
      "text/html": [
       "<div>\n",
       "<style scoped>\n",
       "    .dataframe tbody tr th:only-of-type {\n",
       "        vertical-align: middle;\n",
       "    }\n",
       "\n",
       "    .dataframe tbody tr th {\n",
       "        vertical-align: top;\n",
       "    }\n",
       "\n",
       "    .dataframe thead th {\n",
       "        text-align: right;\n",
       "    }\n",
       "</style>\n",
       "<table border=\"1\" class=\"dataframe\">\n",
       "  <thead>\n",
       "    <tr style=\"text-align: right;\">\n",
       "      <th></th>\n",
       "      <th>Albuquerque</th>\n",
       "      <th>Baltimore</th>\n",
       "      <th>Boston</th>\n",
       "      <th>Charlotte</th>\n",
       "      <th>Chicago</th>\n",
       "      <th>...</th>\n",
       "      <th>Tampa</th>\n",
       "      <th>Max</th>\n",
       "      <th>Min</th>\n",
       "      <th>Mean T</th>\n",
       "      <th>Year</th>\n",
       "    </tr>\n",
       "    <tr>\n",
       "      <th>Date</th>\n",
       "      <th></th>\n",
       "      <th></th>\n",
       "      <th></th>\n",
       "      <th></th>\n",
       "      <th></th>\n",
       "      <th></th>\n",
       "      <th></th>\n",
       "      <th></th>\n",
       "      <th></th>\n",
       "      <th></th>\n",
       "      <th></th>\n",
       "    </tr>\n",
       "  </thead>\n",
       "  <tbody>\n",
       "    <tr>\n",
       "      <th>1961-01-01</th>\n",
       "      <td>-0.55</td>\n",
       "      <td>3.35</td>\n",
       "      <td>1.95</td>\n",
       "      <td>7.25</td>\n",
       "      <td>-4.75</td>\n",
       "      <td>...</td>\n",
       "      <td>15.00</td>\n",
       "      <td>24.45</td>\n",
       "      <td>-4.75</td>\n",
       "      <td>6.86</td>\n",
       "      <td>1961</td>\n",
       "    </tr>\n",
       "    <tr>\n",
       "      <th>1961-01-02</th>\n",
       "      <td>-2.50</td>\n",
       "      <td>0.00</td>\n",
       "      <td>-0.80</td>\n",
       "      <td>4.45</td>\n",
       "      <td>-2.50</td>\n",
       "      <td>...</td>\n",
       "      <td>13.60</td>\n",
       "      <td>25.00</td>\n",
       "      <td>-5.00</td>\n",
       "      <td>5.29</td>\n",
       "      <td>1961</td>\n",
       "    </tr>\n",
       "    <tr>\n",
       "      <th>1961-01-03</th>\n",
       "      <td>-2.50</td>\n",
       "      <td>0.85</td>\n",
       "      <td>-3.05</td>\n",
       "      <td>2.20</td>\n",
       "      <td>-10.80</td>\n",
       "      <td>...</td>\n",
       "      <td>11.95</td>\n",
       "      <td>24.75</td>\n",
       "      <td>-10.80</td>\n",
       "      <td>4.50</td>\n",
       "      <td>1961</td>\n",
       "    </tr>\n",
       "    <tr>\n",
       "      <th>...</th>\n",
       "      <td>...</td>\n",
       "      <td>...</td>\n",
       "      <td>...</td>\n",
       "      <td>...</td>\n",
       "      <td>...</td>\n",
       "      <td>...</td>\n",
       "      <td>...</td>\n",
       "      <td>...</td>\n",
       "      <td>...</td>\n",
       "      <td>...</td>\n",
       "      <td>...</td>\n",
       "    </tr>\n",
       "    <tr>\n",
       "      <th>2015-01-03</th>\n",
       "      <td>-1.90</td>\n",
       "      <td>0.35</td>\n",
       "      <td>-1.35</td>\n",
       "      <td>9.70</td>\n",
       "      <td>-0.25</td>\n",
       "      <td>...</td>\n",
       "      <td>25.00</td>\n",
       "      <td>26.35</td>\n",
       "      <td>-1.90</td>\n",
       "      <td>8.53</td>\n",
       "      <td>2015</td>\n",
       "    </tr>\n",
       "    <tr>\n",
       "      <th>2015-01-04</th>\n",
       "      <td>-1.30</td>\n",
       "      <td>10.30</td>\n",
       "      <td>6.40</td>\n",
       "      <td>13.30</td>\n",
       "      <td>-8.00</td>\n",
       "      <td>...</td>\n",
       "      <td>23.90</td>\n",
       "      <td>26.40</td>\n",
       "      <td>-8.00</td>\n",
       "      <td>9.08</td>\n",
       "      <td>2015</td>\n",
       "    </tr>\n",
       "    <tr>\n",
       "      <th>2015-01-05</th>\n",
       "      <td>1.15</td>\n",
       "      <td>2.00</td>\n",
       "      <td>0.90</td>\n",
       "      <td>7.20</td>\n",
       "      <td>-16.80</td>\n",
       "      <td>...</td>\n",
       "      <td>18.60</td>\n",
       "      <td>26.10</td>\n",
       "      <td>-16.80</td>\n",
       "      <td>6.93</td>\n",
       "      <td>2015</td>\n",
       "    </tr>\n",
       "  </tbody>\n",
       "</table>\n",
       "<p>275 rows × 25 columns</p>\n",
       "</div>"
      ],
      "text/plain": [
       "            Albuquerque  Baltimore  Boston  Charlotte  Chicago  ...  Tampa  \\\n",
       "Date                                                            ...          \n",
       "1961-01-01        -0.55       3.35    1.95       7.25    -4.75  ...  15.00   \n",
       "1961-01-02        -2.50       0.00   -0.80       4.45    -2.50  ...  13.60   \n",
       "1961-01-03        -2.50       0.85   -3.05       2.20   -10.80  ...  11.95   \n",
       "...                 ...        ...     ...        ...      ...  ...    ...   \n",
       "2015-01-03        -1.90       0.35   -1.35       9.70    -0.25  ...  25.00   \n",
       "2015-01-04        -1.30      10.30    6.40      13.30    -8.00  ...  23.90   \n",
       "2015-01-05         1.15       2.00    0.90       7.20   -16.80  ...  18.60   \n",
       "\n",
       "              Max    Min  Mean T  Year  \n",
       "Date                                    \n",
       "1961-01-01  24.45  -4.75    6.86  1961  \n",
       "1961-01-02  25.00  -5.00    5.29  1961  \n",
       "1961-01-03  24.75 -10.80    4.50  1961  \n",
       "...           ...    ...     ...   ...  \n",
       "2015-01-03  26.35  -1.90    8.53  2015  \n",
       "2015-01-04  26.40  -8.00    9.08  2015  \n",
       "2015-01-05  26.10 -16.80    6.93  2015  \n",
       "\n",
       "[275 rows x 25 columns]"
      ]
     },
     "execution_count": 13,
     "metadata": {},
     "output_type": "execute_result"
    }
   ],
   "source": [
    "temperatures_year=temperatures.groupby([temperatures[\"Year\"]])\n",
    "temperatures_year.head()"
   ]
  },
  {
   "cell_type": "code",
   "execution_count": 14,
   "metadata": {},
   "outputs": [
    {
     "data": {
      "text/html": [
       "<div>\n",
       "<style scoped>\n",
       "    .dataframe tbody tr th:only-of-type {\n",
       "        vertical-align: middle;\n",
       "    }\n",
       "\n",
       "    .dataframe tbody tr th {\n",
       "        vertical-align: top;\n",
       "    }\n",
       "\n",
       "    .dataframe thead th {\n",
       "        text-align: right;\n",
       "    }\n",
       "</style>\n",
       "<table border=\"1\" class=\"dataframe\">\n",
       "  <thead>\n",
       "    <tr style=\"text-align: right;\">\n",
       "      <th></th>\n",
       "      <th>Mean T</th>\n",
       "      <th>Max T</th>\n",
       "      <th>Min T</th>\n",
       "    </tr>\n",
       "    <tr>\n",
       "      <th>Year</th>\n",
       "      <th></th>\n",
       "      <th></th>\n",
       "      <th></th>\n",
       "    </tr>\n",
       "  </thead>\n",
       "  <tbody>\n",
       "    <tr>\n",
       "      <th>1961</th>\n",
       "      <td>15.737151</td>\n",
       "      <td>38.05</td>\n",
       "      <td>-17.25</td>\n",
       "    </tr>\n",
       "    <tr>\n",
       "      <th>1962</th>\n",
       "      <td>15.459205</td>\n",
       "      <td>36.95</td>\n",
       "      <td>-21.65</td>\n",
       "    </tr>\n",
       "    <tr>\n",
       "      <th>1963</th>\n",
       "      <td>15.570356</td>\n",
       "      <td>36.10</td>\n",
       "      <td>-24.70</td>\n",
       "    </tr>\n",
       "    <tr>\n",
       "      <th>...</th>\n",
       "      <td>...</td>\n",
       "      <td>...</td>\n",
       "      <td>...</td>\n",
       "    </tr>\n",
       "    <tr>\n",
       "      <th>2013</th>\n",
       "      <td>16.776411</td>\n",
       "      <td>40.55</td>\n",
       "      <td>-15.00</td>\n",
       "    </tr>\n",
       "    <tr>\n",
       "      <th>2014</th>\n",
       "      <td>16.931836</td>\n",
       "      <td>40.30</td>\n",
       "      <td>-22.70</td>\n",
       "    </tr>\n",
       "    <tr>\n",
       "      <th>2015</th>\n",
       "      <td>17.610466</td>\n",
       "      <td>40.55</td>\n",
       "      <td>-18.80</td>\n",
       "    </tr>\n",
       "  </tbody>\n",
       "</table>\n",
       "<p>55 rows × 3 columns</p>\n",
       "</div>"
      ],
      "text/plain": [
       "         Mean T  Max T  Min T\n",
       "Year                         \n",
       "1961  15.737151  38.05 -17.25\n",
       "1962  15.459205  36.95 -21.65\n",
       "1963  15.570356  36.10 -24.70\n",
       "...         ...    ...    ...\n",
       "2013  16.776411  40.55 -15.00\n",
       "2014  16.931836  40.30 -22.70\n",
       "2015  17.610466  40.55 -18.80\n",
       "\n",
       "[55 rows x 3 columns]"
      ]
     },
     "execution_count": 14,
     "metadata": {},
     "output_type": "execute_result"
    }
   ],
   "source": [
    "yearly_temps_mean_t=temperatures.groupby([temperatures[\"Year\"]])[\"Mean T\"].mean()\n",
    "yearly_temps_max_t=temperatures.groupby([temperatures[\"Year\"]])[\"Max\"].max()\n",
    "yearly_temps_min_t=temperatures.groupby([temperatures[\"Year\"]])[\"Min\"].min()\n",
    "yearly_temps=pd.DataFrame() \n",
    "yearly_temps[\"Mean T\"]=yearly_temps_mean_t\n",
    "yearly_temps[\"Max T\"]=yearly_temps_max_t\n",
    "yearly_temps[\"Min T\"]=yearly_temps_min_t\n",
    "yearly_temps"
   ]
  },
  {
   "cell_type": "markdown",
   "metadata": {},
   "source": [
    "Now that we have the data in a convenient format, let's generate some **plots** to visualize how the temperatures change over time. \n",
    "\n",
    "The code  produces plots relating year to temperature measurements\n",
    "\n",
    "* Mean and minimum annual temperatures"
   ]
  },
  {
   "cell_type": "code",
   "execution_count": 15,
   "metadata": {},
   "outputs": [
    {
     "data": {
      "image/png": "[encoded data removed]",
      "text/plain": [
       "<Figure size 432x288 with 1 Axes>"
      ]
     },
     "metadata": {
      "needs_background": "light"
     },
     "output_type": "display_data"
    },
    {
     "data": {
      "image/png": "[encoded data removed]",
      "text/plain": [
       "<Figure size 432x288 with 1 Axes>"
      ]
     },
     "metadata": {
      "needs_background": "light"
     },
     "output_type": "display_data"
    }
   ],
   "source": [
    "plt.figure(0)\n",
    "plt.plot(yearly_temps.index, yearly_temps['Mean T'])\n",
    "plt.title('Mean Annual Temp in 21 U.S. Cities')\n",
    "plt.figure(1)\n",
    "plt.plot(yearly_temps.index, yearly_temps['Min T'])\n",
    "plt.title('Min Annual Temp in 21 U.S. Cities')\n",
    "for i in range(2):\n",
    "     plt.figure(i)\n",
    "     plt.xlabel('Year')\n",
    "     plt.ylabel('Degrees C')"
   ]
  },
  {
   "cell_type": "markdown",
   "metadata": {},
   "source": [
    "The plot on the left in the Figure shows an undeniable trend; the `mean` temperatures in these 21 cities has `risen` over time.\n",
    "\n",
    "The plot on the above is less clear. The extreme annual fluctuations make it hard to see a trend. A more revealing plot can be produced by\n",
    "plotting a `moving average` of the temperatures.\n",
    "\n",
    "The Pandas method `rolling` is used to perform an operation on multiple consecutive values of a series. \n",
    "\n",
    "Evaluating the expression\n",
    "```\n",
    "yearly_temps['Min T'].rolling(7).mean() \n",
    "```\n",
    "produces a series in produces a series in which the first `6` values are `NaN`, and for each i greater than 6, the ith\n",
    "value in the series is the mean of `yearly_temps['Min'][i-6:i+1]`.\n",
    "\n",
    "Plotting that series against the year produces the plot in the Figure which does suggest a trend.\n",
    "\n",
    "The Figure Rolling average minimum temperatures \n",
    " \n",
    "\n",
    "\n"
   ]
  },
  {
   "cell_type": "code",
   "execution_count": 16,
   "metadata": {},
   "outputs": [
    {
     "data": {
      "image/png": "[encoded data removed]",
      "text/plain": [
       "<Figure size 432x288 with 1 Axes>"
      ]
     },
     "metadata": {
      "needs_background": "light"
     },
     "output_type": "display_data"
    },
    {
     "data": {
      "image/png": "[encoded data removed]",
      "text/plain": [
       "<Figure size 432x288 with 1 Axes>"
      ]
     },
     "metadata": {
      "needs_background": "light"
     },
     "output_type": "display_data"
    }
   ],
   "source": [
    "plt.figure(0)\n",
    "plt.plot(yearly_temps.index, yearly_temps['Mean T'])\n",
    "plt.title('Mean Annual Temp in 21 U.S. Cities')\n",
    "plt.figure(1)\n",
    "plt.plot(yearly_temps['Min T'].rolling(7).mean()) # The Pandas method `rolling` \n",
    "plt.title('Min Annual Temp in 21 U.S. Cities')\n",
    "for i in range(2):\n",
    "    plt.figure(i)\n",
    "    plt.ylabel('Degrees C')"
   ]
  },
  {
   "cell_type": "markdown",
   "metadata": {},
   "source": [
    "While visualizing the relationship between two series can be informative, it is often useful to look at those relationships more\n",
    "quantitatively. \n",
    "\n",
    "\n",
    "Let's start by looking at the correlations between years and the seven-year rolling averages of the `minimum,\n",
    "maximum, and mean temperatures`. \n",
    "\n",
    "Before computing the correlations, we first update the series in `yearly_temps` to contain rolling averages and then convert the year values from strings to integers.\n",
    "\n",
    "The code\n"
   ]
  },
  {
   "cell_type": "code",
   "execution_count": 17,
   "metadata": {},
   "outputs": [
    {
     "data": {
      "text/html": [
       "<div>\n",
       "<style scoped>\n",
       "    .dataframe tbody tr th:only-of-type {\n",
       "        vertical-align: middle;\n",
       "    }\n",
       "\n",
       "    .dataframe tbody tr th {\n",
       "        vertical-align: top;\n",
       "    }\n",
       "\n",
       "    .dataframe thead th {\n",
       "        text-align: right;\n",
       "    }\n",
       "</style>\n",
       "<table border=\"1\" class=\"dataframe\">\n",
       "  <thead>\n",
       "    <tr style=\"text-align: right;\">\n",
       "      <th></th>\n",
       "      <th>Mean T</th>\n",
       "      <th>Max T</th>\n",
       "      <th>Min T</th>\n",
       "    </tr>\n",
       "  </thead>\n",
       "  <tbody>\n",
       "    <tr>\n",
       "      <th>Mean T</th>\n",
       "      <td>1.000000</td>\n",
       "      <td>0.943003</td>\n",
       "      <td>0.679605</td>\n",
       "    </tr>\n",
       "    <tr>\n",
       "      <th>Max T</th>\n",
       "      <td>0.943003</td>\n",
       "      <td>1.000000</td>\n",
       "      <td>0.629268</td>\n",
       "    </tr>\n",
       "    <tr>\n",
       "      <th>Min T</th>\n",
       "      <td>0.679605</td>\n",
       "      <td>0.629268</td>\n",
       "      <td>1.000000</td>\n",
       "    </tr>\n",
       "  </tbody>\n",
       "</table>\n",
       "</div>"
      ],
      "text/plain": [
       "          Mean T     Max T     Min T\n",
       "Mean T  1.000000  0.943003  0.679605\n",
       "Max T   0.943003  1.000000  0.629268\n",
       "Min T   0.679605  0.629268  1.000000"
      ]
     },
     "execution_count": 17,
     "metadata": {},
     "output_type": "execute_result"
    }
   ],
   "source": [
    "num_years = 7\n",
    "for label in ['Min T', 'Max T', 'Mean T']:\n",
    "     yearly_temps[label] = yearly_temps[label].rolling(num_years).mean()\n",
    "yearly_temps.corr()"
   ]
  },
  {
   "cell_type": "markdown",
   "metadata": {},
   "source": [
    "All of the summary temperature values are `positively` correlated with the year, with the `mean` temperatures the most `strongly`\n",
    "correlated. \n",
    "\n",
    "That raises the question of how much of the variance in the rolling average of the mean temperatures is explained by the\n",
    "year. \n",
    "\n",
    "The following code prints the coefficient of determination\n"
   ]
  },
  {
   "cell_type": "code",
   "execution_count": 18,
   "metadata": {},
   "outputs": [],
   "source": [
    "def r_squared(measured, predicted):\n",
    "    \"\"\"Assumes measured a one-dimensional array of measured values\n",
    "                predicted a one-dimensional array of predicted values\n",
    "        Returns coefficient of determination\"\"\"\n",
    "    estimated_error = ((predicted - measured)**2).sum()\n",
    "    mean_of_measured = measured.sum()/len(measured)\n",
    "    variability = ((measured - mean_of_measured)**2).sum()\n",
    "    return 1 - estimated_error/variability"
   ]
  },
  {
   "cell_type": "code",
   "execution_count": 19,
   "metadata": {},
   "outputs": [
    {
     "name": "stdout",
     "output_type": "stream",
     "text": [
      "0.9397957026458451\n"
     ]
    }
   ],
   "source": [
    "import numpy as np\n",
    "indices = np.isfinite(yearly_temps['Mean T'])\n",
    "\n",
    "# a linear model  t=a*Year+b\n",
    "model = np.polyfit(list(yearly_temps.index[indices]),\n",
    "                    list(yearly_temps['Mean T'][indices]), 1)\n",
    "\n",
    "\n",
    "print(r_squared(yearly_temps['Mean T'][indices],\n",
    "                 np.polyval(model, yearly_temps.index[indices])))"
   ]
  },
  {
   "cell_type": "markdown",
   "metadata": {},
   "source": [
    "Since some of the values in the Mean series are `NaN`, we first use the function `np.isfinite` to get the indices of the `non-NaN` values in `yearly_temps['Mean T']`.\n",
    "\n",
    "We then build a linear model and finally use the `r_squared` function to compare the results predicted by the model to the actual temperatures. \n",
    "\n",
    "The linear model relating years to the seven-year rolling average mean temperature explains nearly $95\\%$ of the variance"
   ]
  },
  {
   "cell_type": "markdown",
   "metadata": {},
   "source": [
    "#####  summary data for each city\n",
    "\n",
    "If you happen to live in the U.S. or plan to travel to the U.S., you might be more interested in looking at the data by **city** rather than year.\n",
    "\n",
    "Let's start by producing a new DataFrame that provides **summary** data for each **city**. \n",
    "\n",
    "In deference to our American readers, we convert all temperatures to `Fahrenheit` by applying a `conversion function` to all values in `city_temps`. \n",
    "\n",
    "The penultimate line adds a column showing how extreme the temperature variation is.\n",
    "\n",
    "\n",
    "Executing this code produces the DataFrame "
   ]
  },
  {
   "cell_type": "code",
   "execution_count": 20,
   "metadata": {},
   "outputs": [
    {
     "data": {
      "text/html": [
       "<div>\n",
       "<style scoped>\n",
       "    .dataframe tbody tr th:only-of-type {\n",
       "        vertical-align: middle;\n",
       "    }\n",
       "\n",
       "    .dataframe tbody tr th {\n",
       "        vertical-align: top;\n",
       "    }\n",
       "\n",
       "    .dataframe thead th {\n",
       "        text-align: right;\n",
       "    }\n",
       "</style>\n",
       "<table border=\"1\" class=\"dataframe\">\n",
       "  <thead>\n",
       "    <tr style=\"text-align: right;\">\n",
       "      <th></th>\n",
       "      <th>Albuquerque</th>\n",
       "      <th>Baltimore</th>\n",
       "      <th>Boston</th>\n",
       "      <th>Charlotte</th>\n",
       "      <th>Chicago</th>\n",
       "      <th>...</th>\n",
       "      <th>San Francisco</th>\n",
       "      <th>San Juan</th>\n",
       "      <th>Seattle</th>\n",
       "      <th>St Louis</th>\n",
       "      <th>Tampa</th>\n",
       "    </tr>\n",
       "    <tr>\n",
       "      <th>Date</th>\n",
       "      <th></th>\n",
       "      <th></th>\n",
       "      <th></th>\n",
       "      <th></th>\n",
       "      <th></th>\n",
       "      <th></th>\n",
       "      <th></th>\n",
       "      <th></th>\n",
       "      <th></th>\n",
       "      <th></th>\n",
       "      <th></th>\n",
       "    </tr>\n",
       "  </thead>\n",
       "  <tbody>\n",
       "    <tr>\n",
       "      <th>1961-01-01</th>\n",
       "      <td>-0.55</td>\n",
       "      <td>3.35</td>\n",
       "      <td>1.95</td>\n",
       "      <td>7.25</td>\n",
       "      <td>-4.75</td>\n",
       "      <td>...</td>\n",
       "      <td>8.05</td>\n",
       "      <td>24.45</td>\n",
       "      <td>3.10</td>\n",
       "      <td>-0.55</td>\n",
       "      <td>15.00</td>\n",
       "    </tr>\n",
       "    <tr>\n",
       "      <th>1961-01-02</th>\n",
       "      <td>-2.50</td>\n",
       "      <td>0.00</td>\n",
       "      <td>-0.80</td>\n",
       "      <td>4.45</td>\n",
       "      <td>-2.50</td>\n",
       "      <td>...</td>\n",
       "      <td>5.85</td>\n",
       "      <td>25.00</td>\n",
       "      <td>0.55</td>\n",
       "      <td>-0.55</td>\n",
       "      <td>13.60</td>\n",
       "    </tr>\n",
       "    <tr>\n",
       "      <th>1961-01-03</th>\n",
       "      <td>-2.50</td>\n",
       "      <td>0.85</td>\n",
       "      <td>-3.05</td>\n",
       "      <td>2.20</td>\n",
       "      <td>-10.80</td>\n",
       "      <td>...</td>\n",
       "      <td>4.70</td>\n",
       "      <td>24.75</td>\n",
       "      <td>0.00</td>\n",
       "      <td>0.30</td>\n",
       "      <td>11.95</td>\n",
       "    </tr>\n",
       "    <tr>\n",
       "      <th>...</th>\n",
       "      <td>...</td>\n",
       "      <td>...</td>\n",
       "      <td>...</td>\n",
       "      <td>...</td>\n",
       "      <td>...</td>\n",
       "      <td>...</td>\n",
       "      <td>...</td>\n",
       "      <td>...</td>\n",
       "      <td>...</td>\n",
       "      <td>...</td>\n",
       "      <td>...</td>\n",
       "    </tr>\n",
       "    <tr>\n",
       "      <th>2015-12-29</th>\n",
       "      <td>-2.15</td>\n",
       "      <td>9.45</td>\n",
       "      <td>0.05</td>\n",
       "      <td>17.20</td>\n",
       "      <td>1.15</td>\n",
       "      <td>...</td>\n",
       "      <td>7.20</td>\n",
       "      <td>26.10</td>\n",
       "      <td>3.90</td>\n",
       "      <td>1.40</td>\n",
       "      <td>26.10</td>\n",
       "    </tr>\n",
       "    <tr>\n",
       "      <th>2015-12-30</th>\n",
       "      <td>-2.75</td>\n",
       "      <td>9.70</td>\n",
       "      <td>-0.50</td>\n",
       "      <td>18.05</td>\n",
       "      <td>-2.15</td>\n",
       "      <td>...</td>\n",
       "      <td>6.90</td>\n",
       "      <td>25.80</td>\n",
       "      <td>2.30</td>\n",
       "      <td>0.60</td>\n",
       "      <td>25.55</td>\n",
       "    </tr>\n",
       "    <tr>\n",
       "      <th>2015-12-31</th>\n",
       "      <td>-0.75</td>\n",
       "      <td>9.75</td>\n",
       "      <td>4.45</td>\n",
       "      <td>15.30</td>\n",
       "      <td>-3.80</td>\n",
       "      <td>...</td>\n",
       "      <td>7.25</td>\n",
       "      <td>25.55</td>\n",
       "      <td>1.75</td>\n",
       "      <td>-0.25</td>\n",
       "      <td>25.55</td>\n",
       "    </tr>\n",
       "  </tbody>\n",
       "</table>\n",
       "<p>20088 rows × 21 columns</p>\n",
       "</div>"
      ],
      "text/plain": [
       "            Albuquerque  Baltimore  Boston  Charlotte  Chicago  ...  \\\n",
       "Date                                                            ...   \n",
       "1961-01-01        -0.55       3.35    1.95       7.25    -4.75  ...   \n",
       "1961-01-02        -2.50       0.00   -0.80       4.45    -2.50  ...   \n",
       "1961-01-03        -2.50       0.85   -3.05       2.20   -10.80  ...   \n",
       "...                 ...        ...     ...        ...      ...  ...   \n",
       "2015-12-29        -2.15       9.45    0.05      17.20     1.15  ...   \n",
       "2015-12-30        -2.75       9.70   -0.50      18.05    -2.15  ...   \n",
       "2015-12-31        -0.75       9.75    4.45      15.30    -3.80  ...   \n",
       "\n",
       "            San Francisco  San Juan  Seattle  St Louis  Tampa  \n",
       "Date                                                           \n",
       "1961-01-01           8.05     24.45     3.10     -0.55  15.00  \n",
       "1961-01-02           5.85     25.00     0.55     -0.55  13.60  \n",
       "1961-01-03           4.70     24.75     0.00      0.30  11.95  \n",
       "...                   ...       ...      ...       ...    ...  \n",
       "2015-12-29           7.20     26.10     3.90      1.40  26.10  \n",
       "2015-12-30           6.90     25.80     2.30      0.60  25.55  \n",
       "2015-12-31           7.25     25.55     1.75     -0.25  25.55  \n",
       "\n",
       "[20088 rows x 21 columns]"
      ]
     },
     "execution_count": 20,
     "metadata": {},
     "output_type": "execute_result"
    }
   ],
   "source": [
    "temperatures = pd.read_csv('./data/US_temperatures.csv',parse_dates=[\"Date\"])\n",
    "temperatures.set_index('Date', drop = True, inplace = True)\n",
    "temperatures"
   ]
  },
  {
   "cell_type": "code",
   "execution_count": 21,
   "metadata": {},
   "outputs": [
    {
     "data": {
      "text/html": [
       "<div>\n",
       "<style scoped>\n",
       "    .dataframe tbody tr th:only-of-type {\n",
       "        vertical-align: middle;\n",
       "    }\n",
       "\n",
       "    .dataframe tbody tr th {\n",
       "        vertical-align: top;\n",
       "    }\n",
       "\n",
       "    .dataframe thead th {\n",
       "        text-align: right;\n",
       "    }\n",
       "</style>\n",
       "<table border=\"1\" class=\"dataframe\">\n",
       "  <thead>\n",
       "    <tr style=\"text-align: right;\">\n",
       "      <th></th>\n",
       "      <th>Min T</th>\n",
       "      <th>Max T</th>\n",
       "      <th>Mean T</th>\n",
       "      <th>Max-Min</th>\n",
       "    </tr>\n",
       "  </thead>\n",
       "  <tbody>\n",
       "    <tr>\n",
       "      <th>Albuquerque</th>\n",
       "      <td>-3.46</td>\n",
       "      <td>89.96</td>\n",
       "      <td>57.110</td>\n",
       "      <td>93.42</td>\n",
       "    </tr>\n",
       "    <tr>\n",
       "      <th>Baltimore</th>\n",
       "      <td>-0.04</td>\n",
       "      <td>93.47</td>\n",
       "      <td>55.562</td>\n",
       "      <td>93.51</td>\n",
       "    </tr>\n",
       "    <tr>\n",
       "      <th>Boston</th>\n",
       "      <td>1.04</td>\n",
       "      <td>92.48</td>\n",
       "      <td>51.620</td>\n",
       "      <td>91.44</td>\n",
       "    </tr>\n",
       "    <tr>\n",
       "      <th>...</th>\n",
       "      <td>...</td>\n",
       "      <td>...</td>\n",
       "      <td>...</td>\n",
       "      <td>...</td>\n",
       "    </tr>\n",
       "    <tr>\n",
       "      <th>Seattle</th>\n",
       "      <td>12.02</td>\n",
       "      <td>86.99</td>\n",
       "      <td>52.376</td>\n",
       "      <td>74.97</td>\n",
       "    </tr>\n",
       "    <tr>\n",
       "      <th>St Louis</th>\n",
       "      <td>-8.50</td>\n",
       "      <td>96.98</td>\n",
       "      <td>56.408</td>\n",
       "      <td>105.48</td>\n",
       "    </tr>\n",
       "    <tr>\n",
       "      <th>Tampa</th>\n",
       "      <td>28.94</td>\n",
       "      <td>89.06</td>\n",
       "      <td>72.878</td>\n",
       "      <td>60.12</td>\n",
       "    </tr>\n",
       "  </tbody>\n",
       "</table>\n",
       "<p>21 rows × 4 columns</p>\n",
       "</div>"
      ],
      "text/plain": [
       "             Min T  Max T  Mean T  Max-Min\n",
       "Albuquerque  -3.46  89.96  57.110    93.42\n",
       "Baltimore    -0.04  93.47  55.562    93.51\n",
       "Boston        1.04  92.48  51.620    91.44\n",
       "...            ...    ...     ...      ...\n",
       "Seattle      12.02  86.99  52.376    74.97\n",
       "St Louis     -8.50  96.98  56.408   105.48\n",
       "Tampa        28.94  89.06  72.878    60.12\n",
       "\n",
       "[21 rows x 4 columns]"
      ]
     },
     "execution_count": 21,
     "metadata": {},
     "output_type": "execute_result"
    }
   ],
   "source": [
    "temperatures = pd.read_csv('./data/US_temperatures.csv')\n",
    "temperatures.drop('Date', axis = 'columns', inplace = True)\n",
    "maxes = temperatures.max()\n",
    "mins = temperatures.min()\n",
    "means = round(temperatures.mean(), 2)\n",
    "city_temps = pd.DataFrame({'Min T':mins, 'Max T':maxes, 'Mean T':means})\n",
    "city_temps = city_temps.apply(lambda x: 1.8*x + 32) # temperatures to Fahrenheit\n",
    "city_temps['Max-Min'] = city_temps['Max T'] - city_temps['Min T']\n",
    "city_temps"
   ]
  },
  {
   "cell_type": "code",
   "execution_count": 35,
   "metadata": {},
   "outputs": [
    {
     "data": {
      "text/html": [
       "<div>\n",
       "<style scoped>\n",
       "    .dataframe tbody tr th:only-of-type {\n",
       "        vertical-align: middle;\n",
       "    }\n",
       "\n",
       "    .dataframe tbody tr th {\n",
       "        vertical-align: top;\n",
       "    }\n",
       "\n",
       "    .dataframe thead th {\n",
       "        text-align: right;\n",
       "    }\n",
       "</style>\n",
       "<table border=\"1\" class=\"dataframe\">\n",
       "  <thead>\n",
       "    <tr style=\"text-align: right;\">\n",
       "      <th></th>\n",
       "      <th>Min T</th>\n",
       "      <th>Max T</th>\n",
       "      <th>Mean T</th>\n",
       "      <th>Max-Min</th>\n",
       "    </tr>\n",
       "  </thead>\n",
       "  <tbody>\n",
       "    <tr>\n",
       "      <th>San Juan</th>\n",
       "      <td>68.99</td>\n",
       "      <td>88.97</td>\n",
       "      <td>80.492</td>\n",
       "      <td>19.98</td>\n",
       "    </tr>\n",
       "    <tr>\n",
       "      <th>Miami</th>\n",
       "      <td>37.94</td>\n",
       "      <td>90.05</td>\n",
       "      <td>76.604</td>\n",
       "      <td>52.11</td>\n",
       "    </tr>\n",
       "    <tr>\n",
       "      <th>Phoenix</th>\n",
       "      <td>32.45</td>\n",
       "      <td>106.52</td>\n",
       "      <td>73.904</td>\n",
       "      <td>74.07</td>\n",
       "    </tr>\n",
       "    <tr>\n",
       "      <th>...</th>\n",
       "      <td>...</td>\n",
       "      <td>...</td>\n",
       "      <td>...</td>\n",
       "      <td>...</td>\n",
       "    </tr>\n",
       "    <tr>\n",
       "      <th>Boston</th>\n",
       "      <td>1.04</td>\n",
       "      <td>92.48</td>\n",
       "      <td>51.620</td>\n",
       "      <td>91.44</td>\n",
       "    </tr>\n",
       "    <tr>\n",
       "      <th>Chicago</th>\n",
       "      <td>-18.04</td>\n",
       "      <td>92.48</td>\n",
       "      <td>49.622</td>\n",
       "      <td>110.52</td>\n",
       "    </tr>\n",
       "    <tr>\n",
       "      <th>Detroit</th>\n",
       "      <td>-12.01</td>\n",
       "      <td>89.51</td>\n",
       "      <td>49.550</td>\n",
       "      <td>101.52</td>\n",
       "    </tr>\n",
       "  </tbody>\n",
       "</table>\n",
       "<p>21 rows × 4 columns</p>\n",
       "</div>"
      ],
      "text/plain": [
       "          Min T   Max T  Mean T  Max-Min\n",
       "San Juan  68.99   88.97  80.492    19.98\n",
       "Miami     37.94   90.05  76.604    52.11\n",
       "Phoenix   32.45  106.52  73.904    74.07\n",
       "...         ...     ...     ...      ...\n",
       "Boston     1.04   92.48  51.620    91.44\n",
       "Chicago  -18.04   92.48  49.622   110.52\n",
       "Detroit  -12.01   89.51  49.550   101.52\n",
       "\n",
       "[21 rows x 4 columns]"
      ]
     },
     "execution_count": 35,
     "metadata": {},
     "output_type": "execute_result"
    }
   ],
   "source": [
    "city_temps.sort_meant=city_temps.sort_values('Mean T', ascending = False)\n",
    "city_temps.sort_meant"
   ]
  },
  {
   "cell_type": "code",
   "execution_count": 31,
   "metadata": {},
   "outputs": [
    {
     "name": "stdout",
     "output_type": "stream",
     "text": [
      "               Min T   Max T  Mean T  Max-Min\n",
      "San Juan       68.99   88.97  80.492    19.98\n",
      "Miami          37.94   90.05  76.604    52.11\n",
      "Phoenix        32.45  106.52  73.904    74.07\n",
      "Tampa          28.94   89.06  72.878    60.12\n",
      "New Orleans    18.95   90.95  68.882    72.00\n",
      "Las Vegas      19.49  105.98  67.964    86.49\n",
      "Dallas          8.51   97.52  66.092    89.01\n",
      "San Diego      43.07   92.03  64.130    48.96\n",
      "Los Angeles    42.98   94.01  63.158    51.03\n",
      "Charlotte       9.50   90.50  60.512    81.00\n",
      "San Francisco  30.56   86.00  57.632    55.44\n",
      "Albuquerque    -3.46   89.96  57.110    93.42\n",
      "St Louis       -8.50   96.98  56.408   105.48\n",
      "Baltimore      -0.04   93.47  55.562    93.51\n",
      "Philadelphia    0.50   92.48  55.364    91.98\n",
      "New York        3.56   91.04  54.194    87.48\n",
      "Portland       11.03   89.96  54.068    78.93\n",
      "Seattle        12.02   86.99  52.376    74.97\n",
      "Boston          1.04   92.48  51.620    91.44\n",
      "Chicago       -18.04   92.48  49.622   110.52\n",
      "Detroit       -12.01   89.51  49.550   101.52\n"
     ]
    }
   ],
   "source": [
    "print(city_temps.sort_meant.to_string())"
   ]
  },
  {
   "cell_type": "markdown",
   "metadata": {},
   "source": [
    "To visualize differences among cities, we generated the plot, \n",
    "\n",
    "Using the code:\n"
   ]
  },
  {
   "cell_type": "code",
   "execution_count": 41,
   "metadata": {},
   "outputs": [
    {
     "data": {
      "text/plain": [
       "<AxesSubplot:>"
      ]
     },
     "execution_count": 41,
     "metadata": {},
     "output_type": "execute_result"
    },
    {
     "data": {
      "image/png": "[encoded data removed]",
      "text/plain": [
       "<Figure size 432x288 with 1 Axes>"
      ]
     },
     "metadata": {
      "needs_background": "light"
     },
     "output_type": "display_data"
    }
   ],
   "source": [
    "city_temps.sort_meant.plot()"
   ]
  },
  {
   "cell_type": "code",
   "execution_count": 39,
   "metadata": {},
   "outputs": [
    {
     "data": {
      "text/plain": [
       "Text(0, 0.5, 'Degrees F')"
      ]
     },
     "execution_count": 39,
     "metadata": {},
     "output_type": "execute_result"
    },
    {
     "data": {
      "image/png": "[encoded data removed]",
      "text/plain": [
       "<Figure size 432x288 with 1 Axes>"
      ]
     },
     "metadata": {
      "needs_background": "light"
     },
     "output_type": "display_data"
    }
   ],
   "source": [
    "plt.plot(city_temps.sort_values('Max-Min', ascending=False)['Min T'], 'b^', label = 'Min T')\n",
    "plt.plot(city_temps.sort_values('Max-Min', ascending=False)['Max T'],   'kx', label = 'Max T')\n",
    "plt.plot(city_temps.sort_values('Max-Min', ascending=False)['Mean T'],     'ro', label = 'Mean T')\n",
    "plt.xticks(rotation = 'vertical')\n",
    "plt.legend()\n",
    "plt.title('Variation in Extremal Daily\\nTemperature 1961-2015')\n",
    "plt.ylabel('Degrees F')"
   ]
  },
  {
   "cell_type": "markdown",
   "metadata": {},
   "source": [
    "Notice that we used the sort order `Max - Min` for all three series. The use of `ascending = False` reverses the default sorting order."
   ]
  },
  {
   "cell_type": "markdown",
   "metadata": {},
   "source": [
    "Looking at this plot we can see, among other things, that\n",
    "\n",
    "* Across cities, the minimum temperature differs much more than the maximum temperature. Because of this, `Max–Min` (the sort\n",
    "order) is strongly positively correlated with the minimum temperature.\n",
    "\n",
    "* It never gets very hot in San Francisco or Seattle.\n",
    "\n",
    "* The temperature in San Juan is close to constant.\n",
    "\n",
    "* The temperature in Chicago is not close to constant. It gets both quite hot and frighteningly cold in the windy city\n",
    "\n",
    "* It gets uncomfortably hot in both Phoenix and Las Vegas.\n",
    "\n",
    "* San Francisco and Albuquerque have about the same mean temperature, but radically different minima and maxima"
   ]
  },
  {
   "cell_type": "markdown",
   "metadata": {},
   "source": [
    "\n",
    "###  5.2 Fossil Fuel Consumption \n",
    "\n",
    "The file `global-fossil-fuel-consumption.csv` contains data about the yearly con-sumption of fossil fuels on Earth from 1965 and 2015. \n",
    "\n",
    "* https://ourworldindata.org/grapher/global-fossil-fuel-consumption\n",
    "\n",
    "The Data"
   ]
  },
  {
   "cell_type": "code",
   "execution_count": null,
   "metadata": {},
   "outputs": [],
   "source": [
    "# %load ./data/global-fossil-fuel-consumption.csv\n",
    "Year,Coal,Crude Oil,Natural Gas\n",
    "1965,16151.96017,18054.69004,6306.370076\n",
    "1966,16332.01679,19442.23715,6871.686791\n",
    "1967,16071.18119,20830.13575,7377.525476\n",
    "1968,16312.60576,22613.21746,8046.478672\n",
    "1969,16825.99292,24534.98916,8835.591838\n",
    "1970,17065.27113,26649.8116,9614.414364\n",
    "1971,16971.04648,28233.71612,10289.89468\n",
    "1972,17161.86462,30399.20981,10858.55694\n",
    "1973,17673.14043,32775.00958,11374.03922\n",
    "1974,17687.80045,32299.54837,11652.60482\n",
    "1975,18031.66073,31973.18489,11657.59717\n",
    "1976,18688.42129,34064.96456,12350.85663\n",
    "1977,19241.4531,35224.40759,12756.89778\n",
    "1978,19456.78595,36354.28057,13291.68232\n",
    "1979,20359.51044,36953.1491,14121.9509\n",
    "1980,20856.53098,35506.32689,14238.31962\n",
    "1981,21148.79702,34228.87205,14395.89609\n",
    "1982,21384.22049,33177.85701,14473.22634\n",
    "1983,22040.19421,32981.31709,14706.11331\n",
    "1984,22997.47253,33746.54047,15912.38739\n",
    "1985,23906.3229,33792.84203,16263.14014\n",
    "1986,24182.95534,34819.31693,16421.36448\n",
    "1987,25145.10228,35532.11408,17289.17958\n",
    "1988,25889.97449,36735.8996,18083.52241\n",
    "1989,26152.07667,37343.11239,18902.85595\n",
    "1990,25845.88485,37736.94729,19486.64542\n",
    "1991,25561.41954,37763.14824,19984.58677\n",
    "1992,25478.81089,38422.53103,20076.92098\n",
    "1993,25580.92144,38179.42324,20275.09431\n",
    "1994,25729.64169,39021.80173,20405.36342\n",
    "1995,25867.8533,39555.43054,21121.78818\n",
    "1996,26516.28457,40480.1731,22143.41796\n",
    "1997,26549.71899,41544.67299,22082.05319\n",
    "1998,26351.79429,41768.48384,22485.93806\n",
    "1999,26492.77461,42510.09274,23107.57158\n",
    "2000,27403.94562,43038.62001,24019.89227\n",
    "2001,27851.05371,43421.10755,24367.11133\n",
    "2002,28936.6423,43796.55068,25108.12839\n",
    "2003,31475.58334,44803.21017,25769.17552\n",
    "2004,33656.31109,46503.96733,26752.16794\n",
    "2005,36118.94545,47115.72728,27537.09099\n",
    "2006,37979.81684,47732.19992,28347.57835\n",
    "2007,40143.91171,48471.73162,29580.25097\n",
    "2008,40712.5427,48250.64229,30321.37836\n",
    "2009,40088.33994,47422.36853,29477.9263\n",
    "2010,41932.74507,48949.72046,31759.12422\n",
    "2011,43948.96889,49455.27172,32410.44868\n",
    "2012,44129.62497,50065.86499,33270.53388\n",
    "2013,44953.01385,50698.38455,33714.94785\n",
    "2014,44916.83781,51109.97172,33986.84723\n",
    "2015,43786.8458,52053.27008,34741.88349\n",
    "2016,43101.23216,53001.86598,35741.82987\n",
    "2017,43397.13549,53752.27638,36703.96587"
   ]
  },
  {
   "cell_type": "markdown",
   "metadata": {},
   "source": [
    "The DataFrame has a large number of rows or columns, print will replace columns and/or rows in the center of the DataFrame with **ellipses**"
   ]
  },
  {
   "cell_type": "code",
   "execution_count": 56,
   "metadata": {},
   "outputs": [
    {
     "data": {
      "text/html": [
       "<div>\n",
       "<style scoped>\n",
       "    .dataframe tbody tr th:only-of-type {\n",
       "        vertical-align: middle;\n",
       "    }\n",
       "\n",
       "    .dataframe tbody tr th {\n",
       "        vertical-align: top;\n",
       "    }\n",
       "\n",
       "    .dataframe thead th {\n",
       "        text-align: right;\n",
       "    }\n",
       "</style>\n",
       "<table border=\"1\" class=\"dataframe\">\n",
       "  <thead>\n",
       "    <tr style=\"text-align: right;\">\n",
       "      <th></th>\n",
       "      <th>Year</th>\n",
       "      <th>Coal</th>\n",
       "      <th>Crude Oil</th>\n",
       "      <th>Natural Gas</th>\n",
       "    </tr>\n",
       "  </thead>\n",
       "  <tbody>\n",
       "    <tr>\n",
       "      <th>0</th>\n",
       "      <td>1965</td>\n",
       "      <td>16151.96017</td>\n",
       "      <td>18054.69004</td>\n",
       "      <td>6306.370076</td>\n",
       "    </tr>\n",
       "    <tr>\n",
       "      <th>1</th>\n",
       "      <td>1966</td>\n",
       "      <td>16332.01679</td>\n",
       "      <td>19442.23715</td>\n",
       "      <td>6871.686791</td>\n",
       "    </tr>\n",
       "    <tr>\n",
       "      <th>2</th>\n",
       "      <td>1967</td>\n",
       "      <td>16071.18119</td>\n",
       "      <td>20830.13575</td>\n",
       "      <td>7377.525476</td>\n",
       "    </tr>\n",
       "    <tr>\n",
       "      <th>...</th>\n",
       "      <td>...</td>\n",
       "      <td>...</td>\n",
       "      <td>...</td>\n",
       "      <td>...</td>\n",
       "    </tr>\n",
       "    <tr>\n",
       "      <th>50</th>\n",
       "      <td>2015</td>\n",
       "      <td>43786.84580</td>\n",
       "      <td>52053.27008</td>\n",
       "      <td>34741.883490</td>\n",
       "    </tr>\n",
       "    <tr>\n",
       "      <th>51</th>\n",
       "      <td>2016</td>\n",
       "      <td>43101.23216</td>\n",
       "      <td>53001.86598</td>\n",
       "      <td>35741.829870</td>\n",
       "    </tr>\n",
       "    <tr>\n",
       "      <th>52</th>\n",
       "      <td>2017</td>\n",
       "      <td>43397.13549</td>\n",
       "      <td>53752.27638</td>\n",
       "      <td>36703.965870</td>\n",
       "    </tr>\n",
       "  </tbody>\n",
       "</table>\n",
       "<p>53 rows × 4 columns</p>\n",
       "</div>"
      ],
      "text/plain": [
       "    Year         Coal    Crude Oil   Natural Gas\n",
       "0   1965  16151.96017  18054.69004   6306.370076\n",
       "1   1966  16332.01679  19442.23715   6871.686791\n",
       "2   1967  16071.18119  20830.13575   7377.525476\n",
       "..   ...          ...          ...           ...\n",
       "50  2015  43786.84580  52053.27008  34741.883490\n",
       "51  2016  43101.23216  53001.86598  35741.829870\n",
       "52  2017  43397.13549  53752.27638  36703.965870\n",
       "\n",
       "[53 rows x 4 columns]"
      ]
     },
     "execution_count": 56,
     "metadata": {},
     "output_type": "execute_result"
    }
   ],
   "source": [
    "import pandas as pd \n",
    "emissions = pd.read_csv('./data/global-fossil-fuel-consumption.csv') \n",
    "emissions"
   ]
  },
  {
   "cell_type": "code",
   "execution_count": 57,
   "metadata": {},
   "outputs": [
    {
     "data": {
      "text/html": [
       "<div>\n",
       "<style scoped>\n",
       "    .dataframe tbody tr th:only-of-type {\n",
       "        vertical-align: middle;\n",
       "    }\n",
       "\n",
       "    .dataframe tbody tr th {\n",
       "        vertical-align: top;\n",
       "    }\n",
       "\n",
       "    .dataframe thead th {\n",
       "        text-align: right;\n",
       "    }\n",
       "</style>\n",
       "<table border=\"1\" class=\"dataframe\">\n",
       "  <thead>\n",
       "    <tr style=\"text-align: right;\">\n",
       "      <th></th>\n",
       "      <th>Coal</th>\n",
       "      <th>Crude Oil</th>\n",
       "      <th>Natural Gas</th>\n",
       "    </tr>\n",
       "    <tr>\n",
       "      <th>Year</th>\n",
       "      <th></th>\n",
       "      <th></th>\n",
       "      <th></th>\n",
       "    </tr>\n",
       "  </thead>\n",
       "  <tbody>\n",
       "    <tr>\n",
       "      <th>1965</th>\n",
       "      <td>16151.96017</td>\n",
       "      <td>18054.69004</td>\n",
       "      <td>6306.370076</td>\n",
       "    </tr>\n",
       "    <tr>\n",
       "      <th>1966</th>\n",
       "      <td>16332.01679</td>\n",
       "      <td>19442.23715</td>\n",
       "      <td>6871.686791</td>\n",
       "    </tr>\n",
       "    <tr>\n",
       "      <th>1967</th>\n",
       "      <td>16071.18119</td>\n",
       "      <td>20830.13575</td>\n",
       "      <td>7377.525476</td>\n",
       "    </tr>\n",
       "    <tr>\n",
       "      <th>...</th>\n",
       "      <td>...</td>\n",
       "      <td>...</td>\n",
       "      <td>...</td>\n",
       "    </tr>\n",
       "    <tr>\n",
       "      <th>2015</th>\n",
       "      <td>43786.84580</td>\n",
       "      <td>52053.27008</td>\n",
       "      <td>34741.883490</td>\n",
       "    </tr>\n",
       "    <tr>\n",
       "      <th>2016</th>\n",
       "      <td>43101.23216</td>\n",
       "      <td>53001.86598</td>\n",
       "      <td>35741.829870</td>\n",
       "    </tr>\n",
       "    <tr>\n",
       "      <th>2017</th>\n",
       "      <td>43397.13549</td>\n",
       "      <td>53752.27638</td>\n",
       "      <td>36703.965870</td>\n",
       "    </tr>\n",
       "  </tbody>\n",
       "</table>\n",
       "<p>53 rows × 3 columns</p>\n",
       "</div>"
      ],
      "text/plain": [
       "             Coal    Crude Oil   Natural Gas\n",
       "Year                                        \n",
       "1965  16151.96017  18054.69004   6306.370076\n",
       "1966  16332.01679  19442.23715   6871.686791\n",
       "1967  16071.18119  20830.13575   7377.525476\n",
       "...           ...          ...           ...\n",
       "2015  43786.84580  52053.27008  34741.883490\n",
       "2016  43101.23216  53001.86598  35741.829870\n",
       "2017  43397.13549  53752.27638  36703.965870\n",
       "\n",
       "[53 rows x 3 columns]"
      ]
     },
     "execution_count": 57,
     "metadata": {},
     "output_type": "execute_result"
    }
   ],
   "source": [
    "emissions = pd.read_csv('./data/global-fossil-fuel-consumption.csv',parse_dates=[\"Year\"]) \n",
    "emissions[\"Year\"] =emissions[\"Year\"].dt.year \n",
    "emissions.set_index(\"Year\", drop = True, inplace = True)\n",
    "emissions"
   ]
  },
  {
   "cell_type": "markdown",
   "metadata": {},
   "source": [
    "let’s replace the **columns** showing the consumption of **each kind** of fuel by **two** columns,\n",
    "\n",
    "* **Fuels**: the **sum** of the three \n",
    "\n",
    "* **Roll F**: the five-year `rolling average` of the sum "
   ]
  },
  {
   "cell_type": "code",
   "execution_count": 58,
   "metadata": {},
   "outputs": [],
   "source": [
    "# the new column row: Fuels\n",
    "emissions['Fuels'] = emissions.sum(axis = 'columns')\n",
    "\n",
    "# the new colume: the five-year rolling average of the sum.\n",
    "num_years = 5 \n",
    "emissions['Roll F'] = emissions['Fuels'].rolling(num_years).mean() \n",
    "emissions = emissions.round()"
   ]
  },
  {
   "cell_type": "code",
   "execution_count": 59,
   "metadata": {},
   "outputs": [
    {
     "data": {
      "text/html": [
       "<div>\n",
       "<style scoped>\n",
       "    .dataframe tbody tr th:only-of-type {\n",
       "        vertical-align: middle;\n",
       "    }\n",
       "\n",
       "    .dataframe tbody tr th {\n",
       "        vertical-align: top;\n",
       "    }\n",
       "\n",
       "    .dataframe thead th {\n",
       "        text-align: right;\n",
       "    }\n",
       "</style>\n",
       "<table border=\"1\" class=\"dataframe\">\n",
       "  <thead>\n",
       "    <tr style=\"text-align: right;\">\n",
       "      <th></th>\n",
       "      <th>Coal</th>\n",
       "      <th>Crude Oil</th>\n",
       "      <th>Natural Gas</th>\n",
       "      <th>Fuels</th>\n",
       "      <th>Roll F</th>\n",
       "    </tr>\n",
       "    <tr>\n",
       "      <th>Year</th>\n",
       "      <th></th>\n",
       "      <th></th>\n",
       "      <th></th>\n",
       "      <th></th>\n",
       "      <th></th>\n",
       "    </tr>\n",
       "  </thead>\n",
       "  <tbody>\n",
       "    <tr>\n",
       "      <th>1965</th>\n",
       "      <td>16152.0</td>\n",
       "      <td>18055.0</td>\n",
       "      <td>6306.0</td>\n",
       "      <td>40513.0</td>\n",
       "      <td>NaN</td>\n",
       "    </tr>\n",
       "    <tr>\n",
       "      <th>1966</th>\n",
       "      <td>16332.0</td>\n",
       "      <td>19442.0</td>\n",
       "      <td>6872.0</td>\n",
       "      <td>42646.0</td>\n",
       "      <td>NaN</td>\n",
       "    </tr>\n",
       "    <tr>\n",
       "      <th>1967</th>\n",
       "      <td>16071.0</td>\n",
       "      <td>20830.0</td>\n",
       "      <td>7378.0</td>\n",
       "      <td>44279.0</td>\n",
       "      <td>NaN</td>\n",
       "    </tr>\n",
       "    <tr>\n",
       "      <th>...</th>\n",
       "      <td>...</td>\n",
       "      <td>...</td>\n",
       "      <td>...</td>\n",
       "      <td>...</td>\n",
       "      <td>...</td>\n",
       "    </tr>\n",
       "    <tr>\n",
       "      <th>2015</th>\n",
       "      <td>43787.0</td>\n",
       "      <td>52053.0</td>\n",
       "      <td>34742.0</td>\n",
       "      <td>130582.0</td>\n",
       "      <td>128649.0</td>\n",
       "    </tr>\n",
       "    <tr>\n",
       "      <th>2016</th>\n",
       "      <td>43101.0</td>\n",
       "      <td>53002.0</td>\n",
       "      <td>35742.0</td>\n",
       "      <td>131845.0</td>\n",
       "      <td>129855.0</td>\n",
       "    </tr>\n",
       "    <tr>\n",
       "      <th>2017</th>\n",
       "      <td>43397.0</td>\n",
       "      <td>53752.0</td>\n",
       "      <td>36704.0</td>\n",
       "      <td>133853.0</td>\n",
       "      <td>131132.0</td>\n",
       "    </tr>\n",
       "  </tbody>\n",
       "</table>\n",
       "<p>53 rows × 5 columns</p>\n",
       "</div>"
      ],
      "text/plain": [
       "         Coal  Crude Oil  Natural Gas     Fuels    Roll F\n",
       "Year                                                     \n",
       "1965  16152.0    18055.0       6306.0   40513.0       NaN\n",
       "1966  16332.0    19442.0       6872.0   42646.0       NaN\n",
       "1967  16071.0    20830.0       7378.0   44279.0       NaN\n",
       "...       ...        ...          ...       ...       ...\n",
       "2015  43787.0    52053.0      34742.0  130582.0  128649.0\n",
       "2016  43101.0    53002.0      35742.0  131845.0  129855.0\n",
       "2017  43397.0    53752.0      36704.0  133853.0  131132.0\n",
       "\n",
       "[53 rows x 5 columns]"
      ]
     },
     "execution_count": 59,
     "metadata": {},
     "output_type": "execute_result"
    }
   ],
   "source": [
    "emissions "
   ]
  },
  {
   "cell_type": "markdown",
   "metadata": {},
   "source": [
    "We can plot this data using"
   ]
  },
  {
   "cell_type": "code",
   "execution_count": 47,
   "metadata": {},
   "outputs": [
    {
     "data": {
      "text/plain": [
       "<AxesSubplot:xlabel='Year'>"
      ]
     },
     "execution_count": 47,
     "metadata": {},
     "output_type": "execute_result"
    },
    {
     "data": {
      "image/png": "[encoded data removed]",
      "text/plain": [
       "<Figure size 432x288 with 1 Axes>"
      ]
     },
     "metadata": {
      "needs_background": "light"
     },
     "output_type": "display_data"
    }
   ],
   "source": [
    "emissions.plot()"
   ]
  },
  {
   "cell_type": "code",
   "execution_count": 48,
   "metadata": {},
   "outputs": [
    {
     "data": {
      "text/plain": [
       "<AxesSubplot:xlabel='Year'>"
      ]
     },
     "execution_count": 48,
     "metadata": {},
     "output_type": "execute_result"
    },
    {
     "data": {
      "image/png": "[encoded data removed]",
      "text/plain": [
       "<Figure size 432x288 with 1 Axes>"
      ]
     },
     "metadata": {
      "needs_background": "light"
     },
     "output_type": "display_data"
    }
   ],
   "source": [
    "emissions.plot(y=['Fuels','Roll F'])"
   ]
  },
  {
   "cell_type": "code",
   "execution_count": 49,
   "metadata": {},
   "outputs": [
    {
     "data": {
      "text/plain": [
       "Text(0, 0.5, 'Consumption')"
      ]
     },
     "execution_count": 49,
     "metadata": {},
     "output_type": "execute_result"
    },
    {
     "data": {
      "image/png": "[encoded data removed]",
      "text/plain": [
       "<Figure size 432x288 with 1 Axes>"
      ]
     },
     "metadata": {
      "needs_background": "light"
     },
     "output_type": "display_data"
    }
   ],
   "source": [
    "import matplotlib.pyplot as plt\n",
    "plt.plot(emissions.index, emissions['Fuels'],  label = 'Consumption')\n",
    "plt.plot(emissions.index, emissions['Roll F'],  label = str(num_years) + ' Year Rolling Ave.') \n",
    "plt.legend()\n",
    "plt.title('Consumption of Fossil Fuels') \n",
    "plt.xlabel('Year')\n",
    "plt.ylabel('Consumption')"
   ]
  },
  {
   "cell_type": "markdown",
   "metadata": {},
   "source": [
    "While there are  `a few small dips` in consumption (e.g., around the `2008 fi-nancial crisis`), the upward trend is unmistakable. \n",
    "\n",
    "The scientific community has reached consensus that there is an association between this rise in fuel consumption and the rise in `the average temperature` on the planet.\n",
    "\n",
    "Let’s see how it relates to the temperatures in the `21 U.S. cities` we looked at in `Section 23.5.1`.\n",
    "\n",
    "Recall that `yearly_temps` was bound to the `DataFrame`"
   ]
  },
  {
   "cell_type": "code",
   "execution_count": 50,
   "metadata": {},
   "outputs": [
    {
     "data": {
      "text/html": [
       "<div>\n",
       "<style scoped>\n",
       "    .dataframe tbody tr th:only-of-type {\n",
       "        vertical-align: middle;\n",
       "    }\n",
       "\n",
       "    .dataframe tbody tr th {\n",
       "        vertical-align: top;\n",
       "    }\n",
       "\n",
       "    .dataframe thead th {\n",
       "        text-align: right;\n",
       "    }\n",
       "</style>\n",
       "<table border=\"1\" class=\"dataframe\">\n",
       "  <thead>\n",
       "    <tr style=\"text-align: right;\">\n",
       "      <th></th>\n",
       "      <th>Mean T</th>\n",
       "      <th>Max T</th>\n",
       "      <th>Min T</th>\n",
       "    </tr>\n",
       "    <tr>\n",
       "      <th>Year</th>\n",
       "      <th></th>\n",
       "      <th></th>\n",
       "      <th></th>\n",
       "    </tr>\n",
       "  </thead>\n",
       "  <tbody>\n",
       "    <tr>\n",
       "      <th>1961</th>\n",
       "      <td>NaN</td>\n",
       "      <td>NaN</td>\n",
       "      <td>NaN</td>\n",
       "    </tr>\n",
       "    <tr>\n",
       "      <th>1962</th>\n",
       "      <td>NaN</td>\n",
       "      <td>NaN</td>\n",
       "      <td>NaN</td>\n",
       "    </tr>\n",
       "    <tr>\n",
       "      <th>1963</th>\n",
       "      <td>NaN</td>\n",
       "      <td>NaN</td>\n",
       "      <td>NaN</td>\n",
       "    </tr>\n",
       "    <tr>\n",
       "      <th>...</th>\n",
       "      <td>...</td>\n",
       "      <td>...</td>\n",
       "      <td>...</td>\n",
       "    </tr>\n",
       "    <tr>\n",
       "      <th>2013</th>\n",
       "      <td>16.912914</td>\n",
       "      <td>40.078571</td>\n",
       "      <td>-16.514286</td>\n",
       "    </tr>\n",
       "    <tr>\n",
       "      <th>2014</th>\n",
       "      <td>16.914605</td>\n",
       "      <td>40.200000</td>\n",
       "      <td>-17.021429</td>\n",
       "    </tr>\n",
       "    <tr>\n",
       "      <th>2015</th>\n",
       "      <td>17.059644</td>\n",
       "      <td>40.278571</td>\n",
       "      <td>-17.285714</td>\n",
       "    </tr>\n",
       "  </tbody>\n",
       "</table>\n",
       "<p>55 rows × 3 columns</p>\n",
       "</div>"
      ],
      "text/plain": [
       "         Mean T      Max T      Min T\n",
       "Year                                 \n",
       "1961        NaN        NaN        NaN\n",
       "1962        NaN        NaN        NaN\n",
       "1963        NaN        NaN        NaN\n",
       "...         ...        ...        ...\n",
       "2013  16.912914  40.078571 -16.514286\n",
       "2014  16.914605  40.200000 -17.021429\n",
       "2015  17.059644  40.278571 -17.285714\n",
       "\n",
       "[55 rows x 3 columns]"
      ]
     },
     "execution_count": 50,
     "metadata": {},
     "output_type": "execute_result"
    }
   ],
   "source": [
    "yearly_temps"
   ]
  },
  {
   "cell_type": "markdown",
   "metadata": {},
   "source": [
    "Wouldn't it be nice if there were an easy way to combine `yearly_temps` and `emissions`? \n",
    "\n",
    "Pandas' [merge](https://pandas.pydata.org/docs/reference/api/pandas.merge.html#pandas.merge) function does just that. \n",
    "\n",
    "The code:\n"
   ]
  },
  {
   "cell_type": "code",
   "execution_count": 51,
   "metadata": {},
   "outputs": [
    {
     "data": {
      "text/html": [
       "<div>\n",
       "<style scoped>\n",
       "    .dataframe tbody tr th:only-of-type {\n",
       "        vertical-align: middle;\n",
       "    }\n",
       "\n",
       "    .dataframe tbody tr th {\n",
       "        vertical-align: top;\n",
       "    }\n",
       "\n",
       "    .dataframe thead th {\n",
       "        text-align: right;\n",
       "    }\n",
       "</style>\n",
       "<table border=\"1\" class=\"dataframe\">\n",
       "  <thead>\n",
       "    <tr style=\"text-align: right;\">\n",
       "      <th></th>\n",
       "      <th>Mean T</th>\n",
       "      <th>Max T</th>\n",
       "      <th>Min T</th>\n",
       "      <th>Coal</th>\n",
       "      <th>Crude Oil</th>\n",
       "      <th>Natural Gas</th>\n",
       "      <th>Fuels</th>\n",
       "      <th>Roll F</th>\n",
       "    </tr>\n",
       "    <tr>\n",
       "      <th>Year</th>\n",
       "      <th></th>\n",
       "      <th></th>\n",
       "      <th></th>\n",
       "      <th></th>\n",
       "      <th></th>\n",
       "      <th></th>\n",
       "      <th></th>\n",
       "      <th></th>\n",
       "    </tr>\n",
       "  </thead>\n",
       "  <tbody>\n",
       "    <tr>\n",
       "      <th>1965</th>\n",
       "      <td>NaN</td>\n",
       "      <td>NaN</td>\n",
       "      <td>NaN</td>\n",
       "      <td>16152.0</td>\n",
       "      <td>18055.0</td>\n",
       "      <td>6306.0</td>\n",
       "      <td>81026.0</td>\n",
       "      <td>NaN</td>\n",
       "    </tr>\n",
       "    <tr>\n",
       "      <th>1966</th>\n",
       "      <td>NaN</td>\n",
       "      <td>NaN</td>\n",
       "      <td>NaN</td>\n",
       "      <td>16332.0</td>\n",
       "      <td>19442.0</td>\n",
       "      <td>6872.0</td>\n",
       "      <td>85292.0</td>\n",
       "      <td>NaN</td>\n",
       "    </tr>\n",
       "    <tr>\n",
       "      <th>1967</th>\n",
       "      <td>15.589849</td>\n",
       "      <td>36.742857</td>\n",
       "      <td>-20.364286</td>\n",
       "      <td>16071.0</td>\n",
       "      <td>20830.0</td>\n",
       "      <td>7378.0</td>\n",
       "      <td>88558.0</td>\n",
       "      <td>NaN</td>\n",
       "    </tr>\n",
       "    <tr>\n",
       "      <th>...</th>\n",
       "      <td>...</td>\n",
       "      <td>...</td>\n",
       "      <td>...</td>\n",
       "      <td>...</td>\n",
       "      <td>...</td>\n",
       "      <td>...</td>\n",
       "      <td>...</td>\n",
       "      <td>...</td>\n",
       "    </tr>\n",
       "    <tr>\n",
       "      <th>2013</th>\n",
       "      <td>16.912914</td>\n",
       "      <td>40.078571</td>\n",
       "      <td>-16.514286</td>\n",
       "      <td>44953.0</td>\n",
       "      <td>50698.0</td>\n",
       "      <td>33715.0</td>\n",
       "      <td>383187.0</td>\n",
       "      <td>369226.0</td>\n",
       "    </tr>\n",
       "    <tr>\n",
       "      <th>2014</th>\n",
       "      <td>16.914605</td>\n",
       "      <td>40.200000</td>\n",
       "      <td>-17.021429</td>\n",
       "      <td>44917.0</td>\n",
       "      <td>51110.0</td>\n",
       "      <td>33987.0</td>\n",
       "      <td>387088.0</td>\n",
       "      <td>376676.0</td>\n",
       "    </tr>\n",
       "    <tr>\n",
       "      <th>2015</th>\n",
       "      <td>17.059644</td>\n",
       "      <td>40.278571</td>\n",
       "      <td>-17.285714</td>\n",
       "      <td>43787.0</td>\n",
       "      <td>52053.0</td>\n",
       "      <td>34742.0</td>\n",
       "      <td>389813.0</td>\n",
       "      <td>381935.0</td>\n",
       "    </tr>\n",
       "  </tbody>\n",
       "</table>\n",
       "<p>51 rows × 8 columns</p>\n",
       "</div>"
      ],
      "text/plain": [
       "         Mean T      Max T      Min T     Coal  Crude Oil  Natural Gas  \\\n",
       "Year                                                                     \n",
       "1965        NaN        NaN        NaN  16152.0    18055.0       6306.0   \n",
       "1966        NaN        NaN        NaN  16332.0    19442.0       6872.0   \n",
       "1967  15.589849  36.742857 -20.364286  16071.0    20830.0       7378.0   \n",
       "...         ...        ...        ...      ...        ...          ...   \n",
       "2013  16.912914  40.078571 -16.514286  44953.0    50698.0      33715.0   \n",
       "2014  16.914605  40.200000 -17.021429  44917.0    51110.0      33987.0   \n",
       "2015  17.059644  40.278571 -17.285714  43787.0    52053.0      34742.0   \n",
       "\n",
       "         Fuels    Roll F  \n",
       "Year                      \n",
       "1965   81026.0       NaN  \n",
       "1966   85292.0       NaN  \n",
       "1967   88558.0       NaN  \n",
       "...        ...       ...  \n",
       "2013  383187.0  369226.0  \n",
       "2014  387088.0  376676.0  \n",
       "2015  389813.0  381935.0  \n",
       "\n",
       "[51 rows x 8 columns]"
      ]
     },
     "execution_count": 51,
     "metadata": {},
     "output_type": "execute_result"
    }
   ],
   "source": [
    "merged_df = pd.merge(yearly_temps, emissions, left_index = True,right_index=True)\n",
    "merged_df"
   ]
  },
  {
   "cell_type": "markdown",
   "metadata": {},
   "source": [
    "The DataFrame contains the union of the columns appearing in `yearly_temps` and `emissions` but includes only rows built from the\n",
    "rows in `yearly_temps` and `emissions` that contain the same value in the Year column.\n",
    "\n",
    "Now that we have the emissions and temperature information in the same DataFrame, it is easy to look at how things are `correlated`\n",
    "with each other.\n",
    "\n",
    "Firstly,we conver `index` to the `column`"
   ]
  },
  {
   "cell_type": "code",
   "execution_count": 52,
   "metadata": {},
   "outputs": [
    {
     "data": {
      "text/html": [
       "<div>\n",
       "<style scoped>\n",
       "    .dataframe tbody tr th:only-of-type {\n",
       "        vertical-align: middle;\n",
       "    }\n",
       "\n",
       "    .dataframe tbody tr th {\n",
       "        vertical-align: top;\n",
       "    }\n",
       "\n",
       "    .dataframe thead th {\n",
       "        text-align: right;\n",
       "    }\n",
       "</style>\n",
       "<table border=\"1\" class=\"dataframe\">\n",
       "  <thead>\n",
       "    <tr style=\"text-align: right;\">\n",
       "      <th></th>\n",
       "      <th>Year</th>\n",
       "      <th>Mean T</th>\n",
       "      <th>Max T</th>\n",
       "      <th>Min T</th>\n",
       "      <th>Coal</th>\n",
       "      <th>Crude Oil</th>\n",
       "      <th>Natural Gas</th>\n",
       "      <th>Fuels</th>\n",
       "      <th>Roll F</th>\n",
       "    </tr>\n",
       "  </thead>\n",
       "  <tbody>\n",
       "    <tr>\n",
       "      <th>0</th>\n",
       "      <td>1965</td>\n",
       "      <td>NaN</td>\n",
       "      <td>NaN</td>\n",
       "      <td>NaN</td>\n",
       "      <td>16152.0</td>\n",
       "      <td>18055.0</td>\n",
       "      <td>6306.0</td>\n",
       "      <td>81026.0</td>\n",
       "      <td>NaN</td>\n",
       "    </tr>\n",
       "    <tr>\n",
       "      <th>1</th>\n",
       "      <td>1966</td>\n",
       "      <td>NaN</td>\n",
       "      <td>NaN</td>\n",
       "      <td>NaN</td>\n",
       "      <td>16332.0</td>\n",
       "      <td>19442.0</td>\n",
       "      <td>6872.0</td>\n",
       "      <td>85292.0</td>\n",
       "      <td>NaN</td>\n",
       "    </tr>\n",
       "    <tr>\n",
       "      <th>2</th>\n",
       "      <td>1967</td>\n",
       "      <td>15.589849</td>\n",
       "      <td>36.742857</td>\n",
       "      <td>-20.364286</td>\n",
       "      <td>16071.0</td>\n",
       "      <td>20830.0</td>\n",
       "      <td>7378.0</td>\n",
       "      <td>88558.0</td>\n",
       "      <td>NaN</td>\n",
       "    </tr>\n",
       "    <tr>\n",
       "      <th>...</th>\n",
       "      <td>...</td>\n",
       "      <td>...</td>\n",
       "      <td>...</td>\n",
       "      <td>...</td>\n",
       "      <td>...</td>\n",
       "      <td>...</td>\n",
       "      <td>...</td>\n",
       "      <td>...</td>\n",
       "      <td>...</td>\n",
       "    </tr>\n",
       "    <tr>\n",
       "      <th>48</th>\n",
       "      <td>2013</td>\n",
       "      <td>16.912914</td>\n",
       "      <td>40.078571</td>\n",
       "      <td>-16.514286</td>\n",
       "      <td>44953.0</td>\n",
       "      <td>50698.0</td>\n",
       "      <td>33715.0</td>\n",
       "      <td>383187.0</td>\n",
       "      <td>369226.0</td>\n",
       "    </tr>\n",
       "    <tr>\n",
       "      <th>49</th>\n",
       "      <td>2014</td>\n",
       "      <td>16.914605</td>\n",
       "      <td>40.200000</td>\n",
       "      <td>-17.021429</td>\n",
       "      <td>44917.0</td>\n",
       "      <td>51110.0</td>\n",
       "      <td>33987.0</td>\n",
       "      <td>387088.0</td>\n",
       "      <td>376676.0</td>\n",
       "    </tr>\n",
       "    <tr>\n",
       "      <th>50</th>\n",
       "      <td>2015</td>\n",
       "      <td>17.059644</td>\n",
       "      <td>40.278571</td>\n",
       "      <td>-17.285714</td>\n",
       "      <td>43787.0</td>\n",
       "      <td>52053.0</td>\n",
       "      <td>34742.0</td>\n",
       "      <td>389813.0</td>\n",
       "      <td>381935.0</td>\n",
       "    </tr>\n",
       "  </tbody>\n",
       "</table>\n",
       "<p>51 rows × 9 columns</p>\n",
       "</div>"
      ],
      "text/plain": [
       "    Year     Mean T      Max T      Min T     Coal  Crude Oil  Natural Gas  \\\n",
       "0   1965        NaN        NaN        NaN  16152.0    18055.0       6306.0   \n",
       "1   1966        NaN        NaN        NaN  16332.0    19442.0       6872.0   \n",
       "2   1967  15.589849  36.742857 -20.364286  16071.0    20830.0       7378.0   \n",
       "..   ...        ...        ...        ...      ...        ...          ...   \n",
       "48  2013  16.912914  40.078571 -16.514286  44953.0    50698.0      33715.0   \n",
       "49  2014  16.914605  40.200000 -17.021429  44917.0    51110.0      33987.0   \n",
       "50  2015  17.059644  40.278571 -17.285714  43787.0    52053.0      34742.0   \n",
       "\n",
       "       Fuels    Roll F  \n",
       "0    81026.0       NaN  \n",
       "1    85292.0       NaN  \n",
       "2    88558.0       NaN  \n",
       "..       ...       ...  \n",
       "48  383187.0  369226.0  \n",
       "49  387088.0  376676.0  \n",
       "50  389813.0  381935.0  \n",
       "\n",
       "[51 rows x 9 columns]"
      ]
     },
     "execution_count": 52,
     "metadata": {},
     "output_type": "execute_result"
    }
   ],
   "source": [
    "merged_df.reset_index(inplace=True)\n",
    "merged_df"
   ]
  },
  {
   "cell_type": "markdown",
   "metadata": {},
   "source": [
    "Then,look at how things are correlated with each other"
   ]
  },
  {
   "cell_type": "code",
   "execution_count": 53,
   "metadata": {},
   "outputs": [
    {
     "name": "stdout",
     "output_type": "stream",
     "text": [
      "             Year  Mean T  Max T  Min T  Coal  Crude Oil  Natural Gas  Fuels  Roll F\n",
      "Year         1.00    0.97   0.92   0.71  0.95       0.96         0.99   0.98    0.98\n",
      "Mean T       0.97    1.00   0.94   0.68  0.88       0.95         0.95   0.95    0.96\n",
      "Max T        0.92    0.94   1.00   0.63  0.91       0.94         0.92   0.95    0.96\n",
      "Min T        0.71    0.68   0.63   1.00  0.70       0.73         0.73   0.71    0.70\n",
      "Coal         0.95    0.88   0.91   0.70  1.00       0.91         0.97   0.95    0.96\n",
      "Crude Oil    0.96    0.95   0.94   0.73  0.91       1.00         0.97   0.99    0.98\n",
      "Natural Gas  0.99    0.95   0.92   0.73  0.97       0.97         1.00   0.99    0.99\n",
      "Fuels        0.98    0.95   0.95   0.71  0.95       0.99         0.99   1.00    0.99\n",
      "Roll F       0.98    0.96   0.96   0.70  0.96       0.98         0.99   0.99    1.00\n"
     ]
    }
   ],
   "source": [
    "print(merged_df.corr().round(2).to_string())"
   ]
  },
  {
   "cell_type": "markdown",
   "metadata": {},
   "source": [
    "We see that `global fuel consumption` in previous years is indeed `highly correlated` with both the mean and maximum `temperature`in\n",
    "these U.S. cities. \n",
    "\n",
    "Does this imply that increased fuel consumption is causing the rise in temperature? It does not. \n",
    "\n",
    "Notice that both are highly correlated with year. Perhaps some lurking variable is also correlated with year and is the causal factor. \n",
    "\n",
    "What we can say from a `statistical` perspective, is that the data does `not contradict` the widely accepted `scientific hypothesis` that \n",
    "\n",
    "* `the increased use of fossil fuels generates greenhouse gasses that have caused temperatures to rise.`\n"
   ]
  },
  {
   "cell_type": "markdown",
   "metadata": {},
   "source": [
    "## Further Reading\n",
    "\n",
    "This concludes our brief look at Pandas. We have only scratched the surface of what it offers. We will use it later in the book and\n",
    "introduce a few more features. If you want to learn more, there are many online resources and some excellent inexpensive books.\n",
    "\n",
    "* The website https://www.dataschool.io/best-python-pandas-resources/ lists some of these\n",
    "\n",
    "\n",
    "\n",
    "* The officical utorials: https://pandas.pydata.org/docs/getting_started/intro_tutorials/index.html"
   ]
  },
  {
   "cell_type": "code",
   "execution_count": null,
   "metadata": {},
   "outputs": [],
   "source": []
  }
 ],
 "metadata": {
  "kernelspec": {
   "display_name": "Python 3.10.5 64-bit",
   "language": "python",
   "name": "python3"
  },
  "language_info": {
   "codemirror_mode": {
    "name": "ipython",
    "version": 3
   },
   "file_extension": ".py",
   "mimetype": "text/x-python",
   "name": "python",
   "nbconvert_exporter": "python",
   "pygments_lexer": "ipython3",
   "version": "3.10.5"
  },
  "latex_envs": {
   "LaTeX_envs_menu_present": true,
   "autoclose": false,
   "autocomplete": true,
   "bibliofile": "biblio.bib",
   "cite_by": "apalike",
   "current_citInitial": 1,
   "eqLabelWithNumbers": true,
   "eqNumInitial": 1,
   "hotkeys": {
    "equation": "Ctrl-E",
    "itemize": "Ctrl-I"
   },
   "labels_anchors": false,
   "latex_user_defs": false,
   "report_style_numbering": false,
   "user_envs_cfg": false
  },
  "toc": {
   "base_numbering": 1,
   "nav_menu": {},
   "number_sections": false,
   "sideBar": true,
   "skip_h1_title": false,
   "title_cell": "Table of Contents",
   "title_sidebar": "Contents",
   "toc_cell": false,
   "toc_position": {
    "height": "calc(100% - 180px)",
    "left": "10px",
    "top": "150px",
    "width": "182.475px"
   },
   "toc_section_display": true,
   "toc_window_display": true
  },
  "vscode": {
   "interpreter": {
    "hash": "369f2c481f4da34e4445cda3fffd2e751bd1c4d706f27375911949ba6bb62e1c"
   }
  }
 },
 "nbformat": 4,
 "nbformat_minor": 4
}
