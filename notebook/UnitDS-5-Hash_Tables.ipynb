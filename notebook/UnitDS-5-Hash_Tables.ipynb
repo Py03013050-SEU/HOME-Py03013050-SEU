{
 "cells": [
  {
   "cell_type": "markdown",
   "metadata": {},
   "source": [
    "# Hash Tables\n",
    "\n",
    "## 1 The simple example\n",
    "The table store the student info,every the student info recored has the uniqe StudentID"
   ]
  },
  {
   "cell_type": "code",
   "execution_count": 14,
   "metadata": {},
   "outputs": [
    {
     "name": "stdout",
     "output_type": "stream",
     "text": [
      "Overwriting ./data/StudentIDInfo.csv\n"
     ]
    }
   ],
   "source": [
    "%%file ./data/StudentIDInfo.csv\n",
    "学号,姓名\n",
    "3118603,张馨尹\n",
    "3118601,付嘉宁\n",
    "3118616,乐辰前\n",
    "3118604,张秋维\n",
    "3118614,迟洪均\n",
    "3118605,周雪\n",
    "3118623,魏翰泽\n",
    "3118606,温舒馨\n",
    "3118609,马婧仪\n",
    "3118613,汪伊婧"
   ]
  },
  {
   "cell_type": "markdown",
   "metadata": {},
   "source": [
    "```python\n",
    "StudentIDInfoList=[(id,name),...]\n",
    "```"
   ]
  },
  {
   "cell_type": "code",
   "execution_count": 25,
   "metadata": {},
   "outputs": [],
   "source": [
    "import  csv\n",
    "filename=\"./data/StudentIDInfo.csv\"\n",
    "csvfile = open(filename, 'r',encoding=\"utf-8\")\n",
    "csvdata = csv.DictReader(csvfile)\n",
    "StudentIDInfoList=[]\n",
    "for line in csvdata:\n",
    "    id = int(line['学号'])\n",
    "    name=line['姓名']\n",
    "    StudentIDInfoList.append((id,name)) \n",
    "csvfile.close()  "
   ]
  },
  {
   "cell_type": "code",
   "execution_count": 18,
   "metadata": {},
   "outputs": [
    {
     "name": "stdout",
     "output_type": "stream",
     "text": [
      "(3118603, '张馨尹')\n",
      "(3118601, '付嘉宁')\n",
      "(3118616, '乐辰前')\n",
      "(3118604, '张秋维')\n",
      "(3118614, '迟洪均')\n",
      "(3118605, '周雪')\n",
      "(3118623, '魏翰泽')\n",
      "(3118606, '温舒馨')\n",
      "(3118609, '马婧仪')\n",
      "(3118613, '汪伊婧')\n"
     ]
    }
   ],
   "source": [
    "for item in   StudentIDInfoList:\n",
    "    print(item)"
   ]
  },
  {
   "cell_type": "markdown",
   "metadata": {},
   "source": [
    "Get get student info from StudentID"
   ]
  },
  {
   "cell_type": "code",
   "execution_count": 21,
   "metadata": {},
   "outputs": [
    {
     "name": "stdout",
     "output_type": "stream",
     "text": [
      "乐辰前\n"
     ]
    }
   ],
   "source": [
    "CurStudentID=3118616\n",
    "for item in  StudentIDInfoList:\n",
    "    if CurStudentID==item[0]:\n",
    "        print(item[1])       "
   ]
  },
  {
   "cell_type": "markdown",
   "metadata": {},
   "source": [
    "The Linear Search will perform  $𝑂(N)$  \n",
    "\n",
    "If we put merge sort together with binary search, we have a nice way to search lists. We use merge sort to preprocess the list in order $𝑂(n*log(n))$ time, and then we use binary search to test whether elements are in the list in order $𝑂(log(n))$ time. If we search the list k times, the overall time complexity is order $𝑂(n*log(n) + k*log(n))$\n",
    "\n",
    "This is good, but we can still **ask**, `is logarithmic the best` that we can do for search when we are willing to do some preprocessing?"
   ]
  },
  {
   "cell_type": "markdown",
   "metadata": {},
   "source": [
    "When we introduced the type <font color=\"blue\">dict</font> dictionaries use a technique called <b>hashing</b> to do <b>the lookup in time</b> \n",
    "\n",
    "* that is nearly `independent` of the `size` of the dictionary\n",
    "\n",
    "The basic idea behind hashing is\n",
    "\n",
    "* **convert the key to an integer, and then use that integer to index into a list**\n",
    "\n",
    "which can be done in constant time. "
   ]
  },
  {
   "cell_type": "markdown",
   "metadata": {},
   "source": [
    "For example we use the remainder `key%ListSize` as the index record in the list"
   ]
  },
  {
   "cell_type": "code",
   "execution_count": 47,
   "metadata": {},
   "outputs": [],
   "source": [
    "import  csv\n",
    "filename=\"./data/StudentIDInfo.csv\"\n",
    "csvfile = open(filename, 'r',encoding=\"utf-8\")\n",
    "csvdata = csv.DictReader(csvfile)\n",
    "\n",
    "# set the size of the store list\n",
    "ListSize=30;\n",
    "# the store table \n",
    "StudentIDInfoList=[None for i in range(ListSize)]\n",
    "for line in csvdata:\n",
    "    id = int(line['学号'])\n",
    "    name=line['姓名']\n",
    "    # convert the key to an integer: index of the list\n",
    "    Index_StudentIDInfoList= id%ListSize\n",
    "    # put the record in the index of the list\n",
    "    StudentIDInfoList[Index_StudentIDInfoList]=(id,name)\n",
    "csvfile.close() "
   ]
  },
  {
   "cell_type": "code",
   "execution_count": 43,
   "metadata": {},
   "outputs": [
    {
     "name": "stdout",
     "output_type": "stream",
     "text": [
      "None\n",
      "None\n",
      "None\n",
      "(3118623, '魏翰泽')\n",
      "None\n",
      "None\n",
      "None\n",
      "None\n",
      "None\n",
      "None\n",
      "None\n",
      "(3118601, '付嘉宁')\n",
      "None\n",
      "(3118603, '张馨尹')\n",
      "(3118604, '张秋维')\n",
      "(3118605, '周雪')\n",
      "(3118606, '温舒馨')\n",
      "None\n",
      "None\n",
      "(3118609, '马婧仪')\n",
      "None\n",
      "None\n",
      "None\n",
      "(3118613, '汪伊婧')\n",
      "(3118614, '迟洪均')\n",
      "None\n",
      "(3118616, '乐辰前')\n",
      "None\n",
      "None\n",
      "None\n"
     ]
    }
   ],
   "source": [
    "for item in  StudentIDInfoList:\n",
    "    print(item)"
   ]
  },
  {
   "cell_type": "markdown",
   "metadata": {},
   "source": [
    "Get get student info from StudentID with the  Index_StudentIDInfoList\n",
    "\n",
    "It is done in **constant** time that is nearly `independent` of the `size` of StudentIDInfoList\n",
    "\n",
    "The complexity is $O(1)$"
   ]
  },
  {
   "cell_type": "code",
   "execution_count": 44,
   "metadata": {},
   "outputs": [
    {
     "data": {
      "text/plain": [
       "(3118616, '乐辰前')"
      ]
     },
     "execution_count": 44,
     "metadata": {},
     "output_type": "execute_result"
    }
   ],
   "source": [
    "CurStudentID=3118616\n",
    "Index_StudentIDInfoList=CurStudentID%ListSize\n",
    "StudentIDInfoList[Index_StudentIDInfoList]"
   ]
  },
  {
   "cell_type": "code",
   "execution_count": 46,
   "metadata": {},
   "outputs": [
    {
     "data": {
      "text/plain": [
       "(3118605, '周雪')"
      ]
     },
     "execution_count": 46,
     "metadata": {},
     "output_type": "execute_result"
    }
   ],
   "source": [
    "CurStudentID=3118605\n",
    "Index_StudentIDInfoList=CurStudentID%ListSize\n",
    "StudentIDInfoList[Index_StudentIDInfoList]"
   ]
  },
  {
   "cell_type": "markdown",
   "metadata": {},
   "source": [
    "**Hash functions** : any function that can be used to map data of `arbitrary` size to `fixed-size` values.\n",
    "\n",
    "* `CurStudentID%ListSize`\n",
    "\n",
    "**Hash value** : The values returned by a hash function are called \n",
    "    \n",
    "* `Index_StudentIDInfoList=CurStudentID%ListSize`\n",
    "\n",
    "**Hash table**: The values are usually used to index a fixed-size table called a hash table.\n",
    "    \n",
    "* `StudentIDInfoList=[None for i in range(ListSize)]`"
   ]
  },
  {
   "cell_type": "markdown",
   "metadata": {},
   "source": [
    "**The process of search:**\n",
    "\n",
    "* key $>$ the hash function $>$ an address in the hash table $>$ get valve in the hash table"
   ]
  },
  {
   "cell_type": "markdown",
   "metadata": {},
   "source": [
    "## 2 Collision \n",
    "\n",
    "**Collision**: a situation that occurs when two distinct pieces of data have the same hash value\n",
    "\n",
    "For a a hash function. if the space of possible outputs is **smaller** than the space of possible inputs, \n",
    "\n",
    "* a hash function is a `many`-to-`one` mapping. \n",
    "\n",
    "the different keys are mapped to the same hash value,it is called a <b>collision</b>. \n",
    "\n",
    "For example: the simple hash function \n",
    "\n",
    "* `id%ListSize`\n",
    "\n",
    "the remainder is the hase value of key is the remainder `key%numIndices`\n",
    "\n",
    "If\n",
    "\n",
    "* the input sizes of key is :10\n",
    "\n",
    "* the output sizes of hash value:ListSize is 5\n",
    "\n",
    "you may see many Collision!"
   ]
  },
  {
   "cell_type": "code",
   "execution_count": 48,
   "metadata": {},
   "outputs": [
    {
     "name": "stdout",
     "output_type": "stream",
     "text": [
      "3118603 3\n",
      "3118601 1\n",
      "3118616 1\n",
      "3118604 4\n",
      "3118614 4\n",
      "3118605 0\n",
      "3118623 3\n",
      "3118606 1\n",
      "3118609 4\n",
      "3118613 3\n"
     ]
    }
   ],
   "source": [
    "import  csv\n",
    "filename=\"./data/StudentIDInfo.csv\"\n",
    "csvfile = open(filename, 'r',encoding=\"utf-8\")\n",
    "csvdata = csv.DictReader(csvfile)\n",
    "\n",
    "# set the size of the store list\n",
    "ListSize=5;\n",
    "# the store table \n",
    "for line in csvdata:\n",
    "    id = int(line['学号'])\n",
    "    # convert the key to an integer: index of the list\n",
    "    Index_StudentIDInfoList= id%ListSize\n",
    "    print(id, Index_StudentIDInfoList)\n",
    "csvfile.close()  "
   ]
  },
  {
   "cell_type": "markdown",
   "metadata": {},
   "source": [
    "A good hash function produces :\n",
    "\n",
    "* <b>a uniform distribution</b>\n",
    "\n",
    "every output in the range is equally probable, which `minimizes` the probability of `collisions`\n",
    "\n",
    "**Designing good hash functions** is surprisingly challenging.\n",
    "\n",
    "* The problem is that one wants the outputs to be uniformly distributed given the expected distribution of inputs"
   ]
  },
  {
   "cell_type": "markdown",
   "metadata": {},
   "source": [
    "## 3 Handle collisions and hash bucket\n",
    "\n",
    "\n",
    "There are different ways through which a collision can be resolved. We will look at a method called **Separate Chaining(分离链接法)**, which aims to create independent chains for all items that have the same hash index.\n",
    "\n",
    "In the method known as separate chaining, `each bucket is independent`, and has some sort of list of entries with the same index. \n",
    "\n",
    "![](./img/ds/Hashcollisionbyseparatechaining.jpg)\n",
    "\n",
    "\n",
    "The basic idea is to represent \n",
    "\n",
    "1. **an instance of class intDict** by `a list` of `hash buckets`, where **each bucket** is a list of **key/value** pairs. \n",
    "\n",
    "```python\n",
    "def __init__(self, numBuckets):\n",
    "   \"\"\"\n",
    "   The instance variable buckets is initialized to a list of numBuckets empty lists\n",
    "   \"\"\"\n",
    "\n",
    "        self.buckets = []\n",
    "        self.numBuckets = numBuckets\n",
    "        for i in range(numBuckets):\n",
    "            self.buckets.append([]) \n",
    "```\n",
    "\n",
    "2. By making each bucket a list, we handle collisions by storing all of the values that hash to the same bucket in the list</b>. \n",
    "\n",
    "```python\n",
    "def addEntry(self, dictKey, dictVal):\n",
    "    \"\"\"\n",
    "     To store or look up an entry with key **dictKey\n",
    "    \"\"\" \n",
    "    hashBucket = self.buckets[dictKey%self.numBuckets] # hashing the location `hashBucket` list in  the list of self.buckets \n",
    "    for i in range(len(hashBucket)):\n",
    "        if hashBucket[i][0] == dictKey:# the item in each bucket is tuple: (dictKey, dictVal)\n",
    "            hashBucket[i] = (dictKey, dictVal) #if one was found,replace\n",
    "            return\n",
    "         hashBucket.append((dictKey, dictVal)) # append a new entry (dictKey, dictVal) to the bucket if none was found.\n",
    "```      \n",
    "   \n",
    "we use <b>the hash function i%j to convert dictKey into an integer</b>, \n",
    "```python  \n",
    "    hashBucket = self.buckets[dictKey%self.numBuckets]\n",
    "```    \n",
    "and use that integer to index into buckets \n",
    "```python\n",
    "   hashBucket[i]\n",
    "```\n",
    "to find the hash bucket associated with **dictKey**: if <b>a value is to be stored</b>,then  \n",
    "\n",
    "* if one was found:  <b>replace</b> the value in the existing entry,  \n",
    "\n",
    "* if none was found: <b>append</b> a new entry to the bucket\n",
    "\n",
    "\n",
    "* **3 def getValue(self, dictKey):**\n",
    "\n",
    "We then search that bucket (which is a list) linearly to see if there is an entry with the key dictKey.\n",
    "\n",
    "```python \n",
    " for e in hashBucket:\n",
    "            if e[0] == dictKey: // key\n",
    "                return e[1]     // valu\n",
    "```\n",
    "\n",
    "If we are doing <b>a lookup</b> and there is an entry with the key, we simply return the value stored with that key. \n",
    "\n",
    "If there is no entry with that key, we return None. \n",
    "\n",
    "\n"
   ]
  },
  {
   "cell_type": "code",
   "execution_count": 6,
   "metadata": {},
   "outputs": [],
   "source": [
    "class intDict(object):\n",
    "    \"\"\"A dictionary with integer keys\"\"\"\n",
    "    \n",
    "    def __init__(self, numBuckets):\n",
    "        \"\"\"Create an empty dictionary\n",
    "           buckets is initialized to a list of numBuckets empty lists.\n",
    "        \"\"\"\n",
    "        self.buckets = []\n",
    "        self.numBuckets = numBuckets\n",
    "        for i in range(numBuckets):\n",
    "            self.buckets.append([]) # empty list\n",
    "            \n",
    "    def addEntry(self, dictKey, dictVal):\n",
    "        \"\"\"Assumes dictKey an int.  Adds an entry.\"\"\"\n",
    "        hashBucket = self.buckets[dictKey%self.numBuckets]\n",
    "        for i in range(len(hashBucket)):\n",
    "            if hashBucket[i][0] == dictKey:\n",
    "                hashBucket[i] = (dictKey, dictVal) #if one was found,replace\n",
    "                return\n",
    "        hashBucket.append((dictKey, dictVal)) # append a new entry to the bucket if none was found.\n",
    "        \n",
    "    def getValue(self, dictKey):\n",
    "        \"\"\"Assumes dictKey an int.  Returns entry associated\n",
    "           with the key dictKey\"\"\"\n",
    "        hashBucket = self.buckets[dictKey%self.numBuckets]\n",
    "        for e in hashBucket:\n",
    "            if e[0] == dictKey: # key\n",
    "                return e[1]     # value \n",
    "        return None\n",
    "    \n",
    "    def __str__(self):\n",
    "        result = '{'\n",
    "        for b in self.buckets:\n",
    "            for e in b:\n",
    "                result = result + str(e[0]) + ':' + str(e[1]) + ','\n",
    "        return result[:-1] + '}' #result[:-1] omits the last comma\n",
    "\n"
   ]
  },
  {
   "cell_type": "markdown",
   "metadata": {},
   "source": [
    "The following code first constructs an **intDict** with twenty entries. \n",
    "\n",
    "The values of the entries are the integers 0 to 19.\n",
    "\n",
    "The **keys** are chosen at random from <b>integers in the range 0 to 10^5 - 1<b>."
   ]
  },
  {
   "cell_type": "markdown",
   "metadata": {},
   "source": [
    "## 4 Example:\n",
    "\n",
    "### 1Twenty entries"
   ]
  },
  {
   "cell_type": "code",
   "execution_count": 16,
   "metadata": {},
   "outputs": [
    {
     "name": "stdout",
     "output_type": "stream",
     "text": [
      "The Entrys (key,i)is:\n",
      "(17611, 0)\n",
      "(74606, 1)\n",
      "(8271, 2)\n",
      "(33432, 3)\n",
      "(15455, 4)\n",
      "(64937, 5)\n",
      "(99740, 6)\n",
      "(58915, 7)\n",
      "(61898, 8)\n",
      "(85405, 9)\n",
      "(49756, 10)\n",
      "(27519, 11)\n",
      "(12302, 12)\n",
      "(63944, 13)\n",
      "(3715, 14)\n",
      "(51093, 15)\n",
      "(56723, 16)\n",
      "(79618, 17)\n",
      "(99913, 18)\n",
      "(276, 19)\n"
     ]
    }
   ],
   "source": [
    "import random #a standard library module\n",
    "Entrys=[]\n",
    "NumEntry=20\n",
    "\n",
    "random.seed(1)\n",
    "\n",
    "for i in range(NumEntry):\n",
    "    #choose a random int between 0 and 10**5\n",
    "    key = random.randint(0, 10**5)\n",
    "    Entrys.append((key,i))\n",
    "\n",
    "print('The Entrys (key,i)is:')\n",
    "for entry in Entrys:\n",
    "    print(entry)"
   ]
  },
  {
   "cell_type": "markdown",
   "metadata": {},
   "source": [
    "### 2 Search key->value in <font color=\"blue\">list</font> of Entrys"
   ]
  },
  {
   "cell_type": "code",
   "execution_count": 9,
   "metadata": {},
   "outputs": [],
   "source": [
    "def searchintListbyKey(Entrys,key):\n",
    "    value=None\n",
    "    for item in Entrys:\n",
    "        if (key==item[0]):\n",
    "            value=item[1] \n",
    "            break\n",
    "    return value"
   ]
  },
  {
   "cell_type": "code",
   "execution_count": 10,
   "metadata": {},
   "outputs": [
    {
     "name": "stdout",
     "output_type": "stream",
     "text": [
      "49756 10\n"
     ]
    }
   ],
   "source": [
    "value=searchintListbyKey(Entrys,Entrys[10][0])\n",
    "print(Entrys[10][0],value)"
   ]
  },
  {
   "cell_type": "markdown",
   "metadata": {},
   "source": [
    "### 3 Put entrys into <font color=\"blue\">intDict</font>\n",
    "\n",
    "* numBuckets =29"
   ]
  },
  {
   "cell_type": "code",
   "execution_count": 11,
   "metadata": {},
   "outputs": [
    {
     "name": "stdout",
     "output_type": "stream",
     "text": [
      "The intDict is:\n",
      "{85405:9,3715:14,8271:2,64937:5,12302:12,17611:0,99913:18,99740:6,61898:8,79618:17,276:19,58915:7,74606:1,49756:10,33432:3,51093:15,15455:4,27519:11,63944:13,56723:16}\n",
      "\n",
      " The hase buckets are:\n",
      "BucketID 0    [(85405, 9)]\n",
      "BucketID 1    []\n",
      "BucketID 2    []\n",
      "BucketID 3    [(3715, 14)]\n",
      "BucketID 4    []\n",
      "BucketID 5    []\n",
      "BucketID 6    [(8271, 2), (64937, 5), (12302, 12)]\n",
      "BucketID 7    []\n",
      "BucketID 8    [(17611, 0), (99913, 18)]\n",
      "BucketID 9    [(99740, 6)]\n",
      "BucketID 10    []\n",
      "BucketID 11    []\n",
      "BucketID 12    [(61898, 8)]\n",
      "BucketID 13    [(79618, 17)]\n",
      "BucketID 14    []\n",
      "BucketID 15    [(276, 19)]\n",
      "BucketID 16    [(58915, 7)]\n",
      "BucketID 17    []\n",
      "BucketID 18    [(74606, 1)]\n",
      "BucketID 19    []\n",
      "BucketID 20    []\n",
      "BucketID 21    [(49756, 10)]\n",
      "BucketID 22    []\n",
      "BucketID 23    []\n",
      "BucketID 24    [(33432, 3), (51093, 15)]\n",
      "BucketID 25    []\n",
      "BucketID 26    []\n",
      "BucketID 27    [(15455, 4), (27519, 11)]\n",
      "BucketID 28    [(63944, 13), (56723, 16)]\n"
     ]
    }
   ],
   "source": [
    "numBuckets =29\n",
    "# numBuckets 29  >entries 20 <<< the range of key （0，100000）\n",
    "D = intDict(numBuckets)\n",
    "for item in Entrys:\n",
    "    D.addEntry(item[0],item[1])\n",
    "\n",
    "print('The intDict is:' )\n",
    "print(D)\n",
    "\n",
    "print('\\n', 'The hase buckets are:')\n",
    "i=0\n",
    "for hashBucket in D.buckets:\n",
    "    print('BucketID',i,'  ', hashBucket)\n",
    "    i=i+1"
   ]
  },
  {
   "cell_type": "markdown",
   "metadata": {},
   "source": [
    "we see that many of the hash buckets are **empty**. \n",
    "\n",
    "Others contain **one, two, or three tuples** depending upon <b>the number of collisions</b> that occurred"
   ]
  },
  {
   "cell_type": "code",
   "execution_count": 12,
   "metadata": {},
   "outputs": [],
   "source": [
    "def getIntDictByKey(key):\n",
    "    return D.getValue(key)"
   ]
  },
  {
   "cell_type": "code",
   "execution_count": 13,
   "metadata": {},
   "outputs": [
    {
     "name": "stdout",
     "output_type": "stream",
     "text": [
      "49756 10\n"
     ]
    }
   ],
   "source": [
    "value=getIntDictByKey(Entrys[10][0])   \n",
    "print(Entrys[10][0],value)"
   ]
  },
  {
   "cell_type": "markdown",
   "metadata": {},
   "source": [
    "### 4  The complexity of **getValue**\n",
    "\n",
    "What is the complexity of **getValue**? "
   ]
  },
  {
   "cell_type": "markdown",
   "metadata": {},
   "source": [
    "* If there were <b>no collisions</b> it would be <b>O(1)</b>,  because each hash bucket would be of length 0 or 1.\n",
    "\n",
    "\n",
    "* There might be <b>collisions</b>，If everything hashed to **the same bucket**,\n",
    "\n",
    ">it would be <b>O(n)</b> where n is the number of entries in the dictionary，because the code would perform a linear search on that hash bucket.\n",
    "\n",
    "By making the <b>hash table large enough</b>, \n",
    "\n",
    "we can <b>reduce the number of collisions</b> sufficiently to allow us to treat <b>the complexity as O(1)</b>."
   ]
  },
  {
   "cell_type": "markdown",
   "metadata": {},
   "source": [
    "#### 1 hash table small , more collisions\n",
    "\n",
    "* numBucket=5"
   ]
  },
  {
   "cell_type": "code",
   "execution_count": 14,
   "metadata": {},
   "outputs": [
    {
     "name": "stdout",
     "output_type": "stream",
     "text": [
      "The value of the intDict is:\n",
      "{15455:4,99740:6,58915:7,85405:9,3715:14,17611:0,74606:1,8271:2,49756:10,276:19,33432:3,64937:5,12302:12,61898:8,51093:15,56723:16,79618:17,99913:18,27519:11,63944:13}\n",
      "\n",
      " The buckets are:\n",
      "   [(15455, 4), (99740, 6), (58915, 7), (85405, 9), (3715, 14)]\n",
      "   [(17611, 0), (74606, 1), (8271, 2), (49756, 10), (276, 19)]\n",
      "   [(33432, 3), (64937, 5), (12302, 12)]\n",
      "   [(61898, 8), (51093, 15), (56723, 16), (79618, 17), (99913, 18)]\n",
      "   [(27519, 11), (63944, 13)]\n"
     ]
    }
   ],
   "source": [
    "import random #a standard library module\n",
    "\n",
    "# hash table small , more collisions\n",
    "numBuckets=5\n",
    "D = intDict(numBuckets) # numBuckets < entries\n",
    "\n",
    "for item in Entrys:\n",
    "    D.addEntry(item[0],item[1])\n",
    "\n",
    "print('The value of the intDict is:')\n",
    "print(D)\n",
    "\n",
    "print('\\n', 'The buckets are:')\n",
    "for hashBucket in D.buckets: #violates abstraction barrier\n",
    "    print('  ', hashBucket)\n"
   ]
  },
  {
   "cell_type": "code",
   "execution_count": 17,
   "metadata": {},
   "outputs": [
    {
     "name": "stdout",
     "output_type": "stream",
     "text": [
      "520 ns ± 17.1 ns per loop (mean ± std. dev. of 7 runs, 1000000 loops each)\n"
     ]
    }
   ],
   "source": [
    "%timeit getIntDictByKey(Entrys[10][0])"
   ]
  },
  {
   "cell_type": "markdown",
   "metadata": {},
   "source": [
    "#### 2  hash table large , less collisions\n",
    "\n",
    "* numBucket=50"
   ]
  },
  {
   "cell_type": "code",
   "execution_count": 15,
   "metadata": {},
   "outputs": [
    {
     "name": "stdout",
     "output_type": "stream",
     "text": [
      "The value of the intDict is:\n",
      "{12302:12,15455:4,85405:9,74606:1,49756:10,17611:0,99913:18,58915:7,3715:14,79618:17,27519:11,8271:2,56723:16,276:19,33432:3,64937:5,99740:6,51093:15,63944:13,61898:8}\n",
      "\n",
      " The buckets are:\n",
      "   []\n",
      "   []\n",
      "   [(12302, 12)]\n",
      "   []\n",
      "   []\n",
      "   [(15455, 4), (85405, 9)]\n",
      "   [(74606, 1), (49756, 10)]\n",
      "   []\n",
      "   []\n",
      "   []\n",
      "   []\n",
      "   [(17611, 0)]\n",
      "   []\n",
      "   [(99913, 18)]\n",
      "   []\n",
      "   [(58915, 7), (3715, 14)]\n",
      "   []\n",
      "   []\n",
      "   [(79618, 17)]\n",
      "   [(27519, 11)]\n",
      "   []\n",
      "   [(8271, 2)]\n",
      "   []\n",
      "   [(56723, 16)]\n",
      "   []\n",
      "   []\n",
      "   [(276, 19)]\n",
      "   []\n",
      "   []\n",
      "   []\n",
      "   []\n",
      "   []\n",
      "   [(33432, 3)]\n",
      "   []\n",
      "   []\n",
      "   []\n",
      "   []\n",
      "   [(64937, 5)]\n",
      "   []\n",
      "   []\n",
      "   [(99740, 6)]\n",
      "   []\n",
      "   []\n",
      "   [(51093, 15)]\n",
      "   [(63944, 13)]\n",
      "   []\n",
      "   []\n",
      "   []\n",
      "   [(61898, 8)]\n",
      "   []\n"
     ]
    }
   ],
   "source": [
    "import random #a standard library module\n",
    "\n",
    "# hash table large , less collisions\n",
    "numBucket=50\n",
    "\n",
    "D = intDict(numBucket) # numBuckets >> entries\n",
    "\n",
    "for item in Entrys:\n",
    "    D.addEntry(item[0],item[1])\n",
    "    \n",
    "print('The value of the intDict is:')\n",
    "print(D)\n",
    "\n",
    "print('\\n', 'The buckets are:')\n",
    "for hashBucket in D.buckets: #violates abstraction barrier\n",
    "    print('  ', hashBucket)"
   ]
  },
  {
   "cell_type": "code",
   "execution_count": 19,
   "metadata": {},
   "outputs": [
    {
     "name": "stdout",
     "output_type": "stream",
     "text": [
      "437 ns ± 14.8 ns per loop (mean ± std. dev. of 7 runs, 1000000 loops each)\n"
     ]
    }
   ],
   "source": [
    "%timeit getIntDictByKey(Entrys[10][0])"
   ]
  },
  {
   "cell_type": "markdown",
   "metadata": {
    "collapsed": true
   },
   "source": [
    "###  3 hash table: a series of buckets\n",
    "\n",
    "* **bucket** : a list of key/value pairs. storing all of the values that hash to the same bucket in the list \n",
    "\n",
    "* **hash each element to bucket**: an address that is derived form the key value by applying the hash function\n",
    "    \n",
    "*  **search:**\n",
    "\n",
    "    * key -> the hash function -> an address of bucket in the hash table -> get valve in bucket"
   ]
  },
  {
   "cell_type": "markdown",
   "metadata": {},
   "source": [
    "## 5 Hash: intDict in C/C++\n",
    "\n",
    "### 5.1 intDict in C\n",
    "\n",
    "* intDict.h/c\n",
    "\n",
    "* mainintDict.c"
   ]
  },
  {
   "cell_type": "code",
   "execution_count": 6,
   "metadata": {},
   "outputs": [
    {
     "name": "stdout",
     "output_type": "stream",
     "text": [
      "Overwriting ./demo/include/intDict.h\n"
     ]
    }
   ],
   "source": [
    "%%file ./demo/include/intDict.h\n",
    "\n",
    "#ifndef INTDICTH\n",
    "#define INTDICTH\n",
    "\n",
    "typedef struct _node\n",
    "{\n",
    "\tint key;\n",
    "\tint value;\n",
    "\tstruct _node *next;\n",
    "} Node;\n",
    "\n",
    "typedef struct _hashtable\n",
    "{ \n",
    "\tint   numBuckets;\n",
    "\tNode **buckets; //the linked list stack \n",
    "} Hashtable;\n",
    "\n",
    "// Create hash table\n",
    "Hashtable *createHash(int numBuckets);\n",
    "\n",
    "// free hash table\n",
    "void *freeHash(Hashtable *hTable);\n",
    "\n",
    "// hash function for int keys\n",
    "int inthash(int key,int  numBuckets);\n",
    "\n",
    "// Add Entry to table - keyed by int\n",
    "void addEntry(Hashtable *hTable, int key,int value);\n",
    "\n",
    "// Lookup  by int key\n",
    "Node *searchEntry(Hashtable *hTable, int key);\n",
    "\n",
    "// Get by int key\n",
    "int getValue(Hashtable *hTable, int key);\n",
    "\n",
    "#endif"
   ]
  },
  {
   "cell_type": "code",
   "execution_count": 19,
   "metadata": {},
   "outputs": [
    {
     "name": "stdout",
     "output_type": "stream",
     "text": [
      "Writing ./demo/src/intDict.c\n"
     ]
    }
   ],
   "source": [
    "%%file ./demo/src/intDict.c\n",
    "\n",
    "#include <stdio.h>\n",
    "#include <stdlib.h>\n",
    "#include \"intDict.h\"\n",
    "\n",
    "\n",
    "// Create hash table\n",
    "Hashtable *createHash(int numBuckets)\n",
    "{\n",
    "    Hashtable *table=(Hashtable*)malloc(sizeof(Hashtable*));\n",
    "    if(!table) {\n",
    "\t\treturn NULL;\n",
    "\t}\n",
    "    \n",
    "    table->buckets=(Node**)malloc(sizeof(Node)*numBuckets);\n",
    "    if(!table->buckets) {\n",
    "\t\tfree(table);\n",
    "\t\treturn NULL;\n",
    "\t}\n",
    "\t\n",
    "    table->numBuckets=numBuckets;\n",
    "\t// initialize the head pointer of the bucket stack to NULL\n",
    "\tfor(int i=0;i<table->numBuckets;i++)\n",
    "\t\ttable->buckets[i] = NULL;\n",
    "   \n",
    "    return table;\n",
    "}\n",
    "\n",
    "void *freeHash(Hashtable *hTable)\n",
    "{\n",
    "   \tNode *b,*p;\n",
    "\tfor(int i=0;i<hTable->numBuckets;i++)\n",
    "\t{\n",
    "       b = hTable->buckets[i];\n",
    "\t   while(b!=NULL)\n",
    "\t   { \n",
    "         p=b->next;\n",
    "\t     free(b);\n",
    "\t\t b=p;\n",
    "\t   }\t \n",
    "\t}\n",
    "\tfree(hTable->buckets);\n",
    "\tfree(hTable);\n",
    "}\n",
    "\n",
    "// hash function for int keys\n",
    "int inthash(int key,int  numBuckets)\n",
    "{\n",
    "    return key % numBuckets;\n",
    "}\n",
    "\n",
    "// Lookup  by int key\n",
    "Node *searchEntry(Hashtable *hTable, int key)\n",
    "{\n",
    "\tNode *p;\n",
    "\tint addr = inthash(key, hTable->numBuckets);\n",
    "\tp = hTable->buckets[addr];\n",
    "\n",
    "\twhile(p && p->key !=key)\n",
    "\t\tp = p->next;\n",
    "\n",
    "\treturn p;\n",
    "}\n",
    "\n",
    "// Add Entry to table - keyed by int\n",
    "void addEntry(Hashtable *hTable, int key,int value)\n",
    "{\n",
    "\tint addr;\n",
    "\tNode *p,*entry;\n",
    "\tp = searchEntry(hTable,key);\n",
    "\tif(p)\n",
    "\t{\n",
    "\t\treturn;\n",
    "\t}\n",
    "\telse\n",
    "\t{   /*\n",
    "          add a new item on the top of the linked list stack \n",
    "          and a pointer to the top element.  \n",
    "       */\n",
    "\t\taddr =  inthash(key, hTable->numBuckets);\n",
    "\t\tentry=(Node*)malloc(sizeof(Node));\n",
    "\t  \tentry->key = key;\n",
    "\t\tentry->value=value;\n",
    "\t\tentry->next =hTable->buckets[addr];\n",
    "\t\thTable->buckets[addr] = entry;\n",
    "\t}\n",
    "}\n",
    "\n",
    "// Get by int\n",
    "int getValue(Hashtable *hTable, int key)\n",
    "{   \n",
    "\tNode *p;\n",
    "\tp = searchEntry(hTable,key);\n",
    "\tif (p)\n",
    "\t{\n",
    "      return p->value;\n",
    "\t}\n",
    "}\n"
   ]
  },
  {
   "cell_type": "code",
   "execution_count": 7,
   "metadata": {},
   "outputs": [
    {
     "name": "stdout",
     "output_type": "stream",
     "text": [
      "Overwriting ./demo/src/mainintDict.c\n"
     ]
    }
   ],
   "source": [
    "%%file ./demo/src/mainintDict.c\n",
    "\n",
    "#include <stdio.h>\n",
    "#include <stdlib.h>\n",
    "#include <time.h>\n",
    "#include \"intDict.h\"\n",
    "\n",
    "int main()\n",
    "{\n",
    "\tint numBuckets=5;\n",
    "    int numEntries=20;\n",
    "    Hashtable *hTable;\n",
    "\tint *key;\n",
    "\tint *value;\n",
    "\t\n",
    "    hTable=createHash(numBuckets);\n",
    "   \n",
    "\tprintf(\"The value of the intDict is:\\n\");\n",
    "    printf(\"(key value)\\n\");\n",
    "    \n",
    "    key=(int*)malloc(sizeof(int)*numEntries);\n",
    "\tvalue=(int*)malloc(sizeof(int)*numEntries);\n",
    "\tsrand(time(NULL));\n",
    "\tfor(int i=0;i<numEntries;i++)\n",
    "\t{\n",
    "\t  \tkey[i] = rand() % 100000;\n",
    "\t\tvalue[i]=i;\n",
    "\n",
    "\t\taddEntry(hTable,key[i],value[i]);\n",
    "\t\tprintf(\"(%d %d)\\n\",key[i],value[i]);\n",
    "\t}\n",
    "\n",
    "    printf(\"The buckets(the linked list stack) are: \\n\");\n",
    "\tfor(int i=0;i<hTable->numBuckets;i++)\n",
    "\t{\n",
    "       Node *b,*p;\n",
    "\t   b = hTable->buckets[i];\n",
    "\t   printf(\"bucket %d :\",i);\n",
    "\t   if (b)\n",
    "\t   {\n",
    "\t     for(p=b; p!=NULL; p=p->next)\n",
    "\t        printf(\" (%d %d) \",p->key,p->value);\n",
    "\t     printf(\"\\n\"); \t\t\n",
    "\t   }\n",
    "\t   else\n",
    "\t    \tprintf(\"\\n\"); \t   \n",
    "\t}\n",
    "\n",
    "    printf(\"Hash search(even):\\n\");\n",
    "    printf(\"(key value) : key -> value:\\n\");\n",
    "\tfor(int i=0;i< numEntries;i++)\n",
    "\t{\n",
    "      if (i%2==0)\n",
    "      {\n",
    "        int val=getValue(hTable,key[i]);\n",
    "        printf(\"(%d  %d): -> %d \\n\",key[i],value[i],val);\n",
    "      } \n",
    "\t}\n",
    "  \n",
    "    free(key);\n",
    "    free(value);\n",
    "    \n",
    "    freeHash(hTable);\n",
    "    \n",
    "  \treturn 0;\n",
    "}"
   ]
  },
  {
   "cell_type": "code",
   "execution_count": 22,
   "metadata": {},
   "outputs": [],
   "source": [
    "!gcc -o ./demo/bin/mainintDict ./demo/src/mainintDict.c ./demo/src/intDict.c -I./demo/include"
   ]
  },
  {
   "cell_type": "code",
   "execution_count": 23,
   "metadata": {},
   "outputs": [
    {
     "name": "stdout",
     "output_type": "stream",
     "text": [
      "The value of the intDict is:\n",
      "(key value)\n",
      "(17208 0)\n",
      "(27832 1)\n",
      "(4960 2)\n",
      "(10653 3)\n",
      "(11576 4)\n",
      "(24738 5)\n",
      "(6186 6)\n",
      "(5867 7)\n",
      "(6791 8)\n",
      "(73 9)\n",
      "(27826 10)\n",
      "(16405 11)\n",
      "(26372 12)\n",
      "(3621 13)\n",
      "(1897 14)\n",
      "(18521 15)\n",
      "(21826 16)\n",
      "(32137 17)\n",
      "(7453 18)\n",
      "(9433 19)\n",
      "The buckets(the linked list stack) are: \n",
      "bucket 0 : (16405 11)  (4960 2) \n",
      "bucket 1 : (21826 16)  (18521 15)  (3621 13)  (27826 10)  (6791 8)  (6186 6)  (11576 4) \n",
      "bucket 2 : (32137 17)  (1897 14)  (26372 12)  (5867 7)  (27832 1) \n",
      "bucket 3 : (9433 19)  (7453 18)  (73 9)  (24738 5)  (10653 3)  (17208 0) \n",
      "bucket 4 :\n",
      "Hash search(even):\n",
      "(key value) : key -> value:\n",
      "(17208  0): -> 0 \n",
      "(4960  2): -> 2 \n",
      "(11576  4): -> 4 \n",
      "(6186  6): -> 6 \n",
      "(6791  8): -> 8 \n",
      "(27826  10): -> 10 \n",
      "(26372  12): -> 12 \n",
      "(1897  14): -> 14 \n",
      "(21826  16): -> 16 \n",
      "(7453  18): -> 18 \n"
     ]
    }
   ],
   "source": [
    "!.\\demo\\bin\\mainintDict "
   ]
  },
  {
   "cell_type": "markdown",
   "metadata": {},
   "source": [
    "### 5.2 intDict in C++"
   ]
  },
  {
   "cell_type": "code",
   "execution_count": 5,
   "metadata": {},
   "outputs": [
    {
     "name": "stdout",
     "output_type": "stream",
     "text": [
      "Writing ./demo/src/Test_intDict.cpp\n"
     ]
    }
   ],
   "source": [
    "%%file ./demo/src/Test_intDict.cpp\n",
    "#include <iostream>\n",
    "#include <list>\n",
    "\n",
    "using namespace std;\n",
    "\n",
    "class HashTable{\n",
    "private:\n",
    "  list<int> *table; // \n",
    "  int total_elements;\n",
    "\n",
    "  // Hash function to calculate hash for a value:\n",
    "  int getHash(int key){\n",
    "    return key % total_elements;\n",
    "  }\n",
    "\n",
    "public:\n",
    "  // Constructor to create a hash table with 'n' indices:\n",
    "  HashTable(int n){\n",
    "    total_elements = n;\n",
    "    table = new list<int>[total_elements];\n",
    "  }\n",
    "\n",
    "  // Insert data in the hash table:\n",
    "  void insertElement(int key){\n",
    "    table[getHash(key)].push_back(key);\n",
    "  }\n",
    "\n",
    "  // Remove data from the hash table:\n",
    "  void removeElement(int key){\n",
    "    int x = getHash(key);\n",
    "\n",
    "    list<int>::iterator i; \n",
    "    for (i = table[x].begin(); i != table[x].end(); i++) { \n",
    "      // Check if the iterator points to the required item:\n",
    "      if (*i == key) \n",
    "        break;\n",
    "    }\n",
    "\n",
    "    // If the item was found in the list, then delete it:\n",
    "    if (i != table[x].end()) \n",
    "      table[x].erase(i);\n",
    "  }\n",
    "\n",
    "  void printAll(){\n",
    "    // Traverse each index:\n",
    "    for(int i = 0; i < total_elements; i++){\n",
    "      cout << \"Index \" << i << \": \";\n",
    "      // Traverse the list at current index:\n",
    "      for(int j : table[i])\n",
    "        cout << j << \" => \";\n",
    "\n",
    "      cout << endl;\n",
    "    }\n",
    "  }\n",
    "};\n",
    "\n",
    "int main() {\n",
    "  // Create a hash table with 3 indices:\n",
    "  HashTable ht(3);\n",
    "\n",
    "  // Declare the data to be stored in the hash table:\n",
    "  int arr[] = {2, 4, 6, 8, 10};\n",
    "\n",
    "  // Insert the whole data into the hash table:\n",
    "  for(int i = 0; i < 5; i++)\n",
    "    ht.insertElement(arr[i]);\n",
    "\n",
    "  cout << \"..:: Hash Table ::..\" << endl;\n",
    "  ht.printAll();\n",
    "  \n",
    "  ht.removeElement(4);\n",
    "  cout << endl << \"..:: After deleting 4 ::..\" << endl;\n",
    "  ht.printAll();\n",
    "\n",
    "  return 0;\n",
    "}"
   ]
  },
  {
   "cell_type": "code",
   "execution_count": 9,
   "metadata": {},
   "outputs": [],
   "source": [
    "!g++ -o ./demo/bin/Test_intDict ./demo/src/Test_intDict.cpp"
   ]
  },
  {
   "cell_type": "code",
   "execution_count": 10,
   "metadata": {},
   "outputs": [
    {
     "name": "stdout",
     "output_type": "stream",
     "text": [
      "..:: Hash Table ::..\n",
      "Index 0: 6 => \n",
      "Index 1: 4 => 10 => \n",
      "Index 2: 2 => 8 => \n",
      "\n",
      "..:: After deleting 4 ::..\n",
      "Index 0: 6 => \n",
      "Index 1: 10 => \n",
      "Index 2: 2 => 8 => \n"
     ]
    }
   ],
   "source": [
    "!.\\demo\\bin\\Test_intDict"
   ]
  },
  {
   "cell_type": "markdown",
   "metadata": {},
   "source": [
    "## 6 Unordered Map(C++11)\n",
    "\n",
    "Unordered maps are associative containers that store elements formed by the combination of a key value and a mapped value, and which allows for fast retrieval of individual elements based on their keys.\n",
    "\n",
    "In an unordered_map, the key value is generally used to uniquely identify the element, while the mapped value is an object with the content associated to this key. Types of key and mapped value may differ.\n",
    "\n",
    "Internally, the elements in the unordered_map are not sorted in any particular order with respect to either their key or mapped values, but organized into buckets depending on their hash values to allow for fast access to individual elements directly by their key values (with a constant average time complexity on average)."
   ]
  },
  {
   "cell_type": "code",
   "execution_count": 1,
   "metadata": {},
   "outputs": [
    {
     "name": "stdout",
     "output_type": "stream",
     "text": [
      "Writing ./demo/src/demo1_unordered_map.cpp\n"
     ]
    }
   ],
   "source": [
    "%%file ./demo/src/demo1_unordered_map.cpp\n",
    "\n",
    "#include <iostream>\n",
    "#include <string>\n",
    "#include <unordered_map>\n",
    " \n",
    "int main()\n",
    "{\n",
    "    std::unordered_map<std::string, int> months;\n",
    "    months[\"january\"] = 31;\n",
    "    months[\"february\"] = 28;\n",
    "    months[\"march\"] = 31;\n",
    "    std::cout << \"february  -> \" << months[\"february\"] << std::endl;\n",
    "    return 0;\n",
    "}"
   ]
  },
  {
   "cell_type": "code",
   "execution_count": 2,
   "metadata": {},
   "outputs": [],
   "source": [
    "!g++ -o ./demo/bin/demo1_unordered_map.exe ./demo/src/demo1_unordered_map.cpp"
   ]
  },
  {
   "cell_type": "code",
   "execution_count": 3,
   "metadata": {},
   "outputs": [
    {
     "name": "stdout",
     "output_type": "stream",
     "text": [
      "february  -> 28\n"
     ]
    }
   ],
   "source": [
    "!.\\demo\\bin\\demo1_unordered_map "
   ]
  },
  {
   "cell_type": "markdown",
   "metadata": {
    "collapsed": true
   },
   "source": [
    "## Further Reading\n",
    "\n",
    "* 严蔚敏，李冬梅，吴伟民. 数据结构（C语言版），人民邮电出版社（第2版）,2015年2月  \n",
    "\n",
    "* Mark Allen Weiss. Data Structures and Algorithm Analysis in C\n",
    "\n",
    "* Hash table https://en.wikipedia.org/wiki/Hash_table"
   ]
  }
 ],
 "metadata": {
  "kernelspec": {
   "display_name": "Python 3",
   "language": "python",
   "name": "python3"
  },
  "language_info": {
   "codemirror_mode": {
    "name": "ipython",
    "version": 3
   },
   "file_extension": ".py",
   "mimetype": "text/x-python",
   "name": "python",
   "nbconvert_exporter": "python",
   "pygments_lexer": "ipython3",
   "version": "3.8.7"
  },
  "toc": {
   "base_numbering": 1,
   "nav_menu": {},
   "number_sections": false,
   "sideBar": true,
   "skip_h1_title": false,
   "title_cell": "Table of Contents",
   "title_sidebar": "Contents",
   "toc_cell": false,
   "toc_position": {
    "height": "calc(100% - 180px)",
    "left": "10px",
    "top": "150px",
    "width": "304.475px"
   },
   "toc_section_display": true,
   "toc_window_display": true
  },
  "widgets": {
   "state": {},
   "version": "1.1.2"
  }
 },
 "nbformat": 4,
 "nbformat_minor": 1
}
