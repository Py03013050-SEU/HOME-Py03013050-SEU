{
 "cells": [
  {
   "cell_type": "markdown",
   "metadata": {},
   "source": [
    "# 21 LIES, DAMNED LIES, AND STATISTICS\n",
    "\n",
    "\n",
    "**There are lies, damned lies and statistics.** - Mark Twain \n",
    "\n",
    "---\n",
    "**Statistical thinking** is a relatively new invention.\n",
    "\n",
    "This started to change in the middle of the 17th century, most notably with the publication of\n",
    "**John Graunt** ’s \n",
    "\n",
    "* **Natural and Political Observations Made Upon the Bills of Mortality**\n",
    "\n",
    "Since that time people have used statistics as much to **mislead as to inform**.\n",
    "\n",
    "* Some have  **willfully** used statistics to mislead;\n",
    "\n",
    "* others have merely been **incompetent**\n",
    "\n",
    "We trust that you will use this information only for good,\n",
    "\n",
    "  * **a better consumer** \n",
    "  \n",
    "  * **a more honest purveyor of statistical information**.\n",
    "\n",
    "1 Garbage In Garbage Out (GIGO)\n",
    "\n",
    "2 Tests Are Imperfect\n",
    "\n",
    "3 Pictures Can Be Deceiving\n",
    "\n",
    "4 Cum Hoc Ergo Propter Hoc\n",
    "\n",
    "5 Statistical Measures Don’t Tell the Whole Story\n",
    "\n",
    "6 Sampling Bias\n",
    "\n",
    "7 Context Matters\n",
    "\n",
    "8 Beware of Extrapolation\n",
    "\n",
    "9 The Texas Sharpshooter Fallacy\n",
    "\n",
    "10 Percentages Can Confuse\n",
    "\n",
    "11 Statistically Significant Differences Can Be Insignificant\n",
    "\n",
    "12 The Regressive Fallacy\n",
    "\n",
    "13 Just Beware\n"
   ]
  },
  {
   "cell_type": "markdown",
   "metadata": {},
   "source": [
    "## 21.1 Garbage In Garbage Out (GIGO)\n",
    "\n",
    "If the input data is seriously flawed, no amount of statistical massaging will produce a meaningful result.\n",
    "\n",
    "Calhoun’s (perhaps willfully) spurious response to Adams was based on a classical error, \n",
    "\n",
    "**the assumption of independence**\n",
    "\n",
    "### Assumption of Independence\n",
    "\n",
    "The assumption of independence is used for several other statistical tests.\n",
    "\n",
    "It’s essential to getting results from your <b>sample</b> that reflect what you would find in a <b>population</b>. \n",
    "\n",
    "Even the smallest dependence in your data can turn into heavily biased results (which may be undetectable) if you violate this assumption.\n",
    "\n",
    "A <b>dependence</b> is <b>a connection</b> between your data. For example, how much you earn depends upon how many hours you work. \n",
    "\n",
    "<b>Independence</b> means there <b>isn’t a connection</b>. For example, how much you earn isn’t connected to what you ate for breakfast. \n",
    "\n",
    "The <b>assumption of independence</b> means that your <b>data isn’t connected in any way</b> (at least, in ways that you haven’t accounted for in your model).\n",
    "\n",
    "There are actually two assumptions: \n",
    "\n",
    "1 **The observations between groups should be independent,**\n",
    "\n",
    "which basically means the groups are made up of different people. You don’t want one person appearing twice in two different groups as it could skew your results.\n",
    "   \n",
    "\n",
    "2 **The observations within each group must be independent.** \n",
    "\n",
    "If two or more data points in one group are connected in some way, this could also skew your data. For example, let’s say you were taking a snapshot of how many donuts people ate, and you took snapshots every morning at 9,10, and 11 a.m.. You might conclude that office workers eat 25% of their daily calories from donuts. However, you made the mistake of timing the snapshots too closely together in the morning when people were more likely to bring bags of donuts in to share (making them dependent). If you had taken your measurements at 7, noon and 4 p.m., this would probably have made your measurements independent.\n",
    "\n",
    "#### How do I Avoid Violating the Assumption?\n",
    "\n",
    "Unfortunately, looking at your data and trying to see if you have independence or not is usually difficult or impossible. \n",
    "\n",
    "The key to avoiding violating the assumption of independence is to make sure your data is independent while you are collecting it. If you aren’t an expert in your field, this can be challenging.\n"
   ]
  },
  {
   "cell_type": "markdown",
   "metadata": {},
   "source": [
    "##21.2 Tests Are Imperfect\n",
    "\n",
    "**Every experiment should be viewed as a `potentially flawed` test**. We can perform a test for a chemical, a phenomenon, a disease, etc. However, the event for which we are testing is not necessarily the same as the result of the test.\n",
    "\n",
    "Professors design exams with the goal of understanding how well a student has mastered some subject matter, but the result of the exam should not be confused with how much a student actually understands. \n",
    "\n",
    "Every test has some inherent error rate. Imagine that a student learning a second language has been asked to learn the meaning of 100 words, but has learned the meaning of only 80 of them. His rate of understanding is 80%, but the probability that he will score 80% on a test with 20 words is certainly not 1.\n",
    "\n",
    "**Tests can have both false negatives and false positives**. As we saw in Chapter 20, a negative mammogram does not guarantee absence of breast cancer, and a positive mammogram doesn’t guarantee its presence. Furthermore, the test probability and the event probability are not the same thing. This is especially relevant when testing for a rare event, e.g., the presence of a rare disease. If the cost of a false  negative is high(e.g., missing the presence of a serious but curable disease), the test should be designed to be highly sensitive, even at the cost of there being a large number of false positives.\n",
    "\n"
   ]
  },
  {
   "cell_type": "markdown",
   "metadata": {},
   "source": [
    "## 21.3 Pictures Can Be Deceiving\n",
    "\n",
    "There can be no doubt about the utility of graphics for quickly conveying information. However, when used carelessly (or maliciously) a plot can be highly misleading.\n",
    "\n",
    "Consider, for example, the following charts depicting housing prices in the U.S. Midwestern states.\n",
    "<img src=\"./img/162.PNG\"/> \n",
    "\n",
    "Looking at the chart on the left, it seems as if housing prices were <b>pretty stable</b> from 2006-2009.\n",
    "\n",
    "But wait a minute, wasn’t there <b>a collapse of U.S. residential real estate</b> followed by a global financial crisis in late 2008? There was indeed, as shown in <b>the chart on the right</b>.\n",
    "\n",
    "The first chart was <b>designed to give the impression</b> that housing prices had been <b>stable</b>.\n",
    "\n",
    "On the y-axis, the designer used <b>a logarithmic scale</b> ranging from the absurdly low average price for a house of <b>10,000</b> to the improbably high average price of <b>1 million</b>. This <b>minimized the amount of space</b> devoted to the area where prices are changing, giving the impression that the changes were relatively small.\n",
    "\n",
    "The chart above and on the right was <b>designed to give the impression</b> that housing prices <b>moved erratically, and then crashed</b>.\n",
    "\n",
    "The designer used <b>a linear scale and a narrow range of prices</b>, so the sizes of the changes were <b>exaggerated</b>.\n",
    "\n",
    "The next code produces the two plots we looked at above and <b>a plot intended to give an accurate impression of the movement of housing prices</b>"
   ]
  },
  {
   "cell_type": "code",
   "execution_count": 1,
   "metadata": {},
   "outputs": [
    {
     "name": "stdout",
     "output_type": "stream",
     "text": [
      "Overwriting ./data/midWestHousingPrices.txt\n"
     ]
    }
   ],
   "source": [
    "%%file ./data/midWestHousingPrices.txt\n",
    "2006 01 210700\n",
    "2006 02 203100\n",
    "2006 03 216800\n",
    "2006 04 216200\n",
    "2007 01  212800\n",
    "2007 02  203200\n",
    "2007 03  209600\n",
    "2007 04  197400\n",
    "2008 01 219200\n",
    "2008 02 198500\n",
    "2008 03 184700\n",
    "2008 04 202500\n",
    "2009 01  187100\n",
    "2009 02  193200\n",
    "2009 03  184900\n",
    "2009 04  196000"
   ]
  },
  {
   "cell_type": "code",
   "execution_count": 1,
   "metadata": {},
   "outputs": [
    {
     "data": {
      "image/png": "[encoded data removed]",
      "text/plain": [
       "<Figure size 432x288 with 1 Axes>"
      ]
     },
     "metadata": {
      "needs_background": "light"
     },
     "output_type": "display_data"
    },
    {
     "data": {
      "image/png": "[encoded data removed]",
      "text/plain": [
       "<Figure size 432x288 with 1 Axes>"
      ]
     },
     "metadata": {
      "needs_background": "light"
     },
     "output_type": "display_data"
    },
    {
     "data": {
      "image/png": "[encoded data removed]",
      "text/plain": [
       "<Figure size 432x288 with 1 Axes>"
      ]
     },
     "metadata": {
      "needs_background": "light"
     },
     "output_type": "display_data"
    }
   ],
   "source": [
    "import matplotlib.pyplot as plt\n",
    "import numpy as np \n",
    "\n",
    "def midWestHousingPrices():\n",
    "    f = open('./data/midWestHousingPrices.txt', 'r')\n",
    "    \n",
    "    #Each line of file contains year quarter price\n",
    "    #for Midwest region of U.S.\n",
    "    \n",
    "    labels, prices = ([], [])\n",
    "    for line in f:\n",
    "        year, quarter, price = line.split()\n",
    "        \n",
    "        label = year[2:4] + '\\n Q' + quarter[1]\n",
    "        labels.append(label)\n",
    "        prices.append(float(price)/1000)\n",
    "    \n",
    "    f.close()\n",
    "    \n",
    "    return labels, prices\n",
    "\n",
    "def plotHousing(impression):\n",
    "    \"\"\"Assumes impression a str.  Must be one of \n",
    "         'flat','volatile,' and 'fair'\n",
    "       Produce bar chart of housing prices over time\"\"\"\n",
    "    quarters =np.arange(len(labels)) # x coords of bars\n",
    "    width = 0.8 #Width of bars\n",
    "    \n",
    "    plt.figure()\n",
    "    \n",
    "    if impression == 'flat':\n",
    "        plt.semilogy()\n",
    "        \n",
    "    plt.bar(quarters, prices, width)\n",
    "    plt.xticks(quarters+width/2.0, labels)\n",
    "    plt.title('Housing Prices in U.S. Midwest')\n",
    "    plt.xlabel('Quarter')\n",
    "    plt.ylabel('Average Price ($1,000\\'s)')\n",
    "    \n",
    "    if impression == 'flat':\n",
    "        plt.ylim(10, 10**3)\n",
    "    elif impression == 'volatile':\n",
    "        plt.ylim(180, 220)\n",
    "    elif impression == 'fair':\n",
    "        plt.ylim(150, 250)\n",
    "    else:\n",
    "        raise ValueError\n",
    "\n",
    "labels, prices = ([], [])\n",
    "labels, prices=midWestHousingPrices()\n",
    "\n",
    "plotHousing('flat')\n",
    "plotHousing('volatile')\n",
    "plotHousing('fair')\n",
    "plt.show()\n"
   ]
  },
  {
   "cell_type": "markdown",
   "metadata": {},
   "source": [
    "It uses two plotting facilities that we have not yet seen. \n",
    "\n",
    "* **plt.bar**\n",
    "\n",
    "* **plt.xticks**\n",
    "\n",
    "```python\n",
    "plt.bar(quarters, prices, width) \n",
    "```\n",
    "produces a bar chart with `width` wide bars. The left edges of the bars are the values of the elements of quarters and\n",
    "the heights of the bars are the values of the corresponding elements of prices.\n",
    "\n",
    "```python\n",
    "plt.xticks(quarters+width/2.0, labels) \n",
    "```\n",
    "describes the labels associated with the bars. \n",
    "\n",
    " * The first argument: `quarters+width/2.0`:  specifies where each label is to be placed \n",
    "\n",
    " * The second argument:`labels` : the text of the labels. \n",
    "\n",
    "The function `yticks` behaves analogously."
   ]
  },
  {
   "cell_type": "markdown",
   "metadata": {},
   "source": [
    "## 21.3 Cum Hoc Ergo Propter Hoc\n",
    "\n",
    "Statisticians, like attorneys and physicians, sometimes use Latin for no obvious reason\n",
    "other than to seem erudite. This phrase means, “with this, therefore because of this.”\n",
    "\n",
    "When two things are <b>correlated</b>, there is a temptation to assume that one has <b>caused</b> the other.\n",
    "\n",
    "#### But Correlation does not imply causation!\n",
    "\n",
    "there is some <b>lurking variable</b> that we have not considered that causes each.\n",
    "\n",
    "Given enough retrospective data, it is <b>always possible to find two variables that are correlated </b>\n",
    "<img src=\"./img/163.PNG\"/>\n",
    "\n",
    "When such correlations are found, the first thing to do is to <b>ask whether there is a plausible theory explaining the\n",
    "correlation</b>.\n",
    "\n",
    "Falling prey to the `cum hoc ergo propter hoc` fallacy can be <b>quite dangerous</b>.\n",
    "\n",
    "\n",
    "\n"
   ]
  },
  {
   "cell_type": "markdown",
   "metadata": {},
   "source": [
    "## 21.5 Statistical Measures Don’t Tell the Whole Story\n",
    "\n",
    "There are an enormous number of different statistics that can be extracted from a data set.\n",
    "\n",
    "By carefully choosing among these, it is possible to convey <b>a variety of different impressions about the same data</b>. \n",
    "\n",
    "A good **antidote** is to **look at the data set itself**.\n",
    "\n",
    "### 21.5.1 F.J. Anscombe's Data Sets\n",
    "\n",
    "In 1973, the statistician F.J. Anscombe published a paper containing the table below. It contains the <x, y> coordinates of the points in each of four data sets. \n",
    "\n",
    "Each of the four data sets has \n",
    "\n",
    "* the same mean value for x (9.0), the same mean value for y (7.5), \n",
    "\n",
    "* the same variance for x (10.0), the same variance for y (3.75),\n",
    "\n",
    "* the same correlation between x and y (0.816)\n",
    "\n",
    "* if we use linear regression to fit a line to each, we get the same result for each, y = 0.5x + 3.\n",
    "\n",
    "|x0 |y0|x1|y1|x2|y2|x3|y3|\n",
    "| ---- |:------:| :------:| :------:|  :------:| :------:| :------:|  ----:|\n",
    "|10.0|\t8.04 |\t10.0|\t9.14 |\t10.0 \t|7.46\t|8.0    |6.58|\n",
    "|8.0| \t6.95 |\t8.0 |\t8.14 |\t8.0     |6.77\t|8.0    |5.76|\n",
    "|13.0| \t7.58 |\t13.0|\t8.74 |\t13.0    |12.74\t|8.0    |7.71|\n",
    "|9.0|\t8.81 |\t9.0 |\t8.77 |\t9.0     |7.11\t|8.0    |8.84|\n",
    "|11.0| \t8.33 |\t11.0|\t9.26|\t11.0    |7.81\t|8.0    |8.47|\n",
    "|14.0| \t9.96 |\t14.0|\t8.10 |\t14.0    |8.84\t|8.0    |7.04|\n",
    "|6.0|\t7.24 |\t6.0 |\t6.13 |\t6.0     |6.08\t|8.0 \t|5.25|\n",
    "|4.0| \t4.26 |\t4.0 |\t3.10| \t4.0     |5.39\t|19.0 \t|12.5|\n",
    "|12.0|\t10.84| \t12.0| \t9.13| \t12.0    |8.15\t|8.0 \t|5.56|\n",
    "|7.0| \t4.82 | \t7.0 |\t7.26| \t7.0     |6.42\t|8.0 \t|7.91|\n",
    "|5.0| \t5.68 | \t5.0 | \t4.74| \t5.0     |5.73\t|8.0 \t|6.89|\n",
    "\n",
    "\n"
   ]
  },
  {
   "cell_type": "markdown",
   "metadata": {},
   "source": [
    "Does this mean that there is no obvious way to distinguish these data sets from\n",
    "each other? No, one simply needs to plot the data to see that the data sets are\n",
    "not at all alike.\n",
    "\n",
    "![164curve](./img/164curve.PNG)\n",
    "\n",
    "\n",
    "<b style=\"font-size:120%;color:bluer\"> The moral is simple: if possible, always take a look at some representation of the raw data.</b>\n"
   ]
  },
  {
   "cell_type": "markdown",
   "metadata": {},
   "source": [
    "You may use `statistics,scipy` for Statistical Measures\n",
    "\n",
    "`statistics.mean(data)`\n",
    "\n",
    "* Return the sample arithmetic mean of data which can be a sequence or iterator.\n",
    "\n",
    "`statistics.pvariance(data, mu=None)`\n",
    "\n",
    "* Return the population variance of data, a non-empty iterable of real-valued numbers\n",
    "\n",
    "**Pearson correlation**\n",
    "\n",
    "$r=\\frac{\\sum_{i=1}^n (X_i- \\overline X)(Y_i- \\overline Y)}{ \\sqrt{ \\sum_{i=1}^n (X_i- \\overline X)^2} \\cdot \\sqrt{ \\sum_{i=1}^n (Y_i- \\overline Y)^2}  }$\n",
    "\n",
    "`scipy.stats.pearsonr(x, y)`\n",
    "\n",
    "* Calculate a Pearson correlation coefficient and the p-value for testing non-correlation."
   ]
  },
  {
   "cell_type": "code",
   "execution_count": 2,
   "metadata": {},
   "outputs": [
    {
     "name": "stdout",
     "output_type": "stream",
     "text": [
      "statistics.mean:\n",
      "\t X0: 9.0\n",
      "\t Y0: 7.500909090909091\n",
      "statistics.pvariance:\n",
      "\t X0: 10.0\n",
      "\t Y0: 3.752062809917356\n",
      "corrcoef:\n",
      "\t stats.pearsonr 0.81642051634484\n"
     ]
    }
   ],
   "source": [
    "from  statistics import mean,pvariance\n",
    "from scipy.stats import pearsonr\n",
    "\n",
    "x0=[10.0, 8.0,13.0, 9.0,11.0,\n",
    "    14.0, 6.0, 4.0,12.0, 7.0,5.0]\n",
    "y0=[8.04,6.95,7.58,8.81,8.33,\n",
    "    9.96,7.24,4.26,10.84,4.82,5.68]\n",
    "print('statistics.mean:')\n",
    "print('\\t X0:',mean(x0))\n",
    "print('\\t Y0:',mean(y0))\n",
    "print('statistics.pvariance:')\n",
    "print('\\t X0:',pvariance(x0))\n",
    "print('\\t Y0:',pvariance(y0))\n",
    "print('corrcoef:')\n",
    "print('\\t stats.pearsonr',pearsonr(x0,y0)[0])"
   ]
  },
  {
   "cell_type": "markdown",
   "metadata": {},
   "source": [
    "### 21.5.2 Analyzing with Numpy and Matplotlib"
   ]
  },
  {
   "cell_type": "code",
   "execution_count": 1,
   "metadata": {},
   "outputs": [
    {
     "output_type": "stream",
     "name": "stdout",
     "text": [
      "Writing ./data/anscombe.csv\n"
     ]
    }
   ],
   "source": [
    "%%file ./data/anscombe.csv\n",
    "x0,y0,x1,y1,x2,y2,x3,y3\n",
    "10.00 ,8.04 ,10.00 ,9.14 ,10.00 ,7.46 ,8.00 ,6.58 \n",
    "8.00 ,6.95 ,8.00 ,8.14 ,8.00 ,6.77 ,8.00 ,5.76 \n",
    "13.00 ,7.58 ,13.00 ,8.74 ,13.00 ,12.74 ,8.00 ,7.71 \n",
    "9.00 ,8.81 ,9.00 ,8.77 ,9.00 ,7.11 ,8.00 ,8.84 \n",
    "11.00 ,8.33 ,11.00 ,9.26 ,11.00 ,7.81 ,8.00 ,8.47 \n",
    "14.00 ,9.96 ,14.00 ,8.10 ,14.00 ,8.84 ,8.00 ,7.04 \n",
    "6.00 ,7.24 ,6.00 ,6.13 ,6.00 ,6.08 ,8.00 ,5.25 \n",
    "4.00 ,4.26 ,4.00 ,3.10 ,4.00 ,5.39 ,19.00 ,12.50 \n",
    "12.00 ,10.84 ,12.00 ,9.13 ,12.00 ,8.15 ,8.00 ,5.56 \n",
    "7.00 ,4.82 ,7.00 ,7.26 ,7.00 ,6.42 ,8.00 ,7.91 \n",
    "5.00 ,5.68 ,5.00 ,4.74 ,5.00 ,5.73 ,8.00 ,6.89 "
   ]
  },
  {
   "cell_type": "markdown",
   "metadata": {},
   "source": [
    "#### 1 Load data from a text file\n",
    "\n",
    "**[numpy.genfromtxt](https://docs.scipy.org/doc/numpy/reference/generated/numpy.genfromtxt.html#numpy.genfromtxt)** ：Load data from a text file, with missing values handled as specified. \n",
    "   "
   ]
  },
  {
   "cell_type": "code",
   "execution_count": 2,
   "metadata": {},
   "outputs": [
    {
     "output_type": "execute_result",
     "data": {
      "text/plain": [
       "array([[10.  ,  8.04, 10.  ,  9.14, 10.  ,  7.46,  8.  ,  6.58],\n",
       "       [ 8.  ,  6.95,  8.  ,  8.14,  8.  ,  6.77,  8.  ,  5.76],\n",
       "       [13.  ,  7.58, 13.  ,  8.74, 13.  , 12.74,  8.  ,  7.71],\n",
       "       [ 9.  ,  8.81,  9.  ,  8.77,  9.  ,  7.11,  8.  ,  8.84],\n",
       "       [11.  ,  8.33, 11.  ,  9.26, 11.  ,  7.81,  8.  ,  8.47],\n",
       "       [14.  ,  9.96, 14.  ,  8.1 , 14.  ,  8.84,  8.  ,  7.04],\n",
       "       [ 6.  ,  7.24,  6.  ,  6.13,  6.  ,  6.08,  8.  ,  5.25],\n",
       "       [ 4.  ,  4.26,  4.  ,  3.1 ,  4.  ,  5.39, 19.  , 12.5 ],\n",
       "       [12.  , 10.84, 12.  ,  9.13, 12.  ,  8.15,  8.  ,  5.56],\n",
       "       [ 7.  ,  4.82,  7.  ,  7.26,  7.  ,  6.42,  8.  ,  7.91],\n",
       "       [ 5.  ,  5.68,  5.  ,  4.74,  5.  ,  5.73,  8.  ,  6.89]])"
      ]
     },
     "metadata": {},
     "execution_count": 2
    }
   ],
   "source": [
    "import numpy as np\n",
    "vec = np.genfromtxt('./data/anscombe.csv', skip_header=1, delimiter=',', dtype=None)\n",
    "vec"
   ]
  },
  {
   "cell_type": "markdown",
   "metadata": {},
   "source": [
    "**np.array**"
   ]
  },
  {
   "cell_type": "code",
   "execution_count": 3,
   "metadata": {},
   "outputs": [
    {
     "output_type": "execute_result",
     "data": {
      "text/plain": [
       "(11, 8)"
      ]
     },
     "metadata": {},
     "execution_count": 3
    }
   ],
   "source": [
    "vec.shape"
   ]
  },
  {
   "cell_type": "code",
   "execution_count": 4,
   "metadata": {},
   "outputs": [
    {
     "output_type": "execute_result",
     "data": {
      "text/plain": [
       "8.74"
      ]
     },
     "metadata": {},
     "execution_count": 4
    }
   ],
   "source": [
    "# row 2+1,colume 3+1\n",
    "vec[2,3]"
   ]
  },
  {
   "cell_type": "code",
   "execution_count": 5,
   "metadata": {},
   "outputs": [
    {
     "output_type": "execute_result",
     "data": {
      "text/plain": [
       "array([ 8.04,  6.95,  7.58,  8.81,  8.33,  9.96,  7.24,  4.26, 10.84,\n",
       "        4.82,  5.68])"
      ]
     },
     "metadata": {},
     "execution_count": 5
    }
   ],
   "source": [
    "# all row,column 1\n",
    "vec[:,1]"
   ]
  },
  {
   "cell_type": "markdown",
   "metadata": {},
   "source": [
    "#### 2 Statistical Measures\n",
    "\n",
    "[numpy.mean](https://docs.scipy.org/doc/numpy/reference/generated/numpy.mean.html)： Compute the arithmetic mean along the specified axis.\n",
    "\n",
    "[numpy.var](https://docs.scipy.org/doc/numpy/reference/generated/numpy.var.html)： Compute the variance along the specified axis.\n",
    "\n",
    "[numpy.corrcoef](https://docs.scipy.org/doc/numpy/reference/generated/numpy.corrcoef.html)：Return Pearson product-moment correlation coefficients.\n",
    "\n"
   ]
  },
  {
   "cell_type": "code",
   "execution_count": 6,
   "metadata": {},
   "outputs": [
    {
     "output_type": "stream",
     "name": "stdout",
     "text": [
      "[[9.         7.50090909]\n [9.         7.50090909]\n [9.         7.5       ]\n [9.         7.50090909]]\n[[10.          3.75206281]\n [10.          3.75239008]\n [10.          3.74783636]\n [10.          3.74840826]]\n[0.81642052 0.81623651 0.81628674 0.81652144]\n"
     ]
    }
   ],
   "source": [
    "groupcount=vec.shape[1]//2\n",
    "# rows:4 group, columns: 2 (x,y)\n",
    "means = np.zeros(shape=(groupcount,2))\n",
    "pvars = np.zeros(shape=(groupcount,2))\n",
    "corrcoefs = np.zeros(groupcount)\n",
    "for i in range(groupcount):\n",
    "    means[i]=[np.mean(vec[:,i*2]),np.mean(vec[:,1+i*2])]\n",
    "    pvars[i]=[np.var(vec[:,i*2]),np.var(vec[:,1+i*2])]\n",
    "    corrcoefs[i]=np.corrcoef(vec[:,i*2],vec[:,1+i*2])[0,1]\n",
    "print(means)  \n",
    "print(pvars)\n",
    "print(corrcoefs)"
   ]
  },
  {
   "cell_type": "markdown",
   "metadata": {},
   "source": [
    "####  3 Linear Regression\n",
    "\n",
    "**[numpy.polyfit](https://docs.scipy.org/doc/numpy/reference/generated/numpy.polyfit.html)**\n",
    "\n",
    "* Least squares polynomial fit.Fit a polynomial $p(x) = p[0] * x^{deg} + ... + p[deg]$ of degree deg to points $(x, y)$. Returns a vector of coefficients $p$ that minimises the squared error."
   ]
  },
  {
   "cell_type": "code",
   "execution_count": 7,
   "metadata": {},
   "outputs": [
    {
     "output_type": "stream",
     "name": "stdout",
     "text": [
      "0.5000909090909094 3.000090909090908\n0.5000000000000003 3.00090909090909\n0.49972727272727313 3.0024545454545453\n0.4999090909090908 3.001727272727274\n"
     ]
    }
   ],
   "source": [
    "a = np.zeros(groupcount)\n",
    "b= np.zeros(groupcount)\n",
    "for i in range(groupcount):\n",
    "    a[i],b[i] = np.polyfit(vec[:,i*2],vec[:,1+i*2], 1)\n",
    "    print(a[i],b[i])"
   ]
  },
  {
   "cell_type": "markdown",
   "metadata": {},
   "source": [
    "#### 4 Plotting：Subplot\n",
    "\n",
    "[matplotlib.pyplot.figure.subplot](https://matplotlib.org/stable/api/_as_gen/matplotlib.pyplot.subplot.html): \n",
    "\n",
    "Add a **subplot** to the current figure\n",
    "\n",
    "```python\n",
    "subplot(nrows, ncols, index)\n",
    "```\n",
    "[matplotlib.pyplot.subplots_adjust](https://matplotlib.org/stable/api/_as_gen/matplotlib.pyplot.subplots_adjust.html): \n",
    "\n",
    "Tune the **subplot** layout\n",
    "\n",
    "```python\n",
    "subplots_adjust(left=None, bottom=None, right=None, top=None)\n",
    "```\n"
   ]
  },
  {
   "cell_type": "code",
   "execution_count": 8,
   "metadata": {},
   "outputs": [],
   "source": [
    "import math\n",
    "import matplotlib.pyplot as plt\n",
    "\n",
    "def plotData(x,y,i,ai,bi,fx,fy):\n",
    "    plt.title('No: '+str(i+1))\n",
    "    plt.xlabel('x')\n",
    "    plt.ylabel('y')\n",
    "    # data points\n",
    "    plt.plot(x,y, 'bo')\n",
    "    \n",
    "    # the linear fit line  \n",
    "    streq=\"$y={:.5f}x+{:.5f}$\".format(ai, bi)\n",
    "    _label= \"Linear Regression:$y=f(x)$\"+\"\\n\"+streq\n",
    "    plt.plot(fx, fy, 'k-',label=_label)\n",
    "    \n",
    "    plt.legend(loc='best')"
   ]
  },
  {
   "cell_type": "code",
   "execution_count": 9,
   "metadata": {},
   "outputs": [
    {
     "output_type": "display_data",
     "data": {
      "text/plain": "<Figure size 864x576 with 4 Axes>",
      "image/svg+xml": "<?xml version=\"1.0\" encoding=\"utf-8\" standalone=\"no\"?>\r\n<!DOCTYPE svg PUBLIC \"-//W3C//DTD SVG 1.1//EN\"\r\n  \"http://www.w3.org/Graphics/SVG/1.1/DTD/svg11.dtd\">\r\n<svg height=\"578.274375pt\" version=\"1.1\" viewBox=\"0 0 836.535937 578.274375\" width=\"836.535937pt\" xmlns=\"http://www.w3.org/2000/svg\" xmlns:xlink=\"http://www.w3.org/1999/xlink\">\r\n <metadata>\r\n  <rdf:RDF xmlns:cc=\"http://creativecommons.org/ns#\" xmlns:dc=\"http://purl.org/dc/elements/1.1/\" xmlns:rdf=\"http://www.w3.org/1999/02/22-rdf-syntax-ns#\">\r\n   <cc:Work>\r\n    <dc:type rdf:resource=\"http://purl.org/dc/dcmitype/StillImage\"/>\r\n    <dc:date>2021-07-08T21:44:02.542487</dc:date>\r\n    <dc:format>image/svg+xml</dc:format>\r\n    <dc:creator>\r\n     <cc:Agent>\r\n      <dc:title>Matplotlib v3.4.2, https://matplotlib.org/</dc:title>\r\n     </cc:Agent>\r\n    </dc:creator>\r\n   </cc:Work>\r\n  </rdf:RDF>\r\n </metadata>\r\n <defs>\r\n  <style type=\"text/css\">*{stroke-linecap:butt;stroke-linejoin:round;}</style>\r\n </defs>\r\n <g id=\"figure_1\">\r\n  <g id=\"patch_1\">\r\n   <path d=\"M 0 578.274375 \r\nL 836.535937 578.274375 \r\nL 836.535937 0 \r\nL 0 0 \r\nz\r\n\" style=\"fill:none;\"/>\r\n  </g>\r\n  <g id=\"axes_1\">\r\n   <g id=\"patch_2\">\r\n    <path d=\"M 40.603125 257.954489 \r\nL 394.05767 257.954489 \r\nL 394.05767 22.318125 \r\nL 40.603125 22.318125 \r\nz\r\n\" style=\"fill:#ffffff;\"/>\r\n   </g>\r\n   <g id=\"matplotlib.axis_1\">\r\n    <g id=\"xtick_1\">\r\n     <g id=\"line2d_1\">\r\n      <defs>\r\n       <path d=\"M 0 0 \r\nL 0 3.5 \r\n\" id=\"m04b05c712b\" style=\"stroke:#000000;stroke-width:0.8;\"/>\r\n      </defs>\r\n      <g>\r\n       <use style=\"stroke:#000000;stroke-width:0.8;\" x=\"40.603125\" xlink:href=\"#m04b05c712b\" y=\"257.954489\"/>\r\n      </g>\r\n     </g>\r\n     <g id=\"text_1\">\r\n      <!-- 0.0 -->\r\n      <g transform=\"translate(32.651563 272.552926)scale(0.1 -0.1)\">\r\n       <defs>\r\n        <path d=\"M 2034 4250 \r\nQ 1547 4250 1301 3770 \r\nQ 1056 3291 1056 2328 \r\nQ 1056 1369 1301 889 \r\nQ 1547 409 2034 409 \r\nQ 2525 409 2770 889 \r\nQ 3016 1369 3016 2328 \r\nQ 3016 3291 2770 3770 \r\nQ 2525 4250 2034 4250 \r\nz\r\nM 2034 4750 \r\nQ 2819 4750 3233 4129 \r\nQ 3647 3509 3647 2328 \r\nQ 3647 1150 3233 529 \r\nQ 2819 -91 2034 -91 \r\nQ 1250 -91 836 529 \r\nQ 422 1150 422 2328 \r\nQ 422 3509 836 4129 \r\nQ 1250 4750 2034 4750 \r\nz\r\n\" id=\"DejaVuSans-30\" transform=\"scale(0.015625)\"/>\r\n        <path d=\"M 684 794 \r\nL 1344 794 \r\nL 1344 0 \r\nL 684 0 \r\nL 684 794 \r\nz\r\n\" id=\"DejaVuSans-2e\" transform=\"scale(0.015625)\"/>\r\n       </defs>\r\n       <use xlink:href=\"#DejaVuSans-30\"/>\r\n       <use x=\"63.623047\" xlink:href=\"#DejaVuSans-2e\"/>\r\n       <use x=\"95.410156\" xlink:href=\"#DejaVuSans-30\"/>\r\n      </g>\r\n     </g>\r\n    </g>\r\n    <g id=\"xtick_2\">\r\n     <g id=\"line2d_2\">\r\n      <g>\r\n       <use style=\"stroke:#000000;stroke-width:0.8;\" x=\"84.784943\" xlink:href=\"#m04b05c712b\" y=\"257.954489\"/>\r\n      </g>\r\n     </g>\r\n     <g id=\"text_2\">\r\n      <!-- 2.5 -->\r\n      <g transform=\"translate(76.833381 272.552926)scale(0.1 -0.1)\">\r\n       <defs>\r\n        <path d=\"M 1228 531 \r\nL 3431 531 \r\nL 3431 0 \r\nL 469 0 \r\nL 469 531 \r\nQ 828 903 1448 1529 \r\nQ 2069 2156 2228 2338 \r\nQ 2531 2678 2651 2914 \r\nQ 2772 3150 2772 3378 \r\nQ 2772 3750 2511 3984 \r\nQ 2250 4219 1831 4219 \r\nQ 1534 4219 1204 4116 \r\nQ 875 4013 500 3803 \r\nL 500 4441 \r\nQ 881 4594 1212 4672 \r\nQ 1544 4750 1819 4750 \r\nQ 2544 4750 2975 4387 \r\nQ 3406 4025 3406 3419 \r\nQ 3406 3131 3298 2873 \r\nQ 3191 2616 2906 2266 \r\nQ 2828 2175 2409 1742 \r\nQ 1991 1309 1228 531 \r\nz\r\n\" id=\"DejaVuSans-32\" transform=\"scale(0.015625)\"/>\r\n        <path d=\"M 691 4666 \r\nL 3169 4666 \r\nL 3169 4134 \r\nL 1269 4134 \r\nL 1269 2991 \r\nQ 1406 3038 1543 3061 \r\nQ 1681 3084 1819 3084 \r\nQ 2600 3084 3056 2656 \r\nQ 3513 2228 3513 1497 \r\nQ 3513 744 3044 326 \r\nQ 2575 -91 1722 -91 \r\nQ 1428 -91 1123 -41 \r\nQ 819 9 494 109 \r\nL 494 744 \r\nQ 775 591 1075 516 \r\nQ 1375 441 1709 441 \r\nQ 2250 441 2565 725 \r\nQ 2881 1009 2881 1497 \r\nQ 2881 1984 2565 2268 \r\nQ 2250 2553 1709 2553 \r\nQ 1456 2553 1204 2497 \r\nQ 953 2441 691 2322 \r\nL 691 4666 \r\nz\r\n\" id=\"DejaVuSans-35\" transform=\"scale(0.015625)\"/>\r\n       </defs>\r\n       <use xlink:href=\"#DejaVuSans-32\"/>\r\n       <use x=\"63.623047\" xlink:href=\"#DejaVuSans-2e\"/>\r\n       <use x=\"95.410156\" xlink:href=\"#DejaVuSans-35\"/>\r\n      </g>\r\n     </g>\r\n    </g>\r\n    <g id=\"xtick_3\">\r\n     <g id=\"line2d_3\">\r\n      <g>\r\n       <use style=\"stroke:#000000;stroke-width:0.8;\" x=\"128.966761\" xlink:href=\"#m04b05c712b\" y=\"257.954489\"/>\r\n      </g>\r\n     </g>\r\n     <g id=\"text_3\">\r\n      <!-- 5.0 -->\r\n      <g transform=\"translate(121.015199 272.552926)scale(0.1 -0.1)\">\r\n       <use xlink:href=\"#DejaVuSans-35\"/>\r\n       <use x=\"63.623047\" xlink:href=\"#DejaVuSans-2e\"/>\r\n       <use x=\"95.410156\" xlink:href=\"#DejaVuSans-30\"/>\r\n      </g>\r\n     </g>\r\n    </g>\r\n    <g id=\"xtick_4\">\r\n     <g id=\"line2d_4\">\r\n      <g>\r\n       <use style=\"stroke:#000000;stroke-width:0.8;\" x=\"173.14858\" xlink:href=\"#m04b05c712b\" y=\"257.954489\"/>\r\n      </g>\r\n     </g>\r\n     <g id=\"text_4\">\r\n      <!-- 7.5 -->\r\n      <g transform=\"translate(165.197017 272.552926)scale(0.1 -0.1)\">\r\n       <defs>\r\n        <path d=\"M 525 4666 \r\nL 3525 4666 \r\nL 3525 4397 \r\nL 1831 0 \r\nL 1172 0 \r\nL 2766 4134 \r\nL 525 4134 \r\nL 525 4666 \r\nz\r\n\" id=\"DejaVuSans-37\" transform=\"scale(0.015625)\"/>\r\n       </defs>\r\n       <use xlink:href=\"#DejaVuSans-37\"/>\r\n       <use x=\"63.623047\" xlink:href=\"#DejaVuSans-2e\"/>\r\n       <use x=\"95.410156\" xlink:href=\"#DejaVuSans-35\"/>\r\n      </g>\r\n     </g>\r\n    </g>\r\n    <g id=\"xtick_5\">\r\n     <g id=\"line2d_5\">\r\n      <g>\r\n       <use style=\"stroke:#000000;stroke-width:0.8;\" x=\"217.330398\" xlink:href=\"#m04b05c712b\" y=\"257.954489\"/>\r\n      </g>\r\n     </g>\r\n     <g id=\"text_5\">\r\n      <!-- 10.0 -->\r\n      <g transform=\"translate(206.197585 272.552926)scale(0.1 -0.1)\">\r\n       <defs>\r\n        <path d=\"M 794 531 \r\nL 1825 531 \r\nL 1825 4091 \r\nL 703 3866 \r\nL 703 4441 \r\nL 1819 4666 \r\nL 2450 4666 \r\nL 2450 531 \r\nL 3481 531 \r\nL 3481 0 \r\nL 794 0 \r\nL 794 531 \r\nz\r\n\" id=\"DejaVuSans-31\" transform=\"scale(0.015625)\"/>\r\n       </defs>\r\n       <use xlink:href=\"#DejaVuSans-31\"/>\r\n       <use x=\"63.623047\" xlink:href=\"#DejaVuSans-30\"/>\r\n       <use x=\"127.246094\" xlink:href=\"#DejaVuSans-2e\"/>\r\n       <use x=\"159.033203\" xlink:href=\"#DejaVuSans-30\"/>\r\n      </g>\r\n     </g>\r\n    </g>\r\n    <g id=\"xtick_6\">\r\n     <g id=\"line2d_6\">\r\n      <g>\r\n       <use style=\"stroke:#000000;stroke-width:0.8;\" x=\"261.512216\" xlink:href=\"#m04b05c712b\" y=\"257.954489\"/>\r\n      </g>\r\n     </g>\r\n     <g id=\"text_6\">\r\n      <!-- 12.5 -->\r\n      <g transform=\"translate(250.379403 272.552926)scale(0.1 -0.1)\">\r\n       <use xlink:href=\"#DejaVuSans-31\"/>\r\n       <use x=\"63.623047\" xlink:href=\"#DejaVuSans-32\"/>\r\n       <use x=\"127.246094\" xlink:href=\"#DejaVuSans-2e\"/>\r\n       <use x=\"159.033203\" xlink:href=\"#DejaVuSans-35\"/>\r\n      </g>\r\n     </g>\r\n    </g>\r\n    <g id=\"xtick_7\">\r\n     <g id=\"line2d_7\">\r\n      <g>\r\n       <use style=\"stroke:#000000;stroke-width:0.8;\" x=\"305.694034\" xlink:href=\"#m04b05c712b\" y=\"257.954489\"/>\r\n      </g>\r\n     </g>\r\n     <g id=\"text_7\">\r\n      <!-- 15.0 -->\r\n      <g transform=\"translate(294.561222 272.552926)scale(0.1 -0.1)\">\r\n       <use xlink:href=\"#DejaVuSans-31\"/>\r\n       <use x=\"63.623047\" xlink:href=\"#DejaVuSans-35\"/>\r\n       <use x=\"127.246094\" xlink:href=\"#DejaVuSans-2e\"/>\r\n       <use x=\"159.033203\" xlink:href=\"#DejaVuSans-30\"/>\r\n      </g>\r\n     </g>\r\n    </g>\r\n    <g id=\"xtick_8\">\r\n     <g id=\"line2d_8\">\r\n      <g>\r\n       <use style=\"stroke:#000000;stroke-width:0.8;\" x=\"349.875852\" xlink:href=\"#m04b05c712b\" y=\"257.954489\"/>\r\n      </g>\r\n     </g>\r\n     <g id=\"text_8\">\r\n      <!-- 17.5 -->\r\n      <g transform=\"translate(338.74304 272.552926)scale(0.1 -0.1)\">\r\n       <use xlink:href=\"#DejaVuSans-31\"/>\r\n       <use x=\"63.623047\" xlink:href=\"#DejaVuSans-37\"/>\r\n       <use x=\"127.246094\" xlink:href=\"#DejaVuSans-2e\"/>\r\n       <use x=\"159.033203\" xlink:href=\"#DejaVuSans-35\"/>\r\n      </g>\r\n     </g>\r\n    </g>\r\n    <g id=\"xtick_9\">\r\n     <g id=\"line2d_9\">\r\n      <g>\r\n       <use style=\"stroke:#000000;stroke-width:0.8;\" x=\"394.05767\" xlink:href=\"#m04b05c712b\" y=\"257.954489\"/>\r\n      </g>\r\n     </g>\r\n     <g id=\"text_9\">\r\n      <!-- 20.0 -->\r\n      <g transform=\"translate(382.924858 272.552926)scale(0.1 -0.1)\">\r\n       <use xlink:href=\"#DejaVuSans-32\"/>\r\n       <use x=\"63.623047\" xlink:href=\"#DejaVuSans-30\"/>\r\n       <use x=\"127.246094\" xlink:href=\"#DejaVuSans-2e\"/>\r\n       <use x=\"159.033203\" xlink:href=\"#DejaVuSans-30\"/>\r\n      </g>\r\n     </g>\r\n    </g>\r\n    <g id=\"text_10\">\r\n     <!-- x -->\r\n     <g transform=\"translate(214.371023 286.231051)scale(0.1 -0.1)\">\r\n      <defs>\r\n       <path d=\"M 3513 3500 \r\nL 2247 1797 \r\nL 3578 0 \r\nL 2900 0 \r\nL 1881 1375 \r\nL 863 0 \r\nL 184 0 \r\nL 1544 1831 \r\nL 300 3500 \r\nL 978 3500 \r\nL 1906 2253 \r\nL 2834 3500 \r\nL 3513 3500 \r\nz\r\n\" id=\"DejaVuSans-78\" transform=\"scale(0.015625)\"/>\r\n      </defs>\r\n      <use xlink:href=\"#DejaVuSans-78\"/>\r\n     </g>\r\n    </g>\r\n   </g>\r\n   <g id=\"matplotlib.axis_2\">\r\n    <g id=\"ytick_1\">\r\n     <g id=\"line2d_10\">\r\n      <defs>\r\n       <path d=\"M 0 0 \r\nL -3.5 0 \r\n\" id=\"m8f27accd07\" style=\"stroke:#000000;stroke-width:0.8;\"/>\r\n      </defs>\r\n      <g>\r\n       <use style=\"stroke:#000000;stroke-width:0.8;\" x=\"40.603125\" xlink:href=\"#m8f27accd07\" y=\"257.954489\"/>\r\n      </g>\r\n     </g>\r\n     <g id=\"text_11\">\r\n      <!-- 2 -->\r\n      <g transform=\"translate(27.240625 261.753707)scale(0.1 -0.1)\">\r\n       <use xlink:href=\"#DejaVuSans-32\"/>\r\n      </g>\r\n     </g>\r\n    </g>\r\n    <g id=\"ytick_2\">\r\n     <g id=\"line2d_11\">\r\n      <g>\r\n       <use style=\"stroke:#000000;stroke-width:0.8;\" x=\"40.603125\" xlink:href=\"#m8f27accd07\" y=\"218.681761\"/>\r\n      </g>\r\n     </g>\r\n     <g id=\"text_12\">\r\n      <!-- 4 -->\r\n      <g transform=\"translate(27.240625 222.48098)scale(0.1 -0.1)\">\r\n       <defs>\r\n        <path d=\"M 2419 4116 \r\nL 825 1625 \r\nL 2419 1625 \r\nL 2419 4116 \r\nz\r\nM 2253 4666 \r\nL 3047 4666 \r\nL 3047 1625 \r\nL 3713 1625 \r\nL 3713 1100 \r\nL 3047 1100 \r\nL 3047 0 \r\nL 2419 0 \r\nL 2419 1100 \r\nL 313 1100 \r\nL 313 1709 \r\nL 2253 4666 \r\nz\r\n\" id=\"DejaVuSans-34\" transform=\"scale(0.015625)\"/>\r\n       </defs>\r\n       <use xlink:href=\"#DejaVuSans-34\"/>\r\n      </g>\r\n     </g>\r\n    </g>\r\n    <g id=\"ytick_3\">\r\n     <g id=\"line2d_12\">\r\n      <g>\r\n       <use style=\"stroke:#000000;stroke-width:0.8;\" x=\"40.603125\" xlink:href=\"#m8f27accd07\" y=\"179.409034\"/>\r\n      </g>\r\n     </g>\r\n     <g id=\"text_13\">\r\n      <!-- 6 -->\r\n      <g transform=\"translate(27.240625 183.208253)scale(0.1 -0.1)\">\r\n       <defs>\r\n        <path d=\"M 2113 2584 \r\nQ 1688 2584 1439 2293 \r\nQ 1191 2003 1191 1497 \r\nQ 1191 994 1439 701 \r\nQ 1688 409 2113 409 \r\nQ 2538 409 2786 701 \r\nQ 3034 994 3034 1497 \r\nQ 3034 2003 2786 2293 \r\nQ 2538 2584 2113 2584 \r\nz\r\nM 3366 4563 \r\nL 3366 3988 \r\nQ 3128 4100 2886 4159 \r\nQ 2644 4219 2406 4219 \r\nQ 1781 4219 1451 3797 \r\nQ 1122 3375 1075 2522 \r\nQ 1259 2794 1537 2939 \r\nQ 1816 3084 2150 3084 \r\nQ 2853 3084 3261 2657 \r\nQ 3669 2231 3669 1497 \r\nQ 3669 778 3244 343 \r\nQ 2819 -91 2113 -91 \r\nQ 1303 -91 875 529 \r\nQ 447 1150 447 2328 \r\nQ 447 3434 972 4092 \r\nQ 1497 4750 2381 4750 \r\nQ 2619 4750 2861 4703 \r\nQ 3103 4656 3366 4563 \r\nz\r\n\" id=\"DejaVuSans-36\" transform=\"scale(0.015625)\"/>\r\n       </defs>\r\n       <use xlink:href=\"#DejaVuSans-36\"/>\r\n      </g>\r\n     </g>\r\n    </g>\r\n    <g id=\"ytick_4\">\r\n     <g id=\"line2d_13\">\r\n      <g>\r\n       <use style=\"stroke:#000000;stroke-width:0.8;\" x=\"40.603125\" xlink:href=\"#m8f27accd07\" y=\"140.136307\"/>\r\n      </g>\r\n     </g>\r\n     <g id=\"text_14\">\r\n      <!-- 8 -->\r\n      <g transform=\"translate(27.240625 143.935526)scale(0.1 -0.1)\">\r\n       <defs>\r\n        <path d=\"M 2034 2216 \r\nQ 1584 2216 1326 1975 \r\nQ 1069 1734 1069 1313 \r\nQ 1069 891 1326 650 \r\nQ 1584 409 2034 409 \r\nQ 2484 409 2743 651 \r\nQ 3003 894 3003 1313 \r\nQ 3003 1734 2745 1975 \r\nQ 2488 2216 2034 2216 \r\nz\r\nM 1403 2484 \r\nQ 997 2584 770 2862 \r\nQ 544 3141 544 3541 \r\nQ 544 4100 942 4425 \r\nQ 1341 4750 2034 4750 \r\nQ 2731 4750 3128 4425 \r\nQ 3525 4100 3525 3541 \r\nQ 3525 3141 3298 2862 \r\nQ 3072 2584 2669 2484 \r\nQ 3125 2378 3379 2068 \r\nQ 3634 1759 3634 1313 \r\nQ 3634 634 3220 271 \r\nQ 2806 -91 2034 -91 \r\nQ 1263 -91 848 271 \r\nQ 434 634 434 1313 \r\nQ 434 1759 690 2068 \r\nQ 947 2378 1403 2484 \r\nz\r\nM 1172 3481 \r\nQ 1172 3119 1398 2916 \r\nQ 1625 2713 2034 2713 \r\nQ 2441 2713 2670 2916 \r\nQ 2900 3119 2900 3481 \r\nQ 2900 3844 2670 4047 \r\nQ 2441 4250 2034 4250 \r\nQ 1625 4250 1398 4047 \r\nQ 1172 3844 1172 3481 \r\nz\r\n\" id=\"DejaVuSans-38\" transform=\"scale(0.015625)\"/>\r\n       </defs>\r\n       <use xlink:href=\"#DejaVuSans-38\"/>\r\n      </g>\r\n     </g>\r\n    </g>\r\n    <g id=\"ytick_5\">\r\n     <g id=\"line2d_14\">\r\n      <g>\r\n       <use style=\"stroke:#000000;stroke-width:0.8;\" x=\"40.603125\" xlink:href=\"#m8f27accd07\" y=\"100.86358\"/>\r\n      </g>\r\n     </g>\r\n     <g id=\"text_15\">\r\n      <!-- 10 -->\r\n      <g transform=\"translate(20.878125 104.662798)scale(0.1 -0.1)\">\r\n       <use xlink:href=\"#DejaVuSans-31\"/>\r\n       <use x=\"63.623047\" xlink:href=\"#DejaVuSans-30\"/>\r\n      </g>\r\n     </g>\r\n    </g>\r\n    <g id=\"ytick_6\">\r\n     <g id=\"line2d_15\">\r\n      <g>\r\n       <use style=\"stroke:#000000;stroke-width:0.8;\" x=\"40.603125\" xlink:href=\"#m8f27accd07\" y=\"61.590852\"/>\r\n      </g>\r\n     </g>\r\n     <g id=\"text_16\">\r\n      <!-- 12 -->\r\n      <g transform=\"translate(20.878125 65.390071)scale(0.1 -0.1)\">\r\n       <use xlink:href=\"#DejaVuSans-31\"/>\r\n       <use x=\"63.623047\" xlink:href=\"#DejaVuSans-32\"/>\r\n      </g>\r\n     </g>\r\n    </g>\r\n    <g id=\"ytick_7\">\r\n     <g id=\"line2d_16\">\r\n      <g>\r\n       <use style=\"stroke:#000000;stroke-width:0.8;\" x=\"40.603125\" xlink:href=\"#m8f27accd07\" y=\"22.318125\"/>\r\n      </g>\r\n     </g>\r\n     <g id=\"text_17\">\r\n      <!-- 14 -->\r\n      <g transform=\"translate(20.878125 26.117344)scale(0.1 -0.1)\">\r\n       <use xlink:href=\"#DejaVuSans-31\"/>\r\n       <use x=\"63.623047\" xlink:href=\"#DejaVuSans-34\"/>\r\n      </g>\r\n     </g>\r\n    </g>\r\n    <g id=\"text_18\">\r\n     <!-- y -->\r\n     <g transform=\"translate(14.798438 143.095682)rotate(-90)scale(0.1 -0.1)\">\r\n      <defs>\r\n       <path d=\"M 2059 -325 \r\nQ 1816 -950 1584 -1140 \r\nQ 1353 -1331 966 -1331 \r\nL 506 -1331 \r\nL 506 -850 \r\nL 844 -850 \r\nQ 1081 -850 1212 -737 \r\nQ 1344 -625 1503 -206 \r\nL 1606 56 \r\nL 191 3500 \r\nL 800 3500 \r\nL 1894 763 \r\nL 2988 3500 \r\nL 3597 3500 \r\nL 2059 -325 \r\nz\r\n\" id=\"DejaVuSans-79\" transform=\"scale(0.015625)\"/>\r\n      </defs>\r\n      <use xlink:href=\"#DejaVuSans-79\"/>\r\n     </g>\r\n    </g>\r\n   </g>\r\n   <g id=\"line2d_17\">\r\n    <defs>\r\n     <path d=\"M 0 3 \r\nC 0.795609 3 1.55874 2.683901 2.12132 2.12132 \r\nC 2.683901 1.55874 3 0.795609 3 0 \r\nC 3 -0.795609 2.683901 -1.55874 2.12132 -2.12132 \r\nC 1.55874 -2.683901 0.795609 -3 0 -3 \r\nC -0.795609 -3 -1.55874 -2.683901 -2.12132 -2.12132 \r\nC -2.683901 -1.55874 -3 -0.795609 -3 0 \r\nC -3 0.795609 -2.683901 1.55874 -2.12132 2.12132 \r\nC -1.55874 2.683901 -0.795609 3 0 3 \r\nz\r\n\" id=\"mc86ee15c47\" style=\"stroke:#0000ff;\"/>\r\n    </defs>\r\n    <g clip-path=\"url(#pd485b78d6f)\">\r\n     <use style=\"fill:#0000ff;stroke:#0000ff;\" x=\"217.330398\" xlink:href=\"#mc86ee15c47\" y=\"139.350852\"/>\r\n     <use style=\"fill:#0000ff;stroke:#0000ff;\" x=\"181.984943\" xlink:href=\"#mc86ee15c47\" y=\"160.754489\"/>\r\n     <use style=\"fill:#0000ff;stroke:#0000ff;\" x=\"270.34858\" xlink:href=\"#mc86ee15c47\" y=\"148.38358\"/>\r\n     <use style=\"fill:#0000ff;stroke:#0000ff;\" x=\"199.65767\" xlink:href=\"#mc86ee15c47\" y=\"124.230852\"/>\r\n     <use style=\"fill:#0000ff;stroke:#0000ff;\" x=\"235.003125\" xlink:href=\"#mc86ee15c47\" y=\"133.656307\"/>\r\n     <use style=\"fill:#0000ff;stroke:#0000ff;\" x=\"288.021307\" xlink:href=\"#mc86ee15c47\" y=\"101.649034\"/>\r\n     <use style=\"fill:#0000ff;stroke:#0000ff;\" x=\"146.639489\" xlink:href=\"#mc86ee15c47\" y=\"155.059943\"/>\r\n     <use style=\"fill:#0000ff;stroke:#0000ff;\" x=\"111.294034\" xlink:href=\"#mc86ee15c47\" y=\"213.576307\"/>\r\n     <use style=\"fill:#0000ff;stroke:#0000ff;\" x=\"252.675852\" xlink:href=\"#mc86ee15c47\" y=\"84.369034\"/>\r\n     <use style=\"fill:#0000ff;stroke:#0000ff;\" x=\"164.312216\" xlink:href=\"#mc86ee15c47\" y=\"202.579943\"/>\r\n     <use style=\"fill:#0000ff;stroke:#0000ff;\" x=\"128.966761\" xlink:href=\"#mc86ee15c47\" y=\"185.69267\"/>\r\n    </g>\r\n   </g>\r\n   <g id=\"line2d_18\">\r\n    <path clip-path=\"url(#pd485b78d6f)\" d=\"M 40.603125 238.31634 \r\nL 394.05767 41.917001 \r\n\" style=\"fill:none;stroke:#000000;stroke-linecap:square;stroke-width:1.5;\"/>\r\n   </g>\r\n   <g id=\"patch_3\">\r\n    <path d=\"M 40.603125 257.954489 \r\nL 40.603125 22.318125 \r\n\" style=\"fill:none;stroke:#000000;stroke-linecap:square;stroke-linejoin:miter;stroke-width:0.8;\"/>\r\n   </g>\r\n   <g id=\"patch_4\">\r\n    <path d=\"M 394.05767 257.954489 \r\nL 394.05767 22.318125 \r\n\" style=\"fill:none;stroke:#000000;stroke-linecap:square;stroke-linejoin:miter;stroke-width:0.8;\"/>\r\n   </g>\r\n   <g id=\"patch_5\">\r\n    <path d=\"M 40.603125 257.954489 \r\nL 394.05767 257.954489 \r\n\" style=\"fill:none;stroke:#000000;stroke-linecap:square;stroke-linejoin:miter;stroke-width:0.8;\"/>\r\n   </g>\r\n   <g id=\"patch_6\">\r\n    <path d=\"M 40.603125 22.318125 \r\nL 394.05767 22.318125 \r\n\" style=\"fill:none;stroke:#000000;stroke-linecap:square;stroke-linejoin:miter;stroke-width:0.8;\"/>\r\n   </g>\r\n   <g id=\"text_19\">\r\n    <!-- No: 1 -->\r\n    <g transform=\"translate(201.424773 16.318125)scale(0.12 -0.12)\">\r\n     <defs>\r\n      <path d=\"M 628 4666 \r\nL 1478 4666 \r\nL 3547 763 \r\nL 3547 4666 \r\nL 4159 4666 \r\nL 4159 0 \r\nL 3309 0 \r\nL 1241 3903 \r\nL 1241 0 \r\nL 628 0 \r\nL 628 4666 \r\nz\r\n\" id=\"DejaVuSans-4e\" transform=\"scale(0.015625)\"/>\r\n      <path d=\"M 1959 3097 \r\nQ 1497 3097 1228 2736 \r\nQ 959 2375 959 1747 \r\nQ 959 1119 1226 758 \r\nQ 1494 397 1959 397 \r\nQ 2419 397 2687 759 \r\nQ 2956 1122 2956 1747 \r\nQ 2956 2369 2687 2733 \r\nQ 2419 3097 1959 3097 \r\nz\r\nM 1959 3584 \r\nQ 2709 3584 3137 3096 \r\nQ 3566 2609 3566 1747 \r\nQ 3566 888 3137 398 \r\nQ 2709 -91 1959 -91 \r\nQ 1206 -91 779 398 \r\nQ 353 888 353 1747 \r\nQ 353 2609 779 3096 \r\nQ 1206 3584 1959 3584 \r\nz\r\n\" id=\"DejaVuSans-6f\" transform=\"scale(0.015625)\"/>\r\n      <path d=\"M 750 794 \r\nL 1409 794 \r\nL 1409 0 \r\nL 750 0 \r\nL 750 794 \r\nz\r\nM 750 3309 \r\nL 1409 3309 \r\nL 1409 2516 \r\nL 750 2516 \r\nL 750 3309 \r\nz\r\n\" id=\"DejaVuSans-3a\" transform=\"scale(0.015625)\"/>\r\n      <path id=\"DejaVuSans-20\" transform=\"scale(0.015625)\"/>\r\n     </defs>\r\n     <use xlink:href=\"#DejaVuSans-4e\"/>\r\n     <use x=\"74.804688\" xlink:href=\"#DejaVuSans-6f\"/>\r\n     <use x=\"135.986328\" xlink:href=\"#DejaVuSans-3a\"/>\r\n     <use x=\"169.677734\" xlink:href=\"#DejaVuSans-20\"/>\r\n     <use x=\"201.464844\" xlink:href=\"#DejaVuSans-31\"/>\r\n    </g>\r\n   </g>\r\n   <g id=\"legend_1\">\r\n    <g id=\"patch_7\">\r\n     <path d=\"M 47.603125 56.23625 \r\nL 208.103125 56.23625 \r\nQ 210.103125 56.23625 210.103125 54.23625 \r\nL 210.103125 29.318125 \r\nQ 210.103125 27.318125 208.103125 27.318125 \r\nL 47.603125 27.318125 \r\nQ 45.603125 27.318125 45.603125 29.318125 \r\nL 45.603125 54.23625 \r\nQ 45.603125 56.23625 47.603125 56.23625 \r\nz\r\n\" style=\"fill:#ffffff;opacity:0.8;stroke:#cccccc;stroke-linejoin:miter;\"/>\r\n    </g>\r\n    <g id=\"line2d_19\">\r\n     <path d=\"M 49.603125 42.076406 \r\nL 69.603125 42.076406 \r\n\" style=\"fill:none;stroke:#000000;stroke-linecap:square;stroke-width:1.5;\"/>\r\n    </g>\r\n    <g id=\"line2d_20\"/>\r\n    <g id=\"text_20\">\r\n     <!-- Linear Regression:$y=f(x)$ -->\r\n     <g transform=\"translate(77.603125 38.918125)scale(0.1 -0.1)\">\r\n      <defs>\r\n       <path d=\"M 628 4666 \r\nL 1259 4666 \r\nL 1259 531 \r\nL 3531 531 \r\nL 3531 0 \r\nL 628 0 \r\nL 628 4666 \r\nz\r\n\" id=\"DejaVuSans-4c\" transform=\"scale(0.015625)\"/>\r\n       <path d=\"M 603 3500 \r\nL 1178 3500 \r\nL 1178 0 \r\nL 603 0 \r\nL 603 3500 \r\nz\r\nM 603 4863 \r\nL 1178 4863 \r\nL 1178 4134 \r\nL 603 4134 \r\nL 603 4863 \r\nz\r\n\" id=\"DejaVuSans-69\" transform=\"scale(0.015625)\"/>\r\n       <path d=\"M 3513 2113 \r\nL 3513 0 \r\nL 2938 0 \r\nL 2938 2094 \r\nQ 2938 2591 2744 2837 \r\nQ 2550 3084 2163 3084 \r\nQ 1697 3084 1428 2787 \r\nQ 1159 2491 1159 1978 \r\nL 1159 0 \r\nL 581 0 \r\nL 581 3500 \r\nL 1159 3500 \r\nL 1159 2956 \r\nQ 1366 3272 1645 3428 \r\nQ 1925 3584 2291 3584 \r\nQ 2894 3584 3203 3211 \r\nQ 3513 2838 3513 2113 \r\nz\r\n\" id=\"DejaVuSans-6e\" transform=\"scale(0.015625)\"/>\r\n       <path d=\"M 3597 1894 \r\nL 3597 1613 \r\nL 953 1613 \r\nQ 991 1019 1311 708 \r\nQ 1631 397 2203 397 \r\nQ 2534 397 2845 478 \r\nQ 3156 559 3463 722 \r\nL 3463 178 \r\nQ 3153 47 2828 -22 \r\nQ 2503 -91 2169 -91 \r\nQ 1331 -91 842 396 \r\nQ 353 884 353 1716 \r\nQ 353 2575 817 3079 \r\nQ 1281 3584 2069 3584 \r\nQ 2775 3584 3186 3129 \r\nQ 3597 2675 3597 1894 \r\nz\r\nM 3022 2063 \r\nQ 3016 2534 2758 2815 \r\nQ 2500 3097 2075 3097 \r\nQ 1594 3097 1305 2825 \r\nQ 1016 2553 972 2059 \r\nL 3022 2063 \r\nz\r\n\" id=\"DejaVuSans-65\" transform=\"scale(0.015625)\"/>\r\n       <path d=\"M 2194 1759 \r\nQ 1497 1759 1228 1600 \r\nQ 959 1441 959 1056 \r\nQ 959 750 1161 570 \r\nQ 1363 391 1709 391 \r\nQ 2188 391 2477 730 \r\nQ 2766 1069 2766 1631 \r\nL 2766 1759 \r\nL 2194 1759 \r\nz\r\nM 3341 1997 \r\nL 3341 0 \r\nL 2766 0 \r\nL 2766 531 \r\nQ 2569 213 2275 61 \r\nQ 1981 -91 1556 -91 \r\nQ 1019 -91 701 211 \r\nQ 384 513 384 1019 \r\nQ 384 1609 779 1909 \r\nQ 1175 2209 1959 2209 \r\nL 2766 2209 \r\nL 2766 2266 \r\nQ 2766 2663 2505 2880 \r\nQ 2244 3097 1772 3097 \r\nQ 1472 3097 1187 3025 \r\nQ 903 2953 641 2809 \r\nL 641 3341 \r\nQ 956 3463 1253 3523 \r\nQ 1550 3584 1831 3584 \r\nQ 2591 3584 2966 3190 \r\nQ 3341 2797 3341 1997 \r\nz\r\n\" id=\"DejaVuSans-61\" transform=\"scale(0.015625)\"/>\r\n       <path d=\"M 2631 2963 \r\nQ 2534 3019 2420 3045 \r\nQ 2306 3072 2169 3072 \r\nQ 1681 3072 1420 2755 \r\nQ 1159 2438 1159 1844 \r\nL 1159 0 \r\nL 581 0 \r\nL 581 3500 \r\nL 1159 3500 \r\nL 1159 2956 \r\nQ 1341 3275 1631 3429 \r\nQ 1922 3584 2338 3584 \r\nQ 2397 3584 2469 3576 \r\nQ 2541 3569 2628 3553 \r\nL 2631 2963 \r\nz\r\n\" id=\"DejaVuSans-72\" transform=\"scale(0.015625)\"/>\r\n       <path d=\"M 2841 2188 \r\nQ 3044 2119 3236 1894 \r\nQ 3428 1669 3622 1275 \r\nL 4263 0 \r\nL 3584 0 \r\nL 2988 1197 \r\nQ 2756 1666 2539 1819 \r\nQ 2322 1972 1947 1972 \r\nL 1259 1972 \r\nL 1259 0 \r\nL 628 0 \r\nL 628 4666 \r\nL 2053 4666 \r\nQ 2853 4666 3247 4331 \r\nQ 3641 3997 3641 3322 \r\nQ 3641 2881 3436 2590 \r\nQ 3231 2300 2841 2188 \r\nz\r\nM 1259 4147 \r\nL 1259 2491 \r\nL 2053 2491 \r\nQ 2509 2491 2742 2702 \r\nQ 2975 2913 2975 3322 \r\nQ 2975 3731 2742 3939 \r\nQ 2509 4147 2053 4147 \r\nL 1259 4147 \r\nz\r\n\" id=\"DejaVuSans-52\" transform=\"scale(0.015625)\"/>\r\n       <path d=\"M 2906 1791 \r\nQ 2906 2416 2648 2759 \r\nQ 2391 3103 1925 3103 \r\nQ 1463 3103 1205 2759 \r\nQ 947 2416 947 1791 \r\nQ 947 1169 1205 825 \r\nQ 1463 481 1925 481 \r\nQ 2391 481 2648 825 \r\nQ 2906 1169 2906 1791 \r\nz\r\nM 3481 434 \r\nQ 3481 -459 3084 -895 \r\nQ 2688 -1331 1869 -1331 \r\nQ 1566 -1331 1297 -1286 \r\nQ 1028 -1241 775 -1147 \r\nL 775 -588 \r\nQ 1028 -725 1275 -790 \r\nQ 1522 -856 1778 -856 \r\nQ 2344 -856 2625 -561 \r\nQ 2906 -266 2906 331 \r\nL 2906 616 \r\nQ 2728 306 2450 153 \r\nQ 2172 0 1784 0 \r\nQ 1141 0 747 490 \r\nQ 353 981 353 1791 \r\nQ 353 2603 747 3093 \r\nQ 1141 3584 1784 3584 \r\nQ 2172 3584 2450 3431 \r\nQ 2728 3278 2906 2969 \r\nL 2906 3500 \r\nL 3481 3500 \r\nL 3481 434 \r\nz\r\n\" id=\"DejaVuSans-67\" transform=\"scale(0.015625)\"/>\r\n       <path d=\"M 2834 3397 \r\nL 2834 2853 \r\nQ 2591 2978 2328 3040 \r\nQ 2066 3103 1784 3103 \r\nQ 1356 3103 1142 2972 \r\nQ 928 2841 928 2578 \r\nQ 928 2378 1081 2264 \r\nQ 1234 2150 1697 2047 \r\nL 1894 2003 \r\nQ 2506 1872 2764 1633 \r\nQ 3022 1394 3022 966 \r\nQ 3022 478 2636 193 \r\nQ 2250 -91 1575 -91 \r\nQ 1294 -91 989 -36 \r\nQ 684 19 347 128 \r\nL 347 722 \r\nQ 666 556 975 473 \r\nQ 1284 391 1588 391 \r\nQ 1994 391 2212 530 \r\nQ 2431 669 2431 922 \r\nQ 2431 1156 2273 1281 \r\nQ 2116 1406 1581 1522 \r\nL 1381 1569 \r\nQ 847 1681 609 1914 \r\nQ 372 2147 372 2553 \r\nQ 372 3047 722 3315 \r\nQ 1072 3584 1716 3584 \r\nQ 2034 3584 2315 3537 \r\nQ 2597 3491 2834 3397 \r\nz\r\n\" id=\"DejaVuSans-73\" transform=\"scale(0.015625)\"/>\r\n       <path d=\"M 1588 -325 \r\nQ 1188 -997 936 -1164 \r\nQ 684 -1331 294 -1331 \r\nL -159 -1331 \r\nL -63 -850 \r\nL 269 -850 \r\nQ 509 -850 678 -719 \r\nQ 847 -588 1056 -206 \r\nL 1234 128 \r\nL 459 3500 \r\nL 1069 3500 \r\nL 1650 819 \r\nL 3256 3500 \r\nL 3859 3500 \r\nL 1588 -325 \r\nz\r\n\" id=\"DejaVuSans-Oblique-79\" transform=\"scale(0.015625)\"/>\r\n       <path d=\"M 678 2906 \r\nL 4684 2906 \r\nL 4684 2381 \r\nL 678 2381 \r\nL 678 2906 \r\nz\r\nM 678 1631 \r\nL 4684 1631 \r\nL 4684 1100 \r\nL 678 1100 \r\nL 678 1631 \r\nz\r\n\" id=\"DejaVuSans-3d\" transform=\"scale(0.015625)\"/>\r\n       <path d=\"M 3059 4863 \r\nL 2969 4384 \r\nL 2419 4384 \r\nQ 2106 4384 1964 4261 \r\nQ 1822 4138 1753 3809 \r\nL 1691 3500 \r\nL 2638 3500 \r\nL 2553 3053 \r\nL 1606 3053 \r\nL 1013 0 \r\nL 434 0 \r\nL 1031 3053 \r\nL 481 3053 \r\nL 563 3500 \r\nL 1113 3500 \r\nL 1159 3744 \r\nQ 1278 4363 1576 4613 \r\nQ 1875 4863 2516 4863 \r\nL 3059 4863 \r\nz\r\n\" id=\"DejaVuSans-Oblique-66\" transform=\"scale(0.015625)\"/>\r\n       <path d=\"M 1984 4856 \r\nQ 1566 4138 1362 3434 \r\nQ 1159 2731 1159 2009 \r\nQ 1159 1288 1364 580 \r\nQ 1569 -128 1984 -844 \r\nL 1484 -844 \r\nQ 1016 -109 783 600 \r\nQ 550 1309 550 2009 \r\nQ 550 2706 781 3412 \r\nQ 1013 4119 1484 4856 \r\nL 1984 4856 \r\nz\r\n\" id=\"DejaVuSans-28\" transform=\"scale(0.015625)\"/>\r\n       <path d=\"M 3841 3500 \r\nL 2234 1784 \r\nL 3219 0 \r\nL 2559 0 \r\nL 1819 1388 \r\nL 531 0 \r\nL -166 0 \r\nL 1556 1844 \r\nL 641 3500 \r\nL 1300 3500 \r\nL 1972 2234 \r\nL 3144 3500 \r\nL 3841 3500 \r\nz\r\n\" id=\"DejaVuSans-Oblique-78\" transform=\"scale(0.015625)\"/>\r\n       <path d=\"M 513 4856 \r\nL 1013 4856 \r\nQ 1481 4119 1714 3412 \r\nQ 1947 2706 1947 2009 \r\nQ 1947 1309 1714 600 \r\nQ 1481 -109 1013 -844 \r\nL 513 -844 \r\nQ 928 -128 1133 580 \r\nQ 1338 1288 1338 2009 \r\nQ 1338 2731 1133 3434 \r\nQ 928 4138 513 4856 \r\nz\r\n\" id=\"DejaVuSans-29\" transform=\"scale(0.015625)\"/>\r\n      </defs>\r\n      <use transform=\"translate(0 0.015625)\" xlink:href=\"#DejaVuSans-4c\"/>\r\n      <use transform=\"translate(55.712891 0.015625)\" xlink:href=\"#DejaVuSans-69\"/>\r\n      <use transform=\"translate(83.496094 0.015625)\" xlink:href=\"#DejaVuSans-6e\"/>\r\n      <use transform=\"translate(146.875 0.015625)\" xlink:href=\"#DejaVuSans-65\"/>\r\n      <use transform=\"translate(208.398438 0.015625)\" xlink:href=\"#DejaVuSans-61\"/>\r\n      <use transform=\"translate(269.677734 0.015625)\" xlink:href=\"#DejaVuSans-72\"/>\r\n      <use transform=\"translate(310.791016 0.015625)\" xlink:href=\"#DejaVuSans-20\"/>\r\n      <use transform=\"translate(342.578125 0.015625)\" xlink:href=\"#DejaVuSans-52\"/>\r\n      <use transform=\"translate(412.060547 0.015625)\" xlink:href=\"#DejaVuSans-65\"/>\r\n      <use transform=\"translate(473.583984 0.015625)\" xlink:href=\"#DejaVuSans-67\"/>\r\n      <use transform=\"translate(537.060547 0.015625)\" xlink:href=\"#DejaVuSans-72\"/>\r\n      <use transform=\"translate(578.173828 0.015625)\" xlink:href=\"#DejaVuSans-65\"/>\r\n      <use transform=\"translate(639.697266 0.015625)\" xlink:href=\"#DejaVuSans-73\"/>\r\n      <use transform=\"translate(691.796875 0.015625)\" xlink:href=\"#DejaVuSans-73\"/>\r\n      <use transform=\"translate(743.896484 0.015625)\" xlink:href=\"#DejaVuSans-69\"/>\r\n      <use transform=\"translate(771.679688 0.015625)\" xlink:href=\"#DejaVuSans-6f\"/>\r\n      <use transform=\"translate(832.861328 0.015625)\" xlink:href=\"#DejaVuSans-6e\"/>\r\n      <use transform=\"translate(896.240234 0.015625)\" xlink:href=\"#DejaVuSans-3a\"/>\r\n      <use transform=\"translate(929.931641 0.015625)\" xlink:href=\"#DejaVuSans-Oblique-79\"/>\r\n      <use transform=\"translate(1008.59375 0.015625)\" xlink:href=\"#DejaVuSans-3d\"/>\r\n      <use transform=\"translate(1111.865234 0.015625)\" xlink:href=\"#DejaVuSans-Oblique-66\"/>\r\n      <use transform=\"translate(1147.070312 0.015625)\" xlink:href=\"#DejaVuSans-28\"/>\r\n      <use transform=\"translate(1186.083984 0.015625)\" xlink:href=\"#DejaVuSans-Oblique-78\"/>\r\n      <use transform=\"translate(1245.263672 0.015625)\" xlink:href=\"#DejaVuSans-29\"/>\r\n     </g>\r\n     <!-- $y=0.50009x+3.00009$ -->\r\n     <g transform=\"translate(77.603125 50.13625)scale(0.1 -0.1)\">\r\n      <defs>\r\n       <path d=\"M 703 97 \r\nL 703 672 \r\nQ 941 559 1184 500 \r\nQ 1428 441 1663 441 \r\nQ 2288 441 2617 861 \r\nQ 2947 1281 2994 2138 \r\nQ 2813 1869 2534 1725 \r\nQ 2256 1581 1919 1581 \r\nQ 1219 1581 811 2004 \r\nQ 403 2428 403 3163 \r\nQ 403 3881 828 4315 \r\nQ 1253 4750 1959 4750 \r\nQ 2769 4750 3195 4129 \r\nQ 3622 3509 3622 2328 \r\nQ 3622 1225 3098 567 \r\nQ 2575 -91 1691 -91 \r\nQ 1453 -91 1209 -44 \r\nQ 966 3 703 97 \r\nz\r\nM 1959 2075 \r\nQ 2384 2075 2632 2365 \r\nQ 2881 2656 2881 3163 \r\nQ 2881 3666 2632 3958 \r\nQ 2384 4250 1959 4250 \r\nQ 1534 4250 1286 3958 \r\nQ 1038 3666 1038 3163 \r\nQ 1038 2656 1286 2365 \r\nQ 1534 2075 1959 2075 \r\nz\r\n\" id=\"DejaVuSans-39\" transform=\"scale(0.015625)\"/>\r\n       <path d=\"M 2944 4013 \r\nL 2944 2272 \r\nL 4684 2272 \r\nL 4684 1741 \r\nL 2944 1741 \r\nL 2944 0 \r\nL 2419 0 \r\nL 2419 1741 \r\nL 678 1741 \r\nL 678 2272 \r\nL 2419 2272 \r\nL 2419 4013 \r\nL 2944 4013 \r\nz\r\n\" id=\"DejaVuSans-2b\" transform=\"scale(0.015625)\"/>\r\n       <path d=\"M 2597 2516 \r\nQ 3050 2419 3304 2112 \r\nQ 3559 1806 3559 1356 \r\nQ 3559 666 3084 287 \r\nQ 2609 -91 1734 -91 \r\nQ 1441 -91 1130 -33 \r\nQ 819 25 488 141 \r\nL 488 750 \r\nQ 750 597 1062 519 \r\nQ 1375 441 1716 441 \r\nQ 2309 441 2620 675 \r\nQ 2931 909 2931 1356 \r\nQ 2931 1769 2642 2001 \r\nQ 2353 2234 1838 2234 \r\nL 1294 2234 \r\nL 1294 2753 \r\nL 1863 2753 \r\nQ 2328 2753 2575 2939 \r\nQ 2822 3125 2822 3475 \r\nQ 2822 3834 2567 4026 \r\nQ 2313 4219 1838 4219 \r\nQ 1578 4219 1281 4162 \r\nQ 984 4106 628 3988 \r\nL 628 4550 \r\nQ 988 4650 1302 4700 \r\nQ 1616 4750 1894 4750 \r\nQ 2613 4750 3031 4423 \r\nQ 3450 4097 3450 3541 \r\nQ 3450 3153 3228 2886 \r\nQ 3006 2619 2597 2516 \r\nz\r\n\" id=\"DejaVuSans-33\" transform=\"scale(0.015625)\"/>\r\n      </defs>\r\n      <use transform=\"translate(0 0.78125)\" xlink:href=\"#DejaVuSans-Oblique-79\"/>\r\n      <use transform=\"translate(78.662109 0.78125)\" xlink:href=\"#DejaVuSans-3d\"/>\r\n      <use transform=\"translate(181.933594 0.78125)\" xlink:href=\"#DejaVuSans-30\"/>\r\n      <use transform=\"translate(245.556641 0.78125)\" xlink:href=\"#DejaVuSans-2e\"/>\r\n      <use transform=\"translate(277.34375 0.78125)\" xlink:href=\"#DejaVuSans-35\"/>\r\n      <use transform=\"translate(340.966797 0.78125)\" xlink:href=\"#DejaVuSans-30\"/>\r\n      <use transform=\"translate(404.589844 0.78125)\" xlink:href=\"#DejaVuSans-30\"/>\r\n      <use transform=\"translate(468.212891 0.78125)\" xlink:href=\"#DejaVuSans-30\"/>\r\n      <use transform=\"translate(531.835938 0.78125)\" xlink:href=\"#DejaVuSans-39\"/>\r\n      <use transform=\"translate(595.458984 0.78125)\" xlink:href=\"#DejaVuSans-Oblique-78\"/>\r\n      <use transform=\"translate(674.121094 0.78125)\" xlink:href=\"#DejaVuSans-2b\"/>\r\n      <use transform=\"translate(777.392578 0.78125)\" xlink:href=\"#DejaVuSans-33\"/>\r\n      <use transform=\"translate(841.015625 0.78125)\" xlink:href=\"#DejaVuSans-2e\"/>\r\n      <use transform=\"translate(872.802734 0.78125)\" xlink:href=\"#DejaVuSans-30\"/>\r\n      <use transform=\"translate(936.425781 0.78125)\" xlink:href=\"#DejaVuSans-30\"/>\r\n      <use transform=\"translate(1000.048828 0.78125)\" xlink:href=\"#DejaVuSans-30\"/>\r\n      <use transform=\"translate(1063.671875 0.78125)\" xlink:href=\"#DejaVuSans-30\"/>\r\n      <use transform=\"translate(1127.294922 0.78125)\" xlink:href=\"#DejaVuSans-39\"/>\r\n     </g>\r\n    </g>\r\n   </g>\r\n  </g>\r\n  <g id=\"axes_2\">\r\n   <g id=\"patch_8\">\r\n    <path d=\"M 464.74858 257.954489 \r\nL 818.203125 257.954489 \r\nL 818.203125 22.318125 \r\nL 464.74858 22.318125 \r\nz\r\n\" style=\"fill:#ffffff;\"/>\r\n   </g>\r\n   <g id=\"matplotlib.axis_3\">\r\n    <g id=\"xtick_10\">\r\n     <g id=\"line2d_21\">\r\n      <g>\r\n       <use style=\"stroke:#000000;stroke-width:0.8;\" x=\"464.74858\" xlink:href=\"#m04b05c712b\" y=\"257.954489\"/>\r\n      </g>\r\n     </g>\r\n     <g id=\"text_21\">\r\n      <!-- 0.0 -->\r\n      <g transform=\"translate(456.797017 272.552926)scale(0.1 -0.1)\">\r\n       <use xlink:href=\"#DejaVuSans-30\"/>\r\n       <use x=\"63.623047\" xlink:href=\"#DejaVuSans-2e\"/>\r\n       <use x=\"95.410156\" xlink:href=\"#DejaVuSans-30\"/>\r\n      </g>\r\n     </g>\r\n    </g>\r\n    <g id=\"xtick_11\">\r\n     <g id=\"line2d_22\">\r\n      <g>\r\n       <use style=\"stroke:#000000;stroke-width:0.8;\" x=\"508.930398\" xlink:href=\"#m04b05c712b\" y=\"257.954489\"/>\r\n      </g>\r\n     </g>\r\n     <g id=\"text_22\">\r\n      <!-- 2.5 -->\r\n      <g transform=\"translate(500.978835 272.552926)scale(0.1 -0.1)\">\r\n       <use xlink:href=\"#DejaVuSans-32\"/>\r\n       <use x=\"63.623047\" xlink:href=\"#DejaVuSans-2e\"/>\r\n       <use x=\"95.410156\" xlink:href=\"#DejaVuSans-35\"/>\r\n      </g>\r\n     </g>\r\n    </g>\r\n    <g id=\"xtick_12\">\r\n     <g id=\"line2d_23\">\r\n      <g>\r\n       <use style=\"stroke:#000000;stroke-width:0.8;\" x=\"553.112216\" xlink:href=\"#m04b05c712b\" y=\"257.954489\"/>\r\n      </g>\r\n     </g>\r\n     <g id=\"text_23\">\r\n      <!-- 5.0 -->\r\n      <g transform=\"translate(545.160653 272.552926)scale(0.1 -0.1)\">\r\n       <use xlink:href=\"#DejaVuSans-35\"/>\r\n       <use x=\"63.623047\" xlink:href=\"#DejaVuSans-2e\"/>\r\n       <use x=\"95.410156\" xlink:href=\"#DejaVuSans-30\"/>\r\n      </g>\r\n     </g>\r\n    </g>\r\n    <g id=\"xtick_13\">\r\n     <g id=\"line2d_24\">\r\n      <g>\r\n       <use style=\"stroke:#000000;stroke-width:0.8;\" x=\"597.294034\" xlink:href=\"#m04b05c712b\" y=\"257.954489\"/>\r\n      </g>\r\n     </g>\r\n     <g id=\"text_24\">\r\n      <!-- 7.5 -->\r\n      <g transform=\"translate(589.342472 272.552926)scale(0.1 -0.1)\">\r\n       <use xlink:href=\"#DejaVuSans-37\"/>\r\n       <use x=\"63.623047\" xlink:href=\"#DejaVuSans-2e\"/>\r\n       <use x=\"95.410156\" xlink:href=\"#DejaVuSans-35\"/>\r\n      </g>\r\n     </g>\r\n    </g>\r\n    <g id=\"xtick_14\">\r\n     <g id=\"line2d_25\">\r\n      <g>\r\n       <use style=\"stroke:#000000;stroke-width:0.8;\" x=\"641.475852\" xlink:href=\"#m04b05c712b\" y=\"257.954489\"/>\r\n      </g>\r\n     </g>\r\n     <g id=\"text_25\">\r\n      <!-- 10.0 -->\r\n      <g transform=\"translate(630.34304 272.552926)scale(0.1 -0.1)\">\r\n       <use xlink:href=\"#DejaVuSans-31\"/>\r\n       <use x=\"63.623047\" xlink:href=\"#DejaVuSans-30\"/>\r\n       <use x=\"127.246094\" xlink:href=\"#DejaVuSans-2e\"/>\r\n       <use x=\"159.033203\" xlink:href=\"#DejaVuSans-30\"/>\r\n      </g>\r\n     </g>\r\n    </g>\r\n    <g id=\"xtick_15\">\r\n     <g id=\"line2d_26\">\r\n      <g>\r\n       <use style=\"stroke:#000000;stroke-width:0.8;\" x=\"685.65767\" xlink:href=\"#m04b05c712b\" y=\"257.954489\"/>\r\n      </g>\r\n     </g>\r\n     <g id=\"text_26\">\r\n      <!-- 12.5 -->\r\n      <g transform=\"translate(674.524858 272.552926)scale(0.1 -0.1)\">\r\n       <use xlink:href=\"#DejaVuSans-31\"/>\r\n       <use x=\"63.623047\" xlink:href=\"#DejaVuSans-32\"/>\r\n       <use x=\"127.246094\" xlink:href=\"#DejaVuSans-2e\"/>\r\n       <use x=\"159.033203\" xlink:href=\"#DejaVuSans-35\"/>\r\n      </g>\r\n     </g>\r\n    </g>\r\n    <g id=\"xtick_16\">\r\n     <g id=\"line2d_27\">\r\n      <g>\r\n       <use style=\"stroke:#000000;stroke-width:0.8;\" x=\"729.839489\" xlink:href=\"#m04b05c712b\" y=\"257.954489\"/>\r\n      </g>\r\n     </g>\r\n     <g id=\"text_27\">\r\n      <!-- 15.0 -->\r\n      <g transform=\"translate(718.706676 272.552926)scale(0.1 -0.1)\">\r\n       <use xlink:href=\"#DejaVuSans-31\"/>\r\n       <use x=\"63.623047\" xlink:href=\"#DejaVuSans-35\"/>\r\n       <use x=\"127.246094\" xlink:href=\"#DejaVuSans-2e\"/>\r\n       <use x=\"159.033203\" xlink:href=\"#DejaVuSans-30\"/>\r\n      </g>\r\n     </g>\r\n    </g>\r\n    <g id=\"xtick_17\">\r\n     <g id=\"line2d_28\">\r\n      <g>\r\n       <use style=\"stroke:#000000;stroke-width:0.8;\" x=\"774.021307\" xlink:href=\"#m04b05c712b\" y=\"257.954489\"/>\r\n      </g>\r\n     </g>\r\n     <g id=\"text_28\">\r\n      <!-- 17.5 -->\r\n      <g transform=\"translate(762.888494 272.552926)scale(0.1 -0.1)\">\r\n       <use xlink:href=\"#DejaVuSans-31\"/>\r\n       <use x=\"63.623047\" xlink:href=\"#DejaVuSans-37\"/>\r\n       <use x=\"127.246094\" xlink:href=\"#DejaVuSans-2e\"/>\r\n       <use x=\"159.033203\" xlink:href=\"#DejaVuSans-35\"/>\r\n      </g>\r\n     </g>\r\n    </g>\r\n    <g id=\"xtick_18\">\r\n     <g id=\"line2d_29\">\r\n      <g>\r\n       <use style=\"stroke:#000000;stroke-width:0.8;\" x=\"818.203125\" xlink:href=\"#m04b05c712b\" y=\"257.954489\"/>\r\n      </g>\r\n     </g>\r\n     <g id=\"text_29\">\r\n      <!-- 20.0 -->\r\n      <g transform=\"translate(807.070312 272.552926)scale(0.1 -0.1)\">\r\n       <use xlink:href=\"#DejaVuSans-32\"/>\r\n       <use x=\"63.623047\" xlink:href=\"#DejaVuSans-30\"/>\r\n       <use x=\"127.246094\" xlink:href=\"#DejaVuSans-2e\"/>\r\n       <use x=\"159.033203\" xlink:href=\"#DejaVuSans-30\"/>\r\n      </g>\r\n     </g>\r\n    </g>\r\n    <g id=\"text_30\">\r\n     <!-- x -->\r\n     <g transform=\"translate(638.516477 286.231051)scale(0.1 -0.1)\">\r\n      <use xlink:href=\"#DejaVuSans-78\"/>\r\n     </g>\r\n    </g>\r\n   </g>\r\n   <g id=\"matplotlib.axis_4\">\r\n    <g id=\"ytick_8\">\r\n     <g id=\"line2d_30\">\r\n      <g>\r\n       <use style=\"stroke:#000000;stroke-width:0.8;\" x=\"464.74858\" xlink:href=\"#m8f27accd07\" y=\"257.954489\"/>\r\n      </g>\r\n     </g>\r\n     <g id=\"text_31\">\r\n      <!-- 2 -->\r\n      <g transform=\"translate(451.38608 261.753707)scale(0.1 -0.1)\">\r\n       <use xlink:href=\"#DejaVuSans-32\"/>\r\n      </g>\r\n     </g>\r\n    </g>\r\n    <g id=\"ytick_9\">\r\n     <g id=\"line2d_31\">\r\n      <g>\r\n       <use style=\"stroke:#000000;stroke-width:0.8;\" x=\"464.74858\" xlink:href=\"#m8f27accd07\" y=\"218.681761\"/>\r\n      </g>\r\n     </g>\r\n     <g id=\"text_32\">\r\n      <!-- 4 -->\r\n      <g transform=\"translate(451.38608 222.48098)scale(0.1 -0.1)\">\r\n       <use xlink:href=\"#DejaVuSans-34\"/>\r\n      </g>\r\n     </g>\r\n    </g>\r\n    <g id=\"ytick_10\">\r\n     <g id=\"line2d_32\">\r\n      <g>\r\n       <use style=\"stroke:#000000;stroke-width:0.8;\" x=\"464.74858\" xlink:href=\"#m8f27accd07\" y=\"179.409034\"/>\r\n      </g>\r\n     </g>\r\n     <g id=\"text_33\">\r\n      <!-- 6 -->\r\n      <g transform=\"translate(451.38608 183.208253)scale(0.1 -0.1)\">\r\n       <use xlink:href=\"#DejaVuSans-36\"/>\r\n      </g>\r\n     </g>\r\n    </g>\r\n    <g id=\"ytick_11\">\r\n     <g id=\"line2d_33\">\r\n      <g>\r\n       <use style=\"stroke:#000000;stroke-width:0.8;\" x=\"464.74858\" xlink:href=\"#m8f27accd07\" y=\"140.136307\"/>\r\n      </g>\r\n     </g>\r\n     <g id=\"text_34\">\r\n      <!-- 8 -->\r\n      <g transform=\"translate(451.38608 143.935526)scale(0.1 -0.1)\">\r\n       <use xlink:href=\"#DejaVuSans-38\"/>\r\n      </g>\r\n     </g>\r\n    </g>\r\n    <g id=\"ytick_12\">\r\n     <g id=\"line2d_34\">\r\n      <g>\r\n       <use style=\"stroke:#000000;stroke-width:0.8;\" x=\"464.74858\" xlink:href=\"#m8f27accd07\" y=\"100.86358\"/>\r\n      </g>\r\n     </g>\r\n     <g id=\"text_35\">\r\n      <!-- 10 -->\r\n      <g transform=\"translate(445.02358 104.662798)scale(0.1 -0.1)\">\r\n       <use xlink:href=\"#DejaVuSans-31\"/>\r\n       <use x=\"63.623047\" xlink:href=\"#DejaVuSans-30\"/>\r\n      </g>\r\n     </g>\r\n    </g>\r\n    <g id=\"ytick_13\">\r\n     <g id=\"line2d_35\">\r\n      <g>\r\n       <use style=\"stroke:#000000;stroke-width:0.8;\" x=\"464.74858\" xlink:href=\"#m8f27accd07\" y=\"61.590852\"/>\r\n      </g>\r\n     </g>\r\n     <g id=\"text_36\">\r\n      <!-- 12 -->\r\n      <g transform=\"translate(445.02358 65.390071)scale(0.1 -0.1)\">\r\n       <use xlink:href=\"#DejaVuSans-31\"/>\r\n       <use x=\"63.623047\" xlink:href=\"#DejaVuSans-32\"/>\r\n      </g>\r\n     </g>\r\n    </g>\r\n    <g id=\"ytick_14\">\r\n     <g id=\"line2d_36\">\r\n      <g>\r\n       <use style=\"stroke:#000000;stroke-width:0.8;\" x=\"464.74858\" xlink:href=\"#m8f27accd07\" y=\"22.318125\"/>\r\n      </g>\r\n     </g>\r\n     <g id=\"text_37\">\r\n      <!-- 14 -->\r\n      <g transform=\"translate(445.02358 26.117344)scale(0.1 -0.1)\">\r\n       <use xlink:href=\"#DejaVuSans-31\"/>\r\n       <use x=\"63.623047\" xlink:href=\"#DejaVuSans-34\"/>\r\n      </g>\r\n     </g>\r\n    </g>\r\n    <g id=\"text_38\">\r\n     <!-- y -->\r\n     <g transform=\"translate(438.943892 143.095682)rotate(-90)scale(0.1 -0.1)\">\r\n      <use xlink:href=\"#DejaVuSans-79\"/>\r\n     </g>\r\n    </g>\r\n   </g>\r\n   <g id=\"line2d_37\">\r\n    <g clip-path=\"url(#p647f375f88)\">\r\n     <use style=\"fill:#0000ff;stroke:#0000ff;\" x=\"641.475852\" xlink:href=\"#mc86ee15c47\" y=\"117.750852\"/>\r\n     <use style=\"fill:#0000ff;stroke:#0000ff;\" x=\"606.130398\" xlink:href=\"#mc86ee15c47\" y=\"137.387216\"/>\r\n     <use style=\"fill:#0000ff;stroke:#0000ff;\" x=\"694.494034\" xlink:href=\"#mc86ee15c47\" y=\"125.605398\"/>\r\n     <use style=\"fill:#0000ff;stroke:#0000ff;\" x=\"623.803125\" xlink:href=\"#mc86ee15c47\" y=\"125.016307\"/>\r\n     <use style=\"fill:#0000ff;stroke:#0000ff;\" x=\"659.14858\" xlink:href=\"#mc86ee15c47\" y=\"115.394489\"/>\r\n     <use style=\"fill:#0000ff;stroke:#0000ff;\" x=\"712.166761\" xlink:href=\"#mc86ee15c47\" y=\"138.17267\"/>\r\n     <use style=\"fill:#0000ff;stroke:#0000ff;\" x=\"570.784943\" xlink:href=\"#mc86ee15c47\" y=\"176.856307\"/>\r\n     <use style=\"fill:#0000ff;stroke:#0000ff;\" x=\"535.439489\" xlink:href=\"#mc86ee15c47\" y=\"236.354489\"/>\r\n     <use style=\"fill:#0000ff;stroke:#0000ff;\" x=\"676.821307\" xlink:href=\"#mc86ee15c47\" y=\"117.947216\"/>\r\n     <use style=\"fill:#0000ff;stroke:#0000ff;\" x=\"588.45767\" xlink:href=\"#mc86ee15c47\" y=\"154.667216\"/>\r\n     <use style=\"fill:#0000ff;stroke:#0000ff;\" x=\"553.112216\" xlink:href=\"#mc86ee15c47\" y=\"204.150852\"/>\r\n    </g>\r\n   </g>\r\n   <g id=\"line2d_38\">\r\n    <path clip-path=\"url(#p647f375f88)\" d=\"M 464.74858 238.300274 \r\nL 818.203125 41.936637 \r\n\" style=\"fill:none;stroke:#000000;stroke-linecap:square;stroke-width:1.5;\"/>\r\n   </g>\r\n   <g id=\"patch_9\">\r\n    <path d=\"M 464.74858 257.954489 \r\nL 464.74858 22.318125 \r\n\" style=\"fill:none;stroke:#000000;stroke-linecap:square;stroke-linejoin:miter;stroke-width:0.8;\"/>\r\n   </g>\r\n   <g id=\"patch_10\">\r\n    <path d=\"M 818.203125 257.954489 \r\nL 818.203125 22.318125 \r\n\" style=\"fill:none;stroke:#000000;stroke-linecap:square;stroke-linejoin:miter;stroke-width:0.8;\"/>\r\n   </g>\r\n   <g id=\"patch_11\">\r\n    <path d=\"M 464.74858 257.954489 \r\nL 818.203125 257.954489 \r\n\" style=\"fill:none;stroke:#000000;stroke-linecap:square;stroke-linejoin:miter;stroke-width:0.8;\"/>\r\n   </g>\r\n   <g id=\"patch_12\">\r\n    <path d=\"M 464.74858 22.318125 \r\nL 818.203125 22.318125 \r\n\" style=\"fill:none;stroke:#000000;stroke-linecap:square;stroke-linejoin:miter;stroke-width:0.8;\"/>\r\n   </g>\r\n   <g id=\"text_39\">\r\n    <!-- No: 2 -->\r\n    <g transform=\"translate(625.570227 16.318125)scale(0.12 -0.12)\">\r\n     <use xlink:href=\"#DejaVuSans-4e\"/>\r\n     <use x=\"74.804688\" xlink:href=\"#DejaVuSans-6f\"/>\r\n     <use x=\"135.986328\" xlink:href=\"#DejaVuSans-3a\"/>\r\n     <use x=\"169.677734\" xlink:href=\"#DejaVuSans-20\"/>\r\n     <use x=\"201.464844\" xlink:href=\"#DejaVuSans-32\"/>\r\n    </g>\r\n   </g>\r\n   <g id=\"legend_2\">\r\n    <g id=\"patch_13\">\r\n     <path d=\"M 471.74858 56.23625 \r\nL 632.24858 56.23625 \r\nQ 634.24858 56.23625 634.24858 54.23625 \r\nL 634.24858 29.318125 \r\nQ 634.24858 27.318125 632.24858 27.318125 \r\nL 471.74858 27.318125 \r\nQ 469.74858 27.318125 469.74858 29.318125 \r\nL 469.74858 54.23625 \r\nQ 469.74858 56.23625 471.74858 56.23625 \r\nz\r\n\" style=\"fill:#ffffff;opacity:0.8;stroke:#cccccc;stroke-linejoin:miter;\"/>\r\n    </g>\r\n    <g id=\"line2d_39\">\r\n     <path d=\"M 473.74858 42.076406 \r\nL 493.74858 42.076406 \r\n\" style=\"fill:none;stroke:#000000;stroke-linecap:square;stroke-width:1.5;\"/>\r\n    </g>\r\n    <g id=\"line2d_40\"/>\r\n    <g id=\"text_40\">\r\n     <!-- Linear Regression:$y=f(x)$ -->\r\n     <g transform=\"translate(501.74858 38.918125)scale(0.1 -0.1)\">\r\n      <use transform=\"translate(0 0.015625)\" xlink:href=\"#DejaVuSans-4c\"/>\r\n      <use transform=\"translate(55.712891 0.015625)\" xlink:href=\"#DejaVuSans-69\"/>\r\n      <use transform=\"translate(83.496094 0.015625)\" xlink:href=\"#DejaVuSans-6e\"/>\r\n      <use transform=\"translate(146.875 0.015625)\" xlink:href=\"#DejaVuSans-65\"/>\r\n      <use transform=\"translate(208.398438 0.015625)\" xlink:href=\"#DejaVuSans-61\"/>\r\n      <use transform=\"translate(269.677734 0.015625)\" xlink:href=\"#DejaVuSans-72\"/>\r\n      <use transform=\"translate(310.791016 0.015625)\" xlink:href=\"#DejaVuSans-20\"/>\r\n      <use transform=\"translate(342.578125 0.015625)\" xlink:href=\"#DejaVuSans-52\"/>\r\n      <use transform=\"translate(412.060547 0.015625)\" xlink:href=\"#DejaVuSans-65\"/>\r\n      <use transform=\"translate(473.583984 0.015625)\" xlink:href=\"#DejaVuSans-67\"/>\r\n      <use transform=\"translate(537.060547 0.015625)\" xlink:href=\"#DejaVuSans-72\"/>\r\n      <use transform=\"translate(578.173828 0.015625)\" xlink:href=\"#DejaVuSans-65\"/>\r\n      <use transform=\"translate(639.697266 0.015625)\" xlink:href=\"#DejaVuSans-73\"/>\r\n      <use transform=\"translate(691.796875 0.015625)\" xlink:href=\"#DejaVuSans-73\"/>\r\n      <use transform=\"translate(743.896484 0.015625)\" xlink:href=\"#DejaVuSans-69\"/>\r\n      <use transform=\"translate(771.679688 0.015625)\" xlink:href=\"#DejaVuSans-6f\"/>\r\n      <use transform=\"translate(832.861328 0.015625)\" xlink:href=\"#DejaVuSans-6e\"/>\r\n      <use transform=\"translate(896.240234 0.015625)\" xlink:href=\"#DejaVuSans-3a\"/>\r\n      <use transform=\"translate(929.931641 0.015625)\" xlink:href=\"#DejaVuSans-Oblique-79\"/>\r\n      <use transform=\"translate(1008.59375 0.015625)\" xlink:href=\"#DejaVuSans-3d\"/>\r\n      <use transform=\"translate(1111.865234 0.015625)\" xlink:href=\"#DejaVuSans-Oblique-66\"/>\r\n      <use transform=\"translate(1147.070312 0.015625)\" xlink:href=\"#DejaVuSans-28\"/>\r\n      <use transform=\"translate(1186.083984 0.015625)\" xlink:href=\"#DejaVuSans-Oblique-78\"/>\r\n      <use transform=\"translate(1245.263672 0.015625)\" xlink:href=\"#DejaVuSans-29\"/>\r\n     </g>\r\n     <!-- $y=0.50000x+3.00091$ -->\r\n     <g transform=\"translate(501.74858 50.13625)scale(0.1 -0.1)\">\r\n      <use transform=\"translate(0 0.78125)\" xlink:href=\"#DejaVuSans-Oblique-79\"/>\r\n      <use transform=\"translate(78.662109 0.78125)\" xlink:href=\"#DejaVuSans-3d\"/>\r\n      <use transform=\"translate(181.933594 0.78125)\" xlink:href=\"#DejaVuSans-30\"/>\r\n      <use transform=\"translate(245.556641 0.78125)\" xlink:href=\"#DejaVuSans-2e\"/>\r\n      <use transform=\"translate(277.34375 0.78125)\" xlink:href=\"#DejaVuSans-35\"/>\r\n      <use transform=\"translate(340.966797 0.78125)\" xlink:href=\"#DejaVuSans-30\"/>\r\n      <use transform=\"translate(404.589844 0.78125)\" xlink:href=\"#DejaVuSans-30\"/>\r\n      <use transform=\"translate(468.212891 0.78125)\" xlink:href=\"#DejaVuSans-30\"/>\r\n      <use transform=\"translate(531.835938 0.78125)\" xlink:href=\"#DejaVuSans-30\"/>\r\n      <use transform=\"translate(595.458984 0.78125)\" xlink:href=\"#DejaVuSans-Oblique-78\"/>\r\n      <use transform=\"translate(674.121094 0.78125)\" xlink:href=\"#DejaVuSans-2b\"/>\r\n      <use transform=\"translate(777.392578 0.78125)\" xlink:href=\"#DejaVuSans-33\"/>\r\n      <use transform=\"translate(841.015625 0.78125)\" xlink:href=\"#DejaVuSans-2e\"/>\r\n      <use transform=\"translate(872.802734 0.78125)\" xlink:href=\"#DejaVuSans-30\"/>\r\n      <use transform=\"translate(936.425781 0.78125)\" xlink:href=\"#DejaVuSans-30\"/>\r\n      <use transform=\"translate(1000.048828 0.78125)\" xlink:href=\"#DejaVuSans-30\"/>\r\n      <use transform=\"translate(1063.671875 0.78125)\" xlink:href=\"#DejaVuSans-39\"/>\r\n      <use transform=\"translate(1127.294922 0.78125)\" xlink:href=\"#DejaVuSans-31\"/>\r\n     </g>\r\n    </g>\r\n   </g>\r\n  </g>\r\n  <g id=\"axes_3\">\r\n   <g id=\"patch_14\">\r\n    <path d=\"M 40.603125 540.718125 \r\nL 394.05767 540.718125 \r\nL 394.05767 305.081761 \r\nL 40.603125 305.081761 \r\nz\r\n\" style=\"fill:#ffffff;\"/>\r\n   </g>\r\n   <g id=\"matplotlib.axis_5\">\r\n    <g id=\"xtick_19\">\r\n     <g id=\"line2d_41\">\r\n      <g>\r\n       <use style=\"stroke:#000000;stroke-width:0.8;\" x=\"40.603125\" xlink:href=\"#m04b05c712b\" y=\"540.718125\"/>\r\n      </g>\r\n     </g>\r\n     <g id=\"text_41\">\r\n      <!-- 0.0 -->\r\n      <g transform=\"translate(32.651563 555.316562)scale(0.1 -0.1)\">\r\n       <use xlink:href=\"#DejaVuSans-30\"/>\r\n       <use x=\"63.623047\" xlink:href=\"#DejaVuSans-2e\"/>\r\n       <use x=\"95.410156\" xlink:href=\"#DejaVuSans-30\"/>\r\n      </g>\r\n     </g>\r\n    </g>\r\n    <g id=\"xtick_20\">\r\n     <g id=\"line2d_42\">\r\n      <g>\r\n       <use style=\"stroke:#000000;stroke-width:0.8;\" x=\"84.784943\" xlink:href=\"#m04b05c712b\" y=\"540.718125\"/>\r\n      </g>\r\n     </g>\r\n     <g id=\"text_42\">\r\n      <!-- 2.5 -->\r\n      <g transform=\"translate(76.833381 555.316562)scale(0.1 -0.1)\">\r\n       <use xlink:href=\"#DejaVuSans-32\"/>\r\n       <use x=\"63.623047\" xlink:href=\"#DejaVuSans-2e\"/>\r\n       <use x=\"95.410156\" xlink:href=\"#DejaVuSans-35\"/>\r\n      </g>\r\n     </g>\r\n    </g>\r\n    <g id=\"xtick_21\">\r\n     <g id=\"line2d_43\">\r\n      <g>\r\n       <use style=\"stroke:#000000;stroke-width:0.8;\" x=\"128.966761\" xlink:href=\"#m04b05c712b\" y=\"540.718125\"/>\r\n      </g>\r\n     </g>\r\n     <g id=\"text_43\">\r\n      <!-- 5.0 -->\r\n      <g transform=\"translate(121.015199 555.316562)scale(0.1 -0.1)\">\r\n       <use xlink:href=\"#DejaVuSans-35\"/>\r\n       <use x=\"63.623047\" xlink:href=\"#DejaVuSans-2e\"/>\r\n       <use x=\"95.410156\" xlink:href=\"#DejaVuSans-30\"/>\r\n      </g>\r\n     </g>\r\n    </g>\r\n    <g id=\"xtick_22\">\r\n     <g id=\"line2d_44\">\r\n      <g>\r\n       <use style=\"stroke:#000000;stroke-width:0.8;\" x=\"173.14858\" xlink:href=\"#m04b05c712b\" y=\"540.718125\"/>\r\n      </g>\r\n     </g>\r\n     <g id=\"text_44\">\r\n      <!-- 7.5 -->\r\n      <g transform=\"translate(165.197017 555.316562)scale(0.1 -0.1)\">\r\n       <use xlink:href=\"#DejaVuSans-37\"/>\r\n       <use x=\"63.623047\" xlink:href=\"#DejaVuSans-2e\"/>\r\n       <use x=\"95.410156\" xlink:href=\"#DejaVuSans-35\"/>\r\n      </g>\r\n     </g>\r\n    </g>\r\n    <g id=\"xtick_23\">\r\n     <g id=\"line2d_45\">\r\n      <g>\r\n       <use style=\"stroke:#000000;stroke-width:0.8;\" x=\"217.330398\" xlink:href=\"#m04b05c712b\" y=\"540.718125\"/>\r\n      </g>\r\n     </g>\r\n     <g id=\"text_45\">\r\n      <!-- 10.0 -->\r\n      <g transform=\"translate(206.197585 555.316562)scale(0.1 -0.1)\">\r\n       <use xlink:href=\"#DejaVuSans-31\"/>\r\n       <use x=\"63.623047\" xlink:href=\"#DejaVuSans-30\"/>\r\n       <use x=\"127.246094\" xlink:href=\"#DejaVuSans-2e\"/>\r\n       <use x=\"159.033203\" xlink:href=\"#DejaVuSans-30\"/>\r\n      </g>\r\n     </g>\r\n    </g>\r\n    <g id=\"xtick_24\">\r\n     <g id=\"line2d_46\">\r\n      <g>\r\n       <use style=\"stroke:#000000;stroke-width:0.8;\" x=\"261.512216\" xlink:href=\"#m04b05c712b\" y=\"540.718125\"/>\r\n      </g>\r\n     </g>\r\n     <g id=\"text_46\">\r\n      <!-- 12.5 -->\r\n      <g transform=\"translate(250.379403 555.316562)scale(0.1 -0.1)\">\r\n       <use xlink:href=\"#DejaVuSans-31\"/>\r\n       <use x=\"63.623047\" xlink:href=\"#DejaVuSans-32\"/>\r\n       <use x=\"127.246094\" xlink:href=\"#DejaVuSans-2e\"/>\r\n       <use x=\"159.033203\" xlink:href=\"#DejaVuSans-35\"/>\r\n      </g>\r\n     </g>\r\n    </g>\r\n    <g id=\"xtick_25\">\r\n     <g id=\"line2d_47\">\r\n      <g>\r\n       <use style=\"stroke:#000000;stroke-width:0.8;\" x=\"305.694034\" xlink:href=\"#m04b05c712b\" y=\"540.718125\"/>\r\n      </g>\r\n     </g>\r\n     <g id=\"text_47\">\r\n      <!-- 15.0 -->\r\n      <g transform=\"translate(294.561222 555.316562)scale(0.1 -0.1)\">\r\n       <use xlink:href=\"#DejaVuSans-31\"/>\r\n       <use x=\"63.623047\" xlink:href=\"#DejaVuSans-35\"/>\r\n       <use x=\"127.246094\" xlink:href=\"#DejaVuSans-2e\"/>\r\n       <use x=\"159.033203\" xlink:href=\"#DejaVuSans-30\"/>\r\n      </g>\r\n     </g>\r\n    </g>\r\n    <g id=\"xtick_26\">\r\n     <g id=\"line2d_48\">\r\n      <g>\r\n       <use style=\"stroke:#000000;stroke-width:0.8;\" x=\"349.875852\" xlink:href=\"#m04b05c712b\" y=\"540.718125\"/>\r\n      </g>\r\n     </g>\r\n     <g id=\"text_48\">\r\n      <!-- 17.5 -->\r\n      <g transform=\"translate(338.74304 555.316562)scale(0.1 -0.1)\">\r\n       <use xlink:href=\"#DejaVuSans-31\"/>\r\n       <use x=\"63.623047\" xlink:href=\"#DejaVuSans-37\"/>\r\n       <use x=\"127.246094\" xlink:href=\"#DejaVuSans-2e\"/>\r\n       <use x=\"159.033203\" xlink:href=\"#DejaVuSans-35\"/>\r\n      </g>\r\n     </g>\r\n    </g>\r\n    <g id=\"xtick_27\">\r\n     <g id=\"line2d_49\">\r\n      <g>\r\n       <use style=\"stroke:#000000;stroke-width:0.8;\" x=\"394.05767\" xlink:href=\"#m04b05c712b\" y=\"540.718125\"/>\r\n      </g>\r\n     </g>\r\n     <g id=\"text_49\">\r\n      <!-- 20.0 -->\r\n      <g transform=\"translate(382.924858 555.316562)scale(0.1 -0.1)\">\r\n       <use xlink:href=\"#DejaVuSans-32\"/>\r\n       <use x=\"63.623047\" xlink:href=\"#DejaVuSans-30\"/>\r\n       <use x=\"127.246094\" xlink:href=\"#DejaVuSans-2e\"/>\r\n       <use x=\"159.033203\" xlink:href=\"#DejaVuSans-30\"/>\r\n      </g>\r\n     </g>\r\n    </g>\r\n    <g id=\"text_50\">\r\n     <!-- x -->\r\n     <g transform=\"translate(214.371023 568.994687)scale(0.1 -0.1)\">\r\n      <use xlink:href=\"#DejaVuSans-78\"/>\r\n     </g>\r\n    </g>\r\n   </g>\r\n   <g id=\"matplotlib.axis_6\">\r\n    <g id=\"ytick_15\">\r\n     <g id=\"line2d_50\">\r\n      <g>\r\n       <use style=\"stroke:#000000;stroke-width:0.8;\" x=\"40.603125\" xlink:href=\"#m8f27accd07\" y=\"540.718125\"/>\r\n      </g>\r\n     </g>\r\n     <g id=\"text_51\">\r\n      <!-- 2 -->\r\n      <g transform=\"translate(27.240625 544.517344)scale(0.1 -0.1)\">\r\n       <use xlink:href=\"#DejaVuSans-32\"/>\r\n      </g>\r\n     </g>\r\n    </g>\r\n    <g id=\"ytick_16\">\r\n     <g id=\"line2d_51\">\r\n      <g>\r\n       <use style=\"stroke:#000000;stroke-width:0.8;\" x=\"40.603125\" xlink:href=\"#m8f27accd07\" y=\"501.445398\"/>\r\n      </g>\r\n     </g>\r\n     <g id=\"text_52\">\r\n      <!-- 4 -->\r\n      <g transform=\"translate(27.240625 505.244616)scale(0.1 -0.1)\">\r\n       <use xlink:href=\"#DejaVuSans-34\"/>\r\n      </g>\r\n     </g>\r\n    </g>\r\n    <g id=\"ytick_17\">\r\n     <g id=\"line2d_52\">\r\n      <g>\r\n       <use style=\"stroke:#000000;stroke-width:0.8;\" x=\"40.603125\" xlink:href=\"#m8f27accd07\" y=\"462.17267\"/>\r\n      </g>\r\n     </g>\r\n     <g id=\"text_53\">\r\n      <!-- 6 -->\r\n      <g transform=\"translate(27.240625 465.971889)scale(0.1 -0.1)\">\r\n       <use xlink:href=\"#DejaVuSans-36\"/>\r\n      </g>\r\n     </g>\r\n    </g>\r\n    <g id=\"ytick_18\">\r\n     <g id=\"line2d_53\">\r\n      <g>\r\n       <use style=\"stroke:#000000;stroke-width:0.8;\" x=\"40.603125\" xlink:href=\"#m8f27accd07\" y=\"422.899943\"/>\r\n      </g>\r\n     </g>\r\n     <g id=\"text_54\">\r\n      <!-- 8 -->\r\n      <g transform=\"translate(27.240625 426.699162)scale(0.1 -0.1)\">\r\n       <use xlink:href=\"#DejaVuSans-38\"/>\r\n      </g>\r\n     </g>\r\n    </g>\r\n    <g id=\"ytick_19\">\r\n     <g id=\"line2d_54\">\r\n      <g>\r\n       <use style=\"stroke:#000000;stroke-width:0.8;\" x=\"40.603125\" xlink:href=\"#m8f27accd07\" y=\"383.627216\"/>\r\n      </g>\r\n     </g>\r\n     <g id=\"text_55\">\r\n      <!-- 10 -->\r\n      <g transform=\"translate(20.878125 387.426435)scale(0.1 -0.1)\">\r\n       <use xlink:href=\"#DejaVuSans-31\"/>\r\n       <use x=\"63.623047\" xlink:href=\"#DejaVuSans-30\"/>\r\n      </g>\r\n     </g>\r\n    </g>\r\n    <g id=\"ytick_20\">\r\n     <g id=\"line2d_55\">\r\n      <g>\r\n       <use style=\"stroke:#000000;stroke-width:0.8;\" x=\"40.603125\" xlink:href=\"#m8f27accd07\" y=\"344.354489\"/>\r\n      </g>\r\n     </g>\r\n     <g id=\"text_56\">\r\n      <!-- 12 -->\r\n      <g transform=\"translate(20.878125 348.153707)scale(0.1 -0.1)\">\r\n       <use xlink:href=\"#DejaVuSans-31\"/>\r\n       <use x=\"63.623047\" xlink:href=\"#DejaVuSans-32\"/>\r\n      </g>\r\n     </g>\r\n    </g>\r\n    <g id=\"ytick_21\">\r\n     <g id=\"line2d_56\">\r\n      <g>\r\n       <use style=\"stroke:#000000;stroke-width:0.8;\" x=\"40.603125\" xlink:href=\"#m8f27accd07\" y=\"305.081761\"/>\r\n      </g>\r\n     </g>\r\n     <g id=\"text_57\">\r\n      <!-- 14 -->\r\n      <g transform=\"translate(20.878125 308.88098)scale(0.1 -0.1)\">\r\n       <use xlink:href=\"#DejaVuSans-31\"/>\r\n       <use x=\"63.623047\" xlink:href=\"#DejaVuSans-34\"/>\r\n      </g>\r\n     </g>\r\n    </g>\r\n    <g id=\"text_58\">\r\n     <!-- y -->\r\n     <g transform=\"translate(14.798438 425.859318)rotate(-90)scale(0.1 -0.1)\">\r\n      <use xlink:href=\"#DejaVuSans-79\"/>\r\n     </g>\r\n    </g>\r\n   </g>\r\n   <g id=\"line2d_57\">\r\n    <g clip-path=\"url(#pb6c460a41d)\">\r\n     <use style=\"fill:#0000ff;stroke:#0000ff;\" x=\"217.330398\" xlink:href=\"#mc86ee15c47\" y=\"433.50358\"/>\r\n     <use style=\"fill:#0000ff;stroke:#0000ff;\" x=\"181.984943\" xlink:href=\"#mc86ee15c47\" y=\"447.05267\"/>\r\n     <use style=\"fill:#0000ff;stroke:#0000ff;\" x=\"270.34858\" xlink:href=\"#mc86ee15c47\" y=\"329.82358\"/>\r\n     <use style=\"fill:#0000ff;stroke:#0000ff;\" x=\"199.65767\" xlink:href=\"#mc86ee15c47\" y=\"440.376307\"/>\r\n     <use style=\"fill:#0000ff;stroke:#0000ff;\" x=\"235.003125\" xlink:href=\"#mc86ee15c47\" y=\"426.630852\"/>\r\n     <use style=\"fill:#0000ff;stroke:#0000ff;\" x=\"288.021307\" xlink:href=\"#mc86ee15c47\" y=\"406.405398\"/>\r\n     <use style=\"fill:#0000ff;stroke:#0000ff;\" x=\"146.639489\" xlink:href=\"#mc86ee15c47\" y=\"460.601761\"/>\r\n     <use style=\"fill:#0000ff;stroke:#0000ff;\" x=\"111.294034\" xlink:href=\"#mc86ee15c47\" y=\"474.150852\"/>\r\n     <use style=\"fill:#0000ff;stroke:#0000ff;\" x=\"252.675852\" xlink:href=\"#mc86ee15c47\" y=\"419.954489\"/>\r\n     <use style=\"fill:#0000ff;stroke:#0000ff;\" x=\"164.312216\" xlink:href=\"#mc86ee15c47\" y=\"453.925398\"/>\r\n     <use style=\"fill:#0000ff;stroke:#0000ff;\" x=\"128.966761\" xlink:href=\"#mc86ee15c47\" y=\"467.474489\"/>\r\n    </g>\r\n   </g>\r\n   <g id=\"line2d_58\">\r\n    <path clip-path=\"url(#pb6c460a41d)\" d=\"M 40.603125 521.033563 \r\nL 394.05767 324.777034 \r\n\" style=\"fill:none;stroke:#000000;stroke-linecap:square;stroke-width:1.5;\"/>\r\n   </g>\r\n   <g id=\"patch_15\">\r\n    <path d=\"M 40.603125 540.718125 \r\nL 40.603125 305.081761 \r\n\" style=\"fill:none;stroke:#000000;stroke-linecap:square;stroke-linejoin:miter;stroke-width:0.8;\"/>\r\n   </g>\r\n   <g id=\"patch_16\">\r\n    <path d=\"M 394.05767 540.718125 \r\nL 394.05767 305.081761 \r\n\" style=\"fill:none;stroke:#000000;stroke-linecap:square;stroke-linejoin:miter;stroke-width:0.8;\"/>\r\n   </g>\r\n   <g id=\"patch_17\">\r\n    <path d=\"M 40.603125 540.718125 \r\nL 394.05767 540.718125 \r\n\" style=\"fill:none;stroke:#000000;stroke-linecap:square;stroke-linejoin:miter;stroke-width:0.8;\"/>\r\n   </g>\r\n   <g id=\"patch_18\">\r\n    <path d=\"M 40.603125 305.081761 \r\nL 394.05767 305.081761 \r\n\" style=\"fill:none;stroke:#000000;stroke-linecap:square;stroke-linejoin:miter;stroke-width:0.8;\"/>\r\n   </g>\r\n   <g id=\"text_59\">\r\n    <!-- No: 3 -->\r\n    <g transform=\"translate(201.424773 299.081761)scale(0.12 -0.12)\">\r\n     <use xlink:href=\"#DejaVuSans-4e\"/>\r\n     <use x=\"74.804688\" xlink:href=\"#DejaVuSans-6f\"/>\r\n     <use x=\"135.986328\" xlink:href=\"#DejaVuSans-3a\"/>\r\n     <use x=\"169.677734\" xlink:href=\"#DejaVuSans-20\"/>\r\n     <use x=\"201.464844\" xlink:href=\"#DejaVuSans-33\"/>\r\n    </g>\r\n   </g>\r\n   <g id=\"legend_3\">\r\n    <g id=\"patch_19\">\r\n     <path d=\"M 47.603125 338.999886 \r\nL 208.103125 338.999886 \r\nQ 210.103125 338.999886 210.103125 336.999886 \r\nL 210.103125 312.081761 \r\nQ 210.103125 310.081761 208.103125 310.081761 \r\nL 47.603125 310.081761 \r\nQ 45.603125 310.081761 45.603125 312.081761 \r\nL 45.603125 336.999886 \r\nQ 45.603125 338.999886 47.603125 338.999886 \r\nz\r\n\" style=\"fill:#ffffff;opacity:0.8;stroke:#cccccc;stroke-linejoin:miter;\"/>\r\n    </g>\r\n    <g id=\"line2d_59\">\r\n     <path d=\"M 49.603125 324.840043 \r\nL 69.603125 324.840043 \r\n\" style=\"fill:none;stroke:#000000;stroke-linecap:square;stroke-width:1.5;\"/>\r\n    </g>\r\n    <g id=\"line2d_60\"/>\r\n    <g id=\"text_60\">\r\n     <!-- Linear Regression:$y=f(x)$ -->\r\n     <g transform=\"translate(77.603125 321.681761)scale(0.1 -0.1)\">\r\n      <use transform=\"translate(0 0.015625)\" xlink:href=\"#DejaVuSans-4c\"/>\r\n      <use transform=\"translate(55.712891 0.015625)\" xlink:href=\"#DejaVuSans-69\"/>\r\n      <use transform=\"translate(83.496094 0.015625)\" xlink:href=\"#DejaVuSans-6e\"/>\r\n      <use transform=\"translate(146.875 0.015625)\" xlink:href=\"#DejaVuSans-65\"/>\r\n      <use transform=\"translate(208.398438 0.015625)\" xlink:href=\"#DejaVuSans-61\"/>\r\n      <use transform=\"translate(269.677734 0.015625)\" xlink:href=\"#DejaVuSans-72\"/>\r\n      <use transform=\"translate(310.791016 0.015625)\" xlink:href=\"#DejaVuSans-20\"/>\r\n      <use transform=\"translate(342.578125 0.015625)\" xlink:href=\"#DejaVuSans-52\"/>\r\n      <use transform=\"translate(412.060547 0.015625)\" xlink:href=\"#DejaVuSans-65\"/>\r\n      <use transform=\"translate(473.583984 0.015625)\" xlink:href=\"#DejaVuSans-67\"/>\r\n      <use transform=\"translate(537.060547 0.015625)\" xlink:href=\"#DejaVuSans-72\"/>\r\n      <use transform=\"translate(578.173828 0.015625)\" xlink:href=\"#DejaVuSans-65\"/>\r\n      <use transform=\"translate(639.697266 0.015625)\" xlink:href=\"#DejaVuSans-73\"/>\r\n      <use transform=\"translate(691.796875 0.015625)\" xlink:href=\"#DejaVuSans-73\"/>\r\n      <use transform=\"translate(743.896484 0.015625)\" xlink:href=\"#DejaVuSans-69\"/>\r\n      <use transform=\"translate(771.679688 0.015625)\" xlink:href=\"#DejaVuSans-6f\"/>\r\n      <use transform=\"translate(832.861328 0.015625)\" xlink:href=\"#DejaVuSans-6e\"/>\r\n      <use transform=\"translate(896.240234 0.015625)\" xlink:href=\"#DejaVuSans-3a\"/>\r\n      <use transform=\"translate(929.931641 0.015625)\" xlink:href=\"#DejaVuSans-Oblique-79\"/>\r\n      <use transform=\"translate(1008.59375 0.015625)\" xlink:href=\"#DejaVuSans-3d\"/>\r\n      <use transform=\"translate(1111.865234 0.015625)\" xlink:href=\"#DejaVuSans-Oblique-66\"/>\r\n      <use transform=\"translate(1147.070312 0.015625)\" xlink:href=\"#DejaVuSans-28\"/>\r\n      <use transform=\"translate(1186.083984 0.015625)\" xlink:href=\"#DejaVuSans-Oblique-78\"/>\r\n      <use transform=\"translate(1245.263672 0.015625)\" xlink:href=\"#DejaVuSans-29\"/>\r\n     </g>\r\n     <!-- $y=0.49973x+3.00245$ -->\r\n     <g transform=\"translate(77.603125 332.899886)scale(0.1 -0.1)\">\r\n      <use transform=\"translate(0 0.78125)\" xlink:href=\"#DejaVuSans-Oblique-79\"/>\r\n      <use transform=\"translate(78.662109 0.78125)\" xlink:href=\"#DejaVuSans-3d\"/>\r\n      <use transform=\"translate(181.933594 0.78125)\" xlink:href=\"#DejaVuSans-30\"/>\r\n      <use transform=\"translate(245.556641 0.78125)\" xlink:href=\"#DejaVuSans-2e\"/>\r\n      <use transform=\"translate(277.34375 0.78125)\" xlink:href=\"#DejaVuSans-34\"/>\r\n      <use transform=\"translate(340.966797 0.78125)\" xlink:href=\"#DejaVuSans-39\"/>\r\n      <use transform=\"translate(404.589844 0.78125)\" xlink:href=\"#DejaVuSans-39\"/>\r\n      <use transform=\"translate(468.212891 0.78125)\" xlink:href=\"#DejaVuSans-37\"/>\r\n      <use transform=\"translate(531.835938 0.78125)\" xlink:href=\"#DejaVuSans-33\"/>\r\n      <use transform=\"translate(595.458984 0.78125)\" xlink:href=\"#DejaVuSans-Oblique-78\"/>\r\n      <use transform=\"translate(674.121094 0.78125)\" xlink:href=\"#DejaVuSans-2b\"/>\r\n      <use transform=\"translate(777.392578 0.78125)\" xlink:href=\"#DejaVuSans-33\"/>\r\n      <use transform=\"translate(841.015625 0.78125)\" xlink:href=\"#DejaVuSans-2e\"/>\r\n      <use transform=\"translate(872.802734 0.78125)\" xlink:href=\"#DejaVuSans-30\"/>\r\n      <use transform=\"translate(936.425781 0.78125)\" xlink:href=\"#DejaVuSans-30\"/>\r\n      <use transform=\"translate(1000.048828 0.78125)\" xlink:href=\"#DejaVuSans-32\"/>\r\n      <use transform=\"translate(1063.671875 0.78125)\" xlink:href=\"#DejaVuSans-34\"/>\r\n      <use transform=\"translate(1127.294922 0.78125)\" xlink:href=\"#DejaVuSans-35\"/>\r\n     </g>\r\n    </g>\r\n   </g>\r\n  </g>\r\n  <g id=\"axes_4\">\r\n   <g id=\"patch_20\">\r\n    <path d=\"M 464.74858 540.718125 \r\nL 818.203125 540.718125 \r\nL 818.203125 305.081761 \r\nL 464.74858 305.081761 \r\nz\r\n\" style=\"fill:#ffffff;\"/>\r\n   </g>\r\n   <g id=\"matplotlib.axis_7\">\r\n    <g id=\"xtick_28\">\r\n     <g id=\"line2d_61\">\r\n      <g>\r\n       <use style=\"stroke:#000000;stroke-width:0.8;\" x=\"464.74858\" xlink:href=\"#m04b05c712b\" y=\"540.718125\"/>\r\n      </g>\r\n     </g>\r\n     <g id=\"text_61\">\r\n      <!-- 0.0 -->\r\n      <g transform=\"translate(456.797017 555.316562)scale(0.1 -0.1)\">\r\n       <use xlink:href=\"#DejaVuSans-30\"/>\r\n       <use x=\"63.623047\" xlink:href=\"#DejaVuSans-2e\"/>\r\n       <use x=\"95.410156\" xlink:href=\"#DejaVuSans-30\"/>\r\n      </g>\r\n     </g>\r\n    </g>\r\n    <g id=\"xtick_29\">\r\n     <g id=\"line2d_62\">\r\n      <g>\r\n       <use style=\"stroke:#000000;stroke-width:0.8;\" x=\"508.930398\" xlink:href=\"#m04b05c712b\" y=\"540.718125\"/>\r\n      </g>\r\n     </g>\r\n     <g id=\"text_62\">\r\n      <!-- 2.5 -->\r\n      <g transform=\"translate(500.978835 555.316562)scale(0.1 -0.1)\">\r\n       <use xlink:href=\"#DejaVuSans-32\"/>\r\n       <use x=\"63.623047\" xlink:href=\"#DejaVuSans-2e\"/>\r\n       <use x=\"95.410156\" xlink:href=\"#DejaVuSans-35\"/>\r\n      </g>\r\n     </g>\r\n    </g>\r\n    <g id=\"xtick_30\">\r\n     <g id=\"line2d_63\">\r\n      <g>\r\n       <use style=\"stroke:#000000;stroke-width:0.8;\" x=\"553.112216\" xlink:href=\"#m04b05c712b\" y=\"540.718125\"/>\r\n      </g>\r\n     </g>\r\n     <g id=\"text_63\">\r\n      <!-- 5.0 -->\r\n      <g transform=\"translate(545.160653 555.316562)scale(0.1 -0.1)\">\r\n       <use xlink:href=\"#DejaVuSans-35\"/>\r\n       <use x=\"63.623047\" xlink:href=\"#DejaVuSans-2e\"/>\r\n       <use x=\"95.410156\" xlink:href=\"#DejaVuSans-30\"/>\r\n      </g>\r\n     </g>\r\n    </g>\r\n    <g id=\"xtick_31\">\r\n     <g id=\"line2d_64\">\r\n      <g>\r\n       <use style=\"stroke:#000000;stroke-width:0.8;\" x=\"597.294034\" xlink:href=\"#m04b05c712b\" y=\"540.718125\"/>\r\n      </g>\r\n     </g>\r\n     <g id=\"text_64\">\r\n      <!-- 7.5 -->\r\n      <g transform=\"translate(589.342472 555.316562)scale(0.1 -0.1)\">\r\n       <use xlink:href=\"#DejaVuSans-37\"/>\r\n       <use x=\"63.623047\" xlink:href=\"#DejaVuSans-2e\"/>\r\n       <use x=\"95.410156\" xlink:href=\"#DejaVuSans-35\"/>\r\n      </g>\r\n     </g>\r\n    </g>\r\n    <g id=\"xtick_32\">\r\n     <g id=\"line2d_65\">\r\n      <g>\r\n       <use style=\"stroke:#000000;stroke-width:0.8;\" x=\"641.475852\" xlink:href=\"#m04b05c712b\" y=\"540.718125\"/>\r\n      </g>\r\n     </g>\r\n     <g id=\"text_65\">\r\n      <!-- 10.0 -->\r\n      <g transform=\"translate(630.34304 555.316562)scale(0.1 -0.1)\">\r\n       <use xlink:href=\"#DejaVuSans-31\"/>\r\n       <use x=\"63.623047\" xlink:href=\"#DejaVuSans-30\"/>\r\n       <use x=\"127.246094\" xlink:href=\"#DejaVuSans-2e\"/>\r\n       <use x=\"159.033203\" xlink:href=\"#DejaVuSans-30\"/>\r\n      </g>\r\n     </g>\r\n    </g>\r\n    <g id=\"xtick_33\">\r\n     <g id=\"line2d_66\">\r\n      <g>\r\n       <use style=\"stroke:#000000;stroke-width:0.8;\" x=\"685.65767\" xlink:href=\"#m04b05c712b\" y=\"540.718125\"/>\r\n      </g>\r\n     </g>\r\n     <g id=\"text_66\">\r\n      <!-- 12.5 -->\r\n      <g transform=\"translate(674.524858 555.316562)scale(0.1 -0.1)\">\r\n       <use xlink:href=\"#DejaVuSans-31\"/>\r\n       <use x=\"63.623047\" xlink:href=\"#DejaVuSans-32\"/>\r\n       <use x=\"127.246094\" xlink:href=\"#DejaVuSans-2e\"/>\r\n       <use x=\"159.033203\" xlink:href=\"#DejaVuSans-35\"/>\r\n      </g>\r\n     </g>\r\n    </g>\r\n    <g id=\"xtick_34\">\r\n     <g id=\"line2d_67\">\r\n      <g>\r\n       <use style=\"stroke:#000000;stroke-width:0.8;\" x=\"729.839489\" xlink:href=\"#m04b05c712b\" y=\"540.718125\"/>\r\n      </g>\r\n     </g>\r\n     <g id=\"text_67\">\r\n      <!-- 15.0 -->\r\n      <g transform=\"translate(718.706676 555.316562)scale(0.1 -0.1)\">\r\n       <use xlink:href=\"#DejaVuSans-31\"/>\r\n       <use x=\"63.623047\" xlink:href=\"#DejaVuSans-35\"/>\r\n       <use x=\"127.246094\" xlink:href=\"#DejaVuSans-2e\"/>\r\n       <use x=\"159.033203\" xlink:href=\"#DejaVuSans-30\"/>\r\n      </g>\r\n     </g>\r\n    </g>\r\n    <g id=\"xtick_35\">\r\n     <g id=\"line2d_68\">\r\n      <g>\r\n       <use style=\"stroke:#000000;stroke-width:0.8;\" x=\"774.021307\" xlink:href=\"#m04b05c712b\" y=\"540.718125\"/>\r\n      </g>\r\n     </g>\r\n     <g id=\"text_68\">\r\n      <!-- 17.5 -->\r\n      <g transform=\"translate(762.888494 555.316562)scale(0.1 -0.1)\">\r\n       <use xlink:href=\"#DejaVuSans-31\"/>\r\n       <use x=\"63.623047\" xlink:href=\"#DejaVuSans-37\"/>\r\n       <use x=\"127.246094\" xlink:href=\"#DejaVuSans-2e\"/>\r\n       <use x=\"159.033203\" xlink:href=\"#DejaVuSans-35\"/>\r\n      </g>\r\n     </g>\r\n    </g>\r\n    <g id=\"xtick_36\">\r\n     <g id=\"line2d_69\">\r\n      <g>\r\n       <use style=\"stroke:#000000;stroke-width:0.8;\" x=\"818.203125\" xlink:href=\"#m04b05c712b\" y=\"540.718125\"/>\r\n      </g>\r\n     </g>\r\n     <g id=\"text_69\">\r\n      <!-- 20.0 -->\r\n      <g transform=\"translate(807.070312 555.316562)scale(0.1 -0.1)\">\r\n       <use xlink:href=\"#DejaVuSans-32\"/>\r\n       <use x=\"63.623047\" xlink:href=\"#DejaVuSans-30\"/>\r\n       <use x=\"127.246094\" xlink:href=\"#DejaVuSans-2e\"/>\r\n       <use x=\"159.033203\" xlink:href=\"#DejaVuSans-30\"/>\r\n      </g>\r\n     </g>\r\n    </g>\r\n    <g id=\"text_70\">\r\n     <!-- x -->\r\n     <g transform=\"translate(638.516477 568.994687)scale(0.1 -0.1)\">\r\n      <use xlink:href=\"#DejaVuSans-78\"/>\r\n     </g>\r\n    </g>\r\n   </g>\r\n   <g id=\"matplotlib.axis_8\">\r\n    <g id=\"ytick_22\">\r\n     <g id=\"line2d_70\">\r\n      <g>\r\n       <use style=\"stroke:#000000;stroke-width:0.8;\" x=\"464.74858\" xlink:href=\"#m8f27accd07\" y=\"540.718125\"/>\r\n      </g>\r\n     </g>\r\n     <g id=\"text_71\">\r\n      <!-- 2 -->\r\n      <g transform=\"translate(451.38608 544.517344)scale(0.1 -0.1)\">\r\n       <use xlink:href=\"#DejaVuSans-32\"/>\r\n      </g>\r\n     </g>\r\n    </g>\r\n    <g id=\"ytick_23\">\r\n     <g id=\"line2d_71\">\r\n      <g>\r\n       <use style=\"stroke:#000000;stroke-width:0.8;\" x=\"464.74858\" xlink:href=\"#m8f27accd07\" y=\"501.445398\"/>\r\n      </g>\r\n     </g>\r\n     <g id=\"text_72\">\r\n      <!-- 4 -->\r\n      <g transform=\"translate(451.38608 505.244616)scale(0.1 -0.1)\">\r\n       <use xlink:href=\"#DejaVuSans-34\"/>\r\n      </g>\r\n     </g>\r\n    </g>\r\n    <g id=\"ytick_24\">\r\n     <g id=\"line2d_72\">\r\n      <g>\r\n       <use style=\"stroke:#000000;stroke-width:0.8;\" x=\"464.74858\" xlink:href=\"#m8f27accd07\" y=\"462.17267\"/>\r\n      </g>\r\n     </g>\r\n     <g id=\"text_73\">\r\n      <!-- 6 -->\r\n      <g transform=\"translate(451.38608 465.971889)scale(0.1 -0.1)\">\r\n       <use xlink:href=\"#DejaVuSans-36\"/>\r\n      </g>\r\n     </g>\r\n    </g>\r\n    <g id=\"ytick_25\">\r\n     <g id=\"line2d_73\">\r\n      <g>\r\n       <use style=\"stroke:#000000;stroke-width:0.8;\" x=\"464.74858\" xlink:href=\"#m8f27accd07\" y=\"422.899943\"/>\r\n      </g>\r\n     </g>\r\n     <g id=\"text_74\">\r\n      <!-- 8 -->\r\n      <g transform=\"translate(451.38608 426.699162)scale(0.1 -0.1)\">\r\n       <use xlink:href=\"#DejaVuSans-38\"/>\r\n      </g>\r\n     </g>\r\n    </g>\r\n    <g id=\"ytick_26\">\r\n     <g id=\"line2d_74\">\r\n      <g>\r\n       <use style=\"stroke:#000000;stroke-width:0.8;\" x=\"464.74858\" xlink:href=\"#m8f27accd07\" y=\"383.627216\"/>\r\n      </g>\r\n     </g>\r\n     <g id=\"text_75\">\r\n      <!-- 10 -->\r\n      <g transform=\"translate(445.02358 387.426435)scale(0.1 -0.1)\">\r\n       <use xlink:href=\"#DejaVuSans-31\"/>\r\n       <use x=\"63.623047\" xlink:href=\"#DejaVuSans-30\"/>\r\n      </g>\r\n     </g>\r\n    </g>\r\n    <g id=\"ytick_27\">\r\n     <g id=\"line2d_75\">\r\n      <g>\r\n       <use style=\"stroke:#000000;stroke-width:0.8;\" x=\"464.74858\" xlink:href=\"#m8f27accd07\" y=\"344.354489\"/>\r\n      </g>\r\n     </g>\r\n     <g id=\"text_76\">\r\n      <!-- 12 -->\r\n      <g transform=\"translate(445.02358 348.153707)scale(0.1 -0.1)\">\r\n       <use xlink:href=\"#DejaVuSans-31\"/>\r\n       <use x=\"63.623047\" xlink:href=\"#DejaVuSans-32\"/>\r\n      </g>\r\n     </g>\r\n    </g>\r\n    <g id=\"ytick_28\">\r\n     <g id=\"line2d_76\">\r\n      <g>\r\n       <use style=\"stroke:#000000;stroke-width:0.8;\" x=\"464.74858\" xlink:href=\"#m8f27accd07\" y=\"305.081761\"/>\r\n      </g>\r\n     </g>\r\n     <g id=\"text_77\">\r\n      <!-- 14 -->\r\n      <g transform=\"translate(445.02358 308.88098)scale(0.1 -0.1)\">\r\n       <use xlink:href=\"#DejaVuSans-31\"/>\r\n       <use x=\"63.623047\" xlink:href=\"#DejaVuSans-34\"/>\r\n      </g>\r\n     </g>\r\n    </g>\r\n    <g id=\"text_78\">\r\n     <!-- y -->\r\n     <g transform=\"translate(438.943892 425.859318)rotate(-90)scale(0.1 -0.1)\">\r\n      <use xlink:href=\"#DejaVuSans-79\"/>\r\n     </g>\r\n    </g>\r\n   </g>\r\n   <g id=\"line2d_77\">\r\n    <g clip-path=\"url(#pbca51fe20b)\">\r\n     <use style=\"fill:#0000ff;stroke:#0000ff;\" x=\"606.130398\" xlink:href=\"#mc86ee15c47\" y=\"450.78358\"/>\r\n     <use style=\"fill:#0000ff;stroke:#0000ff;\" x=\"606.130398\" xlink:href=\"#mc86ee15c47\" y=\"466.885398\"/>\r\n     <use style=\"fill:#0000ff;stroke:#0000ff;\" x=\"606.130398\" xlink:href=\"#mc86ee15c47\" y=\"428.594489\"/>\r\n     <use style=\"fill:#0000ff;stroke:#0000ff;\" x=\"606.130398\" xlink:href=\"#mc86ee15c47\" y=\"406.405398\"/>\r\n     <use style=\"fill:#0000ff;stroke:#0000ff;\" x=\"606.130398\" xlink:href=\"#mc86ee15c47\" y=\"413.670852\"/>\r\n     <use style=\"fill:#0000ff;stroke:#0000ff;\" x=\"606.130398\" xlink:href=\"#mc86ee15c47\" y=\"441.750852\"/>\r\n     <use style=\"fill:#0000ff;stroke:#0000ff;\" x=\"606.130398\" xlink:href=\"#mc86ee15c47\" y=\"476.899943\"/>\r\n     <use style=\"fill:#0000ff;stroke:#0000ff;\" x=\"800.530398\" xlink:href=\"#mc86ee15c47\" y=\"334.536307\"/>\r\n     <use style=\"fill:#0000ff;stroke:#0000ff;\" x=\"606.130398\" xlink:href=\"#mc86ee15c47\" y=\"470.81267\"/>\r\n     <use style=\"fill:#0000ff;stroke:#0000ff;\" x=\"606.130398\" xlink:href=\"#mc86ee15c47\" y=\"424.667216\"/>\r\n     <use style=\"fill:#0000ff;stroke:#0000ff;\" x=\"606.130398\" xlink:href=\"#mc86ee15c47\" y=\"444.696307\"/>\r\n    </g>\r\n   </g>\r\n   <g id=\"line2d_78\">\r\n    <path clip-path=\"url(#pbca51fe20b)\" d=\"M 464.74858 521.047844 \r\nL 818.203125 324.71991 \r\n\" style=\"fill:none;stroke:#000000;stroke-linecap:square;stroke-width:1.5;\"/>\r\n   </g>\r\n   <g id=\"patch_21\">\r\n    <path d=\"M 464.74858 540.718125 \r\nL 464.74858 305.081761 \r\n\" style=\"fill:none;stroke:#000000;stroke-linecap:square;stroke-linejoin:miter;stroke-width:0.8;\"/>\r\n   </g>\r\n   <g id=\"patch_22\">\r\n    <path d=\"M 818.203125 540.718125 \r\nL 818.203125 305.081761 \r\n\" style=\"fill:none;stroke:#000000;stroke-linecap:square;stroke-linejoin:miter;stroke-width:0.8;\"/>\r\n   </g>\r\n   <g id=\"patch_23\">\r\n    <path d=\"M 464.74858 540.718125 \r\nL 818.203125 540.718125 \r\n\" style=\"fill:none;stroke:#000000;stroke-linecap:square;stroke-linejoin:miter;stroke-width:0.8;\"/>\r\n   </g>\r\n   <g id=\"patch_24\">\r\n    <path d=\"M 464.74858 305.081761 \r\nL 818.203125 305.081761 \r\n\" style=\"fill:none;stroke:#000000;stroke-linecap:square;stroke-linejoin:miter;stroke-width:0.8;\"/>\r\n   </g>\r\n   <g id=\"text_79\">\r\n    <!-- No: 4 -->\r\n    <g transform=\"translate(625.570227 299.081761)scale(0.12 -0.12)\">\r\n     <use xlink:href=\"#DejaVuSans-4e\"/>\r\n     <use x=\"74.804688\" xlink:href=\"#DejaVuSans-6f\"/>\r\n     <use x=\"135.986328\" xlink:href=\"#DejaVuSans-3a\"/>\r\n     <use x=\"169.677734\" xlink:href=\"#DejaVuSans-20\"/>\r\n     <use x=\"201.464844\" xlink:href=\"#DejaVuSans-34\"/>\r\n    </g>\r\n   </g>\r\n   <g id=\"legend_4\">\r\n    <g id=\"patch_25\">\r\n     <path d=\"M 471.74858 338.999886 \r\nL 632.24858 338.999886 \r\nQ 634.24858 338.999886 634.24858 336.999886 \r\nL 634.24858 312.081761 \r\nQ 634.24858 310.081761 632.24858 310.081761 \r\nL 471.74858 310.081761 \r\nQ 469.74858 310.081761 469.74858 312.081761 \r\nL 469.74858 336.999886 \r\nQ 469.74858 338.999886 471.74858 338.999886 \r\nz\r\n\" style=\"fill:#ffffff;opacity:0.8;stroke:#cccccc;stroke-linejoin:miter;\"/>\r\n    </g>\r\n    <g id=\"line2d_79\">\r\n     <path d=\"M 473.74858 324.840043 \r\nL 493.74858 324.840043 \r\n\" style=\"fill:none;stroke:#000000;stroke-linecap:square;stroke-width:1.5;\"/>\r\n    </g>\r\n    <g id=\"line2d_80\"/>\r\n    <g id=\"text_80\">\r\n     <!-- Linear Regression:$y=f(x)$ -->\r\n     <g transform=\"translate(501.74858 321.681761)scale(0.1 -0.1)\">\r\n      <use transform=\"translate(0 0.015625)\" xlink:href=\"#DejaVuSans-4c\"/>\r\n      <use transform=\"translate(55.712891 0.015625)\" xlink:href=\"#DejaVuSans-69\"/>\r\n      <use transform=\"translate(83.496094 0.015625)\" xlink:href=\"#DejaVuSans-6e\"/>\r\n      <use transform=\"translate(146.875 0.015625)\" xlink:href=\"#DejaVuSans-65\"/>\r\n      <use transform=\"translate(208.398438 0.015625)\" xlink:href=\"#DejaVuSans-61\"/>\r\n      <use transform=\"translate(269.677734 0.015625)\" xlink:href=\"#DejaVuSans-72\"/>\r\n      <use transform=\"translate(310.791016 0.015625)\" xlink:href=\"#DejaVuSans-20\"/>\r\n      <use transform=\"translate(342.578125 0.015625)\" xlink:href=\"#DejaVuSans-52\"/>\r\n      <use transform=\"translate(412.060547 0.015625)\" xlink:href=\"#DejaVuSans-65\"/>\r\n      <use transform=\"translate(473.583984 0.015625)\" xlink:href=\"#DejaVuSans-67\"/>\r\n      <use transform=\"translate(537.060547 0.015625)\" xlink:href=\"#DejaVuSans-72\"/>\r\n      <use transform=\"translate(578.173828 0.015625)\" xlink:href=\"#DejaVuSans-65\"/>\r\n      <use transform=\"translate(639.697266 0.015625)\" xlink:href=\"#DejaVuSans-73\"/>\r\n      <use transform=\"translate(691.796875 0.015625)\" xlink:href=\"#DejaVuSans-73\"/>\r\n      <use transform=\"translate(743.896484 0.015625)\" xlink:href=\"#DejaVuSans-69\"/>\r\n      <use transform=\"translate(771.679688 0.015625)\" xlink:href=\"#DejaVuSans-6f\"/>\r\n      <use transform=\"translate(832.861328 0.015625)\" xlink:href=\"#DejaVuSans-6e\"/>\r\n      <use transform=\"translate(896.240234 0.015625)\" xlink:href=\"#DejaVuSans-3a\"/>\r\n      <use transform=\"translate(929.931641 0.015625)\" xlink:href=\"#DejaVuSans-Oblique-79\"/>\r\n      <use transform=\"translate(1008.59375 0.015625)\" xlink:href=\"#DejaVuSans-3d\"/>\r\n      <use transform=\"translate(1111.865234 0.015625)\" xlink:href=\"#DejaVuSans-Oblique-66\"/>\r\n      <use transform=\"translate(1147.070312 0.015625)\" xlink:href=\"#DejaVuSans-28\"/>\r\n      <use transform=\"translate(1186.083984 0.015625)\" xlink:href=\"#DejaVuSans-Oblique-78\"/>\r\n      <use transform=\"translate(1245.263672 0.015625)\" xlink:href=\"#DejaVuSans-29\"/>\r\n     </g>\r\n     <!-- $y=0.49991x+3.00173$ -->\r\n     <g transform=\"translate(501.74858 332.899886)scale(0.1 -0.1)\">\r\n      <use transform=\"translate(0 0.78125)\" xlink:href=\"#DejaVuSans-Oblique-79\"/>\r\n      <use transform=\"translate(78.662109 0.78125)\" xlink:href=\"#DejaVuSans-3d\"/>\r\n      <use transform=\"translate(181.933594 0.78125)\" xlink:href=\"#DejaVuSans-30\"/>\r\n      <use transform=\"translate(245.556641 0.78125)\" xlink:href=\"#DejaVuSans-2e\"/>\r\n      <use transform=\"translate(277.34375 0.78125)\" xlink:href=\"#DejaVuSans-34\"/>\r\n      <use transform=\"translate(340.966797 0.78125)\" xlink:href=\"#DejaVuSans-39\"/>\r\n      <use transform=\"translate(404.589844 0.78125)\" xlink:href=\"#DejaVuSans-39\"/>\r\n      <use transform=\"translate(468.212891 0.78125)\" xlink:href=\"#DejaVuSans-39\"/>\r\n      <use transform=\"translate(531.835938 0.78125)\" xlink:href=\"#DejaVuSans-31\"/>\r\n      <use transform=\"translate(595.458984 0.78125)\" xlink:href=\"#DejaVuSans-Oblique-78\"/>\r\n      <use transform=\"translate(674.121094 0.78125)\" xlink:href=\"#DejaVuSans-2b\"/>\r\n      <use transform=\"translate(777.392578 0.78125)\" xlink:href=\"#DejaVuSans-33\"/>\r\n      <use transform=\"translate(841.015625 0.78125)\" xlink:href=\"#DejaVuSans-2e\"/>\r\n      <use transform=\"translate(872.802734 0.78125)\" xlink:href=\"#DejaVuSans-30\"/>\r\n      <use transform=\"translate(936.425781 0.78125)\" xlink:href=\"#DejaVuSans-30\"/>\r\n      <use transform=\"translate(1000.048828 0.78125)\" xlink:href=\"#DejaVuSans-31\"/>\r\n      <use transform=\"translate(1063.671875 0.78125)\" xlink:href=\"#DejaVuSans-37\"/>\r\n      <use transform=\"translate(1127.294922 0.78125)\" xlink:href=\"#DejaVuSans-33\"/>\r\n     </g>\r\n    </g>\r\n   </g>\r\n  </g>\r\n </g>\r\n <defs>\r\n  <clipPath id=\"pd485b78d6f\">\r\n   <rect height=\"235.636364\" width=\"353.454545\" x=\"40.603125\" y=\"22.318125\"/>\r\n  </clipPath>\r\n  <clipPath id=\"p647f375f88\">\r\n   <rect height=\"235.636364\" width=\"353.454545\" x=\"464.74858\" y=\"22.318125\"/>\r\n  </clipPath>\r\n  <clipPath id=\"pb6c460a41d\">\r\n   <rect height=\"235.636364\" width=\"353.454545\" x=\"40.603125\" y=\"305.081761\"/>\r\n  </clipPath>\r\n  <clipPath id=\"pbca51fe20b\">\r\n   <rect height=\"235.636364\" width=\"353.454545\" x=\"464.74858\" y=\"305.081761\"/>\r\n  </clipPath>\r\n </defs>\r\n</svg>\r\n",
      "image/png": "[encoded data removed]"
     },
     "metadata": {
      "needs_background": "light"
     }
    }
   ],
   "source": [
    "   \n",
    "figcol=2\n",
    "figrow=math.ceil(groupcount/figcol)\n",
    "\n",
    "fig=plt.figure(figsize=(12.0,8.0))\n",
    "\n",
    "fig.subplots_adjust(left=0.05,right=0.95,bottom=0.05,top=0.95)\n",
    "\n",
    "for i in range(groupcount):\n",
    "    #  plt.subplot\n",
    "    plt.subplot(figrow, figcol,i+1)\n",
    "    plt.xlim(0 ,20)\n",
    "    plt.ylim(2 ,14)\n",
    "    \n",
    "    fx=np.array([0,20])\n",
    "    fy=a[i]*fx+b[i]\n",
    "    \n",
    "    plotData(vec[:,i*2],vec[:,1+i*2],i,a[i],b[i],fx,fy)\n",
    "\n",
    "plt.savefig(\"./img/Anscombe.svg\")\n",
    "plt.show()   "
   ]
  },
  {
   "cell_type": "markdown",
   "metadata": {},
   "source": [
    "## 21.6 Sampling Bias\n",
    "\n",
    "####  non-response bia\n",
    "\n",
    "During World War II, whenever an Allied plane would return from a mission over Europe the plane would be inspected to see where the flak had impacted. Based upon this data, mechanics reinforced those areas of the planes that seemed most likely to be hit by flak.\n",
    "\n",
    "What’s wrong with this? They did not inspect the planes that failed to return from missions because they had been downed by flak. Perhaps these unexamined planes failed to return precisely because they were hit in the places\n",
    "where the flak would do the most damage. \n",
    "\n",
    "This particular error is called <b>non-response bias</b>.\n",
    "\n",
    "#### sampling a subset of a population we can infer things about the population as a whole?\n",
    "\n",
    "All statistical techniques are based upon the assumption that by sampling a subset of a population we can infer things about the population as a whole.\n",
    "\n",
    "Unfortunately, many studies, particularly in the social sciences, are based on what has been called <b>convenience (or accidental) sampling</b>.\n",
    "\n",
    "\n",
    "A convenience sample <b>might be</b> representative, but there is no way of knowing <b>whether it actually</b> is\n",
    "representative.\n",
    "\n",
    "The Family Research Institute’s Web site contains a table with the following information:\n",
    "<img src=\"./img/165.PNG\"/>\n",
    "Pretty scary stuff if your sexual preference is other than heterosexual—until one  looks at how the data was compiled.\n",
    "\n",
    "How does one go about evaluating such a sample? \n",
    "\n",
    "One technique is to <b>compare data compiled from the sample against data compiled elsewhere</b>\n"
   ]
  },
  {
   "cell_type": "markdown",
   "metadata": {},
   "source": [
    "## 21.7 Context Matters\n",
    "\n",
    "It is easy to read more into the data than it actually implies, especially when viewing the data <b>out of context</b>.\n",
    "\n",
    "Opponents of government initiatives to reduce the prevalence of guns in the U.S. are fond of quoting the statistic that roughly <b>99.8%</b> of the firearms in the U.S. will not be used to commit a violent crime in any given year. \n",
    "\n",
    "Does this mean that there is <b>not much gun violence in the U.S</b>? \n",
    "\n",
    "**NO!**\n",
    "\n",
    "The National Rifle Association reports that that there are roughly 300 million privately owned firearms in the\n",
    "U.S.—<b>0.2%</b> of 300 million is <b>600,000</b>."
   ]
  },
  {
   "cell_type": "markdown",
   "metadata": {},
   "source": [
    "## 21.8 Beware of Extrapolation\n",
    "\n",
    "It is all too easy to extrapolate from data.\n",
    "\n",
    "Extrapolation should be done <b>only</b> when one has <b>a sound theoretical justification</b> for doing so."
   ]
  },
  {
   "cell_type": "markdown",
   "metadata": {},
   "source": [
    "## 21.9 The Texas Sharpshooter Fallacy\n",
    "\n",
    "Imagine that you are driving down a country road in Texas. You see a barn that has six targets painted on it, and a bullet hole at the very center of each target.\n",
    "\n",
    "“Yes sir,” says the owner of the barn,“I never miss.” “That’s right,” says his spouse, “there ain’t a man in the state of Texas who’s more accurate with a paint brush.”\n",
    "\n",
    "Got it? <b>He fired the six shots, and then painted the targets around them</b>.\n",
    "\n",
    "A classic of the genre appeared in 2001.108 It reported that a research team at the Royal Cornhill hospital in Aberdeen had discovered that “anorexic women are most likely to have been born in the spring or early summer… Between March and June there were 13% more anorexics born than average, and 30% more in June itself.”\n",
    "\n",
    "#### Let’s look at that worrisome statistic for those women born in June.\n",
    "\n",
    "Let’s write a short program to see if we can reject the null hypothesis that this occurred purely by chance.\n"
   ]
  },
  {
   "cell_type": "code",
   "execution_count": 10,
   "metadata": {},
   "outputs": [],
   "source": [
    "import random\n",
    "\n",
    "def juneProb(numTrials):\n",
    "    june48 = 0\n",
    "    for trial in range(numTrials):\n",
    "        june = 0\n",
    "        for i in range(446):\n",
    "            if random.randint(1,12) == 6:\n",
    "                june += 1\n",
    "        if june >= 48:\n",
    "            june48 += 1\n",
    "    jProb = june48/float(numTrials)\n",
    "    print('Probability of at least 48 births in June =', jProb)\n"
   ]
  },
  {
   "cell_type": "code",
   "execution_count": 11,
   "metadata": {},
   "outputs": [
    {
     "output_type": "stream",
     "name": "stdout",
     "text": [
      "Probability of at least 48 births in June = 0.0411\n"
     ]
    }
   ],
   "source": [
    "juneProb(10000)"
   ]
  },
  {
   "cell_type": "markdown",
   "metadata": {},
   "source": [
    "It looks as if the probability of at least 48 babies being born in June purely by chance is around 4.5%.\n",
    "\n",
    "Well, they might have been on to something had they started with the hypothesis that more babies who will become anorexic are born in June, and then run a study designed to check that hypothesis.\n",
    "\n",
    "#### But that is not what they did. \n",
    "Instead, they looked at the data and then, imitating the Texas sharpshooter, drew a circle around June.\n",
    "\n",
    "The right statistical question to have asked is what is <b>the probability</b> that there was <b>at least one month</b> (out of 12) in which at least 48 babies were born.\n",
    "\n"
   ]
  },
  {
   "cell_type": "code",
   "execution_count": 12,
   "metadata": {},
   "outputs": [],
   "source": [
    "def anyProb(numTrials):\n",
    "    anyMonth48 = 0\n",
    "    for trial in range(numTrials):\n",
    "        months = [0]*12\n",
    "        for i in range(446):\n",
    "            months[random.randint(0,11)] += 1\n",
    "        if max(months) >= 48:\n",
    "            anyMonth48 += 1\n",
    "    aProb = anyMonth48/float(numTrials)\n",
    "    print('Probability of at least 48 births in some month =', aProb)\n"
   ]
  },
  {
   "cell_type": "code",
   "execution_count": 13,
   "metadata": {},
   "outputs": [
    {
     "output_type": "stream",
     "name": "stdout",
     "text": [
      "Probability of at least 48 births in some month = 0.4419\n"
     ]
    }
   ],
   "source": [
    "anyProb(10000)"
   ]
  },
  {
   "cell_type": "markdown",
   "metadata": {},
   "source": [
    "It appears that it is not so unlikely after all that the results reported in the study reflect <b>a chance occurrence</b> rather <b>a real association between birth month and anorexia</b>.\n",
    "\n",
    "One doesn’t have to come from Texas to fall victim to the Texas Sharpshooter Fallacy.\n",
    "\n",
    "What next steps might the Aberdeen group have taken to test their newfound hypothesis?\n",
    "\n",
    "One possibility is to conduct <b>a prospective study</b>. In a prospective study, one starts with a set of hypotheses and then gathers data with the potential to either refute or confirm the hypothesis. If the group conducted a new study and got similar results, one might be convinced. Prospective studies can be expensive and time consuming to perform.\n",
    "\n",
    "Prospective studies can be expensive and time consuming to perform.\n",
    "\n",
    "In <b>a retrospective study</b>, one has to examine existing data in ways that reduce the likelihood of getting misleading results. One common technique, as discussed in Chapter 15, is to split the data into <b>a training set</b> and <b>a holdout set</b>."
   ]
  },
  {
   "cell_type": "markdown",
   "metadata": {},
   "source": [
    "## 21.10 Percentages Can Confuse\n",
    "\n",
    "When thinking about percentages, we always need to pay attention to the basis on which the percentage is computed.\n",
    "\n",
    "Percentages can be particularly misleading when applied to a small basis"
   ]
  },
  {
   "cell_type": "markdown",
   "metadata": {},
   "source": [
    "## 21.11 Statistically Significant Differences Can Be Insignificant\n",
    "\n",
    "An admissions officer at the Maui Institute of Technology (MIT), wishing to convince\n",
    "the world that MIT’s admissions process is “gender-blind,” trumpeted, “At MIT, there\n",
    "is no significant difference between the grade point averages of men and women.” The\n",
    "same day, an ardent female chauvinist proclaimed that “At MIT, the women have a\n",
    "significantly higher grade point average than the men.” A puzzled reporter at the student\n",
    "newspaper decided to examine the data and expose the liar. But when she finally\n",
    "managed to pry the data out of the university, she concluded that both were telling the\n",
    "truth.\n",
    "\n",
    "What does the sentence, “At MIT, the women have a significantly higher grade point\n",
    "average than the men,” actually mean? People who have not studied statistics (most of\n",
    "the population) would probably conclude that there is a “meaningful” difference\n",
    "between the GPAs of women and men attending MIT. In contrast, those who have\n",
    "recently studied statistics might conclude only that 1) the average GPA of women is\n",
    "higher than that of men, and 2) the null hypothesis that the difference in GPA can be\n",
    "attributed to randomness can be rejected at the 5% level\n",
    "\n",
    "Suppose, for example, that there were 2500 women and 2500 men studying at MIT.\n",
    "Suppose further that the mean GPA of men was 3.5, the mean GPA of women was 3.51,\n",
    "and the standard deviation of the GPA for both men and women was 0.25. Most\n",
    "sensible people would consider the difference in GPAs “insignificant.” However, from\n",
    "a statistical point of view the difference is “significant” at close to the 2% level. What\n",
    "is the root of this strange dichotomy? As we showed in Section 19.5, when a study has\n",
    "enough power—i.e, enough examples—even insignificant differences can be\n",
    "statistically significant.\n",
    "\n",
    "\n",
    "A related problem arises when a study is very small. Suppose you flipped a coin\n",
    "twice and it came up heads both times. Now, let’s use the two-tailed one-sample t-test\n",
    "we saw in Section 19.3 to test the null hypothesis that the coin is fair. If we assume that\n",
    "the value of heads is 1 and the value of tails is 0, we can get the p-value using the code\n",
    "stats.ttest_1samp([1, 1], 0.5)[1]\n",
    "\n",
    "It returns a p-value of 0, indicating that if the coin is fair the probability of getting two\n",
    "consecutive heads is nil."
   ]
  },
  {
   "cell_type": "markdown",
   "metadata": {},
   "source": [
    "## 21.12 The Regressive Fallacy\n",
    "\n",
    "The regressive fallacy occurs when people fail to take into account the `natural fluctuations of events`.\n",
    "\n",
    "\n",
    "All athletes have good days and bad days. When they have good days, they try not to change anything. When they have a series of unusually bad days, however, they often try to make changes. Whether or not the changes are actually constructive, regression to the mean (Section 15.3) makes it likely that over the next few days the athlete’s performance will be better than the unusually poor performances preceding the changes.But that may not stop the athlete from assuming that there is a treatment effect, i.e.,\n",
    "attributing the improved performance to the changes he or she made.\n",
    "\n",
    "\n",
    "The Nobel prize-winning psychologist Daniel Kahneman tells a story about anIsraeli Air Force flight instructor who rejected Kahneman’s assertion that “rewards for improved performance work better than punishment for mistakes.” The instructor’s argument was “On many occasions I have praised flights cadets for clean execution of some aerobatic maneuver. The next time they try the same maneuver they usually do worse. On the other hand, I have often screamed into a cadet’s earphone for bad execution, and in general he does better on the next try.”153 It is natural for humans to imagine a treatment effect, because we like to think causally. But sometimes it is simply a matter of luck.\n",
    "\n",
    "Imagining a treatment effect when there is none can be dangerous. It can lead to the belief that vaccinations are harmful, that snake oil cures all aches and pains, or that investing exclusively in mutual funds that “beat the market” last year is a good strategy.\n",
    "\n",
    "![21.12](./img/21-12.jpg)\n"
   ]
  },
  {
   "cell_type": "markdown",
   "metadata": {},
   "source": [
    "## 21.13 Just Beware\n",
    "\n",
    "It would be easy, and fun, to fill a few hundred pages with a history of statistical abuses. \n",
    "\n",
    "But by now you probably got the message: \n",
    "\n",
    "<p style=\"font-size:150%;font-weight:700;color:blue;text-align:left\"> It’s just as easy to lie with numbers as it is to lie with words<p>\n",
    "\n",
    "Make sure that you understand what is actually being measured and how those “statistically significant” results were\n",
    "computed before you jump to conclusions.\n",
    "\n",
    "As Darrell Huff said, \n",
    "\n",
    "* **“`If you torture the data long enough, it will confess to anything`.”**\n",
    "\n"
   ]
  },
  {
   "cell_type": "code",
   "execution_count": null,
   "metadata": {},
   "outputs": [],
   "source": []
  }
 ],
 "metadata": {
  "kernelspec": {
   "name": "python3",
   "display_name": "Python 3.8.7 64-bit"
  },
  "language_info": {
   "codemirror_mode": {
    "name": "ipython",
    "version": 3
   },
   "file_extension": ".py",
   "mimetype": "text/x-python",
   "name": "python",
   "nbconvert_exporter": "python",
   "pygments_lexer": "ipython3",
   "version": "3.8.7"
  },
  "latex_envs": {
   "LaTeX_envs_menu_present": true,
   "autoclose": false,
   "autocomplete": true,
   "bibliofile": "biblio.bib",
   "cite_by": "apalike",
   "current_citInitial": 1,
   "eqLabelWithNumbers": true,
   "eqNumInitial": 1,
   "hotkeys": {
    "equation": "Ctrl-E",
    "itemize": "Ctrl-I"
   },
   "labels_anchors": false,
   "latex_user_defs": false,
   "report_style_numbering": false,
   "user_envs_cfg": false
  },
  "toc": {
   "base_numbering": 1,
   "nav_menu": {},
   "number_sections": false,
   "sideBar": true,
   "skip_h1_title": false,
   "title_cell": "Table of Contents",
   "title_sidebar": "Contents",
   "toc_cell": false,
   "toc_position": {
    "height": "calc(100% - 180px)",
    "left": "10px",
    "top": "150px",
    "width": "165px"
   },
   "toc_section_display": true,
   "toc_window_display": true
  },
  "widgets": {
   "state": {},
   "version": "1.1.2"
  },
  "interpreter": {
   "hash": "2db524e06e9f5f4ffedc911c917cb75e12dbc923643829bf417064a77eb14d37"
  }
 },
 "nbformat": 4,
 "nbformat_minor": 1
}