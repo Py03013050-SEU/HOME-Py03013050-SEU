{
 "cells": [
  {
   "cell_type": "markdown",
   "metadata": {},
   "source": [
    "# 22 LIES, DAMNED LIES, AND STATISTICS\n",
    "\n",
    "\n",
    "**There are lies, damned lies and statistics.** \n",
    "\n",
    "- Mark Twain \n",
    "\n",
    "If you can't prove what you want to prove, demonstrate something else and pretend they are the same thing. In the daze\n",
    "that follows the collision of statistics with the human mind, hardly anyone will notice the difference.\n",
    "\n",
    "- Darrell Huff, How to Lie with Statistics, 1954.(中译本：达莱尔·哈夫《统计数字会说谎》)\n",
    "\n",
    "Anyone can lie by simply making up fake statistics. Telling fibs with accurate statistics is more challenging, but still not difficult.\n",
    "\n",
    "![22-0](./img/22-0.jpg)\n",
    "\n"
   ]
  },
  {
   "cell_type": "markdown",
   "metadata": {},
   "source": [
    "---\n",
    "\n",
    "**Statistical thinking** is a relatively new invention.\n",
    "\n",
    "This started to change in the middle of the 17th century, most notably with the publication of\n",
    "**John Graunt** ’s \n",
    "\n",
    "* **Natural and Political Observations Made Upon the Bills of Mortality**\n",
    "\n",
    "Since that time people have used statistics as much to **mislead as to inform**.\n",
    "\n",
    "* Some have  **willfully** used statistics to mislead;\n",
    "\n",
    "* others have merely been **incompetent**\n",
    "\n",
    "We trust that you will use this information only for good,\n",
    "\n",
    "  * **a better consumer** \n",
    "  \n",
    "  * **a more honest purveyor of statistical information**.\n",
    "\n",
    "In this chapter we discuss some of the ways people can be led into drawing **inappropriate inferences** from statistical data.\n",
    "\n",
    "1. Garbage In Garbage Out (GIGO)\n",
    "\n",
    "2. Tests Are Imperfect\n",
    "\n",
    "3. Pictures Can Be Deceiving\n",
    "\n",
    "4. Cum Hoc Ergo Propter Hoc\n",
    "\n",
    "5. Statistical Measures Don’t Tell the Whole Story\n",
    "\n",
    "6. Sampling Bias\n",
    "\n",
    "7. Context Matters\n",
    "\n",
    "8. Comparing Apples to Oranges\n",
    "\n",
    "9. Picking Cherries\n",
    "\n",
    "10.  Beware of Extrapolation\n",
    "\n",
    "11. The Texas Sharpshooter Fallacy\n",
    "\n",
    "12. Percentages Can Confuse\n",
    "\n",
    "13. The Regressive Fallacy\n",
    "\n",
    "14. Statistically Significant Differences Can Be Insignificant\n",
    " \n",
    "15. Just Beware\n"
   ]
  },
  {
   "cell_type": "markdown",
   "metadata": {},
   "source": [
    "## 22.1 Garbage In Garbage Out (GIGO)\n",
    "\n",
    "If the input data is seriously flawed, no amount of statistical massaging will produce a meaningful result.\n",
    "\n",
    "Calhoun’s (perhaps willfully) spurious response to Adams was based on a classical error, \n",
    "\n",
    "**the assumption of independence**\n",
    "\n",
    "### Assumption of Independence\n",
    "\n",
    "The assumption of independence is used for several other statistical tests.\n",
    "\n",
    "It’s essential to getting results from your <b>sample</b> that reflect what you would find in a <b>population</b>. \n",
    "\n",
    "Even the smallest dependence in your data can turn into heavily biased results (which may be undetectable) if you violate this assumption.\n",
    "\n",
    "A <b>dependence</b> is <b>a connection</b> between your data. For example, how much you earn depends upon how many hours you work. \n",
    "\n",
    "<b>Independence</b> means there <b>isn’t a connection</b>. For example, how much you earn isn’t connected to what you ate for breakfast. \n",
    "\n",
    "The <b>assumption of independence</b> means that your <b>data isn’t connected in any way</b> (at least, in ways that you haven’t accounted for in your model).\n",
    "\n",
    "There are actually two assumptions: \n",
    "\n",
    "1 **The observations between groups should be independent,**\n",
    "\n",
    "which basically means the groups are made up of different people. You don’t want one person appearing twice in two different groups as it could skew your results.\n",
    "   \n",
    "\n",
    "2 **The observations within each group must be independent.** \n",
    "\n",
    "If two or more data points in one group are connected in some way, this could also skew your data. For example, let’s say you were taking a snapshot of how many donuts people ate, and you took snapshots every morning at 9,10, and 11 a.m.. You might conclude that office workers eat 25% of their daily calories from donuts. However, you made the mistake of timing the snapshots too closely together in the morning when people were more likely to bring bags of donuts in to share (making them dependent). If you had taken your measurements at 7, noon and 4 p.m., this would probably have made your measurements independent.\n",
    "\n",
    "#### How do I Avoid Violating the Assumption?\n",
    "\n",
    "Unfortunately, looking at your data and trying to see if you have independence or not is usually difficult or impossible. \n",
    "\n",
    "The key to avoiding violating the assumption of independence is to make sure your data is independent while you are collecting it. If you aren’t an expert in your field, this can be challenging.\n"
   ]
  },
  {
   "cell_type": "markdown",
   "metadata": {},
   "source": [
    "## 22.2 Tests Are Imperfect\n",
    "\n",
    "**Every experiment should be viewed as a `potentially flawed` test**. We can perform a test for a chemical, a phenomenon, a disease, etc. However, the event for which we are testing is not necessarily the same as the result of the test.\n",
    "\n",
    "Professors design exams with the goal of understanding how well a student has mastered some subject matter, but the result of the exam should not be confused with how much a student actually understands. \n",
    "\n",
    "Every test has some inherent error rate. Imagine that a student learning a second language has been asked to learn the meaning of 100 words, but has learned the meaning of only 80 of them. His rate of understanding is 80%, but the probability that he will score 80% on a test with 20 words is certainly not 1.\n",
    "\n",
    "**Tests can have both false negatives and false positives**. As we saw in Chapter 20, a negative mammogram does not guarantee absence of breast cancer, and a positive mammogram doesn’t guarantee its presence. Furthermore, the test probability and the event probability are not the same thing. This is especially relevant when testing for a rare event, e.g., the presence of a rare disease. If the cost of a false  negative is high(e.g., missing the presence of a serious but curable disease), the test should be designed to be highly sensitive, even at the cost of there being a large number of false positives.\n",
    "\n"
   ]
  },
  {
   "cell_type": "markdown",
   "metadata": {},
   "source": [
    "## 22.3 Pictures Can Be Deceiving\n",
    "\n",
    "There can be no doubt about the utility of graphics for quickly conveying information. However, when used carelessly (or maliciously) a plot can be highly misleading.\n",
    "\n",
    "Consider, for example, the following charts depicting housing prices in the U.S. Midwestern states.\n",
    "\n",
    "![162](./img/162.PNG) \n",
    "\n",
    "Looking at the chart on the left, it seems as if housing prices were <b>pretty stable</b> from 2006-2009.\n",
    "\n",
    "But wait a minute, wasn’t there <b>a collapse of U.S. residential real estate</b> followed by a global financial crisis in late 2008? There was indeed, as shown in <b>the chart on the right</b>.\n",
    "\n",
    "The first chart was <b>designed to give the impression</b> that housing prices had been <b>stable</b>.\n",
    "\n",
    "On the y-axis, the designer used <b>a logarithmic scale</b> ranging from the absurdly low average price for a house of <b>10,000</b> to the improbably high average price of <b>1 million</b>. This <b>minimized the amount of space</b> devoted to the area where prices are changing, giving the impression that the changes were relatively small.\n",
    "\n",
    "The chart above and on the right was <b>designed to give the impression</b> that housing prices <b>moved erratically, and then crashed</b>.\n",
    "\n",
    "The designer used <b>a linear scale and a narrow range of prices</b>, so the sizes of the changes were <b>exaggerated</b>.\n",
    "\n",
    "The next code produces the two plots we looked at above and <b>a plot intended to give an accurate impression of the movement of housing prices</b>"
   ]
  },
  {
   "cell_type": "code",
   "execution_count": 4,
   "metadata": {},
   "outputs": [
    {
     "name": "stdout",
     "output_type": "stream",
     "text": [
      "Writing ./data/midWestHousingPrices.csv\n"
     ]
    }
   ],
   "source": [
    "%%file ./data/midWestHousingPrices.csv\n",
    "2006,01,210700\n",
    "2006,02,203100\n",
    "2006,03,216800\n",
    "2006,04,216200\n",
    "2007,01,212800\n",
    "2007,02,203200\n",
    "2007,03,209600\n",
    "2007,04,197400\n",
    "2008,01,219200\n",
    "2008,02,198500\n",
    "2008,03,184700\n",
    "2008,04,202500\n",
    "2009,01,187100\n",
    "2009,02,193200\n",
    "2009,03,184900\n",
    "2009,04,196000"
   ]
  },
  {
   "cell_type": "code",
   "execution_count": 5,
   "metadata": {},
   "outputs": [
    {
     "data": {
      "image/png": "[encoded data removed]",
      "text/plain": [
       "<Figure size 432x288 with 1 Axes>"
      ]
     },
     "metadata": {
      "needs_background": "light"
     },
     "output_type": "display_data"
    },
    {
     "data": {
      "image/png": "[encoded data removed]",
      "text/plain": [
       "<Figure size 432x288 with 1 Axes>"
      ]
     },
     "metadata": {
      "needs_background": "light"
     },
     "output_type": "display_data"
    },
    {
     "data": {
      "image/png": "[encoded data removed]",
      "text/plain": [
       "<Figure size 432x288 with 1 Axes>"
      ]
     },
     "metadata": {
      "needs_background": "light"
     },
     "output_type": "display_data"
    }
   ],
   "source": [
    "import matplotlib.pyplot as plt\n",
    "import numpy as np \n",
    "\n",
    "def plot_housing(impression):\n",
    "    \"\"\"Assumes impression a str. Must be one of 'flat',\n",
    "         'volatile,' and 'fair'\n",
    "       Produce bar chart of housing prices over time\"\"\"\n",
    "    labels, prices = ([], [])\n",
    "    with open('./data/midWestHousingPrices.csv', 'r') as f:\n",
    "        #Each line of file contains year quarter price\n",
    "        #for Midwest region of U.S.\n",
    "        for line in f:\n",
    "            year, quarter, price = line.split(',')\n",
    "            label = year[2:4] + '\\n Q' + quarter[1]\n",
    "            labels.append(label)\n",
    "            prices.append(int(price)/1000)\n",
    "    quarters = np.arange(len(labels))  # x coords of bars\n",
    "    width = 0.8  # Width of bars\n",
    "    plt.bar(quarters, prices, width)\n",
    "    plt.xticks(quarters+width/2, labels)\n",
    "    plt.title('Housing Prices in U.S. Midwest')\n",
    "    plt.xlabel('Quarter')\n",
    "    plt.ylabel('Average Price ($1,000\\'s)')\n",
    "    if impression == 'flat':\n",
    "        plt.ylim(1, 500)\n",
    "    elif impression == 'volatile':\n",
    "        plt.ylim(180, 220)\n",
    "    elif impression == 'fair':\n",
    "        plt.ylim(150, 250)\n",
    "    else:\n",
    "        raise ValueError\n",
    "\n",
    "plot_housing('flat')\n",
    "plt.figure()\n",
    "plot_housing('volatile')\n",
    "plt.figure()\n",
    "plot_housing('fair')\n"
   ]
  },
  {
   "cell_type": "markdown",
   "metadata": {},
   "source": [
    "It uses two plotting facilities that we have not yet seen. \n",
    "\n",
    "* **plt.bar**\n",
    "\n",
    "* **plt.xticks**\n",
    "\n",
    "```python\n",
    "plt.bar(quarters, prices, width) \n",
    "```\n",
    "produces a bar chart with `width` wide bars. The left edges of the bars are the values of the elements of quarters and\n",
    "the heights of the bars are the values of the corresponding elements of prices.\n",
    "\n",
    "```python\n",
    "plt.xticks(quarters+width/2.0, labels) \n",
    "```\n",
    "describes the labels associated with the bars. \n",
    "\n",
    " * The first argument: `quarters+width/2.0`:  specifies where each label is to be placed \n",
    "\n",
    " * The second argument:`labels` : the text of the labels. \n",
    "\n",
    "The function `yticks` behaves analogously."
   ]
  },
  {
   "cell_type": "markdown",
   "metadata": {},
   "source": [
    "## 22.4 Cum Hoc Ergo Propter Hoc\n",
    "\n",
    "Statisticians, like attorneys and physicians, sometimes use Latin for no obvious reason\n",
    "other than to seem erudite. This phrase means, “with this, therefore because of this.”\n",
    "\n",
    "When two things are <b>correlated</b>, there is a temptation to assume that one has <b>caused</b> the other.\n",
    "\n",
    "#### But Correlation does not imply causation!\n",
    "\n",
    "there is some <b>lurking variable</b> that we have not considered that causes each.\n",
    "\n",
    "Given enough retrospective data, it is <b>always possible to find two variables that are correlated </b>\n",
    "\n",
    "![163](./img/163.PNG)\n",
    "\n",
    "When such correlations are found, the first thing to do is to <b>ask whether there is a plausible theory explaining the\n",
    "correlation</b>.\n",
    "\n",
    "Falling prey to the `cum hoc ergo propter hoc` fallacy can be <b>quite dangerous</b>.\n",
    "\n",
    ">与此故因此谬误:\n",
    ">\n",
    ">“Cum hoc ergo propter hoc”拉丁语文“with this，therefore because of this”，意为“有这个，因此因为这个”,或者换句话说，“A和B同时发生，因此A必须导致B发生\n"
   ]
  },
  {
   "cell_type": "markdown",
   "metadata": {},
   "source": [
    "## 22.5 Statistical Measures Don’t Tell the Whole Story\n",
    "\n",
    "An enormous number of different statistics can be extracted from a data set. \n",
    "\n",
    "By carefully choosing among these, it is possible to convey differing impressions about the same data.\n",
    "\n",
    "**A good antidote is to look at the data set itself**\n",
    "\n",
    "In 1973, the statistician F.J. Anscombe published a paper with the table,often called Anscombe's quartet(安斯库姆四重奏).\n",
    "It contains the <x, y> coordinates of the points in each of four data sets. \n",
    "\n",
    "|x0 |y0|x1|y1|x2|y2|x3|y3|\n",
    "|----:|------:|------:|------:|------:|------:|------:|----:|\n",
    "|10.0|\t8.04 |\t10.0|\t9.14 |\t10.0 \t|7.46\t|8.0    |6.58|\n",
    "|8.0| \t6.95 |\t8.0 |\t8.14 |\t8.0     |6.77\t|8.0    |5.76|\n",
    "|13.0| \t7.58 |\t13.0|\t8.74 |\t13.0    |12.74\t|8.0    |7.71|\n",
    "|9.0|\t8.81 |\t9.0 |\t8.77 |\t9.0     |7.11\t|8.0    |8.84|\n",
    "|11.0| \t8.33 |\t11.0|\t9.26|\t11.0    |7.81\t|8.0    |8.47|\n",
    "|14.0| \t9.96 |\t14.0|\t8.10 |\t14.0    |8.84\t|8.0    |7.04|\n",
    "|6.0|\t7.24 |\t6.0 |\t6.13 |\t6.0     |6.08\t|8.0 \t|5.25|\n",
    "|4.0| \t4.26 |\t4.0 |\t3.10| \t4.0     |5.39\t|19.0 \t|12.5|\n",
    "|12.0|\t10.84| \t12.0| \t9.13| \t12.0    |8.15\t|8.0 \t|5.56|\n",
    "|7.0| \t4.82 | \t7.0 |\t7.26| \t7.0     |6.42\t|8.0 \t|7.91|\n",
    "|5.0| \t5.68 | \t5.0 | \t4.74| \t5.0     |5.73\t|8.0 \t|6.89|\n",
    "\n",
    "Each of the four data sets has \n",
    "\n",
    "* the same mean value for $x(9.0)$, the same mean value for $y(7.5)$, \n",
    "\n",
    "* the same variance for $x(10.0)$, the same variance for $y(3.75)$,\n",
    "\n",
    "* the same correlation between $x$ and $y$ $(0.816)$\n",
    "\n",
    "* if we use linear regression to fit a line to each, we get the same result for each, $y = 0.5x + 3$."
   ]
  },
  {
   "cell_type": "markdown",
   "metadata": {},
   "source": [
    "Does this mean that there is no obvious way to distinguish these data sets from\n",
    "each other?\n",
    "\n",
    "No, one simply needs to plot the data to see that the data sets are not at all alike.\n",
    "\n",
    "![164curve](./img/164curve.PNG)\n",
    "\n",
    "\n",
    "<b style=\"font-size:120%;color:blue\"> The moral is simple: if possible, always take a look at some representation of the raw data.</b>\n"
   ]
  },
  {
   "cell_type": "markdown",
   "metadata": {},
   "source": [
    "## 22.6 Sampling Bias\n",
    "\n",
    "####  non-response bia\n",
    "\n",
    "During World War II, whenever an Allied plane would return from a mission over Europe the plane would be inspected to see where the flak had impacted. Based upon this data, mechanics reinforced those areas of the planes that seemed most likely to be hit by flak.\n",
    "\n",
    "What’s wrong with this? They did not inspect the planes that failed to return from missions because they had been downed by flak. Perhaps these unexamined planes failed to return precisely because they were hit in the places\n",
    "where the flak would do the most damage. \n",
    "\n",
    "This particular error is called <b>non-response bias</b>.\n",
    "\n",
    "#### sampling a subset of a population we can infer things about the population as a whole?\n",
    "\n",
    "All statistical techniques are based upon the assumption that by sampling a subset of a population we can infer things about the population as a whole.\n",
    "\n",
    "Unfortunately, many studies, particularly in the social sciences, are based on what has been called <b>convenience (or accidental) sampling</b>.\n",
    "\n",
    "\n",
    "A convenience sample <b>might be</b> representative, but there is no way of knowing <b>whether it actually</b> is\n",
    "representative.\n",
    "\n",
    "The Family Research Institute’s Web site contains a table with the following information:\n",
    "\n",
    "![165](./img/165.PNG)\n",
    "\n",
    "Pretty scary stuff if your sexual preference is other than heterosexual—until one  looks at how the data was compiled.\n",
    "\n",
    "How does one go about evaluating such a sample? \n",
    "\n",
    "One technique is to <b>compare data compiled from the sample against data compiled elsewhere</b>\n"
   ]
  },
  {
   "cell_type": "markdown",
   "metadata": {},
   "source": [
    "## 22.7 Context Matters\n",
    "\n",
    "It is easy to read more into the data than it actually implies, especially when viewing the data <b>out of context</b>.\n",
    "\n",
    "Opponents of government initiatives to reduce the prevalence of guns in the U.S. are fond of quoting the statistic that roughly <b>99.8%</b> of the firearms in the U.S. will not be used to commit a violent crime in any given year. \n",
    "\n",
    "Does this mean that there is <b>not much gun violence in the U.S</b>? \n",
    "\n",
    "**NO!**\n",
    "\n",
    "The National Rifle Association reports that that there are roughly 300 million privately owned firearms in the\n",
    "U.S.—<b>0.2%</b> of 300 million is <b>600,000</b>."
   ]
  },
  {
   "cell_type": "markdown",
   "metadata": {},
   "source": [
    "## 22.8 Comparing Apples to Oranges\n",
    "\n",
    "Take a quick look at the image in the follow\n",
    "\n",
    "![22-9](./img/22-9.jpg)\n",
    "\n",
    "What impression does it leave you with? Are many more Americans on welfare than working?\n",
    "\n",
    "The bar on the left is about 500% taller than the bar on the right. However, the numbers on the bars tell us that the y-axis has been truncated. \n",
    "\n",
    "If it had not been, the bar on the left would have been only $6.8%$ higher. Still, it is kind of shocking to think that $6.8%$ more people are on welfare than working. Shocking, and misleading.\n",
    "\n",
    "The “people on welfare” number is derived from the U.S. Census Bureau's tally of people participating in means-tested programs. This tally includes anyone residing in a household where at least one person received any benefit. Consider, for example, a household containing two parents and three children in which one parent has a full-time job and the other a part-time job. If that household received food stamps, the household would add five people to the tally of “people on welfare” and one to the tally of full-time jobs.\n",
    "\n",
    "Both numbers are “correct,” but they are not comparable. It's like concluding that Olga is a better farmer than Mark because she grows 20 tons of potatoes per acre whereas Mark grows only 3 tons of blueberries per acre.\n",
    "\n",
    "\n",
    ">Comparing Apples to Oranges 美国俚语(apples and oranges)，引申为：两个非常不同的事物，无法相比"
   ]
  },
  {
   "cell_type": "markdown",
   "metadata": {},
   "source": [
    "## 22.9 Picking Cherries\n",
    "\n",
    "While we are on the subject of fruit, picking cherries is just as bad as comparing apples and oranges. Cherry picking involves choosing\n",
    "specific pieces of data, and ignoring others, for the purpose of supporting some position\n",
    "\n",
    "Consider the plot in the Figure 22-10. The trend is pretty clear, but if we wish to argue that the planet is not warming using this data, we\n",
    "can cite the fact that there was more ice in April 2013 than in April of 1988, and ignore the rest of the data.\n",
    "\n",
    "![22-10](./img/22-10.jpg)\n",
    "\n",
    ">采摘樱桃(不完整证据)谬误: 指向似乎确认特定位置的个别案例或数据，而忽略了可能与之相关的相似案例或数据的重要部分的行为p"
   ]
  },
  {
   "cell_type": "markdown",
   "metadata": {},
   "source": [
    "## 22.10 Beware of Extrapolation\n",
    "\n",
    "It is all too easy to extrapolate from data. We did that in Section 20.1.1 when we extended fits derived from linear regression beyond the data used in the regression.\n",
    "\n",
    "Extrapolation should be done only when you have a sound theoretical justification for doing so. Be especially wary of straight-line extrapolations.\n",
    "\n",
    "Consider the plot on the left in the Figure. It shows the growth of Internet usage in the United States from 1994 to 2000. As you can see, a straight line provides a pretty good fit\n",
    "\n",
    "![22-11](./img/22-11.jpg)\n",
    "\n",
    "The plot on the right of Figure 22-11 uses this fit to project the percentage of the U.S. population using the Internet in following years. The projection is hard to believe. It seems unlikely that by 2009 everybody in the U.S. was using the Internet, and even less likely that by 2015 more than 140% of the U.S. population was using the Internet.\n"
   ]
  },
  {
   "cell_type": "markdown",
   "metadata": {},
   "source": [
    "## 22.11 The Texas Sharpshooter Fallacy\n",
    "\n",
    "Imagine that you are driving down a country road in Texas. You see a barn that has six targets painted on it, and a bullet hole at the very center of each target. “Yes sir,” says the owner of the barn, “I never miss.” “That's right,” says his spouse, “there ain't a man in the state of Texas who's more accurate with a paint brush.” Got it? He fired the six shots, and then painted the targets around them.\n",
    "\n",
    "![22-12](./img/22-12.jpg)\n",
    "\n",
    "A classic of the genre appeared in 2001.171 It reported that a research team at the Royal Cornhill Hospital in Aberdeen had\n",
    "discovered that “anorexic women are most likely to have been born in the spring or early summer… Between March and June there were\n",
    "13% more anorexics born than average, and 30% more in June itself.”\n",
    "\n",
    "Let's look at that worrisome statistic for those women born in June. The team studied 446 women who had been diagnosed as\n",
    "anorexic, so the mean number of births per month was slightly more than 37. This suggests that the number born in June was 48(37*1.3). \n",
    "\n",
    "Let's write a short program  to estimate the probability that this occurred purely by chance.\n",
    "\n",
    ">德州神枪手谬误，中文固有的的说法又称为先射箭再画靶，是一种因果谬误。通俗地讲，就是在大量的数据/证据中刻意地挑选出对自己的观点有利的数据/证据，而将其余对自己不利的数据/证据弃之不用"
   ]
  },
  {
   "cell_type": "code",
   "execution_count": 3,
   "metadata": {},
   "outputs": [],
   "source": [
    "import random\n",
    "def june_prob(num_trials):\n",
    "    june_48 = 0\n",
    "    for trial in range(num_trials):\n",
    "        june = 0\n",
    "        for i in range(446):\n",
    "            if random.randint(1,12) == 6:\n",
    "                june += 1\n",
    "        if june >= 48:\n",
    "            june_48 += 1\n",
    "    print('Probability of at least 48 births in June =',\n",
    "          round(june_48/num_trials, 4))"
   ]
  },
  {
   "cell_type": "markdown",
   "metadata": {},
   "source": [
    "When we ran `june_prob(10000)` it printed\n",
    "```\n",
    "Probability of at least 48 births in June = 0.0427\n",
    "```"
   ]
  },
  {
   "cell_type": "code",
   "execution_count": 6,
   "metadata": {},
   "outputs": [
    {
     "name": "stdout",
     "output_type": "stream",
     "text": [
      "Probability of at least 48 births in June = 0.0427\n"
     ]
    }
   ],
   "source": [
    "random.seed(0)\n",
    "june_prob(10000)"
   ]
  },
  {
   "cell_type": "markdown",
   "metadata": {},
   "source": [
    "It looks as if the probability of at least 48 babies being born in June purely by chance is around 4.25%. So perhaps those researchers in\n",
    "Aberdeen are on to something. Well, they might have been on to something had they started with the hypothesis that more babies\n",
    "who will become anorexic are born in June, and then run a study designed to check that hypothesis.\n",
    "\n",
    "But that is not what they did. Instead, they looked at the data and then, imitating the Texas sharpshooter, drew a circle around June.\n",
    "The right statistical question to have asked is what is the probability that in at least one month (out of 12) at least 48 babies were born.\n",
    "\n",
    "The program  answers that question.\n"
   ]
  },
  {
   "cell_type": "code",
   "execution_count": 7,
   "metadata": {},
   "outputs": [],
   "source": [
    "def any_prob(num_trials):\n",
    "    any_month_48 = 0\n",
    "    for trial in range(num_trials):\n",
    "        months = [0]*12\n",
    "        for i in range(446):\n",
    "            months[random.randint(0,11)] += 1\n",
    "        if max(months) >= 48:\n",
    "            any_month_48 += 1\n",
    "    print('Probability of at least 48 births in some month =',\n",
    "          round(any_month_48/num_trials, 4))"
   ]
  },
  {
   "cell_type": "markdown",
   "metadata": {},
   "source": [
    "The call `any_prob(10000)` printed\n",
    "```\n",
    "Probability of at least 48 births in some month = 0.4357\n",
    "```"
   ]
  },
  {
   "cell_type": "code",
   "execution_count": 8,
   "metadata": {},
   "outputs": [
    {
     "name": "stdout",
     "output_type": "stream",
     "text": [
      "Probability of at least 48 births in some month = 0.4357\n"
     ]
    }
   ],
   "source": [
    "random.seed(0)\n",
    "any_prob(10000)"
   ]
  },
  {
   "cell_type": "markdown",
   "metadata": {},
   "source": [
    "It appears that it is not so unlikely after all that the results reported in the study reflect a chance occurrence rather a real association between birth month and anorexia. One doesn't have to come from Texas to fall victim to the Texas Sharpshooter Fallacy.\n",
    "\n",
    "The statistical significance of a result depends upon the way the experiment was conducted. If the Aberdeen group had started out\n",
    "with the hypothesis that more anorexics are born in June, their result would be worth considering. But if they started with the\n",
    "hypothesis that there exists a month in which an unusually large proportion of anorexics are born, their result is not very compelling.\n",
    "In effect, they were testing multiple hypotheses and cherry-picking a result. They probably should have applied a Bonferroni correction\n",
    "(see Section 21.6).\n",
    "\n",
    "What next steps might the Aberdeen group have taken to test their newfound hypothesis? One possibility is to conduct a **prospective study**. In a prospective study, one starts with a set of hypotheses, recruits subjects before they have developed the outcome of interest (anorexia in this case), and then follows the subjects for a period of time. If the group had conducted a prospective study with a specific hypothesis and gotten similar results, we might be convinced.\n",
    "\n",
    "Prospective studies can be expensive and time-consuming to perform. In a **retrospective study**, existing data must be analyzed\n",
    "in ways that reduce the likelihood of getting misleading results. One common technique, as discussed in Section 20.4, is to split the data into a training set and a held out test set. For example, they could have chosen 446/2 women at random from their data (the training\n",
    "set) and tallied the number of births for each month. They could have then compared that to the number of births each month for the\n",
    "remaining women (the holdout set).\n",
    "\n"
   ]
  },
  {
   "cell_type": "markdown",
   "metadata": {},
   "source": [
    "## 22.12 Percentages Can Confuse\n",
    "\n",
    "An investment advisor called a client to report that the value of his stock portfolio had risen 16% over the last month. The advisor\n",
    "admitted that there had been some ups and downs over the year but was pleased to report that the average monthly change was +0.5%.\n",
    "Imagine the client's surprise when he got his statement for the year and observed that the value of his portfolio had declined over the\n",
    "year.\n",
    "\n",
    "He called his advisor and accused him of being a liar. “It looks to me,” he said, “like my portfolio declined by about 8%, and you told me that it went up by 0.5% a month.” “I did not,” the financial advisor replied. “I told you that the average monthly change was +0.5%.” When he examined his monthly statements, the investor realized that he had not been lied to, just misled. His portfolio went down by 15% in each month during the first half of the year, and then went up by 16% in each month during the second half of the year.\n",
    "\n",
    "When thinking about percentages, we always need to pay attention to the basis on which the percentage is computed. In this\n",
    "case, the 15% declines were on a higher average basis than the 16% increases.\n",
    "\n",
    "Percentages can be particularly misleading when applied to a small basis. You might read about a drug that has a side effect of\n",
    "increasing the incidence of some illness by 200%. But if the base incidence of the disease is very low, say one in 1,000,000, you might\n",
    "decide that the risk of taking the drug is more than counterbalanced by the drug's positive effects.\n",
    "\n",
    "\n"
   ]
  },
  {
   "cell_type": "markdown",
   "metadata": {},
   "source": [
    "## 22.13 The Regressive Fallacy\n",
    "\n",
    "The regressive fallacy occurs when people fail to take into account the **natural fluctuations of events**.\n",
    "\n",
    "\n",
    "All athletes have good days and bad days. When they have good days, they try not to change anything. When they have a series of unusually bad days, however, they often try to make changes. Whether or not the changes are actually constructive, regression to the mean (Section 15.3) makes it likely that over the next few days the athlete’s performance will be better than the unusually poor performances preceding the changes.But that may not stop the athlete from assuming that there is a treatment effect, i.e.,\n",
    "attributing the improved performance to the changes he or she made.\n",
    "\n",
    "\n",
    "The Nobel prize-winning psychologist Daniel Kahneman tells a story about anIsraeli Air Force flight instructor who rejected Kahneman’s assertion that “rewards for improved performance work better than punishment for mistakes.” The instructor’s argument was “On many occasions I have praised flights cadets for clean execution of some aerobatic maneuver. The next time they try the same maneuver they usually do worse. On the other hand, I have often screamed into a cadet’s earphone for bad execution, and in general he does better on the next try.”153 It is natural for humans to imagine a treatment effect, because we like to think causally. But sometimes it is simply a matter of luck.\n",
    "\n",
    "Imagining a treatment effect when there is none can be dangerous. It can lead to the belief that vaccinations are harmful, that snake oil cures all aches and pains, or that investing exclusively in mutual funds that “beat the market” last year is a good strategy.\n",
    "\n",
    "![21.12](./img/21-12.jpg)\n"
   ]
  },
  {
   "cell_type": "markdown",
   "metadata": {},
   "source": [
    "## 22.14 Statistically Significant Differences Can Be Insignificant\n",
    "\n",
    "An admissions officer at the Maui Institute of Technology (MIT), wishing to convince the world that MIT’s admissions process is “gender-blind,” trumpeted, “At MIT, there\n",
    "is no significant difference between the grade point averages of men and women.” The same day, an ardent female chauvinist proclaimed that “At MIT, the women have a\n",
    "significantly higher grade point average than the men.” A puzzled reporter at the student newspaper decided to examine the data and expose the liar. But when she finally\n",
    "managed to pry the data out of the university, she concluded that both were telling the truth.\n",
    "\n",
    "What does the sentence, “At MIT, the women have a significantly higher grade point average than the men,” actually mean? People who have not studied statistics (most of\n",
    "the population) would probably conclude that there is a “meaningful” difference between the GPAs of women and men attending MIT. In contrast, those who have\n",
    "recently studied statistics might conclude only that 1) the average GPA of women is higher than that of men, and 2) the null hypothesis that the difference in GPA can be\n",
    "attributed to randomness can be rejected at the 5% level \n",
    "\n",
    "Suppose, for example, that there were 2500 women and 2500 men studying at MIT. Suppose further that the mean GPA of men was 3.5, the mean GPA of women was 3.51, and the standard deviation of the GPA for both men and women was 0.25. Most sensible people would consider the difference in GPAs “insignificant.” However, from a statistical point of view the difference is “significant” at close to the 2% level. What is the root of this strange dichotomy? As we showed in Section 19.5, when a study has enough power—i.e, enough examples—even insignificant differences can be statistically significant.\n",
    "\n",
    "\n",
    "A related problem arises when a study is very small. Suppose you flipped a coin twice and it came up heads both times. Now, let’s use the two-tailed one-sample t-test\n",
    "we saw in Section 19.3 to test the null hypothesis that the coin is fair. If we assume that the value of heads is 1 and the value of tails is 0, we can get the p-value using the code\n"
   ]
  },
  {
   "cell_type": "code",
   "execution_count": 1,
   "metadata": {},
   "outputs": [
    {
     "data": {
      "text/plain": [
       "0.0"
      ]
     },
     "execution_count": 1,
     "metadata": {},
     "output_type": "execute_result"
    }
   ],
   "source": [
    "import scipy.stats\n",
    "scipy.stats.ttest_1samp([1, 1], 0.5)[1]"
   ]
  },
  {
   "cell_type": "markdown",
   "metadata": {},
   "source": [
    "It returns a p-value of 0, indicating that if the coin is fair, the probability of getting two consecutive heads is nil. We would have gotten a different answer if we had taken a Bayesian approach starting with the prior that the coin is fair.\n"
   ]
  },
  {
   "cell_type": "markdown",
   "metadata": {},
   "source": [
    "## 22.15 Just Beware\n",
    "\n",
    "\n",
    "It would be easy, and fun, to fill a few hundred pages with a history of statistical abuses. \n",
    "\n",
    "But by now you probably got the message: \n",
    "\n",
    "<p style=\"font-size:150%;font-weight:700;color:blue;text-align:left\"> It’s just as easy to lie with numbers as it is to lie with words<p>\n",
    "\n",
    "Make sure that you understand what is actually being measured and how those **“statistically significant”** results were\n",
    "computed before you jump to conclusions.\n",
    "\n",
    "As the Nobel Prize winning economist Ronald Coase(罗纳德·科斯) said,\n",
    "\n",
    "* **If you torture the data long enough, it will confess to anything**\n",
    "\n",
    ">如果你折磨数据足够长的时间,它会承认任何事情"
   ]
  },
  {
   "cell_type": "code",
   "execution_count": null,
   "metadata": {},
   "outputs": [],
   "source": []
  }
 ],
 "metadata": {
  "kernelspec": {
   "display_name": "Python 3 (ipykernel)",
   "language": "python",
   "name": "python3"
  },
  "language_info": {
   "codemirror_mode": {
    "name": "ipython",
    "version": 3
   },
   "file_extension": ".py",
   "mimetype": "text/x-python",
   "name": "python",
   "nbconvert_exporter": "python",
   "pygments_lexer": "ipython3",
   "version": "3.10.5"
  },
  "latex_envs": {
   "LaTeX_envs_menu_present": true,
   "autoclose": false,
   "autocomplete": true,
   "bibliofile": "biblio.bib",
   "cite_by": "apalike",
   "current_citInitial": 1,
   "eqLabelWithNumbers": true,
   "eqNumInitial": 1,
   "hotkeys": {
    "equation": "Ctrl-E",
    "itemize": "Ctrl-I"
   },
   "labels_anchors": false,
   "latex_user_defs": false,
   "report_style_numbering": false,
   "user_envs_cfg": false
  },
  "toc": {
   "base_numbering": 1,
   "nav_menu": {},
   "number_sections": false,
   "sideBar": true,
   "skip_h1_title": false,
   "title_cell": "Table of Contents",
   "title_sidebar": "Contents",
   "toc_cell": false,
   "toc_position": {
    "height": "calc(100% - 180px)",
    "left": "10px",
    "top": "150px",
    "width": "165px"
   },
   "toc_section_display": true,
   "toc_window_display": true
  },
  "vscode": {
   "interpreter": {
    "hash": "369f2c481f4da34e4445cda3fffd2e751bd1c4d706f27375911949ba6bb62e1c"
   }
  },
  "widgets": {
   "state": {},
   "version": "1.1.2"
  }
 },
 "nbformat": 4,
 "nbformat_minor": 1
}
