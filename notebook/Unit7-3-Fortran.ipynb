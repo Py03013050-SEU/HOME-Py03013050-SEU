{
 "cells": [
  {
   "cell_type": "markdown",
   "metadata": {},
   "source": [
    "# Programming Fortran With GNU Fortran\n",
    "\n",
    "* %cd Change the current working directory to `.\\demo\\."
   ]
  },
  {
   "cell_type": "code",
   "execution_count": 1,
   "metadata": {},
   "outputs": [
    {
     "name": "stdout",
     "output_type": "stream",
     "text": [
      "F:\\SEU\\SEE\\PySEE\\home\\notebook\\demo\n"
     ]
    }
   ],
   "source": [
    "%cd demo"
   ]
  },
  {
   "cell_type": "code",
   "execution_count": 3,
   "metadata": {},
   "outputs": [
    {
     "data": {
      "text/plain": [
       "'F:\\\\SEU\\\\SEE\\\\PySEE\\\\home\\\\notebook\\\\demo'"
      ]
     },
     "execution_count": 3,
     "metadata": {},
     "output_type": "execute_result"
    }
   ],
   "source": [
    "%pwd"
   ]
  },
  {
   "cell_type": "markdown",
   "metadata": {},
   "source": [
    "## 1. gfortran - the GNU Fortran compiler\n",
    "\n",
    "https://gcc.gnu.org/wiki/GFortran\n",
    "\n",
    "Gfortran is the name of the GNU Fortran project, developing a free Fortran 95/2003/2008 compiler for GCC, the GNU Compiler Collection. The gfortran development effort uses an open development environment in order to attract a larger team of developers and to ensure that gfortran can work on multiple architectures and diverse environments. \n",
    "\n"
   ]
  },
  {
   "cell_type": "markdown",
   "metadata": {},
   "source": [
    "#### Debian/Ubuntu"
   ]
  },
  {
   "cell_type": "code",
   "execution_count": null,
   "metadata": {},
   "outputs": [],
   "source": [
    "!sudo apt install gfortran"
   ]
  },
  {
   "cell_type": "markdown",
   "metadata": {},
   "source": [
    "#### Windows\n",
    "\n",
    "you have gfortran after install **MinGW-GW64**\n",
    "\n",
    "you may verify the Gfortran installation by listing the version of Gfortran: "
   ]
  },
  {
   "cell_type": "code",
   "execution_count": 2,
   "metadata": {},
   "outputs": [
    {
     "name": "stdout",
     "output_type": "stream",
     "text": [
      "GNU Fortran (MinGW-W64 x86_64-posix-dwarf, built by Brecht Sanders) 10.0.1 20200223 (experimental)\n",
      "Copyright (C) 2020 Free Software Foundation, Inc.\n",
      "This is free software; see the source for copying conditions.  There is NO\n",
      "warranty; not even for MERCHANTABILITY or FITNESS FOR A PARTICULAR PURPOSE.\n",
      "\n"
     ]
    }
   ],
   "source": [
    "!gfortran --version"
   ]
  },
  {
   "cell_type": "markdown",
   "metadata": {},
   "source": [
    "## 2  Getting Started\n",
    "\n",
    "Compile/Link a Simple Fortran Program - hello.f90\n",
    "\n",
    "> **NOTE**: .f90 for **`free form `source Fortran**"
   ]
  },
  {
   "cell_type": "code",
   "execution_count": 29,
   "metadata": {},
   "outputs": [
    {
     "name": "stdout",
     "output_type": "stream",
     "text": [
      "Overwriting ./gfortran/hello.f90\n"
     ]
    }
   ],
   "source": [
    "%%file ./gfortran/hello.f90\n",
    "\n",
    "program hello\n",
    "  PRINT *, 'Fortran says Hello, world!'\n",
    "end program hello"
   ]
  },
  {
   "cell_type": "markdown",
   "metadata": {},
   "source": [
    " **PRINT formatString , Variables**  \n",
    " \n",
    " * The `format string` `*` will cause Fortran will use \"default\" printing("
   ]
  },
  {
   "cell_type": "markdown",
   "metadata": {},
   "source": [
    "Then,use **gfortran** to the compile Fortran program"
   ]
  },
  {
   "cell_type": "code",
   "execution_count": 27,
   "metadata": {},
   "outputs": [],
   "source": [
    "!gfortran -c -o ./obj/hello.o ./gfortran/hello.f90\n",
    "!gfortran -o ./bin/hello ./obj/hello.o"
   ]
  },
  {
   "cell_type": "code",
   "execution_count": 28,
   "metadata": {},
   "outputs": [
    {
     "name": "stdout",
     "output_type": "stream",
     "text": [
      " Fortran says Hello, world!\n"
     ]
    }
   ],
   "source": [
    "!.\\bin\\hello"
   ]
  },
  {
   "cell_type": "markdown",
   "metadata": {},
   "source": [
    "## 3 Procedures\n",
    "\n",
    "`Subroutines` and `functions` are called procedures\n",
    "\n",
    "### 3.1 Subroutines\n",
    "\n",
    "The subroutine is defined somewhere else:\n",
    "\n",
    "```f90\n",
    "subroutine <name>(args)\n",
    "    use ...\n",
    "\n",
    "    implicit none\n",
    "    variable declarations\n",
    "\n",
    "    executable statements\n",
    "\n",
    "end subroutine <name>\n",
    "```\n",
    "**Dummy Arguments**\n",
    "\n",
    "* Variable names in a procedure, only exist in that procedure\n",
    "\n",
    "* Fortran is `pass-by-reference`\n",
    "\n",
    "**call Subroutines**\n",
    "\n",
    "* use the `call` statement, \n",
    "\n",
    "```f90\n",
    "call <sub name>(args...)\n",
    "```\n",
    "\n",
    "\n",
    "####  Example subroutine\n",
    "\n",
    "The `bisection method` is a root-finding method that applies to any continuous functions for which one knows two values with opposite signs. The method consists of repeatedly bisecting the interval defined by these values and then selecting the subinterval in which the function changes sign, and therefore must contain a root. \n"
   ]
  },
  {
   "cell_type": "code",
   "execution_count": 6,
   "metadata": {},
   "outputs": [
    {
     "name": "stdout",
     "output_type": "stream",
     "text": [
      "Overwriting ./gfortran/bisect.f08\n"
     ]
    }
   ],
   "source": [
    "%%file ./gfortran/bisect.f08\n",
    "\n",
    "subroutine bisect(fun,xl,xr,x,f,tol)\n",
    "\n",
    "  implicit none\n",
    "\n",
    "  ! arguments\n",
    "  real(8),intent(inout) :: xl       ! left bound\n",
    "  real(8),intent(inout) :: xr       ! right bound\n",
    "  real(8),intent(inout) :: x        ! result\n",
    "  real(8),intent(out)   :: f        ! residual\n",
    "  real(8),intent(in)    :: tol      ! residual tolerance\n",
    "\n",
    "  ! function argument\n",
    "  real(8) :: fun\n",
    "  external fun\n",
    "\n",
    "  ! local varaibles\n",
    "  real(8) :: fl     ! residual for left  bound\n",
    "  real(8) :: fr     ! resdiual for right bound\n",
    "  integer :: i      ! loop counter\n",
    "\n",
    "  ! determine residual bounds\n",
    "  fl = fun(xl)\n",
    "  fr = fun(xr)\n",
    "\n",
    "  ! begin loop\n",
    "  do i = 1,100\n",
    "\n",
    "    ! get midpoint\n",
    "    x = 0.5_8*(xl + xr)\n",
    "\n",
    "    ! evaluate resdiual at midpoint\n",
    "    f = fun(x)\n",
    "\n",
    "    ! check for convergence\n",
    "    if (abs(f) < tol) exit\n",
    "\n",
    "    ! reset the bounds\n",
    "    if (f*fl < dble(0.0)) then\n",
    "\n",
    "      ! move right bound info to mid\n",
    "      xr = x\n",
    "      fr = f\n",
    "\n",
    "    else\n",
    "\n",
    "      ! move left bound info to mid\n",
    "      xl = x\n",
    "      fl = f\n",
    "\n",
    "    end if\n",
    "\n",
    "\n",
    "  end do\n",
    "\n",
    "end subroutine bisect\n"
   ]
  },
  {
   "cell_type": "markdown",
   "metadata": {},
   "source": [
    "### 3.2 Functions\n",
    "\n",
    "Purpose is to return **only one** result\n",
    "\n",
    "The **function name** \n",
    "\n",
    "* defines the `variable` in the function\n",
    "\n",
    "* is returned at the `end `of a function\n"
   ]
  },
  {
   "cell_type": "markdown",
   "metadata": {},
   "source": [
    "####  Example Function"
   ]
  },
  {
   "cell_type": "code",
   "execution_count": 7,
   "metadata": {},
   "outputs": [
    {
     "name": "stdout",
     "output_type": "stream",
     "text": [
      "Overwriting ./gfortran/myfun.f08\n"
     ]
    }
   ],
   "source": [
    "%%file ./gfortran/myfun.f08\n",
    "function myfun(x)\n",
    "\n",
    "  implicit none\n",
    "\n",
    "  ! formal variables\n",
    "  real(8) :: myfun   ! the variable defined by function name\n",
    "  real(8) :: x       ! the independent variable\n",
    "\n",
    "  myfun = x**2 - 4   ! function name: returned at the endof a function\n",
    "\n",
    "end function myfun"
   ]
  },
  {
   "cell_type": "markdown",
   "metadata": {},
   "source": [
    "### 3.3 Main demo"
   ]
  },
  {
   "cell_type": "code",
   "execution_count": 12,
   "metadata": {},
   "outputs": [
    {
     "name": "stdout",
     "output_type": "stream",
     "text": [
      "Overwriting ./gfortran/findroot.f08\n"
     ]
    }
   ],
   "source": [
    "%%file ./gfortran/findroot.f08\n",
    "program findroot\n",
    "\n",
    "  implicit none\n",
    "\n",
    "  real(8) :: x   ! solution variable\n",
    "  real(8) :: xl  ! lower bound\n",
    "  real(8) :: xr  ! upper bound\n",
    "  real(8) :: f   ! final residual\n",
    "  real(8) :: tol ! tolerance\n",
    "\n",
    "  ! function declaration\n",
    "  external myfun\n",
    "\n",
    "  ! ask user for guess\n",
    "  x=1.2\n",
    "\n",
    "  ! ask for bounds\n",
    "  xl=0.1\n",
    "  xr=2.0\n",
    "\n",
    "  ! ask for tolerance\n",
    "  tol=0.01\n",
    "\n",
    "  ! call the bisection\n",
    "  call bisect(myfun,xl,xr,x,f,tol)\n",
    "\n",
    "  ! print result\n",
    "  print *,'Solution is:',x,' with final residual F0.4:',f\n",
    "\n",
    "end program findroot\n"
   ]
  },
  {
   "cell_type": "code",
   "execution_count": 15,
   "metadata": {},
   "outputs": [],
   "source": [
    "!gfortran -o ./obj/bisect.o -c ./gfortran/bisect.f08  \n",
    "!gfortran -o ./obj/myfun.o -c ./gfortran/myfun.f08 \n",
    "!gfortran -o ./obj/findroot.o -c ./gfortran/findroot.f08 \n",
    "!gfortran -o ./bin/findroot ./obj/findroot.o  ./obj/bisect.o  ./obj/myfun.o "
   ]
  },
  {
   "cell_type": "code",
   "execution_count": 16,
   "metadata": {},
   "outputs": [
    {
     "name": "stdout",
     "output_type": "stream",
     "text": [
      " Solution is:   1.9981445312514552       with final residual F0.4:  -7.4184322299024608E-003\n"
     ]
    }
   ],
   "source": [
    "!.\\bin\\findroot"
   ]
  },
  {
   "cell_type": "markdown",
   "metadata": {},
   "source": [
    "## 4 Modules\n",
    "\n",
    "Modules fulfill multiple purposes\n",
    "\n",
    "Used for \n",
    "\n",
    "* shared declarations (similar to headers)\n",
    "\n",
    "* defining global data\n",
    "\n",
    "* defining procedure interfaces\n",
    "\n",
    "Think of them as a high-level interface in your code\n",
    "\n",
    "Structure of a Module\n",
    "\n",
    "```f90\n",
    "module <name>\n",
    "    use definitions\n",
    "    \n",
    "    implicit none\n",
    "    \n",
    "    static data definitions, global to the module\n",
    "    \n",
    "    contains\n",
    "    \n",
    "      procedure definitions and interfaces\n",
    "    \n",
    "end module <name>\n",
    "```\n",
    "**Example module class_Circle**\n"
   ]
  },
  {
   "cell_type": "code",
   "execution_count": 86,
   "metadata": {},
   "outputs": [
    {
     "name": "stdout",
     "output_type": "stream",
     "text": [
      "Overwriting ./gfortran/class_Circle.f08\n"
     ]
    }
   ],
   "source": [
    "%%file ./gfortran/class_Circle.f08\n",
    "module class_Circle\n",
    "\n",
    "  implicit none\n",
    "  private\n",
    "  public :: circle_print\n",
    "\n",
    "  real :: pi = 3.1415926535897931D0 ! module-wide private constant\n",
    "\n",
    "  type, public :: Circle\n",
    "\n",
    "    real :: radius ! the radius of a circle\n",
    "    real :: area   ! the area of a circle\n",
    "    real :: circum ! the circumference of a circle\n",
    "\n",
    "  end type Circle\n",
    "\n",
    "contains\n",
    "\n",
    "!==============================================================================\n",
    "! CIRCLE_AREA calculates the area of a circle\n",
    "!==============================================================================\n",
    "\n",
    "  function circle_area(this) result(area)\n",
    "\n",
    "    type(Circle), intent(in)  :: this ! circle instance\n",
    "    real                      :: area ! the area of the circle\n",
    "\n",
    "    ! calculate the area\n",
    "    area = pi * this%radius**2\n",
    "\n",
    "  end function circle_area\n",
    "\n",
    "!==============================================================================\n",
    "! CIRCLE_CIRCUM calculate the circumference of a circle\n",
    "!==============================================================================\n",
    "\n",
    "  function circle_circum(this) result(circum)\n",
    "\n",
    "    type(Circle), intent(in) :: this   ! circle instance\n",
    "    real                     :: circum ! the circumference\n",
    "\n",
    "    ! calculate circumference\n",
    "    circum = 2*pi*this%radius\n",
    "\n",
    "  end function circle_circum\n",
    "\n",
    "!==============================================================================\n",
    "! CIRCLE_PRINT prints information about the circle\n",
    "!==============================================================================\n",
    "\n",
    "subroutine circle_print(this)\n",
    "\n",
    "    type(Circle), intent(inout) :: this ! circle instance\n",
    "\n",
    "    ! calculate area\n",
    "    this%area = circle_area(this)\n",
    "\n",
    "    ! calculate circumference\n",
    "    this%circum = circle_circum(this)\n",
    "\n",
    "end subroutine circle_print\n",
    "\n",
    "end module class_Circle\n"
   ]
  },
  {
   "cell_type": "code",
   "execution_count": 22,
   "metadata": {},
   "outputs": [
    {
     "name": "stdout",
     "output_type": "stream",
     "text": [
      "Overwriting ./gfortran/circle_test.f08\n"
     ]
    }
   ],
   "source": [
    "%%file ./gfortran/circle_test.f08\n",
    "program circle_test\n",
    "\n",
    "  use class_Circle, only: Circle,circle_print\n",
    "\n",
    "  implicit none\n",
    "\n",
    "  type(Circle) :: acircle  ! a circle instance\n",
    "\n",
    "  acircle%radius=3.2\n",
    "\n",
    "  call circle_print(acircle)\n",
    " \n",
    "  ! print out  results\n",
    "  PRINT '(\"The radius is:\",T30,F0.4,/,&\n",
    "           \"The area is:\",T30,F0.4,/,&\n",
    "           \"The circumference is:\",T30,F0.4)', &\n",
    "             acircle%radius, acircle%area,acircle%circum\n",
    "\n",
    "end program circle_test\n"
   ]
  },
  {
   "cell_type": "markdown",
   "metadata": {},
   "source": [
    "**Continuation Lines**\n",
    "\n",
    "```f90\n",
    "PRINT '(\"The radius is:\",T30,F0.4,/,&\n",
    "      \"The area is:\",T30,F0.4,/,&\n",
    "      \"The circumference is:\",T30,F0.4)', &\n",
    "             acircle%radius, acircle%area,acircle%circum\n",
    "```\n",
    "\n",
    "* If a line is ended with an ampersand, `&`, it will be continued on the next line.\n",
    "\n"
   ]
  },
  {
   "cell_type": "code",
   "execution_count": 23,
   "metadata": {},
   "outputs": [
    {
     "name": "stdout",
     "output_type": "stream",
     "text": [
      "Overwriting makefile-gfortran-circle.mk\n"
     ]
    }
   ],
   "source": [
    "%%file makefile-gfortran-circle.mk\n",
    "\n",
    "SRC= ./gfortran/\n",
    "BIN= ./bin/\n",
    "OBJ= ./obj/\n",
    "\n",
    "all: circle_test\n",
    "\n",
    "circle_test: circleobj\n",
    "\t gfortran -o $(BIN)circle_test  $(OBJ)circle_test.o $(OBJ)class_Circle.mod\n",
    "    \n",
    "circleobj:\n",
    "\t gfortran -o $(OBJ)class_Circle.mod -c  $(SRC)class_Circle.f08    \n",
    "\t gfortran -o $(OBJ)circle_test.o  -c  $(SRC)circle_test.f08     \n"
   ]
  },
  {
   "cell_type": "code",
   "execution_count": 24,
   "metadata": {},
   "outputs": [
    {
     "name": "stdout",
     "output_type": "stream",
     "text": [
      "gfortran -o ./obj/class_Circle.mod -c  ./gfortran/class_Circle.f08    \n",
      "gfortran -o ./obj/circle_test.o  -c  ./gfortran/circle_test.f08     \n",
      "gfortran -o ./bin/circle_test  ./obj/circle_test.o ./obj/class_Circle.mod\n"
     ]
    }
   ],
   "source": [
    "!make -f makefile-gfortran-circle.mk"
   ]
  },
  {
   "cell_type": "code",
   "execution_count": 25,
   "metadata": {},
   "outputs": [
    {
     "name": "stdout",
     "output_type": "stream",
     "text": [
      "The radius is:               3.2000\n",
      "The area is:                 32.1699\n",
      "The circumference is:        20.1062\n"
     ]
    }
   ],
   "source": [
    "!.\\bin\\circle_test"
   ]
  },
  {
   "cell_type": "markdown",
   "metadata": {},
   "source": [
    "## Reference\n",
    "\n",
    "1. MIT 22.901 Fortran Class https://github.com/bhermanmit/Fortran\n",
    "\n",
    "2. Awesome list of Fortran libs https://github.com/rabbiabram/awesome-fortran\n",
    "\n",
    "3. SEUIF97-API Fortran： https://github.com/PySEE/SEUIF97/tree/master/demo-fortran"
   ]
  },
  {
   "cell_type": "code",
   "execution_count": null,
   "metadata": {},
   "outputs": [],
   "source": []
  }
 ],
 "metadata": {
  "kernelspec": {
   "display_name": "Python 3",
   "language": "python",
   "name": "python3"
  },
  "language_info": {
   "codemirror_mode": {
    "name": "ipython",
    "version": 3
   },
   "file_extension": ".py",
   "mimetype": "text/x-python",
   "name": "python",
   "nbconvert_exporter": "python",
   "pygments_lexer": "ipython3",
   "version": "3.8.0"
  },
  "toc": {
   "base_numbering": 1,
   "nav_menu": {},
   "number_sections": false,
   "sideBar": true,
   "skip_h1_title": false,
   "title_cell": "Table of Contents",
   "title_sidebar": "Contents",
   "toc_cell": false,
   "toc_position": {
    "height": "calc(100% - 180px)",
    "left": "10px",
    "top": "150px",
    "width": "211.063px"
   },
   "toc_section_display": true,
   "toc_window_display": true
  },
  "widgets": {
   "state": {},
   "version": "1.1.2"
  }
 },
 "nbformat": 4,
 "nbformat_minor": 1
}
