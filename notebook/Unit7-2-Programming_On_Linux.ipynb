{
 "cells": [
  {
   "cell_type": "markdown",
   "metadata": {},
   "source": [
    "# Programming On Linux\n",
    "\n",
    "\n"
   ]
  },
  {
   "cell_type": "markdown",
   "metadata": {},
   "source": [
    "## 1 The software for programming C/C++ and  Python on Linux\n",
    "\n",
    "### C/C++\n",
    "\n",
    "* ❑ GCC: The GNU Compiler Collection, containing the GNU C compiler\n",
    "\n",
    "* ❑ G++: A C++ compiler, included as part of GCC\n",
    "\n",
    "* ❑ GNU make: A version of UNIX make\n",
    "\n",
    "Most Linux distributions, such as Ubuntu, have built-in GCC compilers and do not require additional installation\n",
    "\n",
    "\n",
    "If you use the Debian/Ubuntu distribution do not has built-in GCC compilers. you can install the folloing command\n",
    " \n",
    "```bash \n",
    "$sudo apt install build-essential\n",
    "```\n",
    "\n",
    "The command installs a bunch of new packages including gcc, g++ and make.\n",
    "\n",
    "### Python\n",
    "\n",
    "All Linux distributions have built-in Python2 and Python2. However, it is incomplete\n",
    "\n",
    "* Add 3 to the relevant commands of Python3\n",
    "\n",
    "\n",
    "For Python3, we need to be supplemented with `pip3` and `idle3`.\n",
    "\n",
    "```bash\n",
    "$sudo apt install python3-pip\n",
    "$sudo apt install idle3\n",
    "```\n",
    "\n",
    "**Install Python3 packages:**\n",
    "\n",
    "\n",
    "* set `tsinghua` as the mirror site of Pypi\n",
    "\n",
    "```bash\n",
    "$sudo -H python3 -m pip config set global.index-url https://pypi.tuna.tsinghua.edu.cn/simple\n",
    "```\n",
    "* upgrade pip3\n",
    "\n",
    "```bash\n",
    "$sudo -H python3 -m  pip install pip -U\n",
    "```\n",
    "* Installing Packages\n",
    "\n",
    "```bash\n",
    "$sudo -H python3 -m pip install jupyter \n",
    "```\n",
    "\n",
    "```bash\n",
    "$sudo -H  python3 -m pip install coolprop \n",
    "```\n",
    "\n",
    "### The text editor and programming environment\n",
    "\n",
    "**Visual Studio Code**\n",
    "\n",
    "From  https://code.visualstudio.com/docs/?dv=linux64_deb  download VS Code for Debian/Ubuntu,\n",
    "\n",
    "then install in the terminal\n",
    "\n",
    "```bash\n",
    "$sudo dpkg -i [vscode filename].deb\n",
    "```\n",
    "\n"
   ]
  },
  {
   "cell_type": "markdown",
   "metadata": {},
   "source": [
    "### Version Control:Git\n",
    "\n",
    "```bash \n",
    "$sudo apt install git\n",
    "```\n"
   ]
  },
  {
   "cell_type": "markdown",
   "metadata": {},
   "source": [
    "   \n",
    "## 2 C/C++"
   ]
  },
  {
   "cell_type": "code",
   "execution_count": 1,
   "metadata": {},
   "outputs": [
    {
     "name": "stdout",
     "output_type": "stream",
     "text": [
      "J:\\SEU\\SEE\\PySEE\\home\\notebook\\demo\n"
     ]
    }
   ],
   "source": [
    "%cd demo"
   ]
  },
  {
   "cell_type": "code",
   "execution_count": 1,
   "metadata": {},
   "outputs": [
    {
     "data": {
      "text/plain": [
       "'/mnt/j/SEU/SEE/PySEE/home/notebook'"
      ]
     },
     "execution_count": 1,
     "metadata": {},
     "output_type": "execute_result"
    }
   ],
   "source": [
    "%pwd"
   ]
  },
  {
   "cell_type": "markdown",
   "metadata": {},
   "source": [
    "### 2.1 Bisection Methond in C\n",
    "\n",
    "𝑦=𝑓(𝑥) \n",
    "\n",
    "* ./include/roots.h\n",
    "\n",
    "* ./src/roots.c"
   ]
  },
  {
   "cell_type": "code",
   "execution_count": null,
   "metadata": {},
   "outputs": [],
   "source": [
    "# %load ./include/roots.h\n",
    "#ifndef ROOTS_H\n",
    "#define ROOTS_H\n",
    "\n",
    "#include <math.h>\n",
    "// function definition\n",
    "typedef double (*fun)(double);\n",
    "\n",
    "int rtbis(fun func,double y,double x1, double x2, double xacc,double *rtb);\n",
    "/*\n",
    "\tThe program uses the bisection method to solve the equation\n",
    "\t\tf(x)-y = 0.\n",
    "\tThe solution is to be in [x1,x2] and it is assumed that\n",
    "\t\t(f(x1)-y)*(f(x2)-y) <= 0.\n",
    "\tThe solution is returned in rtb, and it is to be in error by at most xacc.\n",
    "\t\n",
    "\treturn value is an error indicator.\n",
    "\t  If =0, the solution has been computed satisfactorily.\n",
    "\t  If =1, (f(x1)-y)*(f(x2)-y) was greater than 0, contrary to assumption \n",
    "      If =2, exceeded the maximum number of iteration \n",
    "*/\n",
    "#endif\n"
   ]
  },
  {
   "cell_type": "code",
   "execution_count": null,
   "metadata": {},
   "outputs": [],
   "source": [
    "# %load ./src/roots.c\n",
    "/*\n",
    "  Numerical Recipes http://numerical.recipes\n",
    "*/ \n",
    "#include <math.h>\n",
    "#include \"roots.h\"\n",
    "\n",
    "int rtbis(fun func,double y,double x1, double x2, double xacc,double *rtb)\n",
    "{\n",
    " /*\n",
    "\tThe program uses the bisection method to solve the equation\n",
    "\t\tf(x)-y = 0.\n",
    "\tThe solution is to be in [x1,x2] and it is assumed that\n",
    "\t\t(f(x1)-y)*(f(x2)-y) <= 0.\n",
    "\tThe solution is returned in rtb, and it is to be in error by at most xacc.\n",
    "\t\n",
    "\treturn value is an error indicator.\n",
    "\t  If =0, the solution has been computed satisfactorily.\n",
    "\t  If =1, (f(x1)-y)*(f(x2)-y) was greater than 0, contrary to assumption \n",
    "      If =2, exceeded the maximum number of iteration \n",
    "*/\n",
    "\tconst int IMAX=100; // the maximum number of iteration\n",
    "    float dx,f,fmid,xmid;\n",
    "\n",
    "\tf=(*func)(x1)-y;\n",
    "\tfmid=(*func)(x2)-y;\n",
    "\tif (f*fmid >= 0.0) // endpoints do not straddle y=0\n",
    "       return 1; \n",
    "    // init the root value: rtb\n",
    "\t*rtb = f < 0.0 ? (dx=x2-x1,x1) : (dx=x1-x2,x2);\n",
    "\tfor (int i=1;i<=IMAX;i++) {\n",
    "\t\tfmid=(*func)(xmid=(*rtb)+(dx *= 0.5))-y;\n",
    "\t\tif (fmid <= 0.0) *rtb=xmid;\n",
    "\t\tif (fabs(dx) < xacc || fmid == 0.0) \n",
    "           return 0;\n",
    "  \t}\n",
    "    // Exceeded the maximum number of iteration\n",
    "    return 2;\n",
    "}\n"
   ]
  },
  {
   "cell_type": "markdown",
   "metadata": {},
   "source": [
    "### 2.2 The caller of Bisection Methond \n",
    "\n",
    "$𝑓(𝑥)=𝑥2$ \n",
    "\n",
    "$4=𝑓(𝑥)$\n",
    "\n",
    "```c\n",
    "int rtbis(fun func,double y,double x1, double x2, double xacc,double *rtb)\n",
    "\n",
    "double xl, xu, epsilon, root;\n",
    "ier=rtbis(fcn,y,xl, xu, epsilon, &root);\n",
    "```\n",
    "&root > double *rtb"
   ]
  },
  {
   "cell_type": "code",
   "execution_count": null,
   "metadata": {},
   "outputs": [],
   "source": [
    "# %load ./src/rtbisApp.c\n",
    "\n",
    "#include <stdio.h>\n",
    "#include <string.h>\n",
    "#include <stdlib.h>\n",
    "#include \"roots.h\"\n",
    "\n",
    "double fcn(double x)\n",
    "{\n",
    "\tdouble result;\n",
    "\tresult = x * x;\n",
    "\treturn result;\n",
    "}\n",
    "\n",
    "int main()\n",
    "{\n",
    "\tdouble xl, xu, epsilon, root;\n",
    "\tint ier;\n",
    "\txl = 0.1;\n",
    "\txu = 3.2;\n",
    "\tepsilon = 0.001;\n",
    "    double y=4;\n",
    "\t// Calculate root\n",
    "\tier=rtbis(fcn,y,xl, xu, epsilon, &root);\n",
    "\t// Print answers\n",
    "\tprintf(\"root = %14.7e  ier = %1d\", root, ier);\n",
    "\treturn 0;\n",
    "}\n"
   ]
  },
  {
   "cell_type": "code",
   "execution_count": 2,
   "metadata": {},
   "outputs": [],
   "source": [
    "!gcc -o ./bin/rtbisApp ./src/rtbisApp.c  ./src/roots.c -I./include/"
   ]
  },
  {
   "cell_type": "code",
   "execution_count": 3,
   "metadata": {},
   "outputs": [
    {
     "name": "stdout",
     "output_type": "stream",
     "text": [
      "root =  1.9996581e+00  ier = 0"
     ]
    }
   ],
   "source": [
    "!./bin/rtbisApp"
   ]
  },
  {
   "cell_type": "markdown",
   "metadata": {},
   "source": [
    "**Further Reading:**\n",
    "\n",
    "**Path separators**\n",
    "\n",
    "* Linux: /\n",
    "\n",
    "* Windows: \\\n",
    "\n",
    "* Eescape character \\\n",
    "\n",
    "The backslash`\\` is an escape character,you use to inform that the next character is special."
   ]
  },
  {
   "cell_type": "markdown",
   "metadata": {},
   "source": [
    "\n",
    "### 2.3 The shared library\n",
    "\n",
    "using `__cdecl` calling convention\n",
    "\n",
    "GCC assumes that all libraries\n",
    "\n",
    "* start with `lib`\n",
    "\n",
    "* Shared libraries: end with `.so`(Linux)\n",
    "\n",
    "#### 2.3.1 creating the shared  library"
   ]
  },
  {
   "cell_type": "code",
   "execution_count": 4,
   "metadata": {},
   "outputs": [],
   "source": [
    "!gcc -c -O3 -Wall -fPIC -o ./obj/roots.o  ./src/roots.c -I./include\n",
    "!gcc -shared -o ./bin/libroots.so  ./obj/roots.o"
   ]
  },
  {
   "cell_type": "code",
   "execution_count": 5,
   "metadata": {},
   "outputs": [
    {
     "name": "stdout",
     "output_type": "stream",
     "text": [
      "./bin/libfuns.dll  ./bin/libroots.so  ./bin/libstat.dll\r\n"
     ]
    }
   ],
   "source": [
    "!ls ./bin/lib*.*"
   ]
  },
  {
   "cell_type": "markdown",
   "metadata": {},
   "source": [
    "### 2.3.2 Using the shared library\n",
    "\n",
    "We use the same code `./src/statdemo.c` under Windows\n",
    "\n",
    "**Linking the library**\n",
    "\n",
    "**Windows**\n",
    "```bash\n",
    "    -L./bin/ -lstat\n",
    "```\n",
    "**Linux**\n",
    "```bash\n",
    "   -L./bin/ -lstat -Wl,-rpath=./bin/  \n",
    "```\n",
    "* **`-Wl,option`**\n",
    "\n",
    "    Pass option as an option to the **linker**. \n",
    "    \n",
    "    If option contains `commas`, it is split into multiple options at the commas. \n",
    "    \n",
    "    You can use this syntax to pass an argument to the option.\n",
    "      \n",
    "   \n",
    "* **`-rpath=dir`** \n",
    "\n",
    "   **Add a directory to the runtime library search path**. This is used when linking an >executable with shared objects. \n",
    " \n",
    "All `-rpath` arguments are concatenated and passed to the >runtime linker, which uses them to locate shared objects at runtime. \n",
    "   \n",
    "\n",
    "\n"
   ]
  },
  {
   "cell_type": "code",
   "execution_count": 6,
   "metadata": {},
   "outputs": [],
   "source": [
    "!gcc -o  ./bin/rtbisApp ./src/rtbisApp.c -L./bin/ -lroots -I./include -Wl,-rpath=./bin/ "
   ]
  },
  {
   "cell_type": "code",
   "execution_count": 7,
   "metadata": {},
   "outputs": [
    {
     "name": "stdout",
     "output_type": "stream",
     "text": [
      "root =  1.9996581e+00  ier = 0"
     ]
    }
   ],
   "source": [
    "!./bin/rtbisApp"
   ]
  },
  {
   "cell_type": "markdown",
   "metadata": {},
   "source": [
    "## 3 Using The CoolProp Shared Library\n",
    "\n",
    "**Change working dir to `./notebook/coolpropdemo`**"
   ]
  },
  {
   "cell_type": "code",
   "execution_count": 2,
   "metadata": {},
   "outputs": [
    {
     "name": "stdout",
     "output_type": "stream",
     "text": [
      "/mnt/j/SEU/SEE/PySEE/home/notebook/coolpropdemo\n"
     ]
    }
   ],
   "source": [
    "%cd coolpropdemo"
   ]
  },
  {
   "cell_type": "code",
   "execution_count": 3,
   "metadata": {},
   "outputs": [
    {
     "data": {
      "text/plain": [
       "'/mnt/j/SEU/SEE/PySEE/home/notebook/coolpropdemo'"
      ]
     },
     "execution_count": 3,
     "metadata": {},
     "output_type": "execute_result"
    }
   ],
   "source": [
    "%pwd"
   ]
  },
  {
   "cell_type": "markdown",
   "metadata": {},
   "source": [
    "`libCoolProp.so.6.4.1`  is the library builded with GCC 9.3 and glibc2.29 above on Linux\n",
    "\n",
    "type the following command in the terminal of `./coolpropdemo/` to create the symbolic link `libCoolProp.so`\n",
    "\n",
    "```bash\n",
    "$sudo ln -sf libCoolProp.so.6.4.1 ./bin/libCoolProp.so.6\n",
    "$sudo ln -sf libCoolProp.so.6 ./bin/libCoolProp.so\n",
    "```"
   ]
  },
  {
   "cell_type": "code",
   "execution_count": 12,
   "metadata": {},
   "outputs": [
    {
     "name": "stdout",
     "output_type": "stream",
     "text": [
      "Overwriting ./mainso.c\n"
     ]
    }
   ],
   "source": [
    "%%file ./mainso.c\n",
    "\n",
    "/* \n",
    "The example use the shared library of CoolProp in c\n",
    "\n",
    "g++ -o ./bin/mainso  -DCOOLPROP_LIB mainso.c -I./include -L./bin -lCoolProp -Wl,-rpath=./bin/ \n",
    "       \n",
    "./bin/mainso\n",
    "\n",
    "*/\n",
    "\n",
    "#include \"CoolPropLib.h\"\n",
    "#include <stdio.h>\n",
    "\n",
    "int main() {\n",
    "     double value=PropsSI(\"P\",\"T\",273.15+0,\"Q\",0,\"R134a\");\n",
    "     printf(\"%f\\n\", value); \n",
    "     return 0;\n",
    "}"
   ]
  },
  {
   "cell_type": "code",
   "execution_count": 10,
   "metadata": {},
   "outputs": [],
   "source": [
    "!g++ -o ./bin/mainso  -DCOOLPROP_LIB mainso.c -I./include -L./bin -lCoolProp -Wl,-rpath=./bin/ "
   ]
  },
  {
   "cell_type": "code",
   "execution_count": 11,
   "metadata": {},
   "outputs": [
    {
     "name": "stdout",
     "output_type": "stream",
     "text": [
      "292803.182339\r\n"
     ]
    }
   ],
   "source": [
    "!./bin/mainso"
   ]
  },
  {
   "cell_type": "markdown",
   "metadata": {},
   "source": [
    "## Reference\n",
    "\n",
    "https://github.com/PySEE/home/blob/B2021/guide/doc/Ubuntu-Python-CPP(Chinese).md"
   ]
  },
  {
   "cell_type": "code",
   "execution_count": null,
   "metadata": {},
   "outputs": [],
   "source": []
  }
 ],
 "metadata": {
  "kernelspec": {
   "display_name": "Python 3",
   "language": "python",
   "name": "python3"
  },
  "language_info": {
   "codemirror_mode": {
    "name": "ipython",
    "version": 3
   },
   "file_extension": ".py",
   "mimetype": "text/x-python",
   "name": "python",
   "nbconvert_exporter": "python",
   "pygments_lexer": "ipython3",
   "version": "3.8.7"
  },
  "toc": {
   "base_numbering": 1,
   "nav_menu": {},
   "number_sections": false,
   "sideBar": true,
   "skip_h1_title": false,
   "title_cell": "Table of Contents",
   "title_sidebar": "Contents",
   "toc_cell": false,
   "toc_position": {
    "height": "calc(100% - 180px)",
    "left": "10px",
    "top": "150px",
    "width": "203.375px"
   },
   "toc_section_display": true,
   "toc_window_display": true
  },
  "widgets": {
   "state": {},
   "version": "1.1.2"
  }
 },
 "nbformat": 4,
 "nbformat_minor": 1
}
