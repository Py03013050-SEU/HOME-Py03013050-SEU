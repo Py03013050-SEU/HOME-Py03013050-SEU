{
 "cells": [
  {
   "cell_type": "markdown",
   "metadata": {},
   "source": [
    "# Programming On Linux\n",
    "\n",
    "\n"
   ]
  },
  {
   "cell_type": "markdown",
   "metadata": {},
   "source": [
    "## 1 The software for programming C/C++ and  Python on Linux\n",
    "\n",
    "### C/C++\n",
    "\n",
    "* ❑ GCC: The GNU Compiler Collection, containing the GNU C compiler\n",
    "\n",
    "* ❑ G++: A C++ compiler, included as part of GCC\n",
    "\n",
    "* ❑ GNU make: A version of UNIX make\n",
    "\n",
    "Most Linux distributions, such as Ubuntu, have built-in GCC compilers and do not require additional installation\n",
    "\n",
    "\n",
    "If you use the Debian/Ubuntu distribution do not has built-in GCC compilers. you can install the folloing command\n",
    " \n",
    "```bash \n",
    "$sudo apt install build-essential\n",
    "```\n",
    "\n",
    "The command installs a bunch of new packages including gcc, g++ and make.\n",
    "\n",
    "### Python\n",
    "\n",
    "All Linux distributions have built-in Python2 and Python2. However, it is incomplete\n",
    "\n",
    "* Add 3 to the relevant commands of Python3\n",
    "\n",
    "\n",
    "For Python3, we need to be supplemented with `pip3` and `idle3`.\n",
    "\n",
    "```bash\n",
    "$sudo apt install python3-pip\n",
    "$sudo apt install idle3\n",
    "```\n",
    "\n",
    "**Install Python3 packages:**\n",
    "\n",
    "\n",
    "* set `tsinghua` as the mirror site of Pypi\n",
    "\n",
    "```bash\n",
    "$sudo -H python3 -m pip config set global.index-url https://pypi.tuna.tsinghua.edu.cn/simple\n",
    "```\n",
    "* upgrade pip3\n",
    "\n",
    "```bash\n",
    "$sudo -H python3 -m  pip install pip -U\n",
    "```\n",
    "* Installing Packages\n",
    "\n",
    "```bash\n",
    "$sudo -H python3 -m pip install jupyter \n",
    "```\n",
    "\n",
    "```bash\n",
    "$sudo -H  python3 -m pip install coolprop \n",
    "```\n",
    "\n",
    "### The text editor and programming environment\n",
    "\n",
    "**Visual Studio Code**\n",
    "\n",
    "From  https://code.visualstudio.com/docs/?dv=linux64_deb  download VS Code for Debian/Ubuntu,\n",
    "\n",
    "then install in the terminal\n",
    "\n",
    "```bash\n",
    "$sudo dpkg -i [vscode filename].deb\n",
    "```\n",
    "\n"
   ]
  },
  {
   "cell_type": "markdown",
   "metadata": {},
   "source": [
    "### Version Control:Git\n",
    "\n",
    "```bash \n",
    "$sudo apt install git\n",
    "```\n"
   ]
  },
  {
   "cell_type": "markdown",
   "metadata": {},
   "source": [
    "   \n",
    "## 2 C/C++"
   ]
  },
  {
   "cell_type": "code",
   "execution_count": 1,
   "metadata": {},
   "outputs": [
    {
     "name": "stdout",
     "output_type": "stream",
     "text": [
      "J:\\SEU\\SEE\\PySEE\\home\\notebook\\demo\n"
     ]
    }
   ],
   "source": [
    "%cd demo"
   ]
  },
  {
   "cell_type": "code",
   "execution_count": 1,
   "metadata": {},
   "outputs": [
    {
     "data": {
      "text/plain": [
       "'/mnt/j/SEU/SEE/PySEE/home/notebook'"
      ]
     },
     "execution_count": 1,
     "metadata": {},
     "output_type": "execute_result"
    }
   ],
   "source": [
    "%pwd"
   ]
  },
  {
   "cell_type": "markdown",
   "metadata": {},
   "source": [
    "### 2.1 Bisection Methond in C\n",
    "\n",
    "𝑦=𝑓(𝑥) \n",
    "\n",
    "* ./include/roots.h\n",
    "\n",
    "* ./src/roots.c"
   ]
  },
  {
   "cell_type": "code",
   "execution_count": null,
   "metadata": {},
   "outputs": [],
   "source": [
    "# %load ./include/roots.h\n",
    "#ifndef ROOTS_H\n",
    "#define ROOTS_H\n",
    "\n",
    "#include <math.h>\n",
    "// function definition\n",
    "typedef double (*fun)(double);\n",
    "\n",
    "int rtbis(fun func,double y,double x1, double x2, double xacc,double *rtb);\n",
    "/*\n",
    "\tThe program uses the bisection method to solve the equation\n",
    "\t\tf(x)-y = 0.\n",
    "\tThe solution is to be in [x1,x2] and it is assumed that\n",
    "\t\t(f(x1)-y)*(f(x2)-y) <= 0.\n",
    "\tThe solution is returned in rtb, and it is to be in error by at most xacc.\n",
    "\t\n",
    "\treturn value is an error indicator.\n",
    "\t  If =0, the solution has been computed satisfactorily.\n",
    "\t  If =1, (f(x1)-y)*(f(x2)-y) was greater than 0, contrary to assumption \n",
    "      If =2, exceeded the maximum number of iteration \n",
    "*/\n",
    "#endif\n"
   ]
  },
  {
   "cell_type": "code",
   "execution_count": null,
   "metadata": {},
   "outputs": [],
   "source": [
    "# %load ./src/roots.c\n",
    "/*\n",
    "  Numerical Recipes http://numerical.recipes\n",
    "*/ \n",
    "#include <math.h>\n",
    "#include \"roots.h\"\n",
    "\n",
    "int rtbis(fun func,double y,double x1, double x2, double xacc,double *rtb)\n",
    "{\n",
    " /*\n",
    "\tThe program uses the bisection method to solve the equation\n",
    "\t\tf(x)-y = 0.\n",
    "\tThe solution is to be in [x1,x2] and it is assumed that\n",
    "\t\t(f(x1)-y)*(f(x2)-y) <= 0.\n",
    "\tThe solution is returned in rtb, and it is to be in error by at most xacc.\n",
    "\t\n",
    "\treturn value is an error indicator.\n",
    "\t  If =0, the solution has been computed satisfactorily.\n",
    "\t  If =1, (f(x1)-y)*(f(x2)-y) was greater than 0, contrary to assumption \n",
    "      If =2, exceeded the maximum number of iteration \n",
    "*/\n",
    "\tconst int IMAX=100; // the maximum number of iteration\n",
    "    float dx,f,fmid,xmid;\n",
    "\n",
    "\tf=(*func)(x1)-y;\n",
    "\tfmid=(*func)(x2)-y;\n",
    "\tif (f*fmid >= 0.0) // endpoints do not straddle y=0\n",
    "       return 1; \n",
    "    // init the root value: rtb\n",
    "\t*rtb = f < 0.0 ? (dx=x2-x1,x1) : (dx=x1-x2,x2);\n",
    "\tfor (int i=1;i<=IMAX;i++) {\n",
    "\t\tfmid=(*func)(xmid=(*rtb)+(dx *= 0.5))-y;\n",
    "\t\tif (fmid <= 0.0) *rtb=xmid;\n",
    "\t\tif (fabs(dx) < xacc || fmid == 0.0) \n",
    "           return 0;\n",
    "  \t}\n",
    "    // Exceeded the maximum number of iteration\n",
    "    return 2;\n",
    "}\n"
   ]
  },
  {
   "cell_type": "markdown",
   "metadata": {},
   "source": [
    "### 2.2 The caller of Bisection Methond \n",
    "\n",
    "$𝑓(𝑥)=𝑥2$ \n",
    "\n",
    "$4=𝑓(𝑥)$\n",
    "\n",
    "```c\n",
    "int rtbis(fun func,double y,double x1, double x2, double xacc,double *rtb)\n",
    "\n",
    "double xl, xu, epsilon, root;\n",
    "ier=rtbis(fcn,y,xl, xu, epsilon, &root);\n",
    "```\n",
    "&root > double *rtb"
   ]
  },
  {
   "cell_type": "code",
   "execution_count": null,
   "metadata": {},
   "outputs": [],
   "source": [
    "# %load ./src/rtbisApp.c\n",
    "\n",
    "#include <stdio.h>\n",
    "#include <string.h>\n",
    "#include <stdlib.h>\n",
    "#include \"roots.h\"\n",
    "\n",
    "double fcn(double x)\n",
    "{\n",
    "\tdouble result;\n",
    "\tresult = x * x;\n",
    "\treturn result;\n",
    "}\n",
    "\n",
    "int main()\n",
    "{\n",
    "\tdouble xl, xu, epsilon, root;\n",
    "\tint ier;\n",
    "\txl = 0.1;\n",
    "\txu = 3.2;\n",
    "\tepsilon = 0.001;\n",
    "    double y=4;\n",
    "\t// Calculate root\n",
    "\tier=rtbis(fcn,y,xl, xu, epsilon, &root);\n",
    "\t// Print answers\n",
    "\tprintf(\"root = %14.7e  ier = %1d\", root, ier);\n",
    "\treturn 0;\n",
    "}\n"
   ]
  },
  {
   "cell_type": "code",
   "execution_count": 2,
   "metadata": {},
   "outputs": [],
   "source": [
    "!gcc -o ./bin/rtbisApp ./src/rtbisApp.c  ./src/roots.c -I./include/"
   ]
  },
  {
   "cell_type": "code",
   "execution_count": 3,
   "metadata": {},
   "outputs": [
    {
     "name": "stdout",
     "output_type": "stream",
     "text": [
      "root =  1.9996581e+00  ier = 0"
     ]
    }
   ],
   "source": [
    "!./bin/rtbisApp"
   ]
  },
  {
   "cell_type": "markdown",
   "metadata": {},
   "source": [
    "**Further Reading:**\n",
    "\n",
    "**Path separators**\n",
    "\n",
    "* Linux: /\n",
    "\n",
    "* Windows: \\\n",
    "\n",
    "Escape character \\\n",
    "\n",
    "* The backslash`\\` is an escape character,you use to inform that the next character is special."
   ]
  },
  {
   "cell_type": "markdown",
   "metadata": {},
   "source": [
    "\n",
    "### 2.3 The shared library\n",
    "\n",
    "Linux supports two classes of libraries, namely:\n",
    "\n",
    "* Static libraries – are bound to a program statically at compile time. \n",
    "* Shared libraries – are loaded when a program is launched and loaded into memory and binding occurs at run time. \n",
    "\n",
    "GCC assumes that all libraries on Linux\n",
    "\n",
    "* start with `lib`\n",
    "\n",
    "* Static libraries : end with `.a`\n",
    "\n",
    "* Shared libraries: end with `.so`\n",
    "\n",
    "There are mainly standard locations in the filesystem where a library can be placed.\n",
    "\n",
    "* /lib, /lib64:   system startup libraries\n",
    "* /usr/lib,/usr/lib64;\n",
    "* /usr/local/lib, /usr/local/lib64\n",
    "\n",
    "\n",
    "\n",
    "\n",
    "\n",
    "#### 2.3.1 creating the shared  library\n",
    "\n",
    "using `__cdecl` calling convention"
   ]
  },
  {
   "cell_type": "code",
   "execution_count": 4,
   "metadata": {},
   "outputs": [],
   "source": [
    "!gcc -c -O3 -Wall -fPIC -o ./obj/roots.o  ./src/roots.c -I./include\n",
    "!gcc -shared -o ./bin/libroots.so  ./obj/roots.o"
   ]
  },
  {
   "cell_type": "code",
   "execution_count": 5,
   "metadata": {},
   "outputs": [
    {
     "name": "stdout",
     "output_type": "stream",
     "text": [
      "./bin/libfuns.dll  ./bin/libroots.so  ./bin/libstat.dll\r\n"
     ]
    }
   ],
   "source": [
    "!ls ./bin/lib*.*"
   ]
  },
  {
   "cell_type": "markdown",
   "metadata": {},
   "source": [
    "### 2.3.2 Using the shared library\n",
    "\n",
    "We use the same code `./src/statdemo.c` under Windows\n",
    "\n",
    "**Linking the library**\n",
    "\n",
    "**Windows**\n",
    "```bash\n",
    "    -L./bin/ -lstat\n",
    "```\n",
    "**Linux**\n",
    "```bash\n",
    "   -L./bin/ -lstat -Wl,-rpath=./bin/  \n",
    "```\n",
    "* **`-Wl,option`**\n",
    "\n",
    "    Pass option as an option to the **linker**. \n",
    "    \n",
    "    If option contains `commas`, it is split into multiple options at the commas. \n",
    "    \n",
    "    You can use this syntax to pass an argument to the option.\n",
    "      \n",
    "   \n",
    "* **`-rpath=dir`** \n",
    "\n",
    "   **Add a directory to the `runtime` library search path**. This is used when linking an executable with shared objects. \n"
   ]
  },
  {
   "cell_type": "code",
   "execution_count": 6,
   "metadata": {},
   "outputs": [],
   "source": [
    "!gcc -o  ./bin/rtbisApp ./src/rtbisApp.c -L./bin/ -lroots -I./include -Wl,-rpath=./bin/ "
   ]
  },
  {
   "cell_type": "code",
   "execution_count": 7,
   "metadata": {},
   "outputs": [
    {
     "name": "stdout",
     "output_type": "stream",
     "text": [
      "root =  1.9996581e+00  ier = 0"
     ]
    }
   ],
   "source": [
    "!./bin/rtbisApp"
   ]
  },
  {
   "cell_type": "markdown",
   "metadata": {},
   "source": [
    "## 3 Using The CoolProp Shared Library\n",
    "\n",
    "**Change working dir to `./notebook/coolpropdemo`**"
   ]
  },
  {
   "cell_type": "code",
   "execution_count": 2,
   "metadata": {},
   "outputs": [
    {
     "name": "stdout",
     "output_type": "stream",
     "text": [
      "/mnt/j/SEU/SEE/PySEE/home/notebook/coolpropdemo\n"
     ]
    }
   ],
   "source": [
    "%cd coolpropdemo"
   ]
  },
  {
   "cell_type": "code",
   "execution_count": 3,
   "metadata": {},
   "outputs": [
    {
     "data": {
      "text/plain": [
       "'/mnt/j/SEU/SEE/PySEE/home/notebook/coolpropdemo'"
      ]
     },
     "execution_count": 3,
     "metadata": {},
     "output_type": "execute_result"
    }
   ],
   "source": [
    "%pwd"
   ]
  },
  {
   "cell_type": "markdown",
   "metadata": {},
   "source": [
    "### Shared libraries Name on Linux\n",
    "\n",
    "\n",
    "**soname**\n",
    "\n",
    "Every shared library has a special name called the `soname`. The soname has the prefix `lib`, the name of the library, the phrase `.so` followed by a version number \n",
    "\n",
    "The soname is used to indicate what binary **api compatibility** your library support by providing version **backwards-compatibility** information. For instance, if version 6.0.0 through 6.4.1 of the shared library `libCoolProp` provide identical interfaces, they all have the same soname, `libCoolProp.so.6` \n",
    "\n",
    "On a working system. a fully-qualified soname is simply `a symbolic link` to the shared library's `real name`.\n",
    "\n",
    "The symlink is what programs using the library will look for, the running programs do not care about the **version number.**\n",
    "\n",
    "\n",
    "**real name**\n",
    "\n",
    "Every shared library also has a `real name`, which is the filename containing the actual library code. The real name adds to the soname a  minor number and the release number. \n",
    "\n",
    "**linker name**\n",
    "\n",
    "linker name is the name that the compiler uses when requesting a library, which is simply the soname **without any version number**\n",
    "\n",
    "The linker name is simply created as `a symbolic link to the soname` \n",
    "\n",
    "The symlink is what programs using the library will look for, the running programs do not care about the **version number**\n",
    "\n",
    "> **A symbolic link** is a `file` that links to another file or directory using its path. you can think of a symbolic link as `a shortcut` to a file or directory (folder). symbolic links may be used in the command line, or in a script or another program.\n",
    "\n",
    "These naming conventions help **multiple** versions of same shared library to **co-exist** in a system.\n",
    "\n",
    "* The programs linking with the shared library do not need to take care about **the latest version** of the shared library installed in the system. Once the latest version of the shared library is installed successfully, all the programs automatically start linking to the latest version.\n",
    "\n",
    "The name used by linker is usually a symbolic link to the fully qualified soname which in turn is a symbolic link to the real name.\n",
    "\n",
    "* linker name(a symbolic link) > soname(a symbolic link) > real name."
   ]
  },
  {
   "cell_type": "markdown",
   "metadata": {},
   "source": [
    "`libCoolProp.so.6.4.1`  is the library builded with GCC 9.3 and glibc2.29 above on Linux,\n",
    "\n",
    "`libCoolProp.so.6.4.1` is **real name**\n",
    "\n",
    "To find the soname of the library run:"
   ]
  },
  {
   "cell_type": "code",
   "execution_count": 2,
   "metadata": {},
   "outputs": [
    {
     "data": {
      "text/plain": [
       "'/mnt/j/SEU/SEE/PySEE/home/notebook'"
      ]
     },
     "execution_count": 2,
     "metadata": {},
     "output_type": "execute_result"
    }
   ],
   "source": [
    "%pwd"
   ]
  },
  {
   "cell_type": "code",
   "execution_count": 4,
   "metadata": {},
   "outputs": [
    {
     "name": "stdout",
     "output_type": "stream",
     "text": [
      " 0x000000000000000e (SONAME)             Library soname: [libCoolProp.so.6]\r\n"
     ]
    }
   ],
   "source": [
    "!readelf -a ./coolpropdemo/bin/libCoolProp.so.6.4.1 | grep SONAME"
   ]
  },
  {
   "cell_type": "markdown",
   "metadata": {},
   "source": [
    "The `libCoolProp.6` is the soname. \n",
    "\n",
    "The `libCoolProp` is the linker name\n",
    "\n",
    "type the following command in the terminal of `./coolpropdemo/` to create the symbolic link `libCoolProp.so.6` and `libCoolProp.so`\n",
    "\n",
    "```bash\n",
    "$sudo ln -sf libCoolProp.so.6.4.1 ./bin/libCoolProp.so.6\n",
    "$sudo ln -sf libCoolProp.so.6 ./bin/libCoolProp.so\n",
    "```\n",
    "The soname `libCoolProp.so.6`  is a symlink which points to the real name(actual library) `libCoolProp.so.6.4.1`. \n",
    "\n",
    "The linker name `libCoolProp.so`  is a symlink which points to the soname `libCoolProp.so.6` "
   ]
  },
  {
   "cell_type": "code",
   "execution_count": 12,
   "metadata": {},
   "outputs": [
    {
     "name": "stdout",
     "output_type": "stream",
     "text": [
      "Overwriting ./mainso.c\n"
     ]
    }
   ],
   "source": [
    "%%file ./mainso.c\n",
    "\n",
    "/* \n",
    "The example use the shared library of CoolProp in c\n",
    "\n",
    "g++ -o ./bin/mainso  -DCOOLPROP_LIB mainso.c -I./include -L./bin -lCoolProp -Wl,-rpath=./bin/ \n",
    "       \n",
    "./bin/mainso\n",
    "\n",
    "*/\n",
    "\n",
    "#include \"CoolPropLib.h\"\n",
    "#include <stdio.h>\n",
    "\n",
    "int main() {\n",
    "     double value=PropsSI(\"P\",\"T\",273.15+0,\"Q\",0,\"R134a\");\n",
    "     printf(\"%f\\n\", value); \n",
    "     return 0;\n",
    "}"
   ]
  },
  {
   "cell_type": "code",
   "execution_count": 10,
   "metadata": {},
   "outputs": [],
   "source": [
    "!g++ -o ./bin/mainso  -DCOOLPROP_LIB mainso.c -I./include -L./bin -lCoolProp -Wl,-rpath=./bin/ "
   ]
  },
  {
   "cell_type": "code",
   "execution_count": 11,
   "metadata": {},
   "outputs": [
    {
     "name": "stdout",
     "output_type": "stream",
     "text": [
      "292803.182339\r\n"
     ]
    }
   ],
   "source": [
    "!./bin/mainso"
   ]
  },
  {
   "cell_type": "markdown",
   "metadata": {},
   "source": [
    "## 4 GNU Scientific Library(GSL)\n",
    "\n",
    "GNU Scientific Library:  https://www.gnu.org/software/gsl/\n",
    "\n",
    "The **GNU** Scientific Library (GSL) is a **numerical library** for C and C++ programmers. \n",
    "\n",
    "The library provides a wide range of mathematical routines such as random number generators, special functions and least-squares fitting. There are over 1000 functions in total with an extensive test suite.\n",
    "\n",
    "The GSL is part of the GNU Project and is `free` software under the GNU General Public License.\n",
    "\n",
    "\n"
   ]
  },
  {
   "cell_type": "markdown",
   "metadata": {},
   "source": [
    "### Using the GSL Library under Linux\n",
    "\n",
    "#### 1 Compiling\n",
    "\n",
    "The library header files are installed in their own `gsl` directory. You should write any preprocessor include statements with a `gsl/` directory prefix thus, \n",
    "\n",
    "```c\n",
    "#include <gsl/gsl_statistics.h>\n",
    "```\n",
    "If the directory is not installed on the standard search path of your compiler you will also need to provide its location to the preprocessor as a command line flag.The default location of the gsl directory(ubuntu18.04) is `/usr/include/gsl`"
   ]
  },
  {
   "cell_type": "code",
   "execution_count": 2,
   "metadata": {},
   "outputs": [
    {
     "name": "stdout",
     "output_type": "stream",
     "text": [
      "Writing ./demo/src/gsl-example.c\n"
     ]
    }
   ],
   "source": [
    "%%file ./demo/src/gsl-example.c\n",
    "\n",
    "#include <stdio.h>\n",
    "#include <gsl/gsl_statistics.h>\n",
    "\n",
    "int main(void)\n",
    "{\n",
    "  double data[5] = {17.2, 18.1, 16.5, 18.3, 12.6};\n",
    "  double mean, variance, largest, smallest;\n",
    "\n",
    "  mean     = gsl_stats_mean(data, 1, 5);\n",
    "  variance = gsl_stats_variance(data, 1, 5);\n",
    "  largest  = gsl_stats_max(data, 1, 5);\n",
    "  smallest = gsl_stats_min(data, 1, 5);\n",
    "\n",
    "  printf (\"The dataset is %g, %g, %g, %g, %g\\n\",\n",
    "         data[0], data[1], data[2], data[3], data[4]);\n",
    "\n",
    "  printf (\"The sample mean is %g\\n\", mean);\n",
    "  printf (\"The estimated variance is %g\\n\", variance);\n",
    "  printf (\"The largest value is %g\\n\", largest);\n",
    "  printf (\"The smallest value is %g\\n\", smallest);\n",
    "  return 0;\n",
    "}"
   ]
  },
  {
   "cell_type": "markdown",
   "metadata": {},
   "source": [
    "A typical compilation command for a source file `gsl-example.c` with the GNU C compiler gcc is, \n"
   ]
  },
  {
   "cell_type": "code",
   "execution_count": 8,
   "metadata": {},
   "outputs": [],
   "source": [
    "!gcc -o ./demo/obj/gsl-example.o -c ./demo/src/gsl-example.c -I/usr/include "
   ]
  },
  {
   "cell_type": "markdown",
   "metadata": {},
   "source": [
    "This results in an object file `gsl-example.o`."
   ]
  },
  {
   "cell_type": "code",
   "execution_count": 9,
   "metadata": {},
   "outputs": [
    {
     "name": "stdout",
     "output_type": "stream",
     "text": [
      "./demo/obj/gsl-example.o\r\n"
     ]
    }
   ],
   "source": [
    "!ls ./demo/obj/gsl-example.*"
   ]
  },
  {
   "cell_type": "markdown",
   "metadata": {},
   "source": [
    " The default include path for gcc searches `/usr/include` automatically so the `-I` option can actually be **omitted** when GSL is installed in its default location. \n",
    "\n"
   ]
  },
  {
   "cell_type": "code",
   "execution_count": 10,
   "metadata": {},
   "outputs": [],
   "source": [
    "!gcc -o ./demo/obj/gsl-example.o -c ./demo/src/gsl-example.c"
   ]
  },
  {
   "cell_type": "code",
   "execution_count": 11,
   "metadata": {},
   "outputs": [
    {
     "name": "stdout",
     "output_type": "stream",
     "text": [
      "./demo/obj/gsl-example.o\r\n"
     ]
    }
   ],
   "source": [
    "!ls ./demo/obj/gsl-example.*"
   ]
  },
  {
   "cell_type": "markdown",
   "metadata": {},
   "source": [
    "### 2 Linking programs with the library\n",
    "\n",
    "The library is installed as a single file, `libgsl.a`. A shared version of the library `libgsl.so` is also installed on systems that support shared libraries. \n",
    "\n",
    "The default location of these files(Ubuntu18.04) is `/usr/lib/x86_64-linux-gnu/`. If this directory is not on the standard search path of your linker you will also need to provide its location as a command line flag.\n",
    "\n",
    "To link against the library you need to specify both the `math library` and a supporting` CBLAS library,` which provides standard basic linear algebra subroutines. A suitable `CBLAS` implementation is provided in the library `libgslcblas.a` if your system does not provide one. The following example shows how to link an application with the library:\n",
    "\n",
    "The option `-lm` links with the system **math** library that has common math functions like sqrt, sin, cos, log, etc.\n",
    " \n",
    "* **When you compile C codes with gcc, you neads adding `-lm`**\n"
   ]
  },
  {
   "cell_type": "code",
   "execution_count": 13,
   "metadata": {},
   "outputs": [],
   "source": [
    "!gcc -o ./demo/bin/gsl-example  ./demo/obj/gsl-example.o -L/usr/lib/x86_64-linux-gnu/ -lgsl -lgslcblas -lm"
   ]
  },
  {
   "cell_type": "code",
   "execution_count": 14,
   "metadata": {},
   "outputs": [
    {
     "name": "stdout",
     "output_type": "stream",
     "text": [
      "The dataset is 17.2, 18.1, 16.5, 18.3, 12.6\r\n",
      "The sample mean is 16.54\r\n",
      "The estimated variance is 5.373\r\n",
      "The largest value is 18.3\r\n",
      "The smallest value is 12.6\r\n"
     ]
    }
   ],
   "source": [
    "!./demo/bin/gsl-example"
   ]
  },
  {
   "cell_type": "markdown",
   "metadata": {},
   "source": [
    "The default library path for gcc searches `/usr/lib/x86_64-linux-gnu/` automatically so the `-L` option can be **omitted** when GSL is installed in its default location."
   ]
  },
  {
   "cell_type": "code",
   "execution_count": 15,
   "metadata": {},
   "outputs": [],
   "source": [
    "!gcc -o ./demo/bin/gsl-example  ./demo/obj/gsl-example.o  -lgsl -lgslcblas -lm"
   ]
  },
  {
   "cell_type": "code",
   "execution_count": 16,
   "metadata": {},
   "outputs": [
    {
     "name": "stdout",
     "output_type": "stream",
     "text": [
      "The dataset is 17.2, 18.1, 16.5, 18.3, 12.6\r\n",
      "The sample mean is 16.54\r\n",
      "The estimated variance is 5.373\r\n",
      "The largest value is 18.3\r\n",
      "The smallest value is 12.6\r\n"
     ]
    }
   ],
   "source": [
    "!./demo/bin/gsl-example"
   ]
  },
  {
   "cell_type": "markdown",
   "metadata": {},
   "source": [
    "## Reference\n",
    "\n",
    "https://github.com/PySEE/home/blob/B2021/guide/doc/Ubuntu-Python-CPP(Chinese).md"
   ]
  },
  {
   "cell_type": "code",
   "execution_count": null,
   "metadata": {},
   "outputs": [],
   "source": []
  }
 ],
 "metadata": {
  "kernelspec": {
   "display_name": "Python 3",
   "language": "python",
   "name": "python3"
  },
  "language_info": {
   "codemirror_mode": {
    "name": "ipython",
    "version": 3
   },
   "file_extension": ".py",
   "mimetype": "text/x-python",
   "name": "python",
   "nbconvert_exporter": "python",
   "pygments_lexer": "ipython3",
   "version": "3.8.7"
  },
  "toc": {
   "base_numbering": 1,
   "nav_menu": {},
   "number_sections": false,
   "sideBar": true,
   "skip_h1_title": false,
   "title_cell": "Table of Contents",
   "title_sidebar": "Contents",
   "toc_cell": false,
   "toc_position": {
    "height": "calc(100% - 180px)",
    "left": "10px",
    "top": "150px",
    "width": "203.375px"
   },
   "toc_section_display": true,
   "toc_window_display": true
  },
  "widgets": {
   "state": {},
   "version": "1.1.2"
  }
 },
 "nbformat": 4,
 "nbformat_minor": 1
}
