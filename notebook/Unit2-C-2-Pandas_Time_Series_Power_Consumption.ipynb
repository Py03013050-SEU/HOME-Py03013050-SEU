{
 "cells": [
  {
   "cell_type": "markdown",
   "metadata": {},
   "source": [
    "# 基于Pandas的用电量统计 \n",
    "\n",
    "\n",
    "* 使用重采样resample(时间周期)统计能耗：日，小时\n",
    "\n",
    "  * DataFrame的index为采样时间(Datetime as index)\n",
    "\n",
    "\n",
    "* 使用分组groupby(时间周期)统计能耗：周、月、年\n",
    "  \n",
    "  * 加周、月、年列，然后，分组 \n",
    " \n",
    "\n",
    "\n",
    ">**注意**：示例数据不到10天，没有完整的周、月、年数据，不具备周、月、年能耗统计的条件，所以，这里的周、月、年分组统计示例是原理性的  \n",
    ">\n",
    ">从一般的统计看，重采样周期resample(时间周期)类似于groupby(时间周期), 但它们使用的DataFrame不同，会影响很多相关的数据分析。groupby增加了列，便于相关的数据查询工作"
   ]
  },
  {
   "cell_type": "markdown",
   "metadata": {},
   "source": [
    "安装读取Excel文件的Python软件包xlrd\n",
    "```\n",
    "python -m pip install xlrd\n",
    "```"
   ]
  },
  {
   "cell_type": "markdown",
   "metadata": {},
   "source": [
    "配置Matplotlib显示中文"
   ]
  },
  {
   "cell_type": "code",
   "execution_count": 1,
   "metadata": {},
   "outputs": [],
   "source": [
    "import numpy as np\n",
    "import matplotlib.pyplot as plt\n",
    "from matplotlib import rcParams  # figure Params\n",
    "rcParams['font.sans-serif'] = ['FangSong']  # Chinese-FangSong"
   ]
  },
  {
   "cell_type": "markdown",
   "metadata": {},
   "source": [
    "## 1 能耗分析DataFrame\n",
    "\n",
    "* data: 用电量DataFrame\n",
    "* data_interval: 相邻两行记录数值差DataFrame\n",
    "* merged_data: 合并data和data_interval的DataFrame\n",
    "\n",
    "\n",
    "### 1 采样时间为index的用电量DataFrame\n",
    "\n",
    "读用电量Execl文件生成DataFrame：data\n",
    "\n",
    "DataFrame的index采样时间，可`重采样`能耗统计\n",
    "\n",
    "\n",
    "![excel_powermeter](./img/excel-powermeter.jpg)\n"
   ]
  },
  {
   "cell_type": "code",
   "execution_count": 2,
   "metadata": {},
   "outputs": [
    {
     "data": {
      "text/html": [
       "<div>\n",
       "<style scoped>\n",
       "    .dataframe tbody tr th:only-of-type {\n",
       "        vertical-align: middle;\n",
       "    }\n",
       "\n",
       "    .dataframe tbody tr th {\n",
       "        vertical-align: top;\n",
       "    }\n",
       "\n",
       "    .dataframe thead th {\n",
       "        text-align: right;\n",
       "    }\n",
       "</style>\n",
       "<table border=\"1\" class=\"dataframe\">\n",
       "  <thead>\n",
       "    <tr style=\"text-align: right;\">\n",
       "      <th></th>\n",
       "      <th>time</th>\n",
       "      <th>value</th>\n",
       "    </tr>\n",
       "    <tr>\n",
       "      <th>time</th>\n",
       "      <th></th>\n",
       "      <th></th>\n",
       "    </tr>\n",
       "  </thead>\n",
       "  <tbody>\n",
       "    <tr>\n",
       "      <th>2015-02-24 00:10:00</th>\n",
       "      <td>2015-02-24 00:10:00</td>\n",
       "      <td>16340.75</td>\n",
       "    </tr>\n",
       "    <tr>\n",
       "      <th>2015-02-24 00:20:00</th>\n",
       "      <td>2015-02-24 00:20:00</td>\n",
       "      <td>16340.77</td>\n",
       "    </tr>\n",
       "    <tr>\n",
       "      <th>2015-02-24 00:30:00</th>\n",
       "      <td>2015-02-24 00:30:00</td>\n",
       "      <td>16340.80</td>\n",
       "    </tr>\n",
       "    <tr>\n",
       "      <th>2015-02-24 00:40:00</th>\n",
       "      <td>2015-02-24 00:40:00</td>\n",
       "      <td>16340.83</td>\n",
       "    </tr>\n",
       "    <tr>\n",
       "      <th>2015-02-24 00:50:00</th>\n",
       "      <td>2015-02-24 00:50:00</td>\n",
       "      <td>16340.86</td>\n",
       "    </tr>\n",
       "    <tr>\n",
       "      <th>...</th>\n",
       "      <td>...</td>\n",
       "      <td>...</td>\n",
       "    </tr>\n",
       "    <tr>\n",
       "      <th>2015-03-03 17:40:00</th>\n",
       "      <td>2015-03-03 17:40:00</td>\n",
       "      <td>16546.44</td>\n",
       "    </tr>\n",
       "    <tr>\n",
       "      <th>2015-03-03 17:50:00</th>\n",
       "      <td>2015-03-03 17:50:00</td>\n",
       "      <td>16546.56</td>\n",
       "    </tr>\n",
       "    <tr>\n",
       "      <th>2015-03-03 18:00:00</th>\n",
       "      <td>2015-03-03 18:00:00</td>\n",
       "      <td>16546.76</td>\n",
       "    </tr>\n",
       "    <tr>\n",
       "      <th>2015-03-03 18:10:00</th>\n",
       "      <td>2015-03-03 18:10:00</td>\n",
       "      <td>16546.95</td>\n",
       "    </tr>\n",
       "    <tr>\n",
       "      <th>2015-03-03 18:20:00</th>\n",
       "      <td>2015-03-03 18:20:00</td>\n",
       "      <td>16547.14</td>\n",
       "    </tr>\n",
       "  </tbody>\n",
       "</table>\n",
       "<p>1118 rows × 2 columns</p>\n",
       "</div>"
      ],
      "text/plain": [
       "                                   time     value\n",
       "time                                             \n",
       "2015-02-24 00:10:00 2015-02-24 00:10:00  16340.75\n",
       "2015-02-24 00:20:00 2015-02-24 00:20:00  16340.77\n",
       "2015-02-24 00:30:00 2015-02-24 00:30:00  16340.80\n",
       "2015-02-24 00:40:00 2015-02-24 00:40:00  16340.83\n",
       "2015-02-24 00:50:00 2015-02-24 00:50:00  16340.86\n",
       "...                                 ...       ...\n",
       "2015-03-03 17:40:00 2015-03-03 17:40:00  16546.44\n",
       "2015-03-03 17:50:00 2015-03-03 17:50:00  16546.56\n",
       "2015-03-03 18:00:00 2015-03-03 18:00:00  16546.76\n",
       "2015-03-03 18:10:00 2015-03-03 18:10:00  16546.95\n",
       "2015-03-03 18:20:00 2015-03-03 18:20:00  16547.14\n",
       "\n",
       "[1118 rows x 2 columns]"
      ]
     },
     "execution_count": 2,
     "metadata": {},
     "output_type": "execute_result"
    }
   ],
   "source": [
    "import pandas as pd\n",
    "excelfile = './data/219_threePhaseIntelligentMeter_2015.xls'\n",
    "data =  pd.read_excel(excelfile,sheet_name='data',usecols=[1,2],parse_dates=[\"time\"])\n",
    "# 加采样时间为index\n",
    "data=data.set_index(\"time\", drop=False)\n",
    "data"
   ]
  },
  {
   "cell_type": "markdown",
   "metadata": {},
   "source": [
    "**原始数据图**"
   ]
  },
  {
   "cell_type": "code",
   "execution_count": 3,
   "metadata": {},
   "outputs": [
    {
     "data": {
      "image/png": "[encoded data removed]",
      "text/plain": [
       "<Figure size 1152x288 with 1 Axes>"
      ]
     },
     "metadata": {
      "needs_background": "light"
     },
     "output_type": "display_data"
    }
   ],
   "source": [
    "_=data.plot.scatter(figsize=(16,4),x=\"time\",y=\"value\",grid = True,s=0.1)"
   ]
  },
  {
   "cell_type": "markdown",
   "metadata": {},
   "source": [
    "### 2 相邻两行记录数值差DataFrame\n",
    "\n"
   ]
  },
  {
   "cell_type": "code",
   "execution_count": 4,
   "metadata": {},
   "outputs": [
    {
     "data": {
      "text/html": [
       "<div>\n",
       "<style scoped>\n",
       "    .dataframe tbody tr th:only-of-type {\n",
       "        vertical-align: middle;\n",
       "    }\n",
       "\n",
       "    .dataframe tbody tr th {\n",
       "        vertical-align: top;\n",
       "    }\n",
       "\n",
       "    .dataframe thead th {\n",
       "        text-align: right;\n",
       "    }\n",
       "</style>\n",
       "<table border=\"1\" class=\"dataframe\">\n",
       "  <thead>\n",
       "    <tr style=\"text-align: right;\">\n",
       "      <th></th>\n",
       "      <th>time</th>\n",
       "      <th>value</th>\n",
       "    </tr>\n",
       "    <tr>\n",
       "      <th>time</th>\n",
       "      <th></th>\n",
       "      <th></th>\n",
       "    </tr>\n",
       "  </thead>\n",
       "  <tbody>\n",
       "    <tr>\n",
       "      <th>2015-02-24 00:10:00</th>\n",
       "      <td>NaT</td>\n",
       "      <td>NaN</td>\n",
       "    </tr>\n",
       "    <tr>\n",
       "      <th>2015-02-24 00:20:00</th>\n",
       "      <td>0 days 00:10:00</td>\n",
       "      <td>0.02</td>\n",
       "    </tr>\n",
       "    <tr>\n",
       "      <th>2015-02-24 00:30:00</th>\n",
       "      <td>0 days 00:10:00</td>\n",
       "      <td>0.03</td>\n",
       "    </tr>\n",
       "  </tbody>\n",
       "</table>\n",
       "</div>"
      ],
      "text/plain": [
       "                               time  value\n",
       "time                                      \n",
       "2015-02-24 00:10:00             NaT    NaN\n",
       "2015-02-24 00:20:00 0 days 00:10:00   0.02\n",
       "2015-02-24 00:30:00 0 days 00:10:00   0.03"
      ]
     },
     "execution_count": 4,
     "metadata": {},
     "output_type": "execute_result"
    }
   ],
   "source": [
    "data_interval=data.diff()\n",
    "data_interval.head(3)"
   ]
  },
  {
   "cell_type": "markdown",
   "metadata": {},
   "source": [
    "重命名 data_interval的列\n",
    "\n",
    "* 采样周期数值： `data_interval[interval]`\n",
    "* 采样周期内能耗：`data_interval[power_interval]`"
   ]
  },
  {
   "cell_type": "code",
   "execution_count": 5,
   "metadata": {},
   "outputs": [
    {
     "data": {
      "text/html": [
       "<div>\n",
       "<style scoped>\n",
       "    .dataframe tbody tr th:only-of-type {\n",
       "        vertical-align: middle;\n",
       "    }\n",
       "\n",
       "    .dataframe tbody tr th {\n",
       "        vertical-align: top;\n",
       "    }\n",
       "\n",
       "    .dataframe thead th {\n",
       "        text-align: right;\n",
       "    }\n",
       "</style>\n",
       "<table border=\"1\" class=\"dataframe\">\n",
       "  <thead>\n",
       "    <tr style=\"text-align: right;\">\n",
       "      <th></th>\n",
       "      <th>interval</th>\n",
       "      <th>power_interval</th>\n",
       "    </tr>\n",
       "    <tr>\n",
       "      <th>time</th>\n",
       "      <th></th>\n",
       "      <th></th>\n",
       "    </tr>\n",
       "  </thead>\n",
       "  <tbody>\n",
       "    <tr>\n",
       "      <th>2015-02-24 00:10:00</th>\n",
       "      <td>NaT</td>\n",
       "      <td>NaN</td>\n",
       "    </tr>\n",
       "    <tr>\n",
       "      <th>2015-02-24 00:20:00</th>\n",
       "      <td>0 days 00:10:00</td>\n",
       "      <td>0.02</td>\n",
       "    </tr>\n",
       "    <tr>\n",
       "      <th>2015-02-24 00:30:00</th>\n",
       "      <td>0 days 00:10:00</td>\n",
       "      <td>0.03</td>\n",
       "    </tr>\n",
       "  </tbody>\n",
       "</table>\n",
       "</div>"
      ],
      "text/plain": [
       "                           interval  power_interval\n",
       "time                                               \n",
       "2015-02-24 00:10:00             NaT             NaN\n",
       "2015-02-24 00:20:00 0 days 00:10:00            0.02\n",
       "2015-02-24 00:30:00 0 days 00:10:00            0.03"
      ]
     },
     "execution_count": 5,
     "metadata": {},
     "output_type": "execute_result"
    }
   ],
   "source": [
    "data_interval=data_interval.rename(columns={\"time\": \"interval\", \"value\": \"power_interval\"})\n",
    "data_interval.head(3)"
   ]
  },
  {
   "cell_type": "markdown",
   "metadata": {},
   "source": [
    "### 3 合并data和data_interval的DataFrame"
   ]
  },
  {
   "cell_type": "code",
   "execution_count": 6,
   "metadata": {},
   "outputs": [
    {
     "data": {
      "text/html": [
       "<div>\n",
       "<style scoped>\n",
       "    .dataframe tbody tr th:only-of-type {\n",
       "        vertical-align: middle;\n",
       "    }\n",
       "\n",
       "    .dataframe tbody tr th {\n",
       "        vertical-align: top;\n",
       "    }\n",
       "\n",
       "    .dataframe thead th {\n",
       "        text-align: right;\n",
       "    }\n",
       "</style>\n",
       "<table border=\"1\" class=\"dataframe\">\n",
       "  <thead>\n",
       "    <tr style=\"text-align: right;\">\n",
       "      <th></th>\n",
       "      <th>time</th>\n",
       "      <th>value</th>\n",
       "      <th>interval</th>\n",
       "      <th>power_interval</th>\n",
       "    </tr>\n",
       "    <tr>\n",
       "      <th>time</th>\n",
       "      <th></th>\n",
       "      <th></th>\n",
       "      <th></th>\n",
       "      <th></th>\n",
       "    </tr>\n",
       "  </thead>\n",
       "  <tbody>\n",
       "    <tr>\n",
       "      <th>2015-02-24 00:10:00</th>\n",
       "      <td>2015-02-24 00:10:00</td>\n",
       "      <td>16340.75</td>\n",
       "      <td>NaT</td>\n",
       "      <td>NaN</td>\n",
       "    </tr>\n",
       "    <tr>\n",
       "      <th>2015-02-24 00:20:00</th>\n",
       "      <td>2015-02-24 00:20:00</td>\n",
       "      <td>16340.77</td>\n",
       "      <td>0 days 00:10:00</td>\n",
       "      <td>0.02</td>\n",
       "    </tr>\n",
       "    <tr>\n",
       "      <th>2015-02-24 00:30:00</th>\n",
       "      <td>2015-02-24 00:30:00</td>\n",
       "      <td>16340.80</td>\n",
       "      <td>0 days 00:10:00</td>\n",
       "      <td>0.03</td>\n",
       "    </tr>\n",
       "    <tr>\n",
       "      <th>2015-02-24 00:40:00</th>\n",
       "      <td>2015-02-24 00:40:00</td>\n",
       "      <td>16340.83</td>\n",
       "      <td>0 days 00:10:00</td>\n",
       "      <td>0.03</td>\n",
       "    </tr>\n",
       "    <tr>\n",
       "      <th>2015-02-24 00:50:00</th>\n",
       "      <td>2015-02-24 00:50:00</td>\n",
       "      <td>16340.86</td>\n",
       "      <td>0 days 00:10:00</td>\n",
       "      <td>0.03</td>\n",
       "    </tr>\n",
       "    <tr>\n",
       "      <th>...</th>\n",
       "      <td>...</td>\n",
       "      <td>...</td>\n",
       "      <td>...</td>\n",
       "      <td>...</td>\n",
       "    </tr>\n",
       "    <tr>\n",
       "      <th>2015-03-03 17:40:00</th>\n",
       "      <td>2015-03-03 17:40:00</td>\n",
       "      <td>16546.44</td>\n",
       "      <td>0 days 00:10:00</td>\n",
       "      <td>0.21</td>\n",
       "    </tr>\n",
       "    <tr>\n",
       "      <th>2015-03-03 17:50:00</th>\n",
       "      <td>2015-03-03 17:50:00</td>\n",
       "      <td>16546.56</td>\n",
       "      <td>0 days 00:10:00</td>\n",
       "      <td>0.12</td>\n",
       "    </tr>\n",
       "    <tr>\n",
       "      <th>2015-03-03 18:00:00</th>\n",
       "      <td>2015-03-03 18:00:00</td>\n",
       "      <td>16546.76</td>\n",
       "      <td>0 days 00:10:00</td>\n",
       "      <td>0.20</td>\n",
       "    </tr>\n",
       "    <tr>\n",
       "      <th>2015-03-03 18:10:00</th>\n",
       "      <td>2015-03-03 18:10:00</td>\n",
       "      <td>16546.95</td>\n",
       "      <td>0 days 00:10:00</td>\n",
       "      <td>0.19</td>\n",
       "    </tr>\n",
       "    <tr>\n",
       "      <th>2015-03-03 18:20:00</th>\n",
       "      <td>2015-03-03 18:20:00</td>\n",
       "      <td>16547.14</td>\n",
       "      <td>0 days 00:10:00</td>\n",
       "      <td>0.19</td>\n",
       "    </tr>\n",
       "  </tbody>\n",
       "</table>\n",
       "<p>1118 rows × 4 columns</p>\n",
       "</div>"
      ],
      "text/plain": [
       "                                   time     value        interval  \\\n",
       "time                                                                \n",
       "2015-02-24 00:10:00 2015-02-24 00:10:00  16340.75             NaT   \n",
       "2015-02-24 00:20:00 2015-02-24 00:20:00  16340.77 0 days 00:10:00   \n",
       "2015-02-24 00:30:00 2015-02-24 00:30:00  16340.80 0 days 00:10:00   \n",
       "2015-02-24 00:40:00 2015-02-24 00:40:00  16340.83 0 days 00:10:00   \n",
       "2015-02-24 00:50:00 2015-02-24 00:50:00  16340.86 0 days 00:10:00   \n",
       "...                                 ...       ...             ...   \n",
       "2015-03-03 17:40:00 2015-03-03 17:40:00  16546.44 0 days 00:10:00   \n",
       "2015-03-03 17:50:00 2015-03-03 17:50:00  16546.56 0 days 00:10:00   \n",
       "2015-03-03 18:00:00 2015-03-03 18:00:00  16546.76 0 days 00:10:00   \n",
       "2015-03-03 18:10:00 2015-03-03 18:10:00  16546.95 0 days 00:10:00   \n",
       "2015-03-03 18:20:00 2015-03-03 18:20:00  16547.14 0 days 00:10:00   \n",
       "\n",
       "                     power_interval  \n",
       "time                                 \n",
       "2015-02-24 00:10:00             NaN  \n",
       "2015-02-24 00:20:00            0.02  \n",
       "2015-02-24 00:30:00            0.03  \n",
       "2015-02-24 00:40:00            0.03  \n",
       "2015-02-24 00:50:00            0.03  \n",
       "...                             ...  \n",
       "2015-03-03 17:40:00            0.21  \n",
       "2015-03-03 17:50:00            0.12  \n",
       "2015-03-03 18:00:00            0.20  \n",
       "2015-03-03 18:10:00            0.19  \n",
       "2015-03-03 18:20:00            0.19  \n",
       "\n",
       "[1118 rows x 4 columns]"
      ]
     },
     "execution_count": 6,
     "metadata": {},
     "output_type": "execute_result"
    }
   ],
   "source": [
    "merged_data = pd.merge(data,data_interval, left_index=True,right_index=True)\n",
    "merged_data "
   ]
  },
  {
   "cell_type": "markdown",
   "metadata": {},
   "source": [
    "**采样周期内能耗图**"
   ]
  },
  {
   "cell_type": "code",
   "execution_count": 7,
   "metadata": {},
   "outputs": [
    {
     "data": {
      "image/png": "[encoded data removed]",
      "text/plain": [
       "<Figure size 1152x288 with 1 Axes>"
      ]
     },
     "metadata": {
      "needs_background": "light"
     },
     "output_type": "display_data"
    }
   ],
   "source": [
    "_=merged_data.plot.bar(figsize=(16,4),y=\"power_interval\",grid = True,xticks=[])"
   ]
  },
  {
   "cell_type": "markdown",
   "metadata": {},
   "source": [
    "## 2  数据采样统计\n",
    "\n",
    "### 1 总样本数和采样天数\n",
    "\n",
    "**总样本数**"
   ]
  },
  {
   "cell_type": "code",
   "execution_count": 8,
   "metadata": {},
   "outputs": [
    {
     "data": {
      "text/plain": [
       "time     1118\n",
       "value    1118\n",
       "dtype: int64"
      ]
     },
     "execution_count": 8,
     "metadata": {},
     "output_type": "execute_result"
    }
   ],
   "source": [
    "data.count()"
   ]
  },
  {
   "cell_type": "markdown",
   "metadata": {},
   "source": [
    "**采样天数**"
   ]
  },
  {
   "cell_type": "code",
   "execution_count": 9,
   "metadata": {},
   "outputs": [
    {
     "data": {
      "text/plain": [
       "Timedelta('7 days 18:10:00')"
      ]
     },
     "execution_count": 9,
     "metadata": {},
     "output_type": "execute_result"
    }
   ],
   "source": [
    "data[\"time\"].max() - data[\"time\"].min()"
   ]
  },
  {
   "cell_type": "markdown",
   "metadata": {},
   "source": [
    "### 2 最大、最小采样周期、能耗及时段\n",
    "\n",
    "**最大、最小采样周期**\n",
    "\n",
    "使用data_interval"
   ]
  },
  {
   "cell_type": "code",
   "execution_count": 10,
   "metadata": {},
   "outputs": [
    {
     "name": "stdout",
     "output_type": "stream",
     "text": [
      "最小采样周期(分钟)： 10.0\n",
      "最大采样周期(分钟)： 10.0\n"
     ]
    }
   ],
   "source": [
    "max_interval=data_interval['interval'].max().total_seconds()/60\n",
    "min_interval=data_interval['interval'].min().total_seconds()/60\n",
    "print(\"最小采样周期(分钟)：\", min_interval)    \n",
    "print(\"最大采样周期(分钟)：\", max_interval)  "
   ]
  },
  {
   "cell_type": "markdown",
   "metadata": {},
   "source": [
    "**最大、最小采样周期内的能耗**\n",
    "\n",
    "使用data_interval"
   ]
  },
  {
   "cell_type": "code",
   "execution_count": 11,
   "metadata": {},
   "outputs": [
    {
     "name": "stdout",
     "output_type": "stream",
     "text": [
      "采样周期内最大能耗： 0.5100000000020373\n",
      "采样周期内最小能耗： 0.0\n"
     ]
    }
   ],
   "source": [
    "max_power_interval=data_interval['power_interval'].max()\n",
    "min_power_interval=data_interval['power_interval'].min()\n",
    "print(\"采样周期内最大能耗：\",max_power_interval)    \n",
    "print(\"采样周期内最小能耗：\",min_power_interval)  "
   ]
  },
  {
   "cell_type": "markdown",
   "metadata": {},
   "source": [
    "**最大、最小能耗采样时段**\n",
    "\n",
    "使用`merged_data`"
   ]
  },
  {
   "cell_type": "markdown",
   "metadata": {},
   "source": [
    "**查找采样能耗对应的采样时段函数**"
   ]
  },
  {
   "cell_type": "code",
   "execution_count": 12,
   "metadata": {},
   "outputs": [],
   "source": [
    "def power_time_range(df,power_interval,interval):\n",
    "    sample=df[df[\"power_interval\"]==power_interval] \n",
    "    power_time_range= sample\n",
    "    time_last= sample[\"time\"]-pd.offsets.Minute(interval)\n",
    "    for item in time_last:\n",
    "        sample_last=df[df.index==item]\n",
    "        power_time_range=pd.concat([power_time_range,sample_last])\n",
    "    return power_time_range"
   ]
  },
  {
   "cell_type": "code",
   "execution_count": 13,
   "metadata": {},
   "outputs": [
    {
     "data": {
      "text/html": [
       "<div>\n",
       "<style scoped>\n",
       "    .dataframe tbody tr th:only-of-type {\n",
       "        vertical-align: middle;\n",
       "    }\n",
       "\n",
       "    .dataframe tbody tr th {\n",
       "        vertical-align: top;\n",
       "    }\n",
       "\n",
       "    .dataframe thead th {\n",
       "        text-align: right;\n",
       "    }\n",
       "</style>\n",
       "<table border=\"1\" class=\"dataframe\">\n",
       "  <thead>\n",
       "    <tr style=\"text-align: right;\">\n",
       "      <th></th>\n",
       "      <th>time</th>\n",
       "      <th>value</th>\n",
       "      <th>interval</th>\n",
       "      <th>power_interval</th>\n",
       "    </tr>\n",
       "    <tr>\n",
       "      <th>time</th>\n",
       "      <th></th>\n",
       "      <th></th>\n",
       "      <th></th>\n",
       "      <th></th>\n",
       "    </tr>\n",
       "  </thead>\n",
       "  <tbody>\n",
       "    <tr>\n",
       "      <th>2015-02-24 19:50:00</th>\n",
       "      <td>2015-02-24 19:50:00</td>\n",
       "      <td>16352.7</td>\n",
       "      <td>0 days 00:10:00</td>\n",
       "      <td>0.00</td>\n",
       "    </tr>\n",
       "    <tr>\n",
       "      <th>2015-02-24 19:40:00</th>\n",
       "      <td>2015-02-24 19:40:00</td>\n",
       "      <td>16352.7</td>\n",
       "      <td>0 days 00:10:00</td>\n",
       "      <td>0.03</td>\n",
       "    </tr>\n",
       "  </tbody>\n",
       "</table>\n",
       "</div>"
      ],
      "text/plain": [
       "                                   time    value        interval  \\\n",
       "time                                                               \n",
       "2015-02-24 19:50:00 2015-02-24 19:50:00  16352.7 0 days 00:10:00   \n",
       "2015-02-24 19:40:00 2015-02-24 19:40:00  16352.7 0 days 00:10:00   \n",
       "\n",
       "                     power_interval  \n",
       "time                                 \n",
       "2015-02-24 19:50:00            0.00  \n",
       "2015-02-24 19:40:00            0.03  "
      ]
     },
     "execution_count": 13,
     "metadata": {},
     "output_type": "execute_result"
    }
   ],
   "source": [
    "min_power_time_range=power_time_range(merged_data,min_power_interval,min_interval)\n",
    "min_power_time_range"
   ]
  },
  {
   "cell_type": "code",
   "execution_count": 14,
   "metadata": {},
   "outputs": [
    {
     "data": {
      "text/html": [
       "<div>\n",
       "<style scoped>\n",
       "    .dataframe tbody tr th:only-of-type {\n",
       "        vertical-align: middle;\n",
       "    }\n",
       "\n",
       "    .dataframe tbody tr th {\n",
       "        vertical-align: top;\n",
       "    }\n",
       "\n",
       "    .dataframe thead th {\n",
       "        text-align: right;\n",
       "    }\n",
       "</style>\n",
       "<table border=\"1\" class=\"dataframe\">\n",
       "  <thead>\n",
       "    <tr style=\"text-align: right;\">\n",
       "      <th></th>\n",
       "      <th>time</th>\n",
       "      <th>value</th>\n",
       "      <th>interval</th>\n",
       "      <th>power_interval</th>\n",
       "    </tr>\n",
       "    <tr>\n",
       "      <th>time</th>\n",
       "      <th></th>\n",
       "      <th></th>\n",
       "      <th></th>\n",
       "      <th></th>\n",
       "    </tr>\n",
       "  </thead>\n",
       "  <tbody>\n",
       "    <tr>\n",
       "      <th>2015-02-26 09:40:00</th>\n",
       "      <td>2015-02-26 09:40:00</td>\n",
       "      <td>16388.02</td>\n",
       "      <td>0 days 00:10:00</td>\n",
       "      <td>0.51</td>\n",
       "    </tr>\n",
       "    <tr>\n",
       "      <th>2015-02-26 16:50:00</th>\n",
       "      <td>2015-02-26 16:50:00</td>\n",
       "      <td>16406.02</td>\n",
       "      <td>0 days 00:10:00</td>\n",
       "      <td>0.51</td>\n",
       "    </tr>\n",
       "    <tr>\n",
       "      <th>2015-02-26 09:30:00</th>\n",
       "      <td>2015-02-26 09:30:00</td>\n",
       "      <td>16387.51</td>\n",
       "      <td>0 days 00:10:00</td>\n",
       "      <td>0.38</td>\n",
       "    </tr>\n",
       "    <tr>\n",
       "      <th>2015-02-26 16:40:00</th>\n",
       "      <td>2015-02-26 16:40:00</td>\n",
       "      <td>16405.51</td>\n",
       "      <td>0 days 00:10:00</td>\n",
       "      <td>0.37</td>\n",
       "    </tr>\n",
       "  </tbody>\n",
       "</table>\n",
       "</div>"
      ],
      "text/plain": [
       "                                   time     value        interval  \\\n",
       "time                                                                \n",
       "2015-02-26 09:40:00 2015-02-26 09:40:00  16388.02 0 days 00:10:00   \n",
       "2015-02-26 16:50:00 2015-02-26 16:50:00  16406.02 0 days 00:10:00   \n",
       "2015-02-26 09:30:00 2015-02-26 09:30:00  16387.51 0 days 00:10:00   \n",
       "2015-02-26 16:40:00 2015-02-26 16:40:00  16405.51 0 days 00:10:00   \n",
       "\n",
       "                     power_interval  \n",
       "time                                 \n",
       "2015-02-26 09:40:00            0.51  \n",
       "2015-02-26 16:50:00            0.51  \n",
       "2015-02-26 09:30:00            0.38  \n",
       "2015-02-26 16:40:00            0.37  "
      ]
     },
     "execution_count": 14,
     "metadata": {},
     "output_type": "execute_result"
    }
   ],
   "source": [
    "max_power_time_range=power_time_range(merged_data,max_power_interval,max_interval)\n",
    "max_power_time_range"
   ]
  },
  {
   "cell_type": "markdown",
   "metadata": {},
   "source": [
    "##  3 重采样能耗统计 \n",
    "\n",
    "采样时间为index，使用**重采样**resample(时间周期)进行统计\n",
    "\n",
    "* 这里,重采样周期resample(时间周期)类似于groupby(时间周期)"
   ]
  },
  {
   "cell_type": "markdown",
   "metadata": {},
   "source": [
    "### 1 每日能耗\n",
    "\n",
    "#### 1 每日能耗计算\n",
    "\n",
    "重采样周期`resample(时间周期)`类似于`groupby(时间周期)`\n",
    "\n",
    "如这里：\n",
    "```python\n",
    "max_sample=data.resample(\"1d\").max()\n",
    "min_sample=data.resample(\"1d\").min()\n",
    "```\n",
    "等价于：\n",
    "\n",
    "```python\n",
    "max_sample=data.groupby([data.index.month,data.index.day]).max() \n",
    "min_sample=data.groupby([data.index.month,data.index.day]).min() \n",
    "```"
   ]
  },
  {
   "cell_type": "code",
   "execution_count": 15,
   "metadata": {},
   "outputs": [
    {
     "data": {
      "text/html": [
       "<div>\n",
       "<style scoped>\n",
       "    .dataframe tbody tr th:only-of-type {\n",
       "        vertical-align: middle;\n",
       "    }\n",
       "\n",
       "    .dataframe tbody tr th {\n",
       "        vertical-align: top;\n",
       "    }\n",
       "\n",
       "    .dataframe thead th {\n",
       "        text-align: right;\n",
       "    }\n",
       "</style>\n",
       "<table border=\"1\" class=\"dataframe\">\n",
       "  <thead>\n",
       "    <tr style=\"text-align: right;\">\n",
       "      <th></th>\n",
       "      <th>time</th>\n",
       "      <th>value</th>\n",
       "    </tr>\n",
       "    <tr>\n",
       "      <th>time</th>\n",
       "      <th></th>\n",
       "      <th></th>\n",
       "    </tr>\n",
       "  </thead>\n",
       "  <tbody>\n",
       "    <tr>\n",
       "      <th>2015-02-24</th>\n",
       "      <td>0 days 23:40:00</td>\n",
       "      <td>13.62</td>\n",
       "    </tr>\n",
       "    <tr>\n",
       "      <th>2015-02-25</th>\n",
       "      <td>0 days 23:50:00</td>\n",
       "      <td>27.36</td>\n",
       "    </tr>\n",
       "    <tr>\n",
       "      <th>2015-02-26</th>\n",
       "      <td>0 days 23:50:00</td>\n",
       "      <td>29.62</td>\n",
       "    </tr>\n",
       "    <tr>\n",
       "      <th>2015-02-27</th>\n",
       "      <td>0 days 23:50:00</td>\n",
       "      <td>30.72</td>\n",
       "    </tr>\n",
       "    <tr>\n",
       "      <th>2015-02-28</th>\n",
       "      <td>0 days 23:50:00</td>\n",
       "      <td>31.37</td>\n",
       "    </tr>\n",
       "    <tr>\n",
       "      <th>2015-03-01</th>\n",
       "      <td>0 days 23:50:00</td>\n",
       "      <td>17.04</td>\n",
       "    </tr>\n",
       "    <tr>\n",
       "      <th>2015-03-02</th>\n",
       "      <td>0 days 23:50:00</td>\n",
       "      <td>29.77</td>\n",
       "    </tr>\n",
       "    <tr>\n",
       "      <th>2015-03-03</th>\n",
       "      <td>0 days 18:20:00</td>\n",
       "      <td>26.51</td>\n",
       "    </tr>\n",
       "  </tbody>\n",
       "</table>\n",
       "</div>"
      ],
      "text/plain": [
       "                      time  value\n",
       "time                             \n",
       "2015-02-24 0 days 23:40:00  13.62\n",
       "2015-02-25 0 days 23:50:00  27.36\n",
       "2015-02-26 0 days 23:50:00  29.62\n",
       "2015-02-27 0 days 23:50:00  30.72\n",
       "2015-02-28 0 days 23:50:00  31.37\n",
       "2015-03-01 0 days 23:50:00  17.04\n",
       "2015-03-02 0 days 23:50:00  29.77\n",
       "2015-03-03 0 days 18:20:00  26.51"
      ]
     },
     "execution_count": 15,
     "metadata": {},
     "output_type": "execute_result"
    }
   ],
   "source": [
    "max_sample=data.resample(\"1d\").max()\n",
    "min_sample=data.resample(\"1d\").min()\n",
    "power_day=max_sample-min_sample\n",
    "power_day"
   ]
  },
  {
   "cell_type": "markdown",
   "metadata": {},
   "source": [
    "#### 2 每日能耗图"
   ]
  },
  {
   "cell_type": "code",
   "execution_count": 16,
   "metadata": {},
   "outputs": [],
   "source": [
    "power_day[\"weekday\"]= power_day.index.day_name()"
   ]
  },
  {
   "cell_type": "code",
   "execution_count": 17,
   "metadata": {},
   "outputs": [
    {
     "data": {
      "image/png": "[encoded data removed]",
      "text/plain": [
       "<Figure size 432x288 with 1 Axes>"
      ]
     },
     "metadata": {
      "needs_background": "light"
     },
     "output_type": "display_data"
    }
   ],
   "source": [
    "_=power_day.plot.bar(x=\"weekday\",y=\"value\",grid = True,legend=False,title=\"每日能耗\")\n"
   ]
  },
  {
   "cell_type": "markdown",
   "metadata": {},
   "source": [
    "#### 3 保存每日能耗"
   ]
  },
  {
   "cell_type": "code",
   "execution_count": 18,
   "metadata": {},
   "outputs": [],
   "source": [
    "power_day.to_csv(\"./data/219_threePhaseIntelligentMeter_Day_2015.csv\")"
   ]
  },
  {
   "cell_type": "code",
   "execution_count": 19,
   "metadata": {},
   "outputs": [],
   "source": [
    "# %load ./data/219_threePhaseIntelligentMeter_Day_2015.csv"
   ]
  },
  {
   "cell_type": "markdown",
   "metadata": {},
   "source": [
    "### 2 每小时能耗\n",
    "\n",
    "#### 1 每小时能耗计算\n",
    "\n",
    "重采样`resample(\"1h\")"
   ]
  },
  {
   "cell_type": "code",
   "execution_count": 20,
   "metadata": {},
   "outputs": [
    {
     "data": {
      "text/html": [
       "<div>\n",
       "<style scoped>\n",
       "    .dataframe tbody tr th:only-of-type {\n",
       "        vertical-align: middle;\n",
       "    }\n",
       "\n",
       "    .dataframe tbody tr th {\n",
       "        vertical-align: top;\n",
       "    }\n",
       "\n",
       "    .dataframe thead th {\n",
       "        text-align: right;\n",
       "    }\n",
       "</style>\n",
       "<table border=\"1\" class=\"dataframe\">\n",
       "  <thead>\n",
       "    <tr style=\"text-align: right;\">\n",
       "      <th></th>\n",
       "      <th>time</th>\n",
       "      <th>value</th>\n",
       "    </tr>\n",
       "    <tr>\n",
       "      <th>time</th>\n",
       "      <th></th>\n",
       "      <th></th>\n",
       "    </tr>\n",
       "  </thead>\n",
       "  <tbody>\n",
       "    <tr>\n",
       "      <th>2015-02-24 00:00:00</th>\n",
       "      <td>0 days 00:40:00</td>\n",
       "      <td>0.165</td>\n",
       "    </tr>\n",
       "    <tr>\n",
       "      <th>2015-02-24 01:00:00</th>\n",
       "      <td>0 days 00:50:00</td>\n",
       "      <td>0.156</td>\n",
       "    </tr>\n",
       "    <tr>\n",
       "      <th>2015-02-24 02:00:00</th>\n",
       "      <td>0 days 00:50:00</td>\n",
       "      <td>0.156</td>\n",
       "    </tr>\n",
       "  </tbody>\n",
       "</table>\n",
       "</div>"
      ],
      "text/plain": [
       "                               time  value\n",
       "time                                      \n",
       "2015-02-24 00:00:00 0 days 00:40:00  0.165\n",
       "2015-02-24 01:00:00 0 days 00:50:00  0.156\n",
       "2015-02-24 02:00:00 0 days 00:50:00  0.156"
      ]
     },
     "execution_count": 20,
     "metadata": {},
     "output_type": "execute_result"
    }
   ],
   "source": [
    "max_sample=data.resample(\"1h\").max()\n",
    "min_sample=data.resample(\"1h\").min()\n",
    "power_hour=max_sample-min_sample\n",
    "stat_minutes=60\n",
    "sample_minutes=(max_sample[\"time\"]-min_sample[\"time\"]).dt.seconds / stat_minutes\n",
    "power_hour[\"value\"]=power_hour[\"value\"]*(stat_minutes/sample_minutes)\n",
    "power_hour.head(3)"
   ]
  },
  {
   "cell_type": "markdown",
   "metadata": {},
   "source": [
    "#### 2 每小时能耗图"
   ]
  },
  {
   "cell_type": "code",
   "execution_count": 21,
   "metadata": {},
   "outputs": [
    {
     "data": {
      "image/png": "[encoded data removed]",
      "text/plain": [
       "<Figure size 1152x288 with 1 Axes>"
      ]
     },
     "metadata": {
      "needs_background": "light"
     },
     "output_type": "display_data"
    }
   ],
   "source": [
    "power_hour.plot.bar(figsize=(16,4),y=\"value\",grid = True,legend=False,xticks=[])\n",
    "_=plt.title(\"小时能耗图\")"
   ]
  },
  {
   "cell_type": "markdown",
   "metadata": {},
   "source": [
    "#### 3  每天小时能耗图"
   ]
  },
  {
   "cell_type": "markdown",
   "metadata": {},
   "source": [
    "##### 1 加列: 日期、小时、星期，年第几周\n",
    "\n",
    "*  day hour weekday woy"
   ]
  },
  {
   "cell_type": "code",
   "execution_count": 22,
   "metadata": {},
   "outputs": [
    {
     "data": {
      "text/html": [
       "<div>\n",
       "<style scoped>\n",
       "    .dataframe tbody tr th:only-of-type {\n",
       "        vertical-align: middle;\n",
       "    }\n",
       "\n",
       "    .dataframe tbody tr th {\n",
       "        vertical-align: top;\n",
       "    }\n",
       "\n",
       "    .dataframe thead th {\n",
       "        text-align: right;\n",
       "    }\n",
       "</style>\n",
       "<table border=\"1\" class=\"dataframe\">\n",
       "  <thead>\n",
       "    <tr style=\"text-align: right;\">\n",
       "      <th></th>\n",
       "      <th>time</th>\n",
       "      <th>value</th>\n",
       "      <th>day</th>\n",
       "      <th>hour</th>\n",
       "      <th>weekday</th>\n",
       "      <th>woy</th>\n",
       "    </tr>\n",
       "    <tr>\n",
       "      <th>time</th>\n",
       "      <th></th>\n",
       "      <th></th>\n",
       "      <th></th>\n",
       "      <th></th>\n",
       "      <th></th>\n",
       "      <th></th>\n",
       "    </tr>\n",
       "  </thead>\n",
       "  <tbody>\n",
       "    <tr>\n",
       "      <th>2015-02-24 00:00:00</th>\n",
       "      <td>0 days 00:40:00</td>\n",
       "      <td>0.165</td>\n",
       "      <td>2015-02-24</td>\n",
       "      <td>0</td>\n",
       "      <td>Tuesday</td>\n",
       "      <td>9</td>\n",
       "    </tr>\n",
       "    <tr>\n",
       "      <th>2015-02-24 01:00:00</th>\n",
       "      <td>0 days 00:50:00</td>\n",
       "      <td>0.156</td>\n",
       "      <td>2015-02-24</td>\n",
       "      <td>1</td>\n",
       "      <td>Tuesday</td>\n",
       "      <td>9</td>\n",
       "    </tr>\n",
       "    <tr>\n",
       "      <th>2015-02-24 02:00:00</th>\n",
       "      <td>0 days 00:50:00</td>\n",
       "      <td>0.156</td>\n",
       "      <td>2015-02-24</td>\n",
       "      <td>2</td>\n",
       "      <td>Tuesday</td>\n",
       "      <td>9</td>\n",
       "    </tr>\n",
       "  </tbody>\n",
       "</table>\n",
       "</div>"
      ],
      "text/plain": [
       "                               time  value         day  hour  weekday  woy\n",
       "time                                                                      \n",
       "2015-02-24 00:00:00 0 days 00:40:00  0.165  2015-02-24     0  Tuesday    9\n",
       "2015-02-24 01:00:00 0 days 00:50:00  0.156  2015-02-24     1  Tuesday    9\n",
       "2015-02-24 02:00:00 0 days 00:50:00  0.156  2015-02-24     2  Tuesday    9"
      ]
     },
     "execution_count": 22,
     "metadata": {},
     "output_type": "execute_result"
    }
   ],
   "source": [
    "power_hour[\"day\"]= power_hour.index.date\n",
    "power_hour[\"hour\"]= power_hour.index.hour\n",
    "power_hour[\"weekday\"]=power_hour.index.day_name()\n",
    "power_hour['woy'] = power_hour.index.isocalendar().week # weekofyear\n",
    "power_hour.head(3)"
   ]
  },
  {
   "cell_type": "markdown",
   "metadata": {},
   "source": [
    "##### 2 某几天小时能耗图 "
   ]
  },
  {
   "cell_type": "code",
   "execution_count": 23,
   "metadata": {},
   "outputs": [
    {
     "data": {
      "text/html": [
       "<div>\n",
       "<style scoped>\n",
       "    .dataframe tbody tr th:only-of-type {\n",
       "        vertical-align: middle;\n",
       "    }\n",
       "\n",
       "    .dataframe tbody tr th {\n",
       "        vertical-align: top;\n",
       "    }\n",
       "\n",
       "    .dataframe thead th {\n",
       "        text-align: right;\n",
       "    }\n",
       "</style>\n",
       "<table border=\"1\" class=\"dataframe\">\n",
       "  <thead>\n",
       "    <tr style=\"text-align: right;\">\n",
       "      <th>day</th>\n",
       "      <th>2015-02-24</th>\n",
       "      <th>2015-02-26</th>\n",
       "      <th>2015-03-01</th>\n",
       "    </tr>\n",
       "    <tr>\n",
       "      <th>hour</th>\n",
       "      <th></th>\n",
       "      <th></th>\n",
       "      <th></th>\n",
       "    </tr>\n",
       "  </thead>\n",
       "  <tbody>\n",
       "    <tr>\n",
       "      <th>0</th>\n",
       "      <td>0.165</td>\n",
       "      <td>0.336</td>\n",
       "      <td>0.156</td>\n",
       "    </tr>\n",
       "    <tr>\n",
       "      <th>1</th>\n",
       "      <td>0.156</td>\n",
       "      <td>0.168</td>\n",
       "      <td>0.168</td>\n",
       "    </tr>\n",
       "    <tr>\n",
       "      <th>2</th>\n",
       "      <td>0.156</td>\n",
       "      <td>0.156</td>\n",
       "      <td>0.156</td>\n",
       "    </tr>\n",
       "  </tbody>\n",
       "</table>\n",
       "</div>"
      ],
      "text/plain": [
       "day   2015-02-24  2015-02-26  2015-03-01\n",
       "hour                                    \n",
       "0          0.165       0.336       0.156\n",
       "1          0.156       0.168       0.168\n",
       "2          0.156       0.156       0.156"
      ]
     },
     "execution_count": 23,
     "metadata": {},
     "output_type": "execute_result"
    }
   ],
   "source": [
    "import datetime\n",
    "multidays=[datetime.date(2015,2,24),datetime.date(2015,2,26),datetime.date(2015,3,1)]\n",
    "power_hour_multiday=power_hour[power_hour['day'].isin(multidays)].pivot_table(index= power_hour['hour'],\n",
    "                                                                      columns='day', \n",
    "                                                                      values='value')\n",
    "power_hour_multiday.head(3)"
   ]
  },
  {
   "cell_type": "code",
   "execution_count": 24,
   "metadata": {},
   "outputs": [
    {
     "data": {
      "image/png": "[encoded data removed]",
      "text/plain": [
       "<Figure size 864x288 with 1 Axes>"
      ]
     },
     "metadata": {
      "needs_background": "light"
     },
     "output_type": "display_data"
    }
   ],
   "source": [
    "_=power_hour_multiday.plot.bar(figsize=(12,4),grid = True)"
   ]
  },
  {
   "cell_type": "markdown",
   "metadata": {},
   "source": [
    "##### 3 星期几小时图"
   ]
  },
  {
   "cell_type": "code",
   "execution_count": 25,
   "metadata": {},
   "outputs": [
    {
     "data": {
      "text/html": [
       "<div>\n",
       "<style scoped>\n",
       "    .dataframe tbody tr th:only-of-type {\n",
       "        vertical-align: middle;\n",
       "    }\n",
       "\n",
       "    .dataframe tbody tr th {\n",
       "        vertical-align: top;\n",
       "    }\n",
       "\n",
       "    .dataframe thead th {\n",
       "        text-align: right;\n",
       "    }\n",
       "</style>\n",
       "<table border=\"1\" class=\"dataframe\">\n",
       "  <thead>\n",
       "    <tr style=\"text-align: right;\">\n",
       "      <th>day</th>\n",
       "      <th>2015-02-24</th>\n",
       "      <th>2015-03-02</th>\n",
       "      <th>2015-03-03</th>\n",
       "    </tr>\n",
       "    <tr>\n",
       "      <th>hour</th>\n",
       "      <th></th>\n",
       "      <th></th>\n",
       "      <th></th>\n",
       "    </tr>\n",
       "  </thead>\n",
       "  <tbody>\n",
       "    <tr>\n",
       "      <th>0</th>\n",
       "      <td>0.165</td>\n",
       "      <td>0.156</td>\n",
       "      <td>0.192</td>\n",
       "    </tr>\n",
       "    <tr>\n",
       "      <th>1</th>\n",
       "      <td>0.156</td>\n",
       "      <td>0.276</td>\n",
       "      <td>0.204</td>\n",
       "    </tr>\n",
       "    <tr>\n",
       "      <th>2</th>\n",
       "      <td>0.156</td>\n",
       "      <td>0.156</td>\n",
       "      <td>0.156</td>\n",
       "    </tr>\n",
       "  </tbody>\n",
       "</table>\n",
       "</div>"
      ],
      "text/plain": [
       "day   2015-02-24  2015-03-02  2015-03-03\n",
       "hour                                    \n",
       "0          0.165       0.156       0.192\n",
       "1          0.156       0.276       0.204\n",
       "2          0.156       0.156       0.156"
      ]
     },
     "execution_count": 25,
     "metadata": {},
     "output_type": "execute_result"
    }
   ],
   "source": [
    "multiweekday=[\"Monday\",\"Tuesday\"]\n",
    "power_hour_multiweekday=power_hour[power_hour['weekday'].isin(multiweekday)].pivot_table(index= power_hour['hour'],\n",
    "                                                                      columns='day', \n",
    "                                                                      values='value')\n",
    "power_hour_multiweekday.head(3)"
   ]
  },
  {
   "cell_type": "markdown",
   "metadata": {},
   "source": [
    "###### bar图"
   ]
  },
  {
   "cell_type": "code",
   "execution_count": 26,
   "metadata": {},
   "outputs": [
    {
     "data": {
      "image/png": "[encoded data removed]",
      "text/plain": [
       "<Figure size 1080x288 with 1 Axes>"
      ]
     },
     "metadata": {
      "needs_background": "light"
     },
     "output_type": "display_data"
    }
   ],
   "source": [
    "_ = power_hour_multiweekday.plot.bar(figsize=(15,4),title=f'{multiweekday} Hours Power')"
   ]
  },
  {
   "cell_type": "markdown",
   "metadata": {},
   "source": [
    "###### box图"
   ]
  },
  {
   "cell_type": "code",
   "execution_count": 27,
   "metadata": {},
   "outputs": [
    {
     "data": {
      "image/png": "[encoded data removed]",
      "text/plain": [
       "<Figure size 1080x288 with 1 Axes>"
      ]
     },
     "metadata": {
      "needs_background": "light"
     },
     "output_type": "display_data"
    }
   ],
   "source": [
    "_ = power_hour_multiweekday.plot.box(figsize=(15,4),title=f'{multiweekday} Hours Power')"
   ]
  },
  {
   "cell_type": "markdown",
   "metadata": {},
   "source": [
    "###### line图"
   ]
  },
  {
   "cell_type": "code",
   "execution_count": 28,
   "metadata": {},
   "outputs": [
    {
     "data": {
      "image/png": "[encoded data removed]",
      "text/plain": [
       "<Figure size 1080x288 with 1 Axes>"
      ]
     },
     "metadata": {
      "needs_background": "light"
     },
     "output_type": "display_data"
    }
   ],
   "source": [
    "_ = power_hour_multiweekday.plot(figsize=(15,4),title=f'{multiweekday} Hours Power')"
   ]
  },
  {
   "cell_type": "markdown",
   "metadata": {},
   "source": [
    "##### 4 某周每天小时能耗图\n"
   ]
  },
  {
   "cell_type": "code",
   "execution_count": 31,
   "metadata": {},
   "outputs": [
    {
     "data": {
      "text/html": [
       "<div>\n",
       "<style scoped>\n",
       "    .dataframe tbody tr th:only-of-type {\n",
       "        vertical-align: middle;\n",
       "    }\n",
       "\n",
       "    .dataframe tbody tr th {\n",
       "        vertical-align: top;\n",
       "    }\n",
       "\n",
       "    .dataframe thead th {\n",
       "        text-align: right;\n",
       "    }\n",
       "</style>\n",
       "<table border=\"1\" class=\"dataframe\">\n",
       "  <thead>\n",
       "    <tr style=\"text-align: right;\">\n",
       "      <th>weekday</th>\n",
       "      <th>Friday</th>\n",
       "      <th>Saturday</th>\n",
       "      <th>Sunday</th>\n",
       "      <th>Thursday</th>\n",
       "      <th>Tuesday</th>\n",
       "      <th>Wednesday</th>\n",
       "    </tr>\n",
       "    <tr>\n",
       "      <th>hour</th>\n",
       "      <th></th>\n",
       "      <th></th>\n",
       "      <th></th>\n",
       "      <th></th>\n",
       "      <th></th>\n",
       "      <th></th>\n",
       "    </tr>\n",
       "  </thead>\n",
       "  <tbody>\n",
       "    <tr>\n",
       "      <th>0</th>\n",
       "      <td>0.228</td>\n",
       "      <td>0.336</td>\n",
       "      <td>0.156</td>\n",
       "      <td>0.336</td>\n",
       "      <td>0.165</td>\n",
       "      <td>0.384</td>\n",
       "    </tr>\n",
       "    <tr>\n",
       "      <th>1</th>\n",
       "      <td>0.216</td>\n",
       "      <td>0.168</td>\n",
       "      <td>0.168</td>\n",
       "      <td>0.168</td>\n",
       "      <td>0.156</td>\n",
       "      <td>0.264</td>\n",
       "    </tr>\n",
       "    <tr>\n",
       "      <th>2</th>\n",
       "      <td>0.156</td>\n",
       "      <td>0.168</td>\n",
       "      <td>0.156</td>\n",
       "      <td>0.156</td>\n",
       "      <td>0.156</td>\n",
       "      <td>0.264</td>\n",
       "    </tr>\n",
       "  </tbody>\n",
       "</table>\n",
       "</div>"
      ],
      "text/plain": [
       "weekday  Friday  Saturday  Sunday  Thursday  Tuesday  Wednesday\n",
       "hour                                                           \n",
       "0         0.228     0.336   0.156     0.336    0.165      0.384\n",
       "1         0.216     0.168   0.168     0.168    0.156      0.264\n",
       "2         0.156     0.168   0.156     0.156    0.156      0.264"
      ]
     },
     "execution_count": 31,
     "metadata": {},
     "output_type": "execute_result"
    }
   ],
   "source": [
    "week_year=9\n",
    "power_hour_woy=power_hour[power_hour['woy']==week_year].pivot_table(index= power_hour['hour'],\n",
    "                                                                      columns='weekday', \n",
    "                                                                      values='value')\n",
    "power_hour_woy.head(3)"
   ]
  },
  {
   "cell_type": "code",
   "execution_count": 32,
   "metadata": {},
   "outputs": [
    {
     "data": {
      "image/png": "[encoded data removed]",
      "text/plain": [
       "<Figure size 1152x360 with 1 Axes>"
      ]
     },
     "metadata": {
      "needs_background": "light"
     },
     "output_type": "display_data"
    }
   ],
   "source": [
    "_=power_hour_woy.plot(figsize=(16,5),title=f'第{week_year}周')"
   ]
  },
  {
   "cell_type": "markdown",
   "metadata": {},
   "source": [
    "##### 5 星期几-小时总能耗图"
   ]
  },
  {
   "cell_type": "code",
   "execution_count": 33,
   "metadata": {},
   "outputs": [
    {
     "data": {
      "text/html": [
       "<div>\n",
       "<style scoped>\n",
       "    .dataframe tbody tr th:only-of-type {\n",
       "        vertical-align: middle;\n",
       "    }\n",
       "\n",
       "    .dataframe tbody tr th {\n",
       "        vertical-align: top;\n",
       "    }\n",
       "\n",
       "    .dataframe thead th {\n",
       "        text-align: right;\n",
       "    }\n",
       "</style>\n",
       "<table border=\"1\" class=\"dataframe\">\n",
       "  <thead>\n",
       "    <tr style=\"text-align: right;\">\n",
       "      <th>weekday</th>\n",
       "      <th>Friday</th>\n",
       "      <th>Monday</th>\n",
       "      <th>Saturday</th>\n",
       "      <th>Sunday</th>\n",
       "      <th>Thursday</th>\n",
       "      <th>Tuesday</th>\n",
       "      <th>Wednesday</th>\n",
       "    </tr>\n",
       "    <tr>\n",
       "      <th>hour</th>\n",
       "      <th></th>\n",
       "      <th></th>\n",
       "      <th></th>\n",
       "      <th></th>\n",
       "      <th></th>\n",
       "      <th></th>\n",
       "      <th></th>\n",
       "    </tr>\n",
       "  </thead>\n",
       "  <tbody>\n",
       "    <tr>\n",
       "      <th>0</th>\n",
       "      <td>0.228</td>\n",
       "      <td>0.156</td>\n",
       "      <td>0.336</td>\n",
       "      <td>0.156</td>\n",
       "      <td>0.336</td>\n",
       "      <td>0.357</td>\n",
       "      <td>0.384</td>\n",
       "    </tr>\n",
       "    <tr>\n",
       "      <th>1</th>\n",
       "      <td>0.216</td>\n",
       "      <td>0.276</td>\n",
       "      <td>0.168</td>\n",
       "      <td>0.168</td>\n",
       "      <td>0.168</td>\n",
       "      <td>0.360</td>\n",
       "      <td>0.264</td>\n",
       "    </tr>\n",
       "    <tr>\n",
       "      <th>2</th>\n",
       "      <td>0.156</td>\n",
       "      <td>0.156</td>\n",
       "      <td>0.168</td>\n",
       "      <td>0.156</td>\n",
       "      <td>0.156</td>\n",
       "      <td>0.312</td>\n",
       "      <td>0.264</td>\n",
       "    </tr>\n",
       "  </tbody>\n",
       "</table>\n",
       "</div>"
      ],
      "text/plain": [
       "weekday  Friday  Monday  Saturday  Sunday  Thursday  Tuesday  Wednesday\n",
       "hour                                                                   \n",
       "0         0.228   0.156     0.336   0.156     0.336    0.357      0.384\n",
       "1         0.216   0.276     0.168   0.168     0.168    0.360      0.264\n",
       "2         0.156   0.156     0.168   0.156     0.156    0.312      0.264"
      ]
     },
     "execution_count": 33,
     "metadata": {},
     "output_type": "execute_result"
    }
   ],
   "source": [
    "power_hour_week=power_hour.pivot_table(index= power_hour['hour'],\n",
    "                                        columns='weekday', \n",
    "                                        values='value',\n",
    "                                        aggfunc='sum')\n",
    "power_hour_week.head(3)"
   ]
  },
  {
   "cell_type": "code",
   "execution_count": 34,
   "metadata": {},
   "outputs": [
    {
     "data": {
      "image/png": "[encoded data removed]",
      "text/plain": [
       "<Figure size 864x288 with 1 Axes>"
      ]
     },
     "metadata": {
      "needs_background": "light"
     },
     "output_type": "display_data"
    }
   ],
   "source": [
    "_ = power_hour_week.plot(figsize=(12,4),title='Week Daily Hour Power')"
   ]
  },
  {
   "cell_type": "markdown",
   "metadata": {},
   "source": [
    "### 3 日内时间段能耗\n",
    "\n",
    "#### 1 日内时间段能耗计算\n",
    "\n",
    "日内：时间段行的`resample(\"1D\")`"
   ]
  },
  {
   "cell_type": "code",
   "execution_count": 35,
   "metadata": {},
   "outputs": [
    {
     "data": {
      "text/html": [
       "<div>\n",
       "<style scoped>\n",
       "    .dataframe tbody tr th:only-of-type {\n",
       "        vertical-align: middle;\n",
       "    }\n",
       "\n",
       "    .dataframe tbody tr th {\n",
       "        vertical-align: top;\n",
       "    }\n",
       "\n",
       "    .dataframe thead th {\n",
       "        text-align: right;\n",
       "    }\n",
       "</style>\n",
       "<table border=\"1\" class=\"dataframe\">\n",
       "  <thead>\n",
       "    <tr style=\"text-align: right;\">\n",
       "      <th></th>\n",
       "      <th>time_period</th>\n",
       "      <th>value</th>\n",
       "      <th>interval</th>\n",
       "      <th>power_interval</th>\n",
       "    </tr>\n",
       "    <tr>\n",
       "      <th>time</th>\n",
       "      <th></th>\n",
       "      <th></th>\n",
       "      <th></th>\n",
       "      <th></th>\n",
       "    </tr>\n",
       "  </thead>\n",
       "  <tbody>\n",
       "    <tr>\n",
       "      <th>2015-02-24</th>\n",
       "      <td>0 days 04:50:00</td>\n",
       "      <td>3.97</td>\n",
       "      <td>0 days</td>\n",
       "      <td>0.03</td>\n",
       "    </tr>\n",
       "    <tr>\n",
       "      <th>2015-02-25</th>\n",
       "      <td>0 days 04:50:00</td>\n",
       "      <td>9.68</td>\n",
       "      <td>0 days</td>\n",
       "      <td>0.22</td>\n",
       "    </tr>\n",
       "    <tr>\n",
       "      <th>2015-02-26</th>\n",
       "      <td>0 days 04:50:00</td>\n",
       "      <td>11.24</td>\n",
       "      <td>0 days</td>\n",
       "      <td>0.33</td>\n",
       "    </tr>\n",
       "    <tr>\n",
       "      <th>2015-02-27</th>\n",
       "      <td>0 days 04:50:00</td>\n",
       "      <td>11.54</td>\n",
       "      <td>0 days</td>\n",
       "      <td>0.24</td>\n",
       "    </tr>\n",
       "    <tr>\n",
       "      <th>2015-02-28</th>\n",
       "      <td>0 days 04:50:00</td>\n",
       "      <td>11.76</td>\n",
       "      <td>0 days</td>\n",
       "      <td>0.23</td>\n",
       "    </tr>\n",
       "    <tr>\n",
       "      <th>2015-03-01</th>\n",
       "      <td>0 days 04:50:00</td>\n",
       "      <td>5.06</td>\n",
       "      <td>0 days</td>\n",
       "      <td>0.06</td>\n",
       "    </tr>\n",
       "    <tr>\n",
       "      <th>2015-03-02</th>\n",
       "      <td>0 days 04:50:00</td>\n",
       "      <td>11.75</td>\n",
       "      <td>0 days</td>\n",
       "      <td>0.23</td>\n",
       "    </tr>\n",
       "    <tr>\n",
       "      <th>2015-03-03</th>\n",
       "      <td>0 days 04:50:00</td>\n",
       "      <td>11.25</td>\n",
       "      <td>0 days</td>\n",
       "      <td>0.31</td>\n",
       "    </tr>\n",
       "  </tbody>\n",
       "</table>\n",
       "</div>"
      ],
      "text/plain": [
       "               time_period  value interval  power_interval\n",
       "time                                                      \n",
       "2015-02-24 0 days 04:50:00   3.97   0 days            0.03\n",
       "2015-02-25 0 days 04:50:00   9.68   0 days            0.22\n",
       "2015-02-26 0 days 04:50:00  11.24   0 days            0.33\n",
       "2015-02-27 0 days 04:50:00  11.54   0 days            0.24\n",
       "2015-02-28 0 days 04:50:00  11.76   0 days            0.23\n",
       "2015-03-01 0 days 04:50:00   5.06   0 days            0.06\n",
       "2015-03-02 0 days 04:50:00  11.75   0 days            0.23\n",
       "2015-03-03 0 days 04:50:00  11.25   0 days            0.31"
      ]
     },
     "execution_count": 35,
     "metadata": {},
     "output_type": "execute_result"
    }
   ],
   "source": [
    "hour_range={\"start\":8,\"end\":12}\n",
    "hour_range_boolean=(merged_data.index.hour>=hour_range[\"start\"])&(merged_data.index.hour<=hour_range[\"end\"])\n",
    "max_sample=merged_data.loc[hour_range_boolean].resample(\"1D\").max()\n",
    "min_sample=merged_data.loc[hour_range_boolean].resample(\"1D\").min()\n",
    "power_hours=max_sample-min_sample\n",
    "power_hours.rename(columns = {'time':'time_period'}, inplace = True)\n",
    "power_hours"
   ]
  },
  {
   "cell_type": "markdown",
   "metadata": {},
   "source": [
    "#### 2 日内时间段能耗图"
   ]
  },
  {
   "cell_type": "code",
   "execution_count": 36,
   "metadata": {},
   "outputs": [
    {
     "data": {
      "image/png": "[encoded data removed]",
      "text/plain": [
       "<Figure size 432x288 with 1 Axes>"
      ]
     },
     "metadata": {
      "needs_background": "light"
     },
     "output_type": "display_data"
    }
   ],
   "source": [
    "power_hours.plot.bar(y=\"value\",grid = True,legend=False)\n",
    "_=plt.title(f'{hour_range[\"start\"]}点 - {hour_range[\"end\"]}点能耗图')"
   ]
  },
  {
   "cell_type": "markdown",
   "metadata": {},
   "source": [
    "#### 3 日内时间段能耗修正\n"
   ]
  },
  {
   "cell_type": "markdown",
   "metadata": {},
   "source": [
    "#####  1 时段端点的时长差能耗修正函数"
   ]
  },
  {
   "cell_type": "code",
   "execution_count": 37,
   "metadata": {},
   "outputs": [],
   "source": [
    "def add_power(data,hours,start_end):\n",
    "    # 1 时段端点需补充的时长 minute_node\n",
    "    if start_end==\"start\":\n",
    "        minute_node=hours[\"time\"].dt.minute\n",
    "    elif start_end==\"end\":\n",
    "        minute_node=59-hours[\"time\"].dt.minute\n",
    "    # 2 时段端点相邻采样点 \n",
    "    minute_node_neighbor=hours[\"interval\"]/ np.timedelta64(60, 's')\n",
    "    # 3 时长差能耗修正\n",
    "    add_power=hours[\"power_interval\"]*(minute_node/minute_node_neighbor)\n",
    "    return add_power                                        \n"
   ]
  },
  {
   "cell_type": "markdown",
   "metadata": {},
   "source": [
    "##### 2 时长差能耗修正计算"
   ]
  },
  {
   "cell_type": "code",
   "execution_count": 38,
   "metadata": {},
   "outputs": [
    {
     "data": {
      "text/html": [
       "<div>\n",
       "<style scoped>\n",
       "    .dataframe tbody tr th:only-of-type {\n",
       "        vertical-align: middle;\n",
       "    }\n",
       "\n",
       "    .dataframe tbody tr th {\n",
       "        vertical-align: top;\n",
       "    }\n",
       "\n",
       "    .dataframe thead th {\n",
       "        text-align: right;\n",
       "    }\n",
       "</style>\n",
       "<table border=\"1\" class=\"dataframe\">\n",
       "  <thead>\n",
       "    <tr style=\"text-align: right;\">\n",
       "      <th></th>\n",
       "      <th>time_period</th>\n",
       "      <th>value</th>\n",
       "      <th>interval</th>\n",
       "      <th>power_interval</th>\n",
       "    </tr>\n",
       "    <tr>\n",
       "      <th>time</th>\n",
       "      <th></th>\n",
       "      <th></th>\n",
       "      <th></th>\n",
       "      <th></th>\n",
       "    </tr>\n",
       "  </thead>\n",
       "  <tbody>\n",
       "    <tr>\n",
       "      <th>2015-02-24</th>\n",
       "      <td>0 days 04:50:00</td>\n",
       "      <td>4.105</td>\n",
       "      <td>0 days</td>\n",
       "      <td>0.03</td>\n",
       "    </tr>\n",
       "    <tr>\n",
       "      <th>2015-02-25</th>\n",
       "      <td>0 days 04:50:00</td>\n",
       "      <td>10.058</td>\n",
       "      <td>0 days</td>\n",
       "      <td>0.22</td>\n",
       "    </tr>\n",
       "    <tr>\n",
       "      <th>2015-02-26</th>\n",
       "      <td>0 days 04:50:00</td>\n",
       "      <td>11.699</td>\n",
       "      <td>0 days</td>\n",
       "      <td>0.33</td>\n",
       "    </tr>\n",
       "    <tr>\n",
       "      <th>2015-02-27</th>\n",
       "      <td>0 days 04:50:00</td>\n",
       "      <td>11.981</td>\n",
       "      <td>0 days</td>\n",
       "      <td>0.24</td>\n",
       "    </tr>\n",
       "    <tr>\n",
       "      <th>2015-02-28</th>\n",
       "      <td>0 days 04:50:00</td>\n",
       "      <td>12.192</td>\n",
       "      <td>0 days</td>\n",
       "      <td>0.23</td>\n",
       "    </tr>\n",
       "    <tr>\n",
       "      <th>2015-03-01</th>\n",
       "      <td>0 days 04:50:00</td>\n",
       "      <td>5.249</td>\n",
       "      <td>0 days</td>\n",
       "      <td>0.06</td>\n",
       "    </tr>\n",
       "    <tr>\n",
       "      <th>2015-03-02</th>\n",
       "      <td>0 days 04:50:00</td>\n",
       "      <td>12.200</td>\n",
       "      <td>0 days</td>\n",
       "      <td>0.23</td>\n",
       "    </tr>\n",
       "    <tr>\n",
       "      <th>2015-03-03</th>\n",
       "      <td>0 days 04:50:00</td>\n",
       "      <td>11.691</td>\n",
       "      <td>0 days</td>\n",
       "      <td>0.31</td>\n",
       "    </tr>\n",
       "  </tbody>\n",
       "</table>\n",
       "</div>"
      ],
      "text/plain": [
       "               time_period   value interval  power_interval\n",
       "time                                                       \n",
       "2015-02-24 0 days 04:50:00   4.105   0 days            0.03\n",
       "2015-02-25 0 days 04:50:00  10.058   0 days            0.22\n",
       "2015-02-26 0 days 04:50:00  11.699   0 days            0.33\n",
       "2015-02-27 0 days 04:50:00  11.981   0 days            0.24\n",
       "2015-02-28 0 days 04:50:00  12.192   0 days            0.23\n",
       "2015-03-01 0 days 04:50:00   5.249   0 days            0.06\n",
       "2015-03-02 0 days 04:50:00  12.200   0 days            0.23\n",
       "2015-03-03 0 days 04:50:00  11.691   0 days            0.31"
      ]
     },
     "execution_count": 38,
     "metadata": {},
     "output_type": "execute_result"
    }
   ],
   "source": [
    "add_power_start=add_power(merged_data,min_sample,\"start\")\n",
    "add_power_end=add_power(merged_data,max_sample,\"end\")\n",
    "power_hours[\"value\"]=power_hours[\"value\"]+add_power_start+add_power_end\n",
    "power_hours"
   ]
  },
  {
   "cell_type": "markdown",
   "metadata": {},
   "source": [
    "##### 3 修正后的日内时段能耗图"
   ]
  },
  {
   "cell_type": "code",
   "execution_count": 39,
   "metadata": {},
   "outputs": [
    {
     "data": {
      "image/png": "[encoded data removed]",
      "text/plain": [
       "<Figure size 432x288 with 1 Axes>"
      ]
     },
     "metadata": {
      "needs_background": "light"
     },
     "output_type": "display_data"
    }
   ],
   "source": [
    "power_hours.plot.bar(y=\"value\",grid = True,legend=False)\n",
    "_=plt.title(f'{hour_range[\"start\"]}点 - {hour_range[\"end\"]}点能耗图')"
   ]
  },
  {
   "cell_type": "markdown",
   "metadata": {},
   "source": [
    "## 4 分组能耗统计\n",
    "\n",
    "加周、月、年列，然后，分组统计周、月、年能耗\n",
    "\n",
    ">**注意**：示例数据不到10天多，没有完整的周、月、年数据，不具备周、月、年能耗统计的条件，所以，这里周、月、年分组统计示例是原理性的 \n",
    ">\n",
    ">\n",
    ">从一般的统计看，重采样周期resample(时间周期)类似于groupby(时间周期), 但它们使用的DataFrame不同，会影响很多相关的数据分析。groupby增加了列，便于相关的数据查询工作"
   ]
  },
  {
   "cell_type": "markdown",
   "metadata": {},
   "source": [
    "### 1 增加列：周、月、年\n",
    "\n"
   ]
  },
  {
   "cell_type": "code",
   "execution_count": 40,
   "metadata": {},
   "outputs": [
    {
     "data": {
      "text/html": [
       "<div>\n",
       "<style scoped>\n",
       "    .dataframe tbody tr th:only-of-type {\n",
       "        vertical-align: middle;\n",
       "    }\n",
       "\n",
       "    .dataframe tbody tr th {\n",
       "        vertical-align: top;\n",
       "    }\n",
       "\n",
       "    .dataframe thead th {\n",
       "        text-align: right;\n",
       "    }\n",
       "</style>\n",
       "<table border=\"1\" class=\"dataframe\">\n",
       "  <thead>\n",
       "    <tr style=\"text-align: right;\">\n",
       "      <th></th>\n",
       "      <th>time</th>\n",
       "      <th>value</th>\n",
       "      <th>woy</th>\n",
       "      <th>month</th>\n",
       "      <th>year</th>\n",
       "    </tr>\n",
       "    <tr>\n",
       "      <th>time</th>\n",
       "      <th></th>\n",
       "      <th></th>\n",
       "      <th></th>\n",
       "      <th></th>\n",
       "      <th></th>\n",
       "    </tr>\n",
       "  </thead>\n",
       "  <tbody>\n",
       "    <tr>\n",
       "      <th>2015-02-24 00:10:00</th>\n",
       "      <td>2015-02-24 00:10:00</td>\n",
       "      <td>16340.75</td>\n",
       "      <td>9</td>\n",
       "      <td>2</td>\n",
       "      <td>2015</td>\n",
       "    </tr>\n",
       "    <tr>\n",
       "      <th>2015-02-24 00:20:00</th>\n",
       "      <td>2015-02-24 00:20:00</td>\n",
       "      <td>16340.77</td>\n",
       "      <td>9</td>\n",
       "      <td>2</td>\n",
       "      <td>2015</td>\n",
       "    </tr>\n",
       "    <tr>\n",
       "      <th>2015-02-24 00:30:00</th>\n",
       "      <td>2015-02-24 00:30:00</td>\n",
       "      <td>16340.80</td>\n",
       "      <td>9</td>\n",
       "      <td>2</td>\n",
       "      <td>2015</td>\n",
       "    </tr>\n",
       "    <tr>\n",
       "      <th>2015-02-24 00:40:00</th>\n",
       "      <td>2015-02-24 00:40:00</td>\n",
       "      <td>16340.83</td>\n",
       "      <td>9</td>\n",
       "      <td>2</td>\n",
       "      <td>2015</td>\n",
       "    </tr>\n",
       "    <tr>\n",
       "      <th>2015-02-24 00:50:00</th>\n",
       "      <td>2015-02-24 00:50:00</td>\n",
       "      <td>16340.86</td>\n",
       "      <td>9</td>\n",
       "      <td>2</td>\n",
       "      <td>2015</td>\n",
       "    </tr>\n",
       "    <tr>\n",
       "      <th>...</th>\n",
       "      <td>...</td>\n",
       "      <td>...</td>\n",
       "      <td>...</td>\n",
       "      <td>...</td>\n",
       "      <td>...</td>\n",
       "    </tr>\n",
       "    <tr>\n",
       "      <th>2015-03-03 17:40:00</th>\n",
       "      <td>2015-03-03 17:40:00</td>\n",
       "      <td>16546.44</td>\n",
       "      <td>10</td>\n",
       "      <td>3</td>\n",
       "      <td>2015</td>\n",
       "    </tr>\n",
       "    <tr>\n",
       "      <th>2015-03-03 17:50:00</th>\n",
       "      <td>2015-03-03 17:50:00</td>\n",
       "      <td>16546.56</td>\n",
       "      <td>10</td>\n",
       "      <td>3</td>\n",
       "      <td>2015</td>\n",
       "    </tr>\n",
       "    <tr>\n",
       "      <th>2015-03-03 18:00:00</th>\n",
       "      <td>2015-03-03 18:00:00</td>\n",
       "      <td>16546.76</td>\n",
       "      <td>10</td>\n",
       "      <td>3</td>\n",
       "      <td>2015</td>\n",
       "    </tr>\n",
       "    <tr>\n",
       "      <th>2015-03-03 18:10:00</th>\n",
       "      <td>2015-03-03 18:10:00</td>\n",
       "      <td>16546.95</td>\n",
       "      <td>10</td>\n",
       "      <td>3</td>\n",
       "      <td>2015</td>\n",
       "    </tr>\n",
       "    <tr>\n",
       "      <th>2015-03-03 18:20:00</th>\n",
       "      <td>2015-03-03 18:20:00</td>\n",
       "      <td>16547.14</td>\n",
       "      <td>10</td>\n",
       "      <td>3</td>\n",
       "      <td>2015</td>\n",
       "    </tr>\n",
       "  </tbody>\n",
       "</table>\n",
       "<p>1118 rows × 5 columns</p>\n",
       "</div>"
      ],
      "text/plain": [
       "                                   time     value  woy  month  year\n",
       "time                                                               \n",
       "2015-02-24 00:10:00 2015-02-24 00:10:00  16340.75    9      2  2015\n",
       "2015-02-24 00:20:00 2015-02-24 00:20:00  16340.77    9      2  2015\n",
       "2015-02-24 00:30:00 2015-02-24 00:30:00  16340.80    9      2  2015\n",
       "2015-02-24 00:40:00 2015-02-24 00:40:00  16340.83    9      2  2015\n",
       "2015-02-24 00:50:00 2015-02-24 00:50:00  16340.86    9      2  2015\n",
       "...                                 ...       ...  ...    ...   ...\n",
       "2015-03-03 17:40:00 2015-03-03 17:40:00  16546.44   10      3  2015\n",
       "2015-03-03 17:50:00 2015-03-03 17:50:00  16546.56   10      3  2015\n",
       "2015-03-03 18:00:00 2015-03-03 18:00:00  16546.76   10      3  2015\n",
       "2015-03-03 18:10:00 2015-03-03 18:10:00  16546.95   10      3  2015\n",
       "2015-03-03 18:20:00 2015-03-03 18:20:00  16547.14   10      3  2015\n",
       "\n",
       "[1118 rows x 5 columns]"
      ]
     },
     "execution_count": 40,
     "metadata": {},
     "output_type": "execute_result"
    }
   ],
   "source": [
    "data['woy'] = data.index.isocalendar().week # weekofyear\n",
    "data['month'] = data.index.month\n",
    "data['year'] = data.index.year\n",
    "data"
   ]
  },
  {
   "cell_type": "markdown",
   "metadata": {},
   "source": [
    "### 2 周能耗"
   ]
  },
  {
   "cell_type": "code",
   "execution_count": 41,
   "metadata": {},
   "outputs": [
    {
     "data": {
      "text/html": [
       "<div>\n",
       "<style scoped>\n",
       "    .dataframe tbody tr th:only-of-type {\n",
       "        vertical-align: middle;\n",
       "    }\n",
       "\n",
       "    .dataframe tbody tr th {\n",
       "        vertical-align: top;\n",
       "    }\n",
       "\n",
       "    .dataframe thead th {\n",
       "        text-align: right;\n",
       "    }\n",
       "</style>\n",
       "<table border=\"1\" class=\"dataframe\">\n",
       "  <thead>\n",
       "    <tr style=\"text-align: right;\">\n",
       "      <th></th>\n",
       "      <th></th>\n",
       "      <th>time</th>\n",
       "      <th>value</th>\n",
       "      <th>month</th>\n",
       "    </tr>\n",
       "    <tr>\n",
       "      <th>year</th>\n",
       "      <th>woy</th>\n",
       "      <th></th>\n",
       "      <th></th>\n",
       "      <th></th>\n",
       "    </tr>\n",
       "  </thead>\n",
       "  <tbody>\n",
       "    <tr>\n",
       "      <th rowspan=\"2\" valign=\"top\">2015</th>\n",
       "      <th>9</th>\n",
       "      <td>5 days 23:40:00</td>\n",
       "      <td>150.01</td>\n",
       "      <td>1</td>\n",
       "    </tr>\n",
       "    <tr>\n",
       "      <th>10</th>\n",
       "      <td>1 days 18:20:00</td>\n",
       "      <td>56.35</td>\n",
       "      <td>0</td>\n",
       "    </tr>\n",
       "  </tbody>\n",
       "</table>\n",
       "</div>"
      ],
      "text/plain": [
       "                    time   value  month\n",
       "year woy                               \n",
       "2015 9   5 days 23:40:00  150.01      1\n",
       "     10  1 days 18:20:00   56.35      0"
      ]
     },
     "execution_count": 41,
     "metadata": {},
     "output_type": "execute_result"
    }
   ],
   "source": [
    "max_sample=data.groupby([\"year\",\"woy\"]).max()\n",
    "min_sample=data.groupby([\"year\",\"woy\"]).min()\n",
    "power_week=max_sample-min_sample\n",
    "power_week"
   ]
  },
  {
   "cell_type": "code",
   "execution_count": 42,
   "metadata": {},
   "outputs": [
    {
     "data": {
      "image/png": "[encoded data removed]",
      "text/plain": [
       "<Figure size 432x288 with 1 Axes>"
      ]
     },
     "metadata": {
      "needs_background": "light"
     },
     "output_type": "display_data"
    }
   ],
   "source": [
    "_=power_week.plot.bar(y=\"value\")"
   ]
  },
  {
   "cell_type": "markdown",
   "metadata": {},
   "source": [
    "### 3 月能耗"
   ]
  },
  {
   "cell_type": "code",
   "execution_count": 43,
   "metadata": {},
   "outputs": [
    {
     "data": {
      "text/html": [
       "<div>\n",
       "<style scoped>\n",
       "    .dataframe tbody tr th:only-of-type {\n",
       "        vertical-align: middle;\n",
       "    }\n",
       "\n",
       "    .dataframe tbody tr th {\n",
       "        vertical-align: top;\n",
       "    }\n",
       "\n",
       "    .dataframe thead th {\n",
       "        text-align: right;\n",
       "    }\n",
       "</style>\n",
       "<table border=\"1\" class=\"dataframe\">\n",
       "  <thead>\n",
       "    <tr style=\"text-align: right;\">\n",
       "      <th></th>\n",
       "      <th></th>\n",
       "      <th>time</th>\n",
       "      <th>value</th>\n",
       "      <th>woy</th>\n",
       "    </tr>\n",
       "    <tr>\n",
       "      <th>year</th>\n",
       "      <th>month</th>\n",
       "      <th></th>\n",
       "      <th></th>\n",
       "      <th></th>\n",
       "    </tr>\n",
       "  </thead>\n",
       "  <tbody>\n",
       "    <tr>\n",
       "      <th rowspan=\"2\" valign=\"top\">2015</th>\n",
       "      <th>2</th>\n",
       "      <td>4 days 23:40:00</td>\n",
       "      <td>132.94</td>\n",
       "      <td>0</td>\n",
       "    </tr>\n",
       "    <tr>\n",
       "      <th>3</th>\n",
       "      <td>2 days 18:20:00</td>\n",
       "      <td>73.42</td>\n",
       "      <td>1</td>\n",
       "    </tr>\n",
       "  </tbody>\n",
       "</table>\n",
       "</div>"
      ],
      "text/plain": [
       "                      time   value  woy\n",
       "year month                             \n",
       "2015 2     4 days 23:40:00  132.94    0\n",
       "     3     2 days 18:20:00   73.42    1"
      ]
     },
     "execution_count": 43,
     "metadata": {},
     "output_type": "execute_result"
    }
   ],
   "source": [
    "max_sample=data.groupby([\"year\",\"month\"]).max()\n",
    "min_sample=data.groupby([\"year\",\"month\"]).min()\n",
    "power_month=max_sample-min_sample\n",
    "power_month"
   ]
  },
  {
   "cell_type": "markdown",
   "metadata": {},
   "source": [
    "### 4 年能耗"
   ]
  },
  {
   "cell_type": "code",
   "execution_count": 44,
   "metadata": {},
   "outputs": [
    {
     "data": {
      "text/html": [
       "<div>\n",
       "<style scoped>\n",
       "    .dataframe tbody tr th:only-of-type {\n",
       "        vertical-align: middle;\n",
       "    }\n",
       "\n",
       "    .dataframe tbody tr th {\n",
       "        vertical-align: top;\n",
       "    }\n",
       "\n",
       "    .dataframe thead th {\n",
       "        text-align: right;\n",
       "    }\n",
       "</style>\n",
       "<table border=\"1\" class=\"dataframe\">\n",
       "  <thead>\n",
       "    <tr style=\"text-align: right;\">\n",
       "      <th></th>\n",
       "      <th>time</th>\n",
       "      <th>value</th>\n",
       "      <th>woy</th>\n",
       "      <th>month</th>\n",
       "    </tr>\n",
       "    <tr>\n",
       "      <th>year</th>\n",
       "      <th></th>\n",
       "      <th></th>\n",
       "      <th></th>\n",
       "      <th></th>\n",
       "    </tr>\n",
       "  </thead>\n",
       "  <tbody>\n",
       "    <tr>\n",
       "      <th>2015</th>\n",
       "      <td>7 days 18:10:00</td>\n",
       "      <td>206.39</td>\n",
       "      <td>1</td>\n",
       "      <td>1</td>\n",
       "    </tr>\n",
       "  </tbody>\n",
       "</table>\n",
       "</div>"
      ],
      "text/plain": [
       "                time   value  woy  month\n",
       "year                                    \n",
       "2015 7 days 18:10:00  206.39    1      1"
      ]
     },
     "execution_count": 44,
     "metadata": {},
     "output_type": "execute_result"
    }
   ],
   "source": [
    "max_sample=data.groupby([\"year\"]).max()\n",
    "min_sample=data.groupby([\"year\"]).min()\n",
    "power_year=max_sample-min_sample\n",
    "power_year"
   ]
  },
  {
   "cell_type": "code",
   "execution_count": null,
   "metadata": {},
   "outputs": [],
   "source": []
  }
 ],
 "metadata": {
  "kernelspec": {
   "display_name": "Python 3 (ipykernel)",
   "language": "python",
   "name": "python3"
  },
  "language_info": {
   "codemirror_mode": {
    "name": "ipython",
    "version": 3
   },
   "file_extension": ".py",
   "mimetype": "text/x-python",
   "name": "python",
   "nbconvert_exporter": "python",
   "pygments_lexer": "ipython3",
   "version": "3.10.5"
  },
  "toc": {
   "base_numbering": 1,
   "nav_menu": {},
   "number_sections": false,
   "sideBar": true,
   "skip_h1_title": false,
   "title_cell": "Table of Contents",
   "title_sidebar": "Contents",
   "toc_cell": false,
   "toc_position": {
    "height": "calc(100% - 180px)",
    "left": "10px",
    "top": "150px",
    "width": "228.05px"
   },
   "toc_section_display": true,
   "toc_window_display": true
  },
  "vscode": {
   "interpreter": {
    "hash": "369f2c481f4da34e4445cda3fffd2e751bd1c4d706f27375911949ba6bb62e1c"
   }
  }
 },
 "nbformat": 4,
 "nbformat_minor": 2
}
