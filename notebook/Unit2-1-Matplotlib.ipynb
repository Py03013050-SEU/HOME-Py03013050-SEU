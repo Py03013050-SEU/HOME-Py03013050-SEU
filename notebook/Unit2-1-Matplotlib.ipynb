{
 "cells": [
  {
   "cell_type": "markdown",
   "metadata": {},
   "source": [
    "# Plotting Using Matplotlib\n",
    "\n",
    "numpy ,scipy，matplotlib"
   ]
  },
  {
   "cell_type": "markdown",
   "metadata": {},
   "source": [
    "Often text is the best way to communicate information, but sometimes there is a\n",
    "lot of truth to the Chinese proverb,\n",
    "\n",
    "**图片的意义可以表达近万字** \n",
    "\n",
    ">A picture's meaning can express ten thousand words\n",
    "\n",
    "**Matplotlib**\n",
    "\n",
    "http://matplotlib.org/\n",
    "\n",
    "Matplotlib is a Python 2D plotting library which produces publication quality figures in a variety of hardcopy formats and interactive environments across platforms. Matplotlib can be used in Python scripts, the Python and IPython shells, the Jupyter notebook, web application servers, and four graphical user interface toolkits.\n",
    "\n",
    "Matplotlib Developers on Github: https://github.com/matplotlib\n",
    "\n",
    "User's Guide: http://matplotlib.org/users/index.html\n"
   ]
  },
  {
   "cell_type": "markdown",
   "metadata": {},
   "source": [
    "## 1 Matplotlib.pyplot\n",
    "\n",
    "\n",
    "[Matplotlib.pyplot](https://matplotlib.org/2.0.2/api/pyplot_api.html) provides a `MATLAB`-like plotting framework.\n",
    "\n",
    "### 1.1 The Simple Example\n",
    "\n",
    "Let’s start with a simple example that uses `pyplot.plot` to produce the plot."
   ]
  },
  {
   "cell_type": "code",
   "execution_count": null,
   "metadata": {},
   "outputs": [],
   "source": [
    "%%file ./code/python/plt111.py\n",
    "\n",
    "import matplotlib.pyplot as plt\n",
    "\n",
    "plt.figure() #create figure \n",
    "plt.plot([1,2,3,4], [1,7,3,5]) #draw on figure 1 <x,y> list/array\n",
    "plt.show() #show figure on screen"
   ]
  },
  {
   "cell_type": "markdown",
   "metadata": {},
   "source": [
    "```\n",
    ">python plt111.py\n",
    "```"
   ]
  },
  {
   "cell_type": "markdown",
   "metadata": {},
   "source": [
    "![figure1](./img/c11-figure1.jpg)\n"
   ]
  },
  {
   "cell_type": "code",
   "execution_count": null,
   "metadata": {},
   "outputs": [],
   "source": [
    "import matplotlib.pyplot as plt\n",
    "\n",
    "plt.figure() #create figure 1\n",
    "x=[1,2,3,4]\n",
    "y=[1,7,3,5]\n",
    "plt.plot(x,y) # plot x and y using default line style and color\n",
    "plt.show() #show figure on screen"
   ]
  },
  {
   "cell_type": "markdown",
   "metadata": {},
   "source": [
    "### 1.2 The Basic Method of PyPlot\n",
    "\n",
    "* pyplot.figure()\n",
    "\n",
    "* pyplot.plot(x,y)\n",
    "\n",
    "* pyplot.show()\n",
    "\n",
    "#### 1.2.1 [pyplot.figure ](https://matplotlib.org/api/_as_gen/matplotlib.pyplot.figure.html#matplotlib.pyplot.figure) \n",
    "\n",
    "Create a new figure.\n",
    "\n",
    "```python\n",
    "matplotlib.pyplot.figure(num=None)\n",
    "``` \n",
    "\n",
    "**num** : integer or string, optional, default: ```None```\n",
    "\n",
    "The example,the num is not provided, a new figure will be created,\n",
    "\n",
    "#### 1.2.2  pyplot.plot\n",
    "\n",
    "(https://matplotlib.org/api/_as_gen/matplotlib.pyplot.plot.html#matplotlib.pyplot.plot)\n",
    "\n",
    "Plot <x,y>(y versus x) as lines and/or markers\n",
    "```python\n",
    " matplotlib.pyplot.plot(x, y)\n",
    "``` \n",
    "![plotxy](./img/plotxy.jpg)\n",
    "  \n",
    "  \n",
    "#### 1.2.3 [pyplot.show](https://matplotlib.org/devdocs/api/_as_gen/matplotlib.pyplot.show.html)\n",
    "\n",
    "**Display a figure**. \n",
    "\n"
   ]
  },
  {
   "cell_type": "code",
   "execution_count": null,
   "metadata": {},
   "outputs": [],
   "source": [
    "plt.figure(1) # create figure  with number 1\n",
    "x=[1,2,3,4]\n",
    "y=[1,7,3,5]\n",
    "plt.plot(x,y) # plot x and y using blue circle markers\n",
    "plt.show() # show figure on screen"
   ]
  },
  {
   "cell_type": "markdown",
   "metadata": {},
   "source": [
    "### 1.3 Multiple figures & write them to files\n",
    "\n",
    "#### 1.3.1 Multiple figures\n",
    "\n",
    "Create a new figure.\n",
    "\n",
    "```python\n",
    "matplotlib.pyplot.figure(num=None)\n",
    "``` \n",
    "\n",
    "**num** : integer or string, optional, default: ```None```\n",
    "\n",
    "* If not provided, a new figure will be created, and the figure number will be incremented. The figure objects holds this number in a number attribute.\n",
    "\n",
    "* If num is provided, \n",
    "  * If this figure does not exists, create it and returns it. \n",
    "  * If a figure with this id already exists, make it active, and returns a reference to it.\n",
    "  * If num is a string, the window title will be set to this figure's num\n",
    "\n",
    "It is possible to produce **multiple figures** \n",
    "\n",
    "Tne next example produces tow figures:**1,2**"
   ]
  },
  {
   "cell_type": "code",
   "execution_count": null,
   "metadata": {},
   "outputs": [],
   "source": [
    "import matplotlib.pyplot as plt\n",
    "\n",
    "# create figure 1\n",
    "plt.figure(1)\n",
    "plt.plot([1,2,3,4], [1,2,3,4]) # plot on figure 1\n",
    "\n",
    "# create figure 2\n",
    "plt.figure(2) \n",
    "plt.plot([1,4,2,3], [5,6,7,8]) # plot on figure 2\n",
    "\n",
    "# figure 1 id already exists, make figure 1 active\n",
    "# and returns a reference to it\n",
    "#   Go back to figure 1 and plotting again \n",
    "plt.figure(1)\n",
    "# Plot again on figure 1\n",
    "plt.plot([5,6,10,3]) #  plot(y) on  figure 1\n",
    "plt.show()\n"
   ]
  },
  {
   "cell_type": "markdown",
   "metadata": {},
   "source": [
    "1. create figure 1: ```plt.figure(1)```\n",
    "\n",
    "2. create figure 2: ```plt.figure(2)```\n",
    "\n",
    "3. Go back and plotting on figure 1 ```plt.figure(1)```\n",
    "\n",
    "```python\n",
    " plot(y)\n",
    "```\n",
    "##### pyplot.plot(y)\n",
    "\n",
    "plot $y$ using $x$ as index array $0..N-1$,using default line style and color\n",
    "\n",
    "* `pyplot.plot([5,6,10,3]) # plot again on figure 1`\n",
    "\n",
    "   The corresponding $x$ values default to `range(len([5, 6, 10, 3]))`( 0 to 3 in this case  plot $y$ using $x$ as index array$ 0..N-1$ \n",
    "\n",
    "**Figure 1**\n",
    "\n",
    "Two lines: \n",
    "```python\n",
    "plt.plot([1,2,3,4], [1,2,3,4]) \n",
    "\n",
    "# Go back and plotting on figure 1\n",
    "plt.plot([5,6,10,3])\n",
    "```\n",
    "![figure1](./img/Figure1.svg)\n",
    "\n",
    "**Figure 2**\n",
    "\n",
    "One line: \n",
    "\n",
    "```python\n",
    "plt.plot([1,4,2,3], [5,6,7,8])\n",
    "```\n",
    "\n",
    "![figure2](./img/Figure2.png)"
   ]
  },
  {
   "cell_type": "markdown",
   "metadata": {},
   "source": [
    "#### 1.3.2 Write figure to files\n",
    "\n",
    "```python\n",
    "plt.savefig(figurefilename)\n",
    "```\n",
    "\n",
    "These files can have any name you like. \n",
    "\n",
    "They will all have the file extension` .png` in the **default**.\n",
    "\n",
    "* `.png` indicates that the file is in the `Portable Networks Graphics` format. This is a public domain standard for representing images\n",
    "\n",
    "You can set the figure file format,for example,\n",
    "\n",
    "**To save the plot as an SVG**\n",
    "\n",
    "[Scalable Vector Graphics (SVG)](https://en.wikipedia.org/wiki/Scalable_Vector_Graphics) is an XML-based vector image format for two-dimensional graphics with support for interactivity and animation. The SVG specification is an open standard developed by the World Wide Web Consortium (W3C) since 1999. \n",
    "\n",
    "All major modern web browsers—including Mozilla Firefox, Internet Explorer, Google Chrome, Opera, Safari, and Microsoft Edge—have SVG rendering support. "
   ]
  },
  {
   "cell_type": "code",
   "execution_count": null,
   "metadata": {},
   "outputs": [],
   "source": [
    "import matplotlib.pyplot as plt\n",
    "\n",
    "plt.figure(1) #create figure 1\n",
    "plt.plot([1,2,3,4], [1,2,3,4]) # plot on figure 1\n",
    "\n",
    "plt.figure(2) #create figure 2\n",
    "plt.plot([1,4,2,3], [5,6,7,8]) # plot on figure 2\n",
    "#save figure 2 without extension,to the default .png\n",
    "plt.savefig('./img/Figure2') \n",
    "\n",
    "#go back to plot working on figure 1\n",
    "plt.figure(1)\n",
    "# plot again on figure 1\n",
    "plt.plot([5,6,10,3]) #  # plot y using x as index array 0..N-1,using default line style and color\n",
    "\n",
    "# save figure 1  as an SVG\n",
    "plt.savefig('./img/Figure11.svg') "
   ]
  },
  {
   "cell_type": "code",
   "execution_count": null,
   "metadata": {},
   "outputs": [],
   "source": [
    "!dir .\\img\\Figure*"
   ]
  },
  {
   "cell_type": "markdown",
   "metadata": {},
   "source": [
    "### 1.4 title,xlabel,ylabel \n",
    " \n",
    "Let’s look at the example:\n",
    "\n",
    "* the growth of an initial investment of $10,000 at an annually 5%\n",
    "\n"
   ]
  },
  {
   "cell_type": "code",
   "execution_count": null,
   "metadata": {},
   "outputs": [],
   "source": [
    "import matplotlib.pyplot as plt\n",
    "\n",
    "principal = 10000 #initial investment\n",
    "interestRate = 0.05\n",
    "years = 20\n",
    "values = []\n",
    "\n",
    "for i in range(years + 1):\n",
    "    values.append(principal)\n",
    "    principal += principal*interestRate\n",
    "\n",
    "plt.plot(values) # plot y using x as index array 0..N-1,using default line style and color\n",
    "\n",
    "plt.show()"
   ]
  },
  {
   "cell_type": "markdown",
   "metadata": {},
   "source": [
    "If we **look at the code**,\n",
    "\n",
    "**The growth of an initial investment of $10,000 at an annually**\n",
    "\n",
    "* cannot be easily inferred by looking **only at the plot `itself`**. That’s a bad thing.\n",
    "\n",
    "**All plots should have**\n",
    "\n",
    "* `informative` **titles** \n",
    "\n",
    "* all **axes** should be `labeled`.\n",
    "\n",
    "If we add to the end of our the code the lines\n",
    "```\n",
    "plt.title('5% Growth, Compounded Annually')\n",
    "plt.xlabel('Years of Compounding')\n",
    "plt.ylabel('Value of Principal ($)')\n",
    "```"
   ]
  },
  {
   "cell_type": "code",
   "execution_count": null,
   "metadata": {},
   "outputs": [],
   "source": [
    "principal = 10000 #initial investment\n",
    "interestRate = 0.05\n",
    "years = 20\n",
    "values = []\n",
    "\n",
    "for i in range(years + 1):\n",
    "    values.append(principal)\n",
    "    principal += principal*interestRate\n",
    "\n",
    "plt.plot(values) # plot y using x as index array 0..N-1,using default line style and color\n",
    "\n",
    "# add tile,xlabel,ylable\n",
    "plt.title('5% Growth, Compounded Annually')\n",
    "plt.xlabel('Years of Compounding')\n",
    "plt.ylabel('Value of Principal($)')\n",
    "\n",
    "plt.show()"
   ]
  },
  {
   "cell_type": "markdown",
   "metadata": {},
   "source": [
    "### 1.5 Formating plotted curve\n",
    "\n",
    "#### 1.5.1 Line and marker\n",
    "\n",
    "##### 1.5.1.1 The color, type, marker symbols\n",
    "For every plotted curve, there is an optional argument that is **a format string** indicating\n",
    "\n",
    "**the `color`，line `type` and marker `symbols` of the plot**\n",
    "\n",
    "1. The first character is <b style=\"color:red\">color</b>: example: <b style=\"color:blue\"> b </b> blue \n",
    "\n",
    "2. The second characters are <b style=\"color:red\">line type</b>:  example: <b style=\"color:blue\"> - </b> solid line\n",
    " \n",
    "3. The third characters are  <b style=\"color:red\">marker symbols</b>: example:<b style=\"color:blue\"> + </b> symbol\n",
    " \n",
    "The **default format** string is  <b style=\"color:blue\">'b-'</b>, which produces a <b style=\"color:blue\">blue solid line</b>(蓝色实线）.\n",
    "\n",
    "```python\n",
    "pyplot.plot(values)\n",
    "```\n",
    "\n",
    "If you want to plot the above with <b style=\"color:green\">green</b>, **dashed** line with **circle** marker symbol（绿色虚线圆点）.  one would replace the call by\n",
    "\n",
    "```python\n",
    "pyplot.plot(values, 'g--o')\n",
    "```\n",
    "\n",
    "![line_style](./img/line_style.jpg)\n",
    "\n",
    "\n",
    "##### 1.5.1.2 line: width\n",
    "\n",
    "To change the line width, we can use the `linewidth` or `lw` keyword argument.\n",
    "\n",
    "```python\n",
    "plt.plot(values, linewidth =2)\n",
    "```"
   ]
  },
  {
   "cell_type": "code",
   "execution_count": null,
   "metadata": {},
   "outputs": [],
   "source": [
    "principal = 10000 #initial investment\n",
    "interestRate = 0.05\n",
    "years = 20\n",
    "values = []\n",
    "for i in range(years + 1):\n",
    "    values.append(principal)\n",
    "    principal += principal*interestRate\n",
    "\n",
    "# green dashed line, circle marker,width = 2\n",
    "plt.plot(values,'g--o',linewidth = 2)\n",
    "\n",
    "#If we add to the end of our the code the lines\n",
    "plt.title('5% Growth, Compounded Annually')\n",
    "plt.xlabel('Years of Compounding')\n",
    "plt.ylabel('Value of Principals($)')\n",
    "plt.show()"
   ]
  },
  {
   "cell_type": "markdown",
   "metadata": {},
   "source": [
    "#### 1.5.2  type size \n",
    "\n",
    "It’s also possible to change the type `size` used in plots.\n",
    "\n",
    "For example,set `fontsize`\n",
    "```python\n",
    "plt.xlabel('Years of Compounding', fontsize = 'x-small')\n"
   ]
  },
  {
   "cell_type": "code",
   "execution_count": null,
   "metadata": {},
   "outputs": [],
   "source": [
    "principal = 10000 #initial investment\n",
    "interestRate = 0.05\n",
    "years = 20\n",
    "values = []\n",
    "for i in range(years + 1):\n",
    "    values.append(principal)\n",
    "    principal += principal*interestRate\n",
    "\n",
    "#blue dashed line ,width =3 \n",
    "plt.plot(values,'b--', lw = 3)\n",
    "\n",
    "# fontsize \n",
    "plt.title('5% Growth, Compounded Annually', fontsize = 'x-large')\n",
    "# fontsize \n",
    "plt.xlabel('Years of Compounding', fontsize = 'x-small')\n",
    "plt.ylabel('Value of Principal($)')\n",
    "plt.show()"
   ]
  },
  {
   "cell_type": "markdown",
   "metadata": {},
   "source": [
    "## Fuether Reading\n",
    "\n",
    "**scip** https://scipy.org/\n",
    "\n",
    "**Matplotlib Tutorials:** https://matplotlib.org/tutorials/index.html\n",
    "\n",
    "**Pyplot tutorial** https://matplotlib.org/tutorials/introductory/pyplot.html#sphx-glr-tutorials-introductory-pyplot-py\n"
   ]
  },
  {
   "cell_type": "code",
   "execution_count": null,
   "metadata": {},
   "outputs": [],
   "source": []
  }
 ],
 "metadata": {
  "kernelspec": {
   "display_name": "Python 3 (ipykernel)",
   "language": "python",
   "name": "python3"
  },
  "language_info": {
   "codemirror_mode": {
    "name": "ipython",
    "version": 3
   },
   "file_extension": ".py",
   "mimetype": "text/x-python",
   "name": "python",
   "nbconvert_exporter": "python",
   "pygments_lexer": "ipython3",
   "version": "3.10.5"
  },
  "latex_envs": {
   "LaTeX_envs_menu_present": true,
   "autoclose": false,
   "autocomplete": true,
   "bibliofile": "biblio.bib",
   "cite_by": "apalike",
   "current_citInitial": 1,
   "eqLabelWithNumbers": true,
   "eqNumInitial": 1,
   "hotkeys": {
    "equation": "Ctrl-E",
    "itemize": "Ctrl-I"
   },
   "labels_anchors": false,
   "latex_user_defs": false,
   "report_style_numbering": false,
   "user_envs_cfg": false
  },
  "toc": {
   "base_numbering": 1,
   "nav_menu": {},
   "number_sections": false,
   "sideBar": true,
   "skip_h1_title": false,
   "title_cell": "Table of Contents",
   "title_sidebar": "Contents",
   "toc_cell": false,
   "toc_position": {
    "height": "calc(100% - 180px)",
    "left": "10px",
    "top": "150px",
    "width": "165px"
   },
   "toc_section_display": true,
   "toc_window_display": true
  }
 },
 "nbformat": 4,
 "nbformat_minor": 1
}
