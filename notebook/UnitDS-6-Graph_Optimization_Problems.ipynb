{
 "cells": [
  {
   "cell_type": "markdown",
   "metadata": {},
   "source": [
    "## 2 Graph Optimization Problems"
   ]
  },
  {
   "cell_type": "markdown",
   "metadata": {},
   "source": [
    "### 2.1 Graph "
   ]
  },
  {
   "cell_type": "markdown",
   "metadata": {},
   "source": [
    "A <b>graph</b> is a set of objects called <b>nodes(节点) (or vertices(顶)</b> connected by a set of <b>edges（边) (or arcs(弧))</b>.\n",
    "\n",
    "If the edges are <b>unidirectional(单向的）</b> the graph is called <b>a directed graph or digraph</b>.\n",
    "\n",
    "In <b>a directed graph</b>, if there is an edge from $n1$ to $n2$, we refer to $n1$ as the <b>source or parent node</b> and $n2$ as <b>the destination or child node</b>.\n",
    "\n",
    "![](./img/ds/unanddirgraph.jpg)\n",
    "\n",
    "A graph is **complete** if there is an edge from each vertex to every other vertex. the Figure  shows the complete graph\n",
    "\n",
    "\n",
    "![](./img/ds/compgraph.jpg)\n",
    "\n",
    "---\n"
   ]
  },
  {
   "cell_type": "markdown",
   "metadata": {},
   "source": [
    "### 2.2 Representations of Graphs\n",
    "\n",
    "To represent graphs, you need a convenient way to store the vertices and the edges that connect them.\n",
    "\n",
    "The two commonly used representations of graphs are the **adjacency matrix(邻接矩阵)** and the **adjacency list(邻接表)**"
   ]
  },
  {
   "cell_type": "markdown",
   "metadata": {},
   "source": [
    "#### 2.2.1 Adjacency Matrix\n",
    "\n",
    "The adjacency matrix representation stores the information about a graph in a matrix or grid。 \n",
    "\n",
    "Recall that a matrix has two dimensions, and each cell is accessed at a given row and column position. \n",
    "\n",
    "Assume that a graph has $N$ vertices labeled $0, 1, . . ., N – 1$, and then the following applies:\n",
    "\n",
    "* The adjacency matrix for the graph is a grid $G$ with $N$ rows and $N$ columns.\n",
    "\n",
    "* The cell $G[i][j]$ contains $1$ if there is an edge from vertex $i$ to vertex $j$ in the graph. Otherwise,there is no edge, and that cell contains $0$.\n",
    "\n",
    "The Figure shows a directed graph and its adjacency matrix. Each node in the graph is labeled with a letter. Next to each node is its row number in the adjacency matrix.\n",
    "\n",
    "![dirgraph-am](./img/ds/dirgraph-am.jpg)\n",
    "\n",
    "If the graph is **undirected**, then `four more` cells are occupied by $1$ to account for the **bidirectional** character of each edge. see the Figure.\n",
    "\n",
    "\n",
    "![undirgraph-am](./img/ds/undirgraph-am.jpg)"
   ]
  },
  {
   "cell_type": "markdown",
   "metadata": {},
   "source": [
    "#### 2.2.2 Adjacency List\n",
    "\n",
    "The follow Figure shows a directed graph and its adjacency list representation.\n",
    "\n",
    "An adjacency list representation stores the information about a graph in an array of lists. \n",
    "\n",
    "You can use either linked or array-based list implementations. \n",
    "\n",
    "This example uses a linked list implementation.\n",
    "\n",
    "Assume that a graph has $N$ vertices labeled $0, 1, . . ., N – 1$, and then the following applies:\n",
    "\n",
    "* The adjacency list for the graph is an array of $N$ linked lists.\n",
    "\n",
    "* The $i$th linked list contains a node for vertex $j$ if and only if there is an edge from vertex $i$ to vertex $j$.\n",
    "\n",
    "![dirgraph-al](./img/ds/dirgraph-al.jpg)\n",
    "\n",
    "Note that the labels of the vertices are included in the nodes for each edge. Naturally, there would be twice as many nodes in an undirected graph,see the Figure.\n",
    "\n",
    "![undirgraph-al](./img/ds/undirgraph-al.jpg)\n",
    "\n",
    "When the edges have weights, the weights can also be included as a second data field in the nodes, as shown in the Figure\n",
    "\n",
    "![dirgraph-alw](./img/ds/dirgraph-alw.jpg)\n",
    "\n"
   ]
  },
  {
   "cell_type": "markdown",
   "metadata": {},
   "source": [
    "#### 2.2.3 Analysis of the Two Representations\n",
    "\n",
    "As far as running time is concerned, the behavior of two commonly used graph operations illustrates the difference in computational efficiency between the adjacency matrix and the adjacency list. \n",
    "\n",
    "These operations are the following:\n",
    "\n",
    "* Determine whether or not there is an **edge** between two given vertices.\n",
    "\n",
    "* Find `all the vertices adjacent` to a given vertex\n",
    "\n",
    "**Determine whether or not there is an `edge` between two given vertices.**\n",
    "\n",
    "The adjacency matrix supports the first operation in **constant time** because it requires just an **index** operation into a two-dimensional array. \n",
    "\n",
    "By contrast, the linked adjacency list requires an index into `an array of linked lists` and then a search of a linked list for a target vertex. \n",
    "\n",
    "The running time is `linear with the length of this list`, on the average. The use of an array-based adjacency list can improve this performance to **logarithmic time**, if the vertices can be sorted in the lists\n",
    "\n",
    "**Find `all the vertices adjacent` to a given vertex**\n",
    "\n",
    "The adjacency list tends to support finding `all the vertices` adjacent to a given vertex more efficiently than the adjacency matrix.\n",
    "\n",
    "In the adjacency list, the set of adjacent vertices for a given vertex is simply the list for that vertex, which can be located with one index operation.\n",
    "\n",
    "In contrast, the set of adjacent vertices for a given vertex in the adjacency matrix must be computed by traversing that vertex’s row in the matrix and accumulating just those positions that contain $1$. \n",
    "\n",
    "The operation must always visit $N$ cells in the adjacency matrix, whereas the operation typically visits much fewer than $N$ nodes in an adjacency list. \n",
    "\n",
    "The limiting case is that of a complete graph. In this case, each cell in the matrix is occupied by $1$, each linked list has $N–1$ nodes, and the performance is a toss-up.\n",
    "\n",
    "The linked adjacency list and the array-based adjacency list exhibit performance **trade-offs** for `insertions` of edges into the lists. \n",
    "\n",
    "* The array-based insertion takes linear time, whereas the linked-based insertion requires constant time. \n",
    " \n",
    "#### 2.2.4 memory  \n",
    "\n",
    "As far as memory usage is concerned, the adjacency matrix always requires $N^2$ cells, no matter how many edges connect the vertices. Thus, the only case in which no cells are wasted is that of a complete graph. \n",
    "\n",
    "In contrast, the adjacency list requires an array of $N$ pointers and a number of nodes equal to twice the number of edges in the case of an undirected graph. The number of edges typically is much smaller than $N^2$, although as the number of edges increases, the extra memory required for the pointers in the linked adjacency list becomes a significant factor."
   ]
  },
  {
   "cell_type": "markdown",
   "metadata": {},
   "source": [
    "#### 2.2.5 Further Run-Time Considerations\n",
    "\n",
    "Another commonly performed operation in graph algorithms is to `iterate across all the neighbors` of a given vertex.\n",
    "\n",
    "Let $N$=number of vertices and $M$=number of edges. Then,the following applies:\n",
    "\n",
    "* Using an adjacency matrix to iterate across all neighbors, you must traverse a row in a time that is $O(N)$. To repeat this for all rows is $O(N^2)$\n",
    "\n",
    "\n",
    "* Using an adjacency list, the time to traverse across all neighbors depends on the number of neighbors. On the average, this time is $O(M/N)$. To repeat this for all vertices is $O(max(M, N))$, which for a dense graph is $O(N^2)$ and for a sparse graph is $O(N)$. Thus,\n",
    "adjacency lists can provide a run-time advantage when working with sparse graphs"
   ]
  },
  {
   "cell_type": "markdown",
   "metadata": {
    "collapsed": true
   },
   "source": [
    "### 2.3 The Graph Classe \n",
    "\n",
    "#### 2.3.1 The class :Node\n",
    "\n",
    "The follow code contains classes implementing abstract types corresponding to nodes, weighted edges, and edges."
   ]
  },
  {
   "cell_type": "code",
   "execution_count": 4,
   "metadata": {},
   "outputs": [],
   "source": [
    "class Node(object):\n",
    "    def __init__(self, name):\n",
    "        \"\"\"Assumes name is a string\"\"\"\n",
    "        self._name = name\n",
    "    def get_name(self):\n",
    "        return self._name\n",
    "    def __str__(self):\n",
    "        return self._name\n",
    "\n",
    "class Edge(object):\n",
    "    def __init__(self, src, dest):\n",
    "        \"\"\"Assumes src and dest are nodes\"\"\"\n",
    "        self._src = src\n",
    "        self._dest = dest\n",
    "    def get_source(self):\n",
    "        return self._src\n",
    "    def get_destination(self):\n",
    "        return self._dest\n",
    "    def __str__(self):\n",
    "        return self._src.get_name() + '->' + self._dest.get_name()\n",
    "\n",
    "class Weighted_edge(Edge):\n",
    "    def __init__(self, src, dest, weight = 1.0):\n",
    "        \"\"\"Assumes src and dest are nodes, weight a number\"\"\"\n",
    "        self._src = src\n",
    "        self._dest = dest\n",
    "        self._weight = weight\n",
    "    def get_weight(self):\n",
    "        return self._weight\n",
    "    def __str__(self):\n",
    "        return (f'{self._src.get_name()}->({self._weight})' +\n",
    "               f'{self._dest.get_name()}')"
   ]
  },
  {
   "cell_type": "markdown",
   "metadata": {},
   "source": [
    "####  2.3.2 The classes `Digraph` and `Graph`\n",
    "\n",
    "The codes contains implementations of the classes <b>Digraph</b> and <b>Graph</b>\n",
    "\n",
    "In the code，we use `the adjacency list` representation. \n",
    "\n",
    "Class <b>Digraph</b> has two instance variables:\n",
    "\n",
    "* <b>nodes</b> is a Python list containing the names of the nodes in the Digraph. The connectivity of the nodes is represented using an adjacency list implemented as a `dictionary`.\n",
    "\n",
    "* <b>edges</b> is `a dictionary` that maps each Node in the Digraph to `a list of the children of that Node`.\n",
    "```python\n",
    " self.edges[src].append(dest)\n",
    "```\n",
    "\n",
    "\n",
    "Class **Graph** is a subclass of `Digraph`. It inherits all of the methods of Digraph except `addEdge`, which it overrides.\n",
    "\n",
    "The Class `Graph` stores each edge **twice**, once for each direction in the Digraph. This is not the most space-efficient way to implement Graph,but it has the virtue of simplicity"
   ]
  },
  {
   "cell_type": "code",
   "execution_count": 5,
   "metadata": {},
   "outputs": [],
   "source": [
    "class Digraph(object):\n",
    "    #nodes is a list of the nodes in the graph\n",
    "    #edges is a dict mapping each node to a list of its children\n",
    "    def __init__(self):\n",
    "        self._nodes = []\n",
    "        self._edges = {}\n",
    "    def add_node(self, node):\n",
    "        if node in self._nodes:\n",
    "            raise ValueError('Duplicate node')\n",
    "        else:\n",
    "            self._nodes.append(node)\n",
    "            self._edges[node] = []\n",
    "    def add_edge(self, edge):\n",
    "        src = edge.get_source()\n",
    "        dest = edge.get_destination()\n",
    "        if not (src in self._nodes and dest in self._nodes):\n",
    "            raise ValueError('Node not in graph')\n",
    "        self._edges[src].append(dest)\n",
    "    def children_of(self, node):\n",
    "        return self._edges[node]\n",
    "    def has_node(self, node):\n",
    "        return node in self._nodes\n",
    "    def __str__(self):\n",
    "        result = ''\n",
    "        for src in self._nodes:\n",
    "            for dest in self._edges[src]:\n",
    "                result = (result + src.get_name() + '->'\n",
    "                         + dest.get_name() + '\\n')\n",
    "        return result[:-1] #omit final newline\n",
    "\n",
    "class Graph(Digraph):\n",
    "    def add_edge(self, edge):\n",
    "        Digraph.add_edge(self, edge)\n",
    "        rev = Edge(edge.get_destination(), edge.get_source())\n",
    "        Digraph.add_edge(self, rev)\n",
    " "
   ]
  },
  {
   "cell_type": "markdown",
   "metadata": {},
   "source": [
    "### 2.4 Some Classic Graph-Theoretic Problems\n",
    "\n",
    "Some of the best-known graph optimization problems are:\n",
    "<ul>\n",
    "<li><b>Shortest path</b>. For some pair of nodes, $𝑛1$ and $𝑛2$, find the shortest sequence of edges $<S_𝑛, 𝑑_𝑛>$ (source node and destination node), such that\n",
    "<ul>\n",
    "<li>The source node in the first edge is $n1$\n",
    "<li>The destination node of the last edge is $n2$\n",
    "<li>For all edges $e1$ and $e2$ in the sequence, if $e2$ follows $e1$ in the sequence, the source node of $e24 is the destination node of $e1$.\n",
    "</ul>\n",
    "<li><b>Shortest weighted path</b>. This is like the shortest path, except instead of choos-ing the shortest sequence of edges that connects two nodes, we define some function on the weights of the edges in the sequence (e.g., their sum) and min-imize that value. This is the kind of problem solved by Google and Apple Maps when asked to compute driving directions between two points.\n",
    "    \n",
    "<li><b>Min cut</b>. Given two sets of nodes in a graph, a <b>cut</b> is a set of edges whose removal <b>eliminates all paths</b> from each node in one set to each node in the other.The minimum cut is the smallest set of edges whose removal accomplishes this.\n",
    "<li><b>Maximum clique</b>. A clique is a set of nodes such that there is an edge between each pair of nodes in the set.93 A maximum clique is a clique of the largest size in a graph. The minimum cut is the smallest set of edges whose removal ac-complishes this. \n",
    "</ul>\n"
   ]
  },
  {
   "cell_type": "markdown",
   "metadata": {
    "collapsed": true
   },
   "source": [
    "\n",
    "### 2.5 The Shortest Path\n",
    "\n",
    "It is often useful to determine **the shortest path** between two vertices in a graph. Consider an airline map, represented as a weighted directed graph whose weights represent miles between airports.\n",
    "\n",
    "The shortest path between two airports is the path that has the smallest sum of edge weights.\n",
    "\n",
    "The **single-source shortest-path problem** asks for a solution that contains the shortest paths from a given vertex to all the other vertices.\n",
    "\n",
    "\n",
    "#### 2.5.1 Depth-first search (DFS)\n",
    " \n",
    "The algorithm implemented by DFS is an example of a recursive <b>depth-first search (DFS)深度优先搜索 </b> algorithm.\n",
    "\n",
    "In general, a depth-first-search algorithm begins by choosing one child of the start node. It then chooses one child of that node and so on, going deeper and deeper until it either reaches the goal node or a node with no children. \n",
    "\n",
    "The search then <b>backtracks</b>, returning to <b>the most recent node with children that it has not yet visited</b>. \n",
    "\n",
    "\n",
    "* 深度优先搜索首先选择一个节点作为起始节点，然后，选择这个节点的一个子节点，继续这个过程，越走越深，直到到达目标节点或者没有子节点的节点，之后，开始回溯，退回到子节点没有被访问的最近节点\n",
    "\n",
    "<img src=\"./img/ds/dfs.jpg\"/> \n",
    "\n",
    "When all paths have been explored, it chooses the shortest path (assuming that there is one) from the start\n",
    "to the goal.\n",
    "\n",
    "The follow code is a bit more complicated than the algorithm we just described：\n",
    "\n",
    "1. It has to deal with the possibility of the graph containing **cycles**.\n",
    "\n",
    "2. It also avoids exploring paths longer than the shortest path that it has already found\n",
    "\n",
    "In the follow code\n",
    "\n",
    "* The function `shortest_path` calls `DFS` with `path = []` (to indicate that the current path being explored is empty) and `shortest = None` (to indicate that no path from start to end has yet been found).\n",
    "\n",
    "*  DFS begins by choosing one child of `start`. It then chooses one child of that node and so on, until either it reaches the node end or a node with no unvisited children.\n",
    "  \n",
    "  * The check ```if node not in path``` prevents the program from getting caught in a cycle.\n",
    "\n",
    "  * The check ```if shortest == None or len(path) < len(shortest)``` is used to decide if it is possible that continuing to search this path might yield a shorter path than the best path found so far.\n",
    "  * If so, DFS is called recursively. If it finds a path to end that is no longer than the best found so far, `shortest` is updated.\n",
    "\n",
    "  * When the last node on `path` has no children left to visit, the program backtracks to the previously visited node and visits the next child of that node.\n",
    "\n",
    "* The function returns when all possibly shortest paths from start to end have been explored.\n"
   ]
  },
  {
   "cell_type": "code",
   "execution_count": 13,
   "metadata": {},
   "outputs": [],
   "source": [
    "def print_path(path):\n",
    "    \"\"\"Assumes path is a list of nodes\"\"\"\n",
    "    result = ''\n",
    "    for i in range(len(path)):\n",
    "        result = result + str(path[i])\n",
    "        if i != len(path) - 1:\n",
    "            result = result + '->'\n",
    "    return result \n",
    "\n",
    "def DFS(graph, start, end, path, shortest, to_print = False):\n",
    "    \"\"\"Assumes graph is a Digraph; start and end are nodes;\n",
    "          path and shortest are lists of nodes\n",
    "       Returns a shortest path from start to end in graph\"\"\"\n",
    "    path = path + [start]\n",
    "    if to_print:\n",
    "        print('Current DFS path:', print_path(path))\n",
    "    if start == end:\n",
    "        return path\n",
    "    for node in graph.children_of(start):\n",
    "        if node not in path: # avoid cycles\n",
    "            if shortest == None or len(path) < len(shortest):\n",
    "                new_path = DFS(graph, node, end, path, shortest,\n",
    "                              to_print)\n",
    "                if new_path != None:\n",
    "                    shortest = new_path\n",
    "    return shortest\n",
    "\n",
    "def shortest_path(graph, start, end, to_print = False):\n",
    "    \"\"\"Assumes graph is a Digraph; start and end are nodes\n",
    "       Returns a shortest path from start to end in graph\"\"\"\n",
    "    return DFS(graph, start, end, [], None, to_print)"
   ]
  },
  {
   "cell_type": "markdown",
   "metadata": {},
   "source": [
    "The function `test_SP` first builds a directed graph like the one pictured on the right, and then \n",
    "\n",
    "* searches for a shortest path between **node 0 and node 5**.\n",
    "\n",
    "<img src=\"./img/ds/17.9.PNG\"/> "
   ]
  },
  {
   "cell_type": "code",
   "execution_count": 5,
   "metadata": {},
   "outputs": [],
   "source": [
    "def test_SP():\n",
    "    nodes = []\n",
    "    for name in range(6): #Create 6 nodes\n",
    "        nodes.append(Node(str(name)))\n",
    "    g = Digraph()\n",
    "    for n in nodes:\n",
    "        g.add_node(n)\n",
    "    g.add_edge(Edge(nodes[0],nodes[1]))\n",
    "    g.add_edge(Edge(nodes[1],nodes[2]))\n",
    "    g.add_edge(Edge(nodes[2],nodes[3]))\n",
    "    g.add_edge(Edge(nodes[2],nodes[4]))\n",
    "    g.add_edge(Edge(nodes[3],nodes[4]))\n",
    "    g.add_edge(Edge(nodes[3],nodes[5]))\n",
    "    g.add_edge(Edge(nodes[0],nodes[2]))\n",
    "    g.add_edge(Edge(nodes[1],nodes[0]))\n",
    "    g.add_edge(Edge(nodes[3],nodes[1]))\n",
    "    g.add_edge(Edge(nodes[4],nodes[0]))\n",
    "    sp = shortest_path(g, nodes[0], nodes[5], to_print = True)\n",
    "    print('Shortest path found by DFS:', print_path(sp))"
   ]
  },
  {
   "cell_type": "code",
   "execution_count": 6,
   "metadata": {},
   "outputs": [
    {
     "output_type": "error",
     "ename": "NameError",
     "evalue": "name 'Node' is not defined",
     "traceback": [
      "\u001b[1;31m---------------------------------------------------------------------------\u001b[0m",
      "\u001b[1;31mNameError\u001b[0m                                 Traceback (most recent call last)",
      "\u001b[1;32m<ipython-input-6-09052c97effa>\u001b[0m in \u001b[0;36m<module>\u001b[1;34m\u001b[0m\n\u001b[1;32m----> 1\u001b[1;33m \u001b[0mtest_SP\u001b[0m\u001b[1;33m(\u001b[0m\u001b[1;33m)\u001b[0m\u001b[1;33m\u001b[0m\u001b[1;33m\u001b[0m\u001b[0m\n\u001b[0m",
      "\u001b[1;32m<ipython-input-5-b5c8cdce66d8>\u001b[0m in \u001b[0;36mtest_SP\u001b[1;34m()\u001b[0m\n\u001b[0;32m      2\u001b[0m     \u001b[0mnodes\u001b[0m \u001b[1;33m=\u001b[0m \u001b[1;33m[\u001b[0m\u001b[1;33m]\u001b[0m\u001b[1;33m\u001b[0m\u001b[1;33m\u001b[0m\u001b[0m\n\u001b[0;32m      3\u001b[0m     \u001b[1;32mfor\u001b[0m \u001b[0mname\u001b[0m \u001b[1;32min\u001b[0m \u001b[0mrange\u001b[0m\u001b[1;33m(\u001b[0m\u001b[1;36m6\u001b[0m\u001b[1;33m)\u001b[0m\u001b[1;33m:\u001b[0m \u001b[1;31m#Create 6 nodes\u001b[0m\u001b[1;33m\u001b[0m\u001b[1;33m\u001b[0m\u001b[0m\n\u001b[1;32m----> 4\u001b[1;33m         \u001b[0mnodes\u001b[0m\u001b[1;33m.\u001b[0m\u001b[0mappend\u001b[0m\u001b[1;33m(\u001b[0m\u001b[0mNode\u001b[0m\u001b[1;33m(\u001b[0m\u001b[0mstr\u001b[0m\u001b[1;33m(\u001b[0m\u001b[0mname\u001b[0m\u001b[1;33m)\u001b[0m\u001b[1;33m)\u001b[0m\u001b[1;33m)\u001b[0m\u001b[1;33m\u001b[0m\u001b[1;33m\u001b[0m\u001b[0m\n\u001b[0m\u001b[0;32m      5\u001b[0m     \u001b[0mg\u001b[0m \u001b[1;33m=\u001b[0m \u001b[0mDigraph\u001b[0m\u001b[1;33m(\u001b[0m\u001b[1;33m)\u001b[0m\u001b[1;33m\u001b[0m\u001b[1;33m\u001b[0m\u001b[0m\n\u001b[0;32m      6\u001b[0m     \u001b[1;32mfor\u001b[0m \u001b[0mn\u001b[0m \u001b[1;32min\u001b[0m \u001b[0mnodes\u001b[0m\u001b[1;33m:\u001b[0m\u001b[1;33m\u001b[0m\u001b[1;33m\u001b[0m\u001b[0m\n",
      "\u001b[1;31mNameError\u001b[0m: name 'Node' is not defined"
     ]
    }
   ],
   "source": [
    "test_SP()"
   ]
  },
  {
   "cell_type": "markdown",
   "metadata": {},
   "source": [
    "Notice that after exploring the path 0->1->2->3->4, \n",
    "\n",
    "* it backs up to node 3 and explores the path 0->1->2->3->5. \n",
    "\n",
    "After saving that as the shortest successful path so far, \n",
    "\n",
    "* it backs up to node 2 and explores the path 0->1->2->4. \n",
    "\n",
    "When it reaches the end of that path (`node 4`),\n",
    "\n",
    "* it backs up all the way to `node 0` and  investigates the path starting with the `edge from 0 to 2`. And so on."
   ]
  },
  {
   "cell_type": "markdown",
   "metadata": {
    "collapsed": true
   },
   "source": [
    "#### 2.5.2 Breadth-first search (BFS). \n",
    "\n",
    "There are other ways to traverse a graph than depth-first. Another common approach is <b>breadth-first search(BFS)广度优先搜索</b>. \n",
    "\n",
    "\n",
    "A breadth-first traversal first visits all children of the start node. If none of those is the end node, it visits all children of each of those nodes. And so on.\n",
    "\n",
    "* 广度优先搜索，首先访问开始节点的所有子节点。如果这些节点都不是结束节点，那么它将访问每个节点的所有子节点\n",
    "\n",
    "![](./img/ds/graphsearch.jpg)\n",
    "\n",
    "Unlike depth-first search, which is usually implemented recursively, breadth-first search is usually implemented <b>iteratively<b>. \n",
    "\n",
    "<b>BFS explores many paths simultaneously<b>, adding one node to each path on each iteration. Since it generates the paths in <b>ascending order of length</b> , <b>the first path found</b>  with the goal as its last node is guaranteed to </b> have a minimum number of edges</b> .\n",
    "\n",
    "\n",
    "\n",
    "The following code that uses a breadth-first search to find the shortest path in a directed graph.\n",
    "\n",
    "The variable <b>pathQueue</b> is used to store all of the paths currently being explored. \n",
    "\n",
    "Each iteration starts by <b>removing a path from pathQueue and assigning that path tmpPath</b>. If the last node in tmpPath is end, tmpPath is returned. Otherwise, a set of new paths is created, each of which extends tmpPath by adding one of its children. Each of these new paths is then added to pathQueue."
   ]
  },
  {
   "cell_type": "code",
   "execution_count": 10,
   "metadata": {},
   "outputs": [],
   "source": [
    "def BFS(graph, start, end, to_print = False):\n",
    "    \"\"\"Assumes graph is a Digraph; start and end are nodes\n",
    "       Returns a shortest path from start to end in graph\"\"\"\n",
    "    init_path = [start]\n",
    "    path_queue = [init_path]\n",
    "    while len(path_queue) != 0:\n",
    "        #Get and remove oldest element in path_queue\n",
    "        tmp_path = path_queue.pop(0)\n",
    "        if to_print:\n",
    "            print('Current BFS path:', print_path(tmp_path))\n",
    "        last_node = tmp_path[-1]\n",
    "        if last_node == end:\n",
    "            return tmp_path\n",
    "        for next_node in graph.children_of(last_node):\n",
    "            if next_node not in tmp_path:\n",
    "                new_path = tmp_path + [next_node]\n",
    "                path_queue.append(new_path)\n",
    "    return None"
   ]
  },
  {
   "cell_type": "code",
   "execution_count": 11,
   "metadata": {},
   "outputs": [],
   "source": [
    "# test_sp modifed as per code \n",
    "def test_SP():\n",
    "    nodes = []\n",
    "    for name in range(6): #Create 6 nodes\n",
    "        nodes.append(Node(str(name)))\n",
    "    g = Digraph()\n",
    "    for n in nodes:\n",
    "        g.add_node(n)\n",
    "    g.add_edge(Edge(nodes[0],nodes[1]))\n",
    "    g.add_edge(Edge(nodes[1],nodes[2]))\n",
    "    g.add_edge(Edge(nodes[2],nodes[3]))\n",
    "    g.add_edge(Edge(nodes[2],nodes[4]))\n",
    "    g.add_edge(Edge(nodes[3],nodes[4]))\n",
    "    g.add_edge(Edge(nodes[3],nodes[5]))\n",
    "    g.add_edge(Edge(nodes[0],nodes[2]))\n",
    "    g.add_edge(Edge(nodes[1],nodes[0]))\n",
    "    g.add_edge(Edge(nodes[3],nodes[1]))\n",
    "    g.add_edge(Edge(nodes[4],nodes[0]))\n",
    "    sp = shortest_path(g, nodes[0], nodes[5], to_print = True)\n",
    "    print('Shortest path found by DFS:', print_path(sp))\n",
    "    sp = BFS(g, nodes[0], nodes[5], to_print = True)\n",
    "    print('Shortest path found by BFS:', print_path(sp))"
   ]
  },
  {
   "cell_type": "code",
   "execution_count": 12,
   "metadata": {},
   "outputs": [
    {
     "name": "stdout",
     "output_type": "stream",
     "text": [
      "Current DFS path: 0\n",
      "Current DFS path: 0->1\n",
      "Current DFS path: 0->1->2\n",
      "Current DFS path: 0->1->2->3\n",
      "Current DFS path: 0->1->2->3->4\n",
      "Current DFS path: 0->1->2->3->5\n",
      "Current DFS path: 0->1->2->4\n",
      "Current DFS path: 0->2\n",
      "Current DFS path: 0->2->3\n",
      "Current DFS path: 0->2->3->4\n",
      "Current DFS path: 0->2->3->5\n",
      "Current DFS path: 0->2->3->1\n",
      "Current DFS path: 0->2->4\n",
      "Shortest path found by DFS: 0->2->3->5\n",
      "Current BFS path: 0\n",
      "Current BFS path: 0->1\n",
      "Current BFS path: 0->2\n",
      "Current BFS path: 0->1->2\n",
      "Current BFS path: 0->2->3\n",
      "Current BFS path: 0->2->4\n",
      "Current BFS path: 0->1->2->3\n",
      "Current BFS path: 0->1->2->4\n",
      "Current BFS path: 0->2->3->4\n",
      "Current BFS path: 0->2->3->5\n",
      "Shortest path found by BFS: 0->2->3->5\n"
     ]
    }
   ],
   "source": [
    "test_SP()"
   ]
  },
  {
   "cell_type": "markdown",
   "metadata": {},
   "source": [
    "Comfortingly, each algorithm found a path of the same length. In this case, they found the same path. However, if a graph contains more than one shortest path between a pair of nodes, DFS and BFS will not necessarily find the same\n",
    "shortest path.\n",
    "\n",
    "BFS is a convenient way to search for a path with the fewest edges because **the first time a path is found, it is guaranteed to be such a path**."
   ]
  },
  {
   "cell_type": "markdown",
   "metadata": {},
   "source": [
    "## Further Reading: NetworkX\n",
    "\n",
    "NetworkX is a Python language software package for the creation, manipulation, and study of the structure, dynamics, and functions of complex networks\n",
    "\n",
    "https://github.com/networkx/networkx\n",
    "\n",
    ">python -m pip install networkx\n",
    "\n",
    "###  Example:NetworkX"
   ]
  },
  {
   "cell_type": "code",
   "execution_count": 1,
   "metadata": {},
   "outputs": [
    {
     "output_type": "stream",
     "name": "stdout",
     "text": [
      "[0, 2, 3, 5]\n"
     ]
    }
   ],
   "source": [
    "# DiGraph\n",
    "import networkx as nx\n",
    "G=nx.DiGraph()\n",
    "G.add_nodes_from([0,1,2,3,4,5])\n",
    "G.add_edges_from([(0,1),(1,2),(2,3),(2,4),(3,4),(3,5),(0,2),(1,0),(3,1),(4,0)])  \n",
    "\n",
    "try:\n",
    "    path=nx.shortest_path(G,0,5)\n",
    "    print(path)\n",
    "except nx.NetworkXNoPath:\n",
    "    print('No path')"
   ]
  },
  {
   "cell_type": "code",
   "execution_count": 2,
   "metadata": {},
   "outputs": [
    {
     "output_type": "stream",
     "name": "stdout",
     "text": [
      "[0, 2, 3, 5]\n"
     ]
    }
   ],
   "source": [
    "# Graph\n",
    "import networkx as nx\n",
    "G=nx.Graph()\n",
    "G.add_nodes_from([0,1,2,3,4,5])\n",
    "G.add_edges_from([(0,1),(1,2),(2,3),(2,4),(3,4),(3,5),(0,2),(1,0),(3,1),(4,0)])  \n",
    "\n",
    "try:\n",
    "    path=nx.shortest_path(G,0,5)\n",
    "    print(path)\n",
    "except nx.NetworkXNoPath:\n",
    "    print('No path')"
   ]
  },
  {
   "cell_type": "code",
   "execution_count": 3,
   "metadata": {},
   "outputs": [
    {
     "output_type": "execute_result",
     "data": {
      "text/plain": [
       "1.0"
      ]
     },
     "metadata": {},
     "execution_count": 3
    }
   ],
   "source": [
    "import networkx as nx\n",
    "g = nx.Graph()\n",
    "g.add_edge('a', 'b', distance=0.3)\n",
    "g.add_edge('a', 'c', distance=0.7)\n",
    "nx.dijkstra_path_length(g, 'b', 'c', 'distance')\n"
   ]
  },
  {
   "cell_type": "markdown",
   "metadata": {
    "collapsed": true
   },
   "source": [
    "### Drawing graphs"
   ]
  },
  {
   "cell_type": "code",
   "execution_count": 4,
   "metadata": {},
   "outputs": [
    {
     "output_type": "display_data",
     "data": {
      "text/plain": "<Figure size 432x288 with 2 Axes>",
      "image/svg+xml": "<?xml version=\"1.0\" encoding=\"utf-8\" standalone=\"no\"?>\r\n<!DOCTYPE svg PUBLIC \"-//W3C//DTD SVG 1.1//EN\"\r\n  \"http://www.w3.org/Graphics/SVG/1.1/DTD/svg11.dtd\">\r\n<!-- Created with matplotlib (https://matplotlib.org/) -->\r\n<svg height=\"231.84pt\" version=\"1.1\" viewBox=\"0 0 349.2 231.84\" width=\"349.2pt\" xmlns=\"http://www.w3.org/2000/svg\" xmlns:xlink=\"http://www.w3.org/1999/xlink\">\r\n <metadata>\r\n  <rdf:RDF xmlns:cc=\"http://creativecommons.org/ns#\" xmlns:dc=\"http://purl.org/dc/elements/1.1/\" xmlns:rdf=\"http://www.w3.org/1999/02/22-rdf-syntax-ns#\">\r\n   <cc:Work>\r\n    <dc:type rdf:resource=\"http://purl.org/dc/dcmitype/StillImage\"/>\r\n    <dc:date>2021-04-26T16:12:42.667314</dc:date>\r\n    <dc:format>image/svg+xml</dc:format>\r\n    <dc:creator>\r\n     <cc:Agent>\r\n      <dc:title>Matplotlib v3.3.3, https://matplotlib.org/</dc:title>\r\n     </cc:Agent>\r\n    </dc:creator>\r\n   </cc:Work>\r\n  </rdf:RDF>\r\n </metadata>\r\n <defs>\r\n  <style type=\"text/css\">*{stroke-linecap:butt;stroke-linejoin:round;}</style>\r\n </defs>\r\n <g id=\"figure_1\">\r\n  <g id=\"patch_1\">\r\n   <path d=\"M 0 231.84 \r\nL 349.2 231.84 \r\nL 349.2 0 \r\nL 0 0 \r\nz\r\n\" style=\"fill:#ffffff;\"/>\r\n  </g>\r\n  <g id=\"axes_1\">\r\n   <g id=\"LineCollection_1\">\r\n    <path clip-path=\"url(#p663f8521ef)\" d=\"M 100.236459 125.535568 \r\nL 116.102384 214.756364 \r\n\" style=\"fill:none;stroke:#000000;\"/>\r\n    <path clip-path=\"url(#p663f8521ef)\" d=\"M 100.236459 125.535568 \r\nL 14.117355 131.095777 \r\n\" style=\"fill:none;stroke:#000000;\"/>\r\n    <path clip-path=\"url(#p663f8521ef)\" d=\"M 100.236459 125.535568 \r\nL 102.29651 17.083636 \r\n\" style=\"fill:none;stroke:#000000;\"/>\r\n    <path clip-path=\"url(#p663f8521ef)\" d=\"M 116.102384 214.756364 \r\nL 60.209366 123.560717 \r\n\" style=\"fill:none;stroke:#000000;\"/>\r\n    <path clip-path=\"url(#p663f8521ef)\" d=\"M 116.102384 214.756364 \r\nL 151.603675 165.328693 \r\n\" style=\"fill:none;stroke:#000000;\"/>\r\n    <path clip-path=\"url(#p663f8521ef)\" d=\"M 60.209366 123.560717 \r\nL 62.265948 34.770627 \r\n\" style=\"fill:none;stroke:#000000;\"/>\r\n    <path clip-path=\"url(#p663f8521ef)\" d=\"M 60.209366 123.560717 \r\nL 23.358863 68.86844 \r\n\" style=\"fill:none;stroke:#000000;\"/>\r\n    <path clip-path=\"url(#p663f8521ef)\" d=\"M 62.265948 34.770627 \r\nL 14.117355 131.095777 \r\n\" style=\"fill:none;stroke:#000000;\"/>\r\n    <path clip-path=\"url(#p663f8521ef)\" d=\"M 62.265948 34.770627 \r\nL 152.464463 45.796583 \r\n\" style=\"fill:none;stroke:#000000;\"/>\r\n    <path clip-path=\"url(#p663f8521ef)\" d=\"M 14.117355 131.095777 \r\nL 51.682413 187.909721 \r\n\" style=\"fill:none;stroke:#000000;\"/>\r\n    <path clip-path=\"url(#p663f8521ef)\" d=\"M 102.29651 17.083636 \r\nL 23.358863 68.86844 \r\n\" style=\"fill:none;stroke:#000000;\"/>\r\n    <path clip-path=\"url(#p663f8521ef)\" d=\"M 102.29651 17.083636 \r\nL 152.464463 45.796583 \r\n\" style=\"fill:none;stroke:#000000;\"/>\r\n    <path clip-path=\"url(#p663f8521ef)\" d=\"M 151.603675 165.328693 \r\nL 152.464463 45.796583 \r\n\" style=\"fill:none;stroke:#000000;\"/>\r\n    <path clip-path=\"url(#p663f8521ef)\" d=\"M 151.603675 165.328693 \r\nL 51.682413 187.909721 \r\n\" style=\"fill:none;stroke:#000000;\"/>\r\n    <path clip-path=\"url(#p663f8521ef)\" d=\"M 23.358863 68.86844 \r\nL 51.682413 187.909721 \r\n\" style=\"fill:none;stroke:#000000;\"/>\r\n   </g>\r\n   <g id=\"PathCollection_1\">\r\n    <defs>\r\n     <path d=\"M 0 8.660254 \r\nC 2.296726 8.660254 4.499694 7.747755 6.123724 6.123724 \r\nC 7.747755 4.499694 8.660254 2.296726 8.660254 0 \r\nC 8.660254 -2.296726 7.747755 -4.499694 6.123724 -6.123724 \r\nC 4.499694 -7.747755 2.296726 -8.660254 0 -8.660254 \r\nC -2.296726 -8.660254 -4.499694 -7.747755 -6.123724 -6.123724 \r\nC -7.747755 -4.499694 -8.660254 -2.296726 -8.660254 0 \r\nC -8.660254 2.296726 -7.747755 4.499694 -6.123724 6.123724 \r\nC -4.499694 7.747755 -2.296726 8.660254 0 8.660254 \r\nz\r\n\" id=\"m8bad96ac63\" style=\"stroke:#1f78b4;\"/>\r\n    </defs>\r\n    <g clip-path=\"url(#p663f8521ef)\">\r\n     <use style=\"fill:#1f78b4;stroke:#1f78b4;\" x=\"100.236459\" xlink:href=\"#m8bad96ac63\" y=\"125.535568\"/>\r\n     <use style=\"fill:#1f78b4;stroke:#1f78b4;\" x=\"116.102384\" xlink:href=\"#m8bad96ac63\" y=\"214.756364\"/>\r\n     <use style=\"fill:#1f78b4;stroke:#1f78b4;\" x=\"60.209366\" xlink:href=\"#m8bad96ac63\" y=\"123.560717\"/>\r\n     <use style=\"fill:#1f78b4;stroke:#1f78b4;\" x=\"62.265948\" xlink:href=\"#m8bad96ac63\" y=\"34.770627\"/>\r\n     <use style=\"fill:#1f78b4;stroke:#1f78b4;\" x=\"14.117355\" xlink:href=\"#m8bad96ac63\" y=\"131.095777\"/>\r\n     <use style=\"fill:#1f78b4;stroke:#1f78b4;\" x=\"102.29651\" xlink:href=\"#m8bad96ac63\" y=\"17.083636\"/>\r\n     <use style=\"fill:#1f78b4;stroke:#1f78b4;\" x=\"151.603675\" xlink:href=\"#m8bad96ac63\" y=\"165.328693\"/>\r\n     <use style=\"fill:#1f78b4;stroke:#1f78b4;\" x=\"23.358863\" xlink:href=\"#m8bad96ac63\" y=\"68.86844\"/>\r\n     <use style=\"fill:#1f78b4;stroke:#1f78b4;\" x=\"152.464463\" xlink:href=\"#m8bad96ac63\" y=\"45.796583\"/>\r\n     <use style=\"fill:#1f78b4;stroke:#1f78b4;\" x=\"51.682413\" xlink:href=\"#m8bad96ac63\" y=\"187.909721\"/>\r\n    </g>\r\n   </g>\r\n   <g id=\"text_1\">\r\n    <g clip-path=\"url(#p663f8521ef)\">\r\n     <!-- 0 -->\r\n     <g transform=\"translate(96.061771 128.846818)scale(0.12 -0.12)\">\r\n      <defs>\r\n       <path d=\"M 46 36.53125 \r\nQ 46 50.203125 43.4375 55.78125 \r\nQ 40.875 61.375 34.8125 61.375 \r\nQ 28.765625 61.375 26.171875 55.78125 \r\nQ 23.578125 50.203125 23.578125 36.53125 \r\nQ 23.578125 22.703125 26.171875 17.03125 \r\nQ 28.765625 11.375 34.8125 11.375 \r\nQ 40.828125 11.375 43.40625 17.03125 \r\nQ 46 22.703125 46 36.53125 \r\nz\r\nM 64.796875 36.375 \r\nQ 64.796875 18.265625 56.984375 8.421875 \r\nQ 49.171875 -1.421875 34.8125 -1.421875 \r\nQ 20.40625 -1.421875 12.59375 8.421875 \r\nQ 4.78125 18.265625 4.78125 36.375 \r\nQ 4.78125 54.546875 12.59375 64.375 \r\nQ 20.40625 74.21875 34.8125 74.21875 \r\nQ 49.171875 74.21875 56.984375 64.375 \r\nQ 64.796875 54.546875 64.796875 36.375 \r\nz\r\n\" id=\"DejaVuSans-Bold-48\"/>\r\n      </defs>\r\n      <use xlink:href=\"#DejaVuSans-Bold-48\"/>\r\n     </g>\r\n    </g>\r\n   </g>\r\n   <g id=\"text_2\">\r\n    <g clip-path=\"url(#p663f8521ef)\">\r\n     <!-- 1 -->\r\n     <g transform=\"translate(111.927696 218.067614)scale(0.12 -0.12)\">\r\n      <defs>\r\n       <path d=\"M 11.71875 12.984375 \r\nL 28.328125 12.984375 \r\nL 28.328125 60.109375 \r\nL 11.28125 56.59375 \r\nL 11.28125 69.390625 \r\nL 28.21875 72.90625 \r\nL 46.09375 72.90625 \r\nL 46.09375 12.984375 \r\nL 62.703125 12.984375 \r\nL 62.703125 0 \r\nL 11.71875 0 \r\nz\r\n\" id=\"DejaVuSans-Bold-49\"/>\r\n      </defs>\r\n      <use xlink:href=\"#DejaVuSans-Bold-49\"/>\r\n     </g>\r\n    </g>\r\n   </g>\r\n   <g id=\"text_3\">\r\n    <g clip-path=\"url(#p663f8521ef)\">\r\n     <!-- 2 -->\r\n     <g transform=\"translate(56.034679 126.871967)scale(0.12 -0.12)\">\r\n      <defs>\r\n       <path d=\"M 28.8125 13.8125 \r\nL 60.890625 13.8125 \r\nL 60.890625 0 \r\nL 7.90625 0 \r\nL 7.90625 13.8125 \r\nL 34.515625 37.3125 \r\nQ 38.09375 40.53125 39.796875 43.609375 \r\nQ 41.5 46.6875 41.5 50 \r\nQ 41.5 55.125 38.0625 58.25 \r\nQ 34.625 61.375 28.90625 61.375 \r\nQ 24.515625 61.375 19.28125 59.5 \r\nQ 14.0625 57.625 8.109375 53.90625 \r\nL 8.109375 69.921875 \r\nQ 14.453125 72.015625 20.65625 73.109375 \r\nQ 26.859375 74.21875 32.8125 74.21875 \r\nQ 45.90625 74.21875 53.15625 68.453125 \r\nQ 60.40625 62.703125 60.40625 52.390625 \r\nQ 60.40625 46.4375 57.328125 41.28125 \r\nQ 54.25 36.140625 44.390625 27.484375 \r\nz\r\n\" id=\"DejaVuSans-Bold-50\"/>\r\n      </defs>\r\n      <use xlink:href=\"#DejaVuSans-Bold-50\"/>\r\n     </g>\r\n    </g>\r\n   </g>\r\n   <g id=\"text_4\">\r\n    <g clip-path=\"url(#p663f8521ef)\">\r\n     <!-- 3 -->\r\n     <g transform=\"translate(58.09126 38.081877)scale(0.12 -0.12)\">\r\n      <defs>\r\n       <path d=\"M 46.578125 39.3125 \r\nQ 53.953125 37.40625 57.78125 32.6875 \r\nQ 61.625 27.984375 61.625 20.703125 \r\nQ 61.625 9.859375 53.3125 4.21875 \r\nQ 45.015625 -1.421875 29.109375 -1.421875 \r\nQ 23.484375 -1.421875 17.84375 -0.515625 \r\nQ 12.203125 0.390625 6.6875 2.203125 \r\nL 6.6875 16.703125 \r\nQ 11.96875 14.0625 17.15625 12.71875 \r\nQ 22.359375 11.375 27.390625 11.375 \r\nQ 34.859375 11.375 38.84375 13.953125 \r\nQ 42.828125 16.546875 42.828125 21.390625 \r\nQ 42.828125 26.375 38.75 28.9375 \r\nQ 34.671875 31.5 26.703125 31.5 \r\nL 19.1875 31.5 \r\nL 19.1875 43.609375 \r\nL 27.09375 43.609375 \r\nQ 34.1875 43.609375 37.640625 45.828125 \r\nQ 41.109375 48.046875 41.109375 52.59375 \r\nQ 41.109375 56.78125 37.734375 59.078125 \r\nQ 34.375 61.375 28.21875 61.375 \r\nQ 23.6875 61.375 19.046875 60.34375 \r\nQ 14.40625 59.328125 9.8125 57.328125 \r\nL 9.8125 71.09375 \r\nQ 15.375 72.65625 20.84375 73.4375 \r\nQ 26.3125 74.21875 31.59375 74.21875 \r\nQ 45.796875 74.21875 52.84375 69.546875 \r\nQ 59.90625 64.890625 59.90625 55.515625 \r\nQ 59.90625 49.125 56.53125 45.046875 \r\nQ 53.171875 40.96875 46.578125 39.3125 \r\nz\r\n\" id=\"DejaVuSans-Bold-51\"/>\r\n      </defs>\r\n      <use xlink:href=\"#DejaVuSans-Bold-51\"/>\r\n     </g>\r\n    </g>\r\n   </g>\r\n   <g id=\"text_5\">\r\n    <g clip-path=\"url(#p663f8521ef)\">\r\n     <!-- 4 -->\r\n     <g transform=\"translate(9.942668 134.407027)scale(0.12 -0.12)\">\r\n      <defs>\r\n       <path d=\"M 36.8125 57.421875 \r\nL 16.21875 26.90625 \r\nL 36.8125 26.90625 \r\nz\r\nM 33.6875 72.90625 \r\nL 54.59375 72.90625 \r\nL 54.59375 26.90625 \r\nL 64.984375 26.90625 \r\nL 64.984375 13.28125 \r\nL 54.59375 13.28125 \r\nL 54.59375 0 \r\nL 36.8125 0 \r\nL 36.8125 13.28125 \r\nL 4.5 13.28125 \r\nL 4.5 29.390625 \r\nz\r\n\" id=\"DejaVuSans-Bold-52\"/>\r\n      </defs>\r\n      <use xlink:href=\"#DejaVuSans-Bold-52\"/>\r\n     </g>\r\n    </g>\r\n   </g>\r\n   <g id=\"text_6\">\r\n    <g clip-path=\"url(#p663f8521ef)\">\r\n     <!-- 5 -->\r\n     <g transform=\"translate(98.121823 20.394886)scale(0.12 -0.12)\">\r\n      <defs>\r\n       <path d=\"M 10.59375 72.90625 \r\nL 57.328125 72.90625 \r\nL 57.328125 59.078125 \r\nL 25.59375 59.078125 \r\nL 25.59375 47.796875 \r\nQ 27.734375 48.390625 29.90625 48.703125 \r\nQ 32.078125 49.03125 34.421875 49.03125 \r\nQ 47.75 49.03125 55.171875 42.359375 \r\nQ 62.59375 35.6875 62.59375 23.78125 \r\nQ 62.59375 11.96875 54.515625 5.265625 \r\nQ 46.4375 -1.421875 32.078125 -1.421875 \r\nQ 25.875 -1.421875 19.796875 -0.21875 \r\nQ 13.71875 0.984375 7.71875 3.421875 \r\nL 7.71875 18.21875 \r\nQ 13.671875 14.796875 19.015625 13.078125 \r\nQ 24.359375 11.375 29.109375 11.375 \r\nQ 35.9375 11.375 39.859375 14.71875 \r\nQ 43.796875 18.0625 43.796875 23.78125 \r\nQ 43.796875 29.546875 39.859375 32.859375 \r\nQ 35.9375 36.1875 29.109375 36.1875 \r\nQ 25.046875 36.1875 20.453125 35.125 \r\nQ 15.875 34.078125 10.59375 31.890625 \r\nz\r\n\" id=\"DejaVuSans-Bold-53\"/>\r\n      </defs>\r\n      <use xlink:href=\"#DejaVuSans-Bold-53\"/>\r\n     </g>\r\n    </g>\r\n   </g>\r\n   <g id=\"text_7\">\r\n    <g clip-path=\"url(#p663f8521ef)\">\r\n     <!-- 6 -->\r\n     <g transform=\"translate(147.428988 168.639943)scale(0.12 -0.12)\">\r\n      <defs>\r\n       <path d=\"M 36.1875 35.984375 \r\nQ 31.25 35.984375 28.78125 32.78125 \r\nQ 26.3125 29.59375 26.3125 23.1875 \r\nQ 26.3125 16.796875 28.78125 13.59375 \r\nQ 31.25 10.40625 36.1875 10.40625 \r\nQ 41.15625 10.40625 43.625 13.59375 \r\nQ 46.09375 16.796875 46.09375 23.1875 \r\nQ 46.09375 29.59375 43.625 32.78125 \r\nQ 41.15625 35.984375 36.1875 35.984375 \r\nz\r\nM 59.421875 71 \r\nL 59.421875 57.515625 \r\nQ 54.78125 59.71875 50.671875 60.765625 \r\nQ 46.578125 61.8125 42.671875 61.8125 \r\nQ 34.28125 61.8125 29.59375 57.140625 \r\nQ 24.90625 52.484375 24.125 43.3125 \r\nQ 27.34375 45.703125 31.09375 46.890625 \r\nQ 34.859375 48.09375 39.3125 48.09375 \r\nQ 50.484375 48.09375 57.34375 41.546875 \r\nQ 64.203125 35.015625 64.203125 24.421875 \r\nQ 64.203125 12.703125 56.53125 5.640625 \r\nQ 48.875 -1.421875 35.984375 -1.421875 \r\nQ 21.78125 -1.421875 13.984375 8.171875 \r\nQ 6.203125 17.78125 6.203125 35.40625 \r\nQ 6.203125 53.46875 15.3125 63.796875 \r\nQ 24.421875 74.125 40.28125 74.125 \r\nQ 45.3125 74.125 50.046875 73.34375 \r\nQ 54.78125 72.5625 59.421875 71 \r\nz\r\n\" id=\"DejaVuSans-Bold-54\"/>\r\n      </defs>\r\n      <use xlink:href=\"#DejaVuSans-Bold-54\"/>\r\n     </g>\r\n    </g>\r\n   </g>\r\n   <g id=\"text_8\">\r\n    <g clip-path=\"url(#p663f8521ef)\">\r\n     <!-- 7 -->\r\n     <g transform=\"translate(19.184176 72.17969)scale(0.12 -0.12)\">\r\n      <defs>\r\n       <path d=\"M 6.6875 72.90625 \r\nL 61.625 72.90625 \r\nL 61.625 62.3125 \r\nL 33.203125 0 \r\nL 14.890625 0 \r\nL 41.796875 59.078125 \r\nL 6.6875 59.078125 \r\nz\r\n\" id=\"DejaVuSans-Bold-55\"/>\r\n      </defs>\r\n      <use xlink:href=\"#DejaVuSans-Bold-55\"/>\r\n     </g>\r\n    </g>\r\n   </g>\r\n   <g id=\"text_9\">\r\n    <g clip-path=\"url(#p663f8521ef)\">\r\n     <!-- 8 -->\r\n     <g transform=\"translate(148.289775 49.107833)scale(0.12 -0.12)\">\r\n      <defs>\r\n       <path d=\"M 34.8125 32.625 \r\nQ 29.546875 32.625 26.703125 29.734375 \r\nQ 23.875 26.859375 23.875 21.484375 \r\nQ 23.875 16.109375 26.703125 13.25 \r\nQ 29.546875 10.40625 34.8125 10.40625 \r\nQ 40.046875 10.40625 42.828125 13.25 \r\nQ 45.609375 16.109375 45.609375 21.484375 \r\nQ 45.609375 26.90625 42.828125 29.765625 \r\nQ 40.046875 32.625 34.8125 32.625 \r\nz\r\nM 21.09375 38.8125 \r\nQ 14.453125 40.828125 11.078125 44.96875 \r\nQ 7.71875 49.125 7.71875 55.328125 \r\nQ 7.71875 64.546875 14.59375 69.375 \r\nQ 21.484375 74.21875 34.8125 74.21875 \r\nQ 48.046875 74.21875 54.921875 69.40625 \r\nQ 61.8125 64.59375 61.8125 55.328125 \r\nQ 61.8125 49.125 58.421875 44.96875 \r\nQ 55.03125 40.828125 48.390625 38.8125 \r\nQ 55.8125 36.765625 59.59375 32.15625 \r\nQ 63.375 27.546875 63.375 20.515625 \r\nQ 63.375 9.671875 56.171875 4.125 \r\nQ 48.96875 -1.421875 34.8125 -1.421875 \r\nQ 20.609375 -1.421875 13.359375 4.125 \r\nQ 6.109375 9.671875 6.109375 20.515625 \r\nQ 6.109375 27.546875 9.890625 32.15625 \r\nQ 13.671875 36.765625 21.09375 38.8125 \r\nz\r\nM 25.484375 53.421875 \r\nQ 25.484375 49.078125 27.90625 46.734375 \r\nQ 30.328125 44.390625 34.8125 44.390625 \r\nQ 39.203125 44.390625 41.59375 46.734375 \r\nQ 44 49.078125 44 53.421875 \r\nQ 44 57.765625 41.59375 60.078125 \r\nQ 39.203125 62.40625 34.8125 62.40625 \r\nQ 30.328125 62.40625 27.90625 60.0625 \r\nQ 25.484375 57.71875 25.484375 53.421875 \r\nz\r\n\" id=\"DejaVuSans-Bold-56\"/>\r\n      </defs>\r\n      <use xlink:href=\"#DejaVuSans-Bold-56\"/>\r\n     </g>\r\n    </g>\r\n   </g>\r\n   <g id=\"text_10\">\r\n    <g clip-path=\"url(#p663f8521ef)\">\r\n     <!-- 9 -->\r\n     <g transform=\"translate(47.507725 191.220971)scale(0.12 -0.12)\">\r\n      <defs>\r\n       <path d=\"M 10.015625 1.609375 \r\nL 10.015625 15.09375 \r\nQ 14.5 12.984375 18.59375 11.9375 \r\nQ 22.703125 10.890625 26.703125 10.890625 \r\nQ 35.109375 10.890625 39.796875 15.546875 \r\nQ 44.484375 20.21875 45.3125 29.390625 \r\nQ 42 26.953125 38.234375 25.734375 \r\nQ 34.46875 24.515625 30.078125 24.515625 \r\nQ 18.890625 24.515625 12.03125 31.03125 \r\nQ 5.171875 37.546875 5.171875 48.1875 \r\nQ 5.171875 59.96875 12.8125 67.046875 \r\nQ 20.453125 74.125 33.296875 74.125 \r\nQ 47.5625 74.125 55.375 64.5 \r\nQ 63.1875 54.890625 63.1875 37.3125 \r\nQ 63.1875 19.234375 54.046875 8.90625 \r\nQ 44.921875 -1.421875 29 -1.421875 \r\nQ 23.875 -1.421875 19.1875 -0.65625 \r\nQ 14.5 0.09375 10.015625 1.609375 \r\nz\r\nM 33.203125 36.71875 \r\nQ 38.140625 36.71875 40.625 39.90625 \r\nQ 43.109375 43.109375 43.109375 49.515625 \r\nQ 43.109375 55.859375 40.625 59.078125 \r\nQ 38.140625 62.3125 33.203125 62.3125 \r\nQ 28.265625 62.3125 25.78125 59.078125 \r\nQ 23.296875 55.859375 23.296875 49.515625 \r\nQ 23.296875 43.109375 25.78125 39.90625 \r\nQ 28.265625 36.71875 33.203125 36.71875 \r\nz\r\n\" id=\"DejaVuSans-Bold-57\"/>\r\n      </defs>\r\n      <use xlink:href=\"#DejaVuSans-Bold-57\"/>\r\n     </g>\r\n    </g>\r\n   </g>\r\n  </g>\r\n  <g id=\"axes_2\">\r\n   <g id=\"LineCollection_2\">\r\n    <path clip-path=\"url(#pc9d991e82a)\" d=\"M 196.735537 115.920003 \r\nL 249.579415 214.756364 \r\n\" style=\"fill:none;stroke:#000000;\"/>\r\n    <path clip-path=\"url(#pc9d991e82a)\" d=\"M 196.735537 115.920003 \r\nL 249.579388 17.083636 \r\n\" style=\"fill:none;stroke:#000000;\"/>\r\n    <path clip-path=\"url(#pc9d991e82a)\" d=\"M 196.735537 115.920003 \r\nL 273.211925 63.958637 \r\n\" style=\"fill:none;stroke:#000000;\"/>\r\n    <path clip-path=\"url(#pc9d991e82a)\" d=\"M 249.579415 214.756364 \r\nL 335.082645 177.0042 \r\n\" style=\"fill:none;stroke:#000000;\"/>\r\n    <path clip-path=\"url(#pc9d991e82a)\" d=\"M 249.579415 214.756364 \r\nL 236.845239 99.863062 \r\n\" style=\"fill:none;stroke:#000000;\"/>\r\n    <path clip-path=\"url(#pc9d991e82a)\" d=\"M 335.082645 177.0042 \r\nL 335.082626 54.835756 \r\n\" style=\"fill:none;stroke:#000000;\"/>\r\n    <path clip-path=\"url(#pc9d991e82a)\" d=\"M 335.082645 177.0042 \r\nL 250.736087 157.957621 \r\n\" style=\"fill:none;stroke:#000000;\"/>\r\n    <path clip-path=\"url(#pc9d991e82a)\" d=\"M 335.082626 54.835756 \r\nL 249.579388 17.083636 \r\n\" style=\"fill:none;stroke:#000000;\"/>\r\n    <path clip-path=\"url(#pc9d991e82a)\" d=\"M 335.082626 54.835756 \r\nL 295.687783 157.957605 \r\n\" style=\"fill:none;stroke:#000000;\"/>\r\n    <path clip-path=\"url(#pc9d991e82a)\" d=\"M 249.579388 17.083636 \r\nL 309.578608 99.863037 \r\n\" style=\"fill:none;stroke:#000000;\"/>\r\n    <path clip-path=\"url(#pc9d991e82a)\" d=\"M 273.211925 63.958637 \r\nL 250.736087 157.957621 \r\n\" style=\"fill:none;stroke:#000000;\"/>\r\n    <path clip-path=\"url(#pc9d991e82a)\" d=\"M 273.211925 63.958637 \r\nL 295.687783 157.957605 \r\n\" style=\"fill:none;stroke:#000000;\"/>\r\n    <path clip-path=\"url(#pc9d991e82a)\" d=\"M 236.845239 99.863062 \r\nL 295.687783 157.957605 \r\n\" style=\"fill:none;stroke:#000000;\"/>\r\n    <path clip-path=\"url(#pc9d991e82a)\" d=\"M 236.845239 99.863062 \r\nL 309.578608 99.863037 \r\n\" style=\"fill:none;stroke:#000000;\"/>\r\n    <path clip-path=\"url(#pc9d991e82a)\" d=\"M 250.736087 157.957621 \r\nL 309.578608 99.863037 \r\n\" style=\"fill:none;stroke:#000000;\"/>\r\n   </g>\r\n   <g id=\"PathCollection_2\">\r\n    <g clip-path=\"url(#pc9d991e82a)\">\r\n     <use style=\"fill:#1f78b4;stroke:#1f78b4;\" x=\"196.735537\" xlink:href=\"#m8bad96ac63\" y=\"115.920003\"/>\r\n     <use style=\"fill:#1f78b4;stroke:#1f78b4;\" x=\"249.579415\" xlink:href=\"#m8bad96ac63\" y=\"214.756364\"/>\r\n     <use style=\"fill:#1f78b4;stroke:#1f78b4;\" x=\"335.082645\" xlink:href=\"#m8bad96ac63\" y=\"177.0042\"/>\r\n     <use style=\"fill:#1f78b4;stroke:#1f78b4;\" x=\"335.082626\" xlink:href=\"#m8bad96ac63\" y=\"54.835756\"/>\r\n     <use style=\"fill:#1f78b4;stroke:#1f78b4;\" x=\"249.579388\" xlink:href=\"#m8bad96ac63\" y=\"17.083636\"/>\r\n     <use style=\"fill:#1f78b4;stroke:#1f78b4;\" x=\"273.211925\" xlink:href=\"#m8bad96ac63\" y=\"63.958637\"/>\r\n     <use style=\"fill:#1f78b4;stroke:#1f78b4;\" x=\"236.845239\" xlink:href=\"#m8bad96ac63\" y=\"99.863062\"/>\r\n     <use style=\"fill:#1f78b4;stroke:#1f78b4;\" x=\"250.736087\" xlink:href=\"#m8bad96ac63\" y=\"157.957621\"/>\r\n     <use style=\"fill:#1f78b4;stroke:#1f78b4;\" x=\"295.687783\" xlink:href=\"#m8bad96ac63\" y=\"157.957605\"/>\r\n     <use style=\"fill:#1f78b4;stroke:#1f78b4;\" x=\"309.578608\" xlink:href=\"#m8bad96ac63\" y=\"99.863037\"/>\r\n    </g>\r\n   </g>\r\n   <g id=\"text_11\">\r\n    <g clip-path=\"url(#pc9d991e82a)\">\r\n     <!-- 0 -->\r\n     <g transform=\"translate(192.56085 119.231253)scale(0.12 -0.12)\">\r\n      <use xlink:href=\"#DejaVuSans-Bold-48\"/>\r\n     </g>\r\n    </g>\r\n   </g>\r\n   <g id=\"text_12\">\r\n    <g clip-path=\"url(#pc9d991e82a)\">\r\n     <!-- 1 -->\r\n     <g transform=\"translate(245.404728 218.067614)scale(0.12 -0.12)\">\r\n      <use xlink:href=\"#DejaVuSans-Bold-49\"/>\r\n     </g>\r\n    </g>\r\n   </g>\r\n   <g id=\"text_13\">\r\n    <g clip-path=\"url(#pc9d991e82a)\">\r\n     <!-- 2 -->\r\n     <g transform=\"translate(330.907957 180.31545)scale(0.12 -0.12)\">\r\n      <use xlink:href=\"#DejaVuSans-Bold-50\"/>\r\n     </g>\r\n    </g>\r\n   </g>\r\n   <g id=\"text_14\">\r\n    <g clip-path=\"url(#pc9d991e82a)\">\r\n     <!-- 3 -->\r\n     <g transform=\"translate(330.907939 58.147006)scale(0.12 -0.12)\">\r\n      <use xlink:href=\"#DejaVuSans-Bold-51\"/>\r\n     </g>\r\n    </g>\r\n   </g>\r\n   <g id=\"text_15\">\r\n    <g clip-path=\"url(#pc9d991e82a)\">\r\n     <!-- 4 -->\r\n     <g transform=\"translate(245.4047 20.394886)scale(0.12 -0.12)\">\r\n      <use xlink:href=\"#DejaVuSans-Bold-52\"/>\r\n     </g>\r\n    </g>\r\n   </g>\r\n   <g id=\"text_16\">\r\n    <g clip-path=\"url(#pc9d991e82a)\">\r\n     <!-- 5 -->\r\n     <g transform=\"translate(269.037238 67.269887)scale(0.12 -0.12)\">\r\n      <use xlink:href=\"#DejaVuSans-Bold-53\"/>\r\n     </g>\r\n    </g>\r\n   </g>\r\n   <g id=\"text_17\">\r\n    <g clip-path=\"url(#pc9d991e82a)\">\r\n     <!-- 6 -->\r\n     <g transform=\"translate(232.670552 103.174312)scale(0.12 -0.12)\">\r\n      <use xlink:href=\"#DejaVuSans-Bold-54\"/>\r\n     </g>\r\n    </g>\r\n   </g>\r\n   <g id=\"text_18\">\r\n    <g clip-path=\"url(#pc9d991e82a)\">\r\n     <!-- 7 -->\r\n     <g transform=\"translate(246.5614 161.268871)scale(0.12 -0.12)\">\r\n      <use xlink:href=\"#DejaVuSans-Bold-55\"/>\r\n     </g>\r\n    </g>\r\n   </g>\r\n   <g id=\"text_19\">\r\n    <g clip-path=\"url(#pc9d991e82a)\">\r\n     <!-- 8 -->\r\n     <g transform=\"translate(291.513095 161.268855)scale(0.12 -0.12)\">\r\n      <use xlink:href=\"#DejaVuSans-Bold-56\"/>\r\n     </g>\r\n    </g>\r\n   </g>\r\n   <g id=\"text_20\">\r\n    <g clip-path=\"url(#pc9d991e82a)\">\r\n     <!-- 9 -->\r\n     <g transform=\"translate(305.40392 103.174287)scale(0.12 -0.12)\">\r\n      <use xlink:href=\"#DejaVuSans-Bold-57\"/>\r\n     </g>\r\n    </g>\r\n   </g>\r\n  </g>\r\n </g>\r\n <defs>\r\n  <clipPath id=\"p663f8521ef\">\r\n   <rect height=\"217.44\" width=\"152.181818\" x=\"7.2\" y=\"7.2\"/>\r\n  </clipPath>\r\n  <clipPath id=\"pc9d991e82a\">\r\n   <rect height=\"217.44\" width=\"152.181818\" x=\"189.818182\" y=\"7.2\"/>\r\n  </clipPath>\r\n </defs>\r\n</svg>\r\n",
      "image/png": "[encoded data removed]"
     },
     "metadata": {}
    }
   ],
   "source": [
    "import matplotlib.pyplot as plt\n",
    "G = nx.petersen_graph()\n",
    "plt.subplot(121)\n",
    "#matplotlib.axes._subplots.AxesSubplot object at ...\n",
    "nx.draw(G, with_labels=True, font_weight='bold')\n",
    "plt.subplot(122)\n",
    "# matplotlib.axes._subplots.AxesSubplot object at ...\n",
    "nx.draw_shell(G, nlist=[range(5, 10), range(5)], with_labels=True, font_weight='bold')"
   ]
  },
  {
   "cell_type": "code",
   "execution_count": null,
   "metadata": {},
   "outputs": [],
   "source": []
  }
 ],
 "metadata": {
  "kernelspec": {
   "name": "python387jvsc74a57bd02db524e06e9f5f4ffedc911c917cb75e12dbc923643829bf417064a77eb14d37",
   "display_name": "Python 3.8.7 64-bit"
  },
  "language_info": {
   "codemirror_mode": {
    "name": "ipython",
    "version": 3
   },
   "file_extension": ".py",
   "mimetype": "text/x-python",
   "name": "python",
   "nbconvert_exporter": "python",
   "pygments_lexer": "ipython3",
   "version": "3.8.7"
  },
  "toc": {
   "base_numbering": 1,
   "nav_menu": {},
   "number_sections": false,
   "sideBar": true,
   "skip_h1_title": false,
   "title_cell": "Table of Contents",
   "title_sidebar": "Contents",
   "toc_cell": false,
   "toc_position": {
    "height": "calc(100% - 180px)",
    "left": "10px",
    "top": "150px",
    "width": "304.475px"
   },
   "toc_section_display": true,
   "toc_window_display": true
  }
 },
 "nbformat": 4,
 "nbformat_minor": 1
}