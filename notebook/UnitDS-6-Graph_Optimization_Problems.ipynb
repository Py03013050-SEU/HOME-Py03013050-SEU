{
 "cells": [
  {
   "cell_type": "markdown",
   "metadata": {},
   "source": [
    "## 2 Graph Optimization Problems"
   ]
  },
  {
   "cell_type": "markdown",
   "metadata": {},
   "source": [
    "### 2.1 Graph "
   ]
  },
  {
   "cell_type": "markdown",
   "metadata": {},
   "source": [
    "A <b>graph</b> is a set of objects called <b>nodes(节点) (or vertices(顶)</b> connected by a set of <b>edges（边) (or arcs(弧))</b>.\n",
    "\n",
    "If the edges are <b>unidirectional(单向的）</b> the graph is called <b>a directed graph or digraph</b>.\n",
    "\n",
    "In <b>a directed graph</b>, if there is an edge from $n1$ to $n2$, we refer to $n1$ as the <b>source or parent node</b> and $n2$ as <b>the destination or child node</b>.\n",
    "\n",
    "![](./img/ds/unanddirgraph.jpg)\n",
    "\n",
    "A graph is **complete** if there is an edge from each vertex to every other vertex. the Figure  shows the complete graph\n",
    "\n",
    "\n",
    "![](./img/ds/compgraph.jpg)\n",
    "\n",
    "---\n"
   ]
  },
  {
   "cell_type": "markdown",
   "metadata": {},
   "source": [
    "### 2.2 Representations of Graphs\n",
    "\n",
    "To represent graphs, you need a convenient way to store the vertices and the edges that connect them.\n",
    "\n",
    "The two commonly used representations of graphs are the **adjacency matrix(邻接矩阵)** and the **adjacency list(邻接表)**"
   ]
  },
  {
   "cell_type": "markdown",
   "metadata": {},
   "source": [
    "#### 2.2.1 Adjacency Matrix\n",
    "\n",
    "The adjacency matrix representation stores the information about a graph in a matrix or grid。 \n",
    "\n",
    "Recall that a matrix has two dimensions, and each cell is accessed at a given row and column position. \n",
    "\n",
    "Assume that a graph has $N$ vertices labeled $0, 1, . . ., N – 1$, and then the following applies:\n",
    "\n",
    "* The adjacency matrix for the graph is a grid $G$ with $N$ rows and $N$ columns.\n",
    "\n",
    "* The cell $G[i][j]$ contains $1$ if there is an edge from vertex $i$ to vertex $j$ in the graph. Otherwise,there is no edge, and that cell contains $0$.\n",
    "\n",
    "The Figure shows a directed graph and its adjacency matrix. Each node in the graph is labeled with a letter. Next to each node is its row number in the adjacency matrix.\n",
    "\n",
    "![dirgraph-am](./img/ds/dirgraph-am.jpg)\n",
    "\n",
    "If the graph is **undirected**, then `four more` cells are occupied by $1$ to account for the **bidirectional** character of each edge. see the Figure.\n",
    "\n",
    "\n",
    "![undirgraph-am](./img/ds/undirgraph-am.jpg)"
   ]
  },
  {
   "cell_type": "markdown",
   "metadata": {},
   "source": [
    "#### 2.2.2 Adjacency List\n",
    "\n",
    "The follow Figure shows a directed graph and its adjacency list representation.\n",
    "\n",
    "An adjacency list representation stores the information about a graph in an array of lists. \n",
    "\n",
    "You can use either linked or array-based list implementations. \n",
    "\n",
    "This example uses a linked list implementation.\n",
    "\n",
    "Assume that a graph has $N$ vertices labeled $0, 1, . . ., N – 1$, and then the following applies:\n",
    "\n",
    "* The adjacency list for the graph is an array of $N$ linked lists.\n",
    "\n",
    "* The $i$th linked list contains a node for vertex $j$ if and only if there is an edge from vertex $i$ to vertex $j$.\n",
    "\n",
    "![dirgraph-al](./img/ds/dirgraph-al.jpg)\n",
    "\n",
    "Note that the labels of the vertices are included in the nodes for each edge. Naturally, there would be twice as many nodes in an undirected graph,see the Figure.\n",
    "\n",
    "![undirgraph-al](./img/ds/undirgraph-al.jpg)\n",
    "\n",
    "When the edges have weights, the weights can also be included as a second data field in the nodes, as shown in the Figure\n",
    "\n",
    "![dirgraph-alw](./img/ds/dirgraph-alw.jpg)\n",
    "\n"
   ]
  },
  {
   "cell_type": "markdown",
   "metadata": {},
   "source": [
    "#### 2.2.3 Analysis of the Two Representations\n",
    "\n",
    "As far as running time is concerned, the behavior of two commonly used graph operations illustrates the difference in `computational efficiency` between the adjacency matrix and the adjacency list. \n",
    "\n",
    "##### Operations\n",
    "These operations are the following:\n",
    "\n",
    "* Determine whether or not there is an **edge** between two given vertices.\n",
    "\n",
    "* Find `all the vertices adjacent` to a given vertex\n",
    "\n",
    "**Determine whether or not there is an `edge` between two given vertices**\n",
    "\n",
    "* The `adjacency matrix` supports the first operation in **constant time** because it requires just an **index** operation into a two-dimensional array. \n",
    "\n",
    "* The linked `adjacency list` requires an index into `an array of linked lists` and then a search of a linked list for a target vertex. \n",
    "\n",
    "  * The running time is `linear with the length of this list`$O(N)$, on the average. \n",
    "\n",
    "**Find all the vertices adjacent  to a given vertex**\n",
    "\n",
    "The `adjacency list` tends to support finding all the vertices adjacent to a given vertex `more efficiently` than the adjacency matrix.\n",
    "\n",
    "* In the adjacency list, the set of adjacent vertices for a given vertex is simply the list for that vertex, which can be located with one **index** operation.\n",
    "\n",
    "The set of adjacent vertices for a given vertex in the `adjacency  matrix` must be computed by traversing that vertex’s row in the matrix and accumulating just those positions that contain $1$. \n",
    "\n",
    "The operation must always visit $N$ cells in the adjacency matrix, whereas the operation typically visits much fewer than $N$ nodes in an adjacency list. \n"
   ]
  },
  {
   "cell_type": "markdown",
   "metadata": {},
   "source": [
    "##### Memory\n",
    "As far as memory usage is concerned, \n",
    "\n",
    "the `adjacency matrix` always requires $N^2$ cells, no matter how many edges connect the vertices. Thus, the only case in which no cells are wasted is that of a complete graph.\n",
    "\n",
    "the `adjacency list` requires an array of $N$ pointers and a number of nodes equal to twice the number of edges in the case of an undirected graph. The number of edges typically is much smaller than $N^2$\n",
    "\n"
   ]
  },
  {
   "cell_type": "markdown",
   "metadata": {},
   "source": [
    "##### Comparison\n",
    "\n",
    "$V$: numbers of  vertexs\n",
    "\n",
    "$E$: numbers of edges\n"
   ]
  },
  {
   "cell_type": "markdown",
   "metadata": {},
   "source": [
    "![](./img/ds/graph-comp.png)"
   ]
  },
  {
   "cell_type": "markdown",
   "metadata": {
    "collapsed": true
   },
   "source": [
    "### 2.3 The Graph Class \n",
    "\n",
    "#### 2.3.1 The class :Node\n",
    "\n",
    "The follow code contains classes implementing abstract types corresponding to nodes, weighted edges, and edges."
   ]
  },
  {
   "cell_type": "code",
   "execution_count": 1,
   "metadata": {},
   "outputs": [],
   "source": [
    "class Node:\n",
    "    def __init__(self, name):\n",
    "        \"\"\"Assumes name is a string\"\"\"\n",
    "        self._name = name\n",
    "    def get_name(self):\n",
    "        return self._name\n",
    "    def __str__(self):\n",
    "        return self._name\n",
    "\n",
    "class Edge:\n",
    "    def __init__(self, src, dest):\n",
    "        \"\"\"Assumes src and dest are nodes\"\"\"\n",
    "        self._src = src\n",
    "        self._dest = dest\n",
    "    def get_source(self):\n",
    "        return self._src\n",
    "    def get_destination(self):\n",
    "        return self._dest\n",
    "    def __str__(self):\n",
    "        return self._src.get_name() + '->' + self._dest.get_name()\n",
    "\n",
    "class Weighted_edge(Edge):\n",
    "    def __init__(self, src, dest, weight = 1.0):\n",
    "        \"\"\"Assumes src and dest are nodes, weight a number\"\"\"\n",
    "        super().__init__(self, src, dest)\n",
    "        self._weight = weight\n",
    "    \n",
    "    def get_weight(self):\n",
    "        return self._weight\n",
    "    \n",
    "    def __str__(self):\n",
    "        return (f'{self._src.get_name()}->({self._weight})' +\n",
    "               f'{self._dest.get_name()}')"
   ]
  },
  {
   "cell_type": "markdown",
   "metadata": {},
   "source": [
    "####  2.3.2 The classes `Digraph` and `Graph`\n",
    "\n",
    "The codes contains implementations of the classes\n",
    "\n",
    "* <b>Digraph</b> \n",
    "\n",
    "* <b>Graph</b>\n",
    "\n",
    "In the code，we use <b style=\"color:blue\">the adjacency list</b> representation. \n",
    "\n",
    "Class <b>Digraph</b> has two instance variables:\n",
    "\n",
    "* <b>nodes</b> is a Python list containing the names of the nodes in the Digraph. The connectivity of the nodes is represented using an adjacency list implemented as a `dictionary`.\n",
    "\n",
    "* <b>edges</b> is `a dictionary` that maps each Node in the Digraph to a **list** of the children of that Node: **the adjacency list**\n",
    "```python\n",
    " self.edges[src].append(dest)\n",
    "```\n",
    "\n",
    "![](./img/ds/17.9.PNG) \n"
   ]
  },
  {
   "cell_type": "markdown",
   "metadata": {},
   "source": [
    "**The adjacency list representation:**\n",
    "\n",
    "```python\n",
    "{ 0: [1, 2], \n",
    "  1: [2,0],\n",
    "  2: [3,4],\n",
    "  3: [4,5,1],\n",
    "  4: [0],\n",
    "  5:[]\n",
    "```\n"
   ]
  },
  {
   "cell_type": "markdown",
   "metadata": {},
   "source": [
    "\n",
    "Class **Graph** is a subclass of `Digraph`. It inherits all of the methods of Digraph except `addEdge`, which it overrides.\n",
    "\n",
    "* The Class `Graph` stores each edge **twice**, once for each direction in the Digraph. This is not the most space-efficient way to implement Graph,but it has the virtue of simplicity"
   ]
  },
  {
   "cell_type": "code",
   "execution_count": 67,
   "metadata": {},
   "outputs": [],
   "source": [
    "class Digraph:\n",
    "    # nodes is a list of the nodes in the graph\n",
    "    # edges is a dict mapping each node to a list of its children\n",
    "    def __init__(self):\n",
    "        self._nodes = []\n",
    "        self._edges = {}\n",
    "        \n",
    "    def add_node(self, node):\n",
    "        if node in self._nodes:\n",
    "            raise ValueError('Duplicate node')\n",
    "        else:\n",
    "            self._nodes.append(node)\n",
    "            self._edges[node] = []\n",
    "    \n",
    "    def add_edge(self, edge):\n",
    "        src = edge.get_source()\n",
    "        dest = edge.get_destination()\n",
    "        if not (src in self._nodes and dest in self._nodes):\n",
    "            raise ValueError('Node not in graph')\n",
    "        self._edges[src].append(dest)\n",
    "    \n",
    "    def children_of(self, node):\n",
    "        return self._edges[node]\n",
    "    \n",
    "    def has_node(self, node):\n",
    "        return node in self._nodes\n",
    "    \n",
    "    def __str__(self):\n",
    "        result = ''\n",
    "        for src in self._nodes:\n",
    "            for dest in self._edges[src]:\n",
    "                result = (result + src.get_name() + '-> '\n",
    "                         + dest.get_name() + '\\n')\n",
    "        return result[:-1] #omit final newline\n",
    "    \n",
    "    def display(self): \n",
    "        result=\"Node -> Adjacency List:\\n\" \n",
    "        for src in self._nodes:\n",
    "            result +=\"Node {:2s}->[\".format(src.get_name())\n",
    "            for dest in self._edges[src]:\n",
    "                 result +=\"{:2s} \".format(dest.get_name())\n",
    "            result +=\"]\\n\"\n",
    "        return result \n",
    "\n",
    "class Graph(Digraph):\n",
    "    \n",
    "    def add_edge(self, edge):\n",
    "        super().add_edge(self, edge)\n",
    "        rev = Edge(edge.get_destination(), edge.get_source())\n",
    "        super().add_edge(self, rev)\n",
    " "
   ]
  },
  {
   "cell_type": "code",
   "execution_count": 73,
   "metadata": {},
   "outputs": [
    {
     "name": "stdout",
     "output_type": "stream",
     "text": [
      "Node -> Adjacency List:\n",
      "0 ->[1  2  ]\n",
      "1 ->[0  2  ]\n",
      "2 ->[3  4  ]\n",
      "3 ->[4  5  1  ]\n",
      "4 ->[0  ]\n",
      "5 ->[]\n",
      "\n"
     ]
    }
   ],
   "source": [
    "nodes = []\n",
    "for name in range(6): #Create 6 nodes\n",
    "    nodes.append(Node(str(name)))\n",
    "g = Digraph()\n",
    "for n in nodes:\n",
    "    g.add_node(n)\n",
    "\n",
    "g.add_edge(Edge(nodes[0],nodes[1]))\n",
    "g.add_edge(Edge(nodes[0],nodes[2]))\n",
    "\n",
    "g.add_edge(Edge(nodes[1],nodes[0]))\n",
    "g.add_edge(Edge(nodes[1],nodes[2]))\n",
    "\n",
    "g.add_edge(Edge(nodes[2],nodes[3]))\n",
    "g.add_edge(Edge(nodes[2],nodes[4]))\n",
    "\n",
    "g.add_edge(Edge(nodes[3],nodes[4]))\n",
    "g.add_edge(Edge(nodes[3],nodes[5]))\n",
    "g.add_edge(Edge(nodes[3],nodes[1]))\n",
    "g.add_edge(Edge(nodes[4],nodes[0]))\n",
    "print(g.display())"
   ]
  },
  {
   "cell_type": "markdown",
   "metadata": {},
   "source": [
    "### 2.4 Some Classic Graph-Theoretic Problems\n",
    "\n",
    "Some of the best-known graph optimization problems are:\n",
    "\n",
    "* <b>Shortest path</b>. For some pair of nodes, $𝑛1$ and $𝑛2$, find the shortest sequence of edges $<S_𝑛, D_𝑛>$ (source node and destination node), such that\n",
    "\n",
    "  * The source node in the first edge is $n1$\n",
    "  * The destination node of the last edge is $n2$\n",
    "  * For all edges $e1$ and $e2$ in the sequence, if $e2$ follows $e1$ in the sequence, the source node of $e2$ is the destination node of $e1$.\n",
    "\n",
    "\n",
    "* <b>Shortest weighted path</b>. This is like the shortest path, except instead of choos-ing the shortest sequence of edges that connects two nodes, we define some function on the weights of the edges in the sequence (e.g., their sum) and min-imize that value. This is the kind of problem solved by Google and Apple Maps when asked to compute driving directions between two points.\n",
    "\n",
    "    \n",
    "* <b>Min cut</b>. Given two sets of nodes in a graph, a <b>cut</b> is a set of edges whose removal <b>eliminates all paths</b> from each node in one set to each node in the other.The minimum cut is the smallest set of edges whose removal accomplishes this.\n",
    "\n",
    "\n",
    "* <b>Maximum clique</b>. A clique is a set of nodes such that there is an edge between each pair of nodes in the set. A maximum clique is a clique of the largest size in a graph. The minimum cut is the smallest set of edges whose removal ac-complishes this. \n"
   ]
  },
  {
   "cell_type": "markdown",
   "metadata": {
    "collapsed": true
   },
   "source": [
    "\n",
    "### 2.5 The Shortest Path\n",
    "\n",
    "It is often useful to determine **the shortest path** between two vertices in a graph. Consider an airline map, represented as a weighted directed graph whose weights represent miles between airports.\n",
    "\n",
    "The shortest path between two airports is the path that has the smallest sum of edge weights.\n",
    "\n",
    "The **single-source shortest-path problem** asks for a solution that contains the shortest paths from a given vertex to all the other vertices.\n",
    "\n",
    "\n",
    "#### 2.5.1 Depth-first search (DFS)\n",
    " \n",
    "The algorithm implemented by DFS is an example of a recursive <b>depth-first search (DFS)深度优先搜索 </b> algorithm.\n",
    "\n",
    "In general, a depth-first-search algorithm begins by choosing one child of the start node. It then chooses one child of that node and so on, going deeper and deeper until it either reaches the goal node or a node with no children. \n",
    "\n",
    "The search then <b>backtracks</b>, returning to <b>the most recent node with children that it has not yet visited</b>. \n",
    "\n",
    "\n",
    "* 深度优先搜索首先选择一个节点作为起始节点，然后，选择这个节点的一个子节点，继续这个过程，越走越深，直到到达目标节点或者没有子节点的节点，之后，开始回溯，退回到子节点没有被访问的最近节点\n",
    "\n",
    "<img src=\"./img/ds/dfs.jpg\"/> \n",
    "\n",
    "When all paths have been explored, it chooses the shortest path (assuming that there is one) from the start\n",
    "to the goal.\n",
    "\n",
    "The follow code is a bit more complicated than the algorithm we just described：\n",
    "\n",
    "1. It has to deal with the possibility of the graph containing **cycles**.\n",
    "\n",
    "2. It also avoids exploring paths longer than the shortest path that it has already found\n",
    "\n",
    "In the follow code DFS \n",
    "\n",
    "* The function `shortest_path` calls `DFS` with `path = []` (to indicate that the current path being explored is empty) and `shortest = None` (to indicate that no path from start to end has yet been found).\n",
    "\n",
    "*  DFS begins by choosing one child of `start`. It then chooses one child of that node and so on, until either it reaches the node end or a node with no unvisited children.\n",
    "  \n",
    "  * The check ```if node not in path``` prevents the program from getting caught in a cycle.\n",
    "\n",
    "  * The check ```if shortest == None or len(path) < len(shortest)``` is used to decide if it is possible that continuing to search this path might yield a shorter path than the best path found so far.\n",
    "  * If so, DFS is called recursively. If it finds a path to end that is no longer than the best found so far, `shortest` is updated.\n",
    "\n",
    "  * When the last node on `path` has no children left to visit, the program backtracks to the previously visited node and visits the next child of that node.\n",
    "\n",
    "* The function returns when all possibly shortest paths from start to end have been explored.\n"
   ]
  },
  {
   "cell_type": "code",
   "execution_count": 45,
   "metadata": {},
   "outputs": [],
   "source": [
    "def print_path(path):\n",
    "    \"\"\"Assumes path is a list of nodes\"\"\"\n",
    "    result = ''\n",
    "    for i in range(len(path)):\n",
    "        result = result + str(path[i])\n",
    "        if i != len(path) - 1:\n",
    "            result = result + '->'\n",
    "    return result \n",
    "\n",
    "def DFS(graph, start, end, path, shortest, to_print = False):\n",
    "    \"\"\"Assumes graph is a Digraph; start and end are nodes;\n",
    "          path and shortest are lists of nodes\n",
    "       Returns a shortest path from start to end in graph\"\"\"\n",
    "    path = path + [start]\n",
    "    \n",
    "    if to_print:\n",
    "        print('Current DFS path:', print_path(path))\n",
    "   \n",
    "    if start == end:\n",
    "        return path\n",
    "    for node in graph.children_of(start):\n",
    "        if node not in path: # avoid cycles\n",
    "            if shortest == None or len(path) < len(shortest):\n",
    "                new_path = DFS(graph, node, end, path, shortest,\n",
    "                              to_print)\n",
    "                if new_path != None:\n",
    "                    shortest = new_path\n",
    "    return shortest\n",
    "\n",
    "def shortest_path(graph, start, end, to_print = False):\n",
    "    \"\"\"Assumes graph is a Digraph; start and end are nodes\n",
    "       Returns a shortest path from start to end in graph\"\"\"\n",
    "    return DFS(graph, start, end, [], None, to_print)"
   ]
  },
  {
   "cell_type": "markdown",
   "metadata": {},
   "source": [
    "The function `test_SP` first builds a directed graph like the one pictured on the right, and then \n",
    "\n",
    "* searches for a shortest path between **node 0 and node 5**.\n",
    "\n",
    "<img src=\"./img/ds/17.9.PNG\"/> "
   ]
  },
  {
   "cell_type": "code",
   "execution_count": 69,
   "metadata": {},
   "outputs": [],
   "source": [
    "def test_SP():\n",
    "    nodes = []\n",
    "    for name in range(6): #Create 6 nodes\n",
    "        nodes.append(Node(str(name)))\n",
    "    g = Digraph()\n",
    "    for n in nodes:\n",
    "        g.add_node(n)\n",
    "    g.add_edge(Edge(nodes[0],nodes[1]))\n",
    "    g.add_edge(Edge(nodes[1],nodes[2]))\n",
    "    g.add_edge(Edge(nodes[2],nodes[3]))\n",
    "    g.add_edge(Edge(nodes[2],nodes[4]))\n",
    "    g.add_edge(Edge(nodes[3],nodes[4]))\n",
    "    g.add_edge(Edge(nodes[3],nodes[5]))\n",
    "    g.add_edge(Edge(nodes[0],nodes[2]))\n",
    "    g.add_edge(Edge(nodes[1],nodes[0]))\n",
    "    g.add_edge(Edge(nodes[3],nodes[1]))\n",
    "    g.add_edge(Edge(nodes[4],nodes[0]))\n",
    "    # searches for a shortest path between node 0 and node 5.\n",
    "    sp = shortest_path(g, nodes[0], nodes[5], to_print = True)\n",
    "    print('\\nShortest path found by DFS:', print_path(sp))"
   ]
  },
  {
   "cell_type": "code",
   "execution_count": 71,
   "metadata": {
    "scrolled": true
   },
   "outputs": [
    {
     "name": "stdout",
     "output_type": "stream",
     "text": [
      "Current DFS path: 0\n",
      "Current DFS path: 0->1\n",
      "Current DFS path: 0->1->2\n",
      "Current DFS path: 0->1->2->3\n",
      "Current DFS path: 0->1->2->3->4\n",
      "Current DFS path: 0->1->2->3->5\n",
      "Current DFS path: 0->1->2->4\n",
      "Current DFS path: 0->2\n",
      "Current DFS path: 0->2->3\n",
      "Current DFS path: 0->2->3->4\n",
      "Current DFS path: 0->2->3->5\n",
      "Current DFS path: 0->2->3->1\n",
      "Current DFS path: 0->2->4\n",
      "\n",
      "Shortest path found by DFS: 0->2->3->5\n"
     ]
    }
   ],
   "source": [
    "test_SP()"
   ]
  },
  {
   "cell_type": "markdown",
   "metadata": {},
   "source": [
    "Notice that after exploring the path `0->1->2->3->4` \n",
    "\n",
    "* it backs up to node 3 and explores the path `0->1->2->3->5` \n",
    "\n",
    "After saving that as the shortest successful path so far, \n",
    "\n",
    "* it backs up to node 2 and explores the path:`0->1->2->4`. \n",
    "\n",
    "When it reaches the end of that path (`node 4`),\n",
    "\n",
    "* it backs up all the way to `node 0` and  investigates the path starting with the `edge from 0 to 2`. And so on."
   ]
  },
  {
   "cell_type": "markdown",
   "metadata": {
    "collapsed": true
   },
   "source": [
    "#### 2.5.2 Breadth-first search (BFS). \n",
    "\n",
    "There are other ways to traverse a graph than depth-first. Another common approach is <b>breadth-first search(BFS)广度优先搜索</b>. \n",
    "\n",
    "\n",
    "A breadth-first traversal first visits all children of the start node. If none of those is the end node, it visits all children of each of those nodes. And so on.\n",
    "\n",
    "* 广度优先搜索，首先访问开始节点的所有子节点。如果这些节点都不是结束节点，那么它将访问每个节点的所有子节点\n",
    "\n",
    "![](./img/ds/graphsearch.jpg)\n",
    "\n",
    "Unlike depth-first search, which is usually implemented recursively, breadth-first search is usually implemented <b>iteratively<b>. \n",
    "\n",
    "<b>BFS explores many paths simultaneously<b>, adding one node to each path on each iteration. Since it generates the paths in <b>ascending order of length</b> , <b>the first path found</b>  with the goal as its last node is guaranteed to </b> have a minimum number of edges</b> .\n",
    "\n",
    "\n",
    "\n",
    "The following code that uses a breadth-first search to find the shortest path in a directed graph.\n",
    "\n",
    "The variable <b>pathQueue</b> is used to store all of the paths currently being explored. \n",
    "\n",
    "Each iteration starts by <b>removing a path from pathQueue and assigning that path tmpPath</b>. If the last node in tmpPath is end, tmpPath is returned. Otherwise, a set of new paths is created, each of which extends tmpPath by adding one of its children. Each of these new paths is then added to pathQueue."
   ]
  },
  {
   "cell_type": "code",
   "execution_count": 48,
   "metadata": {},
   "outputs": [],
   "source": [
    "def BFS(graph, start, end, to_print = False):\n",
    "    \"\"\"Assumes graph is a Digraph; start and end are nodes\n",
    "       Returns a shortest path from start to end in graph\"\"\"\n",
    "    init_path = [start]\n",
    "    path_queue = [init_path]\n",
    "    while len(path_queue) != 0:\n",
    "        #Get and remove oldest element in path_queue\n",
    "        tmp_path = path_queue.pop(0)\n",
    "        if to_print:\n",
    "            print('Current BFS path:', print_path(tmp_path))\n",
    "        last_node = tmp_path[-1]\n",
    "        if last_node == end:\n",
    "            return tmp_path\n",
    "        for next_node in graph.children_of(last_node):\n",
    "            if next_node not in tmp_path:\n",
    "                new_path = tmp_path + [next_node]\n",
    "                path_queue.append(new_path)\n",
    "    return None"
   ]
  },
  {
   "cell_type": "code",
   "execution_count": 54,
   "metadata": {},
   "outputs": [],
   "source": [
    "# test_sp modifed as per code \n",
    "def test_SP():\n",
    "    nodes = []\n",
    "    for name in range(6): #Create 6 nodes\n",
    "        nodes.append(Node(str(name)))\n",
    "    g = Digraph()\n",
    "    for n in nodes:\n",
    "        g.add_node(n)\n",
    "    g.add_edge(Edge(nodes[0],nodes[1]))\n",
    "    g.add_edge(Edge(nodes[1],nodes[2]))\n",
    "    g.add_edge(Edge(nodes[2],nodes[3]))\n",
    "    g.add_edge(Edge(nodes[2],nodes[4]))\n",
    "    g.add_edge(Edge(nodes[3],nodes[4]))\n",
    "    g.add_edge(Edge(nodes[3],nodes[5]))\n",
    "    g.add_edge(Edge(nodes[0],nodes[2]))\n",
    "    g.add_edge(Edge(nodes[1],nodes[0]))\n",
    "    g.add_edge(Edge(nodes[3],nodes[1]))\n",
    "    g.add_edge(Edge(nodes[4],nodes[0]))\n",
    "    sp = shortest_path(g, nodes[0], nodes[5], to_print = True)\n",
    "    print('\\tShortest path found by DFS:', print_path(sp))\n",
    "    #\n",
    "    print('\\nShortest path by BFS:') \n",
    "    sp = BFS(g, nodes[0], nodes[5], to_print = True)\n",
    "    print('\\tShortest path found by BFS:', print_path(sp))"
   ]
  },
  {
   "cell_type": "code",
   "execution_count": 55,
   "metadata": {},
   "outputs": [
    {
     "name": "stdout",
     "output_type": "stream",
     "text": [
      "Current DFS path: 0\n",
      "Current DFS path: 0->1\n",
      "Current DFS path: 0->1->2\n",
      "Current DFS path: 0->1->2->3\n",
      "Current DFS path: 0->1->2->3->4\n",
      "Current DFS path: 0->1->2->3->5\n",
      "Current DFS path: 0->1->2->4\n",
      "Current DFS path: 0->2\n",
      "Current DFS path: 0->2->3\n",
      "Current DFS path: 0->2->3->4\n",
      "Current DFS path: 0->2->3->5\n",
      "Current DFS path: 0->2->3->1\n",
      "Current DFS path: 0->2->4\n",
      "\tShortest path found by DFS: 0->2->3->5\n",
      "\n",
      "Shortest path by BFS:\n",
      "Current BFS path: 0\n",
      "Current BFS path: 0->1\n",
      "Current BFS path: 0->2\n",
      "Current BFS path: 0->1->2\n",
      "Current BFS path: 0->2->3\n",
      "Current BFS path: 0->2->4\n",
      "Current BFS path: 0->1->2->3\n",
      "Current BFS path: 0->1->2->4\n",
      "Current BFS path: 0->2->3->4\n",
      "Current BFS path: 0->2->3->5\n",
      "\tShortest path found by BFS: 0->2->3->5\n"
     ]
    }
   ],
   "source": [
    "test_SP()"
   ]
  },
  {
   "cell_type": "markdown",
   "metadata": {},
   "source": [
    "Comfortingly, each algorithm found a path of the same length. In this case, they found the same path. However, if a graph contains more than one shortest path between a pair of nodes, DFS and BFS will not necessarily find the same\n",
    "shortest path.\n",
    "\n",
    "BFS is a convenient way to search for a path with the fewest edges because **the first time a path is found, it is guaranteed to be such a path**."
   ]
  },
  {
   "cell_type": "markdown",
   "metadata": {},
   "source": [
    "## Further Reading: NetworkX\n",
    "\n",
    "NetworkX is a Python language software package for the creation, manipulation, and study of the structure, dynamics, and functions of complex networks\n",
    "\n",
    "https://github.com/networkx/networkx\n",
    "\n",
    ">python -m pip install networkx\n",
    "\n",
    "###  Example:NetworkX"
   ]
  },
  {
   "cell_type": "code",
   "execution_count": 75,
   "metadata": {},
   "outputs": [
    {
     "name": "stdout",
     "output_type": "stream",
     "text": [
      "[0, 2, 3, 5]\n"
     ]
    }
   ],
   "source": [
    "# DiGraph\n",
    "import networkx as nx\n",
    "G=nx.DiGraph()\n",
    "G.add_nodes_from([0,1,2,3,4,5])\n",
    "G.add_edges_from([(0,1),(1,2),(2,3),(2,4),(3,4),(3,5),(0,2),(1,0),(3,1),(4,0)])  \n",
    "\n",
    "try:\n",
    "    path=nx.shortest_path(G,0,5)\n",
    "    print(path)\n",
    "except nx.NetworkXNoPath:\n",
    "    print('No path')"
   ]
  },
  {
   "cell_type": "code",
   "execution_count": 76,
   "metadata": {},
   "outputs": [
    {
     "name": "stdout",
     "output_type": "stream",
     "text": [
      "[0, 2, 3, 5]\n"
     ]
    }
   ],
   "source": [
    "# Graph\n",
    "import networkx as nx\n",
    "G=nx.Graph()\n",
    "G.add_nodes_from([0,1,2,3,4,5])\n",
    "G.add_edges_from([(0,1),(1,2),(2,3),(2,4),(3,4),(3,5),(0,2),(1,0),(3,1),(4,0)])  \n",
    "\n",
    "try:\n",
    "    path=nx.shortest_path(G,0,5)\n",
    "    print(path)\n",
    "except nx.NetworkXNoPath:\n",
    "    print('No path')"
   ]
  },
  {
   "cell_type": "markdown",
   "metadata": {},
   "source": [
    "dijkstra_path_length"
   ]
  },
  {
   "cell_type": "code",
   "execution_count": 77,
   "metadata": {},
   "outputs": [
    {
     "data": {
      "text/plain": [
       "1.0"
      ]
     },
     "execution_count": 77,
     "metadata": {},
     "output_type": "execute_result"
    }
   ],
   "source": [
    "import networkx as nx\n",
    "g = nx.Graph()\n",
    "g.add_edge('a', 'b', distance=0.3)\n",
    "g.add_edge('a', 'c', distance=0.7)\n",
    "nx.dijkstra_path_length(g, 'b', 'c', 'distance')"
   ]
  },
  {
   "cell_type": "markdown",
   "metadata": {
    "collapsed": true
   },
   "source": [
    "### Drawing graphs"
   ]
  },
  {
   "cell_type": "code",
   "execution_count": 82,
   "metadata": {},
   "outputs": [
    {
     "data": {
      "image/png": "[encoded data removed]",
      "text/plain": [
       "<Figure size 432x288 with 1 Axes>"
      ]
     },
     "metadata": {},
     "output_type": "display_data"
    }
   ],
   "source": [
    "import matplotlib.pyplot as plt\n",
    "G = nx.petersen_graph()\n",
    "plt.subplot(121)\n",
    "#matplotlib.axes._subplots.AxesSubplot object at ...\n",
    "nx.draw(G, with_labels=True, font_weight='bold')\n"
   ]
  },
  {
   "cell_type": "code",
   "execution_count": null,
   "metadata": {},
   "outputs": [],
   "source": []
  }
 ],
 "metadata": {
  "kernelspec": {
   "display_name": "Python 3",
   "language": "python",
   "name": "python3"
  },
  "language_info": {
   "codemirror_mode": {
    "name": "ipython",
    "version": 3
   },
   "file_extension": ".py",
   "mimetype": "text/x-python",
   "name": "python",
   "nbconvert_exporter": "python",
   "pygments_lexer": "ipython3",
   "version": "3.8.7"
  },
  "latex_envs": {
   "LaTeX_envs_menu_present": true,
   "autoclose": false,
   "autocomplete": true,
   "bibliofile": "biblio.bib",
   "cite_by": "apalike",
   "current_citInitial": 1,
   "eqLabelWithNumbers": true,
   "eqNumInitial": 1,
   "hotkeys": {
    "equation": "Ctrl-E",
    "itemize": "Ctrl-I"
   },
   "labels_anchors": false,
   "latex_user_defs": false,
   "report_style_numbering": false,
   "user_envs_cfg": false
  },
  "toc": {
   "base_numbering": 1,
   "nav_menu": {},
   "number_sections": false,
   "sideBar": true,
   "skip_h1_title": false,
   "title_cell": "Table of Contents",
   "title_sidebar": "Contents",
   "toc_cell": false,
   "toc_position": {
    "height": "calc(100% - 180px)",
    "left": "10px",
    "top": "150px",
    "width": "304.475px"
   },
   "toc_section_display": true,
   "toc_window_display": true
  }
 },
 "nbformat": 4,
 "nbformat_minor": 1
}
