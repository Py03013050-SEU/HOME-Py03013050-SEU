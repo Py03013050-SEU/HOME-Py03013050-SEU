{
 "cells": [
  {
   "cell_type": "markdown",
   "metadata": {},
   "source": [
    "# The Rankine Cycle Analysis with Simple Abstraction\n",
    " \n",
    "Michael J. Moran, Howard N. Shapiro, Daisie D. Boettner, Margaret B. Bailey. Fundamentals of Engineering Thermodynamics(7th Edition). John Wiley & Sons, Inc. 2011\n",
    " \n",
    "**Chapter 8 : Vapor Power Systems:**\n",
    "\n",
    "**1** EXAMPLE 8.1 Analyzing an Ideal Rankine Cycle P438\n",
    "\n",
    "**2** EXAMPLE 8.2 Analyzing a Rankine Cycle with `Irreversibilities` P444\n",
    "\n",
    "1. Expression only\n",
    "\n",
    "2. The simple abstraction(List dict,function)\n",
    "\n",
    "3. The simple abstraction and data files\n",
    "\n",
    "4. T-s Diagram\n",
    "\n",
    "**Further Reading**\n",
    "\n",
    "* [PyRankine: The Simulator : General Abstraction and CSV Textual Model of Rankine Cycle](https://github.com/PySEE/PyRankine/tree/master/sim-fun)\n",
    "\n",
    "\n",
    "## 1  Example 8.1: Analyzing an Ideal Rankine Cycle \n",
    "\n",
    "Steam is the working fluid in an ideal Rankine cycle. \n",
    "\n",
    "Saturated vapor enters the turbine at 8.0 MPa and saturated liquid exits the condenser at a pressure of 0.008 MPa. \n",
    "\n",
    "The net power output of the cycle is 100 MW.\n",
    "\n",
    "![rankine81](./img/rankine81.jpg)\n",
    "\n",
    "* **Process 1–2:** **Isentropic expansion** of the working fluid through the turbine from saturated vapor at state 1 to the condenser pressure.\n",
    "* **Process 2–3:** Heat transfer from the working fluid as it flows at **constant pressure**\n",
    "through the condenser with saturated liquid at state 3.\n",
    "* **Process 3–4:** **Isentropic compression** in the pump to state 4 in the compressed liquid region.\n",
    "* **Process 4–1:** Heat transfer to the working fluid as it flows at **constant pressure** through the boiler to complete the cycle.\n",
    "\n",
    "Determine for the cycle\n",
    "\n",
    "(a) the thermal efficiency,\n",
    "\n",
    "(b) the back work ratio, \n",
    "\n",
    "(c) the mass flow rate of the steam,in kg/h,\n",
    "\n",
    "(d) the rate of heat transfer, Qin, into the working fluid as it passes through the boiler, in MW,\n",
    "\n",
    "(e) the rate of heat transfer, Qout, from the condensing steam as it passes through the condenser, in MW,\n",
    "\n",
    "(f) the mass flow rate of the condenser cooling water, in kg/h, if cooling water enters the condenser at 15°C and exits at 35°C.\n",
    "\n",
    "**Engineering Model:**\n",
    "\n",
    "* 1 Each **component** of the cycle is analyzed as a **control volume** at steady state. The control volumes are shown on the accompanying sketch by **dashed** lines.\n",
    "\n",
    "\n",
    "* 2 All processes of the working fluid are internally reversible.\n",
    "\n",
    "\n",
    "* 3 The turbine and pump operate adiabatically.\n",
    "\n",
    "\n",
    "* 4 Kinetic and potential energy effects are negligible.\n",
    "\n",
    "\n",
    "* 5 Saturated vapor enters the turbine. Condensate exits the condenser as saturated liquid."
   ]
  },
  {
   "cell_type": "markdown",
   "metadata": {},
   "source": [
    "### 1.1 Analysis States\n",
    "\n",
    "To begin the analysis, we fix each of **the principal states（1，2，3，4)** located on the accompanying schematic and **T–s** diagrams."
   ]
  },
  {
   "cell_type": "code",
   "execution_count": 1,
   "metadata": {},
   "outputs": [],
   "source": [
    "from seuif97 import *\n",
    "\n",
    "# State  1\n",
    "p1 = 8.0  # in MPa\n",
    "t1 = px2t(p1, 1)\n",
    "h1 = px2h(p1, 1)          # h1 = 2758.0    From table A-3  kj/kg\n",
    "s1 = px2s(p1, 1)          # s1 = 5.7432    From table A-3  kj/kg.k\n",
    "\n",
    "# State  2 ,p2=0.008\n",
    "p2 = 0.008\n",
    "s2 = s1\n",
    "t2 = ps2t(p2, s2)\n",
    "h2 = ps2h(p2, s2)\n",
    "\n",
    "# State 3 is saturated liquid at 0.008 MPa\n",
    "p3 = 0.008\n",
    "t3 = px2t(p3, 0)\n",
    "h3 = px2h(p3, 0)  # kj/kg\n",
    "s3 = px2s(p3, 0)\n",
    "\n",
    "# State 4\n",
    "p4 = p1\n",
    "s4 = s3\n",
    "h4 = ps2h(p4, s4)\n",
    "t4 = ps2h(p4, s4)"
   ]
  },
  {
   "cell_type": "markdown",
   "metadata": {},
   "source": [
    "### 1.2 Analysis Performance\n",
    "\n",
    "#### (a) The thermal efficiency\n",
    "\n",
    "The net power developed by the cycle is\n",
    "\n",
    "$\\dot{W}_{cycle}=\\dot{W}_t-\\dot{W}_p$\n",
    "\n",
    "Mass and energy rate balances for control volumes around the turbine and pump give,respectively\n",
    "\n",
    "$\\frac{\\dot{W}_t}{\\dot{m}}=h_1-h_2$  \n",
    "$\\frac{\\dot{W}_p}{\\dot{m}}=h_4-h_3$\n",
    "\n",
    "where $\\dot{m}$ is the mass flow rate of the steam. The rate of heat transfer to the working fluid as it passes through the boiler is determined using mass and energy rate balances as\n",
    "\n",
    "$\\frac{\\dot{Q}_{in}}{\\dot{m}}=h_1-h_4$\n",
    "\n",
    "The thermal efficiency is then\n",
    "\n",
    "\n",
    "$\\eta=\\frac{\\dot{W}_t-\\dot{W}_p}{\\dot{Q}_{in}}=\\frac{(h_1-h_2)-(h_4-h_3)}{h_1-h_4}$\n"
   ]
  },
  {
   "cell_type": "code",
   "execution_count": 2,
   "metadata": {},
   "outputs": [
    {
     "name": "stdout",
     "output_type": "stream",
     "text": [
      "(a) The thermal efficiency for the cycle is 37.08%\n"
     ]
    }
   ],
   "source": [
    "# Part(a)\n",
    "# Mass and energy rate balances for control volumes\n",
    "# around the turbine and pump give, respectively\n",
    "\n",
    "# turbine\n",
    "wtdot = h1 - h2\n",
    "# pump\n",
    "wpdot = h4-h3\n",
    "\n",
    "# The rate of heat transfer to the working fluid as it passes\n",
    "# through the boiler is determined using mass and energy rate balances as\n",
    "qindot = h1-h4\n",
    "\n",
    "# thermal efficiency\n",
    "eta = (wtdot-wpdot)/qindot\n",
    "\n",
    "# Result for part a\n",
    "print('(a) The thermal efficiency for the cycle is {:>.2f}%'.format(eta*100))"
   ]
  },
  {
   "cell_type": "markdown",
   "metadata": {},
   "source": [
    "#### (b) The back work ratio is\n",
    "\n",
    "$bwr=\\frac{\\dot{W}_p}{\\dot{W}_t}=\\frac{h_4-h_3}{h_1-h_2}$\n",
    "\n",
    "#### (c) The mass flow rate of the steam can be obtained from the expression for the net power given in part (a). Thus\n",
    "\n",
    "$\\dot{m}=\\frac{\\dot{W}_{cycle}}{(h_1-h_2)-(h_4-h_3)}$\n",
    "\n",
    "#### (d) With the expression for $\\dot{Q}_{in}$ in from part (a) and previously determined specific enthalpy values\n",
    "\n",
    "$\\dot{Q}_{in}=\\dot{m}(h_1-h_4)$\n",
    "\n",
    "#### (e) Mass and energy rate balances applied to a control volume enclosing the steam side of the condenser give\n",
    "\n",
    "$\\dot{Q}_{out}=\\dot{m}(h_2-h_3)$\n",
    "\n",
    "#### (f) Taking a control volume around the condenser, the mass and energy rate balances give at steady state\n",
    "\n",
    "\n",
    "$\\require{cancel} 0=\\dot{\\cancel{Q}}^{0}_{cv}-\\dot{\\cancel{w}}^{0}_{cv}+\\dot{m}_{cw}(h_{cw,in}-h_{cw,out})+\\dot{m}(h_2-h_3)$\n",
    "\n",
    "where $\\dot{m}_{cw}$ is the mass flow rate of the cooling water. Solving for $\\dot{m}_{cw}$\n",
    "\n",
    " $\\dot{m}_{cw}=\\frac{\\dot{m}(h_2-h_3)}{h_{cw,in}-h_{cw,out}}$"
   ]
  },
  {
   "cell_type": "code",
   "execution_count": 3,
   "metadata": {},
   "outputs": [
    {
     "name": "stdout",
     "output_type": "stream",
     "text": [
      "(b) The back work ratio is 0.835%\n",
      "(c) The mass flow rate of the steam is 376770.81kg/h.\n",
      "(d) The rate of heat transfer Qindot into the working fluid as it passes through the boiler is 269.68MW.\n",
      "(e) The rate of heat transfer Qoutdot from the condensing steam as it passes through the condenser is 169.68 MW.\n",
      "(f) The mass flow rate of the condenser cooling water is 7301242.75kg/h.\n"
     ]
    }
   ],
   "source": [
    "# Part(b)\n",
    "# back work ratio：bwr, defined as the ratio of the pump work input to the work\n",
    "# developed by the turbine.\n",
    "bwr = wpdot/wtdot                                    #\n",
    "\n",
    "# Result\n",
    "print('(b) The back work ratio is %.3f%%' % (bwr*100))\n",
    "\n",
    "# Part(c)\n",
    "Wcycledot = 100.00     # the net power output of the cycle in MW\n",
    "mdot = (Wcycledot*10**3*3600)/((h1-h2)-(h4-h3))       # mass flow rate in kg/h\n",
    "\n",
    "# Result\n",
    "print('(c) The mass flow rate of the steam is {:>.2f}kg/h.'.format(mdot))\n",
    "\n",
    "# Part(d)\n",
    "Qindot = mdot*qindot/(3600*10**3)                     # in MW\n",
    "\n",
    "# Results\n",
    "print('(d) The rate of heat transfer Qindot into the working fluid as '+\n",
    "       'it passes through the boiler is {:>.2f}MW.'.format(Qindot))\n",
    "\n",
    "# Part(e)\n",
    "Qoutdot = mdot*(h2-h3)/(3600*10**3)                   # in MW\n",
    "\n",
    "# Results\n",
    "print('(e) The rate of heat transfer Qoutdot from the condensing steam '+\n",
    "       'as it passes through the condenser is {:>.2f} MW.'.format(Qoutdot))\n",
    "\n",
    "# Part(f)\n",
    "\n",
    "# Given:\n",
    "tcwin = 15\n",
    "tcwout = 35\n",
    "\n",
    "hcwout = tx2h(tcwout, 0)   # From table A-2,hcwout= 146.68  kj/kg\n",
    "\n",
    "hcwin = tx2h(tcwin, 0)    # hcwin 62.99\n",
    "mcwdot = (Qoutdot*10**3*3600)/(hcwout-hcwin)          # in kg/h\n",
    "\n",
    "# Results\n",
    "print('(f) The mass flow rate of the condenser cooling water is {:>.2f}kg/h.'.format(mcwdot))"
   ]
  },
  {
   "cell_type": "markdown",
   "metadata": {},
   "source": [
    "## 2 Example8.2 :Analyzing a Rankine Cycle with Irreversibilities\n",
    "\n",
    "Reconsider the vapor power cycle of Example 8.1, but include in the analysis that the turbine and the pump each have an isentropic efficiency of 85%. \n",
    "\n",
    "Determine for the modified cycle \n",
    "\n",
    "* (a) the thermal efficiency, \n",
    "\n",
    "* (b) the mass flow rate of steam, in kg/h, for a net power output of 100MW, \n",
    "\n",
    "* (c) the rate of heat transfer $\\dot{Q}_{in}$ in into the working fluid as it passes through the boiler, in MW, \n",
    "\n",
    "* (d) the rate of heat transfer $\\dot{Q}_{out}$ out from the condensing steam as it passes through the condenser, in MW, \n",
    "\n",
    "* (e) the mass flow rate of the condenser cooling water, in kg/h, if cooling water enters the condenser at 15°C and exits as 35°C.\n",
    "\n",
    "**SOLUTION**\n",
    "\n",
    "**Known:** A vapor power cycle operates with steam as the working fluid. The turbine and pump both have efficiencies of 85%.\n",
    "\n",
    "**Find:** Determine the thermal efficiency, the mass flow rate, in kg/h, the rate of heat transfer to the working fluid as it passes through the boiler, in MW, the heat transfer rate from the condensing steam as it passes through thecondenser, in MW, and the mass flow rate of the condenser cooling water, in kg/h.\n",
    "\n",
    "**Engineering Model:**\n",
    "\n",
    "1. Each component of the cycle is analyzed as a control volume at steady state.\n",
    "\n",
    "2. The working fluid passes through the boiler and condenser at constant pressure. Saturated vapor enters the turbine. The condensate is saturated at the condenser exit.\n",
    "\n",
    "3. The turbine and pump each operate adiabatically with an efficiency of 85%.\n",
    "\n",
    "4. Kinetic and potential energy effects are negligible\n",
    "\n",
    "![rankine82](./img/rankine82.jpg)\n",
    "\n",
    "**Analysis:**\n",
    "\n",
    "Owing to the presence of `irreversibilities` during the expansion of the steam through the turbine, there is an increase in specific entropy from turbine inlet to exit, as shown on the accompanying T–s diagram. Similarly,there is an increase in specific entropy from pump inlet to exit.\n",
    "\n",
    "Let us begin the analysis by fixing each of the principal states.\n",
    "\n",
    "### 2.1 Analysis states"
   ]
  },
  {
   "cell_type": "code",
   "execution_count": 4,
   "metadata": {},
   "outputs": [],
   "source": [
    "from seuif97 import *\n",
    "\n",
    "# State  1\n",
    "p1 = 8.0               #  in MPa\n",
    "t1 =px2t(p1,1) \n",
    "h1=px2h(p1,1)          # h1 = 2758.0    From table A-3  kj/kg\n",
    "s1=px2s(p1,1)          # s1 = 5.7432    From table A-3  kj/kg.k\n",
    "\n",
    "# State  2 ,p2=0.008\n",
    "p2=0.008\n",
    "s2s = s1\n",
    "h2s=ps2h(p2,s2s)\n",
    "t2s=ps2t(p2,s2s)\n",
    "etat_t=0.85\n",
    "h2=h1-etat_t*(h1-h2s)\n",
    "t2 =ph2t(p2,h2)     \n",
    "s2 =ph2s(p2,h2)     \n",
    "\n",
    "# State 3 is saturated liquid at 0.008 MPa\n",
    "p3 = 0.008            \n",
    "t3=px2t(p3,0) \n",
    "h3 =px2h(p3,0)                                     #  kj/kg\n",
    "s3 =px2s(p3,0)     \n",
    "\n",
    "#State 4 \n",
    "p4 = p1\n",
    "s4s=s3\n",
    "h4s =ps2h(p4,s4s)\n",
    "t4s =ps2t(p4,s4s) \n",
    "etat_p=0.85\n",
    "h4=h3+(h4s-h3)/etat_p\n",
    "t4 =ph2t(p4,h4)     \n",
    "s4 =ph2s(p4,h4)"
   ]
  },
  {
   "cell_type": "markdown",
   "metadata": {},
   "source": [
    "### 2.2 Analysis Performance"
   ]
  },
  {
   "cell_type": "code",
   "execution_count": 5,
   "metadata": {},
   "outputs": [
    {
     "name": "stdout",
     "output_type": "stream",
     "text": [
      "Thermal efficiency is: 31.43%\n",
      "The mass flow rate of steam for a net power output of 100 MW is  444698.07kg/h\n",
      "The rate of heat transfer Qindot into the working fluid as it passes through the boiler is 318.12MW.\n",
      "The rate of heat transfer Qoutdot from the condensing steam as it passes through the condenser is 218.12MW\n",
      "The mass flow rate of the condenser cooling water, is 9385814.18kg/h\n"
     ]
    }
   ],
   "source": [
    "# Part(a)\n",
    "eta = ((h1-h2)-(h4-h3))/(h1-h4)             # thermal efficiency\n",
    "\n",
    "# Result for part (a)\n",
    "print('Thermal efficiency is: {:>.2f}%'.format(100*eta))\n",
    "\n",
    "# Part(b)\n",
    "Wcycledot = 100                             # given,a net power output of 100 MW\n",
    "# Calculations\n",
    "mdot = (Wcycledot*(10**3)*3600)/((h1-h2)-(h4-h3))\n",
    "# Result for part (b)\n",
    "print(\n",
    "    'The mass flow rate of steam for a net power output of 100 MW is  {:>.2f}kg/h'.format(mdot))\n",
    "\n",
    "# Part(c)\n",
    "Qindot = mdot*(h1-h4)/(3600 * 10**3)\n",
    "# Result\n",
    "print(\n",
    "    'The rate of heat transfer Qindot into the working fluid as it passes through the boiler is {:>.2f}MW.'.format(Qindot))\n",
    "\n",
    "# Part(d)\n",
    "Qoutdot = mdot*(h2-h3)/(3600*10**3)\n",
    "# Result\n",
    "print('The rate of heat transfer Qoutdot from the condensing steam as it passes through the condenser is {:>.2f}MW'.format(\n",
    "    Qoutdot))\n",
    "\n",
    "# Part(e)\n",
    "tcwin = 15\n",
    "tcwout = 35\n",
    "hcwout = tx2h(tcwout, 0)   # From table A-2,hcwout= 146.68  kj/kg\n",
    "hcwin = tx2h(tcwin, 0)    # hcwin 62.99\n",
    "mcwdot = (Qoutdot*10**3*3600)/(hcwout-hcwin)\n",
    "# Result\n",
    "print(\n",
    "    'The mass flow rate of the condenser cooling water, is {:>.2f}kg/h'.format(mcwdot))"
   ]
  },
  {
   "cell_type": "markdown",
   "metadata": {},
   "source": [
    "### 2.3 T-S Diagram"
   ]
  },
  {
   "cell_type": "code",
   "execution_count": 6,
   "metadata": {},
   "outputs": [
    {
     "data": {
      "image/png": "[encoded data removed]",
      "text/plain": [
       "<Figure size 720x360 with 1 Axes>"
      ]
     },
     "metadata": {
      "needs_background": "light"
     },
     "output_type": "display_data"
    }
   ],
   "source": [
    "%matplotlib inline\n",
    "\n",
    "import matplotlib.pyplot as plt\n",
    "import numpy as np\n",
    "\n",
    "plt.figure(figsize=(10.0,5.0))\n",
    "\n",
    "# saturated vapor and liquid entropy lines \n",
    "npt = np.linspace(10,647.096-273.15,200) # range of temperatures\n",
    "svap = [s for s in [tx2s(t, 1) for t in npt]]\n",
    "sliq = [s for s in [tx2s(t, 0) for t in npt]]\n",
    "plt.plot(svap, npt, 'r-')\n",
    "plt.plot(sliq, npt, 'b-')\n",
    "\n",
    "t=[t1,t2s,t3,t4s+15]\n",
    "s=[s1,s2s,s3,s4s]\n",
    "\n",
    "# point 5\n",
    "t.append(px2t(p1,0))\n",
    "s.append(px2s(p1,0))\n",
    "\n",
    "t.append(t1)\n",
    "s.append(s1)\n",
    "\n",
    "plt.plot(s, t, 'ko-')\n",
    "\n",
    "tb=[t1,t2]\n",
    "sb=[s1,s2]\n",
    "plt.plot(sb, tb, 'k--')\n",
    "tist=[t2,t2s]\n",
    "sist=[s2,s2s]\n",
    "plt.plot(sist, tist, 'ko-')\n",
    "\n",
    "sp=[s3,s3+0.3]\n",
    "tp=[t3,ps2t(p4,s3+0.3)+15]\n",
    "plt.plot(sp, tp, 'ko--')\n",
    "\n",
    "tist=[t2,t2s]\n",
    "sist=[s2,px2s(p2,1)]\n",
    "plt.plot(sist, tist, 'g-')\n",
    "\n",
    "plt.xlabel('Entropy (kJ/(kg K)')\n",
    "plt.ylabel('Temperature (°C)')\n",
    "plt.grid()\n",
    "plt.show()"
   ]
  },
  {
   "cell_type": "markdown",
   "metadata": {},
   "source": [
    "### 2.4 Discussion of Examples 8.1 and 8.2\n",
    "\n",
    "The effect of irreversibilities within the turbine and pump can be gauged by comparing values from Example 8.2 with their counterparts in Example 8.1. In Example 8.2,\n",
    "the turbine work per unit of mass is less and the pump work per unit of mass is greater than in Example 8.1, as can be confirmed using data from these examples.\n",
    "The thermal efficiency in Example 8.2 is less than in the ideal case of Example 8.1 \n",
    "\n",
    "For a fixed net power output (100 MW), the smaller net work output per unit mass in Example 8.2 dictates a greater mass flow rate of steam than in Example 8.1. The magnitude of the heat transfer to cooling water is also greater in Example 8.2 than in Example 8.1; consequently, a greater mass flow rate of cooling water is required."
   ]
  },
  {
   "cell_type": "markdown",
   "metadata": {},
   "source": [
    "***\n",
    "\n",
    "## 3 The Simple Abstraction of the Rankine Cycle \n",
    "\n",
    "* **List, Dict**：combination of objects(data) \n",
    "\n",
    "* **Function:**   abstraction of procedures\n",
    "\n",
    "The Rankine Cycle 8.1,8.2 :\n",
    "```\n",
    "   \n",
    "    ----Node 0---Turbine---Node 1----\n",
    "    |                               |\n",
    "  Boiler                          Condenser\n",
    "    |                               |\n",
    "    ----Node 3---Pump------Node 2---- \n",
    "```\n",
    "**Nodes(States), Devices, Rankine Cycle**\n",
    "\n",
    "### 3.1 Nodes\n",
    "\n",
    "**List, Dict**：combination of objects(data) \n",
    "\n",
    "**Function:**  abstraction of procedures\n",
    "\n",
    "```python\n",
    "Nodes = [{'p': 8.0,  't': None, 'x': 1.0,   'h': None, 's': None},\n",
    "         {'p': 0.008, 't': None, 'x': None, 'h': None, 's': None},\n",
    "         {'p': 0.008, 't': None, 'x': 0.0,  'h': None, 's': None},\n",
    "         {'p': 8.0,  't': None, 'x': 0.0,  'h': None, 's': None}\n",
    "        ]\n",
    "```"
   ]
  },
  {
   "cell_type": "code",
   "execution_count": 8,
   "metadata": {},
   "outputs": [],
   "source": [
    "from seuif97 import *\n",
    "\n",
    "# Analysis: fix each of the principal states   \n",
    "\n",
    "def FixeNodesState(Nodes):\n",
    "    for node in Nodes:     \n",
    "        if node['p'] != None and node['t'] != None:\n",
    "            node['h'] = pt2h(node['p'], node['t'])\n",
    "            node['s'] = pt2s(node['p'], node['t'])\n",
    "            node['x'] = pt2x(node['p'], node['t'])\n",
    "        elif node['p'] != None and node['x'] != None:\n",
    "            node['t'] = px2t(node['p'], node['x'])\n",
    "            node['h'] = px2h(node['p'], node['x'])\n",
    "            node['s'] = px2s(node['p'], node['x'])\n",
    "        elif node['t'] != None and  node['x'] != None:\n",
    "            node['p'] = tx2p(node['t'], node['x'])\n",
    "            node['h'] = tx2h(node['t'], node['x'])\n",
    "            node['s'] = tx2s(node['t'], node['x'])\n",
    "    \n",
    "    return Nodes"
   ]
  },
  {
   "cell_type": "markdown",
   "metadata": {},
   "source": [
    "**Using `pprint` to print**\n",
    "\n",
    "Data pretty printer https://docs.python.org/3/library/pprint.html"
   ]
  },
  {
   "cell_type": "code",
   "execution_count": 13,
   "metadata": {},
   "outputs": [
    {
     "name": "stdout",
     "output_type": "stream",
     "text": [
      "[   {   'h': 2758.611080680434,\n",
      "        'p': 8.0,\n",
      "        's': 5.744848808940075,\n",
      "        't': 295.00912125631703,\n",
      "        'x': 1.0},\n",
      "    {'h': None, 'p': 0.008, 's': None, 't': None, 'x': None},\n",
      "    {   'h': 173.8517685972624,\n",
      "        'p': 0.008,\n",
      "        's': 0.592531583591964,\n",
      "        't': 41.51005270424139,\n",
      "        'x': 0.0},\n",
      "    {   'h': 1317.0797887855729,\n",
      "        'p': 8.0,\n",
      "        's': 3.207651008044679,\n",
      "        't': 295.00912125631703,\n",
      "        'x': 0.0}]\n"
     ]
    }
   ],
   "source": [
    "import pprint\n",
    "\n",
    "Nodes = [{'p': 8.0,  't': None, 'x': 1.0,   'h': None, 's': None},\n",
    "         {'p': 0.008, 't': None, 'x': None, 'h': None, 's': None},\n",
    "         {'p': 0.008, 't': None, 'x': 0.0,  'h': None, 's': None},\n",
    "         {'p': 8.0,  't': None, 'x': 0.0,  'h': None, 's': None}\n",
    "        ]\n",
    "FixeNodesState(Nodes)\n",
    "\n",
    "pp = pprint.PrettyPrinter(indent=4)\n",
    "pp.pprint(Nodes)\n",
    "\n",
    "# print(Nodes)\n"
   ]
  },
  {
   "cell_type": "markdown",
   "metadata": {},
   "source": [
    "### 3.2 Devices\n",
    "\n",
    "**Dict**：combination of `objects`(data) \n",
    "\n",
    "**Function:**  abstraction of `procedures`\n",
    "\n",
    "The rankine cycle 8.1,8.2 :\n",
    "\n",
    "```\n",
    "   \n",
    "    ----Node 0---Turbine---Node 1----\n",
    "    |                               |\n",
    "  Boiler                          Condenser\n",
    "    |                               |\n",
    "    ----Node 3---Pump------Node 2---- \n",
    "```\n",
    "\n",
    "The Rankine Cycle 8.1 with Irreversibilities\n",
    "\n",
    "* Turbine and  Pump`{'eta':None}`\n",
    "\n",
    "```python\n",
    "Boiler = {'minID':None, 'moutID': None, 'qindot': None}\n",
    "Turbine = {'minID':None, 'moutID': None,'eta':None, 'wdot': None}\n",
    "Pump = {'minID': None, 'moutID': None, 'eta':None,'wdot': None}\n",
    "Condenser = {'minID':None, 'moutID': None, 'qoutdot': None}\n",
    "```\n"
   ]
  },
  {
   "cell_type": "code",
   "execution_count": 14,
   "metadata": {},
   "outputs": [],
   "source": [
    "from seuif97 import *\n",
    "\n",
    "def CalBoiler(Boiler, Nodes):\n",
    "    \"\"\"Boiler {'minID':None, 'moutID': None, 'qindot': None}\"\"\"\n",
    "    iID = Boiler['minID']\n",
    "    oID = Boiler['moutID']\n",
    "    # 2 Mass and Energy Balance\n",
    "    Boiler['qindot'] = Nodes[oID]['h']-Nodes[iID]['h']\n",
    "    \n",
    "def CalTurbine(Turbine, Nodes):\n",
    "    \"\"\"Turbine {'minID':None, 'moutID': None,'eta':None, 'wdot': None}\"\"\"\n",
    "    iID = Turbine['minID']\n",
    "    oID = Turbine['moutID']\n",
    "    # 1 States\n",
    "    sout_s = Nodes[iID]['s']\n",
    "    hout_s = ps2h(Nodes[oID]['p'], sout_s)\n",
    "    Nodes[oID]['h'] = Nodes[iID]['h'] - Turbine['eta']*(Nodes[iID]['h']-hout_s)\n",
    "    Nodes[oID]['t'] = ph2t(Nodes[oID]['p'], Nodes[oID]['h'])\n",
    "    Nodes[oID]['s'] = ph2s(Nodes[oID]['p'], Nodes[oID]['h'])\n",
    "    Nodes[oID]['x'] = ph2x(Nodes[oID]['p'], Nodes[oID]['h'])\n",
    "    # 2 Mass and Energy Balance\n",
    "    Turbine['wdot'] = Nodes[iID]['h'] - Nodes[oID]['h']\n",
    "\n",
    "def CalCondenser(Condenser, Nodes):\n",
    "    \"\"\"Condenser {'minID':None, 'moutID': None, 'qoutdot': None}\"\"\"\n",
    "    iID = Condenser['minID']\n",
    "    oID = Condenser['moutID']\n",
    "    # 2 Mass and Energy Balance\n",
    "    Condenser['qoutdot'] = Nodes[iID]['h']-Nodes[oID]['h']\n",
    "    \n",
    "def CalPump(Pump, Nodes):\n",
    "    \"\"\"Pump {'minID': None, 'moutID': None, 'eta':None,'wdot': None}\"\"\"\n",
    "    iID = Pump['minID']\n",
    "    oID = Pump['moutID']\n",
    "    # 1 States \n",
    "    sout_s = Nodes[iID]['s']\n",
    "    hout_s = ps2h(Nodes[oID]['p'], sout_s)\n",
    "    Nodes[oID]['h'] = Nodes[iID]['h']+(hout_s - Nodes[iID]['h'])/Pump['eta']\n",
    "    Nodes[oID]['t'] = ph2t(Nodes[oID]['p'], Nodes[oID]['h'])\n",
    "    Nodes[oID]['s'] = ph2s(Nodes[oID]['p'], Nodes[oID]['h'])\n",
    "    Nodes[oID]['x'] = ph2x(Nodes[oID]['p'], Nodes[oID]['h'])\n",
    "    # 2 Mass and Energy Balance \n",
    "    Pump['wdot'] = Nodes[oID]['h'] - Nodes[iID]['h']\n",
    "\n",
    "def CalDevices( Boiler,Turbine, Pump,Condenser, Nodes):\n",
    "    CalTurbine(Turbine, Nodes)\n",
    "    CalPump(Pump, Nodes)\n",
    "    CalBoiler(Boiler, Nodes)\n",
    "    CalCondenser(Condenser, Nodes)"
   ]
  },
  {
   "cell_type": "code",
   "execution_count": 10,
   "metadata": {},
   "outputs": [
    {
     "name": "stdout",
     "output_type": "stream",
     "text": [
      "Device of The Rankine Cycle\n",
      "{'minID': 3, 'moutID': 0, 'qindot': 2576.7132944132704}\n",
      "{'eta': 1.0, 'minID': 0, 'moutID': 1, 'wdot': 963.5340439432525}\n",
      "{'eta': 1.0, 'minID': 2, 'moutID': 3, 'wdot': 8.046017669901119}\n",
      "{'minID': 1, 'moutID': 2, 'qindot': None, 'qoutdot': 1621.225268139919}\n"
     ]
    }
   ],
   "source": [
    "import pprint\n",
    "\n",
    "Nodes = [{'p': 8.0,  't': None, 'x': 1.0,   'h': None, 's': None},\n",
    "         {'p': 0.008, 't': None, 'x': None, 'h': None, 's': None},\n",
    "         {'p': 0.008, 't': None, 'x': 0.0,  'h': None, 's': None},\n",
    "         {'p': 8.0,  't': None, 'x': 0.0,  'h': None, 's': None}\n",
    "         ]\n",
    "Nodes = FixeNodesState(Nodes)\n",
    "\n",
    "# The Rankine Cycle \n",
    "Boiler = {'minID': 3, 'moutID': 0, 'qindot': None}\n",
    "Turbine = {'minID': 0, 'moutID': 1, 'eta': 1.0, 'wdot': None}\n",
    "Pump = {'minID': 2, 'moutID': 3, 'eta': 1.0, 'wdot': None}\n",
    "#Turbine = {'minID': 0, 'moutID': 1, 'eta': 0.85, 'wdot': None}\n",
    "#Pump = {'minID': 2, 'moutID': 3, 'eta': 0.85, 'wdot': None}\n",
    "Condenser = {'minID': 1, 'moutID': 2, 'qindot': None}\n",
    "\n",
    "CalDevices(Boiler, Turbine, Pump, Condenser, Nodes)\n",
    "\n",
    "print(\"Device of The Rankine Cycle\")\n",
    "pp = pprint.PrettyPrinter(indent=4)\n",
    "pp.pprint(Boiler)\n",
    "pp.pprint(Turbine)\n",
    "pp.pprint(Pump)\n",
    "pp.pprint(Condenser)"
   ]
  },
  {
   "cell_type": "markdown",
   "metadata": {},
   "source": [
    "### 3.3 Performance\n",
    "\n",
    "**Dict**：combination of `objects(data)` \n",
    "\n",
    "**Function:**  abstraction of `procedures`\n",
    "\n",
    "```python\n",
    "Cycle={'Wdot':None,'eta':None,'bwr':None,'mdot':None,'Qindot':None,'Qoutdot':None,\n",
    "     'HeatRate':None,'SteamRate':None}\n",
    "\n",
    "```"
   ]
  },
  {
   "cell_type": "code",
   "execution_count": 15,
   "metadata": {},
   "outputs": [],
   "source": [
    "def CalCycle(Boiler, Turbine, Pump,Condenser, Cycle):\n",
    "    Cycle['eta'] = (Turbine['wdot'] - Pump['wdot']) / Boiler['qindot']\n",
    "    Cycle['bwr'] = Turbine['wdot']/Pump['wdot']\n",
    "    \n",
    "    Cycle['mdot'] = (Cycle['Wdot']*10**3*3600)/(Turbine['wdot'] -Pump['wdot'])       # mass flow rate in kg/h\n",
    "    \n",
    "    Boiler['Qindot'] = Cycle['mdot']*Boiler['qindot']/(3600*10**3)\n",
    "    Cycle['Qindot'] = Boiler['Qindot']\n",
    "    \n",
    "    Condenser['Qoutdot']= Cycle['mdot']* Condenser['qoutdot']/(3600*10**3)\n",
    "    Cycle['Qoutdot']=Condenser['Qoutdot']\n",
    "    \n",
    "    Cycle['HeatRate']=3600.0 /  Cycle['eta']\n",
    "    Cycle['SteamRate'] =  Cycle['HeatRate'] /  Boiler['qindot']  \n",
    "    "
   ]
  },
  {
   "cell_type": "markdown",
   "metadata": {},
   "source": [
    "### 3.4 Analysis the Cycle represented by Variable\n",
    "\n"
   ]
  },
  {
   "cell_type": "code",
   "execution_count": 16,
   "metadata": {},
   "outputs": [
    {
     "name": "stdout",
     "output_type": "stream",
     "text": [
      "The Rankine Cycle\n",
      "\tThe thermal efficiency for the cycle is 37.08%\n",
      "\tHeat Rate is 9708.30kJ/kWh.\n",
      "\tSteam Rate is 3.77kg/kWh\n",
      "\n",
      " Node \t  P(MPa)    T(°C)   H(kJ/kg)  S(kJ/kg.K)     X   \n",
      "  0    \t  8.000    295.01    2758.61     5.745       1.00\n",
      "  1    \t  0.008     41.51    1795.08     5.745       0.67\n",
      "  2    \t  0.008     41.51     173.85     0.593       0.00\n",
      "  3    \t  8.000     41.75     181.90     0.593       0.00\n",
      "{   'Qindot': 269.67510042623076,\n",
      "    'minID': 3,\n",
      "    'moutID': 0,\n",
      "    'qindot': 2576.7132944132704}\n",
      "{'eta': 1.0, 'minID': 0, 'moutID': 1, 'wdot': 963.5340439432525}\n",
      "{'eta': 1.0, 'minID': 2, 'moutID': 3, 'wdot': 8.046017669901119}\n",
      "{   'Qoutdot': 169.67510042623076,\n",
      "    'minID': 1,\n",
      "    'moutID': 2,\n",
      "    'qindot': None,\n",
      "    'qoutdot': 1621.225268139919}\n"
     ]
    }
   ],
   "source": [
    "import pprint\n",
    "\n",
    "# the begin of Variable of the Cycle\n",
    "Nodes = [{'p': 8.0,  't': None, 'x': 1.0,   'h': None, 's': None},\n",
    "         {'p': 0.008, 't': None, 'x': None, 'h': None, 's': None},\n",
    "         {'p': 0.008, 't': None, 'x': 0.0,  'h': None, 's': None},\n",
    "         {'p': 8.0,  't': None, 'x': 0.0,  'h': None, 's': None}\n",
    "         ]\n",
    "Nodes = FixeNodesState(Nodes)\n",
    "\n",
    "# The Devices of Rankine Cycle \n",
    "Boiler = {'minID': 3, 'moutID': 0, 'qindot': None}\n",
    "\n",
    "# Rankine 8.1\n",
    "Turbine = {'minID': 0, 'moutID': 1, 'eta': 1.0, 'wdot': None}\n",
    "Pump = {'minID': 2, 'moutID': 3, 'eta': 1.0, 'wdot': None}\n",
    "# Rankine 8.2\n",
    "#Turbine = {'minID': 0, 'moutID': 1, 'eta': 0.85, 'wdot': None}\n",
    "#Pump = {'minID': 2, 'moutID': 3, 'eta': 0.85, 'wdot': None}\n",
    "\n",
    "Condenser = {'minID': 1, 'moutID': 2, 'qindot': None}\n",
    "\n",
    "CalDevices(Boiler, Turbine, Pump, Condenser, Nodes)\n",
    "\n",
    "# Performance\n",
    "Cycle = {'Wdot': None, 'eta': None, 'bwr': None, 'mdot': None, 'Qindot': None, 'Qoutdot': None,\n",
    "         'HeatRate': None, 'SteamRate': None}\n",
    "Cycle = {'Wdot': 100.0}\n",
    "# the end of Variable of the Cycle\n",
    "\n",
    "CalCycle(Boiler, Turbine, Pump, Condenser, Cycle)\n",
    "\n",
    "print('The Rankine Cycle')\n",
    "\n",
    "print('\\tThe thermal efficiency for the cycle is {:>.2f}%'.format(\n",
    "    Cycle['eta']*100))\n",
    "print('\\tHeat Rate is {:>.2f}kJ/kWh.'.format(Cycle['HeatRate']))\n",
    "print('\\tSteam Rate is {:>.2f}kg/kWh'.format(Cycle['SteamRate']))\n",
    "\n",
    "print('\\n{:^6}\\t {:^8}  {:^7}  {:^7}  {:^7}  {:^7}'.format(\n",
    "    \"Node\", \"P(MPa)\", \"T(°C)\", \"H(kJ/kg)\", \"S(kJ/kg.K)\",\"X\"))\n",
    "for i, node in enumerate(Nodes):\n",
    "    print('{:^6d} \\t {:>6.3f} {:>9.2f} {:>10.2f} {:>9.3f} {:>10.2f}'.format(\n",
    "        i, node['p'],  node['t'],  node['h'],  node['s'],node['x']))\n",
    "\n",
    "pp = pprint.PrettyPrinter(indent=4)\n",
    "pp.pprint(Boiler)\n",
    "pp.pprint(Turbine)\n",
    "pp.pprint(Pump)\n",
    "pp.pprint(Condenser)"
   ]
  },
  {
   "cell_type": "markdown",
   "metadata": {},
   "source": [
    "### 3.5 T-s Diagram：The Pretty T-S Diagram with Chinese and annotate\n",
    "\n",
    "* set fonts\n",
    "  * Windows only for Chinese: FangSong or simfang\n",
    "\n",
    "* annotate"
   ]
  },
  {
   "cell_type": "code",
   "execution_count": 17,
   "metadata": {},
   "outputs": [
    {
     "data": {
      "image/png": "[encoded data removed]",
      "text/plain": [
       "<Figure size 720x360 with 1 Axes>"
      ]
     },
     "metadata": {
      "needs_background": "light"
     },
     "output_type": "display_data"
    }
   ],
   "source": [
    "%matplotlib inline\n",
    "\n",
    "from seuif97 import *\n",
    "from matplotlib import rcParams  # figure Params\n",
    "import matplotlib.pyplot as plt\n",
    "import numpy as np\n",
    "\n",
    "def PlotPrettyTSDiagram(Nodes):\n",
    "\n",
    "    # set fonts, Windows only for Chinese: FangSong or simfang\n",
    "    rcParams['font.family'] = 'sans-serif'\n",
    "    rcParams['font.sans-serif'] = ['FangSong']  # Chinese-FangSong\n",
    "\n",
    "    rcParams['axes.unicode_minus'] = False\n",
    "\n",
    "    # plt.figure()\n",
    "    plt.figure(figsize=(10.0, 5.0))  # figsize :set figure size\n",
    "\n",
    "    # saturated vapor and liquid entropy lines\n",
    "    npt = np.linspace(10, 647.096-273.15, 200)  # range of temperatures\n",
    "    # saturated vapor tx2s(t, 1),x=1\n",
    "    svap = [s for s in [tx2s(t, 1) for t in npt]]\n",
    "    # saturated liquid tx2s(t, 0),x=0\n",
    "    sliq = [s for s in [tx2s(t, 0) for t in npt]]\n",
    "    plt.plot(svap, npt, 'r-')\n",
    "    plt.plot(sliq, npt, 'b-')\n",
    "\n",
    "    t = [Nodes[i]['t'] for i in range(4)]\n",
    "    s = [Nodes[i]['s'] for i in range(4)]\n",
    "\n",
    "    # Nodes[3]['t'] is slightly larger than Nodes[2]['t'] , \n",
    "    #   points Nodes[2] and Nodes[3] are almost overlap if drawing with real values\n",
    "    # so,adjust the value of Nodes[3]['t'] ,\n",
    "    #   using the virtual values to eliminate drawing overlap\n",
    "    t[3] = Nodes[3]['t']+8\n",
    "\n",
    "    # point 5 sat water\n",
    "    t.append(px2t(Nodes[0]['p'], 0))\n",
    "    s.append(px2s(Nodes[0]['p'], 0))\n",
    "    \n",
    "     # point 6  sat steam\n",
    "    if (Nodes[0]['t']>px2t(Nodes[0]['p'],1)):\n",
    "        t.append(px2t(Nodes[0]['p'], 1))\n",
    "        s.append(px2s(Nodes[0]['p'], 1))\n",
    "\n",
    "    t.append(Nodes[0]['t'])\n",
    "    s.append(Nodes[0]['s'])\n",
    "\n",
    "    plt.plot(s, t, 'go-')\n",
    "\n",
    "    plt.annotate('1 ({:.2f},{:.2f})'.format(s[0], t[0]),\n",
    "                 xy=(s[0], t[0]), xycoords='data',\n",
    "                 xytext=(+2, +5), textcoords='offset points', fontsize=12)\n",
    "\n",
    "    plt.annotate('2 ({:.2f},{:.2f})'.format(s[1], t[1]),\n",
    "                 xy=(s[1], t[1]), xycoords='data',\n",
    "                 xytext=(+2, +5), textcoords='offset points', fontsize=12)\n",
    "\n",
    "    plt.annotate('3 ({:.2f},{:.2f})'.format(s[2], t[2]),\n",
    "                 xy=(s[2], t[2]), xycoords='data',\n",
    "                 xytext=(+10, +5), textcoords='offset points', fontsize=12)\n",
    "\n",
    "    plt.annotate('4 ({:.2f},{:.2f})'.format(s[3], t[3]-8),\n",
    "                 xy=(s[3], t[3]), xycoords='data',\n",
    "                 xytext=(+10, +25), textcoords='offset points', fontsize=12)\n",
    "\n",
    "    plt.annotate('5 ({:.2f},{:.2f})'.format(s[4], t[4]),\n",
    "                 xy=(s[4], t[4]), xycoords='data',\n",
    "                 xytext=(-60, +5), textcoords='offset points', fontsize=12)\n",
    "\n",
    "    tist = [t[1], t[1]]\n",
    "    sist = [s[1], px2s(Nodes[1]['p'], 1)]\n",
    "    plt.plot(sist, tist, 'y-')\n",
    "\n",
    "    #plt.title('T-s: Ideal Rankine Cycle')\n",
    "    plt.title('T-s: The Rankine Cycle 朗肯循环')\n",
    "\n",
    "    plt.xlabel('Entropy(kJ/(kg.K)')\n",
    "    plt.ylabel('Temperature(°C)')\n",
    "    plt.grid()  # Show Grid\n",
    "    # The output of a matplotlib plot as an SVG\n",
    "    # plt.savefig(\"./img/rankine81-TS.svg\")\n",
    "    plt.show()\n",
    "\n",
    "PlotPrettyTSDiagram(Nodes) "
   ]
  },
  {
   "cell_type": "markdown",
   "metadata": {},
   "source": [
    "#### Matplotlib rcParams\n",
    "\n",
    "The `matplotlibrc` file: same parameters are read at startup to configure matplotlib \n",
    "\n",
    "Dynamic rc settings\n",
    "\n",
    "You can also dynamically change the default `rc` settings in a python script or interactively from the python shell. All of the `rc` settings are stored in a dictionary-like variable called `matplotlib.rcParams`, which is global to the matplotlib package. rcParams can be modified directly\n",
    "\n",
    "##### The matplotlibrc file\n",
    "\n",
    "```\n",
    "%load c:\\\\python37\\\\lib\\\\site-packages\\\\matplotlib\\\\mpl-data\\\\matplotlibrc\n",
    "```"
   ]
  },
  {
   "cell_type": "code",
   "execution_count": 14,
   "metadata": {},
   "outputs": [
    {
     "data": {
      "text/plain": [
       "'c:\\\\python38\\\\lib\\\\site-packages\\\\matplotlib\\\\mpl-data\\\\matplotlibrc'"
      ]
     },
     "execution_count": 14,
     "metadata": {},
     "output_type": "execute_result"
    }
   ],
   "source": [
    "import matplotlib\n",
    "matplotlib.matplotlib_fname() #获取matplotlibrc文件名"
   ]
  },
  {
   "cell_type": "markdown",
   "metadata": {},
   "source": [
    "#### Annotation\n",
    "\n",
    "https://matplotlib.org/users/annotations.html\n",
    "    \n",
    "The uses of the basic `text()` will place text at an arbitrary position on the Axes. A common use case of text is to annotate some feature of the plot, and the `annotate()` method provides helper functionality to make annotations easy. \n",
    "\n",
    "In an annotation, there are two points to consider: the `location` being annotated represented by the argument `xy` and the `location` of the text `xytext`. Both of these arguments are `(x,y)` tuples.   "
   ]
  },
  {
   "cell_type": "markdown",
   "metadata": {},
   "source": [
    "## 4  Analysis  with The  Data Files\n",
    "\n",
    "### 4.1 Input Data files of Rankine Cycle\n",
    "\n",
    "```python\n",
    "import csv\n",
    "```\n",
    "\n",
    "#### 4.1.1   Input node data  file\n",
    "```python\n",
    "Nodes = [{'p': 8.0,  't': None, 'x': 1.0,   'h': None, 's': None},\n",
    "         {'p': 0.008, 't': None, 'x': None, 'h': None, 's': None},\n",
    "         {'p': 0.008, 't': None, 'x': 0.0,  'h': None, 's': None},\n",
    "         {'p': 8.0,  't': None, 'x': 0.0,  'h': None, 's': None}\n",
    "         ]\n",
    "```"
   ]
  },
  {
   "cell_type": "code",
   "execution_count": 18,
   "metadata": {},
   "outputs": [
    {
     "name": "stdout",
     "output_type": "stream",
     "text": [
      "Overwriting ./rankine/simple-rankine81-nds.csv\n"
     ]
    }
   ],
   "source": [
    "%%file ./rankine/simple-rankine81-nds.csv\n",
    "NAME,NID,p,t,x\n",
    "MainSteam,0,8,,1\n",
    "OutletHP,1,0.008,,\n",
    "CondenserWater,2,0.008,,0\n",
    "MainFeedWater,3,8,,"
   ]
  },
  {
   "cell_type": "code",
   "execution_count": 19,
   "metadata": {},
   "outputs": [
    {
     "name": "stdout",
     "output_type": "stream",
     "text": [
      "Overwriting ./rankine/simple-rankine82-nds.csv\n"
     ]
    }
   ],
   "source": [
    "%%file ./rankine/simple-rankine82-nds.csv\n",
    "NAME,NID,p,t,x\n",
    "MainSteam,0,8,,1\n",
    "OutletHP,1,0.008,,\n",
    "CondenserWater,2,0.008,,0\n",
    "MainFeedWater,3,8,,"
   ]
  },
  {
   "cell_type": "markdown",
   "metadata": {},
   "source": [
    "##### 4.1.1.1  Imporved the methods for Nodes data file"
   ]
  },
  {
   "cell_type": "code",
   "execution_count": 20,
   "metadata": {},
   "outputs": [],
   "source": [
    "import csv\n",
    "\n",
    "def read_nodesfile(filename):\n",
    "    \"\"\" nodes in the  csv file\"\"\"\n",
    "    \n",
    "    # readlines() to the end of file\n",
    "    countNodes = len(open(filename, 'r').readlines()) - 1\n",
    "    nodes = [{} for i in range(countNodes)]\n",
    "\n",
    "    #  re-open the file to its head \n",
    "    csvfile = open(filename, 'r')\n",
    "    reader = csv.DictReader(csvfile)\n",
    "    for line in reader:\n",
    "        i = int(line['NID'])\n",
    "        nodes[i]['NAME'] = line['NAME']\n",
    "        try:\n",
    "            nodes[i]['p'] = float(line['p'])\n",
    "        except:\n",
    "            nodes[i]['p'] = None\n",
    "        try:\n",
    "            nodes[i]['t'] = float(line['t'])\n",
    "        except:\n",
    "            nodes[i]['t'] = None\n",
    "        try:\n",
    "            nodes[i]['x'] = float(line['x'])\n",
    "        except:\n",
    "            nodes[i]['x'] = None\n",
    "\n",
    "        if line['p'] != '' and line['t'] != '':\n",
    "            nodes[i]['h'] = pt2h(nodes[i]['p'], nodes[i]['t'])\n",
    "            nodes[i]['s'] = pt2s(nodes[i]['p'], nodes[i]['t'])\n",
    "            nodes[i]['x'] = pt2x(nodes[i]['p'], nodes[i]['t'])\n",
    "        elif line['p'] != '' and line['x'] != '':\n",
    "            nodes[i]['t'] = px2t(nodes[i]['p'], nodes[i]['x'])\n",
    "            nodes[i]['h'] = px2h(nodes[i]['p'], nodes[i]['x'])\n",
    "            nodes[i]['s'] = px2s(nodes[i]['p'], nodes[i]['x'])\n",
    "        elif line['t'] != '' and line['x'] != '':\n",
    "            nodes[i]['p'] = tx2p(nodes[i]['t'], nodes[i]['x'])\n",
    "            nodes[i]['h'] = tx2h(nodes[i]['t'], nodes[i]['x'])\n",
    "            nodes[i]['s'] = tx2s(nodes[i]['t'], nodes[i]['x'])\n",
    "    csvfile.close()\n",
    "    return nodes"
   ]
  },
  {
   "cell_type": "markdown",
   "metadata": {},
   "source": [
    "##### 4.1.1.2 Test Read Node Files"
   ]
  },
  {
   "cell_type": "code",
   "execution_count": 21,
   "metadata": {},
   "outputs": [
    {
     "name": "stdout",
     "output_type": "stream",
     "text": [
      "[{'NAME': 'MainSteam', 'p': 8.0, 't': 295.00912125631703, 'x': 1.0, 'h': 2758.611080680434, 's': 5.744848808940075}, {'NAME': 'OutletHP', 'p': 0.008, 't': None, 'x': None}, {'NAME': 'CondenserWater', 'p': 0.008, 't': 41.51005270424139, 'x': 0.0, 'h': 173.8517685972624, 's': 0.592531583591964}, {'NAME': 'MainFeedWater', 'p': 8.0, 't': None, 'x': None}]\n",
      "[{'NAME': 'MainSteam', 'p': 8.0, 't': 295.00912125631703, 'x': 1.0, 'h': 2758.611080680434, 's': 5.744848808940075}, {'NAME': 'OutletHP', 'p': 0.008, 't': None, 'x': None}, {'NAME': 'CondenserWater', 'p': 0.008, 't': 41.51005270424139, 'x': 0.0, 'h': 173.8517685972624, 's': 0.592531583591964}, {'NAME': 'MainFeedWater', 'p': 8.0, 't': None, 'x': None}]\n"
     ]
    }
   ],
   "source": [
    "nds_filenames = ['./rankine/simple-rankine81-nds.csv','./rankine/simple-rankine82-nds.csv']\n",
    "\n",
    "for filename in nds_filenames:\n",
    "    Nodes = read_nodesfile(filename)\n",
    "    print(Nodes)    "
   ]
  },
  {
   "cell_type": "markdown",
   "metadata": {},
   "source": [
    "#### 4.1.2 The Devices  Text Data File\n",
    "\n",
    "The dictionary of device based on the text data file of the device\n",
    "\n",
    "```python\n",
    "Turbine = {'minID': 0, 'moutID': 1, 'eta': 0.85, 'wdot': None}\n",
    "Pump = {'minID': 2, 'moutID': 3, 'eta': 0.85, 'wdot': None}\n",
    "Boiler = {'minID': 3, 'moutID': 0, 'qindot': None}\n",
    "Condenser = {'minID': 1, 'moutID': 2, 'qoutdot': None}\n",
    "```"
   ]
  },
  {
   "cell_type": "code",
   "execution_count": 22,
   "metadata": {},
   "outputs": [
    {
     "name": "stdout",
     "output_type": "stream",
     "text": [
      "Overwriting ./rankine/simple-rankine81-des.csv\n"
     ]
    }
   ],
   "source": [
    "%%file ./rankine/simple-rankine81-des.csv\n",
    "NAME,TYPE,ETA,NODE0,NODE1\n",
    "Turbine,TURBINE-EX0,1.0,0,1\n",
    "Condenser,CONDENSER,,1,2\n",
    "Feedwater Pump,PUMP,1.0,2,3\n",
    "Boiler,BOILER,,3,0"
   ]
  },
  {
   "cell_type": "code",
   "execution_count": 23,
   "metadata": {},
   "outputs": [
    {
     "name": "stdout",
     "output_type": "stream",
     "text": [
      "Overwriting ./rankine/simple-rankine82-des.csv\n"
     ]
    }
   ],
   "source": [
    "%%file ./rankine/simple-rankine82-des.csv\n",
    "NAME,TYPE,ETA,NODE0,NODE1\n",
    "Turbine,TURBINE-EX0,0.85,0,1\n",
    "Condenser,CONDENSER,,1,2\n",
    "Feedwater Pump,PUMP,0.85,2,3\n",
    "Boiler,BOILER,,3,0"
   ]
  },
  {
   "cell_type": "markdown",
   "metadata": {},
   "source": [
    "##### 4.1.2.1 The method to read Devices Text Data File\n"
   ]
  },
  {
   "cell_type": "code",
   "execution_count": 24,
   "metadata": {},
   "outputs": [],
   "source": [
    "import copy\n",
    "\n",
    "compdict = {\n",
    "    \"BOILER\": {'minID': None, 'moutID': None, 'qindot': None},\n",
    "    \"TURBINE-EX0\": {'minID': None, 'moutID': None, 'eta': None, 'wdot': None},\n",
    "    \"PUMP\": {'minID': None, 'moutID': None, 'eta': None, 'wdot': None},\n",
    "    \"CONDENSER\": {'minID':None, 'moutID':None, 'qoutdot': None}\n",
    "}\n",
    "\n",
    "def read_DevicesFile(filename):\n",
    "    \"\"\" nodes in the  csv file\"\"\"\n",
    "    csvfile = open(filename, 'r')\n",
    "    reader = csv.DictReader(csvfile)\n",
    "    \n",
    "    for curdev in reader:\n",
    "        temp=copy.deepcopy(compdict)\n",
    "        curdict = temp[curdev['TYPE']]\n",
    "        curdict['minID'] = int(curdev['NODE0'])\n",
    "        curdict['moutID'] = int(curdev['NODE1'])\n",
    "        try:\n",
    "            curdict['eta'] = float(curdev['ETA'])\n",
    "        except:\n",
    "            pass\n",
    "        \n",
    "        if curdev['TYPE'] == \"BOILER\":\n",
    "            Boiler=curdict\n",
    "        if curdev['TYPE'] == \"TURBINE-EX0\":\n",
    "            Turbine=curdict\n",
    "        if curdev['TYPE'] == \"PUMP\":\n",
    "            Pump=curdict\n",
    "        if curdev['TYPE'] == \"CONDENSER\":\n",
    "            Condenser=curdict    \n",
    "    \n",
    "    csvfile.close()\n",
    "    return Boiler, Turbine, Pump,Condenser"
   ]
  },
  {
   "cell_type": "markdown",
   "metadata": {},
   "source": [
    "######  copy.deepcopy()\n",
    "\n",
    "**dict is mutable**\n",
    "\n",
    "A `deep copy` constructs a new **compound** object and then, recursively, inserts copies into it of the objects found in the original.\n",
    "\n",
    "```python\n",
    "temp=copy.deepcopy(compdict)\n",
    "```\n",
    "The next codes change the `temp`  of `compdict`'s deepcopy without changing the `compdict`.\n",
    "\n",
    "```python\n",
    "  temp=copy.deepcopy(compdict)\n",
    "  curdict = temp[curdev['TYPE']]\n",
    "  curdict['minID'] = int(curdev['NODE0'])\n",
    "```\n"
   ]
  },
  {
   "cell_type": "markdown",
   "metadata": {},
   "source": [
    "##### 4.1.2.2 Test Device Data File"
   ]
  },
  {
   "cell_type": "code",
   "execution_count": 25,
   "metadata": {},
   "outputs": [
    {
     "name": "stdout",
     "output_type": "stream",
     "text": [
      "{'minID': 3, 'moutID': 0, 'qindot': 2576.7132944132704}\n",
      "{'eta': 1.0, 'minID': 0, 'moutID': 1, 'wdot': 963.5340439432525}\n",
      "{'eta': 1.0, 'minID': 2, 'moutID': 3, 'wdot': 8.046017669901119}\n",
      "{'minID': 1, 'moutID': 2, 'qoutdot': 1621.225268139919}\n",
      "{'minID': 3, 'moutID': 0, 'qindot': 2575.2934089421115}\n",
      "{'eta': 0.85, 'minID': 0, 'moutID': 1, 'wdot': 819.0039373517648}\n",
      "{'eta': 0.85, 'minID': 2, 'moutID': 3, 'wdot': 9.465903141060153}\n",
      "{'minID': 1, 'moutID': 2, 'qoutdot': 1765.7553747314068}\n"
     ]
    }
   ],
   "source": [
    "import csv\n",
    "import pprint\n",
    "\n",
    "nds_filenames = ['./rankine/simple-rankine81-nds.csv','./rankine/simple-rankine82-nds.csv']\n",
    "des_filenames = ['./rankine/simple-rankine81-des.csv','./rankine/simple-rankine82-des.csv']\n",
    "\n",
    "# 1 nodes\n",
    "for i in range(len(nds_filenames)):\n",
    "    Nodes = read_nodesfile(nds_filenames[i])\n",
    "\n",
    "    Boiler,Turbine, Pump,Condenser=read_DevicesFile(des_filenames[i])\n",
    "    CalDevices(Boiler,Turbine, Pump, Condenser, Nodes)\n",
    "\n",
    "    pp = pprint.PrettyPrinter(indent=4)\n",
    "    pp.pprint(Boiler)\n",
    "    pp.pprint(Turbine)\n",
    "    pp.pprint(Pump)\n",
    "    pp.pprint(Condenser)"
   ]
  },
  {
   "cell_type": "markdown",
   "metadata": {},
   "source": [
    "### 4.2 Output Data File: Performance Data"
   ]
  },
  {
   "cell_type": "code",
   "execution_count": 26,
   "metadata": {},
   "outputs": [],
   "source": [
    "def OutFiles(Nodes,Cycle, outfilename=None):\n",
    "        savedStdout = sys.stdout\n",
    "        if (outfilename != None):\n",
    "            datafile = open(outfilename, 'w', encoding='utf-8')\n",
    "            sys.stdout = datafile\n",
    "        \n",
    "        # output Cycle \n",
    "        print('\\nThe thermal efficiency for the cycle is {:>.2f}%'.format(Cycle['eta']*100))\n",
    "        print('Heat Rate is {:>.2f}kJ/kWh.'.format(Cycle['HeatRate']))\n",
    "        print('Steam Rate is {:>.2f}kg/kWh'.format(Cycle['SteamRate']))\n",
    "\n",
    "        # output nodes\n",
    "        print('{:10}\\t {:^6}\\t {:^7}  {:^7}  {:^7}  {:^7}'.format(\n",
    "            \"NAME\", \"Node\", \"P(MPa)\", \"T(°C)\", \"H(kJ/kg)\", \"S(kJ/kg.K)\"))\n",
    "        i = 0\n",
    "        for node in Nodes:\n",
    "            print('{:10}\\t {:^6d}\\t {:>5.3f} {:>9.2f} {:>10.2f} {:>9.3f}'.format(\n",
    "                node['NAME'], i, node['p'],  node['t'],  node['h'],  node['s']))\n",
    "            i += 1\n",
    "        \n",
    "       \n",
    "        if (outfilename != None):\n",
    "            datafile.close()\n",
    "            sys.stdout = savedStdout"
   ]
  },
  {
   "cell_type": "markdown",
   "metadata": {},
   "source": [
    "#####  Redirect `stdout` to a file\n",
    "\n",
    "29.1. sys — System-specific parameters and functions\n",
    "\n",
    "https://docs.python.org/3/library/sys.html\n",
    "\n",
    "This module provides access to some variables used or maintained by the **interpreter** and to functions that interact strongly with the interpreter. It is always available.\n",
    "\n",
    "File objects used by the interpreter for **standard input, output and errors**:\n",
    "\n",
    "* sys.stdin ： is used for all interactive input (including calls to input());\n",
    "\n",
    "* `sys.stdout` ：is used for the output of `print()` and expression statements and for the prompts of input();\n",
    "\n",
    "* sys.stderr：The interpreter’s own prompts and its error messages go to stderr.\n",
    "\n",
    "These `streams` are regular **text** files like those returned by the `open()` function. \n",
    "\n",
    "```python\n",
    "import sys\n",
    "sys.stdout = open('Redirect2file.txt', 'w')\n",
    "print('redirect sys.stdout to file')\n",
    "```"
   ]
  },
  {
   "cell_type": "code",
   "execution_count": 24,
   "metadata": {},
   "outputs": [],
   "source": [
    "# redirect sys.stdout to file.txt\n",
    "import sys\n",
    "savedStdout=sys.stdout\n",
    "\n",
    "# 1 start redirection to file\n",
    "sys.stdout = open('./rankine/Redirect2file.txt', 'w', encoding='utf-8')\n",
    "print('redirect sys.stdout to file')\n",
    "\n",
    "# 2 end redirection \n",
    "sys.stdout =savedStdout"
   ]
  },
  {
   "cell_type": "code",
   "execution_count": 25,
   "metadata": {},
   "outputs": [
    {
     "name": "stdout",
     "output_type": "stream",
     "text": [
      "sys.stdout\n"
     ]
    }
   ],
   "source": [
    "# sys.stdout\n",
    "print('sys.stdout')"
   ]
  },
  {
   "cell_type": "code",
   "execution_count": 26,
   "metadata": {},
   "outputs": [],
   "source": [
    "# %load ./rankine/Redirect2file.txt"
   ]
  },
  {
   "cell_type": "markdown",
   "metadata": {},
   "source": [
    "### 4.3 Analysis Performance"
   ]
  },
  {
   "cell_type": "markdown",
   "metadata": {},
   "source": [
    "#### glob — Unix style pathname pattern expansion\n",
    "https://docs.python.org/3/library/glob.html\n",
    "\n",
    "TThe `glob` module finds all the pathnames matching a specified pattern according to the rules used by the Unix shell, although results are returned in `arbitrary order.` \n",
    "\n",
    "`No tilde(~)` expansion is done,\n",
    "\n",
    "but `*`, `?`, and character `ranges` expressed with `[]` will be correctly matched\n",
    "\n"
   ]
  },
  {
   "cell_type": "code",
   "execution_count": 27,
   "metadata": {},
   "outputs": [
    {
     "name": "stdout",
     "output_type": "stream",
     "text": [
      "['./rankine\\\\rankine81-nds.csv', './rankine\\\\rankine82-nds.csv']\n",
      "['./rankine\\\\rankine81-des.csv', './rankine\\\\rankine82-des.csv']\n",
      "['./rankine\\\\rankine81-nds.csv', './rankine\\\\rankine82-nds.csv']\n",
      "['./rankine\\\\rankine81-des.csv', './rankine\\\\rankine82-des.csv']\n"
     ]
    }
   ],
   "source": [
    "import glob\n",
    "\n",
    "nds_filesname = glob.glob(r'./rankine/rankine8[0-9]-nds.csv')\n",
    "dev_filesname = glob.glob(r'./rankine/rankine??-des.csv')\n",
    "\n",
    "for i in range(len(nds_filesname)):\n",
    "    print(nds_filesname)\n",
    "    print(dev_filesname)"
   ]
  },
  {
   "cell_type": "code",
   "execution_count": 28,
   "metadata": {},
   "outputs": [
    {
     "name": "stdout",
     "output_type": "stream",
     "text": [
      "\n",
      "The thermal efficiency for the cycle is 37.08%\n",
      "Heat Rate is 9708.30kJ/kWh.\n",
      "Steam Rate is 3.77kg/kWh\n",
      "NAME      \t  Node \t P(MPa)    T(°C)   H(kJ/kg)  S(kJ/kg.K)\n",
      "MainSteam \t   0   \t 8.000    295.01    2758.61     5.745\n",
      "OutletHP  \t   1   \t 0.008     41.51    1795.08     5.745\n",
      "CondenserWater\t   2   \t 0.008     41.51     173.85     0.593\n",
      "MainFeedWater\t   3   \t 8.000     41.75     181.90     0.593\n",
      "\n",
      "The thermal efficiency for the cycle is 31.43%\n",
      "Heat Rate is 11452.28kJ/kWh.\n",
      "Steam Rate is 4.45kg/kWh\n",
      "NAME      \t  Node \t P(MPa)    T(°C)   H(kJ/kg)  S(kJ/kg.K)\n",
      "MainSteam \t   0   \t 8.000    295.01    2758.61     5.745\n",
      "OutletHP  \t   1   \t 0.008     41.51    1939.61     6.204\n",
      "CondenserWater\t   2   \t 0.008     41.51     173.85     0.593\n",
      "MainFeedWater\t   3   \t 8.000     42.09     183.32     0.597\n"
     ]
    }
   ],
   "source": [
    "import glob\n",
    "nds_filesname_str='./rankine/rankine8[0-9]-nds.csv'\n",
    "nds_filesnames=glob.glob(nds_filesname_str)\n",
    "\n",
    "des_filesname_str='./rankine/rankine8?.des.csv'\n",
    "nds_filesnames=glob.glob(des_filesname_str)\n",
    "\n",
    "def AnalysisCycle(nds_filename,des_filename):\n",
    "    # 1 nodes\n",
    "    Nodes = read_nodesfile(nds_filename)\n",
    "    # 2 devices\n",
    "    Boiler,Turbine, Pump,Condenser=read_DevicesFile(des_filename)\n",
    "    CalDevices(Boiler,Turbine, Pump,Condenser,  Nodes)\n",
    "    # 3 cycle\n",
    "    Cycle = {'Wdot': 100.0}\n",
    "    CalCycle(Boiler,Turbine, Pump,Condenser,   Cycle)\n",
    "    # 4 output\n",
    "    cyclename = nds_filename[0:nds_filename.find('-nds')]\n",
    "    OutFiles(Nodes, Cycle)\n",
    "    OutFiles(Nodes, Cycle,cyclename +'-sp.txt')\n",
    "    return Nodes\n",
    "\n",
    "AllNodes=[]\n",
    "for i in range(len(nds_filenames)):\n",
    "    nodes=AnalysisCycle(nds_filenames[i],des_filenames[i])\n",
    "    AllNodes.append(nodes)\n"
   ]
  },
  {
   "cell_type": "code",
   "execution_count": 29,
   "metadata": {},
   "outputs": [
    {
     "name": "stdout",
     "output_type": "stream",
     "text": [
      " Volume in drive F is cmh\n",
      " Volume Serial Number is 9C25-3306\n",
      "\n",
      " Directory of F:\\SEU\\SEE\\PySEE\\home\\notebook\\rankine\n",
      "\n",
      "2020/03/11  23:52               455 rankine81-sp.txt\n",
      "2020/03/11  23:52               455 rankine82-sp.txt\n",
      "2020/04/13  17:15               405 simple-rankine81-sp.txt\n",
      "2020/04/13  17:15               406 simple-rankine82-sp.txt\n",
      "               4 File(s)          1,721 bytes\n",
      "               0 Dir(s)  92,567,461,888 bytes free\n"
     ]
    }
   ],
   "source": [
    "!dir .\\rankine\\*-sp.txt"
   ]
  },
  {
   "cell_type": "markdown",
   "metadata": {},
   "source": [
    "### 4.4 Plot T-s Diagram:The Pretty T-S Diagram with Chinese and annotate\n"
   ]
  },
  {
   "cell_type": "code",
   "execution_count": 30,
   "metadata": {},
   "outputs": [
    {
     "data": {
      "image/png": "[encoded data removed]",
      "text/plain": [
       "<Figure size 720x360 with 1 Axes>"
      ]
     },
     "metadata": {
      "needs_background": "light"
     },
     "output_type": "display_data"
    }
   ],
   "source": [
    "%matplotlib inline\n",
    "\n",
    "from seuif97 import *\n",
    "from matplotlib import rcParams  # figure Params\n",
    "import matplotlib.pyplot as plt\n",
    "import numpy as np\n",
    "\n",
    "\n",
    "def PlotPrettyTSDiagram(Nodes):\n",
    "\n",
    "    # set fonts, Windows only for Chinese: FangSong or simfang\n",
    "    rcParams['font.family'] = 'sans-serif'\n",
    "    rcParams['font.sans-serif'] = ['FangSong']  # Chinese-FangSong\n",
    "\n",
    "    rcParams['axes.unicode_minus'] = False\n",
    "\n",
    "    # plt.figure()\n",
    "    plt.figure(figsize=(10.0, 5.0))  # figsize :set figure size\n",
    "\n",
    "    # saturated vapor and liquid entropy lines\n",
    "    npt = np.linspace(10, 647.096-273.15, 200)  # range of temperatures\n",
    "    # saturated vapor tx2s(t, 1),x=1\n",
    "    svap = [s for s in [tx2s(t, 1) for t in npt]]\n",
    "    # saturated liquid tx2s(t, 0),x=0\n",
    "    sliq = [s for s in [tx2s(t, 0) for t in npt]]\n",
    "    plt.plot(svap, npt, 'r-')\n",
    "    plt.plot(sliq, npt, 'b-')\n",
    "\n",
    "    t = [Nodes[i]['t'] for i in range(4)]\n",
    "    s = [Nodes[i]['s'] for i in range(4)]\n",
    "\n",
    "    # Nodes[3]['t'] is slightly larger than Nodes[2]['t'] , \n",
    "    #   points Nodes[2] and Nodes[3] are almost overlap if drawing with real values\n",
    "    # so,adjust the value of Nodes[3]['t'] ,\n",
    "    #   using the virtual values to eliminate drawing overlap\n",
    "    t[3] = Nodes[3]['t']+8\n",
    "\n",
    "    # point 5 sat water\n",
    "    t.append(px2t(Nodes[0]['p'], 0))\n",
    "    s.append(px2s(Nodes[0]['p'], 0))\n",
    "    \n",
    "     # point 6  sat steam\n",
    "    if (Nodes[0]['t']>px2t(Nodes[0]['p'],1)):\n",
    "        t.append(px2t(Nodes[0]['p'], 1))\n",
    "        s.append(px2s(Nodes[0]['p'], 1))\n",
    "\n",
    "    t.append(Nodes[0]['t'])\n",
    "    s.append(Nodes[0]['s'])\n",
    "\n",
    "    plt.plot(s, t, 'go-')\n",
    "\n",
    "    plt.annotate('1 ({:.2f},{:.2f})'.format(s[0], t[0]),\n",
    "                 xy=(s[0], t[0]), xycoords='data',\n",
    "                 xytext=(+2, +5), textcoords='offset points', fontsize=12)\n",
    "\n",
    "    plt.annotate('2 ({:.2f},{:.2f})'.format(s[1], t[1]),\n",
    "                 xy=(s[1], t[1]), xycoords='data',\n",
    "                 xytext=(+2, +5), textcoords='offset points', fontsize=12)\n",
    "\n",
    "    plt.annotate('3 ({:.2f},{:.2f})'.format(s[2], t[2]),\n",
    "                 xy=(s[2], t[2]), xycoords='data',\n",
    "                 xytext=(+10, +5), textcoords='offset points', fontsize=12)\n",
    "\n",
    "    plt.annotate('4 ({:.2f},{:.2f})'.format(s[3], t[3]-8),\n",
    "                 xy=(s[3], t[3]), xycoords='data',\n",
    "                 xytext=(+10, +25), textcoords='offset points', fontsize=12)\n",
    "\n",
    "    plt.annotate('5 ({:.2f},{:.2f})'.format(s[4], t[4]),\n",
    "                 xy=(s[4], t[4]), xycoords='data',\n",
    "                 xytext=(-60, +5), textcoords='offset points', fontsize=12)\n",
    "\n",
    "    tist = [t[1], t[1]]\n",
    "    sist = [s[1], px2s(Nodes[1]['p'], 1)]\n",
    "    plt.plot(sist, tist, 'y-')\n",
    "\n",
    "    #plt.title('T-s: Ideal Rankine Cycle')\n",
    "    plt.title('T-s: The Rankine Cycle 朗肯循环')\n",
    "\n",
    "    plt.xlabel('Entropy(kJ/(kg.K)')\n",
    "    plt.ylabel('Temperature(°C)')\n",
    "    plt.grid()  # Show Grid\n",
    "    # The output of a matplotlib plot as an SVG\n",
    "    # plt.savefig(\"./img/rankine81-TS.svg\")\n",
    "    plt.show()\n",
    "\n",
    "PlotPrettyTSDiagram(AllNodes[1]) "
   ]
  },
  {
   "cell_type": "code",
   "execution_count": null,
   "metadata": {},
   "outputs": [],
   "source": []
  }
 ],
 "metadata": {
  "kernelspec": {
   "display_name": "Python 3",
   "language": "python",
   "name": "python3"
  },
  "language_info": {
   "codemirror_mode": {
    "name": "ipython",
    "version": 3
   },
   "file_extension": ".py",
   "mimetype": "text/x-python",
   "name": "python",
   "nbconvert_exporter": "python",
   "pygments_lexer": "ipython3",
   "version": "3.8.0"
  },
  "toc": {
   "base_numbering": 1,
   "nav_menu": {},
   "number_sections": false,
   "sideBar": true,
   "skip_h1_title": false,
   "title_cell": "Table of Contents",
   "title_sidebar": "Contents",
   "toc_cell": false,
   "toc_position": {
    "height": "calc(100% - 180px)",
    "left": "10px",
    "top": "150px",
    "width": "187.3px"
   },
   "toc_section_display": true,
   "toc_window_display": false
  },
  "widgets": {
   "state": {},
   "version": "1.1.2"
  }
 },
 "nbformat": 4,
 "nbformat_minor": 1
}
