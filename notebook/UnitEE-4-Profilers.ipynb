{
 "cells": [
  {
   "cell_type": "markdown",
   "metadata": {
    "collapsed": true,
    "slideshow": {
     "slide_type": "slide"
    }
   },
   "source": [
    "# Profilers  \n",
    "\n",
    "27.4. The Python Profilers\n",
    "\n",
    "https://docs.python.org/3/library/profile.html\n",
    "\n",
    "### Contents\n",
    "\n",
    "We will see the two kinds of profiling\n",
    "\n",
    "* **A  Rapidly Perform Profiling**\n",
    "\n",
    "\n",
    "* **B  Profiling in Python Module**\n",
    "\n",
    "and give the methods for \n",
    "\n",
    "* **C improving the performance**\n",
    "\n",
    "\n",
    "\n",
    "## 27.4.1. Introduction to the profilers\n",
    "\n",
    "**A profile is a set of statistics** that describes\n",
    "\n",
    "*  **how often** and for **how long** various **parts** of the program **executed**.\n",
    "\n",
    "\n",
    "\n",
    "These statistics can be `formatted` into **reports** via the **pstats** module.\n",
    "\n",
    "The Python standard library provides **two** different implementations of the same profiling interface:\n",
    "\n",
    "* **cProfile** \n",
    "\n",
    "* **profile** \n",
    "\n",
    "provide deterministic profiling of Python programs. \n",
    "\n",
    "**1 cProfile** \n",
    "\n",
    "`cProfile` is recommended for most users\n",
    "\n",
    "It’s a `C` extension with reasonable `overhead` that makes it suitable for profiling long-running programs. \n",
    "  \n",
    "**2 profile**\n",
    "\n",
    "`profile` is a pure `Python` module whose interface is imitated by cProfile, adds `significant overhead` to profiled programs.\n",
    "   \n",
    "If you’re trying to extend the profiler in some way, the task might be `easier` with this module. \n",
    "   \n",
    "\n",
    "### Profilers: Performance analysis of Python programs.\n",
    "\n",
    "* **cProfile or profile**: the `raw` profiling data  \n",
    "\n",
    "* **pstats**:  `manipulating` and `printing` data in the `raw` profiling results file\n",
    "\n"
   ]
  },
  {
   "cell_type": "markdown",
   "metadata": {
    "collapsed": true
   },
   "source": [
    "### A  `Rapidly` Perform Profiling\n",
    "\n",
    "#### 27.4.2. Instant User’s Manual: `rapidly` perform profiling\n",
    "\n",
    "This section is provided for users that “don’t want to read the manual.” \n",
    "\n",
    "It provides a very `brief` overview, and allows a user to rapidly perform profiling on an existing application.\n",
    "\n",
    "The most basic starting point in the profile module is \n",
    "\n",
    "```python\n",
    "   cProfile.run(argument:a string statement)\n",
    "```\n",
    "It takes **a string statement** as argument, \n",
    "\n",
    "and creates a **report** of the time spent executing different lines of code while running the statement. "
   ]
  },
  {
   "cell_type": "markdown",
   "metadata": {},
   "source": [
    "### Example: To profile a function :`fib(n)`\n",
    "\n",
    "This `recursive` version of a `Fibonacci` sequence calculator is especially useful for demonstrating the profile because the `performance` can be `improved significantly`. \n"
   ]
  },
  {
   "cell_type": "code",
   "execution_count": 1,
   "metadata": {},
   "outputs": [
    {
     "name": "stdout",
     "output_type": "stream",
     "text": [
      "[1, 1, 2, 3, 5, 8, 13, 21, 34, 55, 89]\n",
      "         523 function calls (71 primitive calls) in 0.001 seconds\n",
      "\n",
      "   Ordered by: standard name\n",
      "\n",
      "   ncalls  tottime  percall  cumtime  percall filename:lineno(function)\n",
      "     11/1    0.000    0.000    0.000    0.000 <ipython-input-1-ec947759a074>:11(fib_seq)\n",
      "   453/11    0.000    0.000    0.000    0.000 <ipython-input-1-ec947759a074>:3(fib)\n",
      "        1    0.000    0.000    0.001    0.001 <string>:1(<module>)\n",
      "        3    0.000    0.000    0.000    0.000 iostream.py:195(schedule)\n",
      "        2    0.000    0.000    0.000    0.000 iostream.py:307(_is_master_process)\n",
      "        2    0.000    0.000    0.000    0.000 iostream.py:320(_schedule_flush)\n",
      "        2    0.000    0.000    0.000    0.000 iostream.py:382(write)\n",
      "        3    0.000    0.000    0.000    0.000 iostream.py:93(_event_pipe)\n",
      "        3    0.000    0.000    0.000    0.000 socket.py:337(send)\n",
      "        3    0.000    0.000    0.000    0.000 threading.py:1038(_wait_for_tstate_lock)\n",
      "        3    0.000    0.000    0.000    0.000 threading.py:1080(is_alive)\n",
      "        3    0.000    0.000    0.000    0.000 threading.py:507(is_set)\n",
      "        1    0.000    0.000    0.001    0.001 {built-in method builtins.exec}\n",
      "        2    0.000    0.000    0.000    0.000 {built-in method builtins.isinstance}\n",
      "        1    0.000    0.000    0.000    0.000 {built-in method builtins.print}\n",
      "        2    0.000    0.000    0.000    0.000 {built-in method nt.getpid}\n",
      "        3    0.000    0.000    0.000    0.000 {method 'acquire' of '_thread.lock' objects}\n",
      "        3    0.000    0.000    0.000    0.000 {method 'append' of 'collections.deque' objects}\n",
      "       11    0.000    0.000    0.000    0.000 {method 'append' of 'list' objects}\n",
      "        1    0.000    0.000    0.000    0.000 {method 'disable' of '_lsprof.Profiler' objects}\n",
      "       10    0.000    0.000    0.000    0.000 {method 'extend' of 'list' objects}\n",
      "\n",
      "\n"
     ]
    }
   ],
   "source": [
    "import cProfile\n",
    "\n",
    "def fib(n):\n",
    "    # https://en.wikipedia.org/wiki/Fibonacci_number\n",
    "    # http://en.literateprograms.org/Fibonacci_numbers_(Python)\n",
    "    if n == 0 or n == 1:\n",
    "        return 1\n",
    "    else:\n",
    "        return fib(n-1) + fib(n-2)\n",
    "\n",
    "def fib_seq(n):\n",
    "    \n",
    "    seq = [ ]\n",
    "    if n > 0:\n",
    "        seq.extend(fib_seq(n-1))\n",
    "    seq.append(fib(n))\n",
    "    \n",
    "    return seq\n",
    "# Profiling\n",
    "#print(fib_seq(10))\n",
    "cProfile.run('print(fib_seq(10))')"
   ]
  },
  {
   "cell_type": "markdown",
   "metadata": {},
   "source": [
    "#### <strong style=\"color:blue\">1 The first line</strong>\n",
    "\n",
    "**523 function calls (71 primitive calls) in 0.001 seconds**\n",
    "   \n",
    "* indicates that \n",
    "     \n",
    "   * 523 calls were monitored.\n",
    "   \n",
    "   * Of those calls, 71 were **primitive*, meaning that the call was not induced via **recursion**. \n",
    "\n",
    "#### <strong style=\"color:blue\">2 The next line</strong>\n",
    "\n",
    "**`ordered` by: `standard name`** \n",
    "   \n",
    "* indicates that: the text string in the `far right column` **filename of the module** was used to `sort` the output. \n",
    "\n",
    "**The column headings include:**\n",
    "```\n",
    "   ncalls  tottime  percall  cumtime  percall filename:lineno(function)\n",
    "        3    0.000    0.000    0.000    0.000 iostream.py:93(_event_pipe)\n",
    "        3    0.000    0.000    0.000    0.000 socket.py:333(send)\n",
    "```\n",
    "**`ordered` by `filename:lineno(function)` column**\n",
    "\n",
    "#### <strong style=\"color:blue\">3 The column headings in details</strong> \n",
    "\n",
    "* **ncalls**: the number of calls in the given function\n",
    "   \n",
    "```\n",
    "    ncalls  tottime  percall  cumtime  percall filename:lineno(function)\n",
    "453/11    0.000    0.000    0.000    0.000 <ipython-input-3-50b9aa81fe35>:3(fib)\n",
    "```\n",
    "   there are `two` numbers **453/11** in the the column,it means that the function **recursed**.\n",
    "     \n",
    "   The `second` value: **11** is the number of `primitive` calls \n",
    "   The former **453** : is the `total` number of calls. \n",
    "     \n",
    "     Note that when the function does `not recurse`, these two values are the same, and only the `single figure` is printed\n",
    "\n",
    "```\n",
    "  ncalls  tottime  percall  cumtime  percall filename:lineno(function)\n",
    "        3    0.000    0.000    0.000    0.000 iostream.py:93(_event_pipe)\n",
    "```\n",
    "\n",
    "* **tottime**: the `total` time spent in the given function (and **excluding** time made in calls to `sub-functions`)\n",
    "\n",
    "\n",
    "* **percall**: the `quotient` of tottime divided by **ncalls** :`tottime/ncalls`: the each call time spent in the given function \n",
    "\n",
    "\n",
    "* **cumtime** the `cumulative` time spent in **this `and` all subfunctions** (from invocation till exit). \n",
    "  \n",
    "\n",
    "* **percall**: the `quotient` of cumtime divided by **primitive calls** : cumtime/primitive calls: the each call time spent in the given function and all subfunctions\n",
    "\n",
    "\n",
    "* **filename:lineno(function)** provides the respective data of `each function`\n"
   ]
  },
  {
   "cell_type": "markdown",
   "metadata": {},
   "source": [
    "## The results to a file\n",
    "  \n",
    "### 1 Save the results to a file\n",
    " \n",
    "  * specifying a filename to the `run()` function:"
   ]
  },
  {
   "cell_type": "code",
   "execution_count": 2,
   "metadata": {},
   "outputs": [
    {
     "name": "stdout",
     "output_type": "stream",
     "text": [
      "[1, 1, 2, 3, 5, 8, 13, 21, 34, 55, 89]\n"
     ]
    }
   ],
   "source": [
    "import cProfile\n",
    "\n",
    "#cProfile.run('re.compile(\"foo|bar|stats\")')\n",
    "\n",
    "#'re_stats' a filename for the run() function:\n",
    "cProfile.run('print(fib_seq(10))','fib_stats')"
   ]
  },
  {
   "cell_type": "code",
   "execution_count": 3,
   "metadata": {},
   "outputs": [
    {
     "name": "stdout",
     "output_type": "stream",
     "text": [
      " 驱动器 F 中的卷是 cmh\n",
      " 卷的序列号是 9C25-3306\n",
      "\n",
      " F:\\SEU\\SEE\\PySEE\\home\\notebook 的目录\n",
      "\n",
      "2019/04/29  17:01             2,470 fib_stats\n",
      "               1 个文件          2,470 字节\n",
      "               0 个目录 103,583,477,760 可用字节\n"
     ]
    }
   ],
   "source": [
    "!dir fib_*"
   ]
  },
  {
   "cell_type": "markdown",
   "metadata": {},
   "source": [
    "### 2 pstats: `manipulating` and `printing` the data saved into a profile `results` file\n",
    "\n",
    "**pstats**: saving and working with statistics\n",
    "   \n",
    "Reports of the raw profiling data from `run()` can be processed  separately with the `Stats` class from `pstats`: **pstats.stats**\n",
    "\n",
    "The  **pstats.stats** class:  a variety of methods for manipulating and printing the data saved into a profile results file:  \n",
    "  "
   ]
  },
  {
   "cell_type": "markdown",
   "metadata": {},
   "source": [
    "* **strip_dirs()**：　removed the extraneous path from all the module names. \n",
    "\n",
    "* **sort_stats()**：　sorted all the entries according to the standard  <b>module/line/name</b> string that is printed.\n",
    "\n",
    "```\n",
    "        (module,line,name) : 0 module,1-line,2-name\n",
    " ncalls  tottime  percall  cumtime  percall filename:lineno(function)\n",
    "        3    0.000    0.000    0.000    0.000 socket.py:333(send)\n",
    "        \n",
    "    0 - module - socket.py\n",
    "\n",
    "    1 - line - 333\n",
    "\n",
    "    2 - name -send    \n",
    "```\n",
    "\n",
    "\n",
    "* **print_stats()**： method printed out all the statistics."
   ]
  },
  {
   "cell_type": "code",
   "execution_count": 4,
   "metadata": {},
   "outputs": [
    {
     "name": "stdout",
     "output_type": "stream",
     "text": [
      "Mon Apr 29 17:01:23 2019    fib_stats\n",
      "\n",
      "         523 function calls (71 primitive calls) in 0.000 seconds\n",
      "\n",
      "   Ordered by: function name\n",
      "\n",
      "   ncalls  tottime  percall  cumtime  percall filename:lineno(function)\n",
      "        1    0.000    0.000    0.000    0.000 {built-in method builtins.exec}\n",
      "        2    0.000    0.000    0.000    0.000 {built-in method builtins.isinstance}\n",
      "        1    0.000    0.000    0.000    0.000 {built-in method builtins.print}\n",
      "        2    0.000    0.000    0.000    0.000 {built-in method nt.getpid}\n",
      "        3    0.000    0.000    0.000    0.000 {method 'acquire' of '_thread.lock' objects}\n",
      "        3    0.000    0.000    0.000    0.000 {method 'append' of 'collections.deque' objects}\n",
      "       11    0.000    0.000    0.000    0.000 {method 'append' of 'list' objects}\n",
      "        1    0.000    0.000    0.000    0.000 {method 'disable' of '_lsprof.Profiler' objects}\n",
      "       10    0.000    0.000    0.000    0.000 {method 'extend' of 'list' objects}\n",
      "        1    0.000    0.000    0.000    0.000 <string>:1(<module>)\n",
      "        3    0.000    0.000    0.000    0.000 iostream.py:93(_event_pipe)\n",
      "        2    0.000    0.000    0.000    0.000 iostream.py:307(_is_master_process)\n",
      "        2    0.000    0.000    0.000    0.000 iostream.py:320(_schedule_flush)\n",
      "        3    0.000    0.000    0.000    0.000 threading.py:1038(_wait_for_tstate_lock)\n",
      "   453/11    0.000    0.000    0.000    0.000 <ipython-input-1-ec947759a074>:3(fib)\n",
      "     11/1    0.000    0.000    0.000    0.000 <ipython-input-1-ec947759a074>:11(fib_seq)\n",
      "        3    0.000    0.000    0.000    0.000 threading.py:1080(is_alive)\n",
      "        3    0.000    0.000    0.000    0.000 threading.py:507(is_set)\n",
      "        3    0.000    0.000    0.000    0.000 iostream.py:195(schedule)\n",
      "        3    0.000    0.000    0.000    0.000 socket.py:337(send)\n",
      "        2    0.000    0.000    0.000    0.000 iostream.py:382(write)\n",
      "\n",
      "\n"
     ]
    },
    {
     "data": {
      "text/plain": [
       "<pstats.Stats at 0x275b6f46f28>"
      ]
     },
     "execution_count": 4,
     "metadata": {},
     "output_type": "execute_result"
    }
   ],
   "source": [
    "import pstats\n",
    "\n",
    "p = pstats.Stats('fib_stats')\n",
    "\n",
    "# 1 print  raw: Random listing order was used\n",
    "#p.print_stats()\n",
    "\n",
    "# 2 Ordered by:name\n",
    "# sort_stats:filename:lineno(function) - (0-module,1-line,2-name) \n",
    "#p.sort_stats(2).print_stats()\n",
    "\n",
    "# 3 removed the extraneous path from all the module names\n",
    "p.strip_dirs().sort_stats('name').print_stats()"
   ]
  },
  {
   "cell_type": "markdown",
   "metadata": {},
   "source": [
    "### The following are some interesting calls to experiment with:\n",
    "\n",
    "### 1  understand `what algorithms` are taking time.\n",
    "\n",
    " This sorts the profile by `cumulative time` in a function, and then only prints `the ten most` significant lines<. \n",
    "\n",
    "* `cumulative` time -> understand `what algorithms` are taking time.(`cumulative`:time spent in the given function and all subfunctions)\n"
   ]
  },
  {
   "cell_type": "code",
   "execution_count": 5,
   "metadata": {},
   "outputs": [
    {
     "name": "stdout",
     "output_type": "stream",
     "text": [
      "Mon Apr 29 17:01:23 2019    fib_stats\n",
      "\n",
      "         523 function calls (71 primitive calls) in 0.000 seconds\n",
      "\n",
      "   Ordered by: cumulative time\n",
      "   List reduced from 21 to 10 due to restriction <10>\n",
      "\n",
      "   ncalls  tottime  percall  cumtime  percall filename:lineno(function)\n",
      "        1    0.000    0.000    0.000    0.000 {built-in method builtins.exec}\n",
      "        1    0.000    0.000    0.000    0.000 <string>:1(<module>)\n",
      "     11/1    0.000    0.000    0.000    0.000 <ipython-input-1-ec947759a074>:11(fib_seq)\n",
      "   453/11    0.000    0.000    0.000    0.000 <ipython-input-1-ec947759a074>:3(fib)\n",
      "        1    0.000    0.000    0.000    0.000 {built-in method builtins.print}\n",
      "        2    0.000    0.000    0.000    0.000 iostream.py:382(write)\n",
      "        3    0.000    0.000    0.000    0.000 iostream.py:195(schedule)\n",
      "        3    0.000    0.000    0.000    0.000 socket.py:337(send)\n",
      "        2    0.000    0.000    0.000    0.000 iostream.py:320(_schedule_flush)\n",
      "        3    0.000    0.000    0.000    0.000 threading.py:1080(is_alive)\n",
      "\n",
      "\n"
     ]
    },
    {
     "data": {
      "text/plain": [
       "<pstats.Stats at 0x275b6f46f28>"
      ]
     },
     "execution_count": 5,
     "metadata": {},
     "output_type": "execute_result"
    }
   ],
   "source": [
    "p.sort_stats('cumulative').print_stats(10)"
   ]
  },
  {
   "cell_type": "markdown",
   "metadata": {},
   "source": [
    "\n",
    "### 2 looking to see what `functions` were looping a lot and taking a lot of time:\n",
    "\n",
    "To sort according to time spent within **each function**, and then print the statistics for the top ten functions.\n",
    "   \n",
    "* `totaltime` ->for the total time spent in the `given function`"
   ]
  },
  {
   "cell_type": "code",
   "execution_count": 6,
   "metadata": {},
   "outputs": [
    {
     "name": "stdout",
     "output_type": "stream",
     "text": [
      "Mon Apr 29 17:01:23 2019    fib_stats\n",
      "\n",
      "         523 function calls (71 primitive calls) in 0.000 seconds\n",
      "\n",
      "   Ordered by: internal time\n",
      "   List reduced from 21 to 10 due to restriction <10>\n",
      "\n",
      "   ncalls  tottime  percall  cumtime  percall filename:lineno(function)\n",
      "   453/11    0.000    0.000    0.000    0.000 <ipython-input-1-ec947759a074>:3(fib)\n",
      "        1    0.000    0.000    0.000    0.000 {built-in method builtins.exec}\n",
      "        3    0.000    0.000    0.000    0.000 socket.py:337(send)\n",
      "     11/1    0.000    0.000    0.000    0.000 <ipython-input-1-ec947759a074>:11(fib_seq)\n",
      "        3    0.000    0.000    0.000    0.000 iostream.py:195(schedule)\n",
      "        2    0.000    0.000    0.000    0.000 iostream.py:382(write)\n",
      "        1    0.000    0.000    0.000    0.000 {built-in method builtins.print}\n",
      "        3    0.000    0.000    0.000    0.000 threading.py:1080(is_alive)\n",
      "        2    0.000    0.000    0.000    0.000 iostream.py:320(_schedule_flush)\n",
      "        3    0.000    0.000    0.000    0.000 threading.py:1038(_wait_for_tstate_lock)\n",
      "\n",
      "\n"
     ]
    },
    {
     "data": {
      "text/plain": [
       "<pstats.Stats at 0x275b6f46f28>"
      ]
     },
     "execution_count": 6,
     "metadata": {},
     "output_type": "execute_result"
    }
   ],
   "source": [
    "p.sort_stats('time').print_stats(10)"
   ]
  },
  {
   "cell_type": "markdown",
   "metadata": {},
   "source": [
    "###  3  sort all the statistics by file name, \n",
    "\n",
    "print out statistics for only the **fib\\* ** methods\n"
   ]
  },
  {
   "cell_type": "code",
   "execution_count": 7,
   "metadata": {},
   "outputs": [
    {
     "name": "stdout",
     "output_type": "stream",
     "text": [
      "Mon Apr 29 17:01:23 2019    fib_stats\n",
      "\n",
      "         523 function calls (71 primitive calls) in 0.000 seconds\n",
      "\n",
      "   Ordered by: file name\n",
      "   List reduced from 21 to 2 due to restriction <'fib'>\n",
      "\n",
      "   ncalls  tottime  percall  cumtime  percall filename:lineno(function)\n",
      "     11/1    0.000    0.000    0.000    0.000 <ipython-input-1-ec947759a074>:11(fib_seq)\n",
      "   453/11    0.000    0.000    0.000    0.000 <ipython-input-1-ec947759a074>:3(fib)\n",
      "\n",
      "\n"
     ]
    },
    {
     "data": {
      "text/plain": [
       "<pstats.Stats at 0x275b6f46f28>"
      ]
     },
     "execution_count": 7,
     "metadata": {},
     "output_type": "execute_result"
    }
   ],
   "source": [
    "p.sort_stats('filename').print_stats('fib')"
   ]
  },
  {
   "cell_type": "markdown",
   "metadata": {},
   "source": [
    "###  4 This line sorts statistics with \n",
    "\n",
    "* a **primary** key: internal time(tottime)\n",
    " \n",
    "* a **secondary** key: cumulative time\n",
    "\n",
    "and then prints out some of the statistics. \n",
    "\n",
    "To be specific, the `list` is first `culled down` to **50% `(.5)`** of its original `size`, \n",
    "\n",
    "then `only lines` containing **fib** are maintained and that **sub(%50)-sub(fib\\*)-list** is printed."
   ]
  },
  {
   "cell_type": "code",
   "execution_count": 8,
   "metadata": {},
   "outputs": [
    {
     "name": "stdout",
     "output_type": "stream",
     "text": [
      "Mon Apr 29 17:01:23 2019    fib_stats\n",
      "\n",
      "         523 function calls (71 primitive calls) in 0.000 seconds\n",
      "\n",
      "   Ordered by: internal time, cumulative time\n",
      "   List reduced from 21 to 11 due to restriction <0.5>\n",
      "   List reduced from 11 to 2 due to restriction <'fib'>\n",
      "\n",
      "   ncalls  tottime  percall  cumtime  percall filename:lineno(function)\n",
      "   453/11    0.000    0.000    0.000    0.000 <ipython-input-1-ec947759a074>:3(fib)\n",
      "     11/1    0.000    0.000    0.000    0.000 <ipython-input-1-ec947759a074>:11(fib_seq)\n",
      "\n",
      "\n"
     ]
    },
    {
     "data": {
      "text/plain": [
       "<pstats.Stats at 0x275b6f46f28>"
      ]
     },
     "execution_count": 8,
     "metadata": {},
     "output_type": "execute_result"
    }
   ],
   "source": [
    "p.sort_stats('time', 'cumulative').print_stats(.5,'fib')"
   ]
  },
  {
   "cell_type": "markdown",
   "metadata": {},
   "source": [
    "## B Profiling in Python Module\n",
    "\n",
    "The most `basic` starting point in the profile module is\n",
    "```python\n",
    "   cProfile.run(argument:a string statement)\n",
    "```\n",
    "\n",
    "**Example**: iapws.iapws97 \n",
    "\n",
    "### 1 Profiling data into  `file`"
   ]
  },
  {
   "cell_type": "code",
   "execution_count": 9,
   "metadata": {},
   "outputs": [],
   "source": [
    "import cProfile\n",
    "import pstats\n",
    "\n",
    "from iapws.iapws97 import IAPWS97\n",
    "\n",
    "p1 = 16.10\n",
    "t1 = 535.10\n",
    "p2=3.56\n",
    "t2=315\n",
    "\n",
    "# 1 profiling \n",
    "pr = cProfile.Profile()\n",
    "\n",
    "pr.enable()\n",
    "\n",
    "steamin = IAPWS97(P=p1, T=t1)\n",
    "steamout = IAPWS97(P=p2, T=t2)\n",
    "\n",
    "pr.disable()\n",
    "\n",
    "#  2 profiling data in file\n",
    "filename=\"iapws97_stats\"\n",
    "profilingdatafile=open(filename, \"w\", encoding=\"utf-8\")\n",
    "\n",
    "sortby = 'cumulative'\n",
    "\n",
    "ps = pstats.Stats(pr, stream=profilingdatafile).sort_stats(sortby)  \n",
    "\n",
    "ps.print_stats()\n",
    "\n",
    "profilingdatafile.close()"
   ]
  },
  {
   "cell_type": "code",
   "execution_count": null,
   "metadata": {},
   "outputs": [],
   "source": [
    "# %load iapws97_stats\n",
    "         189 function calls in 0.001 seconds\n",
    "\n",
    "   Ordered by: cumulative time\n",
    "\n",
    "   ncalls  tottime  percall  cumtime  percall filename:lineno(function)\n",
    "        3    0.000    0.000    0.001    0.000 c:\\python37\\lib\\site-packages\\IPython\\core\\interactiveshell.py:3254(run_code)\n",
    "        3    0.000    0.000    0.001    0.000 {built-in method builtins.exec}\n",
    "        2    0.000    0.000    0.001    0.000 c:\\python37\\lib\\site-packages\\iapws\\iapws97.py:4304(__init__)\n",
    "        2    0.000    0.000    0.001    0.000 c:\\python37\\lib\\site-packages\\iapws\\iapws97.py:4308(__call__)\n",
    "        2    0.000    0.000    0.001    0.000 c:\\python37\\lib\\site-packages\\iapws\\iapws97.py:4339(calculo)\n",
    "        1    0.000    0.000    0.000    0.000 <ipython-input-9-0485da8e90fd>:16(<module>)\n",
    "        4    0.000    0.000    0.000    0.000 c:\\python37\\lib\\site-packages\\iapws\\iapws97.py:4631(fill)\n",
    "        1    0.000    0.000    0.000    0.000 <ipython-input-9-0485da8e90fd>:17(<module>)\n",
    "        2    0.000    0.000    0.000    0.000 c:\\python37\\lib\\site-packages\\iapws\\iapws97.py:696(_Region1)\n",
    "        4    0.000    0.000    0.000    0.000 c:\\python37\\lib\\site-packages\\iapws\\_iapws.py:745(_ThCond)\n",
    "       24    0.000    0.000    0.000    0.000 c:\\python37\\lib\\site-packages\\iapws\\iapws97.py:4677(derivative)\n",
    "        4    0.000    0.000    0.000    0.000 c:\\python37\\lib\\site-packages\\iapws\\_iapws.py:655(_Viscosity)\n",
    "       24    0.000    0.000    0.000    0.000 c:\\python37\\lib\\site-packages\\iapws\\_utils.py:168(deriv_G)\n",
    "        3    0.000    0.000    0.000    0.000 c:\\python37\\lib\\codeop.py:132(__call__)\n",
    "        4    0.000    0.000    0.000    0.000 c:\\python37\\lib\\site-packages\\iapws\\_iapws.py:795(<listcomp>)\n",
    "        3    0.000    0.000    0.000    0.000 {built-in method builtins.compile}\n",
    "        4    0.000    0.000    0.000    0.000 c:\\python37\\lib\\site-packages\\iapws\\_iapws.py:701(<listcomp>)\n",
    "        4    0.000    0.000    0.000    0.000 c:\\python37\\lib\\site-packages\\iapws\\_iapws.py:885(_Dielectric)\n",
    "        2    0.000    0.000    0.000    0.000 c:\\python37\\lib\\site-packages\\iapws\\iapws97.py:4155(prop0)\n",
    "        2    0.000    0.000    0.000    0.000 c:\\python37\\lib\\site-packages\\iapws\\iapws97.py:1040(Region2_cp0)\n",
    "        2    0.000    0.000    0.000    0.000 c:\\python37\\lib\\site-packages\\iapws\\iapws97.py:3794(_Bound_TP)\n",
    "        2    0.000    0.000    0.000    0.000 c:\\python37\\lib\\site-packages\\iapws\\_utils.py:10(getphase)\n",
    "        4    0.000    0.000    0.000    0.000 c:\\python37\\lib\\site-packages\\iapws\\_iapws.py:946(_Refractive)\n",
    "        2    0.000    0.000    0.000    0.000 c:\\python37\\lib\\site-packages\\iapws\\iapws97.py:320(_TSat_P)\n",
    "        4    0.000    0.000    0.000    0.000 {built-in method builtins.round}\n",
    "        4    0.000    0.000    0.000    0.000 c:\\python37\\lib\\site-packages\\iapws\\_iapws.py:819(<listcomp>)\n",
    "       20    0.000    0.000    0.000    0.000 {built-in method builtins.sum}\n",
    "        4    0.000    0.000    0.000    0.000 c:\\python37\\lib\\site-packages\\iapws\\_iapws.py:782(<listcomp>)\n",
    "        4    0.000    0.000    0.000    0.000 c:\\python37\\lib\\site-packages\\iapws\\_iapws.py:692(<listcomp>)\n",
    "        2    0.000    0.000    0.000    0.000 {built-in method math.atan}\n",
    "        3    0.000    0.000    0.000    0.000 c:\\python37\\lib\\site-packages\\IPython\\core\\hooks.py:142(__call__)\n",
    "        3    0.000    0.000    0.000    0.000 c:\\python37\\lib\\site-packages\\IPython\\core\\interactiveshell.py:116(<lambda>)\n",
    "       14    0.000    0.000    0.000    0.000 {built-in method math.exp}\n",
    "        1    0.000    0.000    0.000    0.000 <ipython-input-9-0485da8e90fd>:19(<module>)\n",
    "        2    0.000    0.000    0.000    0.000 c:\\python37\\lib\\site-packages\\iapws\\_iapws.py:847(_Tension)\n",
    "        2    0.000    0.000    0.000    0.000 c:\\python37\\lib\\site-packages\\iapws\\iapws97.py:4316(calculable)\n",
    "        2    0.000    0.000    0.000    0.000 {built-in method math.log}\n",
    "        3    0.000    0.000    0.000    0.000 c:\\python37\\lib\\site-packages\\IPython\\utils\\ipstruct.py:125(__getattr__)\n",
    "        2    0.000    0.000    0.000    0.000 {method 'update' of 'dict' objects}\n",
    "        3    0.000    0.000    0.000    0.000 c:\\python37\\lib\\site-packages\\IPython\\core\\interactiveshell.py:1266(user_global_ns)\n",
    "        2    0.000    0.000    0.000    0.000 {method 'copy' of 'dict' objects}\n",
    "        2    0.000    0.000    0.000    0.000 {built-in method math.sqrt}\n",
    "        3    0.000    0.000    0.000    0.000 c:\\python37\\lib\\site-packages\\IPython\\core\\hooks.py:207(pre_run_code_hook)\n",
    "        1    0.000    0.000    0.000    0.000 {method 'disable' of '_lsprof.Profiler' objects}\n",
    "\n",
    "\n"
   ]
  },
  {
   "cell_type": "markdown",
   "metadata": {},
   "source": [
    "### 2 Profiling  data into memory-text\n"
   ]
  },
  {
   "cell_type": "markdown",
   "metadata": {},
   "source": [
    "### 6.2. io — Core tools for working with streams\n",
    "\n",
    "https://docs.python.org/3/library/io.html\n",
    "    \n",
    "The **io** module provides Python’s main facilities for dealing with `various types of I/O`.\n",
    "\n",
    "There are three main types of I/O: \n",
    "\n",
    "* text I/O：Text I/O expects and produces `str` objects.\n",
    "\n",
    "* binary I/O:(buffered I/O)expects bytes-like objects and produces `bytes` objects\n",
    "\n",
    "* raw I/O: (called unbuffered I/O)is generally used as a low-level building-block for binary and text streams\n",
    "\n",
    "**In-memory text streams** are also available as **StringIO** objects:   "
   ]
  },
  {
   "cell_type": "code",
   "execution_count": 11,
   "metadata": {},
   "outputs": [
    {
     "data": {
      "text/plain": [
       "'some initial text data'"
      ]
     },
     "execution_count": 11,
     "metadata": {},
     "output_type": "execute_result"
    }
   ],
   "source": [
    "import io\n",
    "\n",
    "f = io.StringIO(\"some initial text data\") # f:In-memory text streams \n",
    "\n",
    "f.getvalue()"
   ]
  },
  {
   "cell_type": "markdown",
   "metadata": {},
   "source": [
    "#### Using `io.StringIO()` to profiling data into memory-text"
   ]
  },
  {
   "cell_type": "code",
   "execution_count": 12,
   "metadata": {},
   "outputs": [
    {
     "name": "stdout",
     "output_type": "stream",
     "text": [
      "         189 function calls in 0.001 seconds\n",
      "\n",
      "   Ordered by: cumulative time\n",
      "\n",
      "   ncalls  tottime  percall  cumtime  percall filename:lineno(function)\n",
      "        3    0.000    0.000    0.001    0.000 c:\\python37\\lib\\site-packages\\IPython\\core\\interactiveshell.py:3254(run_code)\n",
      "        3    0.000    0.000    0.001    0.000 {built-in method builtins.exec}\n",
      "        2    0.000    0.000    0.001    0.001 c:\\python37\\lib\\site-packages\\iapws\\iapws97.py:4304(__init__)\n",
      "        2    0.000    0.000    0.001    0.000 c:\\python37\\lib\\site-packages\\iapws\\iapws97.py:4308(__call__)\n",
      "        2    0.000    0.000    0.001    0.000 c:\\python37\\lib\\site-packages\\iapws\\iapws97.py:4339(calculo)\n",
      "        1    0.000    0.000    0.001    0.001 <ipython-input-12-3d530a008cb1>:17(<module>)\n",
      "        4    0.000    0.000    0.001    0.000 c:\\python37\\lib\\site-packages\\iapws\\iapws97.py:4631(fill)\n",
      "        1    0.000    0.000    0.000    0.000 <ipython-input-12-3d530a008cb1>:18(<module>)\n",
      "        2    0.000    0.000    0.000    0.000 c:\\python37\\lib\\site-packages\\iapws\\iapws97.py:696(_Region1)\n",
      "        4    0.000    0.000    0.000    0.000 c:\\python37\\lib\\site-packages\\iapws\\_iapws.py:745(_ThCond)\n",
      "       24    0.000    0.000    0.000    0.000 c:\\python37\\lib\\site-packages\\iapws\\iapws97.py:4677(derivative)\n",
      "       24    0.000    0.000    0.000    0.000 c:\\python37\\lib\\site-packages\\iapws\\_utils.py:168(deriv_G)\n",
      "        4    0.000    0.000    0.000    0.000 c:\\python37\\lib\\site-packages\\iapws\\_iapws.py:655(_Viscosity)\n",
      "        3    0.000    0.000    0.000    0.000 c:\\python37\\lib\\codeop.py:132(__call__)\n",
      "        4    0.000    0.000    0.000    0.000 c:\\python37\\lib\\site-packages\\iapws\\_iapws.py:795(<listcomp>)\n",
      "        3    0.000    0.000    0.000    0.000 {built-in method builtins.compile}\n",
      "        4    0.000    0.000    0.000    0.000 c:\\python37\\lib\\site-packages\\iapws\\_iapws.py:701(<listcomp>)\n",
      "        4    0.000    0.000    0.000    0.000 c:\\python37\\lib\\site-packages\\iapws\\_iapws.py:885(_Dielectric)\n",
      "        2    0.000    0.000    0.000    0.000 c:\\python37\\lib\\site-packages\\iapws\\iapws97.py:4155(prop0)\n",
      "        2    0.000    0.000    0.000    0.000 c:\\python37\\lib\\site-packages\\iapws\\iapws97.py:1040(Region2_cp0)\n",
      "        2    0.000    0.000    0.000    0.000 c:\\python37\\lib\\site-packages\\iapws\\iapws97.py:3794(_Bound_TP)\n",
      "        2    0.000    0.000    0.000    0.000 c:\\python37\\lib\\site-packages\\iapws\\_utils.py:10(getphase)\n",
      "        4    0.000    0.000    0.000    0.000 c:\\python37\\lib\\site-packages\\iapws\\_iapws.py:946(_Refractive)\n",
      "        2    0.000    0.000    0.000    0.000 c:\\python37\\lib\\site-packages\\iapws\\iapws97.py:320(_TSat_P)\n",
      "        4    0.000    0.000    0.000    0.000 {built-in method builtins.round}\n",
      "        4    0.000    0.000    0.000    0.000 c:\\python37\\lib\\site-packages\\iapws\\_iapws.py:819(<listcomp>)\n",
      "       20    0.000    0.000    0.000    0.000 {built-in method builtins.sum}\n",
      "        4    0.000    0.000    0.000    0.000 c:\\python37\\lib\\site-packages\\iapws\\_iapws.py:782(<listcomp>)\n",
      "        4    0.000    0.000    0.000    0.000 c:\\python37\\lib\\site-packages\\iapws\\_iapws.py:692(<listcomp>)\n",
      "        3    0.000    0.000    0.000    0.000 c:\\python37\\lib\\site-packages\\IPython\\core\\hooks.py:142(__call__)\n",
      "       14    0.000    0.000    0.000    0.000 {built-in method math.exp}\n",
      "        3    0.000    0.000    0.000    0.000 c:\\python37\\lib\\site-packages\\IPython\\core\\interactiveshell.py:116(<lambda>)\n",
      "        1    0.000    0.000    0.000    0.000 <ipython-input-12-3d530a008cb1>:20(<module>)\n",
      "        2    0.000    0.000    0.000    0.000 c:\\python37\\lib\\site-packages\\iapws\\_iapws.py:847(_Tension)\n",
      "        2    0.000    0.000    0.000    0.000 c:\\python37\\lib\\site-packages\\iapws\\iapws97.py:4316(calculable)\n",
      "        2    0.000    0.000    0.000    0.000 {built-in method math.log}\n",
      "        3    0.000    0.000    0.000    0.000 c:\\python37\\lib\\site-packages\\IPython\\utils\\ipstruct.py:125(__getattr__)\n",
      "        3    0.000    0.000    0.000    0.000 c:\\python37\\lib\\site-packages\\IPython\\core\\interactiveshell.py:1266(user_global_ns)\n",
      "        2    0.000    0.000    0.000    0.000 {method 'copy' of 'dict' objects}\n",
      "        2    0.000    0.000    0.000    0.000 {built-in method math.atan}\n",
      "        2    0.000    0.000    0.000    0.000 {built-in method math.sqrt}\n",
      "        2    0.000    0.000    0.000    0.000 {method 'update' of 'dict' objects}\n",
      "        3    0.000    0.000    0.000    0.000 c:\\python37\\lib\\site-packages\\IPython\\core\\hooks.py:207(pre_run_code_hook)\n",
      "        1    0.000    0.000    0.000    0.000 {method 'disable' of '_lsprof.Profiler' objects}\n",
      "\n",
      "\n",
      "\n"
     ]
    }
   ],
   "source": [
    "import cProfile\n",
    "import pstats\n",
    "\n",
    "import io\n",
    "\n",
    "from iapws.iapws97 import IAPWS97\n",
    "\n",
    "p1 = 16.10\n",
    "t1 = 535.10\n",
    "p2=3.56\n",
    "t2=315\n",
    "# 1 profiling \n",
    "pr = cProfile.Profile()\n",
    "\n",
    "pr.enable()\n",
    "\n",
    "steamin = IAPWS97(P=p1, T=t1)\n",
    "steamout = IAPWS97(P=p2, T=t2)\n",
    "\n",
    "pr.disable()\n",
    "\n",
    "# 2 profiling data in  In-memory text stream: profilingdata \n",
    "\n",
    "profilingdata = io.StringIO() # 1 : In-memory text streams:profilingdata \n",
    "\n",
    "sortby = 'cumulative'\n",
    "\n",
    "ps = pstats.Stats(pr, stream=profilingdata).sort_stats(sortby) # 2 : Stats in In-memory text streams:profilingdata \n",
    "\n",
    "ps.print_stats()\n",
    "\n",
    "print(profilingdata.getvalue()) # 3: get In-memory text streams\n",
    "\n",
    "# 3 In-memory text stream to file\n",
    "filename=\"iapws97_stats_memory_text\"\n",
    "datafile=open(\"iapws97_stats_memory_text\", \"w\", encoding=\"utf-8\")\n",
    "\n",
    "print(profilingdata.getvalue(),file=datafile) # 3: get In-memory text streams\n",
    "\n",
    "datafile.close()"
   ]
  },
  {
   "cell_type": "code",
   "execution_count": null,
   "metadata": {},
   "outputs": [],
   "source": [
    "%load iapws97_stats_memory_text"
   ]
  },
  {
   "cell_type": "code",
   "execution_count": null,
   "metadata": {},
   "outputs": [],
   "source": [
    "%load iapws97_stats_memory_text"
   ]
  },
  {
   "cell_type": "markdown",
   "metadata": {},
   "source": [
    "## C Improve the Performance: memoization\n",
    " \n",
    "```cProfile.run('print(fib_seq(20))')```\n",
    "\n",
    "The standard report format shows a summary and then details for each function executed."
   ]
  },
  {
   "cell_type": "code",
   "execution_count": null,
   "metadata": {},
   "outputs": [],
   "source": [
    "import cProfile\n",
    "\n",
    "# Profiling\n",
    "cProfile.run('print(fib_seq(20))')"
   ]
  },
  {
   "cell_type": "markdown",
   "metadata": {},
   "source": [
    "* **fib_seq(10)**\n",
    "```\n",
    "513 function calls (61 primitive calls) in 0.000 seconds\n",
    "   ncalls  tottime  percall  cumtime  percall filename:lineno(function)\n",
    "     11/1    0.000    0.000    0.000    0.000 <ipython-input-13-040ebd920202>:11(fib_seq)\n",
    "   453/11    0.000    0.000    0.000    0.000 <ipython-input-13-040ebd920202>:3(fib)\n",
    "```\n",
    "* **fib_seq(20)**\n",
    "```\n",
    "  57381 function calls (91 primitive calls) in 0.022 seconds\n",
    "  ncalls  tottime  percall  cumtime  percall filename:lineno(function)\n",
    "     21/1    0.000    0.000    0.022    0.022 <ipython-input-13-040ebd920202>:11(fib_seq)\n",
    " 57291/21    0.022    0.000    0.022    0.001 <ipython-input-13-040ebd920202>:3(fib)\n",
    "```\n",
    "\n",
    "**NOTE:**\n",
    "\n",
    "**fib_seq(20):57381 function calls `>>>`fib_seq(10):513 function calls** \n",
    "\n",
    "* 1 the amount of function calls `increases` **exponentially** for increasing `values` of **n**\n",
    "\n",
    "**57381 function calls >>> 91 primitive calls** \n",
    " \n",
    "* 2 `most of the time` here is spent calling `fib()` repeatedly. \n",
    "\n",
    "\n",
    "**Because**:  the function calls values that it has **already** calculated **again and again**.\n",
    "\n",
    "```\n",
    "f(4)->f(3),f(2)\n",
    "\n",
    "f(3)->f(2),f(1)\n",
    "```\n",
    "![recursion_without_cache](./img/recursion_without_cache.png)\n",
    "\n",
    "### `memoization`  to speed up a lot of my recursive algorithms: \n",
    "\n",
    "The easy way to optimize this would be to \n",
    "\n",
    "* cache the value  of fib(n) in a **dictionary** \n",
    "\n",
    "```python\n",
    "{n:the value of fib(n)}\n",
    "```\n",
    "\n",
    "* then,check to see if that value of **n** has been called previously. \n",
    "\n",
    "  * If it has, return it’s value in the `dictionary`\n",
    "  \n",
    "\n",
    "  * if not, proceed to `call the function fib(n)`. \n",
    "  \n",
    "This is **memoization**.\n",
    "\n",
    "* https://en.wikipedia.org/wiki/Memoization\n",
    "\n",
    "* http://avinashv.net/2008/04/python-decorators-syntactic-sugar/"
   ]
  },
  {
   "cell_type": "code",
   "execution_count": 1,
   "metadata": {},
   "outputs": [],
   "source": [
    "class memoize:\n",
    "    \"\"\"\n",
    "      from http://avinashv.net/2008/04/python-decorators-syntactic-sugar/\n",
    "    \"\"\"\n",
    "    def __init__(self, function):\n",
    "        self.function = function\n",
    "       \n",
    "        #　a dictionary, ｀self.memoized｀, that acts as our cache\n",
    "        self.memoized = {} # key:value->n: the value of fib(n)\n",
    "     \n",
    "    # built-in **function call** operator.\n",
    "    def __call__(self, *args):\n",
    "        try:\n",
    "            return self.memoized[args]   \n",
    "        except KeyError:\n",
    "            self.memoized[args] = self.function(*args) # add new key:value to the dict\n",
    "            return self.memoized[args]"
   ]
  },
  {
   "cell_type": "markdown",
   "metadata": {},
   "source": [
    "There is now a `dictionary`, **self.memoized**, that acts as our **cache**, and a change in the **exception handling** that looks for **KeyError**, which throws an error if a key doesn’t exist in a dictionary. \n",
    "\n",
    "This class is **generalized** and will work for **any recursive function** that could benefit from `memoization`.\n",
    "\n",
    "### The Memoize Decorator(装饰器)\n",
    "\n",
    "**Decorators**  really came to the rescue in the form of **memoization**\n",
    "\n",
    "We can add **a memoize decorator** to `reduce` the number of `recursive` calls "
   ]
  },
  {
   "cell_type": "code",
   "execution_count": 2,
   "metadata": {},
   "outputs": [
    {
     "name": "stdout",
     "output_type": "stream",
     "text": [
      "memoized Fibonacci \n",
      " ================================================================================\n",
      "[1, 1, 2, 3, 5, 8, 13, 21, 34, 55, 89]\n",
      "         102 function calls (74 primitive calls) in 0.000 seconds\n",
      "\n",
      "   Ordered by: standard name\n",
      "\n",
      "   ncalls  tottime  percall  cumtime  percall filename:lineno(function)\n",
      "    29/11    0.000    0.000    0.000    0.000 <ipython-input-1-283b6a961379>:12(__call__)\n",
      "     11/1    0.000    0.000    0.000    0.000 <ipython-input-2-95d8f7a7fb24>:12(fib_seq)\n",
      "       11    0.000    0.000    0.000    0.000 <ipython-input-2-95d8f7a7fb24>:3(fib)\n",
      "        1    0.000    0.000    0.000    0.000 <string>:1(<module>)\n",
      "        2    0.000    0.000    0.000    0.000 iostream.py:195(schedule)\n",
      "        2    0.000    0.000    0.000    0.000 iostream.py:307(_is_master_process)\n",
      "        2    0.000    0.000    0.000    0.000 iostream.py:320(_schedule_flush)\n",
      "        2    0.000    0.000    0.000    0.000 iostream.py:382(write)\n",
      "        2    0.000    0.000    0.000    0.000 iostream.py:93(_event_pipe)\n",
      "        2    0.000    0.000    0.000    0.000 socket.py:337(send)\n",
      "        2    0.000    0.000    0.000    0.000 threading.py:1038(_wait_for_tstate_lock)\n",
      "        2    0.000    0.000    0.000    0.000 threading.py:1080(is_alive)\n",
      "        2    0.000    0.000    0.000    0.000 threading.py:507(is_set)\n",
      "        1    0.000    0.000    0.000    0.000 {built-in method builtins.exec}\n",
      "        2    0.000    0.000    0.000    0.000 {built-in method builtins.isinstance}\n",
      "        1    0.000    0.000    0.000    0.000 {built-in method builtins.print}\n",
      "        2    0.000    0.000    0.000    0.000 {built-in method nt.getpid}\n",
      "        2    0.000    0.000    0.000    0.000 {method 'acquire' of '_thread.lock' objects}\n",
      "        2    0.000    0.000    0.000    0.000 {method 'append' of 'collections.deque' objects}\n",
      "       11    0.000    0.000    0.000    0.000 {method 'append' of 'list' objects}\n",
      "        1    0.000    0.000    0.000    0.000 {method 'disable' of '_lsprof.Profiler' objects}\n",
      "       10    0.000    0.000    0.000    0.000 {method 'extend' of 'list' objects}\n",
      "\n",
      "\n"
     ]
    }
   ],
   "source": [
    "import cProfile\n",
    "\n",
    "@memoize\n",
    "def fib(n):\n",
    "    # https://en.wikipedia.org/wiki/Fibonacci_number\n",
    "    # http://en.literateprograms.org/Fibonacci_numbers_(Python)\n",
    "    if n == 0 or n == 1:\n",
    "        return 1\n",
    "    else:\n",
    "        return fib(n-1) + fib(n-2)\n",
    "\n",
    "def fib_seq(n):\n",
    "    \n",
    "    seq = [ ]\n",
    "    if n > 0:\n",
    "        seq.extend(fib_seq(n-1))\n",
    "    seq.append(fib(n))\n",
    "    \n",
    "    return seq\n",
    "\n",
    "# title\n",
    "print('memoized Fibonacci \\n','=' * 80)\n",
    "\n",
    "# Profiling\n",
    "cProfile.run('print(fib_seq(10))')"
   ]
  },
  {
   "cell_type": "markdown",
   "metadata": {},
   "source": [
    "```\n",
    "170 function calls (112 primitive calls) in 0.000 seconds\n",
    "\n",
    "   Ordered by: standard name\n",
    "\n",
    "   ncalls  tottime  percall  cumtime  percall filename:lineno(function)\n",
    "    59/21    0.000    0.000    0.000    0.000 <ipython-input-16-2cf0dfdc9e5d>:11(__call__)\n",
    "     21/1    0.000    0.000    0.000    0.000 <ipython-input-17-d7b926d0b05b>:11(fib_seq)\n",
    "       21    0.000    0.000    0.000    0.000 <ipython-input-17-d7b926d0b05b>:3(fib)\n",
    "```"
   ]
  },
  {
   "cell_type": "markdown",
   "metadata": {},
   "source": [
    "**A big impact on the performance** of this function.\n",
    "\n",
    "```\n",
    "57381 function calls (91 primitive calls) in 0.022 seconds\n",
    " \n",
    "170 function calls (112 primitive calls) in 0.000 seconds\n",
    "```\n",
    "\n",
    "By remembering the <b>Fibonacci</b> value at each level we can `avoid` most of the `recursion`\n",
    "\n",
    "the **ncalls** count for **fib()** shows that it `never` recurses.\n",
    "```\n",
    "ncalls  tottime  percall  cumtime  percall filename:lineno(function)\n",
    "21    0.000    0.000    0.000    0.000 <ipython-input-17-d7b926d0b05b>:3(fib)\n",
    "```\n"
   ]
  },
  {
   "cell_type": "code",
   "execution_count": null,
   "metadata": {},
   "outputs": [],
   "source": [
    "%timeit fib(20) "
   ]
  },
  {
   "cell_type": "markdown",
   "metadata": {},
   "source": [
    "###  Decorators(装饰器)\n",
    "\n",
    "A `decorator` is any `callable` Python object that is used to `modify` the definition of \n",
    "\n",
    "* **function**\n",
    "\n",
    "\n",
    "* **method** \n",
    "\n",
    "\n",
    "* **class** \n",
    "\n",
    "\n",
    "A decorator is passed the **original object** being defined and `returns` a **modified object**\n"
   ]
  },
  {
   "cell_type": "code",
   "execution_count": 3,
   "metadata": {},
   "outputs": [
    {
     "name": "stdout",
     "output_type": "stream",
     "text": [
      "25\n",
      "-7\n"
     ]
    }
   ],
   "source": [
    "# square sum\n",
    "def square_sum(a, b):\n",
    "    return a**2 + b**2\n",
    "\n",
    "# square diff\n",
    "def square_diff(a, b):\n",
    "    return a**2 - b**2\n",
    "\n",
    "print(square_sum(3, 4))\n",
    "print(square_diff(3, 4))"
   ]
  },
  {
   "cell_type": "markdown",
   "metadata": {},
   "source": [
    "#### Add  print input\n",
    "\n",
    "##### 1 modified the codes of defs directly"
   ]
  },
  {
   "cell_type": "code",
   "execution_count": 4,
   "metadata": {},
   "outputs": [
    {
     "name": "stdout",
     "output_type": "stream",
     "text": [
      "intput: 3 4\n",
      "25\n",
      "input 3 4\n",
      "-7\n"
     ]
    }
   ],
   "source": [
    "# modify: print input\n",
    "\n",
    "# square sum\n",
    "def square_sum(a, b):\n",
    "    print(\"intput:\", a, b)\n",
    "    return a**2 + b**2\n",
    "\n",
    "#  square diff\n",
    "def square_diff(a, b):\n",
    "    print(\"input\", a, b)\n",
    "    return a**2 - b**2\n",
    "\n",
    "\n",
    "print(square_sum(3, 4))\n",
    "print(square_diff(3, 4))\n"
   ]
  },
  {
   "cell_type": "markdown",
   "metadata": {},
   "source": [
    "##### 2 Using decorator"
   ]
  },
  {
   "cell_type": "code",
   "execution_count": 5,
   "metadata": {},
   "outputs": [
    {
     "name": "stdout",
     "output_type": "stream",
     "text": [
      "input 3 4\n",
      "25\n",
      "input 3 4\n",
      "-7\n"
     ]
    }
   ],
   "source": [
    "def printinput(func):\n",
    "    \n",
    "    def new_func(a, b):\n",
    "        print(\"input\", a, b) # add print input to the origina func\n",
    "        return func(a, b)\n",
    "    \n",
    "    return new_func\n",
    "\n",
    "# square sum\n",
    "@printinput\n",
    "def square_sum(a, b):\n",
    "    return a**2 + b**2\n",
    "\n",
    "# square diff\n",
    "@printinput\n",
    "def square_diff(a, b):\n",
    "    return a**2 - b**2\n",
    "\n",
    "print(square_sum(3, 4))\n",
    "print(square_diff(3, 4))"
   ]
  },
  {
   "cell_type": "markdown",
   "metadata": {},
   "source": [
    "## D. Property and Decorator \n",
    " \n",
    "### Data encapsulation \n",
    "\n",
    "**Data encapsulation**: the bundling of data with the `methods` that `operate` on these data.\n",
    "\n",
    "These `methods` are of course the \n",
    "    \n",
    "* **getter** for `retrieving` the data and \n",
    "    \n",
    "* **setter**  for `changing` the data\n",
    "\n",
    "[8.1.2 Using Classes to Keep Track of Students and Faculty](./Unit3-1-08_CLASSES_AND_OBJECT-ORIENTED_PROGRAMMING.ipynb#8.1.2-Using-Classes-to-Keep-Track-of-Students-and-Faculty)\n",
    "\n",
    "   * (2) One can then access information about these instances using the `methods` associated with them,e.g: `lastname`, **him.getLastName()**,not ** him.lastName**\n",
    "    \n",
    "\n",
    "\n",
    "\n",
    "### property class\n",
    "\n",
    "Python has a great concept called **property** which makes the life of an object oriented programmer much simpler.\n",
    "\n",
    "* https://docs.python.org/3/library/functions.html#property\n",
    "```python\n",
    "class property(fget=None, fset=None, fdel=None, doc=None)\n",
    "```\n",
    "Return a property attribute.\n",
    "\n",
    "  * **fget**: a function for getting an attribute value.\n",
    "  * **fset**: a function for setting an attribute value.\n",
    "  * **fdel**:  a function for deleting an attribute value. \n",
    "  * **doc**: a docstring for the attribute.\n",
    "\n",
    "A typical use is to define a managed attribute **x**:"
   ]
  },
  {
   "cell_type": "code",
   "execution_count": 6,
   "metadata": {},
   "outputs": [],
   "source": [
    "class Cproperty:\n",
    "    def __init__(self):\n",
    "        self._x = None\n",
    "\n",
    "    def getx(self):\n",
    "        return self._x\n",
    "\n",
    "    def setx(self, value):\n",
    "        self._x = value\n",
    "\n",
    "    def delx(self):\n",
    "        del self._x\n",
    "    \n",
    "    x = property(getx, setx, delx, \"I'm the 'x' property.\")"
   ]
  },
  {
   "cell_type": "code",
   "execution_count": 7,
   "metadata": {},
   "outputs": [
    {
     "name": "stdout",
     "output_type": "stream",
     "text": [
      "1\n"
     ]
    }
   ],
   "source": [
    "c1=Cproperty()\n",
    "\n",
    "c1.setx(1)\n",
    "\n",
    "xvalue=c1.getx()\n",
    "\n",
    "print(xvalue)\n",
    "\n",
    "#print(c1.getx())\n",
    "#print(c1._x)\n",
    "\n",
    "#c1.delx()\n",
    "#print(c1.getx())"
   ]
  },
  {
   "cell_type": "code",
   "execution_count": 10,
   "metadata": {},
   "outputs": [
    {
     "name": "stdout",
     "output_type": "stream",
     "text": [
      "2\n",
      "2\n"
     ]
    }
   ],
   "source": [
    "c1=Cproperty()\n",
    "\n",
    "c1.x=2\n",
    "\n",
    "print(c1.x)\n",
    "\n",
    "#del c1.x\n",
    "print(c1.x)"
   ]
  },
  {
   "cell_type": "markdown",
   "metadata": {},
   "source": [
    "#### Private Variables\n",
    "\n",
    "A **single underscore(_)** before a name is used to specify that the name is to be **treated** as **`private` by a programmer.** \n",
    "\n",
    "It’s kind of  a `convention` so that the next person (or yourself) using your code knows that a name starting with **`_`** is for `internal` use\n"
   ]
  },
  {
   "cell_type": "code",
   "execution_count": null,
   "metadata": {},
   "outputs": [],
   "source": [
    "c1._x"
   ]
  },
  {
   "cell_type": "markdown",
   "metadata": {},
   "source": [
    "**The suitable method：**"
   ]
  },
  {
   "cell_type": "code",
   "execution_count": null,
   "metadata": {},
   "outputs": [],
   "source": [
    "c1.x"
   ]
  },
  {
   "cell_type": "markdown",
   "metadata": {},
   "source": [
    "\n",
    "> Reference Python Doc: 9.6. Private Variables https://docs.python.org/tutorial/classes.html#tut-private\n",
    ">\n",
    ">“Private” instance variables that cannot be accessed except from inside an object don’t exist in Python. However, there is a convention >that is followed by most Python code: a name prefixed with an underscore (e.g. _spam) should be treated as a non-public part of the API >(whether it is a function, a method or a data member). It should be considered an implementation detail and subject to change without notice."
   ]
  },
  {
   "cell_type": "markdown",
   "metadata": {},
   "source": [
    "#### property()  as a decorator\n",
    "\n",
    "This makes it possible to create **read-only** `properties` easily using **property()** as **a decorator**\n",
    "\n",
    "A property object has `getter, setter, and deleter` methods usable as `decorators `that create a copy of the property with the corresponding accessor function set to the decorated function. \n",
    "\n",
    "This is best explained with an example:"
   ]
  },
  {
   "cell_type": "code",
   "execution_count": 12,
   "metadata": {},
   "outputs": [],
   "source": [
    "class Cproperty:\n",
    "    def __init__(self):\n",
    "        self._x = None\n",
    "\n",
    "    @property\n",
    "    def x(self):\n",
    "        \"\"\"I'm the 'x' property.\"\"\"\n",
    "        return self._x\n",
    "\n",
    "    @x.setter\n",
    "    def x(self, value):\n",
    "        self._x = value\n",
    "\n",
    "    @x.deleter\n",
    "    def x(self):\n",
    "        del self._x"
   ]
  },
  {
   "cell_type": "code",
   "execution_count": 13,
   "metadata": {},
   "outputs": [
    {
     "name": "stdout",
     "output_type": "stream",
     "text": [
      "2\n"
     ]
    }
   ],
   "source": [
    "c1=Cproperty()\n",
    "c1.x=2\n",
    "print(c1.x)\n",
    "\n",
    "#del c1.x\n",
    "#print(c1.x)"
   ]
  },
  {
   "cell_type": "markdown",
   "metadata": {},
   "source": [
    "#### Example: The class `node`\n",
    "\n",
    "the class `node` in [PyRankine](https://github.com/PySEE/PyRankine)"
   ]
  },
  {
   "cell_type": "code",
   "execution_count": 14,
   "metadata": {},
   "outputs": [],
   "source": [
    "import seuif97 as if97\n",
    "\n",
    "class node(object):\n",
    "    \"\"\" water properites\"\"\"\n",
    "    \n",
    "    def __init__(self):\n",
    "        self.p = None\n",
    "        self.t = None\n",
    "        self.x = None\n",
    "        self.h = None\n",
    "        self.s = None\n",
    "        self.v = None\n",
    " \n",
    "    def pt(self):\n",
    "        self.h = if97.pt2h(self.p, self.t)\n",
    "        self.s = if97.pt2s(self.p, self.t)\n",
    "        self.v = if97.pt2v(self.p, self.t)\n",
    "        self.x = if97.pt2x(self.p, self.t)\n",
    "\n",
    "    def __str__(self):\n",
    "        result=('{:6.3f}\\t {:6.2f}\\t {:7.2f}\\t {:5.2f} \\t {:6.3f}\\t {:5.3}'.format\n",
    "                (self.p,self.t,self.h,self.s,self.v, self.x))\n",
    "        return  result       \n",
    "   "
   ]
  },
  {
   "cell_type": "code",
   "execution_count": 16,
   "metadata": {},
   "outputs": [
    {
     "name": "stdout",
     "output_type": "stream",
     "text": [
      "16.000\t 535.00\t 3398.13\t  6.43 \t  0.021\t   1.0\n",
      "16.000\t 600.00\t 3398.13\t  6.43 \t  0.021\t   1.0\n"
     ]
    }
   ],
   "source": [
    "n1=node()\n",
    "n1.p=16\n",
    "n1.t=535\n",
    "\n",
    "n1.pt()\n",
    "print(n1)\n",
    "\n",
    "# t changed \n",
    "n1.t=600\n",
    "\n",
    "#n1.pt()\n",
    "# t changed but you get the same h,s,... ,if call w1.pt()is ingored \n",
    "\n",
    "print(n1)\n"
   ]
  },
  {
   "cell_type": "markdown",
   "metadata": {},
   "source": [
    "##### Using @property decorator to modify the class `node`\n",
    "\n",
    "`@*.setter` :setting an attribute value.\n",
    "\n",
    "```python\n",
    "   @p.setter # setting P value.\n",
    "    def p(self, value):\n",
    "        self._p = value\n",
    "        # calState\n",
    "        self.calState()\n",
    "```\n",
    ">**Reactive programming** is a computer science concept that describes the properties of a computer programming language focused on automatically maintaining the state of an application as the data used in the program change.\n",
    ">\n",
    ">One of the main features of a reactive programming language is that declared and calculated variables are constantly re-evaluated as other variables used in their calculation change\n"
   ]
  },
  {
   "cell_type": "code",
   "execution_count": 17,
   "metadata": {},
   "outputs": [],
   "source": [
    "import seuif97 as if97\n",
    "\n",
    "class node(object):\n",
    "    \"\"\" water properites\"\"\"\n",
    "    \n",
    "    def __init__(self):\n",
    "        self._p = None\n",
    "        self._t = None\n",
    "        self._x = None\n",
    "        self._h = None\n",
    "        self._s = None\n",
    "        self._v = None\n",
    "    \n",
    "    @property\n",
    "    def p(self):\n",
    "        return self._p\n",
    "\n",
    "    @p.setter # setting P value.\n",
    "    def p(self, value):\n",
    "        self._p = value\n",
    "        # calState\n",
    "        self.calState()\n",
    "\n",
    "    @property\n",
    "    def t(self):\n",
    "        return self._t\n",
    "\n",
    "    @t.setter # setting t value.\n",
    "    def t(self, value):\n",
    "        self._t = value\n",
    "        # calState\n",
    "        self.calState()    \n",
    "    \n",
    "    @property\n",
    "    def h(self):\n",
    "        return self._h\n",
    "    \n",
    "    @property\n",
    "    def s(self):\n",
    "        return self._s\n",
    "    \n",
    "    @property\n",
    "    def x(self):\n",
    "        return self._x\n",
    "    \n",
    "    def pt(self):\n",
    "        self._h = if97.pt2h(self._p, self._t)\n",
    "        self._s = if97.pt2s(self._p, self._t)\n",
    "        self._v = if97.pt2v(self._p, self._t)\n",
    "        self._x = if97.pt2x(self._p, self._t)\n",
    "\n",
    "   \n",
    "    def calState(self):\n",
    "        if self._p !=None and self._t!=None:\n",
    "            self.pt()\n",
    "\n",
    "    def __str__(self):\n",
    "        result=('{:6.3f}\\t {:6.2f}\\t {:7.2f}\\t {:5.2f} \\t {:6.3f}\\t {:5.3}'.format\n",
    "                (self._p,self._t,self._h,self._s,self._v, self._x))\n",
    "        return  result       \n",
    "   "
   ]
  },
  {
   "cell_type": "code",
   "execution_count": 18,
   "metadata": {},
   "outputs": [
    {
     "name": "stdout",
     "output_type": "stream",
     "text": [
      "16.000\t 535.00\t 3398.13\t  6.43 \t  0.021\t   1.0\n",
      "3398.1326343129176\n",
      "16.000\t 600.00\t 3574.61\t  6.64 \t  0.023\t   1.0\n",
      "3574.6131372158584\n"
     ]
    }
   ],
   "source": [
    "n1=node()\n",
    "n1.p=16.\n",
    "n1.t=535\n",
    "print(n1)\n",
    "print(n1.h)\n",
    "\n",
    "# t changed \n",
    "n1.t=600\n",
    "# got the right values(h,s,..) of (p,t)\n",
    "print(n1)\n",
    "print(n1.h)"
   ]
  },
  {
   "cell_type": "markdown",
   "metadata": {},
   "source": [
    "## Furthe Reading \n",
    "\n",
    "### Python 3 Module of the Week:\n",
    "\n",
    "profile and pstats — Performance Analysis\n",
    "\n",
    "https://pymotw.com/3/profile/index.html  \n",
    "\n"
   ]
  }
 ],
 "metadata": {
  "kernelspec": {
   "display_name": "Python 3",
   "language": "python",
   "name": "python3"
  },
  "language_info": {
   "codemirror_mode": {
    "name": "ipython",
    "version": 3
   },
   "file_extension": ".py",
   "mimetype": "text/x-python",
   "name": "python",
   "nbconvert_exporter": "python",
   "pygments_lexer": "ipython3",
   "version": "3.7.2"
  },
  "toc": {
   "base_numbering": 1,
   "nav_menu": {},
   "number_sections": false,
   "sideBar": true,
   "skip_h1_title": false,
   "title_cell": "Table of Contents",
   "title_sidebar": "Contents",
   "toc_cell": false,
   "toc_position": {
    "height": "calc(100% - 180px)",
    "left": "10px",
    "top": "150px",
    "width": "320px"
   },
   "toc_section_display": true,
   "toc_window_display": true
  },
  "widgets": {
   "state": {},
   "version": "1.1.2"
  }
 },
 "nbformat": 4,
 "nbformat_minor": 1
}
