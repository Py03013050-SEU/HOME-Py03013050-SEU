{
 "cells": [
  {
   "cell_type": "markdown",
   "metadata": {},
   "source": [
    "#  The Static and Shared Library with GCC\n",
    "\n"
   ]
  },
  {
   "cell_type": "markdown",
   "metadata": {},
   "source": [
    "##  The Library \n",
    "\n",
    "Library files are a collection of **precompiled functions** that are written according to the principle of reusability. \n",
    "\n",
    "They are usually made up of a set of interrelated functions used to perform a common task\n",
    "\n",
    "### Static  Library \n",
    "\n",
    "Static libraries are **directly linked into** the program at compile time. \n",
    "\n",
    "A program using a static library takes copies of the code that it uses from the static library and makes it part of the program. \n",
    "\n",
    "\n",
    "\n",
    "### Shared  Library \n",
    "\n",
    "For a shared library, the compiler/linker checks that the names you link with exist in the library when the application is built, **but doesn't move their code into the application**. At run time, the shared library must be available.\n",
    "\n",
    "Before the executable starts running, **the operating system loads the machine code needed for the external functions** - a process known as **dynamic linking.** \n",
    "\n",
    "### The advantages and disadvantages in each method\n",
    "\n",
    "**The advantages of using library**\n",
    "\n",
    "1. Modular development\n",
    "\n",
    "2. Reusability\n",
    "\n",
    "3. Maintainability\n",
    "\n",
    "**Shared libraries**\n",
    "\n",
    "* reduce the amount of code that is duplicated in each program that makes use of the library, keeping **binaries small**. \n",
    "\n",
    "* allows you to replace the shared object with one that is functionally equivalent, but may have added performance benefits **without needing to recompile** the program that makes use of it. \n",
    "\n",
    "Shared libraries will, however have a small additional cost for the execution of the functions as well as a run-time loading cost as all the symbols in the library need to be connected to the things they use\n",
    "\n",
    "**Static libraries**\n",
    "\n",
    "* increase the overall size of the binary, but it means that you don't need to carry along a copy of the library that is being used. As the code is connected at compile time there are not any additional run-time loading costs. The code is simply there.\n",
    "\n",
    "![library](./img/library.png) \n",
    "\n",
    "\n",
    "\n",
    "\n",
    "**GCC assumes that all libraries**\n",
    "   \n",
    "* `start` with **lib**\n",
    "\n",
    "* Static libraries: `end` with `.a`\n",
    "\n",
    "* Shared libraries: `end`  with `.dll`(windows) or `.so`(Linux)，\n",
    "\n"
   ]
  },
  {
   "cell_type": "markdown",
   "metadata": {},
   "source": [
    "Change the current working directory to `./demo`"
   ]
  },
  {
   "cell_type": "code",
   "execution_count": null,
   "metadata": {},
   "outputs": [],
   "source": [
    "%cd demo"
   ]
  },
  {
   "cell_type": "code",
   "execution_count": null,
   "metadata": {},
   "outputs": [],
   "source": [
    "%pwd"
   ]
  },
  {
   "cell_type": "markdown",
   "metadata": {},
   "source": [
    "\n",
    "## 1 The shared library\n",
    "\n",
    "### 1.1 The source code of library \n",
    "The  shared library we will build consist of a single source file: \n",
    "\n",
    "* `statistics.c/h`\n"
   ]
  },
  {
   "cell_type": "code",
   "execution_count": null,
   "metadata": {},
   "outputs": [],
   "source": [
    "%%file ./include/statistics.h\n",
    "#ifndef STATISTICS_H\n",
    "#define STATISTICS_H\n",
    "\n",
    "double  mean(double data[], int size);\n",
    "\n",
    "#endif\n"
   ]
  },
  {
   "cell_type": "code",
   "execution_count": null,
   "metadata": {},
   "outputs": [],
   "source": [
    "%%file ./src/statistics.c\n",
    "\n",
    "#include \"statistics.h\"\n",
    "\n",
    "double  mean(double data[], int size)\n",
    "{\n",
    "  /* Compute the arithmetic mean of a dataset using the recurrence relation \n",
    "     mean_(n) = mean(n-1) + (data[n] - mean(n-1))/(n+1)   */\n",
    "\n",
    "  double mean = 0;\n",
    "  for(int  i = 0; i < size; i++)\n",
    "  {\n",
    "      mean += (data[i] - mean) / (i + 1);\n",
    "   }\n",
    "  return mean;\n",
    "}"
   ]
  },
  {
   "cell_type": "markdown",
   "metadata": {},
   "source": [
    "\n",
    "### 1.2 The shared library\n",
    "\n"
   ]
  },
  {
   "cell_type": "markdown",
   "metadata": {},
   "source": [
    "#### Step 1: Compiling with Position Independent Code\n",
    "\n",
    "We compile the C file with `Position Independent Code( PIC )` \n",
    "\n",
    "\n",
    "* **`-fPIC`** : stands for `Position Independent Code`(位置无关代码)\n",
    "   \n",
    "   the generated machine code is `not dependent` on being located at a `specific address` in order to `work`.\n",
    "   \n",
    "   Position-independent code can be `executed` at `any memory address`\n",
    "     "
   ]
  },
  {
   "cell_type": "code",
   "execution_count": null,
   "metadata": {},
   "outputs": [],
   "source": [
    "!gcc -c -O3 -Wall -fPIC  -o  ./obj/statistics.o  ./src/statistics.c -I./include/"
   ]
  },
  {
   "cell_type": "markdown",
   "metadata": {},
   "source": [
    "* `-c`: compile into object file with default name : *.o.\n",
    "\n",
    "      By default, the object file has the same name as the source file with extension of \".o\" \n",
    "  \n",
    "  \n",
    "* `-O3`: Optimize yet more.\n",
    "\n",
    "      turns on all optimizations specified by -O2 and also turns on the -finline-functions, -fweb, -frename-registers and -funswitch-loops optionsturns  on  all  optimizations   \n",
    "     \n",
    "  \n",
    "* `-Wall`: prints \"all\"  compiler's warning message. \n",
    "\n",
    "      This option should always be used, in order to generate better code."
   ]
  },
  {
   "cell_type": "markdown",
   "metadata": {},
   "source": [
    "#### Step 2: Creating a shared library from an object file\n",
    "\n",
    "* -shared : creating a shared library"
   ]
  },
  {
   "cell_type": "code",
   "execution_count": null,
   "metadata": {},
   "outputs": [],
   "source": [
    "!gcc -shared -o  ./bin/libstat.dll ./obj/statistics.o"
   ]
  },
  {
   "cell_type": "markdown",
   "metadata": {},
   "source": [
    "**Makefile of Building the shared library**"
   ]
  },
  {
   "cell_type": "code",
   "execution_count": null,
   "metadata": {},
   "outputs": [],
   "source": [
    "%%file ./makestatso.mk\n",
    "\n",
    "CC=gcc\n",
    "CFLAGS=-O3 -Wall -fPIC \n",
    "\n",
    "SRCDIR=./src/\n",
    "OBJDIR=./obj/\n",
    "BINDIR=./bin/\n",
    "INCDIR=./include/\n",
    "\n",
    "# Windows\n",
    "LIB=libstat.dll\n",
    "\n",
    "all:  $(LIB)\n",
    "\n",
    "$(LIB): statobj\n",
    "\t $(CC) -shared -o $(BINDIR)$@ $(OBJDIR)statistics.o\n",
    "    \n",
    "statobj: $(SRCDIR)statistics.c\n",
    "\t $(CC) -c $(CFLAGS)  -o $(OBJDIR)statistics.o $(SRCDIR)statistics.c -I$(INCDIR)    \n"
   ]
  },
  {
   "cell_type": "code",
   "execution_count": null,
   "metadata": {},
   "outputs": [],
   "source": [
    "!make -f makestatso.mk"
   ]
  },
  {
   "cell_type": "code",
   "execution_count": null,
   "metadata": {},
   "outputs": [],
   "source": [
    "!dir .\\bin\\libstat*.*"
   ]
  },
  {
   "cell_type": "markdown",
   "metadata": {},
   "source": [
    "#### Step3: Using the shared library"
   ]
  },
  {
   "cell_type": "markdown",
   "metadata": {},
   "source": [
    "### Header Files and Libraries \n",
    "\n",
    "* `Header File`: When compiling the program, the **compiler** needs the **header** files to compile the source codes;\n",
    "\n",
    "* `libraries`: the **linker** needs the **libraries** to resolve external references from other object files or libraries. \n",
    "\n",
    "The `compiler` and `linker` will not find the `headers/libraries` unless you set **the appropriate options**\n",
    "\n",
    "* **1 Searching for Header Files**\n",
    "\n",
    "   **`-Idir`:** The include-paths are specified via **-Idir** option (`uppercase` 'I' followed by the directory path. \n",
    "   \n",
    "   \n",
    "* **2 Searching for libraries Files**\n",
    "\n",
    "   **`-Ldir`**: The library-path is specified via **-Ldir** option (`uppercase` 'L' followed by the directory path）. \n",
    "\n",
    "\n",
    "* **3 Linking the library**\n",
    "\n",
    "   **`-lname`**: Link with the library name **without** the `lib` prefix and the extensions.\n",
    " \n"
   ]
  },
  {
   "cell_type": "markdown",
   "metadata": {},
   "source": [
    "We use the **same** code ` ./src/statdemo.c` to demonstrates calling the shared library \n",
    "\n"
   ]
  },
  {
   "cell_type": "markdown",
   "metadata": {},
   "source": [
    "**Makefile**"
   ]
  },
  {
   "cell_type": "code",
   "execution_count": null,
   "metadata": {},
   "outputs": [],
   "source": [
    "%%file ./makestatsodemo.mk\n",
    "\n",
    "SRCDIR= ./src/\n",
    "OBJDIR= ./obj/\n",
    "BINDIR= ./bin/\n",
    "INCDIR=./include/\n",
    "\n",
    "all: statdemoso\n",
    "\n",
    "statdemoso: statobj  \n",
    "\tgcc -o $(BINDIR)$@ $(OBJDIR)statdemo.o -L$(BINDIR) -lstat\n",
    "\n",
    "statobj: $(SRCDIR)statdemo.c \n",
    "\tgcc -c -o $(OBJDIR)statdemo.o $(SRCDIR)statdemo.c -I$(INCDIR)"
   ]
  },
  {
   "cell_type": "code",
   "execution_count": null,
   "metadata": {},
   "outputs": [],
   "source": [
    "!make -f makestatsodemo.mk"
   ]
  },
  {
   "cell_type": "code",
   "execution_count": null,
   "metadata": {},
   "outputs": [],
   "source": [
    "!dir .\\bin\\statdemo*.*"
   ]
  },
  {
   "cell_type": "code",
   "execution_count": null,
   "metadata": {},
   "outputs": [],
   "source": [
    "!.\\bin\\statdemoso"
   ]
  },
  {
   "cell_type": "markdown",
   "metadata": {},
   "source": [
    "## 2 Building  a Shared Library with Multi-source\n",
    "\n",
    "### 2.1  The multi-source files\n",
    "The shared library we will build consist of the multi-source files\n",
    "\n",
    "* statistics.c/h\n",
    "* funs.c/h\n",
    "\n",
    "**funs.c/h N!**"
   ]
  },
  {
   "cell_type": "code",
   "execution_count": null,
   "metadata": {},
   "outputs": [],
   "source": [
    "%%file ./include/funs.h\n",
    "\n",
    "#ifndef FUNS_H\n",
    "#define FUNS_H\n",
    "\n",
    "int factorial(int n);\n",
    "\n",
    "#endif"
   ]
  },
  {
   "cell_type": "code",
   "execution_count": null,
   "metadata": {},
   "outputs": [],
   "source": [
    "%%file ./src/funs.c\n",
    "\n",
    "#include \"funs.h\"\n",
    "\n",
    "// The factorial of a positive integer n, denoted by n!, \n",
    "//    is the product of all positive integers less than or equal to n. \n",
    "//  For example,5!=5*4*3*2*1=120\n",
    "//  The value of 0! is 1 \n",
    "int factorial(int n)\n",
    "{\n",
    "    if (n == 0 ) {\n",
    "        return 1;\n",
    "    }\n",
    "    else \n",
    "    {\n",
    "        return n * factorial(n - 1);\n",
    "    }\n",
    "}"
   ]
  },
  {
   "cell_type": "markdown",
   "metadata": {},
   "source": [
    "### 2.2 Building  into One Shared Library\n",
    "\n",
    "**Makefile**\n",
    "\n",
    "```make\n",
    "SRCS=$(SRCDIR)statistics.c \\\n",
    "    $(SRCDIR)funs.c \n",
    "```    "
   ]
  },
  {
   "cell_type": "code",
   "execution_count": null,
   "metadata": {},
   "outputs": [],
   "source": [
    "%%file ./makelibfuns.mk\n",
    "\n",
    "CC=gcc\n",
    "CFLAGS=-O3 -Wall -fPIC\n",
    "\n",
    "SRCDIR= ./src/\n",
    "OBJDIR= ./obj/\n",
    "BINDIR= ./bin/\n",
    "INCDIR= ./include/\n",
    "\n",
    "LIB=libfuns.dll\n",
    "\n",
    "SRCS=$(SRCDIR)statistics.c \\\n",
    "    $(SRCDIR)funs.c \n",
    "\n",
    "# non-path filename\n",
    "filename=$(notdir $(SRCS))\n",
    "\n",
    "# the obj target of a source code using the pattern rule\n",
    "OBJS=$(patsubst %.c,$(OBJDIR)%.o,$(filename))\n",
    "\n",
    "all:$(LIB)\n",
    "    \n",
    "$(LIB): $(OBJS)  \n",
    "\t$(CC) -shared -o $(BINDIR)$@ $^ \n",
    "\n",
    "# the pattern rule: one step rule for multiple source files\n",
    "$(OBJS):$(SRCS)\n",
    "#\t$(CC) $(CFLAGS) -o $@ -c $(SRCDIR)$(patsubst  %.o,%.c,$(notdir $@))  -I$(INCDIR)\n",
    "\t$(CC) $(CFLAGS) -o $@ -c $^  -I$(INCDIR)"
   ]
  },
  {
   "cell_type": "code",
   "execution_count": null,
   "metadata": {},
   "outputs": [],
   "source": [
    "!make -f makelibfuns.mk"
   ]
  },
  {
   "cell_type": "code",
   "execution_count": null,
   "metadata": {},
   "outputs": [],
   "source": [
    "!dir .\\bin\\libf*.dll"
   ]
  },
  {
   "cell_type": "markdown",
   "metadata": {},
   "source": [
    "### 2.3 Building a client executable \n",
    "\n",
    "The source code `\"funsdemo.c\"` demonstrates calling the shared library's functions:\n"
   ]
  },
  {
   "cell_type": "code",
   "execution_count": null,
   "metadata": {},
   "outputs": [],
   "source": [
    "%%file ./src/funsdemo.c\n",
    "\n",
    "#include <stdio.h> \n",
    "#include \"statistics.h\"\n",
    "#include \"funs.h\"\n",
    "\n",
    "int main() {\n",
    "    \n",
    "     double a[] = {8, 4, 5, 3, 2};\n",
    "     int len= sizeof(a)/sizeof(*a);\n",
    "     printf(\"mena is %f\\n\", mean(a,  len)); \n",
    "    \n",
    "     int n =5;\n",
    "     printf(\"the factorial of  %d is %d\\n\",n,factorial(n));  // 5!=120\n",
    "     return 0;\n",
    "}"
   ]
  },
  {
   "cell_type": "markdown",
   "metadata": {},
   "source": [
    "#### Windows "
   ]
  },
  {
   "cell_type": "code",
   "execution_count": null,
   "metadata": {},
   "outputs": [],
   "source": [
    "!gcc -c -o ./obj/funsdemo.o ./src/funsdemo.c -I./include/\n",
    "!gcc -o  ./bin/funsdemo ./obj/funsdemo.o  -L./bin/ -lfuns"
   ]
  },
  {
   "cell_type": "code",
   "execution_count": null,
   "metadata": {},
   "outputs": [],
   "source": [
    "!.\\bin\\funsdemo"
   ]
  },
  {
   "cell_type": "markdown",
   "metadata": {},
   "source": [
    "## 3 The C/C++ Caller of CoolProp Library in Windows\n",
    "\n",
    "**Change working dir to `./notebook/coolpropdemo`**\n"
   ]
  },
  {
   "cell_type": "code",
   "execution_count": null,
   "metadata": {},
   "outputs": [],
   "source": [
    "%pwd"
   ]
  },
  {
   "cell_type": "code",
   "execution_count": null,
   "metadata": {},
   "outputs": [],
   "source": [
    "%cd ./coolpropdemo"
   ]
  },
  {
   "cell_type": "markdown",
   "metadata": {},
   "source": [
    "\n",
    "* [Official Doc: CoolProp Shared Library](http://www.coolprop.org/coolprop/wrappers/SharedLibrary/index.html#)\n",
    "\n",
    "The example use a TDM-GCC-64 dll: **libCoolProp.dll** of CoolProp\n",
    "\n",
    "**The Windows Shared Library**\n",
    "\n",
    "1. The official Windows Shared Library: `CoolProp_x64.dll`\n",
    "\n",
    "2. The Shared Library with MinGW64: `libCoolProp.dll`\n",
    "\n"
   ]
  },
  {
   "cell_type": "markdown",
   "metadata": {},
   "source": [
    "#### C Caller\n",
    "\n",
    "* -DCOOLPROP_LIB "
   ]
  },
  {
   "cell_type": "code",
   "execution_count": null,
   "metadata": {},
   "outputs": [],
   "source": [
    "%%file ./main.c\n",
    "\n",
    "/* \n",
    "The example use the shared library of CoolProp in c\n",
    "\n",
    "The library: libCoolProp.dll or CoolProp_x64.dll\n",
    "\n",
    "g++ -DCOOLPROP_LIB -o ./bin/main   main.c -I./include -L./bin -lCoolProp\n",
    "       \n",
    "./bin/main\n",
    "\n",
    "*/\n",
    "\n",
    "#include \"CoolPropLib.h\"\n",
    "#include <stdio.h>\n",
    "\n",
    "int main() {\n",
    "     double value=PropsSI(\"P\",\"T\",273.15+0,\"Q\",0,\"R134a\");\n",
    "     printf(\"%f\\n\", value); \n",
    "     return 0;\n",
    "}\n"
   ]
  },
  {
   "cell_type": "markdown",
   "metadata": {},
   "source": [
    "Compiling"
   ]
  },
  {
   "cell_type": "code",
   "execution_count": null,
   "metadata": {},
   "outputs": [],
   "source": [
    "!g++  -DCOOLPROP_LIB -o ./bin/main  main.c -I./include -L./bin -lCoolProp"
   ]
  },
  {
   "cell_type": "markdown",
   "metadata": {},
   "source": [
    "Run"
   ]
  },
  {
   "cell_type": "code",
   "execution_count": null,
   "metadata": {},
   "outputs": [],
   "source": [
    "!.\\bin\\main"
   ]
  },
  {
   "cell_type": "markdown",
   "metadata": {},
   "source": [
    "#### C++ Caller"
   ]
  },
  {
   "cell_type": "code",
   "execution_count": null,
   "metadata": {},
   "outputs": [],
   "source": [
    "%%file ./demo.cpp\n",
    "/* \n",
    "The example use the shared library of CoolProp in c\n",
    "\n",
    "The library: libCoolProp.dll or CoolProp_x64.dll\n",
    "\n",
    "g++ -DCOOLPROP_LIB -o ./bin/demo  demo.cpp -I./include -L./bin -lCoolProp\n",
    "\n",
    "./bin/demo\n",
    "\n",
    "*/\n",
    "\n",
    "#include \"CoolPropLib.h\"\n",
    "#include <iostream>\n",
    "#include <iomanip>\n",
    "\n",
    "int main()\n",
    "{\n",
    "    double value=PropsSI(\"P\",\"T\",273.15+0,\"Q\",0,\"R134a\");\n",
    "    std::cout << std::setiosflags(std::ios::fixed)  << value << std::endl;\n",
    "    return 1;\n",
    "}"
   ]
  },
  {
   "cell_type": "markdown",
   "metadata": {},
   "source": [
    "Compiling"
   ]
  },
  {
   "cell_type": "code",
   "execution_count": null,
   "metadata": {},
   "outputs": [],
   "source": [
    "!g++ -DCOOLPROP_LIB -o ./bin/demo  demo.cpp -I./include -L./bin -lCoolProp"
   ]
  },
  {
   "cell_type": "markdown",
   "metadata": {},
   "source": [
    "Run"
   ]
  },
  {
   "cell_type": "code",
   "execution_count": null,
   "metadata": {},
   "outputs": [],
   "source": [
    "!.\\bin\\demo"
   ]
  },
  {
   "cell_type": "markdown",
   "metadata": {},
   "source": [
    "## Reference\n",
    "\n",
    "* [Dynamic-Link Libraries on Windows](https://docs.microsoft.com/zh-cn/windows/win32/dlls/dynamic-link-libraries)"
   ]
  },
  {
   "cell_type": "code",
   "execution_count": null,
   "metadata": {},
   "outputs": [],
   "source": []
  }
 ],
 "metadata": {
  "kernelspec": {
   "display_name": "Python 3",
   "language": "python",
   "name": "python3"
  },
  "language_info": {
   "codemirror_mode": {
    "name": "ipython",
    "version": 3
   },
   "file_extension": ".py",
   "mimetype": "text/x-python",
   "name": "python",
   "nbconvert_exporter": "python",
   "pygments_lexer": "ipython3",
   "version": "3.8.7"
  },
  "toc": {
   "base_numbering": 1,
   "nav_menu": {},
   "number_sections": false,
   "sideBar": true,
   "skip_h1_title": false,
   "title_cell": "Table of Contents",
   "title_sidebar": "Contents",
   "toc_cell": false,
   "toc_position": {
    "height": "calc(100% - 180px)",
    "left": "10px",
    "top": "150px",
    "width": "248px"
   },
   "toc_section_display": true,
   "toc_window_display": true
  },
  "widgets": {
   "state": {},
   "version": "1.1.2"
  }
 },
 "nbformat": 4,
 "nbformat_minor": 2
}
