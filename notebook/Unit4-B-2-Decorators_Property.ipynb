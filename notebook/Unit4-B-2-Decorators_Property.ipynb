{
 "cells": [
  {
   "cell_type": "markdown",
   "metadata": {},
   "source": [
    "#  Decorators and Property \n",
    "\n",
    "## 1  Decorators(装饰器)\n",
    "\n",
    "A `decorator` is any `callable` Python object that is used to `modify` the definition of \n",
    "\n",
    "* **function**\n",
    "\n",
    "\n",
    "* **method** \n",
    "\n",
    "\n",
    "* **class** \n",
    "\n",
    "\n",
    "A decorator is passed the **original object** being defined and `returns` a **modified** object\n"
   ]
  },
  {
   "cell_type": "code",
   "execution_count": 3,
   "metadata": {},
   "outputs": [
    {
     "name": "stdout",
     "output_type": "stream",
     "text": [
      "25\n",
      "-7\n"
     ]
    }
   ],
   "source": [
    "# square sum\n",
    "def square_sum(a, b):\n",
    "    return a**2 + b**2\n",
    "\n",
    "# square diff\n",
    "def square_diff(a, b):\n",
    "    return a**2 - b**2\n",
    "\n",
    "print(square_sum(3, 4))\n",
    "print(square_diff(3, 4))"
   ]
  },
  {
   "cell_type": "markdown",
   "metadata": {},
   "source": [
    "#### Add  print input\n",
    "\n",
    "##### 1 modified the codes of defs directly"
   ]
  },
  {
   "cell_type": "code",
   "execution_count": 4,
   "metadata": {},
   "outputs": [
    {
     "name": "stdout",
     "output_type": "stream",
     "text": [
      "intput: 3 4\n",
      "25\n",
      "input 3 4\n",
      "-7\n"
     ]
    }
   ],
   "source": [
    "# modify: print input\n",
    "\n",
    "# square sum\n",
    "def square_sum(a, b):\n",
    "    print(\"intput:\", a, b)\n",
    "    return a**2 + b**2\n",
    "\n",
    "#  square diff\n",
    "def square_diff(a, b):\n",
    "    print(\"input\", a, b)\n",
    "    return a**2 - b**2\n",
    "\n",
    "\n",
    "print(square_sum(3, 4))\n",
    "print(square_diff(3, 4))\n"
   ]
  },
  {
   "cell_type": "markdown",
   "metadata": {},
   "source": [
    "##### 2 Using decorator"
   ]
  },
  {
   "cell_type": "code",
   "execution_count": 5,
   "metadata": {},
   "outputs": [
    {
     "name": "stdout",
     "output_type": "stream",
     "text": [
      "input 3 4\n",
      "25\n",
      "input 3 4\n",
      "-7\n"
     ]
    }
   ],
   "source": [
    "def printinput(func):\n",
    "    \n",
    "    def new_func(a, b):\n",
    "        print(\"input\", a, b) # add print input to the origina func\n",
    "        return func(a, b)\n",
    "    \n",
    "    return new_func\n",
    "\n",
    "# square sum\n",
    "@printinput\n",
    "def square_sum(a, b):\n",
    "    return a**2 + b**2\n",
    "\n",
    "# square diff\n",
    "@printinput\n",
    "def square_diff(a, b):\n",
    "    return a**2 - b**2\n",
    "\n",
    "print(square_sum(3, 4))\n",
    "print(square_diff(3, 4))"
   ]
  },
  {
   "cell_type": "markdown",
   "metadata": {},
   "source": [
    "## 2. Property \n",
    " \n",
    "\n",
    "### property class\n",
    "\n",
    "Python has a great concept called **property** which makes the life of an object oriented programmer much simpler.\n",
    "\n",
    "* https://docs.python.org/3/library/functions.html#property\n",
    "```python\n",
    "class property(fget=None, fset=None, fdel=None, doc=None)\n",
    "```\n",
    "Return a property attribute.\n",
    "\n",
    "  * **fget**: a function for getting an attribute value.\n",
    "  * **fset**: a function for setting an attribute value.\n",
    "  * **fdel**:  a function for deleting an attribute value. \n",
    "  * **doc**: a docstring for the attribute.\n",
    "\n",
    "A typical use is to define a managed attribute **x**:"
   ]
  },
  {
   "cell_type": "code",
   "execution_count": 6,
   "metadata": {},
   "outputs": [],
   "source": [
    "class Cproperty:\n",
    "    def __init__(self):\n",
    "        self._x = None\n",
    "\n",
    "    def getx(self):\n",
    "        return self._x\n",
    "\n",
    "    def setx(self, value):\n",
    "        self._x = value\n",
    "\n",
    "    def delx(self):\n",
    "        del self._x\n",
    "    \n",
    "    x = property(getx, setx, delx, \"I'm the 'x' property.\")"
   ]
  },
  {
   "cell_type": "code",
   "execution_count": 7,
   "metadata": {},
   "outputs": [
    {
     "name": "stdout",
     "output_type": "stream",
     "text": [
      "1\n"
     ]
    }
   ],
   "source": [
    "c1=Cproperty()\n",
    "\n",
    "c1.setx(1)\n",
    "\n",
    "xvalue=c1.getx()\n",
    "\n",
    "print(xvalue)\n",
    "\n",
    "#print(c1.getx())\n",
    "#print(c1._x)\n",
    "\n",
    "#c1.delx()\n",
    "#print(c1.getx())"
   ]
  },
  {
   "cell_type": "code",
   "execution_count": 10,
   "metadata": {},
   "outputs": [
    {
     "name": "stdout",
     "output_type": "stream",
     "text": [
      "2\n",
      "2\n"
     ]
    }
   ],
   "source": [
    "c1=Cproperty()\n",
    "\n",
    "c1.x=2\n",
    "\n",
    "print(c1.x)\n",
    "\n",
    "#del c1.x\n",
    "print(c1.x)"
   ]
  },
  {
   "cell_type": "markdown",
   "metadata": {},
   "source": [
    "#### Private Variables\n",
    "\n",
    "A **single underscore(_)** before a name is used to specify that the name is to be **treated** as **`private` by a programmer.** \n",
    "\n",
    "It’s kind of  a `convention` so that the next person (or yourself) using your code knows that a name starting with **`_`** is for `internal` use\n"
   ]
  },
  {
   "cell_type": "code",
   "execution_count": null,
   "metadata": {},
   "outputs": [],
   "source": [
    "c1._x"
   ]
  },
  {
   "cell_type": "markdown",
   "metadata": {},
   "source": [
    "**The suitable method：**"
   ]
  },
  {
   "cell_type": "code",
   "execution_count": null,
   "metadata": {},
   "outputs": [],
   "source": [
    "c1.x"
   ]
  },
  {
   "cell_type": "markdown",
   "metadata": {},
   "source": [
    "\n",
    "> Reference Python Doc: 9.6. Private Variables https://docs.python.org/tutorial/classes.html#tut-private\n",
    ">\n",
    ">“Private” instance variables that cannot be accessed except from inside an object don’t exist in Python. However, there is a convention >that is followed by most Python code: a name prefixed with an underscore (e.g. _spam) should be treated as a non-public part of the API >(whether it is a function, a method or a data member). It should be considered an implementation detail and subject to change without notice."
   ]
  },
  {
   "cell_type": "markdown",
   "metadata": {},
   "source": [
    "#### property()  as a decorator\n",
    "\n",
    "This makes it possible to create **read-only** `properties` easily using **property()** as **a decorator**\n",
    "\n",
    "A property object has `getter, setter, and deleter` methods usable as `decorators `that create a copy of the property with the corresponding accessor function set to the decorated function. \n",
    "\n",
    "This is best explained with an example:"
   ]
  },
  {
   "cell_type": "code",
   "execution_count": 1,
   "metadata": {},
   "outputs": [],
   "source": [
    "class c_property:\n",
    "    def __init__(self):\n",
    "        self._x = None\n",
    "\n",
    "    @property\n",
    "    def x(self):\n",
    "        \"\"\"I'm the 'x' property.\"\"\"\n",
    "        return self._x\n",
    "\n",
    "    @x.setter\n",
    "    def x(self, value):\n",
    "        self._x = value\n",
    "\n",
    "    @x.deleter\n",
    "    def x(self):\n",
    "        del self._x"
   ]
  },
  {
   "cell_type": "code",
   "execution_count": 2,
   "metadata": {},
   "outputs": [
    {
     "name": "stdout",
     "output_type": "stream",
     "text": [
      "2\n"
     ]
    }
   ],
   "source": [
    "c1=c_property()\n",
    "c1.x=2\n",
    "print(c1.x)\n",
    "\n",
    "#del c1.x\n",
    "#print(c1.x)"
   ]
  },
  {
   "cell_type": "markdown",
   "metadata": {},
   "source": [
    "## 3 Example: The class `Port`\n",
    "\n",
    "\n",
    "### 3.1 The Class"
   ]
  },
  {
   "cell_type": "code",
   "execution_count": 34,
   "metadata": {},
   "outputs": [],
   "source": [
    "from phyprops.prop_coolprop import *\n",
    "\n",
    "class Port:\n",
    "    cycle_refrigerant = 'R134a'\n",
    "  \n",
    "    def __init__(self):\n",
    "        \"\"\" create the node object\"\"\"\n",
    "        self.refrigerant = Port.cycle_refrigerant\n",
    "        self.p = None\n",
    "        self.t = None\n",
    "        self.h = None\n",
    "      \n",
    "    def state(self):\n",
    "        if self.p !=None and self.t!=None:\n",
    "            self.h = pt_h(self.p,self.t, self.refrigerant)\n",
    "   \n",
    "    def __str__(self):\n",
    "        result=(f'{self.p:6.3f} {self.t:6.2f} {self.h:7.2f}')\n",
    "        return  result     "
   ]
  },
  {
   "cell_type": "code",
   "execution_count": 35,
   "metadata": {},
   "outputs": [
    {
     "name": "stdout",
     "output_type": "stream",
     "text": [
      " 0.720  26.00   87.83\n",
      " 0.800  50.00   87.83\n",
      "call state()   0.800  50.00  286.70\n"
     ]
    }
   ],
   "source": [
    "port1=Port()\n",
    "port1.p=0.72\n",
    "port1.t=26\n",
    "\n",
    "port1.state()\n",
    "print(port1)\n",
    "\n",
    "# p,t changed \n",
    "port1.p=0.8\n",
    "port1.t=50\n",
    "\n",
    "print(port1)\n",
    "# call port1.state()\n",
    "port1.state()\n",
    "print(\"call state() \",port1)\n"
   ]
  },
  {
   "cell_type": "markdown",
   "metadata": {},
   "source": [
    "### 3.2  Using @property decorator \n",
    "\n",
    "`@*.setter` :setting an attribute value.\n",
    "\n",
    "```python\n",
    "   @p.setter # setting P value.\n",
    "    def p(self, value):\n",
    "        self._p = value\n",
    "        # state\n",
    "        self.state()\n",
    "```\n"
   ]
  },
  {
   "cell_type": "code",
   "execution_count": 36,
   "metadata": {},
   "outputs": [],
   "source": [
    "from phyprops.prop_coolprop import *\n",
    "\n",
    "class Port:\n",
    "    cycle_refrigerant = 'R134a'\n",
    "  \n",
    "    def __init__(self):\n",
    "        \"\"\" create the node object\"\"\"\n",
    "        self.refrigerant = Port.cycle_refrigerant\n",
    "        self._p = None\n",
    "        self._t = None\n",
    "        self._h = None\n",
    "    \n",
    "    @property\n",
    "    def p(self):\n",
    "        return self._p\n",
    "\n",
    "    @p.setter # setting P value.\n",
    "    def p(self, value):\n",
    "        self._p = value\n",
    "        # state\n",
    "        self.state()\n",
    "\n",
    "    @property\n",
    "    def t(self):\n",
    "        return self._t\n",
    "\n",
    "    @t.setter # setting t value.\n",
    "    def t(self, value):\n",
    "        self._t = value\n",
    "        # state\n",
    "        self.state()    \n",
    "    \n",
    "    @property\n",
    "    def h(self):\n",
    "        return self._h\n",
    "    \n",
    "    \n",
    "    def state(self):\n",
    "        if self._p !=None and self._t!=None:\n",
    "            self._h = pt_h(self.p,self.t, self.refrigerant)\n",
    " \n",
    "    def __str__(self):\n",
    "        result=(f'{self._p:6.3f} {self._t:6.2f} {self._h:7.2f}')\n",
    "        return  result       \n",
    "   "
   ]
  },
  {
   "cell_type": "code",
   "execution_count": 38,
   "metadata": {},
   "outputs": [
    {
     "name": "stdout",
     "output_type": "stream",
     "text": [
      " 0.720  26.00   87.83\n",
      " 0.800  50.00  286.70\n"
     ]
    }
   ],
   "source": [
    "port1=Port()\n",
    "port1.p=0.72\n",
    "port1.t=26\n",
    "\n",
    "print(port1)\n",
    "\n",
    "# p,t changed \n",
    "port1.p=0.8\n",
    "port1.t=50\n",
    "\n",
    "print(port1)"
   ]
  },
  {
   "cell_type": "markdown",
   "metadata": {},
   "source": [
    "### 3.3 Reactive programming(响应式编程)\n",
    "\n",
    "Reactive programming is a computer science concept that describes the properties of a computer programming language focused on automatically maintaining the state of an application as the data used in the program change.\n",
    "\n",
    "One of the main features of a reactive programming language is that declared and calculated variables are constantly re-evaluated as other variables used in their calculation change\n"
   ]
  },
  {
   "cell_type": "markdown",
   "metadata": {},
   "source": [
    "响应式编程是一种面向数据流和变化传播的编程范式。这意味着可以在编程语言中很方便地表达静态或动态的数据流，而相关的计算模型会自动将变化的值通过数据流进行传播。\n",
    "\n",
    "例如，对于 a=b+c 这个表达式的处理，\n",
    "\n",
    "* 在命令式编程中，会先计算 b+c 的结果，再把此结果赋值给 变量a，因此 b，c 两值的变化不会对 变量a 产生影响。\n",
    "\n",
    "* 但在响应式编程中，变量a 的值会随时跟随 b，c 的变化而变化"
   ]
  },
  {
   "cell_type": "code",
   "execution_count": null,
   "metadata": {},
   "outputs": [],
   "source": []
  }
 ],
 "metadata": {
  "kernelspec": {
   "display_name": "Python 3 (ipykernel)",
   "language": "python",
   "name": "python3"
  },
  "language_info": {
   "codemirror_mode": {
    "name": "ipython",
    "version": 3
   },
   "file_extension": ".py",
   "mimetype": "text/x-python",
   "name": "python",
   "nbconvert_exporter": "python",
   "pygments_lexer": "ipython3",
   "version": "3.10.5"
  },
  "latex_envs": {
   "LaTeX_envs_menu_present": true,
   "autoclose": false,
   "autocomplete": true,
   "bibliofile": "biblio.bib",
   "cite_by": "apalike",
   "current_citInitial": 1,
   "eqLabelWithNumbers": true,
   "eqNumInitial": 1,
   "hotkeys": {
    "equation": "Ctrl-E",
    "itemize": "Ctrl-I"
   },
   "labels_anchors": false,
   "latex_user_defs": false,
   "report_style_numbering": false,
   "user_envs_cfg": false
  },
  "toc": {
   "base_numbering": 1,
   "nav_menu": {},
   "number_sections": false,
   "sideBar": true,
   "skip_h1_title": false,
   "title_cell": "Table of Contents",
   "title_sidebar": "Contents",
   "toc_cell": false,
   "toc_position": {
    "height": "calc(100% - 180px)",
    "left": "10px",
    "top": "150px",
    "width": "320px"
   },
   "toc_section_display": true,
   "toc_window_display": true
  },
  "vscode": {
   "interpreter": {
    "hash": "369f2c481f4da34e4445cda3fffd2e751bd1c4d706f27375911949ba6bb62e1c"
   }
  },
  "widgets": {
   "state": {},
   "version": "1.1.2"
  }
 },
 "nbformat": 4,
 "nbformat_minor": 1
}
