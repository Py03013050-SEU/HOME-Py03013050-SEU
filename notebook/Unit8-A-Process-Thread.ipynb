{
 "cells": [
  {
   "cell_type": "markdown",
   "metadata": {},
   "source": [
    "## 3 Threads vs. Processes\n",
    "\n",
    "**Threads** describe processes that can run **concurrently** to solve a problem.\n",
    "\n",
    "A thread is a `separate` flow of execution. This means that your program will have two things happening at once.\n",
    "\n",
    "For example\n",
    "\n",
    "* a Web browser uses one thread to load an image from the Internet while using another thread to format and display text.\n",
    "\n",
    "Most modern computers, whether they are networked or stand-alone machines, represent **some processes as threads**\n",
    "\n",
    "\n",
    "More exactly it is `Thread of Execution` which is the smallest unit of processing.\n",
    "\n",
    "* It is scheduled by an OS.\n",
    "\n",
    "* In general, it is contained in a process.\n",
    "So, multiple threads can exist within the same process.\n",
    "\n",
    "* It shares the resources with the process: The memory, code (instructions), and global variable (context - the values that its variables reference at any given moment).\n",
    "\n",
    "* On a single processor, each thread has its turn by multiplexing based on time. On a multiple processor, each thread is running at the same time with each processor/core running a particular thread.\n",
    "\n",
    "### 3.1  Processes \n",
    "\n",
    "Processes and threads are related to each other but are fundamentally different.\n",
    "\n",
    "\n",
    "A process can be thought of as an instance of a running program. \n",
    "\n",
    "Each process is an `independent entity to which system resources` such as CPU time, memory, etc. are allocated and each process is executed in `a separate address space`. \n",
    "\n",
    "If we want to access another process' resources, `inter-process communications` have to be used such as pipes, files, sockets etc.\n",
    "\n",
    "Process provides each program with two key abstractions:\n",
    "\n",
    "* Logical control flow\n",
    "  * Each process seems to have exclusive use of the CPU\n",
    "  \n",
    "* Private virtual address space\n",
    "  * Each process seems to have exclusive use of main memory\n",
    "\n",
    "![](./img/process.png)"
   ]
  },
  {
   "cell_type": "markdown",
   "metadata": {},
   "source": [
    "### 3.2 Threads\n",
    "\n",
    "A **thread** uses the `same address` space of a process.\n",
    "\n",
    "A process can have `multiple threads`. \n",
    "\n",
    "A key difference between processes and threads is that `multiple` threads `share` parts of their state. \n",
    "\n",
    "* Typically, multiple threads can read from and write to the same memory (no process can directly access the memory of another process).\n",
    "\n",
    "However, each thread still has its own stack of activation records and its own copy of CPU registers, including the stack pointer and the program counter, which together describe the state of the thread's execution.\n",
    "\n",
    "A thread is a particular `execution path` of a process. \n",
    "\n",
    "When one thread modifies a process resource, the change is immediately visible to sibling threads.\n",
    "\n",
    "1.Processes are independent while thread is within a process.\n",
    "\n",
    "2.Processes have separate address spaces while threads share their address spaces.\n",
    "\n",
    "3.Processes communicate each other through inter-process communication.\n",
    "\n",
    "4.Processes carry considerable state (e.g., ready, running, waiting, or stopped) information, whereas multiple threads within a process share state as well as memory and other resources.\n",
    "\n",
    "5. Context switching between threads in the same process is typically faster than context switching between processes.\n",
    "\n",
    "6. Multithreading has some advantages over multiple processes. Threads require less overhead to manage than processes, and intraprocess thread communication is less expensive than interprocess communication.\n",
    "\n",
    "7. Multiple process concurrent programs do have one advantage: Each process can execute on a different machine (distribute program). Examples of distributed programs are file servers (NFS), file transfer clients and servers (FTP), remote log-in clients and servers (Telnet), groupware programs, and Web browsers and servers.\n",
    "\n",
    "![](./img/athread.png)\n",
    "\n",
    "\n",
    "\n"
   ]
  },
  {
   "cell_type": "markdown",
   "metadata": {},
   "source": [
    "## Reference\n",
    "\n",
    "* Allen B. Downey.[Think OS:A Brief Introduction to Operating Systems](http://greenteapress.com/wp/think-os/)\n",
    "\n",
    " \n",
    "   \n"
   ]
  },
  {
   "cell_type": "code",
   "execution_count": null,
   "metadata": {},
   "outputs": [],
   "source": []
  }
 ],
 "metadata": {
  "kernelspec": {
   "display_name": "Python 3",
   "language": "python",
   "name": "python3"
  },
  "language_info": {
   "codemirror_mode": {
    "name": "ipython",
    "version": 3
   },
   "file_extension": ".py",
   "mimetype": "text/x-python",
   "name": "python",
   "nbconvert_exporter": "python",
   "pygments_lexer": "ipython3",
   "version": "3.8.0"
  },
  "toc": {
   "base_numbering": 1,
   "nav_menu": {},
   "number_sections": false,
   "sideBar": true,
   "skip_h1_title": false,
   "title_cell": "Table of Contents",
   "title_sidebar": "Contents",
   "toc_cell": false,
   "toc_position": {
    "height": "calc(100% - 180px)",
    "left": "10px",
    "top": "150px",
    "width": "165px"
   },
   "toc_section_display": true,
   "toc_window_display": true
  }
 },
 "nbformat": 4,
 "nbformat_minor": 2
}
