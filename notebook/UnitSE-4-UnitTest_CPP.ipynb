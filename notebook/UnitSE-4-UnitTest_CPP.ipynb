{
 "cells": [
  {
   "cell_type": "markdown",
   "metadata": {},
   "source": [
    "# Unit Test for C/C++\n",
    "\n",
    "Unit testing frameworks for C/C++ are most often **third-party products** that are `not distributed as part of the compiler suite`. They help simplify the process of unit testing,\n",
    "\n",
    "* Microsoft Unit Testing Framework for C++\n",
    "\n",
    "* [Google Test](https://github.com/abseil/googletest/blob/master/googletest/docs/primer.md)\n",
    "\n",
    "* Boost.Test\n",
    "\n",
    "* CTest\n",
    "\n"
   ]
  },
  {
   "cell_type": "markdown",
   "metadata": {},
   "source": [
    "## Googletest\n",
    "\n",
    "The Simple Unit Testing of Region4 by  Googletest\n",
    "\n",
    "https://github.com/google/googletest/blob/master/googletest/docs/primer.md\n",
    "    \n",
    "googletest helps you write better C++ tests.\n",
    "\n",
    "googletest is a testing framework developed by the Testing Technology team with Google's specific requirements and constraints in mind. No matter whether you work on Linux, Windows, or a Mac, if you write C++ code, googletest can help you. And it supports any kind of tests, not just unit tests.    \n",
    "\n",
    "### 1 To create a test\n",
    "\n",
    "Use the **TEST()** macro to define and name a test function, These are ordinary C++ functions that don't return a value.\n",
    "\n",
    "* In this function,use the various **googletest assertions** to check values.\n",
    "\n",
    "* The test's result is determined by the **assertions**\n",
    "\n",
    "if any assertion in the test fails (either fatally or non-fatally), or if the test crashes, the entire test fails. Otherwise, it succeeds.\n",
    "\n",
    "```cpp\n",
    "TEST(TestCaseName, TestName) {\n",
    "  ... test body ...\n",
    "}\n",
    "```\n",
    "\n",
    "**TEST()** arguments go from general to specific. \n",
    "\n",
    "* The first argument is **the name of the test case** \n",
    "\n",
    "* the second argument is the **test's name within the test case**\n",
    "\n",
    "Both names must be valid C++ identifiers, and they should not contain underscore (_). A test's full name consists of its containing test case and its individual name. Tests from different test cases can have the same individual name.\n",
    "\n",
    "\n",
    "### 2  Invoking the Tests\n",
    "\n",
    "**TEST()** implicitly **register** their tests with googletest. So, unlike with many other C++ testing frameworks, you don't have to re-list all your defined tests in order to run them.\n",
    "\n",
    "After defining your tests, you can run them with **RUN_ALL_TESTS()** , which returns 0 if all the tests are successful, or 1 otherwise. \n",
    "\n",
    "Note：`RUN_ALL_TESTS()` runs **all tests** in your link unit -- they can be from different test cases, or even different source files.\n",
    "\n",
    "The `::testing::InitGoogleTest()` function parses the command line for googletest flags, and removes all recognized flags. This allows the user to control a test program's behavior via various flags, which we'll cover in [AdvancedGuide](https://github.com/google/googletest/blob/master/googletest/docs/advanced.md). You must call this function before calling `RUN_ALL_TESTS()`, or the flags won't be properly initialized."
   ]
  },
  {
   "cell_type": "code",
   "execution_count": null,
   "metadata": {},
   "outputs": [],
   "source": [
    "%%file ./demo/src/demo_googletest.cpp\n",
    "#include <gtest/gtest.h>\n",
    "\n",
    "TEST(MathTest, TwoPlusTwoEqualsFour)\n",
    "{\n",
    "       EXPECT_EQ(2 + 2, 4);\n",
    "}\n",
    "\n",
    "int main(int argc, char **argv)\n",
    "{\n",
    "  ::testing::InitGoogleTest(&argc, argv);\n",
    "  return RUN_ALL_TESTS();\n",
    "}"
   ]
  },
  {
   "cell_type": "code",
   "execution_count": 1,
   "metadata": {},
   "outputs": [],
   "source": [
    "!g++ -o ./demo/bin/demo_googletest  ./demo/src/demo_googletest.cpp -lgtest"
   ]
  },
  {
   "cell_type": "code",
   "execution_count": 2,
   "metadata": {},
   "outputs": [
    {
     "name": "stdout",
     "output_type": "stream",
     "text": [
      "[==========] Running 1 test from 1 test suite.\n",
      "[----------] Global test environment set-up.\n",
      "[----------] 1 test from MathTest\n",
      "[ RUN      ] MathTest.TwoPlusTwoEqualsFour\n",
      "[       OK ] MathTest.TwoPlusTwoEqualsFour (0 ms)\n",
      "[----------] 1 test from MathTest (0 ms total)\n",
      "\n",
      "[----------] Global test environment tear-down\n",
      "[==========] 1 test from 1 test suite ran. (0 ms total)\n",
      "[  PASSED  ] 1 test.\n"
     ]
    }
   ],
   "source": [
    "!.\\demo\\bin\\demo_googletest.exe"
   ]
  },
  {
   "cell_type": "markdown",
   "metadata": {},
   "source": [
    "### 3  Invoking with gtest_main\n",
    "\n",
    "But maybe you think that writing all those **main()** functions is too much work? \n",
    "\n",
    "We agree with you completely and that's why Google Test provides a basic implementation of **main()** \n",
    "\n",
    "If it fits your needs, then just **link** your test with **gtest_main** library and you are good to go\n",
    "\n",
    "```bash\n",
    " -lgtest_main\n",
    "```\n",
    "\n",
    "```bash\n",
    "!g++ -o ./demo/bin/demo_googletest_main  ./demo/src/demo_googletest_main.cpp -lgtest  -lgtest_main\n",
    "```"
   ]
  },
  {
   "cell_type": "code",
   "execution_count": 4,
   "metadata": {},
   "outputs": [
    {
     "name": "stdout",
     "output_type": "stream",
     "text": [
      "Writing ./demo/src/demo_googletest_main.cpp\n"
     ]
    }
   ],
   "source": [
    "%%file ./demo/src/demo_googletest_main.cpp\n",
    "#include <gtest/gtest.h>\n",
    "\n",
    "TEST(MathTest, TwoPlusTwoEqualsFour)\n",
    "{\n",
    "       EXPECT_EQ(2 + 2, 4);\n",
    "}"
   ]
  },
  {
   "cell_type": "code",
   "execution_count": 6,
   "metadata": {},
   "outputs": [],
   "source": [
    "!g++ -o ./demo/bin/demo_googletest_main  ./demo/src/demo_googletest_main.cpp -lgtest  -lgtest_main"
   ]
  },
  {
   "cell_type": "code",
   "execution_count": 7,
   "metadata": {},
   "outputs": [
    {
     "name": "stdout",
     "output_type": "stream",
     "text": [
      "Running main() from ../src/gtest_main.cc\n",
      "[==========] Running 1 test from 1 test suite.\n",
      "[----------] Global test environment set-up.\n",
      "[----------] 1 test from MathTest\n",
      "[ RUN      ] MathTest.TwoPlusTwoEqualsFour\n",
      "[       OK ] MathTest.TwoPlusTwoEqualsFour (0 ms)\n",
      "[----------] 1 test from MathTest (0 ms total)\n",
      "\n",
      "[----------] Global test environment tear-down\n",
      "[==========] 1 test from 1 test suite ran. (0 ms total)\n",
      "[  PASSED  ] 1 test.\n"
     ]
    }
   ],
   "source": [
    "!.\\demo\\bin\\demo_googletest_main"
   ]
  },
  {
   "cell_type": "markdown",
   "metadata": {},
   "source": [
    "## Reference\n",
    "\n",
    "\n",
    "* Unit Test for C/C++\n",
    "\n",
    "    * Simple Unit Testing for C：https://github.com/ThrowTheSwitch/Unity\n",
    "\n",
    "    * Write unit tests for C/C++ in Visual Studio https://docs.microsoft.com/en-us/visualstudio/test/writing-unit-tests-for-c-cpp?view=vs-2017'\n",
    "\n",
    "    * Googletest - Google Testing and Mocking Framework https://github.com/google/googletest\n",
    "\n",
    "    * Arpan Sen. [A quick introduction to the Google C++ Testing Framework](https://www.ibm.com/developerworks/aix/library/au-googletestingframework.html)\n",
    "    \n",
    "  "
   ]
  },
  {
   "cell_type": "code",
   "execution_count": null,
   "metadata": {},
   "outputs": [],
   "source": []
  }
 ],
 "metadata": {
  "kernelspec": {
   "display_name": "Python 3",
   "language": "python",
   "name": "python3"
  },
  "language_info": {
   "codemirror_mode": {
    "name": "ipython",
    "version": 3
   },
   "file_extension": ".py",
   "mimetype": "text/x-python",
   "name": "python",
   "nbconvert_exporter": "python",
   "pygments_lexer": "ipython3",
   "version": "3.8.7"
  },
  "toc": {
   "base_numbering": 1,
   "nav_menu": {},
   "number_sections": false,
   "sideBar": true,
   "skip_h1_title": false,
   "title_cell": "Table of Contents",
   "title_sidebar": "Contents",
   "toc_cell": false,
   "toc_position": {
    "height": "calc(100% - 180px)",
    "left": "10px",
    "top": "150px",
    "width": "307.2px"
   },
   "toc_section_display": true,
   "toc_window_display": true
  },
  "widgets": {
   "state": {},
   "version": "1.1.2"
  }
 },
 "nbformat": 4,
 "nbformat_minor": 1
}
