{
 "cells": [
  {
   "cell_type": "markdown",
   "metadata": {},
   "source": [
    "#  Modeling and Simulation Methods of Engineering Systems\n",
    "\n",
    "**工业软件之中兴事件**\n",
    "\n",
    "2018年4月16日晚，美国商务部发布公告称，美国政府在未来7年内禁止中兴通讯向美国企业购买敏感产品。\n",
    "\n",
    "EDA(Electronics Design Automation)软件是工业软件的尖端，代表了一个国家真正的研发创新，没有EDA软件的支持，再先进的芯片也会变成硅土。\n",
    "\n",
    "电子电路设计领域里世界上三大EDA软件是Cadence、Mentor和Synopsys。这三个软件全都是美国的\n",
    "\n",
    "中国的芯片设计严重依赖西方国家开发的EDA软件.\n",
    "\n",
    "## 1 Introduction\n",
    "\n",
    "**Modeling and simulation** enables designers to test whether design specifications are met by using **virtual** rather than **physical**\n",
    "experiments. \n",
    "\n",
    "The use of virtual prototypes significantly shortens the design cycle and **reduces the cost** of design.\n",
    "\n",
    "It further provides the designer with immediate feedback on design decisions which,in turn, promises a more comprehensive exploration of design alternatives and a better performing final design. \n",
    "\n",
    "Simulation is particularly important for the design of multidisciplinary systems in which components in different disciplines (mechanical, electrical,embedded control, etc.) are tightly coupled to achieve optimal system performance.\n"
   ]
  },
  {
   "cell_type": "markdown",
   "metadata": {},
   "source": [
    "## 2 Modeling and Simulation Software\n",
    "\n",
    "### 1 Softwares\n",
    "\n",
    "#### 1.1 Process Simulation\n",
    " \n",
    "* **[Apros](http://www.apros.fi/en/)** : the commercial dynamic simulation software for modelling and simulation of various types of power plant processes, energy systems and networks including automation.\n",
    "  * **Fortum and VTT** Technical Research Centre of **Finland** Ltd since 1986.\n",
    "\n",
    "* **[Aspen Plus](https://www.aspentech.com/en/products/engineering/aspen-plus):**  The software package designed to allow a user to build a process model and then simulate the model without tedious calculations.\n",
    "   * The Chemical Industry's Leading Process Simulation Software. AspenTech,**USA**\n",
    "\n",
    "#### 1.2 Electronic Circuit Simulator \n",
    "\n",
    "* **[Multisim](http://www.ni.com/zh-cn/shop/electronic-test-instrumentation/application-software-for-electronic-test-and-instrumentation-category/what-is-multisim.html)**: the industry standard **SPICE** simulation and circuit design software for analog, digital, and power electronics in education and research.\n",
    "  * National Instruments,**USA**\n",
    "        \n",
    "#### 1.3 Thermal Engineering\n",
    "\n",
    "* **Ebsilon Professional**:the simulation system for thermodynamic cycle processes that is used for plant design and optimization,\n",
    "   * STEAG SYSTEM TECHNOLOGIES, **Germany**. \n",
    "\n",
    "* **Thermoflow**: the thermal engineering software for the power and cogeneration industries,\n",
    "   * Thermoflow Inc.**USA**\n",
    "\n",
    "**多领域物理统一建模**\n",
    "\n",
    "* [MWorks](https://www.tongyuan.cc/): 立足于多领域物理统一建模国际规范[Modelica语言](https://modelica.org/),形成完全自主知识产权的面向复杂机电产品开发的建模、分析、仿真、优化一体化的工程计算平台MWorks。 \n",
    "  * 苏州同元软控信息技术有限公司\n",
    "\n",
    "### 2 Example\n",
    "\n",
    "#### 2.1 Building Example of a Hydro heating system with energy storage\n",
    "\n",
    "![](.\\img\\vcr\\buildingexample.jpg)\n",
    "\n",
    "#### 2.2 Vapor-Compression RefrigerationCycle in Modelica\n",
    "\n",
    "* https://gitee.com/thermalogic/simvcce/tree/sm-port-conn/\n",
    "\n",
    "![](.\\img\\vcr\\vcr-modelica.jpg)\n"
   ]
  },
  {
   "cell_type": "code",
   "execution_count": null,
   "metadata": {},
   "outputs": [],
   "source": []
  },
  {
   "cell_type": "code",
   "execution_count": null,
   "metadata": {},
   "outputs": [],
   "source": []
  }
 ],
 "metadata": {
  "kernelspec": {
   "display_name": "Python 3",
   "language": "python",
   "name": "python3"
  },
  "language_info": {
   "codemirror_mode": {
    "name": "ipython",
    "version": 3
   },
   "file_extension": ".py",
   "mimetype": "text/x-python",
   "name": "python",
   "nbconvert_exporter": "python",
   "pygments_lexer": "ipython3",
   "version": "3.8.7"
  },
  "latex_envs": {
   "LaTeX_envs_menu_present": true,
   "autoclose": false,
   "autocomplete": true,
   "bibliofile": "biblio.bib",
   "cite_by": "apalike",
   "current_citInitial": 1,
   "eqLabelWithNumbers": true,
   "eqNumInitial": 1,
   "hotkeys": {
    "equation": "Ctrl-E",
    "itemize": "Ctrl-I"
   },
   "labels_anchors": false,
   "latex_user_defs": false,
   "report_style_numbering": false,
   "user_envs_cfg": false
  },
  "toc": {
   "base_numbering": 1,
   "nav_menu": {},
   "number_sections": false,
   "sideBar": true,
   "skip_h1_title": false,
   "title_cell": "Table of Contents",
   "title_sidebar": "Contents",
   "toc_cell": false,
   "toc_position": {
    "height": "570.667px",
    "left": "25px",
    "top": "66px",
    "width": "211px"
   },
   "toc_section_display": true,
   "toc_window_display": true
  },
  "widgets": {
   "state": {},
   "version": "1.1.2"
  }
 },
 "nbformat": 4,
 "nbformat_minor": 1
}
