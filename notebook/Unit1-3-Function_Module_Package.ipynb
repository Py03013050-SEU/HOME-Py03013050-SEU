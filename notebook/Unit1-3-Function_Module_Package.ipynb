{
 "cells": [
  {
   "cell_type": "markdown",
   "metadata": {
    "slideshow": {
     "slide_type": "-"
    }
   },
   "source": [
    "# 4 Function, Module and Package\n",
    "\n",
    "**Functions** facilitate this by providing **decomposition** and **abstraction**.\n",
    "\n",
    "**Decomposition**  creates structure. It allows us to <b>break a problem into modules</b>　that are reasonably self-contained, and that may be reused in different settings.\n",
    "\n",
    "**Abstraction** hides detail. It allows us to use a piece of code as if it were **a black box**—that is, something whose interior details we cannot see, don’t need to see,and shouldn’t even want to see.\n",
    "\n",
    "\n",
    "### Procedural programming \n",
    "\n",
    "Procedural programming is a programming paradigm that uses a linear or top-down approach. It relies on procedures or subroutines to perform computations.\n",
    "\n",
    "* **Function**\n",
    "\n",
    "### Modular programming\n",
    "\n",
    "Modular programming is the process of subdividing a computer program into separate sub-programs.\n",
    "\n",
    "A module is a separate software component. It can often be used in a variety of applications and functions with other components of the system. \n",
    "\n",
    "Similar functions are grouped in the same unit of programming code and separate functions are developed as separate units of code so that the code can be reused by other applications.\n",
    "\n",
    "Modular programming enables multiple programmers to divide up the work and debug pieces of the program independently.\n",
    "\n",
    "**Modular organization of sources:**  The source codes are split into multiple source files within multiple directories \n",
    "\n",
    "* **Module**\n",
    "\n",
    "* **Package**\n"
   ]
  },
  {
   "cell_type": "markdown",
   "metadata": {},
   "source": [
    "## 4.1 Functions \n",
    "\n",
    "\n",
    "### 4.1.1 Function Definitions\n",
    "In Python each function definition is of the form：\n",
    "```python\n",
    "def nameoffunction(list_of_formal_parameters):\n",
    "    body of function \n",
    "```\n",
    "\n",
    "```python\n",
    "def nameoffunction(list_of_formal_parameters):\n",
    "    body of function \n",
    "    return parameters\n",
    "```  \n",
    "\n",
    "* The keyword <b style=\"color:blue\">def</b> introduces a function definition. \n",
    "\n",
    "* It must be followed by the `function name` and the parenthesized <b style=\"color:blue\">()</b> list of `formal parameters`,and by the final colon <b style=\"color:red\">:</b> that ends the line\n",
    "\n",
    "* The statements that form the body of the function start at the next line, and must be `indented`.\n",
    "\n",
    "The function body is any piece of Python code. There is, however, a special statement, <b style=\"color:blue\">return</b>, that can be used only within the body of a function.\n",
    "\n",
    "For example, we could define the function `maxVal` by the code"
   ]
  },
  {
   "cell_type": "code",
   "execution_count": null,
   "metadata": {},
   "outputs": [],
   "source": [
    "def max_val(x, y):    \n",
    "    if x > y:\n",
    "        return x\n",
    "    else:\n",
    "        return y   "
   ]
  },
  {
   "cell_type": "markdown",
   "metadata": {},
   "source": [
    "The sequence of names (x,y in this example) within the parentheses following the function name are the<b> formal parameters</b>of the function.\n",
    "\n",
    "When the function is used, the formal parameters are bound (as in an assignment statement) to the <b>actual parameters</b> (often referred to as arguments) of the function invocation (also referred to as a function call)."
   ]
  },
  {
   "cell_type": "code",
   "execution_count": null,
   "metadata": {},
   "outputs": [],
   "source": [
    "max_val(3, 4)"
   ]
  },
  {
   "cell_type": "code",
   "execution_count": null,
   "metadata": {},
   "outputs": [],
   "source": [
    "m=max_val(3, 4)\n",
    "m"
   ]
  },
  {
   "cell_type": "code",
   "execution_count": null,
   "metadata": {},
   "outputs": [],
   "source": [
    "m=max_val(3.0, 4.1)\n",
    "m"
   ]
  },
  {
   "cell_type": "markdown",
   "metadata": {
    "collapsed": true
   },
   "source": [
    "### 4.1.2 Positional，Keyword Arguments and Default Values\n",
    "\n",
    "In Python, there are **two ways** that `formal` parameters get bound to `actual parameters`\n",
    "\n",
    "* **1**  <b style=\"color:blue\">Positional</b> \n",
    "\n",
    "  the  `first` formal parameter is bound to the `first` actual parameter,\n",
    "\n",
    "   the `second` formal parameter to the `second` actual, etc.\n",
    "\n",
    "\n",
    "* **2**  <b style=\"color:blue\">Keyword arguments</b>, \n",
    "\n",
    "   in which formals are bound to actuals using the **name** of the formal parameter."
   ]
  },
  {
   "cell_type": "code",
   "execution_count": null,
   "metadata": {},
   "outputs": [],
   "source": [
    "def print_name(firstName, lastName, reverse):\n",
    "    if reverse:\n",
    "        print(lastName + ', ' + firstName)\n",
    "    else:\n",
    "        print(firstName, lastName)"
   ]
  },
  {
   "cell_type": "code",
   "execution_count": null,
   "metadata": {},
   "outputs": [],
   "source": [
    " # all positional argument\n",
    "print_name('三', '张', False)  "
   ]
  },
  {
   "cell_type": "code",
   "execution_count": null,
   "metadata": {},
   "outputs": [],
   "source": [
    "#  positional,positional,keyword argument\n",
    "print_name('三', '张', reverse = False) "
   ]
  },
  {
   "cell_type": "code",
   "execution_count": null,
   "metadata": {},
   "outputs": [],
   "source": [
    "# positional,keyword argument,keyword argument\n",
    "print_name('三', lastName = '张', reverse = False) "
   ]
  },
  {
   "cell_type": "code",
   "execution_count": null,
   "metadata": {},
   "outputs": [],
   "source": [
    "# all keyword argument\n",
    "print_name(lastName='张', firstName='三', reverse=False)"
   ]
  },
  {
   "cell_type": "markdown",
   "metadata": {
    "collapsed": true
   },
   "source": [
    "the **keyword arguments** can appear in **any order** in the list of actual parameters, \n",
    "\n",
    "It is<b style=\"color:blue\"> not legal to `follow` a keyword argument with a non-keyword argument</b>.\n",
    "\n",
    "* **Right**:    a `keyword` argument,a `keyword` argument,a `keyword` argument\n",
    "\n",
    "* **Error**:   a keyword argument,`positional` argument"
   ]
  },
  {
   "cell_type": "code",
   "execution_count": null,
   "metadata": {},
   "outputs": [],
   "source": [
    "# a keyword argument  lastName = '张'  \n",
    "# with a non-keyword argument False\n",
    "print_name('三', lastName = '张',False) "
   ]
  },
  {
   "cell_type": "code",
   "execution_count": null,
   "metadata": {},
   "outputs": [],
   "source": [
    "print_name('三', lastName = '张',reverse=False) "
   ]
  },
  {
   "cell_type": "markdown",
   "metadata": {},
   "source": [
    "<b>Keyword arguments</b> are commonly used in `conjunction` with `default` parameter values. "
   ]
  },
  {
   "cell_type": "code",
   "execution_count": null,
   "metadata": {},
   "outputs": [],
   "source": [
    "# reverse = False: default parameter values\n",
    "def print_name(firstName, lastName, reverse = False): \n",
    "    if reverse:\n",
    "        print(lastName + ', ' + firstName)\n",
    "    else:\n",
    "        print(firstName, lastName)"
   ]
  },
  {
   "cell_type": "code",
   "execution_count": null,
   "metadata": {},
   "outputs": [],
   "source": [
    "# reverse = False: default parameter values\n",
    "print_name('三', '张') "
   ]
  },
  {
   "cell_type": "code",
   "execution_count": null,
   "metadata": {},
   "outputs": [],
   "source": [
    "# positional\n",
    "print_name('三', '张', True) "
   ]
  },
  {
   "cell_type": "code",
   "execution_count": null,
   "metadata": {},
   "outputs": [],
   "source": [
    "# keyword : providing some documentation about True \n",
    "print_name('三', '张', reverse = True) "
   ]
  },
  {
   "cell_type": "markdown",
   "metadata": {},
   "source": [
    "The last two invocations of `printName` are semantically equivalent. \n",
    "\n",
    "The last one has **the advantage of providing some `documentation`** for the perhaps mysterious parameter `True`.\n",
    "\n",
    "```python\n",
    " reverse = True\n",
    "```"
   ]
  },
  {
   "cell_type": "markdown",
   "metadata": {},
   "source": [
    "### 4.1.3 Scoping"
   ]
  },
  {
   "cell_type": "markdown",
   "metadata": {},
   "source": [
    "`Each function` defines **a new name space**, also called **a scope**.\n",
    "\n"
   ]
  },
  {
   "cell_type": "code",
   "execution_count": null,
   "metadata": {},
   "outputs": [],
   "source": [
    "def f(x): # name x used as formal parameter\n",
    "    y = 1   # y local variable。name\n",
    "    \n",
    "    x = x + y  # x local ariable，name \n",
    "    \n",
    "    print('x in local f=', x,'\\n')\n",
    "    return x"
   ]
  },
  {
   "cell_type": "code",
   "execution_count": null,
   "metadata": {},
   "outputs": [],
   "source": [
    "x = 3\n",
    "y = 2\n",
    "\n",
    "z = f(x) # value of x used as actual parameter\n",
    "\n",
    "print('z =', z)\n",
    "print('x =', x)\n",
    "print('y =', y)"
   ]
  },
  {
   "cell_type": "markdown",
   "metadata": {},
   "source": [
    "### 4.1.4 Functions as  arguments\n",
    "\n",
    "In Python, `functions` are **first-class objects**.\n",
    "\n",
    "* That means that they can be treated `like objects of any other type`, e.g., int or list. \n",
    "\n",
    "They have types, e.g.,\n",
    "\n",
    "* `type(abs)` has the value `built-in_function_or_method`\n",
    "\n",
    "* `type(max_val)` has the value `function`"
   ]
  },
  {
   "cell_type": "code",
   "execution_count": null,
   "metadata": {},
   "outputs": [],
   "source": [
    "type(abs)"
   ]
  },
  {
   "cell_type": "code",
   "execution_count": null,
   "metadata": {},
   "outputs": [],
   "source": [
    "type(max_val)"
   ]
  },
  {
   "cell_type": "markdown",
   "metadata": {},
   "source": [
    "They can appear in `expressions`, e.g., as \n",
    "\n",
    "* the right-hand side of an assignment statement \n",
    "* `an argument to a function`\n",
    "* elements of sequence,e.g:lists\n",
    "\n",
    "For example,`def bisection`)(**二分法**）\n",
    "\n",
    "$𝑦=𝑓(𝑥)$\n",
    "\n",
    "The `bisection` method is a root-finding method that\n",
    "\n",
    "* applies to any continuous **functions** for which one knows `two values with opposite signs`.\n",
    "\n",
    "The method consists of repeatedly `bisecting the interval defined by these values` and then selecting the `subinterval` in which the function changes sign, and therefore must contain a root. \n",
    "\n",
    "![](./img/bisection_method.png)"
   ]
  },
  {
   "cell_type": "markdown",
   "metadata": {},
   "source": []
  },
  {
   "cell_type": "code",
   "execution_count": null,
   "metadata": {},
   "outputs": [],
   "source": [
    "def bisection(fun,y,xl,xr,tol,maxiter):\n",
    "    fl = fun(xl)-y # residual for left  bound\n",
    "    fr = fun(xr)-y # residual for right bound\n",
    "    num_iters=0\n",
    "    for i in range(maxiter):\n",
    "        num_iters+=1\n",
    "        \n",
    "        # get midpoint\n",
    "        x = 0.5*(xl + xr)\n",
    "        \n",
    "        # evaluate residual at midpoint\n",
    "        f = fun(x)-y\n",
    "        \n",
    "        #  check for convergence\n",
    "        if (abs(f) < tol): \n",
    "            break\n",
    "\n",
    "        # reset the bounds\n",
    "        if (f*fl < 0.0):\n",
    "            # move right bound info to mid\n",
    "            xr = x\n",
    "            fr = f\n",
    "        else:\n",
    "            # move left bound info to mid\n",
    "            xl = x\n",
    "            fl = f\n",
    "    return x,f,num_iters"
   ]
  },
  {
   "cell_type": "markdown",
   "metadata": {},
   "source": [
    "The function `bisection` is called **the higher-order function** because it has an `argument` that is itself `a function`\n",
    "\n",
    "$𝑓(𝑥)=𝑥^2$ \n",
    "\n",
    "$y=25$ \n",
    "\n",
    "$25=𝑥^2$\n"
   ]
  },
  {
   "cell_type": "code",
   "execution_count": null,
   "metadata": {},
   "outputs": [],
   "source": [
    "def fun2(x):\n",
    "    return x**2\n",
    "\n",
    "y = 25\n",
    "xl,xr = 0.0,25.0\n",
    "tol = 0.0001\n",
    "maxiters=100\n",
    "\n",
    "x,f,num_iters=bisection(fun2,y,xl,xr,tol,maxiters)\n",
    "\n",
    "print(x, 'is close to square root of', y)\n",
    "print('residual =', f)\n",
    "print('num_iters =', num_iters)"
   ]
  },
  {
   "cell_type": "markdown",
   "metadata": {},
   "source": [
    "### 4.1.5 Lambda Expressions\n",
    "\n",
    "* The Python Language Reference ：`Lambdas` https://docs.python.org/3/reference/expressions.html#lambda\n",
    "\n",
    "Python supports the creation of `anonymous` functions (i.e., functions that are not bound to a name), using the reserved word **lambda**. \n",
    "\n",
    "The general form of a lambda expression is\n",
    "```python\n",
    "lambda <sequence of variable names>: <expression>\n",
    "```\n",
    "Lambda functions can be used wherever function objects are required. \n",
    "\n",
    "* They are syntactically restricted to `a single expression`\n",
    "\n",
    "For example, \n",
    "\n",
    "* the lambda expression `lambda x, y: x*y` returns a function that returns  the product of its two arguments.\n"
   ]
  },
  {
   "cell_type": "code",
   "execution_count": null,
   "metadata": {},
   "outputs": [],
   "source": [
    "adder = lambda x, y: x+y\n",
    "print(adder(3,6))"
   ]
  },
  {
   "cell_type": "markdown",
   "metadata": {},
   "source": [
    "### 4.1.6 The `print()` \n",
    "\n",
    "`print()` built-in function \n",
    "\n",
    "```python\n",
    "print(*objects, sep=' ', end='\\n', file=sys.stdout, flush=False)\n",
    "    # Print objects to the text stream file (default standard output sys.stdout),\n",
    "    # *objects denotes variable number of positional arguments packed into a tuple\n",
    "```\n",
    "*  separated by `sep` : the default space `sep=' '`\n",
    "\n",
    "*  followed by `end`: the default newline `end='\\n`\n",
    "\n",
    "    <b style=\"color:blue\"> end=''</b> to suppress the newline.\n",
    "\n"
   ]
  },
  {
   "cell_type": "code",
   "execution_count": null,
   "metadata": {},
   "outputs": [],
   "source": [
    "str1=\"the default print\"\n",
    "str2=\"the default print2\"\n",
    "\n",
    "print(str1)\n",
    "print(str2)\n",
    "print(str1,str2)"
   ]
  },
  {
   "cell_type": "code",
   "execution_count": null,
   "metadata": {},
   "outputs": [],
   "source": [
    "print(str1,str2,sep='     ')"
   ]
  },
  {
   "cell_type": "markdown",
   "metadata": {},
   "source": [
    "<b style=\"color:blue\"> end=\"\"</b> to suppress the newline."
   ]
  },
  {
   "cell_type": "code",
   "execution_count": null,
   "metadata": {},
   "outputs": [],
   "source": [
    "print(str1,str2,end=\"\")\n",
    "print(str2,end=\"\")"
   ]
  },
  {
   "cell_type": "code",
   "execution_count": null,
   "metadata": {},
   "outputs": [],
   "source": [
    "print(2)\n",
    "print(3,end='')\n",
    "print(4)"
   ]
  },
  {
   "cell_type": "markdown",
   "metadata": {},
   "source": [
    "### 4.1.7 Fancier Output Formatting\n",
    "\n",
    "* https://docs.python.org/3/tutorial/inputoutput.html#fancier-output-formatting\n",
    "\n",
    "#### 4.1.7.1  f-Strings\n",
    "\n",
    "[Formatted String Literals(also called f-strings for short)](https://docs.python.org/3/tutorial/inputoutput.html#formatted-string-literals) is an improved string formatting syntax(**Python 3.6 and above**)\n",
    " \n",
    "**f-strings** have an  <b style=\"color:blue\">f</b> at the beginning and curly braces<b style=\"color:blue\">{}</b> containing **expressions** that will be replaced with their values \n",
    "```python\n",
    "f{expression}\n",
    "```"
   ]
  },
  {
   "cell_type": "code",
   "execution_count": null,
   "metadata": {},
   "outputs": [],
   "source": [
    "str1=\"isstr\"\n",
    "int1=101\n",
    "float1=13.45\n",
    "print(f\"{str1} {int1+12} {float1*2}\")"
   ]
  },
  {
   "cell_type": "markdown",
   "metadata": {},
   "source": [
    "An optional **format specifier** can follow the expression. This allows greater control over how the value is formatted. \n"
   ]
  },
  {
   "cell_type": "code",
   "execution_count": null,
   "metadata": {},
   "outputs": [],
   "source": [
    "print(f\"{str1:<8s} {int1:^4d} {float1*2:>6.1f}\")"
   ]
  },
  {
   "cell_type": "markdown",
   "metadata": {},
   "source": [
    "The **format specifier** beginning with <b style=\"color:blue\">:</b> \n",
    "\n",
    "* <b style=\"color:blue\">:4d</b> for integer,\n",
    "\n",
    "* <b style=\"color:blue\">:6.2f</b> for floating-point number \n",
    "\n",
    "* <b style=\"color:blue\">:8s</b> for string \n",
    "  \n",
    "align\n",
    "  \n",
    "  * <b style=\"color:blue\"><</b>  left\n",
    "  \n",
    "  * <b style=\"color:blue\">></b> right\n",
    "  \n",
    "  * <b style=\"color:blue\">^</b> center"
   ]
  },
  {
   "cell_type": "code",
   "execution_count": null,
   "metadata": {},
   "outputs": [],
   "source": [
    "def fun2(x):\n",
    "    return x**2\n",
    "\n",
    "y = 25\n",
    "xl,xr = 0.0,25.0\n",
    "tol = 0.01\n",
    "maxiters=100\n",
    "\n",
    "x,f,num_iters=bisection(fun2,y,xl,xr,tol,maxiters)\n",
    "print(f'{x:>4.2f} is close to square root of {y}')\n",
    "print(f'residual = {f:.4f}')\n",
    "print(f'num_iters = {num_iters:d}')"
   ]
  },
  {
   "cell_type": "markdown",
   "metadata": {},
   "source": [
    "#### 4.1.7.2  Python 3:str.format()\n",
    "\n",
    "* https://docs.python.org/3/library/stdtypes.html#str.format\n",
    "\n",
    "```python\n",
    "str.format()\n",
    "```"
   ]
  },
  {
   "cell_type": "code",
   "execution_count": null,
   "metadata": {},
   "outputs": [],
   "source": [
    "str1=\" isstr\"\n",
    "int1=11\n",
    "float1=12.6\n",
    "print('{:>8s} {:^4d} {:>6.2f}'.format(str1,int1,float1))"
   ]
  },
  {
   "cell_type": "markdown",
   "metadata": {},
   "source": [
    ">**The `old` style string**  \n",
    ">\n",
    ">**using `%` operator**\n",
    ">```python\n",
    ">print('formatting-string' % args)**\n",
    ">```\n",
    ">Python 2's `old` style for formatted string using `%` operator. \n",
    ">\n",
    ">The formatting-string could contain C-like format-specifiers, such as \n",
    ">\n",
    ">* `%4d` for integer,\n",
    ">\n",
    ">* `%6.2f` for floating-point number, \n",
    ">\n",
    ">* `%8s` for string. \n",
    ">\n"
   ]
  },
  {
   "cell_type": "code",
   "execution_count": null,
   "metadata": {},
   "outputs": [],
   "source": [
    "str1=' is '\n",
    "int1=11\n",
    "float1=12.6\n",
    "print('The old style %8s,%4d,%6.2f' %(str1,int1,float1))"
   ]
  },
  {
   "cell_type": "markdown",
   "metadata": {},
   "source": [
    "## 4.2 docstring\n"
   ]
  },
  {
   "cell_type": "markdown",
   "metadata": {},
   "source": [
    "### 4.2.1 specification\n",
    "\n",
    "**Given a specification of a module**, a programmer can work on implementing that module without worrying unduly about what the otherprogrammers on the team are doing.\n",
    "\n",
    "Moreover, the **other programmers** can use　the specification to start writing code that uses that module without worrying unduly about how that module is to be implemented.\n",
    "\n",
    "<b style=\"color:blue\">specification（规范）</b> of a function defines a <b style=\"color:blue\">contract</b> \n",
    "\n",
    "between \n",
    "\n",
    "* the **implementer** of a function \n",
    "\n",
    "and \n",
    "\n",
    "* those who　(**user－client**)　will be writing programs that use the function.\n"
   ]
  },
  {
   "cell_type": "code",
   "execution_count": null,
   "metadata": {},
   "outputs": [],
   "source": [
    "def bisection(fun, y, xl, xr, tol, maxiter):\n",
    "    \"\"\"\n",
    "       The program uses the bisection method to solve the equation\n",
    "           f(x)-y = 0\n",
    "       input:\n",
    "         fun:the function(x)\n",
    "         y : y=f(x)\n",
    "         xl: lower bound\n",
    "         xr: upper bound\n",
    "         tol: tolerance\n",
    "         maxiter： max iter\n",
    "      return:   \n",
    "           x;  solution \n",
    "           f : residual\n",
    "           num_iters: the count of iters\n",
    "    \"\"\"\n",
    "    fl = fun(xl)-y # residual for left  bound\n",
    "    fr = fun(xr)-y # residual for right bound\n",
    "    num_iters=0\n",
    "    for i in range(maxiter):\n",
    "        num_iters+=1\n",
    "        \n",
    "        # get midpoint\n",
    "        x = 0.5*(xl + xr)\n",
    "        \n",
    "        # evaluate residual at midpoint\n",
    "        f = fun(x)-y\n",
    "        \n",
    "        #  check for convergence\n",
    "        if (abs(f) < tol): \n",
    "            break\n",
    "\n",
    "        # reset the bounds\n",
    "        if (f*fl < 0.0):\n",
    "            # move right bound info to mid\n",
    "            xr = x\n",
    "            fr = f\n",
    "        else:\n",
    "            # move left bound info to mid\n",
    "            xl = x\n",
    "            fl = f\n",
    "    return x,f,num_iters  \n",
    "    "
   ]
  },
  {
   "cell_type": "markdown",
   "metadata": {},
   "source": [
    "### 4.2.2 docstring \n",
    "\n",
    "The text between the **triple** quotation marks is called a **docstring** in Python.\n",
    "\n",
    "```python\n",
    "\"\"\"\n",
    "quotation marks\n",
    "docstring\n",
    "\"\"\"\n",
    "```\n",
    "or\n",
    "```python\n",
    "\"\"\"  quotation marks     \"\"\"\n",
    "```\n",
    "A string literal which appears as <b  style=\"color:blue\">the first expression</b> in a function,module or class. \n",
    "\n",
    "By convention, Python programmers use **docstrings** to provide **specifications of functions**.\n",
    "\n",
    "These **docstrings** can be **accessed** \n",
    "\n",
    "* 1 using the built-in function **help**\n",
    "\n",
    "\n",
    "* 2 it is recognized by the compiler and put into the \n",
    "\n",
    "```python\n",
    "\n",
    "__doc__  \n",
    "\n",
    "```\n",
    "attribute of the enclosing class, function or module.\n"
   ]
  },
  {
   "cell_type": "code",
   "execution_count": null,
   "metadata": {},
   "outputs": [],
   "source": [
    "help(abs)"
   ]
  },
  {
   "cell_type": "code",
   "execution_count": null,
   "metadata": {},
   "outputs": [],
   "source": [
    "help(bisection)"
   ]
  },
  {
   "cell_type": "code",
   "execution_count": null,
   "metadata": {},
   "outputs": [],
   "source": [
    "print(bisection.__doc__)"
   ]
  },
  {
   "cell_type": "markdown",
   "metadata": {},
   "source": [
    "### 4.2.3  pydoc\n",
    "\n",
    "The `pydoc` module automatically generates documentation from Python modules.\n",
    "\n",
    "The documentation can be presented as pages of `text` on the console, served to a `Web` browser, or saved to `HTML` files.\n",
    "\n",
    "The displayed documentation is derived from the **docstring** (i.e. the `__doc__` attribute) of the object, and recursively of its documentable members. \n",
    "\n",
    " **pydoc to generate its documentation as text on the console / `redirect` to a text file**"
   ]
  },
  {
   "cell_type": "code",
   "execution_count": null,
   "metadata": {},
   "outputs": [],
   "source": [
    "!python -m pydoc abs"
   ]
  },
  {
   "cell_type": "code",
   "execution_count": null,
   "metadata": {},
   "outputs": [],
   "source": [
    "!python -m pydoc abs>>./doc/abs.txt"
   ]
  },
  {
   "cell_type": "code",
   "execution_count": null,
   "metadata": {},
   "outputs": [],
   "source": [
    "%load ./doc/abs.txt"
   ]
  },
  {
   "cell_type": "markdown",
   "metadata": {},
   "source": [
    ">**LINE**  magics: `%load`\n",
    ">\n",
    ">   https://ipython.readthedocs.io/en/stable/interactive/magics.html\n",
    ">\n",
    ">Load code into the current frontend.\n",
    ">\n",
    ">Usage:\n",
    ">\n",
    ">```python\n",
    ">%load [options] source\n",
    ">```\n",
    ">where source can be a filename, URL, input history range, macro, or element in the user namespace"
   ]
  },
  {
   "cell_type": "markdown",
   "metadata": {},
   "source": [
    " **start the `web server` and additionally open a web browser to a module index page**"
   ]
  },
  {
   "cell_type": "code",
   "execution_count": null,
   "metadata": {},
   "outputs": [],
   "source": [
    "!python -m pydoc -b 1234  "
   ]
  },
  {
   "cell_type": "markdown",
   "metadata": {},
   "source": [
    "###  4.2.4 Documenting Your Python Projects\n",
    "\n",
    "\n",
    ">**Code is more often read than written** \n",
    ">               \n",
    ">         --Guido van Rossum\n",
    "\n",
    "The way you `document` your project should suit your specific situation. \n",
    "\n",
    "\n",
    "|Tool|Description|\n",
    "|----|:----------:|\n",
    "|[Sphinx](http://www.sphinx-doc.org/en/stable/)|\tA collection of tools to auto-generate |\n",
    "|[Read The Dcos](https://readthedocs.org/)|Automatic building, versioning, and hosting of your docs for you|\n"
   ]
  },
  {
   "cell_type": "markdown",
   "metadata": {},
   "source": [
    "### Reference\n",
    "\n",
    "* [Python Toturial : Documentation Strings](https://docs.python.org/3/tutorial/controlflow.html#documentation-strings)s\n",
    "\n",
    "* [PEP0257 - Docstring Convention](https://www.python.org/dev/peps/pep-0257)\n",
    " \n",
    "* [pydoc — Documentation generator and online help system](https://docs.python.org/3/library/pydoc.html)\n",
    "\n",
    "* [Documenting Software](https://github.com/PySEE/home/blob/S2020/guide/doc/DocumentingSoftware)"
   ]
  },
  {
   "cell_type": "markdown",
   "metadata": {},
   "source": [
    "## 4.3 Modules\n"
   ]
  },
  {
   "cell_type": "markdown",
   "metadata": {},
   "source": [
    "\n",
    "A **module** is a **.py** file containing Python definitions and statements.\n",
    "\n",
    "Python modules allow us to easily construct \n",
    "\n",
    "* **a program** from code in **multiple files**.\n",
    "\n",
    "\n",
    "\n",
    "For example, a file `circle.py` containing"
   ]
  },
  {
   "cell_type": "code",
   "execution_count": null,
   "metadata": {},
   "outputs": [],
   "source": [
    "%%file circle.py \n",
    "\n",
    "pi = 3.14159  # executable statements \n",
    "\n",
    "def area(radius):  # function definitions.\n",
    "    return pi*(radius**2)\n",
    "\n",
    "def circumference(radius):\n",
    "    return 2*pi*radius\n"
   ]
  },
  {
   "cell_type": "markdown",
   "metadata": {},
   "source": [
    "A program gets access to a module through an **import** statement\n",
    "\n",
    "```python\n",
    "import ModuleName\n",
    "````"
   ]
  },
  {
   "cell_type": "code",
   "execution_count": null,
   "metadata": {},
   "outputs": [],
   "source": [
    "import circle\n",
    "\n",
    "print(circle.pi)\n",
    "print(circle.area(3))\n"
   ]
  },
  {
   "cell_type": "markdown",
   "metadata": {},
   "source": [
    "### 4.3.1 Importing Modules\n",
    "\n",
    "**1 a binding for module M**\n",
    "\n",
    "Executing \n",
    "\n",
    "```python\n",
    "import ModuleName \n",
    "```\n",
    "creates <b>a binding for module M</b>,\n",
    "\n",
    "in the importing context,we use **dot** notation to indicate that we are referring to a name defined in the imported module\n",
    "\n",
    "<p>The use of <b>dot notation</b> to fully qualify names avoids the possibility of getting burned by an accidental name clash.\n",
    "\n",
    "```python\n",
    "circle.pi\n",
    "```"
   ]
  },
  {
   "cell_type": "code",
   "execution_count": null,
   "metadata": {},
   "outputs": [],
   "source": [
    "import circle\n",
    "print(circle.pi)  # dot notation\n",
    "print(pi)"
   ]
  },
  {
   "cell_type": "markdown",
   "metadata": {},
   "source": [
    "**2 omit the module name** \n",
    "\n",
    "\n",
    "There is a variant of the `import` statement that allows the importing program to\n",
    "\n",
    "* **omit the module name** \n",
    "\n",
    "when accessing names defined inside the imported module. \n",
    "\n",
    "Executing the statement \n",
    "\n",
    "```python\n",
    "from ModuleName import *\n",
    "```\n",
    "\n",
    "creates <b>bindings</b> in the **current scope**\n",
    "\n",
    "* <b>to all objects </b>defined within M,\n",
    "\n",
    "* but <b>not to M itself</b>. "
   ]
  },
  {
   "cell_type": "code",
   "execution_count": null,
   "metadata": {},
   "outputs": [],
   "source": [
    "from circle import *\n",
    "print(pi)   # import *：bindings in the current scope to all objects defined within ModuleName\n",
    "print(area(3))\n"
   ]
  },
  {
   "cell_type": "markdown",
   "metadata": {},
   "source": [
    "### 4.3.2 The Module Search Path\n",
    "\n",
    "* [6.1.2. The Module Search Path](https://docs.python.org/3/tutorial/modules.html#the-module-search-path)\n",
    "\n",
    "When a module named `circle` is imported, the interpreter searches for\n",
    "\n",
    "* a built-in module` \n",
    "\n",
    "* a list of directories given by the variable `sys.path`\n",
    "\n",
    "`first searches` for `a built-in module` with that name. \n",
    "\n",
    "If not found, it then searches for a file named `spam.py` in a list of directories given by the variable `sys.path`. \n",
    "\n",
    "The variable **sys.path** is a list of strings that determines the interpreter’s **search path for modules**.\n",
    "\n",
    "**sys.path** is initialized from these locations:\n",
    "\n",
    "  * The directory containing the input script (or the`current directory` when no file is specified).\n",
    "\n",
    "  * `PYTHONPATH` (a list of directory names, with the same syntax as the shell variable PATH).\n",
    "\n",
    "  * The `installation-dependent` default\n"
   ]
  },
  {
   "cell_type": "code",
   "execution_count": null,
   "metadata": {},
   "outputs": [],
   "source": [
    "import sys\n",
    "print(sys.path)"
   ]
  },
  {
   "cell_type": "markdown",
   "metadata": {},
   "source": [
    "#### Module in the directory of the input script\n"
   ]
  },
  {
   "cell_type": "code",
   "execution_count": null,
   "metadata": {},
   "outputs": [],
   "source": [
    "%%file circle.py \n",
    "\n",
    "pi = 3.14159  # executable statements \n",
    "\n",
    "def area(radius):  # function definitions.\n",
    "    return pi*(radius**2)\n",
    "\n",
    "def circumference(radius):\n",
    "    return 2*pi*radius"
   ]
  },
  {
   "cell_type": "code",
   "execution_count": null,
   "metadata": {},
   "outputs": [],
   "source": [
    "!dir  circle.py "
   ]
  },
  {
   "cell_type": "code",
   "execution_count": null,
   "metadata": {},
   "outputs": [],
   "source": [
    "import circle\n",
    "print(circle.pi)  # dot notation\n"
   ]
  },
  {
   "cell_type": "markdown",
   "metadata": {},
   "source": [
    "#### Module in the `non-interpreter search path` \n",
    "\n",
    "* Now,we move `circle.py` to the non-interpreter’s search path: `./code/python/`\n",
    "\n"
   ]
  },
  {
   "cell_type": "code",
   "execution_count": null,
   "metadata": {},
   "outputs": [],
   "source": [
    "!move  circle.py ./code/python"
   ]
  },
  {
   "cell_type": "markdown",
   "metadata": {},
   "source": [
    "**Refresh Notebook** Click on `Restart & Clear Output` ,you will see\n",
    "\n",
    "```python\n",
    "ModuleNotFoundError \n",
    "\n",
    "ModuleNotFoundError: No module named 'circle'\n",
    "```"
   ]
  },
  {
   "cell_type": "code",
   "execution_count": null,
   "metadata": {},
   "outputs": [],
   "source": [
    "import circle\n",
    "print(circle.pi)  # dot notation\n"
   ]
  },
  {
   "cell_type": "markdown",
   "metadata": {},
   "source": [
    "#### Add to interpreter search path\n",
    "\n",
    "#####  1 sys.path.append\n",
    "You can modify it using standard list operations **add the path of the module** to interpreter’s search path,then call the module"
   ]
  },
  {
   "cell_type": "code",
   "execution_count": null,
   "metadata": {},
   "outputs": [],
   "source": [
    "import sys\n",
    "sys.path.append('./code/python')\n",
    "#print(sys.path)"
   ]
  },
  {
   "cell_type": "code",
   "execution_count": null,
   "metadata": {},
   "outputs": [],
   "source": [
    "print(sys.path)"
   ]
  },
  {
   "cell_type": "code",
   "execution_count": null,
   "metadata": {},
   "outputs": [],
   "source": [
    "import circle\n",
    "print(circle.pi)  # dot notation"
   ]
  },
  {
   "cell_type": "markdown",
   "metadata": {},
   "source": [
    "##### 2 PYTHONPATH\n",
    "\n",
    "add `PYTHONPATH` to the `System Variable`.set `J:\\SEU\\SEECW\\SE\\SEES\\notebook\\code\\python` in the value.\n",
    "\n",
    "![pythgonpath](./img/pythonpath.jpg)"
   ]
  },
  {
   "cell_type": "markdown",
   "metadata": {},
   "source": [
    "### 4.3.3   ```if __name__ == '__main__':```\n",
    "\n",
    "Execute only if run as a script\n",
    "\n",
    "Add test code in  `circle.py` "
   ]
  },
  {
   "cell_type": "code",
   "execution_count": null,
   "metadata": {},
   "outputs": [],
   "source": [
    "%%file ./code/python/circle.py \n",
    "\n",
    "pi = 3.14159  # executable statements \n",
    "\n",
    "def area(radius):  # function definitions.\n",
    "    return pi*(radius**2)\n",
    "\n",
    "def circumference(radius):\n",
    "    return 2*pi*radius\n",
    "\n",
    "# add test code\n",
    "print(area(3.2))"
   ]
  },
  {
   "cell_type": "markdown",
   "metadata": {},
   "source": [
    "you will see test code is executed"
   ]
  },
  {
   "cell_type": "code",
   "execution_count": null,
   "metadata": {},
   "outputs": [],
   "source": [
    "%%file ./code/python/demomain.py\n",
    "import sys\n",
    "sys.path.append('./code/python')\n",
    "\n",
    "import circle\n",
    "print(circle.pi) "
   ]
  },
  {
   "cell_type": "code",
   "execution_count": null,
   "metadata": {},
   "outputs": [],
   "source": [
    "!python ./code/python/demomain.py"
   ]
  },
  {
   "cell_type": "markdown",
   "metadata": {},
   "source": [
    "**Add `if __name__ == '__main__':`**\n",
    "\n",
    "```python\n",
    "if __name__ == '__main__':\n",
    "    block\n",
    "```    "
   ]
  },
  {
   "cell_type": "code",
   "execution_count": null,
   "metadata": {},
   "outputs": [],
   "source": [
    "%%file  ./code/python/circle.py \n",
    "\n",
    "pi = 3.14159  # executable statements \n",
    "\n",
    "def area(radius):  # function definitions.\n",
    "    return pi*(radius**2)\n",
    "\n",
    "def circumference(radius):\n",
    "    return 2*pi*radius\n",
    "\n",
    "if __name__ == '__main__':\n",
    "   # execute only if run as a script\n",
    "   print(area(3.2))"
   ]
  },
  {
   "cell_type": "code",
   "execution_count": null,
   "metadata": {},
   "outputs": [],
   "source": [
    "!python  ./code/python/demomain.py"
   ]
  },
  {
   "cell_type": "markdown",
   "metadata": {},
   "source": [
    "This **only** runs if run as a script\n",
    "\n",
    "```python\n",
    "if __name__ == '__main__':\n",
    "    block\n",
    "\n",
    "```\n",
    "\n",
    "In short,\n",
    "\n",
    "use this ` if __name__ == '__main__'` **block&& to prevent (certain) code from being run when the module is **imported**.\n"
   ]
  },
  {
   "cell_type": "markdown",
   "metadata": {},
   "source": [
    "**`__name__`**\n",
    "\n",
    "`__name__` is a built-in variable which evaluates to the name of the current module.\n",
    "  \n",
    "* If the source file is `executed as the main program`, the interpreter sets the `__name__` variable to have a value **\\`\\__main\\__\\`**. \n",
    " \n",
    "* If this file is being imported from `another module`, **`__name__`** will be set to the module’s name."
   ]
  },
  {
   "cell_type": "markdown",
   "metadata": {},
   "source": [
    "> **Further reading**\n",
    ">\n",
    ">`__main__`: https://docs.python.org/3/library/__main__.html\n",
    ">"
   ]
  },
  {
   "cell_type": "markdown",
   "metadata": {},
   "source": [
    "## 4.4 Packages\n",
    "   \n",
    "https://docs.python.org/3/tutorial/modules.html#packages\n",
    "\n",
    "### 4.4.1 Packages \n",
    "\n",
    "Packages are a way of structuring `Python’s module namespace` by using **“dotted module names”**.\n",
    "   \n",
    "The ` __init__.py  `files are required to make Python treat the **directories** as containing **packages**; \n",
    "   \n",
    "In the simplest case, ` __init__.py ` can just be an **empty** file, but it can also execute initialization code for the package or set the ` __all__ ` variable\n",
    "\n",
    "Suppose you design a collection of modules (a “package”) of numerical computation; \n",
    "\n",
    "```bash   \n",
    "   mymath/                mymath\n",
    "      __init__.py          initialize the  package\n",
    "      circle.py \n",
    "      findroot.py\n",
    "     ...\n",
    "```"
   ]
  },
  {
   "cell_type": "code",
   "execution_count": null,
   "metadata": {},
   "outputs": [],
   "source": [
    "%%file ./mymath/__init__.py"
   ]
  },
  {
   "cell_type": "code",
   "execution_count": null,
   "metadata": {},
   "outputs": [],
   "source": [
    "%%file ./mymath/circle.py \n",
    "\n",
    "pi = 3.14159  # executable statements \n",
    "\n",
    "def area(radius):  # function definitions.\n",
    "    return pi*(radius**2)\n",
    "\n",
    "def circumference(radius):\n",
    "    return 2*pi*radius\n"
   ]
  },
  {
   "cell_type": "code",
   "execution_count": null,
   "metadata": {},
   "outputs": [],
   "source": [
    "%%file ./mymath/root.py\n",
    "def bisection(fun, y, xl, xr, tol, maxiter):\n",
    "    \"\"\"\n",
    "       The program uses the bisection method to solve the equation\n",
    "           f(x)-y = 0\n",
    "       input:\n",
    "         fun:the function(x)\n",
    "         y : y=f(x)\n",
    "         xl: lower bound\n",
    "         xr: upper bound\n",
    "         tol: tolerance\n",
    "         maxiter： max iter\n",
    "      return:   \n",
    "           x;  solution \n",
    "           f : residual\n",
    "           num_iters: the count of iters\n",
    "    \"\"\"\n",
    "    fl = fun(xl)-y # residual for left  bound\n",
    "    fr = fun(xr)-y # residual for right bound\n",
    "    num_iters=0\n",
    "    for i in range(maxiter):\n",
    "        num_iters+=1\n",
    "        \n",
    "        # get midpoint\n",
    "        x = 0.5*(xl + xr)\n",
    "        \n",
    "        # evaluate residual at midpoint\n",
    "        f = fun(x)-y\n",
    "        \n",
    "        #  check for convergence\n",
    "        if (abs(f) < tol): \n",
    "            break\n",
    "\n",
    "        # reset the bounds\n",
    "        if (f*fl < 0.0):\n",
    "            # move right bound info to mid\n",
    "            xr = x\n",
    "            fr = f\n",
    "        else:\n",
    "            # move left bound info to mid\n",
    "            xl = x\n",
    "            fl = f\n",
    "    return x,f,num_iters  \n",
    "    "
   ]
  },
  {
   "cell_type": "markdown",
   "metadata": {},
   "source": [
    "Users of the package can \n",
    "\n",
    "1. import **individual modules** from the package, \n",
    "\n",
    "```python\n",
    "import packagename.modulename\n",
    "```\n",
    "for example:\n",
    "```python\n",
    "import mymath.root\n",
    "import mymath.circle\n",
    "```\n",
    "2 .An alternative way of importing the `submodule` is:\n",
    "```python\n",
    "from packagename import modulename\n",
    "```\n",
    "for example:\n",
    "\n",
    "```python\n",
    "from mymath import root\n",
    "from mymath import circle\n",
    "\n",
    "\n",
    "from mymath import root,circle\n",
    "```\n",
    "\n",
    "3. Yet another variation is to import the **desired function or variable directly:**\n",
    "```python\n",
    "from packagename.modulename import function/variable/className\n",
    "```\n",
    "for example:\n",
    "\n",
    "```python\n",
    "from mymath.root import bisection\n",
    "from mymath.circle import area,circumference\n",
    "```"
   ]
  },
  {
   "cell_type": "code",
   "execution_count": null,
   "metadata": {},
   "outputs": [],
   "source": [
    "# 1 import packagename.modulename\n",
    "import mymath.root\n",
    "\n",
    "# 2 from packagename import modulename\n",
    "#from mymath import root\n",
    "\n",
    "# 3 from module import function or variable directly\n",
    "#from mymath.root import bisection\n",
    "\n",
    "\n",
    "def fun2(x):\n",
    "    return x**2\n",
    "\n",
    "y = 25\n",
    "xl,xr = 0.0,25  \n",
    "tol = 0.01\n",
    "maxiters=100\n",
    "\n",
    "# 1\n",
    "x,f,num_iters=mymath.root.bisection(fun2,y,xl,xr,tol,maxiters)\n",
    "\n",
    "# 2\n",
    "#x,f,num_iters=root.bisection(fun2,y,xl,xr,tol,maxiters)\n",
    "\n",
    "# 3\n",
    "#x,f,num_iters=bisection(fun2,y,xl,xr,tol,maxiters)\n",
    "\n",
    "\n",
    "print(f\"{x:>8.6f} is close to square root of  {y:<4.1f}\")\n",
    "print('\\t num_iters ={num_iters}')\n",
    "print('\\t resdiual = {f:<8.6f}')  "
   ]
  },
  {
   "cell_type": "markdown",
   "metadata": {},
   "source": [
    "### 4.4.2 import as\n",
    " \n",
    " `import as` is an extension of Python syntax regarding the `import` and `from <module> >import` statements to define aliases(a different name) for imported modules\n",
    "\n",
    "For example, we use `import as` for creating relatively compact or readable code.\n",
    "\n",
    "```python\n",
    "import mymath.root\n",
    "\n",
    "x,f,num_iters=mymath.root.bisection(func1,k,xl,xr,tol,maxiters)\n",
    "```\n",
    "\n",
    "**using `import as`**\n",
    "\n",
    "```python\n",
    "import mymath.root as rt\n",
    "\n",
    "x,f,num_iters=rt.bisection(fun2,y,xl,xr,tol,maxiters)\n",
    "```\n",
    ">**Further reading** [PEP 221 -- Import As](https://www.python.org/dev/peps/pep-0221/)\n",
    ">"
   ]
  },
  {
   "cell_type": "code",
   "execution_count": null,
   "metadata": {},
   "outputs": [],
   "source": [
    "import mymath.root as rt\n",
    "\n",
    "def fun2(x):\n",
    "    return x**2\n",
    "\n",
    "y = 25\n",
    "xl,xr = 0.0,25  \n",
    "tol = 0.01\n",
    "maxiters=100\n",
    "\n",
    "x,f,num_iters=rt.bisection(fun2,y,xl,xr,tol,maxiters)\n",
    "\n",
    "\n",
    "print(f\"{x:>8.6f} is close to square root of  {y:<4.1f}\")\n",
    "print('\\t num_iters ={num_iters}')\n",
    "print('\\t resdiual = {f:<8.6f}')  "
   ]
  },
  {
   "cell_type": "markdown",
   "metadata": {},
   "source": [
    "## Further Reading:\n",
    "\n",
    "* Python Tutorial: Chapter 6 :MODULES https://docs.python.org/3/tutorial/modules.html\n",
    "\n"
   ]
  },
  {
   "cell_type": "code",
   "execution_count": null,
   "metadata": {},
   "outputs": [],
   "source": []
  }
 ],
 "metadata": {
  "kernelspec": {
   "display_name": "Python 3",
   "language": "python",
   "name": "python3"
  },
  "language_info": {
   "codemirror_mode": {
    "name": "ipython",
    "version": 3
   },
   "file_extension": ".py",
   "mimetype": "text/x-python",
   "name": "python",
   "nbconvert_exporter": "python",
   "pygments_lexer": "ipython3",
   "version": "3.8.7"
  },
  "latex_envs": {
   "LaTeX_envs_menu_present": true,
   "autoclose": false,
   "autocomplete": true,
   "bibliofile": "biblio.bib",
   "cite_by": "apalike",
   "current_citInitial": 1,
   "eqLabelWithNumbers": true,
   "eqNumInitial": 1,
   "hotkeys": {
    "equation": "Ctrl-E",
    "itemize": "Ctrl-I"
   },
   "labels_anchors": false,
   "latex_user_defs": false,
   "report_style_numbering": false,
   "user_envs_cfg": false
  },
  "toc": {
   "base_numbering": 1,
   "nav_menu": {},
   "number_sections": false,
   "sideBar": true,
   "skip_h1_title": false,
   "title_cell": "Table of Contents",
   "title_sidebar": "Contents",
   "toc_cell": false,
   "toc_position": {
    "height": "calc(100% - 180px)",
    "left": "10px",
    "top": "150px",
    "width": "205px"
   },
   "toc_section_display": true,
   "toc_window_display": true
  }
 },
 "nbformat": 4,
 "nbformat_minor": 1
}
