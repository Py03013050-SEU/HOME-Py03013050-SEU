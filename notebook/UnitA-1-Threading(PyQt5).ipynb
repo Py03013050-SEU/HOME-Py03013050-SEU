{
 "cells": [
  {
   "cell_type": "markdown",
   "metadata": {},
   "source": [
    "# Threading"
   ]
  },
  {
   "cell_type": "markdown",
   "metadata": {},
   "source": [
    "## 1 Unresponsive GUI\n"
   ]
  },
  {
   "cell_type": "markdown",
   "metadata": {},
   "source": [
    "### 1.1 PyQt5 \n",
    "\n",
    "#### 1.1.1 Qt\n",
    "\n",
    "[Qt](www.qt.io) is a free and open-source widget toolkit for creating **graphical user interfaces** as well as cross-platform applications that run on various software and hardware platforms such as Linux, Windows, macOS, Android or embedded systems with little or no change in the underlying codebase while still being a native application with native capabilities and speed.\n",
    "\n",
    "One framework. One codebase. Any platform.\n",
    "\n",
    "Everything you need for your entire software development life cycle. Qt is the fastest and smartest way to produce industry-leading software that users love.\n",
    "\n",
    "[PyQt](https://riverbankcomputing.com/software/pyqt/intro)\n",
    "\n",
    "PyQt is a set of Python v2 and v3 bindings for The Qt Company's Qt application framework and runs on all platforms supported by Qt including Windows, OS X, Linux, iOS and Android. PyQt5 supports Qt v5. PyQt4 supports Qt v4 and will build against Qt v5. The bindings are implemented as a set of Python modules and contain over 1,000 classes.\n",
    "\n",
    "\n",
    "**install PyQt5 for Windows**\n",
    "\n",
    "```\n",
    ">python -m pip install PyQt5 -i  https://pypi.tuna.tsinghua.edu.cn/simple\n",
    "\n",
    ">python -m pip install PyQt5-tools -i https://pypi.tuna.tsinghua.edu.cn/simple\n",
    "```"
   ]
  },
  {
   "cell_type": "markdown",
   "metadata": {},
   "source": [
    "#### 1.1.2 The simple GUI"
   ]
  },
  {
   "cell_type": "code",
   "execution_count": null,
   "metadata": {},
   "outputs": [],
   "source": [
    "%%file ./code/python/pyqt5-gui.py\n",
    "import sys\n",
    "from PyQt5.QtWidgets import QMainWindow, QPushButton, QApplication\n",
    "\n",
    "class Example(QMainWindow):\n",
    "    \n",
    "    def __init__(self):\n",
    "        super().__init__()\n",
    "        self.initUI()\n",
    "        \n",
    "        \n",
    "    def initUI(self):      \n",
    "\n",
    "        btn1 = QPushButton(\"Button 1\", self)\n",
    "        btn1.move(30, 50)\n",
    "\n",
    "        btn2 = QPushButton(\"Button 2\", self)\n",
    "        btn2.move(150, 50)\n",
    "      \n",
    "        btn1.clicked.connect(self.buttonClicked)            \n",
    "        btn2.clicked.connect(self.buttonClicked)\n",
    "        \n",
    "        self.statusBar()\n",
    "        \n",
    "        self.setGeometry(300, 300, 290, 150)\n",
    "        self.setWindowTitle('The Demo GUI')\n",
    "        self.show()\n",
    "        \n",
    "    def buttonClicked(self):\n",
    "        sender = self.sender()\n",
    "        self.statusBar().showMessage(sender.text() + ' was pressed')\n",
    "        \n",
    "        \n",
    "if __name__ == '__main__':\n",
    "    app = QApplication(sys.argv)\n",
    "    ex = Example()\n",
    "    sys.exit(app.exec_())"
   ]
  },
  {
   "cell_type": "code",
   "execution_count": null,
   "metadata": {},
   "outputs": [],
   "source": [
    "%run ./code/python/pyqt5-gui.py"
   ]
  },
  {
   "cell_type": "markdown",
   "metadata": {},
   "source": [
    "### 1.2  Unresponsive GUI "
   ]
  },
  {
   "cell_type": "markdown",
   "metadata": {},
   "source": [
    "\n",
    "#### 1.2.1  psutil\n",
    "\n",
    "**psutil**  https://github.com/giampaolo/psutil\n",
    "\n",
    "* Cross-platform lib for `process and system` monitoring in Python "
   ]
  },
  {
   "cell_type": "code",
   "execution_count": null,
   "metadata": {},
   "outputs": [],
   "source": [
    "import psutil\n",
    "\n",
    "def io_cpu_percent():\n",
    "    return psutil.cpu_percent()\n",
    "\n",
    "value=io_cpu_percent()\n",
    "print(\" cpu percent is \",value)"
   ]
  },
  {
   "cell_type": "markdown",
   "metadata": {},
   "source": [
    "#### 1.2.2  Unresponsive App\n",
    "\n",
    "```python\n",
    "  def button2Clicked(self):\n",
    "        while True:\n",
    "            self.value=get_data()\n",
    "            self.statusBar().showMessage(str(self.value))   \n",
    "            time.sleep(2)\n",
    "```            "
   ]
  },
  {
   "cell_type": "code",
   "execution_count": 1,
   "metadata": {},
   "outputs": [
    {
     "name": "stdout",
     "output_type": "stream",
     "text": [
      "Overwriting ./code/python/pyqt5-gui-unresponsive.py\n"
     ]
    }
   ],
   "source": [
    "%%file ./code/python/pyqt5-gui-unresponsive.py\n",
    "import sys\n",
    "from PyQt5.QtWidgets import QMainWindow, QPushButton, QApplication\n",
    "\n",
    "import time\n",
    "import psutil\n",
    "\n",
    "def get_data():\n",
    "    return psutil.cpu_percent()\n",
    "\n",
    "class Example(QMainWindow):\n",
    "    \n",
    "    def __init__(self):\n",
    "        super().__init__()\n",
    "        self.initUI()\n",
    "        \n",
    "    def initUI(self):      \n",
    "        btn1 = QPushButton(\"Button 1\", self)\n",
    "        btn1.move(30, 50)\n",
    "\n",
    "        btn2 = QPushButton(\"Start Read CPU\", self)\n",
    "        btn2.move(150, 50)\n",
    "      \n",
    "        btn1.clicked.connect(self.button1Clicked)            \n",
    "        btn2.clicked.connect(self.button2Clicked)\n",
    "        \n",
    "        self.statusBar()\n",
    "        \n",
    "        self.setGeometry(300, 300, 290, 150)\n",
    "        self.setWindowTitle('Read CPU,non-threading')\n",
    "        self.show()\n",
    "        \n",
    "        \n",
    "    def button1Clicked(self):\n",
    "        sender = self.sender()\n",
    "        self.statusBar().showMessage(sender.text() + ' was pressed')\n",
    "    \n",
    "    def button2Clicked(self):\n",
    "        while True:\n",
    "            self.value=get_data()\n",
    "            self.statusBar().showMessage(str(self.value))   \n",
    "            time.sleep(2)\n",
    "        \n",
    "if __name__ == '__main__':\n",
    "    app = QApplication(sys.argv)\n",
    "    ex = Example()\n",
    "    sys.exit(app.exec_())"
   ]
  },
  {
   "cell_type": "code",
   "execution_count": null,
   "metadata": {},
   "outputs": [],
   "source": [
    "%run ./code/python/pyqt5-gui-unresponsive.py"
   ]
  },
  {
   "cell_type": "markdown",
   "metadata": {},
   "source": [
    "## 2 Threads\n",
    "\n",
    "**Threads** describe processes that can run **concurrently** to solve a problem.\n",
    "\n",
    "A thread is a `separate` flow of execution. This means that your program will have two things happening at once.\n",
    "\n",
    "For example\n",
    "\n",
    "* a Web browser uses one thread to load an image from the Internet while using another thread to format and display text.\n",
    "\n",
    "Most modern computers, whether they are networked or stand-alone machines, represent **some processes as threads**\n",
    "\n",
    "**threading module**\n",
    "\n",
    "Python includes sophisticated tools for managing concurrent operations using processes and threads. Even many relatively simple programs can be made to run faster by applying techniques for running parts of the job concurrently using these modules.\n",
    "\n",
    "The **threading** module includes a high-level, object-oriented API for working with concurrency from Python. \n",
    "\n",
    "Thread objects run **concurrently** within the same process and share memory. \n",
    "\n",
    "### 2.1 Thread Objects\n",
    "\n",
    "The simplest way to use a Thread is to instantiate it with a **target** function and call **start()** to let it begin working.\n",
    "\n",
    "* The following example's output is five lines with \"Worker\" on each."
   ]
  },
  {
   "cell_type": "code",
   "execution_count": null,
   "metadata": {},
   "outputs": [],
   "source": [
    "import threading\n",
    "import time\n",
    "def worker():\n",
    "    \"\"\"thread worker function\"\"\"\n",
    "    time.sleep(0.5)\n",
    "    print('Worker')\n",
    "\n",
    "print(\"Main Begin\")\n",
    "threads = []\n",
    "for i in range(5):\n",
    "    t = threading.Thread(target=worker)\n",
    "    threads.append(t)\n",
    "    t.start()\n",
    "print(\"Main End\")    "
   ]
  },
  {
   "cell_type": "markdown",
   "metadata": {},
   "source": [
    "**arguments**\n",
    "\n",
    "It is useful to be able to spawn a thread and pass **arguments** that tell it which work to do.\n",
    "\n",
    "* `Any type of object` can be passed as `argument` to the thread. \n",
    "\n",
    "The next example passes a number, which the thread then prints.\n",
    "\n",
    "* The integer argument is now included in the message printed by each thread.\n"
   ]
  },
  {
   "cell_type": "code",
   "execution_count": null,
   "metadata": {},
   "outputs": [],
   "source": [
    "import threading\n",
    "\n",
    "def worker(num):\n",
    "    \"\"\"thread worker function\"\"\"\n",
    "    print('Worker: %s' % num)\n",
    "\n",
    "threads = []\n",
    "for i in range(5):\n",
    "    t = threading.Thread(target=worker, args=(i,))\n",
    "    threads.append(t)\n",
    "    t.start()"
   ]
  },
  {
   "cell_type": "markdown",
   "metadata": {},
   "source": [
    "### 2.2 Responsive GUI  \n",
    "\n",
    "We’ll look at the way to realize **Responsive GUI** using **Multithreading**.\n",
    "\n",
    "* Threading IO"
   ]
  },
  {
   "cell_type": "code",
   "execution_count": null,
   "metadata": {
    "code_folding": []
   },
   "outputs": [],
   "source": [
    "%%file ./code/python/pyqt5-gui-responsive.py\n",
    "import sys\n",
    "from PyQt5.QtWidgets import QMainWindow, QPushButton, QApplication\n",
    "\n",
    "import time\n",
    "import psutil\n",
    "import threading\n",
    "\n",
    "def get_data():\n",
    "    return psutil.cpu_percent()\n",
    "\n",
    "class Example(QMainWindow):\n",
    "    \n",
    "    def __init__(self):\n",
    "        super().__init__()\n",
    "        self.initUI()\n",
    "        \n",
    "    def initUI(self):      \n",
    "\n",
    "        btn1 = QPushButton(\"Button 1\", self)\n",
    "        btn1.move(30, 50)\n",
    "\n",
    "        btn2 = QPushButton(\"Start Read CPU\", self)\n",
    "        btn2.move(150, 50)\n",
    "      \n",
    "        btn1.clicked.connect(self.button1Clicked)            \n",
    "        btn2.clicked.connect(self.button2Clicked)\n",
    "        \n",
    "        self.statusBar()\n",
    "        \n",
    "        self.setGeometry(300, 300, 290, 150)\n",
    "        self.setWindowTitle('Threading IO')\n",
    "        self.show()\n",
    "        \n",
    "        \n",
    "    def button1Clicked(self):\n",
    "        sender = self.sender()\n",
    "        self.statusBar().showMessage(sender.text() + ' was pressed')\n",
    "\n",
    "    def io_worker(self):\n",
    "        \"\"\"thread's worker function\"\"\"\n",
    "        while True:\n",
    "            self.value=get_data()\n",
    "            self.statusBar().showMessage(str(self.value))  \n",
    "            time.sleep(2)\n",
    "     \n",
    "    def button2Clicked(self):\n",
    "        t = threading.Thread(target=self.io_worker)\n",
    "        t.start()\n",
    "        \n",
    "if __name__ == '__main__':\n",
    "    app = QApplication(sys.argv)\n",
    "    ex = Example()\n",
    "    sys.exit(app.exec_())"
   ]
  },
  {
   "cell_type": "code",
   "execution_count": null,
   "metadata": {},
   "outputs": [],
   "source": [
    "%run ./code/python/pyqt5-gui-responsive.py"
   ]
  },
  {
   "cell_type": "markdown",
   "metadata": {},
   "source": [
    "![threading](./img/gui-background-threading.jpg)"
   ]
  },
  {
   "cell_type": "markdown",
   "metadata": {},
   "source": [
    "## Reference\n",
    "\n",
    "**Qt**\n",
    "\n",
    "* [Qt](https://www.qt.io)\n",
    "\n",
    "* [PyQt](https://riverbankcomputing.com/software/pyqt/intro)\n",
    "\n",
    "* [PyQt5 tutorial](http://zetcode.com/gui/pyqt5/)\n",
    "\n",
    "**Threading**\n",
    "\n",
    "* The Python Standard Library [threading — Thread-based parallelism](https://docs.python.org/3/library/threading.html)\n",
    "\n",
    "* Doug Hellmann.[threading — Manage Concurrent Operations Within a Process](https://pymotw.com/3/threading/index.html)\n",
    "\n",
    "* Allen B. Downey.[Think OS:A Brief Introduction to Operating Systems](http://greenteapress.com/wp/think-os/)\n",
    "\n",
    "[The GUI/Web Real-time Serial Port Monitor of DHT11 With Python(PyQt4,Tornado)](https://github.com/thermalogic/PyThermometer)\n",
    "  \n",
    "  \n",
    "   \n"
   ]
  },
  {
   "cell_type": "code",
   "execution_count": null,
   "metadata": {},
   "outputs": [],
   "source": []
  }
 ],
 "metadata": {
  "kernelspec": {
   "display_name": "Python 3",
   "language": "python",
   "name": "python3"
  },
  "language_info": {
   "codemirror_mode": {
    "name": "ipython",
    "version": 3
   },
   "file_extension": ".py",
   "mimetype": "text/x-python",
   "name": "python",
   "nbconvert_exporter": "python",
   "pygments_lexer": "ipython3",
   "version": "3.8.0"
  },
  "toc": {
   "base_numbering": 1,
   "nav_menu": {},
   "number_sections": false,
   "sideBar": true,
   "skip_h1_title": false,
   "title_cell": "Table of Contents",
   "title_sidebar": "Contents",
   "toc_cell": false,
   "toc_position": {
    "height": "calc(100% - 180px)",
    "left": "10px",
    "top": "150px",
    "width": "165px"
   },
   "toc_section_display": true,
   "toc_window_display": true
  }
 },
 "nbformat": 4,
 "nbformat_minor": 2
}
