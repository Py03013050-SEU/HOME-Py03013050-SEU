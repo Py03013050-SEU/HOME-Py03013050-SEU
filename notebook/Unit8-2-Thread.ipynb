{
 "cells": [
  {
   "cell_type": "markdown",
   "metadata": {},
   "source": [
    "# Multithreading"
   ]
  },
  {
   "cell_type": "markdown",
   "metadata": {},
   "source": [
    "## 1  Process and Thread\n",
    "\n",
    "### 1.1 Process\n",
    "**Process(task): is a program in execution**\n",
    "\n",
    "Each process is an `independent entity to which system resources` such as CPU time, memory, etc. are allocated and each process is executed in `a separate address space`. \n",
    "\n",
    "> 一个进程是一个正在运行的程序, 是资源（CPU、内存等）分配的基本单位\n",
    "\n",
    "### 1.2 Thread\n",
    "\n",
    "**A thread is a `separate` flow of execution that can run `concurrently(并发）` to solve a problem in the process.** \n",
    "\n",
    "This means that your program will have two things happening at once.\n",
    "\n",
    "For example\n",
    "\n",
    "* a Web browser uses one thread to load an image from the Internet while using another thread to format and display text.\n",
    "\n",
    "More exactly it is `Thread of Execution` which is the **smallest** unit of processing.\n",
    "\n",
    ">线程: 进程中可以并发运行的独立执行流,是CPU调度和分派的基本单位(程序执行时的最小单位)\n",
    "\n",
    "### 1.3 The difference between processes and threads\n",
    "\n",
    "\n",
    "**The `key` difference between processes and threads** is that \n",
    "\n",
    "* `multiple` threads `share(共享)` parts of their state. \n",
    "\n",
    "* a thread is a particular `execution path(运行路径)` of a process. \n",
    ">\n",
    ">多个线程共享进程资源，每个线程有自己的堆栈和局部变量共享状态\n",
    ">\n",
    ">线程包含在进程之中,是进程的一个运行路径\n",
    "\n",
    "![thread](./img/linux/ThreadDiagram.jpg)\n",
    "\n"
   ]
  },
  {
   "cell_type": "markdown",
   "metadata": {},
   "source": [
    "## 2 Python threading module\n",
    "\n",
    "**Python threading module**\n",
    "\n",
    "Python includes sophisticated tools for managing concurrent operations using processes and threads. Even many relatively simple programs can be made to run faster by applying techniques for running parts of the job concurrently using these modules.\n",
    "\n",
    "The **threading** module includes a high-level, object-oriented API for working with concurrency from Python. \n",
    "\n",
    "Thread objects run **concurrently** within the same process and share memory. \n",
    "\n",
    "### 2.1 Thread Objects\n",
    "\n",
    "The simplest way to use a Thread is to instantiate it with \n",
    "\n",
    "* a **target** function and \n",
    "\n",
    "* call **start()** to let it begin working.\n",
    "\n",
    "The following example's output is five lines with **Worker** on each."
   ]
  },
  {
   "cell_type": "code",
   "execution_count": null,
   "metadata": {},
   "outputs": [],
   "source": [
    "import threading\n",
    "import time\n",
    "def worker():\n",
    "    \"\"\"thread worker function\"\"\"\n",
    "    time.sleep(0.5)\n",
    "    print('Worker')\n",
    "\n",
    "print(\"Main Begin\")\n",
    "for i in range(5):\n",
    "    t = threading.Thread(target=worker)\n",
    "    t.start()\n",
    "print(\"Main End\")  "
   ]
  },
  {
   "cell_type": "markdown",
   "metadata": {},
   "source": [
    "### 2.2 arguments\n",
    "\n",
    "It is useful to be able to spawn a thread and pass **arguments** that tell it which work to do.\n",
    "\n",
    "* `Any type of object` can be passed as `argument` to the thread. \n",
    "\n",
    "The next example passes a number, which the thread then prints.\n",
    "\n",
    "* The integer argument is now included in the message printed by each thread.\n"
   ]
  },
  {
   "cell_type": "code",
   "execution_count": null,
   "metadata": {},
   "outputs": [],
   "source": [
    "import threading\n",
    "import time\n",
    "\n",
    "def worker(num):\n",
    "    \"\"\"thread worker function\"\"\"\n",
    "    time.sleep(0.5)\n",
    "    print('The worker:{:d}'.format(num))\n",
    "\n",
    "print(\"Main Begin\")\n",
    "\n",
    "threads=[]\n",
    "for i in range(5):\n",
    "    t = threading.Thread(target=worker, args=(i,))\n",
    "    threads.append(t)\n",
    "    \n",
    "for item in threads:\n",
    "    item.start()\n",
    "print(\"Main End\")    "
   ]
  },
  {
   "cell_type": "markdown",
   "metadata": {},
   "source": [
    "### 2.3  join() Method \n",
    "\n",
    "In some situations, we will have to **wait for the finalization of a thread**. \n",
    "\n",
    "**Join** thread: The function returns when the thread execution has `completed`.\n",
    "\n",
    "We can use the `join()` method of the Thread class. \n",
    "\n",
    "When we call this method using a thread object, it `suspends` the execution of the calling thread until the object called finishes its execution.\n",
    "\n",
    ">主线程等待子线程的终止\n",
    ">\n",
    ">也就是说主线程的代码块中，如果碰到了t.join()方法，此时主线程需要等待（阻塞）\n",
    ">\n",
    ">等子线程结束了(Waits for this thread to die.),才能继续执行t.join()之后的代码块。\n"
   ]
  },
  {
   "cell_type": "code",
   "execution_count": null,
   "metadata": {},
   "outputs": [],
   "source": [
    "import threading\n",
    "import time\n",
    "\n",
    "def worker(num):\n",
    "    \"\"\"thread worker function\"\"\"\n",
    "    time.sleep(0.5)\n",
    "    print('The worker:{:d}'.format(num))\n",
    "\n",
    "print(\"Main Begin\")\n",
    "\n",
    "threads=[]\n",
    "for i in range(5):\n",
    "    t = threading.Thread(target=worker, args=(i,))\n",
    "    threads.append(t)\n",
    "    \n",
    "for item in threads:\n",
    "    item.start()\n",
    "    item.join()\n",
    "print(\"Main End\")  "
   ]
  },
  {
   "cell_type": "markdown",
   "metadata": {},
   "source": []
  },
  {
   "cell_type": "markdown",
   "metadata": {},
   "source": [
    "## 3 Thread in C++\n",
    "\n",
    "### 3.1 std::thread\n",
    "\n",
    "In C++, threads are created using the **std::thread** class.\n",
    "\n"
   ]
  },
  {
   "cell_type": "code",
   "execution_count": null,
   "metadata": {},
   "outputs": [],
   "source": [
    "%%file ./demo/src/demo_thread.cpp\n",
    "\n",
    "#include <iostream>\n",
    "#include <thread> \n",
    "\n",
    "using namespace std;\n",
    "\n",
    "void worker(int a)\n",
    "{ \n",
    "    cout << \"the worker thread: \" <<a<< endl;\n",
    "}\n",
    "\n",
    "int main()\n",
    "{ cout <<\"Main Begin\"<<endl;\n",
    "  // Create and execute the thread\n",
    "  thread t1(worker,1);\n",
    "  cout <<\"Main End\"<<endl;\n",
    "  return 0;\n",
    "}"
   ]
  },
  {
   "cell_type": "code",
   "execution_count": null,
   "metadata": {},
   "outputs": [],
   "source": [
    "!g++ -o ./demo/bin/demo_thread ./demo/src/demo_thread.cpp"
   ]
  },
  {
   "cell_type": "code",
   "execution_count": null,
   "metadata": {},
   "outputs": [],
   "source": [
    "!.\\demo\\bin\\demo_thread"
   ]
  },
  {
   "cell_type": "markdown",
   "metadata": {},
   "source": [
    "###  3.2 std::thread::join\n",
    "\n"
   ]
  },
  {
   "cell_type": "code",
   "execution_count": null,
   "metadata": {},
   "outputs": [],
   "source": [
    "%%file ./demo/src/demo_thread_join.cpp\n",
    "\n",
    "// example for thread::join\n",
    "#include <iostream>      \n",
    "#include <thread>        \n",
    "#include <chrono>        \n",
    " \n",
    "void pause_thread(int n) \n",
    "{\n",
    "  std::this_thread::sleep_for (std::chrono::seconds(n));\n",
    "  std::cout << \"pause of \" << n << \" seconds ended\\n\";\n",
    "}\n",
    " \n",
    "int main() \n",
    "{\n",
    "  std::cout << \"Spawning 3 threads...\\n\";\n",
    "  std::thread t1 (pause_thread,1);\n",
    "  std::thread t2 (pause_thread,2);\n",
    "  std::thread t3 (pause_thread,3);\n",
    "  std::cout << \"Done spawning threads. Now waiting for them to join:\\n\";\n",
    "\n",
    "  t1.join();\n",
    "  t2.join();\n",
    "  t3.join();\n",
    "  \n",
    "  std::cout << \"All threads joined!\\n\";\n",
    "  return 0;\n",
    "}"
   ]
  },
  {
   "cell_type": "code",
   "execution_count": null,
   "metadata": {},
   "outputs": [],
   "source": [
    "!g++ -o ./demo/bin/demo_thread_join ./demo/src/demo_thread_join.cpp"
   ]
  },
  {
   "cell_type": "code",
   "execution_count": null,
   "metadata": {},
   "outputs": [],
   "source": [
    "!.\\demo\\bin\\demo_thread_join"
   ]
  },
  {
   "cell_type": "markdown",
   "metadata": {},
   "source": [
    "## 4 Parallelism and Parallel Computing \n",
    "\n",
    "\n",
    "### 4.1 Concurrency vs Parallelism\n",
    "\n",
    "Concurrency(并发) means multiple tasks which start, run, and complete within the same time frame, in no specific order\n",
    "\n",
    "Parallelism(并行) is the task of running multiple computations at the same moment. It requires multiple CPU units or cores.\n",
    "\n",
    "><font color=\"blue\">并发</font>：在**一个时间段**内，有多个任务都处于已启动、运行和运行完成之间. **宏观上**看起来多个任务都在**同一时刻运行**，但多个任务指令在**交织**着运行。\n",
    ">\n",
    "><font color=\"blue\">并行</font>：在**同一时刻**，有多个任务**同时**在执行\n",
    ">\n",
    ">并发是在**同一时段**发生,并行是在**同一时刻**发生\n",
    "\n",
    "Concurrent = `Two` queues and `one` coffee machine.\n",
    "\n",
    "Parallel = `Two` queues and two `coffee` machines.\n",
    "\n",
    " ![](./img/linux/con_and_par.jpg)\n",
    "\n",
    "The term **parallelism** means that an application **splits** its tasks up into smaller **subtasks** which can be processed in parallel, \n"
   ]
  },
  {
   "cell_type": "markdown",
   "metadata": {},
   "source": [
    "### 4.2 Parallel Computing\n",
    "\n",
    "In the simplest sense, parallel computing is the simultaneous use of **multiple**compute resources to solve a computational problem:\n",
    "\n",
    "* A problem is broken into discrete parts that can be solved concurrently\n",
    "\n",
    "* Each part is further broken down to a series of instructions\n",
    "\n",
    "* Instructions from each part execute simultaneously on different processors\n",
    "\n",
    "* An overall control/coordination mechanism is employed\n",
    "\n",
    "![merge sort](./img/linux/parallel_problem.gif)"
   ]
  },
  {
   "cell_type": "markdown",
   "metadata": {},
   "source": [
    "### 4.3 Parallelizing merge sort\n",
    "\n",
    "#### 4.3.1 Parallelizing a problem\n",
    "\n",
    "When you face a complex issue, the first thing to be done is to **decompose** the problem in order to identify parts of it that may be handled **independently**.\n",
    "\n",
    "In general, the <font color=\"blue\">parallelizable parts</font> in a solution are in pieces that can be **divided** and distributed for them to be processed by <font color=\"blue\">different workers</font>.\n",
    "\n",
    "The technique of **dividing and conquering（分治）** involves **splitting** the domain `recursively` until **an indivisible unit** of the complete issue is found and solved. \n",
    "\n",
    "The **merge sort**(归并排序）algorithm can be resolved by using this approach\n",
    "\n"
   ]
  },
  {
   "cell_type": "markdown",
   "metadata": {},
   "source": [
    "#### 4.3.2 Parallelizing merge sort with multi-thread"
   ]
  },
  {
   "cell_type": "code",
   "execution_count": 40,
   "metadata": {},
   "outputs": [
    {
     "name": "stdout",
     "output_type": "stream",
     "text": [
      "Overwriting ./demo/include/merge_sort.h\n"
     ]
    }
   ],
   "source": [
    "%%file ./demo/include/merge_sort.h\n",
    "\n",
    "#ifndef MERGE_SORT_H\n",
    "#define MERGE_SORT_H\n",
    "\n",
    "#include <stdlib.h>\n",
    "\n",
    "#ifdef __cplusplus\n",
    "extern \"C\"\n",
    "{\n",
    "#endif\n",
    "\n",
    "void merge(int a[], int iLeft, int middle, int iRight, int work[]);\n",
    "void merge_sort_range(int a[], int iLeft, int iRight, int work[]);    \n",
    "void merge_sort(int a[], int size);\n",
    "\n",
    "#ifdef __cplusplus\n",
    "\n",
    "}\n",
    "#endif\n",
    "\n",
    "#endif\n",
    "\n"
   ]
  },
  {
   "cell_type": "code",
   "execution_count": 41,
   "metadata": {},
   "outputs": [
    {
     "name": "stdout",
     "output_type": "stream",
     "text": [
      "Overwriting ./demo/src/merge_sort.c\n"
     ]
    }
   ],
   "source": [
    "%%file ./demo/src/merge_sort.c\n",
    "\n",
    "#include \"merge_sort.h\"\n",
    "\n",
    "// Merge two halves in  [iLeft,middle], [middle+1, iRight]\n",
    "void merge(int a[], int iLeft, int middle, int iRight, int work[])\n",
    "{\n",
    "    int size = iRight - iLeft + 1;\n",
    "    // 1 comparing the values of elements\n",
    "    //  Look at the first element of each list, and move the smaller of the two to the end of the result list.\n",
    "    int iL = iLeft;\n",
    "    int iR = middle+1;\n",
    "    int iResult = 0;\n",
    "    while (iL <= middle && iR <= iRight)\n",
    "    {\n",
    "         if (a[iL] <= a[iR])\n",
    "         {\n",
    "             work[iResult++] = a[iL++];\n",
    "          }\n",
    "          else\n",
    "          {\n",
    "             work[iResult++] = a[iR++];\n",
    "          }\n",
    "   }\n",
    "  \n",
    "  // 2 Copy the remaining left or right into work\n",
    "   while (iL <= middle)\n",
    "         work[iResult++] = a[iL++];\n",
    "   while (iR <= iRight)\n",
    "         work[iResult++] = a[iR++];\n",
    " \n",
    " \n",
    "   // 3 Copy the work back to the original array\n",
    "   for (iResult = 0, iL = iLeft; iResult < size; ++iResult, ++iL)\n",
    "   {\n",
    "      a[iL] = work[iResult];\n",
    "   }\n",
    "}\n",
    "\n",
    "// Sort the given array in [iLeft, iRight]\n",
    "void merge_sort_range(int a[], int iLeft, int iRight, int work[])\n",
    "{\n",
    "   if ((iRight - iLeft) >= 1) { \n",
    "      // more than 1 elements, divide and sort\n",
    "      // Divide into left and right half\n",
    "      int middle = (iRight + iLeft) / 2;   // truncate\n",
    "     \n",
    "      // Recursively sort each half\n",
    "      merge_sort_range(a, iLeft, middle, work);\n",
    "      merge_sort_range(a, middle+1, iRight, work);\n",
    " \n",
    "      // Merge two halves\n",
    "      merge(a, iLeft,middle, iRight, work);\n",
    "   }\n",
    "}\n",
    " \n",
    "// Sort the given array of size\n",
    "void merge_sort(int a[], int size)\n",
    "{\n",
    "   int *work;\n",
    "   work = (int *)malloc(sizeof(int) * size);\n",
    "   merge_sort_range(a, 0, size - 1, work);\n",
    "   free(work); \n",
    "}\n"
   ]
  },
  {
   "cell_type": "code",
   "execution_count": 42,
   "metadata": {},
   "outputs": [
    {
     "name": "stdout",
     "output_type": "stream",
     "text": [
      "Overwriting ./demo/src/para_merge_sort.cpp\n"
     ]
    }
   ],
   "source": [
    "%%file ./demo/src/para_merge_sort.cpp\n",
    "/*\n",
    " Parallelizing merge sort\n",
    "*/\n",
    "#include <iostream>\n",
    "#include <thread>\n",
    "#include <ctime>\n",
    "#include <atomic>\n",
    "#include <string>\n",
    "#include <cstring>\n",
    "#include<algorithm>\n",
    "\n",
    "#include \"merge_sort.h\"\n",
    "\n",
    "\n",
    "using namespace std;\n",
    "\n",
    "atomic<int> CPU(8); //Maximum number of threads\n",
    "\n",
    "void parallel_merge_sort_range(int a[], int l, int r, int b[])\n",
    "{\n",
    "    int minparallelsize =1000;\n",
    "    //int minparallelsize =10;\n",
    "    if (l >= r)\n",
    "        return;\n",
    "    int mid = (l + r) / 2;\n",
    "\n",
    "    thread LeftThread;\n",
    "    thread RightThread;\n",
    "    if (CPU > 0 && (r-l)>minparallelsize )\n",
    "    {\n",
    "        //cout <<\"Left Thread \"<<CPU <<endl;\n",
    "        CPU--;\n",
    "        LeftThread = thread(parallel_merge_sort_range, a, l, mid, b);\n",
    "    }\n",
    "    else\n",
    "    {\n",
    "        //cout <<\"Left \"<<CPU <<endl;\n",
    "        merge_sort_range(a, l, mid, b);\n",
    "    }   \n",
    "   \n",
    "    if (CPU > 0 &&(r-l)>minparallelsize)\n",
    "    {\n",
    "        //cout <<\"Right Thread \"<<CPU <<endl;\n",
    "        CPU--;\n",
    "        RightThread = thread(parallel_merge_sort_range, a, mid + 1, r, b);\n",
    "    }\n",
    "    else\n",
    "    {\n",
    "        //cout <<\"Right \"<<CPU <<endl;\n",
    "        merge_sort_range(a, mid + 1, r, b);\n",
    "    }   \n",
    "    if (LeftThread.joinable())\n",
    "        LeftThread.join();\n",
    "    if (RightThread.joinable())\n",
    "        RightThread.join();\n",
    "    merge(a, l, mid,r, b);\n",
    "    CPU++;\n",
    "    //cout <<\"After Merge \"<<CPU <<endl;\n",
    "}\n",
    "\n",
    "void parallel_merge_sort(int a[], int size)\n",
    "{\n",
    "    int *b;\n",
    "    b = (int *)malloc(sizeof(int) * size);\n",
    "    parallel_merge_sort_range(a, 0, size - 1, b);\n",
    "    free(b);\n",
    "}\n",
    "\n",
    "void sortingtimes(string sortname, void (*f)(int *a, int size), int *a, int size)\n",
    "{\n",
    "    clock_t StartTime, EndTime;\n",
    "    StartTime = clock();\n",
    "    f(a, size);\n",
    "    EndTime = clock();\n",
    "    cout << \"The \"<<sortname<<\" run times: \" << (double)(EndTime - StartTime) << endl;\n",
    "    cout <<\"\\t\";\n",
    "    for (int i = 0; i <20; i++)\n",
    "        cout << a[i] << \" \";\n",
    "    cout << endl;\n",
    "}\n",
    "\n",
    "\n",
    "int main()\n",
    "{\n",
    "    const int size = 10000000;//1e7 \n",
    "    int *v;\n",
    "    int *a;\n",
    "    v = (int *)malloc(sizeof(int) * size);\n",
    "    a = (int *)malloc(sizeof(int) * size);\n",
    " \n",
    "    cout <<\"SIZE \"<<size<<endl;\n",
    "    srand((unsigned)time(NULL));\n",
    "    for (int i = 0; i < size; i++)\n",
    "        v[i] = (int)rand() % size+i;\n",
    "\n",
    "    cout <<\"\\t\";\n",
    "    for (int i = 0; i < 20; i++)\n",
    "        cout << v[i] << \" \";\n",
    "    cout << endl;\n",
    "\n",
    "    // Merge Sort\n",
    "    memcpy(a, v, sizeof(int) * size);\n",
    "    sortingtimes(\"Merge Sort\",merge_sort,a,size);\n",
    "\n",
    "    // Parallel Merge Sort\n",
    "    memcpy(a, v, sizeof(int) * size);\n",
    "    sortingtimes(\"Parallel Merge Sort\",parallel_merge_sort,a,size);\n",
    "    \n",
    "    // std::sort\n",
    "    memcpy(a, v, sizeof(int) * size);\n",
    "    clock_t StartTime, EndTime;\n",
    "    StartTime = clock();\n",
    "    sort(a,a+size);\n",
    "    EndTime = clock();\n",
    "    cout << \"The std::sort run times: \" << (double)(EndTime - StartTime) << endl;\n",
    "    cout <<\"\\t\";\n",
    "    for(int i=0;i<20;i++)\n",
    "        cout<<a[i]<<\" \";\n",
    "    free(a);\n",
    "    free(v);\n",
    "}\n",
    "\n"
   ]
  },
  {
   "cell_type": "code",
   "execution_count": 43,
   "metadata": {},
   "outputs": [],
   "source": [
    "!g++ -O3 -o ./demo/bin/para_merge_sort ./demo/src/para_merge_sort.cpp ./demo/src/merge_sort.c -I./demo/include"
   ]
  },
  {
   "cell_type": "code",
   "execution_count": 44,
   "metadata": {},
   "outputs": [
    {
     "name": "stdout",
     "output_type": "stream",
     "text": [
      "SIZE 10000000\n",
      "\t10691 25439 21949 76 7712 17630 1531 16611 31470 7233 23277 17465 12519 26600 10182 26056 28269 6715 23704 16230 \n",
      "The Merge Sort run times: 1114\n",
      "\t76 337 364 389 625 636 659 799 801 834 863 872 885 890 898 915 920 968 969 981 \n",
      "The Parallel Merge Sort run times: 473\n",
      "\t1146186 1148891 1144741 1161860 1148891 1152771 1153223 1161860 1162674 1166390 3772370 3775717 3776141 3777986 3778813 3780236 3780769 3783021 3784460 3785207 \n",
      "The std::sort run times: 609\n",
      "\t76 337 364 389 625 636 659 799 801 834 863 872 885 890 898 915 920 968 969 981 \n"
     ]
    }
   ],
   "source": [
    "!.\\demo\\bin\\para_merge_sort "
   ]
  },
  {
   "cell_type": "code",
   "execution_count": null,
   "metadata": {},
   "outputs": [],
   "source": []
  }
 ],
 "metadata": {
  "interpreter": {
   "hash": "2db524e06e9f5f4ffedc911c917cb75e12dbc923643829bf417064a77eb14d37"
  },
  "kernelspec": {
   "display_name": "Python 3 (ipykernel)",
   "language": "python",
   "name": "python3"
  },
  "language_info": {
   "codemirror_mode": {
    "name": "ipython",
    "version": 3
   },
   "file_extension": ".py",
   "mimetype": "text/x-python",
   "name": "python",
   "nbconvert_exporter": "python",
   "pygments_lexer": "ipython3",
   "version": "3.10.5"
  },
  "latex_envs": {
   "LaTeX_envs_menu_present": true,
   "autoclose": false,
   "autocomplete": true,
   "bibliofile": "biblio.bib",
   "cite_by": "apalike",
   "current_citInitial": 1,
   "eqLabelWithNumbers": true,
   "eqNumInitial": 1,
   "hotkeys": {
    "equation": "Ctrl-E",
    "itemize": "Ctrl-I"
   },
   "labels_anchors": false,
   "latex_user_defs": false,
   "report_style_numbering": false,
   "user_envs_cfg": false
  },
  "toc": {
   "base_numbering": 1,
   "nav_menu": {},
   "number_sections": false,
   "sideBar": true,
   "skip_h1_title": false,
   "title_cell": "Table of Contents",
   "title_sidebar": "Contents",
   "toc_cell": false,
   "toc_position": {
    "height": "calc(100% - 180px)",
    "left": "10px",
    "top": "150px",
    "width": "165px"
   },
   "toc_section_display": true,
   "toc_window_display": true
  }
 },
 "nbformat": 4,
 "nbformat_minor": 2
}
