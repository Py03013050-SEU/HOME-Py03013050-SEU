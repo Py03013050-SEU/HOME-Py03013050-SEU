{
 "cells": [
  {
   "cell_type": "markdown",
   "metadata": {},
   "source": [
    "# 10.2 Sorting Algorithms\n",
    "\n",
    "the standard implementation of sorting in most Python implementations runs in roughly $O(n*log(n))$ time, where n is the length of the list.\n",
    "\n",
    "In most cases, the right thing to do is to use with Python\n",
    "\n",
    "* 1  method **list.sort** : takes a list as its first argument and **modifies** that list,sorts the list (ascending sort),\n",
    "    \n",
    "    \n",
    "* 2 function **sorted** : takes an iterable object (e.g., a list or a dictionary) as its first argument and returns a **new** sorted list, <b>does not mutate L</b>"
   ]
  },
  {
   "cell_type": "code",
   "execution_count": null,
   "metadata": {
    "collapsed": true
   },
   "outputs": [],
   "source": [
    "L=[1,34,5,7,90,2]\n",
    "L.sort()\n",
    "print('sorted L',L)\n",
    "L.reverse()\n",
    "print('reversed L',L)"
   ]
  },
  {
   "cell_type": "code",
   "execution_count": null,
   "metadata": {
    "collapsed": true
   },
   "outputs": [],
   "source": [
    "L =[1,34,5,7,90,2]\n",
    "L1 = L[ : ]\n",
    "# descending sorts\n",
    "L1.sort(reverse = True)\n",
    "print(L)\n",
    "print(L1)"
   ]
  },
  {
   "cell_type": "code",
   "execution_count": null,
   "metadata": {
    "collapsed": true
   },
   "outputs": [],
   "source": [
    "L=[1,34,5,7,90,2]\n",
    "# returns a new list with same elements as L\n",
    "L1=sorted(L)\n",
    "print(L)\n",
    "print(L1)"
   ]
  },
  {
   "cell_type": "code",
   "execution_count": null,
   "metadata": {
    "collapsed": true
   },
   "outputs": [],
   "source": [
    "L=[1,34,5,7,90,2]\n",
    "L1=sorted(L,reverse = True)\n",
    "print(L)\n",
    "print(L1)"
   ]
  },
  {
   "cell_type": "markdown",
   "metadata": {},
   "source": [
    "Present sorting algorithms here primarily to provide some practice in **thinking about algorithm design and complexity analysis**\n",
    "\n",
    "We begin with a simple but inefficient algorithm, **selection sort**"
   ]
  },
  {
   "cell_type": "markdown",
   "metadata": {},
   "source": [
    "### Selection sort \n",
    "\n",
    "**Selection sort** works by maintaining the **loop invariant** that, given a partitioning of the list into \n",
    "\n",
    "* <b>a prefix (L[0:i])</b> \n",
    "\n",
    "* <b>a suffix (L[i+1:len(L)])</b>,\n",
    "\n",
    "the prefix is sorted and no element in the prefix is larger than <b>the smallest element</b> in the suffix.\n",
    "\n",
    "We use induction to reason about **loop invariants**.\n",
    "\n",
    "* **Base case**: At the **start** of the first iteration, the **prefix** is **empty**, i.e., the\n",
    "**suffix** is the **entire list**. The invariant is  true.\n",
    "\n",
    "\n",
    "* **Induction step**: At each step of the algorithm, we move one element **from the suffix to the prefix.** \n",
    "\n",
    "\n",
    ">   * We do this by appending a **minimum** element of the suffix to the end of the prefix. Because the invariant held before we moved the element,\n",
    "\n",
    "\n",
    ">   * we know that after we append the element the prefix is **still sorted**. \n",
    "\n",
    "\n",
    ">   * We also know that since we removed the smallest element in the suffix, **no element in the prefix is larger than the smallest element in the suffix**.\n",
    "\n",
    "\n",
    "* When **the loop is exited**, the **prefix** includes the **entire list**, and the **suffix**\n",
    "is **empty**.\n",
    "\n",
    "\n",
    "Therefore, the entire list is now sorted in **ascending** order.\n",
    "\n",
    "Example:\n",
    "```c\n",
    "int a[8] = {8, 4, 5, 3, 2, 9, 4, 1};\n",
    "```\n",
    "![](./img/selSort.jpg)"
   ]
  },
  {
   "cell_type": "code",
   "execution_count": null,
   "metadata": {
    "collapsed": true
   },
   "outputs": [],
   "source": [
    "#Page 132, Figure 10.3\n",
    "def selSort(L):\n",
    "    \"\"\"Assumes that L is a list of elements that can be\n",
    "         compared using >.\n",
    "       Sorts L in ascending order\"\"\"\n",
    "    suffixStart = 0\n",
    "    while suffixStart != len(L):\n",
    "        #look at each element in suffix\n",
    "        for i in range(suffixStart, len(L)):\n",
    "            if L[i] < L[suffixStart]:\n",
    "                #swap position of elements\n",
    "                L[suffixStart], L[i] = L[i], L[suffixStart]\n",
    "        suffixStart += 1"
   ]
  },
  {
   "cell_type": "code",
   "execution_count": null,
   "metadata": {
    "collapsed": true
   },
   "outputs": [],
   "source": [
    "L=[1,34,5,7,90,2]\n",
    "selSort(L)\n",
    "print(L)"
   ]
  },
  {
   "cell_type": "markdown",
   "metadata": {},
   "source": [
    "Unfortunately, it is rather inefficient\n",
    "\n",
    "* The complexity of the inner loop is $O(len(L))$ :\n",
    "\n",
    "```python\n",
    "   for i in range(suffixStart, len(L)):\n",
    "```\n",
    "\n",
    "* The complexity of the outer loop is also $O(len(L))$ :\n",
    "```python\n",
    "while suffixStart != len(L):\n",
    "```\n",
    "\n",
    "The complexity of the entire function is $O(len(L)^2)$. I.e., it is **quadratic** in the length of L."
   ]
  },
  {
   "cell_type": "markdown",
   "metadata": {},
   "source": [
    "#### SelectionSort in C"
   ]
  },
  {
   "cell_type": "code",
   "execution_count": null,
   "metadata": {
    "collapsed": true
   },
   "outputs": [],
   "source": [
    "%%file ./code/ds/SelectionSort.c\n",
    "\n",
    "/* Sorting an array using Selection Sort (SelectionSort.c) */\n",
    "\n",
    "#include <stdio.h>\n",
    "#include <stdlib.h> \n",
    "\n",
    "void selectionSort(int a[], int size);\n",
    "void print(const int a[], int iMin, int iMax);\n",
    "\n",
    "// Sort the given array of size using selection sort\n",
    "void selectionSort(int a[], int size) {\n",
    "   int temp; // for swaping\n",
    "   for (int i = 0; i < size - 1; ++i) {\n",
    "      // for tracing\n",
    "      print(a, 0, i - 1);\n",
    "      print(a, i, size - 1);\n",
    " \n",
    "      // [0, i-1] already sort\n",
    "      // Search for the smallest element in [i, size-1]\n",
    "      //  and swap with a[i]\n",
    "      int minIndex = i;  // assume fist element is the smallest\n",
    "      for (int j = i + 1; j < size; ++j) {\n",
    "         if (a[j] < a[minIndex]) minIndex = j;\n",
    "      }\n",
    "      if (minIndex != i) {  // swap\n",
    "         temp = a[i];\n",
    "         a[i] = a[minIndex];\n",
    "         a[minIndex] = temp;\n",
    "      }\n",
    " \n",
    "      // for tracing\n",
    "      printf(\"=> \");\n",
    "      print(a, 0, i - 1);\n",
    "      print(a, i, size - 1);\n",
    "      printf(\"\\n\");\n",
    "   }\n",
    "}\n",
    " \n",
    "// Print the contents of the array in [iMin, iMax]\n",
    "void print(const int a[], int iMin, int iMax) {\n",
    "   printf(\"{\");\n",
    "   for (int i = iMin; i <= iMax; ++i) {\n",
    "      printf(\"%d\",a[i]);\n",
    "      if (i < iMax)  printf(\",\");\n",
    "   }\n",
    "   printf(\"}\");\n",
    "}\n",
    " \n",
    "int main() {\n",
    "   const int SIZE = 8;\n",
    "   int a[8] = {8, 4, 5, 3, 2, 9, 4, 1};\n",
    "   print(a, 0, SIZE - 1);\n",
    "   printf(\"\\n\"); \n",
    "   selectionSort(a, SIZE);\n",
    "   print(a, 0, SIZE - 1);\n",
    "   printf(\"\\n\"); \n",
    "  \n",
    "   return 0;\n",
    "}\n"
   ]
  },
  {
   "cell_type": "code",
   "execution_count": null,
   "metadata": {
    "collapsed": true
   },
   "outputs": [],
   "source": [
    "!gcc -o ./code/ds/SelectionSort.exe ./code/ds/SelectionSort.c"
   ]
  },
  {
   "cell_type": "code",
   "execution_count": null,
   "metadata": {
    "collapsed": true
   },
   "outputs": [],
   "source": [
    "!.\\code\\ds\\SelectionSort.exe"
   ]
  },
  {
   "cell_type": "markdown",
   "metadata": {},
   "source": [
    "### 10.2.1 Merge Sort\n",
    "\n",
    "Merge sort is a prototypical <b>divide-and-conquer algorithm</b>. It was invented in 1945, by John von Neumann, and is still widely used.\n",
    "\n",
    "In general, a divide-and-conquer algorithm is characterized by\n",
    "\n",
    "* 1 A **threshold input size**, below which the problem is **not subdivided**\n",
    "\n",
    "* 2 The size and number of **sub-instances** into which an instance is **split**,\n",
    "\n",
    "* 3 The algorithm used to **combine** sub-solutions.\n",
    "\n",
    "\n",
    "The threshold is sometimes called the **recursive base**. For item 2 it is usual to consider the ratio of initial problem size to sub-instance size. In most of the examples we’ve seen so far, the ratio was 2.\n",
    "\n",
    "Like many divide-and-conquer algorithms it is most easily described recursively:\n",
    "\n",
    "* If the list is of **length 0 or 1**, it is **already** sorted.  \n",
    " \n",
    "     A **threshold input size**\n",
    "     \n",
    "\n",
    "* If the list has more than one element, **split the list** into two lists, and use **merge sort** to sort each of them.\n",
    "\n",
    "    The size and number of **sub-instances** into which an instance is **split**,\n",
    "\n",
    "\n",
    "\n",
    "* **Merge** the results.\n",
    "\n",
    "   The algorithm used to **combine** sub-solutions.\n",
    "\n",
    "\n",
    "<font color='blue'>**The idea**</font> is: \n",
    "\n",
    ">look at the **first** element of each list, and move the **smaller of the two** to the **end** of the result list.\n",
    ">\n",
    ">When one of the lists is empty, all that remains is to copy the remaining items from the other list.\n",
    "\n",
    "Consider, for example, merging the two lists\n",
    "```\n",
    " [1,5,12,18,19,20]\n",
    " [2,3,4,17]\n",
    "```\n",
    "![mergesort](./img/ds/mergesort.png)\n",
    "\n",
    "Example\n",
    "```c\n",
    " int a1[8] = {8, 4, 5, 3, 2, 9, 4, 1};\n",
    "```\n",
    "![](./img/mergeSort.jpg)\n",
    "\n",
    "\n"
   ]
  },
  {
   "cell_type": "markdown",
   "metadata": {},
   "source": [
    "### What is the complexity of the merge process? \n",
    "\n",
    "It involves two constant-time operations： \n",
    "\n",
    "* 1 comparing the values of elements \n",
    "\n",
    "* 2 copying elements from one list to another. \n",
    "\n",
    "The number of comparisons is **O(len(L))**, where L is the **longer** of the two lists. \n",
    "\n",
    "The number of copy operations is **O(len(L1) + len(L2))**, because each element gets copied exactly once. \n",
    "\n",
    "Therefore, merging two sorted lists is linear in **the length of the lists**"
   ]
  },
  {
   "cell_type": "code",
   "execution_count": null,
   "metadata": {
    "collapsed": true
   },
   "outputs": [],
   "source": [
    "#Page 134, Figure 10.4\n",
    "def merge(left, right, compare):\n",
    "    \"\"\"Assumes left and right are sorted lists and\n",
    "         compare defines an ordering on the elements.\n",
    "       Returns a new sorted (by compare) list containing the\n",
    "         same elements as (left + right) would contain.\"\"\"\n",
    "    \n",
    "    result = []\n",
    "    i,j = 0, 0\n",
    "    while i < len(left) and j < len(right):\n",
    "        if compare(left[i], right[j]):\n",
    "            result.append(left[i])\n",
    "            i += 1\n",
    "        else:\n",
    "            result.append(right[j])\n",
    "            j += 1\n",
    "    while (i < len(left)):\n",
    "        result.append(left[i])\n",
    "        i += 1\n",
    "    while (j < len(right)):\n",
    "        result.append(right[j])\n",
    "        j += 1\n",
    "    return result\n",
    "\n",
    "import operator\n",
    "#  compare = operator.lt\n",
    "def mergeSort(L, compare = operator.lt):\n",
    "    \"\"\"Assumes L is a list, compare defines an ordering\n",
    "         on elements of L\n",
    "       Returns a new sorted list containing the same elements as L\"\"\"\n",
    "    if len(L) < 2:\n",
    "        return L[:]\n",
    "    else:\n",
    "        middle = len(L)//2\n",
    "        left = mergeSort(L[:middle], compare)\n",
    "        right = mergeSort(L[middle:], compare)\n",
    "        return merge(left, right, compare)"
   ]
  },
  {
   "cell_type": "code",
   "execution_count": null,
   "metadata": {
    "collapsed": true
   },
   "outputs": [],
   "source": [
    "L=[1,5,12,18,19,20,2,3,4,17]\n",
    "L1=mergeSort(L,operator.gt)\n",
    "print(L1)"
   ]
  },
  {
   "cell_type": "markdown",
   "metadata": {},
   "source": [
    "#### Let’s analyze the complexity of mergeSort. \n",
    "\n",
    "We already know that the time complexity of merge is $O(len(L))$. At each level of recursion the total number of elements to be merged is $len(L)$. \n",
    "\n",
    "Therefore, the time complexity of mergeSort is\n",
    "\n",
    "* $O(len(L))$ multiplied by the number of levels of recursion. \n",
    "\n",
    "Since mergeSort divides the list <b>in half</b> each time, we know that the number of levels of recursion is $O(log(len(L))$. \n",
    "  \n",
    "Therefore, the time complexity of mergeSort is $O(n*log(n))</b>$, where n is len(L).\n",
    "                                                                                                             \n",
    "This improvement in time complexity comes with a price. \n",
    "\n",
    "<b>Selection sort</b> is an example of an <b>in-place</b> sorting algorithm. Because it works by swapping the place of elements within the list, it uses only <b>a constant amount of extra storage</b> (one element in our implementation). \n",
    "\n",
    "In contrast, the <b>merge sort</b> algorithm  involves making<b> copies of the list</b>. This means that its space complexity is $O(len(L))$.                                                                                                             "
   ]
  },
  {
   "cell_type": "markdown",
   "metadata": {},
   "source": [
    "**A merge sort** works as follows:\n",
    "\n",
    "* Divide the unsorted list into n sublists, each containing 1 element (a list of 1 element is considered sorted).\n",
    "\n",
    "* Repeatedly merge sublists to produce new sorted sublists until there is only 1 sublist remaining. This will be the sorted list."
   ]
  },
  {
   "cell_type": "markdown",
   "metadata": {
    "collapsed": true
   },
   "source": [
    "### 10.2.2 <font color=\"blue\">Exploiting Functions</font> as Parameters\n",
    "\n",
    "Suppose we want to sort a list of names written as firstName lastName, e.g.,\n",
    "\n",
    "the list\n",
    "```python\n",
    "['Chris Terman', 'Tom Brady', 'Eric Grimson', 'Gisele Bundchen'].\n",
    "```\n",
    "Figure 10.5 defines two ordering functions, and then uses these to sort a list in two different ways.\n",
    "```python\n",
    "def mergeSort(L, compare = operator.lt):\n",
    "```"
   ]
  },
  {
   "cell_type": "code",
   "execution_count": null,
   "metadata": {
    "collapsed": true
   },
   "outputs": [],
   "source": [
    "#Page 135, Figure 10.5\n",
    "def lastNameFirstName(name1, name2):\n",
    "    name1 = name1.split(' ')\n",
    "    name2 = name2.split(' ')\n",
    "    if name1[1] != name2[1]:\n",
    "        return name1[1] < name2[1]\n",
    "    else: #last names the same, sort by first name\n",
    "        return name1[0] < name2[0]\n",
    "\n",
    "def firstNameLastName(name1, name2):\n",
    "    # If that argument is omitted \n",
    "    #  the string is split using arbitrary strings of whitespace characters\n",
    "    #  space, tab, newline, return, and formfeed).\n",
    "    name1 = name1.split()\n",
    "    name2 = name2.split()\n",
    "    if name1[0] != name2[0]:\n",
    "        return name1[0] < name2[0]\n",
    "    else: #first names the same, sort by last name\n",
    "        return name1[1] < name2[1]\n"
   ]
  },
  {
   "cell_type": "code",
   "execution_count": null,
   "metadata": {
    "collapsed": true
   },
   "outputs": [],
   "source": [
    "L = ['Chris Terman', 'Tom Brady', 'Eric Grimson', 'Gisele Bundchen']\n",
    "newL = mergeSort(L, lastNameFirstName)\n",
    "print('Sorted by last name =', newL)\n",
    "newL = mergeSort(L, firstNameLastName)\n",
    "print('Sorted by first name =', newL)"
   ]
  },
  {
   "cell_type": "markdown",
   "metadata": {},
   "source": [
    "### MergeSort in C"
   ]
  },
  {
   "cell_type": "code",
   "execution_count": null,
   "metadata": {
    "collapsed": true
   },
   "outputs": [],
   "source": [
    "%%file ./code/ds/MergeSort.c\n",
    "\n",
    "/* Sorting an array using Merge Sort (MergeSort.c) */\n",
    "#include <stdio.h>\n",
    "#include <stdlib.h>\n",
    " \n",
    "void mSort(int a[], int size);\n",
    "void mergeSort(int a[], int iLeft, int iRight, int work[]);\n",
    "void merge(int a[], int iLeftHalfLeft, int iLeftHalfRight,\n",
    "           int iRightHalfLeft, int iRightHalfRight, int work[]);\n",
    "void print(const int a[], int iLeft, int iRight);\n",
    "\n",
    " \n",
    "// Sort the given array of size\n",
    "void mSort(int a[], int size) {\n",
    "   int work[size];  // work space\n",
    "   mergeSort(a, 0, size - 1, work);\n",
    "}\n",
    " \n",
    "// Sort the given array in [iLeft, iRight]\n",
    "void mergeSort(int a[], int iLeft, int iRight, int work[]) {\n",
    "   if ((iRight - iLeft) >= 1) {   // more than 1 elements, divide and sort\n",
    "      // Divide into left and right half\n",
    "      int iLeftHalfLeft = iLeft;\n",
    "      int iLeftHalfRight = (iRight + iLeft) / 2;   // truncate\n",
    "      int iRightHalfLeft = iLeftHalfRight + 1;\n",
    "      int iRightHalfRight = iRight;\n",
    " \n",
    "      // Recursively sort each half\n",
    "      mergeSort(a, iLeftHalfLeft, iLeftHalfRight, work);\n",
    "      mergeSort(a, iRightHalfLeft, iRightHalfRight, work);\n",
    " \n",
    "      // Merge two halves\n",
    "      merge(a, iLeftHalfLeft, iLeftHalfRight, iRightHalfLeft, iRightHalfRight, work);\n",
    "   }\n",
    "}\n",
    " \n",
    "// Merge two halves in [iLeftHalfLeft, iLeftHalfRight] and [iRightHalfLeft, iRightHalfRight]\n",
    "// Assume that iLeftHalfRight + 1 = iRightHalfLeft\n",
    "void merge(int a[], int iLeftHalfLeft, int iLeftHalfRight,\n",
    "           int iRightHalfLeft, int iRightHalfRight, int work[]) {\n",
    "   int size = iRightHalfRight - iLeftHalfLeft + 1;\n",
    "   int iResult = 0;\n",
    "   int iLeft = iLeftHalfLeft;\n",
    "   int iRight = iRightHalfLeft;\n",
    "   while (iLeft <= iLeftHalfRight && iRight <= iRightHalfRight) {\n",
    "      if (a[iLeft] <= a[iRight]) {\n",
    "         work[iResult++] = a[iLeft++];\n",
    "      } else {\n",
    "         work[iResult++] = a[iRight++];\n",
    "      }\n",
    "   }\n",
    "   // Copy the remaining left or right into work\n",
    "   while (iLeft <= iLeftHalfRight) work[iResult++] = a[iLeft++];\n",
    "   while (iRight <= iRightHalfRight) work[iResult++] = a[iRight++];\n",
    " \n",
    "   // for tracing\n",
    "   print(a, iLeftHalfLeft, iLeftHalfRight);\n",
    "   print(a, iRightHalfLeft, iRightHalfRight);\n",
    "   printf(\"=> \");\n",
    "   print(work, 0, size - 1);\n",
    "   printf(\"\\n\");\n",
    " \n",
    "   // Copy the work back to the original array\n",
    "   for (iResult = 0, iLeft = iLeftHalfLeft; iResult < size; ++iResult, ++iLeft) {\n",
    "      a[iLeft] = work[iResult];\n",
    "   }\n",
    "}\n",
    " \n",
    "// Print the contents of the given array from iLeft to iRight (inclusive)\n",
    "void print(const int a[], int iLeft, int iRight) {\n",
    "   printf(\"{\");\n",
    "   for (int i = iLeft; i <= iRight; ++i) {\n",
    "      printf(\"%d\", a[i]);\n",
    "      if (i < iRight) printf(\",\");\n",
    "   }\n",
    "   printf(\"} \");\n",
    "}\n",
    "\n",
    " \n",
    "int main() {\n",
    "   // Test 1\n",
    "   const int SIZE_1 = 8;\n",
    "   int a1[8] = {8, 4, 5, 3, 2, 9, 4, 1};\n",
    " \n",
    "   print(a1, 0, SIZE_1 - 1);\n",
    "   printf(\"\\n\");\n",
    "   mSort(a1, SIZE_1);\n",
    "   print(a1, 0, SIZE_1 - 1);\n",
    "   printf(\"\\n \\n\");\n",
    " \n",
    "   // Test 2\n",
    "   const int SIZE_2 = 13;\n",
    "   int a2[13] = {8, 4, 5, 3, 2, 9, 4, 1, 9, 1, 2, 4, 5};\n",
    " \n",
    "   print(a2, 0, SIZE_2 - 1);\n",
    "   printf(\"\\n\");\n",
    "   mSort(a2, SIZE_2);\n",
    "   print(a2, 0, SIZE_2 - 1);\n",
    "   printf(\"\\n \\n\");\n",
    "    \n",
    "   return 0;\n",
    "}"
   ]
  },
  {
   "cell_type": "code",
   "execution_count": null,
   "metadata": {
    "collapsed": true
   },
   "outputs": [],
   "source": [
    "!gcc -o ./code/ds/MergeSort.exe ./code/ds/MergeSort.c"
   ]
  },
  {
   "cell_type": "code",
   "execution_count": null,
   "metadata": {
    "collapsed": true
   },
   "outputs": [],
   "source": [
    "!.\\code\\ds\\MergeSort.exe"
   ]
  },
  {
   "cell_type": "markdown",
   "metadata": {},
   "source": [
    "### The GNU C Library: Array Sort Function\n",
    "\n",
    "http://www.gnu.org/software/libc/manual/html_node/Array-Sort-Function.html\n",
    "\n",
    "To sort an array using an arbitrary comparison function, use the **qsort** function. The prototype for this function is in **stdlib.h**. \n",
    "\n",
    "Function:\n",
    "\n",
    "```c\n",
    "void qsort (void *array, size_t count, size_t size, comparison_fn_t compare)\n",
    "```\n",
    "To do this, you supply **a comparison function** to compare two elements of the array\n",
    "\n",
    "This type is a GNU extension\n",
    "```c\n",
    "int comparison_fn_t (const void *, const void *);\n",
    "```"
   ]
  },
  {
   "cell_type": "code",
   "execution_count": null,
   "metadata": {
    "collapsed": true
   },
   "outputs": [],
   "source": [
    "%%file ./code/ds/gccqsort.c\n",
    "\n",
    "/* Sorting an array using The GNU C Library ：Sort (gccqsort.c) */\n",
    "\n",
    "#include <stdio.h>\n",
    "#include <stdlib.h> \n",
    "\n",
    "int compare_ints (const void * a, const void * b)  \n",
    "{  \n",
    "  return ( *(int*)a - *(int*)b );  \n",
    "}  \n",
    "\n",
    "int main() {\n",
    "   const int SIZE = 8;\n",
    "   int a[8] = {8, 4, 5, 3, 2, 9, 4, 1};\n",
    "   qsort(a, SIZE, sizeof(int),compare_ints);\n",
    "   \n",
    "   for(int i = 0; i <SIZE; i++) \n",
    "      printf(\"%d \", a[i]);\n",
    "   \n",
    "  return 0;\n",
    "}\n",
    "    "
   ]
  },
  {
   "cell_type": "code",
   "execution_count": null,
   "metadata": {
    "collapsed": true
   },
   "outputs": [],
   "source": [
    "!gcc -o ./code/ds/gccqsort.exe ./code/ds/gccqsort.c"
   ]
  },
  {
   "cell_type": "code",
   "execution_count": null,
   "metadata": {
    "collapsed": true
   },
   "outputs": [],
   "source": [
    "!.\\code\\ds\\gccqsort.exe"
   ]
  },
  {
   "cell_type": "markdown",
   "metadata": {},
   "source": [
    "### 10.2.3 Sorting in Python\n",
    "\n",
    "The sorting algorithm used in most Python implementations is called \n",
    "\n",
    "* <b>Timsort</b> ： https://en.wikipedia.org/wiki/Timsort\n",
    "\n",
    "The **key idea** is to take **advantage** of the fact that in a lot of data sets the data is <b>already partially sorted</b>. \n",
    "\n",
    "**Timsort**’s worst-case performance is the same as merge sort’s, but on average it performs considerably better."
   ]
  },
  {
   "cell_type": "markdown",
   "metadata": {},
   "source": [
    "The Python\n",
    "\n",
    "* 1  method **list.sort** takes a list as its first argument and **modifies** that list\n",
    "    \n",
    "    \n",
    "* 2 function **sorted** takes an iterable object (e.g., a list or a dictionary) as its first argument and returns a **new** sorted list.\n",
    "\n",
    "**sort(*, key=None, reverse=None)**\n",
    "\n",
    "* This method sorts the list **in place**, using only < comparisons between items. Exceptions are not suppressed - if any comparison operations fail, the entire sort operation will fail (and the list will likely be left in a partially modified state).\n",
    "\n",
    "\n",
    "* list.sort() accepts two arguments that can only be passed by keyword (keyword-only arguments):\n",
    "\n",
    "\n",
    "* **key** specifies a function of one argument that is used to extract a comparison key from each list element (for example, key=str.lower). The key corresponding to each item in the list is calculated once and then used for the entire sorting process. The default value of None means that list items are sorted directly without calculating a separate key value.\n",
    "\n",
    "\n",
    "* **reverse** is a boolean value. If set to True, then the list elements are sorted as if each comparison were reversed.\n",
    "\n",
    "\n",
    "**sorted(iterable[, key][, reverse])**\n",
    "\n",
    "* Return a **new** sorted list from the items in iterable.\n",
    "\n",
    "\n",
    "* Has two optional arguments which must be specified as keyword arguments.\n",
    "\n",
    "\n",
    "* **key** specifies a function of one argument that is used to extract a comparison key from each list element: key=str.lower. The default value is None (compare the elements directly).\n",
    "\n",
    "\n",
    "* **reverse** is a boolean value. If set to True, then the list elements are sorted as if each comparison were reversed."
   ]
  },
  {
   "cell_type": "code",
   "execution_count": null,
   "metadata": {
    "collapsed": true
   },
   "outputs": [],
   "source": [
    "# sorted list: new list\n",
    "L = [3,5,2]\n",
    "print('sorted L(a new list)=',sorted(L))\n",
    "print('L=',L)\n",
    "\n",
    "# sorted dict\n",
    "# dict:iterable\n",
    "D = {'a':12, 'c':5, 'b':'dog'}\n",
    "print('sorted D(a new list)=',sorted(D))\n",
    "\n",
    "# list.sort in place\n",
    "L.sort()\n",
    "print('L(modified L)=',L)\n",
    "\n",
    "\n",
    "# but :'dict' object has no attribute 'sort'\n",
    "D.sort()"
   ]
  },
  {
   "cell_type": "markdown",
   "metadata": {},
   "source": [
    "Both the **list.sort** method and the **sorted** function can have two additional parameters.\n",
    "\n",
    ">The <b>key</b> parameter plays the same role as compare in our implementation of merge sort: it is used to <b>supply the comparison function</b> to be\n",
    "used.\n",
    "\n",
    "\n",
    ">The <b>reverse</b> parameter specifies whether the list is to be sorted in <b>ascending or descending order</b>."
   ]
  },
  {
   "cell_type": "code",
   "execution_count": null,
   "metadata": {
    "collapsed": true
   },
   "outputs": [],
   "source": [
    "L = [[1,2,3], (3,2,1,0), 'abc']\n",
    "print(sorted(L, key = len, reverse = True))"
   ]
  },
  {
   "cell_type": "code",
   "execution_count": null,
   "metadata": {
    "collapsed": true
   },
   "outputs": [],
   "source": [
    "def getlastNameFirstName(name):\n",
    "    name = name.split(' ')\n",
    "    return name[1]\n",
    "\n",
    "def getfirstNameLastName(name):\n",
    "    name = name.split()\n",
    "    return name[0]"
   ]
  },
  {
   "cell_type": "code",
   "execution_count": null,
   "metadata": {
    "collapsed": true
   },
   "outputs": [],
   "source": [
    "L = ['Chris Terman', 'Tom Brady', 'Eric Grimson', 'Gisele Bundchen']\n",
    "newL = sorted(L, key=getlastNameFirstName)\n",
    "print('Sorted by last name =', newL)\n",
    "newL =sorted(L, key=getfirstNameLastName)\n",
    "print('Sorted by first name =', newL)"
   ]
  },
  {
   "cell_type": "markdown",
   "metadata": {},
   "source": [
    "#### stable sorts\n",
    "\n",
    "Both the **list.sort** method and the sorted function provide <b>stable sorts</b>. \n",
    "\n",
    ">This means that if **two elements are equal** with respect to the comparison used **in the sort** \n",
    "\n",
    ">their **relative ordering** in the original list (or other iterable object) is **preserved** in the final list."
   ]
  },
  {
   "cell_type": "markdown",
   "metadata": {},
   "source": [
    "## Further Reading\n",
    "\n",
    "###  8.6. bisect — Array bisection algorithm\n",
    "\n",
    "https://docs.python.org/3.5/library/bisect.html\n",
    "\n",
    "This module provides support for maintaining a list in sorted order without having to sort the list after each insertion.\n",
    "\n",
    "The module is called bisect because it uses a basic bisection algorithm to do its work."
   ]
  },
  {
   "cell_type": "markdown",
   "metadata": {
    "collapsed": true
   },
   "source": [
    "## Further Reading\n",
    "\n",
    "* 严蔚敏，李冬梅，吴伟民. 数据结构（C语言版），人民邮电出版社（第2版）,2015年2月  \n",
    "\n",
    "\n",
    "* Mark Allen Weiss. Data Structures and Algorithm Analysis in C\n",
    "\n",
    "\n",
    "* GNU C Library: Searching and Sorting : http://www.gnu.org/software/libc/manual/html_node/Searching-and-Sorting.html\n",
    "\n"
   ]
  },
  {
   "cell_type": "code",
   "execution_count": null,
   "metadata": {},
   "outputs": [],
   "source": []
  }
 ],
 "metadata": {
  "kernelspec": {
   "display_name": "Python 3",
   "language": "python",
   "name": "python3"
  },
  "language_info": {
   "codemirror_mode": {
    "name": "ipython",
    "version": 3
   },
   "file_extension": ".py",
   "mimetype": "text/x-python",
   "name": "python",
   "nbconvert_exporter": "python",
   "pygments_lexer": "ipython3",
   "version": "3.8.7"
  },
  "toc": {
   "base_numbering": 1,
   "nav_menu": {},
   "number_sections": false,
   "sideBar": true,
   "skip_h1_title": false,
   "title_cell": "Table of Contents",
   "title_sidebar": "Contents",
   "toc_cell": false,
   "toc_position": {},
   "toc_section_display": true,
   "toc_window_display": false
  },
  "widgets": {
   "state": {},
   "version": "1.1.2"
  }
 },
 "nbformat": 4,
 "nbformat_minor": 1
}
