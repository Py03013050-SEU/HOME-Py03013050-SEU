{
 "cells": [
  {
   "cell_type": "markdown",
   "metadata": {},
   "source": [
    "#  Sorting Algorithms\n",
    "\n"
   ]
  },
  {
   "cell_type": "markdown",
   "metadata": {},
   "source": [
    "Present sorting algorithms here primarily to provide some practice in thinking about \n",
    "\n",
    "**algorithm design and complexity analysis**\n",
    "\n",
    "* Selection sort \n",
    "\n",
    "* Merge Sort\n",
    "\n",
    "* Complexity: time,space\n",
    "\n",
    "* Stable\n",
    "\n",
    "* Sort in Python and C/C++"
   ]
  },
  {
   "cell_type": "markdown",
   "metadata": {},
   "source": [
    "## 1 Selection sort \n",
    "\n",
    "We begin with a simple but **inefficient** algorithm,\n",
    "\n",
    "* **selection sort**\n",
    "\n",
    "### 1.1 Selection sort \n",
    "\n",
    "#### 1.1.1 Selection sort \n",
    "The selection sort algorithm sorts an array by repeatedly finding the **minimum** element (considering ascending order) from **unsorted** part and putting it at the **beginning**. \n",
    "\n",
    "The algorithm maintains two **subarrays** in a given array.\n",
    "\n",
    "1. The subarray which is already `sorted`\n",
    "2. Remaining subarray which is `unsorted`\n",
    "\n",
    "In every iteration of selection sort, the `minimum` element (considering ascending order) from the unsorted subarray is picked and moved to the sorted subarray.\n",
    "\n",
    ">\n",
    ">首先在未排序序列中找到最小（大）元素，存放到排序序列的起始位置，\n",
    ">\n",
    "> 然后，再从剩余未排序元素中继续寻找最小（大）元素，然后放到已排序序列的末尾\n",
    ">\n",
    ">以此类推，直到所有元素均排序完毕。\n",
    ">\n",
    "Example:\n",
    "```c\n",
    "int a[7] = {7, 4, 5, 9, 8, 2, 1};\n",
    "```\n"
   ]
  },
  {
   "cell_type": "markdown",
   "metadata": {},
   "source": [
    "![selsort](./img/ds/selsort.jpg)"
   ]
  },
  {
   "cell_type": "markdown",
   "metadata": {},
   "source": [
    "#### 1.1.2 Selection Sort - Python "
   ]
  },
  {
   "cell_type": "code",
   "execution_count": 1,
   "metadata": {},
   "outputs": [],
   "source": [
    "def select_sort(L):\n",
    "    length=len(L)\n",
    "    # Traverse through all array elements\n",
    "    for i in range(length):\n",
    "        # for tracing\n",
    "        print(L[:i],L[i:],end=\"\")\n",
    "  \n",
    "       # [0, i-1] already sort\n",
    "       # Find the minimum element in remaining unsorted array [i, size-1] and swap with L[i]\n",
    "        min_idx = i  # assume fist element is the smallest\n",
    "        for j in range(i+1, length):\n",
    "            if L[j]<L[min_idx] :\n",
    "                min_idx = j\n",
    "        # Swap the found minimum element with  the first element  L[i]   \n",
    "        if min_idx!=i:\n",
    "            L[i], L[min_idx] = L[min_idx], L[i]   \n",
    "         \n",
    "        # for tracing\n",
    "        print(\" => \",L[:i],L[i:])\n",
    "   "
   ]
  },
  {
   "cell_type": "code",
   "execution_count": 2,
   "metadata": {},
   "outputs": [
    {
     "name": "stdout",
     "output_type": "stream",
     "text": [
      "[] [7, 4, 5, 9, 8, 2, 1] =>  [] [1, 4, 5, 9, 8, 2, 7]\n",
      "[1] [4, 5, 9, 8, 2, 7] =>  [1] [2, 5, 9, 8, 4, 7]\n",
      "[1, 2] [5, 9, 8, 4, 7] =>  [1, 2] [4, 9, 8, 5, 7]\n",
      "[1, 2, 4] [9, 8, 5, 7] =>  [1, 2, 4] [5, 8, 9, 7]\n",
      "[1, 2, 4, 5] [8, 9, 7] =>  [1, 2, 4, 5] [7, 9, 8]\n",
      "[1, 2, 4, 5, 7] [9, 8] =>  [1, 2, 4, 5, 7] [8, 9]\n",
      "[1, 2, 4, 5, 7, 8] [9] =>  [1, 2, 4, 5, 7, 8] [9]\n",
      "[1, 2, 4, 5, 7, 8, 9]\n"
     ]
    }
   ],
   "source": [
    "L=[7, 4, 5, 9, 8, 2, 1]\n",
    "select_sort(L)\n",
    "print(L)"
   ]
  },
  {
   "cell_type": "markdown",
   "metadata": {},
   "source": [
    "#### 1.1.3 The complexity\n",
    "\n",
    "* The time complexity:$O(n^2)$\n",
    "\n",
    "* The space complexity:$O(1)$\n",
    "\n",
    "##### 1.1.3.1 The time complexity\n",
    "\n",
    "There are **two nested** loops.\n",
    "\n",
    "```python\n",
    "  for i in range(length):\n",
    "    for j in range(i+1, length):  \n",
    "```        \n",
    "\n",
    "For a list of size $n$ (```for j in range(i+1, length):```), \n",
    "\n",
    "the total number of comparisons for a list of size $n$ (```for j in range(i+1,, length): ```)\n",
    "\n",
    "is the following:\n",
    "\n",
    "$(n-1)+(n-2)+...+1=n(n-1)=\\frac{1}{2}n^2-\\frac{1}{2}n$\n",
    "\n",
    "The complexity of the entire function is $O(n^2)$. \n",
    "\n",
    "#####  1.1.3.2 The space complexity\n",
    "\n",
    "Selection sort is an **in-place(原址)** sorting algorithm.\n",
    "\n",
    "Because it works by **swapping** the place of elements **within** the list, \n",
    "\n",
    "it uses only **a constant amount of extra storage**: `one` **min_idx** element in our implementation. \n",
    "\n",
    "The space complexity: $O(1)$"
   ]
  },
  {
   "cell_type": "markdown",
   "metadata": {},
   "source": [
    "### 1.2  SelectionSort in C"
   ]
  },
  {
   "cell_type": "code",
   "execution_count": 1,
   "metadata": {},
   "outputs": [
    {
     "name": "stdout",
     "output_type": "stream",
     "text": [
      "Overwriting ./demo/src/SelectionSort.c\n"
     ]
    }
   ],
   "source": [
    "%%file ./demo/src/SelectionSort.c\n",
    "\n",
    "/*\n",
    " Sorting an array using Selection Sort (SelectionSort.c) \n",
    "*/\n",
    "\n",
    "#include <stdio.h>\n",
    "#include <stdlib.h>\n",
    "\n",
    "void selectionSort(int a[], int size);\n",
    "void print(const int a[], int iMin, int iMax);\n",
    "\n",
    "// Sort the given array of size using selection sort\n",
    "void selectionSort(int a[], int size)\n",
    "{\n",
    "   int temp; // for swaping\n",
    "   for (int i = 0; i < size - 1; ++i)\n",
    "   {\n",
    "      // for tracing\n",
    "      print(a, 0, i - 1);\n",
    "      print(a, i, size - 1);\n",
    "\n",
    "      // [0, i-1] already sort\n",
    "      // Search for the smallest element in  remaining unsorted array [i, size-1] and swap with a[i]\n",
    "      int min_idx = i; // assume fist element is the smallest\n",
    "      for (int j = i + 1; j < size; ++j)\n",
    "      {\n",
    "         if (a[j] < a[min_idx])\n",
    "            min_idx = j;\n",
    "      }\n",
    "      // # Swap the found minimum element with  the first element  a[minIndex]   \n",
    "      if (min_idx != i)\n",
    "      { \n",
    "         temp = a[i];\n",
    "         a[i] = a[min_idx];\n",
    "         a[min_idx] = temp;\n",
    "      }\n",
    "\n",
    "      // for tracing\n",
    "      printf(\"=> \");\n",
    "      print(a, 0, i - 1);\n",
    "      print(a, i, size - 1);\n",
    "      printf(\"\\n\");\n",
    "   }\n",
    "}\n",
    "\n",
    "// Print the contents of the array in [iMin, iMax]\n",
    "void print(const int a[], int iMin, int iMax)\n",
    "{\n",
    "   printf(\"{\");\n",
    "   for (int i = iMin; i <= iMax; ++i)\n",
    "   {\n",
    "      printf(\"%d\", a[i]);\n",
    "      if (i < iMax)\n",
    "         printf(\",\");\n",
    "   }\n",
    "   printf(\"}\");\n",
    "}\n",
    "\n",
    "int main()\n",
    "{\n",
    "   const int SIZE = 7;\n",
    "   int a[7] = {7, 4, 5, 9, 8, 2, 1};\n",
    "   print(a, 0, SIZE - 1);\n",
    "   printf(\"\\n\");\n",
    "   selectionSort(a, SIZE);\n",
    "   print(a, 0, SIZE - 1);\n",
    "   printf(\"\\n\");\n",
    "\n",
    "   return 0;\n",
    "}\n"
   ]
  },
  {
   "cell_type": "code",
   "execution_count": 4,
   "metadata": {},
   "outputs": [],
   "source": [
    "!gcc -o ./demo/bin/SelectionSort ./demo/src/SelectionSort.c"
   ]
  },
  {
   "cell_type": "code",
   "execution_count": 5,
   "metadata": {},
   "outputs": [
    {
     "name": "stdout",
     "output_type": "stream",
     "text": [
      "{7,4,5,9,8,2,1}\n",
      "{}{7,4,5,9,8,2,1}=> {}{1,4,5,9,8,2,7}\n",
      "{1}{4,5,9,8,2,7}=> {1}{2,5,9,8,4,7}\n",
      "{1,2}{5,9,8,4,7}=> {1,2}{4,9,8,5,7}\n",
      "{1,2,4}{9,8,5,7}=> {1,2,4}{5,8,9,7}\n",
      "{1,2,4,5}{8,9,7}=> {1,2,4,5}{7,9,8}\n",
      "{1,2,4,5,7}{9,8}=> {1,2,4,5,7}{8,9}\n",
      "{1,2,4,5,7,8,9}\n"
     ]
    }
   ],
   "source": [
    "!.\\demo\\bin\\SelectionSort"
   ]
  },
  {
   "cell_type": "markdown",
   "metadata": {},
   "source": [
    "### 1.3  Stable Sort(稳定排序)\n",
    "\n",
    "#### 1.3.1 Stable Sort\n",
    "A sorting algorithm is stable if it preserves the **original** order of elements with equal key values (where the key is the value the algorithm sorts by.\n",
    "\n",
    "\n",
    "\n",
    "![stable](./img/ds/stablesort.png)\n",
    "\n"
   ]
  },
  {
   "cell_type": "markdown",
   "metadata": {},
   "source": [
    "#### 1.3.2  Unstable selection sort\n",
    "\n",
    "Selection sort works by finding the minimum element and then inserting it in its correct position by \n",
    "\n",
    "**swapping** with the element which is in the **position** of this minimum element.\n",
    "\n",
    "This is what makes them **out of desired original order(unstable)**\n",
    "\n",
    "![stable](./img/ds/unstable-selectionsort.jpg)"
   ]
  },
  {
   "cell_type": "code",
   "execution_count": null,
   "metadata": {},
   "outputs": [],
   "source": [
    "L = [4, 5, 3, 2, 4, 1]\n",
    "select_sort(L)\n",
    "print(L)"
   ]
  },
  {
   "cell_type": "markdown",
   "metadata": {},
   "source": [
    "![](img/ds/selsort_unstable.jpg)\n",
    "\n",
    "In the above example **4r** was pushed after **4g** and after complete sorting. Hence resulting in unstability.\n"
   ]
  },
  {
   "cell_type": "markdown",
   "metadata": {},
   "source": [
    "## 2 Merge Sort\n",
    "\n",
    "We can do a lot better than quadratic time$O(n^2)$ using a **divide-and-conquer(分治）** algorithm. \n",
    "\n",
    "<font color='blue'>**Divide and conquer(分治)**</font> is a technique used for \n",
    "\n",
    "* <font color='blue'>divide</font>: breaking algorithms down into **subproblems**,\n",
    "\n",
    "* <font color='blue'>conquer</font>: **solving** the subproblems\n",
    "\n",
    "* <font color='blue'>combine</font>: **combining** the results back together to solve the original problem. \n",
    "\n",
    "It can be helpful to think of this method as `divide, conquer, and combine.`\n",
    "\n",
    "It was invented in 1945, by John Von Neumann(约翰·冯·诺依曼), and is still widely used.\n",
    "\n",
    "**Merge sort** is a prototypical <b>divide-and-conquer algorithm</b>. \n",
    "\n",
    "\n"
   ]
  },
  {
   "cell_type": "markdown",
   "metadata": {},
   "source": [
    "### 2.1 merge"
   ]
  },
  {
   "cell_type": "markdown",
   "metadata": {},
   "source": [
    "The key observation made by `Von Neumann` is that \n",
    "\n",
    "* **two sorted lists** can be efficiently **merged** into a single sorted list.\n",
    "\n",
    "<font color='blue'>**The merge idea**</font> is: \n",
    "\n",
    "* Look at the **first** element of <font color='blue'>each</font> list, and move the **smaller of the two** to the **end** of the <font color='blue'>result</font> list.\n",
    "\n",
    "* When one of the lists is **empty**,copy the **remaining** items from the other list to the <font color='blue'>result</font> list.\n",
    "\n",
    "This will be the sorted list.\n",
    "\n",
    "Consider, for example, merging the two sorted lists\n",
    "```\n",
    " [2, 6] \n",
    " [3, 9]\n",
    "```\n",
    "**merging**\n",
    "\n",
    "```python\n",
    "list1   list2       result list\n",
    "[2, 6]  [3, 9]       []\n",
    "\n",
    "[6]    [3, 9]    =>  [2]       # 2<3\n",
    "[6]    [9]      =>  [2, 3]     # 3<6\n",
    " []    [9]      =>  [2, 3, 6]   # 6<9\n",
    "\n",
    " []    []       =>  [2, 3, 6, 9] # list1 is empty,copy the remaining items in list2:[9] to result list\n",
    "```"
   ]
  },
  {
   "cell_type": "code",
   "execution_count": 6,
   "metadata": {},
   "outputs": [],
   "source": [
    "def merge(left, right, compare = lambda x,y:x<y):\n",
    "    \"\"\"Assumes \n",
    "         left and right are sorted lists\n",
    "         compare defines an ordering on the elements.\n",
    "       Returns a new sorted (by compare) list containing the\n",
    "         same elements as (left + right) would contain.\"\"\"\n",
    "    \n",
    "    result = []  # the copy of the list.\n",
    "    i,j = 0, 0\n",
    "    #  1 comparing the values of elements\n",
    "    #   Look at the first element of each list, and move the smaller/bigger of the two to the end of the result list.\n",
    "    while i < len(left) and j < len(right):\n",
    "        if compare(left[i], right[j]):\n",
    "            result.append(left[i])\n",
    "            i += 1\n",
    "        else:\n",
    "            result.append(right[j])\n",
    "            j += 1\n",
    "        # for tracing result list\n",
    "        print(left[i:],right[j:],\" => \",result)\n",
    "     \n",
    "    # 2 copying elements from one list to another. \n",
    "    # When one of the lists is empty, all that remains is to copy the remaining items from the other list.\n",
    "    while (i < len(left)):\n",
    "        result.append(left[i])\n",
    "        i += 1\n",
    "    while (j < len(right)):\n",
    "        result.append(right[j])\n",
    "        j += 1\n",
    "        \n",
    "    # the result\n",
    "    print(\"merge \", left,right,\" => \",result)\n",
    "     \n",
    "    return result"
   ]
  },
  {
   "cell_type": "code",
   "execution_count": 7,
   "metadata": {
    "scrolled": true
   },
   "outputs": [
    {
     "name": "stdout",
     "output_type": "stream",
     "text": [
      "[4, 5, 7, 8] [1, 2, 3, 6]\n",
      "[4, 5, 7, 8] [2, 3, 6]  =>  [1]\n",
      "[4, 5, 7, 8] [3, 6]  =>  [1, 2]\n",
      "[4, 5, 7, 8] [6]  =>  [1, 2, 3]\n",
      "[5, 7, 8] [6]  =>  [1, 2, 3, 4]\n",
      "[7, 8] [6]  =>  [1, 2, 3, 4, 5]\n",
      "[7, 8] []  =>  [1, 2, 3, 4, 5, 6]\n",
      "merge  [4, 5, 7, 8] [1, 2, 3, 6]  =>  [1, 2, 3, 4, 5, 6, 7, 8]\n",
      "[1, 2, 3, 4, 5, 6, 7, 8]\n"
     ]
    }
   ],
   "source": [
    "left=[4,5,7,8]\n",
    "right=[1,2,3,6]\n",
    "print(left,right)\n",
    "mergedlist=merge(left, right)\n",
    "print(mergedlist)"
   ]
  },
  {
   "cell_type": "markdown",
   "metadata": {},
   "source": [
    "**The time complexity of the `merge` process**\n",
    "\n",
    "It involves two constant-time operations： \n",
    "\n",
    "* 1 **comparing** the values of elements \n",
    "\n",
    "* 2 **copying** elements from one list to another. \n",
    "\n",
    "The number of **comparisons** is **O(len(L))**, where L is the **longer** of the two lists.\n",
    "```python\n",
    "  while i < len(left) and j < len(right):\n",
    "```  \n",
    "\n",
    "The number of **copy** operations is **O(len(L1) + len(L2))**, because each element gets copied exactly once. \n",
    "```python\n",
    "while (i < len(left)):\n",
    "\n",
    "while (j < len(right)):\n",
    "\n",
    "``` \n",
    "\n",
    "Therefore, `merging` two sorted lists is **linear** in **the length of the lists**:$O(len(L))$\n",
    "\n"
   ]
  },
  {
   "cell_type": "markdown",
   "metadata": {},
   "source": [
    "### 2.2 merge sort \n",
    "\n",
    "Like many divide-and-conquer algorithms it is most easily described **recursively**: \n",
    "\n",
    "1. If the list is of length **0 or 1**, it is already **sorted**.\n",
    "\n",
    "2. If the list has **more than one** element, \n",
    "   \n",
    "   * **split** the list into two lists, and use merge sort to sort each of them.\n",
    "\n",
    "\n",
    "3. Merge the results\n",
    "\n",
    "It divides the input array into two halves, calls itself for the two halves, and then merges the two sorted halves.\n",
    "\n",
    ">归并排序算法是采用分治法（Divide and Conquer）的典型应用\n",
    ">\n",
    ">归并排序的思想是：先分割归一，再集成归并\n",
    ">\n",
    ">* 分割归一: 递归地把数组平均分割成两半，归一成有序数组\n",
    ">\n",
    ">* 集成归并: 将有序子数组归并为一个\n",
    ">\n",
    "\n",
    "![merge_sort](./img/ds/merge_sort.jpg)\n"
   ]
  },
  {
   "cell_type": "code",
   "execution_count": 8,
   "metadata": {},
   "outputs": [],
   "source": [
    "def merge_sort(L, compare = lambda x,y:x<y):\n",
    "    \"\"\"Assumes\n",
    "           L is a list, compare defines an ordering on elements of L\n",
    "       Returns\n",
    "          a new sorted list containing the same elements as L\"\"\"\n",
    "    print(\"inlet\",L)\n",
    "    # stop partition\n",
    "    #   If the list is of length 0 or 1, it is already sorted\n",
    "    if len(L) < 2:\n",
    "        print(\"stop partition\",L)\n",
    "        return L[:] \n",
    "    else:\n",
    "        # 1 Find the middle point to divide the array into two halves:\n",
    "        middle = len(L)//2\n",
    "        # 2 Call mergeSort for left half:   \n",
    "        left = merge_sort(L[:middle], compare)\n",
    "        # 3 Call mergeSort for right half:   \n",
    "        right = merge_sort(L[middle:], compare)\n",
    "        \n",
    "        # 4. after stop partition\n",
    "        #     Merge the two halves sorted in step 2 and 3:\n",
    "        return merge(left, right, compare)"
   ]
  },
  {
   "cell_type": "code",
   "execution_count": 9,
   "metadata": {},
   "outputs": [
    {
     "name": "stdout",
     "output_type": "stream",
     "text": [
      "inlet [6, 2, 9, 3]\n",
      "inlet [6, 2]\n",
      "inlet [6]\n",
      "stop partition [6]\n",
      "inlet [2]\n",
      "stop partition [2]\n",
      "[6] []  =>  [2]\n",
      "merge  [6] [2]  =>  [2, 6]\n",
      "inlet [9, 3]\n",
      "inlet [9]\n",
      "stop partition [9]\n",
      "inlet [3]\n",
      "stop partition [3]\n",
      "[9] []  =>  [3]\n",
      "merge  [9] [3]  =>  [3, 9]\n",
      "[6] [3, 9]  =>  [2]\n",
      "[6] [9]  =>  [2, 3]\n",
      "[] [9]  =>  [2, 3, 6]\n",
      "merge  [2, 6] [3, 9]  =>  [2, 3, 6, 9]\n",
      "[2, 3, 6, 9]\n"
     ]
    }
   ],
   "source": [
    "L=[6,2,9,3]\n",
    "L1=merge_sort(L)\n",
    "print(L1)"
   ]
  },
  {
   "cell_type": "markdown",
   "metadata": {},
   "source": [
    "the `lambda` expression to supply a compare value."
   ]
  },
  {
   "cell_type": "code",
   "execution_count": 10,
   "metadata": {},
   "outputs": [
    {
     "name": "stdout",
     "output_type": "stream",
     "text": [
      "inlet [6, 2, 9, 3]\n",
      "inlet [6, 2]\n",
      "inlet [6]\n",
      "stop partition [6]\n",
      "inlet [2]\n",
      "stop partition [2]\n",
      "[] [2]  =>  [6]\n",
      "merge  [6] [2]  =>  [6, 2]\n",
      "inlet [9, 3]\n",
      "inlet [9]\n",
      "stop partition [9]\n",
      "inlet [3]\n",
      "stop partition [3]\n",
      "[] [3]  =>  [9]\n",
      "merge  [9] [3]  =>  [9, 3]\n",
      "[6, 2] [3]  =>  [9]\n",
      "[2] [3]  =>  [9, 6]\n",
      "[2] []  =>  [9, 6, 3]\n",
      "merge  [6, 2] [9, 3]  =>  [9, 6, 3, 2]\n",
      "[9, 6, 3, 2]\n"
     ]
    }
   ],
   "source": [
    "L2=merge_sort(L,lambda x,y:x>y)\n",
    "print(L2)"
   ]
  },
  {
   "cell_type": "code",
   "execution_count": 11,
   "metadata": {},
   "outputs": [
    {
     "name": "stdout",
     "output_type": "stream",
     "text": [
      "inlet [7, 4, 5, 9, 8, 2, 1]\n",
      "inlet [7, 4, 5]\n",
      "inlet [7]\n",
      "stop partition [7]\n",
      "inlet [4, 5]\n",
      "inlet [4]\n",
      "stop partition [4]\n",
      "inlet [5]\n",
      "stop partition [5]\n",
      "[] [5]  =>  [4]\n",
      "merge  [4] [5]  =>  [4, 5]\n",
      "[7] [5]  =>  [4]\n",
      "[7] []  =>  [4, 5]\n",
      "merge  [7] [4, 5]  =>  [4, 5, 7]\n",
      "inlet [9, 8, 2, 1]\n",
      "inlet [9, 8]\n",
      "inlet [9]\n",
      "stop partition [9]\n",
      "inlet [8]\n",
      "stop partition [8]\n",
      "[9] []  =>  [8]\n",
      "merge  [9] [8]  =>  [8, 9]\n",
      "inlet [2, 1]\n",
      "inlet [2]\n",
      "stop partition [2]\n",
      "inlet [1]\n",
      "stop partition [1]\n",
      "[2] []  =>  [1]\n",
      "merge  [2] [1]  =>  [1, 2]\n",
      "[8, 9] [2]  =>  [1]\n",
      "[8, 9] []  =>  [1, 2]\n",
      "merge  [8, 9] [1, 2]  =>  [1, 2, 8, 9]\n",
      "[4, 5, 7] [2, 8, 9]  =>  [1]\n",
      "[4, 5, 7] [8, 9]  =>  [1, 2]\n",
      "[5, 7] [8, 9]  =>  [1, 2, 4]\n",
      "[7] [8, 9]  =>  [1, 2, 4, 5]\n",
      "[] [8, 9]  =>  [1, 2, 4, 5, 7]\n",
      "merge  [4, 5, 7] [1, 2, 8, 9]  =>  [1, 2, 4, 5, 7, 8, 9]\n",
      "[1, 2, 4, 5, 7, 8, 9]\n"
     ]
    }
   ],
   "source": [
    "L=[7, 4, 5, 9, 8, 2, 1]\n",
    "L1=merge_sort(L)\n",
    "print(L1)"
   ]
  },
  {
   "cell_type": "markdown",
   "metadata": {},
   "source": [
    "### 2.3 Complexity of merge sort \n",
    "\n",
    "* Time complexity: $O(n*log(n))$\n",
    "\n",
    "* Space complexity: $O(n)$\n",
    "\n",
    "where $n$ is $len(L)$\n",
    "\n",
    "#### 2.3.1 Time complexity\n",
    "\n",
    "merge sort\n",
    "\n",
    "* `merge` process:  the time complexity of `merge` process is $O(n)$\n",
    "\n",
    "* `recursion` process: \n",
    "\n",
    "   At each level of `recursion` the total number of elements to be merged is $n$. \n",
    "\n",
    "Therefore, the time complexity of merge_sort is $O(n)$ `multiplied` by the number of **levels** of `recursion`. \n",
    "\n",
    "$(levels)*O(n)$\n",
    "\n",
    "Since merge_sort divides the list <b>in half</b> each time, we know that\n",
    "\n",
    "* the number of **levels** of recursion is $O(log(n))$. \n",
    "  \n",
    "Therefore, the time complexity of mergeSort is $O(n*log(n))$, where n is len(L).\n",
    "                                                                                   \n",
    "#### 2.3.2 Space complexity\n",
    "\n",
    "<b>Merge sort</b> algorithm  involves making <b>copies of the list</b>. This means that its space complexity is $O(n))$.       \n",
    "\n",
    "```python                                                                            \n",
    "def merge(left, right, compare = lambda x,y:x<y):\n",
    "   result = []  # the copy of the list.\n",
    "```\n",
    "\n",
    "This improvement in time complexity comes with a price:Space complexity: $O(n)$\n",
    "\n"
   ]
  },
  {
   "cell_type": "markdown",
   "metadata": {},
   "source": [
    "### 2.4 stable sort\n",
    "\n",
    "Merge Sort maintain **stability** by ensuring that:\n",
    "\n",
    "Element `A[j]` comes before `A[i]` if and only if **A[j] < A[i]** and **i < j**. here i, j are indices \n",
    "\n",
    "Since `i<j`, the relative order is preserved if `A[i]=A[j]` i.e. `A[i]` comes before `A[j]`.\n",
    "\n"
   ]
  },
  {
   "cell_type": "markdown",
   "metadata": {},
   "source": [
    "### 2.5 MergeSort in C"
   ]
  },
  {
   "cell_type": "code",
   "execution_count": 12,
   "metadata": {},
   "outputs": [
    {
     "name": "stdout",
     "output_type": "stream",
     "text": [
      "Writing ./demo/src/MergeSort.c\n"
     ]
    }
   ],
   "source": [
    "%%file ./demo/src/MergeSort.c\n",
    "\n",
    "/* Sorting an array using Merge Sort (MergeSort.c) */\n",
    "#include <stdio.h>\n",
    "#include <stdlib.h>\n",
    "\n",
    "void print(const int a[], int iLeft, int iRight);\n",
    "\n",
    "void merge(int a[], int iLeft, int iRight, int work[]);\n",
    "void merge_sort_range(int a[], int iLeft, int iRight, int work[]);\n",
    "\n",
    "void merge_sort(int a[], int size);\n",
    "\n",
    "// Merge two halves in  [iLeft,middle], [middle+1, iRight]\n",
    "void merge(int a[], int iLeft, int iRight, int work[])\n",
    "{\n",
    "   int size = iRight - iLeft + 1;\n",
    "   int middle=(iRight+iLeft)/2;\n",
    " \n",
    "   // 1 comparing the values of elements\n",
    "    //  Look at the first element of each list, and move the smaller of the two to the end of the result list.\n",
    "    int iL = iLeft;\n",
    "    int iR = middle+1;\n",
    "    int iResult = 0;\n",
    "    while (iL <= middle && iR <= iRight)\n",
    "    {\n",
    "         if (a[iL] <= a[iR])\n",
    "         {\n",
    "             work[iResult++] = a[iL++];\n",
    "          }\n",
    "          else\n",
    "          {\n",
    "             work[iResult++] = a[iR++];\n",
    "          }\n",
    "   }\n",
    "  \n",
    "  // 2 Copy the remaining left or right into work\n",
    "   while (iL <= middle)\n",
    "         work[iResult++] = a[iL++];\n",
    "   while (iR <= iRight)\n",
    "         work[iResult++] = a[iR++];\n",
    " \n",
    "   // for tracing\n",
    "   print(a, iLeft, middle);\n",
    "   print(a, middle+1, iRight);\n",
    "   printf(\"=> \");\n",
    "   print(work, 0, size - 1);\n",
    "   printf(\"\\n\");\n",
    " \n",
    "   // 3 Copy the work back to the original array\n",
    "   for (iResult = 0, iL = iLeft; iResult < size; ++iResult, ++iL)\n",
    "   {\n",
    "      a[iL] = work[iResult];\n",
    "   }\n",
    "}\n",
    "\n",
    "// Sort the given array in [iLeft, iRight]\n",
    "void merge_sort_range(int a[], int iLeft, int iRight, int work[])\n",
    "{\n",
    "   if ((iRight - iLeft) >= 1) { \n",
    "      // more than 1 elements, divide and sort\n",
    "      // Divide into left and right half\n",
    "      int middle = (iRight + iLeft) / 2;   // truncate\n",
    "     \n",
    "      // Recursively sort each half\n",
    "      merge_sort_range(a, iLeft, middle, work);\n",
    "      merge_sort_range(a, middle+1, iRight, work);\n",
    " \n",
    "      // Merge two halves\n",
    "      merge(a, iLeft, iRight, work);\n",
    "   }\n",
    "}\n",
    " \n",
    "// Sort the given array of size\n",
    "void merge_sort(int a[], int size)\n",
    "{\n",
    "   int *work;\n",
    "   work = (int *)malloc(sizeof(int) * size);\n",
    "   merge_sort_range(a, 0, size - 1, work);\n",
    "   free(work); \n",
    "}\n",
    " \n",
    "// Print the contents of the given array from iLeft to iRight (inclusive)\n",
    "void print(const int a[], int iLeft, int iRight)\n",
    "{\n",
    "   printf(\"{\");\n",
    "   for (int i = iLeft; i <= iRight; ++i) {\n",
    "      printf(\"%d\", a[i]);\n",
    "      if (i < iRight) printf(\",\");\n",
    "   }\n",
    "   printf(\"} \");\n",
    "}\n",
    "\n",
    " \n",
    "int main() {\n",
    "   const int SIZE = 4;\n",
    "   int a[4] = {6, 2, 9,3};\n",
    " \n",
    "   print(a, 0, SIZE - 1);\n",
    "   printf(\"\\n\");\n",
    "   merge_sort(a, SIZE);\n",
    "   print(a, 0, SIZE - 1);\n",
    "   printf(\"\\n\");\n",
    "   return 0;\n",
    "}"
   ]
  },
  {
   "cell_type": "code",
   "execution_count": 13,
   "metadata": {},
   "outputs": [],
   "source": [
    "!gcc -o ./demo/bin/MergeSort ./demo/src/MergeSort.c"
   ]
  },
  {
   "cell_type": "code",
   "execution_count": 14,
   "metadata": {},
   "outputs": [
    {
     "name": "stdout",
     "output_type": "stream",
     "text": [
      "{6,2,9,3} \n",
      "{6} {2} => {2,6} \n",
      "{9} {3} => {3,9} \n",
      "{2,6} {3,9} => {2,3,6,9} \n",
      "{2,3,6,9} \n"
     ]
    }
   ],
   "source": [
    "!.\\demo\\bin\\MergeSort"
   ]
  },
  {
   "cell_type": "markdown",
   "metadata": {},
   "source": [
    "## 3 Sorting in Python\n",
    "\n",
    "### 3.1  The sorting algorithm in Python\n",
    "\n",
    "The sorting algorithm used in most Python implementations is called \n",
    "\n",
    "* <b>Timsort</b> ： https://en.wikipedia.org/wiki/Timsort\n",
    "\n",
    "The **key idea** is to take **advantage** of the fact that in a lot of data sets the data is <b>already partially sorted</b>. \n",
    "\n",
    "**Timsort**’s worst-case performance is the same as **merge** sort’s, but on average it performs considerably **better.**\n",
    "\n",
    "The standard implementation of sorting in most Python implementations runs in roughly $O(n*log(n))$ time, where $n$ is the length of the list.\n",
    "\n",
    "### 3.2  The sorting API in Python\n",
    "\n",
    "In most cases, the right thing to do is to use with Python\n",
    "\n",
    "\n",
    "* 1 **list.sort** : takes a `list` as its first argument and **modifies** that list,sorts the list (ascending sort),\n",
    "    \n",
    "    \n",
    "* 2 **sorted** : takes an **iterable** object (e.g., a list or a dictionary) as its first argument and returns a **new** sorted list\n",
    "\n",
    "\n",
    "**list.sort: return the modifies list** \n"
   ]
  },
  {
   "cell_type": "code",
   "execution_count": 15,
   "metadata": {},
   "outputs": [
    {
     "name": "stdout",
     "output_type": "stream",
     "text": [
      "the sorted list [2, 3, 5]\n"
     ]
    }
   ],
   "source": [
    "L = [3,5,2]\n",
    "L.sort()\n",
    "print('the sorted list',L)"
   ]
  },
  {
   "cell_type": "markdown",
   "metadata": {},
   "source": [
    "**sorted(): return a new sorted list**"
   ]
  },
  {
   "cell_type": "code",
   "execution_count": 16,
   "metadata": {},
   "outputs": [
    {
     "name": "stdout",
     "output_type": "stream",
     "text": [
      "the new sorted list  [2, 3, 5]\n",
      "[3, 5, 2]\n"
     ]
    }
   ],
   "source": [
    "L = [3,5,2]\n",
    "L1=sorted(L)\n",
    "print('the new sorted list ',L1)\n",
    "print(L)"
   ]
  },
  {
   "cell_type": "markdown",
   "metadata": {},
   "source": [
    "**sorted iterable: tuple,dict**\n",
    "\n",
    "When the sorted function is applied to a **tuple**,\n",
    "\n",
    "it returns a sorted `list` of the items of the tuple."
   ]
  },
  {
   "cell_type": "code",
   "execution_count": 17,
   "metadata": {},
   "outputs": [
    {
     "data": {
      "text/plain": [
       "[9, 12, 13]"
      ]
     },
     "execution_count": 17,
     "metadata": {},
     "output_type": "execute_result"
    }
   ],
   "source": [
    "T=(12,9,13)\n",
    "T1=sorted(T)\n",
    "T1"
   ]
  },
  {
   "cell_type": "markdown",
   "metadata": {},
   "source": [
    "When the sorted function is applied to a **dictionary**, \n",
    "\n",
    "* it returns a sorted `list` of the **keys** of the dictionary. \n"
   ]
  },
  {
   "cell_type": "code",
   "execution_count": 18,
   "metadata": {},
   "outputs": [
    {
     "data": {
      "text/plain": [
       "['a', 'b', 'c']"
      ]
     },
     "execution_count": 18,
     "metadata": {},
     "output_type": "execute_result"
    }
   ],
   "source": [
    "D = {'a':12, 'c':5, 'b':'dog'}\n",
    "D1=sorted(D)\n",
    "D1"
   ]
  },
  {
   "cell_type": "markdown",
   "metadata": {},
   "source": [
    "\n",
    "Both the **list.sort** method and the **sorted** function can have two additional parameters.\n",
    "\n",
    "* <b>key</b> parameter plays the same role as compare in our implementation of merge sort: it is used to <b>supply the comparison function</b> to be\n",
    "used.\n",
    "\n",
    "\n",
    "* <b>reverse</b> parameter specifies whether the list is to be sorted in <b>ascending or descending order</b>.\n",
    "\n",
    "For example:\n",
    "\n",
    "* sort  the elements of L in `reverse` order of `length` "
   ]
  },
  {
   "cell_type": "code",
   "execution_count": 19,
   "metadata": {},
   "outputs": [
    {
     "name": "stdout",
     "output_type": "stream",
     "text": [
      "['asabc', (3, 2, 1, 0), [1, 2, 3], 'abc']\n"
     ]
    }
   ],
   "source": [
    "L = [[1,2,3], (3,2,1,0), 'abc','asabc']\n",
    "print(sorted(L, key = len, reverse = True))"
   ]
  },
  {
   "cell_type": "markdown",
   "metadata": {},
   "source": [
    "Both the **list.sort** method and the **sorted** function provide <b>stable sorts</b>. \n",
    "\n"
   ]
  },
  {
   "cell_type": "markdown",
   "metadata": {},
   "source": []
  },
  {
   "cell_type": "markdown",
   "metadata": {},
   "source": [
    "## 4 sort in C/C++ Standard library\n",
    "\n",
    "* qsort() in C\n",
    "\n",
    "*  std::sort() in C++ STL"
   ]
  },
  {
   "cell_type": "markdown",
   "metadata": {},
   "source": [
    "### 4.1 qsort() in C\n",
    "\n",
    "Standard C library provides qsort function that can be used for sorting an array.\n",
    "\n",
    "Following is the prototype of qsort() function.\n",
    "```c\n",
    "// Sort an array of any type.\n",
    "// The parameters are, base address of array, size of array and pointer to comparator function\n",
    "void qsort (void* base, size_t num, size_t size, \n",
    "            int (*comparator)(const void*, const void*));\n",
    "```"
   ]
  },
  {
   "cell_type": "code",
   "execution_count": 24,
   "metadata": {},
   "outputs": [
    {
     "name": "stdout",
     "output_type": "stream",
     "text": [
      "Writing ./demo/src/demo_qsort.c\n"
     ]
    }
   ],
   "source": [
    "%%file ./demo/src/demo_qsort.c\n",
    "\n",
    "#include <stdio.h>\n",
    "#include <stdlib.h>\n",
    "  \n",
    "// A comparator function used by qsort\n",
    "int compare(const void * a, const void * b)\n",
    "{\n",
    "    return ( *(int*)a - *(int*)b );\n",
    "}\n",
    "\n",
    "void printArr(int arr[], int n)\n",
    "{\n",
    "    int i;\n",
    "    for (i = 0; i < n; ++i)\n",
    "        printf(\"%d \", arr[i]);\n",
    "}\n",
    " \n",
    "// Driver program to test above function\n",
    "int main()\n",
    "{\n",
    "    int arr[] = {1, 6, 5, 2, 3, 9, 4, 7, 8};\n",
    "  \n",
    "    int size = sizeof(arr) / sizeof(arr[0]);\n",
    "    qsort((void*)arr, size, sizeof(arr[0]), compare);\n",
    "  \n",
    "    printf(\"Output array is\\n\");\n",
    "    printArr(arr, size);\n",
    "  \n",
    "    return 0;\n",
    "}"
   ]
  },
  {
   "cell_type": "code",
   "execution_count": 25,
   "metadata": {},
   "outputs": [],
   "source": [
    "!gcc -O3 -o ./demo/bin/demo_qsort ./demo/src/demo_qsort.c"
   ]
  },
  {
   "cell_type": "code",
   "execution_count": 26,
   "metadata": {},
   "outputs": [
    {
     "name": "stdout",
     "output_type": "stream",
     "text": [
      "Output array is\n",
      "1 2 3 4 5 6 7 8 9 \n"
     ]
    }
   ],
   "source": [
    "!.\\demo\\bin\\demo_qsort"
   ]
  },
  {
   "cell_type": "markdown",
   "metadata": {},
   "source": [
    "### 4.2 std::sort() in C++ STL"
   ]
  },
  {
   "cell_type": "markdown",
   "metadata": {},
   "source": [
    "C++ STL provides a function `sort` that sorts a vector or array. \n",
    "\n",
    "It generally takes two parameters , \n",
    "* the `first` one being the point of the array/vector from where the sorting needs to `begin` and \n",
    "\n",
    "* the `second` parameter being the `length` up to which we want the array/vector to get sorted.\n",
    "\n",
    "* The `third` parameter is `optional` comparison operator \n",
    "\n",
    "By default, `sort()` function sorts the element in `ascending` order.\n"
   ]
  },
  {
   "cell_type": "code",
   "execution_count": 27,
   "metadata": {},
   "outputs": [
    {
     "name": "stdout",
     "output_type": "stream",
     "text": [
      "Writing ./demo/src/demo_std_sort.cpp\n"
     ]
    }
   ],
   "source": [
    "%%file ./demo/src/demo_std_sort.cpp\n",
    "\n",
    "#include <iostream>     // std::cout\n",
    "#include <algorithm>    // std::sort\n",
    "\n",
    "using namespace std;\n",
    "\n",
    "bool myfunction (int i,int j) { return (i>j); }\n",
    "\n",
    "int main () {\n",
    "  int a[8] = {32,71,12,45,26,80,53,33};\n",
    "  int b[8] = {32,71,12,45,26,80,53,33};\n",
    "  // using default comparison (operator <):\n",
    "  sort (a,a+8); \n",
    "  for (int i=0;i<8; i++)\n",
    "      cout << a[i]<<\" \";\n",
    "  cout << '\\n';\n",
    "\n",
    "  // using my comparison:\n",
    "  sort (b,b+8, myfunction);\n",
    "  for (int i=0;i<8; i++)\n",
    "     cout << b[i]<<\" \";\n",
    "  cout << '\\n';\n",
    "  return 0;\n",
    "}\n"
   ]
  },
  {
   "cell_type": "code",
   "execution_count": 28,
   "metadata": {},
   "outputs": [],
   "source": [
    "!g++ -O3 -o ./demo/bin/demo_std_sort ./demo/src/demo_std_sort.cpp"
   ]
  },
  {
   "cell_type": "code",
   "execution_count": 29,
   "metadata": {},
   "outputs": [
    {
     "name": "stdout",
     "output_type": "stream",
     "text": [
      "12 26 32 33 45 53 71 80 \n",
      "80 71 53 45 33 32 26 12 \n"
     ]
    }
   ],
   "source": [
    "!.\\demo\\bin\\demo_std_sort"
   ]
  },
  {
   "cell_type": "markdown",
   "metadata": {},
   "source": [
    "### 4.3 Comparison to qsort and sort()\n",
    "\n",
    "STL's sort ran **faster** than C's qsort,\n"
   ]
  },
  {
   "cell_type": "code",
   "execution_count": 30,
   "metadata": {},
   "outputs": [
    {
     "name": "stdout",
     "output_type": "stream",
     "text": [
      "Writing ./demo/src/performance_sort.cpp\n"
     ]
    }
   ],
   "source": [
    "%%file ./demo/src/performance_sort.cpp\n",
    "\n",
    "// C++ program to demonstrate performance of C qsort and C++ sort() algorithm\n",
    "#include <bits/stdc++.h>\n",
    "using namespace std;\n",
    "  \n",
    "// Number of elements to be sorted\n",
    "#define N 1000000\n",
    "  \n",
    "// A comparator function used by qsort\n",
    "int compare(const void * a, const void * b)\n",
    "{\n",
    "    return ( *(int*)a - *(int*)b );\n",
    "}\n",
    "  \n",
    "// Driver program to test above functions\n",
    "int main()\n",
    "{\n",
    "    int *a, *b;\n",
    "  \n",
    "    a = (int *)malloc(sizeof(int) * N);\n",
    "    b = (int *)malloc(sizeof(int) * N);\n",
    "   \n",
    "    // seed for random input\n",
    "    srand(time(NULL));\n",
    "    // generate random input\n",
    "    for (int i = 0; i < N; i++)\n",
    "        a[i] = b[i]= rand()%100000;\n",
    "  \n",
    "    // to measure time taken by qsort and sort\n",
    "    clock_t begin, end;\n",
    "    double time_spent;\n",
    "  \n",
    "    begin = clock();\n",
    "    qsort(a, N, sizeof(int), compare);\n",
    "    end = clock();\n",
    "  \n",
    "    // calculate time taken by C qsort function\n",
    "    time_spent = (double)(end - begin) / CLOCKS_PER_SEC;\n",
    "  \n",
    "    cout << \"Time taken by C qsort() \"\n",
    "         << time_spent << endl;\n",
    "  \n",
    "    time_spent = 0.0;\n",
    "  \n",
    "    begin = clock();\n",
    "    sort(b,b + N);\n",
    "    end = clock();\n",
    "  \n",
    "    // calculate time taken by C++ sort\n",
    "    time_spent = (double)(end - begin) / CLOCKS_PER_SEC;\n",
    "  \n",
    "    cout << \"Time taken by C++ sort() \"\n",
    "         << time_spent << endl;\n",
    "    \n",
    "    free(a);\n",
    "    free(b);\n",
    "    return 0;\n",
    "}"
   ]
  },
  {
   "cell_type": "code",
   "execution_count": 31,
   "metadata": {},
   "outputs": [],
   "source": [
    "!g++ -O3 -o  ./demo/bin/performance_sort ./demo/src/performance_sort.cpp"
   ]
  },
  {
   "cell_type": "code",
   "execution_count": 32,
   "metadata": {},
   "outputs": [
    {
     "name": "stdout",
     "output_type": "stream",
     "text": [
      "Time taken by C qsort() 0.182\n",
      "Time taken by C++ sort() 0.09\n"
     ]
    }
   ],
   "source": [
    "!.\\demo\\bin\\performance_sort"
   ]
  },
  {
   "cell_type": "markdown",
   "metadata": {
    "collapsed": true
   },
   "source": [
    "## Further Reading\n",
    "\n",
    "* 严蔚敏，李冬梅，吴伟民. 数据结构（C语言版），人民邮电出版社（第2版）,2015年2月  \n",
    "\n",
    "\n"
   ]
  }
 ],
 "metadata": {
  "kernelspec": {
   "display_name": "Python 3 (ipykernel)",
   "language": "python",
   "name": "python3"
  },
  "language_info": {
   "codemirror_mode": {
    "name": "ipython",
    "version": 3
   },
   "file_extension": ".py",
   "mimetype": "text/x-python",
   "name": "python",
   "nbconvert_exporter": "python",
   "pygments_lexer": "ipython3",
   "version": "3.8.7"
  },
  "latex_envs": {
   "LaTeX_envs_menu_present": true,
   "autoclose": false,
   "autocomplete": true,
   "bibliofile": "biblio.bib",
   "cite_by": "apalike",
   "current_citInitial": 1,
   "eqLabelWithNumbers": true,
   "eqNumInitial": 1,
   "hotkeys": {
    "equation": "Ctrl-E",
    "itemize": "Ctrl-I"
   },
   "labels_anchors": false,
   "latex_user_defs": false,
   "report_style_numbering": false,
   "user_envs_cfg": false
  },
  "toc": {
   "base_numbering": 1,
   "nav_menu": {},
   "number_sections": false,
   "sideBar": true,
   "skip_h1_title": false,
   "title_cell": "Table of Contents",
   "title_sidebar": "Contents",
   "toc_cell": false,
   "toc_position": {
    "height": "calc(100% - 180px)",
    "left": "10px",
    "top": "150px",
    "width": "165px"
   },
   "toc_section_display": true,
   "toc_window_display": true
  },
  "widgets": {
   "state": {},
   "version": "1.1.2"
  }
 },
 "nbformat": 4,
 "nbformat_minor": 1
}
