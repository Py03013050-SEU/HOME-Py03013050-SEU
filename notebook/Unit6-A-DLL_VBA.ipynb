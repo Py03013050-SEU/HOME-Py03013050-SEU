{
 "cells": [
  {
   "cell_type": "markdown",
   "metadata": {},
   "source": [
    "# C/C++ __stdcall DLL, Excel VBA\n",
    "\n",
    "* Change the current working directory into `./demo`"
   ]
  },
  {
   "cell_type": "code",
   "execution_count": 2,
   "metadata": {},
   "outputs": [
    {
     "name": "stdout",
     "output_type": "stream",
     "text": [
      "J:\\SEU\\SEE\\PySEE\\home\\notebook\\demo\n"
     ]
    }
   ],
   "source": [
    "%cd demo"
   ]
  },
  {
   "cell_type": "code",
   "execution_count": 2,
   "metadata": {},
   "outputs": [
    {
     "data": {
      "text/plain": [
       "'F:\\\\SEU\\\\SEE\\\\PySEE\\\\home\\\\notebook\\\\demo'"
      ]
     },
     "execution_count": 2,
     "metadata": {},
     "output_type": "execute_result"
    }
   ],
   "source": [
    "%pwd"
   ]
  },
  {
   "cell_type": "markdown",
   "metadata": {},
   "source": [
    "## 1 C/C++ __stdcall DLL \n",
    "\n",
    "  For **Visual Basic applications** (or applications in other languages such as Pascal or Fortran) to call functions in a C/C++ DLL, the functions must be exported using the correct calling convention without any name decoration done by the compiler.\n",
    "  \n",
    "VBA can **only** call **`__stdcall`** functions, not `__cdecl` functions. \n",
    "  \n",
    "*  **`__stdcall`** creates the correct calling convention for the function (the called function cleans up the stack and parameters are passed from **right to left(从右向左)**\n",
    "\n",
    "*  **`__declspec(dllexport)`** is used on an `exported` function in a DLL\n",
    "\n",
    "For Example:\n",
    "\n",
    "```c\n",
    "__declspec(dllexport) double __stdcall  mean(double data[], int size);;\n",
    "```\n",
    "\n"
   ]
  },
  {
   "cell_type": "markdown",
   "metadata": {},
   "source": [
    "Below is the example of techniques which facilitate the use of use of MinGW to create DLLs, exporting functions which may be called from Visual Basic Application with Excel. \n",
    "\n",
    "**Example:** The Saturation-Pressure Equation\n",
    "  \n",
    "    \n",
    "  pSat(double t);\n",
    "  \n",
    "\n"
   ]
  },
  {
   "cell_type": "markdown",
   "metadata": {},
   "source": [
    "### 1.1 Create DLL with `__stdcall` calling convention\n"
   ]
  },
  {
   "cell_type": "markdown",
   "metadata": {},
   "source": [
    "**The ·MANY· headers**\n",
    "\n",
    "When you create header files for your `__stdcall` DLLs,\n",
    "\n",
    "* ` __declspec(dllexport) ` adds the `export` directive to the object fileworks\n",
    "\n",
    "* ` __declspec(dllimport)`  on the declarations of the public symbols\n",
    "\n",
    "\n",
    "1.The headers for building the Windows **`__stdcall`** shared library  \n",
    "\n",
    "```c\n",
    "__declspec(dllexport) double __stdcall pSat(double t);\n",
    "\n",
    "```\n",
    "2.The header for building an executable that uses the  shared library.\n",
    "\n",
    "```c\n",
    "__declspec(dllimport) double __stdcall pSat(double t);\n",
    "```\n"
   ]
  },
  {
   "cell_type": "markdown",
   "metadata": {},
   "source": [
    "**The Multi-purpose header**\n",
    "\n",
    "Create a DLL of IAPWS-IF97-Region4 with the following code:\n",
    "\n",
    "* R134aSat.h\n",
    "\n",
    "* R134aSat.c\n",
    "\n",
    "The following header `region4.h`  declares the interface for \n",
    "\n",
    "* building the **Windows/Linux** shared library  \n",
    "\n",
    "* building an executable that uses the  shared library.\n",
    "\n",
    "Using the macro **PORT** as the return type of function \n",
    " \n",
    " \n",
    "* For Windows,**export** all functions as `__stdcall`.\n",
    "\n",
    "```c\n",
    "#define PORT __declspec(dllexport) double __stdcall\n",
    "```\n",
    "\n",
    "* For Windows,**import** all functions as `__stdcall`.\n",
    "\n",
    "```c\n",
    "#define PORT __declspec(dllimport) double __stdcall\n",
    "```\n",
    "\n",
    "* For Linux as  `__cdecl`\n",
    "\n",
    "```c\n",
    "#define PORT double\n",
    "```\n",
    "\n",
    "**#pragma once** \n",
    "\n",
    "This is a `non-standard` but widely supported preprocessor directive designed to cause the current source file to be included **only once** in a single compilation. \n",
    "\n",
    "**extern \"C\"** \n",
    "\n",
    "extern \"C\" syntax to allow the run-time library functions to be used in C++ programs.*"
   ]
  },
  {
   "cell_type": "code",
   "execution_count": 8,
   "metadata": {},
   "outputs": [
    {
     "name": "stdout",
     "output_type": "stream",
     "text": [
      "Overwriting ./include/R134aSat.h\n"
     ]
    }
   ],
   "source": [
    "%%file ./include/R134aSat.h\n",
    "#pragma once\n",
    "\n",
    "#ifdef __cplusplus\n",
    "extern \"C\" {\n",
    "#endif\n",
    "\n",
    "#ifdef BUILD_DLL\n",
    "\n",
    "    #ifdef WIN32\n",
    "        #define PORT __declspec(dllexport) double __stdcall \n",
    "    #else\n",
    "        #define PORT double\n",
    "    #endif    \n",
    "\n",
    "#else\n",
    "\n",
    "    #ifdef WIN32\n",
    "        #define PORT __declspec(dllimport) double __stdcall   \n",
    "    #else\n",
    "        #define PORT double\n",
    "    #endif    \n",
    "\n",
    "#endif\n",
    "\n",
    "PORT pSat(double t);\n",
    "        \n",
    "#ifdef __cplusplus\n",
    "\t}\n",
    "#endif        "
   ]
  },
  {
   "cell_type": "code",
   "execution_count": 15,
   "metadata": {},
   "outputs": [
    {
     "name": "stdout",
     "output_type": "stream",
     "text": [
      "Overwriting ./src/R134aSat.c\n"
     ]
    }
   ],
   "source": [
    "%%file ./src/R134aSat.c\n",
    "#include <math.h>\n",
    "#include \"R134aSat.h\"\n",
    "\n",
    "PORT pSat(double t)\n",
    "{\n",
    "\tconst double ti[]={1,1.5,2.3,3.6,5.2,7.3};\n",
    "    const double Ni[]={-7.6896400207782598, 2.0859760566425463, -2.6755347075503888,\n",
    "                       0.3010493765467589, -5.8583601582059233, 3.4788072104059631};\n",
    "    double Pcrit=4059280.0;\n",
    "    double Tcrit=374.21;\n",
    "    double Treduce=374.18;\n",
    "    double summer=0,theta;\n",
    "    double T=t+273.15;\n",
    "    theta=1.0-T/Treduce;\n",
    "    for (int i=0;i<=5;i++)\n",
    "    {\n",
    "        summer +=Ni[i]*pow(theta,ti[i]);\n",
    "    }\n",
    "    return  Pcrit*exp(summer*Tcrit/T)/1.0e6;\n",
    "}"
   ]
  },
  {
   "cell_type": "code",
   "execution_count": 48,
   "metadata": {},
   "outputs": [
    {
     "name": "stderr",
     "output_type": "stream",
     "text": [
      "C:/TDM-GCC-64/bin/../lib/gcc/x86_64-w64-mingw32/9.2.0/../../../../x86_64-w64-mingw32/bin/ld.exe: cannot open output file ./bin/libR134aSat.dll: Permission denied\n",
      "collect2.exe: error: ld returned 1 exit status\n"
     ]
    }
   ],
   "source": [
    "!gcc -c -DBUILD_DLL -o ./obj/R134aSat.o ./src/R134aSat.c -I./include\n",
    "!gcc -shared -o ./bin/libR134aSat.dll ./obj/R134aSat.o  -Wl,--add-stdcall-alias"
   ]
  },
  {
   "cell_type": "markdown",
   "metadata": {},
   "source": [
    "* -DBUILD_DLL:\n",
    "   \n",
    "  * -Dname: `Predefine name as a macro`, with definition \n",
    "  \n",
    "\n",
    "*  -Wl,option \n",
    "\n",
    "   Pass **option** as an option to the **linker**. If option contains commas, it is split into multiple options at the commas.\n",
    "\n",
    "\n",
    "* --add-stdcall-alias:\n",
    "   \n",
    "   This adds an **undecorated** alias for the `exported function names` that is simply **the name of the function** "
   ]
  },
  {
   "cell_type": "markdown",
   "metadata": {},
   "source": [
    "### 1.2  Add -static-libgcc ,-output-def=libregion4.def\n",
    "\n",
    " Links the GNU `libgcc` library `statically`"
   ]
  },
  {
   "cell_type": "code",
   "execution_count": 13,
   "metadata": {},
   "outputs": [],
   "source": [
    "!gcc -c -DBUILD_DLL -o ./obj/R134aSat.o ./src/R134aSat.c -I./include\n",
    "!gcc -shared -o ./bin/libR134aSat.dll -static-libgcc ./obj/R134aSat.o -Wl,--add-stdcall-alias,-output-def=./bin/libR134aSat.def"
   ]
  },
  {
   "cell_type": "markdown",
   "metadata": {},
   "source": [
    "**-static-libgcc**\n",
    "\n",
    "* This option links the GNU `libgcc` library **statically** \n",
    "   \n",
    "**-output-def=libregion4.def**\n",
    "\n",
    "* Name of `.def` file to be created.\n",
    "    \n",
    "* **def:** A module-definition  file is a text file containing one or more module statements that describe various attributes of a DLL"
   ]
  },
  {
   "cell_type": "code",
   "execution_count": null,
   "metadata": {},
   "outputs": [],
   "source": [
    "%load ./bin/libR134aSat.def\n"
   ]
  },
  {
   "cell_type": "code",
   "execution_count": 16,
   "metadata": {},
   "outputs": [
    {
     "name": "stdout",
     "output_type": "stream",
     "text": [
      "Writing ./makefile-R134aSat.mk\n"
     ]
    }
   ],
   "source": [
    "%%file ./makefile-R134aSat.mk\n",
    "\n",
    "CC=gcc\n",
    "CFLAGS=-DBUILD_DLL\n",
    "\n",
    "SRCDIR= ./src/\n",
    "OBJDIR= ./obj/\n",
    "BINDIR= ./bin/\n",
    "INCDIR=./include/\n",
    "\n",
    "all: libregion4\n",
    "\n",
    "libregion4: obj\n",
    "\t $(CC) -shared -o $(BINDIR)libR134aSat.dll -static-libgcc $(OBJDIR)R134aSat.o -Wl,--add-stdcall-alias,-output-def=libR134aSat.def\n",
    "obj: \n",
    "\t $(CC) -c $(CFLAGS) -o $(OBJDIR)R134aSat.o $(SRCDIR)R134aSat.c -I$(INCDIR)\n"
   ]
  },
  {
   "cell_type": "code",
   "execution_count": 17,
   "metadata": {},
   "outputs": [
    {
     "name": "stdout",
     "output_type": "stream",
     "text": [
      "gcc -shared -o ./bin/libR134aSat.dll -static-libgcc ./obj/R134aSat.o -Wl,--add-stdcall-alias,-output-def=libR134aSat.def\n"
     ]
    }
   ],
   "source": [
    "!make -f makefile-R134aSat.mk"
   ]
  },
  {
   "cell_type": "markdown",
   "metadata": {},
   "source": [
    "### 1.3 Call Dll from C/C++"
   ]
  },
  {
   "cell_type": "code",
   "execution_count": 44,
   "metadata": {},
   "outputs": [
    {
     "name": "stdout",
     "output_type": "stream",
     "text": [
      "Overwriting ./src/mainR134aSat.c\n"
     ]
    }
   ],
   "source": [
    "%%file ./src/mainR134aSat.c\n",
    "\n",
    "#include <stdio.h> \n",
    "#include \"R134aSat.h\"\n",
    "\n",
    "int main() {\n",
    "     double t=0;\n",
    "     printf(\"Temp: %f, Saturation P(MPa) is %f\\n\",t, pSat(t));  \n",
    "     return 0;\n",
    "}"
   ]
  },
  {
   "cell_type": "code",
   "execution_count": 45,
   "metadata": {},
   "outputs": [],
   "source": [
    "!gcc -c -o ./obj/mainR134aSat.o ./src/mainR134aSat.c -I./include/\n",
    "!gcc -o  ./bin/mainR134aSat ./obj/mainR134aSat.o  -L./bin/ -lR134aSat"
   ]
  },
  {
   "cell_type": "code",
   "execution_count": 46,
   "metadata": {},
   "outputs": [
    {
     "name": "stdout",
     "output_type": "stream",
     "text": [
      "Temp: 0.000000, Saturation P(MPa) is 0.292968\n"
     ]
    }
   ],
   "source": [
    "!.\\bin\\mainR134aSat"
   ]
  },
  {
   "cell_type": "markdown",
   "metadata": {},
   "source": [
    "### 1.4 Python API\n",
    "\n",
    "* `__stdcall` calling convention: **windll, WINFUNCTYPE**"
   ]
  },
  {
   "cell_type": "code",
   "execution_count": 14,
   "metadata": {},
   "outputs": [
    {
     "name": "stdout",
     "output_type": "stream",
     "text": [
      "Overwriting ./src/R134aSat.py\n"
     ]
    }
   ],
   "source": [
    "%%file ./src/R134aSat.py\n",
    "\n",
    "from ctypes import windll,c_double,WINFUNCTYPE\n",
    "\n",
    "flib = windll.LoadLibrary('./bin/libR134aSat.dll')\n",
    "prototype = WINFUNCTYPE(c_double,c_double)\n",
    "\n",
    "def pSat(t):\n",
    "    f = prototype((\"pSat\", flib),)\n",
    "    return f(t)"
   ]
  },
  {
   "cell_type": "markdown",
   "metadata": {},
   "source": [
    "**add `R134aSat.py` into the interperte search path**"
   ]
  },
  {
   "cell_type": "code",
   "execution_count": 31,
   "metadata": {},
   "outputs": [],
   "source": [
    "import sys\n",
    "sys.path.append('./src')"
   ]
  },
  {
   "cell_type": "code",
   "execution_count": 32,
   "metadata": {},
   "outputs": [
    {
     "name": "stdout",
     "output_type": "stream",
     "text": [
      "0.29296756119458117\n"
     ]
    }
   ],
   "source": [
    "from R134aSat import *\n",
    "t=0\n",
    "p=pSat(t)\n",
    "print(p)"
   ]
  },
  {
   "cell_type": "code",
   "execution_count": 12,
   "metadata": {},
   "outputs": [
    {
     "name": "stdout",
     "output_type": "stream",
     "text": [
      "Overwriting ./src/testR134aSat.py\n"
     ]
    }
   ],
   "source": [
    "%%file ./src/testR134aSat.py\n",
    "\n",
    "import unittest\n",
    "from  R134aSat import *\n",
    "\n",
    "class  R134aSatest (unittest.TestCase):\n",
    "\n",
    "    def setUp(self):\n",
    "        #  t, p\n",
    "        self.table=[[-8, 0.21704],\n",
    "                    [0, 0.29282],\n",
    "                    [8,0.38756]\n",
    "                   ]\n",
    "                    \n",
    "      \n",
    "    def test_pSat(self):\n",
    "        places = 3\n",
    "        for item in  self.table:\n",
    "             self.assertAlmostEqual(pSat(item[0]),item[1],places)\n",
    "\n",
    "if __name__ == '__main__':\n",
    "    unittest.main()       "
   ]
  },
  {
   "cell_type": "code",
   "execution_count": 13,
   "metadata": {},
   "outputs": [
    {
     "name": "stderr",
     "output_type": "stream",
     "text": [
      ".\n",
      "----------------------------------------------------------------------\n",
      "Ran 1 test in 0.001s\n",
      "\n",
      "OK\n"
     ]
    }
   ],
   "source": [
    "%run ./src/testR134aSat.py"
   ]
  },
  {
   "cell_type": "markdown",
   "metadata": {},
   "source": [
    "## 2 Call DLL from Excel VBA(64bits)\n",
    "\n",
    "Do as the following steps:\n",
    "\n",
    "### 2.1 Put  DLL in the default path of Windows'dll \n",
    "\n",
    "\n",
    "`libR134aSat.dll`  in `C:\\windows\\system`\n",
    "\n",
    "\n",
    "### 2.2 Create the xlsm\n",
    "\n",
    "`demo-R134aSat.xlsm` in `./demo/ExcelVBA/`\n",
    "\n",
    "\n",
    "### 2.3 VBA module to call the DLL.\n",
    "\n",
    "There are a few ways to open up the **VBA Editor** in Excel.\n",
    "\n",
    "* From the `Developer Tools` tab, you can click the `Visual Basic` button.\n",
    "\n",
    "* A keyboard shortcut: press **\"Alt+F11\"** :\n",
    "\n",
    "![vba](./img/vba.jpg)\n",
    "\n",
    "Into **VBA** Editor, then， create the module **mathfuns** to call library:\n",
    "\n",
    "```VBA\n",
    "Declare PtrSafe Function pSat Lib \"libtR134aSat\" (ByVal t As Double) As Double\n",
    "\n",
    "Public Function CalpSat(ByVal t As Double) As Double\n",
    "    CalpSat = pSat(T)\n",
    "End Function\n",
    " \n",
    "```\n",
    "\n",
    "### 2.4  call VBA methods in cells\n",
    "\n",
    "![R134aVBA](./img/vcr/R134aVBA.jpg)"
   ]
  },
  {
   "cell_type": "markdown",
   "metadata": {},
   "source": [
    "## Reference\n",
    "\n",
    "**Windows's DLL**\n",
    "\n",
    "* [What is a DLL and How Do I Create or Use One?](http://www.mingw.org/wiki/DLL)\n",
    "\n",
    "* DLLs in Visual C++ https://msdn.microsoft.com/en-us/library/1ez7dh12.aspx\n",
    "\n",
    "    \n",
    "**Microsoft Excel**\n",
    "\n",
    "* Excel VBA Programming:  http://www.homeandlearn.org/the_excel_vba_editor.html\n",
    "\n",
    "* [Language reference for Visual Basic for Applications(VBA)](https://docs.microsoft.com/en-us/office/vba/api/overview/language-reference)\n",
    "\n",
    "* [Excel VBA reference](https://docs.microsoft.com/en-us/office/vba/api/overview/excel)\n",
    "\n",
    "* Calling DLL Functions from Visual Basic Applications https://msdn.microsoft.com/en-us/library/dt232c9t.aspx\n",
    "\n",
    "**Excel4Engineering**\n",
    "\n",
    "Examples of Excel VBA for Engineering: Analysizing the Ideal Rankine Cycle, Monitoring Industrial Process \n",
    "\n",
    "* https://github.com/thermalogic/Excel4Engineering\n",
    "    \n"
   ]
  },
  {
   "cell_type": "code",
   "execution_count": null,
   "metadata": {},
   "outputs": [],
   "source": []
  }
 ],
 "metadata": {
  "kernelspec": {
   "display_name": "Python 3",
   "language": "python",
   "name": "python3"
  },
  "language_info": {
   "codemirror_mode": {
    "name": "ipython",
    "version": 3
   },
   "file_extension": ".py",
   "mimetype": "text/x-python",
   "name": "python",
   "nbconvert_exporter": "python",
   "pygments_lexer": "ipython3",
   "version": "3.7.8"
  },
  "toc": {
   "base_numbering": 1,
   "nav_menu": {},
   "number_sections": false,
   "sideBar": true,
   "skip_h1_title": false,
   "title_cell": "Table of Contents",
   "title_sidebar": "Contents",
   "toc_cell": false,
   "toc_position": {
    "height": "calc(100% - 180px)",
    "left": "10px",
    "top": "150px",
    "width": "165px"
   },
   "toc_section_display": true,
   "toc_window_display": true
  },
  "widgets": {
   "state": {},
   "version": "1.1.2"
  }
 },
 "nbformat": 4,
 "nbformat_minor": 1
}
