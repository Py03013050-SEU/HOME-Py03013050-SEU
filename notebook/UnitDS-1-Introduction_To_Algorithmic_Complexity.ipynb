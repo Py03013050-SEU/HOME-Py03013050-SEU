{
 "cells": [
  {
   "cell_type": "markdown",
   "metadata": {},
   "source": [
    "# SIMPLISTIC INTRODUCTION TO ALGORITHMIC COMPLEXITY\n",
    "<hr style=\"height:2px;color:blue\"/>\n",
    "The most important thing to think about when designing and implementing a program is \n",
    "\n",
    "that it should produce <b>results</b> that can <b>be relied upon</b>.\n",
    "\n",
    "Sometimes <b>performance</b> is an important aspect of <b>correctness</b>.\n",
    "\n",
    "  * This is most obvious for programs that need to <b>run in real time</b>\n",
    "  \n",
    "\n",
    "  * Performance can also affect <b>the utility of many non-real-time programs</b>\n",
    "\n",
    "Programmers often <b>increase</b> the <b>conceptual complexity</b> of a program in an effort to <b>reduce</b> its <b>computational complexity</b>.\n",
    "\n",
    "To do this in a <b>sensible</b> way, \n",
    "\n",
    "we need to understand how to go about <b>estimating the computational complexity</b> of a program."
   ]
  },
  {
   "cell_type": "markdown",
   "metadata": {},
   "source": [
    "## 1 Thinking About Computational Complexity\n",
    "\n",
    "How should one go about answering the question\n",
    "\n",
    "* **How long will the following function take to run?**\n"
   ]
  },
  {
   "cell_type": "code",
   "execution_count": null,
   "metadata": {},
   "outputs": [],
   "source": [
    "def f(i):\n",
    "    \"\"\"Assumes i is an int and i >= 0\"\"\"\n",
    "    answer = 1\n",
    "    while i >= 1:\n",
    "        answer *= i\n",
    "        print(answer)\n",
    "        i -= 1\n",
    "    return answer"
   ]
  },
  {
   "cell_type": "markdown",
   "metadata": {},
   "source": [
    "We could run the program on some input and <b>time</b> it. \n",
    "\n",
    "The <b>result would depend upon</b>\n",
    "\n",
    "* the speed of the <b>computer</b> on which it is run,\n",
    "\n",
    "* the efficiency of the <b>Python implementation</b> on that machine, and\n",
    "\n",
    "* the value of <b>the input<b>.\n",
    "\n",
    "\n",
    "**We get around the first two issues**\n",
    "\n",
    "*  </b> by using <b>a more abstract measure of time</b>. \n",
    "\n",
    "We measure <b>time</b> in terms of \n",
    "  \n",
    "*  <b>the number of basic steps</b> \n",
    "  \n",
    "executed by the program.\n",
    "\n",
    "For simplicity, we will use <b>a random access machine</b> as our model of\n",
    "computation. \n",
    "\n",
    "https://en.wikipedia.org/wiki/Random-access_machine\n",
    "\n",
    "In a random access machine：\n",
    "\n",
    "* <b>steps are executed sequentially</b>, <b>one at a time</b>. \n",
    "\n",
    "* A <b>step</b> is an operation that takes <b>a fixed amount of time</b>.\n",
    "\n",
    "Now that we have <b>a more abstract way</b> to think about the meaning of time,\n",
    "\n",
    "we turn to the question of **dependence on the value of the `input`**. \n",
    "\n",
    "We deal with that by expressing time complexity as relating it to \n",
    "\n",
    "* <b>the sizes of the inputs</b>. \n",
    "\n",
    "This allows us to compare the efficiency of two algorithms by talking about\n",
    "\n",
    "* <b>how the running time of each grows with respect to the sizes of the inputs</b>\n",
    "\n",
    "**The `linear search algorithm` implemented by**：\n"
   ]
  },
  {
   "cell_type": "code",
   "execution_count": null,
   "metadata": {
    "collapsed": true
   },
   "outputs": [],
   "source": [
    "def linearSearch(L, x):\n",
    "    for e in L:\n",
    "        if e == x:\n",
    "            return True\n",
    "    return False"
   ]
  },
  {
   "cell_type": "markdown",
   "metadata": {},
   "source": [
    "Suppose that L is a million elements long \n",
    "\n",
    "consider the call\n",
    "\n",
    "```python\n",
    "  linearSearch(L, 3).\n",
    "```\n",
    "If the first element in L is 3, linearSearch will return True almost immediately.\n",
    "\n",
    "if 3 is not in L, linearSearch will have to examine all one million elements before returning False.\n",
    "\n",
    "In general, there are <b>three broad cases</b> to think about：\n",
    "\n",
    "* the <b>best-case</b> running time is <b>the minimum running time</b> over all the possible inputs of a given size.\n",
    "\n",
    "   For linearSearch, the best-case running time is <b>independent of the size of L</b>.\n",
    "   \n",
    "*  the <b>worst-case</b> running time is <b>the maximum running time</b> over all the possible inputs of a given size. \n",
    "\n",
    "   For linearSearch, the worstcase running time is <b>linear in the size of the list</b>.\n",
    "\n",
    "*  the <b>average-case</b> (also called expected-case) running time is the average running time over all possible inputs of a given size. \n",
    "\n",
    "\n",
    "People usually focus <b>on the worst case</b> :an <b>upper bound</b> on the running time. \n",
    "\n",
    "This is <b>critical</b> in situations where there is <b>a time constraint</b> on how long a computation can take. \n"
   ]
  },
  {
   "cell_type": "markdown",
   "metadata": {
    "collapsed": true
   },
   "source": [
    "Let’s look at the <b>worst-case running time</b> of an iterative implementation of the factorial function\n"
   ]
  },
  {
   "cell_type": "code",
   "execution_count": null,
   "metadata": {
    "collapsed": true
   },
   "outputs": [],
   "source": [
    "def fact(n):\n",
    "    \"\"\"Assumes n is a natural number\n",
    "    Returns n!\"\"\"\n",
    "    answer = 1\n",
    "    while n > 1:\n",
    "        answer *= n\n",
    "        n -= 1\n",
    "    return answer"
   ]
  },
  {
   "cell_type": "markdown",
   "metadata": {},
   "source": [
    "The number of <b>steps</b> required to run this program is something like：<b> 2+5*n</b>\n",
    "\n",
    "* **2**：\n",
    "      answer = 1    # for the initial assignment statement\n",
    "      return answer #for the return\n",
    "\n",
    "* **5*n**：\n",
    "   \n",
    "   * **1** step for the test in the while： while n > 1:\n",
    "      \n",
    "   * **2** steps for the first assignment statement in the while loop： answer *= n\n",
    "      \n",
    "   * **2** steps for the second assignment statement in the loop： n -= 1\n",
    "      \n",
    "<b>Multiplicative</b> factors can be <b>important</b>."
   ]
  },
  {
   "cell_type": "markdown",
   "metadata": {
    "collapsed": true
   },
   "source": [
    "On the other hand, when one is comparing two <b>different algorithms</b>, \n",
    "\n",
    "it is often the case that even <b>multiplicative constants</b> are <b>irrelevant</b>.\n",
    "\n",
    "* ** squareRoot**\n",
    "\n",
    "  * ** Exhaustive**\n",
    "\n",
    "  * ** BiSection**"
   ]
  },
  {
   "cell_type": "code",
   "execution_count": 2,
   "metadata": {
    "collapsed": true
   },
   "outputs": [],
   "source": [
    "def squareRootExhaustive(x, epsilon):\n",
    "    \"\"\"Assumes x and epsilon are positive floats & epsilon < 1\n",
    "    Returns a y such that y*y is within epsilon of x\"\"\"\n",
    "    step = epsilon**2\n",
    "    ans = 0.0\n",
    "    \n",
    "    while abs(ans**2 - x) >= epsilon and ans*ans <= x:\n",
    "        ans += step\n",
    "  \n",
    "    if ans*ans > x:\n",
    "        raise ValueError\n",
    "    return ans"
   ]
  },
  {
   "cell_type": "code",
   "execution_count": 3,
   "metadata": {},
   "outputs": [],
   "source": [
    "def squareRootBi(x, epsilon):\n",
    "    \"\"\"Assumes x and epsilon are positive floats & epsilon < 1\n",
    "    Returns a y such that y*y is within epsilon of x\"\"\"\n",
    "    low = 0.0\n",
    "    high = max(1.0, x)\n",
    "    ans = (high + low)/2.0\n",
    "    iterations=0\n",
    "   \n",
    "    while abs(ans**2 - x) >= epsilon:\n",
    "        \n",
    "        if ans**2 < x:\n",
    "            low = ans\n",
    "        else:\n",
    "            high = ans\n",
    "            \n",
    "        ans = (high + low)/2.0\n",
    "   \n",
    "        iterations +=1\n",
    "   \n",
    "    return ans,iterations"
   ]
  },
  {
   "cell_type": "code",
   "execution_count": 4,
   "metadata": {},
   "outputs": [
    {
     "name": "stdout",
     "output_type": "stream",
     "text": [
      "ans= 10.000002384185791\n",
      "iterations= 22\n"
     ]
    }
   ],
   "source": [
    "ans,iterations=squareRootBi(100, 0.0001)\n",
    "print('ans=',ans)\n",
    "print('iterations=',iterations)\n"
   ]
  },
  {
   "cell_type": "markdown",
   "metadata": {},
   "source": [
    "**squareRootExhaustive(100, 0.0001)** \n",
    "\n",
    "   requires roughly one billion iterations of the loop. \n",
    "\n",
    "**squareRootBi(100, 0.0001)** \n",
    "\n",
    "   takes roughly twenty iterations of a slightly more complex while loop.\n",
    "\n",
    "When the difference in <b>the number of iterations is this large</b>, \n",
    "\n",
    "it doesn’t really matter how many instructions are in the loop. \n",
    "\n",
    "I.e., the multiplicative constants are irrelevant."
   ]
  },
  {
   "cell_type": "markdown",
   "metadata": {},
   "source": [
    "## 2 Asymptotic Notation\n"
   ]
  },
  {
   "cell_type": "code",
   "execution_count": 6,
   "metadata": {},
   "outputs": [],
   "source": [
    "def f(x):\n",
    "    \"\"\"Assume x is an int > 0\"\"\"\n",
    "    ans = 0\n",
    "   \n",
    "   #1 Loop that takes constant time:1000\n",
    "    for i in range(1000):\n",
    "        ans += 1\n",
    "    print('Number of additions so far', ans)\n",
    "   \n",
    "    #2 Loop that takes time:  x\n",
    "    for i in range(x):\n",
    "        ans += 1\n",
    "    print('Number of additions so far', ans)\n",
    "   \n",
    "    #3 Nested loops take time x**2+ x**2\n",
    "    for i in range(x):\n",
    "        for j in range(x):\n",
    "            \n",
    "            ans += 1\n",
    "            \n",
    "            ans += 1\n",
    "    \n",
    "    print('Number of additions so far', ans)\n",
    "   \n",
    "    return ans"
   ]
  },
  {
   "cell_type": "markdown",
   "metadata": {},
   "source": [
    "If one assumes that each line of code takes one unit of time to execute, the running time of this function can be described as \n",
    "\n",
    "<b>1000 + x + 2*x^2<b>."
   ]
  },
  {
   "cell_type": "code",
   "execution_count": 7,
   "metadata": {},
   "outputs": [
    {
     "name": "stdout",
     "output_type": "stream",
     "text": [
      "Number of additions so far 1000\n",
      "Number of additions so far 1010\n",
      "Number of additions so far 1210\n"
     ]
    },
    {
     "data": {
      "text/plain": [
       "1210"
      ]
     },
     "execution_count": 7,
     "metadata": {},
     "output_type": "execute_result"
    }
   ],
   "source": [
    "f(10)"
   ]
  },
  {
   "cell_type": "markdown",
   "metadata": {},
   "source": [
    "If x is 10, \n",
    "\n",
    "1000 of the 1210 steps are accounted for by the first loop.\n",
    "\n",
    "if x is 1000, \n",
    "\n",
    "each of the first two loops accounts for only 0.05% of the steps.\n",
    "\n",
    "if x is 1,000,000, \n",
    "\n",
    "the first loop takes about 0.00000005% of the total time and \n",
    "\n",
    "the second loop about 0.00005%. \n",
    "\n",
    "A full 2,000,000,000,000 steps are in the body of the inner for loop\n",
    "\n",
    "This kind of analysis leads us to use the following rules of \n",
    "\n",
    "<b>thumb in describing the asymptotic complexity</b> of an algorithm:\n",
    "\n",
    "* If the running time is <b>the sum of multiple terms</b>, \n",
    "\n",
    "    <b>keep the one with the largest growth rate</b>, and drop the others.\n",
    "\n",
    "\n",
    "* If the remaining term is <b>a product</b>,\n",
    "\n",
    "   <b>drop any constants</b>.\n",
    "\n",
    "We use something called <b>asymptotic notation</b> to provide <b>a formal way</b> to talk about \n",
    "\n",
    "<b>the relationship between the running time of an algorithm and the size of its inputs</b>.\n",
    "\n",
    "<b>asymptotic notation</b> as <b>a proxy for “very large”</b>, \n",
    "\n",
    "describes the complexity of an algorithm as the size of its inputs approaches infinity.\n",
    "\n",
    "<b>The most commonly used asymptotic notation is called “Big O” notation</b>.\n",
    "\n",
    "<b>$Big O$</b> notation is used to give <b>an upper bound</b> :                                                                                                                                                                                  called <b>the order of growth</b>) of a function.\n",
    "\n",
    "For example, the formula \n",
    "\n",
    "$$f(x) ∈ O(x^2)$$ \n",
    " \n",
    "means that the function $f$ grows no faster than the quadratic polynomial x^2, in an asymptotic sense."
   ]
  },
  {
   "cell_type": "markdown",
   "metadata": {},
   "source": [
    "The difference between a function being <b>“in O(x^2)” and “being O(x^2)”</b> is subtle but important. \n",
    "\n",
    "**in O(x^2)**: Saying that $f(x) ∈ O (x^2)$ does not preclude the **worst-case** running time of f from being considerably **less** that O(x^2).\n",
    "\n",
    "**being O(x^2)**: When we say that $f(x)$ is $O(x^2)￥, \n",
    "\n",
    "  we are implying that x^2 is both an **upper and a lower bound** on the asymptotic **worst-case** running time. This is called a **tight bound**.\n"
   ]
  },
  {
   "cell_type": "markdown",
   "metadata": {},
   "source": [
    "## 3 Some Important Complexity Classes\n",
    "\n",
    "Some of the most common instances of <b>Big O</b> are listed below. In each case, <b>n</b> is a measure of the size of the inputs to the function.\n",
    "\n",
    "* **$O(1$)** denotes constant running time.\n",
    "\n",
    "\n",
    "\n",
    "* **$O(logn)$** denotes logarithmic running time.\n",
    "\n",
    "\n",
    "* **$O(n)$** denotes linear running time.\n",
    "\n",
    "* **$O(nlogn)$** denotes log-linear running time.\n",
    "\n",
    "\n",
    "* **$O(n^k)$** denotes polynomial running time. Notice that k is a constant.\n",
    "\n",
    "\n",
    "* **$O(c^n)$** denotes exponential running time. Here a constant is being raised to a power based on the size of the input.\n"
   ]
  },
  {
   "cell_type": "markdown",
   "metadata": {},
   "source": [
    "### 3.1 Constant Complexity\n",
    "\n",
    "This indicates that the asymptotic complexity is <b>independent of the inputs</b>\n",
    "\n",
    "### 3.2 Logarithmic Complexity\n",
    "\n",
    "Such functions have a complexity that grows as <b>the log of at least one of the inputs</b>.\n"
   ]
  },
  {
   "cell_type": "code",
   "execution_count": 3,
   "metadata": {},
   "outputs": [],
   "source": [
    "def intToStr(i):\n",
    "    \"\"\"Assumes i is a nonnegative int\n",
    "      Returns a decimal string representation of i\"\"\"\n",
    "    digits = '0123456789'\n",
    "    if i == 0:\n",
    "        return '0'\n",
    "    result = ''\n",
    "   \n",
    "    while i > 0:\n",
    "        result = digits[i%10] + result\n",
    "        i = i//10  \n",
    "  \n",
    "    return result"
   ]
  },
  {
   "cell_type": "markdown",
   "metadata": {},
   "source": [
    "That boils down to the number of times one can divide i by 10. So, the complexity of intToStr is <b>O(log(i))</b>."
   ]
  },
  {
   "cell_type": "code",
   "execution_count": 4,
   "metadata": {},
   "outputs": [],
   "source": [
    "def addDigits(n):\n",
    "    \"\"\"Assumes n is a nonnegative int\n",
    "      Returns the sum of the digits in n\"\"\"\n",
    "    stringRep = intToStr(n)\n",
    "    val = 0\n",
    "    for c in stringRep:\n",
    "        val += int(c)\n",
    "    return val,len(stringRep)"
   ]
  },
  {
   "cell_type": "code",
   "execution_count": 5,
   "metadata": {},
   "outputs": [],
   "source": [
    "val,lenstringRep=addDigits(1376)"
   ]
  },
  {
   "cell_type": "code",
   "execution_count": 6,
   "metadata": {},
   "outputs": [
    {
     "name": "stdout",
     "output_type": "stream",
     "text": [
      "17\n",
      "4\n"
     ]
    }
   ],
   "source": [
    "print(val)\n",
    "print(lenstringRep)"
   ]
  },
  {
   "cell_type": "markdown",
   "metadata": {},
   "source": [
    "The complexity of converting n to a string is O(log(n)) and intToStr returns a string of length O(log(n)).\n",
    "\n",
    "the program will run in time proportional to O(log(n)) + O(log(n)), which makes it O(log(n))."
   ]
  },
  {
   "cell_type": "markdown",
   "metadata": {},
   "source": [
    "### 3.3 Linear Complexity\n",
    "\n",
    "Many algorithms that deal with <b>lists or other kinds of sequences</b> are <b>linear</b> because they touch each element of the sequence <b>a constant</b> (greater than 0) number of times.\n",
    "\n"
   ]
  },
  {
   "cell_type": "code",
   "execution_count": 7,
   "metadata": {},
   "outputs": [],
   "source": [
    "def addDigits(s):\n",
    "    \"\"\"Assumes s is a str each character of which is a\n",
    "         decimal digit.\n",
    "      Returns an int that is the sum of the digits in s\"\"\"\n",
    "    val = 0\n",
    "    for c in s:\n",
    "        val += int(c)\n",
    "    \n",
    "    return val\n"
   ]
  },
  {
   "cell_type": "markdown",
   "metadata": {},
   "source": [
    "This function is linear in the length of $s$.\n",
    "\n",
    "Of course, a program does not need to have a <b>loop</b> to have <b>linear</b> complexity."
   ]
  },
  {
   "cell_type": "code",
   "execution_count": null,
   "metadata": {
    "collapsed": true
   },
   "outputs": [],
   "source": [
    "def factorial(x):\n",
    "    \"\"\"Assumes that x is a positive int\n",
    "      Returns x!\"\"\"\n",
    "    if x == 1:\n",
    "        return 1\n",
    "    else:\n",
    "        return x*factorial(x-1)"
   ]
  },
  {
   "cell_type": "markdown",
   "metadata": {},
   "source": [
    "At the maximum depth of recursion, this code will have allocated x stack frames, so the <b>space complexity</b> is O(x).\n",
    "\n",
    "The impact of space complexity is <b>harder</b> to appreciate than the impact of time complexity."
   ]
  },
  {
   "cell_type": "markdown",
   "metadata": {},
   "source": [
    "### 3.4 Log-Linear Complexity\n",
    "\n",
    "$O(n log(n))$: It involves the <b>product of two terms</b>, each of which depends upon the size of the inputs.\n",
    "\n",
    "The most commonly used log-linear algorithm is probably <b>merge sort</b>, which is <b>$O(n log(n))$</b>, where n is the length of the list being sorted.\n",
    "\n",
    "\n",
    "### 3.5 Polynomial Complexity\n",
    "\n",
    "The most commonly used polynomial algorithms are <b>quadratic</b>, i.e., \n",
    "\n",
    "* their complexity grows as the square of the size of their input:$O(n^2）$."
   ]
  },
  {
   "cell_type": "code",
   "execution_count": 8,
   "metadata": {},
   "outputs": [],
   "source": [
    "def isSubset(L1, L2):\n",
    "    \"\"\"Assumes L1 and L2 are lists.\n",
    "      Returns True if each element in L1 is also in L2\n",
    "      and False otherwise.\"\"\"\n",
    "    for e1 in L1:\n",
    "        matched = False\n",
    "        for e2 in L2:\n",
    "            if e1 == e2:\n",
    "                matched = True\n",
    "            break\n",
    "        if not matched:\n",
    "            return False\n",
    "   \n",
    "    return True"
   ]
  },
  {
   "cell_type": "markdown",
   "metadata": {},
   "source": [
    "the complexity of isSubset is $O(len(L1)*len(L2))$."
   ]
  },
  {
   "cell_type": "code",
   "execution_count": 9,
   "metadata": {},
   "outputs": [],
   "source": [
    "def intersect(L1, L2):\n",
    "    \"\"\"Assumes: L1 and L2 are lists\n",
    "      Returns a list that is the intersection of L1 and L2\"\"\"\n",
    "    #Build a list containing common elements\n",
    "    tmp = []\n",
    "    for e1 in L1:     # O(len(L1))\n",
    "        for e2 in L2:  # O(len(L2))\n",
    "            if e1 == e2:\n",
    "                tmp.append(e1)\n",
    "    #Build a list without duplicates\n",
    "    result = []\n",
    "    for e in tmp:          # O(len(tmp))\n",
    "        if e not in result: # O(len(result))\n",
    "            result.append(e)\n",
    "   \n",
    "    return result"
   ]
  },
  {
   "cell_type": "markdown",
   "metadata": {},
   "source": [
    "Build a list containing common elements： The running time for the part building the list that might contain duplicates is clearly O(len(L1)*len(L2)).\n",
    "\n",
    "Build a list without duplicates： $O(len(tmp)*len(result))$.\n",
    "\n",
    "the complexity of intersect is $O(len(L1)*len(L2))$.\n",
    "\n",
    "\n",
    "\n"
   ]
  },
  {
   "cell_type": "markdown",
   "metadata": {},
   "source": [
    "### 3.6 Exponential Complexity\n",
    "\n",
    "As we will see later in this book, many important problems are inherently exponential, i.e., solving them completely can require time that is exponential in the size of the input.\n",
    "\n",
    "This is unfortunate, since it rarely pays to write a program that has a reasonably high probability of taking exponential time to run."
   ]
  },
  {
   "cell_type": "code",
   "execution_count": 10,
   "metadata": {},
   "outputs": [],
   "source": [
    "def getBinaryRep(n, numDigits):\n",
    "    \"\"\"Assumes n and numDigits are non-negative ints\n",
    "      Returns a numDigits str that is a binary\n",
    "      representation of n\"\"\"\n",
    "    result = ''\n",
    "    while n > 0:\n",
    "        result = str(n%2) + result\n",
    "        n = n//2\n",
    "    \n",
    "    if len(result) > numDigits:\n",
    "        raise ValueError('not enough digits')\n",
    "   \n",
    "    for i in range(numDigits - len(result)):\n",
    "        result = '0' + result\n",
    "    return result\n"
   ]
  },
  {
   "cell_type": "code",
   "execution_count": 11,
   "metadata": {},
   "outputs": [
    {
     "name": "stdout",
     "output_type": "stream",
     "text": [
      "1011\n"
     ]
    }
   ],
   "source": [
    "print(getBinaryRep(11,4))"
   ]
  },
  {
   "cell_type": "code",
   "execution_count": null,
   "metadata": {},
   "outputs": [],
   "source": [
    "print(getBinaryRep(11,3))"
   ]
  },
  {
   "cell_type": "code",
   "execution_count": null,
   "metadata": {},
   "outputs": [],
   "source": [
    "print(getBinaryRep(11,5))"
   ]
  },
  {
   "cell_type": "code",
   "execution_count": 12,
   "metadata": {},
   "outputs": [],
   "source": [
    "def genPowerset(L):\n",
    "    \"\"\"Assumes L is a list\n",
    "      Returns a list of lists that contains all possible\n",
    "      combinations of the elements of L.  E.g., if\n",
    "      L is [1, 2] it will return a list with elements\n",
    "      [], [1], [2], and [1,2].\"\"\"\n",
    "    powerset = []\n",
    "    for i in range(0, 2**len(L)):\n",
    "        binStr = getBinaryRep(i, len(L))\n",
    "        subset = []\n",
    "        for j in range(len(L)):\n",
    "            if binStr[j] == '1':\n",
    "                subset.append(L[j])\n",
    "        # demo L=['a', 'b']\n",
    "        print(binStr)\n",
    "        print(subset)\n",
    "    \n",
    "        powerset.append(subset)\n",
    "    \n",
    "    return powerset"
   ]
  },
  {
   "cell_type": "markdown",
   "metadata": {},
   "source": [
    "The function ```genPowerset(L)``` returns <b>a list of lists</b> that contains all possible combinations of the elements of L. \n",
    "\n",
    "For example, if L is ['a', 'b'], the powerset of L will be a list containing the lists [], ['b'], ['a'], and ['a','b'].\n",
    " \n",
    "Consider a list of n elements. We can represent any combination of elements by a string of n 0’s and 1’s, where a 1 represents the presence of an element and a 0 its absence.\n",
    "\n",
    "Therefore generating all sublists of a list L of length n can be done as follows:\n",
    "\n",
    "1. Generate all n-bit binary numbers. These are the numbers from <b>0 to 2^n</b>.\n",
    "```python\n",
    " for i in range(0, 2**len(L)):\n",
    "      binStr = getBinaryRep(i, len(L))\n",
    "```\n",
    "\n",
    "2. For each of these 2n +1 binary numbers, b, generate a list by selecting    those elements of L that have <b>an index </b>corresponding to a 1 in b. "
   ]
  },
  {
   "cell_type": "code",
   "execution_count": null,
   "metadata": {},
   "outputs": [],
   "source": [
    "L=['a', 'b']\n",
    "genPowerset(L)"
   ]
  },
  {
   "cell_type": "markdown",
   "metadata": {},
   "source": [
    "For example, if L is ['a', 'b'] and b is 01, generate the list [‘b’]."
   ]
  },
  {
   "cell_type": "markdown",
   "metadata": {},
   "source": [
    "Try running ```genPowerset``` on a list containing the four letters of the alphabet. It will finish quite quickly and produce a list with 16(2^4) elements."
   ]
  },
  {
   "cell_type": "code",
   "execution_count": null,
   "metadata": {},
   "outputs": [],
   "source": [
    "L=['a', 'b','c', 'd'] \n",
    "powerset=genPowerset(L)\n",
    "print(len(powerset))"
   ]
  },
  {
   "cell_type": "code",
   "execution_count": null,
   "metadata": {},
   "outputs": [],
   "source": [
    "L=['aa', 'bc',13]\n",
    "powerset=genPowerset(L)\n",
    "print(powerset)\n",
    "print(len(powerset))\n"
   ]
  },
  {
   "cell_type": "markdown",
   "metadata": {},
   "source": [
    "<b>Step 1</b> of the algorithm generates $O(2^len(L))$ binary numbers, so the algorithm is exponential in $len(L)$."
   ]
  },
  {
   "cell_type": "markdown",
   "metadata": {},
   "source": [
    "### 3.7 Comparisons of Complexity Classes\n",
    "\n",
    "The following plots are intended to convey an impression of the implications of an algorithm being in one or another of these complexity classes."
   ]
  },
  {
   "cell_type": "markdown",
   "metadata": {
    "collapsed": true
   },
   "source": [
    "The plot compares the growth of a <b>constant-time</b> algorithm to that of a <b>logarithmic</b> algorithm.\n",
    "<img src=\"./img/ds/9.3.7.1.PNG\"/> \n",
    "The moral is that logarithmic algorithms are<b>almost as good as</b> constant-time ones.\n"
   ]
  },
  {
   "cell_type": "markdown",
   "metadata": {
    "collapsed": true
   },
   "source": [
    "The plot illustrates the dramatic difference between <b>logarithmic algorithms </b> and  <b>linear algorithms </b>.\n",
    "<img src=\"./img/ds/9.3.7.2.PNG\"/> \n",
    "The difference between logarithmic-time and linear-time algorithms is apparent even on small inputs\n",
    "\n",
    "Most of the time a linear algorithm is acceptably efficient."
   ]
  },
  {
   "cell_type": "markdown",
   "metadata": {
    "collapsed": true
   },
   "source": [
    "The plot shows that there is a significant difference between Linear<b>O(n)</b> and <b>log-linear algorithm O(n log(n))</b>.\n",
    "<img src=\"./img/ds/9.3.7.3.PNG\"/> \n",
    "Given how slowly <b>log(n) grows</b>, this may seem a bit surprising, but keep in mind that it is <b>a multiplicative factor</b>. \n",
    "Also keep in mind that in most practical situations, O(<b>n</b> log(n)) is <b>fast enough </b>to be useful."
   ]
  },
  {
   "cell_type": "markdown",
   "metadata": {
    "collapsed": true
   },
   "source": [
    "On the other hand, as the plot suggests, there are many situations in which <b>a quadratic</b> rate of growth is <b>prohibitive</b>. \n",
    "\n",
    "The quadratic curve is rising so quickly that it is hard to see that the <b>log-linear</b> curve is even on the plot.\n",
    "<img src=\"./img/ds/9.3.7.4.PNG\"/> "
   ]
  },
  {
   "cell_type": "markdown",
   "metadata": {
    "collapsed": true
   },
   "source": [
    "The final two plots are about exponential complexity. \n",
    "\n",
    "The plot compares the growth of a <b>quadratic</b> of growth algorithm to that of a <b>exponential</b> algorithm \n",
    "<img src=\"./img/ds/9.3.7.5.PNG\"/> \n",
    "In the plot on the left, the numbers to the left of the y-axis run from 0.0 to 1.2.\n",
    "\n",
    "However, the notation $*1e301$ on the top left means that each tick on the y-axis  should be multiplied by $10^{301}$. \n",
    "\n",
    "So, the plotted y-values range from 0 to roughly  $1.1*10301$. It looks, however, almost as if there are no curves in the plot on the\n",
    "left."
   ]
  },
  {
   "cell_type": "markdown",
   "metadata": {
    "collapsed": true
   },
   "source": [
    "The plot on the right addresses this issue by using a <b>logarithmic scale on the y-axis</b>. \n",
    "<img src=\"./img/ds/9.3.7.6.PNG\"/> \n",
    "One can readily see that exponential algorithms are impractical for all but the smallest of inputs."
   ]
  },
  {
   "cell_type": "code",
   "execution_count": null,
   "metadata": {},
   "outputs": [],
   "source": []
  }
 ],
 "metadata": {
  "kernelspec": {
   "display_name": "Python 3",
   "language": "python",
   "name": "python3"
  },
  "language_info": {
   "codemirror_mode": {
    "name": "ipython",
    "version": 3
   },
   "file_extension": ".py",
   "mimetype": "text/x-python",
   "name": "python",
   "nbconvert_exporter": "python",
   "pygments_lexer": "ipython3",
   "version": "3.8.7"
  },
  "toc": {
   "base_numbering": 1,
   "nav_menu": {},
   "number_sections": false,
   "sideBar": true,
   "skip_h1_title": false,
   "title_cell": "Table of Contents",
   "title_sidebar": "Contents",
   "toc_cell": false,
   "toc_position": {},
   "toc_section_display": true,
   "toc_window_display": true
  }
 },
 "nbformat": 4,
 "nbformat_minor": 1
}
