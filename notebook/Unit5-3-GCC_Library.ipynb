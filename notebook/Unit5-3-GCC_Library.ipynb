{
 "cells": [
  {
   "cell_type": "markdown",
   "metadata": {},
   "source": [
    "#  The Static and Shared Library with GCC\n",
    "\n"
   ]
  },
  {
   "cell_type": "markdown",
   "metadata": {},
   "source": [
    "##  The Library \n",
    "\n",
    "Library files are a collection of **precompiled functions** that are written according to the principle of reusability. \n",
    "\n",
    "They are usually made up of a set of interrelated functions used to perform a common task\n",
    "\n",
    "### Static  Library \n",
    "\n",
    "Static libraries are **directly linked into** the program at compile time. \n",
    "\n",
    "A program using a static library takes copies of the code that it uses from the static library and makes it part of the program. \n",
    "\n",
    "\n",
    "\n",
    "### Shared  Library \n",
    "\n",
    "For a shared library, the compiler/linker checks that the names you link with exist in the library when the application is built, **but doesn't move their code into the application**. At run time, the shared library must be available.\n",
    "\n",
    "Before the executable starts running, **the operating system loads the machine code needed for the external functions** - a process known as **dynamic linking.** \n",
    "\n",
    "### The advantages and disadvantages in each method\n",
    "\n",
    "**The advantages of using library**\n",
    "\n",
    "1. Modular development\n",
    "\n",
    "2. Reusability\n",
    "\n",
    "3. Maintainability\n",
    "\n",
    "**Shared libraries**\n",
    "\n",
    "* reduce the amount of code that is duplicated in each program that makes use of the library, keeping **binaries small**. \n",
    "\n",
    "* allows you to replace the shared object with one that is functionally equivalent, but may have added performance benefits **without needing to recompile** the program that makes use of it. \n",
    "\n",
    "Shared libraries will, however have a small additional cost for the execution of the functions as well as a run-time loading cost as all the symbols in the library need to be connected to the things they use\n",
    "\n",
    "**Static libraries**\n",
    "\n",
    "* increase the overall size of the binary, but it means that you don't need to carry along a copy of the library that is being used. As the code is connected at compile time there are not any additional run-time loading costs. The code is simply there.\n",
    "\n",
    "![library](./img/library.png) \n",
    "\n",
    "\n",
    "\n",
    "\n",
    "**GCC assumes that all libraries**\n",
    "   \n",
    "* `start` with **lib**\n",
    "\n",
    "* Static libraries: `end` with `.a`\n",
    "\n",
    "* Shared libraries: `end`  with `.dll`(windows) or `.so`(Linux)，\n",
    "\n"
   ]
  },
  {
   "cell_type": "markdown",
   "metadata": {},
   "source": [
    "Change the current working directory to `./demo`"
   ]
  },
  {
   "cell_type": "code",
   "execution_count": null,
   "metadata": {},
   "outputs": [],
   "source": [
    "%cd demo"
   ]
  },
  {
   "cell_type": "code",
   "execution_count": null,
   "metadata": {},
   "outputs": [],
   "source": [
    "%pwd"
   ]
  },
  {
   "cell_type": "markdown",
   "metadata": {},
   "source": [
    "\n",
    "## The source code of library \n",
    "The static and shared library we will build consist of a single source file: \n",
    "\n",
    "* `statistics.c/h`\n"
   ]
  },
  {
   "cell_type": "code",
   "execution_count": null,
   "metadata": {},
   "outputs": [],
   "source": [
    "%%file ./include/statistics.h\n",
    "#ifndef STATISTICS_H\n",
    "#define STATISTICS_H\n",
    "\n",
    "double  mean(double data[], int size);\n",
    "\n",
    "#endif\n"
   ]
  },
  {
   "cell_type": "code",
   "execution_count": null,
   "metadata": {},
   "outputs": [],
   "source": [
    "%%file ./src/statistics.c\n",
    "\n",
    "#include \"statistics.h\"\n",
    "\n",
    "double  mean(double data[], int size)\n",
    "{\n",
    "  /* Compute the arithmetic mean of a dataset using the recurrence relation \n",
    "     mean_(n) = mean(n-1) + (data[n] - mean(n-1))/(n+1)   */\n",
    "\n",
    "  double mean = 0;\n",
    "  for(int  i = 0; i < size; i++)\n",
    "  {\n",
    "      mean += (data[i] - mean) / (i + 1);\n",
    "   }\n",
    "  return mean;\n",
    "}"
   ]
  },
  {
   "cell_type": "markdown",
   "metadata": {},
   "source": [
    "## 1 The Static Library\n",
    "\n",
    "### Step 1: Compiling Code"
   ]
  },
  {
   "cell_type": "code",
   "execution_count": null,
   "metadata": {},
   "outputs": [],
   "source": [
    "!gcc -c -O3 -Wall -o  ./obj/statistics.o  ./src/statistics.c -I./include/"
   ]
  },
  {
   "cell_type": "markdown",
   "metadata": {},
   "source": [
    "* `-c`: compile into object file with default name : *.o.\n",
    "\n",
    "      By default, the object file has the same name as the source file with extension of \".o\" \n",
    "  \n",
    "  \n",
    "* `-O3`: Optimize yet more.\n",
    "\n",
    "      turns on all optimizations specified by -O2 and also turns on the -finline-functions, -fweb, -frename-registers and -funswitch-loops optionsturns  on  all  optimizations   \n",
    "     \n",
    "  \n",
    "* `-Wall`: prints \"all\"  compiler's warning message. \n",
    "\n",
    "      This option should always be used, in order to generate better code.\n"
   ]
  },
  {
   "cell_type": "markdown",
   "metadata": {},
   "source": [
    "### Step 2: Creating a static library from the object files\n",
    "\n",
    "The static file is created with the archiver (`ar`).\n",
    "\n",
    " `./lib/libstat.a `"
   ]
  },
  {
   "cell_type": "code",
   "execution_count": null,
   "metadata": {},
   "outputs": [],
   "source": [
    "!ar -rv ./lib/libstat.a ./obj/statistics.o "
   ]
  },
  {
   "cell_type": "markdown",
   "metadata": {},
   "source": [
    "* `r`  - replace existing or insert new file(s) into the archive(替换库中存在的模块/插入新模块）\n",
    "\n",
    "* `v`  - be verbose(该选项用来显示执行操作选项的附加信息)"
   ]
  },
  {
   "cell_type": "code",
   "execution_count": null,
   "metadata": {},
   "outputs": [],
   "source": [
    "!dir .\\lib\\libstat.*"
   ]
  },
  {
   "cell_type": "code",
   "execution_count": null,
   "metadata": {},
   "outputs": [],
   "source": [
    "!del .\\obj\\statistics.o "
   ]
  },
  {
   "cell_type": "markdown",
   "metadata": {},
   "source": [
    "### Step 3 Using a static library \n",
    "\n",
    "We use the **same** code ` ./src/statdemo.c` to demonstrates calling the static library "
   ]
  },
  {
   "cell_type": "code",
   "execution_count": null,
   "metadata": {},
   "outputs": [],
   "source": [
    "%%file ./src/statdemo.c\n",
    "\n",
    "#include <stdio.h> \n",
    "#include \"statistics.h\"\n",
    "\n",
    "int main() {\n",
    "     double a[] = {8, 4, 5, 3, 2};\n",
    "     int length = sizeof(a)/sizeof(double);  \n",
    "     printf(\"mean is %f\\n\", mean(a,length)); \n",
    "     return 0;\n",
    "}\n"
   ]
  },
  {
   "cell_type": "markdown",
   "metadata": {},
   "source": [
    "### Header Files and Libraries \n",
    "\n",
    "* `Header File`: When compiling the program, the **compiler** needs the **header** files to compile the source codes;\n",
    "\n",
    "* `libraries`: the **linker** needs the **libraries** to resolve external references from other object files or libraries. \n",
    "\n",
    "The `compiler` and `linker` will not find the `headers/libraries` unless you set **the appropriate options**\n",
    "\n",
    "* **1 Searching for Header Files**\n",
    "\n",
    "   **`-Idir`:** The include-paths are specified via **-Idir** option (`uppercase` 'I' followed by the directory path. \n",
    "   \n",
    "   \n",
    "* **2 Searching for libraries Files**\n",
    "\n",
    "   **`-Ldir`**: The library-path is specified via **-Ldir** option (`uppercase` 'L' followed by the directory path）. \n",
    "\n",
    "\n",
    "* **3 Linking the library**\n",
    "\n",
    "   **`-lname`**: Link with the library name **without** the `lib` prefix and the extensions.\n",
    " \n",
    "   **`-l:fullname`**: Link with the library name with the `lib` prefix and the extensions.\n",
    "   \n",
    "By default, gcc links `dynamically`,so,`-lname` gets linked dynamically as expected.\n",
    "\n",
    "When gcc is given a static library `explicitly`, it will always try to link it statically."
   ]
  },
  {
   "cell_type": "markdown",
   "metadata": {},
   "source": [
    "1. **using `-l:`** to specify the static library directly."
   ]
  },
  {
   "cell_type": "code",
   "execution_count": null,
   "metadata": {},
   "outputs": [],
   "source": [
    "!gcc -c -o ./obj/statdemo.o ./src/statdemo.c -I./include/\n",
    "!gcc -o  ./bin/statdemostatic ./obj/statdemo.o -L./lib -l:libstat.a"
   ]
  },
  {
   "cell_type": "code",
   "execution_count": null,
   "metadata": {},
   "outputs": [],
   "source": [
    "!dir .\\bin\\statdemostatic.*"
   ]
  },
  {
   "cell_type": "code",
   "execution_count": null,
   "metadata": {},
   "outputs": [],
   "source": [
    "!.\\bin\\statdemostatic.exe"
   ]
  },
  {
   "cell_type": "markdown",
   "metadata": {},
   "source": [
    "2. **using `-static` optional** "
   ]
  },
  {
   "cell_type": "code",
   "execution_count": null,
   "metadata": {},
   "outputs": [],
   "source": [
    "!gcc -o  ./bin/statdemostatic ./obj/statdemo.o -static -L./lib -lstat"
   ]
  },
  {
   "cell_type": "code",
   "execution_count": null,
   "metadata": {},
   "outputs": [],
   "source": [
    "!dir .\\bin\\statdemostatic.*"
   ]
  },
  {
   "cell_type": "code",
   "execution_count": null,
   "metadata": {},
   "outputs": [],
   "source": [
    "!.\\bin\\statdemostatic.exe"
   ]
  },
  {
   "cell_type": "markdown",
   "metadata": {},
   "source": [
    "\n",
    "## 2 The shared library\n",
    "\n"
   ]
  },
  {
   "cell_type": "markdown",
   "metadata": {},
   "source": [
    "\n",
    "we use the same source file`statistics.c/h` to compile into a shared library "
   ]
  },
  {
   "cell_type": "markdown",
   "metadata": {},
   "source": [
    "#### Step 1: Compiling with Position Independent Code\n",
    "\n",
    "We compile the C file with `Position Independent Code( PIC )` \n",
    "\n",
    "\n",
    "* **`-fPIC`** : stands for `Position Independent Code`(位置无关代码)\n",
    "   \n",
    "   the generated machine code is `not dependent` on being located at a `specific address` in order to `work`.\n",
    "   \n",
    "   Position-independent code can be `executed` at `any memory address`\n",
    "     "
   ]
  },
  {
   "cell_type": "code",
   "execution_count": null,
   "metadata": {},
   "outputs": [],
   "source": [
    "!gcc -c -O3 -Wall -fPIC  -o  ./obj/statistics.o  ./src/statistics.c -I./include/"
   ]
  },
  {
   "cell_type": "markdown",
   "metadata": {},
   "source": [
    "#### Step 2: Creating a shared library from an object file\n",
    "\n",
    "* -shared : creating a shared library"
   ]
  },
  {
   "cell_type": "code",
   "execution_count": null,
   "metadata": {},
   "outputs": [],
   "source": [
    "!gcc -shared -o  ./bin/libstat.dll ./obj/statistics.o"
   ]
  },
  {
   "cell_type": "markdown",
   "metadata": {},
   "source": [
    "**Makefile of Building the shared library**"
   ]
  },
  {
   "cell_type": "code",
   "execution_count": null,
   "metadata": {},
   "outputs": [],
   "source": [
    "%%file ./makestatso.mk\n",
    "\n",
    "CC=gcc\n",
    "CFLAGS=-O3 -Wall -fPIC \n",
    "\n",
    "SRCDIR=./src/\n",
    "OBJDIR=./obj/\n",
    "BINDIR=./bin/\n",
    "INCDIR=./include/\n",
    "\n",
    "# Windows\n",
    "LIB=libstat.dll\n",
    "\n",
    "all:  $(LIB)\n",
    "\n",
    "$(LIB): statobj\n",
    "\t $(CC) -shared -o $(BINDIR)$@ $(OBJDIR)statistics.o\n",
    "    \n",
    "statobj: $(SRCDIR)statistics.c\n",
    "\t $(CC) -c $(CFLAGS)  -o $(OBJDIR)statistics.o $(SRCDIR)statistics.c -I$(INCDIR)    \n"
   ]
  },
  {
   "cell_type": "code",
   "execution_count": null,
   "metadata": {},
   "outputs": [],
   "source": [
    "!make -f makestatso.mk"
   ]
  },
  {
   "cell_type": "code",
   "execution_count": null,
   "metadata": {},
   "outputs": [],
   "source": [
    "!dir .\\bin\\libstat*.*"
   ]
  },
  {
   "cell_type": "markdown",
   "metadata": {},
   "source": [
    "#### Step3: Using the shared library"
   ]
  },
  {
   "cell_type": "markdown",
   "metadata": {},
   "source": [
    "**Linking the library**\n",
    "\n",
    "   **`-lname`**: Link with the library name **without** the `lib` prefix and the  extensions.\n",
    "  \n",
    "Windows\n",
    "```bash\n",
    "   -L./bin/ -lstat\n",
    "```\n"
   ]
  },
  {
   "cell_type": "markdown",
   "metadata": {},
   "source": [
    "We use the **same** code ` ./src/statdemo.c` to demonstrates calling the shared library \n",
    "\n"
   ]
  },
  {
   "cell_type": "markdown",
   "metadata": {},
   "source": [
    "**Makefile**"
   ]
  },
  {
   "cell_type": "code",
   "execution_count": null,
   "metadata": {},
   "outputs": [],
   "source": [
    "%%file ./makestatsodemo.mk\n",
    "\n",
    "SRCDIR= ./src/\n",
    "OBJDIR= ./obj/\n",
    "BINDIR= ./bin/\n",
    "INCDIR=./include/\n",
    "\n",
    "all: statdemoso\n",
    "\n",
    "statdemoso: statobj  \n",
    "\tgcc -o $(BINDIR)$@ $(OBJDIR)statdemo.o -L$(BINDIR) -lstat\n",
    "\n",
    "statobj: $(SRCDIR)statdemo.c \n",
    "\tgcc -c -o $(OBJDIR)statdemo.o $(SRCDIR)statdemo.c -I$(INCDIR)"
   ]
  },
  {
   "cell_type": "code",
   "execution_count": null,
   "metadata": {},
   "outputs": [],
   "source": [
    "!make -f makestatsodemo.mk"
   ]
  },
  {
   "cell_type": "code",
   "execution_count": null,
   "metadata": {},
   "outputs": [],
   "source": [
    "!dir .\\bin\\statdemo*.*"
   ]
  },
  {
   "cell_type": "code",
   "execution_count": null,
   "metadata": {},
   "outputs": [],
   "source": [
    "!.\\bin\\statdemoso"
   ]
  },
  {
   "cell_type": "markdown",
   "metadata": {},
   "source": [
    "## 3 Building  a Shared Library with Multi-source\n",
    "\n",
    "### 3.1  The multi-source files\n",
    "The shared library we will build consist of the multi-source files\n",
    "\n",
    "* statistics.c/h\n",
    "* funs.c/h\n",
    "\n",
    "**funs.c/h N!**"
   ]
  },
  {
   "cell_type": "code",
   "execution_count": null,
   "metadata": {},
   "outputs": [],
   "source": [
    "%%file ./include/funs.h\n",
    "\n",
    "#ifndef FUNS_H\n",
    "#define FUNS_H\n",
    "\n",
    "int factorial(int n);\n",
    "\n",
    "#endif"
   ]
  },
  {
   "cell_type": "code",
   "execution_count": null,
   "metadata": {},
   "outputs": [],
   "source": [
    "%%file ./src/funs.c\n",
    "\n",
    "#include \"funs.h\"\n",
    "\n",
    "// The factorial of a positive integer n, denoted by n!, \n",
    "//    is the product of all positive integers less than or equal to n. \n",
    "//  For example,5!=5*4*3*2*1=120\n",
    "//  The value of 0! is 1 \n",
    "int factorial(int n)\n",
    "{\n",
    "    if (n == 0 ) {\n",
    "        return 1;\n",
    "    }\n",
    "    else \n",
    "    {\n",
    "        return n * factorial(n - 1);\n",
    "    }\n",
    "}"
   ]
  },
  {
   "cell_type": "markdown",
   "metadata": {},
   "source": [
    "### 3.2 Building  into One Shared Library\n",
    "\n",
    "**Makefile**\n",
    "\n",
    "```make\n",
    "SRCS=$(SRCDIR)statistics.c \\\n",
    "    $(SRCDIR)funs.c \n",
    "```    "
   ]
  },
  {
   "cell_type": "code",
   "execution_count": null,
   "metadata": {},
   "outputs": [],
   "source": [
    "%%file ./makelibfuns.mk\n",
    "\n",
    "CC=gcc\n",
    "CFLAGS=-O3 -Wall -fPIC\n",
    "\n",
    "SRCDIR= ./src/\n",
    "OBJDIR= ./obj/\n",
    "BINDIR= ./bin/\n",
    "INCDIR= ./include/\n",
    "\n",
    "LIB=libfuns.dll\n",
    "\n",
    "SRCS=$(SRCDIR)statistics.c \\\n",
    "    $(SRCDIR)funs.c \n",
    "\n",
    "# non-path filename\n",
    "filename=$(notdir $(SRCS))\n",
    "\n",
    "# the obj target of a source code using the pattern rule\n",
    "OBJS=$(patsubst %.c,$(OBJDIR)%.o,$(filename))\n",
    "\n",
    "all:$(LIB)\n",
    "    \n",
    "$(LIB): $(OBJS)  \n",
    "\t$(CC) -shared -o $(BINDIR)$@ $^ \n",
    "\n",
    "# the pattern rule: one step rule for multiple source files\n",
    "$(OBJS):$(SRCS)\n",
    "#\t$(CC) $(CFLAGS) -o $@ -c $(SRCDIR)$(patsubst  %.o,%.c,$(notdir $@))  -I$(INCDIR)\n",
    "\t$(CC) $(CFLAGS) -o $@ -c $^  -I$(INCDIR)"
   ]
  },
  {
   "cell_type": "code",
   "execution_count": null,
   "metadata": {},
   "outputs": [],
   "source": [
    "!make -f makelibfuns.mk"
   ]
  },
  {
   "cell_type": "code",
   "execution_count": null,
   "metadata": {},
   "outputs": [],
   "source": [
    "!dir .\\bin\\libf*.dll"
   ]
  },
  {
   "cell_type": "markdown",
   "metadata": {},
   "source": [
    "### 3.3 Building a client executable \n",
    "\n",
    "The source code `\"funsdemo.c\"` demonstrates calling the shared library's functions:\n"
   ]
  },
  {
   "cell_type": "code",
   "execution_count": null,
   "metadata": {},
   "outputs": [],
   "source": [
    "%%file ./src/funsdemo.c\n",
    "\n",
    "#include <stdio.h> \n",
    "#include \"statistics.h\"\n",
    "#include \"funs.h\"\n",
    "\n",
    "int main() {\n",
    "    \n",
    "     double a[] = {8, 4, 5, 3, 2};\n",
    "     int len= sizeof(a)/sizeof(*a);\n",
    "     printf(\"mena is %f\\n\", mean(a,  len)); \n",
    "    \n",
    "     int n =5;\n",
    "     printf(\"the factorial of  %d is %d\\n\",n,factorial(n));  // 5!=120\n",
    "     return 0;\n",
    "}"
   ]
  },
  {
   "cell_type": "markdown",
   "metadata": {},
   "source": [
    "#### Windows "
   ]
  },
  {
   "cell_type": "code",
   "execution_count": null,
   "metadata": {},
   "outputs": [],
   "source": [
    "!gcc -c -o ./obj/funsdemo.o ./src/funsdemo.c -I./include/\n",
    "!gcc -o  ./bin/funsdemo ./obj/funsdemo.o  -L./bin/ -lfuns"
   ]
  },
  {
   "cell_type": "code",
   "execution_count": null,
   "metadata": {},
   "outputs": [],
   "source": [
    "!.\\bin\\funsdemo"
   ]
  },
  {
   "cell_type": "markdown",
   "metadata": {},
   "source": [
    "## 4 The C/C++ Caller of CoolProp Library in Windows\n",
    "\n",
    "**Change working dir to `./notebook/coolpropdemo`**\n"
   ]
  },
  {
   "cell_type": "code",
   "execution_count": null,
   "metadata": {},
   "outputs": [],
   "source": [
    "%pwd"
   ]
  },
  {
   "cell_type": "code",
   "execution_count": null,
   "metadata": {},
   "outputs": [],
   "source": [
    "%cd ./coolpropdemo"
   ]
  },
  {
   "cell_type": "markdown",
   "metadata": {},
   "source": [
    "### 4.1 The Static CoolProp Library\n",
    "\n",
    "* The Static CoolProp library(64) on Windows: `./lib/libCoolProp.a` （the size is is too large,so it is not provided in the PySEE/home) "
   ]
  },
  {
   "cell_type": "code",
   "execution_count": null,
   "metadata": {},
   "outputs": [],
   "source": [
    "%%file ./mainstatic.c\n",
    "\n",
    "/* \n",
    "The example use the static library of CoolProp in c\n",
    "\n",
    "The library: ./lib/libCoolProp.a\n",
    "\n",
    "g++ -o ./bin/mainstatic   main.c -I./include -L./lib -lCoolProp\n",
    "       \n",
    "./bin/mainstatic\n",
    "\n",
    "*/\n",
    "\n",
    "#include \"CoolPropLib.h\"\n",
    "#include <stdio.h>\n",
    "\n",
    "int main() {\n",
    "     double value=PropsSI(\"P\",\"T\",273.15+0,\"Q\",0,\"R134a\");\n",
    "     printf(\"%f\\n\", value); \n",
    "     return 0;\n",
    "}\n"
   ]
  },
  {
   "cell_type": "code",
   "execution_count": null,
   "metadata": {},
   "outputs": [],
   "source": [
    "!g++ -o ./bin/mainstatic   mainstatic.c -I./include -L./lib -lCoolProp"
   ]
  },
  {
   "cell_type": "code",
   "execution_count": null,
   "metadata": {},
   "outputs": [],
   "source": [
    "!.\\bin\\mainstatic"
   ]
  },
  {
   "cell_type": "markdown",
   "metadata": {},
   "source": [
    "### 4.2 The C/C++ Caller of CoolProp Shared Library in Windows\n",
    "\n",
    "* [Official Doc: CoolProp Shared Library](http://www.coolprop.org/coolprop/wrappers/SharedLibrary/index.html#)\n",
    "\n",
    "The example use a TDM-GCC-64 dll: **libCoolProp.dll** of CoolProp\n",
    "\n",
    "**The Windows Shared Library**\n",
    "\n",
    "1. The official Windows Shared Library: `CoolProp_x64.dll`\n",
    "\n",
    "2. The Shared Library with MinGW64: `libCoolProp.dll`\n",
    "\n"
   ]
  },
  {
   "cell_type": "markdown",
   "metadata": {},
   "source": [
    "#### C Caller\n",
    "\n",
    "* -DCOOLPROP_LIB "
   ]
  },
  {
   "cell_type": "code",
   "execution_count": null,
   "metadata": {},
   "outputs": [],
   "source": [
    "%%file ./main.c\n",
    "\n",
    "/* \n",
    "The example use the shared library of CoolProp in c\n",
    "\n",
    "The library: libCoolProp.dll or CoolProp_x64.dll\n",
    "\n",
    "g++ -DCOOLPROP_LIB -o ./bin/main   main.c -I./include -L./bin -lCoolProp\n",
    "       \n",
    "./bin/main\n",
    "\n",
    "*/\n",
    "\n",
    "#include \"CoolPropLib.h\"\n",
    "#include <stdio.h>\n",
    "\n",
    "int main() {\n",
    "     double value=PropsSI(\"P\",\"T\",273.15+0,\"Q\",0,\"R134a\");\n",
    "     printf(\"%f\\n\", value); \n",
    "     return 0;\n",
    "}\n"
   ]
  },
  {
   "cell_type": "markdown",
   "metadata": {},
   "source": [
    "Compiling"
   ]
  },
  {
   "cell_type": "code",
   "execution_count": null,
   "metadata": {},
   "outputs": [],
   "source": [
    "!g++  -DCOOLPROP_LIB -o ./bin/main  main.c -I./include -L./bin -lCoolProp"
   ]
  },
  {
   "cell_type": "markdown",
   "metadata": {},
   "source": [
    "Run"
   ]
  },
  {
   "cell_type": "code",
   "execution_count": null,
   "metadata": {},
   "outputs": [],
   "source": [
    "!.\\bin\\main"
   ]
  },
  {
   "cell_type": "markdown",
   "metadata": {},
   "source": [
    "#### C++ Caller"
   ]
  },
  {
   "cell_type": "code",
   "execution_count": null,
   "metadata": {},
   "outputs": [],
   "source": [
    "%%file ./demo.cpp\n",
    "/* \n",
    "The example use the shared library of CoolProp in c\n",
    "\n",
    "The library: libCoolProp.dll or CoolProp_x64.dll\n",
    "\n",
    "g++ -DCOOLPROP_LIB -o ./bin/demo  demo.cpp -I./include -L./bin -lCoolProp\n",
    "\n",
    "./bin/demo\n",
    "\n",
    "*/\n",
    "\n",
    "#include \"CoolPropLib.h\"\n",
    "#include <iostream>\n",
    "#include <iomanip>\n",
    "\n",
    "int main()\n",
    "{\n",
    "    double value=PropsSI(\"P\",\"T\",273.15+0,\"Q\",0,\"R134a\");\n",
    "    std::cout << std::setiosflags(std::ios::fixed)  << value << std::endl;\n",
    "    return 1;\n",
    "}"
   ]
  },
  {
   "cell_type": "markdown",
   "metadata": {},
   "source": [
    "Compiling"
   ]
  },
  {
   "cell_type": "code",
   "execution_count": null,
   "metadata": {},
   "outputs": [],
   "source": [
    "!g++ -DCOOLPROP_LIB -o ./bin/demo  demo.cpp -I./include -L./bin -lCoolProp"
   ]
  },
  {
   "cell_type": "markdown",
   "metadata": {},
   "source": [
    "Run"
   ]
  },
  {
   "cell_type": "code",
   "execution_count": null,
   "metadata": {},
   "outputs": [],
   "source": [
    "!.\\bin\\demo"
   ]
  },
  {
   "cell_type": "markdown",
   "metadata": {},
   "source": [
    "## 5 The Shared Library in C++\n",
    "\n",
    "The Shared Library of vapor-compression refrigeration cycle simulator for education in `C++`\n",
    "\n",
    "* [The source code of vcclib in C++](https://github.com/PySEE/SimVCCE/tree/node/vcccpp)\n",
    "\n",
    "\n",
    "**Example: `./vcccpp`**\n",
    "\n",
    "* ./bin/libvcc.dll\n",
    "\n",
    "* ./include/vcclib.hpp"
   ]
  },
  {
   "cell_type": "code",
   "execution_count": 1,
   "metadata": {},
   "outputs": [
    {
     "name": "stdout",
     "output_type": "stream",
     "text": [
      "J:\\SEU\\SEE\\PySEE\\home\\notebook\\vcccpp\n"
     ]
    }
   ],
   "source": [
    "%cd ./vcccpp"
   ]
  },
  {
   "cell_type": "code",
   "execution_count": null,
   "metadata": {},
   "outputs": [],
   "source": [
    "%pwd"
   ]
  },
  {
   "cell_type": "markdown",
   "metadata": {},
   "source": [
    "### The header file \n",
    "\n"
   ]
  },
  {
   "cell_type": "code",
   "execution_count": null,
   "metadata": {},
   "outputs": [],
   "source": [
    "# %load  ./include/vcclib.hpp\n",
    "/*\n",
    "The vapor-compression refrigeration cycle simulator for education in C++\n",
    "  VCCLIB.hpp for the libvcc\n",
    "*/\n",
    "#ifndef VCCLIB_HPP\n",
    "#define VCCLIB_HPP\n",
    "\n",
    "#include <string>\n",
    "#include <unordered_map>\n",
    "#include <map>\n",
    "#include <any>\n",
    "#include <vector>\n",
    "#include <cmath>\n",
    "#include <memory>\n",
    "\n",
    "using namespace std;\n",
    "\n",
    "class Node;\n",
    "\n",
    "class CompBase;\n",
    "\n",
    "typedef unordered_map<string, any> dictDevice;\n",
    "typedef map<int, Node *> mapNode;\n",
    "typedef unordered_map<string, CompBase *> mapComponent;\n",
    "\n",
    "class VCCycle\n",
    "{\n",
    "public:\n",
    "    mapNode nodes;\n",
    "    mapComponent comps;\n",
    "\n",
    "    double Wc;\n",
    "    double Qin;\n",
    "    double cop;\n",
    "\n",
    "    // methods\n",
    "    VCCycle(vector<dictDevice> dictNodes, vector<dictDevice> dictcomps);\n",
    "   \n",
    "    void state();\n",
    "    void balance();\n",
    "    void outresults();\n",
    "};\n",
    "\n",
    "#endif /* VCCLIB_HPP */\n"
   ]
  },
  {
   "cell_type": "markdown",
   "metadata": {},
   "source": [
    "### The client\n",
    "\n",
    "*  ./demovcclib.cpp\n",
    "\n",
    "*  ./makefile"
   ]
  },
  {
   "cell_type": "code",
   "execution_count": null,
   "metadata": {},
   "outputs": [],
   "source": [
    "# %load  ./demovcclib.cpp\n",
    "/*\n",
    " The vapor-compression refrigeration cycle simulator for education in C++\n",
    "*/\n",
    "#include \"vcclib.hpp\"\n",
    "\n",
    "vector<dictDevice> dictNodes = {\n",
    "    {{\"desc\", \"Evaporator->Compressor\"},\n",
    "     {\"id\", 1},\n",
    "     {\"p\", NAN},\n",
    "     {\"t\", 0.0},\n",
    "     {\"x\", 1.0},\n",
    "     {\"mdot\", 0.08}},\n",
    "    {{\"desc\", \"Compressor->Condenser\"},\n",
    "     {\"id\", 2},\n",
    "     {\"p\", 0.6854},\n",
    "     {\"t\", NAN},\n",
    "     {\"x\", NAN},\n",
    "     {\"mdot\", NAN}},\n",
    "    {{\"desc\", \"Condenser->ExpansionValve\"},\n",
    "     {\"id\", 3},\n",
    "     {\"p\", NAN},\n",
    "     {\"t\", 26.0},\n",
    "     {\"x\", 0.0},\n",
    "     {\"mdot\", NAN}},\n",
    "    {{\"desc\", \"ExpansionValve->Evaporator\"},\n",
    "     {\"id\", 4},\n",
    "     {\"p\", NAN},\n",
    "     {\"t\", NAN},\n",
    "     {\"x\", NAN},\n",
    "     {\"mdot\", NAN}}\n",
    "\n",
    "};\n",
    "\n",
    "vector<dictDevice> dictcomps = {{{\"name\", \"Compressor\"},\n",
    "                                 {\"classstr\", \"Compressor\"},\n",
    "                                 {\"iNode\", 1},\n",
    "                                 {\"oNode\", 2}},\n",
    "                                {{\"name\", \"Condenser\"},\n",
    "                                 {\"classstr\", \"Condenser\"},\n",
    "                                 {\"iNode\", 2},\n",
    "                                 {\"oNode\", 3}},\n",
    "                                {{\"name\", \"ExpansionValve\"},\n",
    "                                 {\"classstr\", \"ExpansionValve\"},\n",
    "                                 {\"iNode\", 3},\n",
    "                                 {\"oNode\", 4}},\n",
    "                                {{\"name\", \"Evaporator\"},\n",
    "                                 {\"classstr\", \"Evaporator\"},\n",
    "                                 {\"iNode\", 4},\n",
    "                                 {\"oNode\", 1}}};\n",
    "\n",
    "int main()\n",
    "{\n",
    "  unique_ptr<VCCycle> curcycle(new VCCycle(dictNodes, dictcomps));\n",
    "  curcycle->state();\n",
    "  curcycle->balance();\n",
    "  curcycle->outresults();\n",
    "  return 0;\n",
    "}"
   ]
  },
  {
   "cell_type": "code",
   "execution_count": null,
   "metadata": {},
   "outputs": [],
   "source": [
    "# %load ./makefile\n",
    "\n",
    "LIBFLAGS=-L./bin -lvcc\n",
    "ifneq ($(OS),Windows_NT)\n",
    "\tUNAME_S := $(shell uname -s)\n",
    "    ifeq ($(UNAME_S),Linux)\n",
    "        LIBFLAGS += -Wl,-rpath=./bin\n",
    "    endif\n",
    "endif\n",
    "\n",
    "CFLAGES=-std=c++17 -O3 \n",
    "\t \n",
    "OUTFILE=./bin/vccdemo\n",
    "\n",
    "all: $(OUTFILE)\n",
    "\t$(OUTFILE)\n",
    "\n",
    "$(OUTFILE): ./demovcclib.cpp  \n",
    "\tg++ $(CFLAGES) -o $@ $^   -I./include $(LIBFLAGS)\n"
   ]
  },
  {
   "cell_type": "code",
   "execution_count": 5,
   "metadata": {},
   "outputs": [
    {
     "name": "stdout",
     "output_type": "stream",
     "text": [
      "g++ -std=c++17 -O3  -o bin/vccdemo demovcclib.cpp   -I./include -L./bin -lvcc\n",
      "./bin/vccdemo\n",
      "\n",
      " --- The Cycle ---\n",
      "\tCompression Work(kW): 1.409\n",
      "\tRefrigeration Capacity(kW): 13.010\n",
      "\tThe coefficient of performance: 9.236\n",
      "\n",
      "\n",
      "ExpansionValve\n",
      "NodeID \t         DESC               P(MPa)   T(C)  H(kJ/kg)  S(kJ/kg.K)  Quality MDOT(kg/s)\n",
      "3\tCondenser->ExpansionValve     0.685   26.00   235.97   1.125    0.000   0.080\n",
      "4\tExpansionValve->Evaporator    0.293   -0.00   235.97   1.132    0.181   0.080\n",
      "\n",
      "Compressor\n",
      "NodeID \t         DESC               P(MPa)   T(C)  H(kJ/kg)  S(kJ/kg.K)  Quality MDOT(kg/s)\n",
      "1\tEvaporator->Compressor        0.293   0.00   398.60   1.727    1.000   0.080\n",
      "2\tCompressor->Condenser         0.685   29.27   416.21   1.727     --    0.080\n",
      "The Compressor Work(kW): 1.409\n",
      "\n",
      "\n",
      "Evaporator\n",
      "NodeID \t         DESC               P(MPa)   T(C)  H(kJ/kg)  S(kJ/kg.K)  Quality MDOT(kg/s)\n",
      "4\tExpansionValve->Evaporator    0.293   -0.00   235.97   1.132    0.181   0.080\n",
      "1\tEvaporator->Compressor        0.293   0.00   398.60   1.727    1.000   0.080\n",
      "The Refrigeration Capacity(kW): 13.010\n",
      "\n",
      "\n",
      "Condenser\n",
      "NodeID \t         DESC               P(MPa)   T(C)  H(kJ/kg)  S(kJ/kg.K)  Quality MDOT(kg/s)\n",
      "2\tCompressor->Condenser         0.685   29.27   416.21   1.727     --    0.080\n",
      "3\tCondenser->ExpansionValve     0.685   26.00   235.97   1.125    0.000   0.080\n",
      "\n",
      "NodeID \t         DESC               P(MPa)   T(C)  H(kJ/kg)  S(kJ/kg.K)  Quality MDOT(kg/s)\n",
      "1\tEvaporator->Compressor        0.293   0.00   398.60   1.727    1.000   0.080\n",
      "2\tCompressor->Condenser         0.685   29.27   416.21   1.727     --    0.080\n",
      "3\tCondenser->ExpansionValve     0.685   26.00   235.97   1.125    0.000   0.080\n",
      "4\tExpansionValve->Evaporator    0.293   -0.00   235.97   1.132    0.181   0.080\n"
     ]
    }
   ],
   "source": [
    "!make"
   ]
  },
  {
   "cell_type": "markdown",
   "metadata": {},
   "source": [
    "### Interoperability of Libraries (ABI compatibility)\n",
    "\n",
    "\n",
    "Libraries written in `C++`, compiled with different compilers, or even just with different releases of the same compiler, often **cannot be linked together**.\n",
    "\n",
    "Sometimes there exists basic `ABI (Application Binary Interface) compatibility` (e.g. GCC and clang) but it’s likely that you have to recompile your library and your application from source with the **same compiler** to be able to link them."
   ]
  },
  {
   "cell_type": "markdown",
   "metadata": {},
   "source": [
    "## Reference\n",
    "\n",
    "* [Dynamic-Link Librarieson on Windows](https://docs.microsoft.com/zh-cn/windows/win32/dlls/dynamic-link-libraries)"
   ]
  },
  {
   "cell_type": "code",
   "execution_count": null,
   "metadata": {},
   "outputs": [],
   "source": []
  }
 ],
 "metadata": {
  "kernelspec": {
   "display_name": "Python 3",
   "language": "python",
   "name": "python3"
  },
  "language_info": {
   "codemirror_mode": {
    "name": "ipython",
    "version": 3
   },
   "file_extension": ".py",
   "mimetype": "text/x-python",
   "name": "python",
   "nbconvert_exporter": "python",
   "pygments_lexer": "ipython3",
   "version": "3.8.7"
  },
  "toc": {
   "base_numbering": 1,
   "nav_menu": {},
   "number_sections": false,
   "sideBar": true,
   "skip_h1_title": false,
   "title_cell": "Table of Contents",
   "title_sidebar": "Contents",
   "toc_cell": false,
   "toc_position": {
    "height": "calc(100% - 180px)",
    "left": "10px",
    "top": "150px",
    "width": "248px"
   },
   "toc_section_display": true,
   "toc_window_display": true
  },
  "widgets": {
   "state": {},
   "version": "1.1.2"
  }
 },
 "nbformat": 4,
 "nbformat_minor": 2
}
