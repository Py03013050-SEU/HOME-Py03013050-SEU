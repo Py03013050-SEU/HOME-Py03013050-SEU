{
 "cells": [
  {
   "cell_type": "markdown",
   "metadata": {},
   "source": [
    "#  The Static Shared Library with GCC\n",
    "\n",
    "**C/C++ Under Linux**\n",
    "\n",
    "* %cd Change the current working directory to `./demo`"
   ]
  },
  {
   "cell_type": "code",
   "execution_count": 1,
   "metadata": {},
   "outputs": [
    {
     "name": "stdout",
     "output_type": "stream",
     "text": [
      "J:\\SEU\\SEE\\PySEE\\home\\notebook\\demo\n"
     ]
    }
   ],
   "source": [
    "%cd demo"
   ]
  },
  {
   "cell_type": "code",
   "execution_count": 49,
   "metadata": {},
   "outputs": [
    {
     "data": {
      "text/plain": [
       "'J:\\\\SEU\\\\SEE\\\\PySEE\\\\home\\\\notebook\\\\demo'"
      ]
     },
     "execution_count": 49,
     "metadata": {},
     "output_type": "execute_result"
    }
   ],
   "source": [
    "%pwd"
   ]
  },
  {
   "cell_type": "markdown",
   "metadata": {},
   "source": [
    "##  The Library \n",
    "\n",
    "Library files are a collection of **precompiled functions** that are written according to the principle of reusability. \n",
    "\n",
    "They are usually made up of a set of interrelated functions used to perform a common task\n",
    "\n",
    "### Static  Library \n",
    "\n",
    "Static libraries are **directly linked into** the program at compile time. \n",
    "\n",
    "A program using a static library takes copies of the code that it uses from the static library and makes it part of the program. \n",
    "\n",
    "\n",
    "\n",
    "### Shared  Library \n",
    "\n",
    "For a shared library, the compiler/linker checks that the names you link with exist in the library when the application is built, **but doesn't move their code into the application**. At run time, the shared library must be available.\n",
    "\n",
    "Before the executable starts running, **the operating system loads the machine code needed for the external functions** - a process known as **dynamic linking.** \n",
    "\n",
    "### The advantages and disadvantages in each method\n",
    "\n",
    "**The advantages of using library**\n",
    "\n",
    "1. Modular development\n",
    "\n",
    "2. Reusability\n",
    "\n",
    "3. Maintainability\n",
    "\n",
    "**Shared libraries**\n",
    "\n",
    "* reduce the amount of code that is duplicated in each program that makes use of the library, keeping **binaries small**. \n",
    "\n",
    "* allows you to replace the shared object with one that is functionally equivalent, but may have added performance benefits **without needing to recompile** the program that makes use of it. \n",
    "\n",
    "Shared libraries will, however have a small additional cost for the execution of the functions as well as a run-time loading cost as all the symbols in the library need to be connected to the things they use\n",
    "\n",
    "**Static libraries**\n",
    "\n",
    "* increase the overall size of the binary, but it means that you don't need to carry along a copy of the library that is being used. As the code is connected at compile time there are not any additional run-time loading costs. The code is simply there.\n",
    "\n",
    "![library](./img/library.png) \n",
    "\n",
    "\n",
    "\n",
    "\n",
    "**GCC assumes that all libraries**\n",
    "   \n",
    "* `start` with **lib**\n",
    "\n",
    "* Static libraries: `end` with `.a`\n",
    "\n",
    "* Shared libraries: `end`  with `.dll`(windows) or `.so`(Linux)，\n",
    "\n"
   ]
  },
  {
   "cell_type": "markdown",
   "metadata": {},
   "source": [
    "## The source code of library \n",
    "The static and shared library we will build consist of a single source file: \n",
    "\n",
    "* `statistics.c/h`\n"
   ]
  },
  {
   "cell_type": "code",
   "execution_count": 2,
   "metadata": {},
   "outputs": [
    {
     "name": "stdout",
     "output_type": "stream",
     "text": [
      "Overwriting ./include/statistics.h\n"
     ]
    }
   ],
   "source": [
    "%%file ./include/statistics.h\n",
    "#ifndef STATISTICS_H\n",
    "#define STATISTICS_H\n",
    "\n",
    "double  mean(double data[], int size);\n",
    "\n",
    "#endif\n"
   ]
  },
  {
   "cell_type": "code",
   "execution_count": 3,
   "metadata": {},
   "outputs": [
    {
     "name": "stdout",
     "output_type": "stream",
     "text": [
      "Overwriting ./src/statistics.c\n"
     ]
    }
   ],
   "source": [
    "%%file ./src/statistics.c\n",
    "\n",
    "#include \"statistics.h\"\n",
    "\n",
    "double  mean(double data[], int size)\n",
    "{\n",
    "  /* Compute the arithmetic mean of a dataset using the recurrence relation \n",
    "     mean_(n) = mean(n-1) + (data[n] - mean(n-1))/(n+1)   */\n",
    "\n",
    "  double mean = 0;\n",
    "  for(int  i = 0; i < size; i++)\n",
    "  {\n",
    "      mean += (data[i] - mean) / (i + 1);\n",
    "   }\n",
    "  return mean;\n",
    "}"
   ]
  },
  {
   "cell_type": "markdown",
   "metadata": {},
   "source": [
    "## 1 The Static Library\n",
    "\n",
    "### Step 1: Compiling Code"
   ]
  },
  {
   "cell_type": "code",
   "execution_count": 31,
   "metadata": {},
   "outputs": [],
   "source": [
    "!gcc -c -O3 -Wall -o  ./obj/statistics.o  ./src/statistics.c -I./include/"
   ]
  },
  {
   "cell_type": "markdown",
   "metadata": {},
   "source": [
    "* `-c`: compile into object file with default name : *.o.\n",
    "\n",
    "      By default, the object file has the same name as the source file with extension of \".o\" \n",
    "  \n",
    "  \n",
    "* `-O3`: Optimize yet more.\n",
    "\n",
    "      turns on all optimizations specified by -O2 and also turns on the -finline-functions, -fweb, -frename-registers and -funswitch-loops optionsturns  on  all  optimizations   \n",
    "     \n",
    "  \n",
    "* `-Wall`: prints \"all\"  compiler's warning message. \n",
    "\n",
    "      This option should always be used, in order to generate better code.\n"
   ]
  },
  {
   "cell_type": "markdown",
   "metadata": {},
   "source": [
    "### Step 2: Creating a static library from the object files\n",
    "\n",
    "The static file is created with the archiver (`ar`).\n",
    "\n",
    " `./lib/libstat.a `"
   ]
  },
  {
   "cell_type": "code",
   "execution_count": 32,
   "metadata": {},
   "outputs": [
    {
     "name": "stdout",
     "output_type": "stream",
     "text": [
      "r - ./obj/statistics.o\n"
     ]
    }
   ],
   "source": [
    "!ar -rv ./lib/libstat.a ./obj/statistics.o "
   ]
  },
  {
   "cell_type": "markdown",
   "metadata": {},
   "source": [
    "* `r`  - replace existing or insert new file(s) into the archive(替换库中存在de模块/插入新模块）\n",
    "\n",
    "* `v`  - be verbose(该选项用来显示执行操作选项的附加信息)"
   ]
  },
  {
   "cell_type": "code",
   "execution_count": 16,
   "metadata": {},
   "outputs": [
    {
     "name": "stdout",
     "output_type": "stream",
     "text": [
      " 驱动器 J 中的卷是 cmh\n",
      " 卷的序列号是 9C25-3306\n",
      "\n",
      " J:\\SEU\\SEE\\PySEE\\home\\notebook\\demo\\lib 的目录\n",
      "\n",
      "2021/01/04  15:54               874 libstat.a\n",
      "               1 个文件            874 字节\n",
      "               0 个目录 90,554,208,256 可用字节\n"
     ]
    }
   ],
   "source": [
    "!dir .\\lib\\libstat.*"
   ]
  },
  {
   "cell_type": "code",
   "execution_count": 7,
   "metadata": {},
   "outputs": [],
   "source": [
    "!del .\\obj\\statistics.o "
   ]
  },
  {
   "cell_type": "markdown",
   "metadata": {},
   "source": [
    "### Step 3 Using a static library "
   ]
  },
  {
   "cell_type": "code",
   "execution_count": 8,
   "metadata": {},
   "outputs": [
    {
     "name": "stdout",
     "output_type": "stream",
     "text": [
      "Overwriting ./src/statapp.c\n"
     ]
    }
   ],
   "source": [
    "%%file ./src/statapp.c\n",
    "\n",
    "#include <stdio.h> \n",
    "#include \"statistics.h\"\n",
    "\n",
    "int main() {\n",
    "     double a[] = {8, 4, 5, 3, 2};\n",
    "     int length = sizeof(a)/sizeof(double);  \n",
    "     printf(\"mean is %f\\n\", mean(a,length)); \n",
    "     return 0;\n",
    "}\n"
   ]
  },
  {
   "cell_type": "code",
   "execution_count": 17,
   "metadata": {},
   "outputs": [],
   "source": [
    "!gcc -c -o ./obj/statapp.o ./src/statapp.c -I./include/"
   ]
  },
  {
   "cell_type": "code",
   "execution_count": 18,
   "metadata": {},
   "outputs": [],
   "source": [
    "!gcc -o  ./bin/statappstatic ./obj/statapp.o -L./lib -lstat"
   ]
  },
  {
   "cell_type": "code",
   "execution_count": 19,
   "metadata": {},
   "outputs": [
    {
     "name": "stdout",
     "output_type": "stream",
     "text": [
      " 驱动器 J 中的卷是 cmh\n",
      " 卷的序列号是 9C25-3306\n",
      "\n",
      " J:\\SEU\\SEE\\PySEE\\home\\notebook\\demo\\bin 的目录\n",
      "\n",
      "2021/01/04  15:54           330,645 statappstatic.exe\n",
      "               1 个文件        330,645 字节\n",
      "               0 个目录 90,554,208,256 可用字节\n"
     ]
    }
   ],
   "source": [
    "!dir .\\bin\\statappstatic.*"
   ]
  },
  {
   "cell_type": "code",
   "execution_count": 20,
   "metadata": {},
   "outputs": [
    {
     "name": "stdout",
     "output_type": "stream",
     "text": [
      "mean is 4.400000\n"
     ]
    }
   ],
   "source": [
    "!.\\bin\\statappstatic.exe"
   ]
  },
  {
   "cell_type": "markdown",
   "metadata": {},
   "source": [
    "### Header Files and Libraries \n",
    "\n",
    "* `Header File`: When compiling the program, the **compiler** needs the **header** files to compile the source codes;\n",
    "\n",
    "* `libraries`: the **linker** needs the **libraries** to resolve external references from other object files or libraries. \n",
    "\n",
    "The `compiler` and `linker` will not find the `headers/libraries` unless you set **the appropriate options**\n",
    "\n",
    "* **1 Searching for Header Files**\n",
    "\n",
    "   **`-Idir`:** The include-paths are specified via **-Idir** option (`uppercase` 'I' followed by the directory path. \n",
    "   \n",
    "   \n",
    "* **2 Searching for libraries Files**\n",
    "\n",
    "   **`-Ldir`**: The library-path is specified via **-Ldir** option (`uppercase` 'L' followed by the directory path）. \n",
    "\n",
    "\n",
    "* **3 Linking the library**\n",
    "\n",
    "   **`-llibname`**: Link with the library name **without** the `lib` prefix and the `a` extensions.\n",
    "  \n",
    "                                                                 \n",
    "                                                                    "
   ]
  },
  {
   "cell_type": "markdown",
   "metadata": {},
   "source": [
    "\n",
    "## 2 The shared library\n",
    "\n"
   ]
  },
  {
   "cell_type": "markdown",
   "metadata": {},
   "source": [
    "\n",
    "we use the same source file`statistics.c/h` to compile into a shared library "
   ]
  },
  {
   "cell_type": "markdown",
   "metadata": {},
   "source": [
    "#### Step 1: Compiling with Position Independent Code\n",
    "\n",
    "We compile the C file with `Position Independent Code( PIC )` \n",
    "\n",
    "\n",
    "* **`-fPIC`** : stands for `Position Independent Code`(位置无关代码)\n",
    "   \n",
    "   the generated machine code is `not dependent` on being located at a `specific address` in order to `work`.\n",
    "   \n",
    "   Position-independent code can be `executed` at `any memory address`\n",
    "     "
   ]
  },
  {
   "cell_type": "code",
   "execution_count": 21,
   "metadata": {},
   "outputs": [],
   "source": [
    "!gcc -c -O3 -Wall -fPIC  -o  ./obj/statistics.o  ./src/statistics.c -I./include/"
   ]
  },
  {
   "cell_type": "markdown",
   "metadata": {},
   "source": [
    "#### Step 2: Creating a shared library from an object file\n",
    "\n",
    "* -shared : creating a shared library"
   ]
  },
  {
   "cell_type": "code",
   "execution_count": 22,
   "metadata": {},
   "outputs": [],
   "source": [
    "!gcc -shared -o  ./bin/libstat.dll ./obj/statistics.o"
   ]
  },
  {
   "cell_type": "markdown",
   "metadata": {},
   "source": [
    "**Makefile of Building the shared library**"
   ]
  },
  {
   "cell_type": "code",
   "execution_count": 23,
   "metadata": {},
   "outputs": [
    {
     "name": "stdout",
     "output_type": "stream",
     "text": [
      "Overwriting ./makestatso.mk\n"
     ]
    }
   ],
   "source": [
    "%%file ./makestatso.mk\n",
    "\n",
    "CC=gcc\n",
    "CFLAGS=-O3 -Wall -fPIC \n",
    "\n",
    "SRCDIR=./src/\n",
    "OBJDIR=./obj/\n",
    "BINDIR=./bin/\n",
    "INCDIR=./include/\n",
    "\n",
    "# Linux\n",
    "#LIB=libstat.so\n",
    "# Windows\n",
    "LIB=libstat.dll\n",
    "\n",
    "all:  $(LIB)\n",
    "\n",
    "$(LIB): statobj\n",
    "\t $(CC) -shared -o $(BINDIR)$@ $(OBJDIR)statistics.o\n",
    "\t del .\\obj\\statistics.o\n",
    "    \n",
    "statobj: $(SRCDIR)statistics.c\n",
    "\t $(CC) -c $(CFLAGS)  -o $(OBJDIR)statistics.o $(SRCDIR)statistics.c -I$(INCDIR)\n",
    "     \n"
   ]
  },
  {
   "cell_type": "code",
   "execution_count": 24,
   "metadata": {},
   "outputs": [
    {
     "name": "stdout",
     "output_type": "stream",
     "text": [
      "gcc -c -O3 -Wall -fPIC   -o ./obj/statistics.o ./src/statistics.c -I./include/\n",
      "gcc -shared -o ./bin/libstat.dll ./obj/statistics.o\n",
      "del .\\obj\\statistics.o\n"
     ]
    }
   ],
   "source": [
    "!make -f makestatso.mk"
   ]
  },
  {
   "cell_type": "code",
   "execution_count": 25,
   "metadata": {},
   "outputs": [
    {
     "name": "stdout",
     "output_type": "stream",
     "text": [
      " 驱动器 J 中的卷是 cmh\n",
      " 卷的序列号是 9C25-3306\n",
      "\n",
      " J:\\SEU\\SEE\\PySEE\\home\\notebook\\demo\\bin 的目录\n",
      "\n",
      "2021/01/04  15:50               874 libstat-static.a\n",
      "2021/01/04  15:54           309,891 libstat.dll\n",
      "               2 个文件        310,765 字节\n",
      "               0 个目录 90,554,212,352 可用字节\n"
     ]
    }
   ],
   "source": [
    "!dir .\\bin\\libstat*.*"
   ]
  },
  {
   "cell_type": "markdown",
   "metadata": {},
   "source": [
    "#### Step3: Using the shared library"
   ]
  },
  {
   "cell_type": "markdown",
   "metadata": {},
   "source": [
    "**Linking the library**\n",
    "\n",
    "   **`-llibname`**: Link with the library name **without** the `lib` prefix and the `.dll/.so` extensions.\n",
    "  \n",
    "   Windows\n",
    "   ```bash\n",
    "      -L./bin/ -lstat\n",
    "  ```\n",
    ">**Linux**\n",
    "> ```bash\n",
    ">   -L./bin/ -lstat -Wl,-rpath=./bin/  \n",
    "> ```\n",
    ">* **`-Wl,option`**\n",
    ">\n",
    ">    Pass option as an option to the **linker**. \n",
    ">    \n",
    ">    If option contains `commas`, it is split into multiple options at the commas. \n",
    ">    \n",
    ">    You can use this syntax to pass an argument to the option.\n",
    ">      \n",
    ">   \n",
    ">* **`-rpath=dir`** \n",
    ">\n",
    ">   **Add a directory to the runtime library search path**. This is used when linking an >executable with shared objects. All -rpath arguments are concatenated and passed to the >runtime linker, which uses them to locate shared objects at runtime. \n",
    "   \n"
   ]
  },
  {
   "cell_type": "markdown",
   "metadata": {},
   "source": [
    "We use the **same** code ` ./src/statApp.c` in static example to demonstrates calling the shared library \n",
    "\n"
   ]
  },
  {
   "cell_type": "markdown",
   "metadata": {},
   "source": [
    "**Makefile**"
   ]
  },
  {
   "cell_type": "code",
   "execution_count": 26,
   "metadata": {},
   "outputs": [
    {
     "name": "stdout",
     "output_type": "stream",
     "text": [
      "Overwriting ./makestatsoapp.mk\n"
     ]
    }
   ],
   "source": [
    "%%file ./makestatsoapp.mk\n",
    "\n",
    "SRCDIR= ./src/\n",
    "OBJDIR= ./obj/\n",
    "BINDIR= ./bin/\n",
    "INCDIR=./include/\n",
    "\n",
    "all: statappso\n",
    "\n",
    "statappso: statobj  \n",
    "\tgcc -o $(BINDIR)$@ $(OBJDIR)statapp.o -L$(BINDIR) -lstat\n",
    "#\tgcc -o $(BINDIR)$@ $(OBJDIR)statApp.o -L$(BINDIR) -lstat -Wl,-rpath=./bin/  \n",
    "\n",
    "statobj: $(SRCDIR)statapp.c \n",
    "\tgcc -c -o $(OBJDIR)statapp.o $(SRCDIR)statapp.c -I$(INCDIR)"
   ]
  },
  {
   "cell_type": "code",
   "execution_count": 27,
   "metadata": {},
   "outputs": [
    {
     "name": "stdout",
     "output_type": "stream",
     "text": [
      "gcc -c -o ./obj/statapp.o ./src/statapp.c -I./include/\n",
      "gcc -o ./bin/statappso ./obj/statapp.o -L./bin/ -lstat\n"
     ]
    }
   ],
   "source": [
    "!make -f makestatsoapp.mk"
   ]
  },
  {
   "cell_type": "code",
   "execution_count": 28,
   "metadata": {},
   "outputs": [
    {
     "name": "stdout",
     "output_type": "stream",
     "text": [
      " 驱动器 J 中的卷是 cmh\n",
      " 卷的序列号是 9C25-3306\n",
      "\n",
      " J:\\SEU\\SEE\\PySEE\\home\\notebook\\demo\\bin 的目录\n",
      "\n",
      "2021/01/04  15:55           330,674 statappso.exe\n",
      "2021/01/04  15:54           330,645 statappstatic.exe\n",
      "               2 个文件        661,319 字节\n",
      "               0 个目录 90,554,212,352 可用字节\n"
     ]
    }
   ],
   "source": [
    "!dir .\\bin\\statapp*.*"
   ]
  },
  {
   "cell_type": "code",
   "execution_count": 29,
   "metadata": {},
   "outputs": [
    {
     "name": "stdout",
     "output_type": "stream",
     "text": [
      "mean is 4.400000\n"
     ]
    }
   ],
   "source": [
    "!.\\bin\\statappSo"
   ]
  },
  {
   "cell_type": "markdown",
   "metadata": {},
   "source": [
    "## 3 Building  a Shared Library with Multi-source\n",
    "\n",
    "### 3.1  The multi-source files\n",
    "The shared library we will build consist of the multi-source files\n",
    "\n",
    "* statistics.c/h\n",
    "* funs.c/h\n",
    "\n",
    "**funs.c/h N!**"
   ]
  },
  {
   "cell_type": "code",
   "execution_count": 69,
   "metadata": {},
   "outputs": [
    {
     "name": "stdout",
     "output_type": "stream",
     "text": [
      "Overwriting ./include/funs.h\n"
     ]
    }
   ],
   "source": [
    "%%file ./include/funs.h\n",
    "\n",
    "#ifndef FUNS_H\n",
    "#define FUNS_H\n",
    "\n",
    "int factorial(int n);\n",
    "\n",
    "#endif"
   ]
  },
  {
   "cell_type": "code",
   "execution_count": 70,
   "metadata": {},
   "outputs": [
    {
     "name": "stdout",
     "output_type": "stream",
     "text": [
      "Overwriting ./src/funs.c\n"
     ]
    }
   ],
   "source": [
    "%%file ./src/funs.c\n",
    "\n",
    "#include \"funs.h\"\n",
    "\n",
    "// The factorial of a positive integer n, denoted by n!, \n",
    "//    is the product of all positive integers less than or equal to n. \n",
    "//  For example,5!=5*4*3*2*1=120\n",
    "//  The value of 0! is 1 \n",
    "int factorial(int n)\n",
    "{\n",
    "    if (n == 0 ) {\n",
    "        return 1;\n",
    "    }\n",
    "    else \n",
    "    {\n",
    "        return n * factorial(n - 1);\n",
    "    }\n",
    "}"
   ]
  },
  {
   "cell_type": "markdown",
   "metadata": {},
   "source": [
    "### 3.2 Building  into One Shared Library\n",
    "\n",
    "**Makefile**\n",
    "\n",
    "```make\n",
    "SRCS=$(SRCDIR)statistics.c \\\n",
    "    $(SRCDIR)funs.c \n",
    "```    "
   ]
  },
  {
   "cell_type": "code",
   "execution_count": 71,
   "metadata": {},
   "outputs": [
    {
     "name": "stdout",
     "output_type": "stream",
     "text": [
      "Overwriting ./makefile-libfuns.mk\n"
     ]
    }
   ],
   "source": [
    "%%file ./makefile-libfuns.mk\n",
    "\n",
    "CC=gcc\n",
    "CFLAGS=-O3 -Wall -fPIC\n",
    "\n",
    "SRCDIR= ./src/\n",
    "OBJDIR= ./obj/\n",
    "BINDIR= ./bin/\n",
    "INCDIR= ./include/\n",
    "\n",
    "# Linux\n",
    "# LIB=libfuns.so \n",
    "LIB=libfuns.dll\n",
    "\n",
    "SRCS=$(SRCDIR)statistics.c \\\n",
    "    $(SRCDIR)funs.c \n",
    "\n",
    "# non-path filename\n",
    "filename=$(notdir $(SRCS))\n",
    "\n",
    "# the obj target of a source code using the pattern rule\n",
    "OBJS=$(patsubst %.c,$(OBJDIR)%.o,$(filename))\n",
    "\n",
    "all:$(LIB)\n",
    "    \n",
    "$(LIB): $(OBJS)  \n",
    "\t$(CC) -shared -o $(BINDIR)$@ $(OBJS) \n",
    "\n",
    "# the pattern rule: one step rule for multiple source files\n",
    "$(OBJS):$(SRCS)\n",
    "\t$(CC) $(CFLAGS) -o $@ -c $(SRCDIR)$(patsubst  %.o,%.c,$(notdir $@))  -I$(INCDIR)"
   ]
  },
  {
   "cell_type": "code",
   "execution_count": 72,
   "metadata": {},
   "outputs": [
    {
     "name": "stdout",
     "output_type": "stream",
     "text": [
      "gcc -O3 -Wall -fPIC -o obj/statistics.o -c ./src/statistics.c  -I./include/\n",
      "gcc -O3 -Wall -fPIC -o obj/funs.o -c ./src/funs.c  -I./include/\n",
      "gcc -shared -o ./bin/libfuns.dll ./obj/statistics.o ./obj/funs.o \n"
     ]
    }
   ],
   "source": [
    "!make -f makefile-libfuns.mk"
   ]
  },
  {
   "cell_type": "code",
   "execution_count": 73,
   "metadata": {},
   "outputs": [
    {
     "name": "stdout",
     "output_type": "stream",
     "text": [
      " 驱动器 J 中的卷是 cmh\n",
      " 卷的序列号是 9C25-3306\n",
      "\n",
      " J:\\SEU\\SEE\\PySEE\\home\\notebook\\demo\\bin 的目录\n",
      "\n",
      "2021/01/03  16:47           310,189 libfuns.dll\n",
      "               1 个文件        310,189 字节\n",
      "               0 个目录 90,840,621,056 可用字节\n"
     ]
    }
   ],
   "source": [
    "!dir .\\bin\\libf*.dll"
   ]
  },
  {
   "cell_type": "markdown",
   "metadata": {},
   "source": [
    "### 3.3 Building a client executable \n",
    "\n",
    "The source code `\"funsApp.c\"` demonstrates calling the shared library's functions:\n"
   ]
  },
  {
   "cell_type": "code",
   "execution_count": 74,
   "metadata": {},
   "outputs": [
    {
     "name": "stdout",
     "output_type": "stream",
     "text": [
      "Overwriting ./src/funsApp.c\n"
     ]
    }
   ],
   "source": [
    "%%file ./src/funsApp.c\n",
    "\n",
    "#include <stdio.h> \n",
    "#include \"statistics.h\"\n",
    "#include \"funs.h\"\n",
    "\n",
    "int main() {\n",
    "    \n",
    "     double a[] = {8, 4, 5, 3, 2};\n",
    "     int len= sizeof(a)/sizeof(*a);\n",
    "     printf(\"mena is %f\\n\", mean(a,  len)); \n",
    "    \n",
    "     int n =5;\n",
    "     printf(\"the factorial of  %d is %d\\n\",n,factorial(n));  // 5!=120\n",
    "     return 0;\n",
    "}"
   ]
  },
  {
   "cell_type": "markdown",
   "metadata": {},
   "source": [
    "#### Windows "
   ]
  },
  {
   "cell_type": "code",
   "execution_count": 75,
   "metadata": {},
   "outputs": [],
   "source": [
    "!gcc -c -o ./obj/funsApp.o ./src/funsApp.c -I./include/\n",
    "!gcc -o  ./bin/funsApp ./obj/funsApp.o  -L./bin/ -lfuns"
   ]
  },
  {
   "cell_type": "code",
   "execution_count": 76,
   "metadata": {},
   "outputs": [
    {
     "name": "stdout",
     "output_type": "stream",
     "text": [
      "mena is 4.400000\n",
      "the factorial of  5 is 120\n"
     ]
    }
   ],
   "source": [
    "!.\\bin\\funsApp"
   ]
  },
  {
   "cell_type": "markdown",
   "metadata": {},
   "source": [
    "#### Linux"
   ]
  },
  {
   "cell_type": "code",
   "execution_count": null,
   "metadata": {},
   "outputs": [],
   "source": [
    "!gcc -c -o ./obj/funsApp.o ./src/funsApp.c -I./include/\n",
    "!gcc -o  ./bin/funsApp ./obj/funsApp.o  -L./bin/ -lfuns -Wl,-rpath=./bin/ "
   ]
  },
  {
   "cell_type": "code",
   "execution_count": null,
   "metadata": {},
   "outputs": [],
   "source": [
    "!./bin/funsApp"
   ]
  },
  {
   "cell_type": "markdown",
   "metadata": {},
   "source": []
  },
  {
   "cell_type": "markdown",
   "metadata": {},
   "source": [
    "## 4 The C/C++ Caller of CoolProp Library in Windows\n",
    "\n",
    "**Change working dir to `./notebook/coolpropdemo`**\n"
   ]
  },
  {
   "cell_type": "code",
   "execution_count": 1,
   "metadata": {},
   "outputs": [
    {
     "data": {
      "text/plain": [
       "'J:\\\\SEU\\\\SEE\\\\PySEE\\\\home\\\\notebook'"
      ]
     },
     "execution_count": 1,
     "metadata": {},
     "output_type": "execute_result"
    }
   ],
   "source": [
    "%pwd"
   ]
  },
  {
   "cell_type": "code",
   "execution_count": 2,
   "metadata": {},
   "outputs": [
    {
     "name": "stdout",
     "output_type": "stream",
     "text": [
      "J:\\SEU\\SEE\\PySEE\\home\\notebook\\coolpropdemo\n"
     ]
    }
   ],
   "source": [
    "%cd coolpropdemo"
   ]
  },
  {
   "cell_type": "markdown",
   "metadata": {},
   "source": [
    "### 4.1 The Static CoolProp Library\n",
    "\n",
    "* The Static CoolProp library(64) on Windows: `./lib/libCoolProp.a` （the size is is too large,so it is not provided in the PySEE/home) "
   ]
  },
  {
   "cell_type": "code",
   "execution_count": 3,
   "metadata": {},
   "outputs": [
    {
     "name": "stdout",
     "output_type": "stream",
     "text": [
      "Overwriting ./mainstatic.c\n"
     ]
    }
   ],
   "source": [
    "%%file ./mainstatic.c\n",
    "\n",
    "/* \n",
    "The example use the static library of CoolProp in c\n",
    "\n",
    "The library: ./lib/libCoolProp.a\n",
    "\n",
    "g++ -o ./bin/mainstatic.exe   main.c -I./include -L./lib -lCoolProp\n",
    "       \n",
    "./bin/mainstatic\n",
    "\n",
    "*/\n",
    "\n",
    "#include \"CoolPropLib.h\"\n",
    "#include <stdio.h>\n",
    "\n",
    "int main() {\n",
    "     double value=PropsSI(\"P\",\"T\",273.15+0,\"Q\",0,\"R134a\");\n",
    "     printf(\"%f\\n\", value); \n",
    "     return 0;\n",
    "}\n"
   ]
  },
  {
   "cell_type": "code",
   "execution_count": 4,
   "metadata": {},
   "outputs": [],
   "source": [
    "!g++ -o ./bin/mainstatic.exe   mainstatic.c -I./include -L./lib -lCoolProp"
   ]
  },
  {
   "cell_type": "code",
   "execution_count": 9,
   "metadata": {},
   "outputs": [
    {
     "name": "stdout",
     "output_type": "stream",
     "text": [
      "292803.182339\n"
     ]
    }
   ],
   "source": [
    "!.\\bin\\mainstatic.exe"
   ]
  },
  {
   "cell_type": "markdown",
   "metadata": {},
   "source": [
    "### 4.2 The C/C++ Caller of CoolProp Shared Library in Windows\n",
    "\n",
    "* [Official Doc: CoolProp Shared Library](http://www.coolprop.org/coolprop/wrappers/SharedLibrary/index.html#)\n",
    "\n",
    "The example use a MinGW64 64-bit dll: **libCoolProp.dll** of CoolProp\n",
    "\n",
    "**The Windows Shared Library**\n",
    "\n",
    "1. The official Windows Shared Library: `CoolProp_x64.dll`\n",
    "\n",
    "2. The Shared Library with MinGW64: `libCoolProp.dll`\n",
    "\n"
   ]
  },
  {
   "cell_type": "markdown",
   "metadata": {},
   "source": [
    "#### C Caller"
   ]
  },
  {
   "cell_type": "code",
   "execution_count": null,
   "metadata": {},
   "outputs": [],
   "source": [
    "# %load ./main.c\n",
    "\n",
    "/* \n",
    "The example use the shared library of CoolProp in c\n",
    "\n",
    "The library: libCoolProp.dll or CoolProp_x64.dll\n",
    "\n",
    "g++ -o ./bin/main.exe  -DCOOLPROP_LIB main.c -I./include -L./bin -lCoolProp\n",
    "       \n",
    "./bin/main\n",
    "\n",
    "*/\n",
    "\n",
    "#include \"CoolPropLib.h\"\n",
    "#include <stdio.h>\n",
    "\n",
    "int main() {\n",
    "     double value=PropsSI(\"P\",\"T\",273.15+0,\"Q\",0,\"R134a\");\n",
    "     printf(\"%f\\n\", value); \n",
    "     return 0;\n",
    "}\n"
   ]
  },
  {
   "cell_type": "markdown",
   "metadata": {},
   "source": [
    "Compiling"
   ]
  },
  {
   "cell_type": "code",
   "execution_count": 39,
   "metadata": {},
   "outputs": [],
   "source": [
    "!g++  -o ./bin/main  -DCOOLPROP_LIB main.c -I./include -L./bin -lCoolProp"
   ]
  },
  {
   "cell_type": "markdown",
   "metadata": {},
   "source": [
    "Run"
   ]
  },
  {
   "cell_type": "code",
   "execution_count": 40,
   "metadata": {},
   "outputs": [
    {
     "name": "stdout",
     "output_type": "stream",
     "text": [
      "292803.182339\n"
     ]
    }
   ],
   "source": [
    "!.\\bin\\main"
   ]
  },
  {
   "cell_type": "markdown",
   "metadata": {},
   "source": [
    "#### C++ Caller"
   ]
  },
  {
   "cell_type": "code",
   "execution_count": null,
   "metadata": {},
   "outputs": [],
   "source": [
    "# %load ./demo.cpp\n",
    "/* \n",
    "The example use the shared library of CoolProp in c\n",
    "\n",
    "The library: libCoolProp.dll or CoolProp_x64.dll\n",
    "\n",
    "g++  -o ./bin/demo.exe  -DCOOLPROP_LIB demo.cpp -I./include -L./bin -lCoolProp\n",
    "\n",
    "./bin/demo\n",
    "\n",
    "*/\n",
    "\n",
    "#include \"CoolPropLib.h\"\n",
    "#include <iostream>\n",
    "#include <iomanip>\n",
    "\n",
    "int main()\n",
    "{\n",
    "    double value=PropsSI(\"P\",\"T\",273.15+0,\"Q\",0,\"R134a\");\n",
    "    std::cout << std::setiosflags(std::ios::fixed)  << value << std::endl;\n",
    "    return 1;\n",
    "}"
   ]
  },
  {
   "cell_type": "markdown",
   "metadata": {},
   "source": [
    "Compiling"
   ]
  },
  {
   "cell_type": "code",
   "execution_count": 6,
   "metadata": {},
   "outputs": [],
   "source": [
    "!g++  -o ./bin/demo.exe  -DCOOLPROP_LIB demo.cpp -I./include -L./bin -lCoolProp"
   ]
  },
  {
   "cell_type": "markdown",
   "metadata": {},
   "source": [
    "Run"
   ]
  },
  {
   "cell_type": "code",
   "execution_count": 7,
   "metadata": {},
   "outputs": [
    {
     "name": "stdout",
     "output_type": "stream",
     "text": [
      "292803.182339\n"
     ]
    }
   ],
   "source": [
    "!.\\bin\\demo"
   ]
  },
  {
   "cell_type": "markdown",
   "metadata": {},
   "source": [
    "### 4.3 The Size of Callers "
   ]
  },
  {
   "cell_type": "code",
   "execution_count": 8,
   "metadata": {},
   "outputs": [
    {
     "name": "stdout",
     "output_type": "stream",
     "text": [
      " 驱动器 J 中的卷是 cmh\n",
      " 卷的序列号是 9C25-3306\n",
      "\n",
      " J:\\SEU\\SEE\\PySEE\\home\\notebook\\coolpropdemo\\bin 的目录\n",
      "\n",
      "2021/01/04  02:26         3,134,599 demo.exe\n",
      "2021/01/04  02:21           330,685 main.exe\n",
      "2021/01/04  02:25        28,187,475 mainstatic.exe\n",
      "               3 个文件     31,652,759 字节\n",
      "               0 个目录 90,392,883,200 可用字节\n"
     ]
    }
   ],
   "source": [
    "!dir .\\bin\\*.exe"
   ]
  },
  {
   "cell_type": "code",
   "execution_count": null,
   "metadata": {},
   "outputs": [],
   "source": []
  }
 ],
 "metadata": {
  "kernelspec": {
   "display_name": "Python 3",
   "language": "python",
   "name": "python3"
  },
  "language_info": {
   "codemirror_mode": {
    "name": "ipython",
    "version": 3
   },
   "file_extension": ".py",
   "mimetype": "text/x-python",
   "name": "python",
   "nbconvert_exporter": "python",
   "pygments_lexer": "ipython3",
   "version": "3.8.7"
  },
  "toc": {
   "base_numbering": 1,
   "nav_menu": {},
   "number_sections": false,
   "sideBar": true,
   "skip_h1_title": false,
   "title_cell": "Table of Contents",
   "title_sidebar": "Contents",
   "toc_cell": false,
   "toc_position": {
    "height": "calc(100% - 180px)",
    "left": "10px",
    "top": "150px",
    "width": "165px"
   },
   "toc_section_display": true,
   "toc_window_display": true
  },
  "widgets": {
   "state": {},
   "version": "1.1.2"
  }
 },
 "nbformat": 4,
 "nbformat_minor": 2
}
