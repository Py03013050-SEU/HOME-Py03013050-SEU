{
 "cells": [
  {
   "cell_type": "markdown",
   "metadata": {},
   "source": [
    "# Modern C++\n",
    "\n",
    "[Microsoft: Welcome back to C++ - Modern C++](https://docs.microsoft.com/en-us/cpp/cpp/welcome-back-to-cpp-modern-cpp?view=vs-2019)\n",
    "\n",
    "One of the original requirements for C++ was **backward compatibility** with the C language. \n",
    "\n",
    "As a result, C++ has always permitted C-style programming, with raw pointers, arrays, null-terminated character strings, and other features. \n",
    "\n",
    "They may enable great performance, but can also **spawn bugs and complexity**\n",
    "\n",
    "The evolution of C++ has emphasized features that greatly reduce the need to use C-style idioms.\n",
    "\n",
    "From the advent of C++98 to the official finalization of C++11,it has accumulated over a decade. C++14/17 is an important complement and optimization for C++11,and C++20 brings this language to the door of **modernization**. \n",
    "\n",
    "* **Modern C++（C++11/14/17/20) code is simpler, safer, more elegant, and still as fast as ever.**\n",
    "\n",
    "The old C-programming facilities are there when you need them, but with modern C++ code you should need them less and less. \n",
    "\n",
    "![moderncpp](./img/cpp/moderncpp.png)\n",
    "\n",
    "\n",
    "**Reference**\n",
    "* Ivor Horton,Peter Van Weert: Beginning C++17:From Novice to Professional(Fifth Edition),Ivor Horton and Peter Van Weert,2018 \n",
    "\n",
    "  * Code: https://github.com/Apress/beg-cplusplus17\n",
    "\n",
    " \n",
    "\n",
    "**Modern C++ Similars of Python Tuple,List,Dict**\n",
    "\n",
    "| Python  |C++     |\n",
    "| ------- |:----------:|\n",
    "| tuple   | std::tuple|\n",
    "| list    | std::vectors |\n",
    "| dict    |  std::unordered_map |\n",
    "\n",
    "\n",
    "\n",
    "\n",
    "## 1 std::tuple\n",
    "\n",
    "Python has had tuples pretty much since the beginning. \n",
    "\n",
    "C++ added `tuple` to the standard library in `C++11`. The proposal even mentions Python as an inspiration:\n",
    "\n",
    "tuple is a fixed-size collection of `heterogeneous` values.\n",
    "\n",
    "* `std::get`: Get the value of a position in the tuple\n",
    "\n",
    "* C++17, decompose a tuple into individual vars"
   ]
  },
  {
   "cell_type": "code",
   "execution_count": 5,
   "metadata": {},
   "outputs": [
    {
     "name": "stdout",
     "output_type": "stream",
     "text": [
      "Overwriting ./demo/src/tuple.cpp\n"
     ]
    }
   ],
   "source": [
    "%%file ./demo/src/tuple.cpp\n",
    "#include <string>\n",
    "#include <iostream>\n",
    "#include <tuple>\n",
    "\n",
    "using namespace std;\n",
    "\n",
    "int main()\n",
    "{\n",
    "  tuple<int,string,float> tup{1,\"str2\",3.21};\n",
    "  cout << get<0>(tup)<<\" \"<<get<1>(tup)<<endl;\n",
    "  // C++17, decompose a tuple into individual vars\n",
    "  auto [a, b, c] = tup;\n",
    "  cout << a << \", \" << b << \", \" << c << \"\\n\";\n",
    "  return 0;\n",
    "}"
   ]
  },
  {
   "cell_type": "code",
   "execution_count": 6,
   "metadata": {},
   "outputs": [],
   "source": [
    "!g++ -std=c++17 -o ./demo/bin/tuple ./demo/src/tuple.cpp"
   ]
  },
  {
   "cell_type": "code",
   "execution_count": 7,
   "metadata": {},
   "outputs": [
    {
     "name": "stdout",
     "output_type": "stream",
     "text": [
      "1 str2\n",
      "1, str2, 3.21\n"
     ]
    }
   ],
   "source": [
    "!.\\demo\\bin\\tuple"
   ]
  },
  {
   "cell_type": "markdown",
   "metadata": {},
   "source": [
    "### -std=standard\n",
    " \n",
    "To select C++ standard in GCC,use the option\n",
    "\n",
    "```\n",
    "-std=standard \n",
    "```\n",
    "\n",
    "The default standard  for GCC 6.1 and above is **-std=gnu++14**\n",
    "\n",
    "You can use command-line flag `-std` to explicitly specify the C++ standard. For example,\n",
    "\n",
    "* -std=c++98, or -std=gnu++98 (C++98 with GNU extensions)\n",
    "* -std=c++11, or -std=gnu++11 (C++11 with GNU extensions)\n",
    "* -std=c++14, or -std=gnu++14 (C++14 with GNU extensions), **default mode for GCC 6.1 and above**.\n",
    "* -std=c++17, or -std=gnu++17 (C++17 with GNU extensions), experimental.\n",
    "* -std=c++2a, or -std=gnu++2a (C++2a with GNU extensions), experimental.\n",
    "```\n",
    "\n",
    "[The GNU Project:](https://www.gnu.org/) GNU is a Unit-like operating system that is free software—that is, it respects users' freedom.\n"
   ]
  },
  {
   "cell_type": "markdown",
   "metadata": {},
   "source": [
    "### Uniform initialization\n",
    "```cpp\n",
    "tuple<int,string,float> tup{1,\"str2\",3.21};\n",
    "```\n",
    "In modern C++, you can use `brace{} initialization for any type`.\n",
    "```\n",
    "int i{10};\n",
    "```\n",
    "This form of initialization is especially convenient when initializing `arrays, vectors, or other containers`. "
   ]
  },
  {
   "cell_type": "markdown",
   "metadata": {},
   "source": [
    "### auto instead of explicit type names\n",
    "```cpp\n",
    "auto [a, b, c] = tup;\n",
    "``` \n",
    "C++11 introduced the `auto` keyword for use in `variable, function, and template declarations`. \n",
    "\n",
    "`auto` tells the compiler to `deduce the type of the object from its initialization expression.` so that you don't have to type it explicitly. \n",
    "\n",
    "```cpp\n",
    "int j = 0;  // Variable j is explicitly type int.\n",
    "auto k = 0; // Variable k is implicitly type int because 0 is an integer.\n",
    "```"
   ]
  },
  {
   "cell_type": "markdown",
   "metadata": {},
   "source": [
    "## 2 std::vectors\n",
    "\n",
    " std::vectors \n",
    "\n",
    "`Vectors` are `sequence containers` representing arrays that can `change in size`.\n",
    "\n",
    "`std::vectors`has features similar to Python lists. Which data structure you want to choose depends on your requirements.\n",
    "\n"
   ]
  },
  {
   "cell_type": "code",
   "execution_count": 8,
   "metadata": {},
   "outputs": [
    {
     "name": "stdout",
     "output_type": "stream",
     "text": [
      "Writing ./demo/src/vector.cpp\n"
     ]
    }
   ],
   "source": [
    "%%file ./demo/src/vector.cpp\n",
    "#include <iostream>\n",
    "#include <vector>\n",
    "\n",
    "using namespace std;\n",
    "\n",
    "int main()\n",
    "{\n",
    "    vector<int> myList;\n",
    "    for(int i = 0; i < 10; i++)\n",
    "        myList.push_back(i);\n",
    "    cout <<myList[2]<<endl; \n",
    "    \n",
    "    for (auto &item : myList)\n",
    "        cout << item << \" \";\n",
    "    cout << endl;\n",
    "}"
   ]
  },
  {
   "cell_type": "code",
   "execution_count": 9,
   "metadata": {},
   "outputs": [],
   "source": [
    "!g++  -o ./demo/bin/vector ./demo/src/vector.cpp"
   ]
  },
  {
   "cell_type": "code",
   "execution_count": 10,
   "metadata": {},
   "outputs": [
    {
     "name": "stdout",
     "output_type": "stream",
     "text": [
      "2\n",
      "0 1 2 3 4 5 6 7 8 9 \n"
     ]
    }
   ],
   "source": [
    "!.\\demo\\bin\\vector"
   ]
  },
  {
   "cell_type": "markdown",
   "metadata": {},
   "source": [
    "### Range-based for loops\n",
    "\n",
    "`C-style iteration` over arrays and containers is prone to `indexing errors` and is also `tedious to type`.\n",
    "```cpp\n",
    "for(int i = 0; i < 10; i++)\n",
    "        myList.push_back(i);\n",
    "```\n",
    "To eliminate these errors, and make your code more readable, use `range-based for loops` with both Standard Library containers and raw arrays. \n",
    "\n",
    "```cpp\n",
    "for (auto &item : myList)\n",
    "        cout << item << \" \";\n",
    "```\n",
    "\n",
    ">Ref:[Using std::vector and std::string to read CSV files](http://localhost:8890/notebooks/Unit8-4-Python-C-API.ipynb)"
   ]
  },
  {
   "cell_type": "markdown",
   "metadata": {},
   "source": [
    "## 3 std::unordered_map\n",
    "\n",
    "The closest match in `C++` would be an \n",
    "\n",
    "```cpp\n",
    "std::unordered_map<key type, value type>\n",
    "```\n",
    "\n",
    "`Unordered map` is an `associative container` that contains key-value pairs with `unique` keys.\n",
    "\n",
    "This is a` hash` table mapping `keys` to `values`.\n",
    "\n",
    "Search, insertion, and removal of elements have average constant-time complexity.\n",
    "\n",
    "### 3.1 C++11\n",
    "\n",
    "The values have the same type of integer\n",
    "\n",
    "```cpp\n",
    "   unordered_map<string, int> dishes = {{\"eggs\",  2}, {\"sausage\", 1},{ \"bacon\", 1 }, {\"spam\", 500}}\n",
    "```"
   ]
  },
  {
   "cell_type": "code",
   "execution_count": 11,
   "metadata": {},
   "outputs": [
    {
     "name": "stdout",
     "output_type": "stream",
     "text": [
      "Writing ./demo/src/dict.cpp\n"
     ]
    }
   ],
   "source": [
    "%%file ./demo/src/dict.cpp\n",
    "#include <string>\n",
    "#include <iostream>\n",
    "#include <unordered_map>\n",
    "\n",
    "using namespace std;\n",
    "\n",
    "int main()\n",
    "{\n",
    "   unordered_map<string, int> dishes = {{\"eggs\",  2}, {\"sausage\", 1},{ \"bacon\", 1 }, {\"spam\", 500}};\n",
    "   cout << dishes[\"eggs\"] << endl; \n",
    "   for(auto &it: dishes){\n",
    "        cout<<\"key = \"<<it.first<<\" value = \"<<it.second<<endl;\n",
    "   }\n",
    "   return 0; \n",
    "}"
   ]
  },
  {
   "cell_type": "code",
   "execution_count": 12,
   "metadata": {},
   "outputs": [],
   "source": [
    "!g++ -o  ./demo/bin/dict ./demo/src/dict.cpp"
   ]
  },
  {
   "cell_type": "code",
   "execution_count": 13,
   "metadata": {},
   "outputs": [
    {
     "name": "stdout",
     "output_type": "stream",
     "text": [
      "2\n",
      "key = spam value = 500\n",
      "key = bacon value = 1\n",
      "key = sausage value = 1\n",
      "key = eggs value = 2\n"
     ]
    }
   ],
   "source": [
    "!.\\demo\\bin\\dict"
   ]
  },
  {
   "cell_type": "markdown",
   "metadata": {},
   "source": [
    "### 3.2  C++17 `any`\n",
    "\n",
    "The values have the different types\n",
    "\n",
    "`any` is one of the newest features of C++17 that provides a type-safe container to store single value of any type.\n",
    "```cpp\n",
    "unordered_map<string, any> student = {{\"name\", \"zhangshan\"}, {\"age\", 20}};\n",
    "```"
   ]
  },
  {
   "cell_type": "code",
   "execution_count": 14,
   "metadata": {},
   "outputs": [
    {
     "name": "stdout",
     "output_type": "stream",
     "text": [
      "Writing ./demo/src/dictany.cpp\n"
     ]
    }
   ],
   "source": [
    "%%file ./demo/src/dictany.cpp\n",
    "#include <string>\n",
    "#include <iostream>\n",
    "#include <unordered_map>\n",
    "#include <any>\n",
    "\n",
    "using namespace std;\n",
    "\n",
    "int main()\n",
    "{\n",
    "   unordered_map<string, any> student = {{\"name\", \"zhangshan\"}, {\"age\", 20}};\n",
    "   cout << any_cast<const char *>(student[\"name\"]) << endl;\n",
    "   cout << any_cast<int>(student[\"age\"]) << endl;\n",
    "   return 0;\n",
    "}\n"
   ]
  },
  {
   "cell_type": "code",
   "execution_count": 15,
   "metadata": {},
   "outputs": [],
   "source": [
    "!g++ -std=c++17 -o  ./demo/bin/dictany ./demo/src/dictany.cpp"
   ]
  },
  {
   "cell_type": "code",
   "execution_count": 16,
   "metadata": {},
   "outputs": [
    {
     "name": "stdout",
     "output_type": "stream",
     "text": [
      "zhangshan\n",
      "20\n"
     ]
    }
   ],
   "source": [
    "!.\\demo\\bin\\dictany"
   ]
  },
  {
   "cell_type": "markdown",
   "metadata": {},
   "source": [
    "## 4 CPP Version： The Node classs of PySimVCR\n",
    "\n",
    "![CPP Version](./img/vcr/vcrnodedemo.jpg)\n",
    "\n",
    "* std::vector\n",
    "\n",
    "* std::unordered_map and any(C++17)\n"
   ]
  },
  {
   "cell_type": "markdown",
   "metadata": {},
   "source": [
    "### Node Class in CPP\n",
    "\n",
    "* ./vcrcpp/include/node.hpp\n",
    "* ./vcrcpp/src/node.cpp"
   ]
  },
  {
   "cell_type": "code",
   "execution_count": null,
   "metadata": {},
   "outputs": [],
   "source": [
    "# %load ./vcrcpp/include/node.hpp\n",
    "/*--------------------------------------------- \n",
    "\n",
    "    node.cpp\n",
    "\n",
    "  by Cheng Maohua on 2017-04-06.\n",
    "-------------------------------------------------------*/\n",
    "\n",
    "#ifndef NODE_HPP\n",
    "#define NODE_HPP\n",
    "#define NULL_VALUE -100.0\n",
    "\n",
    "#include <string>\n",
    "#include <unordered_map>\n",
    "#include <any>\n",
    "#include <exception> \n",
    "#include \"CoolPropLib.h\"\n",
    "\n",
    "using namespace std;\n",
    "\n",
    "typedef unordered_map<string, any>  dictNode;\n",
    "\n",
    "class Node\n",
    "{\n",
    "  public:\n",
    "    // fields\n",
    "    string desc;\n",
    "    int id;\n",
    "  \n",
    "    double p;\n",
    "    double t;\n",
    "    double h;\n",
    "    double s;\n",
    "    double x;\n",
    "    double mdot;\n",
    "    bool stateok;\n",
    "    \n",
    "    // methods\n",
    "    Node(dictNode curdictnode);\n",
    "    ~Node();\n",
    "    \n",
    "    void tx();\n",
    "   \n",
    "   \n",
    "};\n",
    "\n",
    "#endif /* node_hpp */\n"
   ]
  },
  {
   "cell_type": "code",
   "execution_count": null,
   "metadata": {},
   "outputs": [],
   "source": [
    "# %load ./vcrcpp/src/node.cpp\n",
    "/*----------------------------------------------------\n",
    "\n",
    "  node.cpp\n",
    "----------------------------------------------------------*/\n",
    "\n",
    "#include \"node.hpp\"\n",
    "\n",
    "Node::Node(dictNode curdictnode)\n",
    "{\n",
    "    desc =any_cast<const char *>(curdictnode[\"desc\"]);\n",
    "    id = any_cast<int>(curdictnode[\"id\"]);\n",
    "    p = any_cast<double>(curdictnode[\"p\"]);\n",
    "    t = any_cast<double>(curdictnode[\"t\"]);\n",
    "    x = any_cast<double>(curdictnode[\"x\"]);\n",
    "    mdot=any_cast<double>(curdictnode[\"mdot\"]);\n",
    " \n",
    "    h=NULL_VALUE;\n",
    "    s=NULL_VALUE;\n",
    "    stateok = false;\n",
    "\n",
    "    if ((t!=NULL_VALUE) && (x!=NULL_VALUE))\n",
    "    {\n",
    "       tx();\n",
    "    }\n",
    "}\n",
    "\n",
    "Node::~Node()\n",
    "{\n",
    "\n",
    "}\n",
    "\n",
    "void Node::tx()\n",
    "{\n",
    "  try\n",
    "  {   \n",
    "       p =PropsSI(\"P\", \"T\", 273.15+t,\"Q\",x, \"R134a\")/1.0e6;\n",
    "       h = PropsSI(\"H\", \"T\", 273.15+t, \"Q\", x, \"R134a\")/1000;\n",
    "       s = PropsSI(\"S\", \"T\", 273.15+t, \"Q\", x, \"R134a\")/1000;\n",
    "       stateok = true;\n",
    "  }\n",
    "  catch(exception& e)\n",
    "  {\n",
    "     stateok = false;\n",
    "  }\n",
    " }\n",
    "\n",
    "\n"
   ]
  },
  {
   "cell_type": "markdown",
   "metadata": {},
   "source": [
    "### The demo of Node Class in CPP"
   ]
  },
  {
   "cell_type": "code",
   "execution_count": null,
   "metadata": {},
   "outputs": [],
   "source": [
    "# %load ./vcrcpp/demonode.cpp\n",
    "/*\n",
    "\n",
    "g++  -std=c++17 -o ./bin/demonode.exe  -DCOOLPROP_LIB demonode.cpp ./src/node.cpp -I./include -L./bin -lCoolProp\n",
    "\n",
    "../bin/testnode\n",
    "\n",
    "*/\n",
    "#include <string>\n",
    "#include <iostream>\n",
    "#include <unordered_map>\n",
    "#include <any>\n",
    "#include <iomanip>\n",
    "#include <vector>\n",
    "#include \"node.hpp\"\n",
    "\n",
    "using namespace std;\n",
    "\n",
    "int main()\n",
    "{\n",
    "    dictNode dictnode1 = {{\"desc\", \"Compress to Condenser\"},\n",
    "                          {\"id\", 1},\n",
    "                          {\"p\", NULL_VALUE},\n",
    "                          {\"t\", 0.0},\n",
    "                          {\"x\", 0.0},\n",
    "                          {\"mdot\", 0.08}};\n",
    "\n",
    "    Node *curnode1;\n",
    "    curnode1 = new Node(dictnode1);\n",
    "    cout << std::setiosflags(std::ios::fixed) << curnode1->desc << endl;\n",
    "    cout << std::setiosflags(std::ios::fixed) << curnode1->id << endl;\n",
    "    cout << std::setiosflags(std::ios::fixed) << curnode1->p << endl;\n",
    "    cout << std::setiosflags(std::ios::fixed) << curnode1->t << endl;\n",
    "    cout << std::setiosflags(std::ios::fixed) << curnode1->h << endl;\n",
    "    cout << std::setiosflags(std::ios::fixed) << curnode1->s << endl;\n",
    "    cout << std::setiosflags(std::ios::fixed) << curnode1->mdot << endl;\n",
    "\n",
    "   vector<dictNode> dictNodes={\n",
    "                    {{\"desc\", \"Compress to Condenser\"},\n",
    "                    {\"id\", 1},\n",
    "                    {\"p\", NULL_VALUE},\n",
    "                    {\"t\", 0.0},\n",
    "                     {\"x\",0.0},\n",
    "                     {\"mdot\",0.08}},\n",
    "                     {{\"desc\", \"Compressor to Condenser\"},\n",
    "                    {\"id\", 2},\n",
    "                    {\"p\", NULL_VALUE},\n",
    "                    {\"t\", NULL_VALUE},\n",
    "                     {\"x\",NULL_VALUE},\n",
    "                     {\"mdot\", NULL_VALUE}}\n",
    "                     };\n",
    "\n",
    "    vector<Node*> curnodes;\n",
    "    for (auto &item : dictNodes)\n",
    "    {\n",
    "         curnode1 = new Node(item);\n",
    "         curnodes.push_back(curnode1);\n",
    "    }\n",
    "    \n",
    "    for (auto &item : curnodes)\n",
    "    { cout << std::setiosflags(std::ios::fixed) << item->desc << endl;\n",
    "      cout << std::setiosflags(std::ios::fixed) << item->id << endl;\n",
    "      cout << std::setiosflags(std::ios::fixed) << item->p << endl;\n",
    "      cout << std::setiosflags(std::ios::fixed) << item->t << endl;\n",
    "       cout << std::setiosflags(std::ios::fixed) << item->h << endl;\n",
    "       cout << std::setiosflags(std::ios::fixed) << item->s << endl;\n",
    "      cout << std::setiosflags(std::ios::fixed) << item->mdot << endl;\n",
    "    }\n",
    "    return 0;\n",
    "\n",
    "}"
   ]
  },
  {
   "cell_type": "markdown",
   "metadata": {},
   "source": [
    "编译\n",
    "\n",
    "* current dir ./notebook"
   ]
  },
  {
   "cell_type": "code",
   "execution_count": 4,
   "metadata": {},
   "outputs": [
    {
     "data": {
      "text/plain": [
       "'J:\\\\SEU\\\\SEE\\\\PySEE\\\\home\\\\notebook'"
      ]
     },
     "execution_count": 4,
     "metadata": {},
     "output_type": "execute_result"
    }
   ],
   "source": [
    "%pwd"
   ]
  },
  {
   "cell_type": "code",
   "execution_count": 6,
   "metadata": {},
   "outputs": [],
   "source": [
    "!g++  -std=c++17 -o ./vcrcpp/bin/demonode.exe  -DCOOLPROP_LIB ./vcrcpp/demonode.cpp ./vcrcpp/src/node.cpp -I./vcrcpp/include -L./vcrcpp/bin -lCoolProp"
   ]
  },
  {
   "cell_type": "markdown",
   "metadata": {},
   "source": [
    "运行"
   ]
  },
  {
   "cell_type": "code",
   "execution_count": 8,
   "metadata": {},
   "outputs": [
    {
     "name": "stdout",
     "output_type": "stream",
     "text": [
      "Compress to Condenser\n",
      "1\n",
      "0.292803\n",
      "0.000000\n",
      "199.999989\n",
      "1.000000\n",
      "0.080000\n",
      "Compress to Condenser\n",
      "1\n",
      "0.292803\n",
      "0.000000\n",
      "199.999989\n",
      "1.000000\n",
      "0.080000\n",
      "Compressor to Condenser\n",
      "2\n",
      "-100.000000\n",
      "-100.000000\n",
      "-100.000000\n",
      "-100.000000\n",
      "-100.000000\n"
     ]
    }
   ],
   "source": [
    "!.\\vcrcpp\\bin\\demonode"
   ]
  },
  {
   "cell_type": "code",
   "execution_count": null,
   "metadata": {},
   "outputs": [],
   "source": []
  }
 ],
 "metadata": {
  "kernelspec": {
   "display_name": "Python 3",
   "language": "python",
   "name": "python3"
  },
  "language_info": {
   "codemirror_mode": {
    "name": "ipython",
    "version": 3
   },
   "file_extension": ".py",
   "mimetype": "text/x-python",
   "name": "python",
   "nbconvert_exporter": "python",
   "pygments_lexer": "ipython3",
   "version": "3.7.8"
  },
  "toc": {
   "base_numbering": 1,
   "nav_menu": {},
   "number_sections": false,
   "sideBar": true,
   "skip_h1_title": false,
   "title_cell": "Table of Contents",
   "title_sidebar": "Contents",
   "toc_cell": false,
   "toc_position": {
    "height": "calc(100% - 180px)",
    "left": "10px",
    "top": "150px",
    "width": "307.2px"
   },
   "toc_section_display": true,
   "toc_window_display": true
  }
 },
 "nbformat": 4,
 "nbformat_minor": 2
}
