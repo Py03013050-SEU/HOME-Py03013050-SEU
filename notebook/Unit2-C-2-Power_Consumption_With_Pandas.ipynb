{
 "cells": [
  {
   "cell_type": "markdown",
   "metadata": {},
   "source": [
    "# 基于Pandas的用电量统计分析 \n",
    "\n",
    "安装读取Excel文件的Python软件包xlrd"
   ]
  },
  {
   "cell_type": "code",
   "execution_count": 1,
   "metadata": {},
   "outputs": [
    {
     "name": "stdout",
     "output_type": "stream",
     "text": [
      "Looking in indexes: https://pypi.tuna.tsinghua.edu.cn/simple\n",
      "Requirement already satisfied: xlrd in c:\\python310\\lib\\site-packages (2.0.1)\n"
     ]
    }
   ],
   "source": [
    "!python -m pip install xlrd"
   ]
  },
  {
   "cell_type": "markdown",
   "metadata": {},
   "source": [
    "配置Matplotlib显示中文"
   ]
  },
  {
   "cell_type": "code",
   "execution_count": 2,
   "metadata": {},
   "outputs": [],
   "source": [
    "import matplotlib.pyplot as plt\n",
    "from matplotlib import rcParams  # figure Params\n",
    "rcParams['font.sans-serif'] = ['FangSong']  # Chinese-FangSong"
   ]
  },
  {
   "cell_type": "markdown",
   "metadata": {},
   "source": [
    "## 1 能耗分析DataFrame\n",
    "\n",
    "* data: 用电量DataFrame\n",
    "* data_interval: 相邻两行记录数值差DataFrame\n",
    "* merged_data: 合并data和data_interval的DataFrame\n",
    "\n",
    "### 1 用电量DataFrame\n",
    "\n",
    "\n",
    "读用电量Execl文件生成DataFrame：data\n",
    "\n",
    "![excel_powermeter](./img/excel-powermeter.jpg)\n"
   ]
  },
  {
   "cell_type": "code",
   "execution_count": 3,
   "metadata": {},
   "outputs": [
    {
     "data": {
      "text/html": [
       "<div>\n",
       "<style scoped>\n",
       "    .dataframe tbody tr th:only-of-type {\n",
       "        vertical-align: middle;\n",
       "    }\n",
       "\n",
       "    .dataframe tbody tr th {\n",
       "        vertical-align: top;\n",
       "    }\n",
       "\n",
       "    .dataframe thead th {\n",
       "        text-align: right;\n",
       "    }\n",
       "</style>\n",
       "<table border=\"1\" class=\"dataframe\">\n",
       "  <thead>\n",
       "    <tr style=\"text-align: right;\">\n",
       "      <th></th>\n",
       "      <th>time</th>\n",
       "      <th>value</th>\n",
       "    </tr>\n",
       "  </thead>\n",
       "  <tbody>\n",
       "    <tr>\n",
       "      <th>0</th>\n",
       "      <td>2015-02-24 00:10:00</td>\n",
       "      <td>16340.75</td>\n",
       "    </tr>\n",
       "    <tr>\n",
       "      <th>1</th>\n",
       "      <td>2015-02-24 00:20:00</td>\n",
       "      <td>16340.77</td>\n",
       "    </tr>\n",
       "    <tr>\n",
       "      <th>2</th>\n",
       "      <td>2015-02-24 00:30:00</td>\n",
       "      <td>16340.80</td>\n",
       "    </tr>\n",
       "    <tr>\n",
       "      <th>3</th>\n",
       "      <td>2015-02-24 00:40:00</td>\n",
       "      <td>16340.83</td>\n",
       "    </tr>\n",
       "    <tr>\n",
       "      <th>4</th>\n",
       "      <td>2015-02-24 00:50:00</td>\n",
       "      <td>16340.86</td>\n",
       "    </tr>\n",
       "    <tr>\n",
       "      <th>...</th>\n",
       "      <td>...</td>\n",
       "      <td>...</td>\n",
       "    </tr>\n",
       "    <tr>\n",
       "      <th>1113</th>\n",
       "      <td>2015-03-03 17:40:00</td>\n",
       "      <td>16546.44</td>\n",
       "    </tr>\n",
       "    <tr>\n",
       "      <th>1114</th>\n",
       "      <td>2015-03-03 17:50:00</td>\n",
       "      <td>16546.56</td>\n",
       "    </tr>\n",
       "    <tr>\n",
       "      <th>1115</th>\n",
       "      <td>2015-03-03 18:00:00</td>\n",
       "      <td>16546.76</td>\n",
       "    </tr>\n",
       "    <tr>\n",
       "      <th>1116</th>\n",
       "      <td>2015-03-03 18:10:00</td>\n",
       "      <td>16546.95</td>\n",
       "    </tr>\n",
       "    <tr>\n",
       "      <th>1117</th>\n",
       "      <td>2015-03-03 18:20:00</td>\n",
       "      <td>16547.14</td>\n",
       "    </tr>\n",
       "  </tbody>\n",
       "</table>\n",
       "<p>1118 rows × 2 columns</p>\n",
       "</div>"
      ],
      "text/plain": [
       "                    time     value\n",
       "0    2015-02-24 00:10:00  16340.75\n",
       "1    2015-02-24 00:20:00  16340.77\n",
       "2    2015-02-24 00:30:00  16340.80\n",
       "3    2015-02-24 00:40:00  16340.83\n",
       "4    2015-02-24 00:50:00  16340.86\n",
       "...                  ...       ...\n",
       "1113 2015-03-03 17:40:00  16546.44\n",
       "1114 2015-03-03 17:50:00  16546.56\n",
       "1115 2015-03-03 18:00:00  16546.76\n",
       "1116 2015-03-03 18:10:00  16546.95\n",
       "1117 2015-03-03 18:20:00  16547.14\n",
       "\n",
       "[1118 rows x 2 columns]"
      ]
     },
     "execution_count": 3,
     "metadata": {},
     "output_type": "execute_result"
    }
   ],
   "source": [
    "import pandas as pd\n",
    "excelfile = './data/219_threePhaseIntelligentMeter.xls'\n",
    "data =  pd.read_excel(excelfile,sheet_name='data',usecols=[1,2],parse_dates=[\"time\"])\n",
    "data"
   ]
  },
  {
   "cell_type": "markdown",
   "metadata": {},
   "source": [
    "**原始数据图**"
   ]
  },
  {
   "cell_type": "code",
   "execution_count": 4,
   "metadata": {},
   "outputs": [
    {
     "data": {
      "text/plain": [
       "<AxesSubplot:xlabel='time', ylabel='value'>"
      ]
     },
     "execution_count": 4,
     "metadata": {},
     "output_type": "execute_result"
    },
    {
     "data": {
      "image/png": "[encoded data removed]",
      "text/plain": [
       "<Figure size 1152x288 with 1 Axes>"
      ]
     },
     "metadata": {
      "needs_background": "light"
     },
     "output_type": "display_data"
    }
   ],
   "source": [
    "data.plot.scatter(figsize=(16,4),x=\"time\",y=\"value\",grid = True,s=0.1)"
   ]
  },
  {
   "cell_type": "markdown",
   "metadata": {},
   "source": [
    "### 2 相邻两行记录数值差DataFrame\n",
    "\n"
   ]
  },
  {
   "cell_type": "code",
   "execution_count": 5,
   "metadata": {},
   "outputs": [
    {
     "data": {
      "text/html": [
       "<div>\n",
       "<style scoped>\n",
       "    .dataframe tbody tr th:only-of-type {\n",
       "        vertical-align: middle;\n",
       "    }\n",
       "\n",
       "    .dataframe tbody tr th {\n",
       "        vertical-align: top;\n",
       "    }\n",
       "\n",
       "    .dataframe thead th {\n",
       "        text-align: right;\n",
       "    }\n",
       "</style>\n",
       "<table border=\"1\" class=\"dataframe\">\n",
       "  <thead>\n",
       "    <tr style=\"text-align: right;\">\n",
       "      <th></th>\n",
       "      <th>time</th>\n",
       "      <th>value</th>\n",
       "    </tr>\n",
       "  </thead>\n",
       "  <tbody>\n",
       "    <tr>\n",
       "      <th>0</th>\n",
       "      <td>NaT</td>\n",
       "      <td>NaN</td>\n",
       "    </tr>\n",
       "    <tr>\n",
       "      <th>1</th>\n",
       "      <td>0 days 00:10:00</td>\n",
       "      <td>0.02</td>\n",
       "    </tr>\n",
       "    <tr>\n",
       "      <th>2</th>\n",
       "      <td>0 days 00:10:00</td>\n",
       "      <td>0.03</td>\n",
       "    </tr>\n",
       "  </tbody>\n",
       "</table>\n",
       "</div>"
      ],
      "text/plain": [
       "             time  value\n",
       "0             NaT    NaN\n",
       "1 0 days 00:10:00   0.02\n",
       "2 0 days 00:10:00   0.03"
      ]
     },
     "execution_count": 5,
     "metadata": {},
     "output_type": "execute_result"
    }
   ],
   "source": [
    "data_interval=data.diff()\n",
    "data_interval.head(3)"
   ]
  },
  {
   "cell_type": "markdown",
   "metadata": {},
   "source": [
    "重命名 data_interval的列\n",
    "\n",
    "* 采样周期数值： `data_interval[interval]`\n",
    "* 采样周期内能耗：`data_interval[power_interval]`"
   ]
  },
  {
   "cell_type": "code",
   "execution_count": 6,
   "metadata": {},
   "outputs": [
    {
     "data": {
      "text/html": [
       "<div>\n",
       "<style scoped>\n",
       "    .dataframe tbody tr th:only-of-type {\n",
       "        vertical-align: middle;\n",
       "    }\n",
       "\n",
       "    .dataframe tbody tr th {\n",
       "        vertical-align: top;\n",
       "    }\n",
       "\n",
       "    .dataframe thead th {\n",
       "        text-align: right;\n",
       "    }\n",
       "</style>\n",
       "<table border=\"1\" class=\"dataframe\">\n",
       "  <thead>\n",
       "    <tr style=\"text-align: right;\">\n",
       "      <th></th>\n",
       "      <th>interval</th>\n",
       "      <th>power_interval</th>\n",
       "    </tr>\n",
       "  </thead>\n",
       "  <tbody>\n",
       "    <tr>\n",
       "      <th>0</th>\n",
       "      <td>NaT</td>\n",
       "      <td>NaN</td>\n",
       "    </tr>\n",
       "    <tr>\n",
       "      <th>1</th>\n",
       "      <td>0 days 00:10:00</td>\n",
       "      <td>0.02</td>\n",
       "    </tr>\n",
       "    <tr>\n",
       "      <th>2</th>\n",
       "      <td>0 days 00:10:00</td>\n",
       "      <td>0.03</td>\n",
       "    </tr>\n",
       "  </tbody>\n",
       "</table>\n",
       "</div>"
      ],
      "text/plain": [
       "         interval  power_interval\n",
       "0             NaT             NaN\n",
       "1 0 days 00:10:00            0.02\n",
       "2 0 days 00:10:00            0.03"
      ]
     },
     "execution_count": 6,
     "metadata": {},
     "output_type": "execute_result"
    }
   ],
   "source": [
    "# rename data_interval\n",
    "data_interval=data_interval.rename(columns={\"time\": \"interval\", \"value\": \"power_interval\"})\n",
    "data_interval.head(3)"
   ]
  },
  {
   "cell_type": "markdown",
   "metadata": {},
   "source": [
    "### 3 合并data和data_interval的DataFrame"
   ]
  },
  {
   "cell_type": "code",
   "execution_count": 7,
   "metadata": {},
   "outputs": [
    {
     "data": {
      "text/html": [
       "<div>\n",
       "<style scoped>\n",
       "    .dataframe tbody tr th:only-of-type {\n",
       "        vertical-align: middle;\n",
       "    }\n",
       "\n",
       "    .dataframe tbody tr th {\n",
       "        vertical-align: top;\n",
       "    }\n",
       "\n",
       "    .dataframe thead th {\n",
       "        text-align: right;\n",
       "    }\n",
       "</style>\n",
       "<table border=\"1\" class=\"dataframe\">\n",
       "  <thead>\n",
       "    <tr style=\"text-align: right;\">\n",
       "      <th></th>\n",
       "      <th>time</th>\n",
       "      <th>value</th>\n",
       "      <th>interval</th>\n",
       "      <th>power_interval</th>\n",
       "    </tr>\n",
       "  </thead>\n",
       "  <tbody>\n",
       "    <tr>\n",
       "      <th>0</th>\n",
       "      <td>2015-02-24 00:10:00</td>\n",
       "      <td>16340.75</td>\n",
       "      <td>NaT</td>\n",
       "      <td>NaN</td>\n",
       "    </tr>\n",
       "    <tr>\n",
       "      <th>1</th>\n",
       "      <td>2015-02-24 00:20:00</td>\n",
       "      <td>16340.77</td>\n",
       "      <td>0 days 00:10:00</td>\n",
       "      <td>0.02</td>\n",
       "    </tr>\n",
       "    <tr>\n",
       "      <th>2</th>\n",
       "      <td>2015-02-24 00:30:00</td>\n",
       "      <td>16340.80</td>\n",
       "      <td>0 days 00:10:00</td>\n",
       "      <td>0.03</td>\n",
       "    </tr>\n",
       "    <tr>\n",
       "      <th>3</th>\n",
       "      <td>2015-02-24 00:40:00</td>\n",
       "      <td>16340.83</td>\n",
       "      <td>0 days 00:10:00</td>\n",
       "      <td>0.03</td>\n",
       "    </tr>\n",
       "    <tr>\n",
       "      <th>4</th>\n",
       "      <td>2015-02-24 00:50:00</td>\n",
       "      <td>16340.86</td>\n",
       "      <td>0 days 00:10:00</td>\n",
       "      <td>0.03</td>\n",
       "    </tr>\n",
       "    <tr>\n",
       "      <th>...</th>\n",
       "      <td>...</td>\n",
       "      <td>...</td>\n",
       "      <td>...</td>\n",
       "      <td>...</td>\n",
       "    </tr>\n",
       "    <tr>\n",
       "      <th>1113</th>\n",
       "      <td>2015-03-03 17:40:00</td>\n",
       "      <td>16546.44</td>\n",
       "      <td>0 days 00:10:00</td>\n",
       "      <td>0.21</td>\n",
       "    </tr>\n",
       "    <tr>\n",
       "      <th>1114</th>\n",
       "      <td>2015-03-03 17:50:00</td>\n",
       "      <td>16546.56</td>\n",
       "      <td>0 days 00:10:00</td>\n",
       "      <td>0.12</td>\n",
       "    </tr>\n",
       "    <tr>\n",
       "      <th>1115</th>\n",
       "      <td>2015-03-03 18:00:00</td>\n",
       "      <td>16546.76</td>\n",
       "      <td>0 days 00:10:00</td>\n",
       "      <td>0.20</td>\n",
       "    </tr>\n",
       "    <tr>\n",
       "      <th>1116</th>\n",
       "      <td>2015-03-03 18:10:00</td>\n",
       "      <td>16546.95</td>\n",
       "      <td>0 days 00:10:00</td>\n",
       "      <td>0.19</td>\n",
       "    </tr>\n",
       "    <tr>\n",
       "      <th>1117</th>\n",
       "      <td>2015-03-03 18:20:00</td>\n",
       "      <td>16547.14</td>\n",
       "      <td>0 days 00:10:00</td>\n",
       "      <td>0.19</td>\n",
       "    </tr>\n",
       "  </tbody>\n",
       "</table>\n",
       "<p>1118 rows × 4 columns</p>\n",
       "</div>"
      ],
      "text/plain": [
       "                    time     value        interval  power_interval\n",
       "0    2015-02-24 00:10:00  16340.75             NaT             NaN\n",
       "1    2015-02-24 00:20:00  16340.77 0 days 00:10:00            0.02\n",
       "2    2015-02-24 00:30:00  16340.80 0 days 00:10:00            0.03\n",
       "3    2015-02-24 00:40:00  16340.83 0 days 00:10:00            0.03\n",
       "4    2015-02-24 00:50:00  16340.86 0 days 00:10:00            0.03\n",
       "...                  ...       ...             ...             ...\n",
       "1113 2015-03-03 17:40:00  16546.44 0 days 00:10:00            0.21\n",
       "1114 2015-03-03 17:50:00  16546.56 0 days 00:10:00            0.12\n",
       "1115 2015-03-03 18:00:00  16546.76 0 days 00:10:00            0.20\n",
       "1116 2015-03-03 18:10:00  16546.95 0 days 00:10:00            0.19\n",
       "1117 2015-03-03 18:20:00  16547.14 0 days 00:10:00            0.19\n",
       "\n",
       "[1118 rows x 4 columns]"
      ]
     },
     "execution_count": 7,
     "metadata": {},
     "output_type": "execute_result"
    }
   ],
   "source": [
    "merged_data = pd.merge(data,data_interval, left_index=True,right_index=True)\n",
    "merged_data "
   ]
  },
  {
   "cell_type": "markdown",
   "metadata": {},
   "source": [
    "**采样周期内能耗图**"
   ]
  },
  {
   "cell_type": "code",
   "execution_count": 29,
   "metadata": {},
   "outputs": [
    {
     "data": {
      "text/plain": [
       "<AxesSubplot:>"
      ]
     },
     "execution_count": 29,
     "metadata": {},
     "output_type": "execute_result"
    },
    {
     "data": {
      "image/png": "[encoded data removed]",
      "text/plain": [
       "<Figure size 1152x288 with 1 Axes>"
      ]
     },
     "metadata": {
      "needs_background": "light"
     },
     "output_type": "display_data"
    }
   ],
   "source": [
    "merged_data.plot.bar(figsize=(16,4),y=\"power_interval\",grid = True,xticks=[])"
   ]
  },
  {
   "cell_type": "markdown",
   "metadata": {},
   "source": [
    "## 2  数据采样统计\n",
    "\n",
    "### 1 总样本数和采样天数\n",
    "\n",
    "使用data\n",
    "\n",
    "**总样本数**"
   ]
  },
  {
   "cell_type": "code",
   "execution_count": 9,
   "metadata": {},
   "outputs": [
    {
     "data": {
      "text/plain": [
       "time     1118\n",
       "value    1118\n",
       "dtype: int64"
      ]
     },
     "execution_count": 9,
     "metadata": {},
     "output_type": "execute_result"
    }
   ],
   "source": [
    "data.count()"
   ]
  },
  {
   "cell_type": "markdown",
   "metadata": {},
   "source": [
    "**采样天数**"
   ]
  },
  {
   "cell_type": "code",
   "execution_count": 10,
   "metadata": {},
   "outputs": [
    {
     "data": {
      "text/plain": [
       "Timedelta('7 days 18:10:00')"
      ]
     },
     "execution_count": 10,
     "metadata": {},
     "output_type": "execute_result"
    }
   ],
   "source": [
    "data[\"time\"].max() - data[\"time\"].min()"
   ]
  },
  {
   "cell_type": "markdown",
   "metadata": {},
   "source": [
    "### 2 最大、最小采样周期、能耗及时段\n",
    "\n",
    "**最大、最小采样周期**\n",
    "\n",
    "使用data_interval"
   ]
  },
  {
   "cell_type": "code",
   "execution_count": 11,
   "metadata": {},
   "outputs": [
    {
     "name": "stdout",
     "output_type": "stream",
     "text": [
      "最小采样周期(分钟)： 10.0\n",
      "最大采样周期(分钟)： 10.0\n"
     ]
    }
   ],
   "source": [
    "max_interval=data_interval['interval'].max().total_seconds()/60\n",
    "min_interval=data_interval['interval'].min().total_seconds()/60\n",
    "print(\"最小采样周期(分钟)：\", min_interval)    \n",
    "print(\"最大采样周期(分钟)：\", max_interval)  "
   ]
  },
  {
   "cell_type": "markdown",
   "metadata": {},
   "source": [
    "**最大、最小采样周期内的能耗**\n",
    "\n",
    "使用data_interval"
   ]
  },
  {
   "cell_type": "code",
   "execution_count": 12,
   "metadata": {},
   "outputs": [
    {
     "name": "stdout",
     "output_type": "stream",
     "text": [
      "采样周期内最大能耗： 0.5100000000020373\n",
      "采样周期内最小能耗： 0.0\n"
     ]
    }
   ],
   "source": [
    "max_power_interval=data_interval['power_interval'].max()\n",
    "min_power_interval=data_interval['power_interval'].min()\n",
    "print(\"采样周期内最大能耗：\",max_power_interval)    \n",
    "print(\"采样周期内最小能耗：\",min_power_interval)  "
   ]
  },
  {
   "cell_type": "markdown",
   "metadata": {},
   "source": [
    "**最大、最小能耗采样时段**\n",
    "\n",
    "使用`merged_data`"
   ]
  },
  {
   "cell_type": "markdown",
   "metadata": {},
   "source": [
    "**查找采样能耗对应的采样时段函数**"
   ]
  },
  {
   "cell_type": "code",
   "execution_count": 13,
   "metadata": {},
   "outputs": [],
   "source": [
    "def power_time_range(df,power_interval):\n",
    "    sample_time=df[df[\"power_interval\"]==power_interval] \n",
    "    sample_time_last=df.iloc[sample_time.index-1]\n",
    "    power_time_range=pd.concat([sample_time_last,sample_time])\n",
    "    return power_time_range"
   ]
  },
  {
   "cell_type": "code",
   "execution_count": 14,
   "metadata": {},
   "outputs": [
    {
     "data": {
      "text/html": [
       "<div>\n",
       "<style scoped>\n",
       "    .dataframe tbody tr th:only-of-type {\n",
       "        vertical-align: middle;\n",
       "    }\n",
       "\n",
       "    .dataframe tbody tr th {\n",
       "        vertical-align: top;\n",
       "    }\n",
       "\n",
       "    .dataframe thead th {\n",
       "        text-align: right;\n",
       "    }\n",
       "</style>\n",
       "<table border=\"1\" class=\"dataframe\">\n",
       "  <thead>\n",
       "    <tr style=\"text-align: right;\">\n",
       "      <th></th>\n",
       "      <th>time</th>\n",
       "      <th>value</th>\n",
       "      <th>interval</th>\n",
       "      <th>power_interval</th>\n",
       "    </tr>\n",
       "  </thead>\n",
       "  <tbody>\n",
       "    <tr>\n",
       "      <th>117</th>\n",
       "      <td>2015-02-24 19:40:00</td>\n",
       "      <td>16352.7</td>\n",
       "      <td>0 days 00:10:00</td>\n",
       "      <td>0.03</td>\n",
       "    </tr>\n",
       "    <tr>\n",
       "      <th>118</th>\n",
       "      <td>2015-02-24 19:50:00</td>\n",
       "      <td>16352.7</td>\n",
       "      <td>0 days 00:10:00</td>\n",
       "      <td>0.00</td>\n",
       "    </tr>\n",
       "  </tbody>\n",
       "</table>\n",
       "</div>"
      ],
      "text/plain": [
       "                   time    value        interval  power_interval\n",
       "117 2015-02-24 19:40:00  16352.7 0 days 00:10:00            0.03\n",
       "118 2015-02-24 19:50:00  16352.7 0 days 00:10:00            0.00"
      ]
     },
     "execution_count": 14,
     "metadata": {},
     "output_type": "execute_result"
    }
   ],
   "source": [
    "min_power_time_range=power_time_range(merged_data,min_power_interval)\n",
    "min_power_time_range"
   ]
  },
  {
   "cell_type": "code",
   "execution_count": 15,
   "metadata": {},
   "outputs": [
    {
     "data": {
      "text/html": [
       "<div>\n",
       "<style scoped>\n",
       "    .dataframe tbody tr th:only-of-type {\n",
       "        vertical-align: middle;\n",
       "    }\n",
       "\n",
       "    .dataframe tbody tr th {\n",
       "        vertical-align: top;\n",
       "    }\n",
       "\n",
       "    .dataframe thead th {\n",
       "        text-align: right;\n",
       "    }\n",
       "</style>\n",
       "<table border=\"1\" class=\"dataframe\">\n",
       "  <thead>\n",
       "    <tr style=\"text-align: right;\">\n",
       "      <th></th>\n",
       "      <th>time</th>\n",
       "      <th>value</th>\n",
       "      <th>interval</th>\n",
       "      <th>power_interval</th>\n",
       "    </tr>\n",
       "  </thead>\n",
       "  <tbody>\n",
       "    <tr>\n",
       "      <th>344</th>\n",
       "      <td>2015-02-26 09:30:00</td>\n",
       "      <td>16387.51</td>\n",
       "      <td>0 days 00:10:00</td>\n",
       "      <td>0.38</td>\n",
       "    </tr>\n",
       "    <tr>\n",
       "      <th>387</th>\n",
       "      <td>2015-02-26 16:40:00</td>\n",
       "      <td>16405.51</td>\n",
       "      <td>0 days 00:10:00</td>\n",
       "      <td>0.37</td>\n",
       "    </tr>\n",
       "    <tr>\n",
       "      <th>345</th>\n",
       "      <td>2015-02-26 09:40:00</td>\n",
       "      <td>16388.02</td>\n",
       "      <td>0 days 00:10:00</td>\n",
       "      <td>0.51</td>\n",
       "    </tr>\n",
       "    <tr>\n",
       "      <th>388</th>\n",
       "      <td>2015-02-26 16:50:00</td>\n",
       "      <td>16406.02</td>\n",
       "      <td>0 days 00:10:00</td>\n",
       "      <td>0.51</td>\n",
       "    </tr>\n",
       "  </tbody>\n",
       "</table>\n",
       "</div>"
      ],
      "text/plain": [
       "                   time     value        interval  power_interval\n",
       "344 2015-02-26 09:30:00  16387.51 0 days 00:10:00            0.38\n",
       "387 2015-02-26 16:40:00  16405.51 0 days 00:10:00            0.37\n",
       "345 2015-02-26 09:40:00  16388.02 0 days 00:10:00            0.51\n",
       "388 2015-02-26 16:50:00  16406.02 0 days 00:10:00            0.51"
      ]
     },
     "execution_count": 15,
     "metadata": {},
     "output_type": "execute_result"
    }
   ],
   "source": [
    "max_power_time_range=power_time_range(merged_data,max_power_interval)\n",
    "max_power_time_range"
   ]
  },
  {
   "cell_type": "markdown",
   "metadata": {},
   "source": [
    "## 3 基于数据框架data的能耗统计\n",
    "\n"
   ]
  },
  {
   "cell_type": "markdown",
   "metadata": {},
   "source": [
    "### 1 建立\"month\" \"day\" \"hour\"\"列"
   ]
  },
  {
   "cell_type": "code",
   "execution_count": 16,
   "metadata": {},
   "outputs": [
    {
     "data": {
      "text/html": [
       "<div>\n",
       "<style scoped>\n",
       "    .dataframe tbody tr th:only-of-type {\n",
       "        vertical-align: middle;\n",
       "    }\n",
       "\n",
       "    .dataframe tbody tr th {\n",
       "        vertical-align: top;\n",
       "    }\n",
       "\n",
       "    .dataframe thead th {\n",
       "        text-align: right;\n",
       "    }\n",
       "</style>\n",
       "<table border=\"1\" class=\"dataframe\">\n",
       "  <thead>\n",
       "    <tr style=\"text-align: right;\">\n",
       "      <th></th>\n",
       "      <th>time</th>\n",
       "      <th>value</th>\n",
       "      <th>month</th>\n",
       "      <th>day</th>\n",
       "      <th>hour</th>\n",
       "    </tr>\n",
       "  </thead>\n",
       "  <tbody>\n",
       "    <tr>\n",
       "      <th>0</th>\n",
       "      <td>2015-02-24 00:10:00</td>\n",
       "      <td>16340.75</td>\n",
       "      <td>2</td>\n",
       "      <td>24</td>\n",
       "      <td>0</td>\n",
       "    </tr>\n",
       "    <tr>\n",
       "      <th>1</th>\n",
       "      <td>2015-02-24 00:20:00</td>\n",
       "      <td>16340.77</td>\n",
       "      <td>2</td>\n",
       "      <td>24</td>\n",
       "      <td>0</td>\n",
       "    </tr>\n",
       "    <tr>\n",
       "      <th>2</th>\n",
       "      <td>2015-02-24 00:30:00</td>\n",
       "      <td>16340.80</td>\n",
       "      <td>2</td>\n",
       "      <td>24</td>\n",
       "      <td>0</td>\n",
       "    </tr>\n",
       "    <tr>\n",
       "      <th>3</th>\n",
       "      <td>2015-02-24 00:40:00</td>\n",
       "      <td>16340.83</td>\n",
       "      <td>2</td>\n",
       "      <td>24</td>\n",
       "      <td>0</td>\n",
       "    </tr>\n",
       "    <tr>\n",
       "      <th>4</th>\n",
       "      <td>2015-02-24 00:50:00</td>\n",
       "      <td>16340.86</td>\n",
       "      <td>2</td>\n",
       "      <td>24</td>\n",
       "      <td>0</td>\n",
       "    </tr>\n",
       "    <tr>\n",
       "      <th>...</th>\n",
       "      <td>...</td>\n",
       "      <td>...</td>\n",
       "      <td>...</td>\n",
       "      <td>...</td>\n",
       "      <td>...</td>\n",
       "    </tr>\n",
       "    <tr>\n",
       "      <th>1113</th>\n",
       "      <td>2015-03-03 17:40:00</td>\n",
       "      <td>16546.44</td>\n",
       "      <td>3</td>\n",
       "      <td>3</td>\n",
       "      <td>17</td>\n",
       "    </tr>\n",
       "    <tr>\n",
       "      <th>1114</th>\n",
       "      <td>2015-03-03 17:50:00</td>\n",
       "      <td>16546.56</td>\n",
       "      <td>3</td>\n",
       "      <td>3</td>\n",
       "      <td>17</td>\n",
       "    </tr>\n",
       "    <tr>\n",
       "      <th>1115</th>\n",
       "      <td>2015-03-03 18:00:00</td>\n",
       "      <td>16546.76</td>\n",
       "      <td>3</td>\n",
       "      <td>3</td>\n",
       "      <td>18</td>\n",
       "    </tr>\n",
       "    <tr>\n",
       "      <th>1116</th>\n",
       "      <td>2015-03-03 18:10:00</td>\n",
       "      <td>16546.95</td>\n",
       "      <td>3</td>\n",
       "      <td>3</td>\n",
       "      <td>18</td>\n",
       "    </tr>\n",
       "    <tr>\n",
       "      <th>1117</th>\n",
       "      <td>2015-03-03 18:20:00</td>\n",
       "      <td>16547.14</td>\n",
       "      <td>3</td>\n",
       "      <td>3</td>\n",
       "      <td>18</td>\n",
       "    </tr>\n",
       "  </tbody>\n",
       "</table>\n",
       "<p>1118 rows × 5 columns</p>\n",
       "</div>"
      ],
      "text/plain": [
       "                    time     value  month  day  hour\n",
       "0    2015-02-24 00:10:00  16340.75      2   24     0\n",
       "1    2015-02-24 00:20:00  16340.77      2   24     0\n",
       "2    2015-02-24 00:30:00  16340.80      2   24     0\n",
       "3    2015-02-24 00:40:00  16340.83      2   24     0\n",
       "4    2015-02-24 00:50:00  16340.86      2   24     0\n",
       "...                  ...       ...    ...  ...   ...\n",
       "1113 2015-03-03 17:40:00  16546.44      3    3    17\n",
       "1114 2015-03-03 17:50:00  16546.56      3    3    17\n",
       "1115 2015-03-03 18:00:00  16546.76      3    3    18\n",
       "1116 2015-03-03 18:10:00  16546.95      3    3    18\n",
       "1117 2015-03-03 18:20:00  16547.14      3    3    18\n",
       "\n",
       "[1118 rows x 5 columns]"
      ]
     },
     "execution_count": 16,
     "metadata": {},
     "output_type": "execute_result"
    }
   ],
   "source": [
    "data[\"month\"]=data[\"time\"].dt.month\n",
    "data[\"day\"]=data[\"time\"].dt.day\n",
    "data[\"hour\"]=data[\"time\"].dt.hour\n",
    "data"
   ]
  },
  {
   "cell_type": "markdown",
   "metadata": {},
   "source": [
    "### 2 每日能耗\n"
   ]
  },
  {
   "cell_type": "markdown",
   "metadata": {},
   "source": [
    "#### 1 每日能耗计算"
   ]
  },
  {
   "cell_type": "code",
   "execution_count": 17,
   "metadata": {},
   "outputs": [
    {
     "data": {
      "text/html": [
       "<div>\n",
       "<style scoped>\n",
       "    .dataframe tbody tr th:only-of-type {\n",
       "        vertical-align: middle;\n",
       "    }\n",
       "\n",
       "    .dataframe tbody tr th {\n",
       "        vertical-align: top;\n",
       "    }\n",
       "\n",
       "    .dataframe thead th {\n",
       "        text-align: right;\n",
       "    }\n",
       "</style>\n",
       "<table border=\"1\" class=\"dataframe\">\n",
       "  <thead>\n",
       "    <tr style=\"text-align: right;\">\n",
       "      <th></th>\n",
       "      <th></th>\n",
       "      <th>time</th>\n",
       "      <th>value</th>\n",
       "      <th>hour</th>\n",
       "    </tr>\n",
       "    <tr>\n",
       "      <th>month</th>\n",
       "      <th>day</th>\n",
       "      <th></th>\n",
       "      <th></th>\n",
       "      <th></th>\n",
       "    </tr>\n",
       "  </thead>\n",
       "  <tbody>\n",
       "    <tr>\n",
       "      <th rowspan=\"5\" valign=\"top\">2</th>\n",
       "      <th>24</th>\n",
       "      <td>0 days 23:40:00</td>\n",
       "      <td>13.62</td>\n",
       "      <td>23</td>\n",
       "    </tr>\n",
       "    <tr>\n",
       "      <th>25</th>\n",
       "      <td>0 days 23:50:00</td>\n",
       "      <td>27.36</td>\n",
       "      <td>23</td>\n",
       "    </tr>\n",
       "    <tr>\n",
       "      <th>26</th>\n",
       "      <td>0 days 23:50:00</td>\n",
       "      <td>29.62</td>\n",
       "      <td>23</td>\n",
       "    </tr>\n",
       "    <tr>\n",
       "      <th>27</th>\n",
       "      <td>0 days 23:50:00</td>\n",
       "      <td>30.72</td>\n",
       "      <td>23</td>\n",
       "    </tr>\n",
       "    <tr>\n",
       "      <th>28</th>\n",
       "      <td>0 days 23:50:00</td>\n",
       "      <td>31.37</td>\n",
       "      <td>23</td>\n",
       "    </tr>\n",
       "    <tr>\n",
       "      <th rowspan=\"3\" valign=\"top\">3</th>\n",
       "      <th>1</th>\n",
       "      <td>0 days 23:50:00</td>\n",
       "      <td>17.04</td>\n",
       "      <td>23</td>\n",
       "    </tr>\n",
       "    <tr>\n",
       "      <th>2</th>\n",
       "      <td>0 days 23:50:00</td>\n",
       "      <td>29.77</td>\n",
       "      <td>23</td>\n",
       "    </tr>\n",
       "    <tr>\n",
       "      <th>3</th>\n",
       "      <td>0 days 18:20:00</td>\n",
       "      <td>26.51</td>\n",
       "      <td>18</td>\n",
       "    </tr>\n",
       "  </tbody>\n",
       "</table>\n",
       "</div>"
      ],
      "text/plain": [
       "                     time  value  hour\n",
       "month day                             \n",
       "2     24  0 days 23:40:00  13.62    23\n",
       "      25  0 days 23:50:00  27.36    23\n",
       "      26  0 days 23:50:00  29.62    23\n",
       "      27  0 days 23:50:00  30.72    23\n",
       "      28  0 days 23:50:00  31.37    23\n",
       "3     1   0 days 23:50:00  17.04    23\n",
       "      2   0 days 23:50:00  29.77    23\n",
       "      3   0 days 18:20:00  26.51    18"
      ]
     },
     "execution_count": 17,
     "metadata": {},
     "output_type": "execute_result"
    }
   ],
   "source": [
    "max_day=data.groupby([\"month\",\"day\"]).max()\n",
    "min_day=data.groupby([\"month\",\"day\"]).min()\n",
    "day_power=max_day-min_day\n",
    "day_power"
   ]
  },
  {
   "cell_type": "markdown",
   "metadata": {},
   "source": [
    "#### 2 每日能耗图\n",
    "\n",
    "* https://pandas.pydata.org/docs/reference/api/pandas.DataFrame.plot.bar.html"
   ]
  },
  {
   "cell_type": "code",
   "execution_count": 18,
   "metadata": {},
   "outputs": [
    {
     "data": {
      "text/plain": [
       "Text(0.5, 1.0, '每日能耗')"
      ]
     },
     "execution_count": 18,
     "metadata": {},
     "output_type": "execute_result"
    },
    {
     "data": {
      "image/png": "[encoded data removed]",
      "text/plain": [
       "<Figure size 432x288 with 1 Axes>"
      ]
     },
     "metadata": {
      "needs_background": "light"
     },
     "output_type": "display_data"
    }
   ],
   "source": [
    "day_power.plot.bar(y=\"value\",grid = True,legend=False)\n",
    "plt.title(\"每日能耗\")"
   ]
  },
  {
   "cell_type": "markdown",
   "metadata": {},
   "source": [
    "### 3 每小时能耗"
   ]
  },
  {
   "cell_type": "markdown",
   "metadata": {},
   "source": [
    "#### 1 时长差的能耗修正\n",
    "\n",
    "由于采样周期的存在，采样时长小于统计时长，这个时长差在1个小时段内比较大.\n",
    "\n",
    "如下图\n",
    "\n",
    "* 2月24日0点，采样时长是40分钟，和1小时统计时长相差20分钟，33.3%\n",
    "* 2月24日1点，采样时长是50分钟，和1小时统计时长相差10分钟，16.7%\n",
    "\n",
    "![excel-powermeter_sample_hour_minute.jpg](./img/excel-powermeter_sample_hour_minute.jpg)\n",
    "\n",
    "所以，需要对这个时间长差产生的能耗进行修正\n",
    "\n",
    "一种修正方法：\n",
    "\n",
    "$$修正后能耗=采用时长内能耗 \\times \\frac{统计时长(分钟)}{采样时长(分钟)}$$\n",
    "\n"
   ]
  },
  {
   "cell_type": "markdown",
   "metadata": {},
   "source": [
    "#### 2 每小时能耗计算"
   ]
  },
  {
   "cell_type": "code",
   "execution_count": 19,
   "metadata": {},
   "outputs": [
    {
     "data": {
      "text/html": [
       "<div>\n",
       "<style scoped>\n",
       "    .dataframe tbody tr th:only-of-type {\n",
       "        vertical-align: middle;\n",
       "    }\n",
       "\n",
       "    .dataframe tbody tr th {\n",
       "        vertical-align: top;\n",
       "    }\n",
       "\n",
       "    .dataframe thead th {\n",
       "        text-align: right;\n",
       "    }\n",
       "</style>\n",
       "<table border=\"1\" class=\"dataframe\">\n",
       "  <thead>\n",
       "    <tr style=\"text-align: right;\">\n",
       "      <th></th>\n",
       "      <th></th>\n",
       "      <th></th>\n",
       "      <th>time</th>\n",
       "      <th>value</th>\n",
       "    </tr>\n",
       "    <tr>\n",
       "      <th>month</th>\n",
       "      <th>day</th>\n",
       "      <th>hour</th>\n",
       "      <th></th>\n",
       "      <th></th>\n",
       "    </tr>\n",
       "  </thead>\n",
       "  <tbody>\n",
       "    <tr>\n",
       "      <th rowspan=\"5\" valign=\"top\">2</th>\n",
       "      <th rowspan=\"5\" valign=\"top\">24</th>\n",
       "      <th>0</th>\n",
       "      <td>0 days 00:40:00</td>\n",
       "      <td>0.165</td>\n",
       "    </tr>\n",
       "    <tr>\n",
       "      <th>1</th>\n",
       "      <td>0 days 00:50:00</td>\n",
       "      <td>0.156</td>\n",
       "    </tr>\n",
       "    <tr>\n",
       "      <th>2</th>\n",
       "      <td>0 days 00:50:00</td>\n",
       "      <td>0.156</td>\n",
       "    </tr>\n",
       "    <tr>\n",
       "      <th>3</th>\n",
       "      <td>0 days 00:50:00</td>\n",
       "      <td>0.204</td>\n",
       "    </tr>\n",
       "    <tr>\n",
       "      <th>4</th>\n",
       "      <td>0 days 00:50:00</td>\n",
       "      <td>0.180</td>\n",
       "    </tr>\n",
       "    <tr>\n",
       "      <th>...</th>\n",
       "      <th>...</th>\n",
       "      <th>...</th>\n",
       "      <td>...</td>\n",
       "      <td>...</td>\n",
       "    </tr>\n",
       "    <tr>\n",
       "      <th rowspan=\"5\" valign=\"top\">3</th>\n",
       "      <th rowspan=\"5\" valign=\"top\">3</th>\n",
       "      <th>14</th>\n",
       "      <td>0 days 00:50:00</td>\n",
       "      <td>2.616</td>\n",
       "    </tr>\n",
       "    <tr>\n",
       "      <th>15</th>\n",
       "      <td>0 days 00:50:00</td>\n",
       "      <td>2.652</td>\n",
       "    </tr>\n",
       "    <tr>\n",
       "      <th>16</th>\n",
       "      <td>0 days 00:50:00</td>\n",
       "      <td>2.544</td>\n",
       "    </tr>\n",
       "    <tr>\n",
       "      <th>17</th>\n",
       "      <td>0 days 00:50:00</td>\n",
       "      <td>1.872</td>\n",
       "    </tr>\n",
       "    <tr>\n",
       "      <th>18</th>\n",
       "      <td>0 days 00:20:00</td>\n",
       "      <td>1.140</td>\n",
       "    </tr>\n",
       "  </tbody>\n",
       "</table>\n",
       "<p>187 rows × 2 columns</p>\n",
       "</div>"
      ],
      "text/plain": [
       "                          time  value\n",
       "month day hour                       \n",
       "2     24  0    0 days 00:40:00  0.165\n",
       "          1    0 days 00:50:00  0.156\n",
       "          2    0 days 00:50:00  0.156\n",
       "          3    0 days 00:50:00  0.204\n",
       "          4    0 days 00:50:00  0.180\n",
       "...                        ...    ...\n",
       "3     3   14   0 days 00:50:00  2.616\n",
       "          15   0 days 00:50:00  2.652\n",
       "          16   0 days 00:50:00  2.544\n",
       "          17   0 days 00:50:00  1.872\n",
       "          18   0 days 00:20:00  1.140\n",
       "\n",
       "[187 rows x 2 columns]"
      ]
     },
     "execution_count": 19,
     "metadata": {},
     "output_type": "execute_result"
    }
   ],
   "source": [
    "max_hour=data.groupby([\"month\",\"day\", \"hour\"]).max()\n",
    "min_hour=data.groupby([\"month\",\"day\", \"hour\"]).min()\n",
    "hour_power=max_hour-min_hour\n",
    "# 时长能耗修正\n",
    "stat_minutes=60\n",
    "sample_minutes=hour_power[\"time\"].dt.seconds / stat_minutes\n",
    "hour_power[\"value\"]=hour_power[\"value\"]*(stat_minutes/sample_minutes)\n",
    "hour_power"
   ]
  },
  {
   "cell_type": "markdown",
   "metadata": {},
   "source": [
    "#### 3 每天小时能耗图\n",
    "\n",
    "##### 1 每天小时能耗图"
   ]
  },
  {
   "cell_type": "code",
   "execution_count": 20,
   "metadata": {},
   "outputs": [
    {
     "data": {
      "text/plain": [
       "Text(0.5, 1.0, '每天小时能耗图')"
      ]
     },
     "execution_count": 20,
     "metadata": {},
     "output_type": "execute_result"
    },
    {
     "data": {
      "image/png": "[encoded data removed]",
      "text/plain": [
       "<Figure size 1152x288 with 1 Axes>"
      ]
     },
     "metadata": {
      "needs_background": "light"
     },
     "output_type": "display_data"
    }
   ],
   "source": [
    "ax=hour_power.plot.bar(figsize=(16,4),y=\"value\",grid = True,legend=False,xticks=[])\n",
    "\n",
    "# set xtick\n",
    "days=hour_power.index.get_level_values(1).nunique()\n",
    "day_hours=hour_power.index.get_level_values(2).nunique()\n",
    "xticks_location=[i*day_hours+day_hours//2 for i in range(days)]\n",
    "xtick_labels=[]\n",
    "for i in  range(days):\n",
    "    index=hour_power.index[i*day_hours]\n",
    "    xtick_labels.append(f'{index[0]}/{index[1]}')\n",
    "\n",
    "ax.set_xticks(xticks_location)\n",
    "ax.set_xticklabels(xtick_labels) \n",
    "plt.title(\"每天小时能耗图\")"
   ]
  },
  {
   "cell_type": "markdown",
   "metadata": {},
   "source": [
    "##### 2 某天小时能耗图\n",
    "\n",
    "2月26日的小时能耗图"
   ]
  },
  {
   "cell_type": "code",
   "execution_count": 21,
   "metadata": {},
   "outputs": [
    {
     "data": {
      "text/plain": [
       "Text(0.5, 1.0, '2月26日 小时能耗图')"
      ]
     },
     "execution_count": 21,
     "metadata": {},
     "output_type": "execute_result"
    },
    {
     "data": {
      "image/png": "[encoded data removed]",
      "text/plain": [
       "<Figure size 432x288 with 1 Axes>"
      ]
     },
     "metadata": {
      "needs_background": "light"
     },
     "output_type": "display_data"
    }
   ],
   "source": [
    "cur_month=2\n",
    "cur_day=26\n",
    "hour_power.loc[cur_month,cur_day,:].plot.bar(y=\"value\",grid = True,legend=False)\n",
    "plt.title(f\"{cur_month}月{cur_day}日 小时能耗图\")"
   ]
  },
  {
   "cell_type": "markdown",
   "metadata": {},
   "source": [
    "##### 3 某两天小时能耗对比图"
   ]
  },
  {
   "cell_type": "code",
   "execution_count": 22,
   "metadata": {},
   "outputs": [
    {
     "data": {
      "text/plain": [
       "Text(0.5, 1.0, '2月24日 VS 3月1日 小时能耗图')"
      ]
     },
     "execution_count": 22,
     "metadata": {},
     "output_type": "execute_result"
    },
    {
     "data": {
      "image/png": "[encoded data removed]",
      "text/plain": [
       "<Figure size 432x288 with 1 Axes>"
      ]
     },
     "metadata": {
      "needs_background": "light"
     },
     "output_type": "display_data"
    }
   ],
   "source": [
    "days=[(2,24),(3,1)] # (month,day)\n",
    "\n",
    "days_power_dict={}\n",
    "for day in days:\n",
    "    days_power_dict[day]=hour_power.loc[day[0],day[1],:][\"value\"]\n",
    "\n",
    "day_hours=len(days_power_dict[days[0]])\n",
    "index=[h for h in range(day_hours)]\n",
    "df = pd.DataFrame(days_power_dict, index=index)\n",
    "df.plot.bar(grid = True)\n",
    "plt.title(f\"{days[0][0]}月{days[0][1]}日 VS {days[1][0]}月{days[1][1]}日 小时能耗图\")"
   ]
  },
  {
   "cell_type": "markdown",
   "metadata": {},
   "source": [
    "###  4 时间段能耗\n",
    "\n",
    "时间段能耗计算时，统计时间段越大于1个小时，采样时间差带来的误差越小。\n",
    "\n",
    "* 如果统计时间段较长，统计精度要求一般，可以不修正采样时间差带来的误差\n",
    "\n",
    "* 如果统计时间段较短，统计精度要求较高，需要修正采样时间差带来的误差\n"
   ]
  },
  {
   "cell_type": "markdown",
   "metadata": {},
   "source": [
    "#### 1 时间段能耗计算\n",
    "\n",
    "如上午：8：00 - 12：59"
   ]
  },
  {
   "cell_type": "code",
   "execution_count": 23,
   "metadata": {},
   "outputs": [
    {
     "data": {
      "text/html": [
       "<div>\n",
       "<style scoped>\n",
       "    .dataframe tbody tr th:only-of-type {\n",
       "        vertical-align: middle;\n",
       "    }\n",
       "\n",
       "    .dataframe tbody tr th {\n",
       "        vertical-align: top;\n",
       "    }\n",
       "\n",
       "    .dataframe thead th {\n",
       "        text-align: right;\n",
       "    }\n",
       "</style>\n",
       "<table border=\"1\" class=\"dataframe\">\n",
       "  <thead>\n",
       "    <tr style=\"text-align: right;\">\n",
       "      <th></th>\n",
       "      <th></th>\n",
       "      <th>time</th>\n",
       "      <th>value</th>\n",
       "      <th>hour</th>\n",
       "    </tr>\n",
       "    <tr>\n",
       "      <th>month</th>\n",
       "      <th>day</th>\n",
       "      <th></th>\n",
       "      <th></th>\n",
       "      <th></th>\n",
       "    </tr>\n",
       "  </thead>\n",
       "  <tbody>\n",
       "    <tr>\n",
       "      <th rowspan=\"5\" valign=\"top\">2</th>\n",
       "      <th>24</th>\n",
       "      <td>0 days 04:50:00</td>\n",
       "      <td>3.97</td>\n",
       "      <td>4</td>\n",
       "    </tr>\n",
       "    <tr>\n",
       "      <th>25</th>\n",
       "      <td>0 days 04:50:00</td>\n",
       "      <td>9.68</td>\n",
       "      <td>4</td>\n",
       "    </tr>\n",
       "    <tr>\n",
       "      <th>26</th>\n",
       "      <td>0 days 04:50:00</td>\n",
       "      <td>11.24</td>\n",
       "      <td>4</td>\n",
       "    </tr>\n",
       "    <tr>\n",
       "      <th>27</th>\n",
       "      <td>0 days 04:50:00</td>\n",
       "      <td>11.54</td>\n",
       "      <td>4</td>\n",
       "    </tr>\n",
       "    <tr>\n",
       "      <th>28</th>\n",
       "      <td>0 days 04:50:00</td>\n",
       "      <td>11.76</td>\n",
       "      <td>4</td>\n",
       "    </tr>\n",
       "    <tr>\n",
       "      <th rowspan=\"3\" valign=\"top\">3</th>\n",
       "      <th>1</th>\n",
       "      <td>0 days 04:50:00</td>\n",
       "      <td>5.06</td>\n",
       "      <td>4</td>\n",
       "    </tr>\n",
       "    <tr>\n",
       "      <th>2</th>\n",
       "      <td>0 days 04:50:00</td>\n",
       "      <td>11.75</td>\n",
       "      <td>4</td>\n",
       "    </tr>\n",
       "    <tr>\n",
       "      <th>3</th>\n",
       "      <td>0 days 04:50:00</td>\n",
       "      <td>11.25</td>\n",
       "      <td>4</td>\n",
       "    </tr>\n",
       "  </tbody>\n",
       "</table>\n",
       "</div>"
      ],
      "text/plain": [
       "                     time  value  hour\n",
       "month day                             \n",
       "2     24  0 days 04:50:00   3.97     4\n",
       "      25  0 days 04:50:00   9.68     4\n",
       "      26  0 days 04:50:00  11.24     4\n",
       "      27  0 days 04:50:00  11.54     4\n",
       "      28  0 days 04:50:00  11.76     4\n",
       "3     1   0 days 04:50:00   5.06     4\n",
       "      2   0 days 04:50:00  11.75     4\n",
       "      3   0 days 04:50:00  11.25     4"
      ]
     },
     "execution_count": 23,
     "metadata": {},
     "output_type": "execute_result"
    }
   ],
   "source": [
    "hour_range={\"start\":8,\"end\":12}\n",
    "data_hour_range=data[(data[\"hour\"]>=hour_range[\"start\"]) & (data[\"hour\"]<=hour_range[\"end\"])]\n",
    "max_hour_range=data_hour_range.groupby([\"month\",\"day\"]).max()\n",
    "min_hour_range=data_hour_range.groupby([\"month\",\"day\"]).min()\n",
    "hour_range_power=max_hour_range-min_hour_range\n",
    "hour_range_power"
   ]
  },
  {
   "cell_type": "markdown",
   "metadata": {},
   "source": [
    "#### 2 时间段能耗图"
   ]
  },
  {
   "cell_type": "code",
   "execution_count": 24,
   "metadata": {},
   "outputs": [
    {
     "data": {
      "text/plain": [
       "Text(0.5, 1.0, '上午 8:00 - 12:59 能耗图')"
      ]
     },
     "execution_count": 24,
     "metadata": {},
     "output_type": "execute_result"
    },
    {
     "data": {
      "image/png": "[encoded data removed]",
      "text/plain": [
       "<Figure size 432x288 with 1 Axes>"
      ]
     },
     "metadata": {
      "needs_background": "light"
     },
     "output_type": "display_data"
    }
   ],
   "source": [
    "hour_range_power.plot.bar(y=\"value\",grid = True,legend=False)\n",
    "\n",
    "plt.title(\"上午 8:00 - 12:59 能耗图\")"
   ]
  },
  {
   "cell_type": "markdown",
   "metadata": {},
   "source": [
    "#### 3 时长差能耗修正\n",
    "\n",
    "#####  1 时段端点的时长差能耗修正函数"
   ]
  },
  {
   "cell_type": "code",
   "execution_count": 25,
   "metadata": {},
   "outputs": [],
   "source": [
    "def add_power(data,node_hour_range,start_end):\n",
    "    # 1 时段端点记录\n",
    "    node=data[data[\"time\"]==node_hour_range.iloc[0][\"time\"]]\n",
    "    \n",
    "    # 2 时段端点需补充的时长 minute_node\n",
    "    if start_end==\"start\":\n",
    "        minute_node=list(node[\"time\"].dt.minute)[0]\n",
    "    elif start_end==\"end\":\n",
    "        minute_node=59-list(node[\"time\"].dt.minute)[0]\n",
    "        \n",
    "    if minute_node!=0:\n",
    "       # 3 时段端点的相邻采样记录\n",
    "        if start_end==\"start\":\n",
    "            index_neighbor= node.index+1\n",
    "        elif start_end==\"end\":\n",
    "            index_neighbor= node.index-1\n",
    "        neighbor=data.iloc[index_neighbor]\n",
    "        \n",
    "        # 4 时段端点和相邻采样记录的时差minute_node_neighbor,能耗power_node_neighbor\n",
    "        # default \"start\"\n",
    "        minute_node_neighbor=list(neighbor[\"time\"].dt.minute)[0]-list(node[\"time\"].dt.minute)[0]\n",
    "        power_node_neighbor=list(neighbor[\"value\"])[0]-list(node[\"value\"])[0]\n",
    "        if start_end==\"end\":\n",
    "            minute_node_neighbor=-minute_node_neighbor\n",
    "            power_node_neighbor=-power_node_neighbor\n",
    "        \n",
    "        # 5 基于时段端点和相邻采样记录的时间差、时段端点需要补充的时长，计算需要补充时长的能耗 \n",
    "        add_node_power=power_node_neighbor*(minute_node/minute_node_neighbor)\n",
    "    else:    \n",
    "        add_node_power=0\n",
    "    return add_node_power                                        \n",
    " "
   ]
  },
  {
   "cell_type": "markdown",
   "metadata": {},
   "source": [
    "##### 2 时长差能耗修正计算"
   ]
  },
  {
   "cell_type": "code",
   "execution_count": 26,
   "metadata": {},
   "outputs": [
    {
     "data": {
      "text/html": [
       "<div>\n",
       "<style scoped>\n",
       "    .dataframe tbody tr th:only-of-type {\n",
       "        vertical-align: middle;\n",
       "    }\n",
       "\n",
       "    .dataframe tbody tr th {\n",
       "        vertical-align: top;\n",
       "    }\n",
       "\n",
       "    .dataframe thead th {\n",
       "        text-align: right;\n",
       "    }\n",
       "</style>\n",
       "<table border=\"1\" class=\"dataframe\">\n",
       "  <thead>\n",
       "    <tr style=\"text-align: right;\">\n",
       "      <th></th>\n",
       "      <th></th>\n",
       "      <th>time</th>\n",
       "      <th>value</th>\n",
       "      <th>hour</th>\n",
       "    </tr>\n",
       "    <tr>\n",
       "      <th>month</th>\n",
       "      <th>day</th>\n",
       "      <th></th>\n",
       "      <th></th>\n",
       "      <th></th>\n",
       "    </tr>\n",
       "  </thead>\n",
       "  <tbody>\n",
       "    <tr>\n",
       "      <th rowspan=\"5\" valign=\"top\">2</th>\n",
       "      <th>24</th>\n",
       "      <td>0 days 04:50:00</td>\n",
       "      <td>4.105</td>\n",
       "      <td>4</td>\n",
       "    </tr>\n",
       "    <tr>\n",
       "      <th>25</th>\n",
       "      <td>0 days 04:50:00</td>\n",
       "      <td>9.815</td>\n",
       "      <td>4</td>\n",
       "    </tr>\n",
       "    <tr>\n",
       "      <th>26</th>\n",
       "      <td>0 days 04:50:00</td>\n",
       "      <td>11.375</td>\n",
       "      <td>4</td>\n",
       "    </tr>\n",
       "    <tr>\n",
       "      <th>27</th>\n",
       "      <td>0 days 04:50:00</td>\n",
       "      <td>11.675</td>\n",
       "      <td>4</td>\n",
       "    </tr>\n",
       "    <tr>\n",
       "      <th>28</th>\n",
       "      <td>0 days 04:50:00</td>\n",
       "      <td>11.895</td>\n",
       "      <td>4</td>\n",
       "    </tr>\n",
       "    <tr>\n",
       "      <th rowspan=\"3\" valign=\"top\">3</th>\n",
       "      <th>1</th>\n",
       "      <td>0 days 04:50:00</td>\n",
       "      <td>5.195</td>\n",
       "      <td>4</td>\n",
       "    </tr>\n",
       "    <tr>\n",
       "      <th>2</th>\n",
       "      <td>0 days 04:50:00</td>\n",
       "      <td>11.885</td>\n",
       "      <td>4</td>\n",
       "    </tr>\n",
       "    <tr>\n",
       "      <th>3</th>\n",
       "      <td>0 days 04:50:00</td>\n",
       "      <td>11.385</td>\n",
       "      <td>4</td>\n",
       "    </tr>\n",
       "  </tbody>\n",
       "</table>\n",
       "</div>"
      ],
      "text/plain": [
       "                     time   value  hour\n",
       "month day                              \n",
       "2     24  0 days 04:50:00   4.105     4\n",
       "      25  0 days 04:50:00   9.815     4\n",
       "      26  0 days 04:50:00  11.375     4\n",
       "      27  0 days 04:50:00  11.675     4\n",
       "      28  0 days 04:50:00  11.895     4\n",
       "3     1   0 days 04:50:00   5.195     4\n",
       "      2   0 days 04:50:00  11.885     4\n",
       "      3   0 days 04:50:00  11.385     4"
      ]
     },
     "execution_count": 26,
     "metadata": {},
     "output_type": "execute_result"
    }
   ],
   "source": [
    "add_power_start=add_power(data,min_hour_range,\"start\")\n",
    "add_power_end=add_power(data,max_hour_range,\"end\")\n",
    "hour_range_power[\"value\"]=hour_range_power[\"value\"]+add_power_start+add_power_end\n",
    "hour_range_power"
   ]
  },
  {
   "cell_type": "markdown",
   "metadata": {},
   "source": [
    "##### 3 修正后的时段能耗图"
   ]
  },
  {
   "cell_type": "code",
   "execution_count": 27,
   "metadata": {},
   "outputs": [
    {
     "data": {
      "text/plain": [
       "Text(0.5, 1.0, '上午 8:00 - 12:59 能耗图')"
      ]
     },
     "execution_count": 27,
     "metadata": {},
     "output_type": "execute_result"
    },
    {
     "data": {
      "image/png": "[encoded data removed]",
      "text/plain": [
       "<Figure size 432x288 with 1 Axes>"
      ]
     },
     "metadata": {
      "needs_background": "light"
     },
     "output_type": "display_data"
    }
   ],
   "source": [
    "hour_range_power.plot.bar(y=\"value\",grid = True,legend=False)\n",
    "plt.title(\"上午 8:00 - 12:59 能耗图\")"
   ]
  },
  {
   "cell_type": "code",
   "execution_count": null,
   "metadata": {},
   "outputs": [],
   "source": []
  }
 ],
 "metadata": {
  "kernelspec": {
   "display_name": "Python 3 (ipykernel)",
   "language": "python",
   "name": "python3"
  },
  "language_info": {
   "codemirror_mode": {
    "name": "ipython",
    "version": 3
   },
   "file_extension": ".py",
   "mimetype": "text/x-python",
   "name": "python",
   "nbconvert_exporter": "python",
   "pygments_lexer": "ipython3",
   "version": "3.10.5"
  },
  "toc": {
   "base_numbering": 1,
   "nav_menu": {},
   "number_sections": false,
   "sideBar": true,
   "skip_h1_title": false,
   "title_cell": "Table of Contents",
   "title_sidebar": "Contents",
   "toc_cell": false,
   "toc_position": {
    "height": "calc(100% - 180px)",
    "left": "10px",
    "top": "150px",
    "width": "349.075px"
   },
   "toc_section_display": true,
   "toc_window_display": true
  },
  "vscode": {
   "interpreter": {
    "hash": "369f2c481f4da34e4445cda3fffd2e751bd1c4d706f27375911949ba6bb62e1c"
   }
  }
 },
 "nbformat": 4,
 "nbformat_minor": 2
}
